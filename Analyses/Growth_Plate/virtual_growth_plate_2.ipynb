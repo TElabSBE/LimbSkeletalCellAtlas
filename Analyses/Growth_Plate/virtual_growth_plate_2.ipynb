{
 "cells": [
  {
   "cell_type": "markdown",
   "id": "d0919a97-e91e-40e5-9652-a72af0c03fdf",
   "metadata": {},
   "source": [
    "# Virtual the growth plate from single-cell transcriptomic data"
   ]
  },
  {
   "cell_type": "code",
   "execution_count": null,
   "id": "34555699-e3e7-46e5-b00d-a5e511abd4b4",
   "metadata": {
    "tags": []
   },
   "outputs": [],
   "source": [
    "import scanpy as sc, anndata as ad\n",
    "\n",
    "import openTSNE\n",
    "import boundary_utils as bu\n",
    "\n",
    "import numpy as np\n",
    "import matplotlib.pyplot as plt\n",
    "\n",
    "import pandas as pd"
   ]
  },
  {
   "cell_type": "code",
   "execution_count": null,
   "id": "643a48d8-8a7a-41de-a1a5-7ee59fbdf0a4",
   "metadata": {},
   "outputs": [],
   "source": []
  },
  {
   "cell_type": "code",
   "execution_count": null,
   "id": "bea83ea0-fe02-40e4-adb1-113376dbe9d4",
   "metadata": {
    "tags": []
   },
   "outputs": [],
   "source": [
    "filename = '/home/jovyan/researcher_home/Documents/Tom/Atlas/data/Atlas/Growthplate.h5ad'\n",
    "adata = sc.read_h5ad(filename)\n",
    "adata"
   ]
  },
  {
   "cell_type": "code",
   "execution_count": null,
   "id": "e910299d-a184-4e35-bff5-d01652159324",
   "metadata": {
    "tags": []
   },
   "outputs": [],
   "source": [
    "sc.tl.pca(adata)"
   ]
  },
  {
   "cell_type": "markdown",
   "id": "bb772947-19d0-4519-a7e4-525f453ad207",
   "metadata": {},
   "source": [
    "Where n_obs × n_vars = 17493 × 43847 -> PCA components and pseudotime value are defined for each cell"
   ]
  },
  {
   "cell_type": "code",
   "execution_count": null,
   "id": "5cda69e1-e32e-41fe-86fa-415467e24415",
   "metadata": {
    "tags": []
   },
   "outputs": [],
   "source": [
    "pca_data = adata.obsm['X_pca']\n",
    "pca_data.shape"
   ]
  },
  {
   "cell_type": "code",
   "execution_count": null,
   "id": "32fb0b48-17b9-4650-bf6f-c345710816d4",
   "metadata": {
    "tags": []
   },
   "outputs": [],
   "source": [
    "pseudotime = adata.obs['pseudotime']\n",
    "pseudotime.shape"
   ]
  },
  {
   "cell_type": "code",
   "execution_count": null,
   "id": "2e7d7213-dcfe-4f9e-85a0-fe8bc52d7405",
   "metadata": {
    "tags": []
   },
   "outputs": [],
   "source": [
    "adata.obs['CellType'] = adata.obs['CellType'].cat.remove_unused_categories()"
   ]
  },
  {
   "cell_type": "markdown",
   "id": "f1a26e66-33bf-4361-836f-e801badfbfb0",
   "metadata": {},
   "source": [
    "Parameters of the circle boundary function which confines TSNE output"
   ]
  },
  {
   "cell_type": "code",
   "execution_count": null,
   "id": "18d257b5-89e6-4925-98a8-5171ada48fdf",
   "metadata": {
    "tags": []
   },
   "outputs": [],
   "source": [
    "radius = 5\n",
    "y_center = 2.5\n",
    "n_slices = 50"
   ]
  },
  {
   "cell_type": "markdown",
   "id": "2ff5d0cd-5ffb-4385-af3f-bf773a0c6d14",
   "metadata": {
    "tags": []
   },
   "source": [
    "## Bounded embedding during TSNE dimensionality reduction"
   ]
  },
  {
   "cell_type": "markdown",
   "id": "6aa12b39-365e-411f-ab0b-61f1a0ba1fff",
   "metadata": {},
   "source": [
    "Adaptation of the \"t-SNE Animations\" tutorial from creators of openTSNE:\n",
    "\n",
    "https://github.com/pavlin-policar/openTSNE/blob/master/examples/05_animation.ipynb"
   ]
  },
  {
   "cell_type": "code",
   "execution_count": null,
   "id": "4dd8b3c5-d110-4a74-a918-fa5b60add050",
   "metadata": {
    "tags": []
   },
   "outputs": [],
   "source": [
    "x = pca_data"
   ]
  },
  {
   "cell_type": "markdown",
   "id": "857fb40c-80d3-4dcd-9a9f-9ad7a3267e6f",
   "metadata": {
    "tags": []
   },
   "source": [
    "### TSNE without confined embedding"
   ]
  },
  {
   "cell_type": "code",
   "execution_count": null,
   "id": "07c71531-4f2a-4a72-9617-62a189ec5541",
   "metadata": {
    "tags": []
   },
   "outputs": [],
   "source": [
    "def set_boundary_embedding(emb, embeddings):\n",
    "    embeddings.append(np.array(emb))"
   ]
  },
  {
   "cell_type": "markdown",
   "id": "0d25c583-8a72-42c6-8f1e-d1a705403897",
   "metadata": {},
   "source": [
    "We pass a callback that will take the current embedding, make a copy (this is important because the embedding is changed inplace during optimization) and add it to a list. We can also specify how often the callbacks should be called. In this instance, we'll call it at every iteration."
   ]
  },
  {
   "cell_type": "code",
   "execution_count": null,
   "id": "809bc755-a9a3-42e3-8684-d9fd76ed9f12",
   "metadata": {
    "tags": []
   },
   "outputs": [],
   "source": [
    "embeddings = []\n",
    "\n",
    "tsne = openTSNE.TSNE(\n",
    "    perplexity=50, metric=\"cosine\", n_jobs=32, verbose=True,\n",
    "    # The embedding will be appended to the list we defined above, make sure we copy the\n",
    "    # embedding, otherwise the same object reference will be stored for every iteration\n",
    "    callbacks=lambda it, err, emb: set_boundary_embedding(emb, embeddings),\n",
    "    # This should be done on every iteration\n",
    "    callbacks_every_iters=1,\n",
    ")"
   ]
  },
  {
   "cell_type": "code",
   "execution_count": null,
   "id": "729a24c2-d521-4b5e-9487-c6c2ef509f48",
   "metadata": {
    "tags": []
   },
   "outputs": [],
   "source": [
    "%time tsne_embedding = tsne.fit(x)"
   ]
  },
  {
   "cell_type": "code",
   "execution_count": null,
   "id": "d57c028c-57d7-4ca9-a112-7fa58d2693b3",
   "metadata": {
    "tags": []
   },
   "outputs": [],
   "source": [
    "adata.obsm['X_tsne'] = embeddings[-1]"
   ]
  },
  {
   "cell_type": "code",
   "execution_count": null,
   "id": "90417a54-c68f-48e1-8281-1c5a5c74f8ac",
   "metadata": {
    "tags": []
   },
   "outputs": [],
   "source": [
    "fig, ax = plt.subplots(figsize=(7, 7))\n",
    "\n",
    "a = np.linspace(-60, 60, 1000)\n",
    "b = np.linspace(-60, 60, 1000)\n",
    "A, B = np.meshgrid(a,b)\n",
    "\n",
    "ax.contour(A, B, bu.boundary_circle(A, B, radius = radius, y_center = y_center) ,[0])\n",
    "\n",
    "sc.pl.tsne(adata, color='CellType', ax=ax)\n",
    "\n",
    "ax.set_aspect('equal')"
   ]
  },
  {
   "cell_type": "markdown",
   "id": "538cd648-122b-44bd-b51c-8b000a04d098",
   "metadata": {
    "tags": []
   },
   "source": [
    "### TSNE with circular embedding"
   ]
  },
  {
   "cell_type": "code",
   "execution_count": null,
   "id": "346c5cb1-3746-4b7a-97c0-2de8085b86a4",
   "metadata": {},
   "outputs": [],
   "source": [
    "buondary_function = lambda x , y : bu.boundary_circle(x, y, radius = radius, y_center = y_center)\n",
    "\n",
    "def set_boundary_embedding(emb, embeddings, boundary_function):\n",
    "    outside_boundary = buondary_function(emb[:,0], emb[:,1]) < 0\n",
    "    if any(outside_boundary):\n",
    "        output = list(map(lambda point : bu.closest_point_in_function(point, buondary_function), emb[outside_boundary]))\n",
    "        emb[outside_boundary] = np.array(output)\n",
    "    embeddings.append(np.array(emb))"
   ]
  },
  {
   "cell_type": "markdown",
   "id": "08841d14-e821-4d47-9a51-588bd4a3460b",
   "metadata": {},
   "source": [
    "We pass a callback that will take the current embedding, make a copy (this is important because the embedding is changed inplace during optimization) and add it to a list. We can also specify how often the callbacks should be called. In this instance, we'll call it at every iteration."
   ]
  },
  {
   "cell_type": "code",
   "execution_count": null,
   "id": "15f6eb61-9275-4cc2-b5db-68d3b23d85e7",
   "metadata": {},
   "outputs": [],
   "source": [
    "embeddings = []\n",
    "\n",
    "tsne = openTSNE.TSNE(\n",
    "    perplexity=50, metric=\"cosine\", n_jobs=32, verbose=True,\n",
    "    # The embedding will be appended to the list we defined above, make sure we copy the\n",
    "    # embedding, otherwise the same object reference will be stored for every iteration\n",
    "    callbacks=lambda it, err, emb: set_boundary_embedding(emb, embeddings, buondary_function),\n",
    "    # This should be done on every iteration\n",
    "    callbacks_every_iters=1,\n",
    ")"
   ]
  },
  {
   "cell_type": "code",
   "execution_count": null,
   "id": "b7169ada-9c02-4437-94b5-a37b7d7d3703",
   "metadata": {
    "tags": []
   },
   "outputs": [],
   "source": [
    "%time tsne_embedding = tsne.fit(x)"
   ]
  },
  {
   "cell_type": "code",
   "execution_count": null,
   "id": "88a97559-f966-4f70-ac78-07fd4ff609b4",
   "metadata": {
    "tags": []
   },
   "outputs": [],
   "source": [
    "adata.obsm['X_tsne'] = embeddings[-1]"
   ]
  },
  {
   "cell_type": "code",
   "execution_count": null,
   "id": "6784ed4c-6f05-42f0-8161-e1c4bcf4752c",
   "metadata": {
    "tags": []
   },
   "outputs": [],
   "source": [
    "fig, ax = plt.subplots(figsize=(7, 7))\n",
    "\n",
    "a = np.linspace(-60, 60, 1000)\n",
    "b = np.linspace(-60, 60, 1000)\n",
    "A, B = np.meshgrid(a,b)\n",
    "\n",
    "ax.contour(A, B, bu.boundary_circle(A, B, radius = 35, y_center = 2.5) ,[0])\n",
    "\n",
    "sc.pl.tsne(adata, color='CellType', ax=ax)\n",
    "\n",
    "ax.set_aspect('equal')"
   ]
  },
  {
   "cell_type": "markdown",
   "id": "aac2f2a9-369e-4798-b437-31173b3dcac8",
   "metadata": {},
   "source": [
    "Plotting a 3D Scatter Plot in Seaborn"
   ]
  },
  {
   "cell_type": "code",
   "execution_count": null,
   "id": "84f26e71-d487-4882-9a36-585b02392c0b",
   "metadata": {
    "tags": []
   },
   "outputs": [],
   "source": [
    "import seaborn as sns\n",
    "from mpl_toolkits.mplot3d import Axes3D\n",
    "\n",
    "fig = plt.figure()\n",
    "ax = fig.add_subplot(111, projection = '3d')\n",
    "\n",
    "x = adata.obsm['X_tsne'][:,0]\n",
    "y = adata.obsm['X_tsne'][:,1]\n",
    "z = adata.obs['pseudotime']\n",
    "\n",
    "ax.set_xlabel(\"tSNE1\")\n",
    "ax.set_ylabel(\"tSNE2\")\n",
    "ax.set_zlabel(\"Pseudotime\")\n",
    "\n",
    "ax.scatter(x, y, z)"
   ]
  },
  {
   "cell_type": "markdown",
   "id": "eafada2a-6f15-4599-9253-7c61a204cfc6",
   "metadata": {
    "tags": [],
    "toc-hr-collapsed": true
   },
   "source": [
    "### TSNE slices with circular embedding"
   ]
  },
  {
   "cell_type": "markdown",
   "id": "58f3fb41-f0b0-4cf9-b9f6-108347063342",
   "metadata": {},
   "source": [
    "cut is used to bin pandas DataFrame and specifically define the bin edges. There is no guarantee about the distribution of items in each bin. In fact, you can define bins in such a way that no items are included in a bin or nearly all items are in a single bin.\n",
    "\n",
    "https://pbpython.com/pandas-qcut-cut.html"
   ]
  },
  {
   "cell_type": "code",
   "execution_count": null,
   "id": "9d0a6090-fe79-42d0-b94c-bee16b292ff0",
   "metadata": {
    "tags": []
   },
   "outputs": [],
   "source": [
    "adata.obs['cut_pseudotime'] = pd.cut(adata.obs['pseudotime'], bins=n_slices, include_lowest=True)"
   ]
  },
  {
   "cell_type": "markdown",
   "id": "1c0ee2cd-5b47-4ecc-af62-7cc1005838f4",
   "metadata": {},
   "source": [
    "After binning the adata object, we separate each bin and run the TSNE dimentionsality reduction with circular embedding. After, the output of the embedded TSNEs will be concatenated and merged.\n",
    "\n",
    " - Concatenation is when we keep all sub elements of each object, and stack these elements in an ordered way.\n",
    "\n",
    " - Merging is combining a set of collections into one resulting collection which contains elements from the objects.\n",
    "\n",
    "https://anndata.readthedocs.io/en/latest/concatenation.html"
   ]
  },
  {
   "cell_type": "code",
   "execution_count": null,
   "id": "b05f6c6e-6c8f-4d23-88d6-4ca0c56a67f1",
   "metadata": {
    "tags": []
   },
   "outputs": [],
   "source": [
    "df_tsne = pd.DataFrame(columns = ['idx', 'X_tsne_sliced'])\n",
    "\n",
    "adatas = []\n",
    "\n",
    "for count, item in enumerate(adata.obs.groupby('cut_pseudotime').indices.items()):\n",
    "    print(f'Slice number: {count}')\n",
    "    group, idx = item\n",
    "    \n",
    "    if idx.size == 0:\n",
    "            df_tsne.append({'slice' : count, 'group': group, 'idx': idx, 'X_tsne_sliced': []}, ignore_index=True)\n",
    "    else:\n",
    "        sub_adata = adata[idx].copy()\n",
    "    \n",
    "        bu.circular_openTSNE(sub_adata, radius = radius, y_center = y_center)\n",
    "\n",
    "        df_tsne.append({'slice' : count, 'group': group, 'idx': idx, 'X_tsne_sliced': sub_adata.obsm['X_tsne']}, ignore_index=True)\n",
    "        \n",
    "        adatas.append(sub_adata)"
   ]
  },
  {
   "cell_type": "code",
   "execution_count": null,
   "id": "fd874c6f-4a16-4923-8bdf-d711a28639dd",
   "metadata": {},
   "outputs": [],
   "source": [
    "sliced_adata = ad.concat(adatas)"
   ]
  },
  {
   "cell_type": "markdown",
   "id": "52de9cd3-cbb6-4292-8f51-fb7827bc4ec6",
   "metadata": {},
   "source": [
    " ## Plotting virtual growth plate"
   ]
  },
  {
   "cell_type": "code",
   "execution_count": null,
   "id": "c871956a-fa7a-4c46-bbc4-9cc3e0c25db4",
   "metadata": {},
   "outputs": [],
   "source": [
    "sliced_adata.obs.CellType"
   ]
  },
  {
   "cell_type": "code",
   "execution_count": null,
   "id": "6ac82005-b4aa-44b0-9cd6-96b1991d9b2e",
   "metadata": {
    "tags": []
   },
   "outputs": [],
   "source": [
    "import seaborn as sns\n",
    "from mpl_toolkits.mplot3d import Axes3D\n",
    "\n",
    "width = 20\n",
    "height = 20\n",
    "import matplotlib.pyplot as plt\n",
    "plt.rcParams['figure.figsize'] = [width, height]\n",
    "plt.rcParams.update({'font.size': 25})\n",
    "plt.rcParams['grid.color'] = 'w'\n",
    "plt.rcParams['grid.linewidth'] = 2\n",
    "\n",
    "fig = plt.figure()\n",
    "ax = fig.add_subplot(projection = '3d')\n",
    "ax.set_proj_type('ortho')\n",
    "\n",
    "x = sliced_adata.obsm['X_tsne'][:,0]\n",
    "y = sliced_adata.obsm['X_tsne'][:,1]\n",
    "norm_pseudo = sliced_adata.obs['pseudotime']/sliced_adata.obs['pseudotime'].max()\n",
    "z = 1 - np.cbrt(norm_pseudo)\n",
    "celltype = sliced_adata.obs['NandC']\n",
    "celltype_factorized, celltype_uniques = pd.factorize( celltype )\n",
    "\n",
    "col = ['#FB8072', '#f0f0f0', '#f0f0f0', '#f0f0f0']\n",
    "color = pd.Index(col)[celltype_factorized]\n",
    "\n",
    "ax.set_xlabel(\"tSNE1\", labelpad=30)\n",
    "ax.set_ylabel(\"tSNE2\", labelpad=30)\n",
    "ax.set_zlabel(\"Pseudotime\", labelpad=30)\n",
    "\n",
    "scatter = ax.scatter(x, y, z, s = 120, c = color)\n",
    "\n",
    "\"\"\"                                                                                                                                                    \n",
    "Scaling is done from here...                                                                                                                           \n",
    "\"\"\"\n",
    "x_scale=1\n",
    "y_scale=1\n",
    "z_scale=2\n",
    "\n",
    "scale=np.diag([x_scale, y_scale, z_scale, 1.0])\n",
    "scale=scale*(1.0/scale.max())\n",
    "scale[3,3]=1.0\n",
    "\n",
    "def short_proj():\n",
    "  return np.dot(Axes3D.get_proj(ax), scale)\n",
    "\n",
    "ax.get_proj=short_proj\n",
    "\"\"\"                                                                                                                                                    \n",
    "to here                                                                                                                                                \n",
    "\"\"\"\n",
    "\n",
    "legend_labelled = (scatter.legend_elements()[0],list(celltype.unique()))\n",
    "\n",
    "# produce a legend with the unique colors from the scatter\n",
    "legend1 = ax.legend(*legend_labelled,\n",
    "                    loc=\"upper right\", title=\"Cell Type\")\n",
    "ax.add_artist(legend1)\n",
    "\n",
    "# ax.legend()\n",
    "\n",
    "ax.view_init(10, 70)\n",
    "\n",
    "# Now set color to white (or whatever is \"invisible\")\n",
    "# pane_color = [229/255,236/255,246/255]\n",
    "pane_color = [224/255,233/255,245/255]\n",
    "ax.xaxis.pane.set_facecolor(pane_color)\n",
    "ax.yaxis.pane.set_facecolor(pane_color)\n",
    "ax.zaxis.pane.set_facecolor(pane_color)\n",
    "\n",
    "plt.savefig(f'/home/jovyan/researcher_home/Documents/Tom/Atlas/output/2/GP_onlyprolierative.svg')"
   ]
  },
  {
   "cell_type": "code",
   "execution_count": null,
   "id": "a12fae4f-22e1-4aa6-84f0-695dfc2d619c",
   "metadata": {
    "tags": []
   },
   "outputs": [],
   "source": [
    "import seaborn as sns\n",
    "from mpl_toolkits.mplot3d import Axes3D\n",
    "\n",
    "width = 20\n",
    "height = 20\n",
    "import matplotlib.pyplot as plt\n",
    "plt.rcParams['figure.figsize'] = [width, height]\n",
    "plt.rcParams.update({'font.size': 25})\n",
    "plt.rcParams['grid.color'] = 'w'\n",
    "plt.rcParams['grid.linewidth'] = 2\n",
    "\n",
    "fig = plt.figure()\n",
    "ax = fig.add_subplot(projection = '3d')\n",
    "ax.set_proj_type('ortho')\n",
    "\n",
    "x = sliced_adata.obsm['X_tsne'][:,0]\n",
    "y = sliced_adata.obsm['X_tsne'][:,1]\n",
    "norm_pseudo = sliced_adata.obs['pseudotime']/sliced_adata.obs['pseudotime'].max()\n",
    "z = 1 - np.cbrt(norm_pseudo)\n",
    "celltype = sliced_adata.obs['CellType']\n",
    "celltype_factorized, celltype_uniques = pd.factorize( celltype )\n",
    "\n",
    "col = ['#f0f0f0', '#D4A6CD', '#f0f0f0', '#f0f0f0']\n",
    "color = pd.Index(col)[celltype_factorized]\n",
    "\n",
    "ax.set_xlabel(\"tSNE1\", labelpad=30)\n",
    "ax.set_ylabel(\"tSNE2\", labelpad=30)\n",
    "ax.set_zlabel(\"Pseudotime\", labelpad=30)\n",
    "\n",
    "scatter = ax.scatter(x, y, z, s = 120, c = color)\n",
    "\n",
    "\"\"\"                                                                                                                                                    \n",
    "Scaling is done from here...                                                                                                                           \n",
    "\"\"\"\n",
    "x_scale=1\n",
    "y_scale=1\n",
    "z_scale=2\n",
    "\n",
    "scale=np.diag([x_scale, y_scale, z_scale, 1.0])\n",
    "scale=scale*(1.0/scale.max())\n",
    "scale[3,3]=1.0\n",
    "\n",
    "def short_proj():\n",
    "  return np.dot(Axes3D.get_proj(ax), scale)\n",
    "\n",
    "ax.get_proj=short_proj\n",
    "\"\"\"                                                                                                                                                    \n",
    "to here                                                                                                                                                \n",
    "\"\"\"\n",
    "\n",
    "legend_labelled = (scatter.legend_elements()[0],list(celltype.unique()))\n",
    "\n",
    "# produce a legend with the unique colors from the scatter\n",
    "legend1 = ax.legend(*legend_labelled,\n",
    "                    loc=\"upper right\", title=\"Cell Type\")\n",
    "ax.add_artist(legend1)\n",
    "\n",
    "# ax.legend()\n",
    "\n",
    "ax.view_init(10, 70)\n",
    "\n",
    "# Now set color to white (or whatever is \"invisible\")\n",
    "# pane_color = [229/255,236/255,246/255]\n",
    "pane_color = [224/255,233/255,245/255]\n",
    "ax.xaxis.pane.set_facecolor(pane_color)\n",
    "ax.yaxis.pane.set_facecolor(pane_color)\n",
    "ax.zaxis.pane.set_facecolor(pane_color)\n",
    "\n",
    "plt.savefig(f'/home/jovyan/researcher_home/Documents/Tom/Atlas/output/2/GP_onlyrestingzone.svg')"
   ]
  },
  {
   "cell_type": "code",
   "execution_count": null,
   "id": "c7277476-c21f-48b9-99a6-3353e52ca5cc",
   "metadata": {
    "tags": []
   },
   "outputs": [],
   "source": [
    "import seaborn as sns\n",
    "from mpl_toolkits.mplot3d import Axes3D\n",
    "\n",
    "width = 20\n",
    "height = 20\n",
    "import matplotlib.pyplot as plt\n",
    "plt.rcParams['figure.figsize'] = [width, height]\n",
    "plt.rcParams.update({'font.size': 25})\n",
    "plt.rcParams['grid.color'] = 'w'\n",
    "plt.rcParams['grid.linewidth'] = 2\n",
    "\n",
    "fig = plt.figure()\n",
    "ax = fig.add_subplot(projection = '3d')\n",
    "ax.set_proj_type('ortho')\n",
    "\n",
    "x = sliced_adata.obsm['X_tsne'][:,0]\n",
    "y = sliced_adata.obsm['X_tsne'][:,1]\n",
    "norm_pseudo = sliced_adata.obs['pseudotime']/sliced_adata.obs['pseudotime'].max()\n",
    "z = 1 - np.cbrt(norm_pseudo)\n",
    "celltype = sliced_adata.obs['CellType']\n",
    "celltype_factorized, celltype_uniques = pd.factorize( celltype )\n",
    "\n",
    "col = ['#f0f0f0', '#f0f0f0', '#0B0F5E', '#f0f0f0']\n",
    "color = pd.Index(col)[celltype_factorized]\n",
    "\n",
    "ax.set_xlabel(\"tSNE1\", labelpad=30)\n",
    "ax.set_ylabel(\"tSNE2\", labelpad=30)\n",
    "ax.set_zlabel(\"Pseudotime\", labelpad=30)\n",
    "\n",
    "scatter = ax.scatter(x, y, z, s = 120, c = color)\n",
    "\n",
    "\"\"\"                                                                                                                                                    \n",
    "Scaling is done from here...                                                                                                                           \n",
    "\"\"\"\n",
    "x_scale=1\n",
    "y_scale=1\n",
    "z_scale=2\n",
    "\n",
    "scale=np.diag([x_scale, y_scale, z_scale, 1.0])\n",
    "scale=scale*(1.0/scale.max())\n",
    "scale[3,3]=1.0\n",
    "\n",
    "def short_proj():\n",
    "  return np.dot(Axes3D.get_proj(ax), scale)\n",
    "\n",
    "ax.get_proj=short_proj\n",
    "\"\"\"                                                                                                                                                    \n",
    "to here                                                                                                                                                \n",
    "\"\"\"\n",
    "\n",
    "legend_labelled = (scatter.legend_elements()[0],list(celltype.unique()))\n",
    "\n",
    "# produce a legend with the unique colors from the scatter\n",
    "legend1 = ax.legend(*legend_labelled,\n",
    "                    loc=\"upper right\", title=\"Cell Type\")\n",
    "ax.add_artist(legend1)\n",
    "\n",
    "# ax.legend()\n",
    "\n",
    "ax.view_init(10, 70)\n",
    "\n",
    "# Now set color to white (or whatever is \"invisible\")\n",
    "# pane_color = [229/255,236/255,246/255]\n",
    "pane_color = [224/255,233/255,245/255]\n",
    "ax.xaxis.pane.set_facecolor(pane_color)\n",
    "ax.yaxis.pane.set_facecolor(pane_color)\n",
    "ax.zaxis.pane.set_facecolor(pane_color)\n",
    "\n",
    "plt.savefig(f'/home/jovyan/researcher_home/Documents/Tom/Atlas/output/2/GP_onlyhyp.svg')"
   ]
  },
  {
   "cell_type": "code",
   "execution_count": null,
   "id": "3cdc05a2-2388-46b9-ac6c-c4607e7df146",
   "metadata": {
    "tags": []
   },
   "outputs": [],
   "source": [
    "import seaborn as sns\n",
    "from mpl_toolkits.mplot3d import Axes3D\n",
    "\n",
    "width = 20\n",
    "height = 20\n",
    "import matplotlib.pyplot as plt\n",
    "plt.rcParams['figure.figsize'] = [width, height]\n",
    "plt.rcParams.update({'font.size': 25})\n",
    "plt.rcParams['grid.color'] = 'w'\n",
    "plt.rcParams['grid.linewidth'] = 2\n",
    "\n",
    "fig = plt.figure()\n",
    "ax = fig.add_subplot(projection = '3d')\n",
    "ax.set_proj_type('ortho')\n",
    "\n",
    "x = sliced_adata.obsm['X_tsne'][:,0]\n",
    "y = sliced_adata.obsm['X_tsne'][:,1]\n",
    "norm_pseudo = sliced_adata.obs['pseudotime']/sliced_adata.obs['pseudotime'].max()\n",
    "z = 1 - np.cbrt(norm_pseudo)\n",
    "celltype = sliced_adata.obs['CellType']\n",
    "celltype_factorized, celltype_uniques = pd.factorize( celltype )\n",
    "\n",
    "col = ['#f0f0f0', '#f0f0f0', '#f0f0f0', '#FFD700']\n",
    "color = pd.Index(col)[celltype_factorized]\n",
    "\n",
    "ax.set_xlabel(\"tSNE1\", labelpad=30)\n",
    "ax.set_ylabel(\"tSNE2\", labelpad=30)\n",
    "ax.set_zlabel(\"Pseudotime\", labelpad=30)\n",
    "\n",
    "scatter = ax.scatter(x, y, z, s = 120, c = color)\n",
    "\n",
    "\"\"\"                                                                                                                                                    \n",
    "Scaling is done from here...                                                                                                                           \n",
    "\"\"\"\n",
    "x_scale=1\n",
    "y_scale=1\n",
    "z_scale=2\n",
    "\n",
    "scale=np.diag([x_scale, y_scale, z_scale, 1.0])\n",
    "scale=scale*(1.0/scale.max())\n",
    "scale[3,3]=1.0\n",
    "\n",
    "def short_proj():\n",
    "  return np.dot(Axes3D.get_proj(ax), scale)\n",
    "\n",
    "ax.get_proj=short_proj\n",
    "\"\"\"                                                                                                                                                    \n",
    "to here                                                                                                                                                \n",
    "\"\"\"\n",
    "\n",
    "legend_labelled = (scatter.legend_elements()[0],list(celltype.unique()))\n",
    "\n",
    "# produce a legend with the unique colors from the scatter\n",
    "legend1 = ax.legend(*legend_labelled,\n",
    "                    loc=\"upper right\", title=\"Cell Type\")\n",
    "ax.add_artist(legend1)\n",
    "\n",
    "# ax.legend()\n",
    "\n",
    "ax.view_init(10, 70)\n",
    "\n",
    "# Now set color to white (or whatever is \"invisible\")\n",
    "# pane_color = [229/255,236/255,246/255]\n",
    "pane_color = [224/255,233/255,245/255]\n",
    "ax.xaxis.pane.set_facecolor(pane_color)\n",
    "ax.yaxis.pane.set_facecolor(pane_color)\n",
    "ax.zaxis.pane.set_facecolor(pane_color)\n",
    "\n",
    "plt.savefig(f'/home/jovyan/researcher_home/Documents/Tom/Atlas/output/2/GP_onlypre-hyp.svg')"
   ]
  },
  {
   "cell_type": "code",
   "execution_count": null,
   "id": "077a8194-af92-4772-bef5-d52a0fc76c2c",
   "metadata": {
    "tags": []
   },
   "outputs": [],
   "source": [
    "import seaborn as sns\n",
    "from mpl_toolkits.mplot3d import Axes3D\n",
    "\n",
    "width = 20\n",
    "height = 20\n",
    "import matplotlib.pyplot as plt\n",
    "plt.rcParams['figure.figsize'] = [width, height]\n",
    "plt.rcParams.update({'font.size': 25})\n",
    "plt.rcParams['grid.color'] = 'w'\n",
    "plt.rcParams['grid.linewidth'] = 2\n",
    "\n",
    "fig = plt.figure()\n",
    "ax = fig.add_subplot(projection = '3d')\n",
    "ax.set_proj_type('ortho')\n",
    "\n",
    "x = sliced_adata.obsm['X_tsne'][:,0]\n",
    "y = sliced_adata.obsm['X_tsne'][:,1]\n",
    "norm_pseudo = sliced_adata.obs['pseudotime']/sliced_adata.obs['pseudotime'].max()\n",
    "z = 1 - np.cbrt(norm_pseudo)\n",
    "celltype = sliced_adata.obs['CellType']\n",
    "celltype_factorized, celltype_uniques = pd.factorize( celltype )\n",
    "\n",
    "col = ['#FB8072', '#D4A6CD', '#0B0F5E', '#FFD700']\n",
    "color = pd.Index(col)[celltype_factorized]\n",
    "\n",
    "ax.set_xlabel(\"tSNE1\", labelpad=30)\n",
    "ax.set_ylabel(\"tSNE2\", labelpad=30)\n",
    "ax.set_zlabel(\"Pseudotime\", labelpad=30)\n",
    "\n",
    "scatter = ax.scatter(x, y, z, s = 120, c = color)\n",
    "\n",
    "\"\"\"                                                                                                                                                    \n",
    "Scaling is done from here...                                                                                                                           \n",
    "\"\"\"\n",
    "x_scale=1\n",
    "y_scale=1\n",
    "z_scale=2\n",
    "\n",
    "scale=np.diag([x_scale, y_scale, z_scale, 1.0])\n",
    "scale=scale*(1.0/scale.max())\n",
    "scale[3,3]=1.0\n",
    "\n",
    "def short_proj():\n",
    "  return np.dot(Axes3D.get_proj(ax), scale)\n",
    "\n",
    "ax.get_proj=short_proj\n",
    "\"\"\"                                                                                                                                                    \n",
    "to here                                                                                                                                                \n",
    "\"\"\"\n",
    "\n",
    "legend_labelled = (scatter.legend_elements()[0],list(celltype.unique()))\n",
    "\n",
    "# produce a legend with the unique colors from the scatter\n",
    "legend1 = ax.legend(*legend_labelled,\n",
    "                    loc=\"upper right\", title=\"Cell Type\")\n",
    "ax.add_artist(legend1)\n",
    "\n",
    "# ax.legend()\n",
    "\n",
    "ax.view_init(10, 70)\n",
    "\n",
    "# Now set color to white (or whatever is \"invisible\")\n",
    "# pane_color = [229/255,236/255,246/255]\n",
    "pane_color = [224/255,233/255,245/255]\n",
    "ax.xaxis.pane.set_facecolor(pane_color)\n",
    "ax.yaxis.pane.set_facecolor(pane_color)\n",
    "ax.zaxis.pane.set_facecolor(pane_color)\n",
    "\n",
    "plt.savefig(f'/home/jovyan/researcher_home/Documents/Tom/Atlas/output/2/GP.svg')"
   ]
  },
  {
   "cell_type": "code",
   "execution_count": null,
   "id": "69832b72-12b3-489e-b389-dbdd93f3f046",
   "metadata": {
    "tags": []
   },
   "outputs": [],
   "source": [
    "import scanpy as sc\n",
    "import matplotlib.pyplot as plt\n",
    "import numpy as np\n",
    "import pandas as pd\n",
    "import os"
   ]
  },
  {
   "cell_type": "code",
   "execution_count": null,
   "id": "d9800fa8-3ac1-45a3-9dbd-6e08c640cc49",
   "metadata": {},
   "outputs": [],
   "source": [
    "import seaborn as sns\n",
    "from mpl_toolkits.mplot3d import Axes3D\n",
    "import matplotlib.colors as clr\n",
    "\n",
    "\n",
    "width = 20\n",
    "height = 20\n",
    "import matplotlib.pyplot as plt\n",
    "plt.rcParams['figure.figsize'] = [width, height]\n",
    "plt.rcParams.update({'font.size': 30})\n",
    "plt.rcParams['grid.color'] = 'w'\n",
    "plt.rcParams['grid.linewidth'] = 2"
   ]
  },
  {
   "cell_type": "code",
   "execution_count": null,
   "id": "ce691133-9217-4828-9399-32fde42ad26d",
   "metadata": {},
   "outputs": [],
   "source": []
  },
  {
   "cell_type": "code",
   "execution_count": null,
   "id": "299a963b-e3b5-4296-8033-746b93541f5b",
   "metadata": {},
   "outputs": [],
   "source": [
    "gene = 'Ihh'"
   ]
  },
  {
   "cell_type": "code",
   "execution_count": null,
   "id": "0dfe011c-4811-4ebd-9bd9-17141f416567",
   "metadata": {},
   "outputs": [],
   "source": [
    "from pathlib import Path\n",
    "folder_path = \"/home/jovyan/researcher_home/Documents/Tom/Atlas/output/2/\" + gene\n",
    "Path(folder_path).mkdir(parents=True, exist_ok=True)\n",
    "#os.chmod(folder_path, 775)"
   ]
  },
  {
   "cell_type": "code",
   "execution_count": null,
   "id": "05940815-3cfb-49a7-8f3a-4a81054ccdaa",
   "metadata": {},
   "outputs": [],
   "source": [
    "plotname = folder_path + '/virtual-growth_plate_' + gene"
   ]
  },
  {
   "cell_type": "code",
   "execution_count": null,
   "id": "a38cb086-34be-4138-9fc1-03acc75138ca",
   "metadata": {},
   "outputs": [],
   "source": [
    "gene_values = sliced_adata[:, gene].X.toarray()"
   ]
  },
  {
   "cell_type": "code",
   "execution_count": null,
   "id": "5d8a6c1c-eada-4791-90ac-9543d97501fe",
   "metadata": {},
   "outputs": [],
   "source": [
    "vmin = np.percentile(gene_values, 10)\n",
    "vmax = np.percentile(gene_values, 90)\n",
    "# vmax=10"
   ]
  },
  {
   "cell_type": "code",
   "execution_count": null,
   "id": "a30fbbe1-ecf4-42b9-b7f1-48852ea80b98",
   "metadata": {},
   "outputs": [],
   "source": [
    "color_scale = [\"lightgrey\", \"blue\"]\n",
    "cmap = clr.LinearSegmentedColormap.from_list('custom cmap', color_scale, N=256)\n",
    "\n",
    "fig = plt.figure()\n",
    "ax = fig.add_subplot(projection = '3d')\n",
    "ax.set_proj_type('ortho')\n",
    "\n",
    "x = sliced_adata.obsm['X_tsne'][:,0]\n",
    "y = sliced_adata.obsm['X_tsne'][:,1]\n",
    "norm_pseudo = sliced_adata.obs['pseudotime']/sliced_adata.obs['pseudotime'].max()\n",
    "z = 1 - np.cbrt(norm_pseudo)\n",
    "celltype = sliced_adata.obs['CellType']\n",
    "celltype_factorized, celltype_uniques = pd.factorize( celltype )\n",
    "\n",
    "col = ['#636dfa', '#ef553b', '#00cc96', '#FF0000']\n",
    "color = pd.Index(col)[celltype_factorized]\n",
    "\n",
    "scatter = ax.scatter(x, y, z, s = 120, c = gene_values, cmap = cmap, vmin=vmin, vmax=2)\n",
    "#scatter = ax.scatter(x, y, z, s = 120, c = gene_values, cmap = cmap)\n",
    "\"\"\"                                                                                                                                                    \n",
    "Scaling is done from here...                                                                                                                           \n",
    "\"\"\"\n",
    "x_scale=1\n",
    "y_scale=1\n",
    "z_scale=2\n",
    "\n",
    "scale=np.diag([x_scale, y_scale, z_scale, 1.0])\n",
    "scale=scale*(1.0/scale.max())\n",
    "scale[3,3]=1.0\n",
    "\n",
    "def short_proj():\n",
    "  return np.dot(Axes3D.get_proj(ax), scale)\n",
    "\n",
    "ax.get_proj=short_proj\n",
    "\"\"\"                                                                                                                                                    \n",
    "to here                                                                                                                                                \n",
    "\"\"\"\n",
    "\n",
    "ax.set_title(gene)\n",
    "\n",
    "ax.set(yticklabels='')\n",
    "ax.set(xticklabels='')\n",
    "ax.set(zticklabels='')\n",
    "\n",
    "ax.view_init(10, 70)\n",
    "\n",
    "# Now set color to white (or whatever is \"invisible\")\n",
    "# pane_color = [229/255,236/255,246/255]\n",
    "pane_color = [224/255,233/255,245/255]\n",
    "ax.xaxis.pane.set_facecolor(pane_color)\n",
    "ax.yaxis.pane.set_facecolor(pane_color)\n",
    "ax.zaxis.pane.set_facecolor(pane_color)\n",
    "\n",
    "cbar = plt.colorbar(scatter, shrink=0.35)\n",
    "cbar.ax.tick_params(size=0, labelsize=30)\n",
    "\n",
    "filename = plotname + '_vector.svg'\n",
    "plt.savefig(filename)"
   ]
  },
  {
   "cell_type": "code",
   "execution_count": null,
   "id": "1a02fb9b-1eb7-4c00-a443-6369e6a3f562",
   "metadata": {},
   "outputs": [],
   "source": [
    "gene = 'Col10a1'"
   ]
  },
  {
   "cell_type": "code",
   "execution_count": null,
   "id": "3162d174-934b-44c7-8ab2-701b568b716c",
   "metadata": {},
   "outputs": [],
   "source": [
    "from pathlib import Path\n",
    "folder_path = \"/home/jovyan/researcher_home/Documents/Tom/Atlas/output/2/\" + gene\n",
    "Path(folder_path).mkdir(parents=True, exist_ok=True)\n",
    "#os.chmod(folder_path, 775)"
   ]
  },
  {
   "cell_type": "code",
   "execution_count": null,
   "id": "52d32e06-edf0-41c7-a9d3-fda65bc68141",
   "metadata": {},
   "outputs": [],
   "source": [
    "plotname = folder_path + '/virtual-growth_plate_' + gene"
   ]
  },
  {
   "cell_type": "code",
   "execution_count": null,
   "id": "b8a5a03b-b4fe-44c4-a087-d5b192bfb1a9",
   "metadata": {},
   "outputs": [],
   "source": [
    "gene_values = sliced_adata[:, gene].X.toarray()"
   ]
  },
  {
   "cell_type": "code",
   "execution_count": null,
   "id": "76d517e6-9241-4673-a33a-01adc4833a8b",
   "metadata": {},
   "outputs": [],
   "source": [
    "vmin = np.percentile(gene_values, 10)\n",
    "vmax = np.percentile(gene_values, 90)\n",
    "# vmax=10"
   ]
  },
  {
   "cell_type": "code",
   "execution_count": null,
   "id": "6dcd7bf8-11d6-4676-a73a-dfe8a02d8de6",
   "metadata": {},
   "outputs": [],
   "source": [
    "color_scale = [\"lightgrey\", \"blue\"]\n",
    "cmap = clr.LinearSegmentedColormap.from_list('custom cmap', color_scale, N=256)\n",
    "\n",
    "fig = plt.figure()\n",
    "ax = fig.add_subplot(projection = '3d')\n",
    "ax.set_proj_type('ortho')\n",
    "\n",
    "x = sliced_adata.obsm['X_tsne'][:,0]\n",
    "y = sliced_adata.obsm['X_tsne'][:,1]\n",
    "norm_pseudo = sliced_adata.obs['pseudotime']/sliced_adata.obs['pseudotime'].max()\n",
    "z = 1 - np.cbrt(norm_pseudo)\n",
    "celltype = sliced_adata.obs['CellType']\n",
    "celltype_factorized, celltype_uniques = pd.factorize( celltype )\n",
    "\n",
    "col = ['#636dfa', '#ef553b', '#00cc96', '#FF0000']\n",
    "color = pd.Index(col)[celltype_factorized]\n",
    "\n",
    "scatter = ax.scatter(x, y, z, s = 120, c = gene_values, cmap = cmap, vmin=vmin, vmax=2)\n",
    "#scatter = ax.scatter(x, y, z, s = 120, c = gene_values, cmap = cmap)\n",
    "\"\"\"                                                                                                                                                    \n",
    "Scaling is done from here...                                                                                                                           \n",
    "\"\"\"\n",
    "x_scale=1\n",
    "y_scale=1\n",
    "z_scale=2\n",
    "\n",
    "scale=np.diag([x_scale, y_scale, z_scale, 1.0])\n",
    "scale=scale*(1.0/scale.max())\n",
    "scale[3,3]=1.0\n",
    "\n",
    "def short_proj():\n",
    "  return np.dot(Axes3D.get_proj(ax), scale)\n",
    "\n",
    "ax.get_proj=short_proj\n",
    "\"\"\"                                                                                                                                                    \n",
    "to here                                                                                                                                                \n",
    "\"\"\"\n",
    "\n",
    "ax.set_title(gene)\n",
    "\n",
    "ax.set(yticklabels='')\n",
    "ax.set(xticklabels='')\n",
    "ax.set(zticklabels='')\n",
    "\n",
    "ax.view_init(10, 70)\n",
    "\n",
    "# Now set color to white (or whatever is \"invisible\")\n",
    "# pane_color = [229/255,236/255,246/255]\n",
    "pane_color = [224/255,233/255,245/255]\n",
    "ax.xaxis.pane.set_facecolor(pane_color)\n",
    "ax.yaxis.pane.set_facecolor(pane_color)\n",
    "ax.zaxis.pane.set_facecolor(pane_color)\n",
    "\n",
    "cbar = plt.colorbar(scatter, shrink=0.35)\n",
    "cbar.ax.tick_params(size=0, labelsize=30)\n",
    "\n",
    "filename = plotname + '_vector.svg'\n",
    "plt.savefig(filename)"
   ]
  },
  {
   "cell_type": "code",
   "execution_count": null,
   "id": "ad078e5b-2501-49d1-83bc-1a5a85d36b99",
   "metadata": {},
   "outputs": [],
   "source": []
  },
  {
   "cell_type": "code",
   "execution_count": null,
   "id": "9581eaf0-7e80-4258-ab96-1561002b96a8",
   "metadata": {},
   "outputs": [],
   "source": [
    "gene = 'Pthlh'"
   ]
  },
  {
   "cell_type": "code",
   "execution_count": null,
   "id": "74d60cc4-1ec2-4bc5-99af-acc8d4988f37",
   "metadata": {},
   "outputs": [],
   "source": [
    "from pathlib import Path\n",
    "folder_path = \"/home/jovyan/researcher_home/Documents/Tom/Atlas/output/2/\" + gene\n",
    "Path(folder_path).mkdir(parents=True, exist_ok=True)\n",
    "#os.chmod(folder_path, 775)"
   ]
  },
  {
   "cell_type": "code",
   "execution_count": null,
   "id": "104deb71-c81c-4836-a79b-e6d37dfe44c8",
   "metadata": {},
   "outputs": [],
   "source": [
    "plotname = folder_path + '/virtual-growth_plate_' + gene"
   ]
  },
  {
   "cell_type": "code",
   "execution_count": null,
   "id": "d8124aa8-6d4c-41c3-b578-e86b1ac7fc9a",
   "metadata": {},
   "outputs": [],
   "source": [
    "gene_values = sliced_adata[:, gene].X.toarray()"
   ]
  },
  {
   "cell_type": "code",
   "execution_count": null,
   "id": "616e1c18-82d3-47ba-85c4-6e96913b2296",
   "metadata": {},
   "outputs": [],
   "source": [
    "vmin = np.percentile(gene_values, 10)\n",
    "vmax = np.percentile(gene_values, 90)\n",
    "# vmax=10"
   ]
  },
  {
   "cell_type": "code",
   "execution_count": null,
   "id": "16c44d3a-bc17-4d13-b28c-eb467716aed3",
   "metadata": {},
   "outputs": [],
   "source": [
    "color_scale = [\"lightgrey\", \"blue\"]\n",
    "cmap = clr.LinearSegmentedColormap.from_list('custom cmap', color_scale, N=256)\n",
    "\n",
    "fig = plt.figure()\n",
    "ax = fig.add_subplot(projection = '3d')\n",
    "ax.set_proj_type('ortho')\n",
    "\n",
    "x = sliced_adata.obsm['X_tsne'][:,0]\n",
    "y = sliced_adata.obsm['X_tsne'][:,1]\n",
    "norm_pseudo = sliced_adata.obs['pseudotime']/sliced_adata.obs['pseudotime'].max()\n",
    "z = 1 - np.cbrt(norm_pseudo)\n",
    "celltype = sliced_adata.obs['CellType']\n",
    "celltype_factorized, celltype_uniques = pd.factorize( celltype )\n",
    "\n",
    "col = ['#636dfa', '#ef553b', '#00cc96', '#FF0000']\n",
    "color = pd.Index(col)[celltype_factorized]\n",
    "\n",
    "scatter = ax.scatter(x, y, z, s = 120, c = gene_values, cmap = cmap, vmin=vmin, vmax=2)\n",
    "#scatter = ax.scatter(x, y, z, s = 120, c = gene_values, cmap = cmap)\n",
    "\"\"\"                                                                                                                                                    \n",
    "Scaling is done from here...                                                                                                                           \n",
    "\"\"\"\n",
    "x_scale=1\n",
    "y_scale=1\n",
    "z_scale=2\n",
    "\n",
    "scale=np.diag([x_scale, y_scale, z_scale, 1.0])\n",
    "scale=scale*(1.0/scale.max())\n",
    "scale[3,3]=1.0\n",
    "\n",
    "def short_proj():\n",
    "  return np.dot(Axes3D.get_proj(ax), scale)\n",
    "\n",
    "ax.get_proj=short_proj\n",
    "\"\"\"                                                                                                                                                    \n",
    "to here                                                                                                                                                \n",
    "\"\"\"\n",
    "\n",
    "ax.set_title(gene)\n",
    "\n",
    "ax.set(yticklabels='')\n",
    "ax.set(xticklabels='')\n",
    "ax.set(zticklabels='')\n",
    "\n",
    "ax.view_init(10, 70)\n",
    "\n",
    "# Now set color to white (or whatever is \"invisible\")\n",
    "# pane_color = [229/255,236/255,246/255]\n",
    "pane_color = [224/255,233/255,245/255]\n",
    "ax.xaxis.pane.set_facecolor(pane_color)\n",
    "ax.yaxis.pane.set_facecolor(pane_color)\n",
    "ax.zaxis.pane.set_facecolor(pane_color)\n",
    "\n",
    "cbar = plt.colorbar(scatter, shrink=0.35)\n",
    "cbar.ax.tick_params(size=0, labelsize=30)\n",
    "\n",
    "filename = plotname + '_vector.svg'\n",
    "plt.savefig(filename)"
   ]
  },
  {
   "cell_type": "code",
   "execution_count": null,
   "id": "77581361-badb-4bf5-b519-45e342640131",
   "metadata": {},
   "outputs": [],
   "source": [
    "gene = 'Ucma'"
   ]
  },
  {
   "cell_type": "code",
   "execution_count": null,
   "id": "95b7fe5c-8230-45f8-adc6-af9df91e5744",
   "metadata": {},
   "outputs": [],
   "source": [
    "from pathlib import Path\n",
    "folder_path = \"/home/jovyan/researcher_home/Documents/Tom/Atlas/output/2/\" + gene\n",
    "Path(folder_path).mkdir(parents=True, exist_ok=True)\n",
    "#os.chmod(folder_path, 775)"
   ]
  },
  {
   "cell_type": "code",
   "execution_count": null,
   "id": "1c22f793-20c7-4f3e-8107-e6b7a6b7d847",
   "metadata": {},
   "outputs": [],
   "source": [
    "plotname = folder_path + '/virtual-growth_plate_' + gene"
   ]
  },
  {
   "cell_type": "code",
   "execution_count": null,
   "id": "1fa32eb2-e7f3-4306-b548-755bdac166fc",
   "metadata": {},
   "outputs": [],
   "source": [
    "gene_values = sliced_adata[:, gene].X.toarray()"
   ]
  },
  {
   "cell_type": "code",
   "execution_count": null,
   "id": "dd9fe17e-bedd-44b0-8db1-b8b0d7ba636e",
   "metadata": {},
   "outputs": [],
   "source": [
    "vmin = np.percentile(gene_values, 10)\n",
    "vmax = np.percentile(gene_values, 90)\n",
    "# vmax=10"
   ]
  },
  {
   "cell_type": "code",
   "execution_count": null,
   "id": "cb8dae23-728d-4c67-9773-b608becca454",
   "metadata": {},
   "outputs": [],
   "source": [
    "color_scale = [\"lightgrey\", \"blue\"]\n",
    "cmap = clr.LinearSegmentedColormap.from_list('custom cmap', color_scale, N=256)\n",
    "\n",
    "fig = plt.figure()\n",
    "ax = fig.add_subplot(projection = '3d')\n",
    "ax.set_proj_type('ortho')\n",
    "\n",
    "x = sliced_adata.obsm['X_tsne'][:,0]\n",
    "y = sliced_adata.obsm['X_tsne'][:,1]\n",
    "norm_pseudo = sliced_adata.obs['pseudotime']/sliced_adata.obs['pseudotime'].max()\n",
    "z = 1 - np.cbrt(norm_pseudo)\n",
    "celltype = sliced_adata.obs['CellType']\n",
    "celltype_factorized, celltype_uniques = pd.factorize( celltype )\n",
    "\n",
    "col = ['#636dfa', '#ef553b', '#00cc96', '#FF0000']\n",
    "color = pd.Index(col)[celltype_factorized]\n",
    "\n",
    "scatter = ax.scatter(x, y, z, s = 120, c = gene_values, cmap = cmap, vmin=vmin, vmax=2)\n",
    "#scatter = ax.scatter(x, y, z, s = 120, c = gene_values, cmap = cmap)\n",
    "\"\"\"                                                                                                                                                    \n",
    "Scaling is done from here...                                                                                                                           \n",
    "\"\"\"\n",
    "x_scale=1\n",
    "y_scale=1\n",
    "z_scale=2\n",
    "\n",
    "scale=np.diag([x_scale, y_scale, z_scale, 1.0])\n",
    "scale=scale*(1.0/scale.max())\n",
    "scale[3,3]=1.0\n",
    "\n",
    "def short_proj():\n",
    "  return np.dot(Axes3D.get_proj(ax), scale)\n",
    "\n",
    "ax.get_proj=short_proj\n",
    "\"\"\"                                                                                                                                                    \n",
    "to here                                                                                                                                                \n",
    "\"\"\"\n",
    "\n",
    "ax.set_title(gene)\n",
    "\n",
    "ax.set(yticklabels='')\n",
    "ax.set(xticklabels='')\n",
    "ax.set(zticklabels='')\n",
    "\n",
    "ax.view_init(10, 70)\n",
    "\n",
    "# Now set color to white (or whatever is \"invisible\")\n",
    "# pane_color = [229/255,236/255,246/255]\n",
    "pane_color = [224/255,233/255,245/255]\n",
    "ax.xaxis.pane.set_facecolor(pane_color)\n",
    "ax.yaxis.pane.set_facecolor(pane_color)\n",
    "ax.zaxis.pane.set_facecolor(pane_color)\n",
    "\n",
    "cbar = plt.colorbar(scatter, shrink=0.35)\n",
    "cbar.ax.tick_params(size=0, labelsize=30)\n",
    "\n",
    "filename = plotname + '_vector.svg'\n",
    "plt.savefig(filename)"
   ]
  },
  {
   "cell_type": "code",
   "execution_count": null,
   "id": "e96ee4f0-21c5-45f4-a47e-611c6fb2fb4c",
   "metadata": {},
   "outputs": [],
   "source": [
    "gene = 'Pth1r'"
   ]
  },
  {
   "cell_type": "code",
   "execution_count": null,
   "id": "f3ff3425-1347-43e3-9d51-d22b70fdc665",
   "metadata": {},
   "outputs": [],
   "source": [
    "from pathlib import Path\n",
    "folder_path = \"/home/jovyan/researcher_home/Documents/Tom/Atlas/output/2/\" + gene\n",
    "Path(folder_path).mkdir(parents=True, exist_ok=True)\n",
    "#os.chmod(folder_path, 775)"
   ]
  },
  {
   "cell_type": "code",
   "execution_count": null,
   "id": "2a64bf98-5295-41a1-8562-3be278f36357",
   "metadata": {},
   "outputs": [],
   "source": [
    "plotname = folder_path + '/virtual-growth_plate_' + gene"
   ]
  },
  {
   "cell_type": "code",
   "execution_count": null,
   "id": "b138d7b1-187b-40bb-bc6a-feb69aa95436",
   "metadata": {},
   "outputs": [],
   "source": [
    "gene_values = sliced_adata[:, gene].X.toarray()"
   ]
  },
  {
   "cell_type": "code",
   "execution_count": null,
   "id": "1dafbf14-da06-4ee6-8ca3-565b49e2b32a",
   "metadata": {},
   "outputs": [],
   "source": [
    "vmin = np.percentile(gene_values, 10)\n",
    "vmax = np.percentile(gene_values, 90)\n",
    "# vmax=10"
   ]
  },
  {
   "cell_type": "code",
   "execution_count": null,
   "id": "f6efba1b-7a67-45ad-a797-112ba979c4fc",
   "metadata": {},
   "outputs": [],
   "source": [
    "color_scale = [\"lightgrey\", \"blue\"]\n",
    "cmap = clr.LinearSegmentedColormap.from_list('custom cmap', color_scale, N=256)\n",
    "\n",
    "fig = plt.figure()\n",
    "ax = fig.add_subplot(projection = '3d')\n",
    "ax.set_proj_type('ortho')\n",
    "\n",
    "x = sliced_adata.obsm['X_tsne'][:,0]\n",
    "y = sliced_adata.obsm['X_tsne'][:,1]\n",
    "norm_pseudo = sliced_adata.obs['pseudotime']/sliced_adata.obs['pseudotime'].max()\n",
    "z = 1 - np.cbrt(norm_pseudo)\n",
    "celltype = sliced_adata.obs['CellType']\n",
    "celltype_factorized, celltype_uniques = pd.factorize( celltype )\n",
    "\n",
    "col = ['#636dfa', '#ef553b', '#00cc96', '#FF0000']\n",
    "color = pd.Index(col)[celltype_factorized]\n",
    "\n",
    "scatter = ax.scatter(x, y, z, s = 120, c = gene_values, cmap = cmap, vmin=vmin, vmax=2)\n",
    "#scatter = ax.scatter(x, y, z, s = 120, c = gene_values, cmap = cmap)\n",
    "\"\"\"                                                                                                                                                    \n",
    "Scaling is done from here...                                                                                                                           \n",
    "\"\"\"\n",
    "x_scale=1\n",
    "y_scale=1\n",
    "z_scale=2\n",
    "\n",
    "scale=np.diag([x_scale, y_scale, z_scale, 1.0])\n",
    "scale=scale*(1.0/scale.max())\n",
    "scale[3,3]=1.0\n",
    "\n",
    "def short_proj():\n",
    "  return np.dot(Axes3D.get_proj(ax), scale)\n",
    "\n",
    "ax.get_proj=short_proj\n",
    "\"\"\"                                                                                                                                                    \n",
    "to here                                                                                                                                                \n",
    "\"\"\"\n",
    "\n",
    "ax.set_title(gene)\n",
    "\n",
    "ax.set(yticklabels='')\n",
    "ax.set(xticklabels='')\n",
    "ax.set(zticklabels='')\n",
    "\n",
    "ax.view_init(10, 70)\n",
    "\n",
    "# Now set color to white (or whatever is \"invisible\")\n",
    "# pane_color = [229/255,236/255,246/255]\n",
    "pane_color = [224/255,233/255,245/255]\n",
    "ax.xaxis.pane.set_facecolor(pane_color)\n",
    "ax.yaxis.pane.set_facecolor(pane_color)\n",
    "ax.zaxis.pane.set_facecolor(pane_color)\n",
    "\n",
    "cbar = plt.colorbar(scatter, shrink=0.35)\n",
    "cbar.ax.tick_params(size=0, labelsize=30)\n",
    "\n",
    "filename = plotname + '_vector.svg'\n",
    "plt.savefig(filename)"
   ]
  }
 ],
 "metadata": {
  "kernelspec": {
   "display_name": "Python [conda env:base] *",
   "language": "python",
   "name": "conda-base-py"
  },
  "language_info": {
   "codemirror_mode": {
    "name": "ipython",
    "version": 3
   },
   "file_extension": ".py",
   "mimetype": "text/x-python",
   "name": "python",
   "nbconvert_exporter": "python",
   "pygments_lexer": "ipython3",
   "version": "3.11.6"
  }
 },
 "nbformat": 4,
 "nbformat_minor": 5
}
