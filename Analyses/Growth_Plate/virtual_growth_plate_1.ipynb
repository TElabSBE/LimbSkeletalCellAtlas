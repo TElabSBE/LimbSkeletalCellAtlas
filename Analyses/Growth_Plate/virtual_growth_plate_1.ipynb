{
 "cells": [
  {
   "cell_type": "markdown",
   "id": "1fa3efc5-ac57-474d-a1ba-a04d02d9a79d",
   "metadata": {},
   "source": [
    "## Subset growth plate"
   ]
  },
  {
   "cell_type": "code",
   "execution_count": null,
   "id": "4dd38aba-b2a3-4133-a9d3-5400f76a6b4a",
   "metadata": {},
   "outputs": [],
   "source": [
    "Atlas <- readRDS('Atlas.Rds')"
   ]
  },
  {
   "cell_type": "code",
   "execution_count": null,
   "id": "0d8ea11d-57cf-49ff-aee5-6951aa8b4fdf",
   "metadata": {},
   "outputs": [],
   "source": [
    "Idents(Atlas) <- Atlas@meta.data$DevTP"
   ]
  },
  {
   "cell_type": "code",
   "execution_count": null,
   "id": "2598a24b-5218-4d8f-819a-5fe7374f9dae",
   "metadata": {},
   "outputs": [],
   "source": [
    "dev <- subset(Atlas, idents=c('E10.5','E11.5','E12.5','E13.5','E15.5','E18.5','P6','P13','P21'))"
   ]
  },
  {
   "cell_type": "code",
   "execution_count": null,
   "id": "1ef3308f-ff6a-4edc-8129-82ebb8d71a1e",
   "metadata": {},
   "outputs": [],
   "source": [
    "dev$DevTP <- droplevels.factor(dev$DevTP)\n",
    "dev$NandC <- droplevels.factor(dev$NandC)\n",
    "dev$CellType <- droplevels.factor(dev$CellType)"
   ]
  },
  {
   "cell_type": "code",
   "execution_count": null,
   "id": "b8aeb5b3-3435-400d-a310-a0428725b894",
   "metadata": {},
   "outputs": [],
   "source": [
    "Idents(dev) <- dev@meta.data$CellType"
   ]
  },
  {
   "cell_type": "code",
   "execution_count": null,
   "id": "7059e746-f334-44c9-aada-4b080e198b78",
   "metadata": {},
   "outputs": [],
   "source": [
    "GP <- subset(dev, idents=c('Resting zone chondrocytes','Proliferative chondrocytes','Pre-hypertrophic chondrocytes','Hypertrophic chondrocytes'))"
   ]
  },
  {
   "cell_type": "code",
   "execution_count": null,
   "id": "38d218da-94f6-448f-ba2b-a5f43210e7b2",
   "metadata": {},
   "outputs": [],
   "source": [
    "GP$CellType <- droplevels.factor(GP$CellType)"
   ]
  },
  {
   "cell_type": "code",
   "execution_count": null,
   "id": "7c98a594-8fd9-4d46-b940-738c1aa81250",
   "metadata": {},
   "outputs": [],
   "source": [
    "GP$NandC <- droplevels.factor(GP$NandC)"
   ]
  },
  {
   "cell_type": "code",
   "execution_count": null,
   "id": "b3585d65-9230-4215-bcc6-2fdf08dd95f2",
   "metadata": {},
   "outputs": [],
   "source": [
    "GP@reductions$umap <- GP@reductions$mde_scanvi"
   ]
  },
  {
   "cell_type": "code",
   "execution_count": null,
   "id": "1244aaa1-8e65-4883-a5a8-c9745a9cc476",
   "metadata": {},
   "outputs": [],
   "source": [
    "cds <- as.cell_data_set(GP)\n"
   ]
  },
  {
   "cell_type": "code",
   "execution_count": null,
   "id": "3e21925b-d683-4c74-965d-4fc699d5cbfd",
   "metadata": {},
   "outputs": [],
   "source": [
    "cds <- cluster_cells(cds)\n"
   ]
  },
  {
   "cell_type": "code",
   "execution_count": null,
   "id": "a7c10fc3-59b9-465e-85cb-94f0fca0dbfa",
   "metadata": {},
   "outputs": [],
   "source": [
    "cds <- learn_graph(cds)\n"
   ]
  },
  {
   "cell_type": "code",
   "execution_count": null,
   "id": "6b2cb56c-3264-4a80-8fe4-ad95ed57aff0",
   "metadata": {},
   "outputs": [],
   "source": [
    "plot_cells(cds, color_cells_by = \"CellType\",label_groups_by_cluster=FALSE,label_leaves=FALSE, label_branch_points=FALSE)\n"
   ]
  },
  {
   "cell_type": "code",
   "execution_count": null,
   "id": "dc14ee87-71d3-4538-b278-585a59d8e820",
   "metadata": {},
   "outputs": [],
   "source": [
    "cds <- order_cells(cds)\n"
   ]
  },
  {
   "cell_type": "code",
   "execution_count": null,
   "id": "790281c7-b0ed-411e-b5f6-19ce317079bb",
   "metadata": {},
   "outputs": [],
   "source": [
    "options(repr.plot.width = 13, repr.plot.height = 10)\n",
    "p1 <- DimPlot(GP, group.by='NandC',reduction = \"mde_scanvi\",order = c('39 - Keratinocytes', '38 - Neurons', '37 - Platelets', '36 - Erythroid cells', '35 - Immune cells', '34 - Epithelial cells', '33 - AER', '32 - Lymphatic endothelial cells', '31 - Vascular endothelial cells', '30 - Perivascular cells', '29 - Skeletal muscle cells', '28 - Muscle progenitors', '27 - Myogenic stem cells', '26 - Fibroblasts', '25 - Osteoclasts', '24 - Endosteum', '23 - Periosteum', '22 - Periosteal progenitors', '21 - Osteocytes', '20 - Fast proliferating osteoblasts', '19 - Osteoblasts', '18 - Pre-osteoblasts', '17 - Osteoprogenitors', '16 - Tenocytes', '15 - Tenocyte precursors', '14 - Joint precursors', '13 - Articular chondrocytes', '12 - Hypertrophic chondrocytes', '11 - Pre-hypertrophic chondrocytes', '10 - Proliferative chondrocytes', '9 - Resting zone chondrocytes', '8 - Chondrocytes', '7 - Chondroprogenitors', '6 - Fast proliferating cells', '5 - ZPA', '4 - Distal limb bud mesenchyme', '3 - Intermediate limb bud mesenchyme', '2 - Proximal limb bud mesenchyme', '1 - BMSCs')\n",
    ", pt.size = 0.3, label = F , label.size=6 ,label.color = 'black', repel=TRUE, raster=FALSE, cols= c(\n",
    "'9 - Resting zone chondrocytes'='#D4A6CD',\n",
    "'10 - Proliferative chondrocytes'='#FB8072',\n",
    "'11 - Pre-hypertrophic chondrocytes'='#FFD700',\n",
    "'12 - Hypertrophic chondrocytes'='#0B0F5E'\n",
    ")) +\n",
    "        xlab(\"UMAP 1\") + ylab(\"UMAP 2\") +\n",
    "        theme(axis.title = element_text(size = 15)) +\n",
    "        theme(plot.title = element_blank()) +\n",
    "        theme(axis.text.x = element_blank(),\n",
    "              axis.ticks.x = element_blank(),\n",
    "              axis.text.y = element_blank(),\n",
    "              axis.ticks.y = element_blank())    \n",
    "\n",
    "p1 "
   ]
  },
  {
   "cell_type": "code",
   "execution_count": null,
   "id": "de972b6c-1a47-4365-9731-4bf463100086",
   "metadata": {},
   "outputs": [],
   "source": [
    "GP@meta.data$pseudotime <- pseudotime(cds, reduction_method = \"UMAP\")\n"
   ]
  },
  {
   "cell_type": "code",
   "execution_count": null,
   "id": "8fe2ef89-d158-408a-b8bf-0f9a837c3c5e",
   "metadata": {
    "scrolled": true
   },
   "outputs": [],
   "source": [
    "options(repr.plot.width = 10, repr.plot.height = 10)\n",
    "FeaturePlot_scCustom(seurat_object = GP, reduction = 'mde_scanvi',colors_use = viridis_plasma_light_high, features = \"pseudotime\")"
   ]
  },
  {
   "cell_type": "code",
   "execution_count": null,
   "id": "4a1cdfc9-add0-406f-9bc2-cf9e514dd834",
   "metadata": {},
   "outputs": [],
   "source": [
    "sceasy::convertFormat(GP, from=\"seurat\", to=\"anndata\",\n",
    "                       outFile='Growthplate.h5ad')"
   ]
  }
 ],
 "metadata": {
  "kernelspec": {
   "display_name": "R [conda env:base] *",
   "language": "R",
   "name": "conda-base-r"
  },
  "language_info": {
   "codemirror_mode": "r",
   "file_extension": ".r",
   "mimetype": "text/x-r-source",
   "name": "R",
   "pygments_lexer": "r",
   "version": "4.3.2"
  }
 },
 "nbformat": 4,
 "nbformat_minor": 5
}
