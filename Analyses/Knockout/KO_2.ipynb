{
 "cells": [
  {
   "cell_type": "code",
   "execution_count": null,
   "id": "59d5e375-7b13-4a8a-b71e-ae947ac8948e",
   "metadata": {},
   "outputs": [],
   "source": [
    "import os\n",
    "import sys\n",
    "\n",
    "import numpy as np\n",
    "import pandas as pd\n",
    "import matplotlib.pyplot as plt\n",
    "import scanpy as sc\n",
    "import seaborn as sns"
   ]
  },
  {
   "cell_type": "code",
   "execution_count": null,
   "id": "05404935-88f6-4a42-8b12-19664b7dca95",
   "metadata": {},
   "outputs": [],
   "source": [
    "import celloracle as co"
   ]
  },
  {
   "cell_type": "code",
   "execution_count": null,
   "id": "697d2be2-c5f8-4962-9da7-896d837848da",
   "metadata": {},
   "outputs": [],
   "source": [
    "plt.rcParams[\"figure.figsize\"] = [6,6]\n",
    "%config InlineBackend.figure_format = 'retina'\n",
    "plt.rcParams[\"savefig.dpi\"] = 600\n",
    "\n",
    "%matplotlib inline"
   ]
  },
  {
   "cell_type": "code",
   "execution_count": null,
   "id": "1c892251-9dbb-4f14-b498-92b6e346023f",
   "metadata": {},
   "outputs": [],
   "source": [
    "save_folder = \"figures_celloracle\"\n",
    "os.makedirs(save_folder, exist_ok=True)"
   ]
  },
  {
   "cell_type": "code",
   "execution_count": null,
   "id": "c51e77c5-b3ad-42b1-8920-05b105891c44",
   "metadata": {},
   "outputs": [],
   "source": [
    "adata = sc.read_h5ad(\"KO.h5ad\")\n",
    "adata"
   ]
  },
  {
   "cell_type": "code",
   "execution_count": null,
   "id": "96daf32d-a1ca-4ced-bbaf-cca5fee70fcb",
   "metadata": {},
   "outputs": [],
   "source": [
    "sc.pl.embedding(adata, basis=\"X_mde_scanvi\", color=[\"CellType\",\"Author\",\"DevTP\"], ncols=1, frameon=False, )\n"
   ]
  },
  {
   "cell_type": "code",
   "execution_count": null,
   "id": "56d465ef-1ec5-4efb-b356-6bb4e7550290",
   "metadata": {},
   "outputs": [],
   "source": [
    "adata"
   ]
  },
  {
   "cell_type": "code",
   "execution_count": null,
   "id": "bc6dd405-6564-4bb4-9292-be9cd97af6cd",
   "metadata": {},
   "outputs": [],
   "source": [
    "sc.pl.umap(adata, color=[\"Sox9\"], use_raw=False)"
   ]
  },
  {
   "cell_type": "code",
   "execution_count": null,
   "id": "4e417473-1db0-4f64-b6e7-0e2adc47017d",
   "metadata": {},
   "outputs": [],
   "source": [
    "print(f\"Cell number is: {adata.shape[0]}\")\n",
    "print(f\"Gene number is: {adata.shape[1]}\")"
   ]
  },
  {
   "cell_type": "code",
   "execution_count": null,
   "id": "b55d85f2-8f8a-40c5-a6d7-25884f1d65bf",
   "metadata": {},
   "outputs": [],
   "source": [
    "n_cells_downsample = 20000\n",
    "\n",
    "if adata.shape[0] > n_cells_downsample:\n",
    "    # Let's dowmsample into 20K cells\n",
    "    sc.pp.subsample(adata, n_obs=n_cells_downsample, random_state=123)"
   ]
  },
  {
   "cell_type": "code",
   "execution_count": null,
   "id": "9d262029-a1f9-4c52-ad5c-23d75efc88bf",
   "metadata": {},
   "outputs": [],
   "source": [
    "print(f\"Cell number is: {adata.shape[0]}\")"
   ]
  },
  {
   "cell_type": "code",
   "execution_count": null,
   "id": "98a46b48-8fc4-4913-a7c8-dafddddfb42b",
   "metadata": {},
   "outputs": [],
   "source": [
    "# Call top variable genes\n",
    "adata2 = adata.copy()\n",
    "sc.pp.log1p(adata2)\n",
    "sc.pp.highly_variable_genes(adata2, n_top_genes=5000)"
   ]
  },
  {
   "cell_type": "code",
   "execution_count": null,
   "id": "8955b02a-3959-40fb-a179-c526c15348cb",
   "metadata": {},
   "outputs": [],
   "source": [
    "sc.pl.highly_variable_genes(adata2)"
   ]
  },
  {
   "cell_type": "code",
   "execution_count": null,
   "id": "f5dfebc5-a98f-45f9-bb65-f9b7199b3cae",
   "metadata": {},
   "outputs": [],
   "source": [
    "# Keep only highly variable genes\n",
    "adata = adata[:, adata2.var.highly_variable]"
   ]
  },
  {
   "cell_type": "code",
   "execution_count": null,
   "id": "eca09b86-605c-42cd-bf74-74dbc5ce08d8",
   "metadata": {},
   "outputs": [],
   "source": [
    "print(f\"Gene number is: {adata.shape[1]}\")"
   ]
  },
  {
   "cell_type": "markdown",
   "id": "352bce8c-8c34-4f03-aed2-d119618b36c0",
   "metadata": {},
   "source": [
    "For the GRN inference, celloracle needs a base-GRN. There are several ways to make one, the recommended being scATAC-seq data generated within the same experiment. Since we don't have that, we'll use the second option: the base-GRN made from the [sciATAC-seq atlas](http://atlas.gs.washington.edu/mouse-atac/)."
   ]
  },
  {
   "cell_type": "code",
   "execution_count": null,
   "id": "1cfcf389-a8a4-4ff5-85ab-6b06eee1626a",
   "metadata": {},
   "outputs": [],
   "source": [
    "# Load TF info which was made from mouse cell atlas dataset.\n",
    "base_GRN = co.data.load_mouse_scATAC_atlas_base_GRN()\n",
    "\n",
    "# Check data\n",
    "base_GRN.head()"
   ]
  },
  {
   "cell_type": "markdown",
   "id": "f7a7ece1-ba55-4b99-b60a-28ada6b89740",
   "metadata": {},
   "source": [
    "### Initiate Oracle object\n",
    "\n",
    "Oracle is used for the data preprocessing and GRN inference steps. The Oracle Object stores all information and does the calculations with its internal functions. First, we instantiate an Oracle object, then put the gene expression data (anndata) and TF info into the object."
   ]
  },
  {
   "cell_type": "code",
   "execution_count": null,
   "id": "7d81be93-52c9-4b0d-823e-486699ebce04",
   "metadata": {},
   "outputs": [],
   "source": [
    "# Instantiate Oracle object\n",
    "oracle = co.Oracle()"
   ]
  },
  {
   "cell_type": "markdown",
   "id": "5c08eed7-9472-4a5d-bdc9-d957fd376837",
   "metadata": {},
   "source": [
    "For the celloracle analysis, the anndata shoud include (1) gene expression count, (2) clustering information, (3) trajectory (dimensional reduction embeddings) data.\n",
    "\n",
    "When you load a scRNA-seq data, please enter **the name of clustering data and dimensional reduction data**. \n",
    "- The clustering data should be to be stored in the attribute of obs in the anndata. Thic can be checked by the following command: `adata.obs.columns`.\n",
    "- Dimensional reduction data suppose to be stored in the attribute of “obsm” in the anndata. This can be checked by the following command: `adata.obs.keys`."
   ]
  },
  {
   "cell_type": "code",
   "execution_count": null,
   "id": "ab9d941a-c35a-4723-bd34-0aafa6a72354",
   "metadata": {},
   "outputs": [],
   "source": [
    "adata.layers['raw_count'] = adata.X.copy()\n",
    "adata"
   ]
  },
  {
   "cell_type": "code",
   "execution_count": null,
   "id": "23a95837-9904-4630-9736-eed940174691",
   "metadata": {},
   "outputs": [],
   "source": [
    "# In this notebook, we use raw mRNA count as an input of Oracle object.\n",
    "adata.X = adata.layers['raw_count'].copy()\n",
    "\n",
    "# Instantiate Oracle object.\n",
    "oracle.import_anndata_as_raw_count(adata=adata,\n",
    "                                   cluster_column_name=\"CellType\",\n",
    "                                   embedding_name=\"X_umap\")"
   ]
  },
  {
   "cell_type": "code",
   "execution_count": null,
   "id": "52e49c55-e720-4133-b235-5c6237ac260b",
   "metadata": {},
   "outputs": [],
   "source": [
    "# Load TF info dataframe with the following code.\n",
    "oracle.import_TF_data(TF_info_matrix=base_GRN)"
   ]
  },
  {
   "cell_type": "markdown",
   "id": "7b8561a6-02a1-46ba-a2ba-f25e2ba822ab",
   "metadata": {},
   "source": [
    "### k-NN imputation\n",
    "Celloracle uses the same strategy as velocyto for visualizing cell transitions. This process requires KNN imputation in advance.\n",
    "For the KNN imputation, we need to first perform PCA and PC selection."
   ]
  },
  {
   "cell_type": "code",
   "execution_count": null,
   "id": "f8522e91-1b65-4901-b180-e7e5e2925e98",
   "metadata": {},
   "outputs": [],
   "source": [
    "# Perform PCA\n",
    "oracle.perform_PCA()\n",
    "\n",
    "# Select important PCs\n",
    "plt.plot(np.cumsum(oracle.pca.explained_variance_ratio_)[:100])\n",
    "n_comps = np.where(np.diff(np.diff(np.cumsum(oracle.pca.explained_variance_ratio_))>0.002))[0][0]\n",
    "plt.axvline(n_comps, c=\"k\")\n",
    "print(n_comps)\n",
    "n_comps = min(n_comps, 50)"
   ]
  },
  {
   "cell_type": "markdown",
   "id": "22882a12-b0f8-40e5-b263-e96963d08fcf",
   "metadata": {},
   "source": [
    "Estimate the optimal number of nearest neighbors for KNN imputation."
   ]
  },
  {
   "cell_type": "code",
   "execution_count": null,
   "id": "eafb3c4e-69ba-4d94-9574-a2fdcaf85df4",
   "metadata": {},
   "outputs": [],
   "source": [
    "n_cell = oracle.adata.shape[0]\n",
    "print(f\"cell number is: {n_cell}\")\n",
    "\n",
    "k = int(0.025*n_cell)\n",
    "print(f\"Auto-selected k is: {k}\")"
   ]
  },
  {
   "cell_type": "code",
   "execution_count": null,
   "id": "7f67058f-1924-472b-9429-827cc9409c45",
   "metadata": {},
   "outputs": [],
   "source": [
    "oracle.knn_imputation(n_pca_dims=n_comps, k=k, balanced=True, b_sight=k*8,\n",
    "                      b_maxl=k*4, n_jobs=4)"
   ]
  },
  {
   "cell_type": "markdown",
   "id": "f8b3e021-2faf-4991-b52c-4c9c075ca6f9",
   "metadata": {},
   "source": [
    "### GRN calculation\n",
    "\n",
    "The next step is constructing a cluster-specific GRN for all clusters.\n",
    "\n",
    "- GRNs are calculated with the `get_links` function, and the function returns GRNs as a `Links` object. The `Links` object stores inferred GRNs and the corresponding metadata. Network analysis can be performed with on the `Links` object.\n",
    "\n",
    "- The GRN will be calculated for each cluster/sub-group."
   ]
  },
  {
   "cell_type": "code",
   "execution_count": null,
   "id": "eed1eb85-05d8-4f60-92fd-93fd9a366f61",
   "metadata": {},
   "outputs": [],
   "source": [
    "sc.pl.umap(adata,  color=['CellType'],\n",
    "           legend_loc='right margin')"
   ]
  },
  {
   "cell_type": "code",
   "execution_count": null,
   "id": "34121b3b-96c6-4dcd-ace6-cf6cadebeed3",
   "metadata": {},
   "outputs": [],
   "source": [
    "%%time\n",
    "# Calculate GRN for each population in \"louvain_annot\" clustering unit.\n",
    "# This step may take long time.\n",
    "links = oracle.get_links(cluster_name_for_GRN_unit=\"CellType\", alpha=10,\n",
    "                         verbose_level=2, test_mode=False)"
   ]
  },
  {
   "cell_type": "markdown",
   "id": "722630e4-28e6-4e59-b711-d32aaba6e2ce",
   "metadata": {},
   "source": [
    "### in silico TF Perturbation analysis\n",
    "Next, we will simulate the TF perturbation effects on cell identity to investigate its function and regulatory mechanism. See the celloracle paper for the details and scientific premise on the algorithm.\n",
    "\n",
    "In this notebook, we’ll simulate knock-out of the Myog gene in the myogenesis trajectory."
   ]
  },
  {
   "cell_type": "code",
   "execution_count": null,
   "id": "33b2711b-aee2-420f-b752-67be2c968275",
   "metadata": {},
   "outputs": [],
   "source": [
    "plt.rcParams[\"figure.figsize\"] = [6, 4.5]"
   ]
  },
  {
   "cell_type": "code",
   "execution_count": null,
   "id": "9d384e95-fbfe-409a-8a64-c88d07958bde",
   "metadata": {},
   "outputs": [],
   "source": [
    "oracle.adata.var.index"
   ]
  },
  {
   "cell_type": "code",
   "execution_count": null,
   "id": "2f4fd5f6-fb98-4df3-955c-fea49fecc6a2",
   "metadata": {},
   "outputs": [],
   "source": [
    "goi= \"Sox9\"\n",
    "sc.pl.umap(oracle.adata, color=[goi, oracle.cluster_column_name],\n",
    "                 layer=\"imputed_count\", use_raw=False, cmap='viridis')"
   ]
  },
  {
   "cell_type": "code",
   "execution_count": null,
   "id": "54ccb2c6-5917-4693-a198-542ae4061b67",
   "metadata": {},
   "outputs": [],
   "source": [
    "sc.get.obs_df(oracle.adata, keys=[goi], layer=\"imputed_count\").hist()\n",
    "plt.show()"
   ]
  },
  {
   "cell_type": "code",
   "execution_count": null,
   "id": "c51550fd-194e-48f9-8cc6-4dee015334e9",
   "metadata": {},
   "outputs": [],
   "source": [
    "links.filter_links()\n",
    "oracle.get_cluster_specific_TFdict_from_Links(links_object=links)\n",
    "oracle.fit_GRN_for_simulation(alpha=10, use_cluster_specific_TFdict=True)"
   ]
  },
  {
   "cell_type": "markdown",
   "id": "5e275bf8-8a26-413e-8cdc-dcc0f63bd102",
   "metadata": {},
   "source": [
    "#### Calculate future gene expression after perturbation\n",
    "\n",
    "Here we simulate SOx9 KO; i.e. we predict whap happens if Sox9 gene expression changed into 0."
   ]
  },
  {
   "cell_type": "code",
   "execution_count": null,
   "id": "c42df738-26eb-444f-8ca1-1b1cddb46c99",
   "metadata": {},
   "outputs": [],
   "source": [
    "# Enter perturbation conditions to simulate signal propagation after the perturbation.\n",
    "oracle.simulate_shift(perturb_condition={goi: 0.0},\n",
    "                      n_propagation=3)"
   ]
  },
  {
   "cell_type": "markdown",
   "id": "0cd4f174-ff7e-4fde-aeaa-cbfeae300cf8",
   "metadata": {},
   "source": [
    "#### Calculate transition probability between cells\n",
    "- The steps above simulated global future gene expression shift after perturbation. This prediction is based on iterative calculations of signal propagation within the GRN.\n",
    "- The next step is to calculate the probability of cell state transitions based on the simulation data. You can use the transition probabilities between cells to predict how cells will change after a perturbation.\n",
    "- This transition probability will be used later."
   ]
  },
  {
   "cell_type": "code",
   "execution_count": null,
   "id": "a207fce4-36fe-49e5-a7ee-0e79b978e75f",
   "metadata": {},
   "outputs": [],
   "source": [
    "# Get transition probability\n",
    "oracle.estimate_transition_prob(n_neighbors=200,\n",
    "                                knn_random=True, \n",
    "                                sampled_fraction=1)\n",
    "\n",
    "# Calculate embedding \n",
    "oracle.calculate_embedding_shift(sigma_corr = 0.05)"
   ]
  },
  {
   "cell_type": "markdown",
   "id": "0d1f6772-2645-486e-8198-515035ad362b",
   "metadata": {},
   "source": [
    "### Visualization\n",
    "\n",
    "#### Quiver plot: show the direction of cell transition at single cell resolution\n",
    "\n",
    "**Caution: it is very important to find optimal `scale` parameter**\n",
    "- We need to adjust the `scale` parameter. Please seek to find the optimal `scale` parameter that provides good visualization.\n",
    "\n",
    "- If you don't see any vector, you can try the smaller scale parameter to magnify vector length. However, if you see large vectors in the right panel, which is a randomized simulation, it means that the scale parameters are too small."
   ]
  },
  {
   "cell_type": "code",
   "execution_count": null,
   "id": "a9e77dcd-f8e9-46cc-ba70-2d81f57bc4b6",
   "metadata": {},
   "outputs": [],
   "source": [
    "fig, ax = plt.subplots(1, 2,  figsize=[15, 7])\n",
    "\n",
    "scale = 15\n",
    "# Show quiver plot\n",
    "oracle.plot_quiver(scale=scale, ax=ax[0])\n",
    "ax[0].set_title(f\"Perturbation simulation results: {goi} KO\")\n",
    "\n",
    "# Show quiver plot that was calculated with randomized GRN.\n",
    "oracle.plot_quiver_random(scale=scale, ax=ax[1])\n",
    "ax[1].set_title(f\"Perturbation simulation with randomized GRNs\")\n",
    "\n",
    "plt.show()"
   ]
  },
  {
   "cell_type": "markdown",
   "id": "e5c3f8f5-b22b-4d95-bc46-2c8ceff3cc8c",
   "metadata": {},
   "source": [
    "#### Vector field graph\n",
    "\n",
    "We can visualize simulation result as a vector field graph. Single cell transition vectors are grouped by grid point.\n",
    "\n",
    "#### Find parameters for n_grid and min_mass\n",
    "\n",
    "`n_grid`: number of grid points\n",
    "`min_mass`: threshold value for the cell density. The appropriate values for these parameters depends on the data. Finding appropriate values is done as follows:"
   ]
  },
  {
   "cell_type": "code",
   "execution_count": null,
   "id": "99e3a3fa-bc71-4367-a6d7-c58f84b66afb",
   "metadata": {},
   "outputs": [],
   "source": [
    "# n_grid = 40 is a good point to start with.\n",
    "n_grid = 40\n",
    "oracle.calculate_p_mass(smooth=0.8, n_grid=n_grid, n_neighbors=200)"
   ]
  },
  {
   "cell_type": "markdown",
   "id": "81970001-0dc7-4c6c-b54e-a1fa012f2ce7",
   "metadata": {},
   "source": [
    "Run `oracle.suggest_mass_thresholds()` to find appropriate min_mass parameter. It will give you some examples."
   ]
  },
  {
   "cell_type": "code",
   "execution_count": null,
   "id": "9e160a25-f900-4692-b8a7-7a55539f56fe",
   "metadata": {},
   "outputs": [],
   "source": [
    "# Search for best min_mass.\n",
    "oracle.suggest_mass_thresholds(n_suggestion=32)"
   ]
  },
  {
   "cell_type": "code",
   "execution_count": null,
   "id": "0c48c50e-f8c2-40fc-a324-5ba787be35a4",
   "metadata": {},
   "outputs": [],
   "source": [
    "min_mass = 1.9e+02\n",
    "oracle.calculate_mass_filter(min_mass=min_mass, plot=True)"
   ]
  },
  {
   "cell_type": "markdown",
   "id": "649b10be-12fc-4a72-99b5-a1dab466b65b",
   "metadata": {},
   "source": [
    "#### Plot vector fields\n",
    "\n",
    "- Again, we need to adjust the scale parameter. Please seek to find the optimal scale parameter that provides good visualization.\n",
    "\n",
    "- If you don't see any vector, you can try the smaller scale parameter to magnify vector length. However, if you see large vectors in the right panel, which is a randomized simulation, it means that the scale parameters are too small."
   ]
  },
  {
   "cell_type": "code",
   "execution_count": null,
   "id": "3188cfc8-1b31-4a9d-9f06-b16c961a127c",
   "metadata": {},
   "outputs": [],
   "source": [
    "fig, ax = plt.subplots(1, 2,  figsize=[15, 7])\n",
    "\n",
    "scale_simulation =8\n",
    "# Show quiver plot\n",
    "oracle.plot_simulation_flow_on_grid(scale=scale_simulation, ax=ax[0])\n",
    "ax[0].set_title(f\"Perturbation simulation results: {goi} KO\")\n",
    "\n",
    "# Show quiver plot that was calculated with randomized GRN.\n",
    "oracle.plot_simulation_flow_random_on_grid(scale=scale_simulation, ax=ax[1])\n",
    "ax[1].set_title(f\"Perturbation simulation with randomized GRNs\")\n",
    "\n",
    "plt.show()"
   ]
  },
  {
   "cell_type": "code",
   "execution_count": null,
   "id": "e49e7b7a-af93-40eb-8007-24e36d6fd314",
   "metadata": {},
   "outputs": [],
   "source": [
    "# Plot vector field with cell cluster \n",
    "fig, ax = plt.subplots(figsize=[8, 8])\n",
    "\n",
    "oracle.plot_cluster_whole(ax=ax, s=15)\n",
    "oracle.plot_simulation_flow_on_grid(scale=scale_simulation, ax=ax, show_background=False)"
   ]
  },
  {
   "cell_type": "code",
   "execution_count": null,
   "id": "d7aac299-5b9e-4f00-9d0b-0d14ae493649",
   "metadata": {},
   "outputs": [],
   "source": [
    "goi= \"Sox9\"\n",
    "sc.pl.umap(oracle.adata, color=[goi, oracle.cluster_column_name],\n",
    "                 layer=\"imputed_count\", use_raw=False, cmap=\"viridis\")"
   ]
  },
  {
   "cell_type": "markdown",
   "id": "a3d700b2-f20b-4b3e-a6bb-92cb806c9462",
   "metadata": {},
   "source": [
    "### Compare simulation vector with development vectors\n",
    "\n",
    "As shown above, we can use celloracle's simulation to infer how TF perturbations affect cell identity. The simulation results are provided in the form of a vector field map.\n",
    "\n",
    "To interpret the results, it is necessary to take into account the direction of natural differentiation. We will compare the simulated perturbation vectors with the development vector. By comparing them, we can intuitively understand how TF is involved in cell fate determination during development. This perspective is also important for the estimation of experimental perturbation results\n",
    "\n",
    "Here, we show an example to calculate the vector field of development using pseudotime gradient. In short, the process is as follows.\n",
    "\n",
    "- Transfer pseudotime data into n x n grid point.\n",
    "\n",
    "- Calculate the 2D gradient of pseudotime to get vector field\n",
    "\n",
    "- Compare in silico TF perturbation vector field with development vector field by calculating inner product between these two vectors.\n",
    "\n",
    "Also, there are many other options to get vector field of development flow from scRNA-seq data, and you can select another option. For example, RNA velocity analysis is a good way to estimate the direction of cell differentiation. Choose the method that best suits the data.\n",
    "\n",
    "#### Pseudotime data\n",
    "\n",
    "\n",
    "In the analysis below, we need to use pseudotime data. Pseudotime data is included in the demo data. If you try to analyze your scRNA-seq data, please calculate pseudotime before starting this analysis."
   ]
  },
  {
   "cell_type": "code",
   "execution_count": null,
   "id": "37125bbd-44aa-43ca-b689-d66368221b2f",
   "metadata": {},
   "outputs": [],
   "source": [
    "# Visualize pseudotime\n",
    "fig, ax = plt.subplots(figsize=[6,6])\n",
    "\n",
    "sc.pl.embedding(adata=oracle.adata, basis=oracle.embedding_name, ax=ax, cmap=\"rainbow\",\n",
    "                color=[\"pseudotime\"])"
   ]
  },
  {
   "cell_type": "markdown",
   "id": "2fb8fe46-4665-442f-a5b1-e03b754f279a",
   "metadata": {},
   "source": [
    "#### Make `gradient_calculator` object"
   ]
  },
  {
   "cell_type": "code",
   "execution_count": null,
   "id": "c330de05-957c-4f56-8828-35fcd46ba417",
   "metadata": {},
   "outputs": [],
   "source": [
    "from celloracle.applications import Gradient_calculator\n",
    "\n",
    "# Instantiate gradient calculator object\n",
    "gradient = Gradient_calculator(oracle_object=oracle, pseudotime_key=\"pseudotime\")"
   ]
  },
  {
   "cell_type": "code",
   "execution_count": null,
   "id": "4c4ace80-5a2c-4e3b-a55d-eaefb6306bf2",
   "metadata": {},
   "outputs": [],
   "source": [
    "gradient.calculate_p_mass(smooth=0.8, n_grid=n_grid, n_neighbors=200)\n",
    "gradient.calculate_mass_filter(min_mass=min_mass, plot=True)"
   ]
  },
  {
   "cell_type": "markdown",
   "id": "469d5011-b289-44ac-9489-de2fcb778b4e",
   "metadata": {},
   "source": [
    "#### Transfer pseudotime values to the grid points\n",
    "\n",
    "Next we will transfer pseudotime data into grid points. For this calculation we can chose two methods:\n",
    "- knn: k-nearest neighbour regressor. You need to set the number of neighbours. Adjust `n_knn` searching for best results\n",
    "`gradient.transfer_data_into_grid(args={\"method\": \"knn\", \"n_knn\":50})`\n",
    "- polynomial: polynomial regression using x-axis and y-axis of dimensionality reduction space. In general this method will be more robust. Use it if k-NN does not work. `n_poly` is the number of degree for the polynomial regression model. To find the appropriate `n_poly`: \n",
    "`gradient.transfer_data_into_grid(args={\"method\": \"polynomial\", \"n_poly\":3})`\n",
    "\n"
   ]
  },
  {
   "cell_type": "code",
   "execution_count": null,
   "id": "d0c1a6f0-b1eb-48ee-a920-90817f1c31aa",
   "metadata": {},
   "outputs": [],
   "source": [
    "gradient.transfer_data_into_grid(args={\"method\": \"polynomial\", \"n_poly\":3}, plot=True)"
   ]
  },
  {
   "cell_type": "markdown",
   "id": "c86e13d1-1a80-4cc1-87bf-0e5eb3b8e8e7",
   "metadata": {},
   "source": [
    "#### Calculate gradient vectors\n",
    "\n",
    "Calculate 2D vector map that represents the gradient of pseudotime. After the gradient calculation, the length of the vector will be normalized automatically. Adjust `scale` parameter to adjust vector length."
   ]
  },
  {
   "cell_type": "code",
   "execution_count": null,
   "id": "76950397-f620-453f-a812-063dee5ed279",
   "metadata": {},
   "outputs": [],
   "source": [
    "# Calculate graddient\n",
    "gradient.calculate_gradient()\n",
    "\n",
    "# Show results\n",
    "scale_dev = 20\n",
    "gradient.visualize_results(scale=scale_dev, s=5)"
   ]
  },
  {
   "cell_type": "code",
   "execution_count": null,
   "id": "e80134c5-be56-4fcb-baea-6b9a3a497d8d",
   "metadata": {},
   "outputs": [],
   "source": [
    "# Visualize results\n",
    "fig, ax = plt.subplots(figsize=[6, 6])\n",
    "gradient.plot_dev_flow_on_grid(scale=scale_dev, ax=ax)"
   ]
  },
  {
   "cell_type": "markdown",
   "id": "c8bd7a51-66f0-4cb3-b0d0-3aada7a5ec09",
   "metadata": {},
   "source": [
    "### Calculate inner product between two vectors\n",
    "\n",
    "We will use the inner product to compare the 2D vector map of perturb-simulation and development quantitatively.\n",
    "\n",
    "If you are not familiar with Inner product / Dot product, please see https://en.wikipedia.org/wiki/Dot_product\n",
    "\n",
    "- The inner product represents the similarity between two vectors.\n",
    "\n",
    "- Using the inner product, we compare the 2D vector field of perturbation simulation and development flow.\n",
    "\n",
    "- Inner product can be a positive value when two vectors are pointing in the same direction.\n",
    "\n",
    "- Inner product can be a negative value when two vectors are pointing in the opposite direction.\n",
    "\n",
    "- The length of vector also affects the absolute value of inner product value.\n",
    "\n",
    "In summary,\n",
    "\n",
    "- a **negative inner product** means that perturbation might **block differentiation**.\n",
    "- a **positive inner product** means that perturbation might **promote differentiation**."
   ]
  },
  {
   "cell_type": "code",
   "execution_count": null,
   "id": "ea51d61c-79c5-4719-9a89-d9cff10d9f42",
   "metadata": {},
   "outputs": [],
   "source": [
    "from celloracle.applications import Oracle_development_module\n",
    "\n",
    "# Make Oracle_development_module to compare two vector field\n",
    "dev = Oracle_development_module()\n",
    "\n",
    "# Load development flow\n",
    "dev.load_differentiation_reference_data(gradient_object=gradient)\n",
    "\n",
    "# Load simulation result\n",
    "dev.load_perturb_simulation_data(oracle_object=oracle)\n",
    "\n",
    "\n",
    "# Calculate inner produc scores\n",
    "dev.calculate_inner_product()\n",
    "dev.calculate_digitized_ip(n_bins=10)"
   ]
  },
  {
   "cell_type": "markdown",
   "id": "5b753f35-9829-43da-8e27-fb6415e9b35a",
   "metadata": {},
   "source": [
    "## Show results"
   ]
  },
  {
   "cell_type": "code",
   "execution_count": null,
   "id": "6b2d95c1-d188-4cda-bf78-fc5aab58ec10",
   "metadata": {},
   "outputs": [],
   "source": [
    "# Let's visualize the results \n",
    "p1 = dev.visualize_development_module_layout_0(s=5, \n",
    "                                          scale_for_simulation=scale_simulation,\n",
    "                                          s_grid=10,\n",
    "                                          scale_for_pseudotime=scale_dev, \n",
    "                                          vm=0.02)"
   ]
  },
  {
   "cell_type": "code",
   "execution_count": null,
   "id": "290fd84b-78b0-49ee-be0a-5af950883bee",
   "metadata": {},
   "outputs": [],
   "source": [
    "fig, ax = plt.subplots(figsize=[6,6])\n",
    "\n",
    "dev.plot_inner_product_on_grid(s =12 , vm = .01, cmap = \"bwr\")"
   ]
  }
 ],
 "metadata": {
  "kernelspec": {
   "display_name": "Python [conda env:base] *",
   "language": "python",
   "name": "conda-base-py"
  },
  "language_info": {
   "codemirror_mode": {
    "name": "ipython",
    "version": 3
   },
   "file_extension": ".py",
   "mimetype": "text/x-python",
   "name": "python",
   "nbconvert_exporter": "python",
   "pygments_lexer": "ipython3",
   "version": "3.11.6"
  }
 },
 "nbformat": 4,
 "nbformat_minor": 5
}
