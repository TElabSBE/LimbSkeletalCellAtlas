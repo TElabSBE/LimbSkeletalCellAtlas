{
 "cells": [
  {
   "cell_type": "code",
   "execution_count": null,
   "id": "859b8316-79e9-4ad9-8ce1-16332bfc0ac4",
   "metadata": {},
   "outputs": [],
   "source": [
    "install.packages('harmony')"
   ]
  },
  {
   "cell_type": "code",
   "execution_count": null,
   "id": "6dfa100a-c2ae-4738-a1d2-0badb911df09",
   "metadata": {},
   "outputs": [],
   "source": [
    "library(Seurat)\n",
    "library(cowplot)\n",
    "library(harmony)"
   ]
  },
  {
   "cell_type": "code",
   "execution_count": null,
   "id": "42c1e741-34a6-4bd1-a4fc-e48cc0aa2981",
   "metadata": {},
   "outputs": [],
   "source": [
    "WT <- readRDS('WTp13.rds')\n",
    "KO <- readRDS('Mutp13.rds')"
   ]
  },
  {
   "cell_type": "code",
   "execution_count": null,
   "id": "ee3471db-2a60-4951-8658-b7ddfb98ff95",
   "metadata": {},
   "outputs": [],
   "source": [
    "WT@meta.data$Study = 'GSE162033'\n",
    "WT@meta.data$Author = 'Levebvre'\n",
    "WT@meta.data$Technology = \" 3' v3 10x\"\n",
    "WT@meta.data$DevTP = \"p13\"\n",
    "WT@meta.data$Strain = \"Unknown\"\n",
    "WT@meta.data$Tissue = \"Tibial and femur epiphyses\"\n",
    "\n",
    "WT@meta.data$`RNA_snn_res.0.5` <- NULL\n",
    "WT@meta.data$seurat_clusters <- NULL\n",
    "WT@meta.data$`RNA_snn_res.0.6` <- NULL\n",
    "WT@meta.data$`RNA_snn_res.1.2` <- NULL\n",
    "WT@meta.data$`RNA_snn_res.2` <- NULL\n",
    "WT@meta.data$`RNA_snn_res.0.15` <- NULL\n",
    "WT@meta.data$sum <- NULL\n",
    "WT@meta.data$total <- NULL\n",
    "\n",
    "WT@meta.data$percent.mt <- NULL\n",
    "WT@meta.data$Age <- NULL\n",
    "WT@meta.data$Organism= 'Mus musculus'\n",
    "WT@meta.data$`detected.1`<- NULL\n",
    "WT@meta.data$`subsets_ERCC_detected` <- NULL\n",
    "WT@meta.data$`subsets_ERCC_percent` <- NULL\n",
    "WT@meta.data$`subsets_ERCC_sum` <- NULL\n",
    "WT@meta.data$`subsets_Mito_detected` <- NULL\n",
    "WT@meta.data$`subsets_Mito_percent` <- NULL\n",
    "WT@meta.data$`subsets_Mito_sum` <- NULL\n",
    "WT@meta.data$`sum.1` <- NULL\n",
    "WT@meta.data$`total.1` <- NULL\n",
    "WT@meta.data$detected <- NULL\n",
    "WT@meta.data$ident <- NULL\n",
    "WT@meta.data$Instrument <- NULL\n",
    "WT@meta.data$orig.ident <- NULL\n",
    "WT@meta.data$`RNA_snn_res.0.8`<- NULL\n",
    "WT@meta.data$Sample_Name <- NULL\n",
    "WT@meta.data$seurat_clusters <- NULL\n",
    "WT@meta.data$subsets_ERCC_detected <- NULL\n",
    "WT@meta.data$subsets_ERCC_percent <- NULL\n",
    "WT@meta.data$subsets_ERCC_sum <- NULL\n",
    "WT@meta.data$Strain= 'WT'"
   ]
  },
  {
   "cell_type": "code",
   "execution_count": null,
   "id": "c420acd4-980c-4ff8-b3ae-37d2031e9856",
   "metadata": {},
   "outputs": [],
   "source": [
    "WT@meta.data$Batch = 'GSM4930081'\n"
   ]
  },
  {
   "cell_type": "code",
   "execution_count": null,
   "id": "9c44be05-4ab2-486d-85b0-435001a68f69",
   "metadata": {},
   "outputs": [],
   "source": [
    "head(WT@meta.data)"
   ]
  },
  {
   "cell_type": "code",
   "execution_count": null,
   "id": "7037e58e-8350-4057-9098-1a5e8c5a3a82",
   "metadata": {},
   "outputs": [],
   "source": [
    "KO@meta.data$Study = 'GSE162033'\n",
    "KO@meta.data$Batch = 'GSM4930083'\n",
    "KO@meta.data$Author = 'Levebvre'\n",
    "KO@meta.data$Technology = \" 3' v3 10x\"\n",
    "KO@meta.data$DevTP = \"p13\"\n",
    "KO@meta.data$Strain = \"Unknown\"\n",
    "KO@meta.data$Tissue = \"Tibial and femur epiphyses\"\n",
    "\n",
    "KO@meta.data$`RNA_snn_res.0.5` <- NULL\n",
    "KO@meta.data$seurat_clusters <- NULL\n",
    "KO@meta.data$`RNA_snn_res.0.6` <- NULL\n",
    "KO@meta.data$`RNA_snn_res.1.2` <- NULL\n",
    "KO@meta.data$`RNA_snn_res.2` <- NULL\n",
    "KO@meta.data$`RNA_snn_res.0.15` <- NULL\n",
    "KO@meta.data$sum <- NULL\n",
    "KO@meta.data$total <- NULL\n",
    "\n",
    "KO@meta.data$percent.mt <- NULL\n",
    "KO@meta.data$Age <- NULL\n",
    "KO@meta.data$Organism= 'Mus musculus'\n",
    "KO@meta.data$`detected.1`<- NULL\n",
    "KO@meta.data$`subsets_ERCC_detected` <- NULL\n",
    "KO@meta.data$`subsets_ERCC_percent` <- NULL\n",
    "KO@meta.data$`subsets_ERCC_sum` <- NULL\n",
    "KO@meta.data$`subsets_Mito_detected` <- NULL\n",
    "KO@meta.data$`subsets_Mito_percent` <- NULL\n",
    "KO@meta.data$`subsets_Mito_sum` <- NULL\n",
    "KO@meta.data$`sum.1` <- NULL\n",
    "KO@meta.data$`total.1` <- NULL\n",
    "KO@meta.data$detected <- NULL\n",
    "KO@meta.data$ident <- NULL\n",
    "KO@meta.data$Instrument <- NULL\n",
    "KO@meta.data$orig.ident <- NULL\n",
    "KO@meta.data$`RNA_snn_res.0.8`<- NULL\n",
    "KO@meta.data$Sample_Name <- NULL\n",
    "KO@meta.data$seurat_clusters <- NULL\n",
    "KO@meta.data$subsets_ERCC_detected <- NULL\n",
    "KO@meta.data$subsets_ERCC_percent <- NULL\n",
    "KO@meta.data$subsets_ERCC_sum <- NULL\n",
    "KO@meta.data$Strain = 'KO'\n"
   ]
  },
  {
   "cell_type": "code",
   "execution_count": null,
   "id": "7bafb384-4582-41c7-a580-4cfccd93b8a7",
   "metadata": {},
   "outputs": [],
   "source": [
    "head(KO@meta.data)"
   ]
  },
  {
   "cell_type": "code",
   "execution_count": null,
   "id": "de06e3e9-4f6d-4cb6-bc42-c46ac36b668b",
   "metadata": {},
   "outputs": [],
   "source": [
    "merged <- merge(WT, KO)"
   ]
  },
  {
   "cell_type": "code",
   "execution_count": null,
   "id": "afb90923-504e-4bdc-9dce-43ae9f084e01",
   "metadata": {},
   "outputs": [],
   "source": [
    "Idents(merged) <- merged$CellType"
   ]
  },
  {
   "cell_type": "code",
   "execution_count": null,
   "id": "c7a23a44-b7ec-407d-924b-2ef722e56c51",
   "metadata": {},
   "outputs": [],
   "source": [
    "merged <- subset(merged, idents=c('Chondroprogenitors','Resting zone chondrocytes','Proliferative chondrocytes','Pre-hypertrophic chondrocytes','Hypertrophic chondrocytes','Articular chondrocytes','Osteoprogenitors', 'Osteoblasts','Osteocytes','Periosteal Progenitors','Periosteal progenitors','Periosteum','Vascular endothelial cells'))"
   ]
  },
  {
   "cell_type": "code",
   "execution_count": null,
   "id": "0feee713-d653-4426-b073-5cbb3b495eb1",
   "metadata": {},
   "outputs": [],
   "source": [
    "merged <- NormalizeData(merged, normalization.method = \"LogNormalize\", scale.factor = 10000)\n",
    "merged <- FindVariableFeatures(merged, selection.method = \"vst\", nfeatures = 2000)"
   ]
  },
  {
   "cell_type": "code",
   "execution_count": null,
   "id": "254f6398-4230-4ab0-8768-de8ba61e9231",
   "metadata": {},
   "outputs": [],
   "source": [
    "all.genes <- rownames(merged)\n",
    "merged <- ScaleData(merged, features = all.genes)"
   ]
  },
  {
   "cell_type": "code",
   "execution_count": null,
   "id": "dc43c912-105d-4108-a2ae-61664847dd3c",
   "metadata": {},
   "outputs": [],
   "source": [
    "merged <- RunPCA(merged, features = VariableFeatures(object = merged), verbose = FALSE)\n"
   ]
  },
  {
   "cell_type": "code",
   "execution_count": null,
   "id": "5d3f056a-5091-4265-a32c-83b0b0442e1a",
   "metadata": {},
   "outputs": [],
   "source": [
    "options(repr.plot.height = 5, repr.plot.width = 12)\n",
    "p1 <- DimPlot(object = merged, reduction = \"pca\", pt.size = .1, group.by = \"Strain\")\n",
    "p2 <- VlnPlot(object = merged, features = \"PC_1\", group.by = \"Strain\",  pt.size = .1)\n",
    "plot_grid(p1,p2)"
   ]
  },
  {
   "cell_type": "code",
   "execution_count": null,
   "id": "ab0bf9f3-e033-4d2a-9024-f7b69559976c",
   "metadata": {},
   "outputs": [],
   "source": [
    "options(repr.plot.height = 2.5, repr.plot.width = 6)\n",
    "merged <- merged %>% \n",
    "    RunHarmony(\"Strain\", plot_convergence = TRUE)"
   ]
  },
  {
   "cell_type": "code",
   "execution_count": null,
   "id": "dc932071-bd1a-4868-8b72-0b6720af8930",
   "metadata": {},
   "outputs": [],
   "source": [
    "harmony_embeddings <- Embeddings(merged, 'harmony')\n",
    "harmony_embeddings[1:5, 1:5]"
   ]
  },
  {
   "cell_type": "code",
   "execution_count": null,
   "id": "99449083-ef0f-4c45-9e33-9190c8469039",
   "metadata": {},
   "outputs": [],
   "source": [
    "options(repr.plot.height = 5, repr.plot.width = 12)\n",
    "p1 <- DimPlot(object = merged, reduction = \"harmony\", pt.size = .1, group.by = \"Strain\")\n",
    "p2 <- VlnPlot(object = merged, features = \"harmony_2\", group.by = \"Strain\",pt.size = .1)\n",
    "plot_grid(p1,p2)"
   ]
  },
  {
   "cell_type": "code",
   "execution_count": null,
   "id": "659e996c-a6de-4435-b270-86f386b808ea",
   "metadata": {},
   "outputs": [],
   "source": [
    "merged <- merged %>% \n",
    "    RunUMAP(reduction = \"harmony\", dims = 1:30) %>% \n",
    "    FindNeighbors(reduction = \"harmony\", dims = 1:30) %>% \n",
    "    FindClusters(resolution = 0.5) %>% \n",
    "    identity()"
   ]
  },
  {
   "cell_type": "code",
   "execution_count": null,
   "id": "5a7c292f-3bd0-478e-8074-42465354c7ac",
   "metadata": {},
   "outputs": [],
   "source": [
    "options(repr.plot.height = 4, repr.plot.width = 10)\n",
    "DimPlot(merged, reduction = \"umap\", group.by = \"Strain\", pt.size = 1, split.by = 'Strain')"
   ]
  },
  {
   "cell_type": "code",
   "execution_count": null,
   "id": "202e97e7-b224-4276-bf8e-fbb723cdb275",
   "metadata": {},
   "outputs": [],
   "source": [
    "Idents(merged) <- merged$CellType "
   ]
  },
  {
   "cell_type": "code",
   "execution_count": null,
   "id": "4d1fdbb4-598c-4bc0-80f8-23b573e0574d",
   "metadata": {},
   "outputs": [],
   "source": [
    "merged <- RenameIdents(object = merged, `Chondroprogenitors` = \"7 - Chondroprogenitors\")\n",
    "\n",
    "merged <- RenameIdents(object = merged, `Resting zone chondrocytes` = \"9 - Resting zone chondrocytes\")\n",
    "\n",
    "merged <- RenameIdents(object = merged, `Proliferative chondrocytes` = \"10 - Proliferative chondrocytes\")\n",
    "merged <- RenameIdents(object = merged, `Pre-hypertrophic chondrocytes` = \"11 - Pre-hypertrophic chondrocytes\")\n",
    "merged <- RenameIdents(object = merged, `Hypertrophic chondrocytes` = \"12 - Hypertrophic chondrocytes\")\n",
    "merged <- RenameIdents(object = merged, `Articular chondrocytes` = \"13 - Articular chondrocytes\")\n",
    "\n",
    "#merged <- RenameIdents(object = merged, `Tenocytes` = \"16 - Tenocytes\")\n",
    "merged <- RenameIdents(object = merged, `Osteoprogenitors` = \"17 - Osteoprogenitors\")\n",
    "merged <- RenameIdents(object = merged, `Osteoblasts` = \"19 - Osteoblasts\")\n",
    "merged <- RenameIdents(object = merged, `Osteocytes` = \"21 - Osteocytes\")\n",
    "merged <- RenameIdents(object = merged, `Periosteal Progenitors` = \"22 - Periosteal progenitors\")\n",
    "merged <- RenameIdents(object = merged, `Periosteal progenitors` = \"22 - Periosteal progenitors\")\n",
    "merged <- RenameIdents(object = merged, `Periosteum` = \"23 - Periosteum\")\n",
    "#merged <- RenameIdents(object = merged, `Perivascular cells` = \"30 - Perivascular cells\")\n",
    "\n",
    "merged <- RenameIdents(object = merged, `Vascular endothelial cells` = \"31 - Vascular endothelial cells\")\n",
    "\n",
    "#merged <- RenameIdents(object = merged, `Immune cells` = \"35 - Immune cells\")\n",
    "#merged <- RenameIdents(object = merged, `Erythroid cells` = \"36 - Erythroid cells\")\n",
    "\n"
   ]
  },
  {
   "cell_type": "code",
   "execution_count": null,
   "id": "1af8735a-9df9-4fe7-857c-dfdd98711e6b",
   "metadata": {},
   "outputs": [],
   "source": [
    "merged$NandC <- Idents(merged)"
   ]
  },
  {
   "cell_type": "code",
   "execution_count": null,
   "id": "e36ed51d-e7cc-4015-a276-37993052e274",
   "metadata": {},
   "outputs": [],
   "source": [
    "Idents(merged) <- merged$CellType"
   ]
  },
  {
   "cell_type": "code",
   "execution_count": null,
   "id": "c505bea7-f250-4dca-bdb0-d9d52921b119",
   "metadata": {},
   "outputs": [],
   "source": [
    "merged <- RenameIdents(object = merged, `Chondroprogenitors` = \"7\")\n",
    "\n",
    "merged <- RenameIdents(object = merged, `Resting zone chondrocytes` = \"9\")\n",
    "\n",
    "merged <- RenameIdents(object = merged, `Proliferative chondrocytes` = \"10\")\n",
    "merged <- RenameIdents(object = merged, `Pre-hypertrophic chondrocytes` = \"11\")\n",
    "merged <- RenameIdents(object = merged, `Hypertrophic chondrocytes` = \"12\")\n",
    "merged <- RenameIdents(object = merged, `Articular chondrocytes` = \"13\")\n",
    "\n",
    "#merged <- RenameIdents(object = merged, `Tenocytes` = \"16\")\n",
    "merged <- RenameIdents(object = merged, `Osteoprogenitors` = \"17\")\n",
    "merged <- RenameIdents(object = merged, `Osteoblasts` = \"19\")\n",
    "merged <- RenameIdents(object = merged, `Osteocytes` = \"21\")\n",
    "merged <- RenameIdents(object = merged, `Periosteal Progenitors` = \"22\")\n",
    "merged <- RenameIdents(object = merged, `Periosteal progenitors` = \"22\")\n",
    "merged <- RenameIdents(object = merged, `Periosteum` = \"23\")\n",
    "#merged <- RenameIdents(object = merged, `Perivascular cells` = \"30\")\n",
    "\n",
    "merged <- RenameIdents(object = merged, `Vascular endothelial cells` = \"31\")\n",
    "\n",
    "#merged <- RenameIdents(object = merged, `Immune cells` = \"35\")\n",
    "#merged <- RenameIdents(object = merged, `Erythroid cells` = \"36\")\n",
    "\n"
   ]
  },
  {
   "cell_type": "code",
   "execution_count": null,
   "id": "d879583a-f24f-4950-9c51-b8c78766e508",
   "metadata": {},
   "outputs": [],
   "source": [
    "merged$Numbers <- Idents(merged)"
   ]
  },
  {
   "cell_type": "code",
   "execution_count": null,
   "id": "203a3b60-6500-476f-b091-614f5802a837",
   "metadata": {},
   "outputs": [],
   "source": [
    "Idents(merged) <- merged$CellType"
   ]
  },
  {
   "cell_type": "code",
   "execution_count": null,
   "id": "98ea6d88-8c59-44c7-a871-87e7c3ade713",
   "metadata": {},
   "outputs": [],
   "source": [
    "suppressPackageStartupMessages({\n",
    "    library(DropletUtils)\n",
    "    library(SingleCellExperiment)\n",
    "    library(scuttle)\n",
    "    library(Seurat)\n",
    "    library(SeuratWrappers)\n",
    "    library(stringr)\n",
    "    library(dplyr)\n",
    "    library(data.table)\n",
    "    library(Matrix)\n",
    "    library(patchwork)\n",
    "    library(ggplot2)\n",
    "    library(sceasy)\n",
    "})\n",
    "\n",
    "options(repr.plot.width = 16, repr.plot.height = 8)"
   ]
  },
  {
   "cell_type": "code",
   "execution_count": null,
   "id": "73e99d57-4ed9-4820-8ca5-9e12ee4350a0",
   "metadata": {},
   "outputs": [],
   "source": [
    "options(repr.plot.width = 12, repr.plot.height = 10)\n",
    "p1 <- DimPlot(merged, group.by='Numbers', label.color = 'white', label.box = TRUE, reduction = \"umap\",order = c('39','38','37','36','35','34','33','32','31','30','29','28','27','26','25','24','23','22','21','20','19','18','17','16','15','14','13','12','11','10','9','8','7','6','5','4','3','2','1'), pt.size = 0.3, label = T , label.size=8, repel=TRUE, raster=FALSE, \n",
    "              cols= c('1'='#66C2A5',\n",
    "    '2'='#F781BF',\n",
    "    '3'='#B3DE69',\n",
    "    '4'='#8DA0CB',\n",
    "    '5'='#949086',\n",
    "    '6'='#FFCCCB',\n",
    "    '7'='#666666',\n",
    "    '8'='#B3B3B3',\n",
    "    '9'='#8DD3C7',\n",
    "    '10'='#D4A6CD',\n",
    "    '11'='#FB8072',\n",
    "    '12'='#FFD700',\n",
    "    '13'='#0B0F5E',\n",
    "    '14'='#377EB8',\n",
    "    '15'='#FDB462',\n",
    "    '16'='#DD2400',\n",
    "    '17'='#FFFF33',\n",
    "    '18'='#A65628',\n",
    "    '19'='#FF7F50',\n",
    "    '20'='#90EE90',\n",
    "    '21'='#003e00',\n",
    "    '22'='#FFD92F',\n",
    "    '23'='#FF7F00',\n",
    "    '24'='#502c49',\n",
    "    '25'='#A6D854',\n",
    "    '26'='#B3B3B3',\n",
    "    '27'='#5E885e',\n",
    "    '28'='#961900',\n",
    "    '29'='#F845a3',\n",
    "    '30'='#8DA0CB',\n",
    "    '31'='#7e18c6',\n",
    "    '32'='#B0D30A',\n",
    "    '33'='#640738',\n",
    "    '34'='#A2CFFE',\n",
    "    '35'='#66C2A5',\n",
    "    '36'='#4B0082',\n",
    "    '37'='#B15928',\n",
    "    '38'='#A0d4a4',\n",
    "    '39'='#8B4513',\n",
    "   '40'='#1F78B4',\n",
    "    '41'='#4B0082',\n",
    "    '42'='#AD8530')) +\n",
    "        xlab(\"UMAP 1\") + ylab(\"UMAP 2\") +NoLegend() +\n",
    "        theme(axis.title = element_text(size = 15)) +\n",
    "        theme(plot.title = element_blank()) +\n",
    "        theme(axis.text.x = element_blank(),\n",
    "              axis.ticks.x = element_blank(),\n",
    "              axis.text.y = element_blank(),\n",
    "              axis.ticks.y = element_blank())    \n",
    "\n",
    "p1 "
   ]
  },
  {
   "cell_type": "code",
   "execution_count": null,
   "id": "4b6aad6a-61a4-4161-a11a-54ab43c3ea34",
   "metadata": {},
   "outputs": [],
   "source": [
    "ggsave(file=\"/home/jovyan/researcher_home/Documents/Tom/Atlas/output/Subset_KOandWT_Numbers_Harmony_labels.svg\", width=10, height=10)\n"
   ]
  },
  {
   "cell_type": "code",
   "execution_count": null,
   "id": "b7172662-8175-45d7-995b-822c29065724",
   "metadata": {},
   "outputs": [],
   "source": [
    "options(repr.plot.width = 20, repr.plot.height = 10)\n",
    "p1 <- DimPlot(merged, group.by='NandC',reduction = \"umap\",order = c('39 - Keratinocytes', '38 - Neurons', '37 - Platelets', '36 - Erythroid cells', '35 - Immune cells', '34 - Epithelial cells', '33 - AER', '32 - Lymphatic endothelial cells', '31 - Vascular endothelial cells', '30 - Perivascular cells', '29 - Skeletal muscle cells', '28 - Muscle progenitors', '27 - Myogenic stem cells', '26 - Fibroblasts', '25 - Osteoclasts', '24 - Endosteum', '23 - Periosteum', '22 - Periosteal progenitors', '21 - Osteocytes', '20 - Fast proliferating osteoblasts', '19 - Osteoblasts', '18 - Pre-osteoblasts', '17 - Osteoprogenitors', '16 - Tenocytes', '15 - Tenocyte precursors', '14 - Joint precursors', '13 - Articular chondrocytes', '12 - Hypertrophic chondrocytes', '11 - Pre-hypertrophic chondrocytes', '10 - Proliferative chondrocytes', '9 - Resting zone chondrocytes', '8 - Chondrocytes', '7 - Chondroprogenitors', '6 - Fast proliferating cells', '5 - ZPA', '4 - Distal limb bud mesenchyme', '3 - Intermediate limb bud mesenchyme', '2 - Proximal limb bud mesenchyme', '1 - BMSCs')\n",
    ", pt.size = 0.3, split.by= 'Strain', label = F , label.size=6 ,label.color = 'black', repel=TRUE, raster=FALSE, cols= c(`1 - BMSCs` = \"#66C2A5\",\n",
    "`2 - Proximal limb bud mesenchyme` = \"#F781BF\",\n",
    "`3 - Intermediate limb bud mesenchyme` = \"#B3DE69\",\n",
    "`4 - Distal limb bud mesenchyme` = \"#8DA0CB\",\n",
    "`5 - ZPA` = \"#949086\",\n",
    "`6 - Fast proliferating cells` = \"#FFCCCB\",\n",
    "`7 - Chondroprogenitors` = \"#666666\",\n",
    "`8 - Chondrocytes` = \"#B3B3B3\",\n",
    "`9 - Resting zone chondrocytes` = \"#8DD3C7\",\n",
    "`10 - Proliferative chondrocytes` = \"#D4A6CD\",\n",
    "`11 - Pre-hypertrophic chondrocytes` = \"#FB8072\",\n",
    "`12 - Hypertrophic chondrocytes` = \"#FFD700\",\n",
    "`13 - Articular chondrocytes` = \"#0B0F5E\",\n",
    "`14 - Joint precursors` = \"#377EB8\",\n",
    "`15 - Tenocyte precursors` = \"#FDB462\",\n",
    "`16 - Tenocytes` = \"#DD2400\",\n",
    "`17 - Osteoprogenitors` = \"#FFFF33\",\n",
    "`18 - Pre-osteoblasts` = \"#A65628\",\n",
    "`19 - Osteoblasts` = \"#FF7F50\",\n",
    "`20 - Fast proliferating osteoblasts` = \"#90EE90\",\n",
    "`21 - Osteocytes` = \"#003e00\",\n",
    "`22 - Periosteal progenitors` = \"#FFD92F\",\n",
    "`23 - Periosteum` = \"#FF7F00\",\n",
    "`24 - Endosteum` = \"#502c49\",\n",
    "`25 - Osteoclasts` = \"#A6D854\",\n",
    "`26 - Fibroblasts` = \"#B3B3B3\",\n",
    "`27 - Myogenic stem cells` = \"#5E885e\",\n",
    "`28 - Muscle progenitors` = \"#961900\",\n",
    "`29 - Skeletal muscle cells` = \"#F845a3\",\n",
    "`30 - Perivascular cells` = \"#8DA0CB\",\n",
    "`31 - Vascular endothelial cells` = \"#7e18c6\",\n",
    "`32 - Lymphatic endothelial cells` = \"#B0D30A\",\n",
    "`33 - AER` = \"#640738\",\n",
    "`34 - Epithelial cells` = \"#A2CFFE\",\n",
    "`35 - Immune cells` = \"#66C2A5\",\n",
    "`36 - Erythroid cells` = \"#D4A6CD\",\n",
    "`37 - Platelets` = \"#B15928\",\n",
    "`38 - Neurons` = \"#A0d4a4\",\n",
    "`39 - Keratinocytes` = \"#8B4513\"\n",
    ")) +\n",
    "        xlab(\"UMAP 1\") + ylab(\"UMAP 2\") +\n",
    "        theme(axis.title = element_text(size = 15)) +\n",
    "        theme(plot.title = element_blank()) +\n",
    "        theme(axis.text.x = element_blank(),\n",
    "              axis.ticks.x = element_blank(),\n",
    "              axis.text.y = element_blank(),\n",
    "              axis.ticks.y = element_blank())    \n",
    "\n",
    "p1 "
   ]
  },
  {
   "cell_type": "code",
   "execution_count": null,
   "id": "7ca04d73-b4f2-42d4-b01c-3dbac61626e3",
   "metadata": {},
   "outputs": [],
   "source": [
    "library(viridis)"
   ]
  },
  {
   "cell_type": "code",
   "execution_count": null,
   "id": "b01b0f4b-1758-4642-a23f-37b1428cf59d",
   "metadata": {},
   "outputs": [],
   "source": [
    "Idents(merged) <- merged$Strain"
   ]
  },
  {
   "cell_type": "code",
   "execution_count": null,
   "id": "1146f33f-200d-4a67-bed0-f73cac47bbaf",
   "metadata": {},
   "outputs": [],
   "source": [
    "merged$Strain <-as.factor(merged$Strain)"
   ]
  },
  {
   "cell_type": "code",
   "execution_count": null,
   "id": "5d8e01cd-d5d5-4805-ad73-7ff70d9b46f7",
   "metadata": {},
   "outputs": [],
   "source": [
    "head(merged$CellType)"
   ]
  },
  {
   "cell_type": "code",
   "execution_count": null,
   "id": "6a619088-a566-44bc-a5a3-79ac3ebd9105",
   "metadata": {},
   "outputs": [],
   "source": [
    "options(repr.plot.width = 10, repr.plot.height = 10)\n",
    "g2 <- WhichCells(merged, idents = (\"WT\"))\n",
    "g3 <- WhichCells(merged, idents = (\"KO\"))\n",
    "\n",
    "p1 <- DimPlot(merged,split.by='Strain', group.by='CellType',reduction = 'umap', label = FALSE , raster=F, label.size = 8, cells.highlight = list(g3,g2), cols.highlight = c(\"darkred\", \"darkred\"),cols='grey') + xlab(\"UMAP 1\") + ylab(\"UMAP 2\") + NoLegend()\n",
    "p1\n",
    "\n",
    "\n"
   ]
  }
 ],
 "metadata": {
  "kernelspec": {
   "display_name": "R [conda env:base] *",
   "language": "R",
   "name": "conda-base-r"
  },
  "language_info": {
   "codemirror_mode": "r",
   "file_extension": ".r",
   "mimetype": "text/x-r-source",
   "name": "R",
   "pygments_lexer": "r",
   "version": "4.3.2"
  }
 },
 "nbformat": 4,
 "nbformat_minor": 5
}
