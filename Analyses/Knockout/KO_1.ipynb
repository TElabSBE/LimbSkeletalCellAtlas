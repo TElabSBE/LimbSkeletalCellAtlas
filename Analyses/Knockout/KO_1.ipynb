{
 "cells": [
  {
   "cell_type": "code",
   "execution_count": null,
   "id": "420940c0-5b2a-4c35-ad6c-542dcab2bd10",
   "metadata": {},
   "outputs": [],
   "source": [
    "suppressPackageStartupMessages({\n",
    "    library(DropletUtils)\n",
    "    library(SingleCellExperiment)\n",
    "    library(scuttle)\n",
    "    library(Seurat)\n",
    "    library(SeuratWrappers)\n",
    "    library(stringr)\n",
    "    library(dplyr)\n",
    "    library(data.table)\n",
    "    library(Matrix)\n",
    "    library(patchwork)\n",
    "    library(ggplot2)\n",
    "    library(sceasy)\n",
    "})\n",
    "\n",
    "options(repr.plot.width = 16, repr.plot.height = 8)"
   ]
  },
  {
   "cell_type": "code",
   "execution_count": null,
   "id": "42130006-9825-40f6-9210-2cc6a09d64eb",
   "metadata": {},
   "outputs": [],
   "source": [
    "Atlas <- readRDS('Atlas.Rds')"
   ]
  },
  {
   "cell_type": "code",
   "execution_count": null,
   "id": "4f16566b-3e24-4251-b722-75668270caf8",
   "metadata": {},
   "outputs": [],
   "source": [
    "Idents(Atlas) <- Atlas@meta.data$CellType"
   ]
  },
  {
   "cell_type": "code",
   "execution_count": null,
   "id": "2555a2d6-09e1-4a52-bbb0-1fa62742faca",
   "metadata": {},
   "outputs": [],
   "source": [
    "head(Idents(Atlas))"
   ]
  },
  {
   "cell_type": "code",
   "execution_count": null,
   "id": "cb1be9ce-5c44-43a8-8045-84ad3055f4a5",
   "metadata": {},
   "outputs": [],
   "source": [
    "mesenchymal_subset <- subset(Atlas, idents=c('Periosteal progenitors','Periosteum','Endosteum','Resting zone chondrocytes','Proliferative chondrocytes','Pre-hypertrophic chondrocytes','Hypertrophic chondrocytes','Chondrocytes','Chondroprogenitors','Osteoprogenitors','Pre-osteoblasts','Osteoblasts','Osteocytes','Vascular endothelial cells','Lymphatic endothelial cells','Proximal limb bud mesenchyme','Intermediate limb bud mesenchyme','Distal limb bud mesenchyme','Myogenic stem cells','Muscle progenitors','Skeletal muscle cells'))"
   ]
  },
  {
   "cell_type": "code",
   "execution_count": null,
   "id": "3e7efb8c-d2b6-4065-9708-7448ce6b4205",
   "metadata": {},
   "outputs": [],
   "source": [
    "Idents(mesenchymal_subset) <- as.factor(mesenchymal_subset$DevTP)"
   ]
  },
  {
   "cell_type": "code",
   "execution_count": null,
   "id": "e763c1db-4c2d-49a1-bf78-388f81df8ce1",
   "metadata": {},
   "outputs": [],
   "source": [
    "head(Idents(mesenchymal_subset))"
   ]
  },
  {
   "cell_type": "code",
   "execution_count": null,
   "id": "97e70a60-7563-405b-9223-c2b521fd2181",
   "metadata": {},
   "outputs": [],
   "source": [
    "dev_subset <- subset(mesenchymal_subset, idents=c('P13','P6','E18.5','E15.5','E13.5','E12.5','E11.5','E10.5','P21'))"
   ]
  },
  {
   "cell_type": "code",
   "execution_count": null,
   "id": "23d4984a-4ab2-47af-9f91-6b06fb0e00f0",
   "metadata": {},
   "outputs": [],
   "source": [
    "dev_subset$DevTP <- droplevels.factor(dev_subset$DevTP)"
   ]
  },
  {
   "cell_type": "code",
   "execution_count": null,
   "id": "0909d0af-8abb-4163-abf0-8ffc5468359e",
   "metadata": {},
   "outputs": [],
   "source": [
    "dev_subset@reductions$UMAP <- dev_subset@reductions$mde_scanvi"
   ]
  },
  {
   "cell_type": "code",
   "execution_count": null,
   "id": "aad0562e-80a8-4744-a925-cf7320e5d592",
   "metadata": {},
   "outputs": [],
   "source": [
    "plot_cells(cds, label_groups_by_cluster=FALSE,  color_cells_by = \"CellType\", reduction_method = 'UMAP')"
   ]
  },
  {
   "cell_type": "code",
   "execution_count": null,
   "id": "24835162-a6f3-41b7-a35a-a83cdedaaefb",
   "metadata": {},
   "outputs": [],
   "source": [
    "dev_subset"
   ]
  },
  {
   "cell_type": "code",
   "execution_count": null,
   "id": "1244aaa1-8e65-4883-a5a8-c9745a9cc476",
   "metadata": {},
   "outputs": [],
   "source": [
    "cds <- as.cell_data_set(GP)\n"
   ]
  },
  {
   "cell_type": "code",
   "execution_count": null,
   "id": "3e21925b-d683-4c74-965d-4fc699d5cbfd",
   "metadata": {},
   "outputs": [],
   "source": [
    "cds <- cluster_cells(cds)\n"
   ]
  },
  {
   "cell_type": "code",
   "execution_count": null,
   "id": "a7c10fc3-59b9-465e-85cb-94f0fca0dbfa",
   "metadata": {},
   "outputs": [],
   "source": [
    "cds <- learn_graph(cds)\n"
   ]
  },
  {
   "cell_type": "code",
   "execution_count": null,
   "id": "6b2cb56c-3264-4a80-8fe4-ad95ed57aff0",
   "metadata": {},
   "outputs": [],
   "source": [
    "plot_cells(cds, color_cells_by = \"CellType\",label_groups_by_cluster=FALSE,label_leaves=FALSE, label_branch_points=FALSE)\n"
   ]
  },
  {
   "cell_type": "code",
   "execution_count": null,
   "id": "dc14ee87-71d3-4538-b278-585a59d8e820",
   "metadata": {},
   "outputs": [],
   "source": [
    "cds <- order_cells(cds)\n"
   ]
  },
  {
   "cell_type": "code",
   "execution_count": null,
   "id": "eb155d8e-b9e1-41fc-a236-4586f8dd6576",
   "metadata": {},
   "outputs": [],
   "source": [
    "dev_subset@meta.data$pseudotime <- pseudotime(cds)\n"
   ]
  },
  {
   "cell_type": "code",
   "execution_count": null,
   "id": "90c1acee-927f-451a-b33c-6a6ed8f10f8c",
   "metadata": {},
   "outputs": [],
   "source": [
    "head(dev_subset@meta.data$pseudotime)"
   ]
  },
  {
   "cell_type": "code",
   "execution_count": null,
   "id": "af0c17f1-c4de-45f0-85b0-839d9b71f091",
   "metadata": {},
   "outputs": [],
   "source": [
    "sceasy::convertFormat(dev_subset, from=\"seurat\", to=\"anndata\",\n",
    "                       outFile='KO.h5ad')"
   ]
  },
  {
   "cell_type": "code",
   "execution_count": null,
   "id": "61585e34-c292-42be-8df6-a3f9a6e29fbc",
   "metadata": {},
   "outputs": [],
   "source": [
    "dev_subset"
   ]
  },
  {
   "cell_type": "code",
   "execution_count": null,
   "id": "afb1aa99-9e69-41d5-98cf-88fce183ba08",
   "metadata": {},
   "outputs": [],
   "source": [
    "options(repr.plot.width = 17, repr.plot.height = 10)\n",
    "p1 <- DimPlot(dev_subset, group.by='NandC',reduction = \"mde_scanvi\",order = c('39 - Keratinocytes', '38 - Neurons', '37 - Platelets', '36 - Erythroid cells', '35 - Immune cells', '34 - Epithelial cells', '33 - AER', '32 - Lymphatic endothelial cells', '31 - Vascular endothelial cells', '30 - Perivascular cells', '29 - Skeletal muscle cells', '28 - Muscle progenitors', '27 - Myogenic stem cells', '26 - Fibroblasts', '25 - Osteoclasts', '24 - Endosteum', '23 - Periosteum', '22 - Periosteal progenitors', '21 - Osteocytes', '20 - Fast proliferating osteoblasts', '19 - Osteoblasts', '18 - Pre-osteoblasts', '17 - Osteoprogenitors', '16 - Tenocytes', '15 - Tenocyte precursors', '14 - Joint precursors', '13 - Articular chondrocytes', '12 - Hypertrophic chondrocytes', '11 - Pre-hypertrophic chondrocytes', '10 - Proliferative chondrocytes', '9 - Resting zone chondrocytes', '8 - Chondrocytes', '7 - Chondroprogenitors', '6 - Fast proliferating cells', '5 - ZPA', '4 - Distal limb bud mesenchyme', '3 - Intermediate limb bud mesenchyme', '2 - Proximal limb bud mesenchyme', '1 - BMSCs')\n",
    ", pt.size = 0.3, label = F , label.size=6 ,label.color = 'black', repel=TRUE, raster=FALSE, cols= c(`1 - BMSCs` = \"#66C2A5\",\n",
    "`2 - Proximal limb bud mesenchyme` = \"#F781BF\",\n",
    "`3 - Intermediate limb bud mesenchyme` = \"#B3DE69\",\n",
    "`4 - Distal limb bud mesenchyme` = \"#8DA0CB\",\n",
    "`5 - ZPA` = \"#949086\",\n",
    "`6 - Fast proliferating cells` = \"#FFCCCB\",\n",
    "`7 - Chondroprogenitors` = \"#666666\",\n",
    "`8 - Chondrocytes` = \"#B3B3B3\",\n",
    "`9 - Resting zone chondrocytes` = \"#8DD3C7\",\n",
    "`10 - Proliferative chondrocytes` = \"#D4A6CD\",\n",
    "`11 - Pre-hypertrophic chondrocytes` = \"#FB8072\",\n",
    "`12 - Hypertrophic chondrocytes` = \"#FFD700\",\n",
    "`13 - Articular chondrocytes` = \"#0B0F5E\",\n",
    "`14 - Joint precursors` = \"#377EB8\",\n",
    "`15 - Tenocyte precursors` = \"#FDB462\",\n",
    "`16 - Tenocytes` = \"#DD2400\",\n",
    "`17 - Osteoprogenitors` = \"#FFFF33\",\n",
    "`18 - Pre-osteoblasts` = \"#A65628\",\n",
    "`19 - Osteoblasts` = \"#FF7F50\",\n",
    "`20 - Fast proliferating osteoblasts` = \"#90EE90\",\n",
    "`21 - Osteocytes` = \"#003e00\",\n",
    "`22 - Periosteal progenitors` = \"#FFD92F\",\n",
    "`23 - Periosteum` = \"#FF7F00\",\n",
    "`24 - Endosteum` = \"#502c49\",\n",
    "`25 - Osteoclasts` = \"#A6D854\",\n",
    "`26 - Fibroblasts` = \"#B3B3B3\",\n",
    "`27 - Myogenic stem cells` = \"#5E885e\",\n",
    "`28 - Muscle progenitors` = \"#961900\",\n",
    "`29 - Skeletal muscle cells` = \"#F845a3\",\n",
    "`30 - Perivascular cells` = \"#8DA0CB\",\n",
    "`31 - Vascular endothelial cells` = \"#7e18c6\",\n",
    "`32 - Lymphatic endothelial cells` = \"#B0D30A\",\n",
    "`33 - AER` = \"#640738\",\n",
    "`34 - Epithelial cells` = \"#A2CFFE\",\n",
    "`35 - Immune cells` = \"#66C2A5\",\n",
    "`36 - Erythroid cells` = \"#D4A6CD\",\n",
    "`37 - Platelets` = \"#B15928\",\n",
    "`38 - Neurons` = \"#A0d4a4\",\n",
    "`39 - Keratinocytes` = \"#8B4513\"\n",
    ")) +\n",
    "        xlab(\"UMAP 1\") + ylab(\"UMAP 2\") +\n",
    "        theme(axis.title = element_text(size = 15)) +\n",
    "        theme(plot.title = element_blank()) +\n",
    "        theme(axis.text.x = element_blank(),\n",
    "              axis.ticks.x = element_blank(),\n",
    "              axis.text.y = element_blank(),\n",
    "              axis.ticks.y = element_blank())    \n",
    "\n",
    "p1 "
   ]
  },
  {
   "cell_type": "code",
   "execution_count": null,
   "id": "5c3560d4-c427-469c-b2aa-978435b392ac",
   "metadata": {
    "scrolled": true
   },
   "outputs": [],
   "source": [
    "options(repr.plot.width = 10, repr.plot.height = 10)\n",
    "FeaturePlot_scCustom(seurat_object = dev_subset, reduction = 'mde_scanvi',colors_use = viridis_plasma_light_high, features = \"pseudotime\")"
   ]
  },
  {
   "cell_type": "code",
   "execution_count": null,
   "id": "a4705bbb-cd46-412f-9471-052bfb437481",
   "metadata": {},
   "outputs": [],
   "source": []
  }
 ],
 "metadata": {
  "kernelspec": {
   "display_name": "R [conda env:base] *",
   "language": "R",
   "name": "conda-base-r"
  },
  "language_info": {
   "codemirror_mode": "r",
   "file_extension": ".r",
   "mimetype": "text/x-r-source",
   "name": "R",
   "pygments_lexer": "r",
   "version": "4.3.2"
  }
 },
 "nbformat": 4,
 "nbformat_minor": 5
}
