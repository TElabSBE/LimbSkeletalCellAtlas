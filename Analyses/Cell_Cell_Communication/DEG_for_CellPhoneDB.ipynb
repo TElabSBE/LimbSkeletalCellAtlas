{
 "cells": [
  {
   "cell_type": "markdown",
   "id": "4635d7d0-b86a-4abb-90ec-ccc2d06c4377",
   "metadata": {},
   "source": [
    "# Step 0 - prepare your data\n",
    "Prepare cellphoneDB inputs starting from a seurat object object"
   ]
  },
  {
   "cell_type": "code",
   "execution_count": null,
   "id": "460c5845-76cb-4418-8260-fef9b6d9d6b4",
   "metadata": {},
   "outputs": [],
   "source": [
    "\n",
    "library(Seurat)\n",
    "library(SeuratObject)\n",
    "library(Matrix)"
   ]
  },
  {
   "cell_type": "markdown",
   "id": "ec7db83e-23d4-42e1-9b5d-0ad66f770033",
   "metadata": {},
   "source": [
    "## 1. Load seurat object\n",
    "The seurat object contains counts that have been normalized (per cell) and log-transformed. If your data are raw counts, please normalize accordingly"
   ]
  },
  {
   "cell_type": "markdown",
   "id": "f9cb9142-6ba9-4fb1-a7ad-6bd3d053b89d",
   "metadata": {},
   "source": [
    "# E10.5"
   ]
  },
  {
   "cell_type": "code",
   "execution_count": null,
   "id": "2ad4399f-aace-421f-bfc6-6c590d156f07",
   "metadata": {},
   "outputs": [],
   "source": [
    "Atlas = readRDS('Atlashumanized_E10.5.Rds')"
   ]
  },
  {
   "cell_type": "code",
   "execution_count": null,
   "id": "90e66703-adbb-4ca9-adef-2922d4721a16",
   "metadata": {},
   "outputs": [],
   "source": [
    "so <- NormalizeData(Atlas, verbose = FALSE)"
   ]
  },
  {
   "cell_type": "code",
   "execution_count": null,
   "id": "121ce2e1-97f8-4883-b0f4-6dd91bad8487",
   "metadata": {},
   "outputs": [],
   "source": [
    "so"
   ]
  },
  {
   "cell_type": "markdown",
   "id": "e5eaabaf-e358-498c-a54f-93e90aa82349",
   "metadata": {},
   "source": [
    "## 2. Write gene expression in mtx format"
   ]
  },
  {
   "cell_type": "code",
   "execution_count": null,
   "id": "39eb3ae7-1736-4fb2-89e0-2bcab5bf8dc0",
   "metadata": {},
   "outputs": [],
   "source": [
    "# Save normalised counts - NOT scaled!\n",
    "writeMM(so@assays$RNA@data, file = '/home/jovyan/researcher_home/Documents/Tom/Atlas/data/Cell-cell_communication/E10.5/matrix.mtx')\n",
    "# save gene and cell names\n",
    "write(x = rownames(so@assays$RNA@data), file = \"/home/jovyan/researcher_home/Documents/Tom/Atlas/data/Cell-cell_communication/E10.5/features.tsv\")\n",
    "write(x = colnames(so@assays$RNA@data), file = \"/home/jovyan/researcher_home/Documents/Tom/Atlas/data/Cell-cell_communication/E10.5/barcodes.tsv\")"
   ]
  },
  {
   "cell_type": "markdown",
   "id": "ef9a15ad-3dbe-45f0-94d9-cc00026ed1e5",
   "metadata": {},
   "source": [
    "## 3. Generate your meta\n",
    "In this example, our input is an anndata containing the cluster/celltype information in metadat$'cell_type'\n",
    "\n",
    "The object also has metadat$'lineage' information wich will be used below for a hierarchical DEGs approach."
   ]
  },
  {
   "cell_type": "code",
   "execution_count": null,
   "id": "5bdd913d-672a-49b3-97d5-e715676c56d6",
   "metadata": {},
   "outputs": [],
   "source": [
    "table(so@meta.data$CellType)"
   ]
  },
  {
   "cell_type": "code",
   "execution_count": null,
   "id": "b34897d1-ea5f-4719-9033-c214d7a7e06d",
   "metadata": {},
   "outputs": [],
   "source": [
    "so@meta.data$Cell = rownames(so@meta.data)\n",
    "df = so@meta.data[, c('Cell','CellType')]\n",
    "write.table(df, file ='E10.5_meta.tsv', sep = '\\t', quote = F, row.names = F)"
   ]
  },
  {
   "cell_type": "markdown",
   "id": "53b1efbd-f547-432f-94ce-5235e009c5eb",
   "metadata": {},
   "source": [
    "## 4. Compute DEGs (optional)\n",
    "\n",
    "Use Seurat `FindAllMarkers` to compute differentially expressed genes and extract the corresponding data frame `DEGs`.\n",
    "Here there are three options you may be interested on:\n",
    "1. Identify DEGs for each cell type (compare cell type vs rest, most likely option) \n",
    "2. Identify DEGs for each cell type using a per-lineage hierarchycal approach (compare cell type vs rest in the lineage, such as in endometrium paper Garcia-Alonso et al 2021)\n",
    "\n",
    "In the endometrium paper (Garcia-Alonso et al 2021) we're interested in the differences within the stromal and epithelial lineages, rather than the commonalities (example, what is specific of epithelials in the glands compared to epithelials in the lumen). The reason is that epithelial and stromal subtypes vary in space and type and thus we wanna extract the subtile differences within the lineage to better understand their differential location/ biological role.\n"
   ]
  },
  {
   "cell_type": "code",
   "execution_count": null,
   "id": "d818f3f5-04b5-4cec-93ea-757850df384a",
   "metadata": {},
   "outputs": [],
   "source": [
    "Idents(so) <- so$CellType"
   ]
  },
  {
   "cell_type": "code",
   "execution_count": null,
   "id": "72d8eaa1-3e7a-4a73-afd0-9ca9f5652f82",
   "metadata": {
    "tags": []
   },
   "outputs": [],
   "source": [
    "# OPTION 1 - compute DEGs for all cell types\n",
    "# Extract DEGs for each cell_type\n",
    " DEGs <- FindAllMarkers(so, \n",
    "                        test.use = 'LR', \n",
    "                        verbose = F, \n",
    "                        only.pos = T, \n",
    "                        random.seed = 1, \n",
    "                        logfc.threshold = 0.2, \n",
    "                        min.pct = 0.1, \n",
    "                        return.thresh = 0.05)"
   ]
  },
  {
   "cell_type": "code",
   "execution_count": null,
   "id": "0d525aa7-05a8-4a44-b8ea-2c039bb63364",
   "metadata": {},
   "outputs": [],
   "source": [
    " 'BMP7' %in% rownames(so@assays$RNA@counts)"
   ]
  },
  {
   "cell_type": "code",
   "execution_count": null,
   "id": "4e6cfec1-1e82-4ba9-a8af-c0956480e788",
   "metadata": {
    "tags": []
   },
   "outputs": [],
   "source": [
    "DEGs"
   ]
  },
  {
   "cell_type": "code",
   "execution_count": null,
   "id": "38426174-ed4b-4754-b239-43bcd98475e2",
   "metadata": {},
   "outputs": [],
   "source": [
    "fDEGs = subset(DEGs, p_val_adj < 0.05 & avg_log2FC > 0.1)\n",
    "\n",
    "# 1st column = cluster; 2nd column = gene \n",
    "fDEGs = fDEGs[, c('cluster', 'gene', 'p_val_adj', 'p_val', 'avg_log2FC', 'pct.1', 'pct.2')] \n",
    "write.table(fDEGs, file ='/home/jovyan/researcher_home/Documents/Tom/Atlas/data/Cell-cell_communication/E10.5/E10.5_DEGs.tsv', sep = '\\t', quote = F, row.names = F)"
   ]
  },
  {
   "cell_type": "code",
   "execution_count": null,
   "id": "86e0cf7a-d78a-4863-88fc-6b8bfc73fa15",
   "metadata": {},
   "outputs": [],
   "source": [
    "head(fDEGs)"
   ]
  },
  {
   "cell_type": "code",
   "execution_count": null,
   "id": "6dca1135-d9a0-40c0-a366-6d487a63b960",
   "metadata": {},
   "outputs": [],
   "source": [
    " 'BMP7' %in% rownames(fDEGs)"
   ]
  },
  {
   "cell_type": "markdown",
   "id": "60343f4d-9d85-4556-accb-25ff74a696f4",
   "metadata": {},
   "source": [
    "# E11.5"
   ]
  },
  {
   "cell_type": "code",
   "execution_count": null,
   "id": "62b3f8ed-edcd-43f9-93f4-8a852258270d",
   "metadata": {},
   "outputs": [],
   "source": [
    "Atlas = readRDS('Atlashumanized_E11.5.Rds')"
   ]
  },
  {
   "cell_type": "code",
   "execution_count": null,
   "id": "70758f3c-8f55-44e5-b759-7d805556839a",
   "metadata": {},
   "outputs": [],
   "source": [
    "Idents(Atlas) <- Atlas@meta.data$DevTP"
   ]
  },
  {
   "cell_type": "code",
   "execution_count": null,
   "id": "549f684c-238c-437c-9bef-339c5814a8c0",
   "metadata": {},
   "outputs": [],
   "source": [
    "so <- subset(Atlas, idents = c('E11.5'))"
   ]
  },
  {
   "cell_type": "code",
   "execution_count": null,
   "id": "20ce4f74-c662-4135-8a01-454a7288cd45",
   "metadata": {},
   "outputs": [],
   "source": [
    "so <- NormalizeData(object = Atlas)"
   ]
  },
  {
   "cell_type": "code",
   "execution_count": null,
   "id": "df709ec6-1847-4dc2-bb5f-40e0f739a0b4",
   "metadata": {},
   "outputs": [],
   "source": [
    "so"
   ]
  },
  {
   "cell_type": "markdown",
   "id": "bc0546e2-37ff-42ce-9352-647c4d5e308b",
   "metadata": {},
   "source": [
    "## 2. Write gene expression in mtx format"
   ]
  },
  {
   "cell_type": "code",
   "execution_count": null,
   "id": "05fca12c-125b-4d77-b427-c6f675ef5ccc",
   "metadata": {},
   "outputs": [],
   "source": [
    "# Save normalised counts - NOT scaled!\n",
    "writeMM(so@assays$RNA@data, file = '/home/jovyan/researcher_home/Documents/Tom/Atlas/data/Cell-cell_communication/E11.5/matrix.mtx')\n",
    "# save gene and cell names\n",
    "write(x = rownames(so@assays$RNA@data), file = \"/home/jovyan/researcher_home/Documents/Tom/Atlas/data/Cell-cell_communication/E11.5/features.tsv\")\n",
    "write(x = colnames(so@assays$RNA@data), file = \"/home/jovyan/researcher_home/Documents/Tom/Atlas/data/Cell-cell_communication/E11.5/barcodes.tsv\")"
   ]
  },
  {
   "cell_type": "markdown",
   "id": "5a621aaa-0c80-493e-8eb6-63064b0536b1",
   "metadata": {},
   "source": [
    "## 3. Generate your meta\n",
    "In this example, our input is an anndata containing the cluster/celltype information in metadat$'cell_type'\n",
    "\n",
    "The object also has metadat$'lineage' information wich will be used below for a hierarchical DEGs approach."
   ]
  },
  {
   "cell_type": "code",
   "execution_count": null,
   "id": "fcd55d94-1c91-4b34-b65f-a0df81ebabd1",
   "metadata": {},
   "outputs": [],
   "source": [
    "table(so@meta.data$CellType)"
   ]
  },
  {
   "cell_type": "code",
   "execution_count": null,
   "id": "dc88db6b-9561-4efb-b2b8-b82da78f6d9b",
   "metadata": {},
   "outputs": [],
   "source": [
    "so@meta.data$Cell = rownames(so@meta.data)\n",
    "df = so@meta.data[, c('Cell','CellType')]\n",
    "write.table(df, file ='/home/jovyan/researcher_home/Documents/Tom/Atlas/data/Cell-cell_communication/E11.5/E11.5_meta.tsv', sep = '\\t', quote = F, row.names = F)"
   ]
  },
  {
   "cell_type": "markdown",
   "id": "ececc470-693b-4da1-9de3-082e898a7471",
   "metadata": {},
   "source": [
    "## 4. Compute DEGs (optional)\n",
    "\n",
    "Use Seurat `FindAllMarkers` to compute differentially expressed genes and extract the corresponding data frame `DEGs`.\n",
    "Here there are three options you may be interested on:\n",
    "1. Identify DEGs for each cell type (compare cell type vs rest, most likely option) \n",
    "2. Identify DEGs for each cell type using a per-lineage hierarchycal approach (compare cell type vs rest in the lineage, such as in endometrium paper Garcia-Alonso et al 2021)\n",
    "\n",
    "In the endometrium paper (Garcia-Alonso et al 2021) we're interested in the differences within the stromal and epithelial lineages, rather than the commonalities (example, what is specific of epithelials in the glands compared to epithelials in the lumen). The reason is that epithelial and stromal subtypes vary in space and type and thus we wanna extract the subtile differences within the lineage to better understand their differential location/ biological role.\n"
   ]
  },
  {
   "cell_type": "code",
   "execution_count": null,
   "id": "de1d2faa-1437-4a8a-aa32-7fac9538a074",
   "metadata": {},
   "outputs": [],
   "source": [
    "Idents(so) <- so$CellType"
   ]
  },
  {
   "cell_type": "code",
   "execution_count": null,
   "id": "31437ec6-896a-4b03-8722-dd4df13ad6d0",
   "metadata": {},
   "outputs": [],
   "source": [
    "# OPTION 1 - compute DEGs for all cell types\n",
    "# Extract DEGs for each cell_type\n",
    " DEGs <- FindAllMarkers(so, \n",
    "                        test.use = 'LR', \n",
    "                        verbose = F, \n",
    "                        only.pos = T, \n",
    "                        random.seed = 1, \n",
    "                        logfc.threshold = 0.2, \n",
    "                        min.pct = 0.1, \n",
    "                        return.thresh = 0.05)"
   ]
  },
  {
   "cell_type": "code",
   "execution_count": null,
   "id": "95b5b493-6628-4773-be1a-23580246cb5b",
   "metadata": {},
   "outputs": [],
   "source": [
    " 'BMP7' %in% rownames(so@assays$RNA@counts)"
   ]
  },
  {
   "cell_type": "code",
   "execution_count": null,
   "id": "8a0c0aba-a2c6-4588-9483-ffe038db1c1b",
   "metadata": {},
   "outputs": [],
   "source": [
    "fDEGs = subset(DEGs, p_val_adj < 0.05 & avg_log2FC > 0.1)\n",
    "\n",
    "# 1st column = cluster; 2nd column = gene \n",
    "fDEGs = fDEGs[, c('cluster', 'gene', 'p_val_adj', 'p_val', 'avg_log2FC', 'pct.1', 'pct.2')] \n",
    "write.table(fDEGs, file ='/home/jovyan/researcher_home/Documents/Tom/Atlas/data/Cell-cell_communication/E11.5/E11.5_DEGs.tsv', sep = '\\t', quote = F, row.names = F)"
   ]
  },
  {
   "cell_type": "code",
   "execution_count": null,
   "id": "63003888-1b1a-4ff1-b70c-43616689d638",
   "metadata": {},
   "outputs": [],
   "source": [
    "head(fDEGs)"
   ]
  },
  {
   "cell_type": "markdown",
   "id": "6ed01617-cfa9-4de6-b4eb-5ae523d82d3c",
   "metadata": {},
   "source": [
    "# E12.5"
   ]
  },
  {
   "cell_type": "code",
   "execution_count": null,
   "id": "10e59abf-917e-493f-9ab9-b14e9af6cc62",
   "metadata": {},
   "outputs": [],
   "source": [
    "Atlas = readRDS('Atlashumanized_E12.5.Rds')"
   ]
  },
  {
   "cell_type": "code",
   "execution_count": null,
   "id": "04d42990-da88-4456-9ed7-58ead1855041",
   "metadata": {},
   "outputs": [],
   "source": [
    "Idents(Atlas) <- Atlas@meta.data$DevTP"
   ]
  },
  {
   "cell_type": "code",
   "execution_count": null,
   "id": "531a6db7-0ceb-4e05-8c23-84d184a651e2",
   "metadata": {},
   "outputs": [],
   "source": [
    "so <- subset(Atlas, idents = c('E12.5'))"
   ]
  },
  {
   "cell_type": "code",
   "execution_count": null,
   "id": "eb42dc33-0cc1-4dc7-af7b-e6bb870d84b0",
   "metadata": {},
   "outputs": [],
   "source": [
    "so <- NormalizeData(object = Atlas )"
   ]
  },
  {
   "cell_type": "code",
   "execution_count": null,
   "id": "8939fb1b-69a8-4b71-a3c5-24417f7aa2f1",
   "metadata": {},
   "outputs": [],
   "source": [
    "so"
   ]
  },
  {
   "cell_type": "markdown",
   "id": "ed6b851e-4b34-4199-ae36-4de36e2a8d10",
   "metadata": {},
   "source": [
    "## 2. Write gene expression in mtx format"
   ]
  },
  {
   "cell_type": "code",
   "execution_count": null,
   "id": "9ca57c10-e908-441a-844a-aa9a3f703dab",
   "metadata": {},
   "outputs": [],
   "source": [
    "# Save normalised counts - NOT scaled!\n",
    "writeMM(so@assays$RNA@data, file = '/home/jovyan/researcher_home/Documents/Tom/Atlas/data/Cell-cell_communication/E12.5/matrix.mtx')\n",
    "# save gene and cell names\n",
    "write(x = rownames(so@assays$RNA@data), file = \"/home/jovyan/researcher_home/Documents/Tom/Atlas/data/Cell-cell_communication/E12.5/features.tsv\")\n",
    "write(x = colnames(so@assays$RNA@data), file = \"/home/jovyan/researcher_home/Documents/Tom/Atlas/data/Cell-cell_communication/E12.5/barcodes.tsv\")"
   ]
  },
  {
   "cell_type": "markdown",
   "id": "a8ca8461-8ac5-4fdd-bfec-612a6830a844",
   "metadata": {},
   "source": [
    "## 3. Generate your meta\n",
    "In this example, our input is an anndata containing the cluster/celltype information in metadat$'cell_type'\n",
    "\n",
    "The object also has metadat$'lineage' information wich will be used below for a hierarchical DEGs approach."
   ]
  },
  {
   "cell_type": "code",
   "execution_count": null,
   "id": "e23f4888-a1b5-4d33-8a5e-c9eabfc25622",
   "metadata": {},
   "outputs": [],
   "source": [
    "table(so@meta.data$CellType)"
   ]
  },
  {
   "cell_type": "code",
   "execution_count": null,
   "id": "dfb61ebe-e26f-48a2-a8ab-2e5f04ffb46d",
   "metadata": {},
   "outputs": [],
   "source": [
    "so@meta.data$Cell = rownames(so@meta.data)\n",
    "df = so@meta.data[, c('Cell','CellType')]\n",
    "write.table(df, file ='/home/jovyan/researcher_home/Documents/Tom/Atlas/data/Cell-cell_communication/E12.5/E12.5_meta.tsv', sep = '\\t', quote = F, row.names = F)"
   ]
  },
  {
   "cell_type": "markdown",
   "id": "8bb11724-d5bb-4091-968c-3ac487d1548c",
   "metadata": {},
   "source": [
    "## 4. Compute DEGs (optional)\n",
    "\n",
    "Use Seurat `FindAllMarkers` to compute differentially expressed genes and extract the corresponding data frame `DEGs`.\n",
    "Here there are three options you may be interested on:\n",
    "1. Identify DEGs for each cell type (compare cell type vs rest, most likely option) \n",
    "2. Identify DEGs for each cell type using a per-lineage hierarchycal approach (compare cell type vs rest in the lineage, such as in endometrium paper Garcia-Alonso et al 2021)\n",
    "\n",
    "In the endometrium paper (Garcia-Alonso et al 2021) we're interested in the differences within the stromal and epithelial lineages, rather than the commonalities (example, what is specific of epithelials in the glands compared to epithelials in the lumen). The reason is that epithelial and stromal subtypes vary in space and type and thus we wanna extract the subtile differences within the lineage to better understand their differential location/ biological role.\n"
   ]
  },
  {
   "cell_type": "code",
   "execution_count": null,
   "id": "e5090dbb-7e13-477b-b0c6-c9d0f48f9b53",
   "metadata": {},
   "outputs": [],
   "source": [
    "Idents(so) <- so$CellType"
   ]
  },
  {
   "cell_type": "code",
   "execution_count": null,
   "id": "ffe22ecd-1487-49cc-8723-2384182a5907",
   "metadata": {},
   "outputs": [],
   "source": [
    "# OPTION 1 - compute DEGs for all cell types\n",
    "# Extract DEGs for each cell_type\n",
    " DEGs <- FindAllMarkers(so, \n",
    "                        test.use = 'LR', \n",
    "                        verbose = F, \n",
    "                        only.pos = T, \n",
    "                        random.seed = 1, \n",
    "                        logfc.threshold = 0.2, \n",
    "                        min.pct = 0.1, \n",
    "                        return.thresh = 0.05)"
   ]
  },
  {
   "cell_type": "code",
   "execution_count": null,
   "id": "db315f71-00d9-4818-8614-996dd4dcec86",
   "metadata": {},
   "outputs": [],
   "source": [
    " 'BMP7' %in% rownames(so@assays$RNA@counts)"
   ]
  },
  {
   "cell_type": "code",
   "execution_count": null,
   "id": "9e11eb8c-f9b7-4016-ad06-7a1dd3ea6467",
   "metadata": {},
   "outputs": [],
   "source": [
    "fDEGs = subset(DEGs, p_val_adj < 0.05 & avg_log2FC > 0.1)\n",
    "\n",
    "# 1st column = cluster; 2nd column = gene \n",
    "fDEGs = fDEGs[, c('cluster', 'gene', 'p_val_adj', 'p_val', 'avg_log2FC', 'pct.1', 'pct.2')] \n",
    "write.table(fDEGs, file ='/home/jovyan/researcher_home/Documents/Tom/Atlas/data/Cell-cell_communication/E12.5/E12.5_DEGs.tsv', sep = '\\t', quote = F, row.names = F)"
   ]
  },
  {
   "cell_type": "code",
   "execution_count": null,
   "id": "ace33333-1be4-4d93-9141-e15e60db5a3b",
   "metadata": {},
   "outputs": [],
   "source": [
    "head(fDEGs)"
   ]
  },
  {
   "cell_type": "markdown",
   "id": "0a6620e4-6492-43a1-b650-e521bc3ec8ff",
   "metadata": {},
   "source": [
    "# E13.5"
   ]
  },
  {
   "cell_type": "code",
   "execution_count": null,
   "id": "585fa520-312c-4281-ae69-f8903dfb9303",
   "metadata": {},
   "outputs": [],
   "source": [
    "Atlas = readRDS('/home/jovyan/researcher_home/Documents/Tom/Atlas/data/Cell-cell_communication/Atlashumanized_E13.5.Rds')"
   ]
  },
  {
   "cell_type": "code",
   "execution_count": null,
   "id": "6c11e2f7-5c00-4ded-8d0e-eb17c07a6902",
   "metadata": {},
   "outputs": [],
   "source": [
    "Idents(Atlas) <- Atlas@meta.data$DevTP"
   ]
  },
  {
   "cell_type": "code",
   "execution_count": null,
   "id": "bd3495fc-e893-4d5e-a437-a16de481cc87",
   "metadata": {},
   "outputs": [],
   "source": [
    "so <- subset(Atlas, idents = c('E12.5'))"
   ]
  },
  {
   "cell_type": "code",
   "execution_count": null,
   "id": "5431890d-d0e6-4b61-8f96-22ab48ea6384",
   "metadata": {},
   "outputs": [],
   "source": [
    "so <- NormalizeData(object = Atlas)"
   ]
  },
  {
   "cell_type": "code",
   "execution_count": null,
   "id": "bf9afbb4-3b7c-4234-be83-3b051827b6d1",
   "metadata": {},
   "outputs": [],
   "source": [
    "so"
   ]
  },
  {
   "cell_type": "markdown",
   "id": "7786bf1a-297f-4042-829b-999598c461ff",
   "metadata": {},
   "source": [
    "## 2. Write gene expression in mtx format"
   ]
  },
  {
   "cell_type": "code",
   "execution_count": null,
   "id": "bcbb9ff3-0e19-43fa-987e-ffdfd2959d55",
   "metadata": {},
   "outputs": [],
   "source": [
    "# Save normalised counts - NOT scaled!\n",
    "writeMM(so@assays$RNA@data, file = '/home/jovyan/researcher_home/Documents/Tom/Atlas/data/Cell-cell_communication/E13.5/matrix.mtx')\n",
    "# save gene and cell names\n",
    "write(x = rownames(so@assays$RNA@data), file = \"/home/jovyan/researcher_home/Documents/Tom/Atlas/data/Cell-cell_communication/E13.5/features.tsv\")\n",
    "write(x = colnames(so@assays$RNA@data), file = \"/home/jovyan/researcher_home/Documents/Tom/Atlas/data/Cell-cell_communication/E13.5/barcodes.tsv\")"
   ]
  },
  {
   "cell_type": "markdown",
   "id": "3aa79ce6-8e7d-49dc-b513-3e189bdebe58",
   "metadata": {},
   "source": [
    "## 3. Generate your meta\n",
    "In this example, our input is an anndata containing the cluster/celltype information in metadat$'cell_type'\n",
    "\n",
    "The object also has metadat$'lineage' information wich will be used below for a hierarchical DEGs approach."
   ]
  },
  {
   "cell_type": "code",
   "execution_count": null,
   "id": "555d6e68-1fb4-44c6-85c0-7adfa8aa96cc",
   "metadata": {},
   "outputs": [],
   "source": [
    "table(so@meta.data$CellType)"
   ]
  },
  {
   "cell_type": "code",
   "execution_count": null,
   "id": "e68a1d6d-25f3-406e-985b-326136cb5f15",
   "metadata": {},
   "outputs": [],
   "source": [
    "so@meta.data$Cell = rownames(so@meta.data)\n",
    "df = so@meta.data[, c('Cell','CellType')]\n",
    "write.table(df, file ='/home/jovyan/researcher_home/Documents/Tom/Atlas/data/Cell-cell_communication/E13.5/E13.5_meta.tsv', sep = '\\t', quote = F, row.names = F)"
   ]
  },
  {
   "cell_type": "markdown",
   "id": "9d7fa6be-2b8e-4e65-abee-078b94084e63",
   "metadata": {},
   "source": [
    "## 4. Compute DEGs (optional)\n",
    "\n",
    "Use Seurat `FindAllMarkers` to compute differentially expressed genes and extract the corresponding data frame `DEGs`.\n",
    "Here there are three options you may be interested on:\n",
    "1. Identify DEGs for each cell type (compare cell type vs rest, most likely option) \n",
    "2. Identify DEGs for each cell type using a per-lineage hierarchycal approach (compare cell type vs rest in the lineage, such as in endometrium paper Garcia-Alonso et al 2021)\n",
    "\n",
    "In the endometrium paper (Garcia-Alonso et al 2021) we're interested in the differences within the stromal and epithelial lineages, rather than the commonalities (example, what is specific of epithelials in the glands compared to epithelials in the lumen). The reason is that epithelial and stromal subtypes vary in space and type and thus we wanna extract the subtile differences within the lineage to better understand their differential location/ biological role.\n"
   ]
  },
  {
   "cell_type": "code",
   "execution_count": null,
   "id": "3ebcf855-14f8-4121-a725-744ca862ee99",
   "metadata": {},
   "outputs": [],
   "source": [
    "Idents(so) <- so$CellType"
   ]
  },
  {
   "cell_type": "code",
   "execution_count": null,
   "id": "dbffa086-0b71-40a8-b3d0-e75573f5452e",
   "metadata": {},
   "outputs": [],
   "source": [
    "# OPTION 1 - compute DEGs for all cell types\n",
    "# Extract DEGs for each cell_type\n",
    " DEGs <- FindAllMarkers(so, \n",
    "                        test.use = 'LR', \n",
    "                        verbose = F, \n",
    "                        only.pos = T, \n",
    "                        random.seed = 1, \n",
    "                        logfc.threshold = 0.2, \n",
    "                        min.pct = 0.1, \n",
    "                        return.thresh = 0.05)"
   ]
  },
  {
   "cell_type": "code",
   "execution_count": null,
   "id": "0219b65f-ba8b-4ca5-b259-91f8f326bdb6",
   "metadata": {},
   "outputs": [],
   "source": [
    " 'BMP7' %in% rownames(so@assays$RNA@counts)"
   ]
  },
  {
   "cell_type": "code",
   "execution_count": null,
   "id": "498b3fc8-d37e-4771-b054-66369c2b9e05",
   "metadata": {},
   "outputs": [],
   "source": [
    "fDEGs = subset(DEGs, p_val_adj < 0.05 & avg_log2FC > 0.1)\n",
    "\n",
    "# 1st column = cluster; 2nd column = gene \n",
    "fDEGs = fDEGs[, c('cluster', 'gene', 'p_val_adj', 'p_val', 'avg_log2FC', 'pct.1', 'pct.2')] \n",
    "write.table(fDEGs, file ='/home/jovyan/researcher_home/Documents/Tom/Atlas/data/Cell-cell_communication/E13.5/E13.5_DEGs.tsv', sep = '\\t', quote = F, row.names = F)"
   ]
  },
  {
   "cell_type": "code",
   "execution_count": null,
   "id": "8c559cec-36aa-4a9d-bc56-ac59c8f22706",
   "metadata": {},
   "outputs": [],
   "source": [
    "head(fDEGs)"
   ]
  },
  {
   "cell_type": "code",
   "execution_count": null,
   "id": "0c099091-404e-4fd3-8215-39d793ec8def",
   "metadata": {},
   "outputs": [],
   "source": [
    " "
   ]
  }
 ],
 "metadata": {
  "kernelspec": {
   "display_name": "R [conda env:base] *",
   "language": "R",
   "name": "conda-base-r"
  },
  "language_info": {
   "codemirror_mode": "r",
   "file_extension": ".r",
   "mimetype": "text/x-r-source",
   "name": "R",
   "pygments_lexer": "r",
   "version": "4.3.2"
  }
 },
 "nbformat": 4,
 "nbformat_minor": 5
}
