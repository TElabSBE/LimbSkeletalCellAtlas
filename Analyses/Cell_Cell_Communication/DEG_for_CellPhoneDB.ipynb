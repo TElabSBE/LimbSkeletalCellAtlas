{
 "cells": [
  {
   "cell_type": "markdown",
   "id": "4635d7d0-b86a-4abb-90ec-ccc2d06c4377",
   "metadata": {},
   "source": [
    "# Step 0 - prepare your data\n",
    "Prepare cellphoneDB inputs starting from a seurat object object"
   ]
  },
  {
   "cell_type": "code",
   "execution_count": 1,
   "id": "460c5845-76cb-4418-8260-fef9b6d9d6b4",
   "metadata": {},
   "outputs": [
    {
     "name": "stderr",
     "output_type": "stream",
     "text": [
      "Attaching SeuratObject\n",
      "\n"
     ]
    }
   ],
   "source": [
    "\n",
    "library(Seurat)\n",
    "library(SeuratObject)\n",
    "library(Matrix)"
   ]
  },
  {
   "cell_type": "markdown",
   "id": "ec7db83e-23d4-42e1-9b5d-0ad66f770033",
   "metadata": {},
   "source": [
    "## 1. Load seurat object\n",
    "The seurat object contains counts that have been normalized (per cell) and log-transformed. If your data are raw counts, please normalize accordingly"
   ]
  },
  {
   "cell_type": "code",
   "execution_count": 2,
   "id": "6a76b393-c46a-4847-a6b2-d34f9c13fb31",
   "metadata": {},
   "outputs": [],
   "source": [
    "#sceasy::convertFormat(\"Atlashumanized.h5ad\", from=\"anndata\", to=\"seurat\",\n",
    "#                      outFile='Atlashumanized.Rds')"
   ]
  },
  {
   "cell_type": "code",
   "execution_count": 3,
   "id": "3850cb26-5b98-48ec-8409-4b34f6e5c16e",
   "metadata": {},
   "outputs": [],
   "source": [
    "Atlas = readRDS('Atlashumanized.Rds')"
   ]
  },
  {
   "cell_type": "code",
   "execution_count": 3,
   "id": "e191cdb1-54c5-4d5b-854f-6529601d5242",
   "metadata": {},
   "outputs": [
    {
     "data": {
      "text/plain": [
       "An object of class Seurat \n",
       "4588 features across 95097 samples within 1 assay \n",
       "Active assay: RNA (4588 features, 0 variable features)\n",
       " 5 dimensional reductions calculated: emb, mde, mde_scanvi, scANVI, scVI"
      ]
     },
     "metadata": {},
     "output_type": "display_data"
    }
   ],
   "source": [
    "Atlas"
   ]
  },
  {
   "cell_type": "code",
   "execution_count": 4,
   "id": "fba9e498-846c-4f29-abad-65411ab37a26",
   "metadata": {},
   "outputs": [
    {
     "data": {
      "text/html": [
       "<style>\n",
       ".list-inline {list-style: none; margin:0; padding: 0}\n",
       ".list-inline>li {display: inline-block}\n",
       ".list-inline>li:not(:last-child)::after {content: \"\\00b7\"; padding: 0 .5ex}\n",
       "</style>\n",
       "<ol class=list-inline><li>'SOX17'</li><li>'RGS20'</li><li>'PCMTD1'</li><li>'ADHFE1'</li><li>'TCF24'</li><li>'CPA6'</li></ol>\n"
      ],
      "text/latex": [
       "\\begin{enumerate*}\n",
       "\\item 'SOX17'\n",
       "\\item 'RGS20'\n",
       "\\item 'PCMTD1'\n",
       "\\item 'ADHFE1'\n",
       "\\item 'TCF24'\n",
       "\\item 'CPA6'\n",
       "\\end{enumerate*}\n"
      ],
      "text/markdown": [
       "1. 'SOX17'\n",
       "2. 'RGS20'\n",
       "3. 'PCMTD1'\n",
       "4. 'ADHFE1'\n",
       "5. 'TCF24'\n",
       "6. 'CPA6'\n",
       "\n",
       "\n"
      ],
      "text/plain": [
       "[1] \"SOX17\"  \"RGS20\"  \"PCMTD1\" \"ADHFE1\" \"TCF24\"  \"CPA6\"  "
      ]
     },
     "metadata": {},
     "output_type": "display_data"
    }
   ],
   "source": [
    "head(rownames(Atlas))"
   ]
  },
  {
   "cell_type": "markdown",
   "id": "f9cb9142-6ba9-4fb1-a7ad-6bd3d053b89d",
   "metadata": {},
   "source": [
    "# E10.5"
   ]
  },
  {
   "cell_type": "code",
   "execution_count": 5,
   "id": "0a036522-8cc1-4e09-bfbd-918537053c08",
   "metadata": {},
   "outputs": [],
   "source": [
    "Idents(Atlas) <- Atlas@meta.data$DevTP"
   ]
  },
  {
   "cell_type": "code",
   "execution_count": 6,
   "id": "2051b2c0-c926-4bc7-95d5-4c95b465e4c8",
   "metadata": {},
   "outputs": [],
   "source": [
    "so <- subset(Atlas, idents = c('E10.5'))"
   ]
  },
  {
   "cell_type": "code",
   "execution_count": 7,
   "id": "90e66703-adbb-4ca9-adef-2922d4721a16",
   "metadata": {},
   "outputs": [],
   "source": [
    "so <- NormalizeData(object = so)"
   ]
  },
  {
   "cell_type": "code",
   "execution_count": 8,
   "id": "121ce2e1-97f8-4883-b0f4-6dd91bad8487",
   "metadata": {},
   "outputs": [
    {
     "data": {
      "text/plain": [
       "An object of class Seurat \n",
       "4588 features across 5826 samples within 1 assay \n",
       "Active assay: RNA (4588 features, 0 variable features)\n",
       " 5 dimensional reductions calculated: mde, mde_scanvi, pca, scANVI, scVI"
      ]
     },
     "metadata": {},
     "output_type": "display_data"
    }
   ],
   "source": [
    "so"
   ]
  },
  {
   "cell_type": "markdown",
   "id": "e5eaabaf-e358-498c-a54f-93e90aa82349",
   "metadata": {},
   "source": [
    "## 2. Write gene expression in mtx format"
   ]
  },
  {
   "cell_type": "code",
   "execution_count": 10,
   "id": "39eb3ae7-1736-4fb2-89e0-2bcab5bf8dc0",
   "metadata": {},
   "outputs": [
    {
     "data": {
      "text/plain": [
       "NULL"
      ]
     },
     "metadata": {},
     "output_type": "display_data"
    }
   ],
   "source": [
    "# Save normalised counts - NOT scaled!\n",
    "writeMM(so@assays$RNA@data, file = 'E10.5/matrix.mtx')\n",
    "# save gene and cell names\n",
    "write(x = rownames(so@assays$RNA@data), file = \"E10.5/features.tsv\")\n",
    "write(x = colnames(so@assays$RNA@data), file = \"E10.5/barcodes.tsv\")"
   ]
  },
  {
   "cell_type": "markdown",
   "id": "ef9a15ad-3dbe-45f0-94d9-cc00026ed1e5",
   "metadata": {},
   "source": [
    "## 3. Generate your meta\n",
    "In this example, our input is an anndata containing the cluster/celltype information in metadat$'cell_type'\n",
    "\n",
    "The object also has metadat$'lineage' information wich will be used below for a hierarchical DEGs approach."
   ]
  },
  {
   "cell_type": "code",
   "execution_count": 11,
   "id": "5bdd913d-672a-49b3-97d5-e715676c56d6",
   "metadata": {},
   "outputs": [
    {
     "data": {
      "text/plain": [
       "\n",
       "                  Embryonic skin                              TBD \n",
       "                             245                                0 \n",
       "                     LepR+ BMSCs                        Tenocytes \n",
       "                               0                                0 \n",
       "    Proximal limb bud mesenchyme    Pre-hypertrophic chondrocytes \n",
       "                            1300                                0 \n",
       "           Periosteal stem cells           Periosteal progenitors \n",
       "                               0                                0 \n",
       "                Osteoprogenitors                      Osteoclasts \n",
       "                               0                                0 \n",
       "                     Osteoblasts Intermediate limb bud mesenchyme \n",
       "                               0                             2078 \n",
       "                    Immune cells        Hypertrophic chondrocytes \n",
       "                               0                                0 \n",
       "      Distal limb bud mesenchyme         Fast proliferating cells \n",
       "                             667                                0 \n",
       "              Chondroprogenitors       Vascular endothelial cells \n",
       "                             850                               80 \n",
       "                      Adipocytes        Resting zone chondrocytes \n",
       "                               0                                0 \n",
       "          Articular chondrocytes       Proliferative chondrocytes \n",
       "                               0                                0 \n",
       "                 Erythroid cells              Smooth muscle cells \n",
       "                              52                                0 \n",
       "  Fast proliferating osteoblasts                       Osteocytes \n",
       "                               0                                0 \n",
       "                           SSPCs                        Platelets \n",
       "                               0                                0 \n",
       "            Synovial fibroblasts               Muscle progenitors \n",
       "                               0                              310 \n",
       "             Tenocyte precursors            Skeletal muscle cells \n",
       "                               0                                0 \n",
       "                 Interzone cells                            BMSCs \n",
       "                               0                                0 \n",
       "                      Periosteum                              AER \n",
       "                               0                               86 \n",
       "     Lymphatic endothelial cells                          Neurons \n",
       "                               0                                0 \n",
       "                             ZPA                 Joint precursors \n",
       "                             158                                0 \n",
       "             Myogenic stem cells                      Fibroblasts \n",
       "                               0                                0 "
      ]
     },
     "metadata": {},
     "output_type": "display_data"
    }
   ],
   "source": [
    "table(so@meta.data$CellType)"
   ]
  },
  {
   "cell_type": "code",
   "execution_count": 12,
   "id": "b34897d1-ea5f-4719-9033-c214d7a7e06d",
   "metadata": {},
   "outputs": [],
   "source": [
    "so@meta.data$Cell = rownames(so@meta.data)\n",
    "df = so@meta.data[, c('Cell','CellType')]\n",
    "write.table(df, file ='E10.5_meta.tsv', sep = '\\t', quote = F, row.names = F)"
   ]
  },
  {
   "cell_type": "markdown",
   "id": "53b1efbd-f547-432f-94ce-5235e009c5eb",
   "metadata": {},
   "source": [
    "## 4. Compute DEGs (optional)\n",
    "\n",
    "Use Seurat `FindAllMarkers` to compute differentially expressed genes and extract the corresponding data frame `DEGs`.\n",
    "Here there are three options you may be interested on:\n",
    "1. Identify DEGs for each cell type (compare cell type vs rest, most likely option) \n",
    "2. Identify DEGs for each cell type using a per-lineage hierarchycal approach (compare cell type vs rest in the lineage, such as in endometrium paper Garcia-Alonso et al 2021)\n",
    "\n",
    "In the endometrium paper (Garcia-Alonso et al 2021) we're interested in the differences within the stromal and epithelial lineages, rather than the commonalities (example, what is specific of epithelials in the glands compared to epithelials in the lumen). The reason is that epithelial and stromal subtypes vary in space and type and thus we wanna extract the subtile differences within the lineage to better understand their differential location/ biological role.\n"
   ]
  },
  {
   "cell_type": "code",
   "execution_count": 13,
   "id": "d818f3f5-04b5-4cec-93ea-757850df384a",
   "metadata": {},
   "outputs": [],
   "source": [
    "Idents(so) <- so$CellType"
   ]
  },
  {
   "cell_type": "code",
   "execution_count": 14,
   "id": "72d8eaa1-3e7a-4a73-afd0-9ca9f5652f82",
   "metadata": {
    "tags": []
   },
   "outputs": [
    {
     "name": "stderr",
     "output_type": "stream",
     "text": [
      "Warning message:\n",
      "“glm.fit: fitted probabilities numerically 0 or 1 occurred”\n",
      "Warning message:\n",
      "“glm.fit: fitted probabilities numerically 0 or 1 occurred”\n",
      "Warning message:\n",
      "“glm.fit: fitted probabilities numerically 0 or 1 occurred”\n",
      "Warning message:\n",
      "“glm.fit: fitted probabilities numerically 0 or 1 occurred”\n",
      "Warning message:\n",
      "“glm.fit: fitted probabilities numerically 0 or 1 occurred”\n",
      "Warning message:\n",
      "“glm.fit: fitted probabilities numerically 0 or 1 occurred”\n",
      "Warning message:\n",
      "“glm.fit: fitted probabilities numerically 0 or 1 occurred”\n",
      "Warning message:\n",
      "“glm.fit: algorithm did not converge”\n",
      "Warning message:\n",
      "“glm.fit: fitted probabilities numerically 0 or 1 occurred”\n",
      "Warning message:\n",
      "“glm.fit: fitted probabilities numerically 0 or 1 occurred”\n",
      "Warning message:\n",
      "“glm.fit: fitted probabilities numerically 0 or 1 occurred”\n",
      "Warning message:\n",
      "“glm.fit: fitted probabilities numerically 0 or 1 occurred”\n",
      "Warning message:\n",
      "“glm.fit: fitted probabilities numerically 0 or 1 occurred”\n",
      "Warning message:\n",
      "“glm.fit: fitted probabilities numerically 0 or 1 occurred”\n",
      "Warning message:\n",
      "“glm.fit: fitted probabilities numerically 0 or 1 occurred”\n",
      "Warning message:\n",
      "“glm.fit: fitted probabilities numerically 0 or 1 occurred”\n",
      "Warning message:\n",
      "“glm.fit: fitted probabilities numerically 0 or 1 occurred”\n",
      "Warning message:\n",
      "“glm.fit: fitted probabilities numerically 0 or 1 occurred”\n",
      "Warning message:\n",
      "“glm.fit: fitted probabilities numerically 0 or 1 occurred”\n",
      "Warning message:\n",
      "“glm.fit: fitted probabilities numerically 0 or 1 occurred”\n",
      "Warning message:\n",
      "“glm.fit: fitted probabilities numerically 0 or 1 occurred”\n",
      "Warning message:\n",
      "“glm.fit: fitted probabilities numerically 0 or 1 occurred”\n",
      "Warning message:\n",
      "“glm.fit: fitted probabilities numerically 0 or 1 occurred”\n",
      "Warning message:\n",
      "“glm.fit: fitted probabilities numerically 0 or 1 occurred”\n",
      "Warning message:\n",
      "“glm.fit: fitted probabilities numerically 0 or 1 occurred”\n",
      "Warning message:\n",
      "“glm.fit: fitted probabilities numerically 0 or 1 occurred”\n",
      "Warning message:\n",
      "“glm.fit: fitted probabilities numerically 0 or 1 occurred”\n",
      "Warning message:\n",
      "“glm.fit: fitted probabilities numerically 0 or 1 occurred”\n",
      "Warning message:\n",
      "“glm.fit: fitted probabilities numerically 0 or 1 occurred”\n",
      "Warning message:\n",
      "“glm.fit: fitted probabilities numerically 0 or 1 occurred”\n",
      "Warning message:\n",
      "“glm.fit: algorithm did not converge”\n",
      "Warning message:\n",
      "“glm.fit: fitted probabilities numerically 0 or 1 occurred”\n",
      "Warning message:\n",
      "“glm.fit: fitted probabilities numerically 0 or 1 occurred”\n",
      "Warning message:\n",
      "“glm.fit: fitted probabilities numerically 0 or 1 occurred”\n",
      "Warning message:\n",
      "“glm.fit: fitted probabilities numerically 0 or 1 occurred”\n",
      "Warning message:\n",
      "“glm.fit: fitted probabilities numerically 0 or 1 occurred”\n",
      "Warning message:\n",
      "“glm.fit: algorithm did not converge”\n",
      "Warning message:\n",
      "“glm.fit: fitted probabilities numerically 0 or 1 occurred”\n",
      "Warning message:\n",
      "“glm.fit: fitted probabilities numerically 0 or 1 occurred”\n",
      "Warning message:\n",
      "“glm.fit: fitted probabilities numerically 0 or 1 occurred”\n",
      "Warning message:\n",
      "“glm.fit: fitted probabilities numerically 0 or 1 occurred”\n",
      "Warning message:\n",
      "“glm.fit: algorithm did not converge”\n",
      "Warning message:\n",
      "“glm.fit: fitted probabilities numerically 0 or 1 occurred”\n",
      "Warning message:\n",
      "“glm.fit: fitted probabilities numerically 0 or 1 occurred”\n",
      "Warning message:\n",
      "“glm.fit: fitted probabilities numerically 0 or 1 occurred”\n",
      "Warning message:\n",
      "“glm.fit: fitted probabilities numerically 0 or 1 occurred”\n",
      "Warning message:\n",
      "“glm.fit: fitted probabilities numerically 0 or 1 occurred”\n",
      "Warning message:\n",
      "“glm.fit: fitted probabilities numerically 0 or 1 occurred”\n",
      "Warning message:\n",
      "“glm.fit: fitted probabilities numerically 0 or 1 occurred”\n",
      "Warning message:\n",
      "“glm.fit: fitted probabilities numerically 0 or 1 occurred”\n",
      "Warning message:\n",
      "“glm.fit: algorithm did not converge”\n",
      "Warning message:\n",
      "“glm.fit: fitted probabilities numerically 0 or 1 occurred”\n",
      "Warning message:\n",
      "“glm.fit: fitted probabilities numerically 0 or 1 occurred”\n",
      "Warning message:\n",
      "“glm.fit: fitted probabilities numerically 0 or 1 occurred”\n",
      "Warning message:\n",
      "“glm.fit: fitted probabilities numerically 0 or 1 occurred”\n",
      "Warning message:\n",
      "“glm.fit: fitted probabilities numerically 0 or 1 occurred”\n",
      "Warning message:\n",
      "“glm.fit: fitted probabilities numerically 0 or 1 occurred”\n",
      "Warning message:\n",
      "“glm.fit: fitted probabilities numerically 0 or 1 occurred”\n",
      "Warning message:\n",
      "“glm.fit: fitted probabilities numerically 0 or 1 occurred”\n",
      "Warning message:\n",
      "“glm.fit: fitted probabilities numerically 0 or 1 occurred”\n",
      "Warning message:\n",
      "“glm.fit: fitted probabilities numerically 0 or 1 occurred”\n",
      "Warning message:\n",
      "“glm.fit: fitted probabilities numerically 0 or 1 occurred”\n",
      "Warning message:\n",
      "“glm.fit: fitted probabilities numerically 0 or 1 occurred”\n",
      "Warning message:\n",
      "“glm.fit: fitted probabilities numerically 0 or 1 occurred”\n",
      "Warning message:\n",
      "“glm.fit: fitted probabilities numerically 0 or 1 occurred”\n",
      "Warning message:\n",
      "“glm.fit: algorithm did not converge”\n",
      "Warning message:\n",
      "“glm.fit: algorithm did not converge”\n",
      "Warning message:\n",
      "“glm.fit: fitted probabilities numerically 0 or 1 occurred”\n",
      "Warning message:\n",
      "“glm.fit: fitted probabilities numerically 0 or 1 occurred”\n",
      "Warning message:\n",
      "“glm.fit: fitted probabilities numerically 0 or 1 occurred”\n",
      "Warning message:\n",
      "“glm.fit: fitted probabilities numerically 0 or 1 occurred”\n",
      "Warning message:\n",
      "“glm.fit: fitted probabilities numerically 0 or 1 occurred”\n",
      "Warning message:\n",
      "“glm.fit: fitted probabilities numerically 0 or 1 occurred”\n",
      "Warning message:\n",
      "“glm.fit: algorithm did not converge”\n",
      "Warning message:\n",
      "“glm.fit: fitted probabilities numerically 0 or 1 occurred”\n",
      "Warning message:\n",
      "“glm.fit: algorithm did not converge”\n",
      "Warning message:\n",
      "“glm.fit: fitted probabilities numerically 0 or 1 occurred”\n",
      "Warning message:\n",
      "“glm.fit: algorithm did not converge”\n",
      "Warning message:\n",
      "“glm.fit: fitted probabilities numerically 0 or 1 occurred”\n",
      "Warning message:\n",
      "“glm.fit: algorithm did not converge”\n",
      "Warning message:\n",
      "“glm.fit: algorithm did not converge”\n",
      "Warning message:\n",
      "“glm.fit: algorithm did not converge”\n",
      "Warning message:\n",
      "“glm.fit: fitted probabilities numerically 0 or 1 occurred”\n",
      "Warning message:\n",
      "“glm.fit: algorithm did not converge”\n",
      "Warning message:\n",
      "“glm.fit: fitted probabilities numerically 0 or 1 occurred”\n",
      "Warning message:\n",
      "“glm.fit: fitted probabilities numerically 0 or 1 occurred”\n",
      "Warning message:\n",
      "“glm.fit: fitted probabilities numerically 0 or 1 occurred”\n"
     ]
    }
   ],
   "source": [
    "# OPTION 1 - compute DEGs for all cell types\n",
    "# Extract DEGs for each cell_type\n",
    " DEGs <- FindAllMarkers(so, \n",
    "                        test.use = 'LR', \n",
    "                        verbose = F, \n",
    "                        only.pos = T, \n",
    "                        random.seed = 1, \n",
    "                        logfc.threshold = 0.2, \n",
    "                        min.pct = 0.1, \n",
    "                        return.thresh = 0.05)"
   ]
  },
  {
   "cell_type": "code",
   "execution_count": 15,
   "id": "0d525aa7-05a8-4a44-b8ea-2c039bb63364",
   "metadata": {},
   "outputs": [
    {
     "data": {
      "text/html": [
       "TRUE"
      ],
      "text/latex": [
       "TRUE"
      ],
      "text/markdown": [
       "TRUE"
      ],
      "text/plain": [
       "[1] TRUE"
      ]
     },
     "metadata": {},
     "output_type": "display_data"
    }
   ],
   "source": [
    " 'BMP7' %in% rownames(so@assays$RNA@counts)"
   ]
  },
  {
   "cell_type": "code",
   "execution_count": 16,
   "id": "4e6cfec1-1e82-4ba9-a8af-c0956480e788",
   "metadata": {
    "tags": []
   },
   "outputs": [
    {
     "data": {
      "text/html": [
       "<table class=\"dataframe\">\n",
       "<caption>A data.frame: 5832 × 7</caption>\n",
       "<thead>\n",
       "\t<tr><th></th><th scope=col>p_val</th><th scope=col>avg_log2FC</th><th scope=col>pct.1</th><th scope=col>pct.2</th><th scope=col>p_val_adj</th><th scope=col>cluster</th><th scope=col>gene</th></tr>\n",
       "\t<tr><th></th><th scope=col>&lt;dbl&gt;</th><th scope=col>&lt;dbl&gt;</th><th scope=col>&lt;dbl&gt;</th><th scope=col>&lt;dbl&gt;</th><th scope=col>&lt;dbl&gt;</th><th scope=col>&lt;fct&gt;</th><th scope=col>&lt;chr&gt;</th></tr>\n",
       "</thead>\n",
       "<tbody>\n",
       "\t<tr><th scope=row>WNT6</th><td> 0.000000e+00</td><td>3.622856</td><td>0.996</td><td>0.030</td><td> 0.000000e+00</td><td>Embryonic skin</td><td>WNT6   </td></tr>\n",
       "\t<tr><th scope=row>PDGFA</th><td> 0.000000e+00</td><td>3.603954</td><td>0.996</td><td>0.079</td><td> 0.000000e+00</td><td>Embryonic skin</td><td>PDGFA  </td></tr>\n",
       "\t<tr><th scope=row>PERP</th><td> 0.000000e+00</td><td>3.575402</td><td>0.984</td><td>0.027</td><td> 0.000000e+00</td><td>Embryonic skin</td><td>PERP   </td></tr>\n",
       "\t<tr><th scope=row>WNT4</th><td> 0.000000e+00</td><td>3.555949</td><td>0.951</td><td>0.026</td><td> 0.000000e+00</td><td>Embryonic skin</td><td>WNT4   </td></tr>\n",
       "\t<tr><th scope=row>FERMT1</th><td> 0.000000e+00</td><td>3.428088</td><td>0.984</td><td>0.019</td><td> 0.000000e+00</td><td>Embryonic skin</td><td>FERMT1 </td></tr>\n",
       "\t<tr><th scope=row>EPCAM</th><td>7.040435e-321</td><td>3.361296</td><td>0.996</td><td>0.102</td><td>3.230152e-317</td><td>Embryonic skin</td><td>EPCAM  </td></tr>\n",
       "\t<tr><th scope=row>HSPB1</th><td>1.125062e-315</td><td>3.409250</td><td>0.988</td><td>0.069</td><td>5.161783e-312</td><td>Embryonic skin</td><td>HSPB1  </td></tr>\n",
       "\t<tr><th scope=row>WNT7B</th><td>6.081035e-308</td><td>3.161385</td><td>0.853</td><td>0.009</td><td>2.789979e-304</td><td>Embryonic skin</td><td>WNT7B  </td></tr>\n",
       "\t<tr><th scope=row>BCAM</th><td>1.657467e-306</td><td>3.307708</td><td>0.971</td><td>0.046</td><td>7.604460e-303</td><td>Embryonic skin</td><td>BCAM   </td></tr>\n",
       "\t<tr><th scope=row>SFN</th><td>4.837702e-299</td><td>3.445808</td><td>0.935</td><td>0.035</td><td>2.219538e-295</td><td>Embryonic skin</td><td>SFN    </td></tr>\n",
       "\t<tr><th scope=row>KRT18</th><td>2.541736e-298</td><td>3.105746</td><td>0.984</td><td>0.109</td><td>1.166149e-294</td><td>Embryonic skin</td><td>KRT18  </td></tr>\n",
       "\t<tr><th scope=row>IGFBP5</th><td>9.930694e-296</td><td>3.414897</td><td>0.992</td><td>0.078</td><td>4.556202e-292</td><td>Embryonic skin</td><td>IGFBP5 </td></tr>\n",
       "\t<tr><th scope=row>PDLIM1</th><td>6.355355e-292</td><td>3.021909</td><td>0.984</td><td>0.106</td><td>2.915837e-288</td><td>Embryonic skin</td><td>PDLIM1 </td></tr>\n",
       "\t<tr><th scope=row>KRT5</th><td>1.992939e-286</td><td>3.415045</td><td>0.914</td><td>0.027</td><td>9.143606e-283</td><td>Embryonic skin</td><td>KRT5   </td></tr>\n",
       "\t<tr><th scope=row>CLDN6</th><td>1.282715e-280</td><td>3.172095</td><td>0.873</td><td>0.018</td><td>5.885096e-277</td><td>Embryonic skin</td><td>CLDN6  </td></tr>\n",
       "\t<tr><th scope=row>TP63</th><td>1.209358e-279</td><td>3.400349</td><td>0.918</td><td>0.027</td><td>5.548536e-276</td><td>Embryonic skin</td><td>TP63   </td></tr>\n",
       "\t<tr><th scope=row>FREM2</th><td>9.544299e-277</td><td>3.110238</td><td>0.902</td><td>0.032</td><td>4.378924e-273</td><td>Embryonic skin</td><td>FREM2  </td></tr>\n",
       "\t<tr><th scope=row>KRT7</th><td>9.575780e-271</td><td>3.067229</td><td>0.788</td><td>0.008</td><td>4.393368e-267</td><td>Embryonic skin</td><td>KRT7   </td></tr>\n",
       "\t<tr><th scope=row>ESRP1</th><td>7.200690e-269</td><td>3.009892</td><td>0.841</td><td>0.020</td><td>3.303677e-265</td><td>Embryonic skin</td><td>ESRP1  </td></tr>\n",
       "\t<tr><th scope=row>COL18A1</th><td>6.666911e-267</td><td>1.971120</td><td>0.992</td><td>0.465</td><td>3.058779e-263</td><td>Embryonic skin</td><td>COL18A1</td></tr>\n",
       "\t<tr><th scope=row>WNT3</th><td>1.497293e-263</td><td>3.042245</td><td>0.812</td><td>0.014</td><td>6.869581e-260</td><td>Embryonic skin</td><td>WNT3   </td></tr>\n",
       "\t<tr><th scope=row>HAPLN1</th><td>2.095904e-261</td><td>3.220176</td><td>0.910</td><td>0.070</td><td>9.616008e-258</td><td>Embryonic skin</td><td>HAPLN1 </td></tr>\n",
       "\t<tr><th scope=row>SUSD4</th><td>1.846455e-258</td><td>3.030494</td><td>0.890</td><td>0.052</td><td>8.471533e-255</td><td>Embryonic skin</td><td>SUSD4  </td></tr>\n",
       "\t<tr><th scope=row>S100A10</th><td>6.347801e-255</td><td>2.451599</td><td>0.988</td><td>0.281</td><td>2.912371e-251</td><td>Embryonic skin</td><td>S100A10</td></tr>\n",
       "\t<tr><th scope=row>S100A11</th><td>1.023149e-254</td><td>1.608467</td><td>0.996</td><td>0.641</td><td>4.694208e-251</td><td>Embryonic skin</td><td>S100A11</td></tr>\n",
       "\t<tr><th scope=row>GALNT18</th><td>1.100244e-253</td><td>3.012031</td><td>0.914</td><td>0.060</td><td>5.047920e-250</td><td>Embryonic skin</td><td>GALNT18</td></tr>\n",
       "\t<tr><th scope=row>LYPD6B</th><td>3.108518e-253</td><td>3.006908</td><td>0.829</td><td>0.017</td><td>1.426188e-249</td><td>Embryonic skin</td><td>LYPD6B </td></tr>\n",
       "\t<tr><th scope=row>PLTP</th><td>9.216410e-252</td><td>2.929429</td><td>0.882</td><td>0.035</td><td>4.228489e-248</td><td>Embryonic skin</td><td>PLTP   </td></tr>\n",
       "\t<tr><th scope=row>KRT14</th><td>5.181827e-247</td><td>3.121939</td><td>0.739</td><td>0.010</td><td>2.377422e-243</td><td>Embryonic skin</td><td>KRT14  </td></tr>\n",
       "\t<tr><th scope=row>BHLHA9</th><td>2.857289e-245</td><td>3.343425</td><td>0.751</td><td>0.012</td><td>1.310924e-241</td><td>Embryonic skin</td><td>BHLHA9 </td></tr>\n",
       "\t<tr><th scope=row>⋮</th><td>⋮</td><td>⋮</td><td>⋮</td><td>⋮</td><td>⋮</td><td>⋮</td><td>⋮</td></tr>\n",
       "\t<tr><th scope=row>ARHGAP262</th><td>0.01666301</td><td>0.3097835</td><td>0.285</td><td>0.210</td><td>1</td><td>ZPA</td><td>ARHGAP26  </td></tr>\n",
       "\t<tr><th scope=row>FAM13C1</th><td>0.01795380</td><td>0.2627241</td><td>0.272</td><td>0.189</td><td>1</td><td>ZPA</td><td>FAM13C    </td></tr>\n",
       "\t<tr><th scope=row>LBH3</th><td>0.01801365</td><td>0.2153348</td><td>0.323</td><td>0.227</td><td>1</td><td>ZPA</td><td>LBH       </td></tr>\n",
       "\t<tr><th scope=row>PRDM113</th><td>0.01814262</td><td>0.2522411</td><td>0.411</td><td>0.320</td><td>1</td><td>ZPA</td><td>PRDM11    </td></tr>\n",
       "\t<tr><th scope=row>TMEM243</th><td>0.01822965</td><td>0.2143277</td><td>0.557</td><td>0.466</td><td>1</td><td>ZPA</td><td>TMEM243   </td></tr>\n",
       "\t<tr><th scope=row>ZFP57</th><td>0.01846143</td><td>0.2403604</td><td>0.462</td><td>0.371</td><td>1</td><td>ZPA</td><td>ZFP57     </td></tr>\n",
       "\t<tr><th scope=row>CERS42</th><td>0.01866726</td><td>0.2644428</td><td>0.335</td><td>0.247</td><td>1</td><td>ZPA</td><td>CERS4     </td></tr>\n",
       "\t<tr><th scope=row>NEXMIF2</th><td>0.01902733</td><td>0.3779157</td><td>0.158</td><td>0.104</td><td>1</td><td>ZPA</td><td>NEXMIF    </td></tr>\n",
       "\t<tr><th scope=row>NOL4L3</th><td>0.02106211</td><td>0.2532169</td><td>0.335</td><td>0.252</td><td>1</td><td>ZPA</td><td>NOL4L     </td></tr>\n",
       "\t<tr><th scope=row>HOXD41</th><td>0.02130053</td><td>0.2204901</td><td>0.544</td><td>0.449</td><td>1</td><td>ZPA</td><td>HOXD4     </td></tr>\n",
       "\t<tr><th scope=row>MXRA81</th><td>0.02848844</td><td>0.2746754</td><td>0.259</td><td>0.189</td><td>1</td><td>ZPA</td><td>MXRA8     </td></tr>\n",
       "\t<tr><th scope=row>TGFBI1</th><td>0.02972291</td><td>0.2099705</td><td>0.392</td><td>0.303</td><td>1</td><td>ZPA</td><td>TGFBI     </td></tr>\n",
       "\t<tr><th scope=row>KCND22</th><td>0.03202049</td><td>0.3318777</td><td>0.234</td><td>0.169</td><td>1</td><td>ZPA</td><td>KCND2     </td></tr>\n",
       "\t<tr><th scope=row>DUSP12</th><td>0.03216632</td><td>0.2177512</td><td>0.399</td><td>0.315</td><td>1</td><td>ZPA</td><td>DUSP1     </td></tr>\n",
       "\t<tr><th scope=row>TAF4B1</th><td>0.03237868</td><td>0.2514051</td><td>0.354</td><td>0.275</td><td>1</td><td>ZPA</td><td>TAF4B     </td></tr>\n",
       "\t<tr><th scope=row>CLEC14A1</th><td>0.03248004</td><td>0.2352079</td><td>0.101</td><td>0.055</td><td>1</td><td>ZPA</td><td>CLEC14A   </td></tr>\n",
       "\t<tr><th scope=row>CEP552</th><td>0.03418625</td><td>0.2153198</td><td>0.538</td><td>0.460</td><td>1</td><td>ZPA</td><td>CEP55     </td></tr>\n",
       "\t<tr><th scope=row>LY751</th><td>0.03452681</td><td>0.2651045</td><td>0.272</td><td>0.203</td><td>1</td><td>ZPA</td><td>LY75      </td></tr>\n",
       "\t<tr><th scope=row>LY75-CD3021</th><td>0.03452681</td><td>0.2651045</td><td>0.272</td><td>0.203</td><td>1</td><td>ZPA</td><td>LY75-CD302</td></tr>\n",
       "\t<tr><th scope=row>TECPR12</th><td>0.03485359</td><td>0.2524083</td><td>0.278</td><td>0.207</td><td>1</td><td>ZPA</td><td>TECPR1    </td></tr>\n",
       "\t<tr><th scope=row>STK17B3</th><td>0.03501840</td><td>0.2873406</td><td>0.165</td><td>0.113</td><td>1</td><td>ZPA</td><td>STK17B    </td></tr>\n",
       "\t<tr><th scope=row>TMEM1582</th><td>0.03611514</td><td>0.2565037</td><td>0.241</td><td>0.174</td><td>1</td><td>ZPA</td><td>TMEM158   </td></tr>\n",
       "\t<tr><th scope=row>MPPED12</th><td>0.03649222</td><td>0.2371523</td><td>0.101</td><td>0.057</td><td>1</td><td>ZPA</td><td>MPPED1    </td></tr>\n",
       "\t<tr><th scope=row>ANGPTL2</th><td>0.03660973</td><td>0.2199084</td><td>0.443</td><td>0.363</td><td>1</td><td>ZPA</td><td>ANGPTL2   </td></tr>\n",
       "\t<tr><th scope=row>DMD1</th><td>0.03768199</td><td>0.4334606</td><td>0.342</td><td>0.293</td><td>1</td><td>ZPA</td><td>DMD       </td></tr>\n",
       "\t<tr><th scope=row>BMP53</th><td>0.04119771</td><td>0.3012776</td><td>0.209</td><td>0.149</td><td>1</td><td>ZPA</td><td>BMP5      </td></tr>\n",
       "\t<tr><th scope=row>CBLN12</th><td>0.04137864</td><td>0.2215667</td><td>0.215</td><td>0.146</td><td>1</td><td>ZPA</td><td>CBLN1     </td></tr>\n",
       "\t<tr><th scope=row>ZSCAN261</th><td>0.04212858</td><td>0.2308253</td><td>0.506</td><td>0.441</td><td>1</td><td>ZPA</td><td>ZSCAN26   </td></tr>\n",
       "\t<tr><th scope=row>MITF1</th><td>0.04375670</td><td>0.2233796</td><td>0.196</td><td>0.133</td><td>1</td><td>ZPA</td><td>MITF      </td></tr>\n",
       "\t<tr><th scope=row>GLIPR24</th><td>0.04769604</td><td>0.2111900</td><td>0.430</td><td>0.356</td><td>1</td><td>ZPA</td><td>GLIPR2    </td></tr>\n",
       "</tbody>\n",
       "</table>\n"
      ],
      "text/latex": [
       "A data.frame: 5832 × 7\n",
       "\\begin{tabular}{r|lllllll}\n",
       "  & p\\_val & avg\\_log2FC & pct.1 & pct.2 & p\\_val\\_adj & cluster & gene\\\\\n",
       "  & <dbl> & <dbl> & <dbl> & <dbl> & <dbl> & <fct> & <chr>\\\\\n",
       "\\hline\n",
       "\tWNT6 &  0.000000e+00 & 3.622856 & 0.996 & 0.030 &  0.000000e+00 & Embryonic skin & WNT6   \\\\\n",
       "\tPDGFA &  0.000000e+00 & 3.603954 & 0.996 & 0.079 &  0.000000e+00 & Embryonic skin & PDGFA  \\\\\n",
       "\tPERP &  0.000000e+00 & 3.575402 & 0.984 & 0.027 &  0.000000e+00 & Embryonic skin & PERP   \\\\\n",
       "\tWNT4 &  0.000000e+00 & 3.555949 & 0.951 & 0.026 &  0.000000e+00 & Embryonic skin & WNT4   \\\\\n",
       "\tFERMT1 &  0.000000e+00 & 3.428088 & 0.984 & 0.019 &  0.000000e+00 & Embryonic skin & FERMT1 \\\\\n",
       "\tEPCAM & 7.040435e-321 & 3.361296 & 0.996 & 0.102 & 3.230152e-317 & Embryonic skin & EPCAM  \\\\\n",
       "\tHSPB1 & 1.125062e-315 & 3.409250 & 0.988 & 0.069 & 5.161783e-312 & Embryonic skin & HSPB1  \\\\\n",
       "\tWNT7B & 6.081035e-308 & 3.161385 & 0.853 & 0.009 & 2.789979e-304 & Embryonic skin & WNT7B  \\\\\n",
       "\tBCAM & 1.657467e-306 & 3.307708 & 0.971 & 0.046 & 7.604460e-303 & Embryonic skin & BCAM   \\\\\n",
       "\tSFN & 4.837702e-299 & 3.445808 & 0.935 & 0.035 & 2.219538e-295 & Embryonic skin & SFN    \\\\\n",
       "\tKRT18 & 2.541736e-298 & 3.105746 & 0.984 & 0.109 & 1.166149e-294 & Embryonic skin & KRT18  \\\\\n",
       "\tIGFBP5 & 9.930694e-296 & 3.414897 & 0.992 & 0.078 & 4.556202e-292 & Embryonic skin & IGFBP5 \\\\\n",
       "\tPDLIM1 & 6.355355e-292 & 3.021909 & 0.984 & 0.106 & 2.915837e-288 & Embryonic skin & PDLIM1 \\\\\n",
       "\tKRT5 & 1.992939e-286 & 3.415045 & 0.914 & 0.027 & 9.143606e-283 & Embryonic skin & KRT5   \\\\\n",
       "\tCLDN6 & 1.282715e-280 & 3.172095 & 0.873 & 0.018 & 5.885096e-277 & Embryonic skin & CLDN6  \\\\\n",
       "\tTP63 & 1.209358e-279 & 3.400349 & 0.918 & 0.027 & 5.548536e-276 & Embryonic skin & TP63   \\\\\n",
       "\tFREM2 & 9.544299e-277 & 3.110238 & 0.902 & 0.032 & 4.378924e-273 & Embryonic skin & FREM2  \\\\\n",
       "\tKRT7 & 9.575780e-271 & 3.067229 & 0.788 & 0.008 & 4.393368e-267 & Embryonic skin & KRT7   \\\\\n",
       "\tESRP1 & 7.200690e-269 & 3.009892 & 0.841 & 0.020 & 3.303677e-265 & Embryonic skin & ESRP1  \\\\\n",
       "\tCOL18A1 & 6.666911e-267 & 1.971120 & 0.992 & 0.465 & 3.058779e-263 & Embryonic skin & COL18A1\\\\\n",
       "\tWNT3 & 1.497293e-263 & 3.042245 & 0.812 & 0.014 & 6.869581e-260 & Embryonic skin & WNT3   \\\\\n",
       "\tHAPLN1 & 2.095904e-261 & 3.220176 & 0.910 & 0.070 & 9.616008e-258 & Embryonic skin & HAPLN1 \\\\\n",
       "\tSUSD4 & 1.846455e-258 & 3.030494 & 0.890 & 0.052 & 8.471533e-255 & Embryonic skin & SUSD4  \\\\\n",
       "\tS100A10 & 6.347801e-255 & 2.451599 & 0.988 & 0.281 & 2.912371e-251 & Embryonic skin & S100A10\\\\\n",
       "\tS100A11 & 1.023149e-254 & 1.608467 & 0.996 & 0.641 & 4.694208e-251 & Embryonic skin & S100A11\\\\\n",
       "\tGALNT18 & 1.100244e-253 & 3.012031 & 0.914 & 0.060 & 5.047920e-250 & Embryonic skin & GALNT18\\\\\n",
       "\tLYPD6B & 3.108518e-253 & 3.006908 & 0.829 & 0.017 & 1.426188e-249 & Embryonic skin & LYPD6B \\\\\n",
       "\tPLTP & 9.216410e-252 & 2.929429 & 0.882 & 0.035 & 4.228489e-248 & Embryonic skin & PLTP   \\\\\n",
       "\tKRT14 & 5.181827e-247 & 3.121939 & 0.739 & 0.010 & 2.377422e-243 & Embryonic skin & KRT14  \\\\\n",
       "\tBHLHA9 & 2.857289e-245 & 3.343425 & 0.751 & 0.012 & 1.310924e-241 & Embryonic skin & BHLHA9 \\\\\n",
       "\t⋮ & ⋮ & ⋮ & ⋮ & ⋮ & ⋮ & ⋮ & ⋮\\\\\n",
       "\tARHGAP262 & 0.01666301 & 0.3097835 & 0.285 & 0.210 & 1 & ZPA & ARHGAP26  \\\\\n",
       "\tFAM13C1 & 0.01795380 & 0.2627241 & 0.272 & 0.189 & 1 & ZPA & FAM13C    \\\\\n",
       "\tLBH3 & 0.01801365 & 0.2153348 & 0.323 & 0.227 & 1 & ZPA & LBH       \\\\\n",
       "\tPRDM113 & 0.01814262 & 0.2522411 & 0.411 & 0.320 & 1 & ZPA & PRDM11    \\\\\n",
       "\tTMEM243 & 0.01822965 & 0.2143277 & 0.557 & 0.466 & 1 & ZPA & TMEM243   \\\\\n",
       "\tZFP57 & 0.01846143 & 0.2403604 & 0.462 & 0.371 & 1 & ZPA & ZFP57     \\\\\n",
       "\tCERS42 & 0.01866726 & 0.2644428 & 0.335 & 0.247 & 1 & ZPA & CERS4     \\\\\n",
       "\tNEXMIF2 & 0.01902733 & 0.3779157 & 0.158 & 0.104 & 1 & ZPA & NEXMIF    \\\\\n",
       "\tNOL4L3 & 0.02106211 & 0.2532169 & 0.335 & 0.252 & 1 & ZPA & NOL4L     \\\\\n",
       "\tHOXD41 & 0.02130053 & 0.2204901 & 0.544 & 0.449 & 1 & ZPA & HOXD4     \\\\\n",
       "\tMXRA81 & 0.02848844 & 0.2746754 & 0.259 & 0.189 & 1 & ZPA & MXRA8     \\\\\n",
       "\tTGFBI1 & 0.02972291 & 0.2099705 & 0.392 & 0.303 & 1 & ZPA & TGFBI     \\\\\n",
       "\tKCND22 & 0.03202049 & 0.3318777 & 0.234 & 0.169 & 1 & ZPA & KCND2     \\\\\n",
       "\tDUSP12 & 0.03216632 & 0.2177512 & 0.399 & 0.315 & 1 & ZPA & DUSP1     \\\\\n",
       "\tTAF4B1 & 0.03237868 & 0.2514051 & 0.354 & 0.275 & 1 & ZPA & TAF4B     \\\\\n",
       "\tCLEC14A1 & 0.03248004 & 0.2352079 & 0.101 & 0.055 & 1 & ZPA & CLEC14A   \\\\\n",
       "\tCEP552 & 0.03418625 & 0.2153198 & 0.538 & 0.460 & 1 & ZPA & CEP55     \\\\\n",
       "\tLY751 & 0.03452681 & 0.2651045 & 0.272 & 0.203 & 1 & ZPA & LY75      \\\\\n",
       "\tLY75-CD3021 & 0.03452681 & 0.2651045 & 0.272 & 0.203 & 1 & ZPA & LY75-CD302\\\\\n",
       "\tTECPR12 & 0.03485359 & 0.2524083 & 0.278 & 0.207 & 1 & ZPA & TECPR1    \\\\\n",
       "\tSTK17B3 & 0.03501840 & 0.2873406 & 0.165 & 0.113 & 1 & ZPA & STK17B    \\\\\n",
       "\tTMEM1582 & 0.03611514 & 0.2565037 & 0.241 & 0.174 & 1 & ZPA & TMEM158   \\\\\n",
       "\tMPPED12 & 0.03649222 & 0.2371523 & 0.101 & 0.057 & 1 & ZPA & MPPED1    \\\\\n",
       "\tANGPTL2 & 0.03660973 & 0.2199084 & 0.443 & 0.363 & 1 & ZPA & ANGPTL2   \\\\\n",
       "\tDMD1 & 0.03768199 & 0.4334606 & 0.342 & 0.293 & 1 & ZPA & DMD       \\\\\n",
       "\tBMP53 & 0.04119771 & 0.3012776 & 0.209 & 0.149 & 1 & ZPA & BMP5      \\\\\n",
       "\tCBLN12 & 0.04137864 & 0.2215667 & 0.215 & 0.146 & 1 & ZPA & CBLN1     \\\\\n",
       "\tZSCAN261 & 0.04212858 & 0.2308253 & 0.506 & 0.441 & 1 & ZPA & ZSCAN26   \\\\\n",
       "\tMITF1 & 0.04375670 & 0.2233796 & 0.196 & 0.133 & 1 & ZPA & MITF      \\\\\n",
       "\tGLIPR24 & 0.04769604 & 0.2111900 & 0.430 & 0.356 & 1 & ZPA & GLIPR2    \\\\\n",
       "\\end{tabular}\n"
      ],
      "text/markdown": [
       "\n",
       "A data.frame: 5832 × 7\n",
       "\n",
       "| <!--/--> | p_val &lt;dbl&gt; | avg_log2FC &lt;dbl&gt; | pct.1 &lt;dbl&gt; | pct.2 &lt;dbl&gt; | p_val_adj &lt;dbl&gt; | cluster &lt;fct&gt; | gene &lt;chr&gt; |\n",
       "|---|---|---|---|---|---|---|---|\n",
       "| WNT6 |  0.000000e+00 | 3.622856 | 0.996 | 0.030 |  0.000000e+00 | Embryonic skin | WNT6    |\n",
       "| PDGFA |  0.000000e+00 | 3.603954 | 0.996 | 0.079 |  0.000000e+00 | Embryonic skin | PDGFA   |\n",
       "| PERP |  0.000000e+00 | 3.575402 | 0.984 | 0.027 |  0.000000e+00 | Embryonic skin | PERP    |\n",
       "| WNT4 |  0.000000e+00 | 3.555949 | 0.951 | 0.026 |  0.000000e+00 | Embryonic skin | WNT4    |\n",
       "| FERMT1 |  0.000000e+00 | 3.428088 | 0.984 | 0.019 |  0.000000e+00 | Embryonic skin | FERMT1  |\n",
       "| EPCAM | 7.040435e-321 | 3.361296 | 0.996 | 0.102 | 3.230152e-317 | Embryonic skin | EPCAM   |\n",
       "| HSPB1 | 1.125062e-315 | 3.409250 | 0.988 | 0.069 | 5.161783e-312 | Embryonic skin | HSPB1   |\n",
       "| WNT7B | 6.081035e-308 | 3.161385 | 0.853 | 0.009 | 2.789979e-304 | Embryonic skin | WNT7B   |\n",
       "| BCAM | 1.657467e-306 | 3.307708 | 0.971 | 0.046 | 7.604460e-303 | Embryonic skin | BCAM    |\n",
       "| SFN | 4.837702e-299 | 3.445808 | 0.935 | 0.035 | 2.219538e-295 | Embryonic skin | SFN     |\n",
       "| KRT18 | 2.541736e-298 | 3.105746 | 0.984 | 0.109 | 1.166149e-294 | Embryonic skin | KRT18   |\n",
       "| IGFBP5 | 9.930694e-296 | 3.414897 | 0.992 | 0.078 | 4.556202e-292 | Embryonic skin | IGFBP5  |\n",
       "| PDLIM1 | 6.355355e-292 | 3.021909 | 0.984 | 0.106 | 2.915837e-288 | Embryonic skin | PDLIM1  |\n",
       "| KRT5 | 1.992939e-286 | 3.415045 | 0.914 | 0.027 | 9.143606e-283 | Embryonic skin | KRT5    |\n",
       "| CLDN6 | 1.282715e-280 | 3.172095 | 0.873 | 0.018 | 5.885096e-277 | Embryonic skin | CLDN6   |\n",
       "| TP63 | 1.209358e-279 | 3.400349 | 0.918 | 0.027 | 5.548536e-276 | Embryonic skin | TP63    |\n",
       "| FREM2 | 9.544299e-277 | 3.110238 | 0.902 | 0.032 | 4.378924e-273 | Embryonic skin | FREM2   |\n",
       "| KRT7 | 9.575780e-271 | 3.067229 | 0.788 | 0.008 | 4.393368e-267 | Embryonic skin | KRT7    |\n",
       "| ESRP1 | 7.200690e-269 | 3.009892 | 0.841 | 0.020 | 3.303677e-265 | Embryonic skin | ESRP1   |\n",
       "| COL18A1 | 6.666911e-267 | 1.971120 | 0.992 | 0.465 | 3.058779e-263 | Embryonic skin | COL18A1 |\n",
       "| WNT3 | 1.497293e-263 | 3.042245 | 0.812 | 0.014 | 6.869581e-260 | Embryonic skin | WNT3    |\n",
       "| HAPLN1 | 2.095904e-261 | 3.220176 | 0.910 | 0.070 | 9.616008e-258 | Embryonic skin | HAPLN1  |\n",
       "| SUSD4 | 1.846455e-258 | 3.030494 | 0.890 | 0.052 | 8.471533e-255 | Embryonic skin | SUSD4   |\n",
       "| S100A10 | 6.347801e-255 | 2.451599 | 0.988 | 0.281 | 2.912371e-251 | Embryonic skin | S100A10 |\n",
       "| S100A11 | 1.023149e-254 | 1.608467 | 0.996 | 0.641 | 4.694208e-251 | Embryonic skin | S100A11 |\n",
       "| GALNT18 | 1.100244e-253 | 3.012031 | 0.914 | 0.060 | 5.047920e-250 | Embryonic skin | GALNT18 |\n",
       "| LYPD6B | 3.108518e-253 | 3.006908 | 0.829 | 0.017 | 1.426188e-249 | Embryonic skin | LYPD6B  |\n",
       "| PLTP | 9.216410e-252 | 2.929429 | 0.882 | 0.035 | 4.228489e-248 | Embryonic skin | PLTP    |\n",
       "| KRT14 | 5.181827e-247 | 3.121939 | 0.739 | 0.010 | 2.377422e-243 | Embryonic skin | KRT14   |\n",
       "| BHLHA9 | 2.857289e-245 | 3.343425 | 0.751 | 0.012 | 1.310924e-241 | Embryonic skin | BHLHA9  |\n",
       "| ⋮ | ⋮ | ⋮ | ⋮ | ⋮ | ⋮ | ⋮ | ⋮ |\n",
       "| ARHGAP262 | 0.01666301 | 0.3097835 | 0.285 | 0.210 | 1 | ZPA | ARHGAP26   |\n",
       "| FAM13C1 | 0.01795380 | 0.2627241 | 0.272 | 0.189 | 1 | ZPA | FAM13C     |\n",
       "| LBH3 | 0.01801365 | 0.2153348 | 0.323 | 0.227 | 1 | ZPA | LBH        |\n",
       "| PRDM113 | 0.01814262 | 0.2522411 | 0.411 | 0.320 | 1 | ZPA | PRDM11     |\n",
       "| TMEM243 | 0.01822965 | 0.2143277 | 0.557 | 0.466 | 1 | ZPA | TMEM243    |\n",
       "| ZFP57 | 0.01846143 | 0.2403604 | 0.462 | 0.371 | 1 | ZPA | ZFP57      |\n",
       "| CERS42 | 0.01866726 | 0.2644428 | 0.335 | 0.247 | 1 | ZPA | CERS4      |\n",
       "| NEXMIF2 | 0.01902733 | 0.3779157 | 0.158 | 0.104 | 1 | ZPA | NEXMIF     |\n",
       "| NOL4L3 | 0.02106211 | 0.2532169 | 0.335 | 0.252 | 1 | ZPA | NOL4L      |\n",
       "| HOXD41 | 0.02130053 | 0.2204901 | 0.544 | 0.449 | 1 | ZPA | HOXD4      |\n",
       "| MXRA81 | 0.02848844 | 0.2746754 | 0.259 | 0.189 | 1 | ZPA | MXRA8      |\n",
       "| TGFBI1 | 0.02972291 | 0.2099705 | 0.392 | 0.303 | 1 | ZPA | TGFBI      |\n",
       "| KCND22 | 0.03202049 | 0.3318777 | 0.234 | 0.169 | 1 | ZPA | KCND2      |\n",
       "| DUSP12 | 0.03216632 | 0.2177512 | 0.399 | 0.315 | 1 | ZPA | DUSP1      |\n",
       "| TAF4B1 | 0.03237868 | 0.2514051 | 0.354 | 0.275 | 1 | ZPA | TAF4B      |\n",
       "| CLEC14A1 | 0.03248004 | 0.2352079 | 0.101 | 0.055 | 1 | ZPA | CLEC14A    |\n",
       "| CEP552 | 0.03418625 | 0.2153198 | 0.538 | 0.460 | 1 | ZPA | CEP55      |\n",
       "| LY751 | 0.03452681 | 0.2651045 | 0.272 | 0.203 | 1 | ZPA | LY75       |\n",
       "| LY75-CD3021 | 0.03452681 | 0.2651045 | 0.272 | 0.203 | 1 | ZPA | LY75-CD302 |\n",
       "| TECPR12 | 0.03485359 | 0.2524083 | 0.278 | 0.207 | 1 | ZPA | TECPR1     |\n",
       "| STK17B3 | 0.03501840 | 0.2873406 | 0.165 | 0.113 | 1 | ZPA | STK17B     |\n",
       "| TMEM1582 | 0.03611514 | 0.2565037 | 0.241 | 0.174 | 1 | ZPA | TMEM158    |\n",
       "| MPPED12 | 0.03649222 | 0.2371523 | 0.101 | 0.057 | 1 | ZPA | MPPED1     |\n",
       "| ANGPTL2 | 0.03660973 | 0.2199084 | 0.443 | 0.363 | 1 | ZPA | ANGPTL2    |\n",
       "| DMD1 | 0.03768199 | 0.4334606 | 0.342 | 0.293 | 1 | ZPA | DMD        |\n",
       "| BMP53 | 0.04119771 | 0.3012776 | 0.209 | 0.149 | 1 | ZPA | BMP5       |\n",
       "| CBLN12 | 0.04137864 | 0.2215667 | 0.215 | 0.146 | 1 | ZPA | CBLN1      |\n",
       "| ZSCAN261 | 0.04212858 | 0.2308253 | 0.506 | 0.441 | 1 | ZPA | ZSCAN26    |\n",
       "| MITF1 | 0.04375670 | 0.2233796 | 0.196 | 0.133 | 1 | ZPA | MITF       |\n",
       "| GLIPR24 | 0.04769604 | 0.2111900 | 0.430 | 0.356 | 1 | ZPA | GLIPR2     |\n",
       "\n"
      ],
      "text/plain": [
       "            p_val         avg_log2FC pct.1 pct.2 p_val_adj     cluster       \n",
       "WNT6         0.000000e+00 3.622856   0.996 0.030  0.000000e+00 Embryonic skin\n",
       "PDGFA        0.000000e+00 3.603954   0.996 0.079  0.000000e+00 Embryonic skin\n",
       "PERP         0.000000e+00 3.575402   0.984 0.027  0.000000e+00 Embryonic skin\n",
       "WNT4         0.000000e+00 3.555949   0.951 0.026  0.000000e+00 Embryonic skin\n",
       "FERMT1       0.000000e+00 3.428088   0.984 0.019  0.000000e+00 Embryonic skin\n",
       "EPCAM       7.040435e-321 3.361296   0.996 0.102 3.230152e-317 Embryonic skin\n",
       "HSPB1       1.125062e-315 3.409250   0.988 0.069 5.161783e-312 Embryonic skin\n",
       "WNT7B       6.081035e-308 3.161385   0.853 0.009 2.789979e-304 Embryonic skin\n",
       "BCAM        1.657467e-306 3.307708   0.971 0.046 7.604460e-303 Embryonic skin\n",
       "SFN         4.837702e-299 3.445808   0.935 0.035 2.219538e-295 Embryonic skin\n",
       "KRT18       2.541736e-298 3.105746   0.984 0.109 1.166149e-294 Embryonic skin\n",
       "IGFBP5      9.930694e-296 3.414897   0.992 0.078 4.556202e-292 Embryonic skin\n",
       "PDLIM1      6.355355e-292 3.021909   0.984 0.106 2.915837e-288 Embryonic skin\n",
       "KRT5        1.992939e-286 3.415045   0.914 0.027 9.143606e-283 Embryonic skin\n",
       "CLDN6       1.282715e-280 3.172095   0.873 0.018 5.885096e-277 Embryonic skin\n",
       "TP63        1.209358e-279 3.400349   0.918 0.027 5.548536e-276 Embryonic skin\n",
       "FREM2       9.544299e-277 3.110238   0.902 0.032 4.378924e-273 Embryonic skin\n",
       "KRT7        9.575780e-271 3.067229   0.788 0.008 4.393368e-267 Embryonic skin\n",
       "ESRP1       7.200690e-269 3.009892   0.841 0.020 3.303677e-265 Embryonic skin\n",
       "COL18A1     6.666911e-267 1.971120   0.992 0.465 3.058779e-263 Embryonic skin\n",
       "WNT3        1.497293e-263 3.042245   0.812 0.014 6.869581e-260 Embryonic skin\n",
       "HAPLN1      2.095904e-261 3.220176   0.910 0.070 9.616008e-258 Embryonic skin\n",
       "SUSD4       1.846455e-258 3.030494   0.890 0.052 8.471533e-255 Embryonic skin\n",
       "S100A10     6.347801e-255 2.451599   0.988 0.281 2.912371e-251 Embryonic skin\n",
       "S100A11     1.023149e-254 1.608467   0.996 0.641 4.694208e-251 Embryonic skin\n",
       "GALNT18     1.100244e-253 3.012031   0.914 0.060 5.047920e-250 Embryonic skin\n",
       "LYPD6B      3.108518e-253 3.006908   0.829 0.017 1.426188e-249 Embryonic skin\n",
       "PLTP        9.216410e-252 2.929429   0.882 0.035 4.228489e-248 Embryonic skin\n",
       "KRT14       5.181827e-247 3.121939   0.739 0.010 2.377422e-243 Embryonic skin\n",
       "BHLHA9      2.857289e-245 3.343425   0.751 0.012 1.310924e-241 Embryonic skin\n",
       "⋮           ⋮             ⋮          ⋮     ⋮     ⋮             ⋮             \n",
       "ARHGAP262   0.01666301    0.3097835  0.285 0.210 1             ZPA           \n",
       "FAM13C1     0.01795380    0.2627241  0.272 0.189 1             ZPA           \n",
       "LBH3        0.01801365    0.2153348  0.323 0.227 1             ZPA           \n",
       "PRDM113     0.01814262    0.2522411  0.411 0.320 1             ZPA           \n",
       "TMEM243     0.01822965    0.2143277  0.557 0.466 1             ZPA           \n",
       "ZFP57       0.01846143    0.2403604  0.462 0.371 1             ZPA           \n",
       "CERS42      0.01866726    0.2644428  0.335 0.247 1             ZPA           \n",
       "NEXMIF2     0.01902733    0.3779157  0.158 0.104 1             ZPA           \n",
       "NOL4L3      0.02106211    0.2532169  0.335 0.252 1             ZPA           \n",
       "HOXD41      0.02130053    0.2204901  0.544 0.449 1             ZPA           \n",
       "MXRA81      0.02848844    0.2746754  0.259 0.189 1             ZPA           \n",
       "TGFBI1      0.02972291    0.2099705  0.392 0.303 1             ZPA           \n",
       "KCND22      0.03202049    0.3318777  0.234 0.169 1             ZPA           \n",
       "DUSP12      0.03216632    0.2177512  0.399 0.315 1             ZPA           \n",
       "TAF4B1      0.03237868    0.2514051  0.354 0.275 1             ZPA           \n",
       "CLEC14A1    0.03248004    0.2352079  0.101 0.055 1             ZPA           \n",
       "CEP552      0.03418625    0.2153198  0.538 0.460 1             ZPA           \n",
       "LY751       0.03452681    0.2651045  0.272 0.203 1             ZPA           \n",
       "LY75-CD3021 0.03452681    0.2651045  0.272 0.203 1             ZPA           \n",
       "TECPR12     0.03485359    0.2524083  0.278 0.207 1             ZPA           \n",
       "STK17B3     0.03501840    0.2873406  0.165 0.113 1             ZPA           \n",
       "TMEM1582    0.03611514    0.2565037  0.241 0.174 1             ZPA           \n",
       "MPPED12     0.03649222    0.2371523  0.101 0.057 1             ZPA           \n",
       "ANGPTL2     0.03660973    0.2199084  0.443 0.363 1             ZPA           \n",
       "DMD1        0.03768199    0.4334606  0.342 0.293 1             ZPA           \n",
       "BMP53       0.04119771    0.3012776  0.209 0.149 1             ZPA           \n",
       "CBLN12      0.04137864    0.2215667  0.215 0.146 1             ZPA           \n",
       "ZSCAN261    0.04212858    0.2308253  0.506 0.441 1             ZPA           \n",
       "MITF1       0.04375670    0.2233796  0.196 0.133 1             ZPA           \n",
       "GLIPR24     0.04769604    0.2111900  0.430 0.356 1             ZPA           \n",
       "            gene      \n",
       "WNT6        WNT6      \n",
       "PDGFA       PDGFA     \n",
       "PERP        PERP      \n",
       "WNT4        WNT4      \n",
       "FERMT1      FERMT1    \n",
       "EPCAM       EPCAM     \n",
       "HSPB1       HSPB1     \n",
       "WNT7B       WNT7B     \n",
       "BCAM        BCAM      \n",
       "SFN         SFN       \n",
       "KRT18       KRT18     \n",
       "IGFBP5      IGFBP5    \n",
       "PDLIM1      PDLIM1    \n",
       "KRT5        KRT5      \n",
       "CLDN6       CLDN6     \n",
       "TP63        TP63      \n",
       "FREM2       FREM2     \n",
       "KRT7        KRT7      \n",
       "ESRP1       ESRP1     \n",
       "COL18A1     COL18A1   \n",
       "WNT3        WNT3      \n",
       "HAPLN1      HAPLN1    \n",
       "SUSD4       SUSD4     \n",
       "S100A10     S100A10   \n",
       "S100A11     S100A11   \n",
       "GALNT18     GALNT18   \n",
       "LYPD6B      LYPD6B    \n",
       "PLTP        PLTP      \n",
       "KRT14       KRT14     \n",
       "BHLHA9      BHLHA9    \n",
       "⋮           ⋮         \n",
       "ARHGAP262   ARHGAP26  \n",
       "FAM13C1     FAM13C    \n",
       "LBH3        LBH       \n",
       "PRDM113     PRDM11    \n",
       "TMEM243     TMEM243   \n",
       "ZFP57       ZFP57     \n",
       "CERS42      CERS4     \n",
       "NEXMIF2     NEXMIF    \n",
       "NOL4L3      NOL4L     \n",
       "HOXD41      HOXD4     \n",
       "MXRA81      MXRA8     \n",
       "TGFBI1      TGFBI     \n",
       "KCND22      KCND2     \n",
       "DUSP12      DUSP1     \n",
       "TAF4B1      TAF4B     \n",
       "CLEC14A1    CLEC14A   \n",
       "CEP552      CEP55     \n",
       "LY751       LY75      \n",
       "LY75-CD3021 LY75-CD302\n",
       "TECPR12     TECPR1    \n",
       "STK17B3     STK17B    \n",
       "TMEM1582    TMEM158   \n",
       "MPPED12     MPPED1    \n",
       "ANGPTL2     ANGPTL2   \n",
       "DMD1        DMD       \n",
       "BMP53       BMP5      \n",
       "CBLN12      CBLN1     \n",
       "ZSCAN261    ZSCAN26   \n",
       "MITF1       MITF      \n",
       "GLIPR24     GLIPR2    "
      ]
     },
     "metadata": {},
     "output_type": "display_data"
    }
   ],
   "source": [
    "DEGs"
   ]
  },
  {
   "cell_type": "code",
   "execution_count": 17,
   "id": "38426174-ed4b-4754-b239-43bcd98475e2",
   "metadata": {},
   "outputs": [],
   "source": [
    "fDEGs = subset(DEGs, p_val_adj < 0.05 & avg_log2FC > 0.1)\n",
    "\n",
    "# 1st column = cluster; 2nd column = gene \n",
    "fDEGs = fDEGs[, c('cluster', 'gene', 'p_val_adj', 'p_val', 'avg_log2FC', 'pct.1', 'pct.2')] \n",
    "write.table(fDEGs, file ='E10.5_DEGs.tsv', sep = '\\t', quote = F, row.names = F)"
   ]
  },
  {
   "cell_type": "code",
   "execution_count": 18,
   "id": "86e0cf7a-d78a-4863-88fc-6b8bfc73fa15",
   "metadata": {},
   "outputs": [
    {
     "data": {
      "text/html": [
       "<table class=\"dataframe\">\n",
       "<caption>A data.frame: 6 × 7</caption>\n",
       "<thead>\n",
       "\t<tr><th></th><th scope=col>cluster</th><th scope=col>gene</th><th scope=col>p_val_adj</th><th scope=col>p_val</th><th scope=col>avg_log2FC</th><th scope=col>pct.1</th><th scope=col>pct.2</th></tr>\n",
       "\t<tr><th></th><th scope=col>&lt;fct&gt;</th><th scope=col>&lt;chr&gt;</th><th scope=col>&lt;dbl&gt;</th><th scope=col>&lt;dbl&gt;</th><th scope=col>&lt;dbl&gt;</th><th scope=col>&lt;dbl&gt;</th><th scope=col>&lt;dbl&gt;</th></tr>\n",
       "</thead>\n",
       "<tbody>\n",
       "\t<tr><th scope=row>WNT6</th><td>Embryonic skin</td><td>WNT6  </td><td> 0.000000e+00</td><td> 0.000000e+00</td><td>3.622856</td><td>0.996</td><td>0.030</td></tr>\n",
       "\t<tr><th scope=row>PDGFA</th><td>Embryonic skin</td><td>PDGFA </td><td> 0.000000e+00</td><td> 0.000000e+00</td><td>3.603954</td><td>0.996</td><td>0.079</td></tr>\n",
       "\t<tr><th scope=row>PERP</th><td>Embryonic skin</td><td>PERP  </td><td> 0.000000e+00</td><td> 0.000000e+00</td><td>3.575402</td><td>0.984</td><td>0.027</td></tr>\n",
       "\t<tr><th scope=row>WNT4</th><td>Embryonic skin</td><td>WNT4  </td><td> 0.000000e+00</td><td> 0.000000e+00</td><td>3.555949</td><td>0.951</td><td>0.026</td></tr>\n",
       "\t<tr><th scope=row>FERMT1</th><td>Embryonic skin</td><td>FERMT1</td><td> 0.000000e+00</td><td> 0.000000e+00</td><td>3.428088</td><td>0.984</td><td>0.019</td></tr>\n",
       "\t<tr><th scope=row>EPCAM</th><td>Embryonic skin</td><td>EPCAM </td><td>3.230152e-317</td><td>7.040435e-321</td><td>3.361296</td><td>0.996</td><td>0.102</td></tr>\n",
       "</tbody>\n",
       "</table>\n"
      ],
      "text/latex": [
       "A data.frame: 6 × 7\n",
       "\\begin{tabular}{r|lllllll}\n",
       "  & cluster & gene & p\\_val\\_adj & p\\_val & avg\\_log2FC & pct.1 & pct.2\\\\\n",
       "  & <fct> & <chr> & <dbl> & <dbl> & <dbl> & <dbl> & <dbl>\\\\\n",
       "\\hline\n",
       "\tWNT6 & Embryonic skin & WNT6   &  0.000000e+00 &  0.000000e+00 & 3.622856 & 0.996 & 0.030\\\\\n",
       "\tPDGFA & Embryonic skin & PDGFA  &  0.000000e+00 &  0.000000e+00 & 3.603954 & 0.996 & 0.079\\\\\n",
       "\tPERP & Embryonic skin & PERP   &  0.000000e+00 &  0.000000e+00 & 3.575402 & 0.984 & 0.027\\\\\n",
       "\tWNT4 & Embryonic skin & WNT4   &  0.000000e+00 &  0.000000e+00 & 3.555949 & 0.951 & 0.026\\\\\n",
       "\tFERMT1 & Embryonic skin & FERMT1 &  0.000000e+00 &  0.000000e+00 & 3.428088 & 0.984 & 0.019\\\\\n",
       "\tEPCAM & Embryonic skin & EPCAM  & 3.230152e-317 & 7.040435e-321 & 3.361296 & 0.996 & 0.102\\\\\n",
       "\\end{tabular}\n"
      ],
      "text/markdown": [
       "\n",
       "A data.frame: 6 × 7\n",
       "\n",
       "| <!--/--> | cluster &lt;fct&gt; | gene &lt;chr&gt; | p_val_adj &lt;dbl&gt; | p_val &lt;dbl&gt; | avg_log2FC &lt;dbl&gt; | pct.1 &lt;dbl&gt; | pct.2 &lt;dbl&gt; |\n",
       "|---|---|---|---|---|---|---|---|\n",
       "| WNT6 | Embryonic skin | WNT6   |  0.000000e+00 |  0.000000e+00 | 3.622856 | 0.996 | 0.030 |\n",
       "| PDGFA | Embryonic skin | PDGFA  |  0.000000e+00 |  0.000000e+00 | 3.603954 | 0.996 | 0.079 |\n",
       "| PERP | Embryonic skin | PERP   |  0.000000e+00 |  0.000000e+00 | 3.575402 | 0.984 | 0.027 |\n",
       "| WNT4 | Embryonic skin | WNT4   |  0.000000e+00 |  0.000000e+00 | 3.555949 | 0.951 | 0.026 |\n",
       "| FERMT1 | Embryonic skin | FERMT1 |  0.000000e+00 |  0.000000e+00 | 3.428088 | 0.984 | 0.019 |\n",
       "| EPCAM | Embryonic skin | EPCAM  | 3.230152e-317 | 7.040435e-321 | 3.361296 | 0.996 | 0.102 |\n",
       "\n"
      ],
      "text/plain": [
       "       cluster        gene   p_val_adj     p_val         avg_log2FC pct.1 pct.2\n",
       "WNT6   Embryonic skin WNT6    0.000000e+00  0.000000e+00 3.622856   0.996 0.030\n",
       "PDGFA  Embryonic skin PDGFA   0.000000e+00  0.000000e+00 3.603954   0.996 0.079\n",
       "PERP   Embryonic skin PERP    0.000000e+00  0.000000e+00 3.575402   0.984 0.027\n",
       "WNT4   Embryonic skin WNT4    0.000000e+00  0.000000e+00 3.555949   0.951 0.026\n",
       "FERMT1 Embryonic skin FERMT1  0.000000e+00  0.000000e+00 3.428088   0.984 0.019\n",
       "EPCAM  Embryonic skin EPCAM  3.230152e-317 7.040435e-321 3.361296   0.996 0.102"
      ]
     },
     "metadata": {},
     "output_type": "display_data"
    }
   ],
   "source": [
    "head(fDEGs)"
   ]
  },
  {
   "cell_type": "code",
   "execution_count": 19,
   "id": "6dca1135-d9a0-40c0-a366-6d487a63b960",
   "metadata": {},
   "outputs": [
    {
     "data": {
      "text/html": [
       "TRUE"
      ],
      "text/latex": [
       "TRUE"
      ],
      "text/markdown": [
       "TRUE"
      ],
      "text/plain": [
       "[1] TRUE"
      ]
     },
     "metadata": {},
     "output_type": "display_data"
    }
   ],
   "source": [
    " 'BMP7' %in% rownames(fDEGs)"
   ]
  },
  {
   "cell_type": "markdown",
   "id": "60343f4d-9d85-4556-accb-25ff74a696f4",
   "metadata": {},
   "source": [
    "# E11.5"
   ]
  },
  {
   "cell_type": "code",
   "execution_count": 20,
   "id": "70758f3c-8f55-44e5-b759-7d805556839a",
   "metadata": {},
   "outputs": [],
   "source": [
    "Idents(Atlas) <- Atlas@meta.data$DevTP"
   ]
  },
  {
   "cell_type": "code",
   "execution_count": 21,
   "id": "549f684c-238c-437c-9bef-339c5814a8c0",
   "metadata": {},
   "outputs": [],
   "source": [
    "so <- subset(Atlas, idents = c('E11.5'))"
   ]
  },
  {
   "cell_type": "code",
   "execution_count": 22,
   "id": "20ce4f74-c662-4135-8a01-454a7288cd45",
   "metadata": {},
   "outputs": [],
   "source": [
    "so <- NormalizeData(object = so)"
   ]
  },
  {
   "cell_type": "code",
   "execution_count": 23,
   "id": "df709ec6-1847-4dc2-bb5f-40e0f739a0b4",
   "metadata": {},
   "outputs": [
    {
     "data": {
      "text/plain": [
       "An object of class Seurat \n",
       "4588 features across 8290 samples within 1 assay \n",
       "Active assay: RNA (4588 features, 0 variable features)\n",
       " 5 dimensional reductions calculated: mde, mde_scanvi, pca, scANVI, scVI"
      ]
     },
     "metadata": {},
     "output_type": "display_data"
    }
   ],
   "source": [
    "so"
   ]
  },
  {
   "cell_type": "markdown",
   "id": "bc0546e2-37ff-42ce-9352-647c4d5e308b",
   "metadata": {},
   "source": [
    "## 2. Write gene expression in mtx format"
   ]
  },
  {
   "cell_type": "code",
   "execution_count": 24,
   "id": "05fca12c-125b-4d77-b427-c6f675ef5ccc",
   "metadata": {},
   "outputs": [
    {
     "data": {
      "text/plain": [
       "NULL"
      ]
     },
     "metadata": {},
     "output_type": "display_data"
    }
   ],
   "source": [
    "# Save normalised counts - NOT scaled!\n",
    "writeMM(so@assays$RNA@data, file = 'E11.5/matrix.mtx')\n",
    "# save gene and cell names\n",
    "write(x = rownames(so@assays$RNA@data), file = \"E11.5/features.tsv\")\n",
    "write(x = colnames(so@assays$RNA@data), file = \"E11.5/barcodes.tsv\")"
   ]
  },
  {
   "cell_type": "markdown",
   "id": "5a621aaa-0c80-493e-8eb6-63064b0536b1",
   "metadata": {},
   "source": [
    "## 3. Generate your meta\n",
    "In this example, our input is an anndata containing the cluster/celltype information in metadat$'cell_type'\n",
    "\n",
    "The object also has metadat$'lineage' information wich will be used below for a hierarchical DEGs approach."
   ]
  },
  {
   "cell_type": "code",
   "execution_count": 25,
   "id": "fcd55d94-1c91-4b34-b65f-a0df81ebabd1",
   "metadata": {},
   "outputs": [
    {
     "data": {
      "text/plain": [
       "\n",
       "                  Embryonic skin                              TBD \n",
       "                             441                                0 \n",
       "                     LepR+ BMSCs                        Tenocytes \n",
       "                               0                                0 \n",
       "    Proximal limb bud mesenchyme    Pre-hypertrophic chondrocytes \n",
       "                             112                                0 \n",
       "           Periosteal stem cells           Periosteal progenitors \n",
       "                               0                                0 \n",
       "                Osteoprogenitors                      Osteoclasts \n",
       "                               0                                0 \n",
       "                     Osteoblasts Intermediate limb bud mesenchyme \n",
       "                               0                             1544 \n",
       "                    Immune cells        Hypertrophic chondrocytes \n",
       "                              73                                0 \n",
       "      Distal limb bud mesenchyme         Fast proliferating cells \n",
       "                            1611                                0 \n",
       "              Chondroprogenitors       Vascular endothelial cells \n",
       "                            2361                              372 \n",
       "                      Adipocytes        Resting zone chondrocytes \n",
       "                               0                              124 \n",
       "          Articular chondrocytes       Proliferative chondrocytes \n",
       "                               0                                0 \n",
       "                 Erythroid cells              Smooth muscle cells \n",
       "                              21                                0 \n",
       "  Fast proliferating osteoblasts                       Osteocytes \n",
       "                               0                                0 \n",
       "                           SSPCs                        Platelets \n",
       "                               0                                0 \n",
       "            Synovial fibroblasts               Muscle progenitors \n",
       "                               0                               53 \n",
       "             Tenocyte precursors            Skeletal muscle cells \n",
       "                             994                                0 \n",
       "                 Interzone cells                            BMSCs \n",
       "                               0                                0 \n",
       "                      Periosteum                              AER \n",
       "                               0                               64 \n",
       "     Lymphatic endothelial cells                          Neurons \n",
       "                               0                               16 \n",
       "                             ZPA                 Joint precursors \n",
       "                             202                              171 \n",
       "             Myogenic stem cells                      Fibroblasts \n",
       "                             131                                0 "
      ]
     },
     "metadata": {},
     "output_type": "display_data"
    }
   ],
   "source": [
    "table(so@meta.data$CellType)"
   ]
  },
  {
   "cell_type": "code",
   "execution_count": 26,
   "id": "dc88db6b-9561-4efb-b2b8-b82da78f6d9b",
   "metadata": {},
   "outputs": [],
   "source": [
    "so@meta.data$Cell = rownames(so@meta.data)\n",
    "df = so@meta.data[, c('Cell','CellType')]\n",
    "write.table(df, file ='E11.5_meta.tsv', sep = '\\t', quote = F, row.names = F)"
   ]
  },
  {
   "cell_type": "markdown",
   "id": "ececc470-693b-4da1-9de3-082e898a7471",
   "metadata": {},
   "source": [
    "## 4. Compute DEGs (optional)\n",
    "\n",
    "Use Seurat `FindAllMarkers` to compute differentially expressed genes and extract the corresponding data frame `DEGs`.\n",
    "Here there are three options you may be interested on:\n",
    "1. Identify DEGs for each cell type (compare cell type vs rest, most likely option) \n",
    "2. Identify DEGs for each cell type using a per-lineage hierarchycal approach (compare cell type vs rest in the lineage, such as in endometrium paper Garcia-Alonso et al 2021)\n",
    "\n",
    "In the endometrium paper (Garcia-Alonso et al 2021) we're interested in the differences within the stromal and epithelial lineages, rather than the commonalities (example, what is specific of epithelials in the glands compared to epithelials in the lumen). The reason is that epithelial and stromal subtypes vary in space and type and thus we wanna extract the subtile differences within the lineage to better understand their differential location/ biological role.\n"
   ]
  },
  {
   "cell_type": "code",
   "execution_count": 27,
   "id": "de1d2faa-1437-4a8a-aa32-7fac9538a074",
   "metadata": {},
   "outputs": [],
   "source": [
    "Idents(so) <- so$CellType"
   ]
  },
  {
   "cell_type": "code",
   "execution_count": 28,
   "id": "31437ec6-896a-4b03-8722-dd4df13ad6d0",
   "metadata": {},
   "outputs": [
    {
     "name": "stderr",
     "output_type": "stream",
     "text": [
      "Warning message:\n",
      "“glm.fit: fitted probabilities numerically 0 or 1 occurred”\n",
      "Warning message:\n",
      "“glm.fit: fitted probabilities numerically 0 or 1 occurred”\n",
      "Warning message:\n",
      "“glm.fit: fitted probabilities numerically 0 or 1 occurred”\n",
      "Warning message:\n",
      "“glm.fit: fitted probabilities numerically 0 or 1 occurred”\n",
      "Warning message:\n",
      "“glm.fit: fitted probabilities numerically 0 or 1 occurred”\n",
      "Warning message:\n",
      "“glm.fit: fitted probabilities numerically 0 or 1 occurred”\n",
      "Warning message:\n",
      "“glm.fit: fitted probabilities numerically 0 or 1 occurred”\n",
      "Warning message:\n",
      "“glm.fit: fitted probabilities numerically 0 or 1 occurred”\n",
      "Warning message:\n",
      "“glm.fit: fitted probabilities numerically 0 or 1 occurred”\n",
      "Warning message:\n",
      "“glm.fit: fitted probabilities numerically 0 or 1 occurred”\n",
      "Warning message:\n",
      "“glm.fit: fitted probabilities numerically 0 or 1 occurred”\n",
      "Warning message:\n",
      "“glm.fit: fitted probabilities numerically 0 or 1 occurred”\n",
      "Warning message:\n",
      "“glm.fit: fitted probabilities numerically 0 or 1 occurred”\n",
      "Warning message:\n",
      "“glm.fit: fitted probabilities numerically 0 or 1 occurred”\n",
      "Warning message:\n",
      "“glm.fit: fitted probabilities numerically 0 or 1 occurred”\n",
      "Warning message:\n",
      "“glm.fit: fitted probabilities numerically 0 or 1 occurred”\n",
      "Warning message:\n",
      "“glm.fit: fitted probabilities numerically 0 or 1 occurred”\n",
      "Warning message:\n",
      "“glm.fit: fitted probabilities numerically 0 or 1 occurred”\n",
      "Warning message:\n",
      "“glm.fit: fitted probabilities numerically 0 or 1 occurred”\n",
      "Warning message:\n",
      "“glm.fit: fitted probabilities numerically 0 or 1 occurred”\n"
     ]
    }
   ],
   "source": [
    "# OPTION 1 - compute DEGs for all cell types\n",
    "# Extract DEGs for each cell_type\n",
    " DEGs <- FindAllMarkers(so, \n",
    "                        test.use = 'LR', \n",
    "                        verbose = F, \n",
    "                        only.pos = T, \n",
    "                        random.seed = 1, \n",
    "                        logfc.threshold = 0.2, \n",
    "                        min.pct = 0.1, \n",
    "                        return.thresh = 0.05)"
   ]
  },
  {
   "cell_type": "code",
   "execution_count": 29,
   "id": "95b5b493-6628-4773-be1a-23580246cb5b",
   "metadata": {},
   "outputs": [
    {
     "data": {
      "text/html": [
       "TRUE"
      ],
      "text/latex": [
       "TRUE"
      ],
      "text/markdown": [
       "TRUE"
      ],
      "text/plain": [
       "[1] TRUE"
      ]
     },
     "metadata": {},
     "output_type": "display_data"
    }
   ],
   "source": [
    " 'BMP7' %in% rownames(so@assays$RNA@counts)"
   ]
  },
  {
   "cell_type": "code",
   "execution_count": 30,
   "id": "8a0c0aba-a2c6-4588-9483-ffe038db1c1b",
   "metadata": {},
   "outputs": [],
   "source": [
    "fDEGs = subset(DEGs, p_val_adj < 0.05 & avg_log2FC > 0.1)\n",
    "\n",
    "# 1st column = cluster; 2nd column = gene \n",
    "fDEGs = fDEGs[, c('cluster', 'gene', 'p_val_adj', 'p_val', 'avg_log2FC', 'pct.1', 'pct.2')] \n",
    "write.table(fDEGs, file ='E11.5_DEGs.tsv', sep = '\\t', quote = F, row.names = F)"
   ]
  },
  {
   "cell_type": "code",
   "execution_count": 31,
   "id": "63003888-1b1a-4ff1-b70c-43616689d638",
   "metadata": {},
   "outputs": [
    {
     "data": {
      "text/html": [
       "<table class=\"dataframe\">\n",
       "<caption>A data.frame: 6 × 7</caption>\n",
       "<thead>\n",
       "\t<tr><th></th><th scope=col>cluster</th><th scope=col>gene</th><th scope=col>p_val_adj</th><th scope=col>p_val</th><th scope=col>avg_log2FC</th><th scope=col>pct.1</th><th scope=col>pct.2</th></tr>\n",
       "\t<tr><th></th><th scope=col>&lt;fct&gt;</th><th scope=col>&lt;chr&gt;</th><th scope=col>&lt;dbl&gt;</th><th scope=col>&lt;dbl&gt;</th><th scope=col>&lt;dbl&gt;</th><th scope=col>&lt;dbl&gt;</th><th scope=col>&lt;dbl&gt;</th></tr>\n",
       "</thead>\n",
       "<tbody>\n",
       "\t<tr><th scope=row>SFN</th><td>Embryonic skin</td><td>SFN  </td><td>0</td><td>0</td><td>4.134440</td><td>0.971</td><td>0.029</td></tr>\n",
       "\t<tr><th scope=row>PERP</th><td>Embryonic skin</td><td>PERP </td><td>0</td><td>0</td><td>4.102231</td><td>0.993</td><td>0.032</td></tr>\n",
       "\t<tr><th scope=row>WNT6</th><td>Embryonic skin</td><td>WNT6 </td><td>0</td><td>0</td><td>4.015696</td><td>0.964</td><td>0.024</td></tr>\n",
       "\t<tr><th scope=row>KRT14</th><td>Embryonic skin</td><td>KRT14</td><td>0</td><td>0</td><td>3.983657</td><td>0.916</td><td>0.035</td></tr>\n",
       "\t<tr><th scope=row>KRT5</th><td>Embryonic skin</td><td>KRT5 </td><td>0</td><td>0</td><td>3.937162</td><td>0.902</td><td>0.024</td></tr>\n",
       "\t<tr><th scope=row>CLDN4</th><td>Embryonic skin</td><td>CLDN4</td><td>0</td><td>0</td><td>3.932182</td><td>0.778</td><td>0.012</td></tr>\n",
       "</tbody>\n",
       "</table>\n"
      ],
      "text/latex": [
       "A data.frame: 6 × 7\n",
       "\\begin{tabular}{r|lllllll}\n",
       "  & cluster & gene & p\\_val\\_adj & p\\_val & avg\\_log2FC & pct.1 & pct.2\\\\\n",
       "  & <fct> & <chr> & <dbl> & <dbl> & <dbl> & <dbl> & <dbl>\\\\\n",
       "\\hline\n",
       "\tSFN & Embryonic skin & SFN   & 0 & 0 & 4.134440 & 0.971 & 0.029\\\\\n",
       "\tPERP & Embryonic skin & PERP  & 0 & 0 & 4.102231 & 0.993 & 0.032\\\\\n",
       "\tWNT6 & Embryonic skin & WNT6  & 0 & 0 & 4.015696 & 0.964 & 0.024\\\\\n",
       "\tKRT14 & Embryonic skin & KRT14 & 0 & 0 & 3.983657 & 0.916 & 0.035\\\\\n",
       "\tKRT5 & Embryonic skin & KRT5  & 0 & 0 & 3.937162 & 0.902 & 0.024\\\\\n",
       "\tCLDN4 & Embryonic skin & CLDN4 & 0 & 0 & 3.932182 & 0.778 & 0.012\\\\\n",
       "\\end{tabular}\n"
      ],
      "text/markdown": [
       "\n",
       "A data.frame: 6 × 7\n",
       "\n",
       "| <!--/--> | cluster &lt;fct&gt; | gene &lt;chr&gt; | p_val_adj &lt;dbl&gt; | p_val &lt;dbl&gt; | avg_log2FC &lt;dbl&gt; | pct.1 &lt;dbl&gt; | pct.2 &lt;dbl&gt; |\n",
       "|---|---|---|---|---|---|---|---|\n",
       "| SFN | Embryonic skin | SFN   | 0 | 0 | 4.134440 | 0.971 | 0.029 |\n",
       "| PERP | Embryonic skin | PERP  | 0 | 0 | 4.102231 | 0.993 | 0.032 |\n",
       "| WNT6 | Embryonic skin | WNT6  | 0 | 0 | 4.015696 | 0.964 | 0.024 |\n",
       "| KRT14 | Embryonic skin | KRT14 | 0 | 0 | 3.983657 | 0.916 | 0.035 |\n",
       "| KRT5 | Embryonic skin | KRT5  | 0 | 0 | 3.937162 | 0.902 | 0.024 |\n",
       "| CLDN4 | Embryonic skin | CLDN4 | 0 | 0 | 3.932182 | 0.778 | 0.012 |\n",
       "\n"
      ],
      "text/plain": [
       "      cluster        gene  p_val_adj p_val avg_log2FC pct.1 pct.2\n",
       "SFN   Embryonic skin SFN   0         0     4.134440   0.971 0.029\n",
       "PERP  Embryonic skin PERP  0         0     4.102231   0.993 0.032\n",
       "WNT6  Embryonic skin WNT6  0         0     4.015696   0.964 0.024\n",
       "KRT14 Embryonic skin KRT14 0         0     3.983657   0.916 0.035\n",
       "KRT5  Embryonic skin KRT5  0         0     3.937162   0.902 0.024\n",
       "CLDN4 Embryonic skin CLDN4 0         0     3.932182   0.778 0.012"
      ]
     },
     "metadata": {},
     "output_type": "display_data"
    }
   ],
   "source": [
    "head(fDEGs)"
   ]
  },
  {
   "cell_type": "markdown",
   "id": "6ed01617-cfa9-4de6-b4eb-5ae523d82d3c",
   "metadata": {},
   "source": [
    "# E12.5"
   ]
  },
  {
   "cell_type": "code",
   "execution_count": 36,
   "id": "04d42990-da88-4456-9ed7-58ead1855041",
   "metadata": {},
   "outputs": [],
   "source": [
    "Idents(Atlas) <- Atlas@meta.data$DevTP"
   ]
  },
  {
   "cell_type": "code",
   "execution_count": 37,
   "id": "531a6db7-0ceb-4e05-8c23-84d184a651e2",
   "metadata": {},
   "outputs": [],
   "source": [
    "so <- subset(Atlas, idents = c('E12.5'))"
   ]
  },
  {
   "cell_type": "code",
   "execution_count": 38,
   "id": "eb42dc33-0cc1-4dc7-af7b-e6bb870d84b0",
   "metadata": {},
   "outputs": [],
   "source": [
    "so <- NormalizeData(object = so)"
   ]
  },
  {
   "cell_type": "code",
   "execution_count": 39,
   "id": "8939fb1b-69a8-4b71-a3c5-24417f7aa2f1",
   "metadata": {},
   "outputs": [
    {
     "data": {
      "text/plain": [
       "An object of class Seurat \n",
       "4588 features across 10080 samples within 1 assay \n",
       "Active assay: RNA (4588 features, 0 variable features)\n",
       " 5 dimensional reductions calculated: mde, mde_scanvi, pca, scANVI, scVI"
      ]
     },
     "metadata": {},
     "output_type": "display_data"
    }
   ],
   "source": [
    "so"
   ]
  },
  {
   "cell_type": "markdown",
   "id": "ed6b851e-4b34-4199-ae36-4de36e2a8d10",
   "metadata": {},
   "source": [
    "## 2. Write gene expression in mtx format"
   ]
  },
  {
   "cell_type": "code",
   "execution_count": 40,
   "id": "9ca57c10-e908-441a-844a-aa9a3f703dab",
   "metadata": {},
   "outputs": [
    {
     "data": {
      "text/plain": [
       "NULL"
      ]
     },
     "metadata": {},
     "output_type": "display_data"
    }
   ],
   "source": [
    "# Save normalised counts - NOT scaled!\n",
    "writeMM(so@assays$RNA@data, file = 'E12.5/matrix.mtx')\n",
    "# save gene and cell names\n",
    "write(x = rownames(so@assays$RNA@data), file = \"E12.5/features.tsv\")\n",
    "write(x = colnames(so@assays$RNA@data), file = \"E12.5/barcodes.tsv\")"
   ]
  },
  {
   "cell_type": "markdown",
   "id": "a8ca8461-8ac5-4fdd-bfec-612a6830a844",
   "metadata": {},
   "source": [
    "## 3. Generate your meta\n",
    "In this example, our input is an anndata containing the cluster/celltype information in metadat$'cell_type'\n",
    "\n",
    "The object also has metadat$'lineage' information wich will be used below for a hierarchical DEGs approach."
   ]
  },
  {
   "cell_type": "code",
   "execution_count": 41,
   "id": "e23f4888-a1b5-4d33-8a5e-c9eabfc25622",
   "metadata": {},
   "outputs": [
    {
     "data": {
      "text/plain": [
       "\n",
       "                  Embryonic skin                              TBD \n",
       "                             235                               14 \n",
       "                     LepR+ BMSCs                        Tenocytes \n",
       "                               0                              303 \n",
       "    Proximal limb bud mesenchyme    Pre-hypertrophic chondrocytes \n",
       "                             495                               49 \n",
       "           Periosteal stem cells           Periosteal progenitors \n",
       "                               0                                0 \n",
       "                Osteoprogenitors                      Osteoclasts \n",
       "                               0                                0 \n",
       "                     Osteoblasts Intermediate limb bud mesenchyme \n",
       "                               0                             1319 \n",
       "                    Immune cells        Hypertrophic chondrocytes \n",
       "                              25                                0 \n",
       "      Distal limb bud mesenchyme         Fast proliferating cells \n",
       "                            2418                                0 \n",
       "              Chondroprogenitors       Vascular endothelial cells \n",
       "                            1124                               30 \n",
       "                      Adipocytes        Resting zone chondrocytes \n",
       "                               0                              756 \n",
       "          Articular chondrocytes       Proliferative chondrocytes \n",
       "                               0                              390 \n",
       "                 Erythroid cells              Smooth muscle cells \n",
       "                              14                                0 \n",
       "  Fast proliferating osteoblasts                       Osteocytes \n",
       "                               0                                0 \n",
       "                           SSPCs                        Platelets \n",
       "                               0                                0 \n",
       "            Synovial fibroblasts               Muscle progenitors \n",
       "                             328                              376 \n",
       "             Tenocyte precursors            Skeletal muscle cells \n",
       "                            1838                              145 \n",
       "                 Interzone cells                            BMSCs \n",
       "                               0                                0 \n",
       "                      Periosteum                              AER \n",
       "                               0                               57 \n",
       "     Lymphatic endothelial cells                          Neurons \n",
       "                               0                               26 \n",
       "                             ZPA                 Joint precursors \n",
       "                               0                              138 \n",
       "             Myogenic stem cells                      Fibroblasts \n",
       "                               0                                0 "
      ]
     },
     "metadata": {},
     "output_type": "display_data"
    }
   ],
   "source": [
    "table(so@meta.data$CellType)"
   ]
  },
  {
   "cell_type": "code",
   "execution_count": 42,
   "id": "dfb61ebe-e26f-48a2-a8ab-2e5f04ffb46d",
   "metadata": {},
   "outputs": [],
   "source": [
    "so@meta.data$Cell = rownames(so@meta.data)\n",
    "df = so@meta.data[, c('Cell','CellType')]\n",
    "write.table(df, file ='E12.5_meta.tsv', sep = '\\t', quote = F, row.names = F)"
   ]
  },
  {
   "cell_type": "markdown",
   "id": "8bb11724-d5bb-4091-968c-3ac487d1548c",
   "metadata": {},
   "source": [
    "## 4. Compute DEGs (optional)\n",
    "\n",
    "Use Seurat `FindAllMarkers` to compute differentially expressed genes and extract the corresponding data frame `DEGs`.\n",
    "Here there are three options you may be interested on:\n",
    "1. Identify DEGs for each cell type (compare cell type vs rest, most likely option) \n",
    "2. Identify DEGs for each cell type using a per-lineage hierarchycal approach (compare cell type vs rest in the lineage, such as in endometrium paper Garcia-Alonso et al 2021)\n",
    "\n",
    "In the endometrium paper (Garcia-Alonso et al 2021) we're interested in the differences within the stromal and epithelial lineages, rather than the commonalities (example, what is specific of epithelials in the glands compared to epithelials in the lumen). The reason is that epithelial and stromal subtypes vary in space and type and thus we wanna extract the subtile differences within the lineage to better understand their differential location/ biological role.\n"
   ]
  },
  {
   "cell_type": "code",
   "execution_count": 43,
   "id": "e5090dbb-7e13-477b-b0c6-c9d0f48f9b53",
   "metadata": {},
   "outputs": [],
   "source": [
    "Idents(so) <- so$CellType"
   ]
  },
  {
   "cell_type": "code",
   "execution_count": 44,
   "id": "ffe22ecd-1487-49cc-8723-2384182a5907",
   "metadata": {},
   "outputs": [
    {
     "name": "stderr",
     "output_type": "stream",
     "text": [
      "Warning message:\n",
      "“glm.fit: fitted probabilities numerically 0 or 1 occurred”\n",
      "Warning message:\n",
      "“glm.fit: fitted probabilities numerically 0 or 1 occurred”\n",
      "Warning message:\n",
      "“glm.fit: fitted probabilities numerically 0 or 1 occurred”\n",
      "Warning message:\n",
      "“glm.fit: fitted probabilities numerically 0 or 1 occurred”\n",
      "Warning message:\n",
      "“glm.fit: fitted probabilities numerically 0 or 1 occurred”\n",
      "Warning message:\n",
      "“glm.fit: fitted probabilities numerically 0 or 1 occurred”\n",
      "Warning message:\n",
      "“glm.fit: fitted probabilities numerically 0 or 1 occurred”\n",
      "Warning message:\n",
      "“glm.fit: fitted probabilities numerically 0 or 1 occurred”\n"
     ]
    }
   ],
   "source": [
    "# OPTION 1 - compute DEGs for all cell types\n",
    "# Extract DEGs for each cell_type\n",
    " DEGs <- FindAllMarkers(so, \n",
    "                        test.use = 'LR', \n",
    "                        verbose = F, \n",
    "                        only.pos = T, \n",
    "                        random.seed = 1, \n",
    "                        logfc.threshold = 0.2, \n",
    "                        min.pct = 0.1, \n",
    "                        return.thresh = 0.05)"
   ]
  },
  {
   "cell_type": "code",
   "execution_count": 45,
   "id": "db315f71-00d9-4818-8614-996dd4dcec86",
   "metadata": {},
   "outputs": [
    {
     "data": {
      "text/html": [
       "TRUE"
      ],
      "text/latex": [
       "TRUE"
      ],
      "text/markdown": [
       "TRUE"
      ],
      "text/plain": [
       "[1] TRUE"
      ]
     },
     "metadata": {},
     "output_type": "display_data"
    }
   ],
   "source": [
    " 'BMP7' %in% rownames(so@assays$RNA@counts)"
   ]
  },
  {
   "cell_type": "code",
   "execution_count": 46,
   "id": "9e11eb8c-f9b7-4016-ad06-7a1dd3ea6467",
   "metadata": {},
   "outputs": [],
   "source": [
    "fDEGs = subset(DEGs, p_val_adj < 0.05 & avg_log2FC > 0.1)\n",
    "\n",
    "# 1st column = cluster; 2nd column = gene \n",
    "fDEGs = fDEGs[, c('cluster', 'gene', 'p_val_adj', 'p_val', 'avg_log2FC', 'pct.1', 'pct.2')] \n",
    "write.table(fDEGs, file ='E12.5_DEGs.tsv', sep = '\\t', quote = F, row.names = F)"
   ]
  },
  {
   "cell_type": "code",
   "execution_count": 47,
   "id": "ace33333-1be4-4d93-9141-e15e60db5a3b",
   "metadata": {},
   "outputs": [
    {
     "data": {
      "text/html": [
       "<table class=\"dataframe\">\n",
       "<caption>A data.frame: 6 × 7</caption>\n",
       "<thead>\n",
       "\t<tr><th></th><th scope=col>cluster</th><th scope=col>gene</th><th scope=col>p_val_adj</th><th scope=col>p_val</th><th scope=col>avg_log2FC</th><th scope=col>pct.1</th><th scope=col>pct.2</th></tr>\n",
       "\t<tr><th></th><th scope=col>&lt;fct&gt;</th><th scope=col>&lt;chr&gt;</th><th scope=col>&lt;dbl&gt;</th><th scope=col>&lt;dbl&gt;</th><th scope=col>&lt;dbl&gt;</th><th scope=col>&lt;dbl&gt;</th><th scope=col>&lt;dbl&gt;</th></tr>\n",
       "</thead>\n",
       "<tbody>\n",
       "\t<tr><th scope=row>KRT14</th><td>Embryonic skin</td><td>KRT14</td><td>0</td><td>0</td><td>4.239889</td><td>0.970</td><td>0.018</td></tr>\n",
       "\t<tr><th scope=row>KRT5</th><td>Embryonic skin</td><td>KRT5 </td><td>0</td><td>0</td><td>4.059047</td><td>0.987</td><td>0.013</td></tr>\n",
       "\t<tr><th scope=row>WNT6</th><td>Embryonic skin</td><td>WNT6 </td><td>0</td><td>0</td><td>3.900353</td><td>0.962</td><td>0.014</td></tr>\n",
       "\t<tr><th scope=row>GJB2</th><td>Embryonic skin</td><td>GJB2 </td><td>0</td><td>0</td><td>3.888910</td><td>0.872</td><td>0.009</td></tr>\n",
       "\t<tr><th scope=row>PERP</th><td>Embryonic skin</td><td>PERP </td><td>0</td><td>0</td><td>3.753152</td><td>0.979</td><td>0.019</td></tr>\n",
       "\t<tr><th scope=row>TP63</th><td>Embryonic skin</td><td>TP63 </td><td>0</td><td>0</td><td>3.724515</td><td>0.945</td><td>0.016</td></tr>\n",
       "</tbody>\n",
       "</table>\n"
      ],
      "text/latex": [
       "A data.frame: 6 × 7\n",
       "\\begin{tabular}{r|lllllll}\n",
       "  & cluster & gene & p\\_val\\_adj & p\\_val & avg\\_log2FC & pct.1 & pct.2\\\\\n",
       "  & <fct> & <chr> & <dbl> & <dbl> & <dbl> & <dbl> & <dbl>\\\\\n",
       "\\hline\n",
       "\tKRT14 & Embryonic skin & KRT14 & 0 & 0 & 4.239889 & 0.970 & 0.018\\\\\n",
       "\tKRT5 & Embryonic skin & KRT5  & 0 & 0 & 4.059047 & 0.987 & 0.013\\\\\n",
       "\tWNT6 & Embryonic skin & WNT6  & 0 & 0 & 3.900353 & 0.962 & 0.014\\\\\n",
       "\tGJB2 & Embryonic skin & GJB2  & 0 & 0 & 3.888910 & 0.872 & 0.009\\\\\n",
       "\tPERP & Embryonic skin & PERP  & 0 & 0 & 3.753152 & 0.979 & 0.019\\\\\n",
       "\tTP63 & Embryonic skin & TP63  & 0 & 0 & 3.724515 & 0.945 & 0.016\\\\\n",
       "\\end{tabular}\n"
      ],
      "text/markdown": [
       "\n",
       "A data.frame: 6 × 7\n",
       "\n",
       "| <!--/--> | cluster &lt;fct&gt; | gene &lt;chr&gt; | p_val_adj &lt;dbl&gt; | p_val &lt;dbl&gt; | avg_log2FC &lt;dbl&gt; | pct.1 &lt;dbl&gt; | pct.2 &lt;dbl&gt; |\n",
       "|---|---|---|---|---|---|---|---|\n",
       "| KRT14 | Embryonic skin | KRT14 | 0 | 0 | 4.239889 | 0.970 | 0.018 |\n",
       "| KRT5 | Embryonic skin | KRT5  | 0 | 0 | 4.059047 | 0.987 | 0.013 |\n",
       "| WNT6 | Embryonic skin | WNT6  | 0 | 0 | 3.900353 | 0.962 | 0.014 |\n",
       "| GJB2 | Embryonic skin | GJB2  | 0 | 0 | 3.888910 | 0.872 | 0.009 |\n",
       "| PERP | Embryonic skin | PERP  | 0 | 0 | 3.753152 | 0.979 | 0.019 |\n",
       "| TP63 | Embryonic skin | TP63  | 0 | 0 | 3.724515 | 0.945 | 0.016 |\n",
       "\n"
      ],
      "text/plain": [
       "      cluster        gene  p_val_adj p_val avg_log2FC pct.1 pct.2\n",
       "KRT14 Embryonic skin KRT14 0         0     4.239889   0.970 0.018\n",
       "KRT5  Embryonic skin KRT5  0         0     4.059047   0.987 0.013\n",
       "WNT6  Embryonic skin WNT6  0         0     3.900353   0.962 0.014\n",
       "GJB2  Embryonic skin GJB2  0         0     3.888910   0.872 0.009\n",
       "PERP  Embryonic skin PERP  0         0     3.753152   0.979 0.019\n",
       "TP63  Embryonic skin TP63  0         0     3.724515   0.945 0.016"
      ]
     },
     "metadata": {},
     "output_type": "display_data"
    }
   ],
   "source": [
    "head(fDEGs)"
   ]
  }
 ],
 "metadata": {
  "kernelspec": {
   "display_name": "R [conda env:sc-R]",
   "language": "R",
   "name": "conda-env-sc-R-r"
  },
  "language_info": {
   "codemirror_mode": "r",
   "file_extension": ".r",
   "mimetype": "text/x-r-source",
   "name": "R",
   "pygments_lexer": "r",
   "version": "4.2.2"
  }
 },
 "nbformat": 4,
 "nbformat_minor": 5
}
