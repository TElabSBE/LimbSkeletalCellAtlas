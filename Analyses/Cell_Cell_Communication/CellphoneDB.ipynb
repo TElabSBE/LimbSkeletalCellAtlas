{
 "cells": [
  {
   "cell_type": "code",
   "execution_count": null,
   "id": "3cbd99a0-57ea-4ddd-926c-147578670a51",
   "metadata": {},
   "outputs": [],
   "source": [
    "# python libs\n",
    "import numpy as np\n",
    "import pandas as pd\n",
    "import matplotlib.pyplot as plt\n",
    "import seaborn as sns\n",
    "import anndata\n",
    "import scanpy as sc\n",
    "\n",
    "import decoupler as dc\n",
    "\n",
    "\n",
    "import session_info\n",
    "#from mousipy import translate\n"
   ]
  },
  {
   "cell_type": "code",
   "execution_count": null,
   "id": "05fffac2-de35-42ef-93f4-754e3072f913",
   "metadata": {},
   "outputs": [],
   "source": [
    "import liana as li\n",
    "from liana.method import cellphonedb\n"
   ]
  },
  {
   "cell_type": "code",
   "execution_count": null,
   "id": "2e16a9d1-55c9-4385-938f-c55de684e57c",
   "metadata": {},
   "outputs": [],
   "source": [
    "from plotnine import ggplot"
   ]
  },
  {
   "cell_type": "code",
   "execution_count": null,
   "id": "c956c631-3f42-43f7-b8ef-93e4d1709994",
   "metadata": {},
   "outputs": [],
   "source": [
    "from mousipy import translate"
   ]
  },
  {
   "cell_type": "markdown",
   "id": "ca0860cc-13fc-452a-948e-dafbb53c6a75",
   "metadata": {},
   "source": [
    "## Loading in data "
   ]
  },
  {
   "cell_type": "code",
   "execution_count": null,
   "id": "8b1adbd1-c16f-4d78-a74c-765e4c249baf",
   "metadata": {},
   "outputs": [],
   "source": [
    "atlas = sc.read_h5ad('Atlas.h5ad')"
   ]
  },
  {
   "cell_type": "code",
   "execution_count": null,
   "id": "966c7b1c-f39b-401f-b87b-ec871a6c6887",
   "metadata": {},
   "outputs": [],
   "source": [
    "adata = atlas"
   ]
  },
  {
   "cell_type": "code",
   "execution_count": null,
   "id": "d9b3a474-65f6-4813-8a6c-75f421a046b9",
   "metadata": {
    "tags": []
   },
   "outputs": [],
   "source": [
    "humanized_adata = translate(adata)"
   ]
  },
  {
   "cell_type": "code",
   "execution_count": null,
   "id": "5d1cdf9b-d18c-4f2f-bbf6-5379242ae693",
   "metadata": {},
   "outputs": [],
   "source": [
    "adata = humanized_adata"
   ]
  },
  {
   "cell_type": "code",
   "execution_count": null,
   "id": "a423d149-3fed-4158-a04b-14d52bb0fed3",
   "metadata": {},
   "outputs": [],
   "source": [
    "adata.var_names_make_unique()"
   ]
  },
  {
   "cell_type": "code",
   "execution_count": null,
   "id": "e60dfdd0-3d9c-4e9a-ac64-c4eaa3a786f3",
   "metadata": {},
   "outputs": [],
   "source": [
    "adata"
   ]
  },
  {
   "cell_type": "code",
   "execution_count": null,
   "id": "20e85bc3-5dc0-498a-8fe1-8c0dcf7e67cf",
   "metadata": {},
   "outputs": [],
   "source": [
    "adata = adata[adata.obs['DevTP'] == 'E10.5']"
   ]
  },
  {
   "cell_type": "code",
   "execution_count": null,
   "id": "f8e7b594-cc4c-41f2-8c45-73d213799142",
   "metadata": {},
   "outputs": [],
   "source": [
    "# log1p normalize the data\n",
    "sc.pp.normalize_total(adata)\n",
    "sc.pp.log1p(adata)"
   ]
  },
  {
   "cell_type": "code",
   "execution_count": null,
   "id": "0f616a98-47d5-42da-94d6-d5183f071bad",
   "metadata": {},
   "outputs": [],
   "source": [
    "adata.write_h5ad(\"Atlas_E10.5_humanized.h5ad\")"
   ]
  },
  {
   "cell_type": "code",
   "execution_count": null,
   "id": "77905103-03a5-4928-8ecb-7d13f79c743c",
   "metadata": {},
   "outputs": [],
   "source": [
    "adata = humanized_adata"
   ]
  },
  {
   "cell_type": "code",
   "execution_count": null,
   "id": "a5cd7dc4-6608-436e-adf5-e693a7f8b25e",
   "metadata": {},
   "outputs": [],
   "source": [
    "adata = adata[adata.obs['DevTP'] == 'E11.5']"
   ]
  },
  {
   "cell_type": "code",
   "execution_count": null,
   "id": "54ab7712-17d7-4cc7-8fc4-1569a120996f",
   "metadata": {},
   "outputs": [],
   "source": [
    "# log1p normalize the data\n",
    "sc.pp.normalize_total(adata)\n",
    "sc.pp.log1p(adata)"
   ]
  },
  {
   "cell_type": "code",
   "execution_count": null,
   "id": "a5f9c647-5e7f-4075-a215-c93c74f24641",
   "metadata": {},
   "outputs": [],
   "source": [
    "adata.write_h5ad(\"Atlas_E11.5_humanized.h5ad\")"
   ]
  },
  {
   "cell_type": "code",
   "execution_count": null,
   "id": "b683b1fb-2b9a-4d36-8c85-14aa4b7a124b",
   "metadata": {},
   "outputs": [],
   "source": [
    "adata = humanized_adata"
   ]
  },
  {
   "cell_type": "code",
   "execution_count": null,
   "id": "4b7b1f94-e812-403f-8260-729b25875fa8",
   "metadata": {},
   "outputs": [],
   "source": [
    "adata = adata[adata.obs['DevTP'] == 'E12.5']"
   ]
  },
  {
   "cell_type": "code",
   "execution_count": null,
   "id": "da9ce734-c68b-47fe-88bf-1d00e43dcd4e",
   "metadata": {},
   "outputs": [],
   "source": [
    "# log1p normalize the data\n",
    "sc.pp.normalize_total(adata)\n",
    "sc.pp.log1p(adata)"
   ]
  },
  {
   "cell_type": "code",
   "execution_count": null,
   "id": "abba92e1-dcc6-4f7e-bc66-f0fd350d2614",
   "metadata": {},
   "outputs": [],
   "source": [
    "adata.write_h5ad(\"Atlas_E12.5_humanized.h5ad\")"
   ]
  },
  {
   "cell_type": "code",
   "execution_count": null,
   "id": "faf183d0-e6cb-4e56-8a91-0a0d3b9bc82e",
   "metadata": {},
   "outputs": [],
   "source": [
    "adata = humanized_adata"
   ]
  },
  {
   "cell_type": "code",
   "execution_count": null,
   "id": "1326ebb9-cce5-4fc8-8086-f8a9bd0c305a",
   "metadata": {},
   "outputs": [],
   "source": [
    "adata = adata[adata.obs['DevTP'] == 'E13.5']"
   ]
  },
  {
   "cell_type": "code",
   "execution_count": null,
   "id": "c53a0470-8222-41e8-86bb-9412cfb25631",
   "metadata": {},
   "outputs": [],
   "source": [
    "# log1p normalize the data\n",
    "sc.pp.normalize_total(adata)\n",
    "sc.pp.log1p(adata)"
   ]
  },
  {
   "cell_type": "code",
   "execution_count": null,
   "id": "ec96cd1f-82a3-4bc1-af19-de01717a6425",
   "metadata": {},
   "outputs": [],
   "source": [
    "adata.write_h5ad(\"/home/jovyan/researcher_home/Documents/Tom/Atlas/data/Cell-cell_communication/Atlas_E13.5_humanized.h5ad\")"
   ]
  },
  {
   "cell_type": "markdown",
   "id": "16ad8c54-4c0d-4829-851b-2fdf440f14b1",
   "metadata": {
    "tags": []
   },
   "source": [
    "## E10.5"
   ]
  },
  {
   "cell_type": "markdown",
   "id": "45eaceb6-0b78-4cb2-8f9a-69408ab4705d",
   "metadata": {},
   "source": [
    "Do this for each timepoint"
   ]
  },
  {
   "cell_type": "code",
   "execution_count": null,
   "id": "cf0db490-f6d2-4f57-872a-904af15b3c13",
   "metadata": {},
   "outputs": [],
   "source": [
    "cpdb_file_path = '/home/jovyan/researcher_home/Documents/Tom/Atlas/notebooks/CellphoneDB/cellphonedb.zip'\n",
    "meta_file_path = '/home/jovyan/researcher_home/Documents/Tom/Atlas/data/Cell-cell_communication//E10.5/E10.5_meta.tsv'\n",
    "counts_file_path = '/home/jovyan/researcher_home/Documents/Tom/Atlas/data/Cell-cell_communication/Atlas_E10.5_humanized.h5ad'\n",
    "degs_file_path = '/home/jovyan/researcher_home/Documents/Tom/Atlas/data/Cell-cell_communication/E10.5/E10.5_DEGs.tsv'\n",
    "output_path = '/home/jovyan/researcher_home/Documents/Tom/Atlas/output/CellphoneDB/E10.5'"
   ]
  },
  {
   "cell_type": "code",
   "execution_count": null,
   "id": "8557b701-1849-41a6-a952-a87be81f956c",
   "metadata": {},
   "outputs": [],
   "source": [
    "metadata = pd.read_csv(meta_file_path, sep = '\\t')\n",
    "metadata.head(3)"
   ]
  },
  {
   "cell_type": "code",
   "execution_count": null,
   "id": "f7f5e316-5749-4123-a6d5-cce68036c4dc",
   "metadata": {},
   "outputs": [],
   "source": [
    "import anndata\n",
    "\n",
    "adata = anndata.read_h5ad(counts_file_path)\n",
    "adata.shape"
   ]
  },
  {
   "cell_type": "code",
   "execution_count": null,
   "id": "292fd26b-8dc8-45fc-88ec-38de0a134807",
   "metadata": {},
   "outputs": [],
   "source": [
    "list(adata.obs.index).sort() == list(metadata['Cell']).sort()\n"
   ]
  },
  {
   "cell_type": "code",
   "execution_count": null,
   "id": "68fa11a0-07da-4232-bd02-d1b6cccce998",
   "metadata": {},
   "outputs": [],
   "source": [
    "from cellphonedb.src.core.methods import cpdb_degs_analysis_method\n",
    "\n",
    "cpdb_results = cpdb_degs_analysis_method.call( \n",
    "    cpdb_file_path = cpdb_file_path,\n",
    "    meta_file_path = meta_file_path,\n",
    "    counts_file_path = counts_file_path,\n",
    "    degs_file_path = degs_file_path,\n",
    "    counts_data = 'hgnc_symbol',\n",
    "    score_interactions = True,\n",
    "    threshold = 0.1,\n",
    "        \n",
    "    output_path = output_path)"
   ]
  },
  {
   "cell_type": "code",
   "execution_count": null,
   "id": "f591ff16-036c-41b5-8070-32f2c270efab",
   "metadata": {},
   "outputs": [],
   "source": [
    "print(cpdb_results.keys())"
   ]
  },
  {
   "cell_type": "code",
   "execution_count": null,
   "id": "4b75e868-7826-4580-8a82-eb25a3c1d65c",
   "metadata": {},
   "outputs": [],
   "source": [
    "import os\n",
    "import anndata as ad\n",
    "import pandas as pd\n",
    "import ktplotspy as kpy\n",
    "import matplotlib.pyplot as plt\n",
    "%matplotlib inline"
   ]
  },
  {
   "cell_type": "code",
   "execution_count": null,
   "id": "6d974ae3-c1ee-444a-a3a0-651984c095d3",
   "metadata": {},
   "outputs": [],
   "source": [
    "p= kpy.plot_cpdb(\n",
    "    adata = adata,\n",
    "    cell_type1 = \"AER|Distal limb bud mesenchyme|Intermediate limb bud mesenchyme|Proximal limb bud mesenchyme|Chondroprogenitors|ZPA|Joint precursors|Resting zone chondrocytes|Proliferative chondrocytes|Pre-hypertrophic chondrocytes\",\n",
    "    cell_type2 = \"AER|Distal limb bud mesenchyme|Intermediate limb bud mesenchyme|Proximal limb bud mesenchyme|Chondroprogenitors|ZPA|Joint precursors|Resting zone chondrocytes|Proliferative chondrocytes|Pre-hypertrophic chondrocytes\", \n",
    "    means = cpdb_results['means'],\n",
    "    pvals = cpdb_results['relevant_interactions'],\n",
    "    celltype_key = \"CellType\",\n",
    "    genes = [\"BMP2\",\"BMP3\",\"BMP4\",\"BMP5\",\"BMP6\",\"BMP7\",\"SHH\",\"GDF5\"],\n",
    "    figsize = (15,10),\n",
    "    title = \"Cell-Cell comm\",\n",
    "    max_size = 6,\n",
    "    highlight_size = 0.75,\n",
    "    degs_analysis = True,\n",
    "    standard_scale = True,\n",
    "    interaction_scores = cpdb_results['interaction_scores'],\n",
    "    scale_alpha_by_interaction_scores=True)\n",
    "        \n"
   ]
  },
  {
   "cell_type": "code",
   "execution_count": null,
   "id": "d8bd9951-9db4-4bcb-a160-6df63b282a78",
   "metadata": {},
   "outputs": [],
   "source": [
    "p.save('/home/jovyan/researcher_home/Documents/Tom/Atlas/output/CellphoneDB/E10.5_significantmeans.svg')"
   ]
  },
  {
   "cell_type": "code",
   "execution_count": null,
   "id": "f71056ce-4f6d-4636-b2db-26983f377361",
   "metadata": {},
   "outputs": [],
   "source": [
    "p2=kpy.plot_cpdb(\n",
    "    adata = adata,\n",
    "    cell_type1 = \"AER|Distal limb bud mesenchyme|Intermediate limb bud mesenchyme|Proximal limb bud mesenchyme|Chondroprogenitors|ZPA\",\n",
    "    cell_type2 = \"AER|Distal limb bud mesenchyme|Intermediate limb bud mesenchyme|Proximal limb bud mesenchyme|Chondroprogenitors|ZPA\", \n",
    "    means = cpdb_results['means'],\n",
    "    pvals = cpdb_results['relevant_interactions'],\n",
    "    celltype_key = \"CellType\",\n",
    "    genes = [\"TGFB1\",\"INHBA\",\"GDF5\",\"GDF6\",\"NOTCH1\",\"CHRD\"],\n",
    "    figsize = (15,10),\n",
    "    title = \"Cell-Cell comm\",\n",
    "    max_size = 6,\n",
    "    highlight_size = 0.75,\n",
    "    degs_analysis = True,\n",
    "    standard_scale = True,\n",
    "    interaction_scores = cpdb_results['interaction_scores'],\n",
    "    scale_alpha_by_interaction_scores=True)\n",
    "        "
   ]
  },
  {
   "cell_type": "code",
   "execution_count": null,
   "id": "80da36c3-8a48-4252-9c14-555a333c29e8",
   "metadata": {},
   "outputs": [],
   "source": [
    "p2.save('/home/jovyan/researcher_home/Documents/Tom/Atlas/output/CellphoneDB/E10.5_significantmeans_2.jpg')"
   ]
  },
  {
   "cell_type": "markdown",
   "id": "3dcd46b8-108e-4881-8f5a-b37147f49406",
   "metadata": {
    "tags": []
   },
   "source": [
    "## E11.5"
   ]
  },
  {
   "cell_type": "markdown",
   "id": "4ccd9d58-17d7-427c-b5f6-865274522859",
   "metadata": {},
   "source": [
    "Do this for each timepoint"
   ]
  },
  {
   "cell_type": "code",
   "execution_count": null,
   "id": "3f1f12d3-d9d8-493f-b9af-c8c80d635d62",
   "metadata": {},
   "outputs": [],
   "source": [
    "cpdb_file_path = '/home/jovyan/researcher_home/Documents/Tom/Atlas/notebooks/CellphoneDB/cellphonedb.zip'\n",
    "meta_file_path = '/home/jovyan/researcher_home/Documents/Tom/Atlas/data/Cell-cell_communication/E11.5/E11.5_meta.tsv'\n",
    "counts_file_path = '/home/jovyan/researcher_home/Documents/Tom/Atlas/data/Cell-cell_communication/Atlas_E11.5_humanized.h5ad'\n",
    "degs_file_path = '/home/jovyan/researcher_home/Documents/Tom/Atlas/data/Cell-cell_communication/E11.5/E11.5_DEGs.tsv'\n",
    "output_path = '/home/jovyan/researcher_home/Documents/Tom/Atlas/output/CellphoneDB/E11.5'"
   ]
  },
  {
   "cell_type": "code",
   "execution_count": null,
   "id": "910d9a47-24b4-41fa-82fb-e8e827349d20",
   "metadata": {},
   "outputs": [],
   "source": [
    "metadata = pd.read_csv(meta_file_path, sep = '\\t')\n",
    "metadata.head(3)"
   ]
  },
  {
   "cell_type": "code",
   "execution_count": null,
   "id": "519102c5-cefd-4a20-9c17-8d811fb5a248",
   "metadata": {},
   "outputs": [],
   "source": [
    "import anndata\n",
    "\n",
    "adata = anndata.read_h5ad(counts_file_path)\n",
    "adata.shape"
   ]
  },
  {
   "cell_type": "code",
   "execution_count": null,
   "id": "758b6d18-6902-4bf1-b974-590f02fd4942",
   "metadata": {},
   "outputs": [],
   "source": [
    "list(adata.obs.index).sort() == list(metadata['Cell']).sort()\n"
   ]
  },
  {
   "cell_type": "code",
   "execution_count": null,
   "id": "21aec3b7-13fd-403a-9de0-1b0923b4483f",
   "metadata": {},
   "outputs": [],
   "source": [
    "from cellphonedb.src.core.methods import cpdb_degs_analysis_method\n",
    "\n",
    "cpdb_results = cpdb_degs_analysis_method.call( \n",
    "    cpdb_file_path = cpdb_file_path,\n",
    "    meta_file_path = meta_file_path,\n",
    "    counts_file_path = counts_file_path,\n",
    "    degs_file_path = degs_file_path,\n",
    "    counts_data = 'hgnc_symbol',\n",
    "    score_interactions = True,\n",
    "    threshold = 0.1,\n",
    "        \n",
    "    output_path = output_path)"
   ]
  },
  {
   "cell_type": "code",
   "execution_count": null,
   "id": "eba3a2b8-280c-4021-893f-b2a9ad8790b1",
   "metadata": {},
   "outputs": [],
   "source": [
    "print(cpdb_results.keys())"
   ]
  },
  {
   "cell_type": "code",
   "execution_count": null,
   "id": "f2c626b8-6885-49e5-af3e-4faecf0f8795",
   "metadata": {},
   "outputs": [],
   "source": [
    "import os\n",
    "import anndata as ad\n",
    "import pandas as pd\n",
    "import ktplotspy as kpy\n",
    "import matplotlib.pyplot as plt\n",
    "%matplotlib inline"
   ]
  },
  {
   "cell_type": "code",
   "execution_count": null,
   "id": "167ff08d",
   "metadata": {},
   "outputs": [],
   "source": [
    "p=kpy.plot_cpdb(\n",
    "    adata = adata,\n",
    "     cell_type1 = \"AER|Distal limb bud mesenchyme|Intermediate limb bud mesenchyme|Proximal limb bud mesenchyme|Chondroprogenitors|ZPA|Joint precursors|Resting zone chondrocytes|Proliferative chondrocytes|Pre-hypertrophic chondrocytes\",\n",
    "    cell_type2 = \"AER|Distal limb bud mesenchyme|Intermediate limb bud mesenchyme|Proximal limb bud mesenchyme|Chondroprogenitors|ZPA|Joint precursors|Resting zone chondrocytes|Proliferative chondrocytes|Pre-hypertrophic chondrocytes\", \n",
    "     means = cpdb_results['means'],\n",
    "    pvals = cpdb_results['relevant_interactions'],\n",
    "    celltype_key = \"CellType\",\n",
    "   genes = [\"BMP2\",\"BMP3\",\"BMP4\",\"BMP5\",\"BMP6\",\"BMP7\",\"SHH\",\"GDF5\"],\n",
    "        figsize = (25,10),\n",
    "\n",
    "    title = \"Cell-Cell comm\",\n",
    "    max_size = 6,\n",
    "    highlight_size = 0.75,\n",
    "    degs_analysis = True,\n",
    "    standard_scale = True,\n",
    "    interaction_scores = cpdb_results['interaction_scores'],\n",
    "    scale_alpha_by_interaction_scores=True)"
   ]
  },
  {
   "cell_type": "code",
   "execution_count": null,
   "id": "6e9006e1-9707-40f7-831d-f8a820ebd20d",
   "metadata": {},
   "outputs": [],
   "source": [
    "p.save('/home/jovyan/researcher_home/Documents/Tom/Atlas/output/CellphoneDB/E11.5_significantmeans.svg')"
   ]
  },
  {
   "cell_type": "code",
   "execution_count": null,
   "id": "564a8fc5-4b17-465a-97ff-bc111beabf7e",
   "metadata": {},
   "outputs": [],
   "source": [
    "kpy.plot_cpdb(\n",
    "    adata = adata,\n",
    "    cell_type1 = \"AER|Distal limb bud mesenchyme|Intermediate limb bud mesenchyme|Proximal limb bud mesenchyme|Chondroprogenitors|ZPA|Joint precursors|Resting zone chondrocytes|Proliferative chondrocytes|Pre-hypertrophic chondrocytes\",\n",
    "    cell_type2 = \"AER|Distal limb bud mesenchyme|Intermediate limb bud mesenchyme|Proximal limb bud mesenchyme|Chondroprogenitors|ZPA|Joint precursors|Resting zone chondrocytes|Proliferative chondrocytes|Pre-hypertrophic chondrocytes\", \n",
    "    \n",
    "    means = cpdb_results['means'],\n",
    "    pvals = cpdb_results['relevant_interactions'],\n",
    "    celltype_key = \"CellType\",\n",
    "    genes = [\"TGFB1\",\"INHBA\",\"GDF5\",\"GDF6\",\"NOTCH1\",\"CHRD\"],\n",
    "    figsize = (15,15),\n",
    "    title = \"Cell-Cell comm\",\n",
    "    max_size = 6,\n",
    "    highlight_size = 0.75,\n",
    "    degs_analysis = True,\n",
    "    standard_scale = True,\n",
    "    interaction_scores = cpdb_results['interaction_scores'],\n",
    "    scale_alpha_by_interaction_scores=True)"
   ]
  },
  {
   "cell_type": "code",
   "execution_count": null,
   "id": "882ce206-f5dc-4b24-a95b-78b358fc6e6d",
   "metadata": {},
   "outputs": [],
   "source": [
    "p.save('/home/jovyan/researcher_home/Documents/Tom/Atlas/output/CellphoneDB/E11.5_significantmeans_2.svg')"
   ]
  },
  {
   "cell_type": "markdown",
   "id": "25ad7cc5-e688-4574-8019-cc285772374f",
   "metadata": {
    "tags": []
   },
   "source": [
    "## E12.5"
   ]
  },
  {
   "cell_type": "markdown",
   "id": "bdcee7c2-ed3d-4f2a-9789-81d769abd088",
   "metadata": {},
   "source": [
    "Do this for each timepoint"
   ]
  },
  {
   "cell_type": "code",
   "execution_count": null,
   "id": "42e4ef77-7da0-4d1f-bd7e-934e898e34bb",
   "metadata": {},
   "outputs": [],
   "source": [
    "cpdb_file_path = '/home/jovyan/researcher_home/Documents/Tom/Atlas/notebooks/CellphoneDB/cellphonedb.zip'\n",
    "meta_file_path = '/home/jovyan/researcher_home/Documents/Tom/Atlas/data/Cell-cell_communication/E12.5/E12.5_meta.tsv'\n",
    "counts_file_path = '/home/jovyan/researcher_home/Documents/Tom/Atlas/data/Cell-cell_communication/Atlas_E12.5_humanized.h5ad'\n",
    "degs_file_path = '/home/jovyan/researcher_home/Documents/Tom/Atlas/data/Cell-cell_communication/E12.5/E12.5_DEGs.tsv'\n",
    "output_path = '/home/jovyan/researcher_home/Documents/Tom/Atlas/output/CellphoneDB/E12.5'"
   ]
  },
  {
   "cell_type": "code",
   "execution_count": null,
   "id": "30f11d8e-b6ca-4998-8041-e9a67a25b90a",
   "metadata": {},
   "outputs": [],
   "source": [
    "metadata = pd.read_csv(meta_file_path, sep = '\\t')\n",
    "metadata.head(3)"
   ]
  },
  {
   "cell_type": "code",
   "execution_count": null,
   "id": "38c26945-d7f1-4409-ab02-e1001a187e45",
   "metadata": {},
   "outputs": [],
   "source": [
    "import anndata\n",
    "\n",
    "adata = anndata.read_h5ad(counts_file_path)\n",
    "adata.shape"
   ]
  },
  {
   "cell_type": "code",
   "execution_count": null,
   "id": "5df0569a-b05d-46c2-80f2-4696ea93b4c0",
   "metadata": {},
   "outputs": [],
   "source": [
    "list(adata.obs.index).sort() == list(metadata['Cell']).sort()\n"
   ]
  },
  {
   "cell_type": "code",
   "execution_count": null,
   "id": "618f2fba-796d-4c1b-ba1a-ace636ca34da",
   "metadata": {},
   "outputs": [],
   "source": [
    "from cellphonedb.src.core.methods import cpdb_degs_analysis_method\n",
    "\n",
    "cpdb_results = cpdb_degs_analysis_method.call( \n",
    "    cpdb_file_path = cpdb_file_path,\n",
    "    meta_file_path = meta_file_path,\n",
    "    counts_file_path = counts_file_path,\n",
    "    degs_file_path = degs_file_path,\n",
    "    counts_data = 'hgnc_symbol',\n",
    "    score_interactions = True,\n",
    "    threshold = 0.1,\n",
    "        \n",
    "    output_path = output_path)"
   ]
  },
  {
   "cell_type": "code",
   "execution_count": null,
   "id": "ab0cb876-14ef-46a0-b93a-555c06fb5035",
   "metadata": {},
   "outputs": [],
   "source": [
    "print(cpdb_results.keys())"
   ]
  },
  {
   "cell_type": "code",
   "execution_count": null,
   "id": "f63c15ba-971f-47bb-af34-0299e83e3ebe",
   "metadata": {},
   "outputs": [],
   "source": [
    "p= kpy.plot_cpdb(\n",
    "    adata = adata,\n",
    "     cell_type1 = \"AER|Distal limb bud mesenchyme|Intermediate limb bud mesenchyme|Proximal limb bud mesenchyme|Chondroprogenitors|ZPA|Joint precursors|Resting zone chondrocytes|Proliferative chondrocytes|Pre-hypertrophic chondrocytes\",\n",
    "    cell_type2 = \"AER|Distal limb bud mesenchyme|Intermediate limb bud mesenchyme|Proximal limb bud mesenchyme|Chondroprogenitors|ZPA|Joint precursors|Resting zone chondrocytes|Proliferative chondrocytes|Pre-hypertrophic chondrocytes\", \n",
    "     means = cpdb_results['means'],\n",
    "    pvals = cpdb_results['relevant_interactions'],\n",
    "    celltype_key = \"CellType\",\n",
    "   genes = [\"BMP2\",\"BMP3\",\"BMP4\",\"BMP5\",\"BMP6\",\"BMP7\",\"SHH\",\"GDF5\"],\n",
    "        figsize = (25,25),\n",
    "\n",
    "    title = \"Cell-Cell comm\",\n",
    "    max_size = 6,\n",
    "    highlight_size = 0.75,\n",
    "    degs_analysis = True,\n",
    "    standard_scale = True,\n",
    "    interaction_scores = cpdb_results['interaction_scores'],\n",
    "    scale_alpha_by_interaction_scores=True)"
   ]
  },
  {
   "cell_type": "code",
   "execution_count": null,
   "id": "66124013-f5f9-440f-8e47-ea9e379a91bb",
   "metadata": {},
   "outputs": [],
   "source": [
    "p.save('/home/jovyan/researcher_home/Documents/Tom/Atlas/output/CellphoneDB/E12.5_significantmeans.svg')"
   ]
  },
  {
   "cell_type": "code",
   "execution_count": null,
   "id": "0a0747dc-5a0f-470d-b3d8-4e175f7e1b60",
   "metadata": {},
   "outputs": [],
   "source": [
    "kpy.plot_cpdb(\n",
    "    adata = adata,\n",
    "    cell_type1 = \"AER|Distal limb bud mesenchyme|Intermediate limb bud mesenchyme|Proximal limb bud mesenchyme|Chondroprogenitors|ZPA\",\n",
    "    cell_type2 = \"AER|Distal limb bud mesenchyme|Intermediate limb bud mesenchyme|Proximal limb bud mesenchyme|Chondroprogenitors|ZPA\", \n",
    "    means = cpdb_results['means'],\n",
    "    pvals = cpdb_results['relevant_interactions'],\n",
    "    celltype_key = \"CellType\",\n",
    "    genes = [\"TGFB1\",\"INHBA\",\"GDF5\",\"GDF6\",\"NOTCH1\",\"CHRD\"],\n",
    "    figsize = (15,15),\n",
    "    title = \"Cell-Cell comm\",\n",
    "    max_size = 6,\n",
    "    highlight_size = 0.75,\n",
    "    degs_analysis = True,\n",
    "    standard_scale = True,\n",
    "    interaction_scores = cpdb_results['interaction_scores'],\n",
    "    scale_alpha_by_interaction_scores=True)"
   ]
  },
  {
   "cell_type": "code",
   "execution_count": null,
   "id": "7dd653fa-3c67-48e2-8b48-be68fa34092e",
   "metadata": {},
   "outputs": [],
   "source": [
    "p3.save('/home/jovyan/researcher_home/Documents/Tom/Atlas/output/CellphoneDB/E12.5_significantmeans_2.svg')"
   ]
  },
  {
   "cell_type": "markdown",
   "id": "8c9fb525-c324-4a91-94e0-6204e368783c",
   "metadata": {},
   "source": [
    "Do this for each timepoint"
   ]
  },
  {
   "cell_type": "code",
   "execution_count": null,
   "id": "e2d365d7-63cd-4db5-9d54-b3e1e2f4abd2",
   "metadata": {},
   "outputs": [],
   "source": [
    "cpdb_file_path = '/home/jovyan/researcher_home/Documents/Tom/Atlas/notebooks/CellphoneDB/cellphonedb.zip'\n",
    "meta_file_path = '/home/jovyan/researcher_home/Documents/Tom/Atlas/output/CellphoneDB/E13.5_meta.tsv'\n",
    "counts_file_path = '/home/jovyan/researcher_home/Documents/Tom/Atlas/data/Cell-cell_communication/Atlas_E13.5_humanized.h5ad'\n",
    "degs_file_path = '/home/jovyan/researcher_home/Documents/Tom/Atlas/output/CellphoneDB/E13.5_DEGs.tsv'\n",
    "output_path = '/home/jovyan/researcher_home/Documents/Tom/Atlas/output/CellphoneDB/E13.5'"
   ]
  },
  {
   "cell_type": "code",
   "execution_count": null,
   "id": "fce12153-7f0c-4834-9091-481991d5ac61",
   "metadata": {},
   "outputs": [],
   "source": [
    "metadata = pd.read_csv(meta_file_path, sep = '\\t')\n",
    "metadata.head(3)"
   ]
  },
  {
   "cell_type": "code",
   "execution_count": null,
   "id": "dd89f0e2-6f30-4e25-8453-ba5ca3b939d2",
   "metadata": {},
   "outputs": [],
   "source": [
    "import anndata\n",
    "\n",
    "adata = anndata.read_h5ad(counts_file_path)\n",
    "adata.shape"
   ]
  },
  {
   "cell_type": "code",
   "execution_count": null,
   "id": "b42e5c0f-a048-43af-85d8-4ffdb8b95481",
   "metadata": {},
   "outputs": [],
   "source": [
    "list(adata.obs.index).sort() == list(metadata['Cell']).sort()\n"
   ]
  },
  {
   "cell_type": "code",
   "execution_count": null,
   "id": "e8d5afe8-5423-4874-87e0-e7da89db8435",
   "metadata": {},
   "outputs": [],
   "source": [
    "from cellphonedb.src.core.methods import cpdb_degs_analysis_method\n",
    "\n",
    "cpdb_results = cpdb_degs_analysis_method.call( \n",
    "    cpdb_file_path = cpdb_file_path,\n",
    "    meta_file_path = meta_file_path,\n",
    "    counts_file_path = counts_file_path,\n",
    "    degs_file_path = degs_file_path,\n",
    "    counts_data = 'hgnc_symbol',\n",
    "    score_interactions = True,\n",
    "    threshold = 0.1,\n",
    "        \n",
    "    output_path = output_path)"
   ]
  },
  {
   "cell_type": "code",
   "execution_count": null,
   "id": "859fc288-8b99-429c-a8d0-e7de215141f5",
   "metadata": {},
   "outputs": [],
   "source": [
    "print(cpdb_results.keys())"
   ]
  },
  {
   "cell_type": "code",
   "execution_count": null,
   "id": "2c633bd0-5afe-4010-93ff-d3f58d36edc2",
   "metadata": {},
   "outputs": [],
   "source": [
    "p= kpy.plot_cpdb(\n",
    "    adata = adata,\n",
    "     cell_type1 = \"AER|Distal limb bud mesenchyme|Intermediate limb bud mesenchyme|Proximal limb bud mesenchyme|Chondroprogenitors|ZPA|Joint precursors|Resting zone chondrocytes|Proliferative chondrocytes|Pre-hypertrophic chondrocytes\",\n",
    "    cell_type2 = \"AER|Distal limb bud mesenchyme|Intermediate limb bud mesenchyme|Proximal limb bud mesenchyme|Chondroprogenitors|ZPA|Joint precursors|Resting zone chondrocytes|Proliferative chondrocytes|Pre-hypertrophic chondrocytes\", \n",
    "     means = cpdb_results['means'],\n",
    "    pvals = cpdb_results['relevant_interactions'],\n",
    "    celltype_key = \"CellType\",\n",
    "   genes = [\"BMP2\",\"BMP3\",\"BMP4\",\"BMP5\",\"BMP6\",\"BMP7\",\"SHH\",\"GDF5\"],\n",
    "        figsize = (25,10),\n",
    "\n",
    "    title = \"Cell-Cell comm\",\n",
    "    max_size = 6,\n",
    "    highlight_size = 0.75,\n",
    "    degs_analysis = True,\n",
    "    standard_scale = True,\n",
    "    interaction_scores = cpdb_results['interaction_scores'],\n",
    "    scale_alpha_by_interaction_scores=True)"
   ]
  },
  {
   "cell_type": "code",
   "execution_count": null,
   "id": "a06e9f92-75b0-4366-b916-eb73d50d95d1",
   "metadata": {},
   "outputs": [],
   "source": [
    "p.save('/home/jovyan/researcher_home/Documents/Tom/Atlas/output/CellphoneDB/E13.5_significantmeans.svg')"
   ]
  },
  {
   "cell_type": "code",
   "execution_count": null,
   "id": "5a766c94-5536-4c79-999f-6e1142b40d89",
   "metadata": {},
   "outputs": [],
   "source": [
    "kpy.plot_cpdb(\n",
    "    adata = adata,\n",
    "    cell_type1 = \"AER|Distal limb bud mesenchyme|Intermediate limb bud mesenchyme|Proximal limb bud mesenchyme|Chondroprogenitors|ZPA\",\n",
    "    cell_type2 = \"AER|Distal limb bud mesenchyme|Intermediate limb bud mesenchyme|Proximal limb bud mesenchyme|Chondroprogenitors|ZPA\", \n",
    "    means = cpdb_results['means'],\n",
    "    pvals = cpdb_results['relevant_interactions'],\n",
    "    celltype_key = \"CellType\",\n",
    "    genes = [\"TGFB1\",\"INHBA\",\"GDF5\",\"GDF6\",\"NOTCH1\",\"CHRD\"],\n",
    "    figsize = (15,10),\n",
    "    title = \"Cell-Cell comm\",\n",
    "    max_size = 6,\n",
    "    highlight_size = 0.75,\n",
    "    degs_analysis = True,\n",
    "    standard_scale = True,\n",
    "    interaction_scores = cpdb_results['interaction_scores'],\n",
    "    scale_alpha_by_interaction_scores=True)"
   ]
  },
  {
   "cell_type": "code",
   "execution_count": null,
   "id": "bcccfd49-2e3c-4a64-8d5f-cd0ce5683a0e",
   "metadata": {},
   "outputs": [],
   "source": [
    "p3.save('/home/jovyan/researcher_home/Documents/Tom/Atlas/output/CellphoneDB/E13.5_significantmeans_2.svg')"
   ]
  }
 ],
 "metadata": {
  "kernelspec": {
   "display_name": "Python [conda env:base] *",
   "language": "python",
   "name": "conda-base-py"
  },
  "language_info": {
   "codemirror_mode": {
    "name": "ipython",
    "version": 3
   },
   "file_extension": ".py",
   "mimetype": "text/x-python",
   "name": "python",
   "nbconvert_exporter": "python",
   "pygments_lexer": "ipython3",
   "version": "3.11.6"
  }
 },
 "nbformat": 4,
 "nbformat_minor": 5
}
