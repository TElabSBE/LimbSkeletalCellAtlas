{
 "cells": [
  {
   "cell_type": "code",
   "execution_count": 1,
   "id": "3cbd99a0-57ea-4ddd-926c-147578670a51",
   "metadata": {},
   "outputs": [],
   "source": [
    "# python libs\n",
    "import numpy as np\n",
    "import pandas as pd\n",
    "import matplotlib.pyplot as plt\n",
    "import seaborn as sns\n",
    "\n",
    "import scanpy as sc\n",
    "import liana as li\n",
    "import decoupler as dc\n",
    "import anndata\n",
    "\n",
    "import session_info\n",
    "#from mousipy import translate\n",
    "from liana.method import cellphonedb\n"
   ]
  },
  {
   "cell_type": "code",
   "execution_count": 2,
   "id": "2e16a9d1-55c9-4385-938f-c55de684e57c",
   "metadata": {},
   "outputs": [],
   "source": [
    "from plotnine import ggplot"
   ]
  },
  {
   "cell_type": "code",
   "execution_count": 3,
   "id": "c956c631-3f42-43f7-b8ef-93e4d1709994",
   "metadata": {},
   "outputs": [],
   "source": [
    "from mousipy import translate"
   ]
  },
  {
   "cell_type": "markdown",
   "id": "ca0860cc-13fc-452a-948e-dafbb53c6a75",
   "metadata": {},
   "source": [
    "## Loading in data "
   ]
  },
  {
   "cell_type": "code",
   "execution_count": 4,
   "id": "8b1adbd1-c16f-4d78-a74c-765e4c249baf",
   "metadata": {},
   "outputs": [],
   "source": [
    "atlas = sc.read_h5ad('scANVI.h5ad')"
   ]
  },
  {
   "cell_type": "code",
   "execution_count": 5,
   "id": "966c7b1c-f39b-401f-b87b-ec871a6c6887",
   "metadata": {},
   "outputs": [],
   "source": [
    "adata = atlas"
   ]
  },
  {
   "cell_type": "code",
   "execution_count": 6,
   "id": "d9b3a474-65f6-4813-8a6c-75f421a046b9",
   "metadata": {
    "tags": []
   },
   "outputs": [
    {
     "name": "stderr",
     "output_type": "stream",
     "text": [
      "100%|██████████████████████████████████████████████████████████████████████████████| 5000/5000 [00:14<00:00, 337.74it/s]\n"
     ]
    },
    {
     "name": "stdout",
     "output_type": "stream",
     "text": [
      "Found direct orthologs for 4414 genes.\n",
      "Found multiple orthologs for 88 genes.\n",
      "Found no orthologs for 415 genes.\n",
      "Found no index in biomart for 83 genes.\n"
     ]
    },
    {
     "name": "stderr",
     "output_type": "stream",
     "text": [
      "  0%|                                                                                            | 0/88 [00:00<?, ?it/s]/opt/conda/envs/sc-py/lib/python3.10/site-packages/mousipy/mousipy.py:191: FutureWarning: The default dtype for empty Series will be 'object' instead of 'float64' in a future version. Specify a dtype explicitly to silence this warning.\n",
      "/opt/conda/envs/sc-py/lib/python3.10/site-packages/mousipy/mousipy.py:191: FutureWarning: Behavior when concatenating bool-dtype and numeric-dtype arrays is deprecated; in a future version these will cast to object dtype (instead of coercing bools to numeric values). To retain the old behavior, explicitly cast bool-dtype arrays to numeric dtype.\n",
      "/opt/conda/envs/sc-py/lib/python3.10/site-packages/mousipy/mousipy.py:191: FutureWarning: The default dtype for empty Series will be 'object' instead of 'float64' in a future version. Specify a dtype explicitly to silence this warning.\n",
      "  1%|▉                                                                                   | 1/88 [00:01<02:36,  1.80s/it]/opt/conda/envs/sc-py/lib/python3.10/site-packages/mousipy/mousipy.py:191: FutureWarning: The default dtype for empty Series will be 'object' instead of 'float64' in a future version. Specify a dtype explicitly to silence this warning.\n",
      "/opt/conda/envs/sc-py/lib/python3.10/site-packages/mousipy/mousipy.py:191: FutureWarning: The default dtype for empty Series will be 'object' instead of 'float64' in a future version. Specify a dtype explicitly to silence this warning.\n",
      "/opt/conda/envs/sc-py/lib/python3.10/site-packages/mousipy/mousipy.py:191: FutureWarning: The default dtype for empty Series will be 'object' instead of 'float64' in a future version. Specify a dtype explicitly to silence this warning.\n",
      "  3%|██▊                                                                                 | 3/88 [00:06<02:50,  2.00s/it]/opt/conda/envs/sc-py/lib/python3.10/site-packages/mousipy/mousipy.py:191: FutureWarning: The default dtype for empty Series will be 'object' instead of 'float64' in a future version. Specify a dtype explicitly to silence this warning.\n",
      "/opt/conda/envs/sc-py/lib/python3.10/site-packages/mousipy/mousipy.py:191: FutureWarning: The default dtype for empty Series will be 'object' instead of 'float64' in a future version. Specify a dtype explicitly to silence this warning.\n",
      "  5%|███▊                                                                                | 4/88 [00:07<02:41,  1.92s/it]/opt/conda/envs/sc-py/lib/python3.10/site-packages/mousipy/mousipy.py:191: FutureWarning: The default dtype for empty Series will be 'object' instead of 'float64' in a future version. Specify a dtype explicitly to silence this warning.\n",
      "/opt/conda/envs/sc-py/lib/python3.10/site-packages/mousipy/mousipy.py:191: FutureWarning: The default dtype for empty Series will be 'object' instead of 'float64' in a future version. Specify a dtype explicitly to silence this warning.\n",
      "/opt/conda/envs/sc-py/lib/python3.10/site-packages/mousipy/mousipy.py:191: FutureWarning: The default dtype for empty Series will be 'object' instead of 'float64' in a future version. Specify a dtype explicitly to silence this warning.\n",
      "  6%|████▊                                                                               | 5/88 [00:10<03:02,  2.20s/it]/opt/conda/envs/sc-py/lib/python3.10/site-packages/mousipy/mousipy.py:191: FutureWarning: The default dtype for empty Series will be 'object' instead of 'float64' in a future version. Specify a dtype explicitly to silence this warning.\n",
      "/opt/conda/envs/sc-py/lib/python3.10/site-packages/mousipy/mousipy.py:191: FutureWarning: The default dtype for empty Series will be 'object' instead of 'float64' in a future version. Specify a dtype explicitly to silence this warning.\n",
      "/opt/conda/envs/sc-py/lib/python3.10/site-packages/mousipy/mousipy.py:191: FutureWarning: The default dtype for empty Series will be 'object' instead of 'float64' in a future version. Specify a dtype explicitly to silence this warning.\n",
      "  7%|█████▋                                                                              | 6/88 [00:13<03:13,  2.36s/it]/opt/conda/envs/sc-py/lib/python3.10/site-packages/mousipy/mousipy.py:191: FutureWarning: The default dtype for empty Series will be 'object' instead of 'float64' in a future version. Specify a dtype explicitly to silence this warning.\n",
      "/opt/conda/envs/sc-py/lib/python3.10/site-packages/mousipy/mousipy.py:191: FutureWarning: The default dtype for empty Series will be 'object' instead of 'float64' in a future version. Specify a dtype explicitly to silence this warning.\n",
      "  8%|██████▋                                                                             | 7/88 [00:15<02:56,  2.18s/it]/opt/conda/envs/sc-py/lib/python3.10/site-packages/mousipy/mousipy.py:191: FutureWarning: The default dtype for empty Series will be 'object' instead of 'float64' in a future version. Specify a dtype explicitly to silence this warning.\n",
      "/opt/conda/envs/sc-py/lib/python3.10/site-packages/mousipy/mousipy.py:191: FutureWarning: The default dtype for empty Series will be 'object' instead of 'float64' in a future version. Specify a dtype explicitly to silence this warning.\n",
      "/opt/conda/envs/sc-py/lib/python3.10/site-packages/mousipy/mousipy.py:191: FutureWarning: The default dtype for empty Series will be 'object' instead of 'float64' in a future version. Specify a dtype explicitly to silence this warning.\n",
      "  9%|███████▋                                                                            | 8/88 [00:17<03:07,  2.34s/it]/opt/conda/envs/sc-py/lib/python3.10/site-packages/mousipy/mousipy.py:191: FutureWarning: The default dtype for empty Series will be 'object' instead of 'float64' in a future version. Specify a dtype explicitly to silence this warning.\n",
      "/opt/conda/envs/sc-py/lib/python3.10/site-packages/mousipy/mousipy.py:191: FutureWarning: The default dtype for empty Series will be 'object' instead of 'float64' in a future version. Specify a dtype explicitly to silence this warning.\n",
      " 10%|████████▌                                                                           | 9/88 [00:19<02:51,  2.17s/it]/opt/conda/envs/sc-py/lib/python3.10/site-packages/mousipy/mousipy.py:191: FutureWarning: The default dtype for empty Series will be 'object' instead of 'float64' in a future version. Specify a dtype explicitly to silence this warning.\n",
      "/opt/conda/envs/sc-py/lib/python3.10/site-packages/mousipy/mousipy.py:191: FutureWarning: The default dtype for empty Series will be 'object' instead of 'float64' in a future version. Specify a dtype explicitly to silence this warning.\n",
      " 11%|█████████▍                                                                         | 10/88 [00:21<02:40,  2.06s/it]/opt/conda/envs/sc-py/lib/python3.10/site-packages/mousipy/mousipy.py:191: FutureWarning: The default dtype for empty Series will be 'object' instead of 'float64' in a future version. Specify a dtype explicitly to silence this warning.\n",
      "/opt/conda/envs/sc-py/lib/python3.10/site-packages/mousipy/mousipy.py:191: FutureWarning: The default dtype for empty Series will be 'object' instead of 'float64' in a future version. Specify a dtype explicitly to silence this warning.\n",
      " 12%|██████████▍                                                                        | 11/88 [00:23<02:32,  1.98s/it]/opt/conda/envs/sc-py/lib/python3.10/site-packages/mousipy/mousipy.py:191: FutureWarning: The default dtype for empty Series will be 'object' instead of 'float64' in a future version. Specify a dtype explicitly to silence this warning.\n",
      "/opt/conda/envs/sc-py/lib/python3.10/site-packages/mousipy/mousipy.py:191: FutureWarning: The default dtype for empty Series will be 'object' instead of 'float64' in a future version. Specify a dtype explicitly to silence this warning.\n",
      " 14%|███████████▎                                                                       | 12/88 [00:24<02:25,  1.92s/it]/opt/conda/envs/sc-py/lib/python3.10/site-packages/mousipy/mousipy.py:191: FutureWarning: The default dtype for empty Series will be 'object' instead of 'float64' in a future version. Specify a dtype explicitly to silence this warning.\n",
      "/opt/conda/envs/sc-py/lib/python3.10/site-packages/mousipy/mousipy.py:191: FutureWarning: The default dtype for empty Series will be 'object' instead of 'float64' in a future version. Specify a dtype explicitly to silence this warning.\n",
      " 15%|████████████▎                                                                      | 13/88 [00:26<02:19,  1.86s/it]/opt/conda/envs/sc-py/lib/python3.10/site-packages/mousipy/mousipy.py:191: FutureWarning: The default dtype for empty Series will be 'object' instead of 'float64' in a future version. Specify a dtype explicitly to silence this warning.\n",
      "/opt/conda/envs/sc-py/lib/python3.10/site-packages/mousipy/mousipy.py:191: FutureWarning: The default dtype for empty Series will be 'object' instead of 'float64' in a future version. Specify a dtype explicitly to silence this warning.\n",
      " 17%|██████████████▏                                                                    | 15/88 [00:29<01:55,  1.58s/it]/opt/conda/envs/sc-py/lib/python3.10/site-packages/mousipy/mousipy.py:191: FutureWarning: The default dtype for empty Series will be 'object' instead of 'float64' in a future version. Specify a dtype explicitly to silence this warning.\n",
      "/opt/conda/envs/sc-py/lib/python3.10/site-packages/mousipy/mousipy.py:191: FutureWarning: The default dtype for empty Series will be 'object' instead of 'float64' in a future version. Specify a dtype explicitly to silence this warning.\n",
      " 18%|███████████████                                                                    | 16/88 [00:31<01:56,  1.62s/it]/opt/conda/envs/sc-py/lib/python3.10/site-packages/mousipy/mousipy.py:191: FutureWarning: The default dtype for empty Series will be 'object' instead of 'float64' in a future version. Specify a dtype explicitly to silence this warning.\n",
      "/opt/conda/envs/sc-py/lib/python3.10/site-packages/mousipy/mousipy.py:191: FutureWarning: The default dtype for empty Series will be 'object' instead of 'float64' in a future version. Specify a dtype explicitly to silence this warning.\n",
      " 19%|████████████████                                                                   | 17/88 [00:32<01:57,  1.65s/it]/opt/conda/envs/sc-py/lib/python3.10/site-packages/mousipy/mousipy.py:191: FutureWarning: The default dtype for empty Series will be 'object' instead of 'float64' in a future version. Specify a dtype explicitly to silence this warning.\n",
      "/opt/conda/envs/sc-py/lib/python3.10/site-packages/mousipy/mousipy.py:191: FutureWarning: The default dtype for empty Series will be 'object' instead of 'float64' in a future version. Specify a dtype explicitly to silence this warning.\n",
      "/opt/conda/envs/sc-py/lib/python3.10/site-packages/mousipy/mousipy.py:191: FutureWarning: The default dtype for empty Series will be 'object' instead of 'float64' in a future version. Specify a dtype explicitly to silence this warning.\n",
      "/opt/conda/envs/sc-py/lib/python3.10/site-packages/mousipy/mousipy.py:191: FutureWarning: The default dtype for empty Series will be 'object' instead of 'float64' in a future version. Specify a dtype explicitly to silence this warning.\n",
      "/opt/conda/envs/sc-py/lib/python3.10/site-packages/mousipy/mousipy.py:191: FutureWarning: The default dtype for empty Series will be 'object' instead of 'float64' in a future version. Specify a dtype explicitly to silence this warning.\n",
      "/opt/conda/envs/sc-py/lib/python3.10/site-packages/mousipy/mousipy.py:191: FutureWarning: The default dtype for empty Series will be 'object' instead of 'float64' in a future version. Specify a dtype explicitly to silence this warning.\n",
      " 20%|████████████████▉                                                                  | 18/88 [00:38<03:10,  2.72s/it]/opt/conda/envs/sc-py/lib/python3.10/site-packages/mousipy/mousipy.py:191: FutureWarning: The default dtype for empty Series will be 'object' instead of 'float64' in a future version. Specify a dtype explicitly to silence this warning.\n",
      "/opt/conda/envs/sc-py/lib/python3.10/site-packages/mousipy/mousipy.py:191: FutureWarning: The default dtype for empty Series will be 'object' instead of 'float64' in a future version. Specify a dtype explicitly to silence this warning.\n",
      " 22%|█████████████████▉                                                                 | 19/88 [00:39<02:48,  2.44s/it]/opt/conda/envs/sc-py/lib/python3.10/site-packages/mousipy/mousipy.py:191: FutureWarning: The default dtype for empty Series will be 'object' instead of 'float64' in a future version. Specify a dtype explicitly to silence this warning.\n",
      "/opt/conda/envs/sc-py/lib/python3.10/site-packages/mousipy/mousipy.py:191: FutureWarning: The default dtype for empty Series will be 'object' instead of 'float64' in a future version. Specify a dtype explicitly to silence this warning.\n",
      " 23%|██████████████████▊                                                                | 20/88 [00:41<02:33,  2.25s/it]/opt/conda/envs/sc-py/lib/python3.10/site-packages/mousipy/mousipy.py:191: FutureWarning: The default dtype for empty Series will be 'object' instead of 'float64' in a future version. Specify a dtype explicitly to silence this warning.\n",
      "/opt/conda/envs/sc-py/lib/python3.10/site-packages/mousipy/mousipy.py:191: FutureWarning: The default dtype for empty Series will be 'object' instead of 'float64' in a future version. Specify a dtype explicitly to silence this warning.\n",
      " 24%|███████████████████▊                                                               | 21/88 [00:43<02:21,  2.11s/it]/opt/conda/envs/sc-py/lib/python3.10/site-packages/mousipy/mousipy.py:191: FutureWarning: The default dtype for empty Series will be 'object' instead of 'float64' in a future version. Specify a dtype explicitly to silence this warning.\n",
      "/opt/conda/envs/sc-py/lib/python3.10/site-packages/mousipy/mousipy.py:191: FutureWarning: The default dtype for empty Series will be 'object' instead of 'float64' in a future version. Specify a dtype explicitly to silence this warning.\n",
      " 25%|████████████████████▊                                                              | 22/88 [00:45<02:13,  2.02s/it]/opt/conda/envs/sc-py/lib/python3.10/site-packages/mousipy/mousipy.py:191: FutureWarning: The default dtype for empty Series will be 'object' instead of 'float64' in a future version. Specify a dtype explicitly to silence this warning.\n",
      "/opt/conda/envs/sc-py/lib/python3.10/site-packages/mousipy/mousipy.py:191: FutureWarning: The default dtype for empty Series will be 'object' instead of 'float64' in a future version. Specify a dtype explicitly to silence this warning.\n",
      " 26%|█████████████████████▋                                                             | 23/88 [00:47<02:06,  1.95s/it]/opt/conda/envs/sc-py/lib/python3.10/site-packages/mousipy/mousipy.py:191: FutureWarning: The default dtype for empty Series will be 'object' instead of 'float64' in a future version. Specify a dtype explicitly to silence this warning.\n",
      "/opt/conda/envs/sc-py/lib/python3.10/site-packages/mousipy/mousipy.py:191: FutureWarning: The default dtype for empty Series will be 'object' instead of 'float64' in a future version. Specify a dtype explicitly to silence this warning.\n",
      "/opt/conda/envs/sc-py/lib/python3.10/site-packages/mousipy/mousipy.py:191: FutureWarning: The default dtype for empty Series will be 'object' instead of 'float64' in a future version. Specify a dtype explicitly to silence this warning.\n",
      " 27%|██████████████████████▋                                                            | 24/88 [00:49<02:19,  2.18s/it]/opt/conda/envs/sc-py/lib/python3.10/site-packages/mousipy/mousipy.py:191: FutureWarning: The default dtype for empty Series will be 'object' instead of 'float64' in a future version. Specify a dtype explicitly to silence this warning.\n",
      "/opt/conda/envs/sc-py/lib/python3.10/site-packages/mousipy/mousipy.py:191: FutureWarning: The default dtype for empty Series will be 'object' instead of 'float64' in a future version. Specify a dtype explicitly to silence this warning.\n",
      "/opt/conda/envs/sc-py/lib/python3.10/site-packages/mousipy/mousipy.py:191: FutureWarning: The default dtype for empty Series will be 'object' instead of 'float64' in a future version. Specify a dtype explicitly to silence this warning.\n",
      " 28%|███████████████████████▌                                                           | 25/88 [00:52<02:27,  2.33s/it]/opt/conda/envs/sc-py/lib/python3.10/site-packages/mousipy/mousipy.py:191: FutureWarning: The default dtype for empty Series will be 'object' instead of 'float64' in a future version. Specify a dtype explicitly to silence this warning.\n",
      "/opt/conda/envs/sc-py/lib/python3.10/site-packages/mousipy/mousipy.py:191: FutureWarning: The default dtype for empty Series will be 'object' instead of 'float64' in a future version. Specify a dtype explicitly to silence this warning.\n",
      " 30%|████████████████████████▌                                                          | 26/88 [00:54<02:14,  2.17s/it]/opt/conda/envs/sc-py/lib/python3.10/site-packages/mousipy/mousipy.py:191: FutureWarning: The default dtype for empty Series will be 'object' instead of 'float64' in a future version. Specify a dtype explicitly to silence this warning.\n",
      "/opt/conda/envs/sc-py/lib/python3.10/site-packages/mousipy/mousipy.py:191: FutureWarning: The default dtype for empty Series will be 'object' instead of 'float64' in a future version. Specify a dtype explicitly to silence this warning.\n",
      "/opt/conda/envs/sc-py/lib/python3.10/site-packages/mousipy/mousipy.py:191: FutureWarning: The default dtype for empty Series will be 'object' instead of 'float64' in a future version. Specify a dtype explicitly to silence this warning.\n",
      "/opt/conda/envs/sc-py/lib/python3.10/site-packages/mousipy/mousipy.py:191: FutureWarning: The default dtype for empty Series will be 'object' instead of 'float64' in a future version. Specify a dtype explicitly to silence this warning.\n",
      " 31%|█████████████████████████▍                                                         | 27/88 [00:57<02:38,  2.60s/it]/opt/conda/envs/sc-py/lib/python3.10/site-packages/mousipy/mousipy.py:191: FutureWarning: The default dtype for empty Series will be 'object' instead of 'float64' in a future version. Specify a dtype explicitly to silence this warning.\n",
      "/opt/conda/envs/sc-py/lib/python3.10/site-packages/mousipy/mousipy.py:191: FutureWarning: The default dtype for empty Series will be 'object' instead of 'float64' in a future version. Specify a dtype explicitly to silence this warning.\n",
      " 32%|██████████████████████████▍                                                        | 28/88 [00:59<02:21,  2.36s/it]/opt/conda/envs/sc-py/lib/python3.10/site-packages/mousipy/mousipy.py:191: FutureWarning: The default dtype for empty Series will be 'object' instead of 'float64' in a future version. Specify a dtype explicitly to silence this warning.\n",
      "/opt/conda/envs/sc-py/lib/python3.10/site-packages/mousipy/mousipy.py:191: FutureWarning: The default dtype for empty Series will be 'object' instead of 'float64' in a future version. Specify a dtype explicitly to silence this warning.\n",
      " 33%|███████████████████████████▎                                                       | 29/88 [01:01<02:09,  2.19s/it]/opt/conda/envs/sc-py/lib/python3.10/site-packages/mousipy/mousipy.py:191: FutureWarning: The default dtype for empty Series will be 'object' instead of 'float64' in a future version. Specify a dtype explicitly to silence this warning.\n",
      "/opt/conda/envs/sc-py/lib/python3.10/site-packages/mousipy/mousipy.py:191: FutureWarning: The default dtype for empty Series will be 'object' instead of 'float64' in a future version. Specify a dtype explicitly to silence this warning.\n",
      " 34%|████████████████████████████▎                                                      | 30/88 [01:03<02:00,  2.07s/it]/opt/conda/envs/sc-py/lib/python3.10/site-packages/mousipy/mousipy.py:191: FutureWarning: The default dtype for empty Series will be 'object' instead of 'float64' in a future version. Specify a dtype explicitly to silence this warning.\n",
      "/opt/conda/envs/sc-py/lib/python3.10/site-packages/mousipy/mousipy.py:191: FutureWarning: The default dtype for empty Series will be 'object' instead of 'float64' in a future version. Specify a dtype explicitly to silence this warning.\n",
      " 35%|█████████████████████████████▏                                                     | 31/88 [01:05<01:53,  1.99s/it]/opt/conda/envs/sc-py/lib/python3.10/site-packages/mousipy/mousipy.py:191: FutureWarning: The default dtype for empty Series will be 'object' instead of 'float64' in a future version. Specify a dtype explicitly to silence this warning.\n",
      "/opt/conda/envs/sc-py/lib/python3.10/site-packages/mousipy/mousipy.py:191: FutureWarning: The default dtype for empty Series will be 'object' instead of 'float64' in a future version. Specify a dtype explicitly to silence this warning.\n",
      " 36%|██████████████████████████████▏                                                    | 32/88 [01:06<01:48,  1.94s/it]/opt/conda/envs/sc-py/lib/python3.10/site-packages/mousipy/mousipy.py:191: FutureWarning: The default dtype for empty Series will be 'object' instead of 'float64' in a future version. Specify a dtype explicitly to silence this warning.\n",
      "/opt/conda/envs/sc-py/lib/python3.10/site-packages/mousipy/mousipy.py:191: FutureWarning: The default dtype for empty Series will be 'object' instead of 'float64' in a future version. Specify a dtype explicitly to silence this warning.\n",
      " 38%|███████████████████████████████▏                                                   | 33/88 [01:08<01:44,  1.89s/it]/opt/conda/envs/sc-py/lib/python3.10/site-packages/mousipy/mousipy.py:191: FutureWarning: The default dtype for empty Series will be 'object' instead of 'float64' in a future version. Specify a dtype explicitly to silence this warning.\n",
      "/opt/conda/envs/sc-py/lib/python3.10/site-packages/mousipy/mousipy.py:191: FutureWarning: The default dtype for empty Series will be 'object' instead of 'float64' in a future version. Specify a dtype explicitly to silence this warning.\n",
      " 40%|█████████████████████████████████                                                  | 35/88 [01:11<01:26,  1.63s/it]/opt/conda/envs/sc-py/lib/python3.10/site-packages/mousipy/mousipy.py:191: FutureWarning: The default dtype for empty Series will be 'object' instead of 'float64' in a future version. Specify a dtype explicitly to silence this warning.\n",
      "/opt/conda/envs/sc-py/lib/python3.10/site-packages/mousipy/mousipy.py:191: FutureWarning: The default dtype for empty Series will be 'object' instead of 'float64' in a future version. Specify a dtype explicitly to silence this warning.\n",
      " 41%|█████████████████████████████████▉                                                 | 36/88 [01:13<01:27,  1.68s/it]/opt/conda/envs/sc-py/lib/python3.10/site-packages/mousipy/mousipy.py:191: FutureWarning: The default dtype for empty Series will be 'object' instead of 'float64' in a future version. Specify a dtype explicitly to silence this warning.\n",
      "/opt/conda/envs/sc-py/lib/python3.10/site-packages/mousipy/mousipy.py:191: FutureWarning: The default dtype for empty Series will be 'object' instead of 'float64' in a future version. Specify a dtype explicitly to silence this warning.\n",
      " 42%|██████████████████████████████████▉                                                | 37/88 [01:15<01:27,  1.72s/it]/opt/conda/envs/sc-py/lib/python3.10/site-packages/mousipy/mousipy.py:191: FutureWarning: The default dtype for empty Series will be 'object' instead of 'float64' in a future version. Specify a dtype explicitly to silence this warning.\n",
      "/opt/conda/envs/sc-py/lib/python3.10/site-packages/mousipy/mousipy.py:191: FutureWarning: The default dtype for empty Series will be 'object' instead of 'float64' in a future version. Specify a dtype explicitly to silence this warning.\n",
      "/opt/conda/envs/sc-py/lib/python3.10/site-packages/mousipy/mousipy.py:191: FutureWarning: The default dtype for empty Series will be 'object' instead of 'float64' in a future version. Specify a dtype explicitly to silence this warning.\n",
      " 43%|███████████████████████████████████▊                                               | 38/88 [01:17<01:40,  2.01s/it]/opt/conda/envs/sc-py/lib/python3.10/site-packages/mousipy/mousipy.py:191: FutureWarning: The default dtype for empty Series will be 'object' instead of 'float64' in a future version. Specify a dtype explicitly to silence this warning.\n",
      "/opt/conda/envs/sc-py/lib/python3.10/site-packages/mousipy/mousipy.py:191: FutureWarning: The default dtype for empty Series will be 'object' instead of 'float64' in a future version. Specify a dtype explicitly to silence this warning.\n",
      " 45%|█████████████████████████████████████▋                                             | 40/88 [01:20<01:20,  1.69s/it]/opt/conda/envs/sc-py/lib/python3.10/site-packages/mousipy/mousipy.py:191: FutureWarning: The default dtype for empty Series will be 'object' instead of 'float64' in a future version. Specify a dtype explicitly to silence this warning.\n",
      "/opt/conda/envs/sc-py/lib/python3.10/site-packages/mousipy/mousipy.py:191: FutureWarning: The default dtype for empty Series will be 'object' instead of 'float64' in a future version. Specify a dtype explicitly to silence this warning.\n",
      "/opt/conda/envs/sc-py/lib/python3.10/site-packages/mousipy/mousipy.py:191: FutureWarning: The default dtype for empty Series will be 'object' instead of 'float64' in a future version. Specify a dtype explicitly to silence this warning.\n",
      " 48%|███████████████████████████████████████▌                                           | 42/88 [01:25<01:26,  1.88s/it]/opt/conda/envs/sc-py/lib/python3.10/site-packages/mousipy/mousipy.py:191: FutureWarning: The default dtype for empty Series will be 'object' instead of 'float64' in a future version. Specify a dtype explicitly to silence this warning.\n",
      "/opt/conda/envs/sc-py/lib/python3.10/site-packages/mousipy/mousipy.py:191: FutureWarning: The default dtype for empty Series will be 'object' instead of 'float64' in a future version. Specify a dtype explicitly to silence this warning.\n",
      "/opt/conda/envs/sc-py/lib/python3.10/site-packages/mousipy/mousipy.py:191: FutureWarning: The default dtype for empty Series will be 'object' instead of 'float64' in a future version. Specify a dtype explicitly to silence this warning.\n",
      " 49%|████████████████████████████████████████▌                                          | 43/88 [01:27<01:35,  2.13s/it]/opt/conda/envs/sc-py/lib/python3.10/site-packages/mousipy/mousipy.py:191: FutureWarning: The default dtype for empty Series will be 'object' instead of 'float64' in a future version. Specify a dtype explicitly to silence this warning.\n",
      "/opt/conda/envs/sc-py/lib/python3.10/site-packages/mousipy/mousipy.py:191: FutureWarning: The default dtype for empty Series will be 'object' instead of 'float64' in a future version. Specify a dtype explicitly to silence this warning.\n",
      " 50%|█████████████████████████████████████████▌                                         | 44/88 [01:29<01:29,  2.03s/it]/opt/conda/envs/sc-py/lib/python3.10/site-packages/mousipy/mousipy.py:191: FutureWarning: The default dtype for empty Series will be 'object' instead of 'float64' in a future version. Specify a dtype explicitly to silence this warning.\n",
      "/opt/conda/envs/sc-py/lib/python3.10/site-packages/mousipy/mousipy.py:191: FutureWarning: The default dtype for empty Series will be 'object' instead of 'float64' in a future version. Specify a dtype explicitly to silence this warning.\n",
      " 51%|██████████████████████████████████████████▍                                        | 45/88 [01:31<01:24,  1.96s/it]/opt/conda/envs/sc-py/lib/python3.10/site-packages/mousipy/mousipy.py:191: FutureWarning: The default dtype for empty Series will be 'object' instead of 'float64' in a future version. Specify a dtype explicitly to silence this warning.\n",
      "/opt/conda/envs/sc-py/lib/python3.10/site-packages/mousipy/mousipy.py:191: FutureWarning: The default dtype for empty Series will be 'object' instead of 'float64' in a future version. Specify a dtype explicitly to silence this warning.\n",
      " 52%|███████████████████████████████████████████▍                                       | 46/88 [01:33<01:20,  1.92s/it]/opt/conda/envs/sc-py/lib/python3.10/site-packages/mousipy/mousipy.py:191: FutureWarning: The default dtype for empty Series will be 'object' instead of 'float64' in a future version. Specify a dtype explicitly to silence this warning.\n",
      "/opt/conda/envs/sc-py/lib/python3.10/site-packages/mousipy/mousipy.py:191: FutureWarning: The default dtype for empty Series will be 'object' instead of 'float64' in a future version. Specify a dtype explicitly to silence this warning.\n",
      " 53%|████████████████████████████████████████████▎                                      | 47/88 [01:34<01:17,  1.88s/it]/opt/conda/envs/sc-py/lib/python3.10/site-packages/mousipy/mousipy.py:191: FutureWarning: The default dtype for empty Series will be 'object' instead of 'float64' in a future version. Specify a dtype explicitly to silence this warning.\n",
      "/opt/conda/envs/sc-py/lib/python3.10/site-packages/mousipy/mousipy.py:191: FutureWarning: The default dtype for empty Series will be 'object' instead of 'float64' in a future version. Specify a dtype explicitly to silence this warning.\n",
      " 55%|█████████████████████████████████████████████▎                                     | 48/88 [01:36<01:14,  1.86s/it]/opt/conda/envs/sc-py/lib/python3.10/site-packages/mousipy/mousipy.py:191: FutureWarning: The default dtype for empty Series will be 'object' instead of 'float64' in a future version. Specify a dtype explicitly to silence this warning.\n",
      "/opt/conda/envs/sc-py/lib/python3.10/site-packages/mousipy/mousipy.py:191: FutureWarning: The default dtype for empty Series will be 'object' instead of 'float64' in a future version. Specify a dtype explicitly to silence this warning.\n",
      "/opt/conda/envs/sc-py/lib/python3.10/site-packages/mousipy/mousipy.py:191: FutureWarning: The default dtype for empty Series will be 'object' instead of 'float64' in a future version. Specify a dtype explicitly to silence this warning.\n",
      "/opt/conda/envs/sc-py/lib/python3.10/site-packages/mousipy/mousipy.py:191: FutureWarning: The default dtype for empty Series will be 'object' instead of 'float64' in a future version. Specify a dtype explicitly to silence this warning.\n",
      "/opt/conda/envs/sc-py/lib/python3.10/site-packages/mousipy/mousipy.py:191: FutureWarning: The default dtype for empty Series will be 'object' instead of 'float64' in a future version. Specify a dtype explicitly to silence this warning.\n",
      "/opt/conda/envs/sc-py/lib/python3.10/site-packages/mousipy/mousipy.py:191: FutureWarning: The default dtype for empty Series will be 'object' instead of 'float64' in a future version. Specify a dtype explicitly to silence this warning.\n",
      "/opt/conda/envs/sc-py/lib/python3.10/site-packages/mousipy/mousipy.py:191: FutureWarning: The default dtype for empty Series will be 'object' instead of 'float64' in a future version. Specify a dtype explicitly to silence this warning.\n",
      "/opt/conda/envs/sc-py/lib/python3.10/site-packages/mousipy/mousipy.py:191: FutureWarning: The default dtype for empty Series will be 'object' instead of 'float64' in a future version. Specify a dtype explicitly to silence this warning.\n",
      "/opt/conda/envs/sc-py/lib/python3.10/site-packages/mousipy/mousipy.py:191: FutureWarning: The default dtype for empty Series will be 'object' instead of 'float64' in a future version. Specify a dtype explicitly to silence this warning.\n",
      " 56%|██████████████████████████████████████████████▏                                    | 49/88 [01:44<02:25,  3.74s/it]/opt/conda/envs/sc-py/lib/python3.10/site-packages/mousipy/mousipy.py:191: FutureWarning: The default dtype for empty Series will be 'object' instead of 'float64' in a future version. Specify a dtype explicitly to silence this warning.\n",
      "/opt/conda/envs/sc-py/lib/python3.10/site-packages/mousipy/mousipy.py:191: FutureWarning: The default dtype for empty Series will be 'object' instead of 'float64' in a future version. Specify a dtype explicitly to silence this warning.\n",
      " 57%|███████████████████████████████████████████████▏                                   | 50/88 [01:46<02:00,  3.16s/it]/opt/conda/envs/sc-py/lib/python3.10/site-packages/mousipy/mousipy.py:191: FutureWarning: The default dtype for empty Series will be 'object' instead of 'float64' in a future version. Specify a dtype explicitly to silence this warning.\n",
      "/opt/conda/envs/sc-py/lib/python3.10/site-packages/mousipy/mousipy.py:191: FutureWarning: The default dtype for empty Series will be 'object' instead of 'float64' in a future version. Specify a dtype explicitly to silence this warning.\n",
      " 58%|████████████████████████████████████████████████                                   | 51/88 [01:48<01:41,  2.75s/it]/opt/conda/envs/sc-py/lib/python3.10/site-packages/mousipy/mousipy.py:191: FutureWarning: The default dtype for empty Series will be 'object' instead of 'float64' in a future version. Specify a dtype explicitly to silence this warning.\n",
      "/opt/conda/envs/sc-py/lib/python3.10/site-packages/mousipy/mousipy.py:191: FutureWarning: The default dtype for empty Series will be 'object' instead of 'float64' in a future version. Specify a dtype explicitly to silence this warning.\n",
      " 59%|█████████████████████████████████████████████████                                  | 52/88 [01:50<01:29,  2.47s/it]/opt/conda/envs/sc-py/lib/python3.10/site-packages/mousipy/mousipy.py:191: FutureWarning: The default dtype for empty Series will be 'object' instead of 'float64' in a future version. Specify a dtype explicitly to silence this warning.\n",
      "/opt/conda/envs/sc-py/lib/python3.10/site-packages/mousipy/mousipy.py:191: FutureWarning: The default dtype for empty Series will be 'object' instead of 'float64' in a future version. Specify a dtype explicitly to silence this warning.\n",
      " 60%|█████████████████████████████████████████████████▉                                 | 53/88 [01:52<01:19,  2.27s/it]/opt/conda/envs/sc-py/lib/python3.10/site-packages/mousipy/mousipy.py:191: FutureWarning: The default dtype for empty Series will be 'object' instead of 'float64' in a future version. Specify a dtype explicitly to silence this warning.\n",
      "/opt/conda/envs/sc-py/lib/python3.10/site-packages/mousipy/mousipy.py:191: FutureWarning: The default dtype for empty Series will be 'object' instead of 'float64' in a future version. Specify a dtype explicitly to silence this warning.\n",
      "/opt/conda/envs/sc-py/lib/python3.10/site-packages/mousipy/mousipy.py:191: FutureWarning: The default dtype for empty Series will be 'object' instead of 'float64' in a future version. Specify a dtype explicitly to silence this warning.\n",
      "/opt/conda/envs/sc-py/lib/python3.10/site-packages/mousipy/mousipy.py:191: FutureWarning: The default dtype for empty Series will be 'object' instead of 'float64' in a future version. Specify a dtype explicitly to silence this warning.\n",
      " 61%|██████████████████████████████████████████████████▉                                | 54/88 [01:55<01:30,  2.68s/it]/opt/conda/envs/sc-py/lib/python3.10/site-packages/mousipy/mousipy.py:191: FutureWarning: The default dtype for empty Series will be 'object' instead of 'float64' in a future version. Specify a dtype explicitly to silence this warning.\n",
      "/opt/conda/envs/sc-py/lib/python3.10/site-packages/mousipy/mousipy.py:191: FutureWarning: The default dtype for empty Series will be 'object' instead of 'float64' in a future version. Specify a dtype explicitly to silence this warning.\n",
      " 64%|████████████████████████████████████████████████████▊                              | 56/88 [01:58<01:04,  2.01s/it]/opt/conda/envs/sc-py/lib/python3.10/site-packages/mousipy/mousipy.py:191: FutureWarning: The default dtype for empty Series will be 'object' instead of 'float64' in a future version. Specify a dtype explicitly to silence this warning.\n",
      "/opt/conda/envs/sc-py/lib/python3.10/site-packages/mousipy/mousipy.py:191: FutureWarning: The default dtype for empty Series will be 'object' instead of 'float64' in a future version. Specify a dtype explicitly to silence this warning.\n",
      " 65%|█████████████████████████████████████████████████████▊                             | 57/88 [02:00<01:00,  1.95s/it]/opt/conda/envs/sc-py/lib/python3.10/site-packages/mousipy/mousipy.py:191: FutureWarning: The default dtype for empty Series will be 'object' instead of 'float64' in a future version. Specify a dtype explicitly to silence this warning.\n",
      "/opt/conda/envs/sc-py/lib/python3.10/site-packages/mousipy/mousipy.py:191: FutureWarning: The default dtype for empty Series will be 'object' instead of 'float64' in a future version. Specify a dtype explicitly to silence this warning.\n",
      " 67%|███████████████████████████████████████████████████████▋                           | 59/88 [02:03<00:48,  1.66s/it]/opt/conda/envs/sc-py/lib/python3.10/site-packages/mousipy/mousipy.py:191: FutureWarning: The default dtype for empty Series will be 'object' instead of 'float64' in a future version. Specify a dtype explicitly to silence this warning.\n",
      "/opt/conda/envs/sc-py/lib/python3.10/site-packages/mousipy/mousipy.py:191: FutureWarning: The default dtype for empty Series will be 'object' instead of 'float64' in a future version. Specify a dtype explicitly to silence this warning.\n",
      " 68%|████████████████████████████████████████████████████████▌                          | 60/88 [02:05<00:47,  1.70s/it]/opt/conda/envs/sc-py/lib/python3.10/site-packages/mousipy/mousipy.py:191: FutureWarning: The default dtype for empty Series will be 'object' instead of 'float64' in a future version. Specify a dtype explicitly to silence this warning.\n",
      "/opt/conda/envs/sc-py/lib/python3.10/site-packages/mousipy/mousipy.py:191: FutureWarning: The default dtype for empty Series will be 'object' instead of 'float64' in a future version. Specify a dtype explicitly to silence this warning.\n",
      " 69%|█████████████████████████████████████████████████████████▌                         | 61/88 [02:06<00:46,  1.74s/it]/opt/conda/envs/sc-py/lib/python3.10/site-packages/mousipy/mousipy.py:191: FutureWarning: The default dtype for empty Series will be 'object' instead of 'float64' in a future version. Specify a dtype explicitly to silence this warning.\n",
      "/opt/conda/envs/sc-py/lib/python3.10/site-packages/mousipy/mousipy.py:191: FutureWarning: The default dtype for empty Series will be 'object' instead of 'float64' in a future version. Specify a dtype explicitly to silence this warning.\n",
      " 72%|███████████████████████████████████████████████████████████▍                       | 63/88 [02:09<00:38,  1.55s/it]/opt/conda/envs/sc-py/lib/python3.10/site-packages/mousipy/mousipy.py:191: FutureWarning: The default dtype for empty Series will be 'object' instead of 'float64' in a future version. Specify a dtype explicitly to silence this warning.\n",
      "/opt/conda/envs/sc-py/lib/python3.10/site-packages/mousipy/mousipy.py:191: FutureWarning: The default dtype for empty Series will be 'object' instead of 'float64' in a future version. Specify a dtype explicitly to silence this warning.\n",
      " 73%|████████████████████████████████████████████████████████████▎                      | 64/88 [02:11<00:39,  1.63s/it]/opt/conda/envs/sc-py/lib/python3.10/site-packages/mousipy/mousipy.py:191: FutureWarning: The default dtype for empty Series will be 'object' instead of 'float64' in a future version. Specify a dtype explicitly to silence this warning.\n",
      "/opt/conda/envs/sc-py/lib/python3.10/site-packages/mousipy/mousipy.py:191: FutureWarning: The default dtype for empty Series will be 'object' instead of 'float64' in a future version. Specify a dtype explicitly to silence this warning.\n",
      " 74%|█████████████████████████████████████████████████████████████▎                     | 65/88 [02:13<00:38,  1.68s/it]/opt/conda/envs/sc-py/lib/python3.10/site-packages/mousipy/mousipy.py:191: FutureWarning: The default dtype for empty Series will be 'object' instead of 'float64' in a future version. Specify a dtype explicitly to silence this warning.\n",
      "/opt/conda/envs/sc-py/lib/python3.10/site-packages/mousipy/mousipy.py:191: FutureWarning: The default dtype for empty Series will be 'object' instead of 'float64' in a future version. Specify a dtype explicitly to silence this warning.\n",
      " 75%|██████████████████████████████████████████████████████████████▎                    | 66/88 [02:15<00:37,  1.73s/it]/opt/conda/envs/sc-py/lib/python3.10/site-packages/mousipy/mousipy.py:191: FutureWarning: The default dtype for empty Series will be 'object' instead of 'float64' in a future version. Specify a dtype explicitly to silence this warning.\n",
      "/opt/conda/envs/sc-py/lib/python3.10/site-packages/mousipy/mousipy.py:191: FutureWarning: The default dtype for empty Series will be 'object' instead of 'float64' in a future version. Specify a dtype explicitly to silence this warning.\n",
      " 80%|██████████████████████████████████████████████████████████████████                 | 70/88 [02:20<00:22,  1.28s/it]/opt/conda/envs/sc-py/lib/python3.10/site-packages/mousipy/mousipy.py:191: FutureWarning: The default dtype for empty Series will be 'object' instead of 'float64' in a future version. Specify a dtype explicitly to silence this warning.\n",
      "/opt/conda/envs/sc-py/lib/python3.10/site-packages/mousipy/mousipy.py:191: FutureWarning: The default dtype for empty Series will be 'object' instead of 'float64' in a future version. Specify a dtype explicitly to silence this warning.\n",
      " 81%|██████████████████████████████████████████████████████████████████▉                | 71/88 [02:21<00:24,  1.42s/it]/opt/conda/envs/sc-py/lib/python3.10/site-packages/mousipy/mousipy.py:191: FutureWarning: The default dtype for empty Series will be 'object' instead of 'float64' in a future version. Specify a dtype explicitly to silence this warning.\n",
      "/opt/conda/envs/sc-py/lib/python3.10/site-packages/mousipy/mousipy.py:191: FutureWarning: The default dtype for empty Series will be 'object' instead of 'float64' in a future version. Specify a dtype explicitly to silence this warning.\n",
      " 82%|███████████████████████████████████████████████████████████████████▉               | 72/88 [02:23<00:24,  1.52s/it]/opt/conda/envs/sc-py/lib/python3.10/site-packages/mousipy/mousipy.py:191: FutureWarning: The default dtype for empty Series will be 'object' instead of 'float64' in a future version. Specify a dtype explicitly to silence this warning.\n",
      "/opt/conda/envs/sc-py/lib/python3.10/site-packages/mousipy/mousipy.py:191: FutureWarning: The default dtype for empty Series will be 'object' instead of 'float64' in a future version. Specify a dtype explicitly to silence this warning.\n",
      " 83%|████████████████████████████████████████████████████████████████████▊              | 73/88 [02:25<00:23,  1.59s/it]/opt/conda/envs/sc-py/lib/python3.10/site-packages/mousipy/mousipy.py:191: FutureWarning: The default dtype for empty Series will be 'object' instead of 'float64' in a future version. Specify a dtype explicitly to silence this warning.\n",
      "/opt/conda/envs/sc-py/lib/python3.10/site-packages/mousipy/mousipy.py:191: FutureWarning: The default dtype for empty Series will be 'object' instead of 'float64' in a future version. Specify a dtype explicitly to silence this warning.\n",
      " 85%|██████████████████████████████████████████████████████████████████████▋            | 75/88 [02:28<00:18,  1.45s/it]/opt/conda/envs/sc-py/lib/python3.10/site-packages/mousipy/mousipy.py:191: FutureWarning: The default dtype for empty Series will be 'object' instead of 'float64' in a future version. Specify a dtype explicitly to silence this warning.\n",
      "/opt/conda/envs/sc-py/lib/python3.10/site-packages/mousipy/mousipy.py:191: FutureWarning: The default dtype for empty Series will be 'object' instead of 'float64' in a future version. Specify a dtype explicitly to silence this warning.\n",
      "/opt/conda/envs/sc-py/lib/python3.10/site-packages/mousipy/mousipy.py:191: FutureWarning: The default dtype for empty Series will be 'object' instead of 'float64' in a future version. Specify a dtype explicitly to silence this warning.\n",
      " 88%|████████████████████████████████████████████████████████████████████████▋          | 77/88 [02:31<00:17,  1.57s/it]/opt/conda/envs/sc-py/lib/python3.10/site-packages/mousipy/mousipy.py:191: FutureWarning: The default dtype for empty Series will be 'object' instead of 'float64' in a future version. Specify a dtype explicitly to silence this warning.\n",
      "/opt/conda/envs/sc-py/lib/python3.10/site-packages/mousipy/mousipy.py:191: FutureWarning: The default dtype for empty Series will be 'object' instead of 'float64' in a future version. Specify a dtype explicitly to silence this warning.\n",
      " 89%|█████████████████████████████████████████████████████████████████████████▌         | 78/88 [02:33<00:16,  1.62s/it]/opt/conda/envs/sc-py/lib/python3.10/site-packages/mousipy/mousipy.py:191: FutureWarning: The default dtype for empty Series will be 'object' instead of 'float64' in a future version. Specify a dtype explicitly to silence this warning.\n",
      "/opt/conda/envs/sc-py/lib/python3.10/site-packages/mousipy/mousipy.py:191: FutureWarning: The default dtype for empty Series will be 'object' instead of 'float64' in a future version. Specify a dtype explicitly to silence this warning.\n",
      " 91%|███████████████████████████████████████████████████████████████████████████▍       | 80/88 [02:36<00:12,  1.62s/it]/opt/conda/envs/sc-py/lib/python3.10/site-packages/mousipy/mousipy.py:191: FutureWarning: The default dtype for empty Series will be 'object' instead of 'float64' in a future version. Specify a dtype explicitly to silence this warning.\n",
      "/opt/conda/envs/sc-py/lib/python3.10/site-packages/mousipy/mousipy.py:191: FutureWarning: The default dtype for empty Series will be 'object' instead of 'float64' in a future version. Specify a dtype explicitly to silence this warning.\n",
      " 92%|████████████████████████████████████████████████████████████████████████████▍      | 81/88 [02:38<00:11,  1.67s/it]/opt/conda/envs/sc-py/lib/python3.10/site-packages/mousipy/mousipy.py:191: FutureWarning: The default dtype for empty Series will be 'object' instead of 'float64' in a future version. Specify a dtype explicitly to silence this warning.\n",
      "/opt/conda/envs/sc-py/lib/python3.10/site-packages/mousipy/mousipy.py:191: FutureWarning: The default dtype for empty Series will be 'object' instead of 'float64' in a future version. Specify a dtype explicitly to silence this warning.\n",
      " 93%|█████████████████████████████████████████████████████████████████████████████▎     | 82/88 [02:40<00:10,  1.69s/it]/opt/conda/envs/sc-py/lib/python3.10/site-packages/mousipy/mousipy.py:191: FutureWarning: The default dtype for empty Series will be 'object' instead of 'float64' in a future version. Specify a dtype explicitly to silence this warning.\n",
      "/opt/conda/envs/sc-py/lib/python3.10/site-packages/mousipy/mousipy.py:191: FutureWarning: The default dtype for empty Series will be 'object' instead of 'float64' in a future version. Specify a dtype explicitly to silence this warning.\n",
      "/opt/conda/envs/sc-py/lib/python3.10/site-packages/mousipy/mousipy.py:191: FutureWarning: The default dtype for empty Series will be 'object' instead of 'float64' in a future version. Specify a dtype explicitly to silence this warning.\n",
      " 94%|██████████████████████████████████████████████████████████████████████████████▎    | 83/88 [02:42<00:09,  1.97s/it]/opt/conda/envs/sc-py/lib/python3.10/site-packages/mousipy/mousipy.py:191: FutureWarning: The default dtype for empty Series will be 'object' instead of 'float64' in a future version. Specify a dtype explicitly to silence this warning.\n",
      "/opt/conda/envs/sc-py/lib/python3.10/site-packages/mousipy/mousipy.py:191: FutureWarning: The default dtype for empty Series will be 'object' instead of 'float64' in a future version. Specify a dtype explicitly to silence this warning.\n",
      "/opt/conda/envs/sc-py/lib/python3.10/site-packages/mousipy/mousipy.py:191: FutureWarning: The default dtype for empty Series will be 'object' instead of 'float64' in a future version. Specify a dtype explicitly to silence this warning.\n",
      " 95%|███████████████████████████████████████████████████████████████████████████████▏   | 84/88 [02:45<00:08,  2.16s/it]/opt/conda/envs/sc-py/lib/python3.10/site-packages/mousipy/mousipy.py:191: FutureWarning: The default dtype for empty Series will be 'object' instead of 'float64' in a future version. Specify a dtype explicitly to silence this warning.\n",
      "/opt/conda/envs/sc-py/lib/python3.10/site-packages/mousipy/mousipy.py:191: FutureWarning: The default dtype for empty Series will be 'object' instead of 'float64' in a future version. Specify a dtype explicitly to silence this warning.\n",
      " 99%|██████████████████████████████████████████████████████████████████████████████████ | 87/88 [02:49<00:01,  1.52s/it]/opt/conda/envs/sc-py/lib/python3.10/site-packages/mousipy/mousipy.py:191: FutureWarning: The default dtype for empty Series will be 'object' instead of 'float64' in a future version. Specify a dtype explicitly to silence this warning.\n",
      "/opt/conda/envs/sc-py/lib/python3.10/site-packages/mousipy/mousipy.py:191: FutureWarning: The default dtype for empty Series will be 'object' instead of 'float64' in a future version. Specify a dtype explicitly to silence this warning.\n",
      "/opt/conda/envs/sc-py/lib/python3.10/site-packages/mousipy/mousipy.py:191: FutureWarning: The default dtype for empty Series will be 'object' instead of 'float64' in a future version. Specify a dtype explicitly to silence this warning.\n",
      "/opt/conda/envs/sc-py/lib/python3.10/site-packages/mousipy/mousipy.py:191: FutureWarning: The default dtype for empty Series will be 'object' instead of 'float64' in a future version. Specify a dtype explicitly to silence this warning.\n",
      "/opt/conda/envs/sc-py/lib/python3.10/site-packages/mousipy/mousipy.py:191: FutureWarning: The default dtype for empty Series will be 'object' instead of 'float64' in a future version. Specify a dtype explicitly to silence this warning.\n",
      "100%|███████████████████████████████████████████████████████████████████████████████████| 88/88 [02:53<00:00,  1.98s/it]\n",
      "/opt/conda/envs/sc-py/lib/python3.10/site-packages/anndata/_core/anndata.py:1830: UserWarning: Variable names are not unique. To make them unique, call `.var_names_make_unique`.\n",
      "                                                                                                                        \r"
     ]
    }
   ],
   "source": [
    "humanized_adata = translate(adata)"
   ]
  },
  {
   "cell_type": "code",
   "execution_count": 7,
   "id": "5d1cdf9b-d18c-4f2f-bbf6-5379242ae693",
   "metadata": {},
   "outputs": [],
   "source": [
    "adata = humanized_adata"
   ]
  },
  {
   "cell_type": "code",
   "execution_count": 8,
   "id": "a423d149-3fed-4158-a04b-14d52bb0fed3",
   "metadata": {},
   "outputs": [],
   "source": [
    "adata.var_names_make_unique()"
   ]
  },
  {
   "cell_type": "code",
   "execution_count": 9,
   "id": "2a296fd0-6c53-40db-93cd-72b78ad588c8",
   "metadata": {},
   "outputs": [
    {
     "name": "stderr",
     "output_type": "stream",
     "text": [
      "... storing 'name' as categorical\n",
      "... storing 'original_gene_symbol' as categorical\n"
     ]
    }
   ],
   "source": [
    "adata.write_h5ad(\"Atlashumanized.h5ad\")"
   ]
  },
  {
   "cell_type": "code",
   "execution_count": 10,
   "id": "20e85bc3-5dc0-498a-8fe1-8c0dcf7e67cf",
   "metadata": {},
   "outputs": [],
   "source": [
    "adata = adata[adata.obs['DevTP'] == 'E10.5']"
   ]
  },
  {
   "cell_type": "code",
   "execution_count": 11,
   "id": "f8e7b594-cc4c-41f2-8c45-73d213799142",
   "metadata": {},
   "outputs": [
    {
     "name": "stdout",
     "output_type": "stream",
     "text": [
      "WARNING: adata.X seems to be already log-transformed.\n"
     ]
    },
    {
     "name": "stderr",
     "output_type": "stream",
     "text": [
      "/opt/conda/envs/sc-py/lib/python3.10/site-packages/scanpy/preprocessing/_normalization.py:170: UserWarning: Received a view of an AnnData. Making a copy.\n"
     ]
    }
   ],
   "source": [
    "# log1p normalize the data\n",
    "sc.pp.normalize_total(adata)\n",
    "sc.pp.log1p(adata)"
   ]
  },
  {
   "cell_type": "code",
   "execution_count": 12,
   "id": "0f616a98-47d5-42da-94d6-d5183f071bad",
   "metadata": {},
   "outputs": [],
   "source": [
    "adata.write_h5ad(\"Atlas_E10.5_humanized.h5ad\")"
   ]
  },
  {
   "cell_type": "code",
   "execution_count": 13,
   "id": "77905103-03a5-4928-8ecb-7d13f79c743c",
   "metadata": {},
   "outputs": [],
   "source": [
    "adata = humanized_adata"
   ]
  },
  {
   "cell_type": "code",
   "execution_count": 14,
   "id": "a5cd7dc4-6608-436e-adf5-e693a7f8b25e",
   "metadata": {},
   "outputs": [],
   "source": [
    "adata = adata[adata.obs['DevTP'] == 'E11.5']"
   ]
  },
  {
   "cell_type": "code",
   "execution_count": 15,
   "id": "54ab7712-17d7-4cc7-8fc4-1569a120996f",
   "metadata": {},
   "outputs": [
    {
     "name": "stdout",
     "output_type": "stream",
     "text": [
      "WARNING: adata.X seems to be already log-transformed.\n"
     ]
    }
   ],
   "source": [
    "# log1p normalize the data\n",
    "sc.pp.normalize_total(adata)\n",
    "sc.pp.log1p(adata)"
   ]
  },
  {
   "cell_type": "code",
   "execution_count": 16,
   "id": "a5f9c647-5e7f-4075-a215-c93c74f24641",
   "metadata": {},
   "outputs": [],
   "source": [
    "adata.write_h5ad(\"Atlas_E11.5_humanized.h5ad\")"
   ]
  },
  {
   "cell_type": "code",
   "execution_count": 17,
   "id": "b683b1fb-2b9a-4d36-8c85-14aa4b7a124b",
   "metadata": {},
   "outputs": [],
   "source": [
    "adata = humanized_adata"
   ]
  },
  {
   "cell_type": "code",
   "execution_count": 18,
   "id": "4b7b1f94-e812-403f-8260-729b25875fa8",
   "metadata": {},
   "outputs": [],
   "source": [
    "adata = adata[adata.obs['DevTP'] == 'E12.5']"
   ]
  },
  {
   "cell_type": "code",
   "execution_count": 19,
   "id": "da9ce734-c68b-47fe-88bf-1d00e43dcd4e",
   "metadata": {},
   "outputs": [
    {
     "name": "stdout",
     "output_type": "stream",
     "text": [
      "WARNING: adata.X seems to be already log-transformed.\n"
     ]
    }
   ],
   "source": [
    "# log1p normalize the data\n",
    "sc.pp.normalize_total(adata)\n",
    "sc.pp.log1p(adata)"
   ]
  },
  {
   "cell_type": "code",
   "execution_count": 20,
   "id": "abba92e1-dcc6-4f7e-bc66-f0fd350d2614",
   "metadata": {},
   "outputs": [],
   "source": [
    "adata.write_h5ad(\"Atlas_E12.5_humanized.h5ad\")"
   ]
  },
  {
   "cell_type": "markdown",
   "id": "16ad8c54-4c0d-4829-851b-2fdf440f14b1",
   "metadata": {
    "tags": []
   },
   "source": [
    "## E10.5"
   ]
  },
  {
   "cell_type": "markdown",
   "id": "45eaceb6-0b78-4cb2-8f9a-69408ab4705d",
   "metadata": {},
   "source": [
    "Do this for each timepoint"
   ]
  },
  {
   "cell_type": "code",
   "execution_count": 21,
   "id": "cf0db490-f6d2-4f57-872a-904af15b3c13",
   "metadata": {},
   "outputs": [],
   "source": [
    "cpdb_file_path = 'cellphonedb.zip'\n",
    "meta_file_path = 'E10.5_meta.tsv'\n",
    "counts_file_path = 'Atlas_E10.5_humanized.h5ad'\n",
    "degs_file_path = 'E10.5_DEGs.tsv'\n",
    "output_path = 'E10.5'"
   ]
  },
  {
   "cell_type": "code",
   "execution_count": 22,
   "id": "8557b701-1849-41a6-a952-a87be81f956c",
   "metadata": {},
   "outputs": [
    {
     "data": {
      "text/html": [
       "<div>\n",
       "<style scoped>\n",
       "    .dataframe tbody tr th:only-of-type {\n",
       "        vertical-align: middle;\n",
       "    }\n",
       "\n",
       "    .dataframe tbody tr th {\n",
       "        vertical-align: top;\n",
       "    }\n",
       "\n",
       "    .dataframe thead th {\n",
       "        text-align: right;\n",
       "    }\n",
       "</style>\n",
       "<table border=\"1\" class=\"dataframe\">\n",
       "  <thead>\n",
       "    <tr style=\"text-align: right;\">\n",
       "      <th></th>\n",
       "      <th>Cell</th>\n",
       "      <th>CellType</th>\n",
       "    </tr>\n",
       "  </thead>\n",
       "  <tbody>\n",
       "    <tr>\n",
       "      <th>0</th>\n",
       "      <td>AAACCCACATAATGCC-1_12</td>\n",
       "      <td>Chondroprogenitors</td>\n",
       "    </tr>\n",
       "    <tr>\n",
       "      <th>1</th>\n",
       "      <td>AAACCCAGTCACAGTT-1_12</td>\n",
       "      <td>ZPA</td>\n",
       "    </tr>\n",
       "    <tr>\n",
       "      <th>2</th>\n",
       "      <td>AAACCCAGTTAGAAAC-1_12</td>\n",
       "      <td>Proximal limb bud mesenchyme</td>\n",
       "    </tr>\n",
       "  </tbody>\n",
       "</table>\n",
       "</div>"
      ],
      "text/plain": [
       "                    Cell                      CellType\n",
       "0  AAACCCACATAATGCC-1_12            Chondroprogenitors\n",
       "1  AAACCCAGTCACAGTT-1_12                           ZPA\n",
       "2  AAACCCAGTTAGAAAC-1_12  Proximal limb bud mesenchyme"
      ]
     },
     "execution_count": 22,
     "metadata": {},
     "output_type": "execute_result"
    }
   ],
   "source": [
    "metadata = pd.read_csv(meta_file_path, sep = '\\t')\n",
    "metadata.head(3)"
   ]
  },
  {
   "cell_type": "code",
   "execution_count": 23,
   "id": "f7f5e316-5749-4123-a6d5-cce68036c4dc",
   "metadata": {},
   "outputs": [
    {
     "data": {
      "text/plain": [
       "(5826, 4588)"
      ]
     },
     "execution_count": 23,
     "metadata": {},
     "output_type": "execute_result"
    }
   ],
   "source": [
    "import anndata\n",
    "\n",
    "adata = anndata.read_h5ad(counts_file_path)\n",
    "adata.shape"
   ]
  },
  {
   "cell_type": "code",
   "execution_count": 24,
   "id": "292fd26b-8dc8-45fc-88ec-38de0a134807",
   "metadata": {},
   "outputs": [
    {
     "data": {
      "text/plain": [
       "True"
      ]
     },
     "execution_count": 24,
     "metadata": {},
     "output_type": "execute_result"
    }
   ],
   "source": [
    "list(adata.obs.index).sort() == list(metadata['Cell']).sort()\n"
   ]
  },
  {
   "cell_type": "code",
   "execution_count": 27,
   "id": "68fa11a0-07da-4232-bd02-d1b6cccce998",
   "metadata": {},
   "outputs": [
    {
     "name": "stdout",
     "output_type": "stream",
     "text": [
      "[ ][CORE][18/01/24-16:29:30][INFO] [Cluster DEGs Analysis] Threshold:0.1 Precision:3\n",
      "Reading user files...\n",
      "WARNING: DEGs expects 2 columns and got 7. Dropping extra columns.\n",
      "The following user files were loaded successfully:\n",
      "/home/host_home/Documents/Tom/Atlas/data/Cell-cell_communication/Atlas_E10.5_humanized.h5ad\n",
      "/home/host_home/Documents/Tom/Atlas/output/CellphoneDB/E10.5_meta.tsv\n",
      "/home/host_home/Documents/Tom/Atlas/output/CellphoneDB/E10.5_DEGs.tsv\n",
      "[ ][CORE][18/01/24-16:29:32][INFO] Running Real Analysis\n",
      "[ ][CORE][18/01/24-16:29:32][INFO] Running DEGs-based Analysis\n",
      "[ ][CORE][18/01/24-16:29:32][INFO] Building results\n"
     ]
    },
    {
     "name": "stderr",
     "output_type": "stream",
     "text": [
      "/opt/conda/envs/sc-py/lib/python3.10/site-packages/cellphonedb/src/core/methods/cpdb_degs_analysis_method.py:422: FutureWarning: In a future version, `df.iloc[:, i] = newvals` will attempt to set the values inplace instead of always setting a new array. To retain the old behavior, use either `df[df.columns[i]] = newvals` or, if columns are non-unique, `df.isetitem(i, newvals)`\n"
     ]
    },
    {
     "name": "stdout",
     "output_type": "stream",
     "text": [
      "[ ][CORE][18/01/24-16:29:32][INFO] Scoring interactions: Filtering genes per cell type..\n"
     ]
    },
    {
     "name": "stderr",
     "output_type": "stream",
     "text": [
      "100%|██████████████████████████████████████████████████████████████████████████████████| 10/10 [00:00<00:00, 148.65it/s]"
     ]
    },
    {
     "name": "stdout",
     "output_type": "stream",
     "text": [
      "[ ][CORE][18/01/24-16:29:32][INFO] Scoring interactions: Calculating mean expression of each gene per group/cell type..\n"
     ]
    },
    {
     "name": "stderr",
     "output_type": "stream",
     "text": [
      "\n",
      "100%|██████████████████████████████████████████████████████████████████████████████████| 10/10 [00:00<00:00, 497.72it/s]\n"
     ]
    },
    {
     "name": "stdout",
     "output_type": "stream",
     "text": [
      "[ ][CORE][18/01/24-16:29:33][INFO] Scoring interactions: Calculating scores for all interactions and cell types..\n"
     ]
    },
    {
     "name": "stderr",
     "output_type": "stream",
     "text": [
      "100%|█████████████████████████████████████████████████████████████████████████████████| 100/100 [00:10<00:00,  9.89it/s]\n"
     ]
    },
    {
     "name": "stdout",
     "output_type": "stream",
     "text": [
      "Saved deconvoluted to /home/host_home/Documents/Tom/Atlas/output/CellphoneDB/E10.5/degs_analysis_deconvoluted_01_18_2024_162943.txt\n",
      "Saved deconvoluted_percents to /home/host_home/Documents/Tom/Atlas/output/CellphoneDB/E10.5/degs_analysis_deconvoluted_percents_01_18_2024_162943.txt\n",
      "Saved means to /home/host_home/Documents/Tom/Atlas/output/CellphoneDB/E10.5/degs_analysis_means_01_18_2024_162943.txt\n",
      "Saved relevant_interactions to /home/host_home/Documents/Tom/Atlas/output/CellphoneDB/E10.5/degs_analysis_relevant_interactions_01_18_2024_162943.txt\n",
      "Saved significant_means to /home/host_home/Documents/Tom/Atlas/output/CellphoneDB/E10.5/degs_analysis_significant_means_01_18_2024_162943.txt\n",
      "Saved interaction_scores to /home/host_home/Documents/Tom/Atlas/output/CellphoneDB/E10.5/degs_analysis_interaction_scores_01_18_2024_162943.txt\n"
     ]
    }
   ],
   "source": [
    "from cellphonedb.src.core.methods import cpdb_degs_analysis_method\n",
    "\n",
    "cpdb_results = cpdb_degs_analysis_method.call( \n",
    "    cpdb_file_path = cpdb_file_path,\n",
    "    meta_file_path = meta_file_path,\n",
    "    counts_file_path = counts_file_path,\n",
    "    degs_file_path = degs_file_path,\n",
    "    counts_data = 'hgnc_symbol',\n",
    "    score_interactions = True,\n",
    "    threshold = 0.1,\n",
    "        \n",
    "    output_path = output_path)"
   ]
  },
  {
   "cell_type": "code",
   "execution_count": 28,
   "id": "f591ff16-036c-41b5-8070-32f2c270efab",
   "metadata": {},
   "outputs": [
    {
     "name": "stdout",
     "output_type": "stream",
     "text": [
      "dict_keys(['deconvoluted', 'deconvoluted_percents', 'means', 'relevant_interactions', 'significant_means', 'CellSign_active_interactions', 'CellSign_active_interactions_deconvoluted', 'interaction_scores'])\n"
     ]
    }
   ],
   "source": [
    "print(cpdb_results.keys())"
   ]
  },
  {
   "cell_type": "code",
   "execution_count": 29,
   "id": "4b75e868-7826-4580-8a82-eb25a3c1d65c",
   "metadata": {},
   "outputs": [],
   "source": [
    "import os\n",
    "import anndata as ad\n",
    "import pandas as pd\n",
    "import ktplotspy as kpy\n",
    "import matplotlib.pyplot as plt\n",
    "%matplotlib inline"
   ]
  },
  {
   "cell_type": "code",
   "execution_count": 32,
   "id": "6d974ae3-c1ee-444a-a3a0-651984c095d3",
   "metadata": {},
   "outputs": [],
   "source": [
    "p= kpy.plot_cpdb(\n",
    "    adata = adata,\n",
    "    cell_type1 = \"AER|Distal limb bud mesenchyme|Intermediate limb bud mesenchyme|Proximal limb bud mesenchyme|Chondroprogenitors|ZPA|Joint precursors|Resting zone chondrocytes|Proliferative chondrocytes|Pre-hypertrophic chondrocytes\",\n",
    "    cell_type2 = \"AER|Distal limb bud mesenchyme|Intermediate limb bud mesenchyme|Proximal limb bud mesenchyme|Chondroprogenitors|ZPA|Joint precursors|Resting zone chondrocytes|Proliferative chondrocytes|Pre-hypertrophic chondrocytes\", \n",
    "    means = cpdb_results['means'],\n",
    "    pvals = cpdb_results['relevant_interactions'],\n",
    "    celltype_key = \"CellType\",\n",
    "    genes = [\"BMP2\",\"BMP3\",\"BMP4\",\"BMP5\",\"BMP6\",\"BMP7\",\"SHH\",\"GDF5\"],\n",
    "    figsize = (15,10),\n",
    "    title = \"Cell-Cell comm\",\n",
    "    max_size = 6,\n",
    "    highlight_size = 0.75,\n",
    "    degs_analysis = True,\n",
    "    standard_scale = True,\n",
    "    interaction_scores = cpdb_results['interaction_scores'],\n",
    "    scale_alpha_by_interaction_scores=True)\n",
    "        \n"
   ]
  },
  {
   "cell_type": "code",
   "execution_count": 33,
   "id": "d8bd9951-9db4-4bcb-a160-6df63b282a78",
   "metadata": {},
   "outputs": [
    {
     "name": "stderr",
     "output_type": "stream",
     "text": [
      "Fontsize 0.00 < 1.0 pt not allowed by FreeType. Setting fontsize = 1 pt\n"
     ]
    }
   ],
   "source": [
    "p.save('E10.5_significantmeans.svg')"
   ]
  },
  {
   "cell_type": "markdown",
   "id": "3dcd46b8-108e-4881-8f5a-b37147f49406",
   "metadata": {
    "tags": []
   },
   "source": [
    "## E11.5"
   ]
  },
  {
   "cell_type": "markdown",
   "id": "4ccd9d58-17d7-427c-b5f6-865274522859",
   "metadata": {},
   "source": [
    "Do this for each timepoint"
   ]
  },
  {
   "cell_type": "code",
   "execution_count": 34,
   "id": "3f1f12d3-d9d8-493f-b9af-c8c80d635d62",
   "metadata": {},
   "outputs": [],
   "source": [
    "cpdb_file_path = 'cellphonedb.zip'\n",
    "meta_file_path = 'E11.5_meta.tsv'\n",
    "counts_file_path = 'Atlas_E11.5_humanized.h5ad'\n",
    "degs_file_path = 'E11.5_DEGs.tsv'\n",
    "output_path = 'E11.5'"
   ]
  },
  {
   "cell_type": "code",
   "execution_count": 35,
   "id": "910d9a47-24b4-41fa-82fb-e8e827349d20",
   "metadata": {},
   "outputs": [
    {
     "data": {
      "text/html": [
       "<div>\n",
       "<style scoped>\n",
       "    .dataframe tbody tr th:only-of-type {\n",
       "        vertical-align: middle;\n",
       "    }\n",
       "\n",
       "    .dataframe tbody tr th {\n",
       "        vertical-align: top;\n",
       "    }\n",
       "\n",
       "    .dataframe thead th {\n",
       "        text-align: right;\n",
       "    }\n",
       "</style>\n",
       "<table border=\"1\" class=\"dataframe\">\n",
       "  <thead>\n",
       "    <tr style=\"text-align: right;\">\n",
       "      <th></th>\n",
       "      <th>Cell</th>\n",
       "      <th>CellType</th>\n",
       "    </tr>\n",
       "  </thead>\n",
       "  <tbody>\n",
       "    <tr>\n",
       "      <th>0</th>\n",
       "      <td>AAACCTGAGACGCACA-1_8</td>\n",
       "      <td>Chondroprogenitors</td>\n",
       "    </tr>\n",
       "    <tr>\n",
       "      <th>1</th>\n",
       "      <td>AAACCTGCACAGACAG-1_8</td>\n",
       "      <td>Chondroprogenitors</td>\n",
       "    </tr>\n",
       "    <tr>\n",
       "      <th>2</th>\n",
       "      <td>AAACCTGCAGGCTCAC-1_8</td>\n",
       "      <td>Chondroprogenitors</td>\n",
       "    </tr>\n",
       "  </tbody>\n",
       "</table>\n",
       "</div>"
      ],
      "text/plain": [
       "                   Cell            CellType\n",
       "0  AAACCTGAGACGCACA-1_8  Chondroprogenitors\n",
       "1  AAACCTGCACAGACAG-1_8  Chondroprogenitors\n",
       "2  AAACCTGCAGGCTCAC-1_8  Chondroprogenitors"
      ]
     },
     "execution_count": 35,
     "metadata": {},
     "output_type": "execute_result"
    }
   ],
   "source": [
    "metadata = pd.read_csv(meta_file_path, sep = '\\t')\n",
    "metadata.head(3)"
   ]
  },
  {
   "cell_type": "code",
   "execution_count": 36,
   "id": "519102c5-cefd-4a20-9c17-8d811fb5a248",
   "metadata": {},
   "outputs": [
    {
     "data": {
      "text/plain": [
       "(8290, 4588)"
      ]
     },
     "execution_count": 36,
     "metadata": {},
     "output_type": "execute_result"
    }
   ],
   "source": [
    "import anndata\n",
    "\n",
    "adata = anndata.read_h5ad(counts_file_path)\n",
    "adata.shape"
   ]
  },
  {
   "cell_type": "code",
   "execution_count": 37,
   "id": "758b6d18-6902-4bf1-b974-590f02fd4942",
   "metadata": {},
   "outputs": [
    {
     "data": {
      "text/plain": [
       "True"
      ]
     },
     "execution_count": 37,
     "metadata": {},
     "output_type": "execute_result"
    }
   ],
   "source": [
    "list(adata.obs.index).sort() == list(metadata['Cell']).sort()\n"
   ]
  },
  {
   "cell_type": "code",
   "execution_count": 38,
   "id": "21aec3b7-13fd-403a-9de0-1b0923b4483f",
   "metadata": {},
   "outputs": [
    {
     "name": "stdout",
     "output_type": "stream",
     "text": [
      "[ ][CORE][18/01/24-16:31:58][INFO] [Cluster DEGs Analysis] Threshold:0.1 Precision:3\n",
      "Reading user files...\n",
      "WARNING: DEGs expects 2 columns and got 7. Dropping extra columns.\n",
      "The following user files were loaded successfully:\n",
      "/home/host_home/Documents/Tom/Atlas/data/Cell-cell_communication/Atlas_E11.5_humanized.h5ad\n",
      "/home/host_home/Documents/Tom/Atlas/output/CellphoneDB/E11.5_meta.tsv\n",
      "/home/host_home/Documents/Tom/Atlas/output/CellphoneDB/E11.5_DEGs.tsv\n",
      "[ ][CORE][18/01/24-16:31:59][INFO] Running Real Analysis\n",
      "[ ][CORE][18/01/24-16:31:59][INFO] Running DEGs-based Analysis\n",
      "[ ][CORE][18/01/24-16:31:59][INFO] Building results\n"
     ]
    },
    {
     "name": "stderr",
     "output_type": "stream",
     "text": [
      "/opt/conda/envs/sc-py/lib/python3.10/site-packages/cellphonedb/src/core/methods/cpdb_degs_analysis_method.py:422: FutureWarning: In a future version, `df.iloc[:, i] = newvals` will attempt to set the values inplace instead of always setting a new array. To retain the old behavior, use either `df[df.columns[i]] = newvals` or, if columns are non-unique, `df.isetitem(i, newvals)`\n"
     ]
    },
    {
     "name": "stdout",
     "output_type": "stream",
     "text": [
      "[ ][CORE][18/01/24-16:31:59][INFO] Scoring interactions: Filtering genes per cell type..\n"
     ]
    },
    {
     "name": "stderr",
     "output_type": "stream",
     "text": [
      "100%|██████████████████████████████████████████████████████████████████████████████████| 16/16 [00:00<00:00, 123.48it/s]"
     ]
    },
    {
     "name": "stdout",
     "output_type": "stream",
     "text": [
      "[ ][CORE][18/01/24-16:31:59][INFO] Scoring interactions: Calculating mean expression of each gene per group/cell type..\n"
     ]
    },
    {
     "name": "stderr",
     "output_type": "stream",
     "text": [
      "\n",
      "100%|██████████████████████████████████████████████████████████████████████████████████| 16/16 [00:00<00:00, 540.46it/s]\n"
     ]
    },
    {
     "name": "stdout",
     "output_type": "stream",
     "text": [
      "[ ][CORE][18/01/24-16:32:00][INFO] Scoring interactions: Calculating scores for all interactions and cell types..\n"
     ]
    },
    {
     "name": "stderr",
     "output_type": "stream",
     "text": [
      "100%|█████████████████████████████████████████████████████████████████████████████████| 256/256 [00:24<00:00, 10.29it/s]\n"
     ]
    },
    {
     "name": "stdout",
     "output_type": "stream",
     "text": [
      "Saved deconvoluted to /home/host_home/Documents/Tom/Atlas/output/CellphoneDB/E11.5/degs_analysis_deconvoluted_01_18_2024_163225.txt\n",
      "Saved deconvoluted_percents to /home/host_home/Documents/Tom/Atlas/output/CellphoneDB/E11.5/degs_analysis_deconvoluted_percents_01_18_2024_163225.txt\n",
      "Saved means to /home/host_home/Documents/Tom/Atlas/output/CellphoneDB/E11.5/degs_analysis_means_01_18_2024_163225.txt\n",
      "Saved relevant_interactions to /home/host_home/Documents/Tom/Atlas/output/CellphoneDB/E11.5/degs_analysis_relevant_interactions_01_18_2024_163225.txt\n",
      "Saved significant_means to /home/host_home/Documents/Tom/Atlas/output/CellphoneDB/E11.5/degs_analysis_significant_means_01_18_2024_163225.txt\n",
      "Saved interaction_scores to /home/host_home/Documents/Tom/Atlas/output/CellphoneDB/E11.5/degs_analysis_interaction_scores_01_18_2024_163225.txt\n"
     ]
    }
   ],
   "source": [
    "from cellphonedb.src.core.methods import cpdb_degs_analysis_method\n",
    "\n",
    "cpdb_results = cpdb_degs_analysis_method.call( \n",
    "    cpdb_file_path = cpdb_file_path,\n",
    "    meta_file_path = meta_file_path,\n",
    "    counts_file_path = counts_file_path,\n",
    "    degs_file_path = degs_file_path,\n",
    "    counts_data = 'hgnc_symbol',\n",
    "    score_interactions = True,\n",
    "    threshold = 0.1,\n",
    "        \n",
    "    output_path = output_path)"
   ]
  },
  {
   "cell_type": "code",
   "execution_count": 39,
   "id": "eba3a2b8-280c-4021-893f-b2a9ad8790b1",
   "metadata": {},
   "outputs": [
    {
     "name": "stdout",
     "output_type": "stream",
     "text": [
      "dict_keys(['deconvoluted', 'deconvoluted_percents', 'means', 'relevant_interactions', 'significant_means', 'CellSign_active_interactions', 'CellSign_active_interactions_deconvoluted', 'interaction_scores'])\n"
     ]
    }
   ],
   "source": [
    "print(cpdb_results.keys())"
   ]
  },
  {
   "cell_type": "code",
   "execution_count": 40,
   "id": "f2c626b8-6885-49e5-af3e-4faecf0f8795",
   "metadata": {},
   "outputs": [],
   "source": [
    "import os\n",
    "import anndata as ad\n",
    "import pandas as pd\n",
    "import ktplotspy as kpy\n",
    "import matplotlib.pyplot as plt\n",
    "%matplotlib inline"
   ]
  },
  {
   "cell_type": "code",
   "execution_count": 41,
   "id": "167ff08d",
   "metadata": {},
   "outputs": [],
   "source": [
    "p=kpy.plot_cpdb(\n",
    "    adata = adata,\n",
    "     cell_type1 = \"AER|Distal limb bud mesenchyme|Intermediate limb bud mesenchyme|Proximal limb bud mesenchyme|Chondroprogenitors|ZPA|Joint precursors|Resting zone chondrocytes|Proliferative chondrocytes|Pre-hypertrophic chondrocytes\",\n",
    "    cell_type2 = \"AER|Distal limb bud mesenchyme|Intermediate limb bud mesenchyme|Proximal limb bud mesenchyme|Chondroprogenitors|ZPA|Joint precursors|Resting zone chondrocytes|Proliferative chondrocytes|Pre-hypertrophic chondrocytes\", \n",
    "     means = cpdb_results['means'],\n",
    "    pvals = cpdb_results['relevant_interactions'],\n",
    "    celltype_key = \"CellType\",\n",
    "   genes = [\"BMP2\",\"BMP3\",\"BMP4\",\"BMP5\",\"BMP6\",\"BMP7\",\"SHH\",\"GDF5\"],\n",
    "        figsize = (25,10),\n",
    "\n",
    "    title = \"Cell-Cell comm\",\n",
    "    max_size = 6,\n",
    "    highlight_size = 0.75,\n",
    "    degs_analysis = True,\n",
    "    standard_scale = True,\n",
    "    interaction_scores = cpdb_results['interaction_scores'],\n",
    "    scale_alpha_by_interaction_scores=True)"
   ]
  },
  {
   "cell_type": "code",
   "execution_count": 42,
   "id": "6e9006e1-9707-40f7-831d-f8a820ebd20d",
   "metadata": {},
   "outputs": [
    {
     "name": "stderr",
     "output_type": "stream",
     "text": [
      "Fontsize 0.00 < 1.0 pt not allowed by FreeType. Setting fontsize = 1 pt\n"
     ]
    }
   ],
   "source": [
    "p.save('E11.5_significantmeans.svg')"
   ]
  },
  {
   "cell_type": "markdown",
   "id": "25ad7cc5-e688-4574-8019-cc285772374f",
   "metadata": {
    "tags": []
   },
   "source": [
    "## E12.5"
   ]
  },
  {
   "cell_type": "markdown",
   "id": "bdcee7c2-ed3d-4f2a-9789-81d769abd088",
   "metadata": {},
   "source": [
    "Do this for each timepoint"
   ]
  },
  {
   "cell_type": "code",
   "execution_count": 43,
   "id": "42e4ef77-7da0-4d1f-bd7e-934e898e34bb",
   "metadata": {},
   "outputs": [],
   "source": [
    "cpdb_file_path = 'cellphonedb.zip'\n",
    "meta_file_path = 'E12.5_meta.tsv'\n",
    "counts_file_path = 'Atlas_E12.5_humanized.h5ad'\n",
    "degs_file_path = 'E12.5_DEGs.tsv'\n",
    "output_path = 'E12.5'"
   ]
  },
  {
   "cell_type": "code",
   "execution_count": 44,
   "id": "30f11d8e-b6ca-4998-8041-e9a67a25b90a",
   "metadata": {},
   "outputs": [
    {
     "data": {
      "text/html": [
       "<div>\n",
       "<style scoped>\n",
       "    .dataframe tbody tr th:only-of-type {\n",
       "        vertical-align: middle;\n",
       "    }\n",
       "\n",
       "    .dataframe tbody tr th {\n",
       "        vertical-align: top;\n",
       "    }\n",
       "\n",
       "    .dataframe thead th {\n",
       "        text-align: right;\n",
       "    }\n",
       "</style>\n",
       "<table border=\"1\" class=\"dataframe\">\n",
       "  <thead>\n",
       "    <tr style=\"text-align: right;\">\n",
       "      <th></th>\n",
       "      <th>Cell</th>\n",
       "      <th>CellType</th>\n",
       "    </tr>\n",
       "  </thead>\n",
       "  <tbody>\n",
       "    <tr>\n",
       "      <th>0</th>\n",
       "      <td>E12.5_AAACCTGAGGCGTACA-1_2</td>\n",
       "      <td>Synovial fibroblasts</td>\n",
       "    </tr>\n",
       "    <tr>\n",
       "      <th>1</th>\n",
       "      <td>E12.5_AAACCTGCACTGCCAG-1_2</td>\n",
       "      <td>Intermediate limb bud mesenchyme</td>\n",
       "    </tr>\n",
       "    <tr>\n",
       "      <th>2</th>\n",
       "      <td>E12.5_AAACCTGCATCAGTAC-1_2</td>\n",
       "      <td>Muscle progenitors</td>\n",
       "    </tr>\n",
       "  </tbody>\n",
       "</table>\n",
       "</div>"
      ],
      "text/plain": [
       "                         Cell                          CellType\n",
       "0  E12.5_AAACCTGAGGCGTACA-1_2              Synovial fibroblasts\n",
       "1  E12.5_AAACCTGCACTGCCAG-1_2  Intermediate limb bud mesenchyme\n",
       "2  E12.5_AAACCTGCATCAGTAC-1_2                Muscle progenitors"
      ]
     },
     "execution_count": 44,
     "metadata": {},
     "output_type": "execute_result"
    }
   ],
   "source": [
    "metadata = pd.read_csv(meta_file_path, sep = '\\t')\n",
    "metadata.head(3)"
   ]
  },
  {
   "cell_type": "code",
   "execution_count": 45,
   "id": "38c26945-d7f1-4409-ab02-e1001a187e45",
   "metadata": {},
   "outputs": [
    {
     "data": {
      "text/plain": [
       "(10080, 4588)"
      ]
     },
     "execution_count": 45,
     "metadata": {},
     "output_type": "execute_result"
    }
   ],
   "source": [
    "import anndata\n",
    "\n",
    "adata = anndata.read_h5ad(counts_file_path)\n",
    "adata.shape"
   ]
  },
  {
   "cell_type": "code",
   "execution_count": 46,
   "id": "5df0569a-b05d-46c2-80f2-4696ea93b4c0",
   "metadata": {},
   "outputs": [
    {
     "data": {
      "text/plain": [
       "True"
      ]
     },
     "execution_count": 46,
     "metadata": {},
     "output_type": "execute_result"
    }
   ],
   "source": [
    "list(adata.obs.index).sort() == list(metadata['Cell']).sort()\n"
   ]
  },
  {
   "cell_type": "code",
   "execution_count": 47,
   "id": "618f2fba-796d-4c1b-ba1a-ace636ca34da",
   "metadata": {},
   "outputs": [
    {
     "name": "stdout",
     "output_type": "stream",
     "text": [
      "[ ][CORE][18/01/24-16:33:06][INFO] [Cluster DEGs Analysis] Threshold:0.1 Precision:3\n",
      "Reading user files...\n",
      "WARNING: DEGs expects 2 columns and got 7. Dropping extra columns.\n",
      "The following user files were loaded successfully:\n",
      "/home/host_home/Documents/Tom/Atlas/data/Cell-cell_communication/Atlas_E12.5_humanized.h5ad\n",
      "/home/host_home/Documents/Tom/Atlas/output/CellphoneDB/E12.5_meta.tsv\n",
      "/home/host_home/Documents/Tom/Atlas/output/CellphoneDB/E12.5_DEGs.tsv\n",
      "[ ][CORE][18/01/24-16:33:07][INFO] Running Real Analysis\n",
      "[ ][CORE][18/01/24-16:33:07][INFO] Running DEGs-based Analysis\n",
      "[ ][CORE][18/01/24-16:33:07][INFO] Building results\n"
     ]
    },
    {
     "name": "stderr",
     "output_type": "stream",
     "text": [
      "/opt/conda/envs/sc-py/lib/python3.10/site-packages/cellphonedb/src/core/methods/cpdb_degs_analysis_method.py:422: FutureWarning: In a future version, `df.iloc[:, i] = newvals` will attempt to set the values inplace instead of always setting a new array. To retain the old behavior, use either `df[df.columns[i]] = newvals` or, if columns are non-unique, `df.isetitem(i, newvals)`\n"
     ]
    },
    {
     "name": "stdout",
     "output_type": "stream",
     "text": [
      "[ ][CORE][18/01/24-16:33:07][INFO] Scoring interactions: Filtering genes per cell type..\n"
     ]
    },
    {
     "name": "stderr",
     "output_type": "stream",
     "text": [
      "100%|██████████████████████████████████████████████████████████████████████████████████| 20/20 [00:00<00:00, 138.79it/s]"
     ]
    },
    {
     "name": "stdout",
     "output_type": "stream",
     "text": [
      "[ ][CORE][18/01/24-16:33:07][INFO] Scoring interactions: Calculating mean expression of each gene per group/cell type..\n"
     ]
    },
    {
     "name": "stderr",
     "output_type": "stream",
     "text": [
      "\n",
      "100%|██████████████████████████████████████████████████████████████████████████████████| 20/20 [00:00<00:00, 411.54it/s]\n"
     ]
    },
    {
     "name": "stdout",
     "output_type": "stream",
     "text": [
      "[ ][CORE][18/01/24-16:33:08][INFO] Scoring interactions: Calculating scores for all interactions and cell types..\n"
     ]
    },
    {
     "name": "stderr",
     "output_type": "stream",
     "text": [
      "100%|█████████████████████████████████████████████████████████████████████████████████| 400/400 [00:38<00:00, 10.43it/s]\n"
     ]
    },
    {
     "name": "stdout",
     "output_type": "stream",
     "text": [
      "Saved deconvoluted to /home/host_home/Documents/Tom/Atlas/output/CellphoneDB/E12.5/degs_analysis_deconvoluted_01_18_2024_163347.txt\n",
      "Saved deconvoluted_percents to /home/host_home/Documents/Tom/Atlas/output/CellphoneDB/E12.5/degs_analysis_deconvoluted_percents_01_18_2024_163347.txt\n",
      "Saved means to /home/host_home/Documents/Tom/Atlas/output/CellphoneDB/E12.5/degs_analysis_means_01_18_2024_163347.txt\n",
      "Saved relevant_interactions to /home/host_home/Documents/Tom/Atlas/output/CellphoneDB/E12.5/degs_analysis_relevant_interactions_01_18_2024_163347.txt\n",
      "Saved significant_means to /home/host_home/Documents/Tom/Atlas/output/CellphoneDB/E12.5/degs_analysis_significant_means_01_18_2024_163347.txt\n",
      "Saved interaction_scores to /home/host_home/Documents/Tom/Atlas/output/CellphoneDB/E12.5/degs_analysis_interaction_scores_01_18_2024_163347.txt\n"
     ]
    }
   ],
   "source": [
    "from cellphonedb.src.core.methods import cpdb_degs_analysis_method\n",
    "\n",
    "cpdb_results = cpdb_degs_analysis_method.call( \n",
    "    cpdb_file_path = cpdb_file_path,\n",
    "    meta_file_path = meta_file_path,\n",
    "    counts_file_path = counts_file_path,\n",
    "    degs_file_path = degs_file_path,\n",
    "    counts_data = 'hgnc_symbol',\n",
    "    score_interactions = True,\n",
    "    threshold = 0.1,\n",
    "        \n",
    "    output_path = output_path)"
   ]
  },
  {
   "cell_type": "code",
   "execution_count": 48,
   "id": "ab0cb876-14ef-46a0-b93a-555c06fb5035",
   "metadata": {},
   "outputs": [
    {
     "name": "stdout",
     "output_type": "stream",
     "text": [
      "dict_keys(['deconvoluted', 'deconvoluted_percents', 'means', 'relevant_interactions', 'significant_means', 'CellSign_active_interactions', 'CellSign_active_interactions_deconvoluted', 'interaction_scores'])\n"
     ]
    }
   ],
   "source": [
    "print(cpdb_results.keys())"
   ]
  },
  {
   "cell_type": "code",
   "execution_count": 51,
   "id": "f63c15ba-971f-47bb-af34-0299e83e3ebe",
   "metadata": {},
   "outputs": [],
   "source": [
    "p= kpy.plot_cpdb(\n",
    "    adata = adata,\n",
    "     cell_type1 = \"AER|Distal limb bud mesenchyme|Intermediate limb bud mesenchyme|Proximal limb bud mesenchyme|Chondroprogenitors|ZPA|Joint precursors|Resting zone chondrocytes|Proliferative chondrocytes|Pre-hypertrophic chondrocytes\",\n",
    "    cell_type2 = \"AER|Distal limb bud mesenchyme|Intermediate limb bud mesenchyme|Proximal limb bud mesenchyme|Chondroprogenitors|ZPA|Joint precursors|Resting zone chondrocytes|Proliferative chondrocytes|Pre-hypertrophic chondrocytes\", \n",
    "     means = cpdb_results['means'],\n",
    "    pvals = cpdb_results['relevant_interactions'],\n",
    "    celltype_key = \"CellType\",\n",
    "   genes = [\"BMP2\",\"BMP3\",\"BMP4\",\"BMP5\",\"BMP6\",\"BMP7\",\"SHH\",\"GDF5\"],\n",
    "        figsize = (25,10),\n",
    "\n",
    "    title = \"Cell-Cell comm\",\n",
    "    max_size = 6,\n",
    "    highlight_size = 0.75,\n",
    "    degs_analysis = True,\n",
    "    standard_scale = True,\n",
    "    interaction_scores = cpdb_results['interaction_scores'],\n",
    "    scale_alpha_by_interaction_scores=True)"
   ]
  },
  {
   "cell_type": "code",
   "execution_count": 52,
   "id": "66124013-f5f9-440f-8e47-ea9e379a91bb",
   "metadata": {},
   "outputs": [
    {
     "name": "stderr",
     "output_type": "stream",
     "text": [
      "Fontsize 0.00 < 1.0 pt not allowed by FreeType. Setting fontsize = 1 pt\n"
     ]
    }
   ],
   "source": [
    "p.save('/home/host_home/Documents/Tom/Atlas/output/CellphoneDB/E12.5_significantmeans.svg')"
   ]
  }
 ],
 "metadata": {
  "kernelspec": {
   "display_name": "Python [conda env:sc-py]",
   "language": "python",
   "name": "conda-env-sc-py-py"
  },
  "language_info": {
   "codemirror_mode": {
    "name": "ipython",
    "version": 3
   },
   "file_extension": ".py",
   "mimetype": "text/x-python",
   "name": "python",
   "nbconvert_exporter": "python",
   "pygments_lexer": "ipython3",
   "version": "3.10.6"
  }
 },
 "nbformat": 4,
 "nbformat_minor": 5
}
