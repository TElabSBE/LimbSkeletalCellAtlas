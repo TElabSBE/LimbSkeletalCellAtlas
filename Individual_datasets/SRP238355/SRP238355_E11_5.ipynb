{
 "cells": [
  {
   "cell_type": "markdown",
   "id": "2ae19840-ba8e-4fad-90b9-e1ce2db41fa0",
   "metadata": {
    "tags": []
   },
   "source": [
    "# [Change title].\n",
    "[reference] \n",
    " \n",
    " PMID: [link]\n",
    " ***\n",
    " "
   ]
  },
  {
   "cell_type": "markdown",
   "id": "c06b4a8b-bae3-44b7-a9a5-aa6e0b85d782",
   "metadata": {},
   "source": [
    "## 0. Setting up workenvironment<a id=\"0\"></a>"
   ]
  },
  {
   "cell_type": "code",
   "execution_count": null,
   "id": "1ec71fd6-874b-4dd0-a110-46fa154655a9",
   "metadata": {},
   "outputs": [],
   "source": [
    "suppressPackageStartupMessages({\n",
    "    library(DropletUtils)\n",
    "    library(SingleCellExperiment)\n",
    "    library(scuttle)\n",
    "    library(Seurat)\n",
    "    library(SeuratWrappers)\n",
    "    library(stringr)\n",
    "    library(dplyr)\n",
    "    library(data.table)\n",
    "    library(Matrix)\n",
    "    library(patchwork)\n",
    "    library(ggplot2)\n",
    "})\n",
    "\n",
    "options(repr.plot.width = 16, repr.plot.height = 8)"
   ]
  },
  {
   "cell_type": "markdown",
   "id": "d5eee954-83cd-4118-840b-6015a155bf64",
   "metadata": {},
   "source": [
    "## 1. Data analysis in Seurat"
   ]
  },
  {
   "cell_type": "code",
   "execution_count": null,
   "id": "b735a2fa-0a79-456b-a78a-43a0c1d954dd",
   "metadata": {},
   "outputs": [],
   "source": [
    "seuratObject <- readRDS(file = \"/home/jovyan/researcher_home/tom/Atlas/data/SCA_core/Guilak/post-QC/E11_5_SeuratObject.Rds\")"
   ]
  },
  {
   "cell_type": "code",
   "execution_count": null,
   "id": "4fa942d1-7d15-4b4c-b2d3-ba4b32c7be53",
   "metadata": {},
   "outputs": [],
   "source": [
    "VlnPlot(seuratObject, features = c(\"nCount_RNA\", \"nFeature_RNA\", \"subsets_Mito_percent\"), \n",
    "        ncol = 3, group.by = \"orig.ident\", pt.size = 0)"
   ]
  },
  {
   "cell_type": "markdown",
   "id": "53406e06-ab8a-4989-8eb6-b5f59beef99b",
   "metadata": {},
   "source": [
    "### 1.1. Feature selection\n",
    "\n",
    "We next calculate a subset of features that exhibit high cell-to-cell variation in the dataset (i.e, they are highly expressed in some cells, and lowly expressed in others). We and others have found that focusing on these genes in downstream analysis helps to highlight biological signal in single-cell datasets.\n",
    "\n",
    "The procedure in Seurat v3 directly models the mean-variance relationship inherent in single-cell data, and is implemented in the `FindVariableFeatures` function. By default, it defaults to 2,000 features (genes) per dataset. These will be used in downstream analysis, like principal component analysis (PCA)."
   ]
  },
  {
   "cell_type": "code",
   "execution_count": null,
   "id": "1b1daea4-1731-4364-a0c9-46fea6d26a44",
   "metadata": {},
   "outputs": [],
   "source": [
    "seuratObject <- NormalizeData(seuratObject, verbose = FALSE)\n",
    "seuratObject <- FindVariableFeatures(seuratObject, selection.method = \"vst\", nfeatures = 2000)\n",
    "\n",
    "# Identify the 10 most highly variable genes\n",
    "top10 <- head(VariableFeatures(seuratObject), 10)"
   ]
  },
  {
   "cell_type": "code",
   "execution_count": null,
   "id": "9b3a11db-14ef-40d4-85ef-ac4b1fab741b",
   "metadata": {},
   "outputs": [],
   "source": [
    "options(repr.plot.width=10)\n",
    "\n",
    "# plot variable features with and without labels\n",
    "plot1 <- VariableFeaturePlot(seuratObject)\n",
    "plot2 <- LabelPoints(plot = plot1, points = top10, repel = TRUE)\n",
    "plot2"
   ]
  },
  {
   "cell_type": "markdown",
   "id": "68f46a42-b2e0-4126-8643-8f535377bfd6",
   "metadata": {},
   "source": [
    "### 1.2. Scaling the data"
   ]
  },
  {
   "cell_type": "markdown",
   "id": "1b46ab3d-7538-4ee0-bed9-db269f596c94",
   "metadata": {},
   "source": [
    "Next, we apply a linear transformation (scaling) that is a standard pre-processing step prior to dimensional reduction techniques like PCA. The ScaleData function:\n",
    "\n",
    "- Shifts the expression of each gene, so that the mean expression across cells is 0\n",
    "- Scales the expression of each gene, so that the variance across cells is 1\n",
    "- This step gives equal weight in downstream analyses, so that highly-expressed genes do not dominate. This is superior to log-normalized counts, which overemphasize the influence of small count fluctuations.\n",
    "- The results of this are stored in `object[[\"originalexp\"]]@scale.data`"
   ]
  },
  {
   "cell_type": "code",
   "execution_count": null,
   "id": "598aac7f-030b-4199-b18c-470f2d0c89b8",
   "metadata": {},
   "outputs": [],
   "source": [
    "all.genes <- rownames(seuratObject)\n",
    "seuratObject <- ScaleData(seuratObject, features = all.genes)"
   ]
  },
  {
   "cell_type": "markdown",
   "id": "abb8cd7b-e652-4088-b6a4-e57e40fba9cf",
   "metadata": {},
   "source": [
    "### 1.3 Linear dimensionality reduction: PCA"
   ]
  },
  {
   "cell_type": "markdown",
   "id": "a8c5380f-2697-40da-b5ad-193f31effdea",
   "metadata": {},
   "source": [
    "Next we perform PCA on the scaled data. By default, only the previously determined variable features are used as input, but can be defined using features argument if you wish to choose a different subset."
   ]
  },
  {
   "cell_type": "code",
   "execution_count": null,
   "id": "31433659-eef7-4f2b-8bc5-d21edcd9434a",
   "metadata": {},
   "outputs": [],
   "source": [
    "seuratObject <- RunPCA(seuratObject, features = VariableFeatures(object = seuratObject), verbose = FALSE)"
   ]
  },
  {
   "cell_type": "code",
   "execution_count": null,
   "id": "8c105794-b20d-452a-a107-7863554c56a9",
   "metadata": {},
   "outputs": [],
   "source": [
    "DimPlot(seuratObject, reduction = \"pca\") + xlab(\"PC 1\") + ylab(\"PC 2\")"
   ]
  },
  {
   "cell_type": "markdown",
   "id": "c468daec-9cf4-4ed7-9836-5f62c1917b79",
   "metadata": {},
   "source": [
    "### 1.4. Determine dimensionality\n",
    "\n",
    "To overcome the extensive technical noise in any single feature for scRNA-seq data, Seurat clusters cells based on their PCA scores, with each PC essentially representing a 'metafeature' that combines information across a correlated feature set. The top principal components therefore represent a robust compression of the dataset. However, how many componenets should we choose to include? \n",
    "\n",
    "[Macosko et al](http://www.cell.com/abstract/S0092-8674(15)00549-8) introduced a resampling test inspired by the JackStraw procedure. They randomly permute a subset of the data (1% by default) and rerun PCA, constructing a 'null distribution' of feature scores, and repeat this procedure. 'Significant' PCs are defined as those who have a strong enrichment of low p-value features.\n",
    "\n",
    "**NOTE: This process can take a long time for big datasets, and is therefore commented out for expediency. More approximate techniques such as a scree plot implemented in `ElbowPlot()` can be used to reduce computation time.**\n",
    "\n",
    "The `JackStrawPlot` function provides a visualization tool for comparing the distribution of p-values for each PC with a uniform distribution (dashed line). 'Significant' PCs will show a strong enrichment of features with low p-values (solid curve above the dashed line)."
   ]
  },
  {
   "cell_type": "markdown",
   "id": "8dddb3f6-6aa7-4517-b81d-7e086938c790",
   "metadata": {},
   "source": [
    "An alternative heuristic method generates an 'Elbow plot': a ranking of principle components based on the percentage of variance explained by each one (ElbowPlot function). "
   ]
  },
  {
   "cell_type": "code",
   "execution_count": null,
   "id": "8e413a91-ae2d-4d1c-b142-6673669cf4cb",
   "metadata": {},
   "outputs": [],
   "source": [
    "ElbowPlot(seuratObject, 50)"
   ]
  },
  {
   "cell_type": "markdown",
   "id": "297eded9-6d4d-4afe-a6a9-fbe3605fc636",
   "metadata": {
    "tags": []
   },
   "source": [
    "### 1.5. Clustering\n",
    "\n",
    "Seurat v4 applies a graph-based clustering approach, building upon initial strategies in [Macosko et al](http://www.cell.com/abstract/S0092-8674(15)00549-8). Importantly, the distance metric which drives the clustering analysis (based on previously identified PCs) remains the same. The new method embeds cells in a graph structure - for example a K-nearest neighbor (KNN) graph, with edges drawn between cells with similar feature expression patterns, and then attempt to partition this graph into highly interconnected 'quasi-cliques' or 'communities'.\n",
    "\n",
    "As in [PhenoGraph](https://doi.org/10.1016/j.cell.2015.05.047), Seurat first constructs a KNN graph based on the euclidean distance in PCA space, and refine the edge weights between any two cells based on the shared overlap in their local neighborhoods (Jaccard similarity). This step is performed using the `FindNeighbors` function, and takes as input the previously defined dimensionality of the dataset.\n",
    "\n",
    "To cluster the cells, modularity optimization techniques such as the Louvain algorithm are then applied to iteratively group cells together, with the goal of optimizing the standard modularity function. The `FindClusters` function implements this procedure and contains a resolution parameter that sets the 'granularity' of the downstream clustering, with increased values leading to a greater number of clusters. Optimal resolution often increases for larger datasets."
   ]
  },
  {
   "cell_type": "code",
   "execution_count": null,
   "id": "812cf27c-03bf-478d-8c0a-31030188a531",
   "metadata": {
    "tags": []
   },
   "outputs": [],
   "source": [
    "seuratObject <- FindNeighbors(seuratObject, dims = 1:20)\n",
    "seuratObject <- FindClusters(seuratObject, resolution = 0.3)"
   ]
  },
  {
   "cell_type": "markdown",
   "id": "ef4af9d2-d6d5-429b-81f1-440bd2b2cbee",
   "metadata": {},
   "source": [
    "### 1.6. Non-linear dimensionality reduction: UMAP\n",
    "\n",
    "Seurat offers several non-linear dimensional reduction techniques, such as tSNE and UMAP, to visualize and explore these datasets. The goal of these algorithms is to learn the underlying manifold of the data in order to place similar cells together in low-dimensional space. Cells within the graph-based clusters determined above should co-localize on these dimension reduction plots. As input to the UMAP and tSNE, [it is recommended to use the same PCs](https://doi.org/10.1038/s41467-019-13056-x) as input to the clustering analysis."
   ]
  },
  {
   "cell_type": "code",
   "execution_count": null,
   "id": "bdd0fc64-b175-4009-93d2-9adc9215e56b",
   "metadata": {
    "scrolled": true,
    "tags": []
   },
   "outputs": [],
   "source": [
    "seuratObject <- RunUMAP(seuratObject, dims = 1:20, n.neighbors = 12, verbose = FALSE)"
   ]
  },
  {
   "cell_type": "code",
   "execution_count": null,
   "id": "755cfb42-2b17-4aee-a63d-df5a9490a6cd",
   "metadata": {
    "tags": []
   },
   "outputs": [],
   "source": [
    "options(repr.plot.width = 8)\n",
    "\n",
    "DimPlot(seuratObject, reduction = \"umap\", label = TRUE) + xlab(\"UMAP 1\") + ylab(\"UMAP 2\")"
   ]
  },
  {
   "cell_type": "markdown",
   "id": "abe05cf4-8eb4-48f4-b27b-894f539b1d65",
   "metadata": {
    "tags": []
   },
   "source": [
    "### 1.7. Differential expression analysis\n",
    "#### 1.7.1. Global annotation by differential expression analysis\n",
    "\n",
    "Seurat identifies markers that define clusters via differential expression. By default, it identifes positive and negative markers of a single cluster (specified in ident.1), compared to all other cells. `FindAllMarkers` automates this process for all clusters, but it is possible to test groups of clusters vs. each other, or against all cells.\n",
    "\n",
    "The `min.pct` argument requires a feature to be detected at a minimum percentage in either of the two groups of cells, and the `thresh.test` argument requires a feature to be differentially expressed (on average) by some amount between the two groups. You can set both of these to 0, but with a dramatic increase in time - since this will test a large number of features that are unlikely to be highly discriminatory. As another option to speed up these computations, `max.cells.per.ident` can be set. This will downsample each identity class to have no more cells than whatever this is set to. While there is generally going to be a loss in power, the speed increases can be significiant and the most highly differentially expressed features will likely still rise to the top."
   ]
  },
  {
   "cell_type": "code",
   "execution_count": null,
   "id": "88680d70-469c-428d-8a7a-9fb783af95dc",
   "metadata": {},
   "outputs": [],
   "source": [
    "# Seurat default settings\n",
    "seuratObject.markers <- FindAllMarkers(seuratObject, only.pos = TRUE, min.pct = 0.25, logfc.threshold = 0.25)"
   ]
  },
  {
   "cell_type": "code",
   "execution_count": null,
   "id": "05457edf-c63e-4ad3-ba5b-b4a02481f491",
   "metadata": {},
   "outputs": [],
   "source": [
    "#select only cluster 0 and order avg_log2FC from big to small\n",
    "\n",
    "seuratObject.markers[seuratObject.markers$cluster == 4,] %>%\n",
    "slice_max(n = 20\n",
    "          , order_by = avg_log2FC)"
   ]
  },
  {
   "cell_type": "code",
   "execution_count": null,
   "id": "86e7d627-9cf8-46e2-9e2b-6a032f0c83c3",
   "metadata": {},
   "outputs": [],
   "source": [
    "write.csv(seuratObject.markers, file = \"/home/jovyan/researcher_home/tom/\", quote = FALSE)"
   ]
  },
  {
   "cell_type": "code",
   "execution_count": null,
   "id": "3bd2b5b0-4422-4877-ad1d-d6765dfb3b15",
   "metadata": {},
   "outputs": [],
   "source": [
    "#Ectoderm\n",
    "options(repr.plot.width = 18, repr.plot.height = 12)\n",
    "\n",
    "p1 <- DimPlot(seuratObject, label = TRUE) + NoLegend() + xlab(\"UMAP 1\") + ylab(\"UMAP 2\")\n",
    "p2 <- FeaturePlot(seuratObject, c(\"Fgf8\",\"Wnt7a\",\"En1\",'Wnt6', 'Msx1','Msx2','Lama5'), min.cutoff = \"q1\")  \n",
    "\n",
    "p1 + p2"
   ]
  },
  {
   "cell_type": "code",
   "execution_count": null,
   "id": "3d699866-534b-4838-b580-b206582cd3d3",
   "metadata": {},
   "outputs": [],
   "source": [
    "#Mesenchyme\n",
    "options(repr.plot.width = 18, repr.plot.height = 12)\n",
    "\n",
    "p1 <- DimPlot(seuratObject, label = TRUE) + NoLegend() + xlab(\"UMAP 1\") + ylab(\"UMAP 2\")\n",
    "p2 <- FeaturePlot(seuratObject, c(\"Fgf10\",\"Prrx1\",\"Prrx2\",\"Meis1\"), min.cutoff = \"q1\")  \n",
    "\n",
    "p1 + p2"
   ]
  },
  {
   "cell_type": "code",
   "execution_count": null,
   "id": "f5eea7b6-e25b-4bac-857c-693ac73bb692",
   "metadata": {},
   "outputs": [],
   "source": [
    "#Muscle\n",
    "options(repr.plot.width = 18, repr.plot.height = 12)\n",
    "\n",
    "p1 <- DimPlot(seuratObject, label = TRUE) + NoLegend() + xlab(\"UMAP 1\") + ylab(\"UMAP 2\")\n",
    "p2 <- FeaturePlot(seuratObject, c(\"Pax3\",\"Acta2\",\"Myog\"), min.cutoff = \"q1\")  \n",
    "\n",
    "p1 + p2"
   ]
  },
  {
   "cell_type": "code",
   "execution_count": null,
   "id": "d297550a-64b7-4bd8-aa51-2d96acc88099",
   "metadata": {},
   "outputs": [],
   "source": [
    "#BEC\n",
    "options(repr.plot.width = 18, repr.plot.height = 12)\n",
    "\n",
    "p1 <- DimPlot(seuratObject, label = TRUE) + NoLegend() + xlab(\"UMAP 1\") + ylab(\"UMAP 2\")\n",
    "p2 <- FeaturePlot(seuratObject, c(\"Pecam1\",\"Flt1\",\"Emcn\"), min.cutoff = \"q1\")  \n",
    "\n",
    "p1 + p2"
   ]
  },
  {
   "cell_type": "code",
   "execution_count": null,
   "id": "23bf2eda-34e1-4940-abf9-89714b4ec221",
   "metadata": {},
   "outputs": [],
   "source": [
    "options(repr.plot.width = 18, repr.plot.height = 12)\n",
    "\n",
    "p1 <- DimPlot(seuratObject, label = TRUE) + NoLegend() + xlab(\"UMAP 1\") + ylab(\"UMAP 2\")\n",
    "p2 <- FeaturePlot(seuratObject, c(\"Cd68\",\"Ccr2\",\"Elane\",\"Mcpt8\"), min.cutoff = \"q1\")  \n",
    "\n",
    "p1 + p2"
   ]
  },
  {
   "cell_type": "code",
   "execution_count": null,
   "id": "567dc167-811f-4c92-b3cf-5b4b2ae88512",
   "metadata": {},
   "outputs": [],
   "source": [
    "options(repr.plot.width = 18, repr.plot.height = 12)\n",
    "\n",
    "p1 <- DimPlot(seuratObject, label = TRUE) + NoLegend() + xlab(\"UMAP 1\") + ylab(\"UMAP 2\")\n",
    "p2 <- FeaturePlot(seuratObject, c(\"Fgf8\",\"Wnt7a\",\"Krt14\",\"Krt7\"), min.cutoff = \"q1\")  \n",
    "\n",
    "p1 + p2"
   ]
  },
  {
   "cell_type": "code",
   "execution_count": null,
   "id": "12e45978-7159-41e5-860e-36ca22280b7b",
   "metadata": {},
   "outputs": [],
   "source": [
    "options(repr.plot.width = 18, repr.plot.height = 12)\n",
    "\n",
    "p1 <- DimPlot(seuratObject, label = TRUE) + NoLegend() + xlab(\"UMAP 1\") + ylab(\"UMAP 2\")\n",
    "p2 <- FeaturePlot(seuratObject, c(\"\",\"\",\"\",\"\"), min.cutoff = \"q1\")  \n",
    "\n",
    "p1 + p2"
   ]
  },
  {
   "cell_type": "code",
   "execution_count": null,
   "id": "1d04cae9-0a04-4e1c-a64c-d1c31c8cf764",
   "metadata": {},
   "outputs": [],
   "source": [
    "DotPlot(object = seuratObject, features = c('','','',''), col.min = 0)"
   ]
  },
  {
   "cell_type": "code",
   "execution_count": null,
   "id": "781df43b-92a6-4d8d-b8a8-18251d6b3387",
   "metadata": {},
   "outputs": [],
   "source": [
    "options(repr.plot.width = 18, repr.plot.height = 6)\n",
    "FeaturePlot(A, features = c('', ''), blend = TRUE )"
   ]
  },
  {
   "cell_type": "code",
   "execution_count": null,
   "id": "d34a63b4-19c9-4e5e-8707-c7b0554fbdd9",
   "metadata": {},
   "outputs": [],
   "source": [
    "# Step 1: Define the variable 'name' with cell type / global\n",
    "name <- \"Global\"\n",
    "\n",
    "# Step 2: Create the column name dynamically\n",
    "column_name <- paste0(\"CellType_\", name)"
   ]
  },
  {
   "cell_type": "code",
   "execution_count": null,
   "id": "7325e55c-bbea-4f57-b9e1-addb5e99283b",
   "metadata": {},
   "outputs": [],
   "source": [
    "seuratObject@meta.data[[column_name]] <- Idents(seuratObject)"
   ]
  },
  {
   "cell_type": "code",
   "execution_count": null,
   "id": "3547a665-9e4f-446a-9375-f258e3b07234",
   "metadata": {},
   "outputs": [],
   "source": [
    "seuratObject@meta.data[[column_name]] <- as.character(seuratObject@meta.data[[column_name]])\n",
    "\n",
    "seuratObject@meta.data[[column_name]][seuratObject@meta.data[[column_name]] == '0'] <- 'Mesenchyme'\n",
    "seuratObject@meta.data[[column_name]][seuratObject@meta.data[[column_name]] == '1'] <- 'Mesenchyme'\n",
    "seuratObject@meta.data[[column_name]][seuratObject@meta.data[[column_name]] == '2'] <- 'Mesenchyme'\n",
    "seuratObject@meta.data[[column_name]][seuratObject@meta.data[[column_name]] == '3'] <- 'Vascular endothelial cells'\n",
    "seuratObject@meta.data[[column_name]][seuratObject@meta.data[[column_name]] == '4'] <- 'Ectoderm'\n",
    "seuratObject@meta.data[[column_name]][seuratObject@meta.data[[column_name]] == '5'] <- 'Ectoderm'\n",
    "seuratObject@meta.data[[column_name]][seuratObject@meta.data[[column_name]] == '6'] <- 'Immune cells'\n",
    "seuratObject@meta.data[[column_name]][seuratObject@meta.data[[column_name]] == '7'] <- 'Muscle progenitor'\n",
    "\n",
    "seuratObject@meta.data[[column_name]] <- as.factor(seuratObject@meta.data[[column_name]])"
   ]
  },
  {
   "cell_type": "code",
   "execution_count": null,
   "id": "46a0df68-4959-4c5d-86b4-2244f6792c29",
   "metadata": {},
   "outputs": [],
   "source": [
    "options(repr.plot.width = 12)\n",
    "\n",
    "DimPlot(seuratObject, reduction = \"umap\", label = TRUE, group.by = column_name) + xlab(\"UMAP 1\") + ylab(\"UMAP 2\")"
   ]
  },
  {
   "cell_type": "code",
   "execution_count": null,
   "id": "be86384a-9d12-4360-b8f4-0a5953a7681b",
   "metadata": {},
   "outputs": [],
   "source": [
    "saveRDS(seuratObject, file = \"/home/jovyan/researcher_home/tom/Atlas/data/SCA_core/Guilak/V2_E11_5_global.rds\")"
   ]
  },
  {
   "cell_type": "markdown",
   "id": "608f606b-dea0-4d17-8e3f-ae34ff760d63",
   "metadata": {
    "tags": []
   },
   "source": [
    "## 2. Refinement of global annotations"
   ]
  },
  {
   "cell_type": "markdown",
   "id": "bf654cc1-70ae-42d9-804a-fb2d7c42d2b2",
   "metadata": {
    "tags": []
   },
   "source": [
    "### 2.1. Mesenchymal"
   ]
  },
  {
   "cell_type": "code",
   "execution_count": null,
   "id": "abf68cd2-ff33-4fa4-a360-35def6623c69",
   "metadata": {},
   "outputs": [],
   "source": [
    "seuratObject <- readRDS(\"/home/jovyan/researcher_home/tom/Atlas/data/SCA_core/Guilak/V2_E11_5_global.rds\")"
   ]
  },
  {
   "cell_type": "code",
   "execution_count": null,
   "id": "f01d8aba-9e8c-4d93-95fa-3114223cc426",
   "metadata": {
    "tags": []
   },
   "outputs": [],
   "source": [
    "Idents(seuratObject) <- seuratObject@meta.data$CellType_Global"
   ]
  },
  {
   "cell_type": "code",
   "execution_count": null,
   "id": "91df1ee1-24ba-49e2-9470-f201662b55df",
   "metadata": {},
   "outputs": [],
   "source": [
    "seuratObject <- subset(seuratObject, idents = c(\"Mesenchyme\"))"
   ]
  },
  {
   "cell_type": "code",
   "execution_count": null,
   "id": "5b729f91-a51c-417f-967f-266220fa2d87",
   "metadata": {},
   "outputs": [],
   "source": [
    "seuratObject <- ScaleData(seuratObject)"
   ]
  },
  {
   "cell_type": "code",
   "execution_count": null,
   "id": "fe9fe904-61fb-496c-9f40-6cf11ec38e8f",
   "metadata": {},
   "outputs": [],
   "source": [
    "seuratObject <- RunPCA(seuratObject, features = VariableFeatures(object = seuratObject), verbose = FALSE)"
   ]
  },
  {
   "cell_type": "code",
   "execution_count": null,
   "id": "4d361323-fb34-4ccb-8b75-ef4724c9cc58",
   "metadata": {},
   "outputs": [],
   "source": [
    "ElbowPlot(seuratObject, 50)"
   ]
  },
  {
   "cell_type": "code",
   "execution_count": null,
   "id": "a7ea8285-f902-486e-9f9d-7a374251e3e2",
   "metadata": {
    "scrolled": true
   },
   "outputs": [],
   "source": [
    "seuratObject <- FindNeighbors(seuratObject, dims = 1:20, verbose = FALSE)\n",
    "seuratObject <- FindClusters(seuratObject, resolution = 0.8, verbose = FALSE)"
   ]
  },
  {
   "cell_type": "code",
   "execution_count": null,
   "id": "1e3a8e38-cf23-46bc-9e77-b85570212c1c",
   "metadata": {
    "scrolled": true
   },
   "outputs": [],
   "source": [
    "seuratObject <- RunUMAP(seuratObject, dims = 1:20, n.neighbors = 12, verbose = FALSE)"
   ]
  },
  {
   "cell_type": "code",
   "execution_count": null,
   "id": "4b921e76-1473-4925-8488-0cecf5cb9673",
   "metadata": {},
   "outputs": [],
   "source": [
    "options(repr.plot.width = 10, repr.plot.height = 8)\n",
    "DimPlot(seuratObject, reduction = \"umap\", label=TRUE) + xlab(\"UMAP 1\") + ylab(\"UMAP 2\")"
   ]
  },
  {
   "cell_type": "code",
   "execution_count": null,
   "id": "4e05c9e0-d496-4f00-ab3a-fcc2067dac10",
   "metadata": {},
   "outputs": [],
   "source": [
    "# Seurat default settings\n",
    "seuratObject.markers <- FindAllMarkers(seuratObject, only.pos = TRUE, min.pct = 0.25, logfc.threshold = 0.25)"
   ]
  },
  {
   "cell_type": "code",
   "execution_count": null,
   "id": "a480923c-8603-4be0-a23a-48638f41a675",
   "metadata": {},
   "outputs": [],
   "source": [
    "#select only cluster 0 and order avg_log2FC from big to small\n",
    "\n",
    "seuratObject.markers[seuratObject.markers$cluster == 0,] %>%\n",
    "slice_max(n = 20\n",
    "          , order_by = avg_log2FC)"
   ]
  },
  {
   "cell_type": "code",
   "execution_count": null,
   "id": "7f8cc1e9-e8d6-4380-bd7f-4172b40e41b3",
   "metadata": {},
   "outputs": [],
   "source": [
    "write.csv(seuratObject.markers, file = \"/home/jovyan/researcher_home/tom/\", quote = FALSE)"
   ]
  },
  {
   "cell_type": "code",
   "execution_count": null,
   "id": "2d8ee9fa-13ba-44bc-b2cb-4e653e83ea1d",
   "metadata": {},
   "outputs": [],
   "source": [
    "options(repr.plot.width = 18, repr.plot.height = 12)\n",
    "\n",
    "p1 <- DimPlot(seuratObject, label = TRUE) + NoLegend() + xlab(\"UMAP 1\") + ylab(\"UMAP 2\")\n",
    "p2 <- FeaturePlot(seuratObject, c(\"Hoxa13\",\"Hoxa11\",\"Hoxa9\"), min.cutoff = \"q1\", \n",
    "                  keep.scale ='all',\n",
    "                  order = TRUE\n",
    "                 )  \n",
    "\n",
    "p1 + p2"
   ]
  },
  {
   "cell_type": "code",
   "execution_count": null,
   "id": "11420bbd-7f55-42db-999a-421211e3e465",
   "metadata": {},
   "outputs": [],
   "source": [
    "options(repr.plot.width = 18, repr.plot.height = 12)\n",
    "\n",
    "p1 <- DimPlot(seuratObject, label = TRUE) + NoLegend() + xlab(\"UMAP 1\") + ylab(\"UMAP 2\")\n",
    "p2 <- FeaturePlot(seuratObject, c(\"Hoxd13\",\"Hoxd11\",\"Hoxd9\",'Meis1'), min.cutoff = \"q1\", keep.scale ='all', order = TRUE)  \n",
    "\n",
    "p1 + p2"
   ]
  },
  {
   "cell_type": "code",
   "execution_count": null,
   "id": "7e67dadd-ad3f-4dd1-abbf-a9eea4b90d81",
   "metadata": {},
   "outputs": [],
   "source": [
    "options(repr.plot.width = 18, repr.plot.height = 12)\n",
    "\n",
    "p1 <- DimPlot(seuratObject, label = TRUE) + NoLegend() + xlab(\"UMAP 1\") + ylab(\"UMAP 2\")\n",
    "p2 <- FeaturePlot(seuratObject, \n",
    "                  c(\"Prrx1\",\"Sox9\",\"Col2a1\",'Ihh'), \n",
    "                  min.cutoff = \"q1\", \n",
    "                  keep.scale = 'all'\n",
    "                 )  \n",
    "\n",
    "p1 + p2"
   ]
  },
  {
   "cell_type": "code",
   "execution_count": null,
   "id": "ba84a9dc-bf93-4c08-84ab-192dd7504735",
   "metadata": {},
   "outputs": [],
   "source": [
    "options(repr.plot.width = 18, repr.plot.height = 6)\n",
    "FeaturePlot(seuratObject, features = c('Sox9', 'Prrx1'), blend = TRUE, order = TRUE)"
   ]
  },
  {
   "cell_type": "code",
   "execution_count": null,
   "id": "2087c505-5d3c-4313-b132-dc0617a48110",
   "metadata": {},
   "outputs": [],
   "source": [
    "options(repr.plot.width = 18, repr.plot.height = 12)\n",
    "\n",
    "p1 <- DimPlot(seuratObject, label = TRUE) + NoLegend() + xlab(\"UMAP 1\") + ylab(\"UMAP 2\")\n",
    "p2 <- FeaturePlot(seuratObject, \n",
    "                  c(\"Tnmd\",\"Prrx1\",\"Scx\"), \n",
    "                  min.cutoff = \"q1\", \n",
    "                  keep.scale = 'all'\n",
    "                 )  \n",
    "\n",
    "p1 + p2"
   ]
  },
  {
   "cell_type": "code",
   "execution_count": null,
   "id": "b6f0898f-2ee7-4875-9f1d-fda9a7685139",
   "metadata": {},
   "outputs": [],
   "source": [
    "options(repr.plot.width = 10, repr.plot.height = 8)\n",
    "DimPlot(seuratObject, reduction = \"umap\", label=TRUE) + xlab(\"UMAP 1\") + ylab(\"UMAP 2\")"
   ]
  },
  {
   "cell_type": "code",
   "execution_count": null,
   "id": "297da845-f665-4702-94d0-933a2bd2e250",
   "metadata": {},
   "outputs": [],
   "source": [
    "# Step 1: Define the variable '' with cell type\n",
    "name <- \"Mesenchyme\"\n",
    "\n",
    "# Step 2: Create the column name dynamically\n",
    "column_name <- paste0(\"CellType_\", name)"
   ]
  },
  {
   "cell_type": "code",
   "execution_count": null,
   "id": "cc6acc75-f768-4413-bd2e-a2a77cbc9b16",
   "metadata": {},
   "outputs": [],
   "source": [
    "seuratObject@meta.data[[column_name]] <- Idents(seuratObject)"
   ]
  },
  {
   "cell_type": "code",
   "execution_count": null,
   "id": "fa50b1e8-aa15-4f8e-a82e-f0cfd17609a3",
   "metadata": {},
   "outputs": [],
   "source": [
    "seuratObject@meta.data[[column_name]] <- as.character(seuratObject@meta.data[[column_name]])\n",
    "\n",
    "seuratObject@meta.data[[column_name]][seuratObject@meta.data[[column_name]] == '0'] <- 'Distal limb bud mesenchyme'\n",
    "seuratObject@meta.data[[column_name]][seuratObject@meta.data[[column_name]] == '1'] <- 'Tenocyte precursor'\n",
    "seuratObject@meta.data[[column_name]][seuratObject@meta.data[[column_name]] == '2'] <- 'Proximal limb bud mesenchyme'\n",
    "seuratObject@meta.data[[column_name]][seuratObject@meta.data[[column_name]] == '3'] <- 'Proximal limb bud mesenchyme'\n",
    "seuratObject@meta.data[[column_name]][seuratObject@meta.data[[column_name]] == '4'] <- 'Intermediate limb bud mesenchyme'\n",
    "seuratObject@meta.data[[column_name]][seuratObject@meta.data[[column_name]] == '5'] <- 'Intermediate limb bud mesenchyme'\n",
    "seuratObject@meta.data[[column_name]][seuratObject@meta.data[[column_name]] == '6'] <- 'Chondrocyte precursor'\n",
    "seuratObject@meta.data[[column_name]][seuratObject@meta.data[[column_name]] == '7'] <- 'Proximal limb bud mesenchyme'\n",
    "seuratObject@meta.data[[column_name]][seuratObject@meta.data[[column_name]] == '8'] <- 'Intermediate limb bud mesenchyme'\n",
    "seuratObject@meta.data[[column_name]][seuratObject@meta.data[[column_name]] == '9'] <- 'Distal limb bud mesenchyme'\n",
    "\n",
    "seuratObject@meta.data[[column_name]] <- as.factor(seuratObject@meta.data[[column_name]])"
   ]
  },
  {
   "cell_type": "code",
   "execution_count": null,
   "id": "0e42d657-deae-491d-a7a9-6e6afb441913",
   "metadata": {},
   "outputs": [],
   "source": [
    "options(repr.plot.width = 14)\n",
    "\n",
    "DimPlot(seuratObject, reduction = \"umap\", label = TRUE, group.by = column_name) + xlab(\"UMAP 1\") + ylab(\"UMAP 2\")"
   ]
  },
  {
   "cell_type": "code",
   "execution_count": null,
   "id": "c811f270-4a2c-413f-9883-efd1ac5c098b",
   "metadata": {},
   "outputs": [],
   "source": [
    "saveRDS(seuratObject, file = \"/home/jovyan/researcher_home/tom/Atlas/data/SCA_core/Guilak/V2_E11_5_mesenchyme.rds\")"
   ]
  },
  {
   "cell_type": "markdown",
   "id": "2f5cd9d3-0ef0-40c4-9340-83252adc9fe2",
   "metadata": {
    "tags": []
   },
   "source": [
    "### 2.2. Ectoderm"
   ]
  },
  {
   "cell_type": "code",
   "execution_count": null,
   "id": "a3ef3634-ed50-4b4f-9966-c93ac2b88f1d",
   "metadata": {},
   "outputs": [],
   "source": [
    "seuratObject <- readRDS(\"/home/jovyan/researcher_home/tom/Atlas/data/SCA_core/Guilak/V2_E11_5_global.rds\")"
   ]
  },
  {
   "cell_type": "code",
   "execution_count": null,
   "id": "7586b832-8359-4c92-a51d-ed5b49fd271e",
   "metadata": {
    "tags": []
   },
   "outputs": [],
   "source": [
    "Idents(seuratObject) <- seuratObject@meta.data$CellType_Global"
   ]
  },
  {
   "cell_type": "code",
   "execution_count": null,
   "id": "e0112d7f-7200-49c7-8de9-7d97f9185508",
   "metadata": {},
   "outputs": [],
   "source": [
    "seuratObject <- subset(seuratObject, idents = c(\"Ectoderm\"))"
   ]
  },
  {
   "cell_type": "code",
   "execution_count": null,
   "id": "41c10ff4-077a-4ac6-a10f-b295b0694459",
   "metadata": {},
   "outputs": [],
   "source": [
    "seuratObject <- ScaleData(seuratObject)"
   ]
  },
  {
   "cell_type": "code",
   "execution_count": null,
   "id": "2618d7fa-2cfa-4da6-b265-e52fc84450bf",
   "metadata": {},
   "outputs": [],
   "source": [
    "seuratObject <- RunPCA(seuratObject, features = VariableFeatures(object = seuratObject), verbose = FALSE)"
   ]
  },
  {
   "cell_type": "code",
   "execution_count": null,
   "id": "764f3e82-7d3e-469b-bfec-78ccc4430f9a",
   "metadata": {},
   "outputs": [],
   "source": [
    "ElbowPlot(seuratObject, 50)"
   ]
  },
  {
   "cell_type": "code",
   "execution_count": null,
   "id": "1cd641b8-a135-44f5-bd83-064c1eb2125c",
   "metadata": {
    "scrolled": true
   },
   "outputs": [],
   "source": [
    "seuratObject <- FindNeighbors(seuratObject, dims = 1:20, verbose = FALSE)\n",
    "seuratObject <- FindClusters(seuratObject, resolution = 0.4, verbose = FALSE)"
   ]
  },
  {
   "cell_type": "code",
   "execution_count": null,
   "id": "60d0a7bc-e243-4ff9-b1d0-c6358f1adf85",
   "metadata": {
    "scrolled": true
   },
   "outputs": [],
   "source": [
    "seuratObject <- RunUMAP(seuratObject, dims = 1:20, n.neighbors = 12, verbose = FALSE)"
   ]
  },
  {
   "cell_type": "code",
   "execution_count": null,
   "id": "ebe4f392-64f9-47d6-a9b9-0f7c3442cd07",
   "metadata": {},
   "outputs": [],
   "source": [
    "options(repr.plot.width = 10, repr.plot.height = 8)\n",
    "DimPlot(seuratObject, reduction = \"umap\", label=TRUE) + xlab(\"UMAP 1\") + ylab(\"UMAP 2\")"
   ]
  },
  {
   "cell_type": "code",
   "execution_count": null,
   "id": "043f8c45-4556-4710-9723-101d95a7cee9",
   "metadata": {},
   "outputs": [],
   "source": [
    "# Seurat default settings\n",
    "seuratObject.markers <- FindAllMarkers(seuratObject, only.pos = TRUE, min.pct = 0.25, logfc.threshold = 0.25)"
   ]
  },
  {
   "cell_type": "code",
   "execution_count": null,
   "id": "8394ecd6-99ea-49e7-b08c-d25afd52f904",
   "metadata": {},
   "outputs": [],
   "source": [
    "#select only cluster 0 and order avg_log2FC from big to small\n",
    "\n",
    "seuratObject.markers[seuratObject.markers$cluster == 0,] %>%\n",
    "slice_max(n = 20\n",
    "          , order_by = avg_log2FC)"
   ]
  },
  {
   "cell_type": "code",
   "execution_count": null,
   "id": "b0461f31-73c3-4c17-9ecd-7f4360728b23",
   "metadata": {},
   "outputs": [],
   "source": [
    "#select only cluster 0 and order avg_log2FC from big to small\n",
    "\n",
    "seuratObject.markers[seuratObject.markers$cluster == 1,] %>%\n",
    "slice_max(n = 20\n",
    "          , order_by = avg_log2FC)"
   ]
  },
  {
   "cell_type": "code",
   "execution_count": null,
   "id": "795e313a-803f-49db-bfc1-97ecd1df2d59",
   "metadata": {},
   "outputs": [],
   "source": [
    "#select only cluster 0 and order avg_log2FC from big to small\n",
    "\n",
    "seuratObject.markers[seuratObject.markers$cluster == 2,] %>%\n",
    "slice_max(n = 20\n",
    "          , order_by = avg_log2FC)"
   ]
  },
  {
   "cell_type": "code",
   "execution_count": null,
   "id": "46bffd6b-2d0b-43fc-b999-bc7305a11034",
   "metadata": {},
   "outputs": [],
   "source": [
    "write.csv(seuratObject.markers, file = \"/home/jovyan/researcher_home/tom/\", quote = FALSE)"
   ]
  },
  {
   "cell_type": "code",
   "execution_count": null,
   "id": "dc5198e0-6c77-4af7-b569-852ad2dfe8d4",
   "metadata": {},
   "outputs": [],
   "source": [
    "options(repr.plot.width = 18, repr.plot.height = 12)\n",
    "\n",
    "p1 <- DimPlot(seuratObject, label = TRUE) + NoLegend() + xlab(\"UMAP 1\") + ylab(\"UMAP 2\")\n",
    "p2 <- FeaturePlot(seuratObject, c(\"Cxcr4\",\"Edar\",\"Nfkb1\",'Wnt10b'), min.cutoff = \"q1\")  \n",
    "\n",
    "p1 + p2"
   ]
  },
  {
   "cell_type": "code",
   "execution_count": null,
   "id": "6152a344-fce1-47c7-8e42-d8386bb3cf70",
   "metadata": {},
   "outputs": [],
   "source": [
    "options(repr.plot.width = 18, repr.plot.height = 6)\n",
    "FeaturePlot(seuratObject, features = c('Wnt7a', 'En1'), blend = TRUE)"
   ]
  },
  {
   "cell_type": "code",
   "execution_count": null,
   "id": "efd10d66-eb8a-4dd6-9c9d-6afe6f297d1d",
   "metadata": {},
   "outputs": [],
   "source": [
    "options(repr.plot.width = 18, repr.plot.height = 12)\n",
    "\n",
    "p1 <- DimPlot(seuratObject, label = TRUE) + NoLegend() + xlab(\"UMAP 1\") + ylab(\"UMAP 2\")\n",
    "p2 <- FeaturePlot(seuratObject, c(\"Fgf8\"), min.cutoff = \"q1\")  \n",
    "\n",
    "p1 + p2"
   ]
  },
  {
   "cell_type": "code",
   "execution_count": null,
   "id": "d0142fe9-5c91-45c2-bc97-3bf668f741d1",
   "metadata": {},
   "outputs": [],
   "source": [
    "options(repr.plot.width = 10, repr.plot.height = 8)\n",
    "DimPlot(seuratObject, reduction = \"umap\", label=TRUE) + xlab(\"UMAP 1\") + ylab(\"UMAP 2\")"
   ]
  },
  {
   "cell_type": "code",
   "execution_count": null,
   "id": "920ce16d-a399-499f-8361-dd80e8f5512a",
   "metadata": {},
   "outputs": [],
   "source": [
    "# Step 1: Define the variable '' with cell type\n",
    "name <- \"Ectoderm\"\n",
    "\n",
    "# Step 2: Create the column name dynamically\n",
    "column_name <- paste0(\"CellType_\", name)"
   ]
  },
  {
   "cell_type": "code",
   "execution_count": null,
   "id": "9b5fe03d-4fc5-48da-89e9-3b0012916eff",
   "metadata": {},
   "outputs": [],
   "source": [
    "seuratObject@meta.data[[column_name]] <- Idents(seuratObject)"
   ]
  },
  {
   "cell_type": "code",
   "execution_count": null,
   "id": "265ed228-f938-4fd5-a1ff-e01d50f5ad5d",
   "metadata": {},
   "outputs": [],
   "source": [
    "seuratObject@meta.data[[column_name]] <- as.character(seuratObject@meta.data[[column_name]])\n",
    "\n",
    "seuratObject@meta.data[[column_name]][seuratObject@meta.data[[column_name]] == '0'] <- 'Ectoderm'\n",
    "seuratObject@meta.data[[column_name]][seuratObject@meta.data[[column_name]] == '1'] <- 'Keratinocytes'\n",
    "seuratObject@meta.data[[column_name]][seuratObject@meta.data[[column_name]] == '2'] <- 'AER'\n",
    "\n",
    "seuratObject@meta.data[[column_name]] <- as.factor(seuratObject@meta.data[[column_name]])"
   ]
  },
  {
   "cell_type": "code",
   "execution_count": null,
   "id": "84fdf80a-f7e3-4dbb-a1c3-aa5f69471c87",
   "metadata": {},
   "outputs": [],
   "source": [
    "options(repr.plot.width = 8)\n",
    "\n",
    "DimPlot(seuratObject, reduction = \"umap\", label = TRUE, group.by = column_name) + xlab(\"UMAP 1\") + ylab(\"UMAP 2\")"
   ]
  },
  {
   "cell_type": "code",
   "execution_count": null,
   "id": "e81ff7d3-6412-4ec2-aab8-ca95e95ab70e",
   "metadata": {},
   "outputs": [],
   "source": [
    "saveRDS(seuratObject, file = \"/home/jovyan/researcher_home/tom/Atlas/data/SCA_core/Guilak/V2_E11_5_ectoderm.rds\")"
   ]
  },
  {
   "cell_type": "markdown",
   "id": "23f2edb9-4f31-4d0c-9e61-80410d34bda1",
   "metadata": {
    "tags": []
   },
   "source": [
    "## 3. Updating annotations"
   ]
  },
  {
   "cell_type": "code",
   "execution_count": null,
   "id": "a29a00ba-b341-4b3a-a2eb-554bdc1657e1",
   "metadata": {},
   "outputs": [],
   "source": [
    "global <- readRDS(\"/home/jovyan/researcher_home/tom/Atlas/data/SCA_core/Guilak/V2_E11_5_global.rds\")"
   ]
  },
  {
   "cell_type": "code",
   "execution_count": null,
   "id": "d888fa33-241b-4d3a-84ac-c241d928bfe7",
   "metadata": {},
   "outputs": [],
   "source": [
    "subset1 <- readRDS(file = \"/home/jovyan/researcher_home/tom/Atlas/data/SCA_core/Guilak/V2_E11_5_mesenchyme.rds\")"
   ]
  },
  {
   "cell_type": "code",
   "execution_count": null,
   "id": "633b6617-417b-4823-a597-fd0d39332e19",
   "metadata": {},
   "outputs": [],
   "source": [
    "subset2 <- readRDS(file = \"/home/jovyan/researcher_home/tom/Atlas/data/SCA_core/Guilak/V2_E11_5_ectoderm.rds\")"
   ]
  },
  {
   "cell_type": "code",
   "execution_count": null,
   "id": "1a93186c-104c-4404-a3a7-71bea14a9533",
   "metadata": {},
   "outputs": [],
   "source": [
    "meta1 <- global@meta.data\n",
    "meta2 <- subset1@meta.data"
   ]
  },
  {
   "cell_type": "code",
   "execution_count": null,
   "id": "d6b8e3d5-6bb8-4623-b536-6e57c5e7a091",
   "metadata": {},
   "outputs": [],
   "source": [
    "df <- split(meta1, meta1$CellType_Global)"
   ]
  },
  {
   "cell_type": "code",
   "execution_count": null,
   "id": "e37fdc81-99a5-4a8d-9e0b-569710c95bf8",
   "metadata": {},
   "outputs": [],
   "source": [
    "subset1a <- rownames(df$Mesenchyme)"
   ]
  },
  {
   "cell_type": "code",
   "execution_count": null,
   "id": "2d86933e-5287-4de7-b088-be3cab3d1612",
   "metadata": {},
   "outputs": [],
   "source": [
    "subset1a_meta <- meta2[subset1a, c(\"CellType_Mesenchyme\", \"orig.ident\")]\n",
    "subset1a_meta$orig.ident <- NULL\n",
    "\n",
    "head(subset1a_meta)"
   ]
  },
  {
   "cell_type": "code",
   "execution_count": null,
   "id": "ae0c6f02-aee6-4586-8562-20727a0a41af",
   "metadata": {
    "tags": []
   },
   "outputs": [],
   "source": [
    "df$Mesenchyme <- cbind(df$Mesenchyme, subset1a_meta)\n",
    "df$Mesenchyme$CellType_Global <- df$Mesenchyme$CellType_Mesenchyme\n",
    "df$Mesenchyme$CellType_Mesenchyme <- NULL"
   ]
  },
  {
   "cell_type": "code",
   "execution_count": null,
   "id": "8de0bd53-b19c-453d-a400-0a3449ef5600",
   "metadata": {},
   "outputs": [],
   "source": [
    "meta2 <- subset2@meta.data"
   ]
  },
  {
   "cell_type": "code",
   "execution_count": null,
   "id": "3d7326d1-ff96-403f-bcb6-f4c9f89edb98",
   "metadata": {},
   "outputs": [],
   "source": [
    "subset2a <- rownames(df$Ectoderm)"
   ]
  },
  {
   "cell_type": "code",
   "execution_count": null,
   "id": "0884d7c2-5f3a-4fe6-8986-9fd2fad572b1",
   "metadata": {},
   "outputs": [],
   "source": [
    "subset2a_meta <- meta2[subset2a, c(\"CellType_Ectoderm\", \"orig.ident\")]\n",
    "subset2a_meta$orig.ident <- NULL\n",
    "\n",
    "head(subset2a_meta)"
   ]
  },
  {
   "cell_type": "code",
   "execution_count": null,
   "id": "8922b689-64c8-4dda-8202-26a6e4c6e29d",
   "metadata": {
    "tags": []
   },
   "outputs": [],
   "source": [
    "df$Ectoderm <- cbind(df$Ectoderm, subset2a_meta)\n",
    "df$Ectoderm$CellType_Global <- df$Ectoderm$CellType_Ectoderm\n",
    "df$Ectoderm$CellType_Ectoderm <- NULL"
   ]
  },
  {
   "cell_type": "code",
   "execution_count": null,
   "id": "3f801ff8-3aff-4a5a-94e1-d6963e89654f",
   "metadata": {},
   "outputs": [],
   "source": [
    "df$'Immune cells'$Barcode <- rownames(df$'Immune cells')\n",
    "df$'Vascular endothelial cells'$Barcode <- rownames(df$'Vascular endothelial cells')\n",
    "#df$Ectoderm$Barcode <- rownames(df$Ectoderm)\n",
    "df$'Muscle progenitor'$Barcode <- rownames(df$'Muscle progenitor')"
   ]
  },
  {
   "cell_type": "code",
   "execution_count": null,
   "id": "d2df5470-234b-471e-b890-074c63799076",
   "metadata": {},
   "outputs": [],
   "source": [
    "df$Mesenchyme$Barcode = rownames(df$Mesenchyme)\n",
    "df$Ectoderm$Barcode = rownames(df$Ectoderm)\n",
    "df$'Muscle progenitor'$Barcode = rownames(df$'Muscle progenitor')\n",
    "df$'Immune cells'$Barcode = rownames(df$'Immune cells')\n",
    "df$'Vascular endothelial cells'$Barcode = rownames(df$'Vascular endothelial cells')"
   ]
  },
  {
   "cell_type": "markdown",
   "id": "94fc93e4-eee1-408d-a469-12e25070d13b",
   "metadata": {},
   "source": [
    "**Make sure all dataframes in the list have the same number of columns, in the same order.**"
   ]
  },
  {
   "cell_type": "code",
   "execution_count": null,
   "id": "02e8aed5-b772-4e23-a358-b94da9703be7",
   "metadata": {
    "scrolled": true
   },
   "outputs": [],
   "source": [
    "str(df)"
   ]
  },
  {
   "cell_type": "code",
   "execution_count": null,
   "id": "318b8dbe-f20a-4aca-b130-3db149e61387",
   "metadata": {},
   "outputs": [],
   "source": [
    "names(df)"
   ]
  },
  {
   "cell_type": "code",
   "execution_count": null,
   "id": "8532dd4c-c529-4845-8401-df68a0ff69ad",
   "metadata": {
    "tags": []
   },
   "outputs": [],
   "source": [
    "meta.data <- do.call(rbind, df)\n",
    "rownames(meta.data) = meta.data$Barcode\n",
    "meta.data$Barcode <- NULL"
   ]
  },
  {
   "cell_type": "code",
   "execution_count": null,
   "id": "3bbc1f38-f9a2-4824-aa3a-968d91beaf64",
   "metadata": {},
   "outputs": [],
   "source": [
    "head(meta.data)"
   ]
  },
  {
   "cell_type": "code",
   "execution_count": null,
   "id": "2acff839-8984-4fb9-b9de-70a034120498",
   "metadata": {},
   "outputs": [],
   "source": [
    "dim(global@meta.data)\n",
    "dim(meta.data)"
   ]
  },
  {
   "cell_type": "code",
   "execution_count": null,
   "id": "d1f12e89-aa1d-4fe4-b19c-b338843eca17",
   "metadata": {},
   "outputs": [],
   "source": [
    "target <- rownames(global@meta.data)\n",
    "meta.data <- meta.data[match(target, rownames(meta.data)),]"
   ]
  },
  {
   "cell_type": "code",
   "execution_count": null,
   "id": "bd0b8a3d-1fc4-48d8-9e63-c038a769860d",
   "metadata": {},
   "outputs": [],
   "source": [
    "global@meta.data = meta.data"
   ]
  },
  {
   "cell_type": "code",
   "execution_count": null,
   "id": "e5de5bb0-b3bf-4cd3-86d9-5eaead92a58b",
   "metadata": {},
   "outputs": [],
   "source": [
    "global$CellType <- global$CellType_Global\n",
    "global$CellType_Global <- NULL"
   ]
  },
  {
   "cell_type": "code",
   "execution_count": null,
   "id": "b91b7abd-5346-4884-a40c-e56ec095d9f9",
   "metadata": {},
   "outputs": [],
   "source": [
    "seuratObject <- global\n",
    "rm(global)"
   ]
  },
  {
   "cell_type": "markdown",
   "id": "8f908cd2-119c-4c91-b8fd-5d8d0f5e3ed0",
   "metadata": {
    "tags": []
   },
   "source": [
    "#### 5.4.3. Finalized embedding and annotation<a id=\"37\"></a>"
   ]
  },
  {
   "cell_type": "code",
   "execution_count": null,
   "id": "bcbd2cae-3393-4ff3-bc51-c4e6c7c17582",
   "metadata": {},
   "outputs": [],
   "source": [
    "options(repr.plot.width=14)\n",
    "DimPlot(seuratObject, group.by = \"CellType\", label = FALSE) + xlab(\"UMAP 1\") + ylab(\"UMAP 2\")"
   ]
  },
  {
   "cell_type": "markdown",
   "id": "8b7fdbf4-68b4-43ff-81ce-3e32d3c8da25",
   "metadata": {
    "tags": []
   },
   "source": [
    "#### 5.4.3. Finalized embedding and annotation<a id=\"37\"></a>"
   ]
  },
  {
   "cell_type": "code",
   "execution_count": null,
   "id": "d8e7c96c-ecf6-4d91-9d4f-7fa33f7597b0",
   "metadata": {},
   "outputs": [],
   "source": [
    "saveRDS(seuratObject, file = \"/home/jovyan/researcher_home/tom/Atlas/data/SCA_core/Guilak/V2_E11_5_final.rds\")"
   ]
  },
  {
   "cell_type": "markdown",
   "id": "2cf2b6e6-03e0-4121-9554-348a6a96a0be",
   "metadata": {
    "jp-MarkdownHeadingCollapsed": true,
    "tags": []
   },
   "source": [
    "## Some code"
   ]
  },
  {
   "cell_type": "code",
   "execution_count": null,
   "id": "31f306d3-f13e-4865-9c0f-452d9f9f541c",
   "metadata": {},
   "outputs": [],
   "source": [
    "options(repr.plot.width = 18, repr.plot.height = 12)\n",
    "\n",
    "p1 <- DimPlot(seuratObject, label = TRUE) + NoLegend() + xlab(\"UMAP 1\") + ylab(\"UMAP 2\")\n",
    "p2 <- FeaturePlot(seuratObject, c(\"\",\"\",\"\",\"\"), min.cutoff = \"q1\")  \n",
    "\n",
    "p1 + p2"
   ]
  },
  {
   "cell_type": "code",
   "execution_count": null,
   "id": "d9740ead-510c-4499-96d2-a7c9eab88fc6",
   "metadata": {},
   "outputs": [],
   "source": [
    "DotPlot(object = seuratObject, features = c('','','',''), col.min = 0)"
   ]
  },
  {
   "cell_type": "code",
   "execution_count": null,
   "id": "ffa9a665-ecd8-4f99-87ec-ccac34de0f1b",
   "metadata": {},
   "outputs": [],
   "source": [
    "options(repr.plot.width = 18, repr.plot.height = 6)\n",
    "FeaturePlot(A, features = c('', ''), blend = TRUE )"
   ]
  },
  {
   "cell_type": "markdown",
   "id": "125cc79a-b38c-426f-934e-0d97e42da416",
   "metadata": {
    "jp-MarkdownHeadingCollapsed": true,
    "tags": []
   },
   "source": [
    "### 2.X. [change cell type]"
   ]
  },
  {
   "cell_type": "code",
   "execution_count": null,
   "id": "cd5b4e53",
   "metadata": {},
   "outputs": [],
   "source": [
    "seuratObject <- readRDS(\"/home/jovyan/researcher_home/tom/Atlas/data/SCA_core/Guilak/V2_E11_5_global.rds\")"
   ]
  },
  {
   "cell_type": "code",
   "execution_count": null,
   "id": "bd57a934",
   "metadata": {
    "tags": []
   },
   "outputs": [],
   "source": [
    "Idents(seuratObject) <- seuratObject@meta.data$CellType_Global"
   ]
  },
  {
   "cell_type": "code",
   "execution_count": null,
   "id": "4f405043",
   "metadata": {},
   "outputs": [],
   "source": [
    "seuratObject <- subset(seuratObject, idents = c(\"Muscle\"))"
   ]
  },
  {
   "cell_type": "code",
   "execution_count": null,
   "id": "7d7207d5",
   "metadata": {},
   "outputs": [],
   "source": [
    "seuratObject <- ScaleData(seuratObject)"
   ]
  },
  {
   "cell_type": "code",
   "execution_count": null,
   "id": "12acbac8",
   "metadata": {},
   "outputs": [],
   "source": [
    "seuratObject <- RunPCA(seuratObject, features = VariableFeatures(object = seuratObject), verbose = FALSE)"
   ]
  },
  {
   "cell_type": "code",
   "execution_count": null,
   "id": "97a24155",
   "metadata": {},
   "outputs": [],
   "source": [
    "ElbowPlot(seuratObject, 50)"
   ]
  },
  {
   "cell_type": "code",
   "execution_count": null,
   "id": "821f9c19",
   "metadata": {
    "scrolled": true
   },
   "outputs": [],
   "source": [
    "seuratObject <- FindNeighbors(seuratObject, dims = 1:20, verbose = FALSE)\n",
    "seuratObject <- FindClusters(seuratObject, resolution = 0.8, verbose = FALSE)"
   ]
  },
  {
   "cell_type": "code",
   "execution_count": null,
   "id": "9f37a940",
   "metadata": {
    "scrolled": true
   },
   "outputs": [],
   "source": [
    "seuratObject <- RunUMAP(seuratObject, dims = 1:20, n.neighbors = 12, verbose = FALSE)"
   ]
  },
  {
   "cell_type": "code",
   "execution_count": null,
   "id": "e4e8c49e",
   "metadata": {},
   "outputs": [],
   "source": [
    "options(repr.plot.width = 10, repr.plot.height = 8)\n",
    "DimPlot(seuratObject, reduction = \"umap\", label=TRUE) + xlab(\"UMAP 1\") + ylab(\"UMAP 2\")"
   ]
  },
  {
   "cell_type": "code",
   "execution_count": null,
   "id": "f9aad9a3",
   "metadata": {},
   "outputs": [],
   "source": [
    "# Seurat default settings\n",
    "seuratObject.markers <- FindAllMarkers(seuratObject, only.pos = TRUE, min.pct = 0.25, logfc.threshold = 0.25)"
   ]
  },
  {
   "cell_type": "code",
   "execution_count": null,
   "id": "60690d39",
   "metadata": {},
   "outputs": [],
   "source": [
    "#select only cluster 0 and order avg_log2FC from big to small\n",
    "\n",
    "seuratObject.markers[seuratObject.markers$cluster == 0,] %>%\n",
    "slice_max(n = 20\n",
    "          , order_by = avg_log2FC)"
   ]
  },
  {
   "cell_type": "code",
   "execution_count": null,
   "id": "3904527d",
   "metadata": {},
   "outputs": [],
   "source": [
    "write.csv(seuratObject.markers, file = \"/home/jovyan/researcher_home/tom/\", quote = FALSE)"
   ]
  },
  {
   "cell_type": "code",
   "execution_count": null,
   "id": "68d176f5",
   "metadata": {},
   "outputs": [],
   "source": [
    "options(repr.plot.width = 18, repr.plot.height = 12)\n",
    "\n",
    "p1 <- DimPlot(seuratObject, label = TRUE) + NoLegend() + xlab(\"UMAP 1\") + ylab(\"UMAP 2\")\n",
    "p2 <- FeaturePlot(seuratObject, c(\"\",\"\",\"\",\"\"), min.cutoff = \"q1\")  \n",
    "\n",
    "p1 + p2"
   ]
  },
  {
   "cell_type": "code",
   "execution_count": null,
   "id": "065b59a9",
   "metadata": {},
   "outputs": [],
   "source": [
    "options(repr.plot.width = 18, repr.plot.height = 12)\n",
    "\n",
    "p1 <- DimPlot(seuratObject, label = TRUE) + NoLegend() + xlab(\"UMAP 1\") + ylab(\"UMAP 2\")\n",
    "p2 <- FeaturePlot(seuratObject, c(\"\",\"\",\"\",\"\"), min.cutoff = \"q1\")  \n",
    "\n",
    "p1 + p2"
   ]
  },
  {
   "cell_type": "code",
   "execution_count": null,
   "id": "dcade79c",
   "metadata": {},
   "outputs": [],
   "source": [
    "options(repr.plot.width = 10, repr.plot.height = 8)\n",
    "DimPlot(seuratObject, reduction = \"umap\", label=TRUE) + xlab(\"UMAP 1\") + ylab(\"UMAP 2\")"
   ]
  },
  {
   "cell_type": "code",
   "execution_count": null,
   "id": "7744e4dc",
   "metadata": {},
   "outputs": [],
   "source": [
    "# Step 1: Define the variable '' with cell type\n",
    "name <- \"\"\n",
    "\n",
    "# Step 2: Create the column name dynamically\n",
    "column_name <- paste0(\"CellType_\", name)"
   ]
  },
  {
   "cell_type": "code",
   "execution_count": null,
   "id": "2d12c173",
   "metadata": {},
   "outputs": [],
   "source": [
    "seuratObject@meta.data[[column_name]] <- Idents(seuratObject)"
   ]
  },
  {
   "cell_type": "code",
   "execution_count": null,
   "id": "337feeda",
   "metadata": {},
   "outputs": [],
   "source": [
    "seuratObject@meta.data[[column_name]] <- as.character(seuratObject@meta.data[[column_name]])\n",
    "\n",
    "seuratObject@meta.data[[column_name]][seuratObject@meta.data[[column_name]] == ''] <- ''\n",
    "\n",
    "seuratObject@meta.data[[column_name]] <- as.factor(seuratObject@meta.data[[column_name]])"
   ]
  },
  {
   "cell_type": "code",
   "execution_count": null,
   "id": "bd9d4818",
   "metadata": {},
   "outputs": [],
   "source": [
    "options(repr.plot.width = 8)\n",
    "\n",
    "DimPlot(seuratObject, reduction = \"umap\", label = TRUE, group.by = column_name) + xlab(\"UMAP 1\") + ylab(\"UMAP 2\")"
   ]
  },
  {
   "cell_type": "code",
   "execution_count": null,
   "id": "5f0ad156",
   "metadata": {},
   "outputs": [],
   "source": [
    "saveRDS(seuratObject, file = \"/home/jovyan/researcher_home/tom/\")"
   ]
  }
 ],
 "metadata": {
  "kernelspec": {
   "display_name": "R [conda env:base] *",
   "language": "R",
   "name": "conda-base-r"
  },
  "language_info": {
   "codemirror_mode": "r",
   "file_extension": ".r",
   "mimetype": "text/x-r-source",
   "name": "R",
   "pygments_lexer": "r",
   "version": "4.3.2"
  }
 },
 "nbformat": 4,
 "nbformat_minor": 5
}
