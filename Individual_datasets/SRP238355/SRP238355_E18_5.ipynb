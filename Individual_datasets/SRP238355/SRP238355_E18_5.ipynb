{
 "cells": [
  {
   "cell_type": "markdown",
   "id": "9428269d-1516-4ffd-9ff1-5f2e951fefc7",
   "metadata": {
    "tags": []
   },
   "source": [
    "# Guilak"
   ]
  },
  {
   "cell_type": "markdown",
   "id": "96f5b794-fcea-4439-b517-3249b58e217b",
   "metadata": {},
   "source": [
    "## 0. Setting up workenvironment<a id=\"0\"></a>"
   ]
  },
  {
   "cell_type": "code",
   "execution_count": null,
   "id": "5f3975cb-d759-41f0-8d99-8dd24fd21a7f",
   "metadata": {},
   "outputs": [],
   "source": [
    "suppressPackageStartupMessages({\n",
    "    library(DropletUtils)\n",
    "    library(SingleCellExperiment)\n",
    "    library(scuttle)\n",
    "    library(Seurat)\n",
    "    library(SeuratWrappers)\n",
    "    library(stringr)\n",
    "    library(dplyr)\n",
    "    library(data.table)\n",
    "    library(Matrix)\n",
    "    library(patchwork)\n",
    "    library(ggplot2)\n",
    "})\n",
    "\n",
    "options(repr.plot.width = 16, repr.plot.height = 8)"
   ]
  },
  {
   "cell_type": "markdown",
   "id": "5eb7ef10-c19f-47ee-9cab-2c448ca9ddce",
   "metadata": {
    "tags": []
   },
   "source": [
    "## Loading data"
   ]
  },
  {
   "cell_type": "markdown",
   "id": "c051db1f-7312-46c5-9c05-b9c171669cf2",
   "metadata": {
    "tags": []
   },
   "source": [
    "### 3.1. Data analysis Seurat<a id=\"9\"></a>"
   ]
  },
  {
   "cell_type": "code",
   "execution_count": null,
   "id": "0a644d72-cdab-4204-b29b-846bee46f35d",
   "metadata": {},
   "outputs": [],
   "source": [
    "A <- readRDS(file = \"/home/jovyan/researcher_home/tom/Atlas/data/SCA_core/Guilak/post-QC/E18_5_SeuratObject.Rds\")"
   ]
  },
  {
   "cell_type": "code",
   "execution_count": null,
   "id": "5c23fa69-a1ef-4af8-a21c-9b37b3136945",
   "metadata": {},
   "outputs": [],
   "source": [
    "A@meta.data$Author = 'Guilak'"
   ]
  },
  {
   "cell_type": "markdown",
   "id": "34331b89-934f-401a-8f96-f3e33efd2837",
   "metadata": {},
   "source": [
    "### E18.5"
   ]
  },
  {
   "cell_type": "code",
   "execution_count": null,
   "id": "ebcb89ce-3ee2-405f-b41a-be704ca69781",
   "metadata": {},
   "outputs": [],
   "source": [
    "#A@meta.data$CellType <- NULL"
   ]
  },
  {
   "cell_type": "code",
   "execution_count": null,
   "id": "3e26831b-93e9-4ec7-b811-d746f8c4cac2",
   "metadata": {},
   "outputs": [],
   "source": [
    "VlnPlot(A, features = c(\"nCount_RNA\", \"nFeature_RNA\", \"subsets_Mito_percent\"), \n",
    "        ncol = 3, group.by = \"orig.ident\", pt.size = 0)"
   ]
  },
  {
   "cell_type": "code",
   "execution_count": null,
   "id": "10d15d39-2c13-48ac-8c24-b16cb7055667",
   "metadata": {},
   "outputs": [],
   "source": [
    "A <- NormalizeData(A, verbose = FALSE)\n",
    "A <- FindVariableFeatures(A, selection.method = \"vst\", nfeatures = 2000)\n",
    "\n",
    "# Identify the 10 most highly variable genes\n",
    "top10 <- head(VariableFeatures(A), 10)"
   ]
  },
  {
   "cell_type": "code",
   "execution_count": null,
   "id": "90728fd1-f03c-49c3-a257-ff3db52792a5",
   "metadata": {},
   "outputs": [],
   "source": [
    "all.genes <- rownames(A)\n",
    "A <- ScaleData(A, features = all.genes)"
   ]
  },
  {
   "cell_type": "code",
   "execution_count": null,
   "id": "805c4733-b3b3-46c1-a5d3-adf10c261a68",
   "metadata": {},
   "outputs": [],
   "source": [
    "A <- RunPCA(A, features = VariableFeatures(object = A), verbose = FALSE)"
   ]
  },
  {
   "cell_type": "code",
   "execution_count": null,
   "id": "557437a2-f9d2-480e-bda0-f865e8c9d941",
   "metadata": {},
   "outputs": [],
   "source": [
    "ElbowPlot(A, 50)"
   ]
  },
  {
   "cell_type": "code",
   "execution_count": null,
   "id": "67fb040f-b1ce-4dd5-8261-c8f34c6bede8",
   "metadata": {},
   "outputs": [],
   "source": [
    "A <- FindNeighbors(A, dims = 1:22)\n",
    "A<- FindClusters(A, resolution = 0.6)"
   ]
  },
  {
   "cell_type": "code",
   "execution_count": null,
   "id": "9df87299-00b7-448b-96ef-d8b9d25dd8f7",
   "metadata": {},
   "outputs": [],
   "source": [
    "A <- RunUMAP(A, dims = 1:22, n.neighbors = 12, verbose = FALSE)"
   ]
  },
  {
   "cell_type": "markdown",
   "id": "dcf4d862-1ce0-4825-a244-8cdc654ade4b",
   "metadata": {},
   "source": [
    "### Check annotation"
   ]
  },
  {
   "cell_type": "code",
   "execution_count": null,
   "id": "6e25d96d-3f5d-4110-98fd-d720d7c7ea5c",
   "metadata": {},
   "outputs": [],
   "source": [
    "# Paraxial Mesoderm: Tbx6+, Sox2-\n",
    "options(repr.plot.width = 18, repr.plot.height = 12)\n",
    "\n",
    "p1 <- DimPlot(A, label = TRUE) + NoLegend() + xlab(\"UMAP 1\") + ylab(\"UMAP 2\")\n",
    "p2 <- FeaturePlot(A, c(\"Tbx6\", \"Sox2\"), min.cutoff = \"q1\")  \n",
    "\n",
    "p1 + p2"
   ]
  },
  {
   "cell_type": "code",
   "execution_count": null,
   "id": "dbb06c06-7b07-4e7f-80be-8e4329f85ff4",
   "metadata": {},
   "outputs": [],
   "source": [
    "# Intermediate Mesoderm: Osr1, Wt1, Pax2\n",
    "options(repr.plot.width = 18, repr.plot.height = 12)\n",
    "\n",
    "p1 <- DimPlot(A, label = TRUE) + NoLegend() + xlab(\"UMAP 1\") + ylab(\"UMAP 2\")\n",
    "p2 <- FeaturePlot(A, c(\"Osr1\", \"Wt1\", \"Pax2\",\"Ren1\"), min.cutoff = \"q1\")  \n",
    "\n",
    "p1 + p2"
   ]
  },
  {
   "cell_type": "code",
   "execution_count": null,
   "id": "e86a7b4f-3a42-488f-8d49-c67400782dab",
   "metadata": {},
   "outputs": [],
   "source": [
    "# Lateral plate mesoderm\n",
    "options(repr.plot.width = 18, repr.plot.height = 12)\n",
    "\n",
    "p1 <- DimPlot(A, label = TRUE) + NoLegend() + xlab(\"UMAP 1\") + ylab(\"UMAP 2\")\n",
    "p2 <- FeaturePlot(A, c(\"Foxf1\", \"Bmp4\", \"Hoxb6\", \"Hand1\", \"Hand2\", \"Gata4\",\"Prrx1\"), min.cutoff = \"q1\")  \n",
    "\n",
    "p1 + p2"
   ]
  },
  {
   "cell_type": "code",
   "execution_count": null,
   "id": "1a38841e-b7e7-45db-bf13-7db214be04bb",
   "metadata": {},
   "outputs": [],
   "source": [
    "# Early limb bud mesenchyme\n",
    "options(repr.plot.width = 18, repr.plot.height = 12)\n",
    "\n",
    "p1 <- DimPlot(A, label = TRUE) + NoLegend() + xlab(\"UMAP 1\") + ylab(\"UMAP 2\")\n",
    "p2 <- FeaturePlot(A, c(\"Meis1\", \"Tbx4\", \"Tbx5\",'Pitx1'), min.cutoff = \"q1\")  \n",
    "\n",
    "p1 + p2"
   ]
  },
  {
   "cell_type": "code",
   "execution_count": null,
   "id": "874c1d7f-9c8a-4609-9c09-c7155c355c51",
   "metadata": {},
   "outputs": [],
   "source": [
    "# limb bud mesenchyme\n",
    "options(repr.plot.width = 18, repr.plot.height = 12)\n",
    "\n",
    "p1 <- DimPlot(A, label = TRUE) + NoLegend() + xlab(\"UMAP 1\") + ylab(\"UMAP 2\")\n",
    "p2 <- FeaturePlot(A, c(\"Prrx1\", \"Prrx2\", \"Fgf10\"), min.cutoff = \"q1\")  \n",
    "\n",
    "p1 + p2"
   ]
  },
  {
   "cell_type": "code",
   "execution_count": null,
   "id": "316664b0",
   "metadata": {},
   "outputs": [],
   "source": [
    "# Chondroprogenitors\n",
    "options(repr.plot.width = 18, repr.plot.height = 12)\n",
    "\n",
    "p1 <- DimPlot(A, label = TRUE) + NoLegend() + xlab(\"UMAP 1\") + ylab(\"UMAP 2\")\n",
    "p2 <- FeaturePlot(A, c(\"Prrx1\", \"Prrx2\", \"Sox9\"), min.cutoff = \"q1\")  \n",
    "\n",
    "p1 + p2"
   ]
  },
  {
   "cell_type": "code",
   "execution_count": null,
   "id": "8eee8281",
   "metadata": {},
   "outputs": [],
   "source": [
    "# Chondrocytes\n",
    "options(repr.plot.width = 18, repr.plot.height = 12)\n",
    "\n",
    "p1 <- DimPlot(A, label = TRUE) + NoLegend() + xlab(\"UMAP 1\") + ylab(\"UMAP 2\")\n",
    "p2 <- FeaturePlot(A, c(\"Prg4\",\"Sox9\",\"Pthlh\",\"Ihh\",\"Col10a1\"), min.cutoff = \"q1\")  \n",
    "\n",
    "p1 + p2"
   ]
  },
  {
   "cell_type": "code",
   "execution_count": null,
   "id": "932d537c",
   "metadata": {},
   "outputs": [],
   "source": [
    "# Osteoprogenitors\n",
    "options(repr.plot.width = 18, repr.plot.height = 12)\n",
    "\n",
    "p1 <- DimPlot(A, label = TRUE) + NoLegend() + xlab(\"UMAP 1\") + ylab(\"UMAP 2\")\n",
    "p2 <- FeaturePlot(A, c(\"Runx2\", \"Sp7\"), min.cutoff = \"q1\")  \n",
    "\n",
    "p1 + p2"
   ]
  },
  {
   "cell_type": "code",
   "execution_count": null,
   "id": "f405fe3c",
   "metadata": {},
   "outputs": [],
   "source": [
    "# Osteoblasts\n",
    "options(repr.plot.width = 18, repr.plot.height = 12)\n",
    "\n",
    "p1 <- DimPlot(A, label = TRUE) + NoLegend() + xlab(\"UMAP 1\") + ylab(\"UMAP 2\")\n",
    "p2 <- FeaturePlot(A, c(\"Col1a1\", \"Bglap\"), min.cutoff = \"q1\")  \n",
    "\n",
    "p1 + p2"
   ]
  },
  {
   "cell_type": "code",
   "execution_count": null,
   "id": "945138c4",
   "metadata": {},
   "outputs": [],
   "source": [
    "# Osteocytes\n",
    "options(repr.plot.width = 18, repr.plot.height = 12)\n",
    "\n",
    "p1 <- DimPlot(A, label = TRUE) + NoLegend() + xlab(\"UMAP 1\") + ylab(\"UMAP 2\")\n",
    "p2 <- FeaturePlot(A, c(\"Dmp1\"), min.cutoff = \"q1\")  \n",
    "\n",
    "p1 + p2"
   ]
  },
  {
   "cell_type": "code",
   "execution_count": null,
   "id": "7e331a88-ebd5-4e7d-93d5-e69ffb8dbbb0",
   "metadata": {},
   "outputs": [],
   "source": [
    "# Osteoclasts\n",
    "options(repr.plot.width = 18, repr.plot.height = 12)\n",
    "\n",
    "p1 <- DimPlot(A, label = TRUE) + NoLegend() + xlab(\"UMAP 1\") + ylab(\"UMAP 2\")\n",
    "p2 <- FeaturePlot(A, c(\"Csf1\", \"Ctsk\"), min.cutoff = \"q1\")  \n",
    "\n",
    "p1 + p2"
   ]
  },
  {
   "cell_type": "code",
   "execution_count": null,
   "id": "ad1063a2-279a-4046-bf56-7a11bfafbce1",
   "metadata": {},
   "outputs": [],
   "source": [
    "# Periosteal stem cells\n",
    "options(repr.plot.width = 18, repr.plot.height = 12)\n",
    "\n",
    "p1 <- DimPlot(A, label = TRUE) + NoLegend() + xlab(\"UMAP 1\") + ylab(\"UMAP 2\")\n",
    "p2 <- FeaturePlot(A, c(\"Pdpn\", \"Nt5e\", \"Cd164\"), min.cutoff = \"q1\")  \n",
    "\n",
    "p1 + p2"
   ]
  },
  {
   "cell_type": "code",
   "execution_count": null,
   "id": "471af22d-4257-449e-80a5-9e509c458b13",
   "metadata": {},
   "outputs": [],
   "source": [
    "# Periosteal progenitors\n",
    "options(repr.plot.width = 18, repr.plot.height = 12)\n",
    "\n",
    "p1 <- DimPlot(A, label = TRUE) + NoLegend() + xlab(\"UMAP 1\") + ylab(\"UMAP 2\")\n",
    "p2 <- FeaturePlot(A, c(\"Col5a2\", \"Twist2\", \"Tbx15\"), min.cutoff = \"q1\")  \n",
    "\n",
    "p1 + p2"
   ]
  },
  {
   "cell_type": "code",
   "execution_count": null,
   "id": "e4ddaea7-80b1-4131-935e-a4ff517c4409",
   "metadata": {},
   "outputs": [],
   "source": [
    "# Periosteum\n",
    "options(repr.plot.width = 18, repr.plot.height = 12)\n",
    "\n",
    "p1 <- DimPlot(A, label = TRUE) + NoLegend() + xlab(\"UMAP 1\") + ylab(\"UMAP 2\")\n",
    "p2 <- FeaturePlot(A, c(\"Postn\"), min.cutoff = \"q1\")  \n",
    "\n",
    "p1 + p2"
   ]
  },
  {
   "cell_type": "code",
   "execution_count": null,
   "id": "4daa2530-c93c-4c64-a196-e2fd24ffac41",
   "metadata": {},
   "outputs": [],
   "source": [
    "# Joint precursors: sox9-\n",
    "options(repr.plot.width = 18, repr.plot.height = 12)\n",
    "\n",
    "p1 <- DimPlot(A, label = TRUE) + NoLegend() + xlab(\"UMAP 1\") + ylab(\"UMAP 2\")\n",
    "p2 <- FeaturePlot(A, c(\"Gdf5\", \"Wnt9a\", \"Smoc2\", \"Dact2\",\"Sox9\"), min.cutoff = \"q1\")  \n",
    "\n",
    "p1 + p2"
   ]
  },
  {
   "cell_type": "code",
   "execution_count": null,
   "id": "ac1b26a6-3074-472a-b2bf-7c3386c392f8",
   "metadata": {},
   "outputs": [],
   "source": [
    "# Interzone cells: sox9-\n",
    "options(repr.plot.width = 18, repr.plot.height = 12)\n",
    "\n",
    "p1 <- DimPlot(A, label = TRUE) + NoLegend() + xlab(\"UMAP 1\") + ylab(\"UMAP 2\")\n",
    "p2 <- FeaturePlot(A, c(\"Smoc2\", \"Dact2\", \"Wnt4\", \"Wnt16\",\"Sox9\"), min.cutoff = \"q1\")  \n",
    "\n",
    "p1 + p2"
   ]
  },
  {
   "cell_type": "code",
   "execution_count": null,
   "id": "18cdf44d-c4d3-4628-9c7a-57d188e3dc76",
   "metadata": {},
   "outputs": [],
   "source": [
    "# Tenocyte precursors\n",
    "options(repr.plot.width = 18, repr.plot.height = 12)\n",
    "\n",
    "p1 <- DimPlot(A, label = TRUE) + NoLegend() + xlab(\"UMAP 1\") + ylab(\"UMAP 2\")\n",
    "p2 <- FeaturePlot(A, c(\"Tnmd\", \"Tppp3\", \"Scx\", \"Prrx1\", \"Prrx2\"), min.cutoff = \"q1\")  \n",
    "\n",
    "p1 + p2"
   ]
  },
  {
   "cell_type": "code",
   "execution_count": null,
   "id": "93b9e23f-52f8-4c51-b547-b136526d16a6",
   "metadata": {},
   "outputs": [],
   "source": [
    "# Tenocytes\n",
    "options(repr.plot.width = 18, repr.plot.height = 12)\n",
    "\n",
    "p1 <- DimPlot(A, label = TRUE) + NoLegend() + xlab(\"UMAP 1\") + ylab(\"UMAP 2\")\n",
    "p2 <- FeaturePlot(A, c(\"Scx\", \"Tnmd\"), min.cutoff = \"q1\")  \n",
    "\n",
    "p1 + p2"
   ]
  },
  {
   "cell_type": "code",
   "execution_count": null,
   "id": "21a92fbb-8653-436e-b6f2-83a656166092",
   "metadata": {},
   "outputs": [],
   "source": [
    "# Synovial fibroblasts: Hla-\n",
    "options(repr.plot.width = 18, repr.plot.height = 12)\n",
    "\n",
    "p1 <- DimPlot(A, label = TRUE) + NoLegend() + xlab(\"UMAP 1\") + ylab(\"UMAP 2\")\n",
    "p2 <- FeaturePlot(A, c(\"Dkk1\", \"Dra\",\"Hla\"), min.cutoff = \"q1\")  \n",
    "\n",
    "p1 + p2"
   ]
  },
  {
   "cell_type": "code",
   "execution_count": null,
   "id": "6b83e86b-7e98-4386-93f9-e2779602b48b",
   "metadata": {},
   "outputs": [],
   "source": [
    "# Dermomyotome\n",
    "options(repr.plot.width = 18, repr.plot.height = 12)\n",
    "\n",
    "p1 <- DimPlot(A, label = TRUE) + NoLegend() + xlab(\"UMAP 1\") + ylab(\"UMAP 2\")\n",
    "p2 <- FeaturePlot(A, c(\"Sim1\", \"Pax3\", \"Lef1\", \"Ism1\"), min.cutoff = \"q1\")  \n",
    "\n",
    "p1 + p2"
   ]
  },
  {
   "cell_type": "code",
   "execution_count": null,
   "id": "1901c54b-bb31-47bf-9ef8-7fe924230544",
   "metadata": {},
   "outputs": [],
   "source": [
    "# Skeletal muscle cells\n",
    "options(repr.plot.width = 18, repr.plot.height = 12)\n",
    "\n",
    "p1 <- DimPlot(A, label = TRUE, label.size = 20) + NoLegend() + xlab(\"UMAP 1\") + ylab(\"UMAP 2\")\n",
    "p2 <- FeaturePlot(A, c(\"Myhc\", \"Mrf4\",\"Myog\",'Tnnt1','Tnnt2','Tnnt3'), min.cutoff = \"q1\")  \n",
    "\n",
    "p1 + p2"
   ]
  },
  {
   "cell_type": "code",
   "execution_count": null,
   "id": "c87d14cd-cf24-42cb-b183-02b762b568d3",
   "metadata": {},
   "outputs": [],
   "source": [
    "# Smooth muscle cells\n",
    "options(repr.plot.width = 18, repr.plot.height = 12)\n",
    "\n",
    "p1 <- DimPlot(A, label = TRUE) + NoLegend() + xlab(\"UMAP 1\") + ylab(\"UMAP 2\")\n",
    "p2 <- FeaturePlot(A, c(\"Acta2\", \"Myl9\", \"Mylk\"), min.cutoff = \"q1\")  \n",
    "\n",
    "p1 + p2"
   ]
  },
  {
   "cell_type": "code",
   "execution_count": null,
   "id": "4899d3e8-580d-47e3-8a4c-9359bb3fb0fa",
   "metadata": {},
   "outputs": [],
   "source": [
    "# Myogenic stem cells\n",
    "options(repr.plot.width = 18, repr.plot.height = 12)\n",
    "\n",
    "p1 <- DimPlot(A, label = TRUE) + NoLegend() + xlab(\"UMAP 1\") + ylab(\"UMAP 2\")\n",
    "p2 <- FeaturePlot(A, c(\"Pax7\",\"Myf5\"), min.cutoff = \"q1\")  \n",
    "\n",
    "p1 + p2"
   ]
  },
  {
   "cell_type": "code",
   "execution_count": null,
   "id": "99f18e53-9311-430f-8d62-b93fa354330c",
   "metadata": {},
   "outputs": [],
   "source": [
    "# Muscle progenitors\n",
    "options(repr.plot.width = 18, repr.plot.height = 12)\n",
    "\n",
    "p1 <- DimPlot(A, label = TRUE) + NoLegend() + xlab(\"UMAP 1\") + ylab(\"UMAP 2\")\n",
    "p2 <- FeaturePlot(A, c(\"Pax7\", \"Notch\", \"Itm2a\", \"Myf5\", \"Pax3\", \"Myod\"), min.cutoff = \"q1\")  \n",
    "\n",
    "p1 + p2"
   ]
  },
  {
   "cell_type": "code",
   "execution_count": null,
   "id": "2d421e75-7d64-42ab-a380-512df00942fd",
   "metadata": {},
   "outputs": [],
   "source": [
    "# Cardiomyocytes\n",
    "options(repr.plot.width = 18, repr.plot.height = 12)\n",
    "\n",
    "p1 <- DimPlot(A, label = TRUE) + NoLegend() + xlab(\"UMAP 1\") + ylab(\"UMAP 2\")\n",
    "p2 <- FeaturePlot(A, c(\"Rbpms\", \"Baz2b\", \"Foxp1\", \"Pde5a\", \"Pde3a\"), min.cutoff = \"q1\")  \n",
    "\n",
    "p1 + p2"
   ]
  },
  {
   "cell_type": "code",
   "execution_count": null,
   "id": "09f53137-860c-42e8-8266-fde7065d0291",
   "metadata": {},
   "outputs": [],
   "source": [
    "# Adipocytes\n",
    "options(repr.plot.width = 18, repr.plot.height = 12)\n",
    "\n",
    "p1 <- DimPlot(A, label = TRUE) + NoLegend() + xlab(\"UMAP 1\") + ylab(\"UMAP 2\")\n",
    "p2 <- FeaturePlot(A, c(\"Pparg\", \"Adipoq\"), min.cutoff = \"q1\")  \n",
    "\n",
    "p1 + p2"
   ]
  },
  {
   "cell_type": "code",
   "execution_count": null,
   "id": "b7928b3a-f0af-41f4-bfd7-1dba2e45e9a2",
   "metadata": {},
   "outputs": [],
   "source": [
    "# Perichondrium\n",
    "options(repr.plot.width = 18, repr.plot.height = 12)\n",
    "\n",
    "p1 <- DimPlot(A, label = TRUE) + NoLegend() + xlab(\"UMAP 1\") + ylab(\"UMAP 2\")\n",
    "p2 <- FeaturePlot(A, c(\"Col5a2\", \"Twist2\", \"Tbx15\"), min.cutoff = \"q1\")  \n",
    "\n",
    "p1 + p2"
   ]
  },
  {
   "cell_type": "code",
   "execution_count": null,
   "id": "5af58cef-890b-4835-a6db-b4a0af908cb2",
   "metadata": {},
   "outputs": [],
   "source": [
    "# Pericytes\n",
    "options(repr.plot.width = 18, repr.plot.height = 12)\n",
    "\n",
    "p1 <- DimPlot(A, label = TRUE) + NoLegend() + xlab(\"UMAP 1\") + ylab(\"UMAP 2\")\n",
    "p2 <- FeaturePlot(A, c(\"Mcam\", \"Cspg4\", \"Pdgfrb\", \"Slpi\"), min.cutoff = \"q1\")  \n",
    "\n",
    "p1 + p2"
   ]
  },
  {
   "cell_type": "code",
   "execution_count": null,
   "id": "68aa3042-7971-4f51-88ff-7ecf9fe559a6",
   "metadata": {},
   "outputs": [],
   "source": [
    "# BMSC\n",
    "options(repr.plot.width = 18, repr.plot.height = 12)\n",
    "\n",
    "p1 <- DimPlot(A, label = TRUE) + NoLegend() + xlab(\"UMAP 1\") + ylab(\"UMAP 2\")\n",
    "p2 <- FeaturePlot(A, c(\"Eng\", \"Nt5e\", \"Thy1\", \"Mgp\",\"Htra1\"), min.cutoff = \"q1\")  \n",
    "\n",
    "p1 + p2"
   ]
  },
  {
   "cell_type": "code",
   "execution_count": null,
   "id": "da48d9a0-b76a-4c09-b1e0-25a21c96b33a",
   "metadata": {},
   "outputs": [],
   "source": [
    "# LepR+ BMSC\n",
    "options(repr.plot.width = 18, repr.plot.height = 12)\n",
    "\n",
    "p1 <- DimPlot(A, label = TRUE) + NoLegend() + xlab(\"UMAP 1\") + ylab(\"UMAP 2\")\n",
    "p2 <- FeaturePlot(A, c(\"Lepr\"), min.cutoff = \"q1\")  \n",
    "\n",
    "p1 + p2"
   ]
  },
  {
   "cell_type": "code",
   "execution_count": null,
   "id": "b91ab5fb-bed2-4e3e-a8fe-a2dddcb1af4d",
   "metadata": {},
   "outputs": [],
   "source": [
    "# Hematopoetic stem cells\n",
    "options(repr.plot.width = 18, repr.plot.height = 12)\n",
    "\n",
    "p1 <- DimPlot(A, label = TRUE) + NoLegend() + xlab(\"UMAP 1\") + ylab(\"UMAP 2\")\n",
    "p2 <- FeaturePlot(A, c(\"Cd38\", \"Thy1\", \"Kit\", \"Sca1\"), min.cutoff = \"q1\")  \n",
    "\n",
    "p1 + p2"
   ]
  },
  {
   "cell_type": "code",
   "execution_count": null,
   "id": "d1a60830-eead-4e4a-83d8-32a6046ad5c9",
   "metadata": {},
   "outputs": [],
   "source": [
    "# Erythroid cells\n",
    "options(repr.plot.width = 18, repr.plot.height = 12)\n",
    "\n",
    "p1 <- DimPlot(A, label = TRUE, label.size = 20) + NoLegend() + xlab(\"UMAP 1\") + ylab(\"UMAP 2\")\n",
    "p2 <- FeaturePlot(A, c(\"Gypa\",\"Car2\",\"\"), min.cutoff = \"q1\")  \n",
    "\n",
    "p1 + p2"
   ]
  },
  {
   "cell_type": "code",
   "execution_count": null,
   "id": "bc5d2000-3d40-46d4-8316-9956cb2f0e5a",
   "metadata": {},
   "outputs": [],
   "source": [
    "# Platelets\n",
    "options(repr.plot.width = 18, repr.plot.height = 12)\n",
    "\n",
    "p1 <- DimPlot(A, label = TRUE) + NoLegend() + xlab(\"UMAP 1\") + ylab(\"UMAP 2\")\n",
    "p2 <- FeaturePlot(A, c(\"F2rl2\", \"F5\"), min.cutoff = \"q1\")  \n",
    "\n",
    "p1 + p2"
   ]
  },
  {
   "cell_type": "code",
   "execution_count": null,
   "id": "515e15f8-ae07-4c96-93a5-61d10e544bbf",
   "metadata": {},
   "outputs": [],
   "source": [
    "# Megakaryocytes\n",
    "options(repr.plot.width = 18, repr.plot.height = 12)\n",
    "\n",
    "p1 <- DimPlot(A, label = TRUE) + NoLegend() + xlab(\"UMAP 1\") + ylab(\"UMAP 2\")\n",
    "p2 <- FeaturePlot(A, c(\"Vwf\", \"Pf4\", \"Gata1\", \"Selp\", \"Gp6\", \"Gp1ba\",\"Tmod1\"), min.cutoff = \"q1\")  \n",
    "\n",
    "p1 + p2"
   ]
  },
  {
   "cell_type": "code",
   "execution_count": null,
   "id": "513fdbf4-7947-42f9-9e10-4f90a012057e",
   "metadata": {},
   "outputs": [],
   "source": [
    "# Immune cells\n",
    "options(repr.plot.width = 18, repr.plot.height = 12)\n",
    "\n",
    "p1 <- DimPlot(A, label = TRUE) + NoLegend() + xlab(\"UMAP 1\") + ylab(\"UMAP 2\")\n",
    "p2 <- FeaturePlot(A, c(\"Cd3g\", \"Cd19\", \"Cd68\", \"Cxcr2\",\"Mrc1\",\"Flt3\",\"Lyz2\", \"Cd74\", \"Cd52\"), min.cutoff = \"q1\")  \n",
    "\n",
    "p1 + p2"
   ]
  },
  {
   "cell_type": "code",
   "execution_count": null,
   "id": "9aff9bf1-a957-45ba-800f-176a614e83f7",
   "metadata": {},
   "outputs": [],
   "source": [
    "# Fast proliferating cells\n",
    "options(repr.plot.width = 18, repr.plot.height = 12)\n",
    "\n",
    "p1 <- DimPlot(A, label = TRUE) + NoLegend() + xlab(\"UMAP 1\") + ylab(\"UMAP 2\")\n",
    "p2 <- FeaturePlot(A, c(\"Cdk1\",\"Cdc20\"), min.cutoff = \"q1\")  \n",
    "\n",
    "p1 + p2"
   ]
  },
  {
   "cell_type": "code",
   "execution_count": null,
   "id": "68741477-c7c1-4450-843d-24fa2d4cfcc8",
   "metadata": {},
   "outputs": [],
   "source": [
    "# Vascular endothelial cells\n",
    "options(repr.plot.width = 18, repr.plot.height = 12)\n",
    "\n",
    "p1 <- DimPlot(A, label = TRUE) + NoLegend() + xlab(\"UMAP 1\") + ylab(\"UMAP 2\")\n",
    "p2 <- FeaturePlot(A, c(\"Vcam1\", \"Cd34\", \"Cd93\", \"Cdh5\",\"Pecam1\"), min.cutoff = \"q1\")  \n",
    "\n",
    "p1 + p2"
   ]
  },
  {
   "cell_type": "code",
   "execution_count": null,
   "id": "e5cdc22a-eeb1-4c44-ad01-89929941eda1",
   "metadata": {},
   "outputs": [],
   "source": [
    "# Lymphatic endothelial cells\n",
    "options(repr.plot.width = 18, repr.plot.height = 12)\n",
    "\n",
    "p1 <- DimPlot(A, label = TRUE) + NoLegend() + xlab(\"UMAP 1\") + ylab(\"UMAP 2\")\n",
    "p2 <- FeaturePlot(A, c(\"Lyve1\", \"Flt4\", \"Prox1\"), min.cutoff = \"q1\")  \n",
    "\n",
    "p1 + p2"
   ]
  },
  {
   "cell_type": "code",
   "execution_count": null,
   "id": "7d4e29d1-5461-4773-bc3e-ff5bfabe48b5",
   "metadata": {},
   "outputs": [],
   "source": [
    "# Apical ectodermal ridge\n",
    "options(repr.plot.width = 18, repr.plot.height = 12)\n",
    "\n",
    "p1 <- DimPlot(A, label = TRUE) + NoLegend() + xlab(\"UMAP 1\") + ylab(\"UMAP 2\")\n",
    "p2 <- FeaturePlot(A, c(\"Fgf8\", \"Fgf4\"), min.cutoff = \"q1\")  \n",
    "\n",
    "p1 + p2"
   ]
  },
  {
   "cell_type": "code",
   "execution_count": null,
   "id": "49560640-7fe2-4703-aa3a-d977c45b426d",
   "metadata": {},
   "outputs": [],
   "source": [
    "# Ectoderm\n",
    "options(repr.plot.width = 18, repr.plot.height = 12)\n",
    "\n",
    "p1 <- DimPlot(A, label = TRUE) + NoLegend() + xlab(\"UMAP 1\") + ylab(\"UMAP 2\")\n",
    "p2 <- FeaturePlot(A, c(\"Wnt7a\", \"En1\", \"Nes\", \"Pax6\"), min.cutoff = \"q1\")  \n",
    "\n",
    "p1 + p2"
   ]
  },
  {
   "cell_type": "code",
   "execution_count": null,
   "id": "5aa04e06-0ebf-447b-965c-fa9dc50d6360",
   "metadata": {},
   "outputs": [],
   "source": [
    "# Neurons\n",
    "options(repr.plot.width = 18, repr.plot.height = 12)\n",
    "\n",
    "p1 <- DimPlot(A, label = TRUE) + NoLegend() + xlab(\"UMAP 1\") + ylab(\"UMAP 2\")\n",
    "p2 <- FeaturePlot(A, c(\"Nefl\", \"Mapt\",\"Sox10\", \"Foxd3\", \"Fabp7\", \"Sox2\"), min.cutoff = \"q1\")  \n",
    "\n",
    "p1 + p2"
   ]
  },
  {
   "cell_type": "code",
   "execution_count": null,
   "id": "712baecb-4243-4faf-a2c2-07993c92db37",
   "metadata": {},
   "outputs": [],
   "source": [
    "# Skin\n",
    "options(repr.plot.width = 18, repr.plot.height = 12)\n",
    "\n",
    "p1 <- DimPlot(A, label = TRUE) + NoLegend() + xlab(\"UMAP 1\") + ylab(\"UMAP 2\")\n",
    "p2 <- FeaturePlot(A, c(\"Krt5\", \"Krt10\",'Anxa3'), min.cutoff = \"q1\")  \n",
    "\n",
    "p1 + p2"
   ]
  },
  {
   "cell_type": "code",
   "execution_count": null,
   "id": "22fb87b9-c209-4730-a2bb-78c9ee57658d",
   "metadata": {},
   "outputs": [],
   "source": [
    "DimPlot(A, label = TRUE, label.size = 10) + xlab(\"UMAP 1\") + ylab(\"UMAP 2\")"
   ]
  },
  {
   "cell_type": "markdown",
   "id": "f558a08c-60d2-474c-bb62-01e0181f850a",
   "metadata": {
    "tags": []
   },
   "source": [
    "### 3.4. Differential expression analysis<a id=\"12\"></a>\n",
    "#### 3.4.1. Global annotation by differential expression analysis<a id=\"13\"></a>\n",
    "\n",
    "Seurat identifies markers that define clusters via differential expression. By default, it identifes positive and negative markers of a single cluster (specified in ident.1), compared to all other cells. `FindAllMarkers` automates this process for all clusters, but it is possible to test groups of clusters vs. each other, or against all cells.\n",
    "\n",
    "The `min.pct` argument requires a feature to be detected at a minimum percentage in either of the two groups of cells, and the `thresh.test` argument requires a feature to be differentially expressed (on average) by some amount between the two groups. You can set both of these to 0, but with a dramatic increase in time - since this will test a large number of features that are unlikely to be highly discriminatory. As another option to speed up these computations, `max.cells.per.ident` can be set. This will downsample each identity class to have no more cells than whatever this is set to. While there is generally going to be a loss in power, the speed increases can be significiant and the most highly differentially expressed features will likely still rise to the top."
   ]
  },
  {
   "cell_type": "code",
   "execution_count": null,
   "id": "65ff73a6-1ee8-4a79-a66e-8726e996689f",
   "metadata": {
    "tags": []
   },
   "outputs": [],
   "source": [
    "# Seurat default settings\n",
    "A.markers <- FindAllMarkers(A, only.pos = TRUE, min.pct = 0.25, logfc.threshold = 0.25)"
   ]
  },
  {
   "cell_type": "code",
   "execution_count": null,
   "id": "adb1d61f-11d8-43d7-b9ae-5e332f9b62ce",
   "metadata": {},
   "outputs": [],
   "source": [
    "#select only cluster 0 and order avg_log2FC from big to small\n",
    "\n",
    "A.markers[A.markers$cluster == 2,] %>%\n",
    "slice_max(n = 50, order_by = avg_log2FC)"
   ]
  },
  {
   "cell_type": "code",
   "execution_count": null,
   "id": "9cde1d3f-2348-4b6d-a1d8-c8dcc1768c55",
   "metadata": {},
   "outputs": [],
   "source": [
    "#dir.create(\"./6-kmita/analysis\")\n",
    "write.csv(A.markers, file = \"A.markers_e12.5.csv\", quote = FALSE)"
   ]
  },
  {
   "cell_type": "markdown",
   "id": "072fb790-b292-4842-ac3e-78fe274d823b",
   "metadata": {},
   "source": [
    "**Adding cell types**"
   ]
  },
  {
   "cell_type": "code",
   "execution_count": null,
   "id": "6f6e04ac-3c55-4287-94f9-5c680af233f6",
   "metadata": {},
   "outputs": [],
   "source": [
    "A@meta.data$CellType <- NULL"
   ]
  },
  {
   "cell_type": "code",
   "execution_count": null,
   "id": "8ed21638-7e73-4fc4-8fb9-5c5d0933ff8c",
   "metadata": {},
   "outputs": [],
   "source": [
    "#creating column that contains cell type \n",
    "A@meta.data$CellType <- Idents(A)"
   ]
  },
  {
   "cell_type": "code",
   "execution_count": null,
   "id": "e049d19d-769f-4b20-bad5-5a8ed41fc9b8",
   "metadata": {},
   "outputs": [],
   "source": [
    "A@meta.data$CellType <- as.character(A@meta.data$CellType)\n",
    "\n",
    "A@meta.data$CellType[A@meta.data$CellType == '0'] <- 'Chondrocytes'\n",
    "A@meta.data$CellType[A@meta.data$CellType == '1'] <- 'Smooth muscle cells'\n",
    "A@meta.data$CellType[A@meta.data$CellType == '2'] <- 'Keratinocyte'\n",
    "A@meta.data$CellType[A@meta.data$CellType == '3'] <- 'Muscle progenitors'\n",
    "A@meta.data$CellType[A@meta.data$CellType == '4'] <- 'Periosteal progenitors'\n",
    "A@meta.data$CellType[A@meta.data$CellType == '5'] <- 'Muscle progenitors'\n",
    "A@meta.data$CellType[A@meta.data$CellType == '6'] <- 'Skeletal muscle cells'\n",
    "A@meta.data$CellType[A@meta.data$CellType == '7'] <- 'Periosteum'\n",
    "A@meta.data$CellType[A@meta.data$CellType == '8'] <- 'Immune cells'\n",
    "A@meta.data$CellType[A@meta.data$CellType == '9'] <- 'Periosteal progenitors'\n",
    "A@meta.data$CellType[A@meta.data$CellType == '10'] <- 'Smooth muscle cells'\n",
    "A@meta.data$CellType[A@meta.data$CellType == '11'] <- 'Immune cells'\n",
    "A@meta.data$CellType[A@meta.data$CellType == '12'] <- 'Erythroid cells'\n",
    "A@meta.data$CellType[A@meta.data$CellType == '13'] <- 'Tenocytes'\n",
    "A@meta.data$CellType[A@meta.data$CellType == '14'] <- 'Endothelium'\n",
    "A@meta.data$CellType[A@meta.data$CellType == '15'] <- 'Chondrocytes'\n",
    "A@meta.data$CellType[A@meta.data$CellType == '16'] <- 'Neurons'\n",
    "A@meta.data$CellType[A@meta.data$CellType == '17'] <- 'Chondrocytes'\n",
    "\n",
    "A@meta.data$CellType <- as.factor(A@meta.data$CellType)"
   ]
  },
  {
   "cell_type": "code",
   "execution_count": null,
   "id": "a397fc9e-5d17-41ba-9da0-fbb9c4436454",
   "metadata": {},
   "outputs": [],
   "source": [
    "options(repr.plot.width = 10, repr.plot.height = 8)\n",
    "\n",
    "DimPlot(A, reduction = \"umap\", label = TRUE, group.by = \"CellType\") + xlab(\"UMAP 1\") + ylab(\"UMAP 2\")"
   ]
  },
  {
   "cell_type": "code",
   "execution_count": null,
   "id": "30b9703c-cfbc-4070-af46-74114b2702c2",
   "metadata": {},
   "outputs": [],
   "source": [
    "Idents(A)<-A@meta.data$CellType"
   ]
  },
  {
   "cell_type": "code",
   "execution_count": null,
   "id": "b80340a7-433a-463b-8935-5032ffb6bb5b",
   "metadata": {},
   "outputs": [],
   "source": [
    "#saveRDS(E10_5, file = \"/home/host_home/usb-drive/Thesis/Kmita/6-kmita/RDataSessions/E10_5_GlobalAnnotation_SeuratObject.Rds\")"
   ]
  },
  {
   "cell_type": "markdown",
   "id": "0f4497b0-ce67-40d4-ad32-341a6c591fdd",
   "metadata": {
    "tags": []
   },
   "source": [
    "#### 3.4.2. Refinement of global annotations<a id=\"13.2\"></a>\n",
    "##### 3.4.2.1. Subsetting mesenchymal clusters<a id=\"14\"></a>"
   ]
  },
  {
   "cell_type": "code",
   "execution_count": null,
   "id": "6ef9ce35-0bb8-45fb-a3f5-6afd1858cd17",
   "metadata": {},
   "outputs": [],
   "source": [
    "A_chondrocytes <- subset(A, idents = c(\"Chondrocytes\"))"
   ]
  },
  {
   "cell_type": "code",
   "execution_count": null,
   "id": "022dc2b2-0d54-42b4-b88a-4936330132e6",
   "metadata": {},
   "outputs": [],
   "source": [
    "A_chondrocytes"
   ]
  },
  {
   "cell_type": "code",
   "execution_count": null,
   "id": "b7805808-5461-4a9e-b42c-0108772d05ca",
   "metadata": {},
   "outputs": [],
   "source": [
    "A_chondrocytes <- ScaleData(A_chondrocytes)"
   ]
  },
  {
   "cell_type": "code",
   "execution_count": null,
   "id": "f3f69328-438b-4cf9-bf93-057a518741d4",
   "metadata": {},
   "outputs": [],
   "source": [
    "A_chondrocytes <- RunPCA(A_chondrocytes, features = VariableFeatures(object = A_chondrocytes), verbose = FALSE)"
   ]
  },
  {
   "cell_type": "code",
   "execution_count": null,
   "id": "1b2ab3b4-ce08-4b5a-a277-070d680625ca",
   "metadata": {},
   "outputs": [],
   "source": [
    "ElbowPlot(A_chondrocytes, 50)"
   ]
  },
  {
   "cell_type": "code",
   "execution_count": null,
   "id": "7935363a-257d-42fa-b9dc-4fd934ec7aa2",
   "metadata": {
    "scrolled": true
   },
   "outputs": [],
   "source": [
    "A_chondrocytes <- FindNeighbors(A_chondrocytes, dims = 1:20, verbose = FALSE)\n",
    "A_chondrocytes <- FindClusters(A_chondrocytes, resolution = 1.5, verbose = FALSE)"
   ]
  },
  {
   "cell_type": "code",
   "execution_count": null,
   "id": "d168ea76-6d00-46a1-ab8a-12ef0e1aad53",
   "metadata": {
    "scrolled": true
   },
   "outputs": [],
   "source": [
    "A_chondrocytes <- RunUMAP(A_chondrocytes, dims = 1:20, n.neighbors = 12, verbose = FALSE)"
   ]
  },
  {
   "cell_type": "code",
   "execution_count": null,
   "id": "def36dc4-081e-4e2b-aa4f-98eac2358355",
   "metadata": {
    "tags": []
   },
   "outputs": [],
   "source": [
    "options(repr.plot.width = 10, repr.plot.height = 8)\n",
    "DimPlot(A_chondrocytes, reduction = \"umap\", label=TRUE) + xlab(\"UMAP 1\") + ylab(\"UMAP 2\")\n",
    "\n",
    "#ggsave(\"./6-kmita/images/E10_5_m_no_annotation.png\" ,width=10, height=8)"
   ]
  },
  {
   "cell_type": "code",
   "execution_count": null,
   "id": "12d3e42d-c29d-40b2-ad5c-6d37d22bc806",
   "metadata": {
    "tags": []
   },
   "outputs": [],
   "source": [
    "A_chondrocytes_markers <- FindAllMarkers(A_chondrocytes)"
   ]
  },
  {
   "cell_type": "code",
   "execution_count": null,
   "id": "d9436af9-540a-4983-8b8e-374cd511787c",
   "metadata": {},
   "outputs": [],
   "source": [
    "#select only cluster 0 and order avg_log2FC from big to small\n",
    "\n",
    "A_chondrocytes_markers[A_chondrocytes_markers$cluster == 4,] %>%\n",
    "slice_max(n = 15, order_by = avg_log2FC)"
   ]
  },
  {
   "cell_type": "code",
   "execution_count": null,
   "id": "6640d888-b972-4063-9cff-47db6d95af6b",
   "metadata": {},
   "outputs": [],
   "source": [
    "write.csv(A_chondrocytes_markers, file = \"A_chondrocytes.markers_e12.5.csv\", quote = FALSE)"
   ]
  },
  {
   "cell_type": "code",
   "execution_count": null,
   "id": "90111835-b7b4-489d-b9e7-a656fdb03276",
   "metadata": {},
   "outputs": [],
   "source": [
    "options(repr.plot.width = 18, repr.plot.height = 12)\n",
    "\n",
    "p1 <- DimPlot(A_chondrocytes, label = TRUE) + NoLegend() + xlab(\"UMAP 1\") + ylab(\"UMAP 2\")\n",
    "p2 <- FeaturePlot(A_chondrocytes, c(\"Prrx1\", \"Sox9\",\"Prrx2\",\"Col2a1\"), min.cutoff = \"q1\")  \n",
    "\n",
    "p1 + p2"
   ]
  },
  {
   "cell_type": "code",
   "execution_count": null,
   "id": "232735ae-f083-4179-a54c-15f6242d3311",
   "metadata": {},
   "outputs": [],
   "source": [
    "options(repr.plot.width = 18, repr.plot.height = 12)\n",
    "\n",
    "p1 <- DimPlot(A_chondrocytes, label = TRUE) + NoLegend() + xlab(\"UMAP 1\") + ylab(\"UMAP 2\")\n",
    "p2 <- FeaturePlot(A_chondrocytes, c(\"Hoxa9\", \"Hoxd9\",\"Hoxa11\",\"Hoxd11\",\"Hoxa13\",\"Hoxd13\"), min.cutoff = \"q1\")  \n",
    "\n",
    "p1 + p2"
   ]
  },
  {
   "cell_type": "code",
   "execution_count": null,
   "id": "3b55e71c-55a5-4a89-bfb5-93ce73ede653",
   "metadata": {},
   "outputs": [],
   "source": [
    "# Articular chondrocytes\n",
    "options(repr.plot.width = 18, repr.plot.height = 12)\n",
    "\n",
    "p1 <- DimPlot(A_chondrocytes, label = TRUE) + NoLegend() + xlab(\"UMAP 1\") + ylab(\"UMAP 2\")\n",
    "p2 <- FeaturePlot(A_chondrocytes, c(\"Prg4\", \"Sox9\"), min.cutoff = \"q1\")  \n",
    "\n",
    "p1 + p2"
   ]
  },
  {
   "cell_type": "code",
   "execution_count": null,
   "id": "13cdca37-20fb-4ae7-bc51-04bd07553685",
   "metadata": {},
   "outputs": [],
   "source": [
    "# Chondroprogenitors\n",
    "options(repr.plot.width = 18, repr.plot.height = 12)\n",
    "\n",
    "p1 <- DimPlot(A_chondrocytes, label = TRUE) + NoLegend() + xlab(\"UMAP 1\") + ylab(\"UMAP 2\")\n",
    "p2 <- FeaturePlot(A_chondrocytes, c(\"Prrx1\", \"Prrx2\", \"Sox9\"), min.cutoff = \"q1\")  \n",
    "\n",
    "p1 + p2"
   ]
  },
  {
   "cell_type": "code",
   "execution_count": null,
   "id": "3a330bbd-0760-4e81-9449-6074acc0f992",
   "metadata": {},
   "outputs": [],
   "source": [
    "# Tenocyte precursors\n",
    "options(repr.plot.width = 18, repr.plot.height = 12)\n",
    "\n",
    "p1 <- DimPlot(A_chondrocytes, label = TRUE) + NoLegend() + xlab(\"UMAP 1\") + ylab(\"UMAP 2\")\n",
    "p2 <- FeaturePlot(A_chondrocytes, c(\"Tnmd\", \"Tppp3\", \"Scx\", \"Prrx1\", \"Prrx2\"), min.cutoff = \"q1\")  \n",
    "\n",
    "p1 + p2"
   ]
  },
  {
   "cell_type": "code",
   "execution_count": null,
   "id": "207272c9",
   "metadata": {},
   "outputs": [],
   "source": [
    "# Resting zone chondrocytes\n",
    "options(repr.plot.width = 18, repr.plot.height = 12)\n",
    "\n",
    "p1 <- DimPlot(A_chondrocytes, label = TRUE) + NoLegend() + xlab(\"UMAP 1\") + ylab(\"UMAP 2\")\n",
    "p2 <- FeaturePlot(A_chondrocytes, c(\"Fgfr3\", \"Pcp4\", \"Pthlh\", \"Sfrp5\", \"Spon1\",\"Ptch1\"), min.cutoff = \"q1\")  \n",
    "\n",
    "p1 + p2"
   ]
  },
  {
   "cell_type": "code",
   "execution_count": null,
   "id": "f6ea1921",
   "metadata": {},
   "outputs": [],
   "source": [
    "# Proliferative chondrocytes\n",
    "options(repr.plot.width = 18, repr.plot.height = 12)\n",
    "\n",
    "p1 <- DimPlot(A_chondrocytes, label = TRUE, label.size = 25) + NoLegend() + xlab(\"UMAP 1\") + ylab(\"UMAP 2\")\n",
    "p2 <- FeaturePlot(A_chondrocytes, c(\"Sox9\", \"Mki67\", \"Top2a\", \"Pth1r\"), min.cutoff = \"q1\")  \n",
    "\n",
    "p1 + p2"
   ]
  },
  {
   "cell_type": "code",
   "execution_count": null,
   "id": "0d1ce110",
   "metadata": {},
   "outputs": [],
   "source": [
    "# Pre-hypertrophic chondrocytes\n",
    "options(repr.plot.width = 18, repr.plot.height = 12)\n",
    "\n",
    "p1 <- DimPlot(A_chondrocytes, label = TRUE) + NoLegend() + xlab(\"UMAP 1\") + ylab(\"UMAP 2\")\n",
    "p2 <- FeaturePlot(A_chondrocytes, c(\"Ihh\"), min.cutoff = \"q1\")  \n",
    "\n",
    "p1 + p2"
   ]
  },
  {
   "cell_type": "code",
   "execution_count": null,
   "id": "e77ebdce",
   "metadata": {},
   "outputs": [],
   "source": [
    "# hypertrophic chondrocytes\n",
    "options(repr.plot.width = 18, repr.plot.height = 12)\n",
    "\n",
    "p1 <- DimPlot(A_chondrocytes, label = TRUE) + NoLegend() + xlab(\"UMAP 1\") + ylab(\"UMAP 2\")\n",
    "p2 <- FeaturePlot(A_chondrocytes, c(\"Col10a1\"), min.cutoff = \"q1\")  \n",
    "\n",
    "p1 + p2"
   ]
  },
  {
   "cell_type": "code",
   "execution_count": null,
   "id": "87ae41bd-afc3-43d8-b9ab-0087ee603b82",
   "metadata": {},
   "outputs": [],
   "source": [
    "# SSPC\n",
    "options(repr.plot.width = 18, repr.plot.height = 12)\n",
    "\n",
    "p1 <- DimPlot(A_chondrocytes, label = TRUE) + NoLegend() + xlab(\"UMAP 1\") + ylab(\"UMAP 2\")\n",
    "p2 <- FeaturePlot(A_chondrocytes, c(\"Lepr\",\"Pdgfrb\",'Prrx1',\"Eng\", \"Nt5e\", \"Thy1\",\"Cxcl12\",\"Sp7\",\"Adipoq\"), min.cutoff = \"q1\") \n",
    "\n",
    "p1 + p2"
   ]
  },
  {
   "cell_type": "code",
   "execution_count": null,
   "id": "c1e95b3f-ab9a-4423-8267-d3e4e0f6bb2d",
   "metadata": {},
   "outputs": [],
   "source": [
    "# Tenocyte precursors\n",
    "options(repr.plot.width = 18, repr.plot.height = 12)\n",
    "\n",
    "p1 <- DimPlot(A_chondrocytes, label = TRUE) + NoLegend() + xlab(\"UMAP 1\") + ylab(\"UMAP 2\")\n",
    "p2 <- FeaturePlot(A_chondrocytes, c(\"Tnmd\", \"Tppp3\", \"Scx\", \"Prrx1\", \"Prrx2\"), min.cutoff = \"q1\")  \n",
    "\n",
    "p1 + p2"
   ]
  },
  {
   "cell_type": "code",
   "execution_count": null,
   "id": "092e65b2-e592-4af7-8a64-0c1364a0b172",
   "metadata": {
    "tags": []
   },
   "outputs": [],
   "source": [
    "# Tenocyte precursors\n",
    "options(repr.plot.width = 18, repr.plot.height = 12)\n",
    "\n",
    "p1 <- DimPlot(A_chondrocytes, label = TRUE) + NoLegend() + xlab(\"UMAP 1\") + ylab(\"UMAP 2\")\n",
    "p2 <- FeaturePlot(A_chondrocytes, c(\"Gdf5\", \"Wnt9a\", \"Smoc2\", \"Dact2\",\"Sox9\"), min.cutoff = \"q1\")  \n",
    "\n",
    "p1 + p2"
   ]
  },
  {
   "cell_type": "code",
   "execution_count": null,
   "id": "a64f7ad3-747b-4d57-8c25-b7cd4a364b8d",
   "metadata": {},
   "outputs": [],
   "source": [
    "A_chondrocytes@meta.data$CellType_d <- Idents(A_chondrocytes)"
   ]
  },
  {
   "cell_type": "code",
   "execution_count": null,
   "id": "acf90ab3-f092-4283-8c73-dc5a50cdb952",
   "metadata": {},
   "outputs": [],
   "source": [
    "A_chondrocytes@meta.data$CellType_d <- as.character(A_chondrocytes@meta.data$CellType_d)\n",
    "\n",
    "A_chondrocytes@meta.data$CellType_d[A_chondrocytes@meta.data$CellType_d == '0'] <- 'Chondrocytes'\n",
    "A_chondrocytes@meta.data$CellType_d[A_chondrocytes@meta.data$CellType_d == '1'] <- 'Chondrocytes'\n",
    "A_chondrocytes@meta.data$CellType_d[A_chondrocytes@meta.data$CellType_d == '2'] <- 'Chondrocyte progenitors'\n",
    "A_chondrocytes@meta.data$CellType_d[A_chondrocytes@meta.data$CellType_d == '3'] <- 'Chondrocytes'\n",
    "A_chondrocytes@meta.data$CellType_d[A_chondrocytes@meta.data$CellType_d == '4'] <- 'Chondrocytes'\n",
    "A_chondrocytes@meta.data$CellType_d[A_chondrocytes@meta.data$CellType_d == '5'] <- 'Proliferative chondrocytes'\n",
    "A_chondrocytes@meta.data$CellType_d[A_chondrocytes@meta.data$CellType_d == '6'] <- 'Hypertrophic chondrocytes'\n",
    "A_chondrocytes@meta.data$CellType_d[A_chondrocytes@meta.data$CellType_d == '7'] <- 'Articular chondrocytes'\n",
    "\n",
    "A_chondrocytes@meta.data$CellType_d <- as.factor(A_chondrocytes@meta.data$CellType_d)"
   ]
  },
  {
   "cell_type": "code",
   "execution_count": null,
   "id": "c20a2a7b-3f23-4b81-9f04-6f88b5f05166",
   "metadata": {},
   "outputs": [],
   "source": [
    "Idents(A_chondrocytes) <- A_chondrocytes@meta.data$CellType_d"
   ]
  },
  {
   "cell_type": "code",
   "execution_count": null,
   "id": "58d045d9-21ee-446d-a228-ec9540d575ce",
   "metadata": {},
   "outputs": [],
   "source": [
    "options(repr.plot.width = 12, repr.plot.height = 12)\n",
    "DimPlot(A_chondrocytes, label = TRUE, group.by=\"CellType_d\") + NoLegend() + xlab(\"UMAP 1\") + ylab(\"UMAP 2\")"
   ]
  },
  {
   "cell_type": "markdown",
   "id": "99db3d32-701b-4bcc-9141-464a14ee21ea",
   "metadata": {
    "jp-MarkdownHeadingCollapsed": true,
    "tags": []
   },
   "source": [
    "##### 3.4.2.1. Subsetting subset"
   ]
  },
  {
   "cell_type": "code",
   "execution_count": null,
   "id": "89bb4267-0913-4f0f-b67b-8624c583dd37",
   "metadata": {},
   "outputs": [],
   "source": [
    "A_subset <- subset(A_chondrocytes, idents = c(\"Subset\"))"
   ]
  },
  {
   "cell_type": "code",
   "execution_count": null,
   "id": "ba992fe4-5350-4d84-8ed4-3203d2ddd9da",
   "metadata": {},
   "outputs": [],
   "source": [
    "A_subset"
   ]
  },
  {
   "cell_type": "code",
   "execution_count": null,
   "id": "246c8cac-d246-4326-860f-34174590b330",
   "metadata": {},
   "outputs": [],
   "source": [
    "A_subset <- ScaleData(A_subset)"
   ]
  },
  {
   "cell_type": "code",
   "execution_count": null,
   "id": "d623b41a-c14e-4bea-b801-ac5f36913821",
   "metadata": {},
   "outputs": [],
   "source": [
    "A_subset <- RunPCA(A_subset, features = VariableFeatures(object = A_subset), verbose = FALSE)"
   ]
  },
  {
   "cell_type": "code",
   "execution_count": null,
   "id": "2924a302-1148-411a-995a-61ae1f1d8259",
   "metadata": {},
   "outputs": [],
   "source": [
    "ElbowPlot(A_subset, 50)"
   ]
  },
  {
   "cell_type": "code",
   "execution_count": null,
   "id": "ea25ab9c-3ae0-4ca7-99a9-97d28f5506b2",
   "metadata": {
    "scrolled": true
   },
   "outputs": [],
   "source": [
    "A_subset <- FindNeighbors(A_subset, dims = 1:18, verbose = FALSE)\n",
    "A_subset <- FindClusters(A_subset, resolution = 1.5, verbose = FALSE)"
   ]
  },
  {
   "cell_type": "code",
   "execution_count": null,
   "id": "8666d4a4-e60f-4475-a101-39bc0e58367d",
   "metadata": {
    "scrolled": true
   },
   "outputs": [],
   "source": [
    "A_chondrocytes <- RunUMAP(A_subset, dims = 1:18, n.neighbors = 12, verbose = FALSE)"
   ]
  },
  {
   "cell_type": "code",
   "execution_count": null,
   "id": "f32eda6b-bc68-4ffc-a864-cff71787d53c",
   "metadata": {},
   "outputs": [],
   "source": [
    "options(repr.plot.width = 10, repr.plot.height = 8)\n",
    "DimPlot(A_subset, reduction = \"umap\", label=TRUE) + xlab(\"UMAP 1\") + ylab(\"UMAP 2\")\n",
    "\n",
    "#ggsave(\"./6-kmita/images/E10_5_m_no_annotation.png\" ,width=10, height=8)"
   ]
  },
  {
   "cell_type": "code",
   "execution_count": null,
   "id": "ddf84615-7ea2-430f-882c-aa1d66efffb3",
   "metadata": {
    "tags": []
   },
   "outputs": [],
   "source": [
    "A_chondrocytes_markers <- FindAllMarkers(A_chondrocytes)"
   ]
  },
  {
   "cell_type": "code",
   "execution_count": null,
   "id": "7d3c51b3-8b8c-4974-b8ac-646a22b16013",
   "metadata": {},
   "outputs": [],
   "source": [
    "#select only cluster 0 and order avg_log2FC from big to small\n",
    "\n",
    "A_chondrocytes_markers[A_chondrocytes_markers$cluster == 4,] %>%\n",
    "slice_max(n = 15, order_by = avg_log2FC)"
   ]
  },
  {
   "cell_type": "code",
   "execution_count": null,
   "id": "8eeb6fc5-15be-4ed2-b65f-26e5e5609416",
   "metadata": {},
   "outputs": [],
   "source": [
    "write.csv(A_chondrocytes_markers, file = \"A_chondrocytes.markers_e12.5.csv\", quote = FALSE)"
   ]
  },
  {
   "cell_type": "code",
   "execution_count": null,
   "id": "79a2e6d4-a131-4651-9f4f-929ae8dc28a5",
   "metadata": {},
   "outputs": [],
   "source": [
    "options(repr.plot.width = 18, repr.plot.height = 12)\n",
    "\n",
    "p1 <- DimPlot(A_subset, label = TRUE) + NoLegend() + xlab(\"UMAP 1\") + ylab(\"UMAP 2\")\n",
    "p2 <- FeaturePlot(A_subset, c(\"Prrx1\", \"Sox9\",\"Prrx2\",\"Col2a1\"), min.cutoff = \"q1\")  \n",
    "\n",
    "p1 + p2"
   ]
  },
  {
   "cell_type": "code",
   "execution_count": null,
   "id": "f0d53d30-77d1-469f-a0b2-146212d66eb8",
   "metadata": {},
   "outputs": [],
   "source": [
    "options(repr.plot.width = 18, repr.plot.height = 12)\n",
    "\n",
    "p1 <- DimPlot(A_subset, label = TRUE) + NoLegend() + xlab(\"UMAP 1\") + ylab(\"UMAP 2\")\n",
    "p2 <- FeaturePlot(A_subset, c(\"Hoxa9\", \"Hoxd9\",\"Hoxa11\",\"Hoxd11\",\"Hoxa13\",\"Hoxd13\"), min.cutoff = \"q1\")  \n",
    "\n",
    "p1 + p2"
   ]
  },
  {
   "cell_type": "code",
   "execution_count": null,
   "id": "28f5de87-fcae-449e-96ac-0dcec1d8fd96",
   "metadata": {},
   "outputs": [],
   "source": [
    "# Articular chondrocytes\n",
    "options(repr.plot.width = 18, repr.plot.height = 12)\n",
    "\n",
    "p1 <- DimPlot(A_subset, label = TRUE) + NoLegend() + xlab(\"UMAP 1\") + ylab(\"UMAP 2\")\n",
    "p2 <- FeaturePlot(A_subset, c(\"Prg4\", \"Sox9\"), min.cutoff = \"q1\")  \n",
    "\n",
    "p1 + p2"
   ]
  },
  {
   "cell_type": "code",
   "execution_count": null,
   "id": "9d193dcd-13cf-4c11-a5bd-8c73549b6d25",
   "metadata": {},
   "outputs": [],
   "source": [
    "# Chondroprogenitors\n",
    "options(repr.plot.width = 18, repr.plot.height = 12)\n",
    "\n",
    "p1 <- DimPlot(A_subset, label = TRUE) + NoLegend() + xlab(\"UMAP 1\") + ylab(\"UMAP 2\")\n",
    "p2 <- FeaturePlot(A_subset, c(\"Prrx1\", \"Prrx2\", \"Sox9\"), min.cutoff = \"q1\")  \n",
    "\n",
    "p1 + p2"
   ]
  },
  {
   "cell_type": "code",
   "execution_count": null,
   "id": "02672b63-3191-42da-bbda-6dc26542982a",
   "metadata": {},
   "outputs": [],
   "source": [
    "# Tenocyte precursors\n",
    "options(repr.plot.width = 18, repr.plot.height = 12)\n",
    "\n",
    "p1 <- DimPlot(A_subset, label = TRUE) + NoLegend() + xlab(\"UMAP 1\") + ylab(\"UMAP 2\")\n",
    "p2 <- FeaturePlot(A_subset, c(\"Tnmd\", \"Tppp3\", \"Scx\", \"Prrx1\", \"Prrx2\"), min.cutoff = \"q1\")  \n",
    "\n",
    "p1 + p2"
   ]
  },
  {
   "cell_type": "code",
   "execution_count": null,
   "id": "70421ec5-bfdf-4693-bd9d-cf1c5adc843d",
   "metadata": {},
   "outputs": [],
   "source": [
    "# Resting zone chondrocytes\n",
    "options(repr.plot.width = 18, repr.plot.height = 12)\n",
    "\n",
    "p1 <- DimPlot(A_subset, label = TRUE) + NoLegend() + xlab(\"UMAP 1\") + ylab(\"UMAP 2\")\n",
    "p2 <- FeaturePlot(A_subset, c(\"Fgfr3\", \"Pcp4\", \"Pthlh\", \"Sfrp5\", \"Spon1\",\"Ptch1\"), min.cutoff = \"q1\")  \n",
    "\n",
    "p1 + p2"
   ]
  },
  {
   "cell_type": "code",
   "execution_count": null,
   "id": "d81424ae-0b42-4c91-96b6-eb38f1423244",
   "metadata": {},
   "outputs": [],
   "source": [
    "# Proliferative chondrocytes\n",
    "options(repr.plot.width = 18, repr.plot.height = 12)\n",
    "\n",
    "p1 <- DimPlot(A_subset, label = TRUE) + NoLegend() + xlab(\"UMAP 1\") + ylab(\"UMAP 2\")\n",
    "p2 <- FeaturePlot(A_subset, c(\"Sox9\", \"Mki67\", \"Top2a\", \"Pth1r\"), min.cutoff = \"q1\")  \n",
    "\n",
    "p1 + p2"
   ]
  },
  {
   "cell_type": "code",
   "execution_count": null,
   "id": "450c62cb-4827-4f81-b214-81ba8f4bb440",
   "metadata": {},
   "outputs": [],
   "source": [
    "# Pre-hypertrophic chondrocytes\n",
    "options(repr.plot.width = 18, repr.plot.height = 12)\n",
    "\n",
    "p1 <- DimPlot(A_subset, label = TRUE) + NoLegend() + xlab(\"UMAP 1\") + ylab(\"UMAP 2\")\n",
    "p2 <- FeaturePlot(A_subset, c(\"Ihh\"), min.cutoff = \"q1\")  \n",
    "\n",
    "p1 + p2"
   ]
  },
  {
   "cell_type": "code",
   "execution_count": null,
   "id": "384b452e-df77-4774-a789-01528c9796f7",
   "metadata": {},
   "outputs": [],
   "source": [
    "# hypertrophic chondrocytes\n",
    "options(repr.plot.width = 18, repr.plot.height = 12)\n",
    "\n",
    "p1 <- DimPlot(A_subset, label = TRUE) + NoLegend() + xlab(\"UMAP 1\") + ylab(\"UMAP 2\")\n",
    "p2 <- FeaturePlot(A_subset, c(\"Col10a1\"), min.cutoff = \"q1\")  \n",
    "\n",
    "p1 + p2"
   ]
  },
  {
   "cell_type": "code",
   "execution_count": null,
   "id": "da5a4aa7-6f70-43f5-95fb-e831f38a71e8",
   "metadata": {},
   "outputs": [],
   "source": [
    "# SSPC\n",
    "options(repr.plot.width = 18, repr.plot.height = 12)\n",
    "\n",
    "p1 <- DimPlot(A_subset, label = TRUE) + NoLegend() + xlab(\"UMAP 1\") + ylab(\"UMAP 2\")\n",
    "p2 <- FeaturePlot(A_subset, c(\"Lepr\",\"Pdgfrb\",'Prrx1',\"Eng\", \"Nt5e\", \"Thy1\",\"Cxcl12\",\"Sp7\",\"Adipoq\"), min.cutoff = \"q1\") \n",
    "\n",
    "p1 + p2"
   ]
  },
  {
   "cell_type": "code",
   "execution_count": null,
   "id": "f05c6f20-47cd-40eb-aa8e-803d1c575573",
   "metadata": {},
   "outputs": [],
   "source": [
    "A_subset@meta.data$CellType_d <- Idents(A_subset)"
   ]
  },
  {
   "cell_type": "code",
   "execution_count": null,
   "id": "1d4526ac-af7e-40d6-a70e-cfa0896a1b01",
   "metadata": {},
   "outputs": [],
   "source": [
    "A_subset@meta.data$CellType_d <- as.character(A_subset@meta.data$CellType_d)\n",
    "\n",
    "A_subset@meta.data$CellType_d[A_subset@meta.data$CellType_d == '0'] <- 'Proliferative chondrocytes'\n",
    "A_subset@meta.data$CellType_d[A_subset@meta.data$CellType_d == '1'] <- 'Resting zone chondrocytes'\n",
    "A_subset@meta.data$CellType_d[A_subset@meta.data$CellType_d == '2'] <- 'Proliferative chondrocytes'\n",
    "A_subset@meta.data$CellType_d[A_subset@meta.data$CellType_d == '3'] <- 'Resting zone chondrocytes'\n",
    "A_subset@meta.data$CellType_d[A_subset@meta.data$CellType_d == '4'] <- 'Distal limb mesenchyme'\n",
    "A_subset@meta.data$CellType_d[A_subset@meta.data$CellType_d == '5'] <- 'Pre-hypertrophic chondrocytes'\n",
    "A_subset@meta.data$CellType_d[A_subset@meta.data$CellType_d == '6'] <- 'Intermediate limb mesenchyme'\n",
    "A_subset@meta.data$CellType_d[A_subset@meta.data$CellType_d == '7'] <- 'Hypertrophic chondrocytes'\n",
    "\n",
    "A_subset@meta.data$CellType_d <- as.factor(A_subset@meta.data$CellType_d)"
   ]
  },
  {
   "cell_type": "code",
   "execution_count": null,
   "id": "7cbcab3f-eaa4-49d8-9386-ff8c6b9938e3",
   "metadata": {},
   "outputs": [],
   "source": [
    "Idents(A_subset) <- A_chondrocytes@meta.data$A_subset"
   ]
  },
  {
   "cell_type": "code",
   "execution_count": null,
   "id": "dee8cb67-ea20-4b7e-985b-3520328cd322",
   "metadata": {},
   "outputs": [],
   "source": [
    "options(repr.plot.width = 12, repr.plot.height = 12)\n",
    "DimPlot(A_subset, label = TRUE, group.by=\"CellType_d\") + NoLegend() + xlab(\"UMAP 1\") + ylab(\"UMAP 2\")"
   ]
  },
  {
   "cell_type": "markdown",
   "id": "216f486c-7c30-4322-9227-4e78ebf0e1bb",
   "metadata": {},
   "source": [
    "Adding metadata"
   ]
  },
  {
   "cell_type": "code",
   "execution_count": null,
   "id": "65e3505d-491e-45f1-9318-fc297eb49941",
   "metadata": {},
   "outputs": [],
   "source": [
    "meta1 <- A_chondrocytes@meta.data\n",
    "meta2 <- A_subset@meta.data"
   ]
  },
  {
   "cell_type": "code",
   "execution_count": null,
   "id": "1650c9e0-ea02-4a01-a56e-33bf35d06a70",
   "metadata": {},
   "outputs": [],
   "source": [
    "df <- split(meta1, meta1$CellType_d)"
   ]
  },
  {
   "cell_type": "code",
   "execution_count": null,
   "id": "a74e7f01-cc5b-454b-87b3-5d3c89190695",
   "metadata": {},
   "outputs": [],
   "source": [
    "names(df)"
   ]
  },
  {
   "cell_type": "code",
   "execution_count": null,
   "id": "c0f140a6-db50-45d3-8728-3f9370873732",
   "metadata": {},
   "outputs": [],
   "source": [
    "chondro <- rownames(df$Subset)"
   ]
  },
  {
   "cell_type": "code",
   "execution_count": null,
   "id": "16eaf612-0025-4bbf-b05c-259fc4d4732c",
   "metadata": {},
   "outputs": [],
   "source": [
    "chondro_meta <- meta2[chondro, c(\"CellType_d\",\"Author\")]\n",
    "chondro_meta$Author<- NULL\n",
    "\n",
    "head(chondro_meta)"
   ]
  },
  {
   "cell_type": "code",
   "execution_count": null,
   "id": "41ad7da8-83e1-43a0-966f-7a0f66ebcd10",
   "metadata": {},
   "outputs": [],
   "source": [
    "df$Subset <- cbind(df$Subset, chondro_meta)\n",
    "df$Subset$CellType <- df$Subset$CellType_d\n",
    "df$Subset$CellType_d <- NULL"
   ]
  },
  {
   "cell_type": "code",
   "execution_count": null,
   "id": "20dfd5e1-8fa5-49fb-813b-871f1885b8bf",
   "metadata": {},
   "outputs": [],
   "source": [
    "names(df)"
   ]
  },
  {
   "cell_type": "code",
   "execution_count": null,
   "id": "a8efd67b-db82-4d1e-83df-e4c26113daff",
   "metadata": {},
   "outputs": [],
   "source": [
    "df$'Pre-hypertrophic chondrocytes'$Barcode = rownames(df$'Pre-hypertrophic chondrocytes')\n",
    "df$'Proliferative chondrocytes'$Barcode = rownames(df$'Proliferative chondrocytes')\n",
    "df$\"Resting zone chondrocytes\"$Barcode = rownames(df$\"Resting zone chondrocytes\")\n",
    "df$Subset$Barcode = rownames(df$Subset)"
   ]
  },
  {
   "cell_type": "code",
   "execution_count": null,
   "id": "a0969db0-bac7-42f8-b496-3cba4a54ddc8",
   "metadata": {},
   "outputs": [],
   "source": [
    "str(df)"
   ]
  },
  {
   "cell_type": "code",
   "execution_count": null,
   "id": "59a575c5-4a6e-432a-8c8d-1c927da44036",
   "metadata": {},
   "outputs": [],
   "source": [
    "df$'Pre-hypertrophic chondrocytes'$Barcode <- rownames(df$'Pre-hypertrophic chondrocytes')\n",
    "df$'Proliferative chondrocytes'$Barcode <- rownames(df$'Proliferative chondrocytes')\n",
    "df$\"Resting zone chondrocytes\"$Barcode <- rownames(df$\"Resting zone chondrocytes\")\n",
    "df$Subset$Barcode <- rownames(df$Subset)"
   ]
  },
  {
   "cell_type": "code",
   "execution_count": null,
   "id": "a38ae8f7-556e-47fe-bad8-35edc1a0d1fa",
   "metadata": {},
   "outputs": [],
   "source": [
    "meta.data <- do.call(rbind, df)\n",
    "rownames(meta.data) = meta.data$Barcode\n",
    "meta.data$Barcode <- NULL"
   ]
  },
  {
   "cell_type": "code",
   "execution_count": null,
   "id": "45eb26fb-8ee1-4720-92a9-4587339ca631",
   "metadata": {},
   "outputs": [],
   "source": [
    "dim(A_chondrocytes@meta.data)\n",
    "dim(meta.data)"
   ]
  },
  {
   "cell_type": "code",
   "execution_count": null,
   "id": "897c1177-9438-4599-b303-efe72351b7ef",
   "metadata": {},
   "outputs": [],
   "source": [
    "target <- rownames(A_chondrocytes@meta.data)\n",
    "meta.data <- meta.data[match(target, rownames(meta.data)),]"
   ]
  },
  {
   "cell_type": "code",
   "execution_count": null,
   "id": "17b7247d-b7a0-4492-a1a5-34646d78ef33",
   "metadata": {},
   "outputs": [],
   "source": [
    "A_chondrocytes@meta.data = meta.data"
   ]
  },
  {
   "cell_type": "code",
   "execution_count": null,
   "id": "41f43535-c5f9-48ee-afa2-705f6b82fcf9",
   "metadata": {},
   "outputs": [],
   "source": [
    "options(repr.plot.width=12)\n",
    "DimPlot(A_chondrocytes, group.by = \"CellType_d\", label = FALSE, repel = TRUE) + xlab(\"UMAP 1\") + ylab(\"UMAP 2\")\n",
    "\n",
    "#ggsave(\"./6-kmita/images/E10_5_annotated.png\" ,width=12, height=8)"
   ]
  },
  {
   "cell_type": "code",
   "execution_count": null,
   "id": "04ed2408-b582-4ae2-a8f0-b52cb1a1fc05",
   "metadata": {},
   "outputs": [],
   "source": [
    "Idents(A_chondrocytes) <- A_chondrocytes$CellType_d"
   ]
  },
  {
   "cell_type": "markdown",
   "id": "a277dbd0-d333-41b5-8495-711f213dbffa",
   "metadata": {
    "jp-MarkdownHeadingCollapsed": true,
    "tags": []
   },
   "source": [
    "##### 3.4.2.1. Subsetting Mesenchyme"
   ]
  },
  {
   "cell_type": "code",
   "execution_count": null,
   "id": "93884d92-478f-49e0-8975-dad4dd815986",
   "metadata": {},
   "outputs": [],
   "source": [
    "A_mesenchyme <- subset(A, idents = c(\"Mesenchyme\"))"
   ]
  },
  {
   "cell_type": "code",
   "execution_count": null,
   "id": "c3d34d46-6d50-44a2-8396-1ee3fe227da3",
   "metadata": {},
   "outputs": [],
   "source": [
    "A_mesenchyme"
   ]
  },
  {
   "cell_type": "code",
   "execution_count": null,
   "id": "9ff89e3d-4e2d-4fea-8146-4a51a5b30104",
   "metadata": {},
   "outputs": [],
   "source": [
    "A_mesenchyme <- ScaleData(A_mesenchyme)"
   ]
  },
  {
   "cell_type": "code",
   "execution_count": null,
   "id": "46da8756-e725-4426-8990-fd3916624cb4",
   "metadata": {},
   "outputs": [],
   "source": [
    "A_mesenchyme <- RunPCA(A_mesenchyme, features = VariableFeatures(object = A_mesenchyme), verbose = FALSE)"
   ]
  },
  {
   "cell_type": "code",
   "execution_count": null,
   "id": "fa815b65-c07f-4bfd-b09d-0fcf1606d8a8",
   "metadata": {},
   "outputs": [],
   "source": [
    "ElbowPlot(A_mesenchyme, 50)"
   ]
  },
  {
   "cell_type": "code",
   "execution_count": null,
   "id": "059282ac-de34-4dba-b7fe-068f6220e577",
   "metadata": {
    "scrolled": true
   },
   "outputs": [],
   "source": [
    "A_mesenchyme <- FindNeighbors(A_mesenchyme, dims = 1:20, verbose = FALSE)\n",
    "A_mesenchyme <- FindClusters(A_mesenchyme, resolution = 1, verbose = FALSE)"
   ]
  },
  {
   "cell_type": "code",
   "execution_count": null,
   "id": "4c9d631a-33e7-4393-93f7-9cdc9b48eeb2",
   "metadata": {
    "scrolled": true
   },
   "outputs": [],
   "source": [
    "A_mesenchyme <- RunUMAP(A_mesenchyme, dims = 1:20, n.neighbors = 12, verbose = FALSE)"
   ]
  },
  {
   "cell_type": "code",
   "execution_count": null,
   "id": "301e45ce-17de-44c9-ac74-6662ae47d493",
   "metadata": {},
   "outputs": [],
   "source": [
    "options(repr.plot.width = 10, repr.plot.height = 8)\n",
    "DimPlot(A_mesenchyme, reduction = \"umap\", label=TRUE) + xlab(\"UMAP 1\") + ylab(\"UMAP 2\")\n",
    "\n",
    "#ggsave(\"./6-kmita/images/E10_5_m_no_annotation.png\" ,width=10, height=8)"
   ]
  },
  {
   "cell_type": "code",
   "execution_count": null,
   "id": "60c939d4-67a6-47ad-a890-69bc74b2fccc",
   "metadata": {
    "tags": []
   },
   "outputs": [],
   "source": [
    "A_mesenchyme.markers <- FindAllMarkers(A_mesenchyme)"
   ]
  },
  {
   "cell_type": "code",
   "execution_count": null,
   "id": "c0826f7b-56de-437a-be42-4b3056effd0b",
   "metadata": {},
   "outputs": [],
   "source": [
    "#select only cluster 0 and order avg_log2FC from big to small\n",
    "\n",
    "A_mesenchyme.markers[A_mesenchyme.markers$cluster == 9,] %>%\n",
    "slice_max(n = 15, order_by = avg_log2FC)"
   ]
  },
  {
   "cell_type": "code",
   "execution_count": null,
   "id": "5d06dd78-6757-4807-9d46-94b9f1fc6620",
   "metadata": {},
   "outputs": [],
   "source": []
  },
  {
   "cell_type": "code",
   "execution_count": null,
   "id": "64d62bed-bc4d-487f-b00a-67bfe1ea8934",
   "metadata": {},
   "outputs": [],
   "source": [
    "# Skeletal muscle cells\n",
    "options(repr.plot.width = 18, repr.plot.height = 12)\n",
    "\n",
    "p1 <- DimPlot(A_mesenchyme, label = TRUE) + NoLegend() + xlab(\"UMAP 1\") + ylab(\"UMAP 2\")\n",
    "p2 <- FeaturePlot(A_mesenchyme, c(\"Prrx1\", \"Prrx2\", \"Fgf10\"), min.cutoff = \"q1\")  \n",
    "\n",
    "p1 + p2"
   ]
  },
  {
   "cell_type": "code",
   "execution_count": null,
   "id": "e87d96e1-d667-466a-940a-3ca884c18dd1",
   "metadata": {},
   "outputs": [],
   "source": [
    "# Smooth muscle cells\n",
    "options(repr.plot.width = 18, repr.plot.height = 12)\n",
    "\n",
    "p1 <- DimPlot(A_mesenchyme, label = TRUE, label.size = 20) + NoLegend() + xlab(\"UMAP 1\") + ylab(\"UMAP 2\")\n",
    "p2 <- FeaturePlot(A_mesenchyme, c(\"Hoxa9\", \"Hoxd9\", \"Hoxa11\", \"Hoxd11\", \"Hoxa13\", \"Hoxd13\"), min.cutoff = \"q1\")  \n",
    "\n",
    "p1 + p2"
   ]
  },
  {
   "cell_type": "code",
   "execution_count": null,
   "id": "fc86f91e-5017-40de-afbd-ede441349aed",
   "metadata": {},
   "outputs": [],
   "source": [
    "# Tenocyte\n",
    "options(repr.plot.width = 18, repr.plot.height = 12)\n",
    "\n",
    "p1 <- DimPlot(A_mesenchyme, label = TRUE) + NoLegend() + xlab(\"UMAP 1\") + ylab(\"UMAP 2\")\n",
    "p2 <- FeaturePlot(A_mesenchyme, c(\"Tnmd\", \"Tppp3\", \"Scx\", \"Prrx1\", \"Prrx2\",'Sox9'), min.cutoff = \"q1\")  \n",
    "\n",
    "p1 + p2"
   ]
  },
  {
   "cell_type": "code",
   "execution_count": null,
   "id": "787b3b7f-d603-4f77-a7b3-0db55b20d5a1",
   "metadata": {},
   "outputs": [],
   "source": [
    "# Tenocyte precursors\n",
    "options(repr.plot.width = 18, repr.plot.height = 12)\n",
    "\n",
    "p1 <- DimPlot(A_mesenchyme, label = TRUE) + NoLegend() + xlab(\"UMAP 1\") + ylab(\"UMAP 2\")\n",
    "p2 <- FeaturePlot(A_mesenchyme, c(\"Gdf5\", \"Wnt9a\", \"Smoc2\", \"Dact2\",\"Sox9\"), min.cutoff = \"q1\")  \n",
    "\n",
    "p1 + p2"
   ]
  },
  {
   "cell_type": "code",
   "execution_count": null,
   "id": "cc651be7-e9c5-4cec-a006-12363fa2475b",
   "metadata": {},
   "outputs": [],
   "source": [
    "# Smooth muscle cells\n",
    "options(repr.plot.width = 18, repr.plot.height = 12)\n",
    "\n",
    "p1 <- DimPlot(A_mesenchyme, label = TRUE) + NoLegend() + xlab(\"UMAP 1\") + ylab(\"UMAP 2\")\n",
    "p2 <- FeaturePlot(A_mesenchyme, c(\"Apo\"), min.cutoff = \"q1\")  \n",
    "\n",
    "p1 + p2"
   ]
  },
  {
   "cell_type": "code",
   "execution_count": null,
   "id": "c8df737d-25d1-41dd-beca-a7645d3ce60c",
   "metadata": {},
   "outputs": [],
   "source": [
    "# Smooth muscle cells\n",
    "options(repr.plot.width = 18, repr.plot.height = 12)\n",
    "\n",
    "p1 <- DimPlot(A_mesenchyme, label = TRUE) + NoLegend() + xlab(\"UMAP 1\") + ylab(\"UMAP 2\")\n",
    "p2 <- FeaturePlot(A_mesenchyme, c(\"Acta2\"), min.cutoff = \"q1\")  \n",
    "\n",
    "p1 + p2"
   ]
  },
  {
   "cell_type": "code",
   "execution_count": null,
   "id": "8fe4ae02-222e-4fd6-877f-087925788c54",
   "metadata": {},
   "outputs": [],
   "source": [
    "A_mesenchyme@meta.data$CellType_d <- Idents(A_mesenchyme)"
   ]
  },
  {
   "cell_type": "code",
   "execution_count": null,
   "id": "09a8d7db-3668-4008-8f51-350ce27cf5bf",
   "metadata": {},
   "outputs": [],
   "source": [
    "A_mesenchyme@meta.data$CellType_d <- as.character(A_mesenchyme@meta.data$CellType_d)\n",
    "\n",
    "A_mesenchyme@meta.data$CellType_d[A_mesenchyme@meta.data$CellType_d == '0'] <- 'Chondroprogenitors'\n",
    "A_mesenchyme@meta.data$CellType_d[A_mesenchyme@meta.data$CellType_d == '1'] <- 'Distal limb mesenchyme'\n",
    "A_mesenchyme@meta.data$CellType_d[A_mesenchyme@meta.data$CellType_d == '2'] <- 'Chondroprogenitors'\n",
    "A_mesenchyme@meta.data$CellType_d[A_mesenchyme@meta.data$CellType_d == '3'] <- 'Chondroprogenitors'\n",
    "A_mesenchyme@meta.data$CellType_d[A_mesenchyme@meta.data$CellType_d == '4'] <- 'Tenocyte'\n",
    "A_mesenchyme@meta.data$CellType_d[A_mesenchyme@meta.data$CellType_d == '5'] <- 'Intermediate limb mesenchyme'\n",
    "A_mesenchyme@meta.data$CellType_d[A_mesenchyme@meta.data$CellType_d == '6'] <- 'Intermediate limb mesenchyme'\n",
    "A_mesenchyme@meta.data$CellType_d[A_mesenchyme@meta.data$CellType_d == '7'] <- 'Intermediate limb mesenchyme'\n",
    "A_mesenchyme@meta.data$CellType_d[A_mesenchyme@meta.data$CellType_d == '8'] <- 'Adipocytes'\n",
    "A_mesenchyme@meta.data$CellType_d[A_mesenchyme@meta.data$CellType_d == '9'] <- 'Smooth muscle cells'\n",
    "\n",
    "A_mesenchyme@meta.data$CellType_d <- as.factor(A_mesenchyme@meta.data$CellType_d)"
   ]
  },
  {
   "cell_type": "markdown",
   "id": "53d8db75-ab9d-41fd-9e67-afe597a1746d",
   "metadata": {
    "tags": []
   },
   "source": [
    "#### 3.4.2. Refinement of global annotations<a id=\"13.2\"></a>\n",
    "##### 3.4.2.1. Subsetting endothelial clusters<a id=\"14\"></a>"
   ]
  },
  {
   "cell_type": "code",
   "execution_count": null,
   "id": "b951bdd9-5cad-45c4-92b1-5ba840201705",
   "metadata": {},
   "outputs": [],
   "source": [
    "A_myocyte <- subset(A, idents = c(\"Endothelium\"))"
   ]
  },
  {
   "cell_type": "code",
   "execution_count": null,
   "id": "97daf6cd-43cf-4962-b2de-8f0ba61cab1e",
   "metadata": {},
   "outputs": [],
   "source": [
    "A_myocyte"
   ]
  },
  {
   "cell_type": "code",
   "execution_count": null,
   "id": "851db62f-e5e8-4796-bb87-91d240bde70f",
   "metadata": {},
   "outputs": [],
   "source": [
    "A_myocyte <- ScaleData(A_myocyte)"
   ]
  },
  {
   "cell_type": "code",
   "execution_count": null,
   "id": "37c10acd-bc71-400a-97f7-d6815d2fcd88",
   "metadata": {},
   "outputs": [],
   "source": [
    "A_myocyte <- RunPCA(A_myocyte, features = VariableFeatures(object = A_myocyte), verbose = FALSE)"
   ]
  },
  {
   "cell_type": "code",
   "execution_count": null,
   "id": "51c48864-85cc-40d0-8f4a-91c340dd945d",
   "metadata": {},
   "outputs": [],
   "source": [
    "ElbowPlot(A_myocyte, 50)"
   ]
  },
  {
   "cell_type": "code",
   "execution_count": null,
   "id": "f1f04094-2a5e-458c-8c4c-b0ad44d71750",
   "metadata": {
    "scrolled": true
   },
   "outputs": [],
   "source": [
    "A_myocyte <- FindNeighbors(A_myocyte, dims = 1:30, verbose = FALSE)\n",
    "A_myocyte <- FindClusters(A_myocyte, resolution = 1, verbose = FALSE)"
   ]
  },
  {
   "cell_type": "code",
   "execution_count": null,
   "id": "773ec4e5-91a7-4126-8fa3-2810a6305d13",
   "metadata": {
    "scrolled": true
   },
   "outputs": [],
   "source": [
    "A_myocyte <- RunUMAP(A_myocyte, dims = 1:30, n.neighbors = 12, verbose = FALSE)"
   ]
  },
  {
   "cell_type": "code",
   "execution_count": null,
   "id": "4e05b8b9-5fc2-4cac-9a12-222df2a9fbd4",
   "metadata": {},
   "outputs": [],
   "source": [
    "options(repr.plot.width = 10, repr.plot.height = 8)\n",
    "DimPlot(A_myocyte, reduction = \"umap\", label=TRUE) + xlab(\"UMAP 1\") + ylab(\"UMAP 2\")\n",
    "\n",
    "#ggsave(\"./6-kmita/images/E10_5_m_no_annotation.png\" ,width=10, height=8)"
   ]
  },
  {
   "cell_type": "code",
   "execution_count": null,
   "id": "d1d0bd98-6640-4152-9336-b4055d145c61",
   "metadata": {
    "tags": []
   },
   "outputs": [],
   "source": [
    "A_mesenchyme.markers <- FindAllMarkers(A_myocyte)"
   ]
  },
  {
   "cell_type": "code",
   "execution_count": null,
   "id": "6f78a6e5-7bd7-4c1d-9719-381f1013e223",
   "metadata": {},
   "outputs": [],
   "source": [
    "write.csv(A_myocyte.markers, file = \"A_mesenchyme.markers.csv\", quote = FALSE)"
   ]
  },
  {
   "cell_type": "code",
   "execution_count": null,
   "id": "a6ff5782-47b3-446f-ac7e-685d78703f3b",
   "metadata": {},
   "outputs": [],
   "source": [
    "#Skeletal muscle cells\n",
    "\n",
    "options(repr.plot.width = 18, repr.plot.height = 12)\n",
    "\n",
    "p1 <- DimPlot(A_myocyte, label = TRUE) + NoLegend() + xlab(\"UMAP 1\") + ylab(\"UMAP 2\")\n",
    "p2 <- FeaturePlot(A_myocyte, c(\"Prox1\",\"Lyve1\",'Flt4'), min.cutoff = \"q1\")  \n",
    "\n",
    "p1 + p2"
   ]
  },
  {
   "cell_type": "code",
   "execution_count": null,
   "id": "60237128-9aea-4b22-a47f-0e902e8a8084",
   "metadata": {},
   "outputs": [],
   "source": [
    "#Skeletal muscle cells\n",
    "\n",
    "options(repr.plot.width = 18, repr.plot.height = 12)\n",
    "\n",
    "p1 <- DimPlot(A_myocyte, label = TRUE) + NoLegend() + xlab(\"UMAP 1\") + ylab(\"UMAP 2\")\n",
    "p2 <- FeaturePlot(A_myocyte, c(\"Pecam1\",\"Cd34\",'Flt1'), min.cutoff = \"q1\")  \n",
    "\n",
    "p1 + p2"
   ]
  },
  {
   "cell_type": "code",
   "execution_count": null,
   "id": "b9c3dd21-24e0-4d0e-9e4f-e7ba4814a5ce",
   "metadata": {},
   "outputs": [],
   "source": [
    "A_myocyte@meta.data$CellType_d <- Idents(A_myocyte)"
   ]
  },
  {
   "cell_type": "code",
   "execution_count": null,
   "id": "b68c6faf-8abe-4f6e-ad1a-9247f6a3b905",
   "metadata": {},
   "outputs": [],
   "source": [
    "A_myocyte@meta.data$CellType_d <- as.character(A_myocyte@meta.data$CellType_d)\n",
    "\n",
    "A_myocyte@meta.data$CellType_d[A_myocyte@meta.data$CellType_d == '0'] <- 'Blood endothelial cells'\n",
    "A_myocyte@meta.data$CellType_d[A_myocyte@meta.data$CellType_d == '1'] <- 'Lymphatic endothelial cells'\n",
    "\n",
    "A_myocyte@meta.data$CellType_d <- as.factor(A_myocyte@meta.data$CellType_d)"
   ]
  },
  {
   "cell_type": "markdown",
   "id": "d94ded51-1a07-43bd-b050-d1316dac8832",
   "metadata": {
    "tags": []
   },
   "source": [
    "#### 3.4.2. Updating annotations<a id=\"16\"></a>"
   ]
  },
  {
   "cell_type": "code",
   "execution_count": null,
   "id": "dbf9e4f4-0b33-4d5e-bcd3-a1a88700be10",
   "metadata": {},
   "outputs": [],
   "source": [
    "meta1 <- A@meta.data\n",
    "meta2 <- A_chondrocytes@meta.data"
   ]
  },
  {
   "cell_type": "code",
   "execution_count": null,
   "id": "3bac6127-feda-4bc6-b753-f441af507305",
   "metadata": {},
   "outputs": [],
   "source": [
    "df <- split(meta1, meta1$CellType)"
   ]
  },
  {
   "cell_type": "code",
   "execution_count": null,
   "id": "66cf5748-9512-4645-8b90-103f1fca41f6",
   "metadata": {},
   "outputs": [],
   "source": [
    "names(df)"
   ]
  },
  {
   "cell_type": "code",
   "execution_count": null,
   "id": "9286b15c-19b9-4bde-ade6-a5a340c2ca3e",
   "metadata": {},
   "outputs": [],
   "source": [
    "chondro <- rownames(df$Chondrocytes)"
   ]
  },
  {
   "cell_type": "code",
   "execution_count": null,
   "id": "f3f2a4c9-42e8-43d6-ae7d-9d5f7af41f86",
   "metadata": {},
   "outputs": [],
   "source": [
    "chondro_meta <- meta2[chondro, c(\"CellType_d\",\"Author\")]\n",
    "chondro_meta$Author<- NULL\n",
    "\n",
    "head(chondro_meta)"
   ]
  },
  {
   "cell_type": "code",
   "execution_count": null,
   "id": "30d1dd21-3bac-43ec-9041-8c274e641b55",
   "metadata": {},
   "outputs": [],
   "source": [
    "df$Chondrocytes <- cbind(df$Chondrocytes, chondro_meta)\n",
    "df$Chondrocytes$CellType <- df$Chondrocytes$CellType_d\n",
    "df$Chondrocytes$CellType_d <- NULL"
   ]
  },
  {
   "cell_type": "code",
   "execution_count": null,
   "id": "18072e39-aef7-42ac-8eb2-0d3a23835439",
   "metadata": {},
   "outputs": [],
   "source": [
    "meta2 <- A_myocyte@meta.data\n",
    "endo <- rownames(df$Endothelium)"
   ]
  },
  {
   "cell_type": "code",
   "execution_count": null,
   "id": "b8169293-a31c-40e6-af33-01591856fc8c",
   "metadata": {},
   "outputs": [],
   "source": [
    "endo_meta <- meta2[endo, c(\"CellType_d\",\"Author\")]\n",
    "endo_meta$Author<- NULL\n",
    "\n",
    "head(endo_meta)"
   ]
  },
  {
   "cell_type": "code",
   "execution_count": null,
   "id": "84b50756-255a-43cf-b9d4-c31d9749eb51",
   "metadata": {},
   "outputs": [],
   "source": [
    "df$Endothelium <- cbind(df$Endothelium, endo_meta)\n",
    "df$Endothelium$CellType <- df$Endothelium$CellType_d\n",
    "df$Endothelium$CellType_d <- NULL"
   ]
  },
  {
   "cell_type": "code",
   "execution_count": null,
   "id": "fdd8e823-6ef4-4c24-8801-f6e272368a45",
   "metadata": {},
   "outputs": [],
   "source": [
    "names(df)"
   ]
  },
  {
   "cell_type": "code",
   "execution_count": null,
   "id": "c8d87e1d-2450-4d41-be96-86ca55774aa9",
   "metadata": {},
   "outputs": [],
   "source": [
    "str(df)"
   ]
  },
  {
   "cell_type": "code",
   "execution_count": null,
   "id": "977b4d13-af3f-4a0b-9add-cf61f8dc4612",
   "metadata": {},
   "outputs": [],
   "source": [
    "df$'Chondrocytes'$Barcode = rownames(df$'Chondrocytes')\n",
    "df$Keratinocyte$Barcode = rownames(df$Keratinocyte)\n",
    "df$'Imune cells'$Barcode = rownames(df$'Imune cells')\n",
    "df$'Muscle progenitors'$Barcode = rownames(df$'Muscle progenitors')\n",
    "df$'Mesenchyme'$Barcode = rownames(df$'Mesenchyme')\n",
    "df$'Endothelium'$Barcode = rownames(df$'Endothelium')\n",
    "df$'Skeletal muscle cells'$Barcode = rownames(df$'Skeletal muscle cells')\n",
    "df$'Erythroid cells'$Barcode = rownames(df$'Erythroid cells')\n",
    "df$'Neurons'$Barcode = rownames(df$'Neurons')\n",
    "df$'Periosteal progenitors'$Barcode = rownames(df$'Periosteal progenitors')\n",
    "df$'Periosteum'$Barcode = rownames(df$'Periosteum')\n",
    "df$'Smooth muscle cells'$Barcode = rownames(df$'Smooth muscle cells')\n",
    "df$'Tenocytes'$Barcode = rownames(df$'Tenocytes')"
   ]
  },
  {
   "cell_type": "code",
   "execution_count": null,
   "id": "7727d8c2-7f31-434f-8762-9179834a4abc",
   "metadata": {},
   "outputs": [],
   "source": [
    "str(df)"
   ]
  },
  {
   "cell_type": "code",
   "execution_count": null,
   "id": "d3fa2c10-0007-4248-9834-a23f2f770e51",
   "metadata": {},
   "outputs": [],
   "source": [
    "names(df)"
   ]
  },
  {
   "cell_type": "code",
   "execution_count": null,
   "id": "11fe2390-55bf-4954-ad2a-01e9234ec19c",
   "metadata": {},
   "outputs": [],
   "source": [
    "df$'Chondrocytes'$Barcode <- rownames(df$'Chondrocytes')\n",
    "df$Keratinocyte$Barcode <- rownames(df$Keratinocyte)\n",
    "df$'Immune cells'$Barcode <- rownames(df$'Immune cells')\n",
    "df$'Muscle progenitors'$Barcode <- rownames(df$'Muscle progenitors')\n",
    "df$'Mesenchyme'$Barcode <- rownames(df$'Mesenchyme')\n",
    "df$'Endothelium'$Barcode <- rownames(df$'Endothelium')\n",
    "df$'Skeletal muscle cells'$Barcode <- rownames(df$'Skeletal muscle cells')\n",
    "df$'Erythroid cells'$Barcode <- rownames(df$'Erythroid cells')\n",
    "df$'Neurons'$Barcode <- rownames(df$'Neurons')\n",
    "df$'Periosteal progenitors'$Barcode <- rownames(df$'Periosteal progenitors')\n",
    "df$'Periosteum'$Barcode <- rownames(df$'Periosteum')\n",
    "df$'Smooth muscle cells'$Barcode <- rownames(df$'Smooth muscle cells')\n",
    "df$'Tenocytes'$Barcode <- rownames(df$'Tenocytes')"
   ]
  },
  {
   "cell_type": "code",
   "execution_count": null,
   "id": "4bd10fe9-a4d7-447d-a748-c758c165c104",
   "metadata": {},
   "outputs": [],
   "source": [
    "str(df)"
   ]
  },
  {
   "cell_type": "code",
   "execution_count": null,
   "id": "7477acf5-254a-4853-b97f-50f6b162aff9",
   "metadata": {},
   "outputs": [],
   "source": [
    "meta.data <- do.call(rbind, df)\n",
    "rownames(meta.data) = meta.data$Barcode\n",
    "meta.data$Barcode <- NULL"
   ]
  },
  {
   "cell_type": "code",
   "execution_count": null,
   "id": "56d2b0ec-d0b3-4f51-8023-9e8ca7526e78",
   "metadata": {},
   "outputs": [],
   "source": [
    "dim(A@meta.data)\n",
    "dim(meta.data)"
   ]
  },
  {
   "cell_type": "code",
   "execution_count": null,
   "id": "f70f5eae-b0ac-435a-8b1c-e72de2f474fa",
   "metadata": {},
   "outputs": [],
   "source": [
    "target <- rownames(A@meta.data)\n",
    "meta.data <- meta.data[match(target, rownames(meta.data)),]"
   ]
  },
  {
   "cell_type": "code",
   "execution_count": null,
   "id": "82022cf1-f987-4322-b562-0fe2554b8a5d",
   "metadata": {},
   "outputs": [],
   "source": [
    "A@meta.data = meta.data"
   ]
  },
  {
   "cell_type": "markdown",
   "id": "8eb178ad-1e27-4aff-a530-11b51a3074da",
   "metadata": {
    "tags": []
   },
   "source": [
    "#### 5.4.3. Finalized embedding and annotation<a id=\"37\"></a>"
   ]
  },
  {
   "cell_type": "code",
   "execution_count": null,
   "id": "8c8e26c3-8b1f-4dda-9c18-e67e4560e681",
   "metadata": {},
   "outputs": [],
   "source": [
    "options(repr.plot.width=12)\n",
    "DimPlot(A, group.by = \"CellType\", label = FALSE, repel = TRUE) + xlab(\"UMAP 1\") + ylab(\"UMAP 2\")\n",
    "\n",
    "#ggsave(\"./6-kmita/images/E10_5_annotated.png\" ,width=12, height=8)"
   ]
  },
  {
   "cell_type": "code",
   "execution_count": null,
   "id": "42b1dc85-c905-4338-950a-3b8e9f9330ac",
   "metadata": {},
   "outputs": [],
   "source": [
    "Idents(A) <- A$CellType"
   ]
  },
  {
   "cell_type": "code",
   "execution_count": null,
   "id": "75e8355b-8374-445a-bb60-130ef018c5e7",
   "metadata": {},
   "outputs": [],
   "source": [
    "saveRDS(A, file = \"/home/jovyan/researcher_home/tom/Atlas/data/SCA_core/Guilak/V2_E18_5.Rds\")"
   ]
  },
  {
   "cell_type": "code",
   "execution_count": null,
   "id": "667848b8-f2f4-4dd2-b6b4-5ffc7eb5dce8",
   "metadata": {},
   "outputs": [],
   "source": []
  }
 ],
 "metadata": {
  "kernelspec": {
   "display_name": "R [conda env:base] *",
   "language": "R",
   "name": "conda-base-r"
  },
  "language_info": {
   "codemirror_mode": "r",
   "file_extension": ".r",
   "mimetype": "text/x-r-source",
   "name": "R",
   "pygments_lexer": "r",
   "version": "4.3.2"
  }
 },
 "nbformat": 4,
 "nbformat_minor": 5
}
