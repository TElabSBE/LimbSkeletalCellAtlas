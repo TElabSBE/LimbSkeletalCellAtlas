{
 "cells": [
  {
   "cell_type": "markdown",
   "id": "733e4adf-23f3-4fbc-825c-45dbd297efef",
   "metadata": {
    "tags": []
   },
   "source": [
    "# VSOX\n",
    "QC"
   ]
  },
  {
   "cell_type": "markdown",
   "id": "23afd9a5-806c-43b0-bc14-e893b15bbbba",
   "metadata": {
    "tags": []
   },
   "source": [
    "## 0. Setting up workenvironment<a id=\"0\"></a>"
   ]
  },
  {
   "cell_type": "code",
   "execution_count": null,
   "id": "a5498f82-568e-4230-b5af-69b34b904d0b",
   "metadata": {
    "tags": []
   },
   "outputs": [],
   "source": [
    "suppressPackageStartupMessages({\n",
    "    library(DropletUtils)\n",
    "    library(SingleCellExperiment)\n",
    "    library(scuttle)\n",
    "    library(Seurat)\n",
    "    library(SeuratWrappers)\n",
    "    library(stringr)\n",
    "    library(dplyr)\n",
    "    library(data.table)\n",
    "    library(Matrix)\n",
    "    library(patchwork)\n",
    "    library(ggplot2)\n",
    "})\n",
    "\n",
    "options(repr.plot.width = 16, repr.plot.height = 8)"
   ]
  },
  {
   "cell_type": "markdown",
   "id": "225657f5-4bbd-467c-bbc9-678e678d765b",
   "metadata": {},
   "source": [
    "## KO"
   ]
  },
  {
   "cell_type": "markdown",
   "id": "337439af-b40d-43df-a3ad-dc6ee5b1b5bf",
   "metadata": {
    "tags": []
   },
   "source": [
    "## 1. Importing data<a id=\"1\"></a>\n"
   ]
  },
  {
   "cell_type": "code",
   "execution_count": null,
   "id": "9e222ce4-6e37-49d1-af21-666f89d6c34e",
   "metadata": {},
   "outputs": [],
   "source": [
    "VSOX.data <- Read10X(data.dir = \"./KO/P13/\")\n",
    "VSOX <- CreateSeuratObject(counts = VSOX.data)\n",
    "rm(VSOX.data)"
   ]
  },
  {
   "cell_type": "markdown",
   "id": "c5a97d3e-ade9-4fe9-bc53-a44ce3e4bb2a",
   "metadata": {
    "tags": []
   },
   "source": [
    "## 2. Preprocessing: quality control with scater<a id=\"4\"></a>"
   ]
  },
  {
   "cell_type": "markdown",
   "id": "d1fcc3c4-b4a2-43b3-b404-c3bfd2474160",
   "metadata": {
    "tags": []
   },
   "source": [
    "### 2.1. RD3_1"
   ]
  },
  {
   "cell_type": "markdown",
   "id": "20ae84cf-041b-4344-915b-c2229c35662f",
   "metadata": {},
   "source": [
    "#### 2.1.1. Converting a Seurat object to SingleCellExperiment "
   ]
  },
  {
   "cell_type": "code",
   "execution_count": null,
   "id": "f57f35c5-b908-46eb-9a7e-3c570e839276",
   "metadata": {},
   "outputs": [],
   "source": [
    "VSOX <- as.SingleCellExperiment(VSOX)"
   ]
  },
  {
   "cell_type": "markdown",
   "id": "05f580dd-05fc-4b5b-9608-f42114567e81",
   "metadata": {
    "tags": []
   },
   "source": [
    "#### 2.1.2. Calculating QC metrics"
   ]
  },
  {
   "cell_type": "code",
   "execution_count": null,
   "id": "3e91abe3-b68c-4bd6-8c60-5500280af54b",
   "metadata": {},
   "outputs": [],
   "source": [
    "is.mito <- grepl(\"^mt-\", rownames(VSOX))\n",
    "mito.list <-  grep(\"^mt-\", rownames(VSOX), value = TRUE)"
   ]
  },
  {
   "cell_type": "code",
   "execution_count": null,
   "id": "e0053f41-1afe-4af5-8a11-69a074b72be2",
   "metadata": {},
   "outputs": [],
   "source": [
    "is.spike <- grepl(\"^gSpikein\", rownames(VSOX))\n",
    "spike.list <- grep(\"^gSpikein\", rownames(VSOX), value = TRUE)"
   ]
  },
  {
   "cell_type": "code",
   "execution_count": null,
   "id": "4e190774-2a5a-4fe7-9f60-f0e115c984f4",
   "metadata": {},
   "outputs": [],
   "source": [
    "celldata <- perCellQCMetrics(VSOX, subsets = list(Mt = is.mito, ERCC = is.spike))"
   ]
  },
  {
   "cell_type": "code",
   "execution_count": null,
   "id": "f8471bba-13c5-4a22-8163-5ba4e46eb18a",
   "metadata": {},
   "outputs": [],
   "source": [
    "VSOX <- addPerCellQC(VSOX, subsets=list(Mito = is.mito, ERCC = is.spike))\n",
    "colnames(colData(VSOX))"
   ]
  },
  {
   "cell_type": "markdown",
   "id": "b9080bb3-0323-4e9b-9024-ded18651d034",
   "metadata": {},
   "source": [
    "Expression of all ERCC spikeins is 0 because they were not used in this study."
   ]
  },
  {
   "cell_type": "markdown",
   "id": "6296549a-ca19-4fba-a811-e1ae5842416c",
   "metadata": {
    "tags": []
   },
   "source": [
    "##### **2.1.2.1. QC of the cells by feature number and library size**\n"
   ]
  },
  {
   "cell_type": "code",
   "execution_count": null,
   "id": "7bedfea9-8c0d-4615-a30d-e7fb61c207ad",
   "metadata": {},
   "outputs": [],
   "source": [
    "libsize.drop <- isOutlier(VSOX$sum, nmads = 3, type = \"both\", log = TRUE)\n",
    "feature.drop <- isOutlier(VSOX$detected, nmads = 3, type = \"both\", log = TRUE)\n",
    "\n",
    "# libsize.drop cutoff values\n",
    "min.libsize <- (median(VSOX$sum) - 3*mad(VSOX$sum))/1e3\n",
    "max.libsize <- (median(VSOX$sum) + 3*mad(VSOX$sum))/1e3\n",
    "\n",
    "# feature.drop cutoff values\n",
    "min.features <- (median(VSOX$detected) - 3*mad(VSOX$detected))\n",
    "max.features <- (median(VSOX$detected) + 3*mad(VSOX$detected))\n",
    "\n",
    "par(mfrow = c(1,2))\n",
    "\n",
    "hist(VSOX$sum/1e3, xlab = \"Library sizes (thousands)\", main = \"\", breaks = 20,\n",
    "     col = \"grey\", ylab = \"Number of cells\")\n",
    "\n",
    "abline(v = min.libsize, col = \"blue\", lwd = 2, lty = 2)\n",
    "abline(v = max.libsize, col = \"blue\", lwd = 2, lty = 2)\n",
    "\n",
    "hist(VSOX$detected, xlab = \"Number of expressed genes\", main = \"\", breaks = 20,\n",
    "     col = \"grey\", ylab = \"Number of cells\")\n",
    "\n",
    "abline(v = min.features, col = \"blue\", lwd = 2, lty = 2)\n",
    "abline(v = max.features, col = \"blue\", lwd = 2, lty = 2)"
   ]
  },
  {
   "cell_type": "markdown",
   "id": "8572ee14-1aab-44e2-98e4-cb75edd5939b",
   "metadata": {
    "tags": []
   },
   "source": [
    "##### **2.1.2.2. Proportion of mitochondrial reads**\n"
   ]
  },
  {
   "cell_type": "code",
   "execution_count": null,
   "id": "e53e5e87-f26f-4845-9cef-74679d54b55f",
   "metadata": {},
   "outputs": [],
   "source": [
    "mito.drop <- isOutlier(VSOX$subsets_Mito_percent, nmads = 3)\n",
    "\n",
    "max.mito <- median(VSOX$subsets_Mito_percent) + 3*mad(VSOX$subsets_Mito_percent)\n",
    "\n",
    "hist(VSOX$subsets_Mito_percent, xlab = \"Mitochondrial proportion (%)\",\n",
    "     ylab = \"Number of cells\",\n",
    "     breaks = 40, main = \"\", col = \"grey\")\n",
    "\n",
    "abline(v = max.mito, col = \"blue\", lwd = 2, lty = 2)"
   ]
  },
  {
   "cell_type": "markdown",
   "id": "46d1f7e1-9fcb-4326-bda4-7a44cc6ef0b6",
   "metadata": {},
   "source": [
    "Subset by column to retain only high-quality cells that pass all filters."
   ]
  },
  {
   "cell_type": "code",
   "execution_count": null,
   "id": "94e3ae42-212b-4764-8451-fdee13f0965b",
   "metadata": {},
   "outputs": [],
   "source": [
    "VSOX_QC <- VSOX[,!(libsize.drop | feature.drop | mito.drop)]\n",
    "data.frame(ByLibrarySize = sum(libsize.drop), ByFeature = sum(feature.drop), ByMito = sum(mito.drop),\n",
    "           Remaining = ncol(VSOX_QC))"
   ]
  },
  {
   "cell_type": "markdown",
   "id": "c9154378-62d6-4651-bfc9-60079341c975",
   "metadata": {
    "tags": []
   },
   "source": [
    "#### 2.1.2. Filtering out low-abundance genes\n"
   ]
  },
  {
   "cell_type": "code",
   "execution_count": null,
   "id": "63ecccc4-7711-4c54-aaea-c0f49ff4fe39",
   "metadata": {},
   "outputs": [],
   "source": [
    "average.counts <- calculateAverage(VSOX_QC, exprs_values = \"counts\",\n",
    "                                   subset_row = NULL)\n",
    "genes.to.keep <- average.counts >= 0.001\n",
    "sum(genes.to.keep)"
   ]
  },
  {
   "cell_type": "code",
   "execution_count": null,
   "id": "c5362748-938d-47c9-a176-e7081021f787",
   "metadata": {},
   "outputs": [],
   "source": [
    "hist(log10(average.counts), breaks = 100, main = \"\", col = \"grey\",\n",
    "     xlab = expression(Log[10]~\"average count\"), ylab = \"Gene counts\")\n",
    "abline(v = log10(0.001), col = \"blue\", lwd = 2, lty = 2)\n",
    "\n",
    "rm(average.counts)"
   ]
  },
  {
   "cell_type": "markdown",
   "id": "19d15e73-fd88-4cc7-a90d-296af98d8098",
   "metadata": {},
   "source": [
    "Apply the mean-based filter to the data by subsetting the `SingleCellExperiment` object."
   ]
  },
  {
   "cell_type": "code",
   "execution_count": null,
   "id": "5d33eb73-d954-4684-9e22-e8e3c03f7993",
   "metadata": {},
   "outputs": [],
   "source": [
    "VSOX <- VSOX_QC[genes.to.keep,]\n",
    "\n",
    "rm(VSOX_QC)\n",
    "\n",
    "dim(VSOX)"
   ]
  },
  {
   "cell_type": "markdown",
   "id": "dd28067a-0fe5-494f-bca4-d42845542e1a",
   "metadata": {
    "tags": []
   },
   "source": [
    "#### 2.1.3. Duplicate removal"
   ]
  },
  {
   "cell_type": "code",
   "execution_count": null,
   "id": "03f28b06-50cd-4a72-ae4f-a590e6150107",
   "metadata": {},
   "outputs": [],
   "source": [
    "VSOX <- VSOX[!duplicated(rownames(VSOX)),]\n",
    "dim(VSOX)"
   ]
  },
  {
   "cell_type": "code",
   "execution_count": null,
   "id": "d552365c-04b9-4b4f-b376-d6634fd62460",
   "metadata": {},
   "outputs": [],
   "source": [
    "VSOX <- as.Seurat(VSOX)"
   ]
  },
  {
   "cell_type": "code",
   "execution_count": null,
   "id": "4fde122c-a677-4f3c-aab4-c1bbb956086e",
   "metadata": {},
   "outputs": [],
   "source": [
    "VSOX"
   ]
  },
  {
   "cell_type": "code",
   "execution_count": null,
   "id": "f92f4f63-05f7-47f9-94d6-277ce5fdd5b6",
   "metadata": {
    "tags": []
   },
   "outputs": [],
   "source": [
    "saveRDS(VSOX, file = \"VSOX_KOp13_QC.Rds\")"
   ]
  },
  {
   "cell_type": "markdown",
   "id": "77b12030-3e15-4e33-8522-36f755dc426e",
   "metadata": {},
   "source": [
    "## WT"
   ]
  },
  {
   "cell_type": "code",
   "execution_count": null,
   "id": "c5d24ec1-b53f-4464-a8a9-ad789365ac62",
   "metadata": {},
   "outputs": [],
   "source": [
    "VSOX.data <- Read10X(data.dir = \"./WT/P13/\")\n",
    "VSOX <- CreateSeuratObject(counts = VSOX.data)\n",
    "rm(VSOX.data)"
   ]
  },
  {
   "cell_type": "markdown",
   "id": "9f6013a3-f148-4d09-9021-0375aa2ae0b6",
   "metadata": {
    "tags": []
   },
   "source": [
    "## 2. Preprocessing: quality control with scater<a id=\"4\"></a>"
   ]
  },
  {
   "cell_type": "markdown",
   "id": "fab6005c-0c2a-4cf2-8f2a-e8d022cf9549",
   "metadata": {
    "tags": []
   },
   "source": [
    "### 2.1. RD3_1"
   ]
  },
  {
   "cell_type": "markdown",
   "id": "e7420e99-b052-4d7d-a074-68bfc1f4ac7a",
   "metadata": {},
   "source": [
    "#### 2.1.1. Converting a Seurat object to SingleCellExperiment "
   ]
  },
  {
   "cell_type": "code",
   "execution_count": null,
   "id": "9c2e7ddd-fbd4-4b1f-ab2e-99b9cb8701f9",
   "metadata": {},
   "outputs": [],
   "source": [
    "VSOX <- as.SingleCellExperiment(VSOX)"
   ]
  },
  {
   "cell_type": "markdown",
   "id": "5be8539f-0d28-4cf6-9b12-45efa7ad60bb",
   "metadata": {
    "tags": []
   },
   "source": [
    "#### 2.1.2. Calculating QC metrics"
   ]
  },
  {
   "cell_type": "code",
   "execution_count": null,
   "id": "d048b491-a88c-412e-b6d5-61e3ebfaa5c3",
   "metadata": {},
   "outputs": [],
   "source": [
    "is.mito <- grepl(\"^mt-\", rownames(VSOX))\n",
    "mito.list <-  grep(\"^mt-\", rownames(VSOX), value = TRUE)"
   ]
  },
  {
   "cell_type": "code",
   "execution_count": null,
   "id": "ae6ca8bd-9197-4293-9309-b15f4aaef2e7",
   "metadata": {},
   "outputs": [],
   "source": [
    "is.spike <- grepl(\"^gSpikein\", rownames(VSOX))\n",
    "spike.list <- grep(\"^gSpikein\", rownames(VSOX), value = TRUE)"
   ]
  },
  {
   "cell_type": "code",
   "execution_count": null,
   "id": "4a5a3fc6-376e-4cdc-83ed-4fea64bef25d",
   "metadata": {},
   "outputs": [],
   "source": [
    "celldata <- perCellQCMetrics(VSOX, subsets = list(Mt = is.mito, ERCC = is.spike))"
   ]
  },
  {
   "cell_type": "code",
   "execution_count": null,
   "id": "6d0744fd-8992-4580-9881-55dce1c44e21",
   "metadata": {},
   "outputs": [],
   "source": [
    "VSOX <- addPerCellQC(VSOX, subsets=list(Mito = is.mito, ERCC = is.spike))\n",
    "colnames(colData(VSOX))"
   ]
  },
  {
   "cell_type": "markdown",
   "id": "ef408b80-799e-4e8a-81d7-ec23b197f937",
   "metadata": {},
   "source": [
    "Expression of all ERCC spikeins is 0 because they were not used in this study."
   ]
  },
  {
   "cell_type": "markdown",
   "id": "aaff57cf-1dd5-4f09-b722-515d2f36f029",
   "metadata": {
    "tags": []
   },
   "source": [
    "##### **2.1.2.1. QC of the cells by feature number and library size**\n"
   ]
  },
  {
   "cell_type": "code",
   "execution_count": null,
   "id": "9224456c-d0da-4dfc-a043-d229cd4dae4c",
   "metadata": {},
   "outputs": [],
   "source": [
    "libsize.drop <- isOutlier(VSOX$sum, nmads = 3, type = \"both\", log = TRUE)\n",
    "feature.drop <- isOutlier(VSOX$detected, nmads = 3, type = \"both\", log = TRUE)\n",
    "\n",
    "# libsize.drop cutoff values\n",
    "min.libsize <- (median(VSOX$sum) - 3*mad(VSOX$sum))/1e3\n",
    "max.libsize <- (median(VSOX$sum) + 3*mad(VSOX$sum))/1e3\n",
    "\n",
    "# feature.drop cutoff values\n",
    "min.features <- (median(VSOX$detected) - 3*mad(VSOX$detected))\n",
    "max.features <- (median(VSOX$detected) + 3*mad(VSOX$detected))\n",
    "\n",
    "par(mfrow = c(1,2))\n",
    "\n",
    "hist(VSOX$sum/1e3, xlab = \"Library sizes (thousands)\", main = \"\", breaks = 20,\n",
    "     col = \"grey\", ylab = \"Number of cells\")\n",
    "\n",
    "abline(v = min.libsize, col = \"blue\", lwd = 2, lty = 2)\n",
    "abline(v = max.libsize, col = \"blue\", lwd = 2, lty = 2)\n",
    "\n",
    "hist(VSOX$detected, xlab = \"Number of expressed genes\", main = \"\", breaks = 20,\n",
    "     col = \"grey\", ylab = \"Number of cells\")\n",
    "\n",
    "abline(v = min.features, col = \"blue\", lwd = 2, lty = 2)\n",
    "abline(v = max.features, col = \"blue\", lwd = 2, lty = 2)"
   ]
  },
  {
   "cell_type": "markdown",
   "id": "2f423aa2-54e4-4cc0-affd-421480d34736",
   "metadata": {
    "tags": []
   },
   "source": [
    "##### **2.1.2.2. Proportion of mitochondrial reads**\n"
   ]
  },
  {
   "cell_type": "code",
   "execution_count": null,
   "id": "7fd2244d-ec7c-49cb-96ff-b748a7aa3be3",
   "metadata": {},
   "outputs": [],
   "source": [
    "mito.drop <- isOutlier(VSOX$subsets_Mito_percent, nmads = 3)\n",
    "\n",
    "max.mito <- median(VSOX$subsets_Mito_percent) + 3*mad(VSOX$subsets_Mito_percent)\n",
    "\n",
    "hist(VSOX$subsets_Mito_percent, xlab = \"Mitochondrial proportion (%)\",\n",
    "     ylab = \"Number of cells\",\n",
    "     breaks = 40, main = \"\", col = \"grey\")\n",
    "\n",
    "abline(v = max.mito, col = \"blue\", lwd = 2, lty = 2)"
   ]
  },
  {
   "cell_type": "markdown",
   "id": "cf1b3ae5-5a39-4c77-9f96-a130599254c4",
   "metadata": {},
   "source": [
    "Subset by column to retain only high-quality cells that pass all filters."
   ]
  },
  {
   "cell_type": "code",
   "execution_count": null,
   "id": "2769f118-631d-4eeb-8534-6f67e4fadbd2",
   "metadata": {},
   "outputs": [],
   "source": [
    "VSOX_QC <- VSOX[,!(libsize.drop | feature.drop | mito.drop)]\n",
    "data.frame(ByLibrarySize = sum(libsize.drop), ByFeature = sum(feature.drop), ByMito = sum(mito.drop),\n",
    "           Remaining = ncol(VSOX_QC))"
   ]
  },
  {
   "cell_type": "markdown",
   "id": "6937a4d0-8a83-49c7-88a9-09c5ce4eaf18",
   "metadata": {
    "tags": []
   },
   "source": [
    "#### 2.1.2. Filtering out low-abundance genes\n"
   ]
  },
  {
   "cell_type": "code",
   "execution_count": null,
   "id": "f002619c-bcc5-44b9-b2fb-d654310d3660",
   "metadata": {},
   "outputs": [],
   "source": [
    "average.counts <- calculateAverage(VSOX_QC, exprs_values = \"counts\",\n",
    "                                   subset_row = NULL)\n",
    "genes.to.keep <- average.counts >= 0.001\n",
    "sum(genes.to.keep)"
   ]
  },
  {
   "cell_type": "code",
   "execution_count": null,
   "id": "e260af94-6fe3-4846-bd27-a23a59f63069",
   "metadata": {},
   "outputs": [],
   "source": [
    "hist(log10(average.counts), breaks = 100, main = \"\", col = \"grey\",\n",
    "     xlab = expression(Log[10]~\"average count\"), ylab = \"Gene counts\")\n",
    "abline(v = log10(0.001), col = \"blue\", lwd = 2, lty = 2)\n",
    "\n",
    "rm(average.counts)"
   ]
  },
  {
   "cell_type": "markdown",
   "id": "14dfb560-06a6-491c-bd2b-ed7495b3fc9c",
   "metadata": {},
   "source": [
    "Apply the mean-based filter to the data by subsetting the `SingleCellExperiment` object."
   ]
  },
  {
   "cell_type": "code",
   "execution_count": null,
   "id": "f2e332f3-07e1-4460-887b-8e7271122756",
   "metadata": {},
   "outputs": [],
   "source": [
    "VSOX <- VSOX_QC[genes.to.keep,]\n",
    "\n",
    "rm(VSOX_QC)\n",
    "\n",
    "dim(VSOX)"
   ]
  },
  {
   "cell_type": "markdown",
   "id": "a271f7c8-ee79-426e-9f63-13ced8358ddf",
   "metadata": {
    "tags": []
   },
   "source": [
    "#### 2.1.3. Duplicate removal"
   ]
  },
  {
   "cell_type": "code",
   "execution_count": null,
   "id": "0cd2c53f-f3b0-4a29-a9ad-7932e58f4fd9",
   "metadata": {},
   "outputs": [],
   "source": [
    "VSOX <- VSOX[!duplicated(rownames(VSOX)),]\n",
    "dim(VSOX)"
   ]
  },
  {
   "cell_type": "code",
   "execution_count": null,
   "id": "b42173d7-118d-4497-b056-891465ed18f6",
   "metadata": {},
   "outputs": [],
   "source": [
    "VSOX <- as.Seurat(VSOX)"
   ]
  },
  {
   "cell_type": "code",
   "execution_count": null,
   "id": "dc41589b-1a3d-4bc4-913c-d1387fea6f53",
   "metadata": {},
   "outputs": [],
   "source": [
    "VSOX"
   ]
  },
  {
   "cell_type": "code",
   "execution_count": null,
   "id": "169788b6-3762-4ce6-8217-ea45934054b1",
   "metadata": {
    "tags": []
   },
   "outputs": [],
   "source": [
    "saveRDS(VSOX, file = \"VSOX_WTp13_QC.Rds\")"
   ]
  },
  {
   "cell_type": "code",
   "execution_count": null,
   "id": "9f6e7f46-75d8-44da-adf3-e2c316066e89",
   "metadata": {},
   "outputs": [],
   "source": []
  }
 ],
 "metadata": {
  "kernelspec": {
   "display_name": "R [conda env:base] *",
   "language": "R",
   "name": "conda-base-r"
  },
  "language_info": {
   "codemirror_mode": "r",
   "file_extension": ".r",
   "mimetype": "text/x-r-source",
   "name": "R",
   "pygments_lexer": "r",
   "version": "4.3.2"
  }
 },
 "nbformat": 4,
 "nbformat_minor": 5
}
