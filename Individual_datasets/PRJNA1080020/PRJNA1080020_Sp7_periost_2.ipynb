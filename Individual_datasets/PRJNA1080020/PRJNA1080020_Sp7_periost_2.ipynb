{
 "cells": [
  {
   "cell_type": "markdown",
   "id": "96f5b794-fcea-4439-b517-3249b58e217b",
   "metadata": {},
   "source": [
    "## 0. Setting up workenvironment<a id=\"0\"></a>"
   ]
  },
  {
   "cell_type": "code",
   "execution_count": null,
   "id": "5f3975cb-d759-41f0-8d99-8dd24fd21a7f",
   "metadata": {},
   "outputs": [],
   "source": [
    "suppressPackageStartupMessages({\n",
    "    library(DropletUtils)\n",
    "    library(SingleCellExperiment)\n",
    "    library(scuttle)\n",
    "    library(Seurat)\n",
    "    library(SeuratWrappers)\n",
    "    library(stringr)\n",
    "    library(dplyr)\n",
    "    library(data.table)\n",
    "    library(Matrix)\n",
    "    library(patchwork)\n",
    "    library(ggplot2)\n",
    "})\n",
    "\n",
    "options(repr.plot.width = 16, repr.plot.height = 8)"
   ]
  },
  {
   "cell_type": "markdown",
   "id": "5eb7ef10-c19f-47ee-9cab-2c448ca9ddce",
   "metadata": {
    "tags": []
   },
   "source": [
    "## Loading data"
   ]
  },
  {
   "cell_type": "markdown",
   "id": "c051db1f-7312-46c5-9c05-b9c171669cf2",
   "metadata": {
    "tags": []
   },
   "source": [
    "### 3.1. Data analysis Seurat<a id=\"9\"></a>"
   ]
  },
  {
   "cell_type": "code",
   "execution_count": null,
   "id": "0a644d72-cdab-4204-b29b-846bee46f35d",
   "metadata": {},
   "outputs": [],
   "source": [
    "A <- readRDS(file = \"/home/jovyan/researcher_home/Documents/Tom/Atlas/data/SCA_core/Obrien/QC_sp7_periost_2.rds\")"
   ]
  },
  {
   "cell_type": "code",
   "execution_count": null,
   "id": "5c23fa69-a1ef-4af8-a21c-9b37b3136945",
   "metadata": {},
   "outputs": [],
   "source": [
    "A@meta.data$Author = 'OBrien'"
   ]
  },
  {
   "cell_type": "code",
   "execution_count": null,
   "id": "ebcb89ce-3ee2-405f-b41a-be704ca69781",
   "metadata": {},
   "outputs": [],
   "source": [
    "A@meta.data$CellType <- NULL"
   ]
  },
  {
   "cell_type": "code",
   "execution_count": null,
   "id": "10d15d39-2c13-48ac-8c24-b16cb7055667",
   "metadata": {},
   "outputs": [],
   "source": [
    "A <- NormalizeData(A, verbose = FALSE)\n",
    "A <- FindVariableFeatures(A, selection.method = \"vst\", nfeatures = 2000)\n",
    "\n",
    "# Identify the 10 most highly variable genes\n",
    "top10 <- head(VariableFeatures(A), 10)"
   ]
  },
  {
   "cell_type": "code",
   "execution_count": null,
   "id": "90728fd1-f03c-49c3-a257-ff3db52792a5",
   "metadata": {},
   "outputs": [],
   "source": [
    "all.genes <- rownames(A)\n",
    "A <- ScaleData(A, features = all.genes)"
   ]
  },
  {
   "cell_type": "code",
   "execution_count": null,
   "id": "805c4733-b3b3-46c1-a5d3-adf10c261a68",
   "metadata": {},
   "outputs": [],
   "source": [
    "A <- RunPCA(A, features = VariableFeatures(object = A), verbose = FALSE)"
   ]
  },
  {
   "cell_type": "code",
   "execution_count": null,
   "id": "557437a2-f9d2-480e-bda0-f865e8c9d941",
   "metadata": {},
   "outputs": [],
   "source": [
    "ElbowPlot(A, 50)"
   ]
  },
  {
   "cell_type": "code",
   "execution_count": null,
   "id": "67fb040f-b1ce-4dd5-8261-c8f34c6bede8",
   "metadata": {},
   "outputs": [],
   "source": [
    "A <- FindNeighbors(A, dims = 1:30)\n",
    "A<- FindClusters(A, resolution = 0.5)"
   ]
  },
  {
   "cell_type": "code",
   "execution_count": null,
   "id": "9df87299-00b7-448b-96ef-d8b9d25dd8f7",
   "metadata": {},
   "outputs": [],
   "source": [
    "A <- RunUMAP(A, dims = 1:30, n.neighbors = 12, verbose = FALSE)"
   ]
  },
  {
   "cell_type": "code",
   "execution_count": null,
   "id": "058b648b-3192-4fa2-8655-31ab6c33ed02",
   "metadata": {},
   "outputs": [],
   "source": [
    "A"
   ]
  },
  {
   "cell_type": "markdown",
   "id": "dcf4d862-1ce0-4825-a244-8cdc654ade4b",
   "metadata": {},
   "source": [
    "### Check annotation"
   ]
  },
  {
   "cell_type": "code",
   "execution_count": null,
   "id": "6e25d96d-3f5d-4110-98fd-d720d7c7ea5c",
   "metadata": {},
   "outputs": [],
   "source": [
    "# Paraxial Mesoderm: Tbx6+, Sox2-\n",
    "options(repr.plot.width = 18, repr.plot.height = 12)\n",
    "\n",
    "p1 <- DimPlot(A, label = TRUE) + NoLegend() + xlab(\"UMAP 1\") + ylab(\"UMAP 2\")\n",
    "p2 <- FeaturePlot(A, c(\"Tbx6\", \"Sox2\"), min.cutoff = \"q1\")  \n",
    "\n",
    "p1 + p2"
   ]
  },
  {
   "cell_type": "code",
   "execution_count": null,
   "id": "dbb06c06-7b07-4e7f-80be-8e4329f85ff4",
   "metadata": {},
   "outputs": [],
   "source": [
    "# Intermediate Mesoderm: Osr1, Wt1, Pax2\n",
    "options(repr.plot.width = 18, repr.plot.height = 12)\n",
    "\n",
    "p1 <- DimPlot(A, label = TRUE) + NoLegend() + xlab(\"UMAP 1\") + ylab(\"UMAP 2\")\n",
    "p2 <- FeaturePlot(A, c(\"Osr1\", \"Wt1\", \"Pax2\"), min.cutoff = \"q1\")  \n",
    "\n",
    "p1 + p2"
   ]
  },
  {
   "cell_type": "code",
   "execution_count": null,
   "id": "e86a7b4f-3a42-488f-8d49-c67400782dab",
   "metadata": {},
   "outputs": [],
   "source": [
    "# Lateral plate mesoderm\n",
    "options(repr.plot.width = 18, repr.plot.height = 12)\n",
    "\n",
    "p1 <- DimPlot(A, label = TRUE) + NoLegend() + xlab(\"UMAP 1\") + ylab(\"UMAP 2\")\n",
    "p2 <- FeaturePlot(A, c(\"Foxf1\", \"Bmp4\", \"Hoxb6\", \"Hand1\", \"Hand2\", \"Gata4\",\"Prrx1\"), min.cutoff = \"q1\")  \n",
    "\n",
    "p1 + p2"
   ]
  },
  {
   "cell_type": "code",
   "execution_count": null,
   "id": "1a38841e-b7e7-45db-bf13-7db214be04bb",
   "metadata": {},
   "outputs": [],
   "source": [
    "# Early limb bud mesenchyme\n",
    "options(repr.plot.width = 18, repr.plot.height = 12)\n",
    "\n",
    "p1 <- DimPlot(A, label = TRUE) + NoLegend() + xlab(\"UMAP 1\") + ylab(\"UMAP 2\")\n",
    "p2 <- FeaturePlot(A, c(\"Meis1\", \"Tbx4\", \"Tbx5\"), min.cutoff = \"q1\")  \n",
    "\n",
    "p1 + p2"
   ]
  },
  {
   "cell_type": "code",
   "execution_count": null,
   "id": "9b43ab22-21d3-4281-82c1-a94216e1b174",
   "metadata": {},
   "outputs": [],
   "source": [
    "# limb bud mesenchyme\n",
    "options(repr.plot.width = 18, repr.plot.height = 12)\n",
    "\n",
    "p1 <- DimPlot(A, label = TRUE) + NoLegend() + xlab(\"UMAP 1\") + ylab(\"UMAP 2\")\n",
    "p2 <- FeaturePlot(A, c(\"Prrx1\", \"Hoxa9\", \"Hoxa11\", \"Hoxa13\",'Fgf10'), min.cutoff = \"q1\")  \n",
    "\n",
    "p1 + p2"
   ]
  },
  {
   "cell_type": "code",
   "execution_count": null,
   "id": "5ffe45a3-2886-49d5-bb35-2c3a4688953d",
   "metadata": {},
   "outputs": [],
   "source": [
    "# ZPA\n",
    "options(repr.plot.width = 18, repr.plot.height = 12)\n",
    "\n",
    "p1 <- DimPlot(A, label = TRUE) + NoLegend() + xlab(\"UMAP 1\") + ylab(\"UMAP 2\")\n",
    "p2 <- FeaturePlot(A, c(\"Shh\"), min.cutoff = \"q1\")  \n",
    "\n",
    "p1 + p2"
   ]
  },
  {
   "cell_type": "code",
   "execution_count": null,
   "id": "316664b0",
   "metadata": {},
   "outputs": [],
   "source": [
    "# Chondroprogenitors\n",
    "options(repr.plot.width = 18, repr.plot.height = 12)\n",
    "\n",
    "p1 <- DimPlot(A, label = TRUE) + NoLegend() + xlab(\"UMAP 1\") + ylab(\"UMAP 2\")\n",
    "p2 <- FeaturePlot(A, c(\"Prrx1\", \"Prrx2\", \"Sox9\"), min.cutoff = \"q1\")  \n",
    "\n",
    "p1 + p2"
   ]
  },
  {
   "cell_type": "code",
   "execution_count": null,
   "id": "8eee8281",
   "metadata": {},
   "outputs": [],
   "source": [
    "# Chondrocytes\n",
    "options(repr.plot.width = 18, repr.plot.height = 12)\n",
    "\n",
    "p1 <- DimPlot(A, label = TRUE) + NoLegend() + xlab(\"UMAP 1\") + ylab(\"UMAP 2\")\n",
    "p2 <- FeaturePlot(A, c(\"Prg4\",\"Sox9\",\"Pthlh\",\"Ihh\",\"Col10a1\"), min.cutoff = \"q1\")  \n",
    "\n",
    "p1 + p2"
   ]
  },
  {
   "cell_type": "code",
   "execution_count": null,
   "id": "932d537c",
   "metadata": {},
   "outputs": [],
   "source": [
    "# Osteoprogenitors\n",
    "options(repr.plot.width = 18, repr.plot.height = 12)\n",
    "\n",
    "p1 <- DimPlot(A, label = TRUE) + NoLegend() + xlab(\"UMAP 1\") + ylab(\"UMAP 2\")\n",
    "p2 <- FeaturePlot(A, c(\"Runx2\", \"Sp7\"), min.cutoff = \"q1\")  \n",
    "\n",
    "p1 + p2"
   ]
  },
  {
   "cell_type": "code",
   "execution_count": null,
   "id": "837035ff-f266-4761-937a-30c60e0080eb",
   "metadata": {},
   "outputs": [],
   "source": [
    "# Pre-osteoblasts\n",
    "options(repr.plot.width = 18, repr.plot.height = 12)\n",
    "\n",
    "p1 <- DimPlot(A, label = TRUE) + NoLegend() + xlab(\"UMAP 1\") + ylab(\"UMAP 2\")\n",
    "p2 <- FeaturePlot(A, c(\"Spp1\", \"Sp7\"), min.cutoff = \"q1\")  \n",
    "\n",
    "p1 + p2"
   ]
  },
  {
   "cell_type": "code",
   "execution_count": null,
   "id": "f405fe3c",
   "metadata": {},
   "outputs": [],
   "source": [
    "# Osteoblasts\n",
    "options(repr.plot.width = 18, repr.plot.height = 12)\n",
    "\n",
    "p1 <- DimPlot(A, label = TRUE) + NoLegend() + xlab(\"UMAP 1\") + ylab(\"UMAP 2\")\n",
    "p2 <- FeaturePlot(A, c(\"Col1a1\", \"Bglap\"), min.cutoff = \"q1\")  \n",
    "\n",
    "p1 + p2"
   ]
  },
  {
   "cell_type": "code",
   "execution_count": null,
   "id": "945138c4",
   "metadata": {},
   "outputs": [],
   "source": [
    "# Osteocytes\n",
    "options(repr.plot.width = 18, repr.plot.height = 12)\n",
    "\n",
    "p1 <- DimPlot(A, label = TRUE) + NoLegend() + xlab(\"UMAP 1\") + ylab(\"UMAP 2\")\n",
    "p2 <- FeaturePlot(A, c(\"Dmp1\"), order= TRUE, min.cutoff = \"q1\")  \n",
    "\n",
    "p1 + p2"
   ]
  },
  {
   "cell_type": "code",
   "execution_count": null,
   "id": "7e331a88-ebd5-4e7d-93d5-e69ffb8dbbb0",
   "metadata": {},
   "outputs": [],
   "source": [
    "# Osteoclasts\n",
    "options(repr.plot.width = 18, repr.plot.height = 12)\n",
    "\n",
    "p1 <- DimPlot(A, label = TRUE) + NoLegend() + xlab(\"UMAP 1\") + ylab(\"UMAP 2\")\n",
    "p2 <- FeaturePlot(A, c(\"Csf1\", \"Ctsk\",'Cd68'), min.cutoff = \"q1\")  \n",
    "\n",
    "p1 + p2"
   ]
  },
  {
   "cell_type": "code",
   "execution_count": null,
   "id": "ad1063a2-279a-4046-bf56-7a11bfafbce1",
   "metadata": {},
   "outputs": [],
   "source": [
    "# Periosteal stem cells\n",
    "options(repr.plot.width = 18, repr.plot.height = 12)\n",
    "\n",
    "p1 <- DimPlot(A, label = TRUE) + NoLegend() + xlab(\"UMAP 1\") + ylab(\"UMAP 2\")\n",
    "p2 <- FeaturePlot(A, c(\"Pdpn\", \"Nt5e\", \"Cd164\"), min.cutoff = \"q1\")  \n",
    "\n",
    "p1 + p2"
   ]
  },
  {
   "cell_type": "code",
   "execution_count": null,
   "id": "471af22d-4257-449e-80a5-9e509c458b13",
   "metadata": {},
   "outputs": [],
   "source": [
    "# Periosteal progenitors\n",
    "options(repr.plot.width = 18, repr.plot.height = 12)\n",
    "\n",
    "p1 <- DimPlot(A, label = TRUE) + NoLegend() + xlab(\"UMAP 1\") + ylab(\"UMAP 2\")\n",
    "p2 <- FeaturePlot(A, c(\"Col5a2\", \"Twist2\", \"Tbx15\",'Cd140a', 'Cd150','Ctsk'), min.cutoff = \"q1\")  \n",
    "\n",
    "p1 + p2"
   ]
  },
  {
   "cell_type": "code",
   "execution_count": null,
   "id": "e4ddaea7-80b1-4131-935e-a4ff517c4409",
   "metadata": {},
   "outputs": [],
   "source": [
    "# Periosteum\n",
    "options(repr.plot.width = 18, repr.plot.height = 12)\n",
    "\n",
    "p1 <- DimPlot(A, label = TRUE) + NoLegend() + xlab(\"UMAP 1\") + ylab(\"UMAP 2\")\n",
    "p2 <- FeaturePlot(A, c(\"Postn\",'Wnt16'), min.cutoff = \"q1\")  \n",
    "\n",
    "p1 + p2"
   ]
  },
  {
   "cell_type": "code",
   "execution_count": null,
   "id": "4daa2530-c93c-4c64-a196-e2fd24ffac41",
   "metadata": {},
   "outputs": [],
   "source": [
    "# Joint precursors: sox9-\n",
    "options(repr.plot.width = 18, repr.plot.height = 12)\n",
    "\n",
    "p1 <- DimPlot(A, label = TRUE) + NoLegend() + xlab(\"UMAP 1\") + ylab(\"UMAP 2\")\n",
    "p2 <- FeaturePlot(A, c(\"Gdf5\", \"Wnt9a\", \"Smoc2\", \"Dact2\",\"Sox9\"), min.cutoff = \"q1\")  \n",
    "\n",
    "p1 + p2"
   ]
  },
  {
   "cell_type": "code",
   "execution_count": null,
   "id": "ac1b26a6-3074-472a-b2bf-7c3386c392f8",
   "metadata": {},
   "outputs": [],
   "source": [
    "# Interzone cells: sox9-\n",
    "options(repr.plot.width = 18, repr.plot.height = 12)\n",
    "\n",
    "p1 <- DimPlot(A, label = TRUE) + NoLegend() + xlab(\"UMAP 1\") + ylab(\"UMAP 2\")\n",
    "p2 <- FeaturePlot(A, c(\"Smoc2\", \"Dact2\", \"Wnt4\", \"Wnt16\",\"Sox9\"), min.cutoff = \"q1\")  \n",
    "\n",
    "p1 + p2"
   ]
  },
  {
   "cell_type": "code",
   "execution_count": null,
   "id": "18cdf44d-c4d3-4628-9c7a-57d188e3dc76",
   "metadata": {},
   "outputs": [],
   "source": [
    "# Tenocyte precursors\n",
    "options(repr.plot.width = 18, repr.plot.height = 12)\n",
    "\n",
    "p1 <- DimPlot(A, label = TRUE) + NoLegend() + xlab(\"UMAP 1\") + ylab(\"UMAP 2\")\n",
    "p2 <- FeaturePlot(A, c(\"Tnmd\", \"Tppp3\", \"Scx\", \"Prrx1\", \"Prrx2\"), min.cutoff = \"q1\")  \n",
    "\n",
    "p1 + p2"
   ]
  },
  {
   "cell_type": "code",
   "execution_count": null,
   "id": "93b9e23f-52f8-4c51-b547-b136526d16a6",
   "metadata": {},
   "outputs": [],
   "source": [
    "# Tenocytes\n",
    "options(repr.plot.width = 18, repr.plot.height = 12)\n",
    "\n",
    "p1 <- DimPlot(A, label = TRUE) + NoLegend() + xlab(\"UMAP 1\") + ylab(\"UMAP 2\")\n",
    "p2 <- FeaturePlot(A, c(\"Scx\", \"Tnmd\"), min.cutoff = \"q1\")  \n",
    "\n",
    "p1 + p2"
   ]
  },
  {
   "cell_type": "code",
   "execution_count": null,
   "id": "21a92fbb-8653-436e-b6f2-83a656166092",
   "metadata": {},
   "outputs": [],
   "source": [
    "# Synovial fibroblasts: Hla-\n",
    "options(repr.plot.width = 18, repr.plot.height = 12)\n",
    "\n",
    "p1 <- DimPlot(A, label = TRUE) + NoLegend() + xlab(\"UMAP 1\") + ylab(\"UMAP 2\")\n",
    "p2 <- FeaturePlot(A, c(\"Dkk1\", \"Dra\",\"Hla\"), min.cutoff = \"q1\")  \n",
    "\n",
    "p1 + p2"
   ]
  },
  {
   "cell_type": "code",
   "execution_count": null,
   "id": "6b83e86b-7e98-4386-93f9-e2779602b48b",
   "metadata": {},
   "outputs": [],
   "source": [
    "# Dermomyotome\n",
    "options(repr.plot.width = 18, repr.plot.height = 12)\n",
    "\n",
    "p1 <- DimPlot(A, label = TRUE) + NoLegend() + xlab(\"UMAP 1\") + ylab(\"UMAP 2\")\n",
    "p2 <- FeaturePlot(A, c(\"Sim1\", \"Pax3\", \"Lef1\", \"Ism1\"), min.cutoff = \"q1\")  \n",
    "\n",
    "p1 + p2"
   ]
  },
  {
   "cell_type": "code",
   "execution_count": null,
   "id": "1901c54b-bb31-47bf-9ef8-7fe924230544",
   "metadata": {},
   "outputs": [],
   "source": [
    "# Skeletal muscle cells\n",
    "options(repr.plot.width = 18, repr.plot.height = 12)\n",
    "\n",
    "p1 <- DimPlot(A, label = TRUE) + NoLegend() + xlab(\"UMAP 1\") + ylab(\"UMAP 2\")\n",
    "p2 <- FeaturePlot(A, c(\"Myhc\", \"Mrf4\",\"Myog\",\"Tnnt1\",\"Tnnt3\" ,\"Myod\"), min.cutoff = \"q1\")  \n",
    "\n",
    "p1 + p2"
   ]
  },
  {
   "cell_type": "code",
   "execution_count": null,
   "id": "c87d14cd-cf24-42cb-b183-02b762b568d3",
   "metadata": {},
   "outputs": [],
   "source": [
    "# Smooth muscle cells\n",
    "options(repr.plot.width = 18, repr.plot.height = 12)\n",
    "\n",
    "p1 <- DimPlot(A, label = TRUE) + NoLegend() + xlab(\"UMAP 1\") + ylab(\"UMAP 2\")\n",
    "p2 <- FeaturePlot(A, c(\"Acta2\",\"Myh11\"), min.cutoff = \"q1\")  \n",
    "\n",
    "p1 + p2"
   ]
  },
  {
   "cell_type": "code",
   "execution_count": null,
   "id": "4899d3e8-580d-47e3-8a4c-9359bb3fb0fa",
   "metadata": {},
   "outputs": [],
   "source": [
    "# Myogenic stem cells\n",
    "options(repr.plot.width = 18, repr.plot.height = 12)\n",
    "\n",
    "p1 <- DimPlot(A, label = TRUE) + NoLegend() + xlab(\"UMAP 1\") + ylab(\"UMAP 2\")\n",
    "p2 <- FeaturePlot(A, c(\"Pax7\",\"Myf5\"), min.cutoff = \"q1\")  \n",
    "\n",
    "p1 + p2"
   ]
  },
  {
   "cell_type": "code",
   "execution_count": null,
   "id": "99f18e53-9311-430f-8d62-b93fa354330c",
   "metadata": {},
   "outputs": [],
   "source": [
    "# Muscle progenitors\n",
    "options(repr.plot.width = 18, repr.plot.height = 12)\n",
    "\n",
    "p1 <- DimPlot(A, label = TRUE) + NoLegend() + xlab(\"UMAP 1\") + ylab(\"UMAP 2\")\n",
    "p2 <- FeaturePlot(A, c(\"Pax7\", \"Notch\", \"Itm2a\", \"Myf5\", \"Pax3\", \"Myod\"), min.cutoff = \"q1\")  \n",
    "\n",
    "p1 + p2"
   ]
  },
  {
   "cell_type": "code",
   "execution_count": null,
   "id": "2d421e75-7d64-42ab-a380-512df00942fd",
   "metadata": {},
   "outputs": [],
   "source": [
    "# Cardiomyocytes\n",
    "options(repr.plot.width = 18, repr.plot.height = 12)\n",
    "\n",
    "p1 <- DimPlot(A, label = TRUE) + NoLegend() + xlab(\"UMAP 1\") + ylab(\"UMAP 2\")\n",
    "p2 <- FeaturePlot(A, c(\"Rbpms\", \"Baz2b\", \"Foxp1\", \"Pde5a\", \"Pde3a\"), min.cutoff = \"q1\")  \n",
    "\n",
    "p1 + p2"
   ]
  },
  {
   "cell_type": "code",
   "execution_count": null,
   "id": "09f53137-860c-42e8-8266-fde7065d0291",
   "metadata": {},
   "outputs": [],
   "source": [
    "# Adipocytes\n",
    "options(repr.plot.width = 18, repr.plot.height = 12)\n",
    "\n",
    "p1 <- DimPlot(A, label = TRUE) + NoLegend() + xlab(\"UMAP 1\") + ylab(\"UMAP 2\")\n",
    "p2 <- FeaturePlot(A, c(\"Pparg\", \"Adipoq\"), min.cutoff = \"q1\")  \n",
    "\n",
    "p1 + p2"
   ]
  },
  {
   "cell_type": "code",
   "execution_count": null,
   "id": "b7928b3a-f0af-41f4-bfd7-1dba2e45e9a2",
   "metadata": {},
   "outputs": [],
   "source": [
    "# Perichondrium\n",
    "options(repr.plot.width = 18, repr.plot.height = 12)\n",
    "\n",
    "p1 <- DimPlot(A, label = TRUE) + NoLegend() + xlab(\"UMAP 1\") + ylab(\"UMAP 2\")\n",
    "p2 <- FeaturePlot(A, c(\"Col5a2\", \"Twist2\", \"Tbx15\"), min.cutoff = \"q1\")  \n",
    "\n",
    "p1 + p2"
   ]
  },
  {
   "cell_type": "code",
   "execution_count": null,
   "id": "5af58cef-890b-4835-a6db-b4a0af908cb2",
   "metadata": {},
   "outputs": [],
   "source": [
    "# Pericytes\n",
    "options(repr.plot.width = 18, repr.plot.height = 12)\n",
    "\n",
    "p1 <- DimPlot(A, label = TRUE) + NoLegend() + xlab(\"UMAP 1\") + ylab(\"UMAP 2\")\n",
    "p2 <- FeaturePlot(A, c(\"Mcam\", \"Cspg4\", \"Pdgfrb\", \"Slpi\",\"Vcam\", 'Rgs5','Dlk1'), min.cutoff = \"q1\")  \n",
    "\n",
    "p1 + p2"
   ]
  },
  {
   "cell_type": "code",
   "execution_count": null,
   "id": "271ae679-b11d-4d92-8068-0c63eef60643",
   "metadata": {},
   "outputs": [],
   "source": [
    "# Pericytes\n",
    "options(repr.plot.width = 18, repr.plot.height = 12)\n",
    "\n",
    "p1 <- DimPlot(A, label = TRUE) + NoLegend() + xlab(\"UMAP 1\") + ylab(\"UMAP 2\")\n",
    "p2 <- FeaturePlot(A, c(\"Pdgfrb\", \"Cspg4\", \"Rgs5\",\"Notch3\",'Mcam','Dlk1','Vcam1'), min.cutoff = \"q1\")  \n",
    "\n",
    "p1 + p2"
   ]
  },
  {
   "cell_type": "code",
   "execution_count": null,
   "id": "68aa3042-7971-4f51-88ff-7ecf9fe559a6",
   "metadata": {},
   "outputs": [],
   "source": [
    "# BMSC\n",
    "options(repr.plot.width = 18, repr.plot.height = 12)\n",
    "\n",
    "p1 <- DimPlot(A, label = TRUE) + NoLegend() + xlab(\"UMAP 1\") + ylab(\"UMAP 2\")\n",
    "p2 <- FeaturePlot(A, c(\"Cd105\", \"Nt5e\", \"Cd90\"), min.cutoff = \"q1\")  \n",
    "\n",
    "p1 + p2"
   ]
  },
  {
   "cell_type": "code",
   "execution_count": null,
   "id": "da48d9a0-b76a-4c09-b1e0-25a21c96b33a",
   "metadata": {},
   "outputs": [],
   "source": [
    "# SSPC/OSTEO/ADIPO-CAR\n",
    "options(repr.plot.width = 18, repr.plot.height = 12)\n",
    "\n",
    "p1 <- DimPlot(A, label = TRUE) + NoLegend() + xlab(\"UMAP 1\") + ylab(\"UMAP 2\")\n",
    "p2 <- FeaturePlot(A, c(\"Lepr\",'Cxcl12','Pdgfra','Bglap','Adipoq'), min.cutoff = \"q1\")  \n",
    "\n",
    "p1 + p2"
   ]
  },
  {
   "cell_type": "code",
   "execution_count": null,
   "id": "b91ab5fb-bed2-4e3e-a8fe-a2dddcb1af4d",
   "metadata": {},
   "outputs": [],
   "source": [
    "# Hematopoetic stem cells\n",
    "options(repr.plot.width = 18, repr.plot.height = 12)\n",
    "\n",
    "p1 <- DimPlot(A, label = TRUE) + NoLegend() + xlab(\"UMAP 1\") + ylab(\"UMAP 2\")\n",
    "p2 <- FeaturePlot(A, c(\"Cd38\", \"Thy1\", \"Kit\", \"Sca1\"), min.cutoff = \"q1\")  \n",
    "\n",
    "p1 + p2"
   ]
  },
  {
   "cell_type": "code",
   "execution_count": null,
   "id": "d1a60830-eead-4e4a-83d8-32a6046ad5c9",
   "metadata": {},
   "outputs": [],
   "source": [
    "# Erythroid cells\n",
    "options(repr.plot.width = 18, repr.plot.height = 12)\n",
    "\n",
    "p1 <- DimPlot(A, label = TRUE) + NoLegend() + xlab(\"UMAP 1\") + ylab(\"UMAP 2\")\n",
    "p2 <- FeaturePlot(A, c(\"Gypa\", 'Car2'), min.cutoff = \"q1\")  \n",
    "\n",
    "p1 + p2"
   ]
  },
  {
   "cell_type": "code",
   "execution_count": null,
   "id": "bc5d2000-3d40-46d4-8316-9956cb2f0e5a",
   "metadata": {},
   "outputs": [],
   "source": [
    "# Platelets\n",
    "options(repr.plot.width = 18, repr.plot.height = 12)\n",
    "\n",
    "p1 <- DimPlot(A, label = TRUE) + NoLegend() + xlab(\"UMAP 1\") + ylab(\"UMAP 2\")\n",
    "p2 <- FeaturePlot(A, c(\"F2rl2\", \"F5\"), min.cutoff = \"q1\")  \n",
    "\n",
    "p1 + p2"
   ]
  },
  {
   "cell_type": "code",
   "execution_count": null,
   "id": "515e15f8-ae07-4c96-93a5-61d10e544bbf",
   "metadata": {},
   "outputs": [],
   "source": [
    "# Megakaryocytes\n",
    "options(repr.plot.width = 18, repr.plot.height = 12)\n",
    "\n",
    "p1 <- DimPlot(A, label = TRUE) + NoLegend() + xlab(\"UMAP 1\") + ylab(\"UMAP 2\")\n",
    "p2 <- FeaturePlot(A, c(\"Vwf\", \"Pf4\", \"Gata1\", \"Selp\", \"Gp6\", \"Gp1ba\"), min.cutoff = \"q1\")  \n",
    "\n",
    "p1 + p2"
   ]
  },
  {
   "cell_type": "code",
   "execution_count": null,
   "id": "513fdbf4-7947-42f9-9e10-4f90a012057e",
   "metadata": {},
   "outputs": [],
   "source": [
    "# Immune cells\n",
    "options(repr.plot.width = 18, repr.plot.height = 12)\n",
    "\n",
    "p1 <- DimPlot(A, label = TRUE) + NoLegend() + xlab(\"UMAP 1\") + ylab(\"UMAP 2\")\n",
    "p2 <- FeaturePlot(A, c(\"Cd3g\", \"Cd19\", \"Cd68\", \"Cxcr2\",\"Mrc1\",\"Flt3\",\"Elane\",\"Ltf\",'Ngp'), min.cutoff = \"q1\")  \n",
    "\n",
    "p1 + p2"
   ]
  },
  {
   "cell_type": "code",
   "execution_count": null,
   "id": "9aff9bf1-a957-45ba-800f-176a614e83f7",
   "metadata": {},
   "outputs": [],
   "source": [
    "# Fast proliferating cells\n",
    "options(repr.plot.width = 18, repr.plot.height = 12)\n",
    "\n",
    "p1 <- DimPlot(A, label = TRUE) + NoLegend() + xlab(\"UMAP 1\") + ylab(\"UMAP 2\")\n",
    "p2 <- FeaturePlot(A, c(\"Cdk1\",\"Cdc20\"), min.cutoff = \"q1\")  \n",
    "\n",
    "p1 + p2"
   ]
  },
  {
   "cell_type": "code",
   "execution_count": null,
   "id": "68741477-c7c1-4450-843d-24fa2d4cfcc8",
   "metadata": {},
   "outputs": [],
   "source": [
    "# Vascular endothelial cells\n",
    "options(repr.plot.width = 18, repr.plot.height = 12)\n",
    "\n",
    "p1 <- DimPlot(A, label = TRUE) + NoLegend() + xlab(\"UMAP 1\") + ylab(\"UMAP 2\")\n",
    "p2 <- FeaturePlot(A, c(\"Vcam1\", \"Cd34\", \"Cd93\", \"Cdh5\",\"Pecam1\"), min.cutoff = \"q1\")  \n",
    "\n",
    "p1 + p2"
   ]
  },
  {
   "cell_type": "code",
   "execution_count": null,
   "id": "e5cdc22a-eeb1-4c44-ad01-89929941eda1",
   "metadata": {},
   "outputs": [],
   "source": [
    "# Lymphatic endothelial cells\n",
    "options(repr.plot.width = 18, repr.plot.height = 12)\n",
    "\n",
    "p1 <- DimPlot(A, label = TRUE) + NoLegend() + xlab(\"UMAP 1\") + ylab(\"UMAP 2\")\n",
    "p2 <- FeaturePlot(A, c(\"Lyve1\", \"Flt4\", \"Prox1\"), min.cutoff = \"q1\")  \n",
    "\n",
    "p1 + p2"
   ]
  },
  {
   "cell_type": "code",
   "execution_count": null,
   "id": "7d4e29d1-5461-4773-bc3e-ff5bfabe48b5",
   "metadata": {},
   "outputs": [],
   "source": [
    "# Apical ectodermal ridge\n",
    "options(repr.plot.width = 18, repr.plot.height = 12)\n",
    "\n",
    "p1 <- DimPlot(A, label = TRUE) + NoLegend() + xlab(\"UMAP 1\") + ylab(\"UMAP 2\")\n",
    "p2 <- FeaturePlot(A, c(\"Fgf8\", \"Fgf4\"), min.cutoff = \"q1\")  \n",
    "\n",
    "p1 + p2"
   ]
  },
  {
   "cell_type": "code",
   "execution_count": null,
   "id": "49560640-7fe2-4703-aa3a-d977c45b426d",
   "metadata": {},
   "outputs": [],
   "source": [
    "# Ectoderm\n",
    "options(repr.plot.width = 18, repr.plot.height = 12)\n",
    "\n",
    "p1 <- DimPlot(A, label = TRUE) + NoLegend() + xlab(\"UMAP 1\") + ylab(\"UMAP 2\")\n",
    "p2 <- FeaturePlot(A, c(\"Wnt7a\", \"En1\", \"Nes\", \"Pax6\"), min.cutoff = \"q1\")  \n",
    "\n",
    "p1 + p2"
   ]
  },
  {
   "cell_type": "code",
   "execution_count": null,
   "id": "5aa04e06-0ebf-447b-965c-fa9dc50d6360",
   "metadata": {},
   "outputs": [],
   "source": [
    "# Neurons\n",
    "options(repr.plot.width = 18, repr.plot.height = 12)\n",
    "\n",
    "p1 <- DimPlot(A, label = TRUE) + NoLegend() + xlab(\"UMAP 1\") + ylab(\"UMAP 2\")\n",
    "p2 <- FeaturePlot(A, c(\"Nefl\", \"Mapt\"), min.cutoff = \"q1\")  \n",
    "\n",
    "p1 + p2"
   ]
  },
  {
   "cell_type": "code",
   "execution_count": null,
   "id": "712baecb-4243-4faf-a2c2-07993c92db37",
   "metadata": {},
   "outputs": [],
   "source": [
    "# Skin\n",
    "options(repr.plot.width = 18, repr.plot.height = 12)\n",
    "\n",
    "p1 <- DimPlot(A, label = TRUE) + NoLegend() + xlab(\"UMAP 1\") + ylab(\"UMAP 2\")\n",
    "p2 <- FeaturePlot(A, c(\"Krt5\", \"Krt10\"), min.cutoff = \"q1\")  \n",
    "\n",
    "p1 + p2"
   ]
  },
  {
   "cell_type": "code",
   "execution_count": null,
   "id": "7ddc18a6-4549-4aed-9221-c7bbf06a1dcf",
   "metadata": {},
   "outputs": [],
   "source": [
    "# neurons\n",
    "options(repr.plot.width = 18, repr.plot.height = 12)\n",
    "\n",
    "p1 <- DimPlot(A, label = TRUE) + NoLegend() + xlab(\"UMAP 1\") + ylab(\"UMAP 2\")\n",
    "p2 <- FeaturePlot(A, c(\t\"Mpz\",\"Ednrb\",\"Egfl8\"), min.cutoff = \"q1\")  \n",
    "\n",
    "p1 + p2"
   ]
  },
  {
   "cell_type": "code",
   "execution_count": null,
   "id": "06a9e48c-f4bb-4403-b214-c9c511caf3aa",
   "metadata": {},
   "outputs": [],
   "source": [
    "# neurons\n",
    "options(repr.plot.width = 18, repr.plot.height = 12)\n",
    "\n",
    "p1 <- DimPlot(A, label = TRUE) + NoLegend() + xlab(\"UMAP 1\") + ylab(\"UMAP 2\")\n",
    "p2 <- FeaturePlot(A, c(\"Ighm\",\"Epcam\"), min.cutoff = \"q1\")  \n",
    "\n",
    "p1 + p2"
   ]
  },
  {
   "cell_type": "markdown",
   "id": "f558a08c-60d2-474c-bb62-01e0181f850a",
   "metadata": {
    "tags": []
   },
   "source": [
    "### 3.4. Differential expression analysis<a id=\"12\"></a>\n",
    "#### 3.4.1. Global annotation by differential expression analysis<a id=\"13\"></a>\n",
    "\n",
    "Seurat identifies markers that define clusters via differential expression. By default, it identifes positive and negative markers of a single cluster (specified in ident.1), compared to all other cells. `FindAllMarkers` automates this process for all clusters, but it is possible to test groups of clusters vs. each other, or against all cells.\n",
    "\n",
    "The `min.pct` argument requires a feature to be detected at a minimum percentage in either of the two groups of cells, and the `thresh.test` argument requires a feature to be differentially expressed (on average) by some amount between the two groups. You can set both of these to 0, but with a dramatic increase in time - since this will test a large number of features that are unlikely to be highly discriminatory. As another option to speed up these computations, `max.cells.per.ident` can be set. This will downsample each identity class to have no more cells than whatever this is set to. While there is generally going to be a loss in power, the speed increases can be significiant and the most highly differentially expressed features will likely still rise to the top."
   ]
  },
  {
   "cell_type": "code",
   "execution_count": null,
   "id": "65ff73a6-1ee8-4a79-a66e-8726e996689f",
   "metadata": {},
   "outputs": [],
   "source": [
    "# Seurat default settings\n",
    "A.markers <- FindAllMarkers(A, only.pos = TRUE, min.pct = 0.25, logfc.threshold = 0.25)"
   ]
  },
  {
   "cell_type": "code",
   "execution_count": null,
   "id": "9cde1d3f-2348-4b6d-a1d8-c8dcc1768c55",
   "metadata": {},
   "outputs": [],
   "source": [
    "#dir.create(\"./6-kmita/analysis\")\n",
    "write.csv(A.markers, file = \"SP7_periost_2.markers.csv\", quote = FALSE)"
   ]
  },
  {
   "cell_type": "markdown",
   "id": "072fb790-b292-4842-ac3e-78fe274d823b",
   "metadata": {},
   "source": [
    "**Adding cell types**"
   ]
  },
  {
   "cell_type": "code",
   "execution_count": null,
   "id": "6f6e04ac-3c55-4287-94f9-5c680af233f6",
   "metadata": {},
   "outputs": [],
   "source": [
    "A@meta.data$CellType <- NULL"
   ]
  },
  {
   "cell_type": "code",
   "execution_count": null,
   "id": "8ed21638-7e73-4fc4-8fb9-5c5d0933ff8c",
   "metadata": {},
   "outputs": [],
   "source": [
    "#creating column that contains cell type \n",
    "A@meta.data$CellType <- Idents(A)"
   ]
  },
  {
   "cell_type": "code",
   "execution_count": null,
   "id": "e049d19d-769f-4b20-bad5-5a8ed41fc9b8",
   "metadata": {},
   "outputs": [],
   "source": [
    "A@meta.data$CellType <- as.character(A@meta.data$CellType)\n",
    "\n",
    "A@meta.data$CellType[A@meta.data$CellType == '0'] <- 'Periosteum'\n",
    "A@meta.data$CellType[A@meta.data$CellType == '1'] <- 'Osteocytes'\n",
    "A@meta.data$CellType[A@meta.data$CellType == '2'] <- 'Osteoblasts'\n",
    "A@meta.data$CellType[A@meta.data$CellType == '3'] <- 'Periosteum'\n",
    "A@meta.data$CellType[A@meta.data$CellType == '4'] <- 'Chondro'\n",
    "A@meta.data$CellType[A@meta.data$CellType == '5'] <- 'Periosteum'\n",
    "A@meta.data$CellType[A@meta.data$CellType == '6'] <- 'Pre-osteoblasts'\n",
    "A@meta.data$CellType[A@meta.data$CellType == '8'] <- 'Perivascular cells'\n",
    "A@meta.data$CellType[A@meta.data$CellType == '9'] <- 'Tenocytes'\n",
    "A@meta.data$CellType[A@meta.data$CellType == '7'] <- 'Vascular endothelial cells'\n",
    "A@meta.data$CellType[A@meta.data$CellType == '10'] <- 'Epithelial cells'\n",
    "A@meta.data$CellType[A@meta.data$CellType == '11'] <- 'Immune cells'\n",
    "A@meta.data$CellType[A@meta.data$CellType == '12'] <- 'Osteoblasts'\n",
    "A@meta.data$CellType[A@meta.data$CellType == '13'] <- 'Immune cells'\n",
    "A@meta.data$CellType[A@meta.data$CellType == '14'] <- 'Neurons'\n",
    "\n",
    "\n",
    "A@meta.data$CellType <- as.factor(A@meta.data$CellType)"
   ]
  },
  {
   "cell_type": "code",
   "execution_count": null,
   "id": "a397fc9e-5d17-41ba-9da0-fbb9c4436454",
   "metadata": {},
   "outputs": [],
   "source": [
    "options(repr.plot.width = 10, repr.plot.height = 8)\n",
    "\n",
    "DimPlot(A, reduction = \"umap\", label = FALSE, group.by = \"CellType\") + xlab(\"UMAP 1\") + ylab(\"UMAP 2\")"
   ]
  },
  {
   "cell_type": "code",
   "execution_count": null,
   "id": "30b9703c-cfbc-4070-af46-74114b2702c2",
   "metadata": {},
   "outputs": [],
   "source": [
    "Idents(A)<-A@meta.data$CellType"
   ]
  },
  {
   "cell_type": "code",
   "execution_count": null,
   "id": "b80340a7-433a-463b-8935-5032ffb6bb5b",
   "metadata": {},
   "outputs": [],
   "source": [
    "#saveRDS(E10_5, file = \"/home/host_home/usb-drive/Thesis/Kmita/6-kmita/RDataSessions/E10_5_GlobalAnnotation_SeuratObject.Rds\")"
   ]
  },
  {
   "cell_type": "markdown",
   "id": "0f4497b0-ce67-40d4-ad32-341a6c591fdd",
   "metadata": {
    "tags": []
   },
   "source": [
    "#### 3.4.2. Refinement of global annotations<a id=\"13.2\"></a>\n",
    "##### 3.4.2.1. Subsetting mesenchymal clusters<a id=\"14\"></a>"
   ]
  },
  {
   "cell_type": "code",
   "execution_count": null,
   "id": "0874b718-dbbf-4aba-b16b-3e26a6bf2b0e",
   "metadata": {},
   "outputs": [],
   "source": []
  },
  {
   "cell_type": "code",
   "execution_count": null,
   "id": "10d54875-1eea-4c82-bfbd-8bcdb30f7743",
   "metadata": {},
   "outputs": [],
   "source": [
    "A_chondrocytes <- subset(A, idents = c(\"Chondro\"))"
   ]
  },
  {
   "cell_type": "code",
   "execution_count": null,
   "id": "022dc2b2-0d54-42b4-b88a-4936330132e6",
   "metadata": {},
   "outputs": [],
   "source": [
    "A_chondrocytes"
   ]
  },
  {
   "cell_type": "code",
   "execution_count": null,
   "id": "27c6d7dc-b573-48aa-b16b-f1894bc89a90",
   "metadata": {},
   "outputs": [],
   "source": [
    "A_chondrocytes <- NormalizeData(A_chondrocytes, verbose = FALSE)"
   ]
  },
  {
   "cell_type": "code",
   "execution_count": null,
   "id": "b7805808-5461-4a9e-b42c-0108772d05ca",
   "metadata": {},
   "outputs": [],
   "source": [
    "A_chondrocytes <- ScaleData(A_chondrocytes)"
   ]
  },
  {
   "cell_type": "code",
   "execution_count": null,
   "id": "f3f69328-438b-4cf9-bf93-057a518741d4",
   "metadata": {},
   "outputs": [],
   "source": [
    "A_chondrocytes <- RunPCA(A_chondrocytes, features = VariableFeatures(object = A_chondrocytes), verbose = FALSE)"
   ]
  },
  {
   "cell_type": "code",
   "execution_count": null,
   "id": "1b2ab3b4-ce08-4b5a-a277-070d680625ca",
   "metadata": {},
   "outputs": [],
   "source": [
    "ElbowPlot(A_chondrocytes, 50)"
   ]
  },
  {
   "cell_type": "code",
   "execution_count": null,
   "id": "7935363a-257d-42fa-b9dc-4fd934ec7aa2",
   "metadata": {
    "scrolled": true
   },
   "outputs": [],
   "source": [
    "A_chondrocytes <- FindNeighbors(A_chondrocytes, dims = 1:20, verbose = FALSE)\n",
    "A_chondrocytes <- FindClusters(A_chondrocytes, resolution = 2, verbose = FALSE)"
   ]
  },
  {
   "cell_type": "code",
   "execution_count": null,
   "id": "d168ea76-6d00-46a1-ab8a-12ef0e1aad53",
   "metadata": {
    "scrolled": true
   },
   "outputs": [],
   "source": [
    "A_chondrocytes <- RunUMAP(A_chondrocytes, dims = 1:20, n.neighbors = 12, verbose = FALSE)"
   ]
  },
  {
   "cell_type": "code",
   "execution_count": null,
   "id": "def36dc4-081e-4e2b-aa4f-98eac2358355",
   "metadata": {},
   "outputs": [],
   "source": [
    "options(repr.plot.width = 10, repr.plot.height = 8)\n",
    "DimPlot(A_chondrocytes, reduction = \"umap\", label=TRUE) + xlab(\"UMAP 1\") + ylab(\"UMAP 2\")\n",
    "\n",
    "#ggsave(\"./6-kmita/images/E10_5_m_no_annotation.png\" ,width=10, height=8)"
   ]
  },
  {
   "cell_type": "code",
   "execution_count": null,
   "id": "12d3e42d-c29d-40b2-ad5c-6d37d22bc806",
   "metadata": {
    "tags": []
   },
   "outputs": [],
   "source": [
    "A_chondrocytes.markers <- FindAllMarkers(A_chondrocytes)"
   ]
  },
  {
   "cell_type": "code",
   "execution_count": null,
   "id": "6640d888-b972-4063-9cff-47db6d95af6b",
   "metadata": {},
   "outputs": [],
   "source": [
    "# find markers for every cluster compared to all remaining cells, report only the positive\n",
    "# ones\n",
    "A_chondrocytes.markers %>%\n",
    "    group_by(cluster) %>%\n",
    "    slice_max(n = 2, order_by = avg_log2FC)"
   ]
  },
  {
   "cell_type": "code",
   "execution_count": null,
   "id": "13cdca37-20fb-4ae7-bc51-04bd07553685",
   "metadata": {},
   "outputs": [],
   "source": [
    "# Chondroprogenitors\n",
    "options(repr.plot.width = 18, repr.plot.height = 12)\n",
    "\n",
    "p1 <- DimPlot(A_chondrocytes, label = TRUE) + NoLegend() + xlab(\"UMAP 1\") + ylab(\"UMAP 2\")\n",
    "p2 <- FeaturePlot(A_chondrocytes, c(\"Prrx1\", \"Prrx2\", \"Sox9\",\"Col2a1\"), order= TRUE, min.cutoff = \"q1\")  \n",
    "\n",
    "p1 + p2"
   ]
  },
  {
   "cell_type": "code",
   "execution_count": null,
   "id": "2c57df46-59d3-4f9a-832d-e4616a008095",
   "metadata": {},
   "outputs": [],
   "source": [
    "# articular\n",
    "options(repr.plot.width = 18, repr.plot.height = 12)\n",
    "\n",
    "p1 <- DimPlot(A_chondrocytes, label = TRUE) + NoLegend() + xlab(\"UMAP 1\") + ylab(\"UMAP 2\")\n",
    "p2 <- FeaturePlot(A_chondrocytes, c(\"Prg4\",\"Col2a1\"), min.cutoff = \"q1\")  \n",
    "\n",
    "p1 + p2"
   ]
  },
  {
   "cell_type": "code",
   "execution_count": null,
   "id": "207272c9",
   "metadata": {},
   "outputs": [],
   "source": [
    "# Resting zone chondrocytes\n",
    "options(repr.plot.width = 18, repr.plot.height = 12)\n",
    "\n",
    "p1 <- DimPlot(A_chondrocytes, label = TRUE) + NoLegend() + xlab(\"UMAP 1\") + ylab(\"UMAP 2\")\n",
    "p2 <- FeaturePlot(A_chondrocytes, c(\"Fgfr3\", \"Pcp4\", \"Pthlh\", \"Sfrp5\", \"Spon1\",'Ucma'), min.cutoff = \"q1\")  \n",
    "\n",
    "p1 + p2"
   ]
  },
  {
   "cell_type": "code",
   "execution_count": null,
   "id": "f6ea1921",
   "metadata": {},
   "outputs": [],
   "source": [
    "# Proliferative chondrocytes\n",
    "options(repr.plot.width = 18, repr.plot.height = 12)\n",
    "\n",
    "p1 <- DimPlot(A_chondrocytes, label = TRUE) + NoLegend() + xlab(\"UMAP 1\") + ylab(\"UMAP 2\")\n",
    "p2 <- FeaturePlot(A_chondrocytes, c(\"Sox9\", \"Mki67\", \"Top2a\", \"Pth1r\"), min.cutoff = \"q1\")  \n",
    "\n",
    "p1 + p2"
   ]
  },
  {
   "cell_type": "code",
   "execution_count": null,
   "id": "36f78bee",
   "metadata": {},
   "outputs": [],
   "source": [
    "# Pre-hypertrophic chondrocytes\n",
    "options(repr.plot.width = 18, repr.plot.height = 12)\n",
    "\n",
    "p1 <- DimPlot(A_chondrocytes, label = TRUE) + NoLegend() + xlab(\"UMAP 1\") + ylab(\"UMAP 2\")\n",
    "p2 <- FeaturePlot(A_chondrocytes, c(\"Ihh\", \"Ppa1\", \"Smpd3\",'Col10a1'), order= TRUE, min.cutoff = \"q1\")  \n",
    "\n",
    "p1 + p2"
   ]
  },
  {
   "cell_type": "code",
   "execution_count": null,
   "id": "7add2bd4",
   "metadata": {},
   "outputs": [],
   "source": [
    "# SSPC\n",
    "options(repr.plot.width = 18, repr.plot.height = 12)\n",
    "\n",
    "p1 <- DimPlot(A_chondrocytes, label = TRUE) + NoLegend() + xlab(\"UMAP 1\") + ylab(\"UMAP 2\")\n",
    "p2 <- FeaturePlot(A_chondrocytes, c(\"Lepr\",\"Pdgfrb\",'Prrx1',\"Eng\", \"Nt5e\", \"Thy1\",\"Cxcl12\",\"Sp7\",\"Adipoq\"), min.cutoff = \"q1\") \n",
    "\n",
    "p1 + p2"
   ]
  },
  {
   "cell_type": "code",
   "execution_count": null,
   "id": "95db3adb",
   "metadata": {},
   "outputs": [],
   "source": [
    "# SSPC\n",
    "options(repr.plot.width = 18, repr.plot.height = 12)\n",
    "\n",
    "p1 <- DimPlot(A_chondrocytes, label = TRUE) + NoLegend() + xlab(\"UMAP 1\") + ylab(\"UMAP 2\")\n",
    "p2 <- FeaturePlot(A_chondrocytes, c(\"Lepr\",\"Pdgfrb\",'Prrx1',\"Eng\", \"Nt5e\", \"Thy1\",\"Cxcl12\",\"Sp7\",\"Adipoq\"), min.cutoff = \"q1\") \n",
    "\n",
    "p1 + p2"
   ]
  },
  {
   "cell_type": "code",
   "execution_count": null,
   "id": "eba9be19-573e-4aa0-8eaf-ec483c21bc28",
   "metadata": {},
   "outputs": [],
   "source": [
    "# per\n",
    "options(repr.plot.width = 18, repr.plot.height = 12)\n",
    "\n",
    "p1 <- DimPlot(A_chondrocytes, label = TRUE) + NoLegend() + xlab(\"UMAP 1\") + ylab(\"UMAP 2\")\n",
    "p2 <- FeaturePlot(A_chondrocytes, c(\"Postn\",\"Wnt16\",\"Ctsk\"), min.cutoff = \"q1\") \n",
    "\n",
    "p1 + p2"
   ]
  },
  {
   "cell_type": "code",
   "execution_count": null,
   "id": "ab7988d7",
   "metadata": {},
   "outputs": [],
   "source": [
    "# per\n",
    "options(repr.plot.width = 18, repr.plot.height = 12)\n",
    "\n",
    "p1 <- DimPlot(A_chondrocytes, label = TRUE) + NoLegend() + xlab(\"UMAP 1\") + ylab(\"UMAP 2\")\n",
    "p2 <- FeaturePlot(A_chondrocytes, c(\"Postn\",\"Wnt16\",\"Ctsk\",'Spp1'), min.cutoff = \"q1\") \n",
    "\n",
    "p1 + p2"
   ]
  },
  {
   "cell_type": "code",
   "execution_count": null,
   "id": "a64f7ad3-747b-4d57-8c25-b7cd4a364b8d",
   "metadata": {},
   "outputs": [],
   "source": [
    "A_chondrocytes@meta.data$CellType_d <- Idents(A_chondrocytes)"
   ]
  },
  {
   "cell_type": "code",
   "execution_count": null,
   "id": "acf90ab3-f092-4283-8c73-dc5a50cdb952",
   "metadata": {},
   "outputs": [],
   "source": [
    "A_chondrocytes@meta.data$CellType_d <- as.character(A_chondrocytes@meta.data$CellType_d)\n",
    "\n",
    "A_chondrocytes@meta.data$CellType_d[A_chondrocytes@meta.data$CellType_d == '0'] <- 'Pre-hypertrophic chondrocytes'\n",
    "A_chondrocytes@meta.data$CellType_d[A_chondrocytes@meta.data$CellType_d == '1'] <- 'Pre-hypertrophic chondrocytes'\n",
    "A_chondrocytes@meta.data$CellType_d[A_chondrocytes@meta.data$CellType_d == '2'] <- 'Pre-hypertrophic chondrocytes'\n",
    "A_chondrocytes@meta.data$CellType_d[A_chondrocytes@meta.data$CellType_d == '3'] <- 'Pre-hypertrophic chondrocytes'\n",
    "A_chondrocytes@meta.data$CellType_d[A_chondrocytes@meta.data$CellType_d == '4'] <- 'Pre-hypertrophic chondrocytes'\n",
    "A_chondrocytes@meta.data$CellType_d[A_chondrocytes@meta.data$CellType_d == '5'] <- 'Hypertrophic chondrocytes'\n",
    "A_chondrocytes@meta.data$CellType_d[A_chondrocytes@meta.data$CellType_d == '6'] <- 'Pre-hypertrophic chondrocytes'\n",
    "A_chondrocytes@meta.data$CellType_d[A_chondrocytes@meta.data$CellType_d == '7'] <- 'Articular chondrocytes'\n",
    "A_chondrocytes@meta.data$CellType_d[A_chondrocytes@meta.data$CellType_d == '8'] <- 'Pre-hypertrophic chondrocytes'\n",
    "A_chondrocytes@meta.data$CellType_d[A_chondrocytes@meta.data$CellType_d == '9'] <- 'Periosteum'\n",
    "A_chondrocytes@meta.data$CellType_d[A_chondrocytes@meta.data$CellType_d == '10'] <- 'Hypertrophic chondrocytes'\n",
    "A_chondrocytes@meta.data$CellType_d[A_chondrocytes@meta.data$CellType_d == '11'] <- 'Hypertrophic chondrocytes'\n",
    "A_chondrocytes@meta.data$CellType_d[A_chondrocytes@meta.data$CellType_d == '12'] <- 'Pre-hypertrophic chondrocytes'\n",
    "A_chondrocytes@meta.data$CellType_d[A_chondrocytes@meta.data$CellType_d == '13'] <- 'Periosteum'\n",
    "\n",
    "A_chondrocytes@meta.data$CellType_d[A_chondrocytes@meta.data$CellType_d == '14'] <- 'Pre-hypertrophic chondrocytes'\n",
    "\n",
    "\n",
    "A_chondrocytes@meta.data$CellType_d <- as.factor(A_chondrocytes@meta.data$CellType_d)"
   ]
  },
  {
   "cell_type": "code",
   "execution_count": null,
   "id": "8db586d2-bcbb-458c-b495-ac13d1b878af",
   "metadata": {},
   "outputs": [],
   "source": [
    "DimPlot(A_chondrocytes, group.by= \"CellType_d\", label = TRUE) + NoLegend() + xlab(\"UMAP 1\") + ylab(\"UMAP 2\")"
   ]
  },
  {
   "cell_type": "markdown",
   "id": "53d8db75-ab9d-41fd-9e67-afe597a1746d",
   "metadata": {
    "jp-MarkdownHeadingCollapsed": true,
    "tags": []
   },
   "source": [
    "#### 3.4.2. Refinement of global annotations<a id=\"13.2\"></a>\n",
    "##### 3.4.2.1. Subsetting endothelial clusters<a id=\"14\"></a>"
   ]
  },
  {
   "cell_type": "code",
   "execution_count": null,
   "id": "4de3999a-a90d-4b81-a2b7-7d736eef4453",
   "metadata": {},
   "outputs": [],
   "source": [
    "A_osteoblasts <- subset(A, idents = c(\"Osteo\"))"
   ]
  },
  {
   "cell_type": "code",
   "execution_count": null,
   "id": "508e035f-744c-4a09-ab45-1ddba5675791",
   "metadata": {},
   "outputs": [],
   "source": [
    "A_osteoblasts"
   ]
  },
  {
   "cell_type": "code",
   "execution_count": null,
   "id": "ee709c5f-f544-47db-95f0-6e6fa0d341f8",
   "metadata": {},
   "outputs": [],
   "source": [
    "A_osteoblasts <- ScaleData(A_osteoblasts)"
   ]
  },
  {
   "cell_type": "code",
   "execution_count": null,
   "id": "f6dd3167-cdf7-47b1-9ea7-244e03bb3db3",
   "metadata": {},
   "outputs": [],
   "source": [
    "A_osteoblasts <- RunPCA(A_osteoblasts, features = VariableFeatures(object = A_osteoblasts), verbose = FALSE)"
   ]
  },
  {
   "cell_type": "code",
   "execution_count": null,
   "id": "90ba6ab3-0a8c-4a62-9bec-8760a3d43ea6",
   "metadata": {},
   "outputs": [],
   "source": [
    "ElbowPlot(A_osteoblasts, 50)"
   ]
  },
  {
   "cell_type": "code",
   "execution_count": null,
   "id": "ce19c1e0-7939-4a71-9d7d-3523c341eb67",
   "metadata": {
    "scrolled": true
   },
   "outputs": [],
   "source": [
    "A_osteoblasts <- FindNeighbors(A_osteoblasts, dims = 1:20, verbose = FALSE)\n",
    "A_osteoblasts <- FindClusters(A_osteoblasts, resolution = 1, verbose = FALSE)"
   ]
  },
  {
   "cell_type": "code",
   "execution_count": null,
   "id": "2172c33e-e634-44d6-a806-5c9d782dc396",
   "metadata": {
    "scrolled": true
   },
   "outputs": [],
   "source": [
    "A_osteoblasts <- RunUMAP(A_osteoblasts, dims = 1:20, n.neighbors = 12, verbose = FALSE)"
   ]
  },
  {
   "cell_type": "code",
   "execution_count": null,
   "id": "cb9df8b7-3e0c-4507-80f8-f81da9ce77a9",
   "metadata": {},
   "outputs": [],
   "source": [
    "options(repr.plot.width = 10, repr.plot.height = 8)\n",
    "DimPlot(A_osteoblasts, reduction = \"umap\", label=TRUE) + xlab(\"UMAP 1\") + ylab(\"UMAP 2\")\n",
    "\n",
    "#ggsave(\"./6-kmita/images/E10_5_m_no_annotation.png\" ,width=10, height=8)"
   ]
  },
  {
   "cell_type": "code",
   "execution_count": null,
   "id": "8874c745-c791-4bd4-bd43-ff74b50a28e1",
   "metadata": {
    "tags": []
   },
   "outputs": [],
   "source": [
    "A_osteoblasts.markers <- FindAllMarkers(A_osteoblasts)"
   ]
  },
  {
   "cell_type": "code",
   "execution_count": null,
   "id": "70af6cfc-693b-42ed-a607-b92170d5b623",
   "metadata": {},
   "outputs": [],
   "source": [
    "# find markers for every cluster compared to all remaining cells, report only the positive\n",
    "# ones\n",
    "A_osteoblasts.markers %>%\n",
    "    group_by(cluster) %>%\n",
    "    slice_max(n = 2, order_by = avg_log2FC)"
   ]
  },
  {
   "cell_type": "code",
   "execution_count": null,
   "id": "5aac502e-a53e-4c32-94d5-14aa5d23ae2e",
   "metadata": {},
   "outputs": [],
   "source": [
    "write.csv(A_osteoblasts.markers, file = \"A_osteoblast.markers.csv\", quote = FALSE)"
   ]
  },
  {
   "cell_type": "code",
   "execution_count": null,
   "id": "97142c34-f10a-465a-a6fc-be093b30876b",
   "metadata": {},
   "outputs": [],
   "source": [
    "# Osteoprogenitors\n",
    "options(repr.plot.width = 18, repr.plot.height = 12)\n",
    "\n",
    "p1 <- DimPlot(A_osteoblasts, label = TRUE) + NoLegend() + xlab(\"UMAP 1\") + ylab(\"UMAP 2\")\n",
    "p2 <- FeaturePlot(A_osteoblasts, c(\"Runx2\", \"Sp7\",'Prrx1'), min.cutoff = \"q1\")  \n",
    "\n",
    "p1 + p2"
   ]
  },
  {
   "cell_type": "code",
   "execution_count": null,
   "id": "60103ca1-0ddb-47df-8e67-e3468db2117c",
   "metadata": {},
   "outputs": [],
   "source": [
    "# Osteoblasts\n",
    "options(repr.plot.width = 18, repr.plot.height = 12)\n",
    "\n",
    "p1 <- DimPlot(A_osteoblasts, label = TRUE) + NoLegend() + xlab(\"UMAP 1\") + ylab(\"UMAP 2\")\n",
    "p2 <- FeaturePlot(A_osteoblasts, c(\"Col1a1\", \"Bglap\"), min.cutoff = \"q1\")  \n",
    "\n",
    "p1 + p2"
   ]
  },
  {
   "cell_type": "code",
   "execution_count": null,
   "id": "66b28410-bb01-44df-af1f-e2bafeaff9a7",
   "metadata": {},
   "outputs": [],
   "source": [
    "# Osteocyte\n",
    "options(repr.plot.width = 18, repr.plot.height = 12)\n",
    "\n",
    "p1 <- DimPlot(A_osteoblasts, label = TRUE) + NoLegend() + xlab(\"UMAP 1\") + ylab(\"UMAP 2\")\n",
    "p2 <- FeaturePlot(A_osteoblasts, c(\"Dmp1\"), min.cutoff = \"q1\")  \n",
    "\n",
    "p1 + p2"
   ]
  },
  {
   "cell_type": "code",
   "execution_count": null,
   "id": "4442a50b-d326-421e-b601-9a7accc29b31",
   "metadata": {},
   "outputs": [],
   "source": [
    "# fast proliferating osteoblasts\n",
    "options(repr.plot.width = 18, repr.plot.height = 12)\n",
    "\n",
    "p1 <- DimPlot(A_osteoblasts, label = TRUE) + NoLegend() + xlab(\"UMAP 1\") + ylab(\"UMAP 2\")\n",
    "p2 <- FeaturePlot(A_osteoblasts, c(\"Cdc20\",\"Cenpe\"), min.cutoff = \"q1\")  \n",
    "\n",
    "p1 + p2"
   ]
  },
  {
   "cell_type": "code",
   "execution_count": null,
   "id": "552c0ba2-53f5-4594-a620-69b87abc5f73",
   "metadata": {},
   "outputs": [],
   "source": [
    "#periosteumo\n",
    "\n",
    "p1 <- DimPlot(A_osteoblasts, label = TRUE) + NoLegend() + xlab(\"UMAP 1\") + ylab(\"UMAP 2\")\n",
    "p2 <- FeaturePlot(A_osteoblasts, c(\"Postn\",\"Wnt16\",'Tnmd','Scx'), min.cutoff = \"q1\")  \n",
    "\n",
    "p1 + p2"
   ]
  },
  {
   "cell_type": "code",
   "execution_count": null,
   "id": "67b5b157-7cfe-44b7-9d9c-01cce15d1c63",
   "metadata": {},
   "outputs": [],
   "source": [
    "#fibro\n",
    "\n",
    "p1 <- DimPlot(A_osteoblasts, label = TRUE) + NoLegend() + xlab(\"UMAP 1\") + ylab(\"UMAP 2\")\n",
    "p2 <- FeaturePlot(A_osteoblasts, c(\"Clec3b\",\"Angptl1\",\"Adipoq\"), min.cutoff = \"q1\")  \n",
    "\n",
    "p1 + p2"
   ]
  },
  {
   "cell_type": "code",
   "execution_count": null,
   "id": "e410de34",
   "metadata": {},
   "outputs": [],
   "source": [
    "#fibro\n",
    "\n",
    "p1 <- DimPlot(A_osteoblasts, label = TRUE) + NoLegend() + xlab(\"UMAP 1\") + ylab(\"UMAP 2\")\n",
    "p2 <- FeaturePlot(A_osteoblasts, c(\"Clec3b\",\"Angptl1\",\"Adipoq\"), min.cutoff = \"q1\")  \n",
    "\n",
    "p1 + p2"
   ]
  },
  {
   "cell_type": "code",
   "execution_count": null,
   "id": "b74c15d3-d705-44d4-9f1d-ef8361759d8f",
   "metadata": {},
   "outputs": [],
   "source": [
    "A_osteoblasts@meta.data$CellType_d <- Idents(A_osteoblasts)"
   ]
  },
  {
   "cell_type": "code",
   "execution_count": null,
   "id": "ceab876a-5362-4274-824b-6cfc1f5b6afd",
   "metadata": {},
   "outputs": [],
   "source": [
    "A_osteoblasts@meta.data$CellType_d <- as.character(A_osteoblasts@meta.data$CellType_d)\n",
    "\n",
    "A_osteoblasts@meta.data$CellType_d[A_osteoblasts@meta.data$CellType_d == '0'] <- 'Osteoprogenitors'\n",
    "A_osteoblasts@meta.data$CellType_d[A_osteoblasts@meta.data$CellType_d == '1'] <- 'Resting zone chondrocytes'\n",
    "A_osteoblasts@meta.data$CellType_d[A_osteoblasts@meta.data$CellType_d == '2'] <- 'Osteoprogenitors'\n",
    "A_osteoblasts@meta.data$CellType_d[A_osteoblasts@meta.data$CellType_d == '3'] <- 'Osteoprogenitors'\n",
    "A_osteoblasts@meta.data$CellType_d[A_osteoblasts@meta.data$CellType_d == '4'] <- 'Osteoprogenitors'\n",
    "A_osteoblasts@meta.data$CellType_d[A_osteoblasts@meta.data$CellType_d == '5'] <- 'Osteoprogenitors'\n",
    "A_osteoblasts@meta.data$CellType_d[A_osteoblasts@meta.data$CellType_d == '6'] <- 'Osteoblasts'\n",
    "\n",
    "\n",
    "\n",
    "A_osteoblasts@meta.data$CellType_d <- as.factor(A_osteoblasts@meta.data$CellType_d)"
   ]
  },
  {
   "cell_type": "markdown",
   "id": "fb11a602-b29f-4e38-b7e9-1acdb95c3504",
   "metadata": {
    "jp-MarkdownHeadingCollapsed": true,
    "tags": []
   },
   "source": [
    "#### 3.4.2. Refinement of global annotations<a id=\"13.2\"></a>\n",
    "##### 3.4.2.1. Subsetting endothelial clusters<a id=\"14\"></a>"
   ]
  },
  {
   "cell_type": "code",
   "execution_count": null,
   "id": "c919a5a3-b9f5-44ad-8ca7-4945040c1c9d",
   "metadata": {},
   "outputs": [],
   "source": [
    "A_immune <- subset(A, idents = c(\"Immune\"))"
   ]
  },
  {
   "cell_type": "code",
   "execution_count": null,
   "id": "808ab6a9-1e53-4326-abe9-5279b0c55585",
   "metadata": {},
   "outputs": [],
   "source": [
    "A_immune"
   ]
  },
  {
   "cell_type": "code",
   "execution_count": null,
   "id": "d4c8792b-4dab-4cb6-a9f9-47bf989a0add",
   "metadata": {},
   "outputs": [],
   "source": [
    "A_immune <- ScaleData(A_immune)"
   ]
  },
  {
   "cell_type": "code",
   "execution_count": null,
   "id": "c12de0f5-42db-41ce-b5b4-9b9e736486be",
   "metadata": {},
   "outputs": [],
   "source": [
    "A_immune <- RunPCA(A_immune, features = VariableFeatures(object = A_immune), verbose = FALSE)"
   ]
  },
  {
   "cell_type": "code",
   "execution_count": null,
   "id": "a996cb2c-7031-4b86-a3b2-f3cb61b8386b",
   "metadata": {},
   "outputs": [],
   "source": [
    "ElbowPlot(A_immune, 50)"
   ]
  },
  {
   "cell_type": "code",
   "execution_count": null,
   "id": "8860184f-4157-4678-8d02-9b5c40941323",
   "metadata": {
    "scrolled": true
   },
   "outputs": [],
   "source": [
    "A_immune <- FindNeighbors(A_immune, dims = 1:30, verbose = FALSE)\n",
    "A_immune <- FindClusters(A_immune, resolution = 2, verbose = FALSE)"
   ]
  },
  {
   "cell_type": "code",
   "execution_count": null,
   "id": "6ff7e914-2998-4659-bb62-ec17360bb6b6",
   "metadata": {
    "scrolled": true
   },
   "outputs": [],
   "source": [
    "A_immune <- RunUMAP(A_immune, dims = 1:30, n.neighbors = 12, verbose = FALSE)"
   ]
  },
  {
   "cell_type": "code",
   "execution_count": null,
   "id": "7e7d8441-b454-421f-b41d-afc987a43c59",
   "metadata": {},
   "outputs": [],
   "source": [
    "options(repr.plot.width = 10, repr.plot.height = 8)\n",
    "DimPlot(A_immune, reduction = \"umap\", label=TRUE) + xlab(\"UMAP 1\") + ylab(\"UMAP 2\")\n",
    "\n",
    "#ggsave(\"./6-kmita/images/E10_5_m_no_annotation.png\" ,width=10, height=8)"
   ]
  },
  {
   "cell_type": "code",
   "execution_count": null,
   "id": "aeda8f3c-5b8c-4943-901b-b7e31216ebbf",
   "metadata": {},
   "outputs": [],
   "source": [
    "# OSteoclast\n",
    "options(repr.plot.width = 18, repr.plot.height = 12)\n",
    "\n",
    "p1 <- DimPlot(A_immune, label = TRUE) + NoLegend() + xlab(\"UMAP 1\") + ylab(\"UMAP 2\")\n",
    "p2 <- FeaturePlot(A_immune, c(\"Ctsk\"), min.cutoff = \"q1\")  \n",
    "\n",
    "p1 + p2"
   ]
  },
  {
   "cell_type": "code",
   "execution_count": null,
   "id": "e7747ccd-5878-4528-880d-51aa0485c22f",
   "metadata": {},
   "outputs": [],
   "source": [
    "A_immune@meta.data$CellType_d <- Idents(A_immune)"
   ]
  },
  {
   "cell_type": "code",
   "execution_count": null,
   "id": "cff50935-0f41-4b78-926d-3c04bccc2a7d",
   "metadata": {},
   "outputs": [],
   "source": [
    "A_immune@meta.data$CellType_d <- as.character(A_immune@meta.data$CellType_d)\n",
    "\n",
    "A_immune@meta.data$CellType_d[A_immune@meta.data$CellType_d == '0'] <- 'Immune cells'\n",
    "A_immune@meta.data$CellType_d[A_immune@meta.data$CellType_d == '1'] <- 'Immune cells'\n",
    "A_immune@meta.data$CellType_d[A_immune@meta.data$CellType_d == '2'] <- 'Immune cells'\n",
    "A_immune@meta.data$CellType_d[A_immune@meta.data$CellType_d == '3'] <- 'Immune cells'\n",
    "A_immune@meta.data$CellType_d[A_immune@meta.data$CellType_d == '4'] <- 'Immune cells'\n",
    "A_immune@meta.data$CellType_d[A_immune@meta.data$CellType_d == '5'] <- 'Immune cells'\n",
    "A_immune@meta.data$CellType_d[A_immune@meta.data$CellType_d == '6'] <- 'Immune cells'\n",
    "A_immune@meta.data$CellType_d[A_immune@meta.data$CellType_d == '7'] <- 'Immune cells'\n",
    "A_immune@meta.data$CellType_d[A_immune@meta.data$CellType_d == '8'] <- 'Immune cells'\n",
    "A_immune@meta.data$CellType_d[A_immune@meta.data$CellType_d == '9'] <- 'Immune cells'\n",
    "A_immune@meta.data$CellType_d[A_immune@meta.data$CellType_d == '10'] <- 'Immune cells'\n",
    "A_immune@meta.data$CellType_d[A_immune@meta.data$CellType_d == '11'] <- 'Immune cells'\n",
    "A_immune@meta.data$CellType_d[A_immune@meta.data$CellType_d == '12'] <- 'Immune cells'\n",
    "A_immune@meta.data$CellType_d[A_immune@meta.data$CellType_d == '13'] <- 'Osteoclasts'\n",
    "A_immune@meta.data$CellType_d[A_immune@meta.data$CellType_d == '14'] <- 'Immune cells'\n",
    "A_immune@meta.data$CellType_d[A_immune@meta.data$CellType_d == '15'] <- 'Immune cells'\n",
    "\n",
    "\n",
    "A_immune@meta.data$CellType_d <- as.factor(A_immune@meta.data$CellType_d)"
   ]
  },
  {
   "cell_type": "markdown",
   "id": "d94ded51-1a07-43bd-b050-d1316dac8832",
   "metadata": {
    "tags": []
   },
   "source": [
    "#### 3.4.2. Updating annotations<a id=\"16\"></a>"
   ]
  },
  {
   "cell_type": "code",
   "execution_count": null,
   "id": "dbf9e4f4-0b33-4d5e-bcd3-a1a88700be10",
   "metadata": {},
   "outputs": [],
   "source": [
    "meta1 <- A@meta.data\n",
    "meta2 <- A_chondrocytes@meta.data"
   ]
  },
  {
   "cell_type": "code",
   "execution_count": null,
   "id": "3bac6127-feda-4bc6-b753-f441af507305",
   "metadata": {},
   "outputs": [],
   "source": [
    "df <- split(meta1, meta1$CellType)"
   ]
  },
  {
   "cell_type": "code",
   "execution_count": null,
   "id": "9286b15c-19b9-4bde-ade6-a5a340c2ca3e",
   "metadata": {},
   "outputs": [],
   "source": [
    "chondro <- rownames(df$Chondro)"
   ]
  },
  {
   "cell_type": "code",
   "execution_count": null,
   "id": "f3f2a4c9-42e8-43d6-ae7d-9d5f7af41f86",
   "metadata": {},
   "outputs": [],
   "source": [
    "chondro_meta <- meta2[chondro, c(\"CellType_d\",\"Author\")]\n",
    "chondro_meta$Author<- NULL\n",
    "\n",
    "head(chondro_meta)"
   ]
  },
  {
   "cell_type": "code",
   "execution_count": null,
   "id": "30d1dd21-3bac-43ec-9041-8c274e641b55",
   "metadata": {},
   "outputs": [],
   "source": [
    "df$Chondro <- cbind(df$Chondro, chondro_meta)\n",
    "df$Chondro$CellType <- df$Chondro$CellType_d\n",
    "df$Chondro$CellType_d <- NULL"
   ]
  },
  {
   "cell_type": "code",
   "execution_count": null,
   "id": "977b4d13-af3f-4a0b-9add-cf61f8dc4612",
   "metadata": {},
   "outputs": [],
   "source": [
    "df$Chondro$Barcode = rownames(df$Chondro)\n",
    "\n"
   ]
  },
  {
   "cell_type": "code",
   "execution_count": null,
   "id": "7727d8c2-7f31-434f-8762-9179834a4abc",
   "metadata": {},
   "outputs": [],
   "source": [
    "str(df)"
   ]
  },
  {
   "cell_type": "code",
   "execution_count": null,
   "id": "d3fa2c10-0007-4248-9834-a23f2f770e51",
   "metadata": {},
   "outputs": [],
   "source": [
    "names(df)"
   ]
  },
  {
   "cell_type": "code",
   "execution_count": null,
   "id": "fa3e2640-1f21-45b4-b2af-f0590e0ae704",
   "metadata": {},
   "outputs": [],
   "source": [
    "df$`Epithelial cells`$Barcode <- rownames(df$`Epithelial cells`)\n",
    "df$`Immune cells`$Barcode <- rownames(df$`Immune cells`)\n",
    "df$Neurons$Barcode <- rownames(df$Neurons)\n",
    "df$Osteoblasts$Barcode <- rownames(df$Osteoblasts)\n",
    "df$Osteocytes$Barcode <- rownames(df$Osteocytes)\n",
    "df$Periosteum$Barcode <- rownames(df$Periosteum)\n",
    "df$`Perivascular cells`$Barcode <- rownames(df$`Perivascular cells`)\n",
    "df$Tenocytes$Barcode <- rownames(df$Tenocytes)\n",
    "df$`Vascular endothelial cells`$Barcode <- rownames(df$`Vascular endothelial cells`)\n",
    "df$`Pre-osteoblasts`$Barcode <- rownames(df$`Pre-osteoblasts`)\n"
   ]
  },
  {
   "cell_type": "code",
   "execution_count": null,
   "id": "7477acf5-254a-4853-b97f-50f6b162aff9",
   "metadata": {},
   "outputs": [],
   "source": [
    "meta.data <- do.call(rbind, df)\n",
    "rownames(meta.data) = meta.data$Barcode\n",
    "meta.data$Barcode <- NULL"
   ]
  },
  {
   "cell_type": "code",
   "execution_count": null,
   "id": "56d2b0ec-d0b3-4f51-8023-9e8ca7526e78",
   "metadata": {},
   "outputs": [],
   "source": [
    "dim(A@meta.data)\n",
    "dim(meta.data)"
   ]
  },
  {
   "cell_type": "code",
   "execution_count": null,
   "id": "f70f5eae-b0ac-435a-8b1c-e72de2f474fa",
   "metadata": {},
   "outputs": [],
   "source": [
    "target <- rownames(A@meta.data)\n",
    "meta.data <- meta.data[match(target, rownames(meta.data)),]"
   ]
  },
  {
   "cell_type": "code",
   "execution_count": null,
   "id": "82022cf1-f987-4322-b562-0fe2554b8a5d",
   "metadata": {},
   "outputs": [],
   "source": [
    "A@meta.data = meta.data"
   ]
  },
  {
   "cell_type": "markdown",
   "id": "8eb178ad-1e27-4aff-a530-11b51a3074da",
   "metadata": {
    "tags": []
   },
   "source": [
    "#### 5.4.3. Finalized embedding and annotation<a id=\"37\"></a>"
   ]
  },
  {
   "cell_type": "code",
   "execution_count": null,
   "id": "709dc862-a890-41d1-9da9-3f4d23e90289",
   "metadata": {},
   "outputs": [],
   "source": [
    "saveRDS(A, '/home/jovyan/researcher_home/Documents/Tom/Atlas/data/SCA_core/Obrien/Sp7_Periost_2.rds')"
   ]
  },
  {
   "cell_type": "code",
   "execution_count": null,
   "id": "8c8e26c3-8b1f-4dda-9c18-e67e4560e681",
   "metadata": {},
   "outputs": [],
   "source": [
    "options(repr.plot.width=12)\n",
    "DimPlot(A, group.by = \"CellType\", label = FALSE, repel = TRUE) + xlab(\"UMAP 1\") + ylab(\"UMAP 2\")\n",
    "\n",
    "#ggsave(\"./6-kmita/images/E10_5_annotated.png\" ,width=12, height=8)"
   ]
  },
  {
   "cell_type": "code",
   "execution_count": null,
   "id": "64360010-a0fd-4e7e-b5bc-4f703491a5e4",
   "metadata": {},
   "outputs": [],
   "source": []
  }
 ],
 "metadata": {
  "kernelspec": {
   "display_name": "R [conda env:base] *",
   "language": "R",
   "name": "conda-base-r"
  },
  "language_info": {
   "codemirror_mode": "r",
   "file_extension": ".r",
   "mimetype": "text/x-r-source",
   "name": "R",
   "pygments_lexer": "r",
   "version": "4.3.2"
  }
 },
 "nbformat": 4,
 "nbformat_minor": 5
}
