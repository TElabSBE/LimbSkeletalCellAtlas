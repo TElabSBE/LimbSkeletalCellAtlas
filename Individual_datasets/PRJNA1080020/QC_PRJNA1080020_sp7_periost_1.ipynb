{
 "cells": [
  {
   "cell_type": "markdown",
   "id": "23afd9a5-806c-43b0-bc14-e893b15bbbba",
   "metadata": {
    "tags": []
   },
   "source": [
    "## 0. Setting up workenvironment<a id=\"0\"></a>"
   ]
  },
  {
   "cell_type": "code",
   "execution_count": null,
   "id": "a5498f82-568e-4230-b5af-69b34b904d0b",
   "metadata": {
    "tags": []
   },
   "outputs": [],
   "source": [
    "suppressPackageStartupMessages({\n",
    "    library(DropletUtils)\n",
    "    library(SingleCellExperiment)\n",
    "    library(scuttle)\n",
    "    library(Seurat)\n",
    "    library(SeuratWrappers)\n",
    "    library(stringr)\n",
    "    library(dplyr)\n",
    "    library(data.table)\n",
    "    library(Matrix)\n",
    "    library(patchwork)\n",
    "    library(ggplot2)\n",
    "})\n",
    "\n",
    "options(repr.plot.width = 16, repr.plot.height = 8)"
   ]
  },
  {
   "cell_type": "markdown",
   "id": "337439af-b40d-43df-a3ad-dc6ee5b1b5bf",
   "metadata": {
    "tags": []
   },
   "source": [
    "## 1. Importing data<a id=\"1\"></a>\n"
   ]
  },
  {
   "cell_type": "code",
   "execution_count": null,
   "id": "9e222ce4-6e37-49d1-af21-666f89d6c34e",
   "metadata": {},
   "outputs": [],
   "source": [
    "seurat.data <- Read10X(data.dir = \"/home/jovyan/researcher_home/Documents/Tom/Atlas/data/raw_data/Atlas_v3/Nookaew_2024/Sp7periosteum1/cellranger/outs/filtered_feature_bc_matrix/\")\n",
    "seurat <- CreateSeuratObject(counts = seurat.data)\n",
    "rm(seurat.data)"
   ]
  },
  {
   "cell_type": "markdown",
   "id": "c5a97d3e-ade9-4fe9-bc53-a44ce3e4bb2a",
   "metadata": {
    "tags": []
   },
   "source": [
    "## 2. Preprocessing: quality control with scater<a id=\"4\"></a>"
   ]
  },
  {
   "cell_type": "markdown",
   "id": "d1fcc3c4-b4a2-43b3-b404-c3bfd2474160",
   "metadata": {
    "tags": []
   },
   "source": [
    "### 2.1. RD3_1"
   ]
  },
  {
   "cell_type": "markdown",
   "id": "20ae84cf-041b-4344-915b-c2229c35662f",
   "metadata": {},
   "source": [
    "#### 2.1.1. Converting a Seurat object to SingleCellExperiment "
   ]
  },
  {
   "cell_type": "code",
   "execution_count": null,
   "id": "f57f35c5-b908-46eb-9a7e-3c570e839276",
   "metadata": {},
   "outputs": [],
   "source": [
    "sce <- as.SingleCellExperiment(seurat)"
   ]
  },
  {
   "cell_type": "markdown",
   "id": "05f580dd-05fc-4b5b-9608-f42114567e81",
   "metadata": {
    "tags": []
   },
   "source": [
    "#### 2.1.2. Calculating QC metrics"
   ]
  },
  {
   "cell_type": "code",
   "execution_count": null,
   "id": "3e91abe3-b68c-4bd6-8c60-5500280af54b",
   "metadata": {},
   "outputs": [],
   "source": [
    "is.mito <- grepl(\"^mt-\", rownames(sce))\n",
    "mito.list <-  grep(\"^mt-\", rownames(sce), value = TRUE)"
   ]
  },
  {
   "cell_type": "code",
   "execution_count": null,
   "id": "ce96ac78-37e5-46ee-b78c-067b2f456c61",
   "metadata": {},
   "outputs": [],
   "source": [
    "mito.list"
   ]
  },
  {
   "cell_type": "code",
   "execution_count": null,
   "id": "e0053f41-1afe-4af5-8a11-69a074b72be2",
   "metadata": {},
   "outputs": [],
   "source": [
    "is.spike <- grepl(\"^gSpikein\", rownames(sce))\n",
    "spike.list <- grep(\"^gSpikein\", rownames(sce), value = TRUE)"
   ]
  },
  {
   "cell_type": "code",
   "execution_count": null,
   "id": "4e190774-2a5a-4fe7-9f60-f0e115c984f4",
   "metadata": {},
   "outputs": [],
   "source": [
    "celldata <- perCellQCMetrics(sce, subsets = list(Mt = is.mito, ERCC = is.spike))"
   ]
  },
  {
   "cell_type": "code",
   "execution_count": null,
   "id": "f8471bba-13c5-4a22-8163-5ba4e46eb18a",
   "metadata": {},
   "outputs": [],
   "source": [
    "sce <- addPerCellQC(sce, subsets=list(Mito = is.mito, ERCC = is.spike))\n",
    "colnames(colData(sce))"
   ]
  },
  {
   "cell_type": "markdown",
   "id": "b9080bb3-0323-4e9b-9024-ded18651d034",
   "metadata": {},
   "source": [
    "Expression of all ERCC spikeins is 0 because they were not used in this study."
   ]
  },
  {
   "cell_type": "markdown",
   "id": "6296549a-ca19-4fba-a811-e1ae5842416c",
   "metadata": {
    "tags": []
   },
   "source": [
    "##### **2.1.2.1. QC of the cells by feature number and library size**\n"
   ]
  },
  {
   "cell_type": "code",
   "execution_count": null,
   "id": "7bedfea9-8c0d-4615-a30d-e7fb61c207ad",
   "metadata": {},
   "outputs": [],
   "source": [
    "libsize.drop <- isOutlier(sce$sum, nmads = 3, type = \"both\", log = TRUE)\n",
    "feature.drop <- isOutlier(sce$detected, nmads = 3, type = \"both\", log = TRUE)\n",
    "\n",
    "# libsize.drop cutoff values\n",
    "min.libsize <- (median(sce$sum) - 3*mad(sce$sum))/1e3\n",
    "max.libsize <- (median(sce$sum) + 3*mad(sce$sum))/1e3\n",
    "\n",
    "# feature.drop cutoff values\n",
    "min.features <- (median(sce$detected) - 3*mad(sce$detected))\n",
    "max.features <- (median(sce$detected) + 3*mad(sce$detected))\n",
    "\n",
    "par(mfrow = c(1,2))\n",
    "\n",
    "hist(sce$sum/1e3, xlab = \"Library sizes (thousands)\", main = \"\", breaks = 20,\n",
    "     col = \"grey\", ylab = \"Number of cells\")\n",
    "\n",
    "abline(v = min.libsize, col = \"blue\", lwd = 2, lty = 2)\n",
    "abline(v = max.libsize, col = \"blue\", lwd = 2, lty = 2)\n",
    "\n",
    "hist(sce$detected, xlab = \"Number of expressed genes\", main = \"\", breaks = 20,\n",
    "     col = \"grey\", ylab = \"Number of cells\")\n",
    "\n",
    "abline(v = min.features, col = \"blue\", lwd = 2, lty = 2)\n",
    "abline(v = max.features, col = \"blue\", lwd = 2, lty = 2)"
   ]
  },
  {
   "cell_type": "markdown",
   "id": "8572ee14-1aab-44e2-98e4-cb75edd5939b",
   "metadata": {
    "tags": []
   },
   "source": [
    "##### **2.1.2.2. Proportion of mitochondrial reads**\n"
   ]
  },
  {
   "cell_type": "code",
   "execution_count": null,
   "id": "e53e5e87-f26f-4845-9cef-74679d54b55f",
   "metadata": {},
   "outputs": [],
   "source": [
    "mito.drop <- isOutlier(sce$subsets_Mito_percent, nmads = 3)\n",
    "\n",
    "max.mito <- median(sce$subsets_Mito_percent) + 3*mad(sce$subsets_Mito_percent)\n",
    "\n",
    "hist(sce$subsets_Mito_percent, xlab = \"Mitochondrial proportion (%)\",\n",
    "     ylab = \"Number of cells\",\n",
    "     breaks = 40, main = \"\", col = \"grey\")\n",
    "\n",
    "abline(v = max.mito, col = \"blue\", lwd = 2, lty = 2)"
   ]
  },
  {
   "cell_type": "markdown",
   "id": "46d1f7e1-9fcb-4326-bda4-7a44cc6ef0b6",
   "metadata": {},
   "source": [
    "Subset by column to retain only high-quality cells that pass all filters."
   ]
  },
  {
   "cell_type": "code",
   "execution_count": null,
   "id": "94e3ae42-212b-4764-8451-fdee13f0965b",
   "metadata": {},
   "outputs": [],
   "source": [
    "sce_QC <- sce[,!(libsize.drop | feature.drop | mito.drop)]\n",
    "data.frame(ByLibrarySize = sum(libsize.drop), ByFeature = sum(feature.drop), ByMito = sum(mito.drop),\n",
    "           Remaining = ncol(sce_QC))"
   ]
  },
  {
   "cell_type": "markdown",
   "id": "c9154378-62d6-4651-bfc9-60079341c975",
   "metadata": {
    "tags": []
   },
   "source": [
    "#### 2.1.2. Filtering out low-abundance genes\n"
   ]
  },
  {
   "cell_type": "code",
   "execution_count": null,
   "id": "63ecccc4-7711-4c54-aaea-c0f49ff4fe39",
   "metadata": {},
   "outputs": [],
   "source": [
    "average.counts <- calculateAverage(sce_QC, exprs_values = \"counts\",\n",
    "                                   subset_row = NULL)\n",
    "genes.to.keep <- average.counts >= 0.001\n",
    "sum(genes.to.keep)"
   ]
  },
  {
   "cell_type": "code",
   "execution_count": null,
   "id": "c5362748-938d-47c9-a176-e7081021f787",
   "metadata": {},
   "outputs": [],
   "source": [
    "hist(log10(average.counts), breaks = 100, main = \"\", col = \"grey\",\n",
    "     xlab = expression(Log[10]~\"average count\"), ylab = \"Gene counts\")\n",
    "abline(v = log10(0.001), col = \"blue\", lwd = 2, lty = 2)\n",
    "\n",
    "rm(average.counts)"
   ]
  },
  {
   "cell_type": "markdown",
   "id": "19d15e73-fd88-4cc7-a90d-296af98d8098",
   "metadata": {},
   "source": [
    "Apply the mean-based filter to the data by subsetting the `SingleCellExperiment` object."
   ]
  },
  {
   "cell_type": "code",
   "execution_count": null,
   "id": "5d33eb73-d954-4684-9e22-e8e3c03f7993",
   "metadata": {},
   "outputs": [],
   "source": [
    "sce <- sce_QC[genes.to.keep,]\n",
    "\n",
    "rm(sce_QC)\n",
    "\n",
    "dim(sce)"
   ]
  },
  {
   "cell_type": "markdown",
   "id": "dd28067a-0fe5-494f-bca4-d42845542e1a",
   "metadata": {
    "tags": []
   },
   "source": [
    "#### 2.1.3. Duplicate removal"
   ]
  },
  {
   "cell_type": "code",
   "execution_count": null,
   "id": "03f28b06-50cd-4a72-ae4f-a590e6150107",
   "metadata": {},
   "outputs": [],
   "source": [
    "sce <- sce[!duplicated(rownames(sce)),]\n",
    "dim(sce)"
   ]
  },
  {
   "cell_type": "code",
   "execution_count": null,
   "id": "d552365c-04b9-4b4f-b376-d6634fd62460",
   "metadata": {},
   "outputs": [],
   "source": [
    "sce <- as.Seurat(sce)"
   ]
  },
  {
   "cell_type": "code",
   "execution_count": null,
   "id": "4fde122c-a677-4f3c-aab4-c1bbb956086e",
   "metadata": {},
   "outputs": [],
   "source": [
    "sce"
   ]
  },
  {
   "cell_type": "code",
   "execution_count": null,
   "id": "f92f4f63-05f7-47f9-94d6-277ce5fdd5b6",
   "metadata": {
    "tags": []
   },
   "outputs": [],
   "source": [
    "saveRDS(sce, file = \"/home/jovyan/researcher_home/Documents/Tom/Atlas/data/SCA_core/Obrien/QC_sp7_periost_1.rds\")"
   ]
  },
  {
   "cell_type": "code",
   "execution_count": null,
   "id": "9f6e7f46-75d8-44da-adf3-e2c316066e89",
   "metadata": {},
   "outputs": [],
   "source": []
  }
 ],
 "metadata": {
  "kernelspec": {
   "display_name": "R [conda env:base] *",
   "language": "R",
   "name": "conda-base-r"
  },
  "language_info": {
   "codemirror_mode": "r",
   "file_extension": ".r",
   "mimetype": "text/x-r-source",
   "name": "R",
   "pygments_lexer": "r",
   "version": "4.3.2"
  }
 },
 "nbformat": 4,
 "nbformat_minor": 5
}
