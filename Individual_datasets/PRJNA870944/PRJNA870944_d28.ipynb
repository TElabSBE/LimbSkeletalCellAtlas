{
 "cells": [
  {
   "cell_type": "markdown",
   "id": "9428269d-1516-4ffd-9ff1-5f2e951fefc7",
   "metadata": {
    "tags": []
   },
   "source": [
    "# Debnath\n"
   ]
  },
  {
   "cell_type": "markdown",
   "id": "96f5b794-fcea-4439-b517-3249b58e217b",
   "metadata": {},
   "source": [
    "## 0. Setting up workenvironment<a id=\"0\"></a>"
   ]
  },
  {
   "cell_type": "code",
   "execution_count": null,
   "id": "5f3975cb-d759-41f0-8d99-8dd24fd21a7f",
   "metadata": {},
   "outputs": [],
   "source": [
    "suppressPackageStartupMessages({\n",
    "    library(DropletUtils)\n",
    "    library(SingleCellExperiment)\n",
    "    library(scuttle)\n",
    "    library(Seurat)\n",
    "    library(SeuratWrappers)\n",
    "    library(stringr)\n",
    "    library(dplyr)\n",
    "    library(data.table)\n",
    "    library(Matrix)\n",
    "    library(patchwork)\n",
    "    library(ggplot2)\n",
    "})\n",
    "\n",
    "options(repr.plot.width = 16, repr.plot.height = 8)"
   ]
  },
  {
   "cell_type": "markdown",
   "id": "5eb7ef10-c19f-47ee-9cab-2c448ca9ddce",
   "metadata": {
    "tags": []
   },
   "source": [
    "## Loading data"
   ]
  },
  {
   "cell_type": "markdown",
   "id": "c051db1f-7312-46c5-9c05-b9c171669cf2",
   "metadata": {
    "tags": []
   },
   "source": [
    "### 3.1. Data analysis Seurat<a id=\"9\"></a>"
   ]
  },
  {
   "cell_type": "code",
   "execution_count": null,
   "id": "0a644d72-cdab-4204-b29b-846bee46f35d",
   "metadata": {},
   "outputs": [],
   "source": [
    "A <- readRDS(file = \"/home/jovyan/researcher_home/Documents/Tom/Atlas/data/SCA_core/Maerz/Maerzd28_reannotation_23072024.Rds\")"
   ]
  },
  {
   "cell_type": "code",
   "execution_count": null,
   "id": "10d15d39-2c13-48ac-8c24-b16cb7055667",
   "metadata": {},
   "outputs": [],
   "source": [
    "A <- NormalizeData(A, verbose = FALSE)\n",
    "A <- FindVariableFeatures(A, selection.method = \"vst\", nfeatures = 2000)\n",
    "\n",
    "# Identify the 10 most highly variable genes\n",
    "top10 <- head(VariableFeatures(A), 10)"
   ]
  },
  {
   "cell_type": "code",
   "execution_count": null,
   "id": "90728fd1-f03c-49c3-a257-ff3db52792a5",
   "metadata": {},
   "outputs": [],
   "source": [
    "all.genes <- rownames(A)\n",
    "A <- ScaleData(A, features = all.genes)"
   ]
  },
  {
   "cell_type": "code",
   "execution_count": null,
   "id": "805c4733-b3b3-46c1-a5d3-adf10c261a68",
   "metadata": {},
   "outputs": [],
   "source": [
    "A <- RunPCA(A, features = VariableFeatures(object = A), verbose = FALSE)"
   ]
  },
  {
   "cell_type": "code",
   "execution_count": null,
   "id": "557437a2-f9d2-480e-bda0-f865e8c9d941",
   "metadata": {},
   "outputs": [],
   "source": [
    "ElbowPlot(A, 50)"
   ]
  },
  {
   "cell_type": "code",
   "execution_count": null,
   "id": "67fb040f-b1ce-4dd5-8261-c8f34c6bede8",
   "metadata": {},
   "outputs": [],
   "source": [
    "A <- FindNeighbors(A, dims = 1:25)\n",
    "A<- FindClusters(A, resolution = 2)"
   ]
  },
  {
   "cell_type": "code",
   "execution_count": null,
   "id": "9df87299-00b7-448b-96ef-d8b9d25dd8f7",
   "metadata": {},
   "outputs": [],
   "source": [
    "A <- RunUMAP(A, dims = 1:25, n.neighbors = 12, verbose = FALSE)"
   ]
  },
  {
   "cell_type": "code",
   "execution_count": null,
   "id": "f2320885-e44f-43d8-ba34-104bc025a87b",
   "metadata": {},
   "outputs": [],
   "source": [
    "DimPlot(A, group.by = 'seurat_clusters',label = TRUE) + NoLegend() + xlab(\"UMAP 1\") + ylab(\"UMAP 2\")\n"
   ]
  },
  {
   "cell_type": "code",
   "execution_count": null,
   "id": "e135c64d-df2e-4c16-949a-3cb2bc6cee83",
   "metadata": {},
   "outputs": [],
   "source": []
  },
  {
   "cell_type": "markdown",
   "id": "f558a08c-60d2-474c-bb62-01e0181f850a",
   "metadata": {
    "tags": []
   },
   "source": [
    "### 3.4. Differential expression analysis<a id=\"12\"></a>\n",
    "#### 3.4.1. Global annotation by differential expression analysis<a id=\"13\"></a>\n",
    "\n",
    "Seurat identifies markers that define clusters via differential expression. By default, it identifes positive and negative markers of a single cluster (specified in ident.1), compared to all other cells. `FindAllMarkers` automates this process for all clusters, but it is possible to test groups of clusters vs. each other, or against all cells.\n",
    "\n",
    "The `min.pct` argument requires a feature to be detected at a minimum percentage in either of the two groups of cells, and the `thresh.test` argument requires a feature to be differentially expressed (on average) by some amount between the two groups. You can set both of these to 0, but with a dramatic increase in time - since this will test a large number of features that are unlikely to be highly discriminatory. As another option to speed up these computations, `max.cells.per.ident` can be set. This will downsample each identity class to have no more cells than whatever this is set to. While there is generally going to be a loss in power, the speed increases can be significiant and the most highly differentially expressed features will likely still rise to the top."
   ]
  },
  {
   "cell_type": "code",
   "execution_count": null,
   "id": "65ff73a6-1ee8-4a79-a66e-8726e996689f",
   "metadata": {},
   "outputs": [],
   "source": [
    "# Seurat default settings\n",
    "A.markers <- FindAllMarkers(A, only.pos = TRUE, min.pct = 0.25, logfc.threshold = 0.25)"
   ]
  },
  {
   "cell_type": "code",
   "execution_count": null,
   "id": "9cde1d3f-2348-4b6d-a1d8-c8dcc1768c55",
   "metadata": {},
   "outputs": [],
   "source": [
    "#dir.create(\"./6-kmita/analysis\")\n",
    "write.csv(A.markers, file = \"A28.markers.csv\", quote = FALSE)"
   ]
  },
  {
   "cell_type": "markdown",
   "id": "ce291c10-2306-4911-823b-8ff440bdaacd",
   "metadata": {},
   "source": [
    "### Endothelium\n",
    "Vascular EC\n",
    "Lymphatic EC"
   ]
  },
  {
   "cell_type": "code",
   "execution_count": null,
   "id": "4fa1ede5-fcbb-4c7a-a5d6-151e4d4cd200",
   "metadata": {},
   "outputs": [],
   "source": [
    "# Vascular endothelial cells\n",
    "options(repr.plot.width = 18, repr.plot.height = 12)\n",
    "\n",
    "p1 <- DimPlot(A, label = TRUE) + NoLegend() + xlab(\"UMAP 1\") + ylab(\"UMAP 2\")\n",
    "p2 <- FeaturePlot(A, c(\"Emcn\", \"Flt1\", \"Pecam1\",\"Cdh5\"), min.cutoff = \"q1\")  \n",
    "\n",
    "p1 + p2"
   ]
  },
  {
   "cell_type": "code",
   "execution_count": null,
   "id": "47e0ab97-26f2-4fa2-b7e4-d6388dac9967",
   "metadata": {},
   "outputs": [],
   "source": [
    "# Lymphatic endothelial cells\n",
    "options(repr.plot.width = 18, repr.plot.height = 12)\n",
    "\n",
    "p1 <- DimPlot(A, label = TRUE) + NoLegend() + xlab(\"UMAP 1\") + ylab(\"UMAP 2\")\n",
    "p2 <- FeaturePlot(A, c(\"Lyve1\",'Flt4','Adgre1'), min.cutoff = \"q1\")  \n",
    "\n",
    "p1 + p2"
   ]
  },
  {
   "cell_type": "markdown",
   "id": "289c5cf2-4b32-4985-964c-171f1728d6a6",
   "metadata": {},
   "source": [
    "### Mesoderm"
   ]
  },
  {
   "cell_type": "code",
   "execution_count": null,
   "id": "0c990f52-674a-4072-a69f-ef597e1bcaf2",
   "metadata": {},
   "outputs": [],
   "source": [
    "# Muscle progenitors\n",
    "options(repr.plot.width = 18, repr.plot.height = 12)\n",
    "\n",
    "p1 <- DimPlot(A, label = TRUE) + NoLegend() + xlab(\"UMAP 1\") + ylab(\"UMAP 2\")\n",
    "p2 <- FeaturePlot(A, c(\"Pax7\",\"Notch\",\"Itm2a\",\"Nrk\"), min.cutoff = \"q1\")  \n",
    "\n",
    "p1 + p2"
   ]
  },
  {
   "cell_type": "code",
   "execution_count": null,
   "id": "0b763cf7-c1e4-4cf3-9b33-ac87dad204a3",
   "metadata": {},
   "outputs": [],
   "source": [
    "# Myogenic Stem Cell\n",
    "options(repr.plot.width = 18, repr.plot.height = 12)\n",
    "\n",
    "p1 <- DimPlot(A, label = TRUE) + NoLegend() + xlab(\"UMAP 1\") + ylab(\"UMAP 2\")\n",
    "p2 <- FeaturePlot(A, c(\"Pax3\",\"Pdgfc\"), min.cutoff = \"q1\")  \n",
    "\n",
    "p1 + p2"
   ]
  },
  {
   "cell_type": "code",
   "execution_count": null,
   "id": "0809347f-d0f0-4d4e-8881-af5cf4246790",
   "metadata": {},
   "outputs": [],
   "source": [
    "# Skeletal muscle cells\n",
    "options(repr.plot.width = 18, repr.plot.height = 12)\n",
    "\n",
    "p1 <- DimPlot(A, label = TRUE) + NoLegend() + xlab(\"UMAP 1\") + ylab(\"UMAP 2\")\n",
    "p2 <- FeaturePlot(A, c(\"Myhc\",\"Tnnt1\",\"Tnnt3\",\"Pax5\"), min.cutoff = \"q1\")  \n",
    "\n",
    "p1 + p2"
   ]
  },
  {
   "cell_type": "code",
   "execution_count": null,
   "id": "f3252192-457d-42dd-b7d9-452c26bfdee6",
   "metadata": {},
   "outputs": [],
   "source": [
    "# Smooth muscle cells\n",
    "options(repr.plot.width = 18, repr.plot.height = 12)\n",
    "\n",
    "p1 <- DimPlot(A, label = TRUE) + NoLegend() + xlab(\"UMAP 1\") + ylab(\"UMAP 2\")\n",
    "p2 <- FeaturePlot(A, c(\"Acta2\"), min.cutoff = \"q1\")  \n",
    "\n",
    "p1 + p2"
   ]
  },
  {
   "cell_type": "code",
   "execution_count": null,
   "id": "ad873f8e-8f69-4734-b71e-953df90cf87a",
   "metadata": {},
   "outputs": [],
   "source": [
    "# Tenocyte precursors\n",
    "options(repr.plot.width = 18, repr.plot.height = 12)\n",
    "\n",
    "p1 <- DimPlot(A, label = TRUE) + NoLegend() + xlab(\"UMAP 1\") + ylab(\"UMAP 2\")\n",
    "p2 <- FeaturePlot(A, c(\"Col1a1\",\"Tnmd\",\"Prrx1\",\"Prrx2\"), min.cutoff = \"q1\")  \n",
    "\n",
    "p1 + p2"
   ]
  },
  {
   "cell_type": "code",
   "execution_count": null,
   "id": "73203356-0f87-4aeb-9db4-8f0f85b70752",
   "metadata": {},
   "outputs": [],
   "source": [
    "# Tenocytes\n",
    "options(repr.plot.width = 18, repr.plot.height = 12)\n",
    "\n",
    "p1 <- DimPlot(A, label = TRUE) + NoLegend() + xlab(\"UMAP 1\") + ylab(\"UMAP 2\")\n",
    "p2 <- FeaturePlot(A, c(\"Scx\",\"Tnmd\"), min.cutoff = \"q1\")  \n",
    "\n",
    "p1 + p2"
   ]
  },
  {
   "cell_type": "code",
   "execution_count": null,
   "id": "c4852c85-5dd3-4cb1-8c99-5bfca943a45e",
   "metadata": {},
   "outputs": [],
   "source": [
    "# Pericytes\n",
    "options(repr.plot.width = 18, repr.plot.height = 12)\n",
    "\n",
    "p1 <- DimPlot(A, label = TRUE) + NoLegend() + xlab(\"UMAP 1\") + ylab(\"UMAP 2\")\n",
    "p2 <- FeaturePlot(A, c(\"Mcam\", \"Cspg4\", \"Pdgfrb\", \"Slpi\",\"Vcam1\", \"Rgs5\",\"Dlk1\", \"Acta2\"), min.cutoff = \"q1\")  \n",
    "\n",
    "p1 + p2"
   ]
  },
  {
   "cell_type": "code",
   "execution_count": null,
   "id": "d4cef5a2-45ce-40d0-9208-14513d3e6d0e",
   "metadata": {},
   "outputs": [],
   "source": [
    "# Fibroblast\n",
    "options(repr.plot.width = 18, repr.plot.height = 12)\n",
    "\n",
    "p1 <- DimPlot(A, label = TRUE) + NoLegend() + xlab(\"UMAP 1\") + ylab(\"UMAP 2\")\n",
    "p2 <- FeaturePlot(A, c(\"Col1a1\",\"Fn1\",\"S100a4\",\"Dcn\"), min.cutoff = \"q1\")  \n",
    "\n",
    "p1 + p2"
   ]
  },
  {
   "cell_type": "code",
   "execution_count": null,
   "id": "4c8790ba-a363-4e6a-83fa-9583add4c8ac",
   "metadata": {},
   "outputs": [],
   "source": [
    "# Synovial Fibroblasts\n",
    "options(repr.plot.width = 18, repr.plot.height = 12)\n",
    "\n",
    "p1 <- DimPlot(A, label = TRUE) + NoLegend() + xlab(\"UMAP 1\") + ylab(\"UMAP 2\")\n",
    "p2 <- FeaturePlot(A, c(\"Dkk1\"), min.cutoff = \"q1\")  \n",
    "\n",
    "p1 + p2"
   ]
  },
  {
   "cell_type": "code",
   "execution_count": null,
   "id": "e3dce55f-8587-41be-94e9-abd19d0a5cab",
   "metadata": {},
   "outputs": [],
   "source": [
    "# Osteoprogenitors\n",
    "options(repr.plot.width = 18, repr.plot.height = 12)\n",
    "\n",
    "p1 <- DimPlot(A, label = TRUE) + NoLegend() + xlab(\"UMAP 1\") + ylab(\"UMAP 2\")\n",
    "p2 <- FeaturePlot(A, c(\"Sp7\",\"Runx2\"), min.cutoff = \"q1\")  \n",
    "\n",
    "p1 + p2"
   ]
  },
  {
   "cell_type": "code",
   "execution_count": null,
   "id": "290667ca-b34b-4268-b23f-1bedeb2e4971",
   "metadata": {},
   "outputs": [],
   "source": [
    "# ozsteoblast\n",
    "options(repr.plot.width = 18, repr.plot.height = 12)\n",
    "\n",
    "p1 <- DimPlot(A, label = TRUE) + NoLegend() + xlab(\"UMAP 1\") + ylab(\"UMAP 2\")\n",
    "p2 <- FeaturePlot(A, c(\"Runx2\",\"Bglap\",\"Lef1\",\"Lef1\",\"Ibsp\"), min.cutoff = \"q1\")  \n",
    "\n",
    "p1 + p2"
   ]
  },
  {
   "cell_type": "code",
   "execution_count": null,
   "id": "a6d75a6a-873a-4663-8e38-987ef020275f",
   "metadata": {},
   "outputs": [],
   "source": [
    "# osteocytes\n",
    "options(repr.plot.width = 18, repr.plot.height = 12)\n",
    "\n",
    "p1 <- DimPlot(A, label = TRUE) + NoLegend() + xlab(\"UMAP 1\") + ylab(\"UMAP 2\")\n",
    "p2 <- FeaturePlot(A, c(\"Dmp1\"), min.cutoff = \"q1\")  \n",
    "\n",
    "p1 + p2"
   ]
  },
  {
   "cell_type": "code",
   "execution_count": null,
   "id": "6aaba5c1-ae94-44e1-9695-b6d702905da3",
   "metadata": {},
   "outputs": [],
   "source": [
    "# Periosteum\n",
    "options(repr.plot.width = 18, repr.plot.height = 12)\n",
    "\n",
    "p1 <- DimPlot(A, label = TRUE) + NoLegend() + xlab(\"UMAP 1\") + ylab(\"UMAP 2\")\n",
    "p2 <- FeaturePlot(A, c(\"Postn\",\"Wnt16\",'Ctsk'), min.cutoff = \"q1\")  \n",
    "\n",
    "p1 + p2"
   ]
  },
  {
   "cell_type": "code",
   "execution_count": null,
   "id": "cdb7520d-3ffa-413c-b44f-650668972ddc",
   "metadata": {},
   "outputs": [],
   "source": [
    "# Periosteal stem cell\n",
    "options(repr.plot.width = 18, repr.plot.height = 12)\n",
    "\n",
    "p1 <- DimPlot(A, label = TRUE) + NoLegend() + xlab(\"UMAP 1\") + ylab(\"UMAP 2\")\n",
    "p2 <- FeaturePlot(A, c(\"Pdpn\",\"Cd164\",\"Nt5e\",\"Mcam\",\"Ctsk\"), min.cutoff = \"q1\")  \n",
    "\n",
    "p1 + p2"
   ]
  },
  {
   "cell_type": "code",
   "execution_count": null,
   "id": "1ed9ff36-8541-4422-a41e-c51dd865b8f0",
   "metadata": {},
   "outputs": [],
   "source": [
    "# osteocl\n",
    "options(repr.plot.width = 18, repr.plot.height = 12)\n",
    "\n",
    "p1 <- DimPlot(A, label = TRUE) + NoLegend() + xlab(\"UMAP 1\") + ylab(\"UMAP 2\")\n",
    "p2 <- FeaturePlot(A, c(\"Cd14\",\"Cd68\",\"Ctsk\"), min.cutoff = \"q1\")  \n",
    "\n",
    "p1 + p2"
   ]
  },
  {
   "cell_type": "code",
   "execution_count": null,
   "id": "dedeb332-c6bc-4647-91f0-c8cf6a711973",
   "metadata": {},
   "outputs": [],
   "source": [
    "# Periosteal progenitors\n",
    "options(repr.plot.width = 18, repr.plot.height = 12)\n",
    "\n",
    "p1 <- DimPlot(A, label = TRUE) + NoLegend() + xlab(\"UMAP 1\") + ylab(\"UMAP 2\")\n",
    "p2 <- FeaturePlot(A, c(\"Sp7\",\"Col5a1\"), min.cutoff = \"q1\")  \n",
    "\n",
    "p1 + p2"
   ]
  },
  {
   "cell_type": "code",
   "execution_count": null,
   "id": "36e1d78d-2980-45bd-816b-e5da4369b292",
   "metadata": {},
   "outputs": [],
   "source": [
    "# Chondroprogenitors\n",
    "options(repr.plot.width = 18, repr.plot.height = 12)\n",
    "\n",
    "p1 <- DimPlot(A, label = TRUE) + NoLegend() + xlab(\"UMAP 1\") + ylab(\"UMAP 2\")\n",
    "p2 <- FeaturePlot(A, c(\"Prrx1\",\"prrx2\",\"Sox9\",\"Col2a1\"),order=TRUE, min.cutoff = \"q1\")  \n",
    "\n",
    "p1 + p2"
   ]
  },
  {
   "cell_type": "code",
   "execution_count": null,
   "id": "f4c28058-d40e-4f9a-80c9-a6a34ae7461b",
   "metadata": {},
   "outputs": [],
   "source": [
    "#articular chondropcytes\n",
    "options(repr.plot.width = 18, repr.plot.height = 12)\n",
    "\n",
    "p1 <- DimPlot(A, label = TRUE) + NoLegend() + xlab(\"UMAP 1\") + ylab(\"UMAP 2\")\n",
    "p2 <- FeaturePlot(A, c(\"Sox9\",\"Prg4\"), min.cutoff = \"q1\")  \n",
    "\n",
    "p1 + p2"
   ]
  },
  {
   "cell_type": "code",
   "execution_count": null,
   "id": "1b2e315c-b5b8-48c6-a9f0-6e68b51d4732",
   "metadata": {},
   "outputs": [],
   "source": [
    "# Resting zone chondrocytes\n",
    "options(repr.plot.width = 18, repr.plot.height = 12)\n",
    "\n",
    "p1 <- DimPlot(A, label = TRUE) + NoLegend() + xlab(\"UMAP 1\") + ylab(\"UMAP 2\")\n",
    "p2 <- FeaturePlot(A, c(\"Fgfr3\", \"Pthlh\", \"Sfrp5\", \"Spon1\", \"Col2a1\"), min.cutoff = \"q1\")  \n",
    "\n",
    "p1 + p2"
   ]
  },
  {
   "cell_type": "code",
   "execution_count": null,
   "id": "39b9a361-466e-4e0f-b87a-95143f942da7",
   "metadata": {},
   "outputs": [],
   "source": [
    "# Proliferative chondrocytes\n",
    "options(repr.plot.width = 18, repr.plot.height = 12)\n",
    "\n",
    "p1 <- DimPlot(A, label = TRUE) + NoLegend() + xlab(\"UMAP 1\") + ylab(\"UMAP 2\")\n",
    "p2 <- FeaturePlot(A, c(\"Mki67\", \"Top2a\", \"Pth1r\", \"Sox9\", \"Col2a1\"), min.cutoff = \"q1\")  \n",
    "\n",
    "p1 + p2"
   ]
  },
  {
   "cell_type": "code",
   "execution_count": null,
   "id": "59ac39a9-c098-4517-b42a-2253d6813501",
   "metadata": {},
   "outputs": [],
   "source": [
    "# Pre-hypertrophic\n",
    "options(repr.plot.width = 18, repr.plot.height = 12)\n",
    "\n",
    "p1 <- DimPlot(A, label = TRUE) + NoLegend() + xlab(\"UMAP 1\") + ylab(\"UMAP 2\")\n",
    "p2 <- FeaturePlot(A, c(\"Ihh\", \"Ppa1\", \"Smpd3\", \"Col2a1\"), min.cutoff = \"q1\")  \n",
    "\n",
    "p1 + p2"
   ]
  },
  {
   "cell_type": "code",
   "execution_count": null,
   "id": "c3cd1e44-8305-460a-bc1d-0d60e7d6d292",
   "metadata": {},
   "outputs": [],
   "source": [
    "# hyêrtrophicc\n",
    "options(repr.plot.width = 18, repr.plot.height = 12)\n",
    "\n",
    "p1 <- DimPlot(A, label = TRUE) + NoLegend() + xlab(\"UMAP 1\") + ylab(\"UMAP 2\")\n",
    "p2 <- FeaturePlot(A, c(\"Col10a1\", \"Mmp13\", \"Ibsp\", \"Col2a1\"), min.cutoff = \"q1\")  \n",
    "\n",
    "p1 + p2"
   ]
  },
  {
   "cell_type": "code",
   "execution_count": null,
   "id": "d00a173d-256b-46ca-b28b-457fa6914bb7",
   "metadata": {},
   "outputs": [],
   "source": [
    "# Adipocytes\n",
    "options(repr.plot.width = 18, repr.plot.height = 12)\n",
    "\n",
    "p1 <- DimPlot(A, label = TRUE) + NoLegend() + xlab(\"UMAP 1\") + ylab(\"UMAP 2\")\n",
    "p2 <- FeaturePlot(A, c(\"Pparg\",\"Adipoq\",\"Lepr\"), min.cutoff = \"q1\")  \n",
    "\n",
    "p1 + p2"
   ]
  },
  {
   "cell_type": "code",
   "execution_count": null,
   "id": "3d06180e-7a7d-4ce8-b34c-2ff164033cad",
   "metadata": {},
   "outputs": [],
   "source": []
  },
  {
   "cell_type": "code",
   "execution_count": null,
   "id": "1c315313-656c-495f-8a10-fba4b5624ce9",
   "metadata": {},
   "outputs": [],
   "source": []
  },
  {
   "cell_type": "code",
   "execution_count": null,
   "id": "ade97a93-380b-499a-baf9-4b42dfef8b7d",
   "metadata": {},
   "outputs": [],
   "source": [
    "# SSPC\n",
    "options(repr.plot.width = 18, repr.plot.height = 12)\n",
    "\n",
    "p1 <- DimPlot(A, label = TRUE) + NoLegend() + xlab(\"UMAP 1\") + ylab(\"UMAP 2\")\n",
    "p2 <- FeaturePlot(A, c(\"Pdnd\",\"Cd164\",\"Nt5e\",\"Mcam\"), min.cutoff = \"q1\")  \n",
    "\n",
    "p1 + p2"
   ]
  },
  {
   "cell_type": "code",
   "execution_count": null,
   "id": "b98e028e-f5f3-416f-b13b-f32e7122fdc6",
   "metadata": {},
   "outputs": [],
   "source": [
    "# Skin\n",
    "options(repr.plot.width = 18, repr.plot.height = 12)\n",
    "\n",
    "p1 <- DimPlot(A, label = TRUE) + NoLegend() + xlab(\"UMAP 1\") + ylab(\"UMAP 2\")\n",
    "p2 <- FeaturePlot(A, c(\"Kera\",\"Krt10\",\"Krt4\"), min.cutoff = \"q1\")  \n",
    "\n",
    "p1 + p2"
   ]
  },
  {
   "cell_type": "code",
   "execution_count": null,
   "id": "69894dda-f2e8-45f1-bf69-3480d57741ed",
   "metadata": {},
   "outputs": [],
   "source": [
    "# Erythroid cells\n",
    "options(repr.plot.width = 18, repr.plot.height = 12)\n",
    "\n",
    "p1 <- DimPlot(A, label = TRUE) + NoLegend() + xlab(\"UMAP 1\") + ylab(\"UMAP 2\")\n",
    "p2 <- FeaturePlot(A, c(\"Gypa\", \"Car2\"), min.cutoff = \"q1\")  \n",
    "\n",
    "p1 + p2"
   ]
  },
  {
   "cell_type": "code",
   "execution_count": null,
   "id": "8cb23df8-ebac-450b-b80f-91750bf38666",
   "metadata": {},
   "outputs": [],
   "source": [
    "# Platelets\n",
    "options(repr.plot.width = 18, repr.plot.height = 12)\n",
    "\n",
    "p1 <- DimPlot(A, label = TRUE) + NoLegend() + xlab(\"UMAP 1\") + ylab(\"UMAP 2\")\n",
    "p2 <- FeaturePlot(A, c(\"Pf4\"), min.cutoff = \"q1\")  \n",
    "\n",
    "p1 + p2"
   ]
  },
  {
   "cell_type": "code",
   "execution_count": null,
   "id": "72585109-e537-4816-95b4-af6a4d61fa73",
   "metadata": {},
   "outputs": [],
   "source": [
    "# Immune\n",
    "options(repr.plot.width = 18, repr.plot.height = 12)\n",
    "\n",
    "p1 <- DimPlot(A, label = TRUE) + NoLegend() + xlab(\"UMAP 1\") + ylab(\"UMAP 2\")\n",
    "p2 <- FeaturePlot(A, c(\"Cd3g\",\"Ms4a1\",\"Camp\",\"Elane\",\"Ccr2\",\"Cd68\",\"Mcpt8\"), min.cutoff = \"q1\")  \n",
    "\n",
    "p1 + p2"
   ]
  },
  {
   "cell_type": "code",
   "execution_count": null,
   "id": "0fc1abc7-231c-4a2c-bf1f-4c226533c964",
   "metadata": {},
   "outputs": [],
   "source": []
  },
  {
   "cell_type": "markdown",
   "id": "072fb790-b292-4842-ac3e-78fe274d823b",
   "metadata": {},
   "source": [
    "**Adding cell types**"
   ]
  },
  {
   "cell_type": "code",
   "execution_count": null,
   "id": "6f6e04ac-3c55-4287-94f9-5c680af233f6",
   "metadata": {},
   "outputs": [],
   "source": [
    "A@meta.data$CellType <- NULL"
   ]
  },
  {
   "cell_type": "code",
   "execution_count": null,
   "id": "3d5772c1-b8b5-48bc-8e1f-150d6e9d4cf3",
   "metadata": {},
   "outputs": [],
   "source": [
    "Idents(A) <- A$seurat_clusters"
   ]
  },
  {
   "cell_type": "code",
   "execution_count": null,
   "id": "8ed21638-7e73-4fc4-8fb9-5c5d0933ff8c",
   "metadata": {},
   "outputs": [],
   "source": [
    "#creating column that contains cell type \n",
    "A@meta.data$CellType <- Idents(A)"
   ]
  },
  {
   "cell_type": "code",
   "execution_count": null,
   "id": "e049d19d-769f-4b20-bad5-5a8ed41fc9b8",
   "metadata": {},
   "outputs": [],
   "source": [
    "A@meta.data$CellType <- as.character(A@meta.data$CellType)\n",
    "\n",
    "A@meta.data$CellType[A@meta.data$CellType == '0'] <- 'Vascular endothelial cells'\n",
    "A@meta.data$CellType[A@meta.data$CellType == '1'] <- 'Periosteum'\n",
    "A@meta.data$CellType[A@meta.data$CellType == '2'] <- 'Fibroblasts'\n",
    "A@meta.data$CellType[A@meta.data$CellType == '3'] <- 'Erythroid cells'\n",
    "A@meta.data$CellType[A@meta.data$CellType == '4'] <- 'Fibroblasts'\n",
    "A@meta.data$CellType[A@meta.data$CellType == '5'] <- 'Immune cells'\n",
    "A@meta.data$CellType[A@meta.data$CellType == '6'] <- 'Immune cells'\n",
    "A@meta.data$CellType[A@meta.data$CellType == '7'] <- 'Fibroblasts'\n",
    "\n",
    "A@meta.data$CellType[A@meta.data$CellType == '8'] <- 'Vascular endothelial cells'\n",
    "A@meta.data$CellType[A@meta.data$CellType == '9'] <- 'Skeletal muscle cells'\n",
    "A@meta.data$CellType[A@meta.data$CellType == '10'] <- 'Fibroblasts'\n",
    "A@meta.data$CellType[A@meta.data$CellType == '11'] <- 'Vascular endothelial cells'\n",
    "\n",
    "A@meta.data$CellType[A@meta.data$CellType == '12'] <- 'Perivascular cells'\n",
    "A@meta.data$CellType[A@meta.data$CellType == '13'] <- 'Immune cells'\n",
    "A@meta.data$CellType[A@meta.data$CellType == '14'] <- 'Fibroblasts'\n",
    "A@meta.data$CellType[A@meta.data$CellType == '15'] <- 'Fibroblasts'\n",
    "A@meta.data$CellType[A@meta.data$CellType == '16'] <- 'Lymphatic endothelial cells'\n",
    "A@meta.data$CellType[A@meta.data$CellType == '17'] <- 'Neurons'\n",
    "A@meta.data$CellType[A@meta.data$CellType == '18'] <- 'Perivascular cells'\n",
    "A@meta.data$CellType[A@meta.data$CellType == '19'] <- 'Muscle progenitors'\n",
    "\n",
    "A@meta.data$CellType <- as.factor(A@meta.data$CellType)"
   ]
  },
  {
   "cell_type": "code",
   "execution_count": null,
   "id": "a397fc9e-5d17-41ba-9da0-fbb9c4436454",
   "metadata": {},
   "outputs": [],
   "source": [
    "options(repr.plot.width = 10, repr.plot.height = 8)\n",
    "\n",
    "DimPlot(A, reduction = \"umap\", label = FALSE, group.by = \"CellType\") + xlab(\"UMAP 1\") + ylab(\"UMAP 2\")"
   ]
  },
  {
   "cell_type": "code",
   "execution_count": null,
   "id": "30b9703c-cfbc-4070-af46-74114b2702c2",
   "metadata": {},
   "outputs": [],
   "source": [
    "Idents(A)<-A@meta.data$CellType"
   ]
  },
  {
   "cell_type": "code",
   "execution_count": null,
   "id": "b80340a7-433a-463b-8935-5032ffb6bb5b",
   "metadata": {},
   "outputs": [],
   "source": [
    "#saveRDS(E10_5, file = \"/home/host_home/usb-drive/Thesis/Kmita/6-kmita/RDataSessions/E10_5_GlobalAnnotation_SeuratObject.Rds\")"
   ]
  },
  {
   "cell_type": "code",
   "execution_count": null,
   "id": "82022cf1-f987-4322-b562-0fe2554b8a5d",
   "metadata": {},
   "outputs": [],
   "source": [
    "A@meta.data = meta.data"
   ]
  },
  {
   "cell_type": "markdown",
   "id": "8eb178ad-1e27-4aff-a530-11b51a3074da",
   "metadata": {
    "tags": []
   },
   "source": [
    "#### 5.4.3. Finalized embedding and annotation<a id=\"37\"></a>"
   ]
  },
  {
   "cell_type": "code",
   "execution_count": null,
   "id": "709dc862-a890-41d1-9da9-3f4d23e90289",
   "metadata": {},
   "outputs": [],
   "source": [
    "saveRDS(A, 'Maerzd28_reannotation_23072024.Rds')"
   ]
  },
  {
   "cell_type": "code",
   "execution_count": null,
   "id": "8c8e26c3-8b1f-4dda-9c18-e67e4560e681",
   "metadata": {},
   "outputs": [],
   "source": [
    "options(repr.plot.width=12)\n",
    "DimPlot(A, group.by = \"CellType\", label = FALSE, repel = TRUE) + xlab(\"UMAP 1\") + ylab(\"UMAP 2\")\n",
    "\n",
    "#ggsave(\"./6-kmita/images/E10_5_annotated.png\" ,width=12, height=8)"
   ]
  },
  {
   "cell_type": "code",
   "execution_count": null,
   "id": "d373afce-8be7-4058-8d9a-22a1a4be1b85",
   "metadata": {},
   "outputs": [],
   "source": []
  }
 ],
 "metadata": {
  "kernelspec": {
   "display_name": "R [conda env:base] *",
   "language": "R",
   "name": "conda-base-r"
  },
  "language_info": {
   "codemirror_mode": "r",
   "file_extension": ".r",
   "mimetype": "text/x-r-source",
   "name": "R",
   "pygments_lexer": "r",
   "version": "4.3.2"
  }
 },
 "nbformat": 4,
 "nbformat_minor": 5
}
