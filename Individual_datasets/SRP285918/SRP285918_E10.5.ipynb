{
 "cells": [
  {
   "cell_type": "markdown",
   "id": "9428269d-1516-4ffd-9ff1-5f2e951fefc7",
   "metadata": {
    "tags": []
   },
   "source": [
    "# Transcriptional trajectories in mouse limb buds reveal the transition from anterior-posterior to proximal-distal patterning at early limb bud stage.\n",
    "Desanlis I, Paul R, Kmita M. J Dev Biol. 2020;8(4):1–16. \n",
    " \n",
    " PMID: [7768367](http://www.ncbi.nlm.nih.gov/pmc/articles/pmc7768367/)\n",
    " ***\n",
    " "
   ]
  },
  {
   "cell_type": "markdown",
   "id": "96f5b794-fcea-4439-b517-3249b58e217b",
   "metadata": {},
   "source": [
    "## 0. Setting up workenvironment<a id=\"0\"></a>"
   ]
  },
  {
   "cell_type": "code",
   "execution_count": null,
   "id": "5f3975cb-d759-41f0-8d99-8dd24fd21a7f",
   "metadata": {},
   "outputs": [],
   "source": [
    "suppressPackageStartupMessages({\n",
    "    library(DropletUtils)\n",
    "    library(SingleCellExperiment)\n",
    "    library(scuttle)\n",
    "    library(Seurat)\n",
    "    library(SeuratWrappers)\n",
    "    library(stringr)\n",
    "    library(dplyr)\n",
    "    library(data.table)\n",
    "    library(Matrix)\n",
    "    library(patchwork)\n",
    "    library(ggplot2)\n",
    "})\n",
    "\n",
    "options(repr.plot.width = 16, repr.plot.height = 8)"
   ]
  },
  {
   "cell_type": "markdown",
   "id": "5eb7ef10-c19f-47ee-9cab-2c448ca9ddce",
   "metadata": {
    "tags": []
   },
   "source": [
    "## 3. E10.5<a id=\"8\"></a>"
   ]
  },
  {
   "cell_type": "markdown",
   "id": "c051db1f-7312-46c5-9c05-b9c171669cf2",
   "metadata": {
    "tags": []
   },
   "source": [
    "### 3.1. Data analysis Seurat<a id=\"9\"></a>"
   ]
  },
  {
   "cell_type": "code",
   "execution_count": null,
   "id": "0a644d72-cdab-4204-b29b-846bee46f35d",
   "metadata": {},
   "outputs": [],
   "source": [
    "E10_5 <- readRDS(file = \"/home/host_home/tom/Kmita/6-kmita/RDS_QC/E10_5.Rds\")"
   ]
  },
  {
   "cell_type": "code",
   "execution_count": null,
   "id": "7a5ae7fc-1f32-4961-87f5-aec23dd82e45",
   "metadata": {},
   "outputs": [],
   "source": [
    "VlnPlot(E10_5, features = c(\"nCount_RNA\", \"nFeature_RNA\", \"subsets_Mito_percent\"), \n",
    "        ncol = 3, group.by = \"orig.ident\", pt.size = 0)"
   ]
  },
  {
   "cell_type": "code",
   "execution_count": null,
   "id": "5fd82bea-ff5f-480f-9eca-81a5b4fe48f0",
   "metadata": {},
   "outputs": [],
   "source": [
    "FeatureScatter(E10_5, feature1 = \"nCount_RNA\", feature2 = \"nFeature_RNA\")"
   ]
  },
  {
   "cell_type": "markdown",
   "id": "adb2275f-f492-4920-9041-b97190f477e5",
   "metadata": {},
   "source": [
    "#### 3.1.1. Feature selection\n",
    "\n",
    "We next calculate a subset of features that exhibit high cell-to-cell variation in the dataset (i.e, they are highly expressed in some cells, and lowly expressed in others). We and others have found that focusing on these genes in downstream analysis helps to highlight biological signal in single-cell datasets.\n",
    "\n",
    "The procedure in Seurat v3 directly models the mean-variance relationship inherent in single-cell data, and is implemented in the `FindVariableFeatures` function. By default, it defaults to 2,000 features (genes) per dataset. These will be used in downstream analysis, like principal component analysis (PCA)."
   ]
  },
  {
   "cell_type": "code",
   "execution_count": null,
   "id": "a3962660-e976-492b-97d9-68df7077bae2",
   "metadata": {},
   "outputs": [],
   "source": [
    "E10_5 <- NormalizeData(E10_5, verbose = FALSE)\n",
    "E10_5 <- FindVariableFeatures(E10_5, selection.method = \"vst\", nfeatures = 2000)\n",
    "\n",
    "# Identify the 10 most highly variable genes\n",
    "top10 <- head(VariableFeatures(E10_5), 10)"
   ]
  },
  {
   "cell_type": "code",
   "execution_count": null,
   "id": "ba0867e7-edb9-4bfc-92a9-90fd3ee9f9ba",
   "metadata": {},
   "outputs": [],
   "source": [
    "E10_5"
   ]
  },
  {
   "cell_type": "code",
   "execution_count": null,
   "id": "17ae0249-e012-473e-94e0-a262e1975629",
   "metadata": {},
   "outputs": [],
   "source": [
    "FeatureScatter(E10_5, feature1 = \"nCount_RNA\", feature2 = \"nFeature_RNA\")"
   ]
  },
  {
   "cell_type": "code",
   "execution_count": null,
   "id": "35e022c9-f391-46fb-a16a-af856543ea54",
   "metadata": {},
   "outputs": [],
   "source": [
    "E10_5 <- NormalizeData(E10_5, verbose = FALSE)\n",
    "E10_5 <- FindVariableFeatures(E10_5, selection.method = \"vst\", nfeatures = 5000)\n",
    "\n",
    "# Identify the 10 most highly variable genes\n",
    "top10 <- head(VariableFeatures(E10_5), 10)"
   ]
  },
  {
   "cell_type": "code",
   "execution_count": null,
   "id": "c0c9082c-a533-4b71-9a99-013e5e9222ce",
   "metadata": {},
   "outputs": [],
   "source": [
    "E10_5"
   ]
  },
  {
   "cell_type": "code",
   "execution_count": null,
   "id": "304565b5-fa9a-4d82-b742-347422290527",
   "metadata": {},
   "outputs": [],
   "source": [
    "options(repr.plot.width=10)\n",
    "\n",
    "# plot variable features with and without labels\n",
    "plot1 <- VariableFeaturePlot(E10_5)\n",
    "plot2 <- LabelPoints(plot = plot1, points = top10, repel = TRUE)\n",
    "plot2"
   ]
  },
  {
   "cell_type": "markdown",
   "id": "5f6a4f4a-653b-44c0-b74c-8b1ca20b5e42",
   "metadata": {},
   "source": [
    "#### 3.1.2. Scaling the data"
   ]
  },
  {
   "cell_type": "markdown",
   "id": "00b67edf-fae2-4651-875c-9305f9fdfa07",
   "metadata": {},
   "source": [
    "Next, we apply a linear transformation (scaling) that is a standard pre-processing step prior to dimensional reduction techniques like PCA. The ScaleData function:\n",
    "\n",
    "- Shifts the expression of each gene, so that the mean expression across cells is 0\n",
    "- Scales the expression of each gene, so that the variance across cells is 1\n",
    "- This step gives equal weight in downstream analyses, so that highly-expressed genes do not dominate. This is superior to log-normalized counts, which overemphasize the influence of small count fluctuations.\n",
    "- The results of this are stored in `object[[\"originalexp\"]]@scale.data`"
   ]
  },
  {
   "cell_type": "code",
   "execution_count": null,
   "id": "0d8885fe-526a-4c85-8bdd-aa13fea460ae",
   "metadata": {},
   "outputs": [],
   "source": [
    "all.genes <- rownames(E10_5)\n",
    "E10_5 <- ScaleData(E10_5, features = all.genes)"
   ]
  },
  {
   "cell_type": "markdown",
   "id": "abecb2d9-85cc-41fa-9493-3a8f6c1789ac",
   "metadata": {},
   "source": [
    "#### 3.1.3. Linear dimensionality reduction: PCA"
   ]
  },
  {
   "cell_type": "markdown",
   "id": "dc912e0a-6b56-43b8-a4c4-cd2429e5d035",
   "metadata": {},
   "source": [
    "Next we perform PCA on the scaled data. By default, only the previously determined variable features are used as input, but can be defined using features argument if you wish to choose a different subset."
   ]
  },
  {
   "cell_type": "code",
   "execution_count": null,
   "id": "0433e4cd-ea81-4d36-90a7-ff2fe4111ed5",
   "metadata": {},
   "outputs": [],
   "source": [
    "E10_5 <- RunPCA(E10_5, features = VariableFeatures(object = E10_5), verbose = FALSE)"
   ]
  },
  {
   "cell_type": "code",
   "execution_count": null,
   "id": "1c35a3d6-f45d-4b31-98a3-17977572e8bf",
   "metadata": {},
   "outputs": [],
   "source": [
    "DimPlot(E10_5, reduction = \"pca\", group.by = \"Sample_Name\") + xlab(\"PC 1\") + ylab(\"PC 2\") "
   ]
  },
  {
   "cell_type": "markdown",
   "id": "60f3bfa0-7425-4bf6-8936-f3a13e8412b5",
   "metadata": {},
   "source": [
    "##### **3.1.3.1. Determine dimensionality**\n",
    "\n",
    "To overcome the extensive technical noise in any single feature for scRNA-seq data, Seurat clusters cells based on their PCA scores, with each PC essentially representing a 'metafeature' that combines information across a correlated feature set. The top principal components therefore represent a robust compression of the dataset. However, how many componenets should we choose to include? \n",
    "\n",
    "[Macosko et al](http://www.cell.com/abstract/S0092-8674(15)00549-8) introduced a resampling test inspired by the JackStraw procedure. They randomly permute a subset of the data (1% by default) and rerun PCA, constructing a 'null distribution' of feature scores, and repeat this procedure. 'Significant' PCs are defined as those who have a strong enrichment of low p-value features.\n",
    "\n",
    "**NOTE: This process can take a long time for big datasets, and is therefore commented out for expediency. More approximate techniques such as a scree plot implemented in `ElbowPlot()` can be used to reduce computation time.**\n",
    "\n",
    "The `JackStrawPlot` function provides a visualization tool for comparing the distribution of p-values for each PC with a uniform distribution (dashed line). 'Significant' PCs will show a strong enrichment of features with low p-values (solid curve above the dashed line)."
   ]
  },
  {
   "cell_type": "code",
   "execution_count": null,
   "id": "757c595d-047f-4560-ab95-0aa4fdd6ec1f",
   "metadata": {},
   "outputs": [],
   "source": [
    "# object <- JackStraw(object, num.replicate = 100)\n",
    "# object <- ScoreJackStraw(object, dims = 1:20)"
   ]
  },
  {
   "cell_type": "code",
   "execution_count": null,
   "id": "93248b48-aeee-4eea-ba17-bea65e37417b",
   "metadata": {},
   "outputs": [],
   "source": [
    "# JackStrawPlot(object, dims = 1:15)"
   ]
  },
  {
   "cell_type": "markdown",
   "id": "fd179fb1-c7d4-47df-b010-ac831c056052",
   "metadata": {},
   "source": [
    "An alternative heuristic method generates an 'Elbow plot': a ranking of principle components based on the percentage of variance explained by each one (ElbowPlot function). "
   ]
  },
  {
   "cell_type": "code",
   "execution_count": null,
   "id": "7f902a18-4f37-4dbb-baf2-6f5eae7acc4b",
   "metadata": {},
   "outputs": [],
   "source": [
    "ElbowPlot(E10_5, 50)"
   ]
  },
  {
   "cell_type": "markdown",
   "id": "73848909-af03-4cf9-be0e-e2d768c5b5d9",
   "metadata": {
    "tags": []
   },
   "source": [
    "### 3.2. Clustering<a id=\"10\"></a>\n",
    "\n",
    "Seurat v4 applies a graph-based clustering approach, building upon initial strategies in [Macosko et al](http://www.cell.com/abstract/S0092-8674(15)00549-8). Importantly, the distance metric which drives the clustering analysis (based on previously identified PCs) remains the same. The new method embeds cells in a graph structure - for example a K-nearest neighbor (KNN) graph, with edges drawn between cells with similar feature expression patterns, and then attempt to partition this graph into highly interconnected 'quasi-cliques' or 'communities'.\n",
    "\n",
    "As in [PhenoGraph](https://doi.org/10.1016/j.cell.2015.05.047), Seurat first constructs a KNN graph based on the euclidean distance in PCA space, and refine the edge weights between any two cells based on the shared overlap in their local neighborhoods (Jaccard similarity). This step is performed using the `FindNeighbors` function, and takes as input the previously defined dimensionality of the dataset.\n",
    "\n",
    "To cluster the cells, modularity optimization techniques such as the Louvain algorithm are then applied to iteratively group cells together, with the goal of optimizing the standard modularity function. The `FindClusters` function implements this procedure and contains a resolution parameter that sets the 'granularity' of the downstream clustering, with increased values leading to a greater number of clusters. Optimal resolution often increases for larger datasets."
   ]
  },
  {
   "cell_type": "code",
   "execution_count": null,
   "id": "e26b89c5-ae82-4a20-9117-ad0e77c2c7c7",
   "metadata": {
    "tags": []
   },
   "outputs": [],
   "source": [
    "E10_5 <- FindNeighbors(E10_5, dims = 1:35)\n",
    "E10_5 <- FindClusters(E10_5, resolution = 0.065)"
   ]
  },
  {
   "cell_type": "markdown",
   "id": "119bef74-04b3-45c8-8851-15a4a1af7d08",
   "metadata": {},
   "source": [
    "### 3.3. Non-linear dimensionality reduction: UMAP <a id=\"11\"></a>\n",
    "\n",
    "Seurat offers several non-linear dimensional reduction techniques, such as tSNE and UMAP, to visualize and explore these datasets. The goal of these algorithms is to learn the underlying manifold of the data in order to place similar cells together in low-dimensional space. Cells within the graph-based clusters determined above should co-localize on these dimension reduction plots. As input to the UMAP and tSNE, [it is recommended to use the same PCs](https://doi.org/10.1038/s41467-019-13056-x) as input to the clustering analysis."
   ]
  },
  {
   "cell_type": "code",
   "execution_count": null,
   "id": "654f51b5-3849-4680-8f06-feae15a4a1e9",
   "metadata": {
    "scrolled": true,
    "tags": []
   },
   "outputs": [],
   "source": [
    "E10_5 <- RunUMAP(E10_5, dims = 1:35, n.neighbors = 12, verbose = FALSE)"
   ]
  },
  {
   "cell_type": "code",
   "execution_count": null,
   "id": "5353a0bd-7421-4284-95e8-22987c38f56a",
   "metadata": {},
   "outputs": [],
   "source": [
    "options(repr.plot.width = 8)\n",
    "\n",
    "DimPlot(E10_5, reduction = \"umap\", label = TRUE) + xlab(\"UMAP 1\") + ylab(\"UMAP 2\")\n",
    "#ggsave(\"./6-kmita/images/no_annotation_E10_5.png\" ,width=12, height=8)"
   ]
  },
  {
   "cell_type": "code",
   "execution_count": null,
   "id": "71dc8252-60c1-4e41-8dca-67bde3c03a2b",
   "metadata": {},
   "outputs": [],
   "source": [
    "#E10_5 <- FindNeighbors(E10_5, dims = 1:35)\n",
    "#E10_5 <- FindClusters(E10_5, resolution = 0.5)\n",
    "\n",
    "#E10_5 <- RunUMAP(E10_5, dims = 1:35, n.neighbors = 12, verbose = FALSE)\n",
    "\n",
    "#DimPlot(E10_5, reduction = \"umap\", label = TRUE) + xlab(\"UMAP 1\") + ylab(\"UMAP 2\")"
   ]
  },
  {
   "cell_type": "markdown",
   "id": "f558a08c-60d2-474c-bb62-01e0181f850a",
   "metadata": {
    "tags": []
   },
   "source": [
    "### 3.4. Differential expression analysis<a id=\"12\"></a>\n",
    "#### 3.4.1. Global annotation by differential expression analysis<a id=\"13\"></a>\n",
    "\n",
    "Seurat identifies markers that define clusters via differential expression. By default, it identifes positive and negative markers of a single cluster (specified in ident.1), compared to all other cells. `FindAllMarkers` automates this process for all clusters, but it is possible to test groups of clusters vs. each other, or against all cells.\n",
    "\n",
    "The `min.pct` argument requires a feature to be detected at a minimum percentage in either of the two groups of cells, and the `thresh.test` argument requires a feature to be differentially expressed (on average) by some amount between the two groups. You can set both of these to 0, but with a dramatic increase in time - since this will test a large number of features that are unlikely to be highly discriminatory. As another option to speed up these computations, `max.cells.per.ident` can be set. This will downsample each identity class to have no more cells than whatever this is set to. While there is generally going to be a loss in power, the speed increases can be significiant and the most highly differentially expressed features will likely still rise to the top."
   ]
  },
  {
   "cell_type": "code",
   "execution_count": null,
   "id": "65ff73a6-1ee8-4a79-a66e-8726e996689f",
   "metadata": {},
   "outputs": [],
   "source": [
    "# Seurat default settings\n",
    "E10.5.markers <- FindAllMarkers(E10_5, only.pos = TRUE, min.pct = 0.25, logfc.threshold = 0.25)"
   ]
  },
  {
   "cell_type": "code",
   "execution_count": null,
   "id": "9cde1d3f-2348-4b6d-a1d8-c8dcc1768c55",
   "metadata": {},
   "outputs": [],
   "source": [
    "#dir.create(\"./6-kmita/analysis\")\n",
    "write.csv(E10.5.markers, file = \"./6-kmita/analysis/E10.5.markers.csv\", quote = FALSE)"
   ]
  },
  {
   "cell_type": "markdown",
   "id": "f91ed18b-a9c9-439e-94b7-4a6febbc4a6a",
   "metadata": {
    "tags": []
   },
   "source": [
    "Cluster 0: mesenchymal cells "
   ]
  },
  {
   "cell_type": "code",
   "execution_count": null,
   "id": "7690f322-a581-4c3d-889c-c6647190ac98",
   "metadata": {},
   "outputs": [],
   "source": [
    "#CD73, CD90, CD105, CD106, CD146, STRO-1\n",
    "\n",
    "options(repr.plot.width = 18, repr.plot.height = 12)\n",
    "\n",
    "p1 <- DimPlot(E10_5, label = TRUE) + NoLegend() + xlab(\"UMAP 1\") + ylab(\"UMAP 2\")\n",
    "p2 <- FeaturePlot(E10_5, c(\"Prrx1\", \"Tbx4\", \"Tbx5\", \"Prrx2\", \"Pitx1\", \"Hoxd9\"), min.cutoff = \"q1\")  \n",
    "\n",
    "p1 + p2\n",
    "\n",
    "#ggsave(\"./6-kmita/images/E10_5_c0.png\" ,width=18, height=12)"
   ]
  },
  {
   "cell_type": "code",
   "execution_count": null,
   "id": "68817a7c-2a77-413f-aece-e6f068b7d928",
   "metadata": {},
   "outputs": [],
   "source": [
    "#CD73, CD90, CD105, CD106, CD146, STRO-1\n",
    "\n",
    "options(repr.plot.width = 18, repr.plot.height = 12)\n",
    "\n",
    "p1 <- DimPlot(E10_5, label = TRUE) + NoLegend() + xlab(\"UMAP 1\") + ylab(\"UMAP 2\")\n",
    "p2 <- FeaturePlot(E10_5, c(\"Prrx1\", \"Tbx4\", \"Tbx5\", \"Prrx2\", \"Shox2\", \"Pitx1\"), min.cutoff = \"q1\")  \n",
    "\n",
    "p1 + p2\n",
    "\n",
    "#ggsave(\"./6-kmita/images/E10_5_c0.png\" ,width=18, height=12)"
   ]
  },
  {
   "cell_type": "markdown",
   "id": "e2248cb3-14f6-45cb-acfd-d86c1a4ce0c9",
   "metadata": {},
   "source": [
    "Cluster 1: ectoderm"
   ]
  },
  {
   "cell_type": "code",
   "execution_count": null,
   "id": "fca33ab8-1d2c-40a1-a0a7-d64b50d33db7",
   "metadata": {},
   "outputs": [],
   "source": [
    "options(repr.plot.width = 16, repr.plot.height = 8)\n",
    "\n",
    "p1 <- DimPlot(E10_5, label = TRUE) + NoLegend() + xlab(\"UMAP 1\") + ylab(\"UMAP 2\")\n",
    "p2 <- FeaturePlot(E10_5, c(\"Wnt3\", \"Fgf8\", \"En1\", \"Wnt7a\"), min.cutoff = \"q1\") \n",
    "\n",
    "p1 + p2\n",
    "#ggsave(\"./6-kmita/images/E10_5_c1.png\" ,width=16, height=8)\n",
    "\n",
    "#Test: En1 -> engrailed 1 -> responseble for vertralisation -> target gene BMPs "
   ]
  },
  {
   "cell_type": "markdown",
   "id": "07f757a7-5935-40a1-b338-4e094929c0cf",
   "metadata": {},
   "source": [
    "Cluster 2: muscle cells"
   ]
  },
  {
   "cell_type": "code",
   "execution_count": null,
   "id": "d3427549-8a74-49c4-9a02-558c10ce9ded",
   "metadata": {},
   "outputs": [],
   "source": [
    "options(repr.plot.width = 16)\n",
    "\n",
    "p1 <- DimPlot(E10_5, label = TRUE) + NoLegend() + xlab(\"UMAP 1\") + ylab(\"UMAP 2\")\n",
    "p2 <- FeaturePlot(E10_5, c(\"Pax7\", \"Myf5\", \"Pax3\", \"Myod1\"), min.cutoff = \"q1\") + xlab(\"UMAP 1\") + ylab(\"UMAP 2\")\n",
    "\n",
    "p1 + p2\n",
    "#ggsave(\"./6-kmita/images/E10_5_c2.png\" ,width=16, height=8)"
   ]
  },
  {
   "cell_type": "markdown",
   "id": "bcc87e9e-2339-4272-806e-ae43d4992d9f",
   "metadata": {},
   "source": [
    "Cluster 3: endothelial cells  "
   ]
  },
  {
   "cell_type": "code",
   "execution_count": null,
   "id": "a1b1700e-3b81-4a0e-8828-661d6ad60868",
   "metadata": {},
   "outputs": [],
   "source": [
    "p1 <- DimPlot(E10_5, label = TRUE) + NoLegend() + xlab(\"UMAP 1\") + ylab(\"UMAP 2\")\n",
    "p2 <- FeaturePlot(E10_5, c(\"Pecam1\", \"Cd34\", \"Cd93\", \"Cdh5\"), min.cutoff = \"q1\") \n",
    "\n",
    "p1 + p2\n",
    "#ggsave(\"./6-kmita/images/E10_5_c3.png\" ,width=16, height=8)"
   ]
  },
  {
   "cell_type": "markdown",
   "id": "4b4bd8cc-e63a-400e-b12e-b700ddbb8a93",
   "metadata": {},
   "source": [
    "Cluster 4: erythrocytes"
   ]
  },
  {
   "cell_type": "code",
   "execution_count": null,
   "id": "e0688d71-96cb-47e0-9c29-f1483b3463ae",
   "metadata": {},
   "outputs": [],
   "source": [
    "p1 <- DimPlot(E10_5, label = TRUE) + NoLegend() + xlab(\"UMAP 1\") + ylab(\"UMAP 2\")\n",
    "p2 <- FeaturePlot(E10_5, c(\"Hbb-y\", \"Hba-x\", \"Hba-a1\", \"Hbb-bt\"), min.cutoff = \"q1\") + xlab(\"UMAP 1\") + ylab(\"UMAP 2\")\n",
    "\n",
    "p1 + p2\n",
    "#ggsave(\"./6-kmita/images/E10_5_c4.png\" ,width=16, height=8)"
   ]
  },
  {
   "cell_type": "markdown",
   "id": "072fb790-b292-4842-ac3e-78fe274d823b",
   "metadata": {},
   "source": [
    "**Adding cell types**"
   ]
  },
  {
   "cell_type": "code",
   "execution_count": null,
   "id": "8ed21638-7e73-4fc4-8fb9-5c5d0933ff8c",
   "metadata": {},
   "outputs": [],
   "source": [
    "#creating column that contains cell type \n",
    "E10_5@meta.data$CellType <- Idents(E10_5)"
   ]
  },
  {
   "cell_type": "code",
   "execution_count": null,
   "id": "e049d19d-769f-4b20-bad5-5a8ed41fc9b8",
   "metadata": {},
   "outputs": [],
   "source": [
    "E10_5@meta.data$CellType <- as.character(E10_5@meta.data$CellType)\n",
    "\n",
    "E10_5@meta.data$CellType[E10_5@meta.data$CellType == '0'] <- 'Mesenchyme'\n",
    "E10_5@meta.data$CellType[E10_5@meta.data$CellType == '1'] <- 'Ectoderm'\n",
    "E10_5@meta.data$CellType[E10_5@meta.data$CellType == '2'] <- 'Muscle progenitors'\n",
    "E10_5@meta.data$CellType[E10_5@meta.data$CellType == '3'] <- 'Vascular endothelial cells'\n",
    "E10_5@meta.data$CellType[E10_5@meta.data$CellType == '4'] <- 'Erythroid cells'\n",
    "\n",
    "E10_5@meta.data$CellType <- as.factor(E10_5@meta.data$CellType)"
   ]
  },
  {
   "cell_type": "code",
   "execution_count": null,
   "id": "a397fc9e-5d17-41ba-9da0-fbb9c4436454",
   "metadata": {},
   "outputs": [],
   "source": [
    "options(repr.plot.width = 10, repr.plot.height = 8)\n",
    "\n",
    "DimPlot(E10_5, reduction = \"umap\", label = FALSE, group.by = \"CellType\") + xlab(\"UMAP 1\") + ylab(\"UMAP 2\")\n",
    "#ggsave(\"./6-kmita/figures_thesis/E10_5_global_annotated.png\" ,width=10, height=8)"
   ]
  },
  {
   "cell_type": "code",
   "execution_count": null,
   "id": "b80340a7-433a-463b-8935-5032ffb6bb5b",
   "metadata": {},
   "outputs": [],
   "source": [
    "saveRDS(E10_5, file = \"/home/host_home/tom/Kmita/6-kmita/RDataSessions/E10_5_GlobalAnnotation_SeuratObject.Rds\")"
   ]
  },
  {
   "cell_type": "markdown",
   "id": "c015dec5-c57e-4e1f-96ba-29d44766d988",
   "metadata": {},
   "source": [
    "**Visualizing data**"
   ]
  },
  {
   "cell_type": "code",
   "execution_count": null,
   "id": "ed0a2a83-7624-4f51-a134-01e4d72a54ad",
   "metadata": {
    "tags": []
   },
   "outputs": [],
   "source": [
    "seuratObject <- readRDS(\"/home/host_home/usb-drive/Thesis/Kmita/6-kmita/RDataSessions/E10_5_GlobalAnnotation_SeuratObject.Rds\")"
   ]
  },
  {
   "cell_type": "code",
   "execution_count": null,
   "id": "ab0fdd79-dac4-42a4-90c7-f91230bcc49a",
   "metadata": {},
   "outputs": [],
   "source": [
    "E10_5@meta.data$CellType_v <- E10_5@meta.data$CellType\n",
    "\n",
    "seuratObject <- E10_5\n",
    "\n",
    "seuratObject@meta.data$CellType_v <- as.character(seuratObject@meta.data$CellType_v)\n",
    "\n",
    "seuratObject@meta.data$CellType_v[seuratObject@meta.data$CellType_v == 'Mesenchyme'] <- '1 - Mesenchyme'\n",
    "seuratObject@meta.data$CellType_v[seuratObject@meta.data$CellType_v == 'Ectoderm'] <- '2 - Ectoderm'\n",
    "seuratObject@meta.data$CellType_v[seuratObject@meta.data$CellType_v == 'Myocytes'] <- '3 - Myocytes'\n",
    "seuratObject@meta.data$CellType_v[seuratObject@meta.data$CellType_v == 'Endothelium'] <- '4 - Endothelium'\n",
    "seuratObject@meta.data$CellType_v[seuratObject@meta.data$CellType_v == 'Erythrocytes'] <- '5 - Erythrocytes'\n",
    "\n",
    "seuratObject@meta.data$CellType_v <- as.factor(seuratObject@meta.data$CellType_v)\n",
    "\n",
    "E10_5 <- seuratObject "
   ]
  },
  {
   "cell_type": "code",
   "execution_count": null,
   "id": "a9c99e49-fbd6-41f9-ae77-82e2736ab58e",
   "metadata": {},
   "outputs": [],
   "source": [
    "options(repr.plot.width = 10, repr.plot.height = 8)\n",
    "\n",
    "DimPlot(E10_5, reduction = \"umap\",group.by = \"CellType_v\",) + xlab(\"UMAP 1\") + ylab(\"UMAP 2\")\n",
    "#ggsave(\"./6-kmita/figures_thesis/E10_5_global_annotated.pdf\" ,width=10, height=8)"
   ]
  },
  {
   "cell_type": "code",
   "execution_count": null,
   "id": "b06c5570-aac3-46bc-af2f-d9930ef3a625",
   "metadata": {},
   "outputs": [],
   "source": [
    "features <- c(\"Prrx1\",\"Tbx5\",\"Fgf8\",\"Wnt7a\",\"Pax3\",\"Myf5\",\"Pecam1\", \"Cd34\", \"Hba-a1\",\"Hbb-y\")"
   ]
  },
  {
   "cell_type": "code",
   "execution_count": null,
   "id": "81b9a259-cf88-4b26-aa57-7ea27a3e1038",
   "metadata": {},
   "outputs": [],
   "source": [
    "# Dot plots - the size of the dot corresponds to the percentage of cells expressing the\n",
    "# feature in each cluster. The color represents the average expression level\n",
    "DotPlot(seuratObject, features = features,col.min = 0) + RotatedAxis()"
   ]
  },
  {
   "cell_type": "markdown",
   "id": "0f4497b0-ce67-40d4-ad32-341a6c591fdd",
   "metadata": {
    "tags": []
   },
   "source": [
    "#### 3.4.2. Refinement of global annotations<a id=\"13.2\"></a>\n",
    "##### 3.4.2.1. Subsetting mesenchymal clusters<a id=\"14\"></a>"
   ]
  },
  {
   "cell_type": "code",
   "execution_count": null,
   "id": "e24a6c82-2876-4900-b0c8-9cac8c154c39",
   "metadata": {},
   "outputs": [],
   "source": [
    "E10_5 <- readRDS(\"/home/host_home/tom/Kmita/6-kmita/RDataSessions/E10_5_GlobalAnnotation_SeuratObject.Rds\")"
   ]
  },
  {
   "cell_type": "code",
   "execution_count": null,
   "id": "05f42549-c837-4adc-b79b-b0bd10ed1f74",
   "metadata": {},
   "outputs": [],
   "source": [
    "Idents(E10_5) <- E10_5@meta.data$CellType"
   ]
  },
  {
   "cell_type": "code",
   "execution_count": null,
   "id": "6ef9ce35-0bb8-45fb-a3f5-6afd1858cd17",
   "metadata": {},
   "outputs": [],
   "source": [
    "sc_mesenchymal_E10_5 <- subset(E10_5, idents = c(\"Mesenchyme\"))"
   ]
  },
  {
   "cell_type": "code",
   "execution_count": null,
   "id": "4d73456e-1268-4bd6-94b7-98d931b9f9f6",
   "metadata": {},
   "outputs": [],
   "source": [
    "sc_mesenchymal_E10_5 <- NormalizeData(sc_mesenchymal_E10_5, verbose = FALSE)\n",
    "sc_mesenchymal_E10_5 <- FindVariableFeatures(sc_mesenchymal_E10_5, selection.method = \"vst\", nfeatures = 2000)\n",
    "\n",
    "# Identify the 10 most highly variable genes\n",
    "top10 <- head(VariableFeatures(sc_mesenchymal_E10_5), 10)"
   ]
  },
  {
   "cell_type": "code",
   "execution_count": null,
   "id": "022dc2b2-0d54-42b4-b88a-4936330132e6",
   "metadata": {},
   "outputs": [],
   "source": [
    "sc_mesenchymal_E10_5"
   ]
  },
  {
   "cell_type": "code",
   "execution_count": null,
   "id": "b7805808-5461-4a9e-b42c-0108772d05ca",
   "metadata": {},
   "outputs": [],
   "source": [
    "sc_mesenchymal_E10_5 <- ScaleData(sc_mesenchymal_E10_5)"
   ]
  },
  {
   "cell_type": "code",
   "execution_count": null,
   "id": "f3f69328-438b-4cf9-bf93-057a518741d4",
   "metadata": {},
   "outputs": [],
   "source": [
    "sc_mesenchymal_E10_5 <- RunPCA(sc_mesenchymal_E10_5, features = VariableFeatures(object = sc_mesenchymal_E10_5), verbose = FALSE)"
   ]
  },
  {
   "cell_type": "code",
   "execution_count": null,
   "id": "3fef998e-a79c-414c-91a2-ab38f6777bb4",
   "metadata": {},
   "outputs": [],
   "source": [
    "options(repr.plot.width=10)\n",
    "DimPlot(sc_mesenchymal_E10_5, reduction = \"pca\", group.by = \"orig.ident\") + xlab(\"PC 1\") + ylab(\"PC 2\")"
   ]
  },
  {
   "cell_type": "code",
   "execution_count": null,
   "id": "1b2ab3b4-ce08-4b5a-a277-070d680625ca",
   "metadata": {},
   "outputs": [],
   "source": [
    "ElbowPlot(sc_mesenchymal_E10_5, 50)"
   ]
  },
  {
   "cell_type": "code",
   "execution_count": null,
   "id": "7935363a-257d-42fa-b9dc-4fd934ec7aa2",
   "metadata": {
    "scrolled": true
   },
   "outputs": [],
   "source": [
    "sc_mesenchymal_E10_5 <- FindNeighbors(sc_mesenchymal_E10_5, dims = 1:25, verbose = FALSE)\n",
    "sc_mesenchymal_E10_5 <- FindClusters(sc_mesenchymal_E10_5, resolution = 2, verbose = FALSE)"
   ]
  },
  {
   "cell_type": "code",
   "execution_count": null,
   "id": "d168ea76-6d00-46a1-ab8a-12ef0e1aad53",
   "metadata": {
    "scrolled": true
   },
   "outputs": [],
   "source": [
    "sc_mesenchymal_E10_5 <- RunUMAP(sc_mesenchymal_E10_5, dims = 1:25, n.neighbors = 10, verbose = FALSE)"
   ]
  },
  {
   "cell_type": "code",
   "execution_count": null,
   "id": "def36dc4-081e-4e2b-aa4f-98eac2358355",
   "metadata": {},
   "outputs": [],
   "source": [
    "options(repr.plot.width = 10, repr.plot.height = 8)\n",
    "DimPlot(sc_mesenchymal_E10_5, reduction = \"umap\", label=TRUE) + xlab(\"UMAP 1\") + ylab(\"UMAP 2\")\n",
    "\n",
    "#ggsave(\"./6-kmita/images/E10_5_m_no_annotation.png\" ,width=10, height=8)"
   ]
  },
  {
   "cell_type": "code",
   "execution_count": null,
   "id": "12d3e42d-c29d-40b2-ad5c-6d37d22bc806",
   "metadata": {
    "tags": []
   },
   "outputs": [],
   "source": [
    "markers_10_5_mesenchyme <- FindAllMarkers(sc_mesenchymal_E10_5)"
   ]
  },
  {
   "cell_type": "code",
   "execution_count": null,
   "id": "eaf751e3-e973-48c5-819b-67e8b8de8dfa",
   "metadata": {},
   "outputs": [],
   "source": [
    "#saveRDS(markers_10_5_mesenchyme, file = \"/home/host_home/usb-drive/Thesis/Kmita/6-kmita/analysis/markers_10_5_mesenchyme.Rds\")"
   ]
  },
  {
   "cell_type": "code",
   "execution_count": null,
   "id": "9aa0a6a3-ad6e-4c57-8f04-5afee6920be6",
   "metadata": {},
   "outputs": [],
   "source": [
    "markers_10_5_mesenchyme <- readRDS(file = \"/home/host_home/usb-drive/Thesis/Kmita/6-kmita/analysis/markers_10_5_mesenchyme.Rds\")"
   ]
  },
  {
   "cell_type": "code",
   "execution_count": null,
   "id": "f67ba468-1226-44eb-adba-7770a3c8b320",
   "metadata": {},
   "outputs": [],
   "source": [
    "# find markers for every cluster compared to all remaining cells, report only the positive\n",
    "# ones\n",
    "#df_m %>%\n",
    "#    group_by(cluster) %>%\n",
    "#    slice_max(n = 10, order_by = avg_log2FC)"
   ]
  },
  {
   "cell_type": "code",
   "execution_count": null,
   "id": "3419600b-daf6-4cb1-8cb3-44b3ae140879",
   "metadata": {},
   "outputs": [],
   "source": [
    "#select only cluster 0 and order avg_log2FC from big to small\n",
    "\n",
    "#df_m[df_m$cluster == 0,] %>%\n",
    "#slice_max(n = 10\n",
    "#          , order_by = avg_log2FC)"
   ]
  },
  {
   "cell_type": "code",
   "execution_count": null,
   "id": "55505981-1a36-431e-8900-2556bbdbc8a0",
   "metadata": {},
   "outputs": [],
   "source": [
    "options(repr.plot.width = 10, repr.plot.height = 8)\n",
    "DimPlot(sc_mesenchymal_E10_5, reduction = \"umap\", label=TRUE) + xlab(\"UMAP 1\") + ylab(\"UMAP 2\")"
   ]
  },
  {
   "cell_type": "markdown",
   "id": "f0199019-cf6c-4a7a-bb1e-484ba99b9c52",
   "metadata": {},
   "source": [
    "**Positional information**\n",
    "\n",
    "Proximal mesenchyme"
   ]
  },
  {
   "cell_type": "code",
   "execution_count": null,
   "id": "007260b5-d8c4-456c-a236-afb9af7fae6c",
   "metadata": {},
   "outputs": [],
   "source": [
    "g <- WhichCells(sc_mesenchymal_E10_5, idents = c(\"22\"))\n",
    "p1 <- DimPlot(sc_mesenchymal_E10_5, cells.highlight = list(g)) + xlab(\"UMAP 1\") + ylab(\"UMAP 2\")\n",
    "p2 <- FeaturePlot(sc_mesenchymal_E10_5, c(\"Meis1\", \"Hoxa9\",\"Shox2\", \"Hoxd9\"),  min.cutoff = \"q1\") + xlab(\"UMAP 1\") + ylab(\"UMAP 2\")\n",
    "\n",
    "options(repr.plot.width = 20, repr.plot.height = 8)\n",
    "p1 + p2"
   ]
  },
  {
   "cell_type": "code",
   "execution_count": null,
   "id": "f93be63d-494d-4865-97e1-e9ed391fc074",
   "metadata": {},
   "outputs": [],
   "source": [
    "g <- WhichCells(sc_mesenchymal_E10_5, idents = c(\"2\",\"13\",\"23\",\"13\",\"21\",\"0\",\"17\",\"8\",'12','10','24','20','7','9','5','11'))\n",
    "p1 <- DimPlot(sc_mesenchymal_E10_5, cells.highlight = list(g), label=TRUE) + xlab(\"UMAP 1\") + ylab(\"UMAP 2\")\n",
    "p2 <- FeaturePlot(sc_mesenchymal_E10_5, c(\"Meis1\", \"Meis2\", \"Hoxd9\", \"Shox2\" ), min.cutoff = \"q1\") + xlab(\"UMAP 1\") + ylab(\"UMAP 2\")\n",
    "\n",
    "options(repr.plot.width = 20, repr.plot.height = 8)\n",
    "p1 + p2\n",
    "\n",
    "#ggsave(\"./6-kmita/images/E10_5_m_proximal.png\" ,width=20, height=8)\n",
    "\n",
    "#add Hox"
   ]
  },
  {
   "cell_type": "markdown",
   "id": "c751ae1e-f17a-46c9-8d17-1bc82cce73c7",
   "metadata": {},
   "source": [
    "Intermediate mesenchyme "
   ]
  },
  {
   "cell_type": "code",
   "execution_count": null,
   "id": "a3bbf634-cf82-4cc7-a17a-c5be014070fb",
   "metadata": {},
   "outputs": [],
   "source": [
    "g <- WhichCells(sc_mesenchymal_E10_5, idents = c(\"15\"))\n",
    "p1 <- DimPlot(sc_mesenchymal_E10_5, cells.highlight = list(g)) + xlab(\"UMAP 1\") + ylab(\"UMAP 2\")\n",
    "p2 <- FeaturePlot(sc_mesenchymal_E10_5, c(\"Hoxa11\")) + xlab(\"UMAP 1\") + ylab(\"UMAP 2\")\n",
    "\n",
    "options(repr.plot.width = 20, repr.plot.height = 8)\n",
    "p1 + p2"
   ]
  },
  {
   "cell_type": "code",
   "execution_count": null,
   "id": "2c7136f8-cb60-4409-a096-45cd6d4991ac",
   "metadata": {
    "tags": []
   },
   "outputs": [],
   "source": [
    "g <- WhichCells(sc_mesenchymal_E10_5, idents = c(\"2\",\"13\",\"23\",'4','5','16','4','9','14','18','1','22','25','3'))\n",
    "p1 <- DimPlot(sc_mesenchymal_E10_5, cells.highlight = list(g), label=TRUE) + xlab(\"UMAP 1\") + ylab(\"UMAP 2\")\n",
    "p2 <- FeaturePlot(sc_mesenchymal_E10_5, c(\"Hoxa11\")) + xlab(\"UMAP 1\") + ylab(\"UMAP 2\")\n",
    "\n",
    "options(repr.plot.width = 20, repr.plot.height = 8)\n",
    "p1 + p2\n",
    "\n",
    "#ggsave(\"./6-kmita/images/E10_5_m_intermediate.png\" ,width=20, height=8)"
   ]
  },
  {
   "cell_type": "markdown",
   "id": "b6bddace-94d9-4dd1-a800-c98647a66568",
   "metadata": {},
   "source": [
    "Distal mesenchyme"
   ]
  },
  {
   "cell_type": "code",
   "execution_count": null,
   "id": "45f24203-01cb-4584-ac0d-c0aef2abc586",
   "metadata": {},
   "outputs": [],
   "source": [
    "g <- WhichCells(sc_mesenchymal_E10_5, idents = c(\"12\"))\n",
    "p1 <- DimPlot(sc_mesenchymal_E10_5, cells.highlight = list(g)) + xlab(\"UMAP 1\") + ylab(\"UMAP 2\")\n",
    "p2 <- FeaturePlot(sc_mesenchymal_E10_5, c(\"Hoxd13\", \"Hoxa13\")) + xlab(\"UMAP 1\") + ylab(\"UMAP 2\")\n",
    "\n",
    "options(repr.plot.width = 9.5, repr.plot.height = 8)\n",
    "p1 \n",
    "options(repr.plot.width = 20, repr.plot.height = 8)\n",
    "p2"
   ]
  },
  {
   "cell_type": "code",
   "execution_count": null,
   "id": "ebfc13ae-acb2-4e67-854b-755c40f416d1",
   "metadata": {},
   "outputs": [],
   "source": [
    "g <- WhichCells(sc_mesenchymal_E10_5, idents = c(\"6\",\"15\",'16','19','22'))\n",
    "p1 <- DimPlot(sc_mesenchymal_E10_5, cells.highlight = list(g), label=TRUE) + xlab(\"UMAP 1\") + ylab(\"UMAP 2\")\n",
    "p2 <- FeaturePlot(sc_mesenchymal_E10_5, c(\"Hoxd13\", \"Hoxa13\")) + xlab(\"UMAP 1\") + ylab(\"UMAP 2\")\n",
    "\n",
    "options(repr.plot.width = 9.5, repr.plot.height = 8)\n",
    "p1 \n",
    "options(repr.plot.width = 20, repr.plot.height = 8)\n",
    "p2\n",
    "\n",
    "#ggsave(\"./6-kmita/images/E10_5_m_distal.png\" ,width=20, height=8)\n",
    "#ggsave(\"./6-kmita/images/E10_5_m_distal2.png\" ,width=10, height=8, plot=p1)"
   ]
  },
  {
   "cell_type": "code",
   "execution_count": null,
   "id": "b102bd09-718d-45d1-aad2-c1442747f90d",
   "metadata": {},
   "outputs": [],
   "source": [
    "sc_mesenchymal_E10_5@meta.data$CellType_PID <- Idents(sc_mesenchymal_E10_5)"
   ]
  },
  {
   "cell_type": "code",
   "execution_count": null,
   "id": "2680879d-64a8-4300-8de7-de1042ca3efe",
   "metadata": {},
   "outputs": [],
   "source": [
    "sc_mesenchymal_E10_5@meta.data$CellType_PID <- as.character(sc_mesenchymal_E10_5@meta.data$CellType_PID)\n",
    "\n",
    "sc_mesenchymal_E10_5@meta.data$CellType_PID[sc_mesenchymal_E10_5@meta.data$CellType_PID == '0'] <- 'Proximal cells'\n",
    "sc_mesenchymal_E10_5@meta.data$CellType_PID[sc_mesenchymal_E10_5@meta.data$CellType_PID == '10'] <- 'Proximal cells'\n",
    "sc_mesenchymal_E10_5@meta.data$CellType_PID[sc_mesenchymal_E10_5@meta.data$CellType_PID == '11'] <- 'Proximal cells'\n",
    "sc_mesenchymal_E10_5@meta.data$CellType_PID[sc_mesenchymal_E10_5@meta.data$CellType_PID == '17'] <- 'Proximal cells'\n",
    "sc_mesenchymal_E10_5@meta.data$CellType_PID[sc_mesenchymal_E10_5@meta.data$CellType_PID == '20'] <- 'Proximal cells'\n",
    "sc_mesenchymal_E10_5@meta.data$CellType_PID[sc_mesenchymal_E10_5@meta.data$CellType_PID == '21'] <- 'Proximal cells'\n",
    "sc_mesenchymal_E10_5@meta.data$CellType_PID[sc_mesenchymal_E10_5@meta.data$CellType_PID == '24'] <- 'Proximal cells'\n",
    "sc_mesenchymal_E10_5@meta.data$CellType_PID[sc_mesenchymal_E10_5@meta.data$CellType_PID == '7'] <- 'Proximal cells'\n",
    "sc_mesenchymal_E10_5@meta.data$CellType_PID[sc_mesenchymal_E10_5@meta.data$CellType_PID == '8'] <- 'Proximal cells'\n",
    "sc_mesenchymal_E10_5@meta.data$CellType_PID[sc_mesenchymal_E10_5@meta.data$CellType_PID == '12'] <- 'Proximal cells'\n",
    "\n",
    "sc_mesenchymal_E10_5@meta.data$CellType_PID[sc_mesenchymal_E10_5@meta.data$CellType_PID == '2'] <- 'Intermediate cells'\n",
    "sc_mesenchymal_E10_5@meta.data$CellType_PID[sc_mesenchymal_E10_5@meta.data$CellType_PID == '13'] <- 'Intermediate cells'\n",
    "sc_mesenchymal_E10_5@meta.data$CellType_PID[sc_mesenchymal_E10_5@meta.data$CellType_PID == '23'] <- 'Intermediate cells'\n",
    "sc_mesenchymal_E10_5@meta.data$CellType_PID[sc_mesenchymal_E10_5@meta.data$CellType_PID == '4'] <- 'Intermediate cells'\n",
    "sc_mesenchymal_E10_5@meta.data$CellType_PID[sc_mesenchymal_E10_5@meta.data$CellType_PID == '5'] <- 'Intermediate cells'\n",
    "sc_mesenchymal_E10_5@meta.data$CellType_PID[sc_mesenchymal_E10_5@meta.data$CellType_PID == '9'] <- 'Intermediate cells'\n",
    "sc_mesenchymal_E10_5@meta.data$CellType_PID[sc_mesenchymal_E10_5@meta.data$CellType_PID == '14'] <- 'Intermediate cells'\n",
    "sc_mesenchymal_E10_5@meta.data$CellType_PID[sc_mesenchymal_E10_5@meta.data$CellType_PID == '18'] <- 'Intermediate cells'\n",
    "sc_mesenchymal_E10_5@meta.data$CellType_PID[sc_mesenchymal_E10_5@meta.data$CellType_PID == '1'] <- 'Intermediate cells'\n",
    "sc_mesenchymal_E10_5@meta.data$CellType_PID[sc_mesenchymal_E10_5@meta.data$CellType_PID == '25'] <- 'Intermediate cells'\n",
    "sc_mesenchymal_E10_5@meta.data$CellType_PID[sc_mesenchymal_E10_5@meta.data$CellType_PID == '3'] <- 'Intermediate cells'\n",
    "\n",
    "sc_mesenchymal_E10_5@meta.data$CellType_PID[sc_mesenchymal_E10_5@meta.data$CellType_PID == '6'] <- 'Distal cells'\n",
    "sc_mesenchymal_E10_5@meta.data$CellType_PID[sc_mesenchymal_E10_5@meta.data$CellType_PID == '15'] <- 'Distal cells'\n",
    "sc_mesenchymal_E10_5@meta.data$CellType_PID[sc_mesenchymal_E10_5@meta.data$CellType_PID == '16'] <- 'Distal cells'\n",
    "sc_mesenchymal_E10_5@meta.data$CellType_PID[sc_mesenchymal_E10_5@meta.data$CellType_PID == '19'] <- 'Distal cells'\n",
    "sc_mesenchymal_E10_5@meta.data$CellType_PID[sc_mesenchymal_E10_5@meta.data$CellType_PID == '22'] <- 'Distal cells'\n",
    "\n",
    "\n",
    "sc_mesenchymal_E10_5@meta.data$CellType_PID <- as.factor(sc_mesenchymal_E10_5@meta.data$CellType_PID)"
   ]
  },
  {
   "cell_type": "code",
   "execution_count": null,
   "id": "4938f066-4049-4c5f-bae0-ce2b0211a8c1",
   "metadata": {},
   "outputs": [],
   "source": [
    "options(repr.plot.width = 20, repr.plot.height = 8)\n",
    "\n",
    "p1 <- DimPlot(sc_mesenchymal_E10_5, group.by = 'CellType_PID') + xlab(\"UMAP 1\") + ylab(\"UMAP 2\")\n",
    "\n",
    "options(repr.plot.width = 9.5, repr.plot.height = 8)\n",
    "p1 "
   ]
  },
  {
   "cell_type": "markdown",
   "id": "79b7b6b4-5d2c-4a42-816c-ad1d731ddc5d",
   "metadata": {},
   "source": [
    "**Cell type**\n"
   ]
  },
  {
   "cell_type": "markdown",
   "id": "8cc58e1f-05fa-4cfc-992e-57e8721dbd10",
   "metadata": {},
   "source": [
    "ZPA"
   ]
  },
  {
   "cell_type": "code",
   "execution_count": null,
   "id": "0f23ffe6-7514-4ace-8125-662db811637f",
   "metadata": {},
   "outputs": [],
   "source": [
    "g <- WhichCells(sc_mesenchymal_E10_5, idents = c(\"16\"))\n",
    "p1 <- DimPlot(sc_mesenchymal_E10_5, cells.highlight = list(g)) + xlab(\"UMAP 1\") + ylab(\"UMAP 2\")\n",
    "p2 <- FeaturePlot(sc_mesenchymal_E10_5, c(\"Shh\")) + xlab(\"UMAP 1\") + ylab(\"UMAP 2\")\n",
    "\n",
    "options(repr.plot.width = 20, repr.plot.height = 8)\n",
    "p1 + p2\n",
    "\n",
    "#ggsave(\"./6-kmita/images/E10_5_m_ZPA.png\" ,width=20, height=8)"
   ]
  },
  {
   "cell_type": "markdown",
   "id": "c4380d28-aa16-4251-9cb3-6e4f568df87f",
   "metadata": {},
   "source": [
    "Chondrocyte precursors"
   ]
  },
  {
   "cell_type": "code",
   "execution_count": null,
   "id": "f4934170-2e7d-41d3-b475-13a3164e5c6d",
   "metadata": {},
   "outputs": [],
   "source": [
    "g <- WhichCells(sc_mesenchymal_E10_5, idents = c(\"11\"))\n",
    "p1 <- DimPlot(sc_mesenchymal_E10_5, cells.highlight = list(g)) + xlab(\"UMAP 1\") + ylab(\"UMAP 2\")\n",
    "p2 <- FeaturePlot(sc_mesenchymal_E10_5, c(\"Sox9\", \"Prrx1\",\"Prrx2\")) + xlab(\"UMAP 1\") + ylab(\"UMAP 2\")\n",
    "\n",
    "options(repr.plot.width = 9.5, repr.plot.height = 8)\n",
    "p1 \n",
    "options(repr.plot.width = 20, repr.plot.height = 16)\n",
    "p2"
   ]
  },
  {
   "cell_type": "code",
   "execution_count": null,
   "id": "5000662e-9135-4254-87a1-f36577606f28",
   "metadata": {},
   "outputs": [],
   "source": [
    "g <- WhichCells(sc_mesenchymal_E10_5, idents = c('8','7','5',\"20\"))\n",
    "p1 <- DimPlot(sc_mesenchymal_E10_5, cells.highlight = list(g), label = TRUE) + xlab(\"UMAP 1\") + ylab(\"UMAP 2\")\n",
    "p2 <- FeaturePlot(sc_mesenchymal_E10_5, c(\"Sox9\")) + xlab(\"UMAP 1\") + ylab(\"UMAP 2\") \n",
    "\n",
    "p2 <- FeaturePlot(sc_mesenchymal_E10_5, c(\"Sox9\", \"Prrx1\",\"Prrx2\")) + xlab(\"UMAP 1\") + ylab(\"UMAP 2\")\n",
    "\n",
    "options(repr.plot.width = 9.5, repr.plot.height = 8)\n",
    "p1 \n",
    "options(repr.plot.width = 20, repr.plot.height = 16)\n",
    "p2"
   ]
  },
  {
   "cell_type": "code",
   "execution_count": null,
   "id": "1e00186a-01c4-4b5c-ab4e-6f8e3d6c07fc",
   "metadata": {},
   "outputs": [],
   "source": [
    "sc_mesenchymal_E10_5@meta.data$CellType_g <- Idents(sc_mesenchymal_E10_5)"
   ]
  },
  {
   "cell_type": "code",
   "execution_count": null,
   "id": "e376c568-0ae0-4923-b337-ab145a2fe612",
   "metadata": {},
   "outputs": [],
   "source": [
    "sc_mesenchymal_E10_5@meta.data$CellType_g <- as.character(sc_mesenchymal_E10_5@meta.data$CellType_g)\n",
    "\n",
    "sc_mesenchymal_E10_5@meta.data$CellType_g[sc_mesenchymal_E10_5@meta.data$CellType_g == '8'] <- 'Chondrocyte precursors'\n",
    "sc_mesenchymal_E10_5@meta.data$CellType_g[sc_mesenchymal_E10_5@meta.data$CellType_g == '7'] <- 'Chondrocyte precursors'\n",
    "sc_mesenchymal_E10_5@meta.data$CellType_g[sc_mesenchymal_E10_5@meta.data$CellType_g == '5'] <- 'Chondrocyte precursors'\n",
    "sc_mesenchymal_E10_5@meta.data$CellType_g[sc_mesenchymal_E10_5@meta.data$CellType_g == '20'] <- 'Chondrocyte precursors'\n",
    "\n",
    "sc_mesenchymal_E10_5@meta.data$CellType_g[sc_mesenchymal_E10_5@meta.data$CellType_g == '16'] <- 'ZPA'\n",
    "\n",
    "sc_mesenchymal_E10_5@meta.data$CellType_g[sc_mesenchymal_E10_5@meta.data$CellType_g == '0'] <- 'Mesenchyme'\n",
    "sc_mesenchymal_E10_5@meta.data$CellType_g[sc_mesenchymal_E10_5@meta.data$CellType_g == '1'] <- 'Mesenchyme'\n",
    "sc_mesenchymal_E10_5@meta.data$CellType_g[sc_mesenchymal_E10_5@meta.data$CellType_g == '10'] <- 'Mesenchyme'\n",
    "sc_mesenchymal_E10_5@meta.data$CellType_g[sc_mesenchymal_E10_5@meta.data$CellType_g == '11'] <- 'Mesenchyme'\n",
    "sc_mesenchymal_E10_5@meta.data$CellType_g[sc_mesenchymal_E10_5@meta.data$CellType_g == '12'] <- 'Mesenchyme'\n",
    "sc_mesenchymal_E10_5@meta.data$CellType_g[sc_mesenchymal_E10_5@meta.data$CellType_g == '13'] <- 'Mesenchyme'\n",
    "sc_mesenchymal_E10_5@meta.data$CellType_g[sc_mesenchymal_E10_5@meta.data$CellType_g == '14'] <- 'Mesenchyme'\n",
    "sc_mesenchymal_E10_5@meta.data$CellType_g[sc_mesenchymal_E10_5@meta.data$CellType_g == '15'] <- 'Mesenchyme'\n",
    "sc_mesenchymal_E10_5@meta.data$CellType_g[sc_mesenchymal_E10_5@meta.data$CellType_g == '17'] <- 'Mesenchyme'\n",
    "sc_mesenchymal_E10_5@meta.data$CellType_g[sc_mesenchymal_E10_5@meta.data$CellType_g == '18'] <- 'Mesenchyme'\n",
    "sc_mesenchymal_E10_5@meta.data$CellType_g[sc_mesenchymal_E10_5@meta.data$CellType_g == '19'] <- 'Mesenchyme'\n",
    "sc_mesenchymal_E10_5@meta.data$CellType_g[sc_mesenchymal_E10_5@meta.data$CellType_g == '2'] <- 'Mesenchyme'\n",
    "sc_mesenchymal_E10_5@meta.data$CellType_g[sc_mesenchymal_E10_5@meta.data$CellType_g == '21'] <- 'Mesenchyme'\n",
    "sc_mesenchymal_E10_5@meta.data$CellType_g[sc_mesenchymal_E10_5@meta.data$CellType_g == '22'] <- 'Mesenchyme'\n",
    "sc_mesenchymal_E10_5@meta.data$CellType_g[sc_mesenchymal_E10_5@meta.data$CellType_g == '23'] <- 'Mesenchyme'\n",
    "sc_mesenchymal_E10_5@meta.data$CellType_g[sc_mesenchymal_E10_5@meta.data$CellType_g == '24'] <- 'Mesenchyme'\n",
    "sc_mesenchymal_E10_5@meta.data$CellType_g[sc_mesenchymal_E10_5@meta.data$CellType_g == '25'] <- 'Mesenchyme'\n",
    "sc_mesenchymal_E10_5@meta.data$CellType_g[sc_mesenchymal_E10_5@meta.data$CellType_g == '3'] <- 'Mesenchyme'\n",
    "sc_mesenchymal_E10_5@meta.data$CellType_g[sc_mesenchymal_E10_5@meta.data$CellType_g == '4'] <- 'Mesenchyme'\n",
    "sc_mesenchymal_E10_5@meta.data$CellType_g[sc_mesenchymal_E10_5@meta.data$CellType_g == '6'] <- 'Mesenchyme'\n",
    "sc_mesenchymal_E10_5@meta.data$CellType_g[sc_mesenchymal_E10_5@meta.data$CellType_g == '9'] <- 'Mesenchyme'\n",
    "\n",
    "sc_mesenchymal_E10_5@meta.data$CellType_g <- as.factor(sc_mesenchymal_E10_5@meta.data$CellType_g)"
   ]
  },
  {
   "cell_type": "code",
   "execution_count": null,
   "id": "e919955a-784c-41c1-b90e-c18bdfa0eee8",
   "metadata": {},
   "outputs": [],
   "source": [
    "p1 <- DimPlot(sc_mesenchymal_E10_5, group.by = 'CellType_g') + xlab(\"UMAP 1\") + ylab(\"UMAP 2\")\n",
    "p2 <- FeaturePlot(sc_mesenchymal_E10_5, c(\"Shh\", \"Sox9\")) + xlab(\"UMAP 1\") + ylab(\"UMAP 2\")\n",
    "\n",
    "options(repr.plot.width = 10, repr.plot.height = 8)\n",
    "p1 \n",
    "options(repr.plot.width = 20, repr.plot.height = 8)\n",
    "p2"
   ]
  },
  {
   "cell_type": "markdown",
   "id": "a964c2a2-c529-48b5-83bf-e106f83a2f2b",
   "metadata": {},
   "source": [
    "**Combining positional information with cell types**"
   ]
  },
  {
   "cell_type": "code",
   "execution_count": null,
   "id": "a60e24fc-ca6a-4867-8b22-172b5b45ff37",
   "metadata": {},
   "outputs": [],
   "source": [
    "sc_mesenchymal_E10_5@meta.data$CellType <- Idents(sc_mesenchymal_E10_5)"
   ]
  },
  {
   "cell_type": "code",
   "execution_count": null,
   "id": "0c70a3c3-d84a-48d9-97b2-0f1fa3f1167a",
   "metadata": {},
   "outputs": [],
   "source": [
    "sc_mesenchymal_E10_5@meta.data$CellType <- as.character(sc_mesenchymal_E10_5@meta.data$CellType)\n",
    "\n",
    "sc_mesenchymal_E10_5@meta.data$CellType[sc_mesenchymal_E10_5@meta.data$CellType == '16'] <- 'ZPA'\n",
    "\n",
    "sc_mesenchymal_E10_5@meta.data$CellType[sc_mesenchymal_E10_5@meta.data$CellType == '0'] <- 'Proximal limb mesenchyme'\n",
    "sc_mesenchymal_E10_5@meta.data$CellType[sc_mesenchymal_E10_5@meta.data$CellType == '10'] <- 'Proximal limb mesenchyme'\n",
    "sc_mesenchymal_E10_5@meta.data$CellType[sc_mesenchymal_E10_5@meta.data$CellType == '11'] <- 'Proximal limb mesenchyme'\n",
    "sc_mesenchymal_E10_5@meta.data$CellType[sc_mesenchymal_E10_5@meta.data$CellType == '12'] <- 'Proximal limb mesenchyme'\n",
    "sc_mesenchymal_E10_5@meta.data$CellType[sc_mesenchymal_E10_5@meta.data$CellType == '17'] <- 'Proximal limb mesenchyme'\n",
    "sc_mesenchymal_E10_5@meta.data$CellType[sc_mesenchymal_E10_5@meta.data$CellType == '21'] <- 'Proximal limb mesenchyme'\n",
    "sc_mesenchymal_E10_5@meta.data$CellType[sc_mesenchymal_E10_5@meta.data$CellType == '24'] <- 'Proximal limb mesenchyme'\n",
    "\n",
    "sc_mesenchymal_E10_5@meta.data$CellType[sc_mesenchymal_E10_5@meta.data$CellType == '1'] <- 'Intermediate limb mesenchyme'\n",
    "sc_mesenchymal_E10_5@meta.data$CellType[sc_mesenchymal_E10_5@meta.data$CellType == '13'] <- 'Intermediate limb mesenchyme'\n",
    "sc_mesenchymal_E10_5@meta.data$CellType[sc_mesenchymal_E10_5@meta.data$CellType == '14'] <- 'Intermediate limb mesenchyme'\n",
    "sc_mesenchymal_E10_5@meta.data$CellType[sc_mesenchymal_E10_5@meta.data$CellType == '18'] <- 'Intermediate limb mesenchyme'\n",
    "sc_mesenchymal_E10_5@meta.data$CellType[sc_mesenchymal_E10_5@meta.data$CellType == '2'] <- 'Intermediate limb mesenchyme'\n",
    "sc_mesenchymal_E10_5@meta.data$CellType[sc_mesenchymal_E10_5@meta.data$CellType == '23'] <- 'Intermediate limb mesenchyme'\n",
    "sc_mesenchymal_E10_5@meta.data$CellType[sc_mesenchymal_E10_5@meta.data$CellType == '25'] <- 'Intermediate limb mesenchyme'\n",
    "sc_mesenchymal_E10_5@meta.data$CellType[sc_mesenchymal_E10_5@meta.data$CellType == '3'] <- 'Intermediate limb mesenchyme'\n",
    "sc_mesenchymal_E10_5@meta.data$CellType[sc_mesenchymal_E10_5@meta.data$CellType == '4'] <- 'Intermediate limb mesenchyme'\n",
    "sc_mesenchymal_E10_5@meta.data$CellType[sc_mesenchymal_E10_5@meta.data$CellType == '9'] <- 'Intermediate limb mesenchyme'\n",
    "\n",
    "sc_mesenchymal_E10_5@meta.data$CellType[sc_mesenchymal_E10_5@meta.data$CellType == '15'] <- 'Distal limb mesenchyme'\n",
    "sc_mesenchymal_E10_5@meta.data$CellType[sc_mesenchymal_E10_5@meta.data$CellType == '19'] <- 'Distal limb mesenchyme'\n",
    "sc_mesenchymal_E10_5@meta.data$CellType[sc_mesenchymal_E10_5@meta.data$CellType == '22'] <- 'Distal limb mesenchyme'\n",
    "sc_mesenchymal_E10_5@meta.data$CellType[sc_mesenchymal_E10_5@meta.data$CellType == '6'] <- 'Distal limb mesenchyme'\n",
    "\n",
    "sc_mesenchymal_E10_5@meta.data$CellType[sc_mesenchymal_E10_5@meta.data$CellType == '20'] <- 'Chondroprogenitors'\n",
    "sc_mesenchymal_E10_5@meta.data$CellType[sc_mesenchymal_E10_5@meta.data$CellType == '5'] <- 'Chondroprogenitors'\n",
    "sc_mesenchymal_E10_5@meta.data$CellType[sc_mesenchymal_E10_5@meta.data$CellType == '7'] <- 'Chondroprogenitors'\n",
    "sc_mesenchymal_E10_5@meta.data$CellType[sc_mesenchymal_E10_5@meta.data$CellType == '8'] <- 'Chondroprogenitors'\n",
    "\n",
    "sc_mesenchymal_E10_5@meta.data$CellType <- as.factor(sc_mesenchymal_E10_5@meta.data$CellType)"
   ]
  },
  {
   "cell_type": "code",
   "execution_count": null,
   "id": "43b8d2be-2f96-4935-9a06-931beaec6e3b",
   "metadata": {},
   "outputs": [],
   "source": [
    "options(repr.plot.width = 10, repr.plot.height = 8)\n",
    "DimPlot(sc_mesenchymal_E10_5, group.by = 'CellType') + xlab(\"UMAP 1\") + ylab(\"UMAP 2\")"
   ]
  },
  {
   "cell_type": "code",
   "execution_count": null,
   "id": "87081363-b05c-477e-9422-a8d20814646f",
   "metadata": {},
   "outputs": [],
   "source": [
    "saveRDS(sc_mesenchymal_E10_5, file = \"/home/host_home/tom/Kmita/6-kmita/RDataSessions/sc_mesenchymal_E10_5_annotated_SeuratObject.Rds\")"
   ]
  },
  {
   "cell_type": "markdown",
   "id": "937b3347-4daa-4c86-8add-f653c4be10be",
   "metadata": {
    "tags": []
   },
   "source": [
    "##### 3.4.2.2. Subsetting ectodermal cluster<a id=\"15\"></a>"
   ]
  },
  {
   "cell_type": "code",
   "execution_count": null,
   "id": "b06a407c-f719-4be9-8eb2-fd3ee32d69c0",
   "metadata": {},
   "outputs": [],
   "source": [
    "E10_5 <- readRDS(\"/home/host_home/tom/Kmita/6-kmita/RDataSessions/E10_5_GlobalAnnotation_SeuratObject.Rds\")"
   ]
  },
  {
   "cell_type": "code",
   "execution_count": null,
   "id": "878c94e3-0c94-4686-9649-fb3ca8a8c15b",
   "metadata": {},
   "outputs": [],
   "source": [
    "Idents(E10_5) <- E10_5@meta.data$CellType"
   ]
  },
  {
   "cell_type": "code",
   "execution_count": null,
   "id": "f743cc13-df9c-4bb5-bb98-67970d7b4ca0",
   "metadata": {},
   "outputs": [],
   "source": [
    "sc_ectoderm_E10_5 <- subset(E10_5, idents = c(\"Ectoderm\"))"
   ]
  },
  {
   "cell_type": "code",
   "execution_count": null,
   "id": "1104b327-9959-43dd-b3e4-8759741fc8ff",
   "metadata": {},
   "outputs": [],
   "source": [
    "sc_ectoderm_E10_5 <- NormalizeData(sc_ectoderm_E10_5, verbose = FALSE)\n",
    "sc_ectoderm_E10_5 <- FindVariableFeatures(sc_ectoderm_E10_5, selection.method = \"vst\", nfeatures = 2000)\n",
    "\n",
    "# Identify the 10 most highly variable genes\n",
    "top10 <- head(VariableFeatures(sc_ectoderm_E10_5), 10)"
   ]
  },
  {
   "cell_type": "code",
   "execution_count": null,
   "id": "4c1ed5b9-d0a7-4270-8173-05f58dfc7959",
   "metadata": {},
   "outputs": [],
   "source": [
    "sc_ectoderm_E10_5 <- ScaleData(sc_ectoderm_E10_5)"
   ]
  },
  {
   "cell_type": "code",
   "execution_count": null,
   "id": "83f4bad5-64fe-49f7-a9fd-e8685aae3254",
   "metadata": {},
   "outputs": [],
   "source": [
    "sc_ectoderm_E10_5 <- RunPCA(sc_ectoderm_E10_5, features = VariableFeatures(object = sc_ectoderm_E10_5), verbose = FALSE)"
   ]
  },
  {
   "cell_type": "code",
   "execution_count": null,
   "id": "888e3b60-33cc-4dd3-a170-eb836044d28a",
   "metadata": {},
   "outputs": [],
   "source": [
    "options(repr.plot.width = 9)\n",
    "\n",
    "DimPlot(sc_ectoderm_E10_5, reduction = \"pca\", group.by = \"orig.ident\") + xlab(\"PC 1\") + ylab(\"PC 2\")"
   ]
  },
  {
   "cell_type": "code",
   "execution_count": null,
   "id": "ad61e982-1e21-4fe1-84d8-c1d3a91448a2",
   "metadata": {},
   "outputs": [],
   "source": [
    "ElbowPlot(sc_ectoderm_E10_5, 50)"
   ]
  },
  {
   "cell_type": "code",
   "execution_count": null,
   "id": "a8511bb2-1f5d-4905-87e6-31cd09080d2c",
   "metadata": {},
   "outputs": [],
   "source": [
    "sc_ectoderm_E10_5 <- FindNeighbors(sc_ectoderm_E10_5, dims = 1:20)\n",
    "sc_ectoderm_E10_5 <- FindClusters(sc_ectoderm_E10_5, resolution = 0.2)"
   ]
  },
  {
   "cell_type": "code",
   "execution_count": null,
   "id": "6cbe5931-e47c-4631-9536-2b4bc9b11bf2",
   "metadata": {
    "scrolled": true
   },
   "outputs": [],
   "source": [
    "sc_ectoderm_E10_5 <- RunUMAP(sc_ectoderm_E10_5, dims = 1:20, n.neighbors = 10, verbose = FALSE)"
   ]
  },
  {
   "cell_type": "code",
   "execution_count": null,
   "id": "2e27eea6-3025-4787-bd83-06ad2cba5fde",
   "metadata": {},
   "outputs": [],
   "source": [
    "options(repr.plot.width=8)\n",
    "DimPlot(sc_ectoderm_E10_5, reduction = \"umap\", label=TRUE, group.by = \"seurat_clusters\")\n",
    "\n",
    "#ggsave(\"./6-kmita/images/E10_5_e_no_annotation.png\" ,width=8, height=8)"
   ]
  },
  {
   "cell_type": "code",
   "execution_count": null,
   "id": "bdc7a946-9409-4611-a2ce-8d3c404137c5",
   "metadata": {
    "tags": []
   },
   "outputs": [],
   "source": [
    "df <- FindAllMarkers(sc_ectoderm_E10_5)"
   ]
  },
  {
   "cell_type": "code",
   "execution_count": null,
   "id": "dbde4b5b-a3c9-4c1a-b355-2c929bb898f5",
   "metadata": {},
   "outputs": [],
   "source": [
    "#write.csv(df, file = \"./6-kmita/RDataSessions/E10_5_GlobalAnnotation_SeuratObject.Rds\", quote = FALSE)"
   ]
  },
  {
   "cell_type": "code",
   "execution_count": null,
   "id": "2d2efbf2-095c-491a-8f80-38d532fe6d1f",
   "metadata": {},
   "outputs": [],
   "source": [
    "# find markers for every cluster compared to all remaining cells, report only the positive\n",
    "# ones\n",
    "#df %>%\n",
    "#    group_by(cluster) %>%\n",
    "#    slice_max(n = 10, order_by = avg_log2FC) "
   ]
  },
  {
   "cell_type": "code",
   "execution_count": null,
   "id": "f09c7fe5-ea95-49fb-9bd9-223ba5136d17",
   "metadata": {
    "tags": []
   },
   "outputs": [],
   "source": [
    "#select only cluster 0 and order avg_log2FC from big to small\n",
    "\n",
    "df[df$cluster == 4,] %>%\n",
    "slice_max(n = 50, order_by = avg_log2FC)"
   ]
  },
  {
   "cell_type": "code",
   "execution_count": null,
   "id": "462bfe22-ac95-4bc3-a083-31eb468b83b0",
   "metadata": {},
   "outputs": [],
   "source": [
    "#df['En1',]"
   ]
  },
  {
   "cell_type": "markdown",
   "id": "910451a8-d862-45b5-a91e-34d35815f127",
   "metadata": {},
   "source": [
    "Subcluster: AER"
   ]
  },
  {
   "cell_type": "code",
   "execution_count": null,
   "id": "5844dc8d-d54c-4469-b40e-17656ae5cd84",
   "metadata": {},
   "outputs": [],
   "source": [
    "options(repr.plot.width = 20)\n",
    "\n",
    "p1 <- DimPlot(sc_ectoderm_E10_5, label = TRUE) + NoLegend() + xlab(\"UMAP 1\") + ylab(\"UMAP 2\")\n",
    "p2 <- FeaturePlot(sc_ectoderm_E10_5, c(\"Fgf8\")) + xlab(\"UMAP 1\") + ylab(\"UMAP 2\")\n",
    "p3 <- FeaturePlot(sc_ectoderm_E10_5, c(\"Rspo2\")) + xlab(\"UMAP 1\") + ylab(\"UMAP 2\")\n",
    "\n",
    "p4 <- p3 + p2\n",
    "p5 <- p1 + p4\n",
    "p5\n",
    "#ggsave(\"./6-kmita/images/E10_5_e_annotated.png\" ,width=20, height=8)\n",
    "#remove \"Bmp4\", \"Dlx5\""
   ]
  },
  {
   "cell_type": "code",
   "execution_count": null,
   "id": "4bfa035b-5851-490d-8c7c-6e6f76175411",
   "metadata": {},
   "outputs": [],
   "source": [
    "options(repr.plot.width = 20)\n",
    "\n",
    "p1 <- DimPlot(sc_ectoderm_E10_5, label = TRUE) + NoLegend() + xlab(\"UMAP 1\") + ylab(\"UMAP 2\")\n",
    "p2 <- FeaturePlot(sc_ectoderm_E10_5, c(\"En1\", \"Wnt7a\",\"Fgfr2\",\"Lrp4\")) + xlab(\"UMAP 1\") + ylab(\"UMAP 2\")\n",
    "p3 <- FeaturePlot(sc_ectoderm_E10_5, c(\"Wnt7a\")) + xlab(\"UMAP 1\") + ylab(\"UMAP 2\")\n",
    "\n",
    "p1 + p2"
   ]
  },
  {
   "cell_type": "code",
   "execution_count": null,
   "id": "58a7b48e-2866-4234-b4c2-9422be87af4d",
   "metadata": {},
   "outputs": [],
   "source": [
    "options(repr.plot.width = 20)\n",
    "\n",
    "p1 <- DimPlot(sc_ectoderm_E10_5, label = TRUE) + NoLegend() + xlab(\"UMAP 1\") + ylab(\"UMAP 2\")\n",
    "p2 <- FeaturePlot(sc_ectoderm_E10_5, c(\"Krt5\", \"Krt10\")) + xlab(\"UMAP 1\") + ylab(\"UMAP 2\")\n",
    "\n",
    "p1 + p2"
   ]
  },
  {
   "cell_type": "code",
   "execution_count": null,
   "id": "6cc064a4-b4a5-4d49-9679-4af455b5394b",
   "metadata": {},
   "outputs": [],
   "source": [
    "options(repr.plot.width=8)\n",
    "DimPlot(sc_ectoderm_E10_5, reduction = \"umap\", label=TRUE, group.by = \"seurat_clusters\")"
   ]
  },
  {
   "cell_type": "code",
   "execution_count": null,
   "id": "9f7659d7-180f-497c-955e-a32e369bf67a",
   "metadata": {},
   "outputs": [],
   "source": [
    "sc_ectoderm_E10_5@meta.data$CellType <- Idents(sc_ectoderm_E10_5)"
   ]
  },
  {
   "cell_type": "code",
   "execution_count": null,
   "id": "d7798bfc-d11b-4d51-927d-55207b9db8d1",
   "metadata": {},
   "outputs": [],
   "source": [
    "sc_ectoderm_E10_5@meta.data$CellType <- as.character(sc_ectoderm_E10_5@meta.data$CellType)\n",
    "\n",
    "sc_ectoderm_E10_5@meta.data$CellType[sc_ectoderm_E10_5@meta.data$CellType == '0'] <- 'Ectoderm'\n",
    "sc_ectoderm_E10_5@meta.data$CellType[sc_ectoderm_E10_5@meta.data$CellType == '1'] <- 'AER'\n",
    "sc_ectoderm_E10_5@meta.data$CellType[sc_ectoderm_E10_5@meta.data$CellType == '2'] <- 'Skin'\n",
    "\n",
    "sc_ectoderm_E10_5@meta.data$CellType <- as.factor(sc_ectoderm_E10_5@meta.data$CellType)"
   ]
  },
  {
   "cell_type": "code",
   "execution_count": null,
   "id": "08f4c6a8-03e7-434b-8ad5-ac2a3596cf9d",
   "metadata": {},
   "outputs": [],
   "source": [
    "DimPlot(sc_ectoderm_E10_5, group.by = 'CellType') + xlab(\"UMAP 1\") + ylab(\"UMAP 2\")"
   ]
  },
  {
   "cell_type": "code",
   "execution_count": null,
   "id": "75cd845f-34dc-4003-8a2f-d5eecfc88298",
   "metadata": {},
   "outputs": [],
   "source": [
    "saveRDS(sc_ectoderm_E10_5, file = \"/home/host_home/tom/Kmita/6-kmita/RDataSessions/sc_ectoderm_E10_5_annotated_SeuratObject.Rds\")"
   ]
  },
  {
   "cell_type": "markdown",
   "id": "d94ded51-1a07-43bd-b050-d1316dac8832",
   "metadata": {
    "tags": []
   },
   "source": [
    "#### 3.4.2. Updating annotations<a id=\"16\"></a>"
   ]
  },
  {
   "cell_type": "code",
   "execution_count": null,
   "id": "d25faf8a-391a-4355-a53a-306e69920e81",
   "metadata": {},
   "outputs": [],
   "source": [
    "E10_5 <- readRDS(\"/home/host_home/tom/Kmita/6-kmita/RDataSessions/E10_5_GlobalAnnotation_SeuratObject.Rds\")"
   ]
  },
  {
   "cell_type": "code",
   "execution_count": null,
   "id": "c65fd33c-f508-4428-9c9f-2b7d898f411e",
   "metadata": {},
   "outputs": [],
   "source": [
    "sc_mesenchymal_E10_5 <- readRDS(file = \"/home/host_home/tom/Kmita/6-kmita/RDataSessions/sc_mesenchymal_E10_5_annotated_SeuratObject.Rds\")"
   ]
  },
  {
   "cell_type": "code",
   "execution_count": null,
   "id": "df4827c3-e116-45ed-ae30-f5f3096647e3",
   "metadata": {},
   "outputs": [],
   "source": [
    "sc_ectoderm_E10_5 <- readRDS(file = \"/home/host_home/tom/Kmita/6-kmita/RDataSessions/sc_ectoderm_E10_5_annotated_SeuratObject.Rds\")"
   ]
  },
  {
   "cell_type": "code",
   "execution_count": null,
   "id": "dbf9e4f4-0b33-4d5e-bcd3-a1a88700be10",
   "metadata": {},
   "outputs": [],
   "source": [
    "meta1 <- E10_5@meta.data\n",
    "meta2 <- sc_mesenchymal_E10_5@meta.data"
   ]
  },
  {
   "cell_type": "code",
   "execution_count": null,
   "id": "3bac6127-feda-4bc6-b753-f441af507305",
   "metadata": {},
   "outputs": [],
   "source": [
    "df <- split(meta1, meta1$CellType)"
   ]
  },
  {
   "cell_type": "code",
   "execution_count": null,
   "id": "9286b15c-19b9-4bde-ade6-a5a340c2ca3e",
   "metadata": {},
   "outputs": [],
   "source": [
    "mesenchyme <- rownames(df$Mesenchyme)"
   ]
  },
  {
   "cell_type": "code",
   "execution_count": null,
   "id": "f3f2a4c9-42e8-43d6-ae7d-9d5f7af41f86",
   "metadata": {},
   "outputs": [],
   "source": [
    "mesenchyme_meta <- meta2[mesenchyme, c(\"CellType\", \"orig.ident\")]\n",
    "mesenchyme_meta$orig.ident <- NULL\n",
    "\n",
    "head(mesenchyme_meta)"
   ]
  },
  {
   "cell_type": "code",
   "execution_count": null,
   "id": "30d1dd21-3bac-43ec-9041-8c274e641b55",
   "metadata": {},
   "outputs": [],
   "source": [
    "df$Mesenchyme <- cbind(df$Mesenchyme, mesenchyme_meta)\n",
    "df$Mesenchyme$CellType <- df$Mesenchyme$CellType\n",
    "df$Mesenchyme$CellType <- NULL"
   ]
  },
  {
   "cell_type": "code",
   "execution_count": null,
   "id": "7727d8c2-7f31-434f-8762-9179834a4abc",
   "metadata": {},
   "outputs": [],
   "source": [
    "str(df)"
   ]
  },
  {
   "cell_type": "code",
   "execution_count": null,
   "id": "0d86848e-e0d5-442e-a820-0e4073561cca",
   "metadata": {},
   "outputs": [],
   "source": [
    "ectoderm <- rownames(df$Ectoderm)"
   ]
  },
  {
   "cell_type": "code",
   "execution_count": null,
   "id": "cfd33e72-e467-4cc6-aad6-bc057fe7f22a",
   "metadata": {},
   "outputs": [],
   "source": [
    "meta2 <- sc_ectoderm_E10_5@meta.data\n",
    "ectoderm_meta <- meta2[ectoderm, c(\"CellType\", \"orig.ident\")]\n",
    "ectoderm_meta$orig.ident <- NULL\n",
    "\n",
    "head(ectoderm_meta)"
   ]
  },
  {
   "cell_type": "code",
   "execution_count": null,
   "id": "cb535b86-acd3-4a98-8ed8-5988a45f44ab",
   "metadata": {},
   "outputs": [],
   "source": [
    "df$Ectoderm <- cbind(df$Ectoderm, ectoderm_meta)\n",
    "df$Ectoderm$CellType <- df$Ectoderm$CellType"
   ]
  },
  {
   "cell_type": "code",
   "execution_count": null,
   "id": "313c29d6-ccec-4876-8816-9dd696562471",
   "metadata": {},
   "outputs": [],
   "source": [
    "df$Mesenchyme <- cbind(df$Mesenchyme, mesenchyme_meta)\n",
    "df$Mesenchyme$CellType <- df$Mesenchyme$CellType"
   ]
  },
  {
   "cell_type": "code",
   "execution_count": null,
   "id": "b71492e6-074c-408f-bc9f-48480acc0e7d",
   "metadata": {},
   "outputs": [],
   "source": [
    "df$Mesenchyme$Barcode = rownames(df$Mesenchyme)\n",
    "df$Ectoderm$Barcode = rownames(df$Ectoderm)"
   ]
  },
  {
   "cell_type": "markdown",
   "id": "cd362e6d-fccd-41d2-9eaa-ca505bf0c027",
   "metadata": {},
   "source": [
    "**Make sure all dataframes in the list have the same number of columns, in the same order.**"
   ]
  },
  {
   "cell_type": "code",
   "execution_count": null,
   "id": "30ad486d-1ee7-4c69-92ae-2d2652dc2f85",
   "metadata": {
    "scrolled": true
   },
   "outputs": [],
   "source": [
    "str(df)"
   ]
  },
  {
   "cell_type": "code",
   "execution_count": null,
   "id": "8256fa76-026e-40c0-8ed5-46dba8af8496",
   "metadata": {},
   "outputs": [],
   "source": [
    "df$Mesenchyme$CellType <- NULL\n",
    "df$Ectoderm$CellType <- NULL"
   ]
  },
  {
   "cell_type": "code",
   "execution_count": null,
   "id": "cf567a6d-2580-4392-94f2-cf8f26de464c",
   "metadata": {
    "scrolled": true
   },
   "outputs": [],
   "source": [
    "str(df)"
   ]
  },
  {
   "cell_type": "code",
   "execution_count": null,
   "id": "68e3fd8a-c9c7-4174-b829-6bbc9deaf95b",
   "metadata": {},
   "outputs": [],
   "source": [
    "names(df)"
   ]
  },
  {
   "cell_type": "code",
   "execution_count": null,
   "id": "93dbaa9c-1a02-43c3-80af-662551bd5453",
   "metadata": {},
   "outputs": [],
   "source": [
    "df$'Vascular endothelial cells'$Barcode <- rownames(df$'Vascular endothelial cells')\n",
    "df$'Erythroid cells'$Barcode <- rownames(df$'Erythroid cells')\n",
    "df$'Muscle progenitors'$Barcode <- rownames(df$'Muscle progenitors')"
   ]
  },
  {
   "cell_type": "code",
   "execution_count": null,
   "id": "54114b72-6c51-4fbf-83de-6979a5c6e516",
   "metadata": {},
   "outputs": [],
   "source": [
    "str(df)"
   ]
  },
  {
   "cell_type": "code",
   "execution_count": null,
   "id": "7c731921-f490-4e95-9a7a-af5b04d4f5da",
   "metadata": {},
   "outputs": [],
   "source": [
    "meta.data <- do.call(rbind, df)\n",
    "rownames(meta.data) = meta.data$Barcode\n",
    "meta.data$Barcode <- NULL"
   ]
  },
  {
   "cell_type": "code",
   "execution_count": null,
   "id": "f9430584-b84f-4bd8-940a-80648adfe756",
   "metadata": {},
   "outputs": [],
   "source": [
    "head(meta.data)"
   ]
  },
  {
   "cell_type": "code",
   "execution_count": null,
   "id": "66be1f83-ef91-4794-b864-bce1e3619494",
   "metadata": {},
   "outputs": [],
   "source": [
    "dim(E10_5@meta.data)\n",
    "dim(meta.data)"
   ]
  },
  {
   "cell_type": "code",
   "execution_count": null,
   "id": "eb25aac5-3b14-404d-b84c-a21a3058a3a9",
   "metadata": {},
   "outputs": [],
   "source": [
    "target <- rownames(E10_5@meta.data)\n",
    "meta.data <- meta.data[match(target, rownames(meta.data)),]"
   ]
  },
  {
   "cell_type": "code",
   "execution_count": null,
   "id": "3921e0a1-b9b7-4069-b1cf-9363b3de8226",
   "metadata": {},
   "outputs": [],
   "source": [
    "E10_5@meta.data = meta.data"
   ]
  },
  {
   "cell_type": "markdown",
   "id": "8eb178ad-1e27-4aff-a530-11b51a3074da",
   "metadata": {
    "tags": []
   },
   "source": [
    "#### 5.4.3. Finalized embedding and annotation<a id=\"37\"></a>"
   ]
  },
  {
   "cell_type": "code",
   "execution_count": null,
   "id": "8c8e26c3-8b1f-4dda-9c18-e67e4560e681",
   "metadata": {},
   "outputs": [],
   "source": [
    "options(repr.plot.width=12)\n",
    "DimPlot(E10_5, group.by = \"CellType\", label = FALSE, repel = TRUE) + xlab(\"UMAP 1\") + ylab(\"UMAP 2\")\n",
    "\n",
    "#ggsave(\"./6-kmita/images/E10_5_annotated.png\" ,width=12, height=8)"
   ]
  },
  {
   "cell_type": "code",
   "execution_count": null,
   "id": "42b1dc85-c905-4338-950a-3b8e9f9330ac",
   "metadata": {},
   "outputs": [],
   "source": [
    "Idents(E10_5) <- E10_5$CellType"
   ]
  },
  {
   "cell_type": "code",
   "execution_count": null,
   "id": "75e8355b-8374-445a-bb60-130ef018c5e7",
   "metadata": {},
   "outputs": [],
   "source": [
    "saveRDS(E10_5, file = \"/home/host_home/tom/Kmita/6-kmita/RDataSessions/E10_5_seuratObject_annotation.Rds\")"
   ]
  },
  {
   "cell_type": "code",
   "execution_count": null,
   "id": "6c22a04e-8d4f-419d-9760-72683fddb361",
   "metadata": {},
   "outputs": [],
   "source": [
    "E10_5"
   ]
  }
 ],
 "metadata": {
  "kernelspec": {
   "display_name": "R [conda env:base] *",
   "language": "R",
   "name": "conda-base-r"
  },
  "language_info": {
   "codemirror_mode": "r",
   "file_extension": ".r",
   "mimetype": "text/x-r-source",
   "name": "R",
   "pygments_lexer": "r",
   "version": "4.3.2"
  }
 },
 "nbformat": 4,
 "nbformat_minor": 5
}
