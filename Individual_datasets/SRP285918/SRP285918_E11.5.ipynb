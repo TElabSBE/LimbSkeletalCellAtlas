{
 "cells": [
  {
   "cell_type": "markdown",
   "id": "6546c078-832f-4986-b701-f354a969f6cb",
   "metadata": {
    "tags": []
   },
   "source": [
    "# Transcriptional trajectories in mouse limb buds reveal the transition from anterior-posterior to proximal-distal patterning at early limb bud stage.\n",
    "Desanlis I, Paul R, Kmita M. J Dev Biol. 2020;8(4):1–16. \n",
    " \n",
    " PMID: [7768367](http://www.ncbi.nlm.nih.gov/pmc/articles/pmc7768367/)\n",
    " ***\n",
    " "
   ]
  },
  {
   "cell_type": "markdown",
   "id": "8c346176-9603-419a-8493-1712d24d148f",
   "metadata": {},
   "source": [
    "## 0. Setting up workenvironment<a id=\"0\"></a>"
   ]
  },
  {
   "cell_type": "code",
   "execution_count": null,
   "id": "4b342dc9-55cf-49c0-8162-66c35a78d25f",
   "metadata": {},
   "outputs": [],
   "source": [
    "suppressPackageStartupMessages({\n",
    "    library(DropletUtils)\n",
    "    library(SingleCellExperiment)\n",
    "    library(scuttle)\n",
    "    library(Seurat)\n",
    "    library(SeuratWrappers)\n",
    "    library(stringr)\n",
    "    library(dplyr)\n",
    "    library(data.table)\n",
    "    library(Matrix)\n",
    "    library(patchwork)\n",
    "    library(ggplot2)\n",
    "})\n",
    "\n",
    "options(repr.plot.width = 16, repr.plot.height = 8)"
   ]
  },
  {
   "cell_type": "markdown",
   "id": "c92536b4-021d-44e3-9508-96cf6f6fc150",
   "metadata": {},
   "source": [
    "## 4. E11.5<a id=\"18\"></a>"
   ]
  },
  {
   "cell_type": "markdown",
   "id": "69d37699-a6ab-424b-b5e8-eb8dd15707bb",
   "metadata": {
    "tags": []
   },
   "source": [
    "### 4.1. Data analysis Seurat<a id=\"19\"></a>"
   ]
  },
  {
   "cell_type": "code",
   "execution_count": null,
   "id": "a8a505fa-9ce3-4b91-86b8-7d93f9371f08",
   "metadata": {},
   "outputs": [],
   "source": [
    "E11_5 <- readRDS(file = \"/home/host_home/tom/Kmita/6-kmita/RDS_QC/E11_5.Rds\")"
   ]
  },
  {
   "cell_type": "code",
   "execution_count": null,
   "id": "61afb5eb-3061-41fb-9a68-9bad2691f2a2",
   "metadata": {},
   "outputs": [],
   "source": [
    "VlnPlot(E11_5, features = c(\"nCount_RNA\", \"nFeature_RNA\", \"subsets_Mito_percent\"), \n",
    "        ncol = 3, group.by = \"orig.ident\", pt.size = 0)"
   ]
  },
  {
   "cell_type": "markdown",
   "id": "3beb64b1-0082-4948-b7ac-7fa8c73d64a8",
   "metadata": {},
   "source": [
    "#### 4.1.1. Feature selection\n",
    "\n",
    "We next calculate a subset of features that exhibit high cell-to-cell variation in the dataset (i.e, they are highly expressed in some cells, and lowly expressed in others). We and others have found that focusing on these genes in downstream analysis helps to highlight biological signal in single-cell datasets.\n",
    "\n",
    "The procedure in Seurat v3 directly models the mean-variance relationship inherent in single-cell data, and is implemented in the `FindVariableFeatures` function. By default, it defaults to 2,000 features (genes) per dataset. These will be used in downstream analysis, like principal component analysis (PCA)."
   ]
  },
  {
   "cell_type": "code",
   "execution_count": null,
   "id": "10964035-dcd1-441d-bcc5-74b7607ecb37",
   "metadata": {},
   "outputs": [],
   "source": [
    "E11_5 <- NormalizeData(E11_5, verbose = FALSE)\n",
    "E11_5 <- FindVariableFeatures(E11_5, selection.method = \"vst\", nfeatures = 2000)\n",
    "\n",
    "# Identify the 10 most highly variable genes\n",
    "top10 <- head(VariableFeatures(E11_5), 10)"
   ]
  },
  {
   "cell_type": "code",
   "execution_count": null,
   "id": "6b317f2a-507b-419a-8cea-4f67384dec4c",
   "metadata": {},
   "outputs": [],
   "source": [
    "options(repr.plot.width=10)\n",
    "\n",
    "# plot variable features with and without labels\n",
    "plot1 <- VariableFeaturePlot(E11_5)\n",
    "plot2 <- LabelPoints(plot = plot1, points = top10, repel = TRUE)\n",
    "plot2"
   ]
  },
  {
   "cell_type": "code",
   "execution_count": null,
   "id": "3f9def2a-7c13-4cb5-847b-d6b84ea0baf1",
   "metadata": {},
   "outputs": [],
   "source": []
  },
  {
   "cell_type": "markdown",
   "id": "507b3972-4a05-4640-8e90-f32329daecd6",
   "metadata": {},
   "source": [
    "#### 4.1.2. Scaling the data"
   ]
  },
  {
   "cell_type": "markdown",
   "id": "6bcea544-5bc9-4606-b3d0-256d8f73054d",
   "metadata": {},
   "source": [
    "Next, we apply a linear transformation (scaling) that is a standard pre-processing step prior to dimensional reduction techniques like PCA. The ScaleData function:\n",
    "\n",
    "- Shifts the expression of each gene, so that the mean expression across cells is 0\n",
    "- Scales the expression of each gene, so that the variance across cells is 1\n",
    "- This step gives equal weight in downstream analyses, so that highly-expressed genes do not dominate. This is superior to log-normalized counts, which overemphasize the influence of small count fluctuations.\n",
    "- The results of this are stored in `object[[\"originalexp\"]]@scale.data`"
   ]
  },
  {
   "cell_type": "code",
   "execution_count": null,
   "id": "5ca61e86-9dec-47e3-a624-a4c4946390a4",
   "metadata": {},
   "outputs": [],
   "source": [
    "all.genes <- rownames(E11_5)\n",
    "E11_5 <- ScaleData(E11_5, features = all.genes)"
   ]
  },
  {
   "cell_type": "markdown",
   "id": "44c67b30-8759-41b7-801e-7ea6a4f241ec",
   "metadata": {},
   "source": [
    "#### 4.1.3. Linear dimensionality reduction: PCA"
   ]
  },
  {
   "cell_type": "markdown",
   "id": "f34f437d-b337-4223-9bc1-26be709fd389",
   "metadata": {},
   "source": [
    "Next we perform PCA on the scaled data. By default, only the previously determined variable features are used as input, but can be defined using features argument if you wish to choose a different subset."
   ]
  },
  {
   "cell_type": "code",
   "execution_count": null,
   "id": "f43376d5-8a23-481e-a052-f20dcf0a5710",
   "metadata": {},
   "outputs": [],
   "source": [
    "E11_5 <- RunPCA(E11_5, features = VariableFeatures(object = E11_5), verbose = FALSE, npcs = 85)"
   ]
  },
  {
   "cell_type": "code",
   "execution_count": null,
   "id": "00464ba9-6c32-4416-bc0d-825ce126ea98",
   "metadata": {},
   "outputs": [],
   "source": [
    "DimPlot(E11_5, reduction = \"pca\", group.by = \"Sample_Name\") + xlab(\"PC 1\") + ylab(\"PC 2\")"
   ]
  },
  {
   "cell_type": "markdown",
   "id": "098d8f8b-3768-40ac-9379-471d6bd962f8",
   "metadata": {},
   "source": [
    "#### 4.1.4. Determine dimensionality\n",
    "\n",
    "To overcome the extensive technical noise in any single feature for scRNA-seq data, Seurat clusters cells based on their PCA scores, with each PC essentially representing a 'metafeature' that combines information across a correlated feature set. The top principal components therefore represent a robust compression of the dataset. However, how many componenets should we choose to include? \n",
    "\n",
    "[Macosko et al](http://www.cell.com/abstract/S0092-8674(15)00549-8) introduced a resampling test inspired by the JackStraw procedure. They randomly permute a subset of the data (1% by default) and rerun PCA, constructing a 'null distribution' of feature scores, and repeat this procedure. 'Significant' PCs are defined as those who have a strong enrichment of low p-value features.\n",
    "\n",
    "**NOTE: This process can take a long time for big datasets, and is therefore commented out for expediency. More approximate techniques such as a scree plot implemented in `ElbowPlot()` can be used to reduce computation time.**\n",
    "\n",
    "The `JackStrawPlot` function provides a visualization tool for comparing the distribution of p-values for each PC with a uniform distribution (dashed line). 'Significant' PCs will show a strong enrichment of features with low p-values (solid curve above the dashed line)."
   ]
  },
  {
   "cell_type": "code",
   "execution_count": null,
   "id": "dac8580c-af1f-4e1d-9736-15212312e8bd",
   "metadata": {},
   "outputs": [],
   "source": [
    "# object <- JackStraw(object, num.replicate = 100)\n",
    "# object <- ScoreJackStraw(object, dims = 1:20)"
   ]
  },
  {
   "cell_type": "code",
   "execution_count": null,
   "id": "82a72f91-4be1-432a-bf97-d2cf872f54f2",
   "metadata": {},
   "outputs": [],
   "source": [
    "# JackStrawPlot(object, dims = 1:15)"
   ]
  },
  {
   "cell_type": "markdown",
   "id": "5622a4ec-a4b6-4685-ad8b-b1e756381b80",
   "metadata": {},
   "source": [
    "An alternative heuristic method generates an 'Elbow plot': a ranking of principle components based on the percentage of variance explained by each one (ElbowPlot function). "
   ]
  },
  {
   "cell_type": "code",
   "execution_count": null,
   "id": "472d0a29-6944-452b-b562-3281ebb8e04d",
   "metadata": {},
   "outputs": [],
   "source": [
    "ElbowPlot(E11_5, 85)"
   ]
  },
  {
   "cell_type": "markdown",
   "id": "becc0c10-0d8e-43ce-a9bb-31af111128cc",
   "metadata": {
    "tags": []
   },
   "source": [
    "### 4.2. Clustering<a id=\"20\"></a>\n",
    "\n",
    "Seurat v4 applies a graph-based clustering approach, building upon initial strategies in [Macosko et al](http://www.cell.com/abstract/S0092-8674(15)00549-8). Importantly, the distance metric which drives the clustering analysis (based on previously identified PCs) remains the same. The new method embeds cells in a graph structure - for example a K-nearest neighbor (KNN) graph, with edges drawn between cells with similar feature expression patterns, and then attempt to partition this graph into highly interconnected 'quasi-cliques' or 'communities'.\n",
    "\n",
    "As in [PhenoGraph](https://doi.org/10.1016/j.cell.2015.05.047), Seurat first constructs a KNN graph based on the euclidean distance in PCA space, and refine the edge weights between any two cells based on the shared overlap in their local neighborhoods (Jaccard similarity). This step is performed using the `FindNeighbors` function, and takes as input the previously defined dimensionality of the dataset.\n",
    "\n",
    "To cluster the cells, modularity optimization techniques such as the Louvain algorithm are then applied to iteratively group cells together, with the goal of optimizing the standard modularity function. The `FindClusters` function implements this procedure and contains a resolution parameter that sets the 'granularity' of the downstream clustering, with increased values leading to a greater number of clusters. Optimal resolution often increases for larger datasets."
   ]
  },
  {
   "cell_type": "code",
   "execution_count": null,
   "id": "3c30ed80-79a7-4ed2-9657-65b3aa25e86a",
   "metadata": {
    "tags": []
   },
   "outputs": [],
   "source": [
    "E11_5 <- FindNeighbors(E11_5, dims = 1:35)\n",
    "E11_5 <- FindClusters(E11_5, resolution = 0.095)"
   ]
  },
  {
   "cell_type": "markdown",
   "id": "4696ccd0-4182-442b-a163-f99ee2e9dafb",
   "metadata": {},
   "source": [
    "### 4.3. Non-linear dimensionality reduction: UMAP<a id=\"21\"></a>\n",
    "\n",
    "Seurat offers several non-linear dimensional reduction techniques, such as tSNE and UMAP, to visualize and explore these datasets. The goal of these algorithms is to learn the underlying manifold of the data in order to place similar cells together in low-dimensional space. Cells within the graph-based clusters determined above should co-localize on these dimension reduction plots. As input to the UMAP and tSNE, [it is recommended to use the same PCs](https://doi.org/10.1038/s41467-019-13056-x) as input to the clustering analysis."
   ]
  },
  {
   "cell_type": "code",
   "execution_count": null,
   "id": "eb7b4a4b-e518-4f81-878b-3633c4817c78",
   "metadata": {
    "scrolled": true,
    "tags": []
   },
   "outputs": [],
   "source": [
    "E11_5 <- RunUMAP(E11_5, dims = 1:35, n.neighbors = 12, verbose = FALSE)"
   ]
  },
  {
   "cell_type": "code",
   "execution_count": null,
   "id": "01f17cea-34a9-4b9b-ac51-02bb7cc4d855",
   "metadata": {},
   "outputs": [],
   "source": [
    "options(repr.plot.width = 8)\n",
    "\n",
    "DimPlot(E11_5, reduction = \"umap\", label = TRUE) + xlab(\"UMAP 1\") + ylab(\"UMAP 2\")\n",
    "#ggsave(\"./6-kmita/images/E11_5_no_annotated.png\" ,width=8, height=8)"
   ]
  },
  {
   "cell_type": "markdown",
   "id": "61344fa8-ef77-491d-a081-f696aa51bdbc",
   "metadata": {
    "tags": []
   },
   "source": [
    "### 4.4. Differential expression analysis<a id=\"22\"></a>\n",
    "#### 4.4.1. Global annotation by differential expression analysis<a id=\"23\"></a>\n",
    "\n",
    "Seurat identifies markers that define clusters via differential expression. By default, it identifes positive and negative markers of a single cluster (specified in ident.1), compared to all other cells. `FindAllMarkers` automates this process for all clusters, but it is possible to test groups of clusters vs. each other, or against all cells.\n",
    "\n",
    "The `min.pct` argument requires a feature to be detected at a minimum percentage in either of the two groups of cells, and the `thresh.test` argument requires a feature to be differentially expressed (on average) by some amount between the two groups. You can set both of these to 0, but with a dramatic increase in time - since this will test a large number of features that are unlikely to be highly discriminatory. As another option to speed up these computations, `max.cells.per.ident` can be set. This will downsample each identity class to have no more cells than whatever this is set to. While there is generally going to be a loss in power, the speed increases can be significiant and the most highly differentially expressed features will likely still rise to the top."
   ]
  },
  {
   "cell_type": "code",
   "execution_count": null,
   "id": "c97d4b41-64a5-40e0-8846-4dcb819f9243",
   "metadata": {},
   "outputs": [],
   "source": [
    "# Seurat default settings\n",
    "E11.5.markers <- FindAllMarkers(E11_5, only.pos = TRUE, min.pct = 0.25, logfc.threshold = 0.25)"
   ]
  },
  {
   "cell_type": "code",
   "execution_count": null,
   "id": "8aa1a5a1-2db8-4a55-90ee-bf724a738567",
   "metadata": {},
   "outputs": [],
   "source": [
    "#dir.create(\"./6-kmita/analysis\")\n",
    "write.csv(E11.5.markers, file = \"./6-kmita/analysis/E11.5.markers.csv\", quote = FALSE)"
   ]
  },
  {
   "cell_type": "markdown",
   "id": "f7973b9f-eb38-436b-ba22-52f5e605c137",
   "metadata": {},
   "source": [
    "Cluster 0: mesenchymal cells "
   ]
  },
  {
   "cell_type": "code",
   "execution_count": null,
   "id": "f334bb46-c7c2-4469-a3f4-0d5c97eb6252",
   "metadata": {},
   "outputs": [],
   "source": [
    "options(repr.plot.width = 18, repr.plot.height = 12)\n",
    "\n",
    "p1 <- DimPlot(E11_5, label = TRUE) + NoLegend() + xlab(\"UMAP 1\") + ylab(\"UMAP 2\")\n",
    "p2 <- FeaturePlot(E11_5, c(\"Prrx1\", \"Tbx4\", \"Tbx5\", \"Prrx2\", \"Pitx1\", \"Hoxd9\"), min.cutoff = \"q1\")  \n",
    "\n",
    "p1 + p2\n",
    "#ggsave(\"./6-kmita/images/E11_5_c0.png\" ,width=18, height=8)\n",
    "#prr"
   ]
  },
  {
   "cell_type": "markdown",
   "id": "0a50a73a-356c-4f88-999f-c0edec73c740",
   "metadata": {},
   "source": [
    "Cluster 1: ectoderm"
   ]
  },
  {
   "cell_type": "code",
   "execution_count": null,
   "id": "c593392f-c072-4493-a829-2a6516b4bae6",
   "metadata": {},
   "outputs": [],
   "source": [
    "options(repr.plot.width = 16, repr.plot.height = 8)\n",
    "\n",
    "p1 <- DimPlot(E11_5, label = TRUE) + NoLegend() + xlab(\"UMAP 1\") + ylab(\"UMAP 2\")\n",
    "p2 <- FeaturePlot(E11_5, c(\"Wnt3\", \"Fgf8\", \"En1\", \"Wnt7a\"), min.cutoff = \"q1\") \n",
    "\n",
    "p1 + p2\n",
    "\n",
    "#ggsave(\"./6-kmita/images/E11_5_c1.png\" ,width=16, height=8)"
   ]
  },
  {
   "cell_type": "markdown",
   "id": "da5aef05-8e49-4149-bf3e-b1225d62b0ce",
   "metadata": {},
   "source": [
    "Cluster 2: muscle cells"
   ]
  },
  {
   "cell_type": "code",
   "execution_count": null,
   "id": "75e8c941-40de-4d7b-a827-0b2a335d9dd3",
   "metadata": {},
   "outputs": [],
   "source": [
    "options(repr.plot.width = 16, repr.plot.height = 8)\n",
    "\n",
    "p1 <- DimPlot(E11_5, label = TRUE) + NoLegend() + xlab(\"UMAP 1\") + ylab(\"UMAP 2\")\n",
    "p2 <- FeaturePlot(E11_5, c(\"Pax3\", \"Tnnt1\", \"Myf5\", \"Myl1\"), min.cutoff = \"q1\") + xlab(\"UMAP 1\") + ylab(\"UMAP 2\")\n",
    "\n",
    "p1 + p2\n",
    "\n",
    "#ggsave(\"./6-kmita/images/E11_5_c2.png\" ,width=16, height=8)"
   ]
  },
  {
   "cell_type": "markdown",
   "id": "f8325a75-0739-46a5-b27f-1a6c106c79e0",
   "metadata": {},
   "source": [
    "Cluster 3: endothelial cells + bloodcells "
   ]
  },
  {
   "cell_type": "code",
   "execution_count": null,
   "id": "69dbeb40-418b-4403-b043-4e04ec7dd0f4",
   "metadata": {},
   "outputs": [],
   "source": [
    "#Endothelial markers\n",
    "options(repr.plot.width = 18, repr.plot.height = 12)\n",
    "\n",
    "p1 <- DimPlot(E11_5, label = TRUE) + NoLegend() + xlab(\"UMAP 1\") + ylab(\"UMAP 2\") \n",
    "p2 <- FeaturePlot(E11_5, c(\"Pecam1\", \"Cd34\", \"Cd93\", \"Cdh5\", \"Emcn\"), min.cutoff = \"q1\") \n",
    "\n",
    "p1 + p2\n",
    "\n",
    "#ggsave(\"./6-kmita/images/E11_5_c3-2.png\" ,width=18, height=8)\n",
    "\n",
    "#Bloodcell markers\n",
    "options(repr.plot.width = 16, repr.plot.height = 8)\n",
    "\n",
    "p3 <- DimPlot(E11_5, label = TRUE) + NoLegend() + xlab(\"UMAP 1\") + ylab(\"UMAP 2\")\n",
    "p4 <- FeaturePlot(E11_5, c(\"Hbb-y\", \"Hba-x\", \"Hba-a1\", \"Hbb-bt\"), min.cutoff = \"q1\")\n",
    "\n",
    "\n",
    "p3 + p4\n",
    "\n",
    "#ggsave(\"./6-kmita/images/E11_5_c3-1.png\" ,width=16, height=8)"
   ]
  },
  {
   "cell_type": "code",
   "execution_count": null,
   "id": "6523a74f-1080-4cbb-8b83-ab092bdd1e8b",
   "metadata": {},
   "outputs": [],
   "source": [
    "options(repr.plot.width = 16, repr.plot.height = 8)\n",
    "\n",
    "p3 <- DimPlot(E11_5, label = TRUE) + NoLegend() + xlab(\"UMAP 1\") + ylab(\"UMAP 2\")\n",
    "p4 <- FeaturePlot(E11_5, c(\"Sox10\", \"Foxd3\", \"Fabp7\", \"Sox2\"))\n",
    "\n",
    "p3 + p4\n",
    "#ggsave(\"./6-kmita/images/E11_5_c.png\" ,width=12, height=8)\n",
    "#Check neural makers"
   ]
  },
  {
   "cell_type": "markdown",
   "id": "d3274bda-a239-47ce-9028-d02da318f9b9",
   "metadata": {},
   "source": [
    "**Adding cell types**"
   ]
  },
  {
   "cell_type": "code",
   "execution_count": null,
   "id": "7ff37a0c-6059-4538-b68b-46a2e5ca0a97",
   "metadata": {},
   "outputs": [],
   "source": [
    "#creating column that contains cell type \n",
    "E11_5@meta.data$CellType <- Idents(E11_5)"
   ]
  },
  {
   "cell_type": "code",
   "execution_count": null,
   "id": "fe87d0c7-b1a7-4ebd-8fe0-6f76580ca1e7",
   "metadata": {},
   "outputs": [],
   "source": [
    "E11_5@meta.data$CellType <- as.character(E11_5@meta.data$CellType)\n",
    "\n",
    "E11_5@meta.data$CellType[E11_5@meta.data$CellType == '0'] <- 'Mesenchyme'\n",
    "E11_5@meta.data$CellType[E11_5@meta.data$CellType == '1'] <- 'Ectoderm'\n",
    "E11_5@meta.data$CellType[E11_5@meta.data$CellType == '2'] <- 'Myocytes'\n",
    "E11_5@meta.data$CellType[E11_5@meta.data$CellType == '3'] <- 'Endothelium + erythrocytes'\n",
    "\n",
    "E11_5@meta.data$CellType <- as.factor(E11_5@meta.data$CellType)"
   ]
  },
  {
   "cell_type": "code",
   "execution_count": null,
   "id": "7f78f716-7cd8-4cd9-8fb8-16dd364d88b0",
   "metadata": {},
   "outputs": [],
   "source": [
    "options(repr.plot.width = 10, repr.plot.height = 8)\n",
    "\n",
    "DimPlot(E11_5, reduction = \"umap\", label = FALSE, group.by = \"CellType\") + xlab(\"UMAP 1\") + ylab(\"UMAP 2\")\n",
    "#ggsave(\"./6-kmita/figures_thesis/E10_5_global_annotated.png\" ,width=10, height=8)"
   ]
  },
  {
   "cell_type": "code",
   "execution_count": null,
   "id": "a4c97623-cc38-4625-8c91-3b0d4755f134",
   "metadata": {},
   "outputs": [],
   "source": [
    "Idents(E11_5) <- E11_5$CellType"
   ]
  },
  {
   "cell_type": "code",
   "execution_count": null,
   "id": "95ff76cf-8d2d-46ab-bdf8-c90071a7d235",
   "metadata": {},
   "outputs": [],
   "source": [
    "#saveRDS(E11_5, file = \"/home/host_home/usb-drive/Thesis/Kmita/6-kmita/RDataSessions/E11_5_GlobalAnnotation_SeuratObject.Rds\")"
   ]
  },
  {
   "cell_type": "markdown",
   "id": "bf5f7096-7074-4bf7-9401-c3de8e2525fb",
   "metadata": {},
   "source": [
    "**Visualizing data**"
   ]
  },
  {
   "cell_type": "code",
   "execution_count": null,
   "id": "3e1c653a-a683-44d1-a559-52920e562219",
   "metadata": {},
   "outputs": [],
   "source": [
    "E11_5@meta.data$CellType_v <- E11_5@meta.data$CellType\n",
    "\n",
    "seuratObject <- E11_5\n",
    "\n",
    "seuratObject@meta.data$CellType_v <- as.character(seuratObject@meta.data$CellType_v)\n",
    "\n",
    "seuratObject@meta.data$CellType_v[seuratObject@meta.data$CellType_v == 'Mesenchyme'] <- '1 - Mesenchyme'\n",
    "seuratObject@meta.data$CellType_v[seuratObject@meta.data$CellType_v == 'Ectoderm'] <- '2 - Ectoderm'\n",
    "seuratObject@meta.data$CellType_v[seuratObject@meta.data$CellType_v == 'Myocytes'] <- '3 - Myocytes'\n",
    "seuratObject@meta.data$CellType_v[seuratObject@meta.data$CellType_v == 'Endothelial cells + erythrocytes'] <- '4 - Endothelial cells + erythrocytes'\n",
    "\n",
    "\n",
    "seuratObject@meta.data$CellType_v <- as.factor(seuratObject@meta.data$CellType_v)\n",
    "\n",
    "E11_5 <- seuratObject "
   ]
  },
  {
   "cell_type": "code",
   "execution_count": null,
   "id": "f46e127d-f582-4609-ab93-941ba4514f0c",
   "metadata": {},
   "outputs": [],
   "source": [
    "options(repr.plot.width = 10, repr.plot.height = 8)\n",
    "\n",
    "DimPlot(E11_5, reduction = \"umap\", label = FALSE, group.by = \"CellType_v\") + xlab(\"UMAP 1\") + ylab(\"UMAP 2\")\n",
    "#ggsave(\"./6-kmita/figures_thesis/E11_5_global_annotated.pdf\" ,width=10, height=8)"
   ]
  },
  {
   "cell_type": "markdown",
   "id": "6be514c3-bdf8-44a4-b3e5-5f609f7e408f",
   "metadata": {
    "tags": []
   },
   "source": [
    "#### 4.4.2. Refinement of global annotations<a id=\"23.2\"></a>\n",
    "##### 4.4.2.1. Subsetting mesenchymal clusters<a id=\"24\"></a>"
   ]
  },
  {
   "cell_type": "code",
   "execution_count": null,
   "id": "517da993-607e-464d-b065-6f48f572ac90",
   "metadata": {},
   "outputs": [],
   "source": [
    "E11_5 <- readRDS(\"/home/host_home/tom/Kmita/6-kmita/RDataSessions/E11_5_GlobalAnnotation_SeuratObject.Rds\")"
   ]
  },
  {
   "cell_type": "code",
   "execution_count": null,
   "id": "2bca3c9b-6da2-4dba-8d2e-007ebe4d5fea",
   "metadata": {},
   "outputs": [],
   "source": [
    "Idents(E11_5) <- E11_5@meta.data$CellType"
   ]
  },
  {
   "cell_type": "code",
   "execution_count": null,
   "id": "83e22f1e-9309-4afb-be59-dbc76ed049e7",
   "metadata": {},
   "outputs": [],
   "source": [
    "sc_mesenchymal_E11_5 <- subset(E11_5, idents = c(\"Mesenchyme\"))"
   ]
  },
  {
   "cell_type": "code",
   "execution_count": null,
   "id": "4ef96c49-3029-4dc1-8cfa-6b28116e7839",
   "metadata": {},
   "outputs": [],
   "source": [
    "sc_mesenchymal_E11_5"
   ]
  },
  {
   "cell_type": "code",
   "execution_count": null,
   "id": "12b1b2e9-8690-4555-92fc-c16cc5947f4e",
   "metadata": {},
   "outputs": [],
   "source": [
    "sc_mesenchymal_E11_5 <- NormalizeData(sc_mesenchymal_E11_5, verbose = FALSE)\n",
    "sc_mesenchymal_E11_5 <- FindVariableFeatures(sc_mesenchymal_E11_5, selection.method = \"vst\", nfeatures = 2000)\n",
    "\n",
    "# Identify the 10 most highly variable genes\n",
    "top10 <- head(VariableFeatures(sc_mesenchymal_E11_5), 10)"
   ]
  },
  {
   "cell_type": "code",
   "execution_count": null,
   "id": "99deee69-174f-40f1-b8eb-6bc043133bf1",
   "metadata": {},
   "outputs": [],
   "source": [
    "sc_mesenchymal_E11_5 <- ScaleData(sc_mesenchymal_E11_5)"
   ]
  },
  {
   "cell_type": "code",
   "execution_count": null,
   "id": "fa667ef8-d749-4632-937a-5dffbbfc8c3c",
   "metadata": {},
   "outputs": [],
   "source": [
    "sc_mesenchymal_E11_5 <- RunPCA(sc_mesenchymal_E11_5, features = VariableFeatures(object = sc_mesenchymal_E11_5), verbose = FALSE)"
   ]
  },
  {
   "cell_type": "code",
   "execution_count": null,
   "id": "dbf51b0d-ff0b-4ad4-98bf-74b631cc0f4d",
   "metadata": {},
   "outputs": [],
   "source": [
    "options(repr.plot.width=10)\n",
    "DimPlot(sc_mesenchymal_E11_5, reduction = \"pca\", group.by = \"orig.ident\") + xlab(\"PC 1\") + ylab(\"PC 2\")"
   ]
  },
  {
   "cell_type": "code",
   "execution_count": null,
   "id": "b80b8867-782b-421f-a8b5-4f9a5763c266",
   "metadata": {},
   "outputs": [],
   "source": [
    "ElbowPlot(sc_mesenchymal_E11_5, 50)"
   ]
  },
  {
   "cell_type": "code",
   "execution_count": null,
   "id": "588d1943-e99e-4e53-bd84-e53dc0a513a0",
   "metadata": {
    "scrolled": true
   },
   "outputs": [],
   "source": [
    "sc_mesenchymal_E11_5 <- FindNeighbors(sc_mesenchymal_E11_5, dims = 1:25, verbose = FALSE)\n",
    "sc_mesenchymal_E11_5 <- FindClusters(sc_mesenchymal_E11_5, resolution = 2, verbose = FALSE)"
   ]
  },
  {
   "cell_type": "code",
   "execution_count": null,
   "id": "b493f0e4-bba9-482e-b037-a0f227e50cb2",
   "metadata": {
    "scrolled": true
   },
   "outputs": [],
   "source": [
    "sc_mesenchymal_E11_5 <- RunUMAP(sc_mesenchymal_E11_5, dims = 1:25, n.neighbors = 10, verbose = FALSE)"
   ]
  },
  {
   "cell_type": "code",
   "execution_count": null,
   "id": "be38dce1-d029-441c-80e1-c60c18d31ff7",
   "metadata": {
    "tags": []
   },
   "outputs": [],
   "source": [
    "options(repr.plot.width = 10, repr.plot.height = 8)\n",
    "DimPlot(sc_mesenchymal_E11_5, reduction = \"umap\", label=TRUE) + xlab(\"UMAP 1\") + ylab(\"UMAP 2\")\n",
    "#ggsave(\"./6-kmita/images/E11_5_m_na.png\" ,width=10, height=8)"
   ]
  },
  {
   "cell_type": "code",
   "execution_count": null,
   "id": "14d12ef2-ef95-414e-88df-47c03c2aa938",
   "metadata": {},
   "outputs": [],
   "source": [
    "#sc_mesenchymal <- FindNeighbors(sc_mesenchymal, dims = 1:25, verbose = FALSE)\n",
    "#sc_mesenchymal <- FindClusters(sc_mesenchymal, resolution = 0.6, verbose = FALSE)\n",
    "\n",
    "#sc_mesenchymal <- RunUMAP(sc_mesenchymal, dims = 1:25, n.neighbors = 10, verbose = FALSE)\n",
    "\n",
    "#options(repr.plot.width = 9)\n",
    "#DimPlot(sc_mesenchymal, reduction = \"umap\", label=TRUE) + xlab(\"UMAP 1\") + ylab(\"UMAP 2\")"
   ]
  },
  {
   "cell_type": "code",
   "execution_count": null,
   "id": "a3e2a2bc-d6cf-4a4c-a499-00967b144a42",
   "metadata": {
    "tags": []
   },
   "outputs": [],
   "source": [
    "markers_11_5_mesenchyme <- FindAllMarkers(sc_mesenchymal_E11_5)"
   ]
  },
  {
   "cell_type": "code",
   "execution_count": null,
   "id": "90aaf99f-9eb0-4d26-96c0-5ed2f6c81038",
   "metadata": {},
   "outputs": [],
   "source": [
    "#saveRDS(markers_11_5_mesenchyme, file = \"/home/host_home/usb-drive/Thesis/Kmita/6-kmita/analysis/markers_11_5_mesenchyme.Rds\")"
   ]
  },
  {
   "cell_type": "code",
   "execution_count": null,
   "id": "4b9cf080-c237-4f95-af6b-07383f575865",
   "metadata": {},
   "outputs": [],
   "source": [
    "markers_11_5_mesenchyme <- readRDS(file = \"/home/host_home/usb-drive/Thesis/Kmita/6-kmita/analysis/markers_11_5_mesenchyme.Rds\")"
   ]
  },
  {
   "cell_type": "code",
   "execution_count": null,
   "id": "321a35e2-f2f4-4da4-ad48-29d546298154",
   "metadata": {},
   "outputs": [],
   "source": [
    "#select only cluster 0 and order avg_log2FC from big to small\n",
    "\n",
    "#df_m[df_m$cluster == 0,] %>%\n",
    "#slice_max(n = 5, order_by = avg_log2FC)"
   ]
  },
  {
   "cell_type": "markdown",
   "id": "22c0eb07-a7c4-463b-9199-e2e425beb7f5",
   "metadata": {},
   "source": [
    "**Positional information**\n",
    "\n",
    "Proximal mesenchyme"
   ]
  },
  {
   "cell_type": "code",
   "execution_count": null,
   "id": "88673ae7-6a7b-47b3-8db6-189b4f653295",
   "metadata": {},
   "outputs": [],
   "source": [
    "options(repr.plot.width = 20, repr.plot.height = 8)\n",
    "\n",
    "g <- WhichCells(sc_mesenchymal_E11_5, idents = c(\"26\"))\n",
    "p1 <- DimPlot(sc_mesenchymal_E11_5, cells.highlight = list(g)) + xlab(\"UMAP 1\") + ylab(\"UMAP 2\")\n",
    "\n",
    "p2 <- FeaturePlot(sc_mesenchymal_E11_5, c(\"Shox2\" , \"Hoxd9\", \"Hoxa9\")) + xlab(\"UMAP 1\") + ylab(\"UMAP 2\")\n",
    "\n",
    "p1 + p2"
   ]
  },
  {
   "cell_type": "code",
   "execution_count": null,
   "id": "aadfd16f-51e8-4635-9709-c22f3c7919cc",
   "metadata": {},
   "outputs": [],
   "source": [
    "0 6 9 10 14 15 17 23 26"
   ]
  },
  {
   "cell_type": "code",
   "execution_count": null,
   "id": "0f5c9a14-8b4b-408f-9917-df76903455e5",
   "metadata": {},
   "outputs": [],
   "source": [
    "options(repr.plot.width = 20, repr.plot.height = 8)\n",
    "\n",
    "g <- WhichCells(sc_mesenchymal_E11_5, idents = c(\"0\",\"6\",\"9\",\"10\",\"14\",\"15\",\"17\",\"23\",\"26\"))\n",
    "p1 <- DimPlot(sc_mesenchymal_E11_5, cells.highlight = list(g), label = TRUE) + xlab(\"UMAP 1\") + ylab(\"UMAP 2\")\n",
    "\n",
    "p2 <- FeaturePlot(sc_mesenchymal_E11_5, c(\"Shox2\" , \"Hoxd9\", \"Meis1\", \"Meis2\")) + xlab(\"UMAP 1\") + ylab(\"UMAP 2\")\n",
    "\n",
    "p1 + p2\n",
    "#ggsave(\"./6-kmita/images/E11_5_m_proximal.png\" ,width=20, height=8)"
   ]
  },
  {
   "cell_type": "markdown",
   "id": "7e24c492-3d16-415e-a195-d4c537e5c65c",
   "metadata": {},
   "source": [
    "Intermediate mesenchyme "
   ]
  },
  {
   "cell_type": "code",
   "execution_count": null,
   "id": "b4f406be-bd6d-4dba-b37e-b79a7ddaab7a",
   "metadata": {},
   "outputs": [],
   "source": [
    "options(repr.plot.width = 20, repr.plot.height = 8)\n",
    "\n",
    "g <- WhichCells(sc_mesenchymal_E11_5, idents = c(\"20\",'22',\"1\"))\n",
    "p1 <- DimPlot(sc_mesenchymal_E11_5, cells.highlight = list(g)) + xlab(\"UMAP 1\") + ylab(\"UMAP 2\")\n",
    "\n",
    "p2 <- FeaturePlot(sc_mesenchymal_E11_5, c(\"Hoxa11\")) + xlab(\"UMAP 1\") + ylab(\"UMAP 2\")\n",
    "\n",
    "options(repr.plot.width = 20, repr.plot.height = 8)\n",
    "p1 + p2"
   ]
  },
  {
   "cell_type": "code",
   "execution_count": null,
   "id": "38c744ef-d9ea-4eb6-8169-cfdd39d7acc3",
   "metadata": {},
   "outputs": [],
   "source": [
    "options(repr.plot.width = 20, repr.plot.height = 8)\n",
    "\n",
    "g <- WhichCells(sc_mesenchymal_E11_5, idents = c(\"0\",\"6\",\"9\",\"10\",\"14\",\"15\",\"17\",\"23\",\"26\",\"20\",'22',\"1\",\"21\",\"16\"))\n",
    "p1 <- DimPlot(sc_mesenchymal_E11_5, cells.highlight = list(g), label = TRUE) + xlab(\"UMAP 1\") + ylab(\"UMAP 2\")\n",
    "\n",
    "p2 <- FeaturePlot(sc_mesenchymal_E11_5, c(\"Hoxa11\")) + xlab(\"UMAP 1\") + ylab(\"UMAP 2\")\n",
    "p3 <- FeaturePlot(sc_mesenchymal_E11_5, c(\"Shox2\" , \"Hoxd9\", \"Meis1\", \"Meis2\")) + xlab(\"UMAP 1\") + ylab(\"UMAP 2\")\n",
    "\n",
    "options(repr.plot.width = 20, repr.plot.height = 8)\n",
    "p3 - p2\n",
    "options(repr.plot.width = 10, repr.plot.height = 8)\n",
    "p1"
   ]
  },
  {
   "cell_type": "code",
   "execution_count": null,
   "id": "39eb3830-d259-479d-a1b8-21f5e86166bb",
   "metadata": {},
   "outputs": [],
   "source": [
    "options(repr.plot.width = 20, repr.plot.height = 8)\n",
    "\n",
    "g <- WhichCells(sc_mesenchymal_E11_5, idents = c(\"0\",\"6\",\"9\",\"10\",\"14\",\"23\",\"26\",\"20\",'22',\"1\",\"21\",\"16\"))\n",
    "p1 <- DimPlot(sc_mesenchymal_E11_5, cells.highlight = list(g), label = TRUE) + xlab(\"UMAP 1\") + ylab(\"UMAP 2\")\n",
    "\n",
    "p2 <- FeaturePlot(sc_mesenchymal_E11_5, c(\"Hoxa11\")) + xlab(\"UMAP 1\") + ylab(\"UMAP 2\")\n",
    "p3 <- FeaturePlot(sc_mesenchymal_E11_5, c(\"Shox2\" , \"Hoxd9\", \"Meis1\", \"Meis2\")) + xlab(\"UMAP 1\") + ylab(\"UMAP 2\")\n",
    "\n",
    "options(repr.plot.width = 20, repr.plot.height = 8)\n",
    "p1 + p2\n",
    "#ggsave(\"./6-kmita/images/E11_5_m_intermediate.png\" ,width=20, height=8)"
   ]
  },
  {
   "cell_type": "markdown",
   "id": "41a49a78-2687-443b-aa4b-81cf865cbcb4",
   "metadata": {},
   "source": [
    "Distal mesenchyme"
   ]
  },
  {
   "cell_type": "code",
   "execution_count": null,
   "id": "a178ca86-1ed0-4da9-9039-150fc891d434",
   "metadata": {},
   "outputs": [],
   "source": [
    "options(repr.plot.width = 20, repr.plot.height = 8)\n",
    "\n",
    "p1 <- DimPlot(sc_mesenchymal_E11_5, label = TRUE) + NoLegend() + xlab(\"UMAP 1\") + ylab(\"UMAP 2\")\n",
    "p2 <- FeaturePlot(sc_mesenchymal_E11_5, c(\"Hoxa13\", \"Hoxd13\")) + xlab(\"UMAP 1\") + ylab(\"UMAP 2\")\n",
    "\n",
    "options(repr.plot.width = 9, repr.plot.height = 8)\n",
    "p1 \n",
    "options(repr.plot.width = 20, repr.plot.height = 8)\n",
    "p2"
   ]
  },
  {
   "cell_type": "code",
   "execution_count": null,
   "id": "ff1232bb-7520-4b5c-9fa5-5e2cb570714d",
   "metadata": {},
   "outputs": [],
   "source": [
    "options(repr.plot.width = 20, repr.plot.height = 8)\n",
    "\n",
    "g <- WhichCells(sc_mesenchymal_E11_5, idents = c(\"4\",\"7\",\"8\",\"13\",\"2\",\"3\",\"24\",\"25\",\"24\",'19'))\n",
    "p1 <- DimPlot(sc_mesenchymal_E11_5, cells.highlight = list(g)) + xlab(\"UMAP 1\") + ylab(\"UMAP 2\")\n",
    "\n",
    "p2 <- FeaturePlot(sc_mesenchymal_E11_5, c(\"Hoxa13\", \"Hoxd13\")) + xlab(\"UMAP 1\") + ylab(\"UMAP 2\")\n",
    "\n",
    "options(repr.plot.width = 10, repr.plot.height = 8)\n",
    "p1 \n",
    "options(repr.plot.width = 20, repr.plot.height = 8)\n",
    "p2"
   ]
  },
  {
   "cell_type": "markdown",
   "id": "b9302657-8d31-4d72-8d74-ec86defb6fbb",
   "metadata": {},
   "source": [
    "Adding annotation"
   ]
  },
  {
   "cell_type": "code",
   "execution_count": null,
   "id": "9963aa69-d44a-4633-a40e-fec788e2a632",
   "metadata": {},
   "outputs": [],
   "source": [
    "sc_mesenchymal_E11_5@meta.data$CellType_PID <- Idents(sc_mesenchymal_E11_5)"
   ]
  },
  {
   "cell_type": "code",
   "execution_count": null,
   "id": "b6c68913-3768-41cf-a68d-30aed3b503ed",
   "metadata": {},
   "outputs": [],
   "source": [
    "sc_mesenchymal_E11_5@meta.data$CellType_PID <- as.character(sc_mesenchymal_E11_5@meta.data$CellType_PID)\n",
    "\n",
    "sc_mesenchymal_E11_5@meta.data$CellType_PID[sc_mesenchymal_E11_5@meta.data$CellType_PID == '15'] <- 'Proximal cells'\n",
    "sc_mesenchymal_E11_5@meta.data$CellType_PID[sc_mesenchymal_E11_5@meta.data$CellType_PID == '17'] <- 'Proximal cells'\n",
    "\n",
    "sc_mesenchymal_E11_5@meta.data$CellType_PID[sc_mesenchymal_E11_5@meta.data$CellType_PID == '0'] <- 'Intermediate cells'\n",
    "sc_mesenchymal_E11_5@meta.data$CellType_PID[sc_mesenchymal_E11_5@meta.data$CellType_PID == '1'] <- 'Intermediate cells'\n",
    "sc_mesenchymal_E11_5@meta.data$CellType_PID[sc_mesenchymal_E11_5@meta.data$CellType_PID == '10'] <- 'Intermediate cells'\n",
    "sc_mesenchymal_E11_5@meta.data$CellType_PID[sc_mesenchymal_E11_5@meta.data$CellType_PID == '11'] <- 'Intermediate cells'\n",
    "sc_mesenchymal_E11_5@meta.data$CellType_PID[sc_mesenchymal_E11_5@meta.data$CellType_PID == '12'] <- 'Intermediate cells'\n",
    "sc_mesenchymal_E11_5@meta.data$CellType_PID[sc_mesenchymal_E11_5@meta.data$CellType_PID == '14'] <- 'Intermediate cells'\n",
    "sc_mesenchymal_E11_5@meta.data$CellType_PID[sc_mesenchymal_E11_5@meta.data$CellType_PID == '16'] <- 'Intermediate cells'\n",
    "sc_mesenchymal_E11_5@meta.data$CellType_PID[sc_mesenchymal_E11_5@meta.data$CellType_PID == '18'] <- 'Intermediate cells'\n",
    "sc_mesenchymal_E11_5@meta.data$CellType_PID[sc_mesenchymal_E11_5@meta.data$CellType_PID == '20'] <- 'Intermediate cells'\n",
    "sc_mesenchymal_E11_5@meta.data$CellType_PID[sc_mesenchymal_E11_5@meta.data$CellType_PID == '21'] <- 'Intermediate cells'\n",
    "sc_mesenchymal_E11_5@meta.data$CellType_PID[sc_mesenchymal_E11_5@meta.data$CellType_PID == '22'] <- 'Intermediate cells'\n",
    "sc_mesenchymal_E11_5@meta.data$CellType_PID[sc_mesenchymal_E11_5@meta.data$CellType_PID == '23'] <- 'Intermediate cells'\n",
    "sc_mesenchymal_E11_5@meta.data$CellType_PID[sc_mesenchymal_E11_5@meta.data$CellType_PID == '26'] <- 'Intermediate cells'\n",
    "sc_mesenchymal_E11_5@meta.data$CellType_PID[sc_mesenchymal_E11_5@meta.data$CellType_PID == '27'] <- 'Intermediate cells'\n",
    "sc_mesenchymal_E11_5@meta.data$CellType_PID[sc_mesenchymal_E11_5@meta.data$CellType_PID == '5'] <- 'Intermediate cells'\n",
    "sc_mesenchymal_E11_5@meta.data$CellType_PID[sc_mesenchymal_E11_5@meta.data$CellType_PID == '6'] <- 'Intermediate cells'\n",
    "sc_mesenchymal_E11_5@meta.data$CellType_PID[sc_mesenchymal_E11_5@meta.data$CellType_PID == '9'] <- 'Intermediate cells'\n",
    "\n",
    "sc_mesenchymal_E11_5@meta.data$CellType_PID[sc_mesenchymal_E11_5@meta.data$CellType_PID == '4'] <- 'Distal cells'\n",
    "sc_mesenchymal_E11_5@meta.data$CellType_PID[sc_mesenchymal_E11_5@meta.data$CellType_PID == '7'] <- 'Distal cells'\n",
    "sc_mesenchymal_E11_5@meta.data$CellType_PID[sc_mesenchymal_E11_5@meta.data$CellType_PID == '8'] <- 'Distal cells'\n",
    "sc_mesenchymal_E11_5@meta.data$CellType_PID[sc_mesenchymal_E11_5@meta.data$CellType_PID == '13'] <- 'Distal cells'\n",
    "sc_mesenchymal_E11_5@meta.data$CellType_PID[sc_mesenchymal_E11_5@meta.data$CellType_PID == '2'] <- 'Distal cells'\n",
    "sc_mesenchymal_E11_5@meta.data$CellType_PID[sc_mesenchymal_E11_5@meta.data$CellType_PID == '3'] <- 'Distal cells'\n",
    "sc_mesenchymal_E11_5@meta.data$CellType_PID[sc_mesenchymal_E11_5@meta.data$CellType_PID == '24'] <- 'Distal cells'\n",
    "sc_mesenchymal_E11_5@meta.data$CellType_PID[sc_mesenchymal_E11_5@meta.data$CellType_PID == '25'] <- 'Distal cells'\n",
    "sc_mesenchymal_E11_5@meta.data$CellType_PID[sc_mesenchymal_E11_5@meta.data$CellType_PID == '19'] <- 'Distal cells'\n",
    "\n",
    "sc_mesenchymal_E11_5@meta.data$CellType_PID <- as.factor(sc_mesenchymal_E11_5@meta.data$CellType_PID)"
   ]
  },
  {
   "cell_type": "code",
   "execution_count": null,
   "id": "6b8ff377-45aa-40d9-9896-8ad26febfbc2",
   "metadata": {
    "tags": []
   },
   "outputs": [],
   "source": [
    "options(repr.plot.width = 10, repr.plot.height = 8)\n",
    "DimPlot(sc_mesenchymal_E11_5, label = TRUE, group.by = \"CellType_PID\")  + xlab(\"UMAP 1\") + ylab(\"UMAP 2\")"
   ]
  },
  {
   "cell_type": "markdown",
   "id": "c75754d3-cbab-4b63-b289-0861a265c565",
   "metadata": {},
   "source": [
    "**Cell type**"
   ]
  },
  {
   "cell_type": "markdown",
   "id": "40a82a63-31e9-4a95-9d9b-149a903e2b16",
   "metadata": {},
   "source": [
    "ZPA"
   ]
  },
  {
   "cell_type": "code",
   "execution_count": null,
   "id": "80cea376-29e5-4256-93a6-9c83c856179c",
   "metadata": {},
   "outputs": [],
   "source": [
    "#ZPA\n",
    "\n",
    "options(repr.plot.width = 20, repr.plot.height = 8)\n",
    "\n",
    "p1 <- DimPlot(sc_mesenchymal_E11_5, label = TRUE) + NoLegend() + xlab(\"UMAP 1\") + ylab(\"UMAP 2\")\n",
    "p2 <- FeaturePlot(sc_mesenchymal_E11_5, c(\"Shh\")) + xlab(\"UMAP 1\") + ylab(\"UMAP 2\")\n",
    "\n",
    "p1 + p2\n",
    "\n",
    "#ggsave(\"./6-kmita/images/E11_5_m_ZPA.png\" ,width=20, height=8)"
   ]
  },
  {
   "cell_type": "markdown",
   "id": "77c23ed3-a241-4be8-9188-2e11267cdc42",
   "metadata": {},
   "source": [
    "Cartilage precursors"
   ]
  },
  {
   "cell_type": "code",
   "execution_count": null,
   "id": "b14e4b1c-8788-4e53-930e-0b31c6d49fba",
   "metadata": {},
   "outputs": [],
   "source": [
    "#Finding distal cartilage cells\n",
    "g <- WhichCells(sc_mesenchymal_E11_5, idents = c(\"7\",\"23\",\"20\",\"5\",\"14\",\"15\",\"3\",\"16\"))\n",
    "p1 <- DimPlot(sc_mesenchymal_E11_5, cells.highlight = list(g), label = TRUE) + xlab(\"UMAP 1\") + ylab(\"UMAP 2\")\n",
    "\n",
    "p2 <- FeaturePlot(sc_mesenchymal_E11_5, c(\"Sox9\", \"Prrx1\")) + xlab(\"UMAP 1\") + ylab(\"UMAP 2\")\n",
    "\n",
    "options(repr.plot.width = 10, repr.plot.height = 8)\n",
    "p1 \n",
    "options(repr.plot.width = 20, repr.plot.height = 8)\n",
    "p2\n",
    "#ggsave(\"./6-kmita/images/E11_5_m_cartilage-1.png\" ,width=10, height=8, plot=p1)\n",
    "#ggsave(\"./6-kmita/images/E11_5_m_cartilage-2.png\" ,width=20, height=8, plot=p2)"
   ]
  },
  {
   "cell_type": "markdown",
   "id": "145d5b70-efe9-452c-85b4-f46005abd0c7",
   "metadata": {},
   "source": [
    "Tenocytes"
   ]
  },
  {
   "cell_type": "code",
   "execution_count": null,
   "id": "541c2130-6be6-4901-b346-502c61f1e11d",
   "metadata": {},
   "outputs": [],
   "source": [
    "g <- WhichCells(sc_mesenchymal_E11_5, idents = c(\"11\"))\n",
    "p1 <- DimPlot(sc_mesenchymal_E11_5, cells.highlight = list(g)) + xlab(\"UMAP 1\") + ylab(\"UMAP 2\")\n",
    "p2 <- FeaturePlot(sc_mesenchymal_E11_5, c(\"Scx\", \"Dcn\", \"Tnc\", \"Mkx\")) + xlab(\"UMAP 1\") + ylab(\"UMAP 2\")\n",
    "\n",
    "options(repr.plot.width = 20, repr.plot.height = 8)\n",
    "p1 + p2"
   ]
  },
  {
   "cell_type": "code",
   "execution_count": null,
   "id": "ce044a3d-c3d2-4d2c-85cf-08dc983a9ef3",
   "metadata": {},
   "outputs": [],
   "source": [
    "g <- WhichCells(sc_mesenchymal_E11_5, idents = c(\"6\",\"21\",\"18\",\"27\",'0'))\n",
    "p1 <- DimPlot(sc_mesenchymal_E11_5, cells.highlight = list(g), label = TRUE) + xlab(\"UMAP 1\") + ylab(\"UMAP 2\")\n",
    "p2 <- FeaturePlot(sc_mesenchymal_E11_5, c(\"Scx\", \"Dcn\", \"Tnc\", \"Mkx\")) + xlab(\"UMAP 1\") + ylab(\"UMAP 2\")\n",
    "\n",
    "options(repr.plot.width = 20, repr.plot.height = 8)\n",
    "p1 + p2\n",
    "\n",
    "#ggsave(\"./6-kmita/images/E11_5_m_tenocytes.png\" ,width=20, height=8)"
   ]
  },
  {
   "cell_type": "markdown",
   "id": "572c8c93-8497-4514-9b93-515240db8c73",
   "metadata": {},
   "source": [
    "Joint precursors"
   ]
  },
  {
   "cell_type": "code",
   "execution_count": null,
   "id": "98eec17e-7df2-4af4-af09-05c30255d5a6",
   "metadata": {},
   "outputs": [],
   "source": [
    "g <- WhichCells(sc_mesenchymal_E11_5, idents = c(\"17\"))\n",
    "p1 <- DimPlot(sc_mesenchymal_E11_5, cells.highlight = list(g), label = TRUE) + xlab(\"UMAP 1\") + ylab(\"UMAP 2\")\n",
    "p2 <- FeaturePlot(sc_mesenchymal_E11_5, c(\"Gdf5\", \"Wnt9\", \"Smoc2\", \"Dact2\")) + xlab(\"UMAP 1\") + ylab(\"UMAP 2\")\n",
    "\n",
    "options(repr.plot.width = 20, repr.plot.height = 8)\n",
    "p1 + p2\n",
    "\n",
    "#ggsave(\"./6-kmita/images/E11_5_m_joint.png\" ,width=20, height=8)"
   ]
  },
  {
   "cell_type": "code",
   "execution_count": null,
   "id": "5e9db5f9-87c7-4257-bc37-0a6ecd9578b6",
   "metadata": {},
   "outputs": [],
   "source": [
    "options(repr.plot.width = 28, repr.plot.height = 8)\n",
    "FeaturePlot(sc_mesenchymal_E11_5, c(\"Gdf5\", \"Sox9\"), blend = TRUE) + xlab(\"UMAP 1\") + ylab(\"UMAP 2\")\n",
    "\n",
    "#ggsave(\"./6-kmita/images/E11_5_Gdf5_Sox9.png\" ,width=28, height=8)"
   ]
  },
  {
   "cell_type": "markdown",
   "id": "6a4b7084-8165-48f1-83e1-f47ad63cccbe",
   "metadata": {
    "jp-MarkdownHeadingCollapsed": true,
    "tags": []
   },
   "source": [
    "###### Checking annotation"
   ]
  },
  {
   "cell_type": "code",
   "execution_count": null,
   "id": "d180f6db-4671-450f-82ce-19685fc4392e",
   "metadata": {},
   "outputs": [],
   "source": [
    "A <- sc_mesenchymal_E11_5"
   ]
  },
  {
   "cell_type": "code",
   "execution_count": null,
   "id": "6a8ab42c-1060-4e83-9e06-d932c6dc686c",
   "metadata": {},
   "outputs": [],
   "source": [
    "# Paraxial Mesoderm: Tbx6+, Sox2-\n",
    "options(repr.plot.width = 18, repr.plot.height = 12)\n",
    "\n",
    "p1 <- DimPlot(A, label = TRUE) + NoLegend() + xlab(\"UMAP 1\") + ylab(\"UMAP 2\")\n",
    "p2 <- FeaturePlot(A, c(\"Tbx6\", \"Sox2\"), min.cutoff = \"q1\")  \n",
    "\n",
    "p1 + p2"
   ]
  },
  {
   "cell_type": "code",
   "execution_count": null,
   "id": "b46d5097-e4c0-4991-a037-6bf19563de3e",
   "metadata": {},
   "outputs": [],
   "source": [
    "# Intermediate Mesoderm: Osr1, Wt1, Pax2\n",
    "options(repr.plot.width = 18, repr.plot.height = 12)\n",
    "\n",
    "p1 <- DimPlot(A, label = TRUE) + NoLegend() + xlab(\"UMAP 1\") + ylab(\"UMAP 2\")\n",
    "p2 <- FeaturePlot(A, c(\"Osr1\", \"Wt1\", \"Pax2\"), min.cutoff = \"q1\")  \n",
    "\n",
    "p1 + p2"
   ]
  },
  {
   "cell_type": "code",
   "execution_count": null,
   "id": "f802dc64-6c6d-49b1-a7c3-e96f5878f647",
   "metadata": {},
   "outputs": [],
   "source": [
    "# Lateral plate mesoderm\n",
    "options(repr.plot.width = 18, repr.plot.height = 12)\n",
    "\n",
    "p1 <- DimPlot(A, label = TRUE) + NoLegend() + xlab(\"UMAP 1\") + ylab(\"UMAP 2\")\n",
    "p2 <- FeaturePlot(A, c(\"Foxf1\", \"Bmp4\", \"Hoxb6\", \"Hand1\", \"Hand2\", \"Gata4\",\"Prrx1\"), min.cutoff = \"q1\")  \n",
    "\n",
    "p1 + p2"
   ]
  },
  {
   "cell_type": "code",
   "execution_count": null,
   "id": "41fb1967-abc2-404b-b8b1-d1b387b0e93c",
   "metadata": {},
   "outputs": [],
   "source": [
    "# Early limb bud mesenchyme\n",
    "options(repr.plot.width = 18, repr.plot.height = 12)\n",
    "\n",
    "p1 <- DimPlot(A, label = TRUE) + NoLegend() + xlab(\"UMAP 1\") + ylab(\"UMAP 2\")\n",
    "p2 <- FeaturePlot(A, c(\"Meis1\", \"Tbx4\", \"Tbx5\"), min.cutoff = \"q1\")  \n",
    "\n",
    "p1 + p2"
   ]
  },
  {
   "cell_type": "code",
   "execution_count": null,
   "id": "caa3f516-b096-43c2-923b-007611347ea1",
   "metadata": {},
   "outputs": [],
   "source": [
    "# ZPA\n",
    "options(repr.plot.width = 18, repr.plot.height = 12)\n",
    "\n",
    "p1 <- DimPlot(A, label = TRUE) + NoLegend() + xlab(\"UMAP 1\") + ylab(\"UMAP 2\")\n",
    "p2 <- FeaturePlot(A, c(\"Shh\"), min.cutoff = \"q1\")  \n",
    "\n",
    "p1 + p2"
   ]
  },
  {
   "cell_type": "code",
   "execution_count": null,
   "id": "67fcb1cf-5f58-4307-a252-86547bf8026d",
   "metadata": {},
   "outputs": [],
   "source": [
    "# Chondroprogenitors\n",
    "options(repr.plot.width = 18, repr.plot.height = 12)\n",
    "\n",
    "p1 <- DimPlot(A, label = FALSE) + xlab(\"UMAP 1\") + ylab(\"UMAP 2\")\n",
    "p2 <- FeaturePlot(A, c(\"Prrx1\", \"Prrx2\", \"Sox9\"), min.cutoff = \"q1\")  \n",
    "\n",
    "p1 + p2"
   ]
  },
  {
   "cell_type": "code",
   "execution_count": null,
   "id": "601f82b5-d0df-43f7-82e1-3a2a0045d7db",
   "metadata": {},
   "outputs": [],
   "source": [
    "# Resting zone chondrocytes\n",
    "options(repr.plot.width = 18, repr.plot.height = 12)\n",
    "\n",
    "p1 <- DimPlot(A, label = TRUE) + NoLegend() + xlab(\"UMAP 1\") + ylab(\"UMAP 2\")\n",
    "p2 <- FeaturePlot(A, c(\"Fgfr3\", \"Pcp4\", \"Pthlh\", \"Sfrp5\", \"Spon1\"), min.cutoff = \"q1\")  \n",
    "\n",
    "p1 + p2"
   ]
  },
  {
   "cell_type": "code",
   "execution_count": null,
   "id": "90de5018-d89b-490f-bf3e-2b1e1699e125",
   "metadata": {},
   "outputs": [],
   "source": [
    "# Proliferative chondrocytes\n",
    "options(repr.plot.width = 18, repr.plot.height = 12)\n",
    "\n",
    "p1 <- DimPlot(A, label = TRUE) + NoLegend() + xlab(\"UMAP 1\") + ylab(\"UMAP 2\")\n",
    "p2 <- FeaturePlot(A, c(\"Sox9\", \"Mki67\", \"Top2a\", \"Pth1r\"), min.cutoff = \"q1\")  \n",
    "\n",
    "p1 + p2"
   ]
  },
  {
   "cell_type": "code",
   "execution_count": null,
   "id": "b4a7882b-1279-4c19-a1c3-334189f93b86",
   "metadata": {},
   "outputs": [],
   "source": [
    "# Pre-hypertrophic chondrocytes\n",
    "options(repr.plot.width = 18, repr.plot.height = 12)\n",
    "\n",
    "p1 <- DimPlot(A, label = TRUE) + NoLegend() + xlab(\"UMAP 1\") + ylab(\"UMAP 2\")\n",
    "p2 <- FeaturePlot(A, c(\"Ihh\", \"Ppa1\", \"Smpd3\"), min.cutoff = \"q1\")  \n",
    "\n",
    "p1 + p2"
   ]
  },
  {
   "cell_type": "code",
   "execution_count": null,
   "id": "c9429be3-4c21-4292-b907-0ddfd727f5a9",
   "metadata": {},
   "outputs": [],
   "source": [
    "# SSPC\n",
    "options(repr.plot.width = 18, repr.plot.height = 12)\n",
    "\n",
    "p1 <- DimPlot(A, label = TRUE) + NoLegend() + xlab(\"UMAP 1\") + ylab(\"UMAP 2\")\n",
    "p2 <- FeaturePlot(A, c(\"Lepr\",\"Pdgfrb\",'Prrx1',\"Eng\", \"Nt5e\", \"Thy1\",\"Cxcl12\",\"Sp7\",\"Adipoq\"), min.cutoff = \"q1\") \n",
    "\n",
    "p1 + p2"
   ]
  },
  {
   "cell_type": "code",
   "execution_count": null,
   "id": "45583a8e-a486-44f2-abee-8d673d073123",
   "metadata": {},
   "outputs": [],
   "source": [
    "# SSPC\n",
    "options(repr.plot.width = 18, repr.plot.height = 12)\n",
    "\n",
    "p1 <- DimPlot(A, label = TRUE) + NoLegend() + xlab(\"UMAP 1\") + ylab(\"UMAP 2\")\n",
    "p2 <- FeaturePlot(A, c(\"Lepr\",\"Pdgfrb\",'Prrx1',\"Eng\", \"Nt5e\", \"Thy1\",\"Cxcl12\",\"Sp7\",\"Adipoq\"), min.cutoff = \"q1\") \n",
    "\n",
    "p1 + p2"
   ]
  },
  {
   "cell_type": "code",
   "execution_count": null,
   "id": "cf1c60f5-69c4-499a-845b-b6e32ffdc0e6",
   "metadata": {},
   "outputs": [],
   "source": [
    "# Osteoprogenitors\n",
    "options(repr.plot.width = 18, repr.plot.height = 12)\n",
    "\n",
    "p1 <- DimPlot(A, label = TRUE) + NoLegend() + xlab(\"UMAP 1\") + ylab(\"UMAP 2\")\n",
    "p2 <- FeaturePlot(A, c(\"Runx2\", \"Sp7\"), min.cutoff = \"q1\")  \n",
    "\n",
    "p1 + p2"
   ]
  },
  {
   "cell_type": "code",
   "execution_count": null,
   "id": "9973391b-25e0-48ab-af1c-f3501c3a3906",
   "metadata": {},
   "outputs": [],
   "source": [
    "# Osteoblasts\n",
    "options(repr.plot.width = 18, repr.plot.height = 12)\n",
    "\n",
    "p1 <- DimPlot(A, label = TRUE) + NoLegend() + xlab(\"UMAP 1\") + ylab(\"UMAP 2\")\n",
    "p2 <- FeaturePlot(A, c(\"Col1a1\", \"Bglap\"), min.cutoff = \"q1\")  \n",
    "\n",
    "p1 + p2"
   ]
  },
  {
   "cell_type": "code",
   "execution_count": null,
   "id": "542c5c7c-646e-4ffb-b973-73aeea80b111",
   "metadata": {},
   "outputs": [],
   "source": [
    "# Osteocytes\n",
    "options(repr.plot.width = 18, repr.plot.height = 12)\n",
    "\n",
    "p1 <- DimPlot(A, label = TRUE) + NoLegend() + xlab(\"UMAP 1\") + ylab(\"UMAP 2\")\n",
    "p2 <- FeaturePlot(A, c(\"Dmp1\"), min.cutoff = \"q1\")  \n",
    "\n",
    "p1 + p2"
   ]
  },
  {
   "cell_type": "code",
   "execution_count": null,
   "id": "cbef1c4a-cb22-4bf6-9574-bde8f65e6056",
   "metadata": {},
   "outputs": [],
   "source": [
    "# Osteoclasts\n",
    "options(repr.plot.width = 18, repr.plot.height = 12)\n",
    "\n",
    "p1 <- DimPlot(A, label = TRUE) + NoLegend() + xlab(\"UMAP 1\") + ylab(\"UMAP 2\")\n",
    "p2 <- FeaturePlot(A, c(\"Csf1\", \"Ctsk\"), min.cutoff = \"q1\")  \n",
    "\n",
    "p1 + p2"
   ]
  },
  {
   "cell_type": "code",
   "execution_count": null,
   "id": "e546d196-d0ef-4523-9fa5-7c6fe389e220",
   "metadata": {},
   "outputs": [],
   "source": [
    "# Periosteal stem cells\n",
    "options(repr.plot.width = 18, repr.plot.height = 12)\n",
    "\n",
    "p1 <- DimPlot(A, label = TRUE) + NoLegend() + xlab(\"UMAP 1\") + ylab(\"UMAP 2\")\n",
    "p2 <- FeaturePlot(A, c(\"Pdpn\", \"Nt5e\", \"Cd164\"), min.cutoff = \"q1\")  \n",
    "\n",
    "p1 + p2"
   ]
  },
  {
   "cell_type": "code",
   "execution_count": null,
   "id": "4aa6c187-45b4-43c4-a932-4a49a37e68c5",
   "metadata": {},
   "outputs": [],
   "source": [
    "# Periosteal progenitors\n",
    "options(repr.plot.width = 18, repr.plot.height = 12)\n",
    "\n",
    "p1 <- DimPlot(A, label = TRUE) + NoLegend() + xlab(\"UMAP 1\") + ylab(\"UMAP 2\")\n",
    "p2 <- FeaturePlot(A, c(\"Col5a2\", \"Twist2\", \"Tbx15\"), min.cutoff = \"q1\")  \n",
    "\n",
    "p1 + p2"
   ]
  },
  {
   "cell_type": "code",
   "execution_count": null,
   "id": "6847713b-aca7-4150-8efe-f1e590d8f6f4",
   "metadata": {},
   "outputs": [],
   "source": [
    "# Periosteum\n",
    "options(repr.plot.width = 18, repr.plot.height = 12)\n",
    "\n",
    "p1 <- DimPlot(A, label = TRUE) + NoLegend() + xlab(\"UMAP 1\") + ylab(\"UMAP 2\")\n",
    "p2 <- FeaturePlot(A, c(\"Postn\"), min.cutoff = \"q1\")  \n",
    "\n",
    "p1 + p2"
   ]
  },
  {
   "cell_type": "code",
   "execution_count": null,
   "id": "ad3552d7-922e-4ec1-8d8d-dad45176c2b6",
   "metadata": {},
   "outputs": [],
   "source": [
    "# Joint precursors: sox9-\n",
    "options(repr.plot.width = 18, repr.plot.height = 12)\n",
    "\n",
    "p1 <- DimPlot(A, label = TRUE) + NoLegend() + xlab(\"UMAP 1\") + ylab(\"UMAP 2\")\n",
    "p2 <- FeaturePlot(A, c(\"Gdf5\", \"Wnt9a\", \"Smoc2\", \"Dact2\",\"Sox9\"), min.cutoff = \"q1\")  \n",
    "\n",
    "p1 + p2"
   ]
  },
  {
   "cell_type": "code",
   "execution_count": null,
   "id": "a288c757-3824-4259-9137-27fd85509f59",
   "metadata": {},
   "outputs": [],
   "source": [
    "# Interzone cells: sox9-\n",
    "options(repr.plot.width = 18, repr.plot.height = 12)\n",
    "\n",
    "p1 <- DimPlot(A, label = TRUE) + NoLegend() + xlab(\"UMAP 1\") + ylab(\"UMAP 2\")\n",
    "p2 <- FeaturePlot(A, c(\"Smoc2\", \"Dact2\", \"Wnt4\", \"Wnt16\",\"Sox9\"), min.cutoff = \"q1\")  \n",
    "\n",
    "p1 + p2"
   ]
  },
  {
   "cell_type": "code",
   "execution_count": null,
   "id": "3ce3f7ae-535b-46d1-8608-41f2ddf10939",
   "metadata": {},
   "outputs": [],
   "source": [
    "# Tenocyte precursors\n",
    "options(repr.plot.width = 18, repr.plot.height = 12)\n",
    "\n",
    "p1 <- DimPlot(A, label = TRUE, group.by=\"CellType\") + NoLegend() + xlab(\"UMAP 1\") + ylab(\"UMAP 2\")\n",
    "p2 <- FeaturePlot(A, c(\"Tnmd\", \"Tppp3\", \"Scx\", \"Prrx1\", \"Prrx2\"), min.cutoff = \"q1\")  \n",
    "\n",
    "p1 + p2"
   ]
  },
  {
   "cell_type": "code",
   "execution_count": null,
   "id": "1bedaea4-8b27-4d66-ad02-2d45f1cd7dd6",
   "metadata": {},
   "outputs": [],
   "source": [
    "# Tenocytes\n",
    "options(repr.plot.width = 18, repr.plot.height = 12)\n",
    "\n",
    "p1 <- DimPlot(A, label = TRUE) + NoLegend() + xlab(\"UMAP 1\") + ylab(\"UMAP 2\")\n",
    "p2 <- FeaturePlot(A, c(\"Scx\", \"Tnmd\"), min.cutoff = \"q1\")  \n",
    "\n",
    "p1 + p2"
   ]
  },
  {
   "cell_type": "code",
   "execution_count": null,
   "id": "16eeab55-a939-4da5-8aaf-d8c3d696ea02",
   "metadata": {},
   "outputs": [],
   "source": [
    "# Synovial fibroblasts: Hla-\n",
    "options(repr.plot.width = 18, repr.plot.height = 12)\n",
    "\n",
    "p1 <- DimPlot(A, label = TRUE) + NoLegend() + xlab(\"UMAP 1\") + ylab(\"UMAP 2\")\n",
    "p2 <- FeaturePlot(A, c(\"Dkk1\", \"Dra\",\"Hla\"), min.cutoff = \"q1\")  \n",
    "\n",
    "p1 + p2"
   ]
  },
  {
   "cell_type": "markdown",
   "id": "8da13b50-d0a3-4f7c-8569-faf24592233f",
   "metadata": {
    "tags": []
   },
   "source": [
    "##### Adding annotation"
   ]
  },
  {
   "cell_type": "code",
   "execution_count": null,
   "id": "913500cc-8867-4b6c-94cd-35014f695232",
   "metadata": {},
   "outputs": [],
   "source": [
    "sc_mesenchymal_E11_5@meta.data$CellType_g <- Idents(sc_mesenchymal_E11_5)"
   ]
  },
  {
   "cell_type": "code",
   "execution_count": null,
   "id": "2f9f0cf0-b750-42fc-99d7-36b8a0cc3834",
   "metadata": {},
   "outputs": [],
   "source": [
    "sc_mesenchymal_E11_5@meta.data$CellType_g <- as.character(sc_mesenchymal_E11_5@meta.data$CellType_g)\n",
    "\n",
    "sc_mesenchymal_E11_5@meta.data$CellType_g[sc_mesenchymal_E11_5@meta.data$CellType_g == '7'] <- 'Chondroprogenitors'\n",
    "sc_mesenchymal_E11_5@meta.data$CellType_g[sc_mesenchymal_E11_5@meta.data$CellType_g == '23'] <- 'Chondroprogenitors'\n",
    "sc_mesenchymal_E11_5@meta.data$CellType_g[sc_mesenchymal_E11_5@meta.data$CellType_g == '20'] <- 'Chondroprogenitors'\n",
    "sc_mesenchymal_E11_5@meta.data$CellType_g[sc_mesenchymal_E11_5@meta.data$CellType_g == '5'] <- 'Chondroprogenitors'\n",
    "sc_mesenchymal_E11_5@meta.data$CellType_g[sc_mesenchymal_E11_5@meta.data$CellType_g == '14'] <- 'Chondroprogenitors'\n",
    "sc_mesenchymal_E11_5@meta.data$CellType_g[sc_mesenchymal_E11_5@meta.data$CellType_g == '15'] <- 'Chondroprogenitors'\n",
    "sc_mesenchymal_E11_5@meta.data$CellType_g[sc_mesenchymal_E11_5@meta.data$CellType_g == '3'] <- 'Chondroprogenitors'\n",
    "sc_mesenchymal_E11_5@meta.data$CellType_g[sc_mesenchymal_E11_5@meta.data$CellType_g == '16'] <- 'Chondroprogenitors'\n",
    "\n",
    "sc_mesenchymal_E11_5@meta.data$CellType_g[sc_mesenchymal_E11_5@meta.data$CellType_g == '17'] <- 'Joint precursors'\n",
    "\n",
    "sc_mesenchymal_E11_5@meta.data$CellType_g[sc_mesenchymal_E11_5@meta.data$CellType_g == '6'] <- 'Tenocyte precursors'\n",
    "sc_mesenchymal_E11_5@meta.data$CellType_g[sc_mesenchymal_E11_5@meta.data$CellType_g == '21'] <- 'Tenocyte precursors'\n",
    "sc_mesenchymal_E11_5@meta.data$CellType_g[sc_mesenchymal_E11_5@meta.data$CellType_g == '18'] <- 'Tenocyte precursors'\n",
    "sc_mesenchymal_E11_5@meta.data$CellType_g[sc_mesenchymal_E11_5@meta.data$CellType_g == '27'] <- 'Tenocyte precursors'\n",
    "sc_mesenchymal_E11_5@meta.data$CellType_g[sc_mesenchymal_E11_5@meta.data$CellType_g == '0'] <- 'Tenocyte precursors'\n",
    "\n",
    "sc_mesenchymal_E11_5@meta.data$CellType_g[sc_mesenchymal_E11_5@meta.data$CellType_g == '13'] <- 'ZPA'\n",
    "\n",
    "sc_mesenchymal_E11_5@meta.data$CellType_g[sc_mesenchymal_E11_5@meta.data$CellType_g == '1'] <- 'Limb bud mesenchyme'\n",
    "sc_mesenchymal_E11_5@meta.data$CellType_g[sc_mesenchymal_E11_5@meta.data$CellType_g == '11'] <- 'Limb bud mesenchyme'\n",
    "sc_mesenchymal_E11_5@meta.data$CellType_g[sc_mesenchymal_E11_5@meta.data$CellType_g == '10'] <- 'Limb bud mesenchyme'\n",
    "sc_mesenchymal_E11_5@meta.data$CellType_g[sc_mesenchymal_E11_5@meta.data$CellType_g == '12'] <- 'Limb bud mesenchyme'\n",
    "sc_mesenchymal_E11_5@meta.data$CellType_g[sc_mesenchymal_E11_5@meta.data$CellType_g == '18'] <- 'Limb bud mesenchyme'\n",
    "sc_mesenchymal_E11_5@meta.data$CellType_g[sc_mesenchymal_E11_5@meta.data$CellType_g == '19'] <- 'Limb bud mesenchyme'\n",
    "sc_mesenchymal_E11_5@meta.data$CellType_g[sc_mesenchymal_E11_5@meta.data$CellType_g == '2'] <- 'Limb bud mesenchyme'\n",
    "sc_mesenchymal_E11_5@meta.data$CellType_g[sc_mesenchymal_E11_5@meta.data$CellType_g == '22'] <- 'Limb bud mesenchyme'\n",
    "sc_mesenchymal_E11_5@meta.data$CellType_g[sc_mesenchymal_E11_5@meta.data$CellType_g == '24'] <- 'Limb bud mesenchyme'\n",
    "sc_mesenchymal_E11_5@meta.data$CellType_g[sc_mesenchymal_E11_5@meta.data$CellType_g == '25'] <- 'Limb bud mesenchyme'\n",
    "sc_mesenchymal_E11_5@meta.data$CellType_g[sc_mesenchymal_E11_5@meta.data$CellType_g == '26'] <- 'Limb bud mesenchyme'\n",
    "sc_mesenchymal_E11_5@meta.data$CellType_g[sc_mesenchymal_E11_5@meta.data$CellType_g == '4'] <- 'Limb bud mesenchyme'\n",
    "sc_mesenchymal_E11_5@meta.data$CellType_g[sc_mesenchymal_E11_5@meta.data$CellType_g == '8'] <- 'Limb bud mesenchyme'\n",
    "sc_mesenchymal_E11_5@meta.data$CellType_g[sc_mesenchymal_E11_5@meta.data$CellType_g == '9'] <- 'Limb bud mesenchyme'\n",
    "\n",
    "sc_mesenchymal_E11_5@meta.data$CellType_g <- as.factor(sc_mesenchymal_E11_5@meta.data$CellType_g)"
   ]
  },
  {
   "cell_type": "code",
   "execution_count": null,
   "id": "1a950a0f-a5e3-4f35-93d2-398609898e40",
   "metadata": {},
   "outputs": [],
   "source": [
    "options(repr.plot.width = 12, repr.plot.height = 8)\n",
    "DimPlot(sc_mesenchymal_E11_5, label = FALSE, group.by = 'CellType_g') + xlab(\"UMAP 1\") + ylab(\"UMAP 2\")\n",
    "\n",
    "#ggsave(\"./6-kmita/images/E11_5_m_tenocytes.png\" ,width=12, height=8)"
   ]
  },
  {
   "cell_type": "markdown",
   "id": "19b8b664-a25c-4eb4-b413-04b548e728b3",
   "metadata": {
    "tags": []
   },
   "source": [
    "##### Adding annotation - final"
   ]
  },
  {
   "cell_type": "code",
   "execution_count": null,
   "id": "5bd094bf-cd27-44fd-98da-70635df33fdf",
   "metadata": {
    "tags": []
   },
   "outputs": [],
   "source": [
    "sc_mesenchymal_E11_5@meta.data$CellType <- Idents(sc_mesenchymal_E11_5)"
   ]
  },
  {
   "cell_type": "code",
   "execution_count": null,
   "id": "e9f5fa0f-368a-4478-850c-35368636bd01",
   "metadata": {},
   "outputs": [],
   "source": [
    "sc_mesenchymal_E11_5@meta.data$CellType <- as.character(sc_mesenchymal_E11_5@meta.data$CellType)\n",
    "\n",
    "sc_mesenchymal_E11_5@meta.data$CellType[sc_mesenchymal_E11_5@meta.data$CellType == '7'] <- 'Chondroprogenitors'\n",
    "sc_mesenchymal_E11_5@meta.data$CellType[sc_mesenchymal_E11_5@meta.data$CellType == '23'] <- 'Chondroprogenitors'\n",
    "sc_mesenchymal_E11_5@meta.data$CellType[sc_mesenchymal_E11_5@meta.data$CellType == '20'] <- 'Chondroprogenitors'\n",
    "sc_mesenchymal_E11_5@meta.data$CellType[sc_mesenchymal_E11_5@meta.data$CellType == '5'] <- 'Chondroprogenitors'\n",
    "sc_mesenchymal_E11_5@meta.data$CellType[sc_mesenchymal_E11_5@meta.data$CellType == '14'] <- 'Chondroprogenitors'\n",
    "sc_mesenchymal_E11_5@meta.data$CellType[sc_mesenchymal_E11_5@meta.data$CellType == '15'] <- 'Chondroprogenitors'\n",
    "sc_mesenchymal_E11_5@meta.data$CellType[sc_mesenchymal_E11_5@meta.data$CellType == '3'] <- 'Chondroprogenitors'\n",
    "sc_mesenchymal_E11_5@meta.data$CellType[sc_mesenchymal_E11_5@meta.data$CellType == '16'] <- 'Chondroprogenitors'\n",
    "\n",
    "sc_mesenchymal_E11_5@meta.data$CellType[sc_mesenchymal_E11_5@meta.data$CellType == '17'] <- 'Joint precursors'\n",
    "\n",
    "sc_mesenchymal_E11_5@meta.data$CellType[sc_mesenchymal_E11_5@meta.data$CellType == '1'] <- 'Intermediate limb bud mesenchyme'\n",
    "sc_mesenchymal_E11_5@meta.data$CellType[sc_mesenchymal_E11_5@meta.data$CellType == '11'] <- 'Intermediate limb bud mesenchyme'\n",
    "sc_mesenchymal_E11_5@meta.data$CellType[sc_mesenchymal_E11_5@meta.data$CellType == '10'] <- 'Intermediate limb bud mesenchyme'\n",
    "sc_mesenchymal_E11_5@meta.data$CellType[sc_mesenchymal_E11_5@meta.data$CellType == '12'] <- 'Intermediate limb bud mesenchyme'\n",
    "sc_mesenchymal_E11_5@meta.data$CellType[sc_mesenchymal_E11_5@meta.data$CellType == '18'] <- 'Intermediate limb bud mesenchyme'\n",
    "sc_mesenchymal_E11_5@meta.data$CellType[sc_mesenchymal_E11_5@meta.data$CellType == '22'] <- 'Intermediate limb bud mesenchyme'\n",
    "sc_mesenchymal_E11_5@meta.data$CellType[sc_mesenchymal_E11_5@meta.data$CellType == '26'] <- 'Intermediate limb bud mesenchyme'\n",
    "sc_mesenchymal_E11_5@meta.data$CellType[sc_mesenchymal_E11_5@meta.data$CellType == '9'] <- 'Intermediate limb bud mesenchyme'\n",
    "\n",
    "sc_mesenchymal_E11_5@meta.data$CellType[sc_mesenchymal_E11_5@meta.data$CellType == '19'] <- 'Distal limb bud mesenchyme'\n",
    "sc_mesenchymal_E11_5@meta.data$CellType[sc_mesenchymal_E11_5@meta.data$CellType == '2'] <- 'Distal limb bud mesenchyme'\n",
    "sc_mesenchymal_E11_5@meta.data$CellType[sc_mesenchymal_E11_5@meta.data$CellType == '24'] <- 'Distal limb bud mesenchyme'\n",
    "sc_mesenchymal_E11_5@meta.data$CellType[sc_mesenchymal_E11_5@meta.data$CellType == '25'] <- 'Distal limb bud mesenchyme'\n",
    "sc_mesenchymal_E11_5@meta.data$CellType[sc_mesenchymal_E11_5@meta.data$CellType == '4'] <- 'Distal limb bud mesenchyme'\n",
    "sc_mesenchymal_E11_5@meta.data$CellType[sc_mesenchymal_E11_5@meta.data$CellType == '8'] <- 'Distal limb bud mesenchyme'\n",
    "\n",
    "sc_mesenchymal_E11_5@meta.data$CellType[sc_mesenchymal_E11_5@meta.data$CellType == '6'] <- 'Tenocyte precursors'\n",
    "sc_mesenchymal_E11_5@meta.data$CellType[sc_mesenchymal_E11_5@meta.data$CellType == '21'] <- 'Tenocyte precursors'\n",
    "sc_mesenchymal_E11_5@meta.data$CellType[sc_mesenchymal_E11_5@meta.data$CellType == '18'] <- 'Tenocyte precursors'\n",
    "sc_mesenchymal_E11_5@meta.data$CellType[sc_mesenchymal_E11_5@meta.data$CellType == '27'] <- 'Tenocyte precursors'\n",
    "sc_mesenchymal_E11_5@meta.data$CellType[sc_mesenchymal_E11_5@meta.data$CellType == '0'] <- 'Tenocyte precursors'\n",
    "\n",
    "sc_mesenchymal_E11_5@meta.data$CellType[sc_mesenchymal_E11_5@meta.data$CellType == '13'] <- 'ZPA'\n",
    "\n",
    "sc_mesenchymal_E11_5@meta.data$CellType <- as.factor(sc_mesenchymal_E11_5@meta.data$CellType)"
   ]
  },
  {
   "cell_type": "code",
   "execution_count": null,
   "id": "e8227bac-ceb4-4669-9c70-ae6d8523c8e7",
   "metadata": {},
   "outputs": [],
   "source": [
    "options(repr.plot.width = 12, repr.plot.height = 8)\n",
    "DimPlot(sc_mesenchymal_E11_5, label = FALSE, group.by = 'CellType') + xlab(\"UMAP 1\") + ylab(\"UMAP 2\")\n",
    "\n",
    "#ggsave(\"./6-kmita/images/E11_5_m_tenocytes.png\" ,width=12, height=8)"
   ]
  },
  {
   "cell_type": "code",
   "execution_count": null,
   "id": "693d9d02-114b-4ddb-856a-28c04f470dc8",
   "metadata": {},
   "outputs": [],
   "source": [
    "saveRDS(sc_mesenchymal_E11_5, file =\"/home/host_home/tom/Kmita/6-kmita/RDataSessions/sc_mesenchymal_E11_5_clustered_SeuratObject.Rds\")"
   ]
  },
  {
   "cell_type": "markdown",
   "id": "31d068e2-8224-45a1-969f-49f792444825",
   "metadata": {
    "tags": []
   },
   "source": [
    "##### 4.4.2.1. Subsetting ectodermal cluster<a id=\"25\"></a>"
   ]
  },
  {
   "cell_type": "code",
   "execution_count": null,
   "id": "a9a2cd60-11fb-4e51-9a26-94be0f7da498",
   "metadata": {},
   "outputs": [],
   "source": [
    "E11_5 <- readRDS(\"/home/jovyan/researcher_home/tom/Kmita/6-kmita/RDataSessions/E11_5_GlobalAnnotation_SeuratObject.Rds\")"
   ]
  },
  {
   "cell_type": "code",
   "execution_count": null,
   "id": "966aa527-0c90-401d-a75f-02b1596aa9ca",
   "metadata": {},
   "outputs": [],
   "source": [
    "Idents(E11_5) <- E11_5@meta.data$CellType"
   ]
  },
  {
   "cell_type": "code",
   "execution_count": null,
   "id": "767ad81b-8210-4e3a-867f-150b0fafca3a",
   "metadata": {},
   "outputs": [],
   "source": [
    "sc_ectoderm_E11_5 <- subset(E11_5, idents = c(\"Ectoderm\"))"
   ]
  },
  {
   "cell_type": "code",
   "execution_count": null,
   "id": "83bb7413-4626-4a28-b009-367640a93711",
   "metadata": {},
   "outputs": [],
   "source": [
    "sc_ectoderm_E11_5 <- NormalizeData(sc_ectoderm_E11_5, verbose = FALSE)\n",
    "sc_ectoderm_E11_5 <- FindVariableFeatures(sc_ectoderm_E11_5, selection.method = \"vst\", nfeatures = 2000)\n",
    "\n",
    "# Identify the 10 most highly variable genes\n",
    "top10 <- head(VariableFeatures(sc_ectoderm_E11_5), 10)"
   ]
  },
  {
   "cell_type": "code",
   "execution_count": null,
   "id": "5c09806b-2541-4bcb-a027-e16057c9a986",
   "metadata": {},
   "outputs": [],
   "source": [
    "sc_ectoderm_E11_5 <- ScaleData(sc_ectoderm_E11_5)"
   ]
  },
  {
   "cell_type": "code",
   "execution_count": null,
   "id": "a9818572-78d4-4f97-ae4a-f435dbd46ef9",
   "metadata": {},
   "outputs": [],
   "source": [
    "sc_ectoderm_E11_5 <- RunPCA(sc_ectoderm_E11_5, features = VariableFeatures(object = sc_ectoderm_E11_5), verbose = FALSE)"
   ]
  },
  {
   "cell_type": "code",
   "execution_count": null,
   "id": "3bee7cd1-ecd4-42ff-8ef4-4bb332769fb7",
   "metadata": {},
   "outputs": [],
   "source": [
    "options(repr.plot.width = 9)\n",
    "\n",
    "DimPlot(sc_ectoderm_E11_5, reduction = \"pca\", group.by = \"orig.ident\") + xlab(\"PC 1\") + ylab(\"PC 2\")"
   ]
  },
  {
   "cell_type": "code",
   "execution_count": null,
   "id": "f1669c04-fbeb-45fd-9532-f7a38f85295d",
   "metadata": {},
   "outputs": [],
   "source": [
    "ElbowPlot(sc_ectoderm_E11_5, 50)"
   ]
  },
  {
   "cell_type": "code",
   "execution_count": null,
   "id": "b4dffc12-6cb3-47f3-8568-000c8ee86ee0",
   "metadata": {},
   "outputs": [],
   "source": [
    "sc_ectoderm_E11_5 <- FindNeighbors(sc_ectoderm_E11_5, dims = 1:40)\n",
    "sc_ectoderm_E11_5 <- FindClusters(sc_ectoderm_E11_5, resolution = 2)"
   ]
  },
  {
   "cell_type": "code",
   "execution_count": null,
   "id": "4cf1972d-01e2-4104-a0ef-2829a34efa95",
   "metadata": {
    "scrolled": true
   },
   "outputs": [],
   "source": [
    "sc_ectoderm_E11_5 <- RunUMAP(sc_ectoderm_E11_5, dims = 1:40, n.neighbors = 10, verbose = FALSE)"
   ]
  },
  {
   "cell_type": "code",
   "execution_count": null,
   "id": "ec3869ba-eb57-4ccf-b62c-e47b97e0d49b",
   "metadata": {},
   "outputs": [],
   "source": [
    "options(repr.plot.width=8)\n",
    "DimPlot(sc_ectoderm_E11_5, reduction = \"umap\", label=TRUE, group.by = \"seurat_clusters\")"
   ]
  },
  {
   "cell_type": "code",
   "execution_count": null,
   "id": "041abe92-c729-4277-9d80-33ba77677b90",
   "metadata": {
    "tags": []
   },
   "outputs": [],
   "source": [
    "df <- FindAllMarkers(sc_ectoderm_E11_5)"
   ]
  },
  {
   "cell_type": "code",
   "execution_count": null,
   "id": "60a6edde-19ed-4998-a8e4-3c1c0a16d614",
   "metadata": {},
   "outputs": [],
   "source": [
    "# find markers for every cluster compared to all remaining cells, report only the positive\n",
    "# ones\n",
    "#df %>%\n",
    "#    group_by(cluster) %>%\n",
    "#    slice_max(n = 10, order_by = avg_log2FC) "
   ]
  },
  {
   "cell_type": "code",
   "execution_count": null,
   "id": "44035096-836e-419c-9e18-0355f8ffa147",
   "metadata": {
    "tags": []
   },
   "outputs": [],
   "source": [
    "#select only cluster 0 and order avg_log2FC from big to small\n",
    "\n",
    "df[df$cluster == 6,] %>%\n",
    "slice_max(n = 20, order_by = avg_log2FC)"
   ]
  },
  {
   "cell_type": "code",
   "execution_count": null,
   "id": "a7b67308-acca-4e88-8fd4-c4c2d4790b97",
   "metadata": {},
   "outputs": [],
   "source": [
    "#df['Meis2',]"
   ]
  },
  {
   "cell_type": "markdown",
   "id": "47aa6e12-4dad-49cf-b48e-10a7df0d4a02",
   "metadata": {},
   "source": [
    "AER"
   ]
  },
  {
   "cell_type": "code",
   "execution_count": null,
   "id": "7dc4be2c-d6eb-4d30-b36f-1c6df1a36156",
   "metadata": {},
   "outputs": [],
   "source": [
    "options(repr.plot.width = 20)\n",
    "\n",
    "p1 <- DimPlot(sc_ectoderm_E11_5, label = TRUE) + NoLegend() + xlab(\"UMAP 1\") + ylab(\"UMAP 2\")\n",
    "p2 <- FeaturePlot(sc_ectoderm_E11_5, c(\"Fgf8\", \"Fgf4\")) + xlab(\"UMAP 1\") + ylab(\"UMAP 2\")\n",
    "\n",
    "p1 + p2\n",
    "\n",
    "#ggsave(\"./6-kmita/images/E11_5_e_AER.png\" ,width=20, height=8)"
   ]
  },
  {
   "cell_type": "markdown",
   "id": "1728d837-41bb-4db6-8fbe-4d9ac6048170",
   "metadata": {},
   "source": [
    "Neurons"
   ]
  },
  {
   "cell_type": "code",
   "execution_count": null,
   "id": "dc9a1722-b41f-4775-96ab-867f8c490366",
   "metadata": {},
   "outputs": [],
   "source": [
    "options(repr.plot.width = 16, repr.plot.height = 8)\n",
    "\n",
    "p1 <- DimPlot(sc_ectoderm_E11_5, label = TRUE) + NoLegend() + xlab(\"UMAP 1\") + ylab(\"UMAP 2\")\n",
    "p2 <- FeaturePlot(sc_ectoderm_E11_5, c(\"Nefl\", \"Mapt\")) + xlab(\"UMAP 1\") + ylab(\"UMAP 2\")\n",
    "\n",
    "p1 + p2\n",
    "#ggsave(\"./6-kmita/images/E11_5_e_neurons.png\" ,width=20, height=8)"
   ]
  },
  {
   "cell_type": "markdown",
   "id": "db5bfe6f-4b9d-4bea-a49b-13293670cf16",
   "metadata": {},
   "source": [
    "Skin"
   ]
  },
  {
   "cell_type": "code",
   "execution_count": null,
   "id": "d02a6a38-55b0-45f5-8a4a-67d52e142aff",
   "metadata": {},
   "outputs": [],
   "source": [
    "options(repr.plot.width = 16, repr.plot.height = 8)\n",
    "\n",
    "p1 <- DimPlot(sc_ectoderm_E11_5, label = TRUE) + NoLegend() + xlab(\"UMAP 1\") + ylab(\"UMAP 2\")\n",
    "p2 <- FeaturePlot(sc_ectoderm_E11_5, c(\"Krt5\", \"Krt10\",\"Krt7\")) + xlab(\"UMAP 1\") + ylab(\"UMAP 2\")\n",
    "\n",
    "p1 + p2\n",
    "#ggsave(\"./6-kmita/images/E11_5_e_neurons.png\" ,width=20, height=8)"
   ]
  },
  {
   "cell_type": "markdown",
   "id": "6e40c12d-2adf-4ab8-a97c-4433c63d54d2",
   "metadata": {},
   "source": [
    "Skin"
   ]
  },
  {
   "cell_type": "code",
   "execution_count": null,
   "id": "93ef8683-f3d9-4805-827a-b888017a7a18",
   "metadata": {},
   "outputs": [],
   "source": [
    "options(repr.plot.width = 16, repr.plot.height = 8)\n",
    "\n",
    "p1 <- DimPlot(sc_ectoderm_E11_5, label = TRUE) + NoLegend() + xlab(\"UMAP 1\") + ylab(\"UMAP 2\")\n",
    "p2 <- FeaturePlot(sc_ectoderm_E11_5, c(\"Wnt7a\", \"En1\")) + xlab(\"UMAP 1\") + ylab(\"UMAP 2\")\n",
    "\n",
    "p1 + p2\n",
    "#ggsave(\"./6-kmita/images/E11_5_e_neurons.png\" ,width=20, height=8)"
   ]
  },
  {
   "cell_type": "markdown",
   "id": "b96009ae-5476-449a-85b5-075962ab66c8",
   "metadata": {},
   "source": [
    "Adding annotation"
   ]
  },
  {
   "cell_type": "code",
   "execution_count": null,
   "id": "810ac8f0-0111-42c0-87d4-6235814db3cd",
   "metadata": {},
   "outputs": [],
   "source": [
    "sc_ectoderm_E11_5@meta.data$CellType <- Idents(sc_ectoderm_E11_5)"
   ]
  },
  {
   "cell_type": "code",
   "execution_count": null,
   "id": "eb8051e9-d875-48c9-bdb8-dc6320315126",
   "metadata": {},
   "outputs": [],
   "source": [
    "sc_ectoderm_E11_5@meta.data$CellType <- as.character(sc_ectoderm_E11_5@meta.data$CellType)\n",
    "\n",
    "sc_ectoderm_E11_5@meta.data$CellType[sc_ectoderm_E11_5@meta.data$CellType == '0'] <- 'AER'\n",
    "sc_ectoderm_E11_5@meta.data$CellType[sc_ectoderm_E11_5@meta.data$CellType == '1'] <- 'Ectoderm'\n",
    "sc_ectoderm_E11_5@meta.data$CellType[sc_ectoderm_E11_5@meta.data$CellType == '2'] <- 'Ectoderm'\n",
    "sc_ectoderm_E11_5@meta.data$CellType[sc_ectoderm_E11_5@meta.data$CellType == '3'] <- 'Ectoderm'\n",
    "sc_ectoderm_E11_5@meta.data$CellType[sc_ectoderm_E11_5@meta.data$CellType == '4'] <- 'Ectoderm'\n",
    "sc_ectoderm_E11_5@meta.data$CellType[sc_ectoderm_E11_5@meta.data$CellType == '5'] <- 'Neurons'\n",
    "sc_ectoderm_E11_5@meta.data$CellType[sc_ectoderm_E11_5@meta.data$CellType == '6'] <- 'Keratinocytes'\n",
    "sc_ectoderm_E11_5@meta.data$CellType[sc_ectoderm_E11_5@meta.data$CellType == '7'] <- 'Ectoderm'\n",
    "sc_ectoderm_E11_5@meta.data$CellType[sc_ectoderm_E11_5@meta.data$CellType == '8'] <- 'Ectoderm'\n",
    "\n",
    "sc_ectoderm_E11_5@meta.data$CellType <- as.factor(sc_ectoderm_E11_5@meta.data$CellType)"
   ]
  },
  {
   "cell_type": "code",
   "execution_count": null,
   "id": "10f0bcf4-5aae-41d5-b0cf-0fbe451c7e07",
   "metadata": {},
   "outputs": [],
   "source": [
    "options(repr.plot.width=8)\n",
    "DimPlot(sc_ectoderm_E11_5, reduction = \"umap\", label=TRUE, group.by = \"CellType\")"
   ]
  },
  {
   "cell_type": "code",
   "execution_count": null,
   "id": "c6fee0c8-ef77-4f1d-a8c1-eb9034822500",
   "metadata": {},
   "outputs": [],
   "source": [
    "saveRDS(sc_ectoderm_E11_5, file = \"/home/jovyan/researcher_home/tom/Kmita/6-kmita/RDataSessions/sc_ectoderm_E11_5_annotated_SeuratObject.Rds\")"
   ]
  },
  {
   "cell_type": "markdown",
   "id": "16b07c60-07ca-4053-b57b-1075f1da5bef",
   "metadata": {},
   "source": [
    "##### 4.4.2.2. Subsetting blood and endothelial cluster<a id=\"25-2\"></a>"
   ]
  },
  {
   "cell_type": "code",
   "execution_count": null,
   "id": "9db50610-d493-4f41-acbc-859503905ea0",
   "metadata": {},
   "outputs": [],
   "source": [
    "E11_5 <- readRDS(\"/home/host_home/tom/Kmita/6-kmita/RDataSessions/E11_5_GlobalAnnotation_SeuratObject.Rds\")"
   ]
  },
  {
   "cell_type": "code",
   "execution_count": null,
   "id": "8b1c7348-5491-4430-a303-9a636ee57262",
   "metadata": {},
   "outputs": [],
   "source": [
    "Idents(E11_5) <- E11_5@meta.data$CellType"
   ]
  },
  {
   "cell_type": "code",
   "execution_count": null,
   "id": "aff082d8-f94e-45eb-89ba-219a06dbed64",
   "metadata": {},
   "outputs": [],
   "source": [
    "sc_BE_E11_5 <- subset(E11_5, idents = c(\"Endothelium + erythrocytes\"))"
   ]
  },
  {
   "cell_type": "code",
   "execution_count": null,
   "id": "f54ae63a-d751-40e7-8eae-8ffca8836c23",
   "metadata": {},
   "outputs": [],
   "source": [
    "sc_BE_E11_5 <- NormalizeData(sc_BE_E11_5, verbose = FALSE)\n",
    "sc_BE_E11_5 <- FindVariableFeatures(sc_BE_E11_5, selection.method = \"vst\", nfeatures = 2000)\n",
    "\n",
    "# Identify the 10 most highly variable genes\n",
    "top10 <- head(VariableFeatures(sc_BE_E11_5), 10)"
   ]
  },
  {
   "cell_type": "code",
   "execution_count": null,
   "id": "64ceec11-7b68-4e95-99b6-a4fa69078c23",
   "metadata": {},
   "outputs": [],
   "source": [
    "sc_BE_E11_5 <- ScaleData(sc_BE_E11_5)"
   ]
  },
  {
   "cell_type": "code",
   "execution_count": null,
   "id": "9dcbfc54-3c97-4d25-a76a-af667aa19f01",
   "metadata": {},
   "outputs": [],
   "source": [
    "sc_BE_E11_5 <- RunPCA(sc_BE_E11_5, features = VariableFeatures(object = sc_BE_E11_5), verbose = FALSE)"
   ]
  },
  {
   "cell_type": "code",
   "execution_count": null,
   "id": "cf81f219-3ed8-430e-9af7-c91faaa5c814",
   "metadata": {},
   "outputs": [],
   "source": [
    "options(repr.plot.width = 9)\n",
    "\n",
    "DimPlot(sc_BE_E11_5, reduction = \"pca\", group.by = \"orig.ident\") + xlab(\"PC 1\") + ylab(\"PC 2\")"
   ]
  },
  {
   "cell_type": "code",
   "execution_count": null,
   "id": "65930d8e-82c9-4586-9323-687c48a12279",
   "metadata": {
    "tags": []
   },
   "outputs": [],
   "source": [
    "ElbowPlot(sc_BE_E11_5, 50)"
   ]
  },
  {
   "cell_type": "code",
   "execution_count": null,
   "id": "7b33c9ff-38a7-4df0-b0de-bfffaa5d9500",
   "metadata": {},
   "outputs": [],
   "source": [
    "sc_BE_E11_5 <- FindNeighbors(sc_BE_E11_5, dims = 1:22)\n",
    "sc_BE_E11_5 <- FindClusters(sc_BE_E11_5, resolution = 1)"
   ]
  },
  {
   "cell_type": "code",
   "execution_count": null,
   "id": "3baa66ce-9646-4b74-a88f-dd4cd87fa56c",
   "metadata": {
    "scrolled": true
   },
   "outputs": [],
   "source": [
    "sc_BE_E11_5 <- RunUMAP(sc_BE_E11_5, dims = 1:22, n.neighbors = 10, verbose = FALSE)"
   ]
  },
  {
   "cell_type": "code",
   "execution_count": null,
   "id": "29f905de-8826-4c2c-97e7-7f0dd310d6fd",
   "metadata": {},
   "outputs": [],
   "source": [
    "options(repr.plot.width=8)\n",
    "DimPlot(sc_BE_E11_5, reduction = \"umap\", label=TRUE, group.by = \"seurat_clusters\")"
   ]
  },
  {
   "cell_type": "code",
   "execution_count": null,
   "id": "11f0cf21-a723-469b-8623-7a9d3afb837c",
   "metadata": {
    "tags": []
   },
   "outputs": [],
   "source": [
    "df <- FindAllMarkers(sc_BE_E11_5)"
   ]
  },
  {
   "cell_type": "code",
   "execution_count": null,
   "id": "c2f91851-a25b-4263-894a-461137835121",
   "metadata": {},
   "outputs": [],
   "source": [
    "# find markers for every cluster compared to all remaining cells, report only the positive\n",
    "# ones\n",
    "#df %>%\n",
    "#    group_by(cluster) %>%\n",
    "#    slice_max(n = 10, order_by = avg_log2FC) "
   ]
  },
  {
   "cell_type": "code",
   "execution_count": null,
   "id": "a06afcee-f405-4f6d-bf5d-5b709e35de59",
   "metadata": {
    "tags": []
   },
   "outputs": [],
   "source": [
    "#select only cluster 0 and order avg_log2FC from big to small\n",
    "\n",
    "df[df$cluster == 1,] %>%\n",
    "slice_max(n = 10, order_by = avg_log2FC)"
   ]
  },
  {
   "cell_type": "code",
   "execution_count": null,
   "id": "7bb1b2be-98da-4565-bb97-e451a04b7830",
   "metadata": {},
   "outputs": [],
   "source": [
    "#df['Meis2',]"
   ]
  },
  {
   "cell_type": "markdown",
   "id": "ca9ff592-4e15-4623-8b3e-b7f42f49d480",
   "metadata": {},
   "source": [
    "Endothilium"
   ]
  },
  {
   "cell_type": "code",
   "execution_count": null,
   "id": "d8d4ba52-7464-4365-af01-8439e5395ba0",
   "metadata": {},
   "outputs": [],
   "source": [
    "options(repr.plot.width = 18, repr.plot.height = 12)\n",
    "\n",
    "p1 <- DimPlot(sc_BE_E11_5, label = TRUE) + NoLegend() + xlab(\"UMAP 1\") + ylab(\"UMAP 2\") \n",
    "p2 <- FeaturePlot(sc_BE_E11_5, c(\"Vcam1\", \"Cd34\", \"Cd93\", \"Cdh5\",\"Pecam1\"), min.cutoff = \"q1\") \n",
    "\n",
    "p1 + p2\n",
    "\n",
    "#ggsave(\"./6-kmita/images/E11_5_be_endo.png\" ,width=18, height=12)"
   ]
  },
  {
   "cell_type": "markdown",
   "id": "6bf4b7a7-b0c2-4c1c-adfc-27efe0235f2a",
   "metadata": {},
   "source": [
    "Erythrocytes"
   ]
  },
  {
   "cell_type": "code",
   "execution_count": null,
   "id": "d7fa0809-6407-46c4-b8f5-459a3ba533f6",
   "metadata": {},
   "outputs": [],
   "source": [
    "options(repr.plot.width = 16, repr.plot.height = 8)\n",
    "\n",
    "p1 <- DimPlot(sc_BE_E11_5, label = TRUE) + NoLegend() + xlab(\"UMAP 1\") + ylab(\"UMAP 2\")\n",
    "p2 <- FeaturePlot(sc_BE_E11_5, c(\"Cd235a\", \"Gypa\"), min.cutoff = \"q1\")\n",
    "\n",
    "\n",
    "p1 + p2\n",
    "#ggsave(\"./6-kmita/images/E11_5_be_rbc.png\" ,width=16, height=8)"
   ]
  },
  {
   "cell_type": "markdown",
   "id": "3f362f3c-52c2-4466-9987-0e31a778a3f8",
   "metadata": {},
   "source": [
    "Macrophages"
   ]
  },
  {
   "cell_type": "code",
   "execution_count": null,
   "id": "985727b4-d1d8-49d0-bd75-624601241134",
   "metadata": {},
   "outputs": [],
   "source": [
    "options(repr.plot.width = 16, repr.plot.height = 8)\n",
    "\n",
    "p1 <- DimPlot(sc_BE_E11_5, label = TRUE) + NoLegend() + xlab(\"UMAP 1\") + ylab(\"UMAP 2\")\n",
    "p2 <- FeaturePlot(sc_BE_E11_5, c(\"Cd3g\", \"Cd19\", \"Cd68\", \"Cxcr2\"), min.cutoff = \"q1\")\n",
    "\n",
    "\n",
    "p1 + p2\n",
    "#ggsave(\"./6-kmita/images/E11_5_be_mx.png\" ,width=16, height=8)"
   ]
  },
  {
   "cell_type": "markdown",
   "id": "c765a1a0-4d2b-4dac-827e-8f45dd73f1a4",
   "metadata": {},
   "source": [
    "Adding annotation"
   ]
  },
  {
   "cell_type": "code",
   "execution_count": null,
   "id": "000fe7a9-d8fb-44d6-a487-f34ce9390e3a",
   "metadata": {},
   "outputs": [],
   "source": [
    "sc_BE_E11_5@meta.data$CellType <- Idents(sc_BE_E11_5)"
   ]
  },
  {
   "cell_type": "code",
   "execution_count": null,
   "id": "83976218-a390-4724-8e59-79ab46687b33",
   "metadata": {},
   "outputs": [],
   "source": [
    "sc_BE_E11_5@meta.data$CellType <- as.character(sc_BE_E11_5@meta.data$CellType)\n",
    "\n",
    "sc_BE_E11_5@meta.data$CellType[sc_BE_E11_5@meta.data$CellType == '1'] <- 'Immune cells'\n",
    "sc_BE_E11_5@meta.data$CellType[sc_BE_E11_5@meta.data$CellType == '2'] <- 'Vascular endothelial cells'\n",
    "sc_BE_E11_5@meta.data$CellType[sc_BE_E11_5@meta.data$CellType == '0'] <- 'Erythroid cells'\n",
    "\n",
    "sc_BE_E11_5@meta.data$CellType <- as.factor(sc_BE_E11_5@meta.data$CellType)"
   ]
  },
  {
   "cell_type": "code",
   "execution_count": null,
   "id": "599d3167-4e2f-4137-b79c-041301422967",
   "metadata": {},
   "outputs": [],
   "source": [
    "options(repr.plot.width=8)\n",
    "DimPlot(sc_BE_E11_5, reduction = \"umap\", label=TRUE, group.by = \"CellType\")"
   ]
  },
  {
   "cell_type": "code",
   "execution_count": null,
   "id": "2a1e153d-39f2-4dae-b76c-237193c38a09",
   "metadata": {},
   "outputs": [],
   "source": [
    "saveRDS(sc_BE_E11_5, file = \"/home/host_home/tom/Kmita/6-kmita/RDataSessions/sc_BE_E11_5_annotated_SeuratObject.Rds\")"
   ]
  },
  {
   "cell_type": "markdown",
   "id": "bd3d6e03-420f-4d55-bd76-702ff7073b26",
   "metadata": {},
   "source": [
    "##### 4.4.2.3. Subsetting myocytes"
   ]
  },
  {
   "cell_type": "code",
   "execution_count": null,
   "id": "1218c753-c2c4-4926-9f37-3bdeee97db49",
   "metadata": {},
   "outputs": [],
   "source": [
    "E11_5 <- readRDS(\"/home/host_home/tom/Kmita/6-kmita/RDataSessions/E11_5_GlobalAnnotation_SeuratObject.Rds\")"
   ]
  },
  {
   "cell_type": "code",
   "execution_count": null,
   "id": "d1cff24b-7bcf-484e-8721-9f3c544a38da",
   "metadata": {},
   "outputs": [],
   "source": [
    "Idents(E11_5) <- E11_5@meta.data$CellType"
   ]
  },
  {
   "cell_type": "code",
   "execution_count": null,
   "id": "d8ea1929-bea6-432d-86f0-5e2528f42c65",
   "metadata": {},
   "outputs": [],
   "source": [
    "sc_myocytes_E11_5 <- subset(E11_5, idents = c(\"Myocytes\"))"
   ]
  },
  {
   "cell_type": "code",
   "execution_count": null,
   "id": "86865fe4-e3dc-480c-98f2-fc535bbb2744",
   "metadata": {},
   "outputs": [],
   "source": [
    "sc_myocytes_E11_5 <- NormalizeData(sc_myocytes_E11_5, verbose = FALSE)\n",
    "sc_myocytes_E11_5 <- FindVariableFeatures(sc_myocytes_E11_5, selection.method = \"vst\", nfeatures = 2000)\n",
    "\n",
    "# Identify the 10 most highly variable genes\n",
    "top10 <- head(VariableFeatures(sc_myocytes_E11_5), 10)"
   ]
  },
  {
   "cell_type": "code",
   "execution_count": null,
   "id": "ad34dece-1cc2-4208-9f28-7e4966d1a397",
   "metadata": {},
   "outputs": [],
   "source": [
    "sc_myocytes_E11_5 <- ScaleData(sc_myocytes_E11_5)"
   ]
  },
  {
   "cell_type": "code",
   "execution_count": null,
   "id": "0814257b-f988-4352-b017-e080ed3065b9",
   "metadata": {},
   "outputs": [],
   "source": [
    "sc_myocytes_E11_5 <- RunPCA(sc_myocytes_E11_5, features = VariableFeatures(object = sc_myocytes_E11_5), verbose = FALSE)"
   ]
  },
  {
   "cell_type": "code",
   "execution_count": null,
   "id": "4bfe1fa9-3595-43f8-978d-4e2fffa4867d",
   "metadata": {},
   "outputs": [],
   "source": [
    "options(repr.plot.width = 9)\n",
    "\n",
    "DimPlot(sc_myocytes_E11_5, reduction = \"pca\", group.by = \"orig.ident\") + xlab(\"PC 1\") + ylab(\"PC 2\")"
   ]
  },
  {
   "cell_type": "code",
   "execution_count": null,
   "id": "d6f76e2b-1987-4c5c-8ac5-777d1d8378f7",
   "metadata": {
    "tags": []
   },
   "outputs": [],
   "source": [
    "ElbowPlot(sc_myocytes_E11_5, 50)"
   ]
  },
  {
   "cell_type": "code",
   "execution_count": null,
   "id": "15830908-74dd-418d-9dee-6a7fbda594a5",
   "metadata": {},
   "outputs": [],
   "source": [
    "sc_myocytes_E11_5 <- FindNeighbors(sc_myocytes_E11_5, dims = 1:20)\n",
    "sc_myocytes_E11_5 <- FindClusters(sc_myocytes_E11_5, resolution = 1)"
   ]
  },
  {
   "cell_type": "code",
   "execution_count": null,
   "id": "9022b16e-6347-4837-9708-e10423ee2529",
   "metadata": {
    "scrolled": true
   },
   "outputs": [],
   "source": [
    "sc_myocytes_E11_5 <- RunUMAP(sc_myocytes_E11_5, dims = 1:20, n.neighbors = 10, verbose = FALSE)"
   ]
  },
  {
   "cell_type": "code",
   "execution_count": null,
   "id": "38f155e0-d701-4c26-be01-89a6b821d005",
   "metadata": {},
   "outputs": [],
   "source": [
    "options(repr.plot.width=8)\n",
    "DimPlot(sc_myocytes_E11_5, reduction = \"umap\", label=TRUE, group.by = \"seurat_clusters\")"
   ]
  },
  {
   "cell_type": "code",
   "execution_count": null,
   "id": "89e74cc9-3981-4227-8531-92e63d8b62ad",
   "metadata": {
    "tags": []
   },
   "outputs": [],
   "source": [
    "df <- FindAllMarkers(sc_BE_E11_5)"
   ]
  },
  {
   "cell_type": "code",
   "execution_count": null,
   "id": "d628971a-ecce-4a0d-9910-35556f4977e5",
   "metadata": {},
   "outputs": [],
   "source": [
    "# find markers for every cluster compared to all remaining cells, report only the positive\n",
    "# ones\n",
    "#df %>%\n",
    "#    group_by(cluster) %>%\n",
    "#    slice_max(n = 10, order_by = avg_log2FC) "
   ]
  },
  {
   "cell_type": "code",
   "execution_count": null,
   "id": "73174869-af7d-4d85-9ed6-c30cda5aff72",
   "metadata": {
    "tags": []
   },
   "outputs": [],
   "source": [
    "#select only cluster 0 and order avg_log2FC from big to small\n",
    "\n",
    "df[df$cluster == 1,] %>%\n",
    "slice_max(n = 10, order_by = avg_log2FC)"
   ]
  },
  {
   "cell_type": "code",
   "execution_count": null,
   "id": "a80ca6e9-36b4-4a65-9301-afb68aaa4d98",
   "metadata": {},
   "outputs": [],
   "source": [
    "#df['Meis2',]"
   ]
  },
  {
   "cell_type": "markdown",
   "id": "a1fa7cab-85e8-44e1-a6d1-3f6b0b994484",
   "metadata": {},
   "source": [
    "Muscle progenitors"
   ]
  },
  {
   "cell_type": "code",
   "execution_count": null,
   "id": "d5bc6c6d-b953-4952-bf4c-6eb154f6064a",
   "metadata": {},
   "outputs": [],
   "source": [
    "options(repr.plot.width = 18, repr.plot.height = 12)\n",
    "\n",
    "p1 <- DimPlot(sc_myocytes_E11_5, label = TRUE) + NoLegend() + xlab(\"UMAP 1\") + ylab(\"UMAP 2\") \n",
    "p2 <- FeaturePlot(sc_myocytes_E11_5, c(\"Pax7\", \"Notch\", \"Itm2a\", \"Myf5\", \"Pax3\", \"Myod1\"), min.cutoff = \"q1\") \n",
    "\n",
    "p1 + p2\n",
    "\n",
    "#ggsave(\"./6-kmita/images/E11_5_be_endo.png\" ,width=18, height=12)"
   ]
  },
  {
   "cell_type": "markdown",
   "id": "6194b503-b564-4240-b77c-a175b2591038",
   "metadata": {},
   "source": [
    "Myogenic stem cells"
   ]
  },
  {
   "cell_type": "code",
   "execution_count": null,
   "id": "d3d0122e-79fc-4a9b-ad76-73cf7c7fde82",
   "metadata": {},
   "outputs": [],
   "source": [
    "options(repr.plot.width = 16, repr.plot.height = 8)\n",
    "\n",
    "p1 <- DimPlot(sc_myocytes_E11_5, label = TRUE) + NoLegend() + xlab(\"UMAP 1\") + ylab(\"UMAP 2\")\n",
    "p2 <- FeaturePlot(sc_myocytes_E11_5, c(\"Pax7\",\"Myf5\"), min.cutoff = \"q1\")\n",
    "\n",
    "\n",
    "p1 + p2\n",
    "#ggsave(\"./6-kmita/images/E11_5_be_rbc.png\" ,width=16, height=8)"
   ]
  },
  {
   "cell_type": "markdown",
   "id": "bd6ec11d-0351-4ac6-99b1-0cd7cd613d8d",
   "metadata": {},
   "source": [
    "Adding annotation"
   ]
  },
  {
   "cell_type": "code",
   "execution_count": null,
   "id": "287dc4e0-b617-428c-9a75-9c28366b6ba7",
   "metadata": {},
   "outputs": [],
   "source": [
    "sc_myocytes_E11_5@meta.data$CellType <- Idents(sc_myocytes_E11_5)"
   ]
  },
  {
   "cell_type": "code",
   "execution_count": null,
   "id": "8fd627d2-9be9-4702-917c-f390ec6b7d42",
   "metadata": {
    "tags": []
   },
   "outputs": [],
   "source": [
    "sc_myocytes_E11_5@meta.data$CellType <- as.character(sc_myocytes_E11_5@meta.data$CellType)\n",
    "\n",
    "sc_myocytes_E11_5@meta.data$CellType[sc_myocytes_E11_5@meta.data$CellType == '2'] <- 'Muscle progenitors'\n",
    "\n",
    "sc_myocytes_E11_5@meta.data$CellType[sc_myocytes_E11_5@meta.data$CellType == '3'] <- 'Myogenic stem cells'\n",
    "sc_myocytes_E11_5@meta.data$CellType[sc_myocytes_E11_5@meta.data$CellType == '0'] <- 'Myogenic stem cells'\n",
    "sc_myocytes_E11_5@meta.data$CellType[sc_myocytes_E11_5@meta.data$CellType == '1'] <- 'Myogenic stem cells'\n",
    "\n",
    "sc_myocytes_E11_5@meta.data$CellType <- as.factor(sc_myocytes_E11_5@meta.data$CellType)"
   ]
  },
  {
   "cell_type": "code",
   "execution_count": null,
   "id": "0ce3e266-2f1a-435e-a754-708b7f4d3354",
   "metadata": {},
   "outputs": [],
   "source": [
    "options(repr.plot.width=8)\n",
    "DimPlot(sc_myocytes_E11_5, reduction = \"umap\", label=TRUE, group.by = \"CellType\")"
   ]
  },
  {
   "cell_type": "code",
   "execution_count": null,
   "id": "0961fae6-07e3-4595-8412-5e19597cf417",
   "metadata": {},
   "outputs": [],
   "source": [
    "saveRDS(sc_myocytes_E11_5, file = \"/home/host_home/tom/Kmita/6-kmita/RDataSessions/sc_myocytes_E11_5_annotated_SeuratObject.Rds\")"
   ]
  },
  {
   "cell_type": "markdown",
   "id": "01dbd9d5-4fa0-43cf-9e36-1defd96824d3",
   "metadata": {
    "tags": []
   },
   "source": [
    "#### 3.4.2. Updating annotations <a id=\"16\"></a>"
   ]
  },
  {
   "cell_type": "code",
   "execution_count": null,
   "id": "2cb3c447-dfbc-4523-9473-0c1dd408e51a",
   "metadata": {},
   "outputs": [],
   "source": [
    "E11_5 <- readRDS(\"/home/jovyan/researcher_home/tom/Kmita/6-kmita/RDataSessions/E11_5_GlobalAnnotation_SeuratObject.Rds\")"
   ]
  },
  {
   "cell_type": "code",
   "execution_count": null,
   "id": "5d8a1d2a-22e3-4b74-933f-47010d04e26d",
   "metadata": {},
   "outputs": [],
   "source": [
    "sc_mesenchymal_E11_5 <- readRDS(file = \"/home/jovyan/researcher_home/tom/Kmita/6-kmita/RDataSessions/sc_mesenchymal_E11_5_clustered_SeuratObject.Rds\")"
   ]
  },
  {
   "cell_type": "code",
   "execution_count": null,
   "id": "527ae0dc-c479-4de1-9b01-995622164b27",
   "metadata": {},
   "outputs": [],
   "source": [
    "sc_ectoderm_E11_5 <- readRDS(file = \"/home/jovyan/researcher_home/tom/Kmita/6-kmita/RDataSessions/sc_ectoderm_E11_5_annotated_SeuratObject.Rds\")"
   ]
  },
  {
   "cell_type": "code",
   "execution_count": null,
   "id": "7a4bfccb-7b75-4159-88f4-eb84c6c2925c",
   "metadata": {},
   "outputs": [],
   "source": [
    "sc_BE_E11_5 <- readRDS(file = \"/home/jovyan/researcher_home/tom/Kmita/6-kmita/RDataSessions/sc_BE_E11_5_annotated_SeuratObject.Rds\")"
   ]
  },
  {
   "cell_type": "code",
   "execution_count": null,
   "id": "24c2f478-c988-4759-9a8b-3abbd320a530",
   "metadata": {},
   "outputs": [],
   "source": [
    "sc_myocytes_E11_5 <- readRDS(file = \"/home/jovyan/researcher_home/tom/Kmita/6-kmita/RDataSessions/sc_myocytes_E11_5_annotated_SeuratObject.Rds\")"
   ]
  },
  {
   "cell_type": "code",
   "execution_count": null,
   "id": "d9c3004d-c401-43a7-96fe-1a6cb4c1f1ed",
   "metadata": {},
   "outputs": [],
   "source": [
    "meta1 <- E11_5@meta.data\n",
    "meta2 <- sc_mesenchymal_E11_5@meta.data"
   ]
  },
  {
   "cell_type": "code",
   "execution_count": null,
   "id": "91dbe518-a437-4fd9-9721-e65f2c7aa038",
   "metadata": {},
   "outputs": [],
   "source": [
    "df <- split(meta1, meta1$CellType)"
   ]
  },
  {
   "cell_type": "code",
   "execution_count": null,
   "id": "6ab25f79-9655-4406-b780-ae807999bafd",
   "metadata": {},
   "outputs": [],
   "source": [
    "mesenchyme <- rownames(df$Mesenchyme)"
   ]
  },
  {
   "cell_type": "code",
   "execution_count": null,
   "id": "8e1db360-9b70-4951-9c37-d980de47a864",
   "metadata": {},
   "outputs": [],
   "source": [
    "mesenchyme_meta <- meta2[mesenchyme, c(\"CellType\", \"orig.ident\")]\n",
    "mesenchyme_meta$orig.ident <- NULL\n",
    "\n",
    "head(mesenchyme_meta)"
   ]
  },
  {
   "cell_type": "code",
   "execution_count": null,
   "id": "bf5bd029-3954-4caf-bc6c-ac56e5c247bb",
   "metadata": {},
   "outputs": [],
   "source": [
    "df$Mesenchyme <- cbind(df$Mesenchyme, mesenchyme_meta)\n",
    "#df$mesenchyme$CellType <- df$mesenchyme$CellType\n",
    "#df$mesenchyme$labels_mesenchyme_E11_5 <- NULL"
   ]
  },
  {
   "cell_type": "code",
   "execution_count": null,
   "id": "6527402a-a23c-44ed-bfa1-a2c28416d352",
   "metadata": {},
   "outputs": [],
   "source": [
    "str(df)"
   ]
  },
  {
   "cell_type": "code",
   "execution_count": null,
   "id": "cee94893-77c9-4a38-abfe-78d8356bdf76",
   "metadata": {},
   "outputs": [],
   "source": [
    "ectoderm <- rownames(df$Ectoderm)"
   ]
  },
  {
   "cell_type": "code",
   "execution_count": null,
   "id": "c2be8b1b-178a-4a09-bc02-b5d65bc85456",
   "metadata": {},
   "outputs": [],
   "source": [
    "meta2 <- sc_ectoderm_E11_5@meta.data\n",
    "ectoderm_meta <- meta2[ectoderm, c(\"CellType\", \"orig.ident\")]\n",
    "ectoderm_meta$orig.ident <- NULL\n",
    "\n",
    "head(ectoderm_meta)"
   ]
  },
  {
   "cell_type": "code",
   "execution_count": null,
   "id": "f0d7b10c-fe5f-41cb-9949-5d889694dc04",
   "metadata": {},
   "outputs": [],
   "source": [
    "df$Ectoderm <- cbind(df$Ectoderm, ectoderm_meta)"
   ]
  },
  {
   "cell_type": "code",
   "execution_count": null,
   "id": "f9575f89-1037-40b9-9733-be41d19a761e",
   "metadata": {},
   "outputs": [],
   "source": [
    "BE <- rownames(df$`Endothelium + erythrocytes`)"
   ]
  },
  {
   "cell_type": "code",
   "execution_count": null,
   "id": "ccc6edb6-8c25-4afe-98b9-eee1b89eae5b",
   "metadata": {},
   "outputs": [],
   "source": [
    "meta2 <- sc_BE_E11_5@meta.data\n",
    "BE_meta <- meta2[BE, c(\"CellType\", \"orig.ident\")]\n",
    "BE_meta$orig.ident <- NULL\n",
    "\n",
    "head(BE_meta)"
   ]
  },
  {
   "cell_type": "code",
   "execution_count": null,
   "id": "6f70ff92-fa4f-4239-9ac6-8e4e4058dec6",
   "metadata": {},
   "outputs": [],
   "source": [
    "df$`Endothelium + erythrocytes` <- cbind(df$'Endothelium + erythrocytes', BE_meta)"
   ]
  },
  {
   "cell_type": "code",
   "execution_count": null,
   "id": "7b922848-10fc-4eeb-9d80-5f53653c34be",
   "metadata": {},
   "outputs": [],
   "source": [
    "myocytes <- rownames(df$Myocytes)"
   ]
  },
  {
   "cell_type": "code",
   "execution_count": null,
   "id": "9521b239-d9a8-4be4-bf16-57248db66b1b",
   "metadata": {},
   "outputs": [],
   "source": [
    "meta2 <- sc_myocytes_E11_5@meta.data\n",
    "myocytes_meta <- meta2[myocytes, c(\"CellType\", \"orig.ident\")]\n",
    "myocytes_meta$orig.ident <- NULL\n",
    "\n",
    "head(myocytes_meta)"
   ]
  },
  {
   "cell_type": "code",
   "execution_count": null,
   "id": "121be3da-ee02-41d7-bcf9-9c2c8f417ea9",
   "metadata": {},
   "outputs": [],
   "source": [
    "df$Myocytes <- cbind(df$Myocytes, myocytes_meta)"
   ]
  },
  {
   "cell_type": "code",
   "execution_count": null,
   "id": "b1d9f6c7-ea06-43be-a42a-98411d12d0b7",
   "metadata": {},
   "outputs": [],
   "source": [
    "df$Mesenchyme$Barcode = rownames(df$Mesenchyme)\n",
    "df$Ectoderm$Barcode = rownames(df$Ectoderm)\n",
    "df$`Endothelium + erythrocytes`$Barcode = rownames(df$`Endothelium + erythrocytes`)\n",
    "df$Myocytes$Barcode = rownames(df$Myocytes)"
   ]
  },
  {
   "cell_type": "markdown",
   "id": "7b681e8b-bc64-4ca7-92c8-94daaf3625b1",
   "metadata": {},
   "source": [
    "**Make sure all dataframes in the list have the same number of columns, in the same order.**"
   ]
  },
  {
   "cell_type": "code",
   "execution_count": null,
   "id": "331f49ac-ae3e-4623-acdd-f822cb947d26",
   "metadata": {
    "scrolled": true
   },
   "outputs": [],
   "source": [
    "str(df)"
   ]
  },
  {
   "cell_type": "code",
   "execution_count": null,
   "id": "cd51265f-6800-4aee-9777-9fc0edf1ac82",
   "metadata": {},
   "outputs": [],
   "source": [
    "names(df)"
   ]
  },
  {
   "cell_type": "code",
   "execution_count": null,
   "id": "8a55eb3e-c5ac-4ded-87de-7b9c268e2607",
   "metadata": {},
   "outputs": [],
   "source": [
    "meta.data <- do.call(rbind, df)\n",
    "rownames(meta.data) = meta.data$Barcode\n",
    "meta.data$Barcode <- NULL"
   ]
  },
  {
   "cell_type": "code",
   "execution_count": null,
   "id": "12d03153-1272-4d74-a9d6-b4919aeeb8ef",
   "metadata": {},
   "outputs": [],
   "source": [
    "head(meta.data)"
   ]
  },
  {
   "cell_type": "code",
   "execution_count": null,
   "id": "b0404258-6021-44eb-9886-ebcd53a1496b",
   "metadata": {},
   "outputs": [],
   "source": [
    "dim(E11_5@meta.data)\n",
    "dim(meta.data)"
   ]
  },
  {
   "cell_type": "code",
   "execution_count": null,
   "id": "69ce1f93-708e-4ed2-b77d-0e4056541eb1",
   "metadata": {},
   "outputs": [],
   "source": [
    "meta.data$CellType <- NULL"
   ]
  },
  {
   "cell_type": "code",
   "execution_count": null,
   "id": "0dafbcad-9d03-4670-874d-0ff3c15d9c6c",
   "metadata": {},
   "outputs": [],
   "source": [
    "dim(E11_5@meta.data)\n",
    "dim(meta.data)"
   ]
  },
  {
   "cell_type": "code",
   "execution_count": null,
   "id": "06d11ea4-0eb1-4179-9943-aa97b0572496",
   "metadata": {},
   "outputs": [],
   "source": [
    "target <- rownames(E11_5@meta.data)\n",
    "meta.data <- meta.data[match(target, rownames(meta.data)),]"
   ]
  },
  {
   "cell_type": "code",
   "execution_count": null,
   "id": "d5a6c63d-c33f-4f71-9858-fb5804b26f9e",
   "metadata": {},
   "outputs": [],
   "source": [
    "E11_5@meta.data = meta.data"
   ]
  },
  {
   "cell_type": "markdown",
   "id": "76310849-d728-423e-a482-40b58f860b58",
   "metadata": {
    "tags": []
   },
   "source": [
    "#### 5.4.3. Finalized embedding and annotation<a id=\"37\"></a>"
   ]
  },
  {
   "cell_type": "code",
   "execution_count": null,
   "id": "5b8b008c-a1ad-4556-8394-18a19d00e412",
   "metadata": {},
   "outputs": [],
   "source": [
    "options(repr.plot.width=10)\n",
    "DimPlot(E11_5, group.by = \"CellType\", label = FALSE, repel = TRUE) + xlab(\"UMAP 1\") + ylab(\"UMAP 2\")\n",
    "\n",
    "#ggsave(\"./6-kmita/images/E11_5_a.png\" ,width=10, height=8)"
   ]
  },
  {
   "cell_type": "code",
   "execution_count": null,
   "id": "ca68d600-e995-47a7-9aa5-c20a9adfb2cb",
   "metadata": {},
   "outputs": [],
   "source": [
    "Idents(E11_5) <- E11_5$CellType"
   ]
  },
  {
   "cell_type": "code",
   "execution_count": null,
   "id": "47588a96-f6e6-4129-a743-3ae0c3d6d576",
   "metadata": {},
   "outputs": [],
   "source": [
    "saveRDS(E11_5, file = \"/home/jovyan/researcher_home/tom/Kmita/6-kmita/RDataSessions/E11_5_seuratObject_annotation.Rds\")"
   ]
  },
  {
   "cell_type": "code",
   "execution_count": null,
   "id": "b1ca0416-3c6e-40b7-8e36-2e095c114d18",
   "metadata": {},
   "outputs": [],
   "source": [
    "E11_5"
   ]
  },
  {
   "cell_type": "code",
   "execution_count": null,
   "id": "487eba94-090e-420e-b0a4-fa482d1f14b2",
   "metadata": {},
   "outputs": [],
   "source": []
  }
 ],
 "metadata": {
  "kernelspec": {
   "display_name": "R [conda env:base] *",
   "language": "R",
   "name": "conda-base-r"
  },
  "language_info": {
   "codemirror_mode": "r",
   "file_extension": ".r",
   "mimetype": "text/x-r-source",
   "name": "R",
   "pygments_lexer": "r",
   "version": "4.3.2"
  }
 },
 "nbformat": 4,
 "nbformat_minor": 5
}
