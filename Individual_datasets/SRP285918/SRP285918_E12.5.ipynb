{
 "cells": [
  {
   "cell_type": "markdown",
   "id": "f89a7c5e-fdaf-4c8c-abaa-acc7b997d948",
   "metadata": {
    "tags": []
   },
   "source": [
    "# Transcriptional trajectories in mouse limb buds reveal the transition from anterior-posterior to proximal-distal patterning at early limb bud stage.\n",
    "Desanlis I, Paul R, Kmita M. J Dev Biol. 2020;8(4):1–16. \n",
    " \n",
    " PMID: [7768367](http://www.ncbi.nlm.nih.gov/pmc/articles/pmc7768367/)\n",
    " ***\n",
    " "
   ]
  },
  {
   "cell_type": "markdown",
   "id": "30228223-4810-498f-b4b8-afdc7e6544df",
   "metadata": {},
   "source": [
    "## 0. Setting up workenvironment<a id=\"0\"></a>"
   ]
  },
  {
   "cell_type": "code",
   "execution_count": null,
   "id": "ffb1cc50-f554-43a6-990f-a41414ab6fee",
   "metadata": {},
   "outputs": [],
   "source": [
    "suppressPackageStartupMessages({\n",
    "    library(DropletUtils)\n",
    "    library(SingleCellExperiment)\n",
    "    library(scuttle)\n",
    "    library(Seurat)\n",
    "    library(SeuratWrappers)\n",
    "    library(stringr)\n",
    "    library(dplyr)\n",
    "    library(data.table)\n",
    "    library(Matrix)\n",
    "    library(patchwork)\n",
    "    library(ggplot2)\n",
    "})\n",
    "\n",
    "options(repr.plot.width = 16, repr.plot.height = 8)"
   ]
  },
  {
   "cell_type": "markdown",
   "id": "d66cb099-76b3-4c0e-855a-abf8494d1014",
   "metadata": {},
   "source": [
    "## 5. E12.5<a id=\"28\"></a>"
   ]
  },
  {
   "cell_type": "markdown",
   "id": "f2f6f1c9-5138-4e91-97df-ee7715807ab5",
   "metadata": {},
   "source": [
    "### 5.1. Data analysis in Seurat<a id=\"29\"></a>"
   ]
  },
  {
   "cell_type": "code",
   "execution_count": null,
   "id": "fbc6db3f-af49-4e97-a633-9a62f84a5f70",
   "metadata": {},
   "outputs": [],
   "source": [
    "E12_5 <- readRDS(file = \"/home/host_home/tom/Kmita/6-kmita/RDS_QC/E12_5.Rds\")"
   ]
  },
  {
   "cell_type": "code",
   "execution_count": null,
   "id": "fa5f272e-36bc-418e-adf1-571a841c7799",
   "metadata": {},
   "outputs": [],
   "source": [
    "VlnPlot(E12_5, features = c(\"nCount_RNA\", \"nFeature_RNA\", \"subsets_Mito_percent\"), \n",
    "        ncol = 3, group.by = \"orig.ident\", pt.size = 0)"
   ]
  },
  {
   "cell_type": "markdown",
   "id": "617f1d16-9ca0-4fb8-9d6b-1b5055b5c45e",
   "metadata": {},
   "source": [
    "#### 5.1.1. Feature selection\n",
    "\n",
    "We next calculate a subset of features that exhibit high cell-to-cell variation in the dataset (i.e, they are highly expressed in some cells, and lowly expressed in others). We and others have found that focusing on these genes in downstream analysis helps to highlight biological signal in single-cell datasets.\n",
    "\n",
    "The procedure in Seurat v3 directly models the mean-variance relationship inherent in single-cell data, and is implemented in the `FindVariableFeatures` function. By default, it defaults to 2,000 features (genes) per dataset. These will be used in downstream analysis, like principal component analysis (PCA)."
   ]
  },
  {
   "cell_type": "code",
   "execution_count": null,
   "id": "801c2817-2396-46e5-a041-436ada4d4db4",
   "metadata": {},
   "outputs": [],
   "source": [
    "E12_5 <- NormalizeData(E12_5, verbose = FALSE)\n",
    "E12_5 <- FindVariableFeatures(E12_5, selection.method = \"vst\", nfeatures = 2000)\n",
    "\n",
    "# Identify the 10 most highly variable genes\n",
    "top10 <- head(VariableFeatures(E12_5), 10)"
   ]
  },
  {
   "cell_type": "code",
   "execution_count": null,
   "id": "9f62087c-74e7-40e9-9ca9-b72856ac0868",
   "metadata": {},
   "outputs": [],
   "source": [
    "options(repr.plot.width=10)\n",
    "\n",
    "# plot variable features with and without labels\n",
    "plot1 <- VariableFeaturePlot(E12_5)\n",
    "plot2 <- LabelPoints(plot = plot1, points = top10, repel = TRUE)\n",
    "plot2"
   ]
  },
  {
   "cell_type": "markdown",
   "id": "a84bb40e-3280-4ba6-9f63-f27e1100f8a7",
   "metadata": {},
   "source": [
    "#### 5.1.2. Scaling the data"
   ]
  },
  {
   "cell_type": "markdown",
   "id": "44d7fe29-d2fb-4556-839f-5febce471180",
   "metadata": {},
   "source": [
    "Next, we apply a linear transformation (scaling) that is a standard pre-processing step prior to dimensional reduction techniques like PCA. The ScaleData function:\n",
    "\n",
    "- Shifts the expression of each gene, so that the mean expression across cells is 0\n",
    "- Scales the expression of each gene, so that the variance across cells is 1\n",
    "- This step gives equal weight in downstream analyses, so that highly-expressed genes do not dominate. This is superior to log-normalized counts, which overemphasize the influence of small count fluctuations.\n",
    "- The results of this are stored in `object[[\"originalexp\"]]@scale.data`"
   ]
  },
  {
   "cell_type": "code",
   "execution_count": null,
   "id": "21f11207-f8a7-421c-912b-b990515edf31",
   "metadata": {},
   "outputs": [],
   "source": [
    "all.genes <- rownames(E12_5)\n",
    "E12_5 <- ScaleData(E12_5, features = all.genes)"
   ]
  },
  {
   "cell_type": "markdown",
   "id": "3c13e685-cabc-4d09-a4d7-322be193014b",
   "metadata": {},
   "source": [
    "#### 5.1.3 Linear dimensionality reduction: PCA"
   ]
  },
  {
   "cell_type": "markdown",
   "id": "5a8ef4cc-1aa1-4c02-8476-1c1d50c8ca27",
   "metadata": {},
   "source": [
    "Next we perform PCA on the scaled data. By default, only the previously determined variable features are used as input, but can be defined using features argument if you wish to choose a different subset."
   ]
  },
  {
   "cell_type": "code",
   "execution_count": null,
   "id": "4c737322-06e3-45c7-a662-9c28adc5b47c",
   "metadata": {},
   "outputs": [],
   "source": [
    "E12_5 <- RunPCA(E12_5, features = VariableFeatures(object = E12_5), verbose = FALSE)"
   ]
  },
  {
   "cell_type": "code",
   "execution_count": null,
   "id": "a87ce985-2c2e-4538-9b5f-80bce26116d9",
   "metadata": {},
   "outputs": [],
   "source": [
    "DimPlot(E12_5, reduction = \"pca\", group.by = \"Sample_Name\") + xlab(\"PC 1\") + ylab(\"PC 2\")"
   ]
  },
  {
   "cell_type": "markdown",
   "id": "621b9615-cad3-4671-81ad-dc7fd50bf6a7",
   "metadata": {},
   "source": [
    "#### 5.1.3. Determine dimensionality\n",
    "\n",
    "To overcome the extensive technical noise in any single feature for scRNA-seq data, Seurat clusters cells based on their PCA scores, with each PC essentially representing a 'metafeature' that combines information across a correlated feature set. The top principal components therefore represent a robust compression of the dataset. However, how many componenets should we choose to include? \n",
    "\n",
    "[Macosko et al](http://www.cell.com/abstract/S0092-8674(15)00549-8) introduced a resampling test inspired by the JackStraw procedure. They randomly permute a subset of the data (1% by default) and rerun PCA, constructing a 'null distribution' of feature scores, and repeat this procedure. 'Significant' PCs are defined as those who have a strong enrichment of low p-value features.\n",
    "\n",
    "**NOTE: This process can take a long time for big datasets, and is therefore commented out for expediency. More approximate techniques such as a scree plot implemented in `ElbowPlot()` can be used to reduce computation time.**\n",
    "\n",
    "The `JackStrawPlot` function provides a visualization tool for comparing the distribution of p-values for each PC with a uniform distribution (dashed line). 'Significant' PCs will show a strong enrichment of features with low p-values (solid curve above the dashed line)."
   ]
  },
  {
   "cell_type": "code",
   "execution_count": null,
   "id": "53919cc4-a594-4b2d-aa95-f8883f541c82",
   "metadata": {},
   "outputs": [],
   "source": [
    "# object <- JackStraw(object, num.replicate = 100)\n",
    "# object <- ScoreJackStraw(object, dims = 1:20)"
   ]
  },
  {
   "cell_type": "code",
   "execution_count": null,
   "id": "b8588fce-ef9f-41b1-b4fd-26f75296ca02",
   "metadata": {},
   "outputs": [],
   "source": [
    "# JackStrawPlot(object, dims = 1:15)"
   ]
  },
  {
   "cell_type": "markdown",
   "id": "216f913f-fe54-4dfd-90d4-930a6a8182f7",
   "metadata": {},
   "source": [
    "An alternative heuristic method generates an 'Elbow plot': a ranking of principle components based on the percentage of variance explained by each one (ElbowPlot function). "
   ]
  },
  {
   "cell_type": "code",
   "execution_count": null,
   "id": "96b01754-89b3-4c2e-9039-e254704d6491",
   "metadata": {},
   "outputs": [],
   "source": [
    "ElbowPlot(E12_5, 50)"
   ]
  },
  {
   "cell_type": "markdown",
   "id": "486701c5-102f-40aa-8c10-70f454bd55a6",
   "metadata": {
    "tags": []
   },
   "source": [
    "### 5.2. Clustering<a id=\"30\"></a>\n",
    "\n",
    "Seurat v4 applies a graph-based clustering approach, building upon initial strategies in [Macosko et al](http://www.cell.com/abstract/S0092-8674(15)00549-8). Importantly, the distance metric which drives the clustering analysis (based on previously identified PCs) remains the same. The new method embeds cells in a graph structure - for example a K-nearest neighbor (KNN) graph, with edges drawn between cells with similar feature expression patterns, and then attempt to partition this graph into highly interconnected 'quasi-cliques' or 'communities'.\n",
    "\n",
    "As in [PhenoGraph](https://doi.org/10.1016/j.cell.2015.05.047), Seurat first constructs a KNN graph based on the euclidean distance in PCA space, and refine the edge weights between any two cells based on the shared overlap in their local neighborhoods (Jaccard similarity). This step is performed using the `FindNeighbors` function, and takes as input the previously defined dimensionality of the dataset.\n",
    "\n",
    "To cluster the cells, modularity optimization techniques such as the Louvain algorithm are then applied to iteratively group cells together, with the goal of optimizing the standard modularity function. The `FindClusters` function implements this procedure and contains a resolution parameter that sets the 'granularity' of the downstream clustering, with increased values leading to a greater number of clusters. Optimal resolution often increases for larger datasets."
   ]
  },
  {
   "cell_type": "code",
   "execution_count": null,
   "id": "4a4ffe6f-d83c-490c-9558-b829e8b102ea",
   "metadata": {
    "tags": []
   },
   "outputs": [],
   "source": [
    "E12_5 <- FindNeighbors(E12_5, dims = 1:40)\n",
    "E12_5 <- FindClusters(E12_5, resolution = 0.15)"
   ]
  },
  {
   "cell_type": "markdown",
   "id": "5848a3a7-96ba-4860-bec2-8510260c9097",
   "metadata": {},
   "source": [
    "### 5.3. Non-linear dimensionality reduction: UMAP<a id=\"31\"></a>\n",
    "\n",
    "Seurat offers several non-linear dimensional reduction techniques, such as tSNE and UMAP, to visualize and explore these datasets. The goal of these algorithms is to learn the underlying manifold of the data in order to place similar cells together in low-dimensional space. Cells within the graph-based clusters determined above should co-localize on these dimension reduction plots. As input to the UMAP and tSNE, [it is recommended to use the same PCs](https://doi.org/10.1038/s41467-019-13056-x) as input to the clustering analysis."
   ]
  },
  {
   "cell_type": "code",
   "execution_count": null,
   "id": "0fae2038-1b8c-4bd4-a8c5-2170c4e521e9",
   "metadata": {
    "scrolled": true,
    "tags": []
   },
   "outputs": [],
   "source": [
    "E12_5 <- RunUMAP(E12_5, dims = 1:40, n.neighbors = 12, verbose = FALSE)"
   ]
  },
  {
   "cell_type": "code",
   "execution_count": null,
   "id": "176e78eb-f56d-47ec-9d68-12623d39b81f",
   "metadata": {
    "tags": []
   },
   "outputs": [],
   "source": [
    "options(repr.plot.width = 8)\n",
    "\n",
    "DimPlot(E12_5, reduction = \"umap\", label = TRUE) + xlab(\"UMAP 1\") + ylab(\"UMAP 2\")\n",
    "\n",
    "#ggsave(\"./6-kmita/images/E12_5_na.png\" ,width=10, height=8)"
   ]
  },
  {
   "cell_type": "markdown",
   "id": "efd2fd54-ac08-4661-a12a-bbae0539ac02",
   "metadata": {
    "tags": []
   },
   "source": [
    "### 5.4. Differential expression analysis<a id=\"32\"></a>\n",
    "#### 5.5.1. Global annotation by differential expression analysis<a id=\"33\"></a>\n",
    "\n",
    "Seurat identifies markers that define clusters via differential expression. By default, it identifes positive and negative markers of a single cluster (specified in ident.1), compared to all other cells. `FindAllMarkers` automates this process for all clusters, but it is possible to test groups of clusters vs. each other, or against all cells.\n",
    "\n",
    "The `min.pct` argument requires a feature to be detected at a minimum percentage in either of the two groups of cells, and the `thresh.test` argument requires a feature to be differentially expressed (on average) by some amount between the two groups. You can set both of these to 0, but with a dramatic increase in time - since this will test a large number of features that are unlikely to be highly discriminatory. As another option to speed up these computations, `max.cells.per.ident` can be set. This will downsample each identity class to have no more cells than whatever this is set to. While there is generally going to be a loss in power, the speed increases can be significiant and the most highly differentially expressed features will likely still rise to the top."
   ]
  },
  {
   "cell_type": "code",
   "execution_count": null,
   "id": "048d39db-79d3-4db4-8813-d7014bf1d7cf",
   "metadata": {},
   "outputs": [],
   "source": [
    "# Seurat default settings\n",
    "E12.5.markers <- FindAllMarkers(E12_5, only.pos = TRUE, min.pct = 0.25, logfc.threshold = 0.25)"
   ]
  },
  {
   "cell_type": "code",
   "execution_count": null,
   "id": "b850f0db-ed29-4bd8-b76b-9dd4362f8d10",
   "metadata": {},
   "outputs": [],
   "source": [
    "#dir.create(\"./6-kmita/analysis\")\n",
    "write.csv(E12.5.markers, file = \"/home/host_home/usb-drive/Thesis/Kmita/6-kmita/analysis/E12.5.markers.csv\", quote = FALSE)"
   ]
  },
  {
   "cell_type": "markdown",
   "id": "3723b9af-d6b4-4d3d-b616-c2717bbf941e",
   "metadata": {},
   "source": [
    "Cluster 0 + 1 + 2 + 3 + 4: mesenchymal cells "
   ]
  },
  {
   "cell_type": "code",
   "execution_count": null,
   "id": "4d25f511-284a-40f0-a242-196718a96635",
   "metadata": {},
   "outputs": [],
   "source": [
    "options(repr.plot.width = 18, repr.plot.height = 12)\n",
    "\n",
    "p1 <- DimPlot(E12_5, label = TRUE) + NoLegend() + xlab(\"UMAP 1\") + ylab(\"UMAP 2\")\n",
    "p2 <- FeaturePlot(E12_5, c(\"Mecom\", \"Prrx1\", \"Tbx5\", \"Prrx2\", \"Shox2\", \"Hoxd9\"), min.cutoff = \"q1\")  \n",
    "\n",
    "p1 + p2\n",
    "\n",
    "#ggsave(\"./6-kmita/images/E12_5_c01234.png\" ,width=18, height=8)"
   ]
  },
  {
   "cell_type": "markdown",
   "id": "763d8146-9b06-4835-b484-4c0cfd4aac30",
   "metadata": {},
   "source": [
    "Cluster 5: ectoderm"
   ]
  },
  {
   "cell_type": "code",
   "execution_count": null,
   "id": "4796ba21-68c3-4d0b-9fee-749df589ef0b",
   "metadata": {},
   "outputs": [],
   "source": [
    "options(repr.plot.width = 16, repr.plot.height = 8)\n",
    "\n",
    "p1 <- DimPlot(E12_5, label = FALSE) + NoLegend() + xlab(\"UMAP 1\") + ylab(\"UMAP 2\")\n",
    "p2 <- FeaturePlot(E12_5, c(\"Wnt3\", \"Fgf8\", \"En1\", \"Wnt7a\"), min.cutoff = \"q1\") \n",
    "\n",
    "p1 + p2\n",
    "#ggsave(\"./6-kmita/images/E12_5_c5.png\" ,width=16, height=8)"
   ]
  },
  {
   "cell_type": "markdown",
   "id": "965de5dd-02a8-4840-867d-8fdb5d118553",
   "metadata": {},
   "source": [
    "Cluster 6: muscle cells"
   ]
  },
  {
   "cell_type": "code",
   "execution_count": null,
   "id": "b9ec8d29-747d-4ee4-9563-197c17d3e82c",
   "metadata": {},
   "outputs": [],
   "source": [
    "options(repr.plot.width = 16)\n",
    "\n",
    "p1 <- DimPlot(E12_5, label = TRUE) + NoLegend() + xlab(\"UMAP 1\") + ylab(\"UMAP 2\")\n",
    "p2 <- FeaturePlot(E12_5, c(\"Pax3\", \"Lbx1\", \"Myf5\", \"Met\"), min.cutoff = \"q1\") + xlab(\"UMAP 1\") + ylab(\"UMAP 2\")\n",
    "\n",
    "p1 + p2\n",
    "#ggsave(\"./6-kmita/images/E12_5_c6.png\" ,width=16, height=8)\n",
    "\n",
    "#find better markers"
   ]
  },
  {
   "cell_type": "markdown",
   "id": "a4b52f12-e491-4cb5-ac87-5504225887a4",
   "metadata": {},
   "source": [
    "Cluster 7: endothelial cells  + bloodcells + ?"
   ]
  },
  {
   "cell_type": "code",
   "execution_count": null,
   "id": "c8e9a734-5419-40c2-9dbb-03c5b7d3ae24",
   "metadata": {},
   "outputs": [],
   "source": [
    "p1 <- DimPlot(E12_5, label = TRUE) + NoLegend() + xlab(\"UMAP 1\") + ylab(\"UMAP 2\")\n",
    "p2 <- FeaturePlot(E12_5, c(\"Pecam1\", \"Cd34\", \"Cd93\", \"Cdh5\"), min.cutoff = \"q1\") \n",
    "\n",
    "p1 + p2\n",
    "\n",
    "#ggsave(\"./6-kmita/images/E12_5_c7-1.png\" ,width=16, height=8)\n",
    "\n",
    "p3 <- DimPlot(E12_5, label = TRUE) + NoLegend() + xlab(\"UMAP 1\") + ylab(\"UMAP 2\")\n",
    "p4 <- FeaturePlot(E12_5, c(\"Hbb-y\", \"Hba-x\", \"Hba-a1\", \"Hbb-bt\"), min.cutoff = \"q1\") + xlab(\"UMAP 1\") + ylab(\"UMAP 2\")\n",
    "\n",
    "p3 + p4\n",
    "\n",
    "options(repr.plot.width = 16)\n",
    "#ggsave(\"./6-kmita/images/E12_5_c7-2.png\" ,width=16, height=8)"
   ]
  },
  {
   "cell_type": "markdown",
   "id": "0ccbbb44-1482-4c06-84dd-b04e233ec9d5",
   "metadata": {},
   "source": [
    "Cluster 8: Neural cells "
   ]
  },
  {
   "cell_type": "code",
   "execution_count": null,
   "id": "db6e9dd9-ab80-48c7-a7ff-76a5f927ad27",
   "metadata": {},
   "outputs": [],
   "source": [
    "p1 <- DimPlot(E12_5, label = TRUE) + NoLegend() + xlab(\"UMAP 1\") + ylab(\"UMAP 2\")\n",
    "p2 <- FeaturePlot(E12_5, c(\"Nefl\", \"Mapt\"), min.cutoff = \"q1\") + xlab(\"UMAP 1\") + ylab(\"UMAP 2\")\n",
    "\n",
    "p1 + p2\n",
    "\n",
    "options(repr.plot.width = 16)\n",
    "#ggsave(\"./6-kmita/images/E12_5_c8.png\" ,width=16, height=8)"
   ]
  },
  {
   "cell_type": "markdown",
   "id": "1e0ac519-e499-42c6-bdd2-7462a3dd4647",
   "metadata": {},
   "source": [
    "Cluster 9: macrophages"
   ]
  },
  {
   "cell_type": "code",
   "execution_count": null,
   "id": "a2ea75c2-f7a4-41a0-87d9-e95f6413a366",
   "metadata": {},
   "outputs": [],
   "source": [
    "p1 <- DimPlot(E12_5) + xlab(\"UMAP 1\") + ylab(\"UMAP 2\")\n",
    "p2 <- FeaturePlot(E12_5, c(\"Cd3g\", \"Cd19\", \"Cd68\", \"Cxcr2\")) + xlab(\"UMAP 1\") + ylab(\"UMAP 2\")\n",
    "\n",
    "options(repr.plot.width = 20, repr.plot.height = 8)\n",
    "p1 + p2\n",
    "\n",
    "#ggsave(\"./6-kmita/images/E12_5_c9.png\" ,width=16, height=8)"
   ]
  },
  {
   "cell_type": "code",
   "execution_count": null,
   "id": "3c3e8074-68ee-440d-8d51-60754e5aeda8",
   "metadata": {},
   "outputs": [],
   "source": [
    "E12_5@meta.data$CellType <- Idents(E12_5)"
   ]
  },
  {
   "cell_type": "code",
   "execution_count": null,
   "id": "35538933-3e9f-4d73-8f77-4317fef50ad4",
   "metadata": {},
   "outputs": [],
   "source": [
    "E12_5@meta.data$CellType <- as.character(E12_5@meta.data$CellType)\n",
    "\n",
    "E12_5@meta.data$CellType[E12_5@meta.data$CellType == '0'] <- 'Mesenchyme'\n",
    "E12_5@meta.data$CellType[E12_5@meta.data$CellType == '1'] <- 'Mesenchyme'\n",
    "E12_5@meta.data$CellType[E12_5@meta.data$CellType == '2'] <- 'Mesenchyme'\n",
    "E12_5@meta.data$CellType[E12_5@meta.data$CellType == '3'] <- 'Mesenchyme'\n",
    "E12_5@meta.data$CellType[E12_5@meta.data$CellType == '4'] <- 'Mesenchyme'\n",
    "E12_5@meta.data$CellType[E12_5@meta.data$CellType == '5'] <- 'Ectoderm'\n",
    "E12_5@meta.data$CellType[E12_5@meta.data$CellType == '6'] <- 'Myocytes'\n",
    "E12_5@meta.data$CellType[E12_5@meta.data$CellType == '7'] <- 'Doublets'\n",
    "E12_5@meta.data$CellType[E12_5@meta.data$CellType == '8'] <- 'Neurons'\n",
    "E12_5@meta.data$CellType[E12_5@meta.data$CellType == '9'] <- 'Immune cells'\n",
    "\n",
    "E12_5@meta.data$CellType <- as.factor(E12_5@meta.data$CellType)"
   ]
  },
  {
   "cell_type": "code",
   "execution_count": null,
   "id": "e4083d20-f28e-4757-81e6-b1e28bb7db67",
   "metadata": {},
   "outputs": [],
   "source": [
    "new.cluster.ids <- c(\"mesenchyme\",\"mesenchyme\",\"mesenchyme\",\"mesenchyme\",\"mesenchyme\", \"ectoderm\", \"myocytes\", \"doublets\", \"neurons\", \"macrophages\")\n",
    "#new.cluster.ids <- c(\"0\",\"1\", \"2\", \"3\", \"4\")\n",
    "names(new.cluster.ids) <- levels(E12_5)\n",
    "E12_5 <- RenameIdents(E12_5, new.cluster.ids)\n",
    "E12_5@meta.data$CellType = Idents(E12_5)"
   ]
  },
  {
   "cell_type": "code",
   "execution_count": null,
   "id": "2f6f9d89-9f8f-4cfe-bb8f-613d8c2c3fce",
   "metadata": {},
   "outputs": [],
   "source": [
    "new.cluster.ids <- c(\"Mesenchyme\",\"Mesenchyme\",\"Mesenchyme\",\"Mesenchyme\",\"Mesenchyme\", \"Ectoderm\", \"Myocytes\", \"Doublets\", \"Neurons\", \"Macrophages\")\n",
    "#new.cluster.ids <- c(\"0\",\"1\", \"2\", \"3\", \"4\")\n",
    "names(new.cluster.ids) <- levels(E12_5)\n",
    "E12_5 <- RenameIdents(E12_5, new.cluster.ids)\n",
    "E12_5@meta.data$CellType = Idents(E12_5)"
   ]
  },
  {
   "cell_type": "code",
   "execution_count": null,
   "id": "e5f4981c-ccff-46a3-bda5-f724eefa76f2",
   "metadata": {},
   "outputs": [],
   "source": [
    "options(repr.plot.width = 8)\n",
    "\n",
    "DimPlot(E12_5, reduction = \"umap\", label = TRUE, group.by = \"CellType\") + xlab(\"UMAP 1\") + ylab(\"UMAP 2\")"
   ]
  },
  {
   "cell_type": "code",
   "execution_count": null,
   "id": "822a0d40-a76a-4bd3-a145-14954abeecfa",
   "metadata": {},
   "outputs": [],
   "source": [
    "saveRDS(E12_5, file = \"/home/host_home/tom/Kmita/6-kmita/RDataSessions/E12_5_GlobalAnnotation_SeuratObject.Rds\")"
   ]
  },
  {
   "cell_type": "markdown",
   "id": "978f2e65-574c-4175-a2f6-f116a0d1e4e1",
   "metadata": {
    "jp-MarkdownHeadingCollapsed": true,
    "tags": []
   },
   "source": [
    "#### 5.5.2. Refinement of global annotations<a id=\"33.2\"></a>"
   ]
  },
  {
   "cell_type": "markdown",
   "id": "8d070b47-889c-4688-8df0-9a7e1c0ee878",
   "metadata": {
    "tags": []
   },
   "source": [
    "##### 5.5.2.1. Subsetting mesenchymal clusters<a id=\"34\"></a>"
   ]
  },
  {
   "cell_type": "markdown",
   "id": "49776d03-2c68-44a0-bfb9-f914d4be4988",
   "metadata": {},
   "source": [
    "HERE<a id=\"here\"></a>"
   ]
  },
  {
   "cell_type": "code",
   "execution_count": null,
   "id": "37356f76-8dc1-4bca-83ab-f82dcdae6594",
   "metadata": {},
   "outputs": [],
   "source": [
    "E12_5 <- readRDS(\"./6-kmita/RDataSessions/E12_5_GlobalAnnotation_SeuratObject.Rds\")"
   ]
  },
  {
   "cell_type": "code",
   "execution_count": null,
   "id": "d2585fed-37c0-4963-aa2c-821a07469ab1",
   "metadata": {},
   "outputs": [],
   "source": [
    "sc_mesenchymal_E12_5 <- subset(E12_5, idents = c(\"mesenchyme\"))"
   ]
  },
  {
   "cell_type": "code",
   "execution_count": null,
   "id": "bc63d3f1-4ebf-45b8-b565-0543f617d74d",
   "metadata": {},
   "outputs": [],
   "source": [
    "sc_mesenchymal_E12_5"
   ]
  },
  {
   "cell_type": "code",
   "execution_count": null,
   "id": "96034648-b779-4feb-aa37-db938dae50e3",
   "metadata": {},
   "outputs": [],
   "source": [
    "sc_mesenchymal_E12_5 <- ScaleData(sc_mesenchymal_E12_5)"
   ]
  },
  {
   "cell_type": "code",
   "execution_count": null,
   "id": "7a0ff425-6b5c-4bfe-925e-49c1de3b7c60",
   "metadata": {},
   "outputs": [],
   "source": [
    "sc_mesenchymal_E12_5 <- RunPCA(sc_mesenchymal_E12_5, features = VariableFeatures(object = sc_mesenchymal_E12_5), verbose = FALSE)"
   ]
  },
  {
   "cell_type": "code",
   "execution_count": null,
   "id": "11e423a5-98e7-4465-8008-570c763efa0d",
   "metadata": {},
   "outputs": [],
   "source": [
    "options(repr.plot.width=10)\n",
    "DimPlot(sc_mesenchymal_E12_5, reduction = \"pca\", group.by = \"orig.ident\") + xlab(\"PC 1\") + ylab(\"PC 2\")"
   ]
  },
  {
   "cell_type": "code",
   "execution_count": null,
   "id": "eb39b66e-f608-4398-b923-c04912814082",
   "metadata": {},
   "outputs": [],
   "source": [
    "ElbowPlot(sc_mesenchymal_E12_5, 50)"
   ]
  },
  {
   "cell_type": "code",
   "execution_count": null,
   "id": "9e9ff967-9529-45bf-850e-74952241503d",
   "metadata": {
    "scrolled": true
   },
   "outputs": [],
   "source": [
    "sc_mesenchymal_E12_5 <- FindNeighbors(sc_mesenchymal_E12_5, dims = 1:25, verbose = FALSE)\n",
    "sc_mesenchymal_E12_5 <- FindClusters(sc_mesenchymal_E12_5, resolution = 3, verbose = FALSE)"
   ]
  },
  {
   "cell_type": "code",
   "execution_count": null,
   "id": "901a2a8a-7679-4bd3-bd42-c51d750b0f51",
   "metadata": {
    "scrolled": true
   },
   "outputs": [],
   "source": [
    "sc_mesenchymal_E12_5 <- RunUMAP(sc_mesenchymal_E12_5, dims = 1:25, n.neighbors = 10, verbose = FALSE)"
   ]
  },
  {
   "cell_type": "code",
   "execution_count": null,
   "id": "fbb5d90b-6813-4431-8368-e4ea466ac176",
   "metadata": {},
   "outputs": [],
   "source": [
    "options(repr.plot.width = 9)\n",
    "DimPlot(sc_mesenchymal_E12_5, reduction = \"umap\", label=TRUE) + xlab(\"UMAP 1\") + ylab(\"UMAP 2\")\n",
    "\n",
    "ggsave(\"./6-kmita/images/E12_5_m_na.png\" ,width=9, height=8)"
   ]
  },
  {
   "cell_type": "code",
   "execution_count": null,
   "id": "6c826962-ce57-4e06-8730-eb64e333219c",
   "metadata": {
    "tags": []
   },
   "outputs": [],
   "source": [
    "markers_12_5_mesenchyme <- FindAllMarkers(sc_mesenchymal_E12_5)"
   ]
  },
  {
   "cell_type": "code",
   "execution_count": null,
   "id": "f8feb5c7-e04d-41fe-9294-6627b4d5ee94",
   "metadata": {},
   "outputs": [],
   "source": [
    "saveRDS(markers_12_5_mesenchyme, file = \"./6-kmita/analysis/markers_12_5_mesenchyme.Rds\")"
   ]
  },
  {
   "cell_type": "code",
   "execution_count": null,
   "id": "0b40b2ef-80e1-4fc8-89d5-4efe574f8093",
   "metadata": {},
   "outputs": [],
   "source": [
    ".markers_12_5_mesenchyme <- readRDS(file = \"./6-kmita/analysis/markers_12_5_mesenchyme.Rds\")"
   ]
  },
  {
   "cell_type": "code",
   "execution_count": null,
   "id": "73b45b31-0565-4312-9cf9-cd9e81087229",
   "metadata": {},
   "outputs": [],
   "source": [
    "# find markers for every cluster compared to all remaining cells, report only the positive\n",
    "# ones\n",
    "#df_m %>%\n",
    "#    group_by(cluster) %>%\n",
    "#    slice_max(n = 10, order_by = avg_log2FC)"
   ]
  },
  {
   "cell_type": "code",
   "execution_count": null,
   "id": "6df76456-0852-45e7-9f05-333ac2185364",
   "metadata": {},
   "outputs": [],
   "source": [
    "#select only cluster 0 and order avg_log2FC from big to small\n",
    "\n",
    "markers_12_5_mesenchyme[markers_12_5_mesenchyme$cluster == 40,] %>%\n",
    "slice_max(n = 50, order_by = avg_log2FC)"
   ]
  },
  {
   "cell_type": "markdown",
   "id": "d686d436-daad-4dcd-b03b-7723db67957b",
   "metadata": {},
   "source": [
    "Distal mesenchyme"
   ]
  },
  {
   "cell_type": "code",
   "execution_count": null,
   "id": "b1c84c70-a666-4194-b3af-77ccadffe74c",
   "metadata": {},
   "outputs": [],
   "source": [
    "g <- WhichCells(sc_mesenchymal_E12_5, idents = c(\"22\",\"3\"))\n",
    "p1 <- DimPlot(sc_mesenchymal_E12_5, cells.highlight = list(g)) + xlab(\"UMAP 1\") + ylab(\"UMAP 2\")\n",
    "p2 <- FeaturePlot(sc_mesenchymal_E12_5, c(\"Hoxa13\", \"Hoxd13\")) + xlab(\"UMAP 1\") + ylab(\"UMAP 2\")\n",
    "\n",
    "options(repr.plot.width = 9.5, repr.plot.height = 8)\n",
    "p1\n",
    "\n",
    "ggsave(\"./6-kmita/images/E12_5_m_distal-1.png\" ,width=9.5, height=8)\n",
    "options(repr.plot.width = 17, repr.plot.height = 8)\n",
    "p2\n",
    "\n",
    "ggsave(\"./6-kmita/images/E12_5_m_distal-2.png\" ,width=17, height=8)"
   ]
  },
  {
   "cell_type": "code",
   "execution_count": null,
   "id": "919e8ffd-14a8-4f02-b5c5-6bf370daa7cb",
   "metadata": {},
   "outputs": [],
   "source": [
    "g <- WhichCells(sc_mesenchymal_E12_5, idents = c(\"22\",\"3\"))\n",
    "p1 <- DimPlot(sc_mesenchymal_E12_5, cells.highlight = list(g)) + xlab(\"UMAP 1\") + ylab(\"UMAP 2\")\n",
    "p2 <- FeaturePlot(sc_mesenchymal_E12_5, c(\"T\")) + xlab(\"UMAP 1\") + ylab(\"UMAP 2\")\n",
    "\n",
    "options(repr.plot.width = 9.5, repr.plot.height = 8)\n",
    "p1\n",
    "\n",
    "\n",
    "options(repr.plot.width = 17, repr.plot.height = 8)\n",
    "p2\n",
    "\n"
   ]
  },
  {
   "cell_type": "code",
   "execution_count": null,
   "id": "d182ce56-faf1-44eb-880d-7724a18c4a76",
   "metadata": {},
   "outputs": [],
   "source": [
    "options(repr.plot.width = 28, repr.plot.height = 8)\n",
    "FeaturePlot(sc_mesenchymal_E12_5, c(\"Gdf5\", \"Sox9\"), blend = TRUE) + xlab(\"UMAP 1\") + ylab(\"UMAP 2\")\n",
    "\n",
    "ggsave(\"./6-kmita/images/E12_5_Gdf5_Sox9.png\" ,width=28, height=8)"
   ]
  },
  {
   "cell_type": "code",
   "execution_count": null,
   "id": "ebfede2b-5483-40ca-b11d-9bbc0fb42ee0",
   "metadata": {},
   "outputs": [],
   "source": [
    "g <- WhichCells(sc_mesenchymal_E12_5, idents = c(\"22\",\"3\"))\n",
    "p1 <- DimPlot(sc_mesenchymal_E12_5, cells.highlight = list(g)) + xlab(\"UMAP 1\") + ylab(\"UMAP 2\")\n",
    "p2 <- FeaturePlot(sc_mesenchymal_E12_5, c(\"Hoxa13\", \"Hoxd13\")) + xlab(\"UMAP 1\") + ylab(\"UMAP 2\")\n",
    "\n",
    "options(repr.plot.width = 9.5, repr.plot.height = 8)\n",
    "p1\n",
    "options(repr.plot.width = 17, repr.plot.height = 8)\n",
    "p2"
   ]
  },
  {
   "cell_type": "code",
   "execution_count": null,
   "id": "732569c3-f245-4e66-98fc-cf97bc561b28",
   "metadata": {},
   "outputs": [],
   "source": [
    "g <- WhichCells(sc_mesenchymal_E12_5, idents = c(\"0\",\"1\",\"2\",\"5\",\"7\",\"8\",\"10\",\"11\",\"12\",\"13\",\"14\",\"15\",\"16\",\"18\",\"19\",\"20\",\"21\",\"26\",\"27\",\"28\",\"29\",\"30\",\"36\",\"37\",\"39\",\"40\",\"41\",\"6\"))\n",
    "p1 <- DimPlot(sc_mesenchymal_E12_5, cells.highlight = list(g), label = TRUE) + xlab(\"UMAP 1\") + ylab(\"UMAP 2\")\n",
    "p2 <- FeaturePlot(sc_mesenchymal_E12_5, c(\"Hoxa13\", \"Hoxd13\")) + xlab(\"UMAP 1\") + ylab(\"UMAP 2\")\n",
    "\n",
    "options(repr.plot.width = 9.5, repr.plot.height = 8)\n",
    "p1\n",
    "options(repr.plot.width = 20, repr.plot.height = 8)\n",
    "p2"
   ]
  },
  {
   "cell_type": "markdown",
   "id": "b1422ae6-33de-4067-a29c-5e4a6c210521",
   "metadata": {},
   "source": [
    "Look at intermediate "
   ]
  },
  {
   "cell_type": "code",
   "execution_count": null,
   "id": "036beafc-4ae6-4c85-b699-1de85548646f",
   "metadata": {
    "tags": []
   },
   "outputs": [],
   "source": [
    "#                                     0         1           2         3          4          5        6         7         8         9         10        11       12         13        14         15      16         17        18        19        20       21         22       23         24        25       26        27        28          29       30         31         32        33        34          35       36         37        38       39         40     41   \n",
    "palette.sc_mesenchymal_E12_5 <- c(\"#e31a1c\",\"#e31a1c\", \"#e31a1c\", \"#808080\", \"#808080\",\"#e31a1c\",\"#e31a1c\",\"#e31a1c\",\"#e31a1c\",\"#808080\",\"#e31a1c\",\"#e31a1c\",\"#e31a1c\",\"#e31a1c\",\"#e31a1c\",\"#e31a1c\",\"#e31a1c\",\"#808080\",\"#e31a1c\",\"#e31a1c\",\"#e31a1c\",\"#e31a1c\",\"#808080\",\"#808080\",\"#808080\",\"#808080\",\"#e31a1c\",\"#e31a1c\",\"#e31a1c\", \"#e31a1c\",\"#e31a1c\",\"#808080\", \"#808080\",\"#808080\",\"#808080\",\"#808080\",\"#e31a1c\",\"#e31a1c\", \"#808080\",\"#e31a1c\",\"#e31a1c\",\"#e31a1c\")"
   ]
  },
  {
   "cell_type": "code",
   "execution_count": null,
   "id": "a2790413-520c-473b-ac8e-9eb638ac62cc",
   "metadata": {},
   "outputs": [],
   "source": [
    "options(repr.plot.width = 10, repr.plot.height = 8)\n",
    "DimPlot(sc_mesenchymal_E12_5, label = TRUE, cols = palette.sc_mesenchymal_E12_5) + xlab(\"UMAP 1\") + ylab(\"UMAP 2\")\n",
    "options(repr.plot.width = 20, repr.plot.height = 8)\n",
    "FeaturePlot(sc_mesenchymal_E12_5, c(\"Hoxa13\", \"Hoxd13\")) + xlab(\"UMAP 1\") + ylab(\"UMAP 2\")"
   ]
  },
  {
   "cell_type": "markdown",
   "id": "96fe38c8-78b3-4409-aaf9-53f3d71f412d",
   "metadata": {},
   "source": [
    ">Explanation colors:\n",
    ">\n",
    "> <span style=\"color:#e31a1c\">#e31a1c (red) -> distal mesenchyme</span>\n",
    ">\n",
    "> <span style=\"color:#808080\">#808080 (gray) -> no annotation</span>"
   ]
  },
  {
   "cell_type": "markdown",
   "id": "98ddddd0-19bc-4f91-be92-4ed3fded7d24",
   "metadata": {},
   "source": [
    "Proximal mesenchyme"
   ]
  },
  {
   "cell_type": "code",
   "execution_count": null,
   "id": "828018dc-7bb7-4754-8c78-e0c87ed05eb8",
   "metadata": {},
   "outputs": [],
   "source": [
    "g <- WhichCells(sc_mesenchymal_E12_5, idents = c(\"41\"))\n",
    "p1 <- DimPlot(sc_mesenchymal_E12_5, cells.highlight = list(g)) + xlab(\"UMAP 1\") + ylab(\"UMAP 2\")\n",
    "p2 <- FeaturePlot(sc_mesenchymal_E12_5, c(\"Hoxd9\", \"Shox2\", \"Hoxa11\")) + xlab(\"UMAP 1\") + ylab(\"UMAP 2\")\n",
    "\n",
    "options(repr.plot.width = 9.5, repr.plot.height = 8)\n",
    "p1 \n",
    "options(repr.plot.width = 20, repr.plot.height = 16)\n",
    "p2"
   ]
  },
  {
   "cell_type": "code",
   "execution_count": null,
   "id": "adb91340-ffd6-4dd3-a5be-8d874c181dbe",
   "metadata": {},
   "outputs": [],
   "source": [
    "g <- WhichCells(sc_mesenchymal_E12_5, idents = c(\"3\",\"4\",\"6\",\"7\",\"9\",\"17\",\"22\",\"23\",\"34\",\"35\",\"38\"))\n",
    "p1 <- DimPlot(sc_mesenchymal_E12_5, cells.highlight = list(g), label = TRUE) + xlab(\"UMAP 1\") + ylab(\"UMAP 2\")\n",
    "p2 <- FeaturePlot(sc_mesenchymal_E12_5, c(\"Hoxd9\", \"Shox2\", \"Hoxa11\")) + xlab(\"UMAP 1\") + ylab(\"UMAP 2\")\n",
    "p3 <- FeaturePlot(sc_mesenchymal_E12_5, c(\"Hoxa13\", \"Hoxd13\")) + xlab(\"UMAP 1\") + ylab(\"UMAP 2\")\n",
    "\n",
    "options(repr.plot.width = 20, repr.plot.height = 8)\n",
    "p1 \n",
    "p2\n",
    "options(repr.plot.width = 20, repr.plot.height = 8)\n",
    "p3\n",
    "\n",
    "#INTERMEDIATE"
   ]
  },
  {
   "cell_type": "code",
   "execution_count": null,
   "id": "ec48d76a-660b-4ef9-b931-8d003f78c5b0",
   "metadata": {
    "tags": []
   },
   "outputs": [],
   "source": [
    "#                                     0         1           2         3          4          5        6         7         8         9         10        11       12         13        14         15      16         17        18        19        20       21         22       23         24        25       26        27        28          29       30         31         32        33        34       35         36         37        38       39         40       41   \n",
    "palette.sc_mesenchymal_E12_5 <- c(\"#e31a1c\",\"#e31a1c\", \"#e31a1c\", \"#08519c\", \"#08519c\",\"#e31a1c\",\"#08519c\",\"#08519c\",\"#e31a1c\",\"#08519c\",\"#e31a1c\",\"#e31a1c\",\"#e31a1c\",\"#e31a1c\",\"#e31a1c\",\"#e31a1c\",\"#e31a1c\",\"#08519c\",\"#e31a1c\",\"#e31a1c\",\"#e31a1c\",\"#e31a1c\",\"#08519c\",\"#08519c\",\"#08519c\",\"#08519c\",\"#e31a1c\",\"#e31a1c\",\"#e31a1c\", \"#08519c\",\"#e31a1c\",\"#08519c\", \"#08519c\",\"#08519c\",\"#08519c\",\"#08519c\",\"#e31a1c\",\"#e31a1c\", \"#08519c\",\"#e31a1c\",\"#e31a1c\",\"#e31a1c\")"
   ]
  },
  {
   "cell_type": "code",
   "execution_count": null,
   "id": "8882c68e-b711-4c07-a57a-bfb51a3a6381",
   "metadata": {},
   "outputs": [],
   "source": [
    "options(repr.plot.width = 10, repr.plot.height = 8)\n",
    "DimPlot(sc_mesenchymal_E12_5, label = TRUE, cols = palette.sc_mesenchymal_E12_5) + xlab(\"UMAP 1\") + ylab(\"UMAP 2\")"
   ]
  },
  {
   "cell_type": "markdown",
   "id": "fc181857-002c-44f8-960e-790f6037fbd8",
   "metadata": {},
   "source": [
    ">Explanation colors:\n",
    ">\n",
    "> <span style=\"color:#e31a1c\">#e31a1c (red) -> distal mesenchyme</span>\n",
    ">\n",
    "> <span style=\"color:#08519c\">#08519c (blue) -> proximal mesenchyme </span>\n",
    ">\n",
    "> <span style=\"color:#808080\">#808080 (gray) -> no annotation</span>"
   ]
  },
  {
   "cell_type": "markdown",
   "id": "acb18dc1-9f9f-4c34-901c-dd85d938c6a1",
   "metadata": {},
   "source": [
    "Cartilage"
   ]
  },
  {
   "cell_type": "code",
   "execution_count": null,
   "id": "5c72119f-787d-42b4-a7a8-fef8b507fb74",
   "metadata": {},
   "outputs": [],
   "source": [
    "g <- WhichCells(sc_mesenchymal_E12_5, idents = c(\"41\"))\n",
    "p1 <- DimPlot(sc_mesenchymal_E12_5, cells.highlight = list(g)) + xlab(\"UMAP 1\") + ylab(\"UMAP 2\")\n",
    "p2 <- FeaturePlot(sc_mesenchymal_E12_5, c(\"Sox9\", \"Col2a1\",\"Sox5\",\"Sox6\")) + xlab(\"UMAP 1\") + ylab(\"UMAP 2\")\n",
    "p3 <- FeaturePlot(sc_mesenchymal_E12_5, c(\"Prrx1\")) + xlab(\"UMAP 1\") + ylab(\"UMAP 2\")\n",
    "\n",
    "options(repr.plot.width = 16, repr.plot.height = 6)\n",
    "p1 + p3\n",
    "\n",
    "ggsave(\"./6-kmita/images/E12_5_m_c-1.png\" ,width=16, height=6)\n",
    "options(repr.plot.width = 16, repr.plot.height = 12)\n",
    "p2\n",
    "ggsave(\"./6-kmita/images/E12_5_m_c-1.png\" ,width=16, height=12)\n"
   ]
  },
  {
   "cell_type": "code",
   "execution_count": null,
   "id": "bd659d34-d8df-4fc5-8d24-9b23a3728e6b",
   "metadata": {},
   "outputs": [],
   "source": [
    "g <- WhichCells(sc_mesenchymal_E12_5, idents = c(\"10\",\"29\",\"30\",\"40\", \"21\", \"18\"))\n",
    "p1 <- DimPlot(sc_mesenchymal_E12_5, cells.highlight = list(g), label = TRUE) + xlab(\"UMAP 1\") + ylab(\"UMAP 2\")\n",
    "p2 <- FeaturePlot(sc_mesenchymal_E12_5, c(\"Sox9\", \"Col2a1\")) + xlab(\"UMAP 1\") + ylab(\"UMAP 2\")\n",
    "p3 <- FeaturePlot(sc_mesenchymal_E12_5, c(\"Sox5\",\"Prrx1\")) + xlab(\"UMAP 1\") + ylab(\"UMAP 2\")\n",
    "\n",
    "options(repr.plot.width = 16, repr.plot.height = 6)\n",
    "p2\n",
    "ggsave(\"./6-kmita/images/E12_5_m_c-1.png\" ,width=16, height=6)\n",
    "options(repr.plot.width = 8, repr.plot.height = 6)\n",
    "p1\n",
    "ggsave(\"./6-kmita/images/E12_5_m_c-2.png\" ,width=8, height=6)\n",
    "options(repr.plot.width = 16, repr.plot.height = 6)\n",
    "p3\n",
    "ggsave(\"./6-kmita/images/E12_5_m_c-3.png\" ,width=16, height=6)"
   ]
  },
  {
   "cell_type": "code",
   "execution_count": null,
   "id": "11068dfa-fc39-42d9-9dcf-a3bcef6a6837",
   "metadata": {
    "tags": []
   },
   "outputs": [],
   "source": [
    "#                                     0         1           2         3          4          5        6         7         8         9         10        11       12         13        14          15      16         17        18        19        20       21         22       23         24        25       26        27        28          29       30         31         32        33        34          35       36         37        38       39         40    41    \n",
    "palette.sc_mesenchymal_E12_5 <- c(\"#e31a1c\",\"#e31a1c\", \"#00ff00\", \"#cc00cc\", \"#cc00cc\",\"#e31a1c\",\"#08519c\",\"#08519c\",\"#e31a1c\",\"#cc00cc\",\"#00ffff\",\"#e31a1c\",\"#e31a1c\",\"#e31a1c\",\"#e31a1c\",\"#00ff00\",\"#e31a1c\",\"#08519c\",\"#00ffff\",\"#e31a1c\",\"#e31a1c\",\"#00ffff\",\"#cc00cc\",\"#08519c\",\"#08519c\",\"#08519c\",\"#e31a1c\",\"#e31a1c\",\"#00ff00\", \"#ff8c00\",\"#00ffff\",\"#cc00cc\", \"#08519c\",\"#08519c\",\"#08519c\",\"#08519c\",\"#e31a1c\",\"#e31a1c\", \"#cc00cc\",\"#00ff00\",\"#00ffff\",\"#00ff00\")"
   ]
  },
  {
   "cell_type": "code",
   "execution_count": null,
   "id": "c8a19ca8-6361-46c6-a046-c4411cc26802",
   "metadata": {
    "tags": []
   },
   "outputs": [],
   "source": [
    "options(repr.plot.width = 10, repr.plot.height = 8)\n",
    "DimPlot(sc_mesenchymal_E12_5, label = TRUE, cols = palette.sc_mesenchymal_E12_5) + xlab(\"UMAP 1\") + ylab(\"UMAP 2\")"
   ]
  },
  {
   "cell_type": "markdown",
   "id": "ffd1ab32-aac2-4e2b-9a58-3419a515d32c",
   "metadata": {},
   "source": [
    "> <span style=\"color:#808080\">#808080 (gray) -> no annotation</span>\n",
    "\n",
    ">Explanation colors:\n",
    ">\n",
    "> <span style=\"color:#e31a1c\">#e31a1c (red) -> distal cells</span>\n",
    ">\n",
    "> <span style=\"color:#08519c\">#08519c (blue) -> proximal cells</span>\n",
    ">\n",
    "> <span style=\"color:#ffea00\">#ffea00 (yellow) ->  </span>\n",
    ">\n",
    "><span style=\"color:#00ff00\">#00ff00 (green) -> distal cartilage precursors </span>\n",
    ">\n",
    "><span style=\"color:#cc00cc\">#cc00cc (purple) -> proximal cartilage precursors</span>\n",
    ">\n",
    "><span style=\"color:#00ffff\">#00ffff (cyan) -> distal cartilage  </span>\n",
    ">\n",
    "><span style=\"color:#ff8c00\">#ff8c00 (orange) -> proximal cartilage  </span>"
   ]
  },
  {
   "cell_type": "markdown",
   "id": "6840809b-fac3-42da-87f0-c7bfb1d32811",
   "metadata": {
    "tags": []
   },
   "source": [
    "Digits/ inter-digit precursors"
   ]
  },
  {
   "cell_type": "code",
   "execution_count": null,
   "id": "659c219f-4d75-4246-8ba2-6620cafd0d3d",
   "metadata": {},
   "outputs": [],
   "source": [
    "g <- WhichCells(sc_mesenchymal_E12_5, idents = c(\"21\"))\n",
    "p1 <- DimPlot(sc_mesenchymal_E12_5, cells.highlight = list(g), label = TRUE) + xlab(\"UMAP 1\") + ylab(\"UMAP 2\")\n",
    "p2 <- FeaturePlot(sc_mesenchymal_E12_5, c(\"Aldh1a2\")) + xlab(\"UMAP 1\") + ylab(\"UMAP 2\")\n",
    "\n",
    "options(repr.plot.width = 16, repr.plot.height = 6)\n",
    "p1 + p2\n",
    "\n",
    "ggsave(\"./6-kmita/images/E12_5_di.png\" ,width=16, height=6)"
   ]
  },
  {
   "cell_type": "code",
   "execution_count": null,
   "id": "1c7aed01-8e5d-440c-b127-520ab5419194",
   "metadata": {
    "tags": []
   },
   "outputs": [],
   "source": [
    "p1 <- DimPlot(sc_mesenchymal_E12_5, label = TRUE, cols = palette.sc_mesenchymal_E12_5) + NoLegend() + xlab(\"UMAP 1\") + ylab(\"UMAP 2\")\n",
    "p2 <- FeaturePlot(sc_mesenchymal_E12_5, c(\"Scx\", \"Dcn\", \"Tnc\", \"Mkx\")) + xlab(\"UMAP 1\") + ylab(\"UMAP 2\")\n",
    "\n",
    "options(repr.plot.width = 20, repr.plot.height = 8)\n",
    "p1 + p2"
   ]
  },
  {
   "cell_type": "code",
   "execution_count": null,
   "id": "48e238c5-f8f6-4306-bbb6-86fee26548d3",
   "metadata": {},
   "outputs": [],
   "source": [
    "g <- WhichCells(sc_mesenchymal_E12_5, idents = c(\"23\"))\n",
    "p1 <- DimPlot(sc_mesenchymal_E12_5, cells.highlight = list(g)) + xlab(\"UMAP 1\") + ylab(\"UMAP 2\")\n",
    "p2 <- FeaturePlot(sc_mesenchymal_E12_5, c(\"Scx\", \"Dcn\", \"Tnc\", \"Mkx\")) + xlab(\"UMAP 1\") + ylab(\"UMAP 2\")\n",
    "\n",
    "options(repr.plot.width = 20, repr.plot.height = 8)\n",
    "p1 + p2\n",
    "\n",
    "#Check cluster 23"
   ]
  },
  {
   "cell_type": "code",
   "execution_count": null,
   "id": "51c7c3cf-bfb1-47ac-96a6-2d99bd090d19",
   "metadata": {},
   "outputs": [],
   "source": [
    "g <- WhichCells(sc_mesenchymal_E12_5, idents = c(\"1\",\"17\",\"19\",\"24\",\"32\",\"34\", \"7\"))\n",
    "p1 <- DimPlot(sc_mesenchymal_E12_5, cells.highlight = list(g)) + xlab(\"UMAP 1\") + ylab(\"UMAP 2\")\n",
    "p2 <- FeaturePlot(sc_mesenchymal_E12_5, c(\"Scx\", \"Tnc\", \"Mkx\")) + xlab(\"UMAP 1\") + ylab(\"UMAP 2\")\n",
    "\n",
    "options(repr.plot.width = 20, repr.plot.height = 8)\n",
    "p1 + p2\n",
    "\n",
    "ggsave(\"./6-kmita/images/E12_5_m_t.png\" ,width=20, height=8)"
   ]
  },
  {
   "cell_type": "code",
   "execution_count": null,
   "id": "cc86a707-3dfc-42ef-b08e-31efde46b8f2",
   "metadata": {
    "tags": []
   },
   "outputs": [],
   "source": [
    "#                                     0         1           2         3          4          5        6         7         8         9         10        11       12         13        14          15      16         17        18        19        20       21         22       23         24        25       26        27        28          29       30         31         32        33        34          35       36         37        38       39         40    41    \n",
    "palette.sc_mesenchymal_E12_5 <- c(\"#e31a1c\",\"#f6acff\", \"#00ff00\", \"#cc00cc\", \"#cc00cc\",\"#e31a1c\",\"#08519c\",\"#616d00\",\"#e31a1c\",\"#cc00cc\",\"#00ffff\",\"#e31a1c\",\"#e31a1c\",\"#e31a1c\",\"#e31a1c\",\"#00ff00\",\"#e31a1c\",\"#616d00\",\"#00ffff\",\"#f6acff\",\"#e31a1c\",\"#ffea00\",\"#cc00cc\",\"#08519c\",\"#616d00\",\"#08519c\",\"#e31a1c\",\"#e31a1c\",\"#00ff00\", \"#ff8c00\",\"#00ffff\",\"#cc00cc\", \"#616d00\",\"#08519c\",\"#616d00\",\"#08519c\",\"#e31a1c\",\"#e31a1c\", \"#cc00cc\",\"#00ff00\",\"#00ffff\",\"#00ff00\")"
   ]
  },
  {
   "cell_type": "code",
   "execution_count": null,
   "id": "00384b4e-2658-4f4c-87f1-ec35f4638c94",
   "metadata": {
    "tags": []
   },
   "outputs": [],
   "source": [
    "options(repr.plot.width = 10, repr.plot.height = 8)\n",
    "DimPlot(sc_mesenchymal_E12_5, label = TRUE, cols = palette.sc_mesenchymal_E12_5) + xlab(\"UMAP 1\") + ylab(\"UMAP 2\")"
   ]
  },
  {
   "cell_type": "markdown",
   "id": "f444f04b-cb00-40b4-a3e4-a29fb76542f0",
   "metadata": {},
   "source": [
    "> <span style=\"color:#808080\">#808080 (gray) -> no annotation</span>\n",
    "\n",
    ">Explanation colors:\n",
    ">\n",
    "> <span style=\"color:#e31a1c\">#e31a1c (red) -> distal cells</span>\n",
    ">\n",
    "> <span style=\"color:#08519c\">#08519c (blue) -> proximal cells</span>\n",
    ">\n",
    "> <span style=\"color:#ffea00\">#ffea00 (yellow) -> digit and inter-digit precursors  </span>\n",
    ">\n",
    "><span style=\"color:#00ff00\">#00ff00 (green) -> distal cartilage precursors </span>\n",
    ">\n",
    "><span style=\"color:#cc00cc\">#cc00cc (purple) -> proximal cartilage precursors</span>\n",
    ">\n",
    "><span style=\"color:#00ffff\">#00ffff (cyan) -> distal cartilage  </span>\n",
    ">\n",
    "><span style=\"color:#ff8c00\">#ff8c00 (orange) -> proximal cartilage  </span>\n",
    ">\n",
    "><span style=\"color:#f6acff\">#f6acff (pink) -> distal tenocyte precursors  </span>\n",
    ">\n",
    "><span style=\"color:#616d00\">#616d00 (dark green) -> proximal cartilage  </span>\n"
   ]
  },
  {
   "cell_type": "markdown",
   "id": "e827e70b-441a-45b6-85fe-875540e63a84",
   "metadata": {},
   "source": [
    "Intermediate mesenchyme"
   ]
  },
  {
   "cell_type": "code",
   "execution_count": null,
   "id": "f3b22f3c-59d9-4630-9015-0a03139466dd",
   "metadata": {},
   "outputs": [],
   "source": [
    "g <- WhichCells(sc_mesenchymal_E12_5, idents = c(\"41\"))\n",
    "p1 <- DimPlot(sc_mesenchymal_E12_5, cells.highlight = list(g)) + xlab(\"UMAP 1\") + ylab(\"UMAP 2\")\n",
    "p2 <- FeaturePlot(sc_mesenchymal_E12_5, c(\"Hoxa11\")) + xlab(\"UMAP 1\") + ylab(\"UMAP 2\")\n",
    "p3 <- FeaturePlot(sc_mesenchymal_E12_5, c(\"Hoxd9\")) + xlab(\"UMAP 1\") + ylab(\"UMAP 2\")\n",
    "\n",
    "options(repr.plot.width = 20, repr.plot.height = 8)\n",
    "p1 + p2\n",
    "options(repr.plot.width = 10, repr.plot.height = 8)\n",
    "p3"
   ]
  },
  {
   "cell_type": "code",
   "execution_count": null,
   "id": "3474605d-de46-47b7-a217-b0d0231627df",
   "metadata": {},
   "outputs": [],
   "source": [
    "g <- WhichCells(sc_mesenchymal_E12_5, idents = c(\"3\",\"4\",\"6\",\"9\",\"17\",\"22\",\"31\",\"32\",\"35\",\"36\",\"38\"))\n",
    "p1 <- DimPlot(sc_mesenchymal_E12_5, cells.highlight = list(g), label = TRUE) + xlab(\"UMAP 1\") + ylab(\"UMAP 2\")\n",
    "p2 <- FeaturePlot(sc_mesenchymal_E12_5, c(\"Hoxd9\", \"Shox2\", \"Hoxa11\")) + xlab(\"UMAP 1\") + ylab(\"UMAP 2\")\n",
    "p3 <- FeaturePlot(sc_mesenchymal_E12_5, c(\"Hoxa13\", \"Hoxd13\")) + xlab(\"UMAP 1\") + ylab(\"UMAP 2\")\n",
    "\n",
    "options(repr.plot.width = 20, repr.plot.height = 8)\n",
    "p1 + p2\n",
    "options(repr.plot.width = 20, repr.plot.height = 8)\n",
    "p3\n",
    "\n",
    "#INTERMEDIATE"
   ]
  },
  {
   "cell_type": "markdown",
   "id": "440e4e91-06d9-4c7a-903f-d4b4758879e0",
   "metadata": {},
   "source": [
    "Joint"
   ]
  },
  {
   "cell_type": "code",
   "execution_count": null,
   "id": "e4aa2d69-55a1-4333-9958-64f2c099685d",
   "metadata": {},
   "outputs": [],
   "source": [
    "g <- WhichCells(sc_mesenchymal_E12_5, idents = c(\"41\"))\n",
    "p1 <- DimPlot(sc_mesenchymal_E12_5, cells.highlight = list(g), label = TRUE) + xlab(\"UMAP 1\") + ylab(\"UMAP 2\")\n",
    "p2 <- FeaturePlot(sc_mesenchymal_E12_5, c(\"Gdf5\")) + xlab(\"UMAP 1\") + ylab(\"UMAP 2\")\n",
    "\n",
    "\n",
    "options(repr.plot.width = 20, repr.plot.height = 8)\n",
    "p1 + p2\n",
    "options(repr.plot.width = 10, repr.plot.height = 8)\n",
    "p3\n",
    "\n",
    "38 29 40 21 22"
   ]
  },
  {
   "cell_type": "code",
   "execution_count": null,
   "id": "e8e4b45f-25b1-4aec-aaa0-17f7a4315c56",
   "metadata": {},
   "outputs": [],
   "source": [
    "g <- WhichCells(sc_mesenchymal_E12_5, idents = c(\"distal cartilage\"))\n",
    "p1 <- DimPlot(sc_mesenchymal_E12_5, cells.highlight = list(g), label = TRUE) + xlab(\"UMAP 1\") + ylab(\"UMAP 2\")\n",
    "p2 <- FeaturePlot(sc_mesenchymal_E12_5, c(\"Gdf5\")) + xlab(\"UMAP 1\") + ylab(\"UMAP 2\")\n",
    "\n",
    "\n",
    "options(repr.plot.width = 20, repr.plot.height = 8)\n",
    "p1 + p2"
   ]
  },
  {
   "cell_type": "code",
   "execution_count": null,
   "id": "64bbea1a-51a1-4b56-9583-c37287258acd",
   "metadata": {},
   "outputs": [],
   "source": [
    "g <- WhichCells(sc_mesenchymal_E12_5, idents = c(\"38\", \"29\", \"40\", \"21\", \"22\"))\n",
    "p1 <- DimPlot(sc_mesenchymal_E12_5, cells.highlight = list(g), label = TRUE) + xlab(\"UMAP 1\") + ylab(\"UMAP 2\")\n",
    "p2 <- FeaturePlot(sc_mesenchymal_E12_5, c(\"Gdf5\")) + xlab(\"UMAP 1\") + ylab(\"UMAP 2\")\n",
    "\n",
    "options(repr.plot.width = 20, repr.plot.height = 8)\n",
    "p1 + p2\n",
    "ggsave(\"./6-kmita/images/E12_5_joint.png\" ,width=16, height=6)"
   ]
  },
  {
   "cell_type": "markdown",
   "id": "360898f3-b7f2-4439-93da-bf7d3fd4f49c",
   "metadata": {},
   "source": [
    "Look at Gdf5, Ihh (pre-hypertrophe), Pthr1, "
   ]
  },
  {
   "cell_type": "markdown",
   "id": "970e5dbe-7bf4-49d4-81d5-e80ffae01e48",
   "metadata": {},
   "source": [
    "Distal, intermediate and proximal cells"
   ]
  },
  {
   "cell_type": "code",
   "execution_count": null,
   "id": "5691fa5e-c5f5-42e6-8f1d-a3fae6c6e38f",
   "metadata": {
    "tags": []
   },
   "outputs": [],
   "source": [
    "#                                     0         1           2         3          4          5        6         7         8         9         10        11       12         13        14          15      16         17        18        19        20       21         22       23         24        25       26        27        28          29       30         31         32        33        34          35       36         37        38       39         40    41    \n",
    "palette.sc_mesenchymal_E12_5 <- c(\"#e31a1c\",\"#e31a1c\", \"#e31a1c\", \"#ffea00\", \"#ffea00\",\"#e31a1c\",\"#ffea00\",\"#08519c\",\"#e31a1c\",\"#ffea00\",\"#e31a1c\",\"#e31a1c\",\"#e31a1c\",\"#e31a1c\",\"#e31a1c\",\"#e31a1c\",\"#e31a1c\",\"#ffea00\",\"#e31a1c\",\"#e31a1c\",\"#e31a1c\",\"#e31a1c\",\"#ffea00\",\"#08519c\",\"#08519c\",\"#08519c\",\"#e31a1c\",\"#e31a1c\",\"#e31a1c\", \"#08519c\",\"#e31a1c\",\"#ffea00\", \"#ffea00\",\"#08519c\",\"#08519c\",\"#ffea00\",\"#ffea00\",\"#e31a1c\", \"#ffea00\",\"#e31a1c\",\"#e31a1c\",\"#e31a1c\")"
   ]
  },
  {
   "cell_type": "code",
   "execution_count": null,
   "id": "d569b352-b10c-457c-a7ac-bb7a1b25f6cf",
   "metadata": {
    "tags": []
   },
   "outputs": [],
   "source": [
    "options(repr.plot.width = 10, repr.plot.height = 8)\n",
    "DimPlot(sc_mesenchymal_E12_5, label = TRUE, cols = palette.sc_mesenchymal_E12_5) + xlab(\"UMAP 1\") + ylab(\"UMAP 2\")\n",
    "\n",
    "ggsave(\"./6-kmita/images/E12_5_m_dip-1.png\" ,width=10, height=8)"
   ]
  },
  {
   "cell_type": "code",
   "execution_count": null,
   "id": "f8a77822-6858-4f21-8961-8478ca354390",
   "metadata": {},
   "outputs": [],
   "source": [
    "options(repr.plot.width = 10, repr.plot.height = 8)\n",
    "\n",
    "FeaturePlot(sc_mesenchymal_E12_5, c(\"Hoxd9\", \"Shox2\", \"Meis1\", \"Meis2\")) + xlab(\"UMAP 1\") + ylab(\"UMAP 2\")\n",
    "ggsave(\"./6-kmita/images/E12_5_m_dip-2.png\" ,width=10, height=8)\n",
    "\n",
    "FeaturePlot(sc_mesenchymal_E12_5, c(\"Hoxa11\")) + xlab(\"UMAP 1\") + ylab(\"UMAP 2\")\n",
    "ggsave(\"./6-kmita/images/E12_5_m_dip-3.png\" ,width=10, height=8)\n",
    "\n",
    "p1 <- FeaturePlot(sc_mesenchymal_E12_5, c(\"Hoxa13\")) + xlab(\"UMAP 1\") + ylab(\"UMAP 2\")\n",
    "p2 <- FeaturePlot(sc_mesenchymal_E12_5, c(\"Hoxd13\")) + xlab(\"UMAP 1\") + ylab(\"UMAP 2\")\n",
    "p3 <- p1 - p2\n",
    "options(repr.plot.width = 20, repr.plot.height = 8)\n",
    "p3\n",
    "ggsave(\"./6-kmita/images/E12_5_m_dip-4.png\" ,width=20, height=8)"
   ]
  },
  {
   "cell_type": "markdown",
   "id": "f49f50ad-13c9-4120-8284-13a261c7fb1d",
   "metadata": {},
   "source": [
    ">Explanation colors:\n",
    ">\n",
    "> <span style=\"color:#e31a1c\">#e31a1c (red) -> distal cells</span>\n",
    ">\n",
    "> <span style=\"color:#08519c\">#08519c (blue) -> proximal cells</span>\n",
    ">\n",
    "> <span style=\"color:#ffea00\">#ffea00 (yellow) -> intermediate cells </span>"
   ]
  },
  {
   "cell_type": "code",
   "execution_count": null,
   "id": "1de9c660-389f-4fd8-a072-297988873f6d",
   "metadata": {},
   "outputs": [],
   "source": [
    "#                     0     1    2     3     4     5   6    7    8    9   10   11  12  13  14   15   16   17   18     19   20   21   22   23  24   25  26  27   28   29   30   31    32   33     34   35 36   37    38   39    40   41 \n",
    "new.cluster.ids <- c(\"D\",\"DPT\",\"DPC\",\"IPC\", \"IPC\",\"D\",\"I\",\"PPT\",\"D\",\"IPC\",\"DC\",\"D\",\"D\",\"D\",\"D\",\"DPC\",\"D\",\"IPT\",\"DC\",\"DPT\",\"D\",\"DP\",\"IPC\",\"P\",\"PPT\",\"P\",\"D\",\"D\",\"DPC\",\"PC\",\"DC\",\"IPC\",\"IPT\",\"P\",\"PPT\",\"I\",\"I\",\"PPC\",\"IC\",\"DPC\",\"DC\",\"DPC\")\n",
    "names(new.cluster.ids) <- levels(sc_mesenchymal_E12_5)\n",
    "sc_mesenchymal_E12_5 <- RenameIdents(sc_mesenchymal_E12_5, new.cluster.ids)\n",
    "sc_mesenchymal_E12_5@meta.data$labels_mesenchyme_E12_5 = Idents(sc_mesenchymal_E12_5)"
   ]
  },
  {
   "cell_type": "code",
   "execution_count": null,
   "id": "5167a8e3-f59e-4085-b944-a9d02ea783b9",
   "metadata": {},
   "outputs": [],
   "source": [
    "new.cluster.ids <- c(\"distal mesenchyme\",\"distal tenocyte precursors\", \"distal cartilage precursors\",\"intermediate cartilage precursors\",\"intermediate mesenchyme\",\"proximal tenocyte precursors\",\"distal cartilage\", \"intermediate tenocyte precursors\", \"distal joint precursors\", \"proximal mesenchyme\", \"proximal cartilage\",\"proximal cartilage precursors\", \"intermediate cartilage\")\n",
    "names(new.cluster.ids) <- levels(sc_mesenchymal_E12_5)\n",
    "sc_mesenchymal_E12_5 <- RenameIdents(sc_mesenchymal_E12_5, new.cluster.ids)\n",
    "sc_mesenchymal_E12_5@meta.data$labels_mesenchyme_E12_5 = Idents(sc_mesenchymal_E12_5)"
   ]
  },
  {
   "cell_type": "code",
   "execution_count": null,
   "id": "efdbe7bc-d982-42db-b29c-34399b37339e",
   "metadata": {},
   "outputs": [],
   "source": [
    "options(repr.plot.width = 12, repr.plot.height = 8)\n",
    "DimPlot(sc_mesenchymal_E12_5, label = FALSE) + xlab(\"UMAP 1\") + ylab(\"UMAP 2\")\n",
    "\n",
    "ggsave(\"./6-kmita/images/E12_5_m_a.png\" ,width=16, height=8)"
   ]
  },
  {
   "cell_type": "code",
   "execution_count": null,
   "id": "8b0e975f-0508-4915-80c7-87d628e7141b",
   "metadata": {},
   "outputs": [],
   "source": [
    "saveRDS(sc_mesenchymal_E12_5, file = \"./6-kmita/RDataSessions/sc_mesenchymal_E12_5_annotated_SeuratObject.Rds\")"
   ]
  },
  {
   "cell_type": "code",
   "execution_count": null,
   "id": "fb30d5f0-fc91-42df-aa7b-ef753973e66c",
   "metadata": {},
   "outputs": [],
   "source": [
    "sc_mesenchymal_E12_5 <- readRDS(\"./6-kmita/RDataSessions/sc_mesenchymal_E12_5_annotated_SeuratObject.Rds\")"
   ]
  },
  {
   "cell_type": "code",
   "execution_count": null,
   "id": "e1f1e6f9-eaa6-40c8-a371-eaebc8ad918d",
   "metadata": {},
   "outputs": [],
   "source": [
    "#Dotplot\n",
    "features <- c(\"Prrx1\",\"Prrx2\",\"Tbx5\",\"Meis1\",\"Hoxa9\",\"Hoxa11\",\"Hoxd11\",\"Hoxa13\",\"Hoxd13\",\"Shh\",\"Sox9\",\"Scx\",\"Gdf5\",\"Fgf8\",\"Wnt7a\",\"Pax3\",\"Pecam1\",\"Sox10\",\"Hba-a1\")\n",
    "\n",
    "options(repr.plot.width = 12, repr.plot.height = 5)\n",
    "\n",
    "DotPlot(sc_mesenchymal_E12_5, features = features,col.min = 0) + RotatedAxis()"
   ]
  },
  {
   "cell_type": "markdown",
   "id": "96895ee4-c5c2-4aff-87ae-fb7a6207fdd7",
   "metadata": {},
   "source": [
    "#### 5.5.2. Refinement of global annotations<a id=\"33.2\"></a>\n",
    "##### 5.5.2.1. Subsetting mesenchymal clusters - REDO"
   ]
  },
  {
   "cell_type": "markdown",
   "id": "cbe3353e-c26a-448f-b852-e9dcb816649d",
   "metadata": {},
   "source": [
    "HERE<a id=\"here\"></a>"
   ]
  },
  {
   "cell_type": "code",
   "execution_count": null,
   "id": "53cdf86d-8183-4aa4-9335-9309a3f06fb4",
   "metadata": {},
   "outputs": [],
   "source": [
    "E12_5 <- readRDS(\"/home/host_home/tom/Kmita/6-kmita/RDataSessions/E12_5_GlobalAnnotation_SeuratObject.Rds\")"
   ]
  },
  {
   "cell_type": "code",
   "execution_count": null,
   "id": "a9cfae25-bee6-4ae9-bd54-68a2337e0b8f",
   "metadata": {
    "tags": []
   },
   "outputs": [],
   "source": [
    "Idents(E12_5) <- E12_5@meta.data$CellType"
   ]
  },
  {
   "cell_type": "code",
   "execution_count": null,
   "id": "90ece81e-6530-44ce-a4e7-3d5d3f2c4abc",
   "metadata": {},
   "outputs": [],
   "source": [
    "sc_mesenchymal_E12_5 <- subset(E12_5, idents = c(\"Mesenchyme\"))"
   ]
  },
  {
   "cell_type": "code",
   "execution_count": null,
   "id": "20dd8435-d795-44b6-9557-c47df36079c9",
   "metadata": {},
   "outputs": [],
   "source": [
    "sc_mesenchymal_E12_5"
   ]
  },
  {
   "cell_type": "code",
   "execution_count": null,
   "id": "e36ad566-bed3-4b6f-89ed-7ede6c40801d",
   "metadata": {},
   "outputs": [],
   "source": [
    "sc_mesenchymal_E12_5 <- NormalizeData(sc_mesenchymal_E12_5, verbose = FALSE)\n",
    "sc_mesenchymal_E12_5 <- FindVariableFeatures(sc_mesenchymal_E12_5, selection.method = \"vst\", nfeatures = 2000)\n",
    "\n",
    "# Identify the 10 most highly variable genes\n",
    "top10 <- head(VariableFeatures(sc_mesenchymal_E12_5), 10)"
   ]
  },
  {
   "cell_type": "code",
   "execution_count": null,
   "id": "b7bbf4c7-f9e1-4118-b658-7a6f4ca7ff06",
   "metadata": {},
   "outputs": [],
   "source": [
    "sc_mesenchymal_E12_5 <- ScaleData(sc_mesenchymal_E12_5)"
   ]
  },
  {
   "cell_type": "code",
   "execution_count": null,
   "id": "81f2e027-f6b8-4071-b186-6c4dccdbaa72",
   "metadata": {},
   "outputs": [],
   "source": [
    "sc_mesenchymal_E12_5 <- RunPCA(sc_mesenchymal_E12_5, features = VariableFeatures(object = sc_mesenchymal_E12_5), verbose = FALSE)"
   ]
  },
  {
   "cell_type": "code",
   "execution_count": null,
   "id": "195dcca7-7ba6-4c35-b27e-a2817433df84",
   "metadata": {},
   "outputs": [],
   "source": [
    "options(repr.plot.width=10)\n",
    "DimPlot(sc_mesenchymal_E12_5, reduction = \"pca\", group.by = \"orig.ident\") + xlab(\"PC 1\") + ylab(\"PC 2\")"
   ]
  },
  {
   "cell_type": "code",
   "execution_count": null,
   "id": "fb0ae9cc-99df-4cc2-9115-ca72a20edacb",
   "metadata": {},
   "outputs": [],
   "source": [
    "ElbowPlot(sc_mesenchymal_E12_5, 50)"
   ]
  },
  {
   "cell_type": "code",
   "execution_count": null,
   "id": "1a9936cc-5640-4dfa-94b7-f3b4fb419224",
   "metadata": {
    "scrolled": true,
    "tags": []
   },
   "outputs": [],
   "source": [
    "sc_mesenchymal_E12_5 <- FindNeighbors(sc_mesenchymal_E12_5, dims = 1:25, verbose = FALSE)\n",
    "sc_mesenchymal_E12_5 <- FindClusters(sc_mesenchymal_E12_5, resolution = 3, verbose = FALSE)"
   ]
  },
  {
   "cell_type": "code",
   "execution_count": null,
   "id": "9c4ae138-3047-4915-b6c1-c18b69d67988",
   "metadata": {
    "scrolled": true
   },
   "outputs": [],
   "source": [
    "sc_mesenchymal_E12_5 <- RunUMAP(sc_mesenchymal_E12_5, dims = 1:25, n.neighbors = 10, verbose = FALSE)"
   ]
  },
  {
   "cell_type": "code",
   "execution_count": null,
   "id": "3f14139a-0a5c-4069-b2d0-4273bdadf7a0",
   "metadata": {},
   "outputs": [],
   "source": [
    "options(repr.plot.width = 9)\n",
    "DimPlot(sc_mesenchymal_E12_5, reduction = \"umap\", label=TRUE) + xlab(\"UMAP 1\") + ylab(\"UMAP 2\")"
   ]
  },
  {
   "cell_type": "code",
   "execution_count": null,
   "id": "f42064f9-9eb9-4a39-a499-5f9c01366668",
   "metadata": {
    "tags": []
   },
   "outputs": [],
   "source": [
    "#markers_12_5_mesenchyme <- FindAllMarkers(sc_mesenchymal_E12_5)"
   ]
  },
  {
   "cell_type": "code",
   "execution_count": null,
   "id": "6a7674aa-4c56-4113-a37a-f6ad60920944",
   "metadata": {},
   "outputs": [],
   "source": [
    "#saveRDS(markers_12_5_mesenchyme, file = \"./6-kmita/analysis/markers_12_5_mesenchyme.Rds\")"
   ]
  },
  {
   "cell_type": "code",
   "execution_count": null,
   "id": "ce35ae8f-e85a-480d-afa6-87c76c388fc2",
   "metadata": {},
   "outputs": [],
   "source": [
    "#.markers_12_5_mesenchyme <- readRDS(file = \"./6-kmita/analysis/markers_12_5_mesenchyme.Rds\")"
   ]
  },
  {
   "cell_type": "code",
   "execution_count": null,
   "id": "4a4f21de-c5a4-4b16-8d3d-b81df7b0c054",
   "metadata": {},
   "outputs": [],
   "source": [
    "# find markers for every cluster compared to all remaining cells, report only the positive\n",
    "# ones\n",
    "#df_m %>%\n",
    "#    group_by(cluster) %>%\n",
    "#    slice_max(n = 10, order_by = avg_log2FC)"
   ]
  },
  {
   "cell_type": "code",
   "execution_count": null,
   "id": "b8c4d0d0-3b42-4fba-b69c-da203b414498",
   "metadata": {},
   "outputs": [],
   "source": [
    "#select only cluster 0 and order avg_log2FC from big to small\n",
    "\n",
    "#markers_12_5_mesenchyme[markers_12_5_mesenchyme$cluster == 40,] %>%\n",
    "#slice_max(n = 50, order_by = avg_log2FC)"
   ]
  },
  {
   "cell_type": "markdown",
   "id": "6bcfc95f-a7ac-4e9d-b792-dca91b0618f2",
   "metadata": {},
   "source": [
    "Proximal mesenchyme"
   ]
  },
  {
   "cell_type": "code",
   "execution_count": null,
   "id": "2864df91-d9ee-444f-93c3-2f215832c891",
   "metadata": {},
   "outputs": [],
   "source": [
    "g <- WhichCells(sc_mesenchymal_E12_5, idents = c(\"21\",\"32\"))\n",
    "p1 <- DimPlot(sc_mesenchymal_E12_5, cells.highlight = list(g), label = TRUE) + xlab(\"UMAP 1\") + ylab(\"UMAP 2\")\n",
    "p2 <- FeaturePlot(sc_mesenchymal_E12_5, c(\"Meis1\",\"Meis2\",\"Hoxd9\",'Hoxa9')) + xlab(\"UMAP 1\") + ylab(\"UMAP 2\")\n",
    "\n",
    "options(repr.plot.width = 20, repr.plot.height = 8)\n",
    "p1 + p2"
   ]
  },
  {
   "cell_type": "code",
   "execution_count": null,
   "id": "f9e552d8-96d9-4bce-b65f-ce366c36fa46",
   "metadata": {},
   "outputs": [],
   "source": [
    "g <- WhichCells(sc_mesenchymal_E12_5, idents = c(\"21\",\"16\",\"27\",\"32\",\"9\",\"31\"))\n",
    "p1 <- DimPlot(sc_mesenchymal_E12_5, cells.highlight = list(g), label = TRUE) + xlab(\"UMAP 1\") + ylab(\"UMAP 2\")\n",
    "p2 <- FeaturePlot(sc_mesenchymal_E12_5, c(\"Meis1\",\"Hoxa9\",\"Hoxd9\")) + xlab(\"UMAP 1\") + ylab(\"UMAP 2\")\n",
    "\n",
    "options(repr.plot.width = 20, repr.plot.height = 8)\n",
    "p1 + p2"
   ]
  },
  {
   "cell_type": "markdown",
   "id": "877b61f6-b731-4ebb-b49f-8d020aae0504",
   "metadata": {},
   "source": [
    "Intermediate mesenchyme"
   ]
  },
  {
   "cell_type": "code",
   "execution_count": null,
   "id": "b1fdcf0d-69dd-4e50-a74d-881a9c9b53a8",
   "metadata": {},
   "outputs": [],
   "source": [
    "g <- WhichCells(sc_mesenchymal_E12_5, idents = c(\"18\"))\n",
    "p1 <- DimPlot(sc_mesenchymal_E12_5, cells.highlight = list(g)) + xlab(\"UMAP 1\") + ylab(\"UMAP 2\")\n",
    "p2 <- FeaturePlot(sc_mesenchymal_E12_5, c(\"Hoxa11\", \"Hoxd11\")) + xlab(\"UMAP 1\") + ylab(\"UMAP 2\")\n",
    "\n",
    "options(repr.plot.width = 7, repr.plot.height = 5.5)\n",
    "p1 \n",
    "options(repr.plot.width = 12, repr.plot.height = 5.5)\n",
    "p2"
   ]
  },
  {
   "cell_type": "code",
   "execution_count": null,
   "id": "cea23184-a6e4-4618-9c50-220fff535d3d",
   "metadata": {},
   "outputs": [],
   "source": [
    "g <- WhichCells(sc_mesenchymal_E12_5, idents = c(\"20\",\"24\",\"34\",\"5\",\"22\",\"4\",'9','17','28','15','10','4','2',\"27\",\"31\",\"16\",'30','33'))\n",
    "p1 <- DimPlot(sc_mesenchymal_E12_5, cells.highlight = list(g)) + xlab(\"UMAP 1\") + ylab(\"UMAP 2\")\n",
    "p2 <- FeaturePlot(sc_mesenchymal_E12_5, c(\"Hoxa11\", \"Hoxd11\")) + xlab(\"UMAP 1\") + ylab(\"UMAP 2\")\n",
    "\n",
    "options(repr.plot.width = 7, repr.plot.height = 5.5)\n",
    "p1 \n",
    "options(repr.plot.width = 12, repr.plot.height = 5.5)\n",
    "p2"
   ]
  },
  {
   "cell_type": "markdown",
   "id": "4718aa14-9af3-47a5-baed-c8c54de410b8",
   "metadata": {},
   "source": [
    "Distal mesenchyme"
   ]
  },
  {
   "cell_type": "code",
   "execution_count": null,
   "id": "e060e8b4-f22b-4eab-bba7-9ef5fb1a2ae0",
   "metadata": {},
   "outputs": [],
   "source": [
    "g <- WhichCells(sc_mesenchymal_E12_5, idents = c(\"19\"))\n",
    "p1 <- DimPlot(sc_mesenchymal_E12_5, cells.highlight = list(g)) + xlab(\"UMAP 1\") + ylab(\"UMAP 2\")\n",
    "p2 <- FeaturePlot(sc_mesenchymal_E12_5, c(\"Hoxa13\", \"Hoxd13\")) + xlab(\"UMAP 1\") + ylab(\"UMAP 2\")\n",
    "\n",
    "options(repr.plot.width = 7, repr.plot.height = 5.5)\n",
    "p1 \n",
    "options(repr.plot.width = 12, repr.plot.height = 5.5)\n",
    "p2"
   ]
  },
  {
   "cell_type": "code",
   "execution_count": null,
   "id": "b94898a2-f05f-461e-9bcc-50730098a057",
   "metadata": {},
   "outputs": [],
   "source": [
    "g <- WhichCells(sc_mesenchymal_E12_5, idents = c())\n",
    "p1 <- DimPlot(sc_mesenchymal_E12_5, cells.highlight = list(g)) + xlab(\"UMAP 1\") + ylab(\"UMAP 2\")\n",
    "p2 <- FeaturePlot(sc_mesenchymal_E12_5, c(\"Hoxa13\", \"Hoxd13\")) + xlab(\"UMAP 1\") + ylab(\"UMAP 2\")\n",
    "\n",
    "options(repr.plot.width = 9.5, repr.plot.height = 8)\n",
    "p1\n",
    "options(repr.plot.width = 17, repr.plot.height = 8)\n",
    "p2"
   ]
  },
  {
   "cell_type": "code",
   "execution_count": null,
   "id": "920b973a-5cf2-4094-b1f2-fec6a3d862ee",
   "metadata": {},
   "outputs": [],
   "source": [
    "g <- WhichCells(sc_mesenchymal_E12_5, idents = c(\"36\"))\n",
    "p1 <- DimPlot(sc_mesenchymal_E12_5, cells.highlight = list(g)) + xlab(\"UMAP 1\") + ylab(\"UMAP 2\")\n",
    "p2 <- FeaturePlot(sc_mesenchymal_E12_5, c(\"Hoxd9\",\"Hoxa11\",\"Hoxa13\", \"Hoxd13\")) + xlab(\"UMAP 1\") + ylab(\"UMAP 2\")\n",
    "\n",
    "options(repr.plot.width = 28, repr.plot.height = 11)\n",
    "p1 + p2"
   ]
  },
  {
   "cell_type": "code",
   "execution_count": null,
   "id": "8c050275-daac-4ad7-b796-0b09b3b1f688",
   "metadata": {},
   "outputs": [],
   "source": [
    "sc_mesenchymal_E12_5@meta.data$CellType_PID <- Idents(sc_mesenchymal_E12_5)"
   ]
  },
  {
   "cell_type": "code",
   "execution_count": null,
   "id": "f4ce449e-e788-43a4-9fa8-9e28d43618a3",
   "metadata": {},
   "outputs": [],
   "source": [
    "sc_mesenchymal_E12_5@meta.data$CellType_PID <- as.character(sc_mesenchymal_E12_5@meta.data$CellType_PID)\n",
    "\n",
    "sc_mesenchymal_E12_5@meta.data$CellType_PID[sc_mesenchymal_E12_5@meta.data$CellType_PID == '21'] <- 'Proximal cells'\n",
    "sc_mesenchymal_E12_5@meta.data$CellType_PID[sc_mesenchymal_E12_5@meta.data$CellType_PID == '32'] <- 'Proximal cells'\n",
    "\n",
    "sc_mesenchymal_E12_5@meta.data$CellType_PID[sc_mesenchymal_E12_5@meta.data$CellType_PID == '20'] <- 'Intermediate cells'\n",
    "sc_mesenchymal_E12_5@meta.data$CellType_PID[sc_mesenchymal_E12_5@meta.data$CellType_PID == '24'] <- 'Intermediate cells'\n",
    "sc_mesenchymal_E12_5@meta.data$CellType_PID[sc_mesenchymal_E12_5@meta.data$CellType_PID == '34'] <- 'Intermediate cells'\n",
    "sc_mesenchymal_E12_5@meta.data$CellType_PID[sc_mesenchymal_E12_5@meta.data$CellType_PID == '5'] <- 'Intermediate cells'\n",
    "sc_mesenchymal_E12_5@meta.data$CellType_PID[sc_mesenchymal_E12_5@meta.data$CellType_PID == '22'] <- 'Intermediate cells'\n",
    "sc_mesenchymal_E12_5@meta.data$CellType_PID[sc_mesenchymal_E12_5@meta.data$CellType_PID == '4'] <- 'Intermediate cells'\n",
    "sc_mesenchymal_E12_5@meta.data$CellType_PID[sc_mesenchymal_E12_5@meta.data$CellType_PID == '9'] <- 'Intermediate cells'\n",
    "sc_mesenchymal_E12_5@meta.data$CellType_PID[sc_mesenchymal_E12_5@meta.data$CellType_PID == '17'] <- 'Intermediate cells'\n",
    "sc_mesenchymal_E12_5@meta.data$CellType_PID[sc_mesenchymal_E12_5@meta.data$CellType_PID == '28'] <- 'Intermediate cells'\n",
    "sc_mesenchymal_E12_5@meta.data$CellType_PID[sc_mesenchymal_E12_5@meta.data$CellType_PID == '15'] <- 'Intermediate cells'\n",
    "sc_mesenchymal_E12_5@meta.data$CellType_PID[sc_mesenchymal_E12_5@meta.data$CellType_PID == '10'] <- 'Intermediate cells'\n",
    "sc_mesenchymal_E12_5@meta.data$CellType_PID[sc_mesenchymal_E12_5@meta.data$CellType_PID == '4'] <- 'Intermediate cells'\n",
    "sc_mesenchymal_E12_5@meta.data$CellType_PID[sc_mesenchymal_E12_5@meta.data$CellType_PID == '2'] <- 'Intermediate cells'\n",
    "sc_mesenchymal_E12_5@meta.data$CellType_PID[sc_mesenchymal_E12_5@meta.data$CellType_PID == '27'] <- 'Intermediate cells'\n",
    "sc_mesenchymal_E12_5@meta.data$CellType_PID[sc_mesenchymal_E12_5@meta.data$CellType_PID == '31'] <- 'Intermediate cells'\n",
    "sc_mesenchymal_E12_5@meta.data$CellType_PID[sc_mesenchymal_E12_5@meta.data$CellType_PID == '16'] <- 'Intermediate cells'\n",
    "sc_mesenchymal_E12_5@meta.data$CellType_PID[sc_mesenchymal_E12_5@meta.data$CellType_PID == '30'] <- 'Intermediate cells'\n",
    "sc_mesenchymal_E12_5@meta.data$CellType_PID[sc_mesenchymal_E12_5@meta.data$CellType_PID == '33'] <- 'Intermediate cells'\n",
    "\n",
    "sc_mesenchymal_E12_5@meta.data$CellType_PID[sc_mesenchymal_E12_5@meta.data$CellType_PID == '0'] <- 'Distal cells'\n",
    "sc_mesenchymal_E12_5@meta.data$CellType_PID[sc_mesenchymal_E12_5@meta.data$CellType_PID == '1'] <- 'Distal cells'\n",
    "sc_mesenchymal_E12_5@meta.data$CellType_PID[sc_mesenchymal_E12_5@meta.data$CellType_PID == '11'] <- 'Distal cells'\n",
    "sc_mesenchymal_E12_5@meta.data$CellType_PID[sc_mesenchymal_E12_5@meta.data$CellType_PID == '12'] <- 'Distal cells'\n",
    "sc_mesenchymal_E12_5@meta.data$CellType_PID[sc_mesenchymal_E12_5@meta.data$CellType_PID == '13'] <- 'Distal cells'\n",
    "sc_mesenchymal_E12_5@meta.data$CellType_PID[sc_mesenchymal_E12_5@meta.data$CellType_PID == '14'] <- 'Distal cells'\n",
    "sc_mesenchymal_E12_5@meta.data$CellType_PID[sc_mesenchymal_E12_5@meta.data$CellType_PID == '18'] <- 'Distal cells'\n",
    "sc_mesenchymal_E12_5@meta.data$CellType_PID[sc_mesenchymal_E12_5@meta.data$CellType_PID == '19'] <- 'Distal cells'\n",
    "sc_mesenchymal_E12_5@meta.data$CellType_PID[sc_mesenchymal_E12_5@meta.data$CellType_PID == '23'] <- 'Distal cells'\n",
    "sc_mesenchymal_E12_5@meta.data$CellType_PID[sc_mesenchymal_E12_5@meta.data$CellType_PID == '25'] <- 'Distal cells'\n",
    "sc_mesenchymal_E12_5@meta.data$CellType_PID[sc_mesenchymal_E12_5@meta.data$CellType_PID == '26'] <- 'Distal cells'\n",
    "sc_mesenchymal_E12_5@meta.data$CellType_PID[sc_mesenchymal_E12_5@meta.data$CellType_PID == '29'] <- 'Distal cells'\n",
    "sc_mesenchymal_E12_5@meta.data$CellType_PID[sc_mesenchymal_E12_5@meta.data$CellType_PID == '3'] <- 'Distal cells'\n",
    "sc_mesenchymal_E12_5@meta.data$CellType_PID[sc_mesenchymal_E12_5@meta.data$CellType_PID == '35'] <- 'Distal cells'\n",
    "sc_mesenchymal_E12_5@meta.data$CellType_PID[sc_mesenchymal_E12_5@meta.data$CellType_PID == '36'] <- 'Distal cells'\n",
    "sc_mesenchymal_E12_5@meta.data$CellType_PID[sc_mesenchymal_E12_5@meta.data$CellType_PID == '37'] <- 'Distal cells'\n",
    "sc_mesenchymal_E12_5@meta.data$CellType_PID[sc_mesenchymal_E12_5@meta.data$CellType_PID == '6'] <- 'Distal cells'\n",
    "sc_mesenchymal_E12_5@meta.data$CellType_PID[sc_mesenchymal_E12_5@meta.data$CellType_PID == '7'] <- 'Distal cells'\n",
    "sc_mesenchymal_E12_5@meta.data$CellType_PID[sc_mesenchymal_E12_5@meta.data$CellType_PID == '8'] <- 'Distal cells'\n",
    "\n",
    "sc_mesenchymal_E12_5@meta.data$CellType_PID <- as.factor(sc_mesenchymal_E12_5@meta.data$CellType_PID)"
   ]
  },
  {
   "cell_type": "code",
   "execution_count": null,
   "id": "06cb1ff1-01d8-491c-b2ff-efce2ce57eda",
   "metadata": {},
   "outputs": [],
   "source": [
    "options(repr.plot.width = 14, repr.plot.height = 11)\n",
    "DimPlot(sc_mesenchymal_E12_5, group.by = \"CellType_PID\") + xlab(\"UMAP 1\") + ylab(\"UMAP 2\")"
   ]
  },
  {
   "cell_type": "code",
   "execution_count": null,
   "id": "78a781c6-512b-423a-aed5-69b024c4f11f",
   "metadata": {},
   "outputs": [],
   "source": [
    "options(repr.plot.width = 14, repr.plot.height = 11)\n",
    "DimPlot(sc_mesenchymal_E12_5, label = TRUE) + xlab(\"UMAP 1\") + ylab(\"UMAP 2\")"
   ]
  },
  {
   "cell_type": "markdown",
   "id": "23741ff4-7164-4e12-8e44-069a83ea9703",
   "metadata": {},
   "source": [
    "Cartilage precursors"
   ]
  },
  {
   "cell_type": "code",
   "execution_count": null,
   "id": "0cfa063f-9fa1-4bab-b9f6-7d58d597f7ac",
   "metadata": {},
   "outputs": [],
   "source": [
    "g <- WhichCells(sc_mesenchymal_E12_5, idents = c(\"0\"))\n",
    "p1 <- DimPlot(sc_mesenchymal_E12_5, cells.highlight = list(g), label = TRUE) + xlab(\"UMAP 1\") + ylab(\"UMAP 2\")\n",
    "p2 <- FeaturePlot(sc_mesenchymal_E12_5, c(\"Sox9\", \"Col2a1\",\"Sox5\",\"Sox6\",\"Prrx2\")) + xlab(\"UMAP 1\") + ylab(\"UMAP 2\")\n",
    "p3 <- FeaturePlot(sc_mesenchymal_E12_5, c(\"Prrx1\")) + xlab(\"UMAP 1\") + ylab(\"UMAP 2\")\n",
    "\n",
    "options(repr.plot.width = 16, repr.plot.height = 6)\n",
    "p1 + p3\n",
    "options(repr.plot.width = 16, repr.plot.height = 18)\n",
    "p2\n"
   ]
  },
  {
   "cell_type": "code",
   "execution_count": null,
   "id": "bfe88b43-1e0d-491b-8585-81de90e1bd85",
   "metadata": {},
   "outputs": [],
   "source": [
    "g <- WhichCells(sc_mesenchymal_E12_5, idents = c(\"8\",\"28\",\"15\",\"10\",\"35\"))\n",
    "p1 <- DimPlot(sc_mesenchymal_E12_5, cells.highlight = list(g), label = TRUE) + xlab(\"UMAP 1\") + ylab(\"UMAP 2\")\n",
    "p2 <- FeaturePlot(sc_mesenchymal_E12_5, c(\"Sox9\", \"Col2a1\",\"Sox5\",\"Sox6\",\"Prrx2\")) + xlab(\"UMAP 1\") + ylab(\"UMAP 2\")\n",
    "p3 <- FeaturePlot(sc_mesenchymal_E12_5, c(\"Prrx1\")) + xlab(\"UMAP 1\") + ylab(\"UMAP 2\")\n",
    "\n",
    "options(repr.plot.width = 16, repr.plot.height = 6)\n",
    "p1 + p3\n",
    "options(repr.plot.width = 16, repr.plot.height = 18)\n",
    "p2\n"
   ]
  },
  {
   "cell_type": "markdown",
   "id": "3a75ba08-445d-4737-aca7-94a9821cb80b",
   "metadata": {},
   "source": [
    "Cartilage"
   ]
  },
  {
   "cell_type": "code",
   "execution_count": null,
   "id": "fecc9ccd-1b39-421b-9425-764a557444fb",
   "metadata": {},
   "outputs": [],
   "source": [
    "g <- WhichCells(sc_mesenchymal_E12_5, idents = c(\"0\"))\n",
    "p1 <- DimPlot(sc_mesenchymal_E12_5, cells.highlight = list(g)) + xlab(\"UMAP 1\") + ylab(\"UMAP 2\")\n",
    "p2 <- FeaturePlot(sc_mesenchymal_E12_5, c(\"Sox9\", \"Col2a1\",\"Sox5\",\"Sox6\",'Col10a1','Pthlh')) + xlab(\"UMAP 1\") + ylab(\"UMAP 2\")\n",
    "\n",
    "options(repr.plot.width = 20, repr.plot.height = 8)\n",
    "p1 + p2"
   ]
  },
  {
   "cell_type": "code",
   "execution_count": null,
   "id": "541d8074-43a0-409c-a818-b49540ed0588",
   "metadata": {},
   "outputs": [],
   "source": [
    "g <- WhichCells(sc_mesenchymal_E12_5, idents = c(\"0\",'13','11','26'))\n",
    "p1 <- DimPlot(sc_mesenchymal_E12_5, cells.highlight = list(g)) + xlab(\"UMAP 1\") + ylab(\"UMAP 2\")\n",
    "p2 <- FeaturePlot(sc_mesenchymal_E12_5, c(\"Sox9\", \"Col2a1\",\"Sox5\",\"Sox6\",'Col10a1','Pthlh')) + xlab(\"UMAP 1\") + ylab(\"UMAP 2\")\n",
    "\n",
    "options(repr.plot.width = 20, repr.plot.height = 8)\n",
    "p1 + p2"
   ]
  },
  {
   "cell_type": "code",
   "execution_count": null,
   "id": "2a974bbe-decb-460c-8b1f-eb029262367e",
   "metadata": {},
   "outputs": [],
   "source": [
    "#Resting zone chondrocytes\n",
    "g <- WhichCells(sc_mesenchymal_E12_5, idents = c('13',\"0\"))\n",
    "p1 <- DimPlot(sc_mesenchymal_E12_5, cells.highlight = list(g), label = TRUE) + xlab(\"UMAP 1\") + ylab(\"UMAP 2\")\n",
    "p2 <- FeaturePlot(sc_mesenchymal_E12_5, c(\"Fgfr3\", \"Pcp4\", \"Pthlh\", \"Sfrp5\", \"Spon1\")) + xlab(\"UMAP 1\") + ylab(\"UMAP 2\")\n",
    "\n",
    "options(repr.plot.width = 20, repr.plot.height = 8)\n",
    "p1 + p2"
   ]
  },
  {
   "cell_type": "code",
   "execution_count": null,
   "id": "770074c3-b1d8-4b0e-b6ec-979699f661ae",
   "metadata": {},
   "outputs": [],
   "source": [
    "#Proliferative chondrocytes\n",
    "g <- WhichCells(sc_mesenchymal_E12_5, idents = c('26','11'))\n",
    "p1 <- DimPlot(sc_mesenchymal_E12_5, cells.highlight = list(g)) + xlab(\"UMAP 1\") + ylab(\"UMAP 2\")\n",
    "p2 <- FeaturePlot(sc_mesenchymal_E12_5, c(\"Sox9\", \"Mki67\", \"Top2a\", \"Pth1r\")) + xlab(\"UMAP 1\") + ylab(\"UMAP 2\")\n",
    "\n",
    "options(repr.plot.width = 20, repr.plot.height = 8)\n",
    "p1 + p2"
   ]
  },
  {
   "cell_type": "markdown",
   "id": "0216f22d-ad9d-4bfd-877b-c6abfdb93f4c",
   "metadata": {
    "tags": []
   },
   "source": [
    "Tenocyte precursors"
   ]
  },
  {
   "cell_type": "code",
   "execution_count": null,
   "id": "c64ae8d1-7f36-4abb-812f-9bed62469178",
   "metadata": {},
   "outputs": [],
   "source": [
    "g <- WhichCells(sc_mesenchymal_E12_5, idents = c(\"21\",\"9\",\"16\",\"34\",\"5\",\"20\",\"24\",\"17\",\"32\",\"22\"))\n",
    "p1 <- DimPlot(sc_mesenchymal_E12_5, cells.highlight = list(g),label = TRUE) + xlab(\"UMAP 1\") + ylab(\"UMAP 2\")\n",
    "p2 <- FeaturePlot(sc_mesenchymal_E12_5, c(\"Tnmd\", \"Scx\", \"Prrx1\", \"Prrx2\")) + xlab(\"UMAP 1\") + ylab(\"UMAP 2\")\n",
    "\n",
    "options(repr.plot.width = 20, repr.plot.height = 8)\n",
    "p1 + p2\n",
    "\n",
    "#Check cluster 23"
   ]
  },
  {
   "cell_type": "code",
   "execution_count": null,
   "id": "fc0ee248-1e5c-4115-9093-bccde69d035a",
   "metadata": {},
   "outputs": [],
   "source": [
    "g <- WhichCells(sc_mesenchymal_E12_5, idents = c(\"1\",\"17\",\"19\",\"24\",\"32\",\"34\", \"7\"))\n",
    "p1 <- DimPlot(sc_mesenchymal_E12_5, cells.highlight = list(g)) + xlab(\"UMAP 1\") + ylab(\"UMAP 2\")\n",
    "p2 <- FeaturePlot(sc_mesenchymal_E12_5, c(\"Scx\", \"Tnc\", \"Mkx\")) + xlab(\"UMAP 1\") + ylab(\"UMAP 2\")\n",
    "\n",
    "options(repr.plot.width = 20, repr.plot.height = 8)\n",
    "p1 + p2\n",
    "\n",
    "#ggsave(\"./6-kmita/images/E12_5_m_t.png\" ,width=20, height=8)"
   ]
  },
  {
   "cell_type": "markdown",
   "id": "a9df9323-1731-4849-8658-6afba537bb07",
   "metadata": {},
   "source": [
    "Joint"
   ]
  },
  {
   "cell_type": "code",
   "execution_count": null,
   "id": "d3834c39-d7b8-4d2f-9db4-1a17e449d1d2",
   "metadata": {},
   "outputs": [],
   "source": [
    "g <- WhichCells(sc_mesenchymal_E12_5, idents = c(\"25\"))\n",
    "p1 <- DimPlot(sc_mesenchymal_E12_5, cells.highlight = list(g), label = TRUE) + xlab(\"UMAP 1\") + ylab(\"UMAP 2\")\n",
    "p2 <- FeaturePlot(sc_mesenchymal_E12_5, c(\"Smoc2\", \"Dact2\", \"Wnt4\", \"Wnt16\")) + xlab(\"UMAP 1\") + ylab(\"UMAP 2\")\n",
    "p3 <- FeaturePlot(sc_mesenchymal_E12_5, c(\"Gdf5\",\"Sox9\"), blend = TRUE)\n",
    "p4 <- FeaturePlot(sc_mesenchymal_E12_5, c(\"Gdf5\",\"Prrx1\"), blend = TRUE)\n",
    "\n",
    "options(repr.plot.width = 20, repr.plot.height = 8)\n",
    "p1 + p2\n",
    "options(repr.plot.width = 20, repr.plot.height = 8)\n",
    "p3\n",
    "p4"
   ]
  },
  {
   "cell_type": "code",
   "execution_count": null,
   "id": "4b052c21-fe23-42c9-8611-fb45e4148b15",
   "metadata": {},
   "outputs": [],
   "source": [
    "sc_mesenchymal_E12_5@meta.data$CellType <- Idents(sc_mesenchymal_E12_5)"
   ]
  },
  {
   "cell_type": "code",
   "execution_count": null,
   "id": "c9c662f3-e3d2-43d1-afd6-8792bb5bc948",
   "metadata": {},
   "outputs": [],
   "source": [
    "sc_mesenchymal_E12_5@meta.data$CellType[sc_mesenchymal_E12_5@meta.data$CellType == ''] <- 'Limb bud mesenchyme'"
   ]
  },
  {
   "cell_type": "code",
   "execution_count": null,
   "id": "ad43cb0b-22f6-4bc1-839e-83f65a813b0e",
   "metadata": {},
   "outputs": [],
   "source": [
    "sc_mesenchymal_E12_5@meta.data$CellType <- as.character(sc_mesenchymal_E12_5@meta.data$CellType)\n",
    "\n",
    "sc_mesenchymal_E12_5@meta.data$CellType[sc_mesenchymal_E12_5@meta.data$CellType == '8'] <- 'Chondroprogenitors'\n",
    "sc_mesenchymal_E12_5@meta.data$CellType[sc_mesenchymal_E12_5@meta.data$CellType == '28'] <- 'Chondroprogenitors'\n",
    "sc_mesenchymal_E12_5@meta.data$CellType[sc_mesenchymal_E12_5@meta.data$CellType == '15'] <- 'Chondroprogenitors'\n",
    "sc_mesenchymal_E12_5@meta.data$CellType[sc_mesenchymal_E12_5@meta.data$CellType == '10'] <- 'Chondroprogenitors'\n",
    "sc_mesenchymal_E12_5@meta.data$CellType[sc_mesenchymal_E12_5@meta.data$CellType == '35'] <- 'Chondroprogenitors'\n",
    "\n",
    "sc_mesenchymal_E12_5@meta.data$CellType[sc_mesenchymal_E12_5@meta.data$CellType == '13'] <- 'Resting zone chondrocytes'\n",
    "sc_mesenchymal_E12_5@meta.data$CellType[sc_mesenchymal_E12_5@meta.data$CellType == '0'] <- 'Resting zone chondrocytes'\n",
    "\n",
    "sc_mesenchymal_E12_5@meta.data$CellType[sc_mesenchymal_E12_5@meta.data$CellType == '26'] <- 'Proliferative chondrocytes'\n",
    "sc_mesenchymal_E12_5@meta.data$CellType[sc_mesenchymal_E12_5@meta.data$CellType == '11'] <- 'Proliferative chondrocytes'\n",
    "\n",
    "sc_mesenchymal_E12_5@meta.data$CellType[sc_mesenchymal_E12_5@meta.data$CellType == '25'] <- 'Joint precursors'\n",
    "\n",
    "sc_mesenchymal_E12_5@meta.data$CellType[sc_mesenchymal_E12_5@meta.data$CellType == '21'] <- 'Tenocyte precursors'\n",
    "sc_mesenchymal_E12_5@meta.data$CellType[sc_mesenchymal_E12_5@meta.data$CellType == '9'] <- 'Tenocyte precursors'\n",
    "sc_mesenchymal_E12_5@meta.data$CellType[sc_mesenchymal_E12_5@meta.data$CellType == '16'] <- 'Tenocyte precursors'\n",
    "sc_mesenchymal_E12_5@meta.data$CellType[sc_mesenchymal_E12_5@meta.data$CellType == '34'] <- 'Tenocyte precursors'\n",
    "sc_mesenchymal_E12_5@meta.data$CellType[sc_mesenchymal_E12_5@meta.data$CellType == '5'] <- 'Tenocyte precursors'\n",
    "sc_mesenchymal_E12_5@meta.data$CellType[sc_mesenchymal_E12_5@meta.data$CellType == '20'] <- 'Tenocyte precursors'\n",
    "sc_mesenchymal_E12_5@meta.data$CellType[sc_mesenchymal_E12_5@meta.data$CellType == '24'] <- 'Tenocyte precursors'\n",
    "sc_mesenchymal_E12_5@meta.data$CellType[sc_mesenchymal_E12_5@meta.data$CellType == '17'] <- 'Tenocyte precursors'\n",
    "sc_mesenchymal_E12_5@meta.data$CellType[sc_mesenchymal_E12_5@meta.data$CellType == '32'] <- 'Tenocyte precursors'\n",
    "sc_mesenchymal_E12_5@meta.data$CellType[sc_mesenchymal_E12_5@meta.data$CellType == '22'] <- 'Tenocyte precursors'\n",
    "\n",
    "sc_mesenchymal_E12_5@meta.data$CellType[sc_mesenchymal_E12_5@meta.data$CellType == '1'] <- 'Distal limb bud mesenchyme'\n",
    "sc_mesenchymal_E12_5@meta.data$CellType[sc_mesenchymal_E12_5@meta.data$CellType == '12'] <- 'Distal limb bud mesenchyme'\n",
    "sc_mesenchymal_E12_5@meta.data$CellType[sc_mesenchymal_E12_5@meta.data$CellType == '14'] <- 'Distal limb bud mesenchyme'\n",
    "sc_mesenchymal_E12_5@meta.data$CellType[sc_mesenchymal_E12_5@meta.data$CellType == '18'] <- 'Distal limb bud mesenchyme'\n",
    "sc_mesenchymal_E12_5@meta.data$CellType[sc_mesenchymal_E12_5@meta.data$CellType == '19'] <- 'Distal limb bud mesenchyme'\n",
    "sc_mesenchymal_E12_5@meta.data$CellType[sc_mesenchymal_E12_5@meta.data$CellType == '2'] <- 'Intermediate limb bud mesenchyme'\n",
    "sc_mesenchymal_E12_5@meta.data$CellType[sc_mesenchymal_E12_5@meta.data$CellType == '23'] <- 'Distal limb bud mesenchyme'\n",
    "sc_mesenchymal_E12_5@meta.data$CellType[sc_mesenchymal_E12_5@meta.data$CellType == '27'] <- 'Intermediate limb bud mesenchyme'\n",
    "sc_mesenchymal_E12_5@meta.data$CellType[sc_mesenchymal_E12_5@meta.data$CellType == '29'] <- 'Distal limb bud mesenchyme'\n",
    "sc_mesenchymal_E12_5@meta.data$CellType[sc_mesenchymal_E12_5@meta.data$CellType == '3'] <- 'Distal limb bud mesenchyme'\n",
    "sc_mesenchymal_E12_5@meta.data$CellType[sc_mesenchymal_E12_5@meta.data$CellType == '30'] <- 'Intermediate limb bud mesenchyme'\n",
    "sc_mesenchymal_E12_5@meta.data$CellType[sc_mesenchymal_E12_5@meta.data$CellType == '31'] <- 'Intermediate limb bud mesenchyme'\n",
    "sc_mesenchymal_E12_5@meta.data$CellType[sc_mesenchymal_E12_5@meta.data$CellType == '33'] <- 'Intermediate limb bud mesenchyme'\n",
    "sc_mesenchymal_E12_5@meta.data$CellType[sc_mesenchymal_E12_5@meta.data$CellType == '36'] <- 'Distal limb bud mesenchyme'\n",
    "sc_mesenchymal_E12_5@meta.data$CellType[sc_mesenchymal_E12_5@meta.data$CellType == '37'] <- 'Distal limb bud mesenchyme'\n",
    "sc_mesenchymal_E12_5@meta.data$CellType[sc_mesenchymal_E12_5@meta.data$CellType == '4'] <- 'Intermediate limb bud mesenchyme'\n",
    "sc_mesenchymal_E12_5@meta.data$CellType[sc_mesenchymal_E12_5@meta.data$CellType == '6'] <- 'Distal limb bud mesenchyme'\n",
    "sc_mesenchymal_E12_5@meta.data$CellType[sc_mesenchymal_E12_5@meta.data$CellType == '7'] <- 'Distal limb bud mesenchyme'\n",
    "\n",
    "sc_mesenchymal_E12_5@meta.data$CellType <- as.factor(sc_mesenchymal_E12_5@meta.data$CellType)"
   ]
  },
  {
   "cell_type": "code",
   "execution_count": null,
   "id": "535e18f5-b5cb-4126-a671-8922f2303f9f",
   "metadata": {},
   "outputs": [],
   "source": [
    "sc_mesenchymal_E12_5@meta.data$CellType_PID[sc_mesenchymal_E12_5@meta.data$CellType_PID == '21'] <- 'Proximal cells'\n",
    "sc_mesenchymal_E12_5@meta.data$CellType_PID[sc_mesenchymal_E12_5@meta.data$CellType_PID == '32'] <- 'Proximal cells'\n",
    "\n",
    "sc_mesenchymal_E12_5@meta.data$CellType_PID[sc_mesenchymal_E12_5@meta.data$CellType_PID == '20'] <- 'Intermediate cells'\n",
    "sc_mesenchymal_E12_5@meta.data$CellType_PID[sc_mesenchymal_E12_5@meta.data$CellType_PID == '24'] <- 'Intermediate cells'\n",
    "sc_mesenchymal_E12_5@meta.data$CellType_PID[sc_mesenchymal_E12_5@meta.data$CellType_PID == '34'] <- 'Intermediate cells'\n",
    "sc_mesenchymal_E12_5@meta.data$CellType_PID[sc_mesenchymal_E12_5@meta.data$CellType_PID == '5'] <- 'Intermediate cells'\n",
    "sc_mesenchymal_E12_5@meta.data$CellType_PID[sc_mesenchymal_E12_5@meta.data$CellType_PID == '22'] <- 'Intermediate cells'\n",
    "sc_mesenchymal_E12_5@meta.data$CellType_PID[sc_mesenchymal_E12_5@meta.data$CellType_PID == '4'] <- 'Intermediate cells'\n",
    "sc_mesenchymal_E12_5@meta.data$CellType_PID[sc_mesenchymal_E12_5@meta.data$CellType_PID == '9'] <- 'Intermediate cells'\n",
    "sc_mesenchymal_E12_5@meta.data$CellType_PID[sc_mesenchymal_E12_5@meta.data$CellType_PID == '17'] <- 'Intermediate cells'\n",
    "sc_mesenchymal_E12_5@meta.data$CellType_PID[sc_mesenchymal_E12_5@meta.data$CellType_PID == '28'] <- 'Intermediate cells'\n",
    "sc_mesenchymal_E12_5@meta.data$CellType_PID[sc_mesenchymal_E12_5@meta.data$CellType_PID == '15'] <- 'Intermediate cells'\n",
    "sc_mesenchymal_E12_5@meta.data$CellType_PID[sc_mesenchymal_E12_5@meta.data$CellType_PID == '10'] <- 'Intermediate cells'\n",
    "sc_mesenchymal_E12_5@meta.data$CellType_PID[sc_mesenchymal_E12_5@meta.data$CellType_PID == '4'] <- 'Intermediate cells'\n",
    "sc_mesenchymal_E12_5@meta.data$CellType_PID[sc_mesenchymal_E12_5@meta.data$CellType_PID == '2'] <- 'Intermediate cells'\n",
    "sc_mesenchymal_E12_5@meta.data$CellType_PID[sc_mesenchymal_E12_5@meta.data$CellType_PID == '27'] <- 'Intermediate cells'\n",
    "sc_mesenchymal_E12_5@meta.data$CellType_PID[sc_mesenchymal_E12_5@meta.data$CellType_PID == '31'] <- 'Intermediate cells'\n",
    "sc_mesenchymal_E12_5@meta.data$CellType_PID[sc_mesenchymal_E12_5@meta.data$CellType_PID == '16'] <- 'Intermediate cells'\n",
    "sc_mesenchymal_E12_5@meta.data$CellType_PID[sc_mesenchymal_E12_5@meta.data$CellType_PID == '30'] <- 'Intermediate cells'\n",
    "sc_mesenchymal_E12_5@meta.data$CellType_PID[sc_mesenchymal_E12_5@meta.data$CellType_PID == '33'] <- 'Intermediate cells'\n",
    "\n",
    "sc_mesenchymal_E12_5@meta.data$CellType_PID[sc_mesenchymal_E12_5@meta.data$CellType_PID == '0'] <- 'Distal cells'\n",
    "sc_mesenchymal_E12_5@meta.data$CellType_PID[sc_mesenchymal_E12_5@meta.data$CellType_PID == '1'] <- 'Distal cells'\n",
    "sc_mesenchymal_E12_5@meta.data$CellType_PID[sc_mesenchymal_E12_5@meta.data$CellType_PID == '11'] <- 'Distal cells'\n",
    "sc_mesenchymal_E12_5@meta.data$CellType_PID[sc_mesenchymal_E12_5@meta.data$CellType_PID == '12'] <- 'Distal cells'\n",
    "sc_mesenchymal_E12_5@meta.data$CellType_PID[sc_mesenchymal_E12_5@meta.data$CellType_PID == '13'] <- 'Distal cells'\n",
    "sc_mesenchymal_E12_5@meta.data$CellType_PID[sc_mesenchymal_E12_5@meta.data$CellType_PID == '14'] <- 'Distal cells'\n",
    "sc_mesenchymal_E12_5@meta.data$CellType_PID[sc_mesenchymal_E12_5@meta.data$CellType_PID == '18'] <- 'Distal cells'\n",
    "sc_mesenchymal_E12_5@meta.data$CellType_PID[sc_mesenchymal_E12_5@meta.data$CellType_PID == '19'] <- 'Distal cells'\n",
    "sc_mesenchymal_E12_5@meta.data$CellType_PID[sc_mesenchymal_E12_5@meta.data$CellType_PID == '23'] <- 'Distal cells'\n",
    "sc_mesenchymal_E12_5@meta.data$CellType_PID[sc_mesenchymal_E12_5@meta.data$CellType_PID == '25'] <- 'Distal cells'\n",
    "sc_mesenchymal_E12_5@meta.data$CellType_PID[sc_mesenchymal_E12_5@meta.data$CellType_PID == '26'] <- 'Distal cells'\n",
    "sc_mesenchymal_E12_5@meta.data$CellType_PID[sc_mesenchymal_E12_5@meta.data$CellType_PID == '29'] <- 'Distal cells'\n",
    "sc_mesenchymal_E12_5@meta.data$CellType_PID[sc_mesenchymal_E12_5@meta.data$CellType_PID == '3'] <- 'Distal cells'\n",
    "sc_mesenchymal_E12_5@meta.data$CellType_PID[sc_mesenchymal_E12_5@meta.data$CellType_PID == '35'] <- 'Distal cells'\n",
    "sc_mesenchymal_E12_5@meta.data$CellType_PID[sc_mesenchymal_E12_5@meta.data$CellType_PID == '36'] <- 'Distal cells'\n",
    "sc_mesenchymal_E12_5@meta.data$CellType_PID[sc_mesenchymal_E12_5@meta.data$CellType_PID == '37'] <- 'Distal cells'\n",
    "sc_mesenchymal_E12_5@meta.data$CellType_PID[sc_mesenchymal_E12_5@meta.data$CellType_PID == '6'] <- 'Distal cells'\n",
    "sc_mesenchymal_E12_5@meta.data$CellType_PID[sc_mesenchymal_E12_5@meta.data$CellType_PID == '7'] <- 'Distal cells'\n",
    "sc_mesenchymal_E12_5@meta.data$CellType_PID[sc_mesenchymal_E12_5@meta.data$CellType_PID == '8'] <- 'Distal cells'"
   ]
  },
  {
   "cell_type": "code",
   "execution_count": null,
   "id": "e8ce99f5-d415-4cdd-b90a-e7018b894f99",
   "metadata": {},
   "outputs": [],
   "source": [
    "options(repr.plot.width = 14, repr.plot.height = 11)\n",
    "DimPlot(sc_mesenchymal_E12_5, group.by = \"CellType\") + xlab(\"UMAP 1\") + ylab(\"UMAP 2\")"
   ]
  },
  {
   "cell_type": "code",
   "execution_count": null,
   "id": "1e071e0d-445f-4070-94d1-88723171caca",
   "metadata": {},
   "outputs": [],
   "source": [
    "saveRDS(sc_mesenchymal_E12_5, file = \"/home/host_home/tom/Kmita/6-kmita/RDataSessions/sc_mesenchymal_E12_5_annotated_SeuratObject.Rds\")"
   ]
  },
  {
   "cell_type": "markdown",
   "id": "0aaa4969-304f-4b11-9d40-05724e3228a9",
   "metadata": {
    "tags": []
   },
   "source": [
    "##### 5.4.2.2. Subsetting ectodermal cluster<a id=\"35\"></a>"
   ]
  },
  {
   "cell_type": "code",
   "execution_count": null,
   "id": "4f756f78-8435-4085-b983-28b7b28656eb",
   "metadata": {},
   "outputs": [],
   "source": [
    "E12_5 <- readRDS(file = \"/home/jovyan/researcher_home/tom/Kmita/6-kmita/RDataSessions/E12_5_GlobalAnnotation_SeuratObject.Rds\")"
   ]
  },
  {
   "cell_type": "code",
   "execution_count": null,
   "id": "286c1411-1d30-47a0-a73e-31692afd4b45",
   "metadata": {
    "tags": []
   },
   "outputs": [],
   "source": [
    "Idents(E12_5) <- E12_5@meta.data$CellType"
   ]
  },
  {
   "cell_type": "code",
   "execution_count": null,
   "id": "27890399-2daa-4ed5-b4d8-7fa4161f55e3",
   "metadata": {},
   "outputs": [],
   "source": [
    "sc_ectoderm_E12_5 <- subset(E12_5, idents = c(\"Ectoderm\"))"
   ]
  },
  {
   "cell_type": "code",
   "execution_count": null,
   "id": "047cda84-6665-4f8e-baaf-9bd120d8dcea",
   "metadata": {},
   "outputs": [],
   "source": [
    "sc_ectoderm_E12_5"
   ]
  },
  {
   "cell_type": "code",
   "execution_count": null,
   "id": "1fcb1882-fc0c-4ec4-bce7-1ecb51f914e8",
   "metadata": {},
   "outputs": [],
   "source": [
    "sc_ectoderm_E12_5 <- NormalizeData(sc_ectoderm_E12_5, verbose = FALSE)\n",
    "sc_ectoderm_E12_5 <- FindVariableFeatures(sc_ectoderm_E12_5, selection.method = \"vst\", nfeatures = 2000)\n",
    "\n",
    "# Identify the 10 most highly variable genes\n",
    "top10 <- head(VariableFeatures(sc_ectoderm_E12_5), 10)"
   ]
  },
  {
   "cell_type": "code",
   "execution_count": null,
   "id": "6c344bae-4002-4c36-8e7f-fc521b8f2c16",
   "metadata": {},
   "outputs": [],
   "source": [
    "sc_ectoderm_E12_5 <- ScaleData(sc_ectoderm_E12_5)"
   ]
  },
  {
   "cell_type": "code",
   "execution_count": null,
   "id": "9fddbddb-d796-496d-b1ce-cd9d8fff17de",
   "metadata": {},
   "outputs": [],
   "source": [
    "sc_ectoderm_E12_5 <- RunPCA(sc_ectoderm_E12_5, features = VariableFeatures(object = sc_ectoderm_E12_5), verbose = FALSE)"
   ]
  },
  {
   "cell_type": "code",
   "execution_count": null,
   "id": "82c28ceb-53e2-4fa1-afdb-25d588a77b8e",
   "metadata": {},
   "outputs": [],
   "source": [
    "options(repr.plot.width = 9)\n",
    "\n",
    "DimPlot(sc_ectoderm_E12_5, reduction = \"pca\", group.by = \"orig.ident\") + xlab(\"PC 1\") + ylab(\"PC 2\")"
   ]
  },
  {
   "cell_type": "code",
   "execution_count": null,
   "id": "d0dc18f7-f05c-432d-bfc3-f38343eb8c6f",
   "metadata": {},
   "outputs": [],
   "source": [
    "ElbowPlot(sc_ectoderm_E12_5, 50)"
   ]
  },
  {
   "cell_type": "code",
   "execution_count": null,
   "id": "20d1ed3c-3326-4070-9d60-d39eff9c5957",
   "metadata": {},
   "outputs": [],
   "source": [
    "sc_ectoderm_E12_5 <- FindNeighbors(sc_ectoderm_E12_5, dims = 1:40)\n",
    "sc_ectoderm_E12_5 <- FindClusters(sc_ectoderm_E12_5, resolution = 0.4)"
   ]
  },
  {
   "cell_type": "code",
   "execution_count": null,
   "id": "477dad94-451e-47f8-9bda-eed1553904fc",
   "metadata": {
    "scrolled": true
   },
   "outputs": [],
   "source": [
    "sc_ectoderm_E12_5 <- RunUMAP(sc_ectoderm_E12_5, dims = 1:40, n.neighbors = 10, verbose = FALSE)"
   ]
  },
  {
   "cell_type": "code",
   "execution_count": null,
   "id": "dd97bd42-829b-4e96-9b8d-bedf05defbfe",
   "metadata": {},
   "outputs": [],
   "source": [
    "options(repr.plot.width=8)\n",
    "DimPlot(sc_ectoderm_E12_5, reduction = \"umap\", label=TRUE, group.by = \"seurat_clusters\")"
   ]
  },
  {
   "cell_type": "code",
   "execution_count": null,
   "id": "492b7539-5e50-48c0-964d-f3d79e86bd61",
   "metadata": {
    "tags": []
   },
   "outputs": [],
   "source": [
    "df <- FindAllMarkers(sc_ectoderm_E12_5)"
   ]
  },
  {
   "cell_type": "code",
   "execution_count": null,
   "id": "a4439b3e-8181-44bb-9876-951b2494f0ef",
   "metadata": {},
   "outputs": [],
   "source": [
    "# find markers for every cluster compared to all remaining cells, report only the positive\n",
    "# ones\n",
    "#df %>%\n",
    "#    group_by(cluster) %>%\n",
    "#    slice_max(n = 10, order_by = avg_log2FC) "
   ]
  },
  {
   "cell_type": "code",
   "execution_count": null,
   "id": "1acba9f5-1015-4068-aca1-fa04d5033b94",
   "metadata": {
    "tags": []
   },
   "outputs": [],
   "source": [
    "#select only cluster 0 and order avg_log2FC from big to small\n",
    "\n",
    "df[df$cluster == 3,] %>%\n",
    "slice_max(n = 20, order_by = avg_log2FC)"
   ]
  },
  {
   "cell_type": "code",
   "execution_count": null,
   "id": "13ba7bd3-519a-4b24-a64d-2c79d067cf5a",
   "metadata": {},
   "outputs": [],
   "source": [
    "#df['Meis2',]"
   ]
  },
  {
   "cell_type": "markdown",
   "id": "3550b7fe-bd98-4fff-bc00-bb2f1d27b263",
   "metadata": {},
   "source": [
    "Skin"
   ]
  },
  {
   "cell_type": "code",
   "execution_count": null,
   "id": "b482c419-d76c-4a1d-86f0-6c0bb41d532a",
   "metadata": {},
   "outputs": [],
   "source": [
    "options(repr.plot.width = 16, repr.plot.height = 8)\n",
    "\n",
    "p1 <- DimPlot(sc_ectoderm_E12_5, label = TRUE) + NoLegend() + xlab(\"UMAP 1\") + ylab(\"UMAP 2\")\n",
    "p2 <- FeaturePlot(sc_ectoderm_E12_5, c(\"Krt5\", \"Krt10\",\"Krt7\",'Anxa3','Sox9','Prrx1',\"Col2a1\",'Hoxa9','Fgf8')) + xlab(\"UMAP 1\") + ylab(\"UMAP 2\")\n",
    "\n",
    "p1 + p2\n",
    "#ggsave(\"./6-kmita/images/E11_5_e_neurons.png\" ,width=20, height=8)"
   ]
  },
  {
   "cell_type": "code",
   "execution_count": null,
   "id": "f29762b2-394b-413a-a3c6-ffc02a8a7e35",
   "metadata": {},
   "outputs": [],
   "source": [
    "FeaturePlot(sc_ectoderm_E12_5, c('Sox9',\"Krt5\"), blend = TRUE)"
   ]
  },
  {
   "cell_type": "markdown",
   "id": "a2b6617c-b69a-4bc7-8e0e-20bff62cb13b",
   "metadata": {},
   "source": [
    "Ectoderm"
   ]
  },
  {
   "cell_type": "code",
   "execution_count": null,
   "id": "3759b93d-24f1-4f67-bed8-40a00caa9d5e",
   "metadata": {},
   "outputs": [],
   "source": [
    "options(repr.plot.width = 16, repr.plot.height = 8)\n",
    "\n",
    "p1 <- DimPlot(sc_ectoderm_E12_5, label = TRUE) + NoLegend() + xlab(\"UMAP 1\") + ylab(\"UMAP 2\")\n",
    "p2 <- FeaturePlot(sc_ectoderm_E12_5, c(\"Wnt7a\", \"En1\")) + xlab(\"UMAP 1\") + ylab(\"UMAP 2\")\n",
    "\n",
    "p1 + p2\n",
    "#ggsave(\"./6-kmita/images/E11_5_e_neurons.png\" ,width=20, height=8)"
   ]
  },
  {
   "cell_type": "markdown",
   "id": "cc2412c6-024d-459e-a230-012fe6ee275f",
   "metadata": {},
   "source": [
    "AER"
   ]
  },
  {
   "cell_type": "code",
   "execution_count": null,
   "id": "e6c381ee-2f38-4ecf-85ad-15915957e868",
   "metadata": {},
   "outputs": [],
   "source": [
    "options(repr.plot.width = 20)\n",
    "\n",
    "p1 <- DimPlot(sc_ectoderm_E12_5, label = TRUE) + NoLegend() + xlab(\"UMAP 1\") + ylab(\"UMAP 2\")\n",
    "p2 <- FeaturePlot(sc_ectoderm_E12_5, c(\"Fgf8\", \"Bmp4\", \"Dlx5\", \"Rspo2\")) + xlab(\"UMAP 1\") + ylab(\"UMAP 2\")\n",
    "\n",
    "p1 + p2"
   ]
  },
  {
   "cell_type": "code",
   "execution_count": null,
   "id": "d87c3202-6d49-4765-afe1-2c4057cbfce2",
   "metadata": {},
   "outputs": [],
   "source": [
    "sc_ectoderm_E12_5@meta.data$CellType <- Idents(sc_ectoderm_E12_5)"
   ]
  },
  {
   "cell_type": "code",
   "execution_count": null,
   "id": "e51908ae-d441-4f6f-9b3e-69948ae10679",
   "metadata": {},
   "outputs": [],
   "source": [
    "sc_ectoderm_E12_5@meta.data$CellType <- as.character(sc_ectoderm_E12_5@meta.data$CellType)\n",
    "\n",
    "sc_ectoderm_E12_5@meta.data$CellType[sc_ectoderm_E12_5@meta.data$CellType == '0'] <- 'Ectoderm'\n",
    "sc_ectoderm_E12_5@meta.data$CellType[sc_ectoderm_E12_5@meta.data$CellType == '1'] <- 'Ectoderm'\n",
    "sc_ectoderm_E12_5@meta.data$CellType[sc_ectoderm_E12_5@meta.data$CellType == '2'] <- 'AER'\n",
    "sc_ectoderm_E12_5@meta.data$CellType[sc_ectoderm_E12_5@meta.data$CellType == '3'] <- 'Doublets'\n",
    "\n",
    "sc_ectoderm_E12_5@meta.data$CellType <- as.factor(sc_ectoderm_E12_5@meta.data$CellType)"
   ]
  },
  {
   "cell_type": "code",
   "execution_count": null,
   "id": "3c418d6a-f4dd-43cb-a376-67172ba6f459",
   "metadata": {},
   "outputs": [],
   "source": [
    "options(repr.plot.width=8)\n",
    "DimPlot(sc_ectoderm_E12_5, reduction = \"umap\", label=TRUE, group.by = \"CellType\")"
   ]
  },
  {
   "cell_type": "code",
   "execution_count": null,
   "id": "9b7b09bb-5ce2-45ed-93e5-7a82ef48b000",
   "metadata": {},
   "outputs": [],
   "source": [
    "options(repr.plot.width=8)\n",
    "DimPlot(sc_ectoderm_E12_5, reduction = \"umap\", label=TRUE, group.by = \"CellType\")"
   ]
  },
  {
   "cell_type": "code",
   "execution_count": null,
   "id": "ee57c8a8-7698-47d0-9254-55971788c1b2",
   "metadata": {},
   "outputs": [],
   "source": [
    "saveRDS(sc_ectoderm_E12_5, file = \"/home/jovyan/researcher_home/tom/Kmita/6-kmita/RDataSessions/sc_ectoderm_E12_5_annotated_SeuratObject.Rds\")"
   ]
  },
  {
   "cell_type": "markdown",
   "id": "b2d574a4-eb11-4a0a-bc04-d69c622dc67b",
   "metadata": {},
   "source": [
    "##### 4.4.2.3. Subsetting blood and endothilial cluster<a id=\"35-2\"></a>"
   ]
  },
  {
   "cell_type": "code",
   "execution_count": null,
   "id": "5ca20795-036b-471b-aa62-a522b81c4bb7",
   "metadata": {},
   "outputs": [],
   "source": [
    "E12_5 <- readRDS(\"/home/host_home/tom/Kmita/6-kmita/RDataSessions/E12_5_GlobalAnnotation_SeuratObject.Rds\")"
   ]
  },
  {
   "cell_type": "code",
   "execution_count": null,
   "id": "5684bcf8-2e2e-4d18-b9bb-983a4f84d7ad",
   "metadata": {
    "tags": []
   },
   "outputs": [],
   "source": [
    "Idents(E12_5) <- E12_5@meta.data$CellType"
   ]
  },
  {
   "cell_type": "code",
   "execution_count": null,
   "id": "f3d87ea1-4e3c-4ea0-84fc-fa7252db8587",
   "metadata": {},
   "outputs": [],
   "source": [
    "sc_BE_E12_5 <- subset(E12_5, idents = c(\"Doublets\"))"
   ]
  },
  {
   "cell_type": "code",
   "execution_count": null,
   "id": "764496c0-e1ee-4f92-8963-571273c401f0",
   "metadata": {},
   "outputs": [],
   "source": [
    "sc_BE_E12_5"
   ]
  },
  {
   "cell_type": "code",
   "execution_count": null,
   "id": "cd709d1a-99c4-45ec-a171-4d428692935d",
   "metadata": {},
   "outputs": [],
   "source": [
    "sc_BE_E12_5 <- NormalizeData(sc_BE_E12_5, verbose = FALSE)\n",
    "sc_BE_E12_5 <- FindVariableFeatures(sc_BE_E12_5, selection.method = \"vst\", nfeatures = 2000)\n",
    "\n",
    "# Identify the 10 most highly variable genes\n",
    "top10 <- head(VariableFeatures(sc_BE_E12_5), 10)"
   ]
  },
  {
   "cell_type": "code",
   "execution_count": null,
   "id": "414e2f96-b2ab-4a9b-9632-767479a40ac4",
   "metadata": {},
   "outputs": [],
   "source": [
    "sc_BE_E12_5 <- ScaleData(sc_BE_E12_5)"
   ]
  },
  {
   "cell_type": "code",
   "execution_count": null,
   "id": "5250f221-ef80-455d-91ed-4423b5eb999c",
   "metadata": {},
   "outputs": [],
   "source": [
    "sc_BE_E12_5 <- RunPCA(sc_BE_E12_5, features = VariableFeatures(object = sc_BE_E12_5), verbose = FALSE)"
   ]
  },
  {
   "cell_type": "code",
   "execution_count": null,
   "id": "7200d9e3-89d7-4827-96a1-4d37e8020942",
   "metadata": {},
   "outputs": [],
   "source": [
    "options(repr.plot.width = 9)\n",
    "\n",
    "DimPlot(sc_BE_E12_5, reduction = \"pca\", group.by = \"orig.ident\") + xlab(\"PC 1\") + ylab(\"PC 2\")"
   ]
  },
  {
   "cell_type": "code",
   "execution_count": null,
   "id": "f13b4f56-5d27-4fb8-9dcb-126ae6b7f2b4",
   "metadata": {},
   "outputs": [],
   "source": [
    "ElbowPlot(sc_BE_E12_5, 50)"
   ]
  },
  {
   "cell_type": "code",
   "execution_count": null,
   "id": "f57a3017-1cb0-4242-9442-78664e249337",
   "metadata": {},
   "outputs": [],
   "source": [
    "sc_BE_E12_5 <- FindNeighbors(sc_BE_E12_5, dims = 1:40)\n",
    "sc_BE_E12_5 <- FindClusters(sc_BE_E12_5, resolution = 1)"
   ]
  },
  {
   "cell_type": "code",
   "execution_count": null,
   "id": "d56a9b5d-4ac3-44ad-a0a5-8a72b6a8ba7b",
   "metadata": {
    "scrolled": true
   },
   "outputs": [],
   "source": [
    "sc_BE_E12_5 <- RunUMAP(sc_BE_E12_5, dims = 1:40, n.neighbors = 10, verbose = FALSE)"
   ]
  },
  {
   "cell_type": "code",
   "execution_count": null,
   "id": "765543cd-3a8d-4be3-94d5-1617b078e0bd",
   "metadata": {},
   "outputs": [],
   "source": [
    "options(repr.plot.width=8)\n",
    "DimPlot(sc_BE_E12_5, reduction = \"umap\", label=TRUE, group.by = \"seurat_clusters\")"
   ]
  },
  {
   "cell_type": "code",
   "execution_count": null,
   "id": "98eba196-1bbe-4e51-9b91-197dd67ce0a1",
   "metadata": {
    "tags": []
   },
   "outputs": [],
   "source": [
    "df <- FindAllMarkers(sc_BE_E12_5)"
   ]
  },
  {
   "cell_type": "code",
   "execution_count": null,
   "id": "6bea01ef-051e-4098-8de1-e621357dccaf",
   "metadata": {},
   "outputs": [],
   "source": [
    "# find markers for every cluster compared to all remaining cells, report only the positive\n",
    "# ones\n",
    "#df %>%\n",
    "#    group_by(cluster) %>%\n",
    "#    slice_max(n = 10, order_by = avg_log2FC) "
   ]
  },
  {
   "cell_type": "code",
   "execution_count": null,
   "id": "3666a4b2-0927-4acd-a5e1-6e6a94424342",
   "metadata": {
    "tags": []
   },
   "outputs": [],
   "source": [
    "#select only cluster 0 and order avg_log2FC from big to small\n",
    "\n",
    "df[df$cluster == 1,] %>%\n",
    "slice_max(n = 10, order_by = avg_log2FC)"
   ]
  },
  {
   "cell_type": "code",
   "execution_count": null,
   "id": "93cf4821-f033-4bef-b0aa-7d05323b2a2c",
   "metadata": {},
   "outputs": [],
   "source": [
    "#df['Meis2',]"
   ]
  },
  {
   "cell_type": "markdown",
   "id": "e62f7708-5995-4049-b667-b089183d5f25",
   "metadata": {},
   "source": [
    "Endothilium"
   ]
  },
  {
   "cell_type": "code",
   "execution_count": null,
   "id": "7b6b9971-8dd9-4dbe-bf70-bb48daa75d31",
   "metadata": {},
   "outputs": [],
   "source": [
    "options(repr.plot.width = 18, repr.plot.height = 12)\n",
    "\n",
    "p1 <- DimPlot(sc_BE_E12_5, label = TRUE) + NoLegend() + xlab(\"UMAP 1\") + ylab(\"UMAP 2\") \n",
    "p2 <- FeaturePlot(sc_BE_E12_5, c(\"Pecam1\", \"Cd34\", \"Cd93\", \"Cdh5\", \"Emcn\"), min.cutoff = \"q1\") \n",
    "\n",
    "p1 + p2"
   ]
  },
  {
   "cell_type": "markdown",
   "id": "b69d82fa-7b54-4519-8831-f30934e2c044",
   "metadata": {},
   "source": [
    "Erythrocytes"
   ]
  },
  {
   "cell_type": "code",
   "execution_count": null,
   "id": "9419502f-e19d-4c8e-9983-b1592d1082a2",
   "metadata": {},
   "outputs": [],
   "source": [
    "options(repr.plot.width = 16, repr.plot.height = 8)\n",
    "\n",
    "p1 <- DimPlot(sc_BE_E12_5, label = TRUE) + NoLegend() + xlab(\"UMAP 1\") + ylab(\"UMAP 2\")\n",
    "p2 <- FeaturePlot(sc_BE_E12_5, c(\"Hbb-y\", \"Hba-x\", \"Hba-a1\", \"Hbb-bt\"), min.cutoff = \"q1\")\n",
    "\n",
    "\n",
    "p1 + p2"
   ]
  },
  {
   "cell_type": "code",
   "execution_count": null,
   "id": "2e671d10-1ffc-48d7-a219-566d91f60a38",
   "metadata": {},
   "outputs": [],
   "source": [
    "sc_BE_E12_5@meta.data$CellType <- Idents(sc_BE_E12_5)"
   ]
  },
  {
   "cell_type": "code",
   "execution_count": null,
   "id": "88a62326-3d4c-4585-a5a6-6c5fe0fa0a03",
   "metadata": {},
   "outputs": [],
   "source": [
    "sc_BE_E12_5@meta.data$CellType <- as.character(sc_BE_E12_5@meta.data$CellType)\n",
    "\n",
    "sc_BE_E12_5@meta.data$CellType[sc_BE_E12_5@meta.data$CellType == '0'] <- 'Vascular endothelial cells'\n",
    "sc_BE_E12_5@meta.data$CellType[sc_BE_E12_5@meta.data$CellType == '1'] <- 'Erythroid cells'\n",
    "\n",
    "sc_BE_E12_5@meta.data$CellType <- as.factor(sc_BE_E12_5@meta.data$CellType)"
   ]
  },
  {
   "cell_type": "code",
   "execution_count": null,
   "id": "05e147f4-5e4f-4fea-86ee-b51269da649c",
   "metadata": {},
   "outputs": [],
   "source": [
    "options(repr.plot.width=8)\n",
    "DimPlot(sc_BE_E12_5, reduction = \"umap\", label=TRUE, group.by = \"CellType\")"
   ]
  },
  {
   "cell_type": "code",
   "execution_count": null,
   "id": "bb11d9fd-910e-4a4b-b2f9-ada9cd08a110",
   "metadata": {},
   "outputs": [],
   "source": [
    "saveRDS(sc_BE_E12_5, file = \"/home/host_home/tom/Kmita/6-kmita/RDataSessions/sc_BE_E12_5_annotated_SeuratObject.Rds\")"
   ]
  },
  {
   "cell_type": "markdown",
   "id": "d4646835-26cc-4e36-ad9e-a03677852819",
   "metadata": {},
   "source": [
    "##### 4.4.2.4. Subsetting myocyte cluster<a id=\"35-2\"></a>"
   ]
  },
  {
   "cell_type": "code",
   "execution_count": null,
   "id": "1fe51d30-ea81-43f5-b100-f9e03e66d6f5",
   "metadata": {},
   "outputs": [],
   "source": [
    "E12_5 <- readRDS(\"/home/host_home/tom/Kmita/6-kmita/RDataSessions/E12_5_GlobalAnnotation_SeuratObject.Rds\")"
   ]
  },
  {
   "cell_type": "code",
   "execution_count": null,
   "id": "f1d3b7ee-6f15-45bd-a52c-8e982c3c4481",
   "metadata": {
    "tags": []
   },
   "outputs": [],
   "source": [
    "Idents(E12_5) <- E12_5@meta.data$CellType"
   ]
  },
  {
   "cell_type": "code",
   "execution_count": null,
   "id": "9f66610e-c88d-4fa1-b9d0-7f558373ac1a",
   "metadata": {},
   "outputs": [],
   "source": [
    "sc_myocytes_E12_5 <- subset(E12_5, idents = c(\"Myocytes\"))"
   ]
  },
  {
   "cell_type": "code",
   "execution_count": null,
   "id": "21042685-4b28-49a0-a462-7ed56a89d698",
   "metadata": {},
   "outputs": [],
   "source": [
    "sc_myocytes_E12_5"
   ]
  },
  {
   "cell_type": "code",
   "execution_count": null,
   "id": "61b1f893-4775-45de-88c6-ff5759699501",
   "metadata": {},
   "outputs": [],
   "source": [
    "sc_myocytes_E12_5 <- NormalizeData(sc_myocytes_E12_5, verbose = FALSE)\n",
    "sc_myocytes_E12_5 <- FindVariableFeatures(sc_myocytes_E12_5, selection.method = \"vst\", nfeatures = 2000)\n",
    "\n",
    "# Identify the 10 most highly variable genes\n",
    "top10 <- head(VariableFeatures(sc_myocytes_E12_5), 10)"
   ]
  },
  {
   "cell_type": "code",
   "execution_count": null,
   "id": "3b95daa3-b641-4e16-ac76-059d80964a9d",
   "metadata": {},
   "outputs": [],
   "source": [
    "sc_myocytes_E12_5 <- ScaleData(sc_myocytes_E12_5)"
   ]
  },
  {
   "cell_type": "code",
   "execution_count": null,
   "id": "08d545a8-9712-4f79-a70e-8c4eb86f4b72",
   "metadata": {},
   "outputs": [],
   "source": [
    "sc_myocytes_E12_5 <- RunPCA(sc_myocytes_E12_5, features = VariableFeatures(object = sc_myocytes_E12_5), verbose = FALSE)"
   ]
  },
  {
   "cell_type": "code",
   "execution_count": null,
   "id": "83d5e5d4-8dba-4169-839a-b0f2f2dcb602",
   "metadata": {},
   "outputs": [],
   "source": [
    "options(repr.plot.width = 9)\n",
    "\n",
    "DimPlot(sc_myocytes_E12_5, reduction = \"pca\", group.by = \"orig.ident\") + xlab(\"PC 1\") + ylab(\"PC 2\")"
   ]
  },
  {
   "cell_type": "code",
   "execution_count": null,
   "id": "08f89854-4a0b-4dd9-b1c0-6427d33000ea",
   "metadata": {},
   "outputs": [],
   "source": [
    "ElbowPlot(sc_myocytes_E12_5, 50)"
   ]
  },
  {
   "cell_type": "code",
   "execution_count": null,
   "id": "645749db-2c70-41ca-9094-a2d8e0e6973b",
   "metadata": {},
   "outputs": [],
   "source": [
    "sc_myocytes_E12_5 <- FindNeighbors(sc_myocytes_E12_5, dims = 1:25)\n",
    "sc_myocytes_E12_5 <- FindClusters(sc_myocytes_E12_5, resolution = 1)"
   ]
  },
  {
   "cell_type": "code",
   "execution_count": null,
   "id": "a6b7d815-1349-4f9f-839b-51cd869350f2",
   "metadata": {
    "scrolled": true
   },
   "outputs": [],
   "source": [
    "sc_myocytes_E12_5 <- RunUMAP(sc_myocytes_E12_5, dims = 1:40, n.neighbors = 10, verbose = FALSE)"
   ]
  },
  {
   "cell_type": "code",
   "execution_count": null,
   "id": "84c75439-0285-4f09-8a5c-fd7cb360640b",
   "metadata": {},
   "outputs": [],
   "source": [
    "options(repr.plot.width=8)\n",
    "DimPlot(sc_myocytes_E12_5, reduction = \"umap\", label=TRUE, group.by = \"seurat_clusters\")"
   ]
  },
  {
   "cell_type": "code",
   "execution_count": null,
   "id": "771bcc4d-cdde-4248-84d4-a41f95d5327d",
   "metadata": {
    "tags": []
   },
   "outputs": [],
   "source": [
    "df <- FindAllMarkers(sc_myocytes_E12_5)"
   ]
  },
  {
   "cell_type": "code",
   "execution_count": null,
   "id": "5bacdec7-929a-4490-ad6c-3237b81e23d1",
   "metadata": {},
   "outputs": [],
   "source": [
    "# find markers for every cluster compared to all remaining cells, report only the positive\n",
    "# ones\n",
    "#df %>%\n",
    "#    group_by(cluster) %>%\n",
    "#    slice_max(n = 10, order_by = avg_log2FC) "
   ]
  },
  {
   "cell_type": "code",
   "execution_count": null,
   "id": "2b3ac0ba-a499-49ea-aa56-27b0a33fcc70",
   "metadata": {
    "tags": []
   },
   "outputs": [],
   "source": [
    "#select only cluster 0 and order avg_log2FC from big to small\n",
    "\n",
    "df[df$cluster == 1,] %>%\n",
    "slice_max(n = 10, order_by = avg_log2FC)"
   ]
  },
  {
   "cell_type": "code",
   "execution_count": null,
   "id": "aa824461-27b1-4499-959a-d520495d9aaf",
   "metadata": {},
   "outputs": [],
   "source": [
    "#df['Meis2',]"
   ]
  },
  {
   "cell_type": "markdown",
   "id": "75717fd3-b0cc-4755-a6ef-3129a9936649",
   "metadata": {},
   "source": [
    "Myogenic stem cells"
   ]
  },
  {
   "cell_type": "code",
   "execution_count": null,
   "id": "8621820e-680d-4e55-b265-f24472d15f72",
   "metadata": {},
   "outputs": [],
   "source": [
    "options(repr.plot.width = 18, repr.plot.height = 12)\n",
    "\n",
    "p1 <- DimPlot(sc_myocytes_E12_5, label = TRUE) + NoLegend() + xlab(\"UMAP 1\") + ylab(\"UMAP 2\") \n",
    "p2 <- FeaturePlot(sc_myocytes_E12_5, c(\"Pax7\",\"Myf5\"), min.cutoff = \"q1\") \n",
    "\n",
    "p1 + p2"
   ]
  },
  {
   "cell_type": "markdown",
   "id": "03b570c9-9b1e-4536-be5e-4d6c27695bf8",
   "metadata": {},
   "source": [
    "Myogenic stem cells"
   ]
  },
  {
   "cell_type": "code",
   "execution_count": null,
   "id": "cfe7d478-2843-432b-8aaa-771471eccfd1",
   "metadata": {},
   "outputs": [],
   "source": [
    "options(repr.plot.width = 18, repr.plot.height = 12)\n",
    "\n",
    "p1 <- DimPlot(sc_myocytes_E12_5, label = TRUE) + NoLegend() + xlab(\"UMAP 1\") + ylab(\"UMAP 2\") \n",
    "p2 <- FeaturePlot(sc_myocytes_E12_5, c(\"Pax7\", \"Notch\", \"Itm2a\", \"Myf5\", \"Pax3\", \"Myod\"), min.cutoff = \"q1\") \n",
    "\n",
    "p1 + p2"
   ]
  },
  {
   "cell_type": "markdown",
   "id": "c9d7f92a-5cb1-492d-ba99-10529df2a27f",
   "metadata": {},
   "source": [
    "Skeletal muscle cell"
   ]
  },
  {
   "cell_type": "code",
   "execution_count": null,
   "id": "4b834aca-64cd-40e8-97e8-87f7fb88983d",
   "metadata": {},
   "outputs": [],
   "source": [
    "options(repr.plot.width = 18, repr.plot.height = 12)\n",
    "\n",
    "p1 <- DimPlot(sc_myocytes_E12_5, label = TRUE) + NoLegend() + xlab(\"UMAP 1\") + ylab(\"UMAP 2\") \n",
    "p2 <- FeaturePlot(sc_myocytes_E12_5, c(\"Myhc\", \"Mrf4\", 'Tnnt1','Tnnt3'), min.cutoff = \"q1\") \n",
    "\n",
    "p1 + p2"
   ]
  },
  {
   "cell_type": "code",
   "execution_count": null,
   "id": "726f9f18-3320-4de5-835c-5823b77e32c6",
   "metadata": {},
   "outputs": [],
   "source": [
    "sc_myocytes_E12_5@meta.data$CellType <- Idents(sc_myocytes_E12_5)"
   ]
  },
  {
   "cell_type": "code",
   "execution_count": null,
   "id": "6a2a8a6d-10ab-4194-83a0-6bee0470e827",
   "metadata": {},
   "outputs": [],
   "source": [
    "sc_myocytes_E12_5@meta.data$CellType <- as.character(sc_myocytes_E12_5@meta.data$CellType)\n",
    "\n",
    "sc_myocytes_E12_5@meta.data$CellType[sc_myocytes_E12_5@meta.data$CellType == '0'] <- 'Muscle progenitors'\n",
    "sc_myocytes_E12_5@meta.data$CellType[sc_myocytes_E12_5@meta.data$CellType == '1'] <- 'Skeletal muscle cells'\n",
    "sc_myocytes_E12_5@meta.data$CellType[sc_myocytes_E12_5@meta.data$CellType == '2'] <- 'Muscle progenitors'\n",
    "sc_myocytes_E12_5@meta.data$CellType[sc_myocytes_E12_5@meta.data$CellType == '3'] <- 'Muscle progenitors'\n",
    "\n",
    "sc_myocytes_E12_5@meta.data$CellType <- as.factor(sc_myocytes_E12_5@meta.data$CellType)"
   ]
  },
  {
   "cell_type": "code",
   "execution_count": null,
   "id": "a7c7490e-f6ce-48e8-a31d-205258b2ec6a",
   "metadata": {},
   "outputs": [],
   "source": [
    "options(repr.plot.width=8)\n",
    "DimPlot(sc_myocytes_E12_5, reduction = \"umap\", label=TRUE, group.by = \"CellType\")"
   ]
  },
  {
   "cell_type": "code",
   "execution_count": null,
   "id": "f4667537-d178-44c6-9fcc-ed19d5aec275",
   "metadata": {},
   "outputs": [],
   "source": [
    "saveRDS(sc_myocytes_E12_5, file = \"/home/jovyan/researcher_home/tom/Kmita/6-kmita/RDataSessions/sc_myocytes_E12_5_annotated_SeuratObject.Rds\")"
   ]
  },
  {
   "cell_type": "markdown",
   "id": "068747db-4a1c-4d1a-90cc-2d4618ac876c",
   "metadata": {
    "tags": []
   },
   "source": [
    "#### 5.4.2. Updating annotations<a id=\"36\"></a>"
   ]
  },
  {
   "cell_type": "code",
   "execution_count": null,
   "id": "ba5afb49-9f89-4972-87b7-e3d48b65ff24",
   "metadata": {},
   "outputs": [],
   "source": [
    "E12_5 <- readRDS(\"/home/jovyan/researcher_home/tom/Kmita/6-kmita/RDataSessions/E12_5_GlobalAnnotation_SeuratObject.Rds\")"
   ]
  },
  {
   "cell_type": "code",
   "execution_count": null,
   "id": "2cad7389-c7c7-447d-b07d-c46159d2cd4f",
   "metadata": {},
   "outputs": [],
   "source": [
    "sc_mesenchymal_E12_5 <- readRDS(file = \"/home/jovyan/researcher_home/tom/Kmita/6-kmita/RDataSessions/sc_mesenchymal_E12_5_annotated_SeuratObject.Rds\")"
   ]
  },
  {
   "cell_type": "code",
   "execution_count": null,
   "id": "3cce7b1c-4153-45c5-af9a-6f8d785f3e3a",
   "metadata": {},
   "outputs": [],
   "source": [
    "sc_mesenchymal_E12_5@meta.data$CellType_m <- sc_mesenchymal_E12_5@meta.data$CellType\n",
    "sc_mesenchymal_E12_5@meta.data$CellType <- NULL"
   ]
  },
  {
   "cell_type": "code",
   "execution_count": null,
   "id": "5ae40df6-f971-4697-b640-2a2bcfcec29f",
   "metadata": {},
   "outputs": [],
   "source": [
    "sc_ectoderm_E12_5 <- readRDS(file = \"/home/jovyan/researcher_home/tom/Kmita/6-kmita/RDataSessions/sc_ectoderm_E12_5_annotated_SeuratObject.Rds\")"
   ]
  },
  {
   "cell_type": "code",
   "execution_count": null,
   "id": "20b1d42e-c825-4fb9-8b7f-d87fd32b24df",
   "metadata": {},
   "outputs": [],
   "source": [
    "sc_ectoderm_E12_5@meta.data$CellType_e <- sc_ectoderm_E12_5@meta.data$CellType\n",
    "sc_ectoderm_E12_5@meta.data$CellType <- NULL"
   ]
  },
  {
   "cell_type": "code",
   "execution_count": null,
   "id": "dcdfc0c1-e68d-4b28-ae1f-7f46fa224c8b",
   "metadata": {},
   "outputs": [],
   "source": [
    "sc_BE_E12_5 <- readRDS(file = \"/home/jovyan/researcher_home/tom/Kmita/6-kmita/RDataSessions/sc_BE_E12_5_annotated_SeuratObject.Rds\")"
   ]
  },
  {
   "cell_type": "code",
   "execution_count": null,
   "id": "05edede7-6af1-4e99-b6ad-161b36359a7e",
   "metadata": {},
   "outputs": [],
   "source": [
    "sc_BE_E12_5@meta.data$CellType_be <- sc_BE_E12_5@meta.data$CellType\n",
    "sc_BE_E12_5@meta.data$CellType <- NULL"
   ]
  },
  {
   "cell_type": "code",
   "execution_count": null,
   "id": "fe2856e6-1a6d-45d1-964e-c435db9266cb",
   "metadata": {},
   "outputs": [],
   "source": [
    "sc_myocytes_E12_5 <- readRDS(file = \"/home/jovyan/researcher_home/tom/Kmita/6-kmita/RDataSessions/sc_myocytes_E12_5_annotated_SeuratObject.Rds\")"
   ]
  },
  {
   "cell_type": "code",
   "execution_count": null,
   "id": "d7d72f34-e389-40d3-aaa7-4ef5af63d78b",
   "metadata": {},
   "outputs": [],
   "source": [
    "sc_myocytes_E12_5@meta.data$CellType_my <- sc_myocytes_E12_5@meta.data$CellType\n",
    "sc_myocytes_E12_5@meta.data$CellType <- NULL"
   ]
  },
  {
   "cell_type": "code",
   "execution_count": null,
   "id": "9b7c9646-c70c-4d90-bb72-6f0631030c6b",
   "metadata": {},
   "outputs": [],
   "source": [
    "meta1 <- E12_5@meta.data\n",
    "meta2 <- sc_mesenchymal_E12_5@meta.data"
   ]
  },
  {
   "cell_type": "code",
   "execution_count": null,
   "id": "9350435b-89db-45cd-8f8e-6656f43d1325",
   "metadata": {},
   "outputs": [],
   "source": [
    "df <- split(meta1, meta1$CellType)"
   ]
  },
  {
   "cell_type": "code",
   "execution_count": null,
   "id": "6cb78c51-e99f-4ff0-bfca-3038f9051158",
   "metadata": {},
   "outputs": [],
   "source": [
    "mesenchyme <- rownames(df$Mesenchyme)"
   ]
  },
  {
   "cell_type": "code",
   "execution_count": null,
   "id": "b7eadc9e-6c39-4641-92de-916ba312e04c",
   "metadata": {},
   "outputs": [],
   "source": [
    "mesenchyme_meta <- meta2[mesenchyme, c(\"CellType_m\", \"orig.ident\")]\n",
    "mesenchyme_meta$orig.ident <- NULL\n",
    "\n",
    "head(mesenchyme_meta)"
   ]
  },
  {
   "cell_type": "code",
   "execution_count": null,
   "id": "2e57969c-4837-4f5f-a00b-dca166b76737",
   "metadata": {},
   "outputs": [],
   "source": [
    "df$Mesenchyme <- cbind(df$Mesenchyme, mesenchyme_meta)\n",
    "df$Mesenchyme$CellType <- df$Mesenchyme$CellType_m\n",
    "df$Mesenchyme$CellType_m <- NULL"
   ]
  },
  {
   "cell_type": "code",
   "execution_count": null,
   "id": "58486401-c2a5-45ad-af7e-e1123b779ef1",
   "metadata": {},
   "outputs": [],
   "source": [
    "str(df)"
   ]
  },
  {
   "cell_type": "code",
   "execution_count": null,
   "id": "a97b6ca8-229a-4a75-bc07-c7ee02461b6d",
   "metadata": {},
   "outputs": [],
   "source": [
    "ectoderm <- rownames(df$Ectoderm)"
   ]
  },
  {
   "cell_type": "code",
   "execution_count": null,
   "id": "d2c5f9f3-7cb3-45c1-ad68-fcc4dd7f6de1",
   "metadata": {},
   "outputs": [],
   "source": [
    "meta2 <- sc_ectoderm_E12_5@meta.data\n",
    "ectoderm_meta <- meta2[ectoderm, c(\"CellType_e\", \"orig.ident\")]\n",
    "ectoderm_meta$orig.ident <- NULL\n",
    "\n",
    "head(ectoderm_meta)"
   ]
  },
  {
   "cell_type": "code",
   "execution_count": null,
   "id": "9c73dae3-87cc-47cd-bc14-f8f98a7d1fb7",
   "metadata": {},
   "outputs": [],
   "source": [
    "df$Ectoderm <- cbind(df$Ectoderm, ectoderm_meta)\n",
    "df$Ectoderm$CellType <- df$Ectoderm$CellType_e\n",
    "df$Ectoderm$CellType_e <- NULL"
   ]
  },
  {
   "cell_type": "code",
   "execution_count": null,
   "id": "c4edc7d7-df93-4c63-bd02-c5beecf16fa7",
   "metadata": {},
   "outputs": [],
   "source": [
    "BE <- rownames(df$Doublets)"
   ]
  },
  {
   "cell_type": "code",
   "execution_count": null,
   "id": "d56fcf0d-0610-4c74-9497-3994b588d26b",
   "metadata": {},
   "outputs": [],
   "source": [
    "meta2 <- sc_BE_E12_5@meta.data\n",
    "BE_meta <- meta2[BE, c(\"CellType_be\", \"orig.ident\")]\n",
    "BE_meta$orig.ident <- NULL\n",
    "\n",
    "head(BE_meta)"
   ]
  },
  {
   "cell_type": "code",
   "execution_count": null,
   "id": "d008af5d-54e2-415b-ae90-e4c0b2305724",
   "metadata": {},
   "outputs": [],
   "source": [
    "df$Doublets <- cbind(df$Doublets, BE_meta)\n",
    "df$Doublets$CellType <- df$Doublets$CellType_be\n",
    "df$Doublets$CellType_be <- NULL"
   ]
  },
  {
   "cell_type": "code",
   "execution_count": null,
   "id": "566b9f3d-8c24-47c3-817a-429ff8bedd10",
   "metadata": {},
   "outputs": [],
   "source": [
    "myocytes <- rownames(df$Myocytes)"
   ]
  },
  {
   "cell_type": "code",
   "execution_count": null,
   "id": "a19a8337-b004-4e18-8de0-aea4079f7f7c",
   "metadata": {},
   "outputs": [],
   "source": [
    "meta2 <- sc_myocytes_E12_5@meta.data\n",
    "myocytes_meta <- meta2[myocytes, c(\"CellType_my\", \"orig.ident\")]\n",
    "myocytes_meta$orig.ident <- NULL\n",
    "\n",
    "head(myocytes_meta)"
   ]
  },
  {
   "cell_type": "code",
   "execution_count": null,
   "id": "b145e510-23a8-400d-b969-2e250044bd25",
   "metadata": {},
   "outputs": [],
   "source": [
    "df$Myocytes <- cbind(df$Myocytes, myocytes_meta)\n",
    "df$Myocytes$CellType <- df$Myocytes$CellType_my\n",
    "df$Myocytes$CellType_my <- NULL"
   ]
  },
  {
   "cell_type": "code",
   "execution_count": null,
   "id": "ac68e773-d99e-4600-8994-cc23c468ba07",
   "metadata": {},
   "outputs": [],
   "source": [
    "df$'Immune cells'$Barcode <- rownames(df$'Immune cells')\n",
    "df$Neurons$Barcode <- rownames(df$Neurons)"
   ]
  },
  {
   "cell_type": "code",
   "execution_count": null,
   "id": "5ac0ab4d-c225-4f39-ad8a-15e4829c86e1",
   "metadata": {},
   "outputs": [],
   "source": [
    "df$Mesenchyme$Barcode = rownames(df$Mesenchyme)\n",
    "df$Ectoderm$Barcode = rownames(df$Ectoderm)\n",
    "df$Doublets$Barcode = rownames(df$Doublets)\n",
    "df$Myocytes$Barcode = rownames(df$Myocytes)\n",
    "df$'Immune cells'$Barcode = rownames(df$'Immune cells')\n",
    "df$Neurons$Barcode = rownames(df$Neurons)"
   ]
  },
  {
   "cell_type": "markdown",
   "id": "865e3b1a-dd9b-4fbf-854f-e5bc03a8b11d",
   "metadata": {},
   "source": [
    "**Make sure all dataframes in the list have the same number of columns, in the same order.**"
   ]
  },
  {
   "cell_type": "code",
   "execution_count": null,
   "id": "ceae30be-0dde-4eef-ac4a-bc48456e8459",
   "metadata": {
    "scrolled": true
   },
   "outputs": [],
   "source": [
    "str(df)"
   ]
  },
  {
   "cell_type": "code",
   "execution_count": null,
   "id": "59656220-8d0f-4ea3-a51a-db9955f64561",
   "metadata": {},
   "outputs": [],
   "source": [
    "names(df)"
   ]
  },
  {
   "cell_type": "code",
   "execution_count": null,
   "id": "2d2c4f2b-f924-4b22-bbb9-0aded3d873fb",
   "metadata": {
    "scrolled": true
   },
   "outputs": [],
   "source": [
    "str(df)"
   ]
  },
  {
   "cell_type": "code",
   "execution_count": null,
   "id": "b14bb2e1-2fc8-4930-adb0-025c1a3ce0eb",
   "metadata": {
    "tags": []
   },
   "outputs": [],
   "source": [
    "meta.data <- do.call(rbind, df)\n",
    "rownames(meta.data) = meta.data$Barcode\n",
    "meta.data$Barcode <- NULL"
   ]
  },
  {
   "cell_type": "code",
   "execution_count": null,
   "id": "63c776a5-8d3e-4f92-8b5d-876ad2a22737",
   "metadata": {},
   "outputs": [],
   "source": [
    "head(meta.data)"
   ]
  },
  {
   "cell_type": "code",
   "execution_count": null,
   "id": "387ebb41-d8d0-414e-8ccf-7813af4fe1c9",
   "metadata": {},
   "outputs": [],
   "source": [
    "dim(E12_5@meta.data)\n",
    "dim(meta.data)"
   ]
  },
  {
   "cell_type": "code",
   "execution_count": null,
   "id": "fde17d33-44c9-4e43-b9cf-ea8fccf879fb",
   "metadata": {},
   "outputs": [],
   "source": [
    "meta.data$CellType2 <- NULL"
   ]
  },
  {
   "cell_type": "code",
   "execution_count": null,
   "id": "6ef24215-89bb-4c6b-8cf1-72709d6e5d7f",
   "metadata": {},
   "outputs": [],
   "source": [
    "dim(E12_5@meta.data)\n",
    "dim(meta.data)"
   ]
  },
  {
   "cell_type": "code",
   "execution_count": null,
   "id": "a99b55e7-187b-4b6a-b68a-6f2f81c6d280",
   "metadata": {},
   "outputs": [],
   "source": [
    "target <- rownames(E12_5@meta.data)\n",
    "meta.data <- meta.data[match(target, rownames(meta.data)),]"
   ]
  },
  {
   "cell_type": "code",
   "execution_count": null,
   "id": "e70d57c4-8a1a-43cd-a400-a2a184d6a988",
   "metadata": {},
   "outputs": [],
   "source": [
    "E12_5@meta.data = meta.data"
   ]
  },
  {
   "cell_type": "markdown",
   "id": "07bb1489-c67c-4067-9a06-ac686c342540",
   "metadata": {
    "tags": []
   },
   "source": [
    "#### 5.4.3. Finalized embedding and annotation<a id=\"37\"></a>"
   ]
  },
  {
   "cell_type": "code",
   "execution_count": null,
   "id": "45eb5d01-230e-4544-a3a9-e5bc79a220ef",
   "metadata": {},
   "outputs": [],
   "source": [
    "rownames(E12_5@meta.data)"
   ]
  },
  {
   "cell_type": "code",
   "execution_count": null,
   "id": "ceda5c3c-667d-49b3-9cd8-3fb726e87ef0",
   "metadata": {
    "tags": []
   },
   "outputs": [],
   "source": [
    "Idents(E12_5) <- E12_5@meta.data$CellType"
   ]
  },
  {
   "cell_type": "code",
   "execution_count": null,
   "id": "298c7e2d-14c8-4235-a17f-760f1e56a0b5",
   "metadata": {},
   "outputs": [],
   "source": [
    "E12_5 <- subset(E12_5, idents = c(\"Doublets\"), invert = TRUE)"
   ]
  },
  {
   "cell_type": "code",
   "execution_count": null,
   "id": "1978bbe1-3f4a-46ef-b8e8-88adb38223aa",
   "metadata": {},
   "outputs": [],
   "source": [
    "options(repr.plot.width=10)\n",
    "DimPlot(E12_5, group.by = \"CellType\", label = FALSE) + xlab(\"UMAP 1\") + ylab(\"UMAP 2\")\n",
    "\n",
    "#ggsave(\"./6-kmita/images/E11_5_a.png\" ,width=10, height=8)"
   ]
  },
  {
   "cell_type": "code",
   "execution_count": null,
   "id": "79be6de5-9ca4-419e-abb7-b1a31aba42b9",
   "metadata": {},
   "outputs": [],
   "source": [
    "options(repr.plot.width=10)\n",
    "DimPlot(E12_5, label = FALSE) + xlab(\"UMAP 1\") + ylab(\"UMAP 2\")\n",
    "\n",
    "#ggsave(\"./6-kmita/images/E11_5_a.png\" ,width=10, height=8)"
   ]
  },
  {
   "cell_type": "code",
   "execution_count": null,
   "id": "51abda06-68c2-44fa-b48e-401683adf6cf",
   "metadata": {},
   "outputs": [],
   "source": []
  },
  {
   "cell_type": "markdown",
   "id": "22db9072-f499-4e89-8ad5-56c24909dd0d",
   "metadata": {
    "tags": []
   },
   "source": [
    "#### 5.4.3. Finalized embedding and annotation<a id=\"37\"></a>"
   ]
  },
  {
   "cell_type": "code",
   "execution_count": null,
   "id": "46338050-ac9e-47ff-984b-b5b65e00b3fa",
   "metadata": {},
   "outputs": [],
   "source": [
    "Idents(E12_5) <- E12_5$CellType"
   ]
  },
  {
   "cell_type": "code",
   "execution_count": null,
   "id": "8810fb5b-ebe9-405f-a565-7a16cbee014f",
   "metadata": {},
   "outputs": [],
   "source": [
    "saveRDS(E12_5, file = \"/home/jovyan/researcher_home/tom/Kmita/6-kmita/RDataSessions/E12_5_seuratObject_annotation.Rds\")"
   ]
  },
  {
   "cell_type": "code",
   "execution_count": null,
   "id": "49583bbf-ae94-4f35-834b-703abb257a84",
   "metadata": {},
   "outputs": [],
   "source": [
    "E12_5"
   ]
  },
  {
   "cell_type": "code",
   "execution_count": null,
   "id": "ffc5d3fb-5e86-4abe-8643-f90869ed0947",
   "metadata": {},
   "outputs": [],
   "source": [
    "unique(Idents(E12_5))"
   ]
  },
  {
   "cell_type": "code",
   "execution_count": null,
   "id": "1b2050ad-4a0d-4260-ab2d-9a41fa3fa1c4",
   "metadata": {},
   "outputs": [],
   "source": []
  }
 ],
 "metadata": {
  "kernelspec": {
   "display_name": "R [conda env:base] *",
   "language": "R",
   "name": "conda-base-r"
  },
  "language_info": {
   "codemirror_mode": "r",
   "file_extension": ".r",
   "mimetype": "text/x-r-source",
   "name": "R",
   "pygments_lexer": "r",
   "version": "4.3.2"
  }
 },
 "nbformat": 4,
 "nbformat_minor": 5
}
