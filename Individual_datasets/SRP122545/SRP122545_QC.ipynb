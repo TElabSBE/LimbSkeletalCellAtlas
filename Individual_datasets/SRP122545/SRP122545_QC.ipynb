{
 "cells": [
  {
   "cell_type": "markdown",
   "metadata": {},
   "source": [
    "# Scater: quality control and filtering"
   ]
  },
  {
   "cell_type": "code",
   "execution_count": null,
   "metadata": {},
   "outputs": [],
   "source": [
    "suppressPackageStartupMessages({\n",
    "    library(Matrix)\n",
    "    library(scater)\n",
    "    library(cowplot)\n",
    "})"
   ]
  },
  {
   "cell_type": "markdown",
   "metadata": {},
   "source": [
    "## Loading the matrix"
   ]
  },
  {
   "cell_type": "code",
   "execution_count": null,
   "metadata": {},
   "outputs": [],
   "source": [
    "matrix <- readRDS(file = \"matrix.Rds\")\n",
    "matrix[1:5, 1:5]"
   ]
  },
  {
   "cell_type": "code",
   "execution_count": null,
   "metadata": {},
   "outputs": [],
   "source": [
    "matrix = as.matrix(matrix)\n",
    "dim(matrix)"
   ]
  },
  {
   "cell_type": "markdown",
   "metadata": {},
   "source": [
    "## Barcode and feature files"
   ]
  },
  {
   "cell_type": "markdown",
   "metadata": {},
   "source": [
    "### Barcode file"
   ]
  },
  {
   "cell_type": "code",
   "execution_count": null,
   "metadata": {},
   "outputs": [],
   "source": [
    "barcodes <- colnames(matrix)\n",
    "barcodes <- as.data.frame(barcodes)\n",
    "\n",
    "write.table(barcodes, file = \"barcodes.tsv\", quote = FALSE, row.names = FALSE)"
   ]
  },
  {
   "cell_type": "markdown",
   "metadata": {},
   "source": [
    "### Feature file"
   ]
  },
  {
   "cell_type": "code",
   "execution_count": null,
   "metadata": {},
   "outputs": [],
   "source": [
    "features <- rownames(matrix)\n",
    "\n",
    "write.table(features, file = \"features.tsv\", quote = FALSE, row.names = FALSE)"
   ]
  },
  {
   "cell_type": "markdown",
   "metadata": {},
   "source": [
    "## The `SingleCellExperiment` object"
   ]
  },
  {
   "cell_type": "code",
   "execution_count": null,
   "metadata": {},
   "outputs": [],
   "source": [
    "matrix_dir = \"./\""
   ]
  },
  {
   "cell_type": "code",
   "execution_count": null,
   "metadata": {},
   "outputs": [],
   "source": [
    "barcode.path <- paste0(matrix_dir, \"barcodes.tsv\")\n",
    "features.path <- paste0(matrix_dir, \"features.tsv\")\n",
    "metadata.path <- paste0(matrix_dir, \"metadata.tsv\")"
   ]
  },
  {
   "cell_type": "code",
   "execution_count": null,
   "metadata": {},
   "outputs": [],
   "source": [
    "feature.names = read.delim(features.path, header = FALSE, stringsAsFactors = FALSE)\n",
    "barcode.names = read.delim(barcode.path, header = FALSE, stringsAsFactors = FALSE)\n",
    "metadata = read.delim(metadata.path, header = FALSE, stringsAsFactors = FALSE)"
   ]
  },
  {
   "cell_type": "code",
   "execution_count": null,
   "metadata": {},
   "outputs": [],
   "source": [
    "colnames(feature.names) <- c(\"GeneID\")"
   ]
  },
  {
   "cell_type": "code",
   "execution_count": null,
   "metadata": {},
   "outputs": [],
   "source": [
    "colnames(metadata) <- c(\"Cells\", \"Origin\", \"Organism\")\n",
    "\n",
    "# sort the metadata to match the order of the columns\n",
    "metadata <- metadata[order(match(metadata[,1], barcode.names[,1])),]"
   ]
  },
  {
   "cell_type": "markdown",
   "metadata": {},
   "source": [
    "### Generate the object"
   ]
  },
  {
   "cell_type": "code",
   "execution_count": null,
   "metadata": {},
   "outputs": [],
   "source": [
    "sceMP <- SingleCellExperiment(assays = list(counts = matrix),\n",
    "                              colData = metadata,\n",
    "                              rowData = feature.names)\n",
    "sceMP"
   ]
  },
  {
   "cell_type": "code",
   "execution_count": null,
   "metadata": {},
   "outputs": [],
   "source": [
    "colData(sceMP)"
   ]
  },
  {
   "cell_type": "code",
   "execution_count": null,
   "metadata": {},
   "outputs": [],
   "source": [
    "rowData(sceMP)"
   ]
  },
  {
   "cell_type": "markdown",
   "metadata": {},
   "source": [
    "Dimensions of the raw data are **26.288 genes and 691 cells**."
   ]
  },
  {
   "cell_type": "markdown",
   "metadata": {},
   "source": [
    "## Calculating QC metrics"
   ]
  },
  {
   "cell_type": "markdown",
   "metadata": {},
   "source": [
    "First we identify rows corresponding to mitochondrial genes, which can be found based on the rownames."
   ]
  },
  {
   "cell_type": "code",
   "execution_count": null,
   "metadata": {},
   "outputs": [],
   "source": [
    "is.mito <- grepl(\"^mt-\", rownames(sceMP))\n",
    "mito.list <- grep(\"^mt-\", rownames(sceMP), value = TRUE)"
   ]
  },
  {
   "cell_type": "markdown",
   "metadata": {},
   "source": [
    "For each cell we calculate quality control metrics such as the total number of counts or the proportion of counts in mitochondrial genes."
   ]
  },
  {
   "cell_type": "code",
   "execution_count": null,
   "metadata": {},
   "outputs": [],
   "source": [
    "sceMP <- calculateQCMetrics(sceMP, feature_controls = list(Mt = is.mito))\n",
    "head(colnames(colData(sceMP)),7)"
   ]
  },
  {
   "cell_type": "code",
   "execution_count": null,
   "metadata": {},
   "outputs": [],
   "source": [
    "head(colnames(rowData(sceMP)))"
   ]
  },
  {
   "cell_type": "markdown",
   "metadata": {},
   "source": [
    "### Quality control of the cells"
   ]
  },
  {
   "cell_type": "markdown",
   "metadata": {},
   "source": [
    "Low-quality cells need to be removed to ensure that technical effects do not distort downstream analysis\n",
    "results. Two common measures of cell quality are the library size and the number of expressed features in\n",
    "each library. The library size is defined as the total sum of counts across all features, i.e. genes. Cells with\n",
    "relatively small library sizes are considered to be of low quality as the RNA has not been efficiently captured\n",
    "(i.e. converted into cDNA and amplified) during library preparation. The number of expressed features in\n",
    "each cell is defined as the number of features with non-zero counts for that cell. Any cell with very few\n",
    "expressed genes is likely to be of poor quality as the diverse transcript population has not been successfully\n",
    "captured. The distribution of both of these metrics can be seen in the histograms below."
   ]
  },
  {
   "cell_type": "code",
   "execution_count": null,
   "metadata": {},
   "outputs": [],
   "source": [
    "par(mfrow = c(1,2))\n",
    "hist(sceMP$total_counts/1e3, xlab = \"Library sizes (thousands)\", main = \"\", breaks = 20,\n",
    "     col = \"grey\", ylab = \"Number of cells\")\n",
    "hist(sceMP$total_features_by_counts, xlab = \"Number of expressed genes\", main = \"\", breaks = 20,\n",
    "     col = \"grey\", ylab = \"Number of cells\")\n",
    "\n",
    "options(repr.plot.width = 8, repr.plot.height = 4)"
   ]
  },
  {
   "cell_type": "markdown",
   "metadata": {},
   "source": [
    "Selecting a threshold for these metrics is not straightforward as their absolute values depend on the protocol\n",
    "and the biological system. For example, sequencing to greater depth will lead to more reads, regardless of\n",
    "the quality of the cells. To obtain an adaptive threshold, we assume that most of the dataset consists of\n",
    "high-quality cells. We remove cells with log-library sizes that deviate more than 3 absolute deviations from\n",
    "the median (Lun et al. 2016, Davie et al., 2018). The log transformation is performed to improve resolution\n",
    "at small values, which is especially necessary when the absolute deviation of the raw values is comparable to\n",
    "or greater than the median.\n",
    "Note: Davie et al. only flag a cell as an outlier when its 5 absolute deviations from the median."
   ]
  },
  {
   "cell_type": "code",
   "execution_count": null,
   "metadata": {},
   "outputs": [],
   "source": [
    "libsize.drop <- isOutlier(sceMP$total_counts, nmads = 3, type = \"both\", log = TRUE)\n",
    "feature.drop <- isOutlier(sceMP$total_features_by_counts, nmads = 3, type = \"both\", log = TRUE)"
   ]
  },
  {
   "cell_type": "code",
   "execution_count": null,
   "metadata": {},
   "outputs": [],
   "source": [
    "# libsize.drop cutoff values\n",
    "(median(sceMP$total_counts) + 3*mad(sceMP$total_counts))/1e3\n",
    "(median(sceMP$total_counts) - 3*mad(sceMP$total_counts))/1e3\n",
    "\n",
    "# feature.drop cutoff values\n",
    "median(sceMP$total_features_by_counts) + 3*mad(sceMP$total_features_by_counts)\n",
    "median(sceMP$total_features_by_counts) - 3*mad(sceMP$total_features_by_counts)"
   ]
  },
  {
   "cell_type": "code",
   "execution_count": null,
   "metadata": {},
   "outputs": [],
   "source": [
    "par(mfrow = c(1,2))\n",
    "hist(sceMP$total_counts/1e3, xlab = \"Library sizes (thousands)\", main = \"\", breaks = 20,\n",
    "     col = \"grey\", ylab = \"Number of cells\")\n",
    "\n",
    "abline(v = -41.6222598, col = \"blue\", lwd = 2, lty = 2)\n",
    "abline(v = 230.0582598, col = \"blue\", lwd = 2, lty = 2)\n",
    "\n",
    "hist(sceMP$total_features_by_counts, xlab = \"Number of expressed genes\", main = \"\", breaks = 20,\n",
    "     col = \"grey\", ylab = \"Number of cells\")\n",
    "\n",
    "abline(v = 325.295, col = \"blue\", lwd = 2, lty = 2)\n",
    "abline(v = 4550.705, col = \"blue\", lwd = 2, lty = 2)\n",
    "\n",
    "options(repr.plot.width = 8, repr.plot.height = 4)"
   ]
  },
  {
   "cell_type": "markdown",
   "metadata": {},
   "source": [
    "Another measure of quality is the proportion of reads mapped to genes in the mitochondrial genome. High\n",
    "proportions are indicative of poor quality cells (Ilicic et al., 2016), possibly because of increased apoptosis\n",
    "and/or loss of cytoplasmic RNA from lysed cells. In addition, a high proportion of mitochondrial reads could\n",
    "reflect an inefficient capture of the RNA when creating the library.\n",
    "By assuming most cells in the dataset are of high quality, the threshold to remove cells with too high\n",
    "mitochondrial proportions can be set to remove any large outliers. For this, the median absolute deviation\n",
    "method is used again."
   ]
  },
  {
   "cell_type": "code",
   "execution_count": null,
   "metadata": {},
   "outputs": [],
   "source": [
    "hist(sceMP$pct_counts_Mt, xlab = \"Mitochondrial proportion (%)\",\n",
    "                          ylab = \"Number of cells\",\n",
    "                          breaks = 40, main = \"\", col = \"grey\")"
   ]
  },
  {
   "cell_type": "code",
   "execution_count": null,
   "metadata": {},
   "outputs": [],
   "source": [
    "mito.drop <- isOutlier(sceMP$pct_counts_Mt, nmads = 3, type = \"higher\")"
   ]
  },
  {
   "cell_type": "code",
   "execution_count": null,
   "metadata": {},
   "outputs": [],
   "source": [
    "# mito.drop cutoff value\n",
    "(median(sceMP$pct_counts_Mt) + 3*mad(sceMP$pct_counts_Mt))"
   ]
  },
  {
   "cell_type": "code",
   "execution_count": null,
   "metadata": {},
   "outputs": [],
   "source": [
    "hist(sceMP$pct_counts_Mt, xlab = \"Mitochondrial proportion (%)\",\n",
    "                          ylab = \"Number of cells\",\n",
    "                          breaks = 40, main = \"\", col = \"grey\")\n",
    "\n",
    "abline(v = 8.77106549680103, col = \"blue\", lwd = 2, lty = 2)"
   ]
  },
  {
   "cell_type": "markdown",
   "metadata": {},
   "source": [
    "Subset by column to retain only high-quality cells that pass all filters."
   ]
  },
  {
   "cell_type": "code",
   "execution_count": null,
   "metadata": {},
   "outputs": [],
   "source": [
    "sceMP.qc <- sceMP[,!(libsize.drop | feature.drop | mito.drop)]\n",
    "data.frame(ByLibrarySize = sum(libsize.drop), ByFeature = sum(feature.drop), ByMito = sum(mito.drop),\n",
    "           Remaining = ncol(sceMP.qc))"
   ]
  },
  {
   "cell_type": "markdown",
   "metadata": {},
   "source": [
    "11 cells were rejected based on the library size criterion, 13 were removed based on very low or high gene expression counts. 30 more are removed for having a higher than expected proportion of mitochondrial reads, leading to a final total of 656 cells. This very closely approximates the final number of cells in the original publication, where 656 cells were retained."
   ]
  },
  {
   "cell_type": "markdown",
   "metadata": {},
   "source": [
    "An alternative approach to perform quality control is to perfom a PCA based on the quality metrics for\n",
    "each cell, e.g., the total number of reads, the total number of features and the proportion of mitochondrial\n",
    "reads. Outliers on a PCA plot may be indicative of low-quality cells that have aberrant technical properties\n",
    "compared to the majority of high-quality cells."
   ]
  },
  {
   "cell_type": "code",
   "execution_count": null,
   "metadata": {},
   "outputs": [],
   "source": [
    "sceMP <- runPCA(sceMP, use_coldata = TRUE, detect_outliers = TRUE)\n",
    "sceMP.qc <- runPCA(sceMP.qc, use_coldata = TRUE, detect_outliers = TRUE)\n",
    "\n",
    "PCA.plot1 <- plotReducedDim(sceMP, use_dimred = \"PCA_coldata\", add_ticks = FALSE) + geom_rug()\n",
    "PCA.plot2 <- plotReducedDim(sceMP.qc, use_dimred = \"PCA_coldata\", add_ticks = FALSE) + geom_rug()\n",
    "\n",
    "plot_grid(PCA.plot1, PCA.plot2)"
   ]
  },
  {
   "cell_type": "markdown",
   "metadata": {},
   "source": [
    "### Filtering out low-abundance genes"
   ]
  },
  {
   "cell_type": "markdown",
   "metadata": {},
   "source": [
    "Low-abundance genes are problematic as zero or near-zero counts do not contain enough information for\n",
    "reliable statsitical inference. Here, low-abundance genes are defined as those with an average count below a\n",
    "filter threshold of 0.001 (Davie et al., 2018). Removal of these genes mitigates discreteness and reduces the\n",
    "amount of computational work without major (if any) loss of information."
   ]
  },
  {
   "cell_type": "code",
   "execution_count": null,
   "metadata": {},
   "outputs": [],
   "source": [
    "average.counts <- calculateAverage(sceMP.qc, exprs_values = \"counts\",\n",
    "                                   use_size_factors = FALSE, subset_row = NULL)\n",
    "genes.to.keep <- average.counts >= 0.001\n",
    "sum(genes.to.keep)"
   ]
  },
  {
   "cell_type": "code",
   "execution_count": null,
   "metadata": {},
   "outputs": [],
   "source": [
    "hist(log10(average.counts), breaks = 100, main = \"\", col = \"grey\",\n",
    "     xlab = expression(Log[10]~\"average count\"), ylab = \"Gene counts\")\n",
    "abline(v = log10(0.001), col = \"blue\", lwd = 2, lty = 2)"
   ]
  },
  {
   "cell_type": "markdown",
   "metadata": {},
   "source": [
    "The mean-based filter is then applied to the data by subsetting the `SingleCellExperiment` object. This removes all rows corresponding to endogenous genes with abundances below the specified threshold."
   ]
  },
  {
   "cell_type": "code",
   "execution_count": null,
   "metadata": {},
   "outputs": [],
   "source": [
    "sce <- sceMP.qc[genes.to.keep,]\n",
    "dim(sce)"
   ]
  },
  {
   "cell_type": "markdown",
   "metadata": {},
   "source": [
    "Dimensions of the filtered and quality-controlled data are **25.534 genes and 656 cells**. In total, 754 genes and 35 cells were filtered out. "
   ]
  },
  {
   "cell_type": "markdown",
   "metadata": {},
   "source": [
    "Remove duplicate features:"
   ]
  },
  {
   "cell_type": "code",
   "execution_count": null,
   "metadata": {},
   "outputs": [],
   "source": [
    "sce <- sce[!duplicated(rownames(sce)),]\n",
    "dim(sce)"
   ]
  },
  {
   "cell_type": "markdown",
   "metadata": {},
   "source": [
    "Lastly, we look at the identities of the most highly expressed genes. This should be dominated by consitutively\n",
    "expressed transcripts, such as those for ribosomal or mitochondrial proteins. The presence of other classes of\n",
    "genes may be of concern when not consistent with expected biology. For example, a top set void of ribosomal\n",
    "proteins and/or their pseudogenes is indicative of suboptimal alignment."
   ]
  },
  {
   "cell_type": "code",
   "execution_count": null,
   "metadata": {},
   "outputs": [],
   "source": [
    "plotHighestExprs(sce, n = 50)\n",
    "options(repr.plot.width = 8, repr.plot.height = 8)"
   ]
  },
  {
   "cell_type": "markdown",
   "metadata": {},
   "source": [
    "## Finalization of the dataset"
   ]
  },
  {
   "cell_type": "markdown",
   "metadata": {},
   "source": [
    "In order to be compatible with Seurat, log-transformed counts (logcounts assay) need to be added to the `SingleCellExperiment` object."
   ]
  },
  {
   "cell_type": "code",
   "execution_count": null,
   "metadata": {},
   "outputs": [],
   "source": [
    "logcounts(sce) <- log2(counts(sce)+1)\n",
    "names(sce@assays)"
   ]
  },
  {
   "cell_type": "code",
   "execution_count": null,
   "metadata": {},
   "outputs": [],
   "source": [
    "saveRDS(sce, file = \"Debnath.Rds\")"
   ]
  }
 ],
 "metadata": {
  "kernelspec": {
   "display_name": "R [conda env:base] *",
   "language": "R",
   "name": "conda-base-r"
  },
  "language_info": {
   "codemirror_mode": "r",
   "file_extension": ".r",
   "mimetype": "text/x-r-source",
   "name": "R",
   "pygments_lexer": "r",
   "version": "4.3.2"
  }
 },
 "nbformat": 4,
 "nbformat_minor": 4
}
