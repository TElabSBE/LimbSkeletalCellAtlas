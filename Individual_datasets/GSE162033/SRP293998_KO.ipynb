{
 "cells": [
  {
   "cell_type": "markdown",
   "id": "2ae19840-ba8e-4fad-90b9-e1ce2db41fa0",
   "metadata": {
    "tags": []
   },
   "source": [
    "# SOX9 keeps growth plates and articular cartilage healthy by inhibiting chondrocyte dedifferentiation/osteoblastic redifferentiation\n",
    "Haseeb *et al.* PNAS (2021)\n",
    " \n",
    " PMID: [33597301](https://pubmed.ncbi.nlm.nih.gov/33597301/)\n",
    " ***\n",
    " "
   ]
  },
  {
   "cell_type": "markdown",
   "id": "c06b4a8b-bae3-44b7-a9a5-aa6e0b85d782",
   "metadata": {},
   "source": [
    "## 0. Setting up workenvironment<a id=\"0\"></a>"
   ]
  },
  {
   "cell_type": "code",
   "execution_count": null,
   "id": "1ec71fd6-874b-4dd0-a110-46fa154655a9",
   "metadata": {},
   "outputs": [],
   "source": [
    "suppressPackageStartupMessages({\n",
    "    library(DropletUtils)\n",
    "    library(SingleCellExperiment)\n",
    "    library(scuttle)\n",
    "    library(Seurat)\n",
    "    library(SeuratWrappers)\n",
    "    library(stringr)\n",
    "    library(dplyr)\n",
    "    library(data.table)\n",
    "    library(Matrix)\n",
    "    library(patchwork)\n",
    "    library(ggplot2)\n",
    "})\n",
    "\n",
    "options(repr.plot.width = 16, repr.plot.height = 8)"
   ]
  },
  {
   "cell_type": "markdown",
   "id": "d5eee954-83cd-4118-840b-6015a155bf64",
   "metadata": {
    "tags": []
   },
   "source": [
    "## 1. Data analysis in Seurat"
   ]
  },
  {
   "cell_type": "code",
   "execution_count": null,
   "id": "b735a2fa-0a79-456b-a78a-43a0c1d954dd",
   "metadata": {},
   "outputs": [],
   "source": [
    "seuratObject <- readRDS(file = \"VSOX_Mutp13_QC.Rds\")"
   ]
  },
  {
   "cell_type": "code",
   "execution_count": null,
   "id": "4fa942d1-7d15-4b4c-b2d3-ba4b32c7be53",
   "metadata": {},
   "outputs": [],
   "source": [
    "VlnPlot(seuratObject, features = c(\"nCount_RNA\", \"nFeature_RNA\", \"subsets_Mito_percent\"), \n",
    "        ncol = 3, group.by = \"orig.ident\", pt.size = 0)"
   ]
  },
  {
   "cell_type": "markdown",
   "id": "53406e06-ab8a-4989-8eb6-b5f59beef99b",
   "metadata": {},
   "source": [
    "### 1.1. Feature selection\n",
    "\n",
    "We next calculate a subset of features that exhibit high cell-to-cell variation in the dataset (i.e, they are highly expressed in some cells, and lowly expressed in others). We and others have found that focusing on these genes in downstream analysis helps to highlight biological signal in single-cell datasets.\n",
    "\n",
    "The procedure in Seurat v3 directly models the mean-variance relationship inherent in single-cell data, and is implemented in the `FindVariableFeatures` function. By default, it defaults to 2,000 features (genes) per dataset. These will be used in downstream analysis, like principal component analysis (PCA)."
   ]
  },
  {
   "cell_type": "code",
   "execution_count": null,
   "id": "1b1daea4-1731-4364-a0c9-46fea6d26a44",
   "metadata": {},
   "outputs": [],
   "source": [
    "seuratObject <- NormalizeData(seuratObject, verbose = FALSE)\n",
    "seuratObject <- FindVariableFeatures(seuratObject, selection.method = \"vst\", nfeatures = 2000)\n",
    "\n",
    "# Identify the 10 most highly variable genes\n",
    "top10 <- head(VariableFeatures(seuratObject), 10)"
   ]
  },
  {
   "cell_type": "code",
   "execution_count": null,
   "id": "9b3a11db-14ef-40d4-85ef-ac4b1fab741b",
   "metadata": {},
   "outputs": [],
   "source": [
    "options(repr.plot.width=10)\n",
    "\n",
    "# plot variable features with and without labels\n",
    "plot1 <- VariableFeaturePlot(seuratObject)\n",
    "plot2 <- LabelPoints(plot = plot1, points = top10, repel = TRUE)\n",
    "plot2"
   ]
  },
  {
   "cell_type": "markdown",
   "id": "68f46a42-b2e0-4126-8643-8f535377bfd6",
   "metadata": {},
   "source": [
    "### 1.2. Scaling the data"
   ]
  },
  {
   "cell_type": "markdown",
   "id": "1b46ab3d-7538-4ee0-bed9-db269f596c94",
   "metadata": {},
   "source": [
    "Next, we apply a linear transformation (scaling) that is a standard pre-processing step prior to dimensional reduction techniques like PCA. The ScaleData function:\n",
    "\n",
    "- Shifts the expression of each gene, so that the mean expression across cells is 0\n",
    "- Scales the expression of each gene, so that the variance across cells is 1\n",
    "- This step gives equal weight in downstream analyses, so that highly-expressed genes do not dominate. This is superior to log-normalized counts, which overemphasize the influence of small count fluctuations.\n",
    "- The results of this are stored in `object[[\"originalexp\"]]@scale.data`"
   ]
  },
  {
   "cell_type": "code",
   "execution_count": null,
   "id": "598aac7f-030b-4199-b18c-470f2d0c89b8",
   "metadata": {},
   "outputs": [],
   "source": [
    "all.genes <- rownames(seuratObject)\n",
    "seuratObject <- ScaleData(seuratObject, features = all.genes)"
   ]
  },
  {
   "cell_type": "code",
   "execution_count": null,
   "id": "5929ab04-5706-432b-a5b8-3560df0e448e",
   "metadata": {},
   "outputs": [],
   "source": []
  },
  {
   "cell_type": "markdown",
   "id": "abb8cd7b-e652-4088-b6a4-e57e40fba9cf",
   "metadata": {},
   "source": [
    "### 1.3 Linear dimensionality reduction: PCA"
   ]
  },
  {
   "cell_type": "markdown",
   "id": "a8c5380f-2697-40da-b5ad-193f31effdea",
   "metadata": {},
   "source": [
    "Next we perform PCA on the scaled data. By default, only the previously determined variable features are used as input, but can be defined using features argument if you wish to choose a different subset."
   ]
  },
  {
   "cell_type": "code",
   "execution_count": null,
   "id": "31433659-eef7-4f2b-8bc5-d21edcd9434a",
   "metadata": {},
   "outputs": [],
   "source": [
    "seuratObject <- RunPCA(seuratObject, features = VariableFeatures(object = seuratObject), verbose = FALSE)"
   ]
  },
  {
   "cell_type": "code",
   "execution_count": null,
   "id": "8c105794-b20d-452a-a107-7863554c56a9",
   "metadata": {},
   "outputs": [],
   "source": [
    "DimPlot(seuratObject, reduction = \"pca\") + xlab(\"PC 1\") + ylab(\"PC 2\")"
   ]
  },
  {
   "cell_type": "markdown",
   "id": "c468daec-9cf4-4ed7-9836-5f62c1917b79",
   "metadata": {
    "tags": []
   },
   "source": [
    "### 1.4. Determine dimensionality\n",
    "\n",
    "To overcome the extensive technical noise in any single feature for scRNA-seq data, Seurat clusters cells based on their PCA scores, with each PC essentially representing a 'metafeature' that combines information across a correlated feature set. The top principal components therefore represent a robust compression of the dataset. However, how many componenets should we choose to include? \n",
    "\n",
    "[Macosko et al](http://www.cell.com/abstract/S0092-8674(15)00549-8) introduced a resampling test inspired by the JackStraw procedure. They randomly permute a subset of the data (1% by default) and rerun PCA, constructing a 'null distribution' of feature scores, and repeat this procedure. 'Significant' PCs are defined as those who have a strong enrichment of low p-value features.\n",
    "\n",
    "**NOTE: This process can take a long time for big datasets, and is therefore commented out for expediency. More approximate techniques such as a scree plot implemented in `ElbowPlot()` can be used to reduce computation time.**\n",
    "\n",
    "The `JackStrawPlot` function provides a visualization tool for comparing the distribution of p-values for each PC with a uniform distribution (dashed line). 'Significant' PCs will show a strong enrichment of features with low p-values (solid curve above the dashed line)."
   ]
  },
  {
   "cell_type": "markdown",
   "id": "8dddb3f6-6aa7-4517-b81d-7e086938c790",
   "metadata": {},
   "source": [
    "An alternative heuristic method generates an 'Elbow plot': a ranking of principle components based on the percentage of variance explained by each one (ElbowPlot function). "
   ]
  },
  {
   "cell_type": "code",
   "execution_count": null,
   "id": "8e413a91-ae2d-4d1c-b142-6673669cf4cb",
   "metadata": {},
   "outputs": [],
   "source": [
    "ElbowPlot(seuratObject, 50)"
   ]
  },
  {
   "cell_type": "markdown",
   "id": "297eded9-6d4d-4afe-a6a9-fbe3605fc636",
   "metadata": {
    "tags": []
   },
   "source": [
    "### 1.5. Clustering\n",
    "\n",
    "Seurat v4 applies a graph-based clustering approach, building upon initial strategies in [Macosko et al](http://www.cell.com/abstract/S0092-8674(15)00549-8). Importantly, the distance metric which drives the clustering analysis (based on previously identified PCs) remains the same. The new method embeds cells in a graph structure - for example a K-nearest neighbor (KNN) graph, with edges drawn between cells with similar feature expression patterns, and then attempt to partition this graph into highly interconnected 'quasi-cliques' or 'communities'.\n",
    "\n",
    "As in [PhenoGraph](https://doi.org/10.1016/j.cell.2015.05.047), Seurat first constructs a KNN graph based on the euclidean distance in PCA space, and refine the edge weights between any two cells based on the shared overlap in their local neighborhoods (Jaccard similarity). This step is performed using the `FindNeighbors` function, and takes as input the previously defined dimensionality of the dataset.\n",
    "\n",
    "To cluster the cells, modularity optimization techniques such as the Louvain algorithm are then applied to iteratively group cells together, with the goal of optimizing the standard modularity function. The `FindClusters` function implements this procedure and contains a resolution parameter that sets the 'granularity' of the downstream clustering, with increased values leading to a greater number of clusters. Optimal resolution often increases for larger datasets."
   ]
  },
  {
   "cell_type": "code",
   "execution_count": null,
   "id": "812cf27c-03bf-478d-8c0a-31030188a531",
   "metadata": {
    "tags": []
   },
   "outputs": [],
   "source": [
    "seuratObject <- FindNeighbors(seuratObject, dims = 1:25)\n",
    "seuratObject <- FindClusters(seuratObject, resolution = 0.15)"
   ]
  },
  {
   "cell_type": "markdown",
   "id": "ef4af9d2-d6d5-429b-81f1-440bd2b2cbee",
   "metadata": {},
   "source": [
    "### 1.6. Non-linear dimensionality reduction: UMAP\n",
    "\n",
    "Seurat offers several non-linear dimensional reduction techniques, such as tSNE and UMAP, to visualize and explore these datasets. The goal of these algorithms is to learn the underlying manifold of the data in order to place similar cells together in low-dimensional space. Cells within the graph-based clusters determined above should co-localize on these dimension reduction plots. As input to the UMAP and tSNE, [it is recommended to use the same PCs](https://doi.org/10.1038/s41467-019-13056-x) as input to the clustering analysis."
   ]
  },
  {
   "cell_type": "code",
   "execution_count": null,
   "id": "bdd0fc64-b175-4009-93d2-9adc9215e56b",
   "metadata": {
    "scrolled": true,
    "tags": []
   },
   "outputs": [],
   "source": [
    "seuratObject <- RunUMAP(seuratObject, dims = 1:25, n.neighbors = 12, verbose = FALSE)"
   ]
  },
  {
   "cell_type": "code",
   "execution_count": null,
   "id": "755cfb42-2b17-4aee-a63d-df5a9490a6cd",
   "metadata": {
    "tags": []
   },
   "outputs": [],
   "source": [
    "options(repr.plot.width = 8)\n",
    "\n",
    "DimPlot(seuratObject, reduction = \"umap\", label = TRUE) + xlab(\"UMAP 1\") + ylab(\"UMAP 2\")\n",
    "\n",
    "#ggsave(\"./6-kmita/images/E12_5_na.png\" ,width=10, height=8)"
   ]
  },
  {
   "cell_type": "markdown",
   "id": "abe05cf4-8eb4-48f4-b27b-894f539b1d65",
   "metadata": {
    "tags": []
   },
   "source": [
    "### 1.7. Differential expression analysis\n",
    "#### 1.7.1. Global annotation by differential expression analysis\n",
    "\n",
    "Seurat identifies markers that define clusters via differential expression. By default, it identifes positive and negative markers of a single cluster (specified in ident.1), compared to all other cells. `FindAllMarkers` automates this process for all clusters, but it is possible to test groups of clusters vs. each other, or against all cells.\n",
    "\n",
    "The `min.pct` argument requires a feature to be detected at a minimum percentage in either of the two groups of cells, and the `thresh.test` argument requires a feature to be differentially expressed (on average) by some amount between the two groups. You can set both of these to 0, but with a dramatic increase in time - since this will test a large number of features that are unlikely to be highly discriminatory. As another option to speed up these computations, `max.cells.per.ident` can be set. This will downsample each identity class to have no more cells than whatever this is set to. While there is generally going to be a loss in power, the speed increases can be significiant and the most highly differentially expressed features will likely still rise to the top."
   ]
  },
  {
   "cell_type": "code",
   "execution_count": null,
   "id": "88680d70-469c-428d-8a7a-9fb783af95dc",
   "metadata": {},
   "outputs": [],
   "source": [
    "# Seurat default settings\n",
    "seuratObject.markers <- FindAllMarkers(seuratObject, only.pos = TRUE, min.pct = 0.25, logfc.threshold = 0.25)"
   ]
  },
  {
   "cell_type": "code",
   "execution_count": null,
   "id": "5aed5208-430a-40b0-a91a-cf1a3730fca2",
   "metadata": {},
   "outputs": [],
   "source": [
    "#select only cluster 0 and order avg_log2FC from big to small\n",
    "\n",
    "seuratObject.markers[seuratObject.markers$cluster == 3,] %>%\n",
    "slice_max(n = 10\n",
    "          , order_by = avg_log2FC)"
   ]
  },
  {
   "cell_type": "code",
   "execution_count": null,
   "id": "86e7d627-9cf8-46e2-9e2b-6a032f0c83c3",
   "metadata": {},
   "outputs": [],
   "source": [
    "write.csv(seuratObject.markers, file = \"markers.csv\", quote = FALSE)"
   ]
  },
  {
   "cell_type": "code",
   "execution_count": null,
   "id": "b0a91aec-b89c-436f-b25c-34ea89b7c9f8",
   "metadata": {},
   "outputs": [],
   "source": [
    "#Early limb bud mesenchyme\n",
    "options(repr.plot.width = 18, repr.plot.height = 8)\n",
    "\n",
    "p1 <- DimPlot(seuratObject, label = TRUE) + NoLegend() + xlab(\"UMAP 1\") + ylab(\"UMAP 2\")\n",
    "p2 <- FeaturePlot(seuratObject, c(\"Meis1\",\"Tbx4\",\"Tbx5\"), min.cutoff = \"q1\")  \n",
    "\n",
    "p1 + p2"
   ]
  },
  {
   "cell_type": "code",
   "execution_count": null,
   "id": "f5da01df-0166-4cc8-8edf-94b4b5a27f22",
   "metadata": {},
   "outputs": [],
   "source": [
    "#Limb bud mesenchyme\n",
    "options(repr.plot.width = 18, repr.plot.height = 8)\n",
    "\n",
    "p1 <- DimPlot(seuratObject, label = TRUE) + NoLegend() + xlab(\"UMAP 1\") + ylab(\"UMAP 2\")\n",
    "p2 <- FeaturePlot(seuratObject, c(\"Prrx1\",\"Prrx2\",\"Fgf10\"), min.cutoff = \"q1\")  \n",
    "\n",
    "p1 + p2"
   ]
  },
  {
   "cell_type": "code",
   "execution_count": null,
   "id": "f6632507-8715-4f51-8921-5a4247eeb523",
   "metadata": {},
   "outputs": [],
   "source": [
    "#Interzone cells\n",
    "options(repr.plot.width = 18, repr.plot.height = 8)\n",
    "\n",
    "p1 <- DimPlot(seuratObject, label = TRUE) + NoLegend() + xlab(\"UMAP 1\") + ylab(\"UMAP 2\")\n",
    "p2 <- FeaturePlot(seuratObject, c(\"Smoc2\",\"Dact2\",\"Gdf5\",\"Sox9\"), min.cutoff = \"q1\", keep.scale = 'all')  \n",
    "\n",
    "p1 + p2"
   ]
  },
  {
   "cell_type": "code",
   "execution_count": null,
   "id": "5c3be120-2dfa-4e43-b6f1-b53ef0e7ce2d",
   "metadata": {},
   "outputs": [],
   "source": [
    "options(repr.plot.width = 18, repr.plot.height = 5)\n",
    "FeaturePlot(seuratObject, features = c('Gdf5', 'Smoc2'), blend = TRUE )"
   ]
  },
  {
   "cell_type": "code",
   "execution_count": null,
   "id": "742577a2-db07-46d0-b7b7-27a99a19b828",
   "metadata": {},
   "outputs": [],
   "source": [
    "options(repr.plot.width = 18, repr.plot.height = 5)\n",
    "FeaturePlot(seuratObject, features = c('Gdf5', 'Col2a1'), blend = TRUE )"
   ]
  },
  {
   "cell_type": "code",
   "execution_count": null,
   "id": "294e1e94-616c-42a0-a2f0-d5349a595777",
   "metadata": {},
   "outputs": [],
   "source": [
    "options(repr.plot.width = 18, repr.plot.height = 5)\n",
    "FeaturePlot(seuratObject, features = c('Sox9', 'Smoc2'), blend = TRUE )"
   ]
  },
  {
   "cell_type": "code",
   "execution_count": null,
   "id": "8f0ed5ae-cafd-45a1-a38d-472eec97ed3d",
   "metadata": {},
   "outputs": [],
   "source": [
    "#Joint progenitors\n",
    "options(repr.plot.width = 18, repr.plot.height = 8)\n",
    "\n",
    "p1 <- DimPlot(seuratObject, label = TRUE) + NoLegend() + xlab(\"UMAP 1\") + ylab(\"UMAP 2\")\n",
    "p2 <- FeaturePlot(seuratObject, c(\"Gdf5\",\"Wnt9a\",\"Smoc2\",\"Sox9\"), min.cutoff = \"q1\", order = TRUE,  keep.scale = 'all')  \n",
    "\n",
    "p1 + p2"
   ]
  },
  {
   "cell_type": "code",
   "execution_count": null,
   "id": "d7f46b7a-d3e2-4dd4-b450-08791461287a",
   "metadata": {},
   "outputs": [],
   "source": [
    "#Muscle progenitors\n",
    "options(repr.plot.width = 18, repr.plot.height = 12)\n",
    "\n",
    "p1 <- DimPlot(seuratObject, label = TRUE) + NoLegend() + xlab(\"UMAP 1\") + ylab(\"UMAP 2\")\n",
    "p2 <- FeaturePlot(seuratObject, \n",
    "                c(\"Pax7\",\"Notch\",\"Itm2a\",\"Nrk\"), \n",
    "                min.cutoff = \"q1\",\n",
    "                keep.scale = 'all',\n",
    "                order = TRUE\n",
    "                 )  \n",
    "\n",
    "p1 + p2"
   ]
  },
  {
   "cell_type": "code",
   "execution_count": null,
   "id": "178a6c31-c3ab-4d51-ad71-016cf574edff",
   "metadata": {},
   "outputs": [],
   "source": [
    "#Myogenic stem cells\n",
    "options(repr.plot.width = 18, repr.plot.height = 12)\n",
    "\n",
    "p1 <- DimPlot(seuratObject, label = TRUE) + NoLegend() + xlab(\"UMAP 1\") + ylab(\"UMAP 2\")\n",
    "p2 <- FeaturePlot(seuratObject, \n",
    "                c(\"Pax3\",\"Pdgfc\"), \n",
    "                min.cutoff = \"q1\",\n",
    "                keep.scale = 'all',\n",
    "                order = TRUE\n",
    "                 )  \n",
    "\n",
    "p1 + p2"
   ]
  },
  {
   "cell_type": "code",
   "execution_count": null,
   "id": "bcb0cffd-3a21-4d97-801e-079fcb7d6903",
   "metadata": {},
   "outputs": [],
   "source": [
    "#Skeletal muscle cells\n",
    "options(repr.plot.width = 18, repr.plot.height = 12)\n",
    "\n",
    "p1 <- DimPlot(seuratObject, label = TRUE) + NoLegend() + xlab(\"UMAP 1\") + ylab(\"UMAP 2\")\n",
    "p2 <- FeaturePlot(seuratObject, \n",
    "                c(\"Myhc\",\"Tnnt1\",'Myod','Tnnt3'), \n",
    "                min.cutoff = \"q1\",\n",
    "                keep.scale = 'all',\n",
    "                order = TRUE\n",
    "                 )  \n",
    "\n",
    "p1 + p2"
   ]
  },
  {
   "cell_type": "code",
   "execution_count": null,
   "id": "660188ad-e78f-4f19-b4b5-2ddc5958d400",
   "metadata": {},
   "outputs": [],
   "source": [
    "#Smooth muscle cells\n",
    "options(repr.plot.width = 18, repr.plot.height = 12)\n",
    "\n",
    "p1 <- DimPlot(seuratObject, label = TRUE) + NoLegend() + xlab(\"UMAP 1\") + ylab(\"UMAP 2\")\n",
    "p2 <- FeaturePlot(seuratObject, \n",
    "                c(\"Acta2\"), \n",
    "                min.cutoff = \"q1\",\n",
    "                keep.scale = 'all',\n",
    "                order = TRUE\n",
    "                 )  \n",
    "\n",
    "p1 + p2"
   ]
  },
  {
   "cell_type": "code",
   "execution_count": null,
   "id": "5ac7fb37-d560-400f-a848-a6a7c4ff196b",
   "metadata": {},
   "outputs": [],
   "source": [
    "#Cardiomyocytes\n",
    "options(repr.plot.width = 18, repr.plot.height = 12)\n",
    "\n",
    "p1 <- DimPlot(seuratObject, label = TRUE) + NoLegend() + xlab(\"UMAP 1\") + ylab(\"UMAP 2\")\n",
    "p2 <- FeaturePlot(seuratObject, \n",
    "                c(\"Foxp1\"), \n",
    "                min.cutoff = \"q1\",\n",
    "                keep.scale = 'all',\n",
    "                order = TRUE\n",
    "                 )  \n",
    "\n",
    "p1 + p2"
   ]
  },
  {
   "cell_type": "code",
   "execution_count": null,
   "id": "b0d71191-1327-42ac-ba79-9c44187419d0",
   "metadata": {},
   "outputs": [],
   "source": [
    "#Tenocyte precursors\n",
    "options(repr.plot.width = 18, repr.plot.height = 12)\n",
    "\n",
    "p1 <- DimPlot(seuratObject, label = TRUE) + NoLegend() + xlab(\"UMAP 1\") + ylab(\"UMAP 2\")\n",
    "p2 <- FeaturePlot(seuratObject, \n",
    "                c(\"Tnmd\", \"Prrx1\", \"Prrx2\",\"Scx\"), \n",
    "                min.cutoff = \"q1\",\n",
    "                keep.scale = 'all',\n",
    "                order = TRUE\n",
    "                 )  \n",
    "\n",
    "p1 + p2"
   ]
  },
  {
   "cell_type": "code",
   "execution_count": null,
   "id": "4315f51e-925b-4eae-b58a-3fcab18ba38e",
   "metadata": {},
   "outputs": [],
   "source": [
    "options(repr.plot.width = 18, repr.plot.height = 5)\n",
    "FeaturePlot(seuratObject, features = c('Fgf8','Prrx1'), blend = TRUE )"
   ]
  },
  {
   "cell_type": "code",
   "execution_count": null,
   "id": "a6660dc3-e3bc-4f22-8002-a73e434e3c41",
   "metadata": {},
   "outputs": [],
   "source": [
    "#Ectoderm\n",
    "options(repr.plot.width = 18, repr.plot.height = 12)\n",
    "\n",
    "p1 <- DimPlot(seuratObject, label = TRUE) + NoLegend() + xlab(\"UMAP 1\") + ylab(\"UMAP 2\")\n",
    "p2 <- FeaturePlot(seuratObject, \n",
    "                c(\"Fgf8\",\"Wnt7a\",\"En1\",\"Rspo2\"), \n",
    "                min.cutoff = \"q1\",\n",
    "                keep.scale = 'all',\n",
    "                order = TRUE\n",
    "                 )  \n",
    "\n",
    "p1 + p2"
   ]
  },
  {
   "cell_type": "code",
   "execution_count": null,
   "id": "627e0cc1-3731-4868-9dd2-c0b75c44d92c",
   "metadata": {},
   "outputs": [],
   "source": [
    "#VEC\n",
    "options(repr.plot.width = 18, repr.plot.height = 12)\n",
    "\n",
    "p1 <- DimPlot(seuratObject, label = TRUE) + NoLegend() + xlab(\"UMAP 1\") + ylab(\"UMAP 2\")\n",
    "p2 <- FeaturePlot(seuratObject, \n",
    "                c(\"Pecam1\",\"Flt1\",\"Emcn\"), \n",
    "                min.cutoff = \"q1\",\n",
    "                keep.scale = 'all',\n",
    "                order = TRUE\n",
    "                 )  \n",
    "\n",
    "p1 + p2"
   ]
  },
  {
   "cell_type": "code",
   "execution_count": null,
   "id": "1f068de8-d001-43b2-a628-2324ef9ea992",
   "metadata": {},
   "outputs": [],
   "source": [
    "#LEC\n",
    "options(repr.plot.width = 18, repr.plot.height = 12)\n",
    "\n",
    "p1 <- DimPlot(seuratObject, label = TRUE) + NoLegend() + xlab(\"UMAP 1\") + ylab(\"UMAP 2\")\n",
    "p2 <- FeaturePlot(seuratObject, \n",
    "                c(\"Flt4\",\"Prox1\",\"Lyve1\",'Flt1'), \n",
    "                min.cutoff = \"q1\",\n",
    "                keep.scale = 'all',\n",
    "                order = TRUE\n",
    "                 )  \n",
    "\n",
    "p1 + p2"
   ]
  },
  {
   "cell_type": "code",
   "execution_count": null,
   "id": "6f6789ff-f727-4483-9224-afd1b07c927f",
   "metadata": {},
   "outputs": [],
   "source": [
    "options(repr.plot.width = 18, repr.plot.height = 5)\n",
    "FeaturePlot(seuratObject, features = c('Flt4', 'Flt1'), blend = TRUE )"
   ]
  },
  {
   "cell_type": "code",
   "execution_count": null,
   "id": "3bd2b5b0-4422-4877-ad1d-d6765dfb3b15",
   "metadata": {},
   "outputs": [],
   "source": [
    "options(repr.plot.width = 18, repr.plot.height = 12)\n",
    "\n",
    "p1 <- DimPlot(seuratObject, label = TRUE) + NoLegend() + xlab(\"UMAP 1\") + ylab(\"UMAP 2\")\n",
    "p2 <- FeaturePlot(seuratObject, \n",
    "                c(\"Pf4\",\"Car2\",\"Cd68\",'Gp9','Gypa'), \n",
    "                min.cutoff = \"q1\",\n",
    "                keep.scale = 'all',\n",
    "                order = TRUE\n",
    "                 )   \n",
    "\n",
    "p1 + p2"
   ]
  },
  {
   "cell_type": "code",
   "execution_count": null,
   "id": "a0cbffd1-2607-460f-a04d-80d53a2b4a30",
   "metadata": {},
   "outputs": [],
   "source": [
    "options(repr.plot.width = 18, repr.plot.height = 12)\n",
    "\n",
    "p1 <- DimPlot(seuratObject, label = TRUE) + NoLegend() + xlab(\"UMAP 1\") + ylab(\"UMAP 2\")\n",
    "p2 <- FeaturePlot(seuratObject, \n",
    "                c(\"Pf4\",\"Cd3d\",\"Cd68\",'Mrc1','Camp','Siglech','Ptprc'), \n",
    "                min.cutoff = \"q1\",\n",
    "                keep.scale = 'all',\n",
    "                order = TRUE\n",
    "                 )   \n",
    "\n",
    "p1 + p2"
   ]
  },
  {
   "cell_type": "code",
   "execution_count": null,
   "id": "c3a48859-33fd-47a4-bc53-aec0ec454f7c",
   "metadata": {},
   "outputs": [],
   "source": [
    "options(repr.plot.width = 18, repr.plot.height = 12)\n",
    "\n",
    "p1 <- DimPlot(seuratObject, label = TRUE) + NoLegend() + xlab(\"UMAP 1\") + ylab(\"UMAP 2\")\n",
    "p2 <- FeaturePlot(seuratObject, \n",
    "                c(\"Ccl5\",'Cd79b'), \n",
    "                min.cutoff = \"q1\",\n",
    "                keep.scale = 'all',\n",
    "                order = TRUE\n",
    "                 )   \n",
    "\n",
    "p1 + p2"
   ]
  },
  {
   "cell_type": "code",
   "execution_count": null,
   "id": "0a1187d0-353d-4203-ab21-ceac09983e06",
   "metadata": {},
   "outputs": [],
   "source": [
    "options(repr.plot.width = 18, repr.plot.height = 12)\n",
    "\n",
    "p1 <- DimPlot(seuratObject, label = TRUE) + NoLegend() + xlab(\"UMAP 1\") + ylab(\"UMAP 2\")\n",
    "p2 <- FeaturePlot(seuratObject, \n",
    "                c('Gypa','Car2'), \n",
    "                min.cutoff = \"q1\",\n",
    "                keep.scale = 'all',\n",
    "                order = TRUE\n",
    "                 )   \n",
    "\n",
    "p1 + p2"
   ]
  },
  {
   "cell_type": "code",
   "execution_count": null,
   "id": "3d699866-534b-4838-b580-b206582cd3d3",
   "metadata": {},
   "outputs": [],
   "source": [
    "options(repr.plot.width = 18, repr.plot.height = 12)\n",
    "\n",
    "p1 <- DimPlot(seuratObject, label = TRUE) + NoLegend() + xlab(\"UMAP 1\") + ylab(\"UMAP 2\")\n",
    "p2 <- FeaturePlot(seuratObject, c(\"\",\"\",\"\",\"\"), min.cutoff = \"q1\")  \n",
    "\n",
    "p1 + p2"
   ]
  },
  {
   "cell_type": "code",
   "execution_count": null,
   "id": "1d04cae9-0a04-4e1c-a64c-d1c31c8cf764",
   "metadata": {},
   "outputs": [],
   "source": [
    "DotPlot(object = seuratObject, features = c('','','',''), col.min = 0)"
   ]
  },
  {
   "cell_type": "code",
   "execution_count": null,
   "id": "781df43b-92a6-4d8d-b8a8-18251d6b3387",
   "metadata": {},
   "outputs": [],
   "source": [
    "Toptions(repr.plot.width = 18, repr.plot.height = 6)\n",
    "FeaturePlot(A, features = c('', ''), blend = TRUE )"
   ]
  },
  {
   "cell_type": "code",
   "execution_count": null,
   "id": "d34a63b4-19c9-4e5e-8707-c7b0554fbdd9",
   "metadata": {},
   "outputs": [],
   "source": [
    "# Step 1: Define the variable 'name' with cell type / global\n",
    "name <- \"Global\"\n",
    "\n",
    "# Step 2: Create the column name dynamically\n",
    "column_name <- paste0(\"CellType_\", name)"
   ]
  },
  {
   "cell_type": "code",
   "execution_count": null,
   "id": "7325e55c-bbea-4f57-b9e1-addb5e99283b",
   "metadata": {},
   "outputs": [],
   "source": [
    "seuratObject@meta.data[[column_name]] <- Idents(seuratObject)"
   ]
  },
  {
   "cell_type": "code",
   "execution_count": null,
   "id": "3547a665-9e4f-446a-9375-f258e3b07234",
   "metadata": {},
   "outputs": [],
   "source": [
    "seuratObject@meta.data[[column_name]] <- as.character(seuratObject@meta.data[[column_name]])\n",
    "\n",
    "seuratObject@meta.data[[column_name]][seuratObject@meta.data[[column_name]] == '0'] <- 'Mes_lin'\n",
    "seuratObject@meta.data[[column_name]][seuratObject@meta.data[[column_name]] == '1'] <- 'Mes_lin'\n",
    "seuratObject@meta.data[[column_name]][seuratObject@meta.data[[column_name]] == '2'] <- 'Immune cells'\n",
    "seuratObject@meta.data[[column_name]][seuratObject@meta.data[[column_name]] == '3'] <- 'Immune cells'\n",
    "seuratObject@meta.data[[column_name]][seuratObject@meta.data[[column_name]] == '4'] <- 'Immune cells'\n",
    "seuratObject@meta.data[[column_name]][seuratObject@meta.data[[column_name]] == '5'] <- 'Immune cells'\n",
    "seuratObject@meta.data[[column_name]][seuratObject@meta.data[[column_name]] == '6'] <- 'Tenocytes'\n",
    "seuratObject@meta.data[[column_name]][seuratObject@meta.data[[column_name]] == '7'] <- 'Erythroid cells'\n",
    "seuratObject@meta.data[[column_name]][seuratObject@meta.data[[column_name]] == '8'] <- 'Immune cells'\n",
    "seuratObject@meta.data[[column_name]][seuratObject@meta.data[[column_name]] == '9'] <- 'Mes_lin'\n",
    "seuratObject@meta.data[[column_name]][seuratObject@meta.data[[column_name]] == '10'] <- 'Vascular endothelial cells'\n",
    "seuratObject@meta.data[[column_name]][seuratObject@meta.data[[column_name]] == '11'] <- 'Immune cells'\n",
    "seuratObject@meta.data[[column_name]][seuratObject@meta.data[[column_name]] == '12'] <- 'Immune cells'\n",
    "\n",
    "seuratObject@meta.data[[column_name]] <- as.factor(seuratObject@meta.data[[column_name]])"
   ]
  },
  {
   "cell_type": "code",
   "execution_count": null,
   "id": "46a0df68-4959-4c5d-86b4-2244f6792c29",
   "metadata": {},
   "outputs": [],
   "source": [
    "options(repr.plot.width = 12)\n",
    "\n",
    "DimPlot(seuratObject, reduction = \"umap\", label = TRUE, group.by = column_name) + xlab(\"UMAP 1\") + ylab(\"UMAP 2\")"
   ]
  },
  {
   "cell_type": "code",
   "execution_count": null,
   "id": "be86384a-9d12-4360-b8f4-0a5953a7681b",
   "metadata": {},
   "outputs": [],
   "source": [
    "saveRDS(seuratObject, file = \"VSOX_Mutp13_global.Rds\")"
   ]
  },
  {
   "cell_type": "markdown",
   "id": "608f606b-dea0-4d17-8e3f-ae34ff760d63",
   "metadata": {
    "tags": []
   },
   "source": [
    "## 2. Refinement of global annotations"
   ]
  },
  {
   "cell_type": "markdown",
   "id": "bf654cc1-70ae-42d9-804a-fb2d7c42d2b2",
   "metadata": {
    "tags": []
   },
   "source": [
    "### 2.1. Mesenchymal cells"
   ]
  },
  {
   "cell_type": "code",
   "execution_count": null,
   "id": "abf68cd2-ff33-4fa4-a360-35def6623c69",
   "metadata": {},
   "outputs": [],
   "source": [
    "seuratObject <- readRDS(\"VSOX_Mutp13_global.Rds\")"
   ]
  },
  {
   "cell_type": "code",
   "execution_count": null,
   "id": "f01d8aba-9e8c-4d93-95fa-3114223cc426",
   "metadata": {
    "tags": []
   },
   "outputs": [],
   "source": [
    "Idents(seuratObject) <- seuratObject@meta.data$CellType_Global"
   ]
  },
  {
   "cell_type": "code",
   "execution_count": null,
   "id": "91df1ee1-24ba-49e2-9470-f201662b55df",
   "metadata": {},
   "outputs": [],
   "source": [
    "seuratObject <- subset(seuratObject, idents = c(\"Mes_lin\"))"
   ]
  },
  {
   "cell_type": "code",
   "execution_count": null,
   "id": "5b729f91-a51c-417f-967f-266220fa2d87",
   "metadata": {},
   "outputs": [],
   "source": [
    "seuratObject <- ScaleData(seuratObject)"
   ]
  },
  {
   "cell_type": "code",
   "execution_count": null,
   "id": "fe9fe904-61fb-496c-9f40-6cf11ec38e8f",
   "metadata": {},
   "outputs": [],
   "source": [
    "seuratObject <- RunPCA(seuratObject, features = VariableFeatures(object = seuratObject), verbose = FALSE)"
   ]
  },
  {
   "cell_type": "code",
   "execution_count": null,
   "id": "4d361323-fb34-4ccb-8b75-ef4724c9cc58",
   "metadata": {},
   "outputs": [],
   "source": [
    "ElbowPlot(seuratObject, 50)"
   ]
  },
  {
   "cell_type": "code",
   "execution_count": null,
   "id": "a7ea8285-f902-486e-9f9d-7a374251e3e2",
   "metadata": {
    "scrolled": true
   },
   "outputs": [],
   "source": [
    "seuratObject <- FindNeighbors(seuratObject, dims = 1:25, verbose = FALSE)\n",
    "seuratObject <- FindClusters(seuratObject, resolution = 0.8, verbose = FALSE)"
   ]
  },
  {
   "cell_type": "code",
   "execution_count": null,
   "id": "1e3a8e38-cf23-46bc-9e77-b85570212c1c",
   "metadata": {
    "scrolled": true
   },
   "outputs": [],
   "source": [
    "seuratObject <- RunUMAP(seuratObject, dims = 1:25, n.neighbors = 12, verbose = FALSE)"
   ]
  },
  {
   "cell_type": "code",
   "execution_count": null,
   "id": "4b921e76-1473-4925-8488-0cecf5cb9673",
   "metadata": {},
   "outputs": [],
   "source": [
    "options(repr.plot.width = 10, repr.plot.height = 8)\n",
    "DimPlot(seuratObject, reduction = \"umap\", label=TRUE) + xlab(\"UMAP 1\") + ylab(\"UMAP 2\")"
   ]
  },
  {
   "cell_type": "code",
   "execution_count": null,
   "id": "4e05c9e0-d496-4f00-ab3a-fcc2067dac10",
   "metadata": {},
   "outputs": [],
   "source": [
    "# Seurat default settings\n",
    "seuratObject.markers <- FindAllMarkers(seuratObject, only.pos = TRUE, min.pct = 0.25, logfc.threshold = 0.25)"
   ]
  },
  {
   "cell_type": "code",
   "execution_count": null,
   "id": "01d0917f-e8bf-4416-8e44-2e21aa9adbd5",
   "metadata": {},
   "outputs": [],
   "source": [
    "# find markers for every cluster compared to all remaining cells, report only the positive\n",
    "# ones\n",
    "seuratObject.markers %>%\n",
    "    group_by(cluster) %>%\n",
    "    slice_max(n = 2, order_by = avg_log2FC) "
   ]
  },
  {
   "cell_type": "code",
   "execution_count": null,
   "id": "a480923c-8603-4be0-a23a-48638f41a675",
   "metadata": {},
   "outputs": [],
   "source": [
    "#select only cluster 0 and order avg_log2FC from big to small\n",
    "\n",
    "seuratObject.markers[seuratObject.markers$cluster == 0,] %>%\n",
    "slice_max(n = 30\n",
    "          , order_by = avg_log2FC)"
   ]
  },
  {
   "cell_type": "code",
   "execution_count": null,
   "id": "7f8cc1e9-e8d6-4380-bd7f-4172b40e41b3",
   "metadata": {},
   "outputs": [],
   "source": [
    "write.csv(seuratObject.markers, file = \"/home/jovyan/researcher_home/tom/\", quote = FALSE)"
   ]
  },
  {
   "cell_type": "code",
   "execution_count": null,
   "id": "0d122af2-0d3b-486f-a4c8-d6db0751427c",
   "metadata": {},
   "outputs": [],
   "source": [
    "options(repr.plot.width = 18, repr.plot.height = 12)\n",
    "\n",
    "p1 <- DimPlot(seuratObject, label = TRUE) + NoLegend() + xlab(\"UMAP 1\") + ylab(\"UMAP 2\")\n",
    "p2 <- FeaturePlot(seuratObject, \n",
    "                c(\"Col10a1\",\"Ihh\",\"Sp7\",\"Bglap\",'Rgs5'), \n",
    "                min.cutoff = \"q1\",\n",
    "                keep.scale = 'all',\n",
    "                order = TRUE\n",
    "                 )   \n",
    "\n",
    "p1 + p2"
   ]
  },
  {
   "cell_type": "code",
   "execution_count": null,
   "id": "411d5a63-c24b-4f5f-a30d-330692d0be0f",
   "metadata": {},
   "outputs": [],
   "source": [
    "options(repr.plot.width = 18, repr.plot.height = 12)\n",
    "\n",
    "p1 <- DimPlot(seuratObject, label = TRUE) + NoLegend() + xlab(\"UMAP 1\") + ylab(\"UMAP 2\")\n",
    "p2 <- FeaturePlot(seuratObject, \n",
    "                c(\"Col10a1\",\"Ihh\",\"Sp7\",\"Bglap\",'Col2a1','Pth1r','Prg4','Ucma'), \n",
    "                min.cutoff = \"q1\",\n",
    "                #keep.scale = 'all',\n",
    "                order = TRUE\n",
    "                 )   \n",
    "\n",
    "p1 + p2"
   ]
  },
  {
   "cell_type": "code",
   "execution_count": null,
   "id": "c50e687a-2b98-46d0-a5b6-d83bdd37bce1",
   "metadata": {},
   "outputs": [],
   "source": [
    "options(repr.plot.width = 18, repr.plot.height = 12)\n",
    "\n",
    "p1 <- DimPlot(seuratObject, label = TRUE) + NoLegend() + xlab(\"UMAP 1\") + ylab(\"UMAP 2\")\n",
    "p2 <- FeaturePlot(seuratObject, \n",
    "                c(\"Runx2\",\"Ogn\",\"Myoc\",\"Mt1\",\"Sp7\",\"Col1a1\"), \n",
    "                min.cutoff = \"q1\",\n",
    "                #keep.scale = 'all',\n",
    "                order = TRUE\n",
    "                 )   \n",
    "\n",
    "p1 + p2"
   ]
  },
  {
   "cell_type": "code",
   "execution_count": null,
   "id": "0e4e3291-0ac0-47ce-b4af-e77dea39bfc4",
   "metadata": {},
   "outputs": [],
   "source": [
    "options(repr.plot.width = 18, repr.plot.height = 12)\n",
    "\n",
    "p1 <- DimPlot(seuratObject, label = TRUE) + NoLegend() + xlab(\"UMAP 1\") + ylab(\"UMAP 2\")\n",
    "p2 <- FeaturePlot(seuratObject, \n",
    "                c(\"Scx\",\"Tmnd\"), \n",
    "                min.cutoff = \"q1\",\n",
    "                #keep.scale = 'all',\n",
    "                order = TRUE\n",
    "                 )   \n",
    "\n",
    "p1 + p2"
   ]
  },
  {
   "cell_type": "code",
   "execution_count": null,
   "id": "571b5107-6ae3-4b8f-b718-afa49677a30a",
   "metadata": {},
   "outputs": [],
   "source": [
    "options(repr.plot.width = 18, repr.plot.height = 12)\n",
    "\n",
    "p1 <- DimPlot(seuratObject, label = TRUE) + NoLegend() + xlab(\"UMAP 1\") + ylab(\"UMAP 2\")\n",
    "p2 <- FeaturePlot(seuratObject, \n",
    "                c(\"Col1a1\",\"Fn1\",'Col3a1','Col5a2'), \n",
    "                min.cutoff = \"q1\",\n",
    "                #keep.scale = 'all',\n",
    "                order = TRUE\n",
    "                 )   \n",
    "\n",
    "p1 + p2"
   ]
  },
  {
   "cell_type": "code",
   "execution_count": null,
   "id": "06d6426c-9f07-4861-a979-87f14bd8c47d",
   "metadata": {},
   "outputs": [],
   "source": [
    "options(repr.plot.width = 18, repr.plot.height = 12)\n",
    "\n",
    "p1 <- DimPlot(seuratObject, label = TRUE) + NoLegend() + xlab(\"UMAP 1\") + ylab(\"UMAP 2\")\n",
    "p2 <- FeaturePlot(seuratObject, \n",
    "                c(\"Runx2\",\"Sp7\",'Bglap','Ibsp'), \n",
    "                min.cutoff = \"q1\",\n",
    "                keep.scale = 'all',\n",
    "                order = TRUE\n",
    "                 )   \n",
    "\n",
    "p1 + p2"
   ]
  },
  {
   "cell_type": "code",
   "execution_count": null,
   "id": "a8625d93-9eaf-47ca-9db8-2253e69f4b3e",
   "metadata": {},
   "outputs": [],
   "source": [
    "options(repr.plot.width = 18, repr.plot.height = 12)\n",
    "\n",
    "p1 <- DimPlot(seuratObject, label = TRUE) + NoLegend() + xlab(\"UMAP 1\") + ylab(\"UMAP 2\")\n",
    "p2 <- FeaturePlot(seuratObject, \n",
    "                c(\"Dmp1\"), \n",
    "                min.cutoff = \"q1\",\n",
    "                keep.scale = 'all',\n",
    "                order = TRUE\n",
    "                 )   \n",
    "\n",
    "p1 + p2"
   ]
  },
  {
   "cell_type": "code",
   "execution_count": null,
   "id": "b7df8ad3-12c4-4e2c-a8e8-78e45c1f2ff5",
   "metadata": {},
   "outputs": [],
   "source": [
    "options(repr.plot.width = 18, repr.plot.height = 12)\n",
    "\n",
    "p1 <- DimPlot(seuratObject, label = TRUE) + NoLegend() + xlab(\"UMAP 1\") + ylab(\"UMAP 2\")\n",
    "p2 <- FeaturePlot(seuratObject, \n",
    "                c(\"Postn\",'Wnt16','Ctsk','Prrx1'), \n",
    "                min.cutoff = \"q1\",\n",
    "                keep.scale = 'all',\n",
    "                order = TRUE\n",
    "                 )   \n",
    "\n",
    "p1 + p2"
   ]
  },
  {
   "cell_type": "code",
   "execution_count": null,
   "id": "e61a6b9d-1493-4302-afa5-4cf5d8b69440",
   "metadata": {},
   "outputs": [],
   "source": [
    "#Articular chondrocytes\n",
    "options(repr.plot.width = 18, repr.plot.height = 12)\n",
    "\n",
    "p1 <- DimPlot(seuratObject, label = TRUE) + NoLegend() + xlab(\"UMAP 1\") + ylab(\"UMAP 2\")\n",
    "p2 <- FeaturePlot(seuratObject, \n",
    "                c(\"Prg4\",\"Col2a1\",\"Sox9\"), \n",
    "                min.cutoff = \"q1\",\n",
    "                #keep.scale = 'all',\n",
    "                order = TRUE\n",
    "                 )   \n",
    "\n",
    "p1 + p2"
   ]
  },
  {
   "cell_type": "code",
   "execution_count": null,
   "id": "d7a07f59-3bc1-4505-99ab-e4b5803c03b0",
   "metadata": {},
   "outputs": [],
   "source": [
    "#RZC\n",
    "options(repr.plot.width = 18, repr.plot.height = 12)\n",
    "\n",
    "p1 <- DimPlot(seuratObject, label = TRUE) + NoLegend() + xlab(\"UMAP 1\") + ylab(\"UMAP 2\")\n",
    "p2 <- FeaturePlot(seuratObject, \n",
    "                c(\"Fgfr3\",\"Pthlh\",\"Ucma\",\"Spon1\"), \n",
    "                min.cutoff = \"q1\",\n",
    "                keep.scale = 'all',\n",
    "                order = TRUE\n",
    "                 )   \n",
    "\n",
    "p1 + p2"
   ]
  },
  {
   "cell_type": "code",
   "execution_count": null,
   "id": "19e98eb6-114f-4ed8-bc09-c48de6450b2f",
   "metadata": {},
   "outputs": [],
   "source": [
    "#Proliferative chondrocytes\n",
    "options(repr.plot.width = 18, repr.plot.height = 12)\n",
    "\n",
    "p1 <- DimPlot(seuratObject, label = TRUE) + NoLegend() + xlab(\"UMAP 1\") + ylab(\"UMAP 2\")\n",
    "p2 <- FeaturePlot(seuratObject, \n",
    "                c(\"Mki67\",\"Top2a\",\"Pth1r\",\"Sox9\"), \n",
    "                min.cutoff = \"q1\",\n",
    "                #keep.scale = 'all',\n",
    "                order = TRUE\n",
    "                 )   \n",
    "\n",
    "p1 + p2"
   ]
  },
  {
   "cell_type": "code",
   "execution_count": null,
   "id": "cd452ac6-0613-405d-bcb2-9076253fad45",
   "metadata": {},
   "outputs": [],
   "source": [
    "#Pre-hypertrophic chondrocytes\n",
    "options(repr.plot.width = 18, repr.plot.height = 12)\n",
    "\n",
    "p1 <- DimPlot(seuratObject, label = TRUE) + NoLegend() + xlab(\"UMAP 1\") + ylab(\"UMAP 2\")\n",
    "p2 <- FeaturePlot(seuratObject, \n",
    "                c(\"Ihh\",\"Ppa1\",\"Smad3\"), \n",
    "                min.cutoff = \"q1\",\n",
    "                #keep.scale = 'all',\n",
    "                order = TRUE\n",
    "                 )   \n",
    "\n",
    "p1 + p2"
   ]
  },
  {
   "cell_type": "code",
   "execution_count": null,
   "id": "f13b524e-8fb7-4595-aa66-5f8fa6ea5b0a",
   "metadata": {},
   "outputs": [],
   "source": [
    "#Hypertrophic chondrocytes\n",
    "options(repr.plot.width = 18, repr.plot.height = 12)\n",
    "\n",
    "p1 <- DimPlot(seuratObject, label = TRUE) + NoLegend() + xlab(\"UMAP 1\") + ylab(\"UMAP 2\")\n",
    "p2 <- FeaturePlot(seuratObject, \n",
    "                c(\"Col10a1\",\"Mmp13\",\"Ibsp\",\"Sp7\"), \n",
    "                min.cutoff = \"q1\",\n",
    "                #keep.scale = 'all',\n",
    "                order = TRUE\n",
    "                 )   \n",
    "\n",
    "p1 + p2"
   ]
  },
  {
   "cell_type": "code",
   "execution_count": null,
   "id": "eea53cd0-f492-47bc-af09-a720524d8303",
   "metadata": {},
   "outputs": [],
   "source": [
    "#Periosteal cells\n",
    "options(repr.plot.width = 18, repr.plot.height = 12)\n",
    "\n",
    "p1 <- DimPlot(seuratObject, label = TRUE) + NoLegend() + xlab(\"UMAP 1\") + ylab(\"UMAP 2\")\n",
    "p2 <- FeaturePlot(seuratObject, \n",
    "                c(\"Fermt3\",\"Ptpn6\",\"Pdgfa\"), \n",
    "                min.cutoff = \"q1\",\n",
    "                #keep.scale = 'all',\n",
    "                order = TRUE\n",
    "                 )   \n",
    "\n",
    "p1 + p2"
   ]
  },
  {
   "cell_type": "code",
   "execution_count": null,
   "id": "6e3fd8c5-4406-4aab-a733-b7b2e12f64b0",
   "metadata": {},
   "outputs": [],
   "source": [
    "#immune cells\n",
    "options(repr.plot.width = 18, repr.plot.height = 12)\n",
    "\n",
    "p1 <- DimPlot(seuratObject, label = TRUE) + NoLegend() + xlab(\"UMAP 1\") + ylab(\"UMAP 2\")\n",
    "p2 <- FeaturePlot(seuratObject, \n",
    "                c(\"Pf4\",\"Cd3d\",\"Cd68\",'Gp9','Camp','Ccr2'), \n",
    "                min.cutoff = \"q1\",\n",
    "                keep.scale = 'all',\n",
    "                order = TRUE\n",
    "                 )   \n",
    "\n",
    "p1 + p2"
   ]
  },
  {
   "cell_type": "code",
   "execution_count": null,
   "id": "4267c15c-570b-40aa-8120-53d5c4bb7747",
   "metadata": {},
   "outputs": [],
   "source": [
    "#immune cells\n",
    "options(repr.plot.width = 18, repr.plot.height = 12)\n",
    "\n",
    "p1 <- DimPlot(seuratObject, label = TRUE) + NoLegend() + xlab(\"UMAP 1\") + ylab(\"UMAP 2\")\n",
    "p2 <- FeaturePlot(seuratObject, \n",
    "                c(\"Cd19\",\"Cd69\",\"Cd4\",'Cd8'), \n",
    "                min.cutoff = \"q1\",\n",
    "                keep.scale = 'all',\n",
    "                order = TRUE\n",
    "                 )   \n",
    "\n",
    "p1 + p2"
   ]
  },
  {
   "cell_type": "code",
   "execution_count": null,
   "id": "f0ac3779-0b4d-4d8c-8681-4e092bf9a1cb",
   "metadata": {},
   "outputs": [],
   "source": [
    "options(repr.plot.width = 18, repr.plot.height = 6)\n",
    "FeaturePlot(seuratObject, features = c('Ihh', 'Col10a1'), blend = TRUE )"
   ]
  },
  {
   "cell_type": "code",
   "execution_count": null,
   "id": "86102eb8-1936-4b43-98ae-18967314540f",
   "metadata": {},
   "outputs": [],
   "source": [
    "options(repr.plot.width = 18, repr.plot.height = 6)\n",
    "FeaturePlot(seuratObject, features = c('Col2a1', 'Mki67'), blend = TRUE )"
   ]
  },
  {
   "cell_type": "code",
   "execution_count": null,
   "id": "297da845-f665-4702-94d0-933a2bd2e250",
   "metadata": {},
   "outputs": [],
   "source": [
    "# Step 1: Define the variable '' with cell type\n",
    "name <- \"Mesenchymal\"\n",
    "\n",
    "# Step 2: Create the column name dynamically\n",
    "column_name <- paste0(\"CellType_\", name)"
   ]
  },
  {
   "cell_type": "code",
   "execution_count": null,
   "id": "cc6acc75-f768-4413-bd2e-a2a77cbc9b16",
   "metadata": {},
   "outputs": [],
   "source": [
    "seuratObject@meta.data[[column_name]] <- Idents(seuratObject)"
   ]
  },
  {
   "cell_type": "code",
   "execution_count": null,
   "id": "fa50b1e8-aa15-4f8e-a82e-f0cfd17609a3",
   "metadata": {},
   "outputs": [],
   "source": [
    "seuratObject@meta.data[[column_name]] <- as.character(seuratObject@meta.data[[column_name]])\n",
    "\n",
    "seuratObject@meta.data[[column_name]][seuratObject@meta.data[[column_name]] == '0'] <- 'Subset_osteo'\n",
    "seuratObject@meta.data[[column_name]][seuratObject@meta.data[[column_name]] == '1'] <- 'Subset_osteo'\n",
    "seuratObject@meta.data[[column_name]][seuratObject@meta.data[[column_name]] == '2'] <- 'Subset_osteo'\n",
    "seuratObject@meta.data[[column_name]][seuratObject@meta.data[[column_name]] == '3'] <- 'Subset_osteo'\n",
    "seuratObject@meta.data[[column_name]][seuratObject@meta.data[[column_name]] == '4'] <- 'Subset_chondro'\n",
    "seuratObject@meta.data[[column_name]][seuratObject@meta.data[[column_name]] == '5'] <- 'Subset_chondro'\n",
    "seuratObject@meta.data[[column_name]][seuratObject@meta.data[[column_name]] == '6'] <- 'Periosteal Progenitors'\n",
    "seuratObject@meta.data[[column_name]][seuratObject@meta.data[[column_name]] == '7'] <- 'Subset_osteo'\n",
    "seuratObject@meta.data[[column_name]][seuratObject@meta.data[[column_name]] == '8'] <- 'Subset_chondro'\n",
    "seuratObject@meta.data[[column_name]][seuratObject@meta.data[[column_name]] == '9'] <- 'Periosteal Progenitors'\n",
    "seuratObject@meta.data[[column_name]][seuratObject@meta.data[[column_name]] == '10'] <- 'Subset_chondro'\n",
    "seuratObject@meta.data[[column_name]][seuratObject@meta.data[[column_name]] == '11'] <- 'Immune cells'\n",
    "seuratObject@meta.data[[column_name]][seuratObject@meta.data[[column_name]] == '12'] <- 'Immune cells'\n",
    "\n",
    "seuratObject@meta.data[[column_name]] <- as.factor(seuratObject@meta.data[[column_name]])"
   ]
  },
  {
   "cell_type": "code",
   "execution_count": null,
   "id": "0e42d657-deae-491d-a7a9-6e6afb441913",
   "metadata": {},
   "outputs": [],
   "source": [
    "options(repr.plot.width = 8)\n",
    "\n",
    "DimPlot(seuratObject, reduction = \"umap\", label = TRUE, group.by = column_name) + xlab(\"UMAP 1\") + ylab(\"UMAP 2\")"
   ]
  },
  {
   "cell_type": "code",
   "execution_count": null,
   "id": "c811f270-4a2c-413f-9883-efd1ac5c098b",
   "metadata": {},
   "outputs": [],
   "source": [
    "saveRDS(seuratObject, file = \"VSOX_Mutp13_mesenchymal.Rds\")"
   ]
  },
  {
   "cell_type": "markdown",
   "id": "2f5cd9d3-0ef0-40c4-9340-83252adc9fe2",
   "metadata": {
    "tags": []
   },
   "source": [
    "### 2.1.1. Subset chondrocyte"
   ]
  },
  {
   "cell_type": "code",
   "execution_count": null,
   "id": "a3ef3634-ed50-4b4f-9966-c93ac2b88f1d",
   "metadata": {},
   "outputs": [],
   "source": [
    "seuratObject <- readRDS(\"VSOX_Mutp13_mesenchymal.Rds\")"
   ]
  },
  {
   "cell_type": "code",
   "execution_count": null,
   "id": "7586b832-8359-4c92-a51d-ed5b49fd271e",
   "metadata": {
    "tags": []
   },
   "outputs": [],
   "source": [
    "Idents(seuratObject) <- seuratObject@meta.data$CellType_Mesenchymal"
   ]
  },
  {
   "cell_type": "code",
   "execution_count": null,
   "id": "e0112d7f-7200-49c7-8de9-7d97f9185508",
   "metadata": {},
   "outputs": [],
   "source": [
    "seuratObject <- subset(seuratObject, idents = c(\"Subset_chondro\"))"
   ]
  },
  {
   "cell_type": "code",
   "execution_count": null,
   "id": "41c10ff4-077a-4ac6-a10f-b295b0694459",
   "metadata": {},
   "outputs": [],
   "source": [
    "seuratObject <- ScaleData(seuratObject)"
   ]
  },
  {
   "cell_type": "code",
   "execution_count": null,
   "id": "2618d7fa-2cfa-4da6-b265-e52fc84450bf",
   "metadata": {},
   "outputs": [],
   "source": [
    "seuratObject <- RunPCA(seuratObject, features = VariableFeatures(object = seuratObject), verbose = FALSE)"
   ]
  },
  {
   "cell_type": "code",
   "execution_count": null,
   "id": "764f3e82-7d3e-469b-bfec-78ccc4430f9a",
   "metadata": {},
   "outputs": [],
   "source": [
    "ElbowPlot(seuratObject, 50)"
   ]
  },
  {
   "cell_type": "code",
   "execution_count": null,
   "id": "1cd641b8-a135-44f5-bd83-064c1eb2125c",
   "metadata": {
    "scrolled": true
   },
   "outputs": [],
   "source": [
    "seuratObject <- FindNeighbors(seuratObject, dims = 1:40, verbose = FALSE)\n",
    "seuratObject <- FindClusters(seuratObject, resolution = 3.5, verbose = FALSE)"
   ]
  },
  {
   "cell_type": "code",
   "execution_count": null,
   "id": "60d0a7bc-e243-4ff9-b1d0-c6358f1adf85",
   "metadata": {
    "scrolled": true
   },
   "outputs": [],
   "source": [
    "seuratObject <- RunUMAP(seuratObject, dims = 1:40, n.neighbors = 12, verbose = FALSE)"
   ]
  },
  {
   "cell_type": "code",
   "execution_count": null,
   "id": "ebe4f392-64f9-47d6-a9b9-0f7c3442cd07",
   "metadata": {},
   "outputs": [],
   "source": [
    "options(repr.plot.width = 10, repr.plot.height = 8)\n",
    "DimPlot(seuratObject, reduction = \"umap\", label=TRUE) + xlab(\"UMAP 1\") + ylab(\"UMAP 2\")"
   ]
  },
  {
   "cell_type": "code",
   "execution_count": null,
   "id": "1985efb9-7b37-4ea0-92bc-76592c897fbc",
   "metadata": {},
   "outputs": [],
   "source": [
    "options(repr.plot.width = 10, repr.plot.height = 8)\n",
    "DimPlot(seuratObject, reduction = \"umap\", label=TRUE) + xlab(\"UMAP 1\") + ylab(\"UMAP 2\")"
   ]
  },
  {
   "cell_type": "code",
   "execution_count": null,
   "id": "043f8c45-4556-4710-9723-101d95a7cee9",
   "metadata": {},
   "outputs": [],
   "source": [
    "# Seurat default settings\n",
    "seuratObject.markers <- FindAllMarkers(seuratObject, only.pos = TRUE, min.pct = 0.25, logfc.threshold = 0.25)"
   ]
  },
  {
   "cell_type": "code",
   "execution_count": null,
   "id": "700f4d8b-29f8-44a4-b47e-afa041dbaee2",
   "metadata": {},
   "outputs": [],
   "source": [
    "# find markers for every cluster compared to all remaining cells, report only the positive\n",
    "# ones\n",
    "seuratObject.markers %>%\n",
    "    group_by(cluster) %>%\n",
    "    slice_max(n = 2, order_by = avg_log2FC) "
   ]
  },
  {
   "cell_type": "code",
   "execution_count": null,
   "id": "8394ecd6-99ea-49e7-b08c-d25afd52f904",
   "metadata": {},
   "outputs": [],
   "source": [
    "#select only cluster 0 and order avg_log2FC from big to small\n",
    "\n",
    "seuratObject.markers[seuratObject.markers$cluster == 0,] %>%\n",
    "slice_max(n = 2\n",
    "          , order_by = avg_log2FC)"
   ]
  },
  {
   "cell_type": "code",
   "execution_count": null,
   "id": "46bffd6b-2d0b-43fc-b999-bc7305a11034",
   "metadata": {},
   "outputs": [],
   "source": [
    "write.csv(seuratObject.markers, file = \"/home/jovyan/researcher_home/tom/\", quote = FALSE)"
   ]
  },
  {
   "cell_type": "code",
   "execution_count": null,
   "id": "afefa889-157d-4489-aae5-565e8fcdd44f",
   "metadata": {},
   "outputs": [],
   "source": [
    "# Chondroprogenitors\n",
    "options(repr.plot.width = 18, repr.plot.height = 12)\n",
    "\n",
    "p1 <- DimPlot(seuratObject, label = TRUE) + NoLegend() + xlab(\"UMAP 1\") + ylab(\"UMAP 2\")\n",
    "p2 <- FeaturePlot(seuratObject, c(\"Prrx1\", \"Prrx2\", \"Sox9\"), order= TRUE, min.cutoff = \"q1\")  \n",
    "\n",
    "p1 + p2"
   ]
  },
  {
   "cell_type": "code",
   "execution_count": null,
   "id": "9f34561c-11fa-496e-a2ff-d5aadc567809",
   "metadata": {},
   "outputs": [],
   "source": [
    "# articular\n",
    "options(repr.plot.width = 18, repr.plot.height = 12)\n",
    "\n",
    "p1 <- DimPlot(seuratObject, label = TRUE) + NoLegend() + xlab(\"UMAP 1\") + ylab(\"UMAP 2\")\n",
    "p2 <- FeaturePlot(seuratObject, c(\"Prg4\",\"Col2a1\"), min.cutoff = \"q1\")  \n",
    "\n",
    "p1 + p2"
   ]
  },
  {
   "cell_type": "code",
   "execution_count": null,
   "id": "10ab64f8-90f8-4cdf-8832-d387cb87e0df",
   "metadata": {},
   "outputs": [],
   "source": [
    "# Resting zone chondrocytes\n",
    "options(repr.plot.width = 18, repr.plot.height = 12)\n",
    "\n",
    "p1 <- DimPlot(seuratObject, label = TRUE) + NoLegend() + xlab(\"UMAP 1\") + ylab(\"UMAP 2\")\n",
    "p2 <- FeaturePlot(seuratObject, c(\"Fgfr3\", \"Pcp4\", \"Pthlh\", \"Sfrp5\", \"Spon1\",'Ucma'), min.cutoff = \"q1\")  \n",
    "\n",
    "p1 + p2"
   ]
  },
  {
   "cell_type": "code",
   "execution_count": null,
   "id": "b23cbbc3-2ea9-4a97-8527-354a25e596fd",
   "metadata": {},
   "outputs": [],
   "source": [
    "# Proliferative chondrocytes\n",
    "options(repr.plot.width = 18, repr.plot.height = 12)\n",
    "\n",
    "p1 <- DimPlot(seuratObject, label = TRUE) + NoLegend() + xlab(\"UMAP 1\") + ylab(\"UMAP 2\")\n",
    "p2 <- FeaturePlot(seuratObject, c(\"Sox9\", \"Mki67\", \"Top2a\", \"Pth1r\"), min.cutoff = \"q1\")  \n",
    "\n",
    "p1 + p2"
   ]
  },
  {
   "cell_type": "code",
   "execution_count": null,
   "id": "bd5e0a3d-a336-4880-bc1a-c044add8d853",
   "metadata": {},
   "outputs": [],
   "source": [
    "# Pre-hypertrophic chondrocytes\n",
    "options(repr.plot.width = 18, repr.plot.height = 12)\n",
    "\n",
    "p1 <- DimPlot(seuratObject, label = TRUE) + NoLegend() + xlab(\"UMAP 1\") + ylab(\"UMAP 2\")\n",
    "p2 <- FeaturePlot(seuratObject, c(\"Ihh\", \"Ppa1\", \"Smpd3\",'Col10a1'), order= TRUE, min.cutoff = \"q1\")  \n",
    "\n",
    "p1 + p2"
   ]
  },
  {
   "cell_type": "code",
   "execution_count": null,
   "id": "fd7054a5-ff72-4bf8-9400-49a94edf0127",
   "metadata": {},
   "outputs": [],
   "source": [
    "# SSPC\n",
    "options(repr.plot.width = 18, repr.plot.height = 12)\n",
    "\n",
    "p1 <- DimPlot(seuratObject, label = TRUE) + NoLegend() + xlab(\"UMAP 1\") + ylab(\"UMAP 2\")\n",
    "p2 <- FeaturePlot(seuratObject, c(\"Gypa\",\"Car2\"), min.cutoff = \"q1\") \n",
    "\n",
    "p1 + p2"
   ]
  },
  {
   "cell_type": "code",
   "execution_count": null,
   "id": "0abfc2be-6347-46d0-94ba-95d60c9a9108",
   "metadata": {},
   "outputs": [],
   "source": [
    "# SSPC\n",
    "options(repr.plot.width = 18, repr.plot.height = 12)\n",
    "\n",
    "p1 <- DimPlot(seuratObject, label = TRUE) + NoLegend() + xlab(\"UMAP 1\") + ylab(\"UMAP 2\")\n",
    "p2 <- FeaturePlot(seuratObject, c(\"Sox5\",\"Sox6\",'Cd44','Cilp'), min.cutoff = \"q1\") \n",
    "\n",
    "p1 + p2"
   ]
  },
  {
   "cell_type": "code",
   "execution_count": null,
   "id": "920ce16d-a399-499f-8361-dd80e8f5512a",
   "metadata": {},
   "outputs": [],
   "source": [
    "# Step 1: Define the variable '' with cell type\n",
    "name <- \"Chondrocyte\"\n",
    "\n",
    "# Step 2: Create the column name dynamically\n",
    "column_name <- paste0(\"CellType_\", name)"
   ]
  },
  {
   "cell_type": "code",
   "execution_count": null,
   "id": "9b5fe03d-4fc5-48da-89e9-3b0012916eff",
   "metadata": {},
   "outputs": [],
   "source": [
    "seuratObject@meta.data[[column_name]] <- Idents(seuratObject)"
   ]
  },
  {
   "cell_type": "code",
   "execution_count": null,
   "id": "265ed228-f938-4fd5-a1ff-e01d50f5ad5d",
   "metadata": {},
   "outputs": [],
   "source": [
    "seuratObject@meta.data[[column_name]] <- as.character(seuratObject@meta.data[[column_name]])\n",
    "\n",
    "seuratObject@meta.data[[column_name]][seuratObject@meta.data[[column_name]] == '0'] <- 'Chondroprogenitors'\n",
    "seuratObject@meta.data[[column_name]][seuratObject@meta.data[[column_name]] == '1'] <- 'Chondroprogenitors'\n",
    "seuratObject@meta.data[[column_name]][seuratObject@meta.data[[column_name]] == '2'] <- 'Resting zone chondrocytes'\n",
    "seuratObject@meta.data[[column_name]][seuratObject@meta.data[[column_name]] == '3'] <- 'Resting zone chondrocytes'\n",
    "seuratObject@meta.data[[column_name]][seuratObject@meta.data[[column_name]] == '4'] <- 'Hypertrophic chondrocytes'\n",
    "seuratObject@meta.data[[column_name]][seuratObject@meta.data[[column_name]] == '5'] <- 'Articular chondrocytes'\n",
    "seuratObject@meta.data[[column_name]][seuratObject@meta.data[[column_name]] == '6'] <- 'Pre-hypertrophic chondrocytes'\n",
    "seuratObject@meta.data[[column_name]][seuratObject@meta.data[[column_name]] == '7'] <- 'Resting zone chondrocytes'\n",
    "seuratObject@meta.data[[column_name]][seuratObject@meta.data[[column_name]] == '8'] <- 'Resting zone chondrocytes'\n",
    "seuratObject@meta.data[[column_name]][seuratObject@meta.data[[column_name]] == '9'] <- 'Proliferative chondrocytes'\n",
    "seuratObject@meta.data[[column_name]][seuratObject@meta.data[[column_name]] == '10'] <- 'Articular chondrocytes'\n",
    "seuratObject@meta.data[[column_name]][seuratObject@meta.data[[column_name]] == '11'] <- 'Resting zone chondrocytes'\n",
    "seuratObject@meta.data[[column_name]][seuratObject@meta.data[[column_name]] == '12'] <- 'Proliferative chondrocytes'\n",
    "seuratObject@meta.data[[column_name]][seuratObject@meta.data[[column_name]] == '13'] <- 'Proliferative chondrocytes'\n",
    "seuratObject@meta.data[[column_name]][seuratObject@meta.data[[column_name]] == '14'] <- 'Chondroprogenitors'\n",
    "seuratObject@meta.data[[column_name]][seuratObject@meta.data[[column_name]] == '15'] <- 'Proliferative chondrocytes'\n",
    "seuratObject@meta.data[[column_name]][seuratObject@meta.data[[column_name]] == '16'] <- 'Proliferative chondrocytes'\n",
    "seuratObject@meta.data[[column_name]][seuratObject@meta.data[[column_name]] == '17'] <- 'Articular chondrocytes'\n",
    "seuratObject@meta.data[[column_name]][seuratObject@meta.data[[column_name]] == '18'] <- 'Resting zone chondrocytes'\n",
    "seuratObject@meta.data[[column_name]][seuratObject@meta.data[[column_name]] == '19'] <- 'Erythroid cells'\n",
    "\n",
    "seuratObject@meta.data[[column_name]] <- as.factor(seuratObject@meta.data[[column_name]])"
   ]
  },
  {
   "cell_type": "code",
   "execution_count": null,
   "id": "84fdf80a-f7e3-4dbb-a1c3-aa5f69471c87",
   "metadata": {},
   "outputs": [],
   "source": [
    "options(repr.plot.width = 12)\n",
    "\n",
    "DimPlot(seuratObject, reduction = \"umap\", label = TRUE, group.by = column_name) + xlab(\"UMAP 1\") + ylab(\"UMAP 2\")"
   ]
  },
  {
   "cell_type": "code",
   "execution_count": null,
   "id": "e81ff7d3-6412-4ec2-aab8-ca95e95ab70e",
   "metadata": {},
   "outputs": [],
   "source": [
    "saveRDS(seuratObject, file = \"VSOX_Mutp13_mesenchymal_chondrocyte.Rds\")"
   ]
  },
  {
   "cell_type": "markdown",
   "id": "4d50823d-537f-4ed3-b3ed-76cc5015bf28",
   "metadata": {
    "tags": []
   },
   "source": [
    "### 2.1.2. Subset osteo "
   ]
  },
  {
   "cell_type": "code",
   "execution_count": null,
   "id": "11127a7e-fccc-4d02-804c-1ec3708b4b61",
   "metadata": {},
   "outputs": [],
   "source": [
    "seuratObject <- readRDS(\"VSOX_Mutp13_mesenchymal.Rds\")"
   ]
  },
  {
   "cell_type": "code",
   "execution_count": null,
   "id": "ce4001f4-9fa6-4327-b937-6d904aa9e50e",
   "metadata": {
    "tags": []
   },
   "outputs": [],
   "source": [
    "Idents(seuratObject) <- seuratObject@meta.data$CellType_Mesenchymal"
   ]
  },
  {
   "cell_type": "code",
   "execution_count": null,
   "id": "0f6036eb-67c7-4ea7-826a-c85e87896c52",
   "metadata": {},
   "outputs": [],
   "source": [
    "seuratObject <- subset(seuratObject, idents = c(\"Subset_osteo\"))"
   ]
  },
  {
   "cell_type": "code",
   "execution_count": null,
   "id": "625e9793-a500-405b-a277-fdeabf1850ba",
   "metadata": {},
   "outputs": [],
   "source": [
    "seuratObject <- ScaleData(seuratObject)"
   ]
  },
  {
   "cell_type": "code",
   "execution_count": null,
   "id": "7fb5c3ef-aa5c-4d18-a820-8880f554a1b9",
   "metadata": {},
   "outputs": [],
   "source": [
    "seuratObject <- RunPCA(seuratObject, features = VariableFeatures(object = seuratObject), verbose = FALSE)"
   ]
  },
  {
   "cell_type": "code",
   "execution_count": null,
   "id": "d52a9713-2b14-42f3-b1bf-6e099636b35f",
   "metadata": {},
   "outputs": [],
   "source": [
    "ElbowPlot(seuratObject, 50)"
   ]
  },
  {
   "cell_type": "code",
   "execution_count": null,
   "id": "3fe1f405-4b95-42db-9be8-4070842b4c5d",
   "metadata": {
    "scrolled": true
   },
   "outputs": [],
   "source": [
    "seuratObject <- FindNeighbors(seuratObject, dims = 1:30, verbose = FALSE)\n",
    "seuratObject <- FindClusters(seuratObject, resolution = 1.5, verbose = FALSE)"
   ]
  },
  {
   "cell_type": "code",
   "execution_count": null,
   "id": "3188f30c-0e86-4e4b-aa9b-d186f730b652",
   "metadata": {
    "scrolled": true
   },
   "outputs": [],
   "source": [
    "seuratObject <- RunUMAP(seuratObject, dims = 1:30, n.neighbors = 12, verbose = FALSE)"
   ]
  },
  {
   "cell_type": "code",
   "execution_count": null,
   "id": "b75dca23-266d-4363-9393-1b80203ec2a0",
   "metadata": {},
   "outputs": [],
   "source": [
    "options(repr.plot.width = 10, repr.plot.height = 8)\n",
    "DimPlot(seuratObject, reduction = \"umap\", label=TRUE) + xlab(\"UMAP 1\") + ylab(\"UMAP 2\")"
   ]
  },
  {
   "cell_type": "code",
   "execution_count": null,
   "id": "bb0be45d-50f6-460b-97da-91e86e14eb82",
   "metadata": {},
   "outputs": [],
   "source": [
    "# Seurat default settings\n",
    "seuratObject.markers <- FindAllMarkers(seuratObject, only.pos = TRUE, min.pct = 0.25, logfc.threshold = 0.25)"
   ]
  },
  {
   "cell_type": "code",
   "execution_count": null,
   "id": "4a69837a-96ef-4eaf-88a8-daa20b9d6ebc",
   "metadata": {},
   "outputs": [],
   "source": [
    "# find markers for every cluster compared to all remaining cells, report only the positive\n",
    "# ones\n",
    "seuratObject.markers %>%\n",
    "    group_by(cluster) %>%\n",
    "    slice_max(n = 2, order_by = avg_log2FC) "
   ]
  },
  {
   "cell_type": "code",
   "execution_count": null,
   "id": "6c392fe9-577b-465c-aed0-f542480e6c93",
   "metadata": {},
   "outputs": [],
   "source": [
    "write.csv(seuratObject.markers, file = \"/home/jovyan/researcher_home/tom/\", quote = FALSE)"
   ]
  },
  {
   "cell_type": "code",
   "execution_count": null,
   "id": "d651e554-ab40-4a60-8f0f-c192bdc3e50a",
   "metadata": {},
   "outputs": [],
   "source": [
    "# Osteoprogenitors\n",
    "options(repr.plot.width = 18, repr.plot.height = 12)\n",
    "\n",
    "p1 <- DimPlot(seuratObject, label = TRUE) + NoLegend() + xlab(\"UMAP 1\") + ylab(\"UMAP 2\")\n",
    "p2 <- FeaturePlot(seuratObject,\n",
    "                  c(\"Sp7\",\"Runx2\"),\n",
    "                    min.cutoff = \"q1\",\n",
    "                    keep.scale = 'all',\n",
    "                    order = TRUE\n",
    "                     )   \n",
    "\n",
    "p1 + p2"
   ]
  },
  {
   "cell_type": "code",
   "execution_count": null,
   "id": "0919d98a-73d6-4ebd-9b5f-9c1f9115665a",
   "metadata": {},
   "outputs": [],
   "source": [
    "# Osteoblast\n",
    "options(repr.plot.width = 18, repr.plot.height = 12)\n",
    "\n",
    "p1 <- DimPlot(seuratObject, label = TRUE) + NoLegend() + xlab(\"UMAP 1\") + ylab(\"UMAP 2\")\n",
    "p2 <- FeaturePlot(seuratObject,\n",
    "                  c(\"Runx2\",\"Bglap\",\"Lef1\",\"Ibsp\"),\n",
    "                    min.cutoff = \"q1\",\n",
    "                    keep.scale = 'all',\n",
    "                    order = TRUE\n",
    "                     )   \n",
    "\n",
    "p1 + p2"
   ]
  },
  {
   "cell_type": "code",
   "execution_count": null,
   "id": "987317d1-3ab8-45ce-8a37-69a0b7d1f650",
   "metadata": {},
   "outputs": [],
   "source": [
    "# Osteocytes\n",
    "options(repr.plot.width = 18, repr.plot.height = 12)\n",
    "\n",
    "p1 <- DimPlot(seuratObject, label = TRUE) + NoLegend() + xlab(\"UMAP 1\") + ylab(\"UMAP 2\")\n",
    "p2 <- FeaturePlot(seuratObject,\n",
    "                  c(\"Dmp1\"),\n",
    "                    min.cutoff = \"q1\",\n",
    "                    keep.scale = 'all',\n",
    "                    order = TRUE\n",
    "                     )   \n",
    "\n",
    "p1 + p2"
   ]
  },
  {
   "cell_type": "code",
   "execution_count": null,
   "id": "f1703b12-6e95-4aba-95b5-cd5ea929efed",
   "metadata": {},
   "outputs": [],
   "source": [
    "# Chondro\n",
    "options(repr.plot.width = 18, repr.plot.height = 12)\n",
    "\n",
    "p1 <- DimPlot(seuratObject, label = TRUE) + NoLegend() + xlab(\"UMAP 1\") + ylab(\"UMAP 2\")\n",
    "p2 <- FeaturePlot(seuratObject,\n",
    "                  c(\"Col10a1\",\"Ihh\",\"Pthlh\",\"Col2a1\",'Top2a','Prg4'),\n",
    "                    min.cutoff = \"q1\",\n",
    "                    keep.scale = 'all'\n",
    "                     )   \n",
    "\n",
    "p1 + p2"
   ]
  },
  {
   "cell_type": "code",
   "execution_count": null,
   "id": "6b39e9d5-6723-456c-9d54-d5afe5543edc",
   "metadata": {},
   "outputs": [],
   "source": [
    "# Articular chondrocytes\n",
    "options(repr.plot.width = 18, repr.plot.height = 12)\n",
    "\n",
    "p1 <- DimPlot(seuratObject, label = TRUE) + NoLegend() + xlab(\"UMAP 1\") + ylab(\"UMAP 2\")\n",
    "p2 <- FeaturePlot(seuratObject,\n",
    "                  c('Ucma1','Ctsk'),\n",
    "                    min.cutoff = \"q1\",\n",
    "                    #keep.scale = 'all',\n",
    "                    order = TRUE\n",
    "                     )   \n",
    "\n",
    "p1 + p2"
   ]
  },
  {
   "cell_type": "code",
   "execution_count": null,
   "id": "f0a38eef",
   "metadata": {},
   "outputs": [],
   "source": [
    "# Articular chondrocytes\n",
    "options(repr.plot.width = 18, repr.plot.height = 12)\n",
    "\n",
    "p1 <- DimPlot(seuratObject, label = TRUE) + NoLegend() + xlab(\"UMAP 1\") + ylab(\"UMAP 2\")\n",
    "p2 <- FeaturePlot(seuratObject,\n",
    "                  c('Ucma1','Ctsk'),\n",
    "                    min.cutoff = \"q1\",\n",
    "                    #keep.scale = 'all',\n",
    "                    order = TRUE\n",
    "                     )   \n",
    "\n",
    "p1 + p2"
   ]
  },
  {
   "cell_type": "code",
   "execution_count": null,
   "id": "04ca50ff",
   "metadata": {},
   "outputs": [],
   "source": [
    "# Hyaline chondrocytes\n",
    "options(repr.plot.width = 18, repr.plot.height = 12)\n",
    "\n",
    "p1 <- DimPlot(seuratObject, label = TRUE) + NoLegend() + xlab(\"UMAP 1\") + ylab(\"UMAP 2\")\n",
    "p2 <- FeaturePlot(seuratObject,\n",
    "                  c('Sox5','Sox9','S100a4','Cilp','Cd44','Prrx1','Sp7','Runx2'),\n",
    "                    min.cutoff = \"q1\",\n",
    "                    #keep.scale = 'all',\n",
    "                    order = TRUE\n",
    "                     )   \n",
    "\n",
    "p1 + p2"
   ]
  },
  {
   "cell_type": "code",
   "execution_count": null,
   "id": "40baa77b-1a75-4360-87d2-94d2b4653ef8",
   "metadata": {},
   "outputs": [],
   "source": [
    "options(repr.plot.width = 10, repr.plot.height = 8)\n",
    "DimPlot(seuratObject, reduction = \"umap\", label=TRUE) + xlab(\"UMAP 1\") + ylab(\"UMAP 2\")"
   ]
  },
  {
   "cell_type": "code",
   "execution_count": null,
   "id": "a0b62406-45dd-4d88-bf37-00152bed2cb1",
   "metadata": {},
   "outputs": [],
   "source": [
    "# Step 1: Define the variable '' with cell type\n",
    "name <- \"Osteoblast\"\n",
    "\n",
    "# Step 2: Create the column name dynamically\n",
    "column_name <- paste0(\"CellType_\", name)"
   ]
  },
  {
   "cell_type": "code",
   "execution_count": null,
   "id": "d261bdac-5c5e-4e95-baff-32e6b409e65d",
   "metadata": {},
   "outputs": [],
   "source": [
    "seuratObject@meta.data[[column_name]] <- Idents(seuratObject)"
   ]
  },
  {
   "cell_type": "code",
   "execution_count": null,
   "id": "6312fe80-122c-4720-9aa1-c976be89d90e",
   "metadata": {},
   "outputs": [],
   "source": [
    "seuratObject@meta.data[[column_name]] <- as.character(seuratObject@meta.data[[column_name]])\n",
    "\n",
    "seuratObject@meta.data[[column_name]][seuratObject@meta.data[[column_name]] == '0'] <- 'Chondroprogenitors'\n",
    "seuratObject@meta.data[[column_name]][seuratObject@meta.data[[column_name]] == '1'] <- 'Osteoblasts'\n",
    "seuratObject@meta.data[[column_name]][seuratObject@meta.data[[column_name]] == '2'] <- 'Articular chondrocytes'\n",
    "seuratObject@meta.data[[column_name]][seuratObject@meta.data[[column_name]] == '3'] <- 'Chondroprogenitors'\n",
    "seuratObject@meta.data[[column_name]][seuratObject@meta.data[[column_name]] == '4'] <- 'Chondroprogenitors'\n",
    "seuratObject@meta.data[[column_name]][seuratObject@meta.data[[column_name]] == '5'] <- 'Osteoprogenitors'\n",
    "seuratObject@meta.data[[column_name]][seuratObject@meta.data[[column_name]] == '6'] <- 'Osteocytes'\n",
    "seuratObject@meta.data[[column_name]][seuratObject@meta.data[[column_name]] == '7'] <- 'Chondroprogenitors'\n",
    "seuratObject@meta.data[[column_name]][seuratObject@meta.data[[column_name]] == '8'] <- 'Osteoblasts'\n",
    "seuratObject@meta.data[[column_name]][seuratObject@meta.data[[column_name]] == '9'] <- 'Osteoblasts'\n",
    "seuratObject@meta.data[[column_name]][seuratObject@meta.data[[column_name]] == '10'] <- 'Osteoblasts'\n",
    "seuratObject@meta.data[[column_name]][seuratObject@meta.data[[column_name]] == '11'] <- 'Osteoblasts'\n",
    "seuratObject@meta.data[[column_name]][seuratObject@meta.data[[column_name]] == '12'] <- 'Osteoblasts'\n",
    "\n",
    "seuratObject@meta.data[[column_name]] <- as.factor(seuratObject@meta.data[[column_name]])"
   ]
  },
  {
   "cell_type": "code",
   "execution_count": null,
   "id": "93f43a16-1e25-4248-93dc-35ac3115029c",
   "metadata": {},
   "outputs": [],
   "source": [
    "options(repr.plot.width = 12)\n",
    "\n",
    "DimPlot(seuratObject, reduction = \"umap\", label = TRUE, group.by = column_name) + xlab(\"UMAP 1\") + ylab(\"UMAP 2\")"
   ]
  },
  {
   "cell_type": "code",
   "execution_count": null,
   "id": "88e6785f-2f9c-4710-a913-81652418b47c",
   "metadata": {},
   "outputs": [],
   "source": [
    "saveRDS(seuratObject, file = \"VSOX_Mutp13_mesenchymal_osteo.Rds\")"
   ]
  },
  {
   "cell_type": "markdown",
   "id": "23f2edb9-4f31-4d0c-9e61-80410d34bda1",
   "metadata": {
    "tags": []
   },
   "source": [
    "## 3. Updating annotations"
   ]
  },
  {
   "cell_type": "code",
   "execution_count": null,
   "id": "83cc239f-877e-4c9c-8b7f-756ed71e0ea2",
   "metadata": {},
   "outputs": [],
   "source": [
    "global <- readRDS(\"VSOX_Mutp13_mesenchymal.Rds\")"
   ]
  },
  {
   "cell_type": "code",
   "execution_count": null,
   "id": "df6b5061-dca8-4814-b9be-70c2c7a8d7f1",
   "metadata": {},
   "outputs": [],
   "source": [
    "subset1 <- readRDS(file = \"VSOX_Mutp13_mesenchymal_chondrocyte.Rds\")"
   ]
  },
  {
   "cell_type": "code",
   "execution_count": null,
   "id": "5bc28014-5537-4486-abbe-93e1e52b91a6",
   "metadata": {},
   "outputs": [],
   "source": [
    "subset2 <- readRDS(file = \"VSOX_Mutp13_mesenchymal_osteo.Rds\")"
   ]
  },
  {
   "cell_type": "code",
   "execution_count": null,
   "id": "63415ffb-394d-404f-a9ff-151a7c3ff7e7",
   "metadata": {},
   "outputs": [],
   "source": [
    "meta1 <- global@meta.data\n",
    "meta2 <- subset1@meta.data"
   ]
  },
  {
   "cell_type": "code",
   "execution_count": null,
   "id": "b7f736d3-5ce8-49ca-a361-0eaced76fe7b",
   "metadata": {},
   "outputs": [],
   "source": [
    "df <- split(meta1, meta1$CellType_Mesenchymal)"
   ]
  },
  {
   "cell_type": "code",
   "execution_count": null,
   "id": "b5b2bdbf-3865-43c9-bff2-42ae8d0ae37b",
   "metadata": {},
   "outputs": [],
   "source": [
    "subset1a <- rownames(df$Subset_chondro)"
   ]
  },
  {
   "cell_type": "code",
   "execution_count": null,
   "id": "d0ac4fcf-4c3b-4110-845a-c5bc7ca2846e",
   "metadata": {},
   "outputs": [],
   "source": [
    "subset1a_meta <- meta2[subset1a, c(\"CellType_Chondrocyte\", \"orig.ident\")]\n",
    "subset1a_meta$orig.ident <- NULL\n",
    "\n",
    "head(subset1a_meta)"
   ]
  },
  {
   "cell_type": "code",
   "execution_count": null,
   "id": "5385d9e6-15cc-49bd-9625-e81c0afbd214",
   "metadata": {
    "tags": []
   },
   "outputs": [],
   "source": [
    "df$Subset_chondro <- cbind(df$Subset_chondro, subset1a_meta)\n",
    "df$Subset_chondro$CellType_Mesenchymal <- df$Subset_chondro$CellType_Chondrocyte\n",
    "df$Subset_chondro$CellType_Chondrocyte <- NULL"
   ]
  },
  {
   "cell_type": "code",
   "execution_count": null,
   "id": "a23b2893-cc8b-441f-9b82-cb823c341762",
   "metadata": {},
   "outputs": [],
   "source": [
    "meta2 <- subset2@meta.data"
   ]
  },
  {
   "cell_type": "code",
   "execution_count": null,
   "id": "765a0fd3-99d2-44db-939d-c9bd272ecf75",
   "metadata": {},
   "outputs": [],
   "source": [
    "subset2a <- rownames(df$Subset_osteo)"
   ]
  },
  {
   "cell_type": "code",
   "execution_count": null,
   "id": "dd4d5266-7ce7-4dae-90a0-60ae9ce3b00c",
   "metadata": {},
   "outputs": [],
   "source": [
    "subset2a_meta <- meta2[subset2a, c(\"CellType_Osteoblast\", \"orig.ident\")]\n",
    "subset2a_meta$orig.ident <- NULL\n",
    "\n",
    "head(subset2a_meta)"
   ]
  },
  {
   "cell_type": "code",
   "execution_count": null,
   "id": "264dd170-2c7a-4ff1-80cc-c07736ffa45e",
   "metadata": {
    "tags": []
   },
   "outputs": [],
   "source": [
    "df$Subset_osteo <- cbind(df$Subset_osteo, subset2a_meta)\n",
    "df$Subset_osteo$CellType_Mesenchymal <- df$Subset_osteo$CellType_Osteoblast\n",
    "df$Subset_osteo$CellType_Osteoblast <- NULL"
   ]
  },
  {
   "cell_type": "code",
   "execution_count": null,
   "id": "0001ebf9-ecb4-462c-a2e2-f97c5673acb5",
   "metadata": {},
   "outputs": [],
   "source": [
    "df$`Articular chondrocytes`$Barcode <- rownames(df$`Articular chondrocytes`)\n",
    "df$`Immune cells`$Barcode <- rownames(df$`Immune cells`)\n",
    "df$`Proliferative chondrocytes`$Barcode <- rownames(df$`Proliferative chondrocytes`)\n",
    "df$`Resting zone chondrocytes`$Barcode <- rownames(df$`Resting zone chondrocytes`)\n",
    "df$`Periosteal Progenitors`$Barcode <- rownames(df$`Periosteal Progenitors`)\n",
    "df$Osteoblast$Barcode <- rownames(df$Osteoblast)"
   ]
  },
  {
   "cell_type": "code",
   "execution_count": null,
   "id": "a031a967-f865-45c7-9ede-1e6d3b34c968",
   "metadata": {},
   "outputs": [],
   "source": [
    "df$`Articular chondrocytes`$Barcode = rownames(df$`Articular chondrocytes`)\n",
    "df$`Immune cells`$Barcode = rownames(df$`Immune cells`)\n",
    "df$`Proliferative chondrocytes`$Barcode = rownames(df$`Proliferative chondrocytes`)\n",
    "df$`Resting zone chondrocytes`$Barcode = rownames(df$`Resting zone chondrocytes`)\n",
    "df$Osteoblast$Barcode = rownames(df$Osteoblast)\n",
    "df$TBD$Barcode = rownames(df$TBD)\n",
    "df$Subset_chondro$Barcode = rownames(df$Subset_chondro)\n",
    "df$Subset_osteo$Barcode = rownames(df$Subset_osteo)"
   ]
  },
  {
   "cell_type": "markdown",
   "id": "b042e807-abac-4455-86cb-1d4d957fa512",
   "metadata": {},
   "source": [
    "**Make sure all dataframes in the list have the same number of columns, in the same order.**"
   ]
  },
  {
   "cell_type": "code",
   "execution_count": null,
   "id": "466bf3d4-4679-45c6-a1dd-880d257ecb4d",
   "metadata": {
    "scrolled": true
   },
   "outputs": [],
   "source": [
    "str(df)"
   ]
  },
  {
   "cell_type": "code",
   "execution_count": null,
   "id": "8951497d-5b41-4098-a1ce-457fbf2ede14",
   "metadata": {},
   "outputs": [],
   "source": [
    "names(df)"
   ]
  },
  {
   "cell_type": "code",
   "execution_count": null,
   "id": "d774ff73-5fb3-4bb9-821e-5615456c9b08",
   "metadata": {},
   "outputs": [],
   "source": [
    "names(df)"
   ]
  },
  {
   "cell_type": "code",
   "execution_count": null,
   "id": "d85d1272-a3cc-48ea-a7e7-167cba6abe3c",
   "metadata": {
    "tags": []
   },
   "outputs": [],
   "source": [
    "meta.data <- do.call(rbind, df)\n",
    "rownames(meta.data) = meta.data$Barcode\n",
    "meta.data$Barcode <- NULL"
   ]
  },
  {
   "cell_type": "code",
   "execution_count": null,
   "id": "1ce7b5f2-1031-4c4c-a6c8-aea5e7a25294",
   "metadata": {},
   "outputs": [],
   "source": [
    "head(meta.data)"
   ]
  },
  {
   "cell_type": "code",
   "execution_count": null,
   "id": "59c84ce1-1047-4bf5-ac4b-bc66688afdd4",
   "metadata": {},
   "outputs": [],
   "source": [
    "dim(global@meta.data)\n",
    "dim(meta.data)"
   ]
  },
  {
   "cell_type": "code",
   "execution_count": null,
   "id": "fef5c103-ea3b-40a8-9d80-41b7186e5d71",
   "metadata": {},
   "outputs": [],
   "source": [
    "target <- rownames(global@meta.data)\n",
    "meta.data <- meta.data[match(target, rownames(meta.data)),]"
   ]
  },
  {
   "cell_type": "code",
   "execution_count": null,
   "id": "8525d585-ab85-4a56-8170-c35d810c86c1",
   "metadata": {},
   "outputs": [],
   "source": [
    "global@meta.data = meta.data"
   ]
  },
  {
   "cell_type": "code",
   "execution_count": null,
   "id": "ebcbf149-a045-48d9-b9f5-a71217114215",
   "metadata": {},
   "outputs": [],
   "source": [
    "global$CellType <- global$CellType_Mesenchymal\n",
    "global$CellType_Mesenchymal <- NULL"
   ]
  },
  {
   "cell_type": "code",
   "execution_count": null,
   "id": "e894107c-bbd2-4dd7-b2b7-cb75e1a65a04",
   "metadata": {},
   "outputs": [],
   "source": [
    "seuratObject <- global\n",
    "rm(global)"
   ]
  },
  {
   "cell_type": "markdown",
   "id": "e5d10176-5f70-4b72-b32a-1f693fcf2ae7",
   "metadata": {
    "tags": []
   },
   "source": [
    "#### 5.4.3. Finalized embedding and annotation<a id=\"37\"></a>"
   ]
  },
  {
   "cell_type": "code",
   "execution_count": null,
   "id": "afdc0f74-df12-4bc6-980c-fe6d37d1b7d2",
   "metadata": {},
   "outputs": [],
   "source": [
    "options(repr.plot.width=14)\n",
    "DimPlot(seuratObject, group.by = \"CellType\", label = FALSE) + xlab(\"UMAP 1\") + ylab(\"UMAP 2\")"
   ]
  },
  {
   "cell_type": "markdown",
   "id": "99303ce4-4b12-4b60-944c-3fb89929c6fa",
   "metadata": {
    "tags": []
   },
   "source": [
    "#### 5.4.3. Finalized embedding and annotation<a id=\"37\"></a>"
   ]
  },
  {
   "cell_type": "code",
   "execution_count": null,
   "id": "bd8b0740-88de-4864-b49a-d79a4d8b69ca",
   "metadata": {},
   "outputs": [],
   "source": [
    "saveRDS(seuratObject, file = \"VSOX_Mutp13_mesenchymal_final.rds\")"
   ]
  },
  {
   "cell_type": "markdown",
   "id": "e416b348-68e3-4fdb-a530-b2fd023cc5ae",
   "metadata": {
    "tags": []
   },
   "source": [
    "## 3. Updating annotations"
   ]
  },
  {
   "cell_type": "code",
   "execution_count": null,
   "id": "b385211f-c290-4df8-b40c-fda54203ae42",
   "metadata": {},
   "outputs": [],
   "source": [
    "global <- readRDS(\"VSOX_Mutp13_global.Rds\")"
   ]
  },
  {
   "cell_type": "code",
   "execution_count": null,
   "id": "9f773315-5731-4d35-b568-b2e070448be5",
   "metadata": {},
   "outputs": [],
   "source": [
    "subset1 <- readRDS(file = \"VSOX_Mutp13_mesenchymal_final.rds\")"
   ]
  },
  {
   "cell_type": "code",
   "execution_count": null,
   "id": "85404de7-d698-4e38-9252-8f1a72c37e3e",
   "metadata": {},
   "outputs": [],
   "source": [
    "meta1 <- global@meta.data\n",
    "meta2 <- subset1@meta.data"
   ]
  },
  {
   "cell_type": "code",
   "execution_count": null,
   "id": "a7362909-30cd-427d-a1a7-6e579d3d3377",
   "metadata": {},
   "outputs": [],
   "source": [
    "df <- split(meta1, meta1$CellType_Global)"
   ]
  },
  {
   "cell_type": "code",
   "execution_count": null,
   "id": "034fe12d-542a-4e64-bb61-92b4719fdab9",
   "metadata": {},
   "outputs": [],
   "source": [
    "subset1a <- rownames(df$Mes_lin)"
   ]
  },
  {
   "cell_type": "code",
   "execution_count": null,
   "id": "1eeccf40-1786-4773-ab7c-0a1cddc63344",
   "metadata": {},
   "outputs": [],
   "source": [
    "subset1a_meta <- meta2[subset1a, c(\"CellType\", \"orig.ident\")]\n",
    "subset1a_meta$orig.ident <- NULL\n",
    "\n",
    "head(subset1a_meta)"
   ]
  },
  {
   "cell_type": "code",
   "execution_count": null,
   "id": "751218df-f55a-459b-a73e-409b5105ad3e",
   "metadata": {
    "tags": []
   },
   "outputs": [],
   "source": [
    "df$Mes_lin <- cbind(df$Mes_lin, subset1a_meta)\n",
    "df$Mes_lin$CellType_Global <- df$Mes_lin$CellType\n",
    "df$Mes_lin$CellType <- NULL"
   ]
  },
  {
   "cell_type": "code",
   "execution_count": null,
   "id": "98e6f80e-09d2-4904-904b-7df38b7ae71c",
   "metadata": {},
   "outputs": [],
   "source": [
    "df$`Erythroid cells`$Barcode <- rownames(df$`Erythroid cells`)\n",
    "df$`Immune cells`$Barcode <- rownames(df$`Immune cells`)\n",
    "df$`Vascular endothelial cells`$Barcode <- rownames(df$`Vascular endothelial cells`)\n",
    "df$TBD$Barcode <- rownames(df$TBD)\n",
    "df$Tenocytes$Barcode <- rownames(df$Tenocytes)"
   ]
  },
  {
   "cell_type": "code",
   "execution_count": null,
   "id": "5eb323d6-bdce-4fed-ba9b-ad4c5f004446",
   "metadata": {},
   "outputs": [],
   "source": [
    "df$`Erythroid cells`$Barcode = rownames(df$`Erythroid cells`)\n",
    "df$`Immune cells`$Barcode = rownames(df$`Immune cells`)\n",
    "df$`Vascular endothelial cells`$Barcode = rownames(df$`Vascular endothelial cells`)\n",
    "df$TBD$Barcode = rownames(df$TBD)\n",
    "df$Tenocytes$Barcode = rownames(df$Tenocytes)\n",
    "df$Mes_lin$Barcode = rownames(df$Mes_lin)"
   ]
  },
  {
   "cell_type": "markdown",
   "id": "695d11c4-2455-497d-b5a4-5b715ebb85d5",
   "metadata": {},
   "source": [
    "**Make sure all dataframes in the list have the same number of columns, in the same order.**"
   ]
  },
  {
   "cell_type": "code",
   "execution_count": null,
   "id": "ab53a8ae-3c7e-4c01-9136-4bcc4850486e",
   "metadata": {
    "scrolled": true
   },
   "outputs": [],
   "source": [
    "str(df)"
   ]
  },
  {
   "cell_type": "code",
   "execution_count": null,
   "id": "599935bd-37a5-44c8-95de-fbc430a98001",
   "metadata": {},
   "outputs": [],
   "source": [
    "names(df)"
   ]
  },
  {
   "cell_type": "code",
   "execution_count": null,
   "id": "a8f256a1-4063-403d-87c6-9959be7a99a6",
   "metadata": {},
   "outputs": [],
   "source": [
    "names(df)"
   ]
  },
  {
   "cell_type": "code",
   "execution_count": null,
   "id": "1e924f42-3c56-424d-8f48-1e5af45a1bdd",
   "metadata": {
    "tags": []
   },
   "outputs": [],
   "source": [
    "meta.data <- do.call(rbind, df)\n",
    "rownames(meta.data) = meta.data$Barcode\n",
    "meta.data$Barcode <- NULL"
   ]
  },
  {
   "cell_type": "code",
   "execution_count": null,
   "id": "3605777c-b83b-4ae1-9571-7a1ed7d10e98",
   "metadata": {},
   "outputs": [],
   "source": [
    "head(meta.data)"
   ]
  },
  {
   "cell_type": "code",
   "execution_count": null,
   "id": "ef38e402-9752-42ed-b714-0f3820ad8dbb",
   "metadata": {},
   "outputs": [],
   "source": [
    "dim(global@meta.data)\n",
    "dim(meta.data)"
   ]
  },
  {
   "cell_type": "code",
   "execution_count": null,
   "id": "b53a8c7a-e567-440d-8045-b620a1b7be49",
   "metadata": {},
   "outputs": [],
   "source": [
    "target <- rownames(global@meta.data)\n",
    "meta.data <- meta.data[match(target, rownames(meta.data)),]"
   ]
  },
  {
   "cell_type": "code",
   "execution_count": null,
   "id": "4c63ecbb-238b-4678-b4d0-23646e7a43ba",
   "metadata": {},
   "outputs": [],
   "source": [
    "global@meta.data = meta.data"
   ]
  },
  {
   "cell_type": "code",
   "execution_count": null,
   "id": "a0944ac5-8f27-404c-8a34-fb1e50891299",
   "metadata": {},
   "outputs": [],
   "source": [
    "global$CellType <- global$CellType_Global\n",
    "global$CellType_Global <- NULL"
   ]
  },
  {
   "cell_type": "code",
   "execution_count": null,
   "id": "4418a042-3ed4-4ffa-a2bb-7f98f90a9ac3",
   "metadata": {},
   "outputs": [],
   "source": [
    "seuratObject <- global\n",
    "rm(global)"
   ]
  },
  {
   "cell_type": "markdown",
   "id": "bfbc8bd2-b7f7-4ff6-9253-9419c6aa1231",
   "metadata": {
    "tags": []
   },
   "source": [
    "#### 5.4.3. Finalized embedding and annotation<a id=\"37\"></a>"
   ]
  },
  {
   "cell_type": "code",
   "execution_count": null,
   "id": "93920b44-e779-44f0-a58d-f78613cd5004",
   "metadata": {},
   "outputs": [],
   "source": [
    "options(repr.plot.width=14)\n",
    "DimPlot(seuratObject, group.by = \"CellType\", label = FALSE) + xlab(\"UMAP 1\") + ylab(\"UMAP 2\")"
   ]
  },
  {
   "cell_type": "code",
   "execution_count": null,
   "id": "fd505b31-8113-4da2-9658-bf27d7239fcd",
   "metadata": {},
   "outputs": [],
   "source": [
    "saveRDS(seuratObject, file = \"VSOX_Mutp13_final.rds\")"
   ]
  },
  {
   "cell_type": "markdown",
   "id": "3b7ca394-f091-4941-babb-86cd9d3d699f",
   "metadata": {
    "tags": []
   },
   "source": [
    "## Some code"
   ]
  },
  {
   "cell_type": "code",
   "execution_count": null,
   "id": "f271874a-705e-412c-8c3b-7126154840d3",
   "metadata": {},
   "outputs": [],
   "source": [
    "options(repr.plot.width = 18, repr.plot.height = 12)\n",
    "\n",
    "p1 <- DimPlot(seuratObject, label = TRUE) + NoLegend() + xlab(\"UMAP 1\") + ylab(\"UMAP 2\")\n",
    "p2 <- FeaturePlot(seuratObject, \n",
    "                c(\"\",\"\",\"\",\"\"), \n",
    "                min.cutoff = \"q1\",\n",
    "                #keep.scale = 'all',\n",
    "                order = TRUE\n",
    "                 )   \n",
    "\n",
    "p1 + p2"
   ]
  },
  {
   "cell_type": "code",
   "execution_count": null,
   "id": "77593008-db58-4036-835d-b65dbaf5f9c7",
   "metadata": {},
   "outputs": [],
   "source": [
    "DotPlot(object = seuratObject, features = c('','','',''), col.min = 0)"
   ]
  },
  {
   "cell_type": "code",
   "execution_count": null,
   "id": "34078215-ffd6-4721-9468-6c7727487e95",
   "metadata": {},
   "outputs": [],
   "source": [
    "options(repr.plot.width = 18, repr.plot.height = 6)\n",
    "FeaturePlot(A, features = c('', ''), blend = TRUE )"
   ]
  },
  {
   "cell_type": "markdown",
   "id": "125cc79a-b38c-426f-934e-0d97e42da416",
   "metadata": {
    "tags": []
   },
   "source": [
    "### 2.X. [change cell type]"
   ]
  },
  {
   "cell_type": "code",
   "execution_count": null,
   "id": "91077271-c3e3-4bdc-8b68-fb7a9fc8d84d",
   "metadata": {},
   "outputs": [],
   "source": [
    "seuratObject <- readRDS(\"/home/jovyan/researcher_home/tom/\")"
   ]
  },
  {
   "cell_type": "code",
   "execution_count": null,
   "id": "7c3c18ed-c1ba-4a3a-87c2-176753cd2244",
   "metadata": {
    "tags": []
   },
   "outputs": [],
   "source": [
    "Idents(seuratObject) <- seuratObject@meta.data$CellType_Global"
   ]
  },
  {
   "cell_type": "code",
   "execution_count": null,
   "id": "eaabd54c-26f1-4ec0-95ea-4ddfb7b0078b",
   "metadata": {},
   "outputs": [],
   "source": [
    "seuratObject <- subset(seuratObject, idents = c(\"\"))"
   ]
  },
  {
   "cell_type": "code",
   "execution_count": null,
   "id": "4936ec15-d6d4-4b5a-b0d4-4ec21fa41466",
   "metadata": {},
   "outputs": [],
   "source": [
    "seuratObject <- ScaleData(seuratObject)"
   ]
  },
  {
   "cell_type": "code",
   "execution_count": null,
   "id": "50186c7b-3dea-484e-845e-4951ae6d9916",
   "metadata": {},
   "outputs": [],
   "source": [
    "seuratObject <- RunPCA(seuratObject, features = VariableFeatures(object = seuratObject), verbose = FALSE)"
   ]
  },
  {
   "cell_type": "code",
   "execution_count": null,
   "id": "04d49b89-6d1f-4029-a732-10d8261aa553",
   "metadata": {},
   "outputs": [],
   "source": [
    "ElbowPlot(seuratObject, 50)"
   ]
  },
  {
   "cell_type": "code",
   "execution_count": null,
   "id": "ce0ded3b-2e06-42b6-bec1-f54d07fe1711",
   "metadata": {
    "scrolled": true
   },
   "outputs": [],
   "source": [
    "seuratObject <- FindNeighbors(seuratObject, dims = 1:20, verbose = FALSE)\n",
    "seuratObject <- FindClusters(seuratObject, resolution = 0.8, verbose = FALSE)"
   ]
  },
  {
   "cell_type": "code",
   "execution_count": null,
   "id": "80f60abe-4585-47b3-9f53-e9b09f0e1920",
   "metadata": {
    "scrolled": true
   },
   "outputs": [],
   "source": [
    "seuratObject <- RunUMAP(seuratObject, dims = 1:20, n.neighbors = 12, verbose = FALSE)"
   ]
  },
  {
   "cell_type": "code",
   "execution_count": null,
   "id": "305d2d68-7b24-4986-bc15-c51f263bc53e",
   "metadata": {},
   "outputs": [],
   "source": [
    "options(repr.plot.width = 10, repr.plot.height = 8)\n",
    "DimPlot(seuratObject, reduction = \"umap\", label=TRUE) + xlab(\"UMAP 1\") + ylab(\"UMAP 2\")"
   ]
  },
  {
   "cell_type": "code",
   "execution_count": null,
   "id": "071c2c4a-2187-4436-9a12-d75d2a316a12",
   "metadata": {},
   "outputs": [],
   "source": [
    "# Seurat default settings\n",
    "seuratObject.markers <- FindAllMarkers(seuratObject, only.pos = TRUE, min.pct = 0.25, logfc.threshold = 0.25)"
   ]
  },
  {
   "cell_type": "code",
   "execution_count": null,
   "id": "33df6c95-3c05-4069-bc9f-7a2f5ac1ea13",
   "metadata": {},
   "outputs": [],
   "source": [
    "#select only cluster 0 and order avg_log2FC from big to small\n",
    "\n",
    "seuratObject.markers[seuratObject.markers$cluster == 0,] %>%\n",
    "slice_max(n = 20\n",
    "          , order_by = avg_log2FC)"
   ]
  },
  {
   "cell_type": "code",
   "execution_count": null,
   "id": "95de8f7d-e7da-4e0b-b8fa-ee2345194e98",
   "metadata": {},
   "outputs": [],
   "source": [
    "write.csv(seuratObject.markers, file = \"/home/jovyan/researcher_home/tom/\", quote = FALSE)"
   ]
  },
  {
   "cell_type": "code",
   "execution_count": null,
   "id": "f6929cf4-05b5-44d0-a5cd-17617cdc45a2",
   "metadata": {},
   "outputs": [],
   "source": [
    "options(repr.plot.width = 18, repr.plot.height = 12)\n",
    "\n",
    "p1 <- DimPlot(seuratObject, label = TRUE) + NoLegend() + xlab(\"UMAP 1\") + ylab(\"UMAP 2\")\n",
    "p2 <- FeaturePlot(seuratObject, \n",
    "                c(\"\",\"\",\"\",\"\"), \n",
    "                min.cutoff = \"q1\",\n",
    "                #keep.scale = 'all',\n",
    "                order = TRUE\n",
    "                 )   \n",
    "\n",
    "p1 + p2"
   ]
  },
  {
   "cell_type": "code",
   "execution_count": null,
   "id": "169ec9d4-51d9-4554-a2ab-c013ecb7deac",
   "metadata": {},
   "outputs": [],
   "source": [
    "options(repr.plot.width = 18, repr.plot.height = 12)\n",
    "\n",
    "p1 <- DimPlot(seuratObject, label = TRUE) + NoLegend() + xlab(\"UMAP 1\") + ylab(\"UMAP 2\")\n",
    "p2 <- FeaturePlot(seuratObject, \n",
    "                c(\"\",\"\",\"\",\"\"), \n",
    "                min.cutoff = \"q1\",\n",
    "                #keep.scale = 'all',\n",
    "                order = TRUE\n",
    "                 )   \n",
    "\n",
    "p1 + p2"
   ]
  },
  {
   "cell_type": "code",
   "execution_count": null,
   "id": "28625621-6c71-4fd1-98a8-2038ef96de6d",
   "metadata": {},
   "outputs": [],
   "source": [
    "options(repr.plot.width = 10, repr.plot.height = 8)\n",
    "DimPlot(seuratObject, reduction = \"umap\", label=TRUE) + xlab(\"UMAP 1\") + ylab(\"UMAP 2\")"
   ]
  },
  {
   "cell_type": "code",
   "execution_count": null,
   "id": "ae32924f-97f2-40c8-b107-4a5ba6f82895",
   "metadata": {},
   "outputs": [],
   "source": [
    "# Step 1: Define the variable '' with cell type\n",
    "name <- \"\"\n",
    "\n",
    "# Step 2: Create the column name dynamically\n",
    "column_name <- paste0(\"CellType_\", name)"
   ]
  },
  {
   "cell_type": "code",
   "execution_count": null,
   "id": "c8789612-4440-4d3e-b78b-d7a31c88ac55",
   "metadata": {},
   "outputs": [],
   "source": [
    "seuratObject@meta.data[[column_name]] <- Idents(seuratObject)"
   ]
  },
  {
   "cell_type": "code",
   "execution_count": null,
   "id": "8054230c-76a7-4ff4-81bf-a99759924252",
   "metadata": {},
   "outputs": [],
   "source": [
    "seuratObject@meta.data[[column_name]] <- as.character(seuratObject@meta.data[[column_name]])\n",
    "\n",
    "seuratObject@meta.data[[column_name]][seuratObject@meta.data[[column_name]] == ''] <- ''\n",
    "\n",
    "seuratObject@meta.data[[column_name]] <- as.factor(seuratObject@meta.data[[column_name]])"
   ]
  },
  {
   "cell_type": "code",
   "execution_count": null,
   "id": "13acc5be-15ae-43c7-9d61-fb27fe3919a2",
   "metadata": {},
   "outputs": [],
   "source": [
    "options(repr.plot.width = 8)\n",
    "\n",
    "DimPlot(seuratObject, reduction = \"umap\", label = TRUE, group.by = column_name) + xlab(\"UMAP 1\") + ylab(\"UMAP 2\")"
   ]
  },
  {
   "cell_type": "code",
   "execution_count": null,
   "id": "c7146b8a-283d-47eb-93e6-6258050d83ff",
   "metadata": {},
   "outputs": [],
   "source": [
    "saveRDS(seuratObject, file = \"/home/jovyan/researcher_home/tom/\")"
   ]
  }
 ],
 "metadata": {
  "kernelspec": {
   "display_name": "R [conda env:base] *",
   "language": "R",
   "name": "conda-base-r"
  },
  "language_info": {
   "codemirror_mode": "r",
   "file_extension": ".r",
   "mimetype": "text/x-r-source",
   "name": "R",
   "pygments_lexer": "r",
   "version": "4.3.2"
  }
 },
 "nbformat": 4,
 "nbformat_minor": 5
}
