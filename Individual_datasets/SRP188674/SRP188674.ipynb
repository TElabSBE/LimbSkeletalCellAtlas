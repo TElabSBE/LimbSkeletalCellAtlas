{
 "cells": [
  {
   "cell_type": "markdown",
   "id": "9428269d-1516-4ffd-9ff1-5f2e951fefc7",
   "metadata": {
    "tags": []
   },
   "source": [
    "# Scadden\n"
   ]
  },
  {
   "cell_type": "markdown",
   "id": "96f5b794-fcea-4439-b517-3249b58e217b",
   "metadata": {},
   "source": [
    "## 0. Setting up workenvironment<a id=\"0\"></a>"
   ]
  },
  {
   "cell_type": "code",
   "execution_count": null,
   "id": "5f3975cb-d759-41f0-8d99-8dd24fd21a7f",
   "metadata": {},
   "outputs": [],
   "source": [
    "suppressPackageStartupMessages({\n",
    "    library(DropletUtils)\n",
    "    library(SingleCellExperiment)\n",
    "    library(scuttle)\n",
    "    library(Seurat)\n",
    "    library(SeuratWrappers)\n",
    "    library(stringr)\n",
    "    library(dplyr)\n",
    "    library(data.table)\n",
    "    library(Matrix)\n",
    "    library(patchwork)\n",
    "    library(ggplot2)\n",
    "})\n",
    "\n",
    "options(repr.plot.width = 16, repr.plot.height = 8)"
   ]
  },
  {
   "cell_type": "markdown",
   "id": "5eb7ef10-c19f-47ee-9cab-2c448ca9ddce",
   "metadata": {
    "tags": []
   },
   "source": [
    "## Loading data"
   ]
  },
  {
   "cell_type": "markdown",
   "id": "c051db1f-7312-46c5-9c05-b9c171669cf2",
   "metadata": {
    "tags": []
   },
   "source": [
    "### 3.1. Data analysis Seurat<a id=\"9\"></a>"
   ]
  },
  {
   "cell_type": "code",
   "execution_count": null,
   "id": "0a644d72-cdab-4204-b29b-846bee46f35d",
   "metadata": {},
   "outputs": [],
   "source": [
    "A <- readRDS(file = \"/home/jovyan/researcher_home/Documents/Tom/Atlas/data/SCA_core/Scadden/Scadden_annotated_05_07_2024.Rds\")"
   ]
  },
  {
   "cell_type": "code",
   "execution_count": null,
   "id": "0fdccd71-bda9-4184-aa6c-173cae710bbc",
   "metadata": {},
   "outputs": [],
   "source": [
    "DimPlot(A, group.by = 'CellType',label = TRUE) + NoLegend() + xlab(\"UMAP 1\") + ylab(\"UMAP 2\")\n"
   ]
  },
  {
   "cell_type": "code",
   "execution_count": null,
   "id": "5c23fa69-a1ef-4af8-a21c-9b37b3136945",
   "metadata": {},
   "outputs": [],
   "source": [
    "A@meta.data$Author = 'Scadden'"
   ]
  },
  {
   "cell_type": "code",
   "execution_count": null,
   "id": "10d15d39-2c13-48ac-8c24-b16cb7055667",
   "metadata": {},
   "outputs": [],
   "source": [
    "A <- NormalizeData(A, verbose = FALSE)\n",
    "A <- FindVariableFeatures(A, selection.method = \"vst\", nfeatures = 2000)\n",
    "\n",
    "# Identify the 10 most highly variable genes\n",
    "top10 <- head(VariableFeatures(A), 10)"
   ]
  },
  {
   "cell_type": "code",
   "execution_count": null,
   "id": "90728fd1-f03c-49c3-a257-ff3db52792a5",
   "metadata": {},
   "outputs": [],
   "source": [
    "all.genes <- rownames(A)\n",
    "A <- ScaleData(A, features = all.genes)"
   ]
  },
  {
   "cell_type": "code",
   "execution_count": null,
   "id": "805c4733-b3b3-46c1-a5d3-adf10c261a68",
   "metadata": {},
   "outputs": [],
   "source": [
    "A <- RunPCA(A, features = VariableFeatures(object = A), verbose = FALSE)"
   ]
  },
  {
   "cell_type": "code",
   "execution_count": null,
   "id": "557437a2-f9d2-480e-bda0-f865e8c9d941",
   "metadata": {},
   "outputs": [],
   "source": [
    "ElbowPlot(A, 50)"
   ]
  },
  {
   "cell_type": "code",
   "execution_count": null,
   "id": "67fb040f-b1ce-4dd5-8261-c8f34c6bede8",
   "metadata": {},
   "outputs": [],
   "source": [
    "A <- FindNeighbors(A, dims = 1:30)\n",
    "A<- FindClusters(A, resolution = 0.5)"
   ]
  },
  {
   "cell_type": "code",
   "execution_count": null,
   "id": "9df87299-00b7-448b-96ef-d8b9d25dd8f7",
   "metadata": {},
   "outputs": [],
   "source": [
    "A <- RunUMAP(A, dims = 1:30, n.neighbors = 12, verbose = FALSE)"
   ]
  },
  {
   "cell_type": "markdown",
   "id": "3115e417-820d-46d5-90ad-67f5746cf003",
   "metadata": {},
   "source": [
    "### Endothelium\n",
    "Vascular EC\n",
    "Lymphatic EC"
   ]
  },
  {
   "cell_type": "code",
   "execution_count": null,
   "id": "4fa1ede5-fcbb-4c7a-a5d6-151e4d4cd200",
   "metadata": {},
   "outputs": [],
   "source": [
    "# Vascular endothelial cells\n",
    "options(repr.plot.width = 18, repr.plot.height = 12)\n",
    "\n",
    "p1 <- DimPlot(A, label = TRUE) + NoLegend() + xlab(\"UMAP 1\") + ylab(\"UMAP 2\")\n",
    "p2 <- FeaturePlot(A, c(\"Emcn\", \"Flt1\", \"Pecam1\",\"Cdh5\"), min.cutoff = \"q1\")  \n",
    "\n",
    "p1 + p2"
   ]
  },
  {
   "cell_type": "code",
   "execution_count": null,
   "id": "47e0ab97-26f2-4fa2-b7e4-d6388dac9967",
   "metadata": {},
   "outputs": [],
   "source": [
    "# Lymphatic endothelial cells\n",
    "options(repr.plot.width = 18, repr.plot.height = 12)\n",
    "\n",
    "p1 <- DimPlot(A, label = TRUE) + NoLegend() + xlab(\"UMAP 1\") + ylab(\"UMAP 2\")\n",
    "p2 <- FeaturePlot(A, c(\"Lyve1\"), min.cutoff = \"q1\")  \n",
    "\n",
    "p1 + p2"
   ]
  },
  {
   "cell_type": "markdown",
   "id": "92aa50cc-a1cb-4eff-b4fd-e7b1f810f2b8",
   "metadata": {},
   "source": [
    "### Mesoderm"
   ]
  },
  {
   "cell_type": "code",
   "execution_count": null,
   "id": "0c990f52-674a-4072-a69f-ef597e1bcaf2",
   "metadata": {},
   "outputs": [],
   "source": [
    "# Muscle progenitors\n",
    "options(repr.plot.width = 18, repr.plot.height = 12)\n",
    "\n",
    "p1 <- DimPlot(A, label = TRUE) + NoLegend() + xlab(\"UMAP 1\") + ylab(\"UMAP 2\")\n",
    "p2 <- FeaturePlot(A, c(\"Pax7\",\"Notch\",\"Itm2a\",\"Nrk\"), min.cutoff = \"q1\")  \n",
    "\n",
    "p1 + p2"
   ]
  },
  {
   "cell_type": "code",
   "execution_count": null,
   "id": "0b763cf7-c1e4-4cf3-9b33-ac87dad204a3",
   "metadata": {},
   "outputs": [],
   "source": [
    "# Myogenic Stem Cell\n",
    "options(repr.plot.width = 18, repr.plot.height = 12)\n",
    "\n",
    "p1 <- DimPlot(A, label = TRUE) + NoLegend() + xlab(\"UMAP 1\") + ylab(\"UMAP 2\")\n",
    "p2 <- FeaturePlot(A, c(\"Pax3\",\"Pdgfc\"), min.cutoff = \"q1\")  \n",
    "\n",
    "p1 + p2"
   ]
  },
  {
   "cell_type": "code",
   "execution_count": null,
   "id": "0809347f-d0f0-4d4e-8881-af5cf4246790",
   "metadata": {},
   "outputs": [],
   "source": [
    "# Skeletal muscle cells\n",
    "options(repr.plot.width = 18, repr.plot.height = 12)\n",
    "\n",
    "p1 <- DimPlot(A, label = TRUE) + NoLegend() + xlab(\"UMAP 1\") + ylab(\"UMAP 2\")\n",
    "p2 <- FeaturePlot(A, c(\"Myhc\",\"Tnnt1\"), min.cutoff = \"q1\")  \n",
    "\n",
    "p1 + p2"
   ]
  },
  {
   "cell_type": "code",
   "execution_count": null,
   "id": "f3252192-457d-42dd-b7d9-452c26bfdee6",
   "metadata": {},
   "outputs": [],
   "source": [
    "# Smooth muscle cells\n",
    "options(repr.plot.width = 18, repr.plot.height = 12)\n",
    "\n",
    "p1 <- DimPlot(A, label = TRUE) + NoLegend() + xlab(\"UMAP 1\") + ylab(\"UMAP 2\")\n",
    "p2 <- FeaturePlot(A, c(\"Acta2\"), min.cutoff = \"q1\")  \n",
    "\n",
    "p1 + p2"
   ]
  },
  {
   "cell_type": "code",
   "execution_count": null,
   "id": "ad873f8e-8f69-4734-b71e-953df90cf87a",
   "metadata": {},
   "outputs": [],
   "source": [
    "# Tenocyte precursors\n",
    "options(repr.plot.width = 18, repr.plot.height = 12)\n",
    "\n",
    "p1 <- DimPlot(A, label = TRUE) + NoLegend() + xlab(\"UMAP 1\") + ylab(\"UMAP 2\")\n",
    "p2 <- FeaturePlot(A, c(\"Col1a1\",\"Tnmd\",\"Prrx1\",\"Prrx2\"), min.cutoff = \"q1\")  \n",
    "\n",
    "p1 + p2"
   ]
  },
  {
   "cell_type": "code",
   "execution_count": null,
   "id": "73203356-0f87-4aeb-9db4-8f0f85b70752",
   "metadata": {},
   "outputs": [],
   "source": [
    "# Tenocytes\n",
    "options(repr.plot.width = 18, repr.plot.height = 12)\n",
    "\n",
    "p1 <- DimPlot(A, label = TRUE) + NoLegend() + xlab(\"UMAP 1\") + ylab(\"UMAP 2\")\n",
    "p2 <- FeaturePlot(A, c(\"Scx\",\"Tnmd\"), min.cutoff = \"q1\")  \n",
    "\n",
    "p1 + p2"
   ]
  },
  {
   "cell_type": "code",
   "execution_count": null,
   "id": "c4852c85-5dd3-4cb1-8c99-5bfca943a45e",
   "metadata": {},
   "outputs": [],
   "source": [
    "# Pericytes\n",
    "options(repr.plot.width = 18, repr.plot.height = 12)\n",
    "\n",
    "p1 <- DimPlot(A, label = TRUE) + NoLegend() + xlab(\"UMAP 1\") + ylab(\"UMAP 2\")\n",
    "p2 <- FeaturePlot(A, c(\"Mcam\", \"Cspg4\", \"Pdgfrb\", \"Slpi\",\"Vcam1\", \"Rgs5\",\"Dlk1\", \"Acta2\"), min.cutoff = \"q1\")  \n",
    "\n",
    "p1 + p2"
   ]
  },
  {
   "cell_type": "code",
   "execution_count": null,
   "id": "d4cef5a2-45ce-40d0-9208-14513d3e6d0e",
   "metadata": {},
   "outputs": [],
   "source": [
    "# Fibroblast\n",
    "options(repr.plot.width = 18, repr.plot.height = 12)\n",
    "\n",
    "p1 <- DimPlot(A, label = TRUE) + NoLegend() + xlab(\"UMAP 1\") + ylab(\"UMAP 2\")\n",
    "p2 <- FeaturePlot(A, c(\"Col1a1\",\"Fn1\",\"S100a4\",\"Dcn\"), min.cutoff = \"q1\")  \n",
    "\n",
    "p1 + p2"
   ]
  },
  {
   "cell_type": "code",
   "execution_count": null,
   "id": "4c8790ba-a363-4e6a-83fa-9583add4c8ac",
   "metadata": {},
   "outputs": [],
   "source": [
    "# Synovial Fibroblasts\n",
    "options(repr.plot.width = 18, repr.plot.height = 12)\n",
    "\n",
    "p1 <- DimPlot(A, label = TRUE) + NoLegend() + xlab(\"UMAP 1\") + ylab(\"UMAP 2\")\n",
    "p2 <- FeaturePlot(A, c(\"Dkk1\"), min.cutoff = \"q1\")  \n",
    "\n",
    "p1 + p2"
   ]
  },
  {
   "cell_type": "code",
   "execution_count": null,
   "id": "e3dce55f-8587-41be-94e9-abd19d0a5cab",
   "metadata": {},
   "outputs": [],
   "source": [
    "# Osteoprogenitors\n",
    "options(repr.plot.width = 18, repr.plot.height = 12)\n",
    "\n",
    "p1 <- DimPlot(A, label = TRUE) + NoLegend() + xlab(\"UMAP 1\") + ylab(\"UMAP 2\")\n",
    "p2 <- FeaturePlot(A, c(\"Sp7\",\"Runx2\"), min.cutoff = \"q1\")  \n",
    "\n",
    "p1 + p2"
   ]
  },
  {
   "cell_type": "code",
   "execution_count": null,
   "id": "290667ca-b34b-4268-b23f-1bedeb2e4971",
   "metadata": {},
   "outputs": [],
   "source": [
    "# ozsteoblast\n",
    "options(repr.plot.width = 18, repr.plot.height = 12)\n",
    "\n",
    "p1 <- DimPlot(A, label = TRUE) + NoLegend() + xlab(\"UMAP 1\") + ylab(\"UMAP 2\")\n",
    "p2 <- FeaturePlot(A, c(\"Runx2\",\"Bglap\",\"Lef1\",\"Lef1\",\"Ibsp\"), min.cutoff = \"q1\")  \n",
    "\n",
    "p1 + p2"
   ]
  },
  {
   "cell_type": "code",
   "execution_count": null,
   "id": "a6d75a6a-873a-4663-8e38-987ef020275f",
   "metadata": {},
   "outputs": [],
   "source": [
    "# osteocytes\n",
    "options(repr.plot.width = 18, repr.plot.height = 12)\n",
    "\n",
    "p1 <- DimPlot(A, label = TRUE) + NoLegend() + xlab(\"UMAP 1\") + ylab(\"UMAP 2\")\n",
    "p2 <- FeaturePlot(A, c(\"Dmp1\"), min.cutoff = \"q1\")  \n",
    "\n",
    "p1 + p2"
   ]
  },
  {
   "cell_type": "code",
   "execution_count": null,
   "id": "6aaba5c1-ae94-44e1-9695-b6d702905da3",
   "metadata": {},
   "outputs": [],
   "source": [
    "# Periosteum\n",
    "options(repr.plot.width = 18, repr.plot.height = 12)\n",
    "\n",
    "p1 <- DimPlot(A, label = TRUE) + NoLegend() + xlab(\"UMAP 1\") + ylab(\"UMAP 2\")\n",
    "p2 <- FeaturePlot(A, c(\"Postn\",\"Wnt16\"), min.cutoff = \"q1\")  \n",
    "\n",
    "p1 + p2"
   ]
  },
  {
   "cell_type": "code",
   "execution_count": null,
   "id": "cdb7520d-3ffa-413c-b44f-650668972ddc",
   "metadata": {},
   "outputs": [],
   "source": [
    "# Periosteal stem cell\n",
    "options(repr.plot.width = 18, repr.plot.height = 12)\n",
    "\n",
    "p1 <- DimPlot(A, label = TRUE) + NoLegend() + xlab(\"UMAP 1\") + ylab(\"UMAP 2\")\n",
    "p2 <- FeaturePlot(A, c(\"Pdpn\",\"Cd164\",\"Nt5e\",\"Mcam\",\"Ctsk\"), min.cutoff = \"q1\")  \n",
    "\n",
    "p1 + p2"
   ]
  },
  {
   "cell_type": "code",
   "execution_count": null,
   "id": "dedeb332-c6bc-4647-91f0-c8cf6a711973",
   "metadata": {},
   "outputs": [],
   "source": [
    "# Periosteal progenitors\n",
    "options(repr.plot.width = 18, repr.plot.height = 12)\n",
    "\n",
    "p1 <- DimPlot(A, label = TRUE) + NoLegend() + xlab(\"UMAP 1\") + ylab(\"UMAP 2\")\n",
    "p2 <- FeaturePlot(A, c(\"Sp7\",\"Col5a1\"), min.cutoff = \"q1\")  \n",
    "\n",
    "p1 + p2"
   ]
  },
  {
   "cell_type": "code",
   "execution_count": null,
   "id": "36e1d78d-2980-45bd-816b-e5da4369b292",
   "metadata": {},
   "outputs": [],
   "source": [
    "# Chondroprogenitors\n",
    "options(repr.plot.width = 18, repr.plot.height = 12)\n",
    "\n",
    "p1 <- DimPlot(A, label = TRUE) + NoLegend() + xlab(\"UMAP 1\") + ylab(\"UMAP 2\")\n",
    "p2 <- FeaturePlot(A, c(\"Prrx1\",\"prrx2\",\"Sox9\",\"Col2a1\"), min.cutoff = \"q1\")  \n",
    "\n",
    "p1 + p2"
   ]
  },
  {
   "cell_type": "code",
   "execution_count": null,
   "id": "f4c28058-d40e-4f9a-80c9-a6a34ae7461b",
   "metadata": {},
   "outputs": [],
   "source": [
    "#articular chondropcytes\n",
    "options(repr.plot.width = 18, repr.plot.height = 12)\n",
    "\n",
    "p1 <- DimPlot(A, label = TRUE) + NoLegend() + xlab(\"UMAP 1\") + ylab(\"UMAP 2\")\n",
    "p2 <- FeaturePlot(A, c(\"Sox9\",\"Prg4\"), min.cutoff = \"q1\")  \n",
    "\n",
    "p1 + p2"
   ]
  },
  {
   "cell_type": "code",
   "execution_count": null,
   "id": "1b2e315c-b5b8-48c6-a9f0-6e68b51d4732",
   "metadata": {},
   "outputs": [],
   "source": [
    "# Resting zone chondrocytes\n",
    "options(repr.plot.width = 18, repr.plot.height = 12)\n",
    "\n",
    "p1 <- DimPlot(A, label = TRUE) + NoLegend() + xlab(\"UMAP 1\") + ylab(\"UMAP 2\")\n",
    "p2 <- FeaturePlot(A, c(\"Fgfr3\", \"Pthlh\", \"Sfrp5\", \"Spon1\", \"Col2a1\"), min.cutoff = \"q1\")  \n",
    "\n",
    "p1 + p2"
   ]
  },
  {
   "cell_type": "code",
   "execution_count": null,
   "id": "39b9a361-466e-4e0f-b87a-95143f942da7",
   "metadata": {},
   "outputs": [],
   "source": [
    "# Proliferative chondrocytes\n",
    "options(repr.plot.width = 18, repr.plot.height = 12)\n",
    "\n",
    "p1 <- DimPlot(A, label = TRUE) + NoLegend() + xlab(\"UMAP 1\") + ylab(\"UMAP 2\")\n",
    "p2 <- FeaturePlot(A, c(\"Mki67\", \"Top2a\", \"Pth1r\", \"Sox9\", \"Col2a1\"), min.cutoff = \"q1\")  \n",
    "\n",
    "p1 + p2"
   ]
  },
  {
   "cell_type": "code",
   "execution_count": null,
   "id": "59ac39a9-c098-4517-b42a-2253d6813501",
   "metadata": {},
   "outputs": [],
   "source": [
    "# Pre-hypertrophic\n",
    "options(repr.plot.width = 18, repr.plot.height = 12)\n",
    "\n",
    "p1 <- DimPlot(A, label = TRUE) + NoLegend() + xlab(\"UMAP 1\") + ylab(\"UMAP 2\")\n",
    "p2 <- FeaturePlot(A, c(\"Ihh\", \"Ppa1\", \"Smpd3\", \"Col2a1\"), min.cutoff = \"q1\")  \n",
    "\n",
    "p1 + p2"
   ]
  },
  {
   "cell_type": "code",
   "execution_count": null,
   "id": "c3cd1e44-8305-460a-bc1d-0d60e7d6d292",
   "metadata": {},
   "outputs": [],
   "source": [
    "# hyêrtrophicc\n",
    "options(repr.plot.width = 18, repr.plot.height = 12)\n",
    "\n",
    "p1 <- DimPlot(A, label = TRUE) + NoLegend() + xlab(\"UMAP 1\") + ylab(\"UMAP 2\")\n",
    "p2 <- FeaturePlot(A, c(\"Col10a1\", \"Mmp13\", \"Ibsp\", \"Col2a1\"), min.cutoff = \"q1\")  \n",
    "\n",
    "p1 + p2"
   ]
  },
  {
   "cell_type": "code",
   "execution_count": null,
   "id": "d00a173d-256b-46ca-b28b-457fa6914bb7",
   "metadata": {},
   "outputs": [],
   "source": [
    "# Adipocytes\n",
    "options(repr.plot.width = 18, repr.plot.height = 12)\n",
    "\n",
    "p1 <- DimPlot(A, label = TRUE) + NoLegend() + xlab(\"UMAP 1\") + ylab(\"UMAP 2\")\n",
    "p2 <- FeaturePlot(A, c(\"Pparg\",\"Adipoq\",\"Lepr\"), min.cutoff = \"q1\")  \n",
    "\n",
    "p1 + p2"
   ]
  },
  {
   "cell_type": "code",
   "execution_count": null,
   "id": "3d06180e-7a7d-4ce8-b34c-2ff164033cad",
   "metadata": {},
   "outputs": [],
   "source": []
  },
  {
   "cell_type": "code",
   "execution_count": null,
   "id": "1c315313-656c-495f-8a10-fba4b5624ce9",
   "metadata": {},
   "outputs": [],
   "source": []
  },
  {
   "cell_type": "code",
   "execution_count": null,
   "id": "ade97a93-380b-499a-baf9-4b42dfef8b7d",
   "metadata": {},
   "outputs": [],
   "source": [
    "# SSPC\n",
    "options(repr.plot.width = 18, repr.plot.height = 12)\n",
    "\n",
    "p1 <- DimPlot(A, label = TRUE) + NoLegend() + xlab(\"UMAP 1\") + ylab(\"UMAP 2\")\n",
    "p2 <- FeaturePlot(A, c(\"Pdnd\",\"Cd164\",\"Nt5e\",\"Mcam\"), min.cutoff = \"q1\")  \n",
    "\n",
    "p1 + p2"
   ]
  },
  {
   "cell_type": "code",
   "execution_count": null,
   "id": "b98e028e-f5f3-416f-b13b-f32e7122fdc6",
   "metadata": {},
   "outputs": [],
   "source": [
    "# Skin\n",
    "options(repr.plot.width = 18, repr.plot.height = 12)\n",
    "\n",
    "p1 <- DimPlot(A, label = TRUE) + NoLegend() + xlab(\"UMAP 1\") + ylab(\"UMAP 2\")\n",
    "p2 <- FeaturePlot(A, c(\"Kera\",\"Krt10\",\"Krt4\"), min.cutoff = \"q1\")  \n",
    "\n",
    "p1 + p2"
   ]
  },
  {
   "cell_type": "code",
   "execution_count": null,
   "id": "69894dda-f2e8-45f1-bf69-3480d57741ed",
   "metadata": {},
   "outputs": [],
   "source": [
    "# Erythroid cells\n",
    "options(repr.plot.width = 18, repr.plot.height = 12)\n",
    "\n",
    "p1 <- DimPlot(A, label = TRUE) + NoLegend() + xlab(\"UMAP 1\") + ylab(\"UMAP 2\")\n",
    "p2 <- FeaturePlot(A, c(\"Gypa\", \"Car2\"), min.cutoff = \"q1\")  \n",
    "\n",
    "p1 + p2"
   ]
  },
  {
   "cell_type": "code",
   "execution_count": null,
   "id": "8cb23df8-ebac-450b-b80f-91750bf38666",
   "metadata": {},
   "outputs": [],
   "source": [
    "# Platelets\n",
    "options(repr.plot.width = 18, repr.plot.height = 12)\n",
    "\n",
    "p1 <- DimPlot(A, label = TRUE) + NoLegend() + xlab(\"UMAP 1\") + ylab(\"UMAP 2\")\n",
    "p2 <- FeaturePlot(A, c(\"Pf4\"), min.cutoff = \"q1\")  \n",
    "\n",
    "p1 + p2"
   ]
  },
  {
   "cell_type": "code",
   "execution_count": null,
   "id": "72585109-e537-4816-95b4-af6a4d61fa73",
   "metadata": {},
   "outputs": [],
   "source": [
    "# Immune\n",
    "options(repr.plot.width = 18, repr.plot.height = 12)\n",
    "\n",
    "p1 <- DimPlot(A, label = TRUE) + NoLegend() + xlab(\"UMAP 1\") + ylab(\"UMAP 2\")\n",
    "p2 <- FeaturePlot(A, c(\"Cd3g\",\"Ms4a1\",\"Camp\",\"Elane\",\"Ccr2\",\"Cd68\",\"Mcpt8\"), min.cutoff = \"q1\")  \n",
    "\n",
    "p1 + p2"
   ]
  },
  {
   "cell_type": "markdown",
   "id": "f558a08c-60d2-474c-bb62-01e0181f850a",
   "metadata": {
    "tags": []
   },
   "source": [
    "### 3.4. Differential expression analysis<a id=\"12\"></a>\n",
    "#### 3.4.1. Global annotation by differential expression analysis<a id=\"13\"></a>\n",
    "\n",
    "Seurat identifies markers that define clusters via differential expression. By default, it identifes positive and negative markers of a single cluster (specified in ident.1), compared to all other cells. `FindAllMarkers` automates this process for all clusters, but it is possible to test groups of clusters vs. each other, or against all cells.\n",
    "\n",
    "The `min.pct` argument requires a feature to be detected at a minimum percentage in either of the two groups of cells, and the `thresh.test` argument requires a feature to be differentially expressed (on average) by some amount between the two groups. You can set both of these to 0, but with a dramatic increase in time - since this will test a large number of features that are unlikely to be highly discriminatory. As another option to speed up these computations, `max.cells.per.ident` can be set. This will downsample each identity class to have no more cells than whatever this is set to. While there is generally going to be a loss in power, the speed increases can be significiant and the most highly differentially expressed features will likely still rise to the top."
   ]
  },
  {
   "cell_type": "code",
   "execution_count": null,
   "id": "65ff73a6-1ee8-4a79-a66e-8726e996689f",
   "metadata": {},
   "outputs": [],
   "source": [
    "# Seurat default settings\n",
    "A.markers <- FindAllMarkers(A, only.pos = TRUE, min.pct = 0.25, logfc.threshold = 0.25)"
   ]
  },
  {
   "cell_type": "code",
   "execution_count": null,
   "id": "9cde1d3f-2348-4b6d-a1d8-c8dcc1768c55",
   "metadata": {},
   "outputs": [],
   "source": [
    "#dir.create(\"./6-kmita/analysis\")\n",
    "write.csv(A.markers, file = \"A.markers_Scadden.csv\", quote = FALSE)"
   ]
  },
  {
   "cell_type": "markdown",
   "id": "072fb790-b292-4842-ac3e-78fe274d823b",
   "metadata": {},
   "source": [
    "**Adding cell types**"
   ]
  },
  {
   "cell_type": "code",
   "execution_count": null,
   "id": "6f6e04ac-3c55-4287-94f9-5c680af233f6",
   "metadata": {},
   "outputs": [],
   "source": [
    "A@meta.data$CellType <- NULL"
   ]
  },
  {
   "cell_type": "code",
   "execution_count": null,
   "id": "8ed21638-7e73-4fc4-8fb9-5c5d0933ff8c",
   "metadata": {},
   "outputs": [],
   "source": [
    "#creating column that contains cell type \n",
    "A@meta.data$CellType <- Idents(A)"
   ]
  },
  {
   "cell_type": "code",
   "execution_count": null,
   "id": "d9eb5d84-6b3d-4d86-9ca4-75725c49381d",
   "metadata": {},
   "outputs": [],
   "source": []
  },
  {
   "cell_type": "code",
   "execution_count": null,
   "id": "e049d19d-769f-4b20-bad5-5a8ed41fc9b8",
   "metadata": {},
   "outputs": [],
   "source": [
    "A@meta.data$CellType <- as.character(A@meta.data$CellType)\n",
    "\n",
    "A@meta.data$CellType[A@meta.data$CellType == '0'] <- 'LepR + BMSCs'\n",
    "A@meta.data$CellType[A@meta.data$CellType == '1'] <- 'EC'\n",
    "A@meta.data$CellType[A@meta.data$CellType == '2'] <- 'Fibroblasts'\n",
    "A@meta.data$CellType[A@meta.data$CellType == '3'] <- 'Chondrocytes'\n",
    "A@meta.data$CellType[A@meta.data$CellType == '4'] <- 'Chondrocytes'\n",
    "A@meta.data$CellType[A@meta.data$CellType == '5'] <- 'EC'\n",
    "A@meta.data$CellType[A@meta.data$CellType == '6'] <- 'Osteoblasts'\n",
    "A@meta.data$CellType[A@meta.data$CellType == '7'] <- 'Osteoblasts'\n",
    "A@meta.data$CellType[A@meta.data$CellType == '8'] <- 'Perivascular cells'\n",
    "A@meta.data$CellType[A@meta.data$CellType == '9'] <- 'Fibroblasts'\n",
    "A@meta.data$CellType[A@meta.data$CellType == '10'] <- 'EC'\n",
    "A@meta.data$CellType[A@meta.data$CellType == '11'] <- 'Chondrocytes'\n",
    "A@meta.data$CellType[A@meta.data$CellType == '12'] <- 'Fibroblasts'\n",
    "A@meta.data$CellType[A@meta.data$CellType == '13'] <- 'Tenocytes'\n",
    "A@meta.data$CellType[A@meta.data$CellType == '14'] <- 'EC'\n",
    "A@meta.data$CellType[A@meta.data$CellType == '15'] <- 'Fibroblasts'\n",
    "\n",
    "A@meta.data$CellType <- as.factor(A@meta.data$CellType)"
   ]
  },
  {
   "cell_type": "code",
   "execution_count": null,
   "id": "a397fc9e-5d17-41ba-9da0-fbb9c4436454",
   "metadata": {},
   "outputs": [],
   "source": [
    "options(repr.plot.width = 10, repr.plot.height = 8)\n",
    "\n",
    "DimPlot(A, reduction = \"umap\", label = FALSE, group.by = \"CellType\") + xlab(\"UMAP 1\") + ylab(\"UMAP 2\")"
   ]
  },
  {
   "cell_type": "code",
   "execution_count": null,
   "id": "30b9703c-cfbc-4070-af46-74114b2702c2",
   "metadata": {},
   "outputs": [],
   "source": [
    "Idents(A)<-A@meta.data$CellType"
   ]
  },
  {
   "cell_type": "markdown",
   "id": "0f4497b0-ce67-40d4-ad32-341a6c591fdd",
   "metadata": {
    "tags": []
   },
   "source": [
    "#### 3.4.2. Refinement of global annotations<a id=\"13.2\"></a>\n",
    "##### 3.4.2.1. Subsetting mesenchymal clusters<a id=\"14\"></a>"
   ]
  },
  {
   "cell_type": "code",
   "execution_count": null,
   "id": "6ef9ce35-0bb8-45fb-a3f5-6afd1858cd17",
   "metadata": {},
   "outputs": [],
   "source": [
    "A_chondrocytes <- subset(A, idents = c(\"Chondrocytes\"))"
   ]
  },
  {
   "cell_type": "code",
   "execution_count": null,
   "id": "022dc2b2-0d54-42b4-b88a-4936330132e6",
   "metadata": {},
   "outputs": [],
   "source": [
    "A_chondrocytes"
   ]
  },
  {
   "cell_type": "code",
   "execution_count": null,
   "id": "b7805808-5461-4a9e-b42c-0108772d05ca",
   "metadata": {},
   "outputs": [],
   "source": [
    "A_chondrocytes <- ScaleData(A_chondrocytes)"
   ]
  },
  {
   "cell_type": "code",
   "execution_count": null,
   "id": "f3f69328-438b-4cf9-bf93-057a518741d4",
   "metadata": {},
   "outputs": [],
   "source": [
    "A_chondrocytes <- RunPCA(A_chondrocytes, features = VariableFeatures(object = A_chondrocytes), verbose = FALSE)"
   ]
  },
  {
   "cell_type": "code",
   "execution_count": null,
   "id": "1b2ab3b4-ce08-4b5a-a277-070d680625ca",
   "metadata": {},
   "outputs": [],
   "source": [
    "ElbowPlot(A_chondrocytes, 50)"
   ]
  },
  {
   "cell_type": "code",
   "execution_count": null,
   "id": "7935363a-257d-42fa-b9dc-4fd934ec7aa2",
   "metadata": {
    "scrolled": true
   },
   "outputs": [],
   "source": [
    "A_chondrocytes <- FindNeighbors(A_chondrocytes, dims = 1:30, verbose = FALSE)\n",
    "A_chondrocytes <- FindClusters(A_chondrocytes, resolution = 0.8, verbose = FALSE)"
   ]
  },
  {
   "cell_type": "code",
   "execution_count": null,
   "id": "d168ea76-6d00-46a1-ab8a-12ef0e1aad53",
   "metadata": {
    "scrolled": true
   },
   "outputs": [],
   "source": [
    "A_chondrocytes <- RunUMAP(A_chondrocytes, dims = 1:30, n.neighbors = 12, verbose = FALSE)"
   ]
  },
  {
   "cell_type": "code",
   "execution_count": null,
   "id": "def36dc4-081e-4e2b-aa4f-98eac2358355",
   "metadata": {},
   "outputs": [],
   "source": [
    "options(repr.plot.width = 10, repr.plot.height = 8)\n",
    "DimPlot(A_chondrocytes, reduction = \"umap\", label=TRUE) + xlab(\"UMAP 1\") + ylab(\"UMAP 2\")\n",
    "\n",
    "#ggsave(\"./6-kmita/images/E10_5_m_no_annotation.png\" ,width=10, height=8)"
   ]
  },
  {
   "cell_type": "code",
   "execution_count": null,
   "id": "12d3e42d-c29d-40b2-ad5c-6d37d22bc806",
   "metadata": {
    "tags": []
   },
   "outputs": [],
   "source": [
    "A_chondrocytes_markers <- FindAllMarkers(A_chondrocytes)"
   ]
  },
  {
   "cell_type": "code",
   "execution_count": null,
   "id": "6640d888-b972-4063-9cff-47db6d95af6b",
   "metadata": {},
   "outputs": [],
   "source": [
    "write.csv(A_chondrocytes_markers, file = \"Scadden_chondrocytes.markers_.csv\", quote = FALSE)"
   ]
  },
  {
   "cell_type": "code",
   "execution_count": null,
   "id": "90111835-b7b4-489d-b9e7-a656fdb03276",
   "metadata": {},
   "outputs": [],
   "source": [
    "# Articular chondrocytes\n",
    "options(repr.plot.width = 18, repr.plot.height = 12)\n",
    "\n",
    "p1 <- DimPlot(A_chondrocytes, label = TRUE) + NoLegend() + xlab(\"UMAP 1\") + ylab(\"UMAP 2\")\n",
    "p2 <- FeaturePlot(A_chondrocytes, c(\"Prg4\", \"Sox9\"), min.cutoff = \"q1\")  \n",
    "\n",
    "p1 + p2"
   ]
  },
  {
   "cell_type": "code",
   "execution_count": null,
   "id": "13cdca37-20fb-4ae7-bc51-04bd07553685",
   "metadata": {},
   "outputs": [],
   "source": [
    "# Chondroprogenitors\n",
    "options(repr.plot.width = 18, repr.plot.height = 12)\n",
    "\n",
    "p1 <- DimPlot(A_chondrocytes, label = TRUE) + NoLegend() + xlab(\"UMAP 1\") + ylab(\"UMAP 2\")\n",
    "p2 <- FeaturePlot(A_chondrocytes, c(\"Prrx1\", \"Prrx2\", \"Sox9\"), min.cutoff = \"q1\")  \n",
    "\n",
    "p1 + p2"
   ]
  },
  {
   "cell_type": "code",
   "execution_count": null,
   "id": "207272c9",
   "metadata": {},
   "outputs": [],
   "source": [
    "# Resting zone chondrocytes\n",
    "options(repr.plot.width = 18, repr.plot.height = 12)\n",
    "\n",
    "p1 <- DimPlot(A_chondrocytes, label = TRUE) + NoLegend() + xlab(\"UMAP 1\") + ylab(\"UMAP 2\")\n",
    "p2 <- FeaturePlot(A_chondrocytes, c(\"Fgfr3\", \"Pcp4\", \"Pthlh\", \"Sfrp5\", \"Spon1\"), min.cutoff = \"q1\")  \n",
    "\n",
    "p1 + p2"
   ]
  },
  {
   "cell_type": "code",
   "execution_count": null,
   "id": "f6ea1921",
   "metadata": {},
   "outputs": [],
   "source": [
    "# Proliferative chondrocytes\n",
    "options(repr.plot.width = 18, repr.plot.height = 12)\n",
    "\n",
    "p1 <- DimPlot(A_chondrocytes, label = TRUE) + NoLegend() + xlab(\"UMAP 1\") + ylab(\"UMAP 2\")\n",
    "p2 <- FeaturePlot(A_chondrocytes, c(\"Sox9\", \"Mki67\", \"Top2a\", \"Pth1r\"), min.cutoff = \"q1\")  \n",
    "\n",
    "p1 + p2"
   ]
  },
  {
   "cell_type": "code",
   "execution_count": null,
   "id": "bdc58a0b-947c-4557-8147-5c4b622c6109",
   "metadata": {},
   "outputs": [],
   "source": []
  },
  {
   "cell_type": "code",
   "execution_count": null,
   "id": "0d1ce110",
   "metadata": {},
   "outputs": [],
   "source": [
    "# Pre-hypertrophic chondrocytes\n",
    "options(repr.plot.width = 18, repr.plot.height = 12)\n",
    "\n",
    "p1 <- DimPlot(A_chondrocytes, label = TRUE) + NoLegend() + xlab(\"UMAP 1\") + ylab(\"UMAP 2\")\n",
    "p2 <- FeaturePlot(A_chondrocytes, c(\"Ihh\"), min.cutoff = \"q1\")  \n",
    "\n",
    "p1 + p2"
   ]
  },
  {
   "cell_type": "code",
   "execution_count": null,
   "id": "e77ebdce",
   "metadata": {},
   "outputs": [],
   "source": [
    "# hypertrophic chondrocytes\n",
    "options(repr.plot.width = 18, repr.plot.height = 12)\n",
    "\n",
    "p1 <- DimPlot(A_chondrocytes, label = TRUE) + NoLegend() + xlab(\"UMAP 1\") + ylab(\"UMAP 2\")\n",
    "p2 <- FeaturePlot(A_chondrocytes, c(\"Col10a1\"), min.cutoff = \"q1\")  \n",
    "\n",
    "p1 + p2"
   ]
  },
  {
   "cell_type": "code",
   "execution_count": null,
   "id": "7add2bd4",
   "metadata": {},
   "outputs": [],
   "source": [
    "# SSPC\n",
    "options(repr.plot.width = 18, repr.plot.height = 12)\n",
    "\n",
    "p1 <- DimPlot(A_chondrocytes, label = TRUE) + NoLegend() + xlab(\"UMAP 1\") + ylab(\"UMAP 2\")\n",
    "p2 <- FeaturePlot(A_chondrocytes, c(\"Lepr\",\"Pdgfrb\",'Prrx1',\"Eng\", \"Nt5e\", \"Thy1\",\"Cxcl12\",\"Sp7\",\"Adipoq\"), min.cutoff = \"q1\") \n",
    "\n",
    "p1 + p2"
   ]
  },
  {
   "cell_type": "code",
   "execution_count": null,
   "id": "a64f7ad3-747b-4d57-8c25-b7cd4a364b8d",
   "metadata": {},
   "outputs": [],
   "source": [
    "A_chondrocytes@meta.data$CellType_d <- Idents(A_chondrocytes)"
   ]
  },
  {
   "cell_type": "code",
   "execution_count": null,
   "id": "acf90ab3-f092-4283-8c73-dc5a50cdb952",
   "metadata": {},
   "outputs": [],
   "source": [
    "A_chondrocytes@meta.data$CellType_d <- as.character(A_chondrocytes@meta.data$CellType_d)\n",
    "\n",
    "A_chondrocytes@meta.data$CellType_d[A_chondrocytes@meta.data$CellType_d == '0'] <- 'Articular chondrocytes'\n",
    "A_chondrocytes@meta.data$CellType_d[A_chondrocytes@meta.data$CellType_d == '1'] <- 'Proliferative chondrocytes'\n",
    "A_chondrocytes@meta.data$CellType_d[A_chondrocytes@meta.data$CellType_d == '2'] <- 'Proliferative chondrocytes'\n",
    "A_chondrocytes@meta.data$CellType_d[A_chondrocytes@meta.data$CellType_d == '3'] <- 'Articular chondrocytes'\n",
    "A_chondrocytes@meta.data$CellType_d[A_chondrocytes@meta.data$CellType_d == '4'] <- 'Proliferative chondrocytes'\n",
    "A_chondrocytes@meta.data$CellType_d[A_chondrocytes@meta.data$CellType_d == '5'] <- 'Resting zone chondrocytes'\n",
    "A_chondrocytes@meta.data$CellType_d[A_chondrocytes@meta.data$CellType_d == '6'] <- 'Proliferative chondrocytes'\n",
    "A_chondrocytes@meta.data$CellType_d[A_chondrocytes@meta.data$CellType_d == '7'] <- 'Articular chondrocytes'\n",
    "A_chondrocytes@meta.data$CellType_d[A_chondrocytes@meta.data$CellType_d == '8'] <- 'Articular chondrocytes'\n",
    "A_chondrocytes@meta.data$CellType_d[A_chondrocytes@meta.data$CellType_d == '9'] <- 'Chondroprogenitors'\n",
    "A_chondrocytes@meta.data$CellType_d[A_chondrocytes@meta.data$CellType_d == '10'] <- 'Pre-hypertrophic chondrocytes'\n",
    "A_chondrocytes@meta.data$CellType_d[A_chondrocytes@meta.data$CellType_d == '11'] <- 'Proliferative chondrocytes'\n",
    "A_chondrocytes@meta.data$CellType_d[A_chondrocytes@meta.data$CellType_d == '12'] <- 'Hypertrophic chondrocytes'\n",
    "A_chondrocytes@meta.data$CellType_d[A_chondrocytes@meta.data$CellType_d == '13'] <- 'BMSCs'\n",
    "A_chondrocytes@meta.data$CellType_d[A_chondrocytes@meta.data$CellType_d == '14'] <- 'LepR + BMSCs'\n",
    "A_chondrocytes@meta.data$CellType_d[A_chondrocytes@meta.data$CellType_d == '15'] <- 'Chondroprogenitors'\n",
    "\n",
    "\n",
    "\n",
    "A_chondrocytes@meta.data$CellType_d <- as.factor(A_chondrocytes@meta.data$CellType_d)"
   ]
  },
  {
   "cell_type": "code",
   "execution_count": null,
   "id": "58d045d9-21ee-446d-a228-ec9540d575ce",
   "metadata": {},
   "outputs": [],
   "source": [
    "DimPlot(A_chondrocytes, label = TRUE, group.by=\"CellType_d\") + NoLegend() + xlab(\"UMAP 1\") + ylab(\"UMAP 2\")"
   ]
  },
  {
   "cell_type": "markdown",
   "id": "53d8db75-ab9d-41fd-9e67-afe597a1746d",
   "metadata": {
    "tags": []
   },
   "source": [
    "#### 3.4.2. Refinement of global annotations<a id=\"13.2\"></a>\n",
    "##### 3.4.2.1. Subsetting endothelial clusters<a id=\"14\"></a>"
   ]
  },
  {
   "cell_type": "code",
   "execution_count": null,
   "id": "4de3999a-a90d-4b81-a2b7-7d736eef4453",
   "metadata": {},
   "outputs": [],
   "source": [
    "A_osteoblasts <- subset(A, idents = c(\"Osteoblasts\"))"
   ]
  },
  {
   "cell_type": "code",
   "execution_count": null,
   "id": "508e035f-744c-4a09-ab45-1ddba5675791",
   "metadata": {},
   "outputs": [],
   "source": [
    "A_osteoblasts"
   ]
  },
  {
   "cell_type": "code",
   "execution_count": null,
   "id": "ee709c5f-f544-47db-95f0-6e6fa0d341f8",
   "metadata": {},
   "outputs": [],
   "source": [
    "A_osteoblasts <- ScaleData(A_osteoblasts)"
   ]
  },
  {
   "cell_type": "code",
   "execution_count": null,
   "id": "f6dd3167-cdf7-47b1-9ea7-244e03bb3db3",
   "metadata": {},
   "outputs": [],
   "source": [
    "A_osteoblasts <- RunPCA(A_osteoblasts, features = VariableFeatures(object = A_osteoblasts), verbose = FALSE)"
   ]
  },
  {
   "cell_type": "code",
   "execution_count": null,
   "id": "90ba6ab3-0a8c-4a62-9bec-8760a3d43ea6",
   "metadata": {},
   "outputs": [],
   "source": [
    "ElbowPlot(A_osteoblasts, 50)"
   ]
  },
  {
   "cell_type": "code",
   "execution_count": null,
   "id": "ce19c1e0-7939-4a71-9d7d-3523c341eb67",
   "metadata": {
    "scrolled": true
   },
   "outputs": [],
   "source": [
    "A_osteoblasts <- FindNeighbors(A_osteoblasts, dims = 1:30, verbose = FALSE)\n",
    "A_osteoblasts <- FindClusters(A_osteoblasts, resolution = 0.8, verbose = FALSE)"
   ]
  },
  {
   "cell_type": "code",
   "execution_count": null,
   "id": "2172c33e-e634-44d6-a806-5c9d782dc396",
   "metadata": {
    "scrolled": true
   },
   "outputs": [],
   "source": [
    "A_osteoblasts <- RunUMAP(A_osteoblasts, dims = 1:30, n.neighbors = 12, verbose = FALSE)"
   ]
  },
  {
   "cell_type": "code",
   "execution_count": null,
   "id": "cb9df8b7-3e0c-4507-80f8-f81da9ce77a9",
   "metadata": {},
   "outputs": [],
   "source": [
    "options(repr.plot.width = 10, repr.plot.height = 8)\n",
    "DimPlot(A_osteoblasts, reduction = \"umap\", label=TRUE) + xlab(\"UMAP 1\") + ylab(\"UMAP 2\")\n",
    "\n",
    "#ggsave(\"./6-kmita/images/E10_5_m_no_annotation.png\" ,width=10, height=8)"
   ]
  },
  {
   "cell_type": "code",
   "execution_count": null,
   "id": "8874c745-c791-4bd4-bd43-ff74b50a28e1",
   "metadata": {
    "tags": []
   },
   "outputs": [],
   "source": [
    "A_osteoblasts.markers <- FindAllMarkers(A_osteoblasts)"
   ]
  },
  {
   "cell_type": "code",
   "execution_count": null,
   "id": "5aac502e-a53e-4c32-94d5-14aa5d23ae2e",
   "metadata": {},
   "outputs": [],
   "source": [
    "write.csv(A_osteoblasts.markers, file = \"Scadden_osteoblast.markers.csv\", quote = FALSE)"
   ]
  },
  {
   "cell_type": "code",
   "execution_count": null,
   "id": "d44c8c8b-57f6-4bf9-96ae-3ae2b9fa209e",
   "metadata": {},
   "outputs": [],
   "source": [
    "# Periosteum\n",
    "options(repr.plot.width = 18, repr.plot.height = 12)\n",
    "\n",
    "p1 <- DimPlot(A_osteoblasts, label = TRUE) + NoLegend() + xlab(\"UMAP 1\") + ylab(\"UMAP 2\")\n",
    "p2 <- FeaturePlot(A_osteoblasts, c(\"Postn\",\"Wnt16\",'Ctsk'), min.cutoff = \"q1\")  \n",
    "\n",
    "p1 + p2"
   ]
  },
  {
   "cell_type": "code",
   "execution_count": null,
   "id": "bbd27f5f-2989-40bb-b62f-848e74acde4b",
   "metadata": {},
   "outputs": [],
   "source": [
    "# fib\n",
    "options(repr.plot.width = 18, repr.plot.height = 12)\n",
    "\n",
    "p1 <- DimPlot(A_osteoblasts, label = TRUE) + NoLegend() + xlab(\"UMAP 1\") + ylab(\"UMAP 2\")\n",
    "p2 <- FeaturePlot(A_osteoblasts, c(\"Dcn\",\"S100a4\"), min.cutoff = \"q1\")  \n",
    "\n",
    "p1 + p2"
   ]
  },
  {
   "cell_type": "code",
   "execution_count": null,
   "id": "3a960f1c-1e42-4109-bb8f-e8f82674cb8e",
   "metadata": {},
   "outputs": [],
   "source": [
    "# SSPC\n",
    "options(repr.plot.width = 18, repr.plot.height = 12)\n",
    "\n",
    "p1 <- DimPlot(A_osteoblasts, label = TRUE) + NoLegend() + xlab(\"UMAP 1\") + ylab(\"UMAP 2\")\n",
    "p2 <- FeaturePlot(A_osteoblasts, c(\"Lepr\",\"Pdgfrb\",'Prrx1',\"Eng\", \"Nt5e\", \"Thy1\",\"Cxcl12\",\"Sp7\",\"Adipoq\"), min.cutoff = \"q1\") \n",
    "\n",
    "p1 + p2"
   ]
  },
  {
   "cell_type": "code",
   "execution_count": null,
   "id": "97142c34-f10a-465a-a6fc-be093b30876b",
   "metadata": {},
   "outputs": [],
   "source": [
    "# Osteoprogenitors\n",
    "options(repr.plot.width = 18, repr.plot.height = 12)\n",
    "\n",
    "p1 <- DimPlot(A_osteoblasts, label = TRUE) + NoLegend() + xlab(\"UMAP 1\") + ylab(\"UMAP 2\")\n",
    "p2 <- FeaturePlot(A_osteoblasts, c(\"Runx2\", \"Sp7\"), min.cutoff = \"q1\")  \n",
    "\n",
    "p1 + p2"
   ]
  },
  {
   "cell_type": "code",
   "execution_count": null,
   "id": "282d79bf-c901-429e-8033-07c3bfcac4ef",
   "metadata": {},
   "outputs": [],
   "source": [
    "# Osteoprogenitors\n",
    "options(repr.plot.width = 18, repr.plot.height = 12)\n",
    "\n",
    "p1 <- DimPlot(A_osteoblasts, label = TRUE) + NoLegend() + xlab(\"UMAP 1\") + ylab(\"UMAP 2\")\n",
    "p2 <- FeaturePlot(A_osteoblasts, c(\"Col10a1\", \"F5\",\"Sox9\",\"Gypa\",'Col2a1'), min.cutoff = \"q1\")  \n",
    "\n",
    "p1 + p2"
   ]
  },
  {
   "cell_type": "code",
   "execution_count": null,
   "id": "60103ca1-0ddb-47df-8e67-e3468db2117c",
   "metadata": {},
   "outputs": [],
   "source": [
    "# Osteoblasts\n",
    "options(repr.plot.width = 18, repr.plot.height = 12)\n",
    "\n",
    "p1 <- DimPlot(A_osteoblasts, label = TRUE) + NoLegend() + xlab(\"UMAP 1\") + ylab(\"UMAP 2\")\n",
    "p2 <- FeaturePlot(A_osteoblasts, c(\"Col1a1\", \"Bglap\"), min.cutoff = \"q1\")  \n",
    "\n",
    "p1 + p2"
   ]
  },
  {
   "cell_type": "code",
   "execution_count": null,
   "id": "66b28410-bb01-44df-af1f-e2bafeaff9a7",
   "metadata": {},
   "outputs": [],
   "source": [
    "# fast proliferating osteoblasts\n",
    "options(repr.plot.width = 18, repr.plot.height = 12)\n",
    "\n",
    "p1 <- DimPlot(A_osteoblasts, label = TRUE) + NoLegend() + xlab(\"UMAP 1\") + ylab(\"UMAP 2\")\n",
    "p2 <- FeaturePlot(A_osteoblasts, c(\"Cdc20\",\"Cenpe\"), min.cutoff = \"q1\")  \n",
    "\n",
    "p1 + p2"
   ]
  },
  {
   "cell_type": "code",
   "execution_count": null,
   "id": "4442a50b-d326-421e-b601-9a7accc29b31",
   "metadata": {},
   "outputs": [],
   "source": [
    "# Osteocytes\n",
    "#options(repr.plot.width = 18, repr.plot.height = 12)\n",
    "\n",
    "p1 <- DimPlot(A_osteoblasts, label = TRUE) + NoLegend() + xlab(\"UMAP 1\") + ylab(\"UMAP 2\")\n",
    "p2 <- FeaturePlot(A_osteoblasts, c(\"Dmp1\",\"Col10a1\"), min.cutoff = \"q1\")  \n",
    "\n",
    "p1 + p2"
   ]
  },
  {
   "cell_type": "code",
   "execution_count": null,
   "id": "b74c15d3-d705-44d4-9f1d-ef8361759d8f",
   "metadata": {},
   "outputs": [],
   "source": [
    "A_osteoblasts@meta.data$CellType_d <- Idents(A_osteoblasts)"
   ]
  },
  {
   "cell_type": "code",
   "execution_count": null,
   "id": "ceab876a-5362-4274-824b-6cfc1f5b6afd",
   "metadata": {},
   "outputs": [],
   "source": [
    "A_osteoblasts@meta.data$CellType_d <- as.character(A_osteoblasts@meta.data$CellType_d)\n",
    "\n",
    "A_osteoblasts@meta.data$CellType_d[A_osteoblasts@meta.data$CellType_d == '0'] <- 'LepR+ BMSCs'\n",
    "A_osteoblasts@meta.data$CellType_d[A_osteoblasts@meta.data$CellType_d == '1'] <- 'osteoprogenitors'\n",
    "A_osteoblasts@meta.data$CellType_d[A_osteoblasts@meta.data$CellType_d == '2'] <- 'Fibroblasts'\n",
    "A_osteoblasts@meta.data$CellType_d[A_osteoblasts@meta.data$CellType_d == '3'] <- 'Periosteal progenitors'\n",
    "A_osteoblasts@meta.data$CellType_d[A_osteoblasts@meta.data$CellType_d == '4'] <- 'Periosteal progenitors'\n",
    "A_osteoblasts@meta.data$CellType_d[A_osteoblasts@meta.data$CellType_d == '5'] <- 'Osteoblasts'\n",
    "A_osteoblasts@meta.data$CellType_d[A_osteoblasts@meta.data$CellType_d == '6'] <- 'Periosteum'\n",
    "A_osteoblasts@meta.data$CellType_d[A_osteoblasts@meta.data$CellType_d == '7'] <- 'Osteoprogenitors'\n",
    "A_osteoblasts@meta.data$CellType_d[A_osteoblasts@meta.data$CellType_d == '8'] <- 'Fast proliferating osteoblasts'\n",
    "A_osteoblasts@meta.data$CellType_d[A_osteoblasts@meta.data$CellType_d == '9'] <- 'Periosteal progenitors'\n",
    "A_osteoblasts@meta.data$CellType_d[A_osteoblasts@meta.data$CellType_d == '10'] <- 'Periosteal progenitors'\n",
    "A_osteoblasts@meta.data$CellType_d[A_osteoblasts@meta.data$CellType_d == '11'] <- 'Osteocytes'\n",
    "A_osteoblasts@meta.data$CellType_d[A_osteoblasts@meta.data$CellType_d == '12'] <- 'Osteocytes'\n",
    "A_osteoblasts@meta.data$CellType_d[A_osteoblasts@meta.data$CellType_d == '13'] <- 'BMSCs'\n",
    "\n",
    "A_osteoblasts@meta.data$CellType_d <- as.factor(A_osteoblasts@meta.data$CellType_d)"
   ]
  },
  {
   "cell_type": "markdown",
   "id": "52f43fd0-dc35-46c0-aed4-88bb1f15051c",
   "metadata": {
    "tags": []
   },
   "source": [
    "#### 3.4.2. Refinement of global annotations<a id=\"13.2\"></a>\n",
    "##### 3.4.2.1. Subsetting endothelial clusters<a id=\"14\"></a>"
   ]
  },
  {
   "cell_type": "code",
   "execution_count": null,
   "id": "484645cc-ca17-4293-bce4-80bcddef0ccb",
   "metadata": {},
   "outputs": [],
   "source": [
    "A_EC <- subset(A, idents = c(\"EC\"))"
   ]
  },
  {
   "cell_type": "code",
   "execution_count": null,
   "id": "bf7f37e2-c401-4148-a143-b8d446c1b1da",
   "metadata": {},
   "outputs": [],
   "source": [
    "A_EC"
   ]
  },
  {
   "cell_type": "code",
   "execution_count": null,
   "id": "f362096b-3613-4b1f-965a-d2c5b70bae57",
   "metadata": {},
   "outputs": [],
   "source": [
    "A_EC <- ScaleData(A_EC)"
   ]
  },
  {
   "cell_type": "code",
   "execution_count": null,
   "id": "1e5ea457-f8ee-4553-b1f4-1a64826033d7",
   "metadata": {},
   "outputs": [],
   "source": [
    "A_EC <- RunPCA(A_EC, features = VariableFeatures(object = A_EC), verbose = FALSE)"
   ]
  },
  {
   "cell_type": "code",
   "execution_count": null,
   "id": "cb3bf38c-6783-46d5-8b13-3966b03d6751",
   "metadata": {},
   "outputs": [],
   "source": [
    "ElbowPlot(A_EC, 50)"
   ]
  },
  {
   "cell_type": "code",
   "execution_count": null,
   "id": "c387c51a-8c33-446b-a8de-022d85784c36",
   "metadata": {
    "scrolled": true
   },
   "outputs": [],
   "source": [
    "A_EC <- FindNeighbors(A_EC, dims = 1:25, verbose = FALSE)\n",
    "A_EC <- FindClusters(A_EC, resolution = 0.8, verbose = FALSE)"
   ]
  },
  {
   "cell_type": "code",
   "execution_count": null,
   "id": "7d6a4648-4b00-4403-8e28-73279cd3142f",
   "metadata": {
    "scrolled": true
   },
   "outputs": [],
   "source": [
    "A_EC <- RunUMAP(A_EC, dims = 1:25, n.neighbors = 12, verbose = FALSE)"
   ]
  },
  {
   "cell_type": "code",
   "execution_count": null,
   "id": "afa0a33a-d248-4042-a15b-b12a4c79c73b",
   "metadata": {},
   "outputs": [],
   "source": [
    "options(repr.plot.width = 10, repr.plot.height = 8)\n",
    "DimPlot(A_EC, reduction = \"umap\", label=TRUE) + xlab(\"UMAP 1\") + ylab(\"UMAP 2\")\n",
    "\n",
    "#ggsave(\"./6-kmita/images/E10_5_m_no_annotation.png\" ,width=10, height=8)"
   ]
  },
  {
   "cell_type": "code",
   "execution_count": null,
   "id": "806120c4-3d13-4f9f-97d8-3df4ce27d583",
   "metadata": {
    "tags": []
   },
   "outputs": [],
   "source": [
    "A_osteoblasts.markers <- FindAllMarkers(A_osteoblasts)"
   ]
  },
  {
   "cell_type": "code",
   "execution_count": null,
   "id": "f8aa752f-3254-4505-a88a-8954e5eb0950",
   "metadata": {},
   "outputs": [],
   "source": [
    "write.csv(A_osteoblasts.markers, file = \"Scadden_osteoblast.markers.csv\", quote = FALSE)"
   ]
  },
  {
   "cell_type": "code",
   "execution_count": null,
   "id": "cc6a1d32-3de4-47fb-b824-f48eb522fa91",
   "metadata": {},
   "outputs": [],
   "source": [
    "# Periosteum\n",
    "options(repr.plot.width = 18, repr.plot.height = 12)\n",
    "\n",
    "p1 <- DimPlot(A_EC, label = TRUE) + NoLegend() + xlab(\"UMAP 1\") + ylab(\"UMAP 2\")\n",
    "p2 <- FeaturePlot(A_EC, c(\"Pecam\",\"Cdh5\",\"Lyve1\"), min.cutoff = \"q1\")  \n",
    "\n",
    "p1 + p2"
   ]
  },
  {
   "cell_type": "code",
   "execution_count": null,
   "id": "6accbc7d-f661-4f4e-935d-822005d934f6",
   "metadata": {},
   "outputs": [],
   "source": [
    "A_EC@meta.data$CellType_d <- Idents(A_EC)"
   ]
  },
  {
   "cell_type": "code",
   "execution_count": null,
   "id": "2e766ae3-0507-40a6-ba8c-c6c2b8bad322",
   "metadata": {},
   "outputs": [],
   "source": [
    "A_EC@meta.data$CellType_d <- as.character(A_EC@meta.data$CellType_d)\n",
    "\n",
    "A_EC@meta.data$CellType_d[A_EC@meta.data$CellType_d == '0'] <- 'Vascular endothelial cells'\n",
    "A_EC@meta.data$CellType_d[A_EC@meta.data$CellType_d == '1'] <- 'Vascular endothelial cells'\n",
    "A_EC@meta.data$CellType_d[A_EC@meta.data$CellType_d == '2'] <- 'Vascular endothelial cells'\n",
    "A_EC@meta.data$CellType_d[A_EC@meta.data$CellType_d == '3'] <- 'Vascular endothelial cells'\n",
    "A_EC@meta.data$CellType_d[A_EC@meta.data$CellType_d == '4'] <- 'Vascular endothelial cells'\n",
    "A_EC@meta.data$CellType_d[A_EC@meta.data$CellType_d == '5'] <- 'Vascular endothelial cells'\n",
    "A_EC@meta.data$CellType_d[A_EC@meta.data$CellType_d == '6'] <- 'Vascular endothelial cells'\n",
    "A_EC@meta.data$CellType_d[A_EC@meta.data$CellType_d == '7'] <- 'Vascular endothelial cells'\n",
    "A_EC@meta.data$CellType_d[A_EC@meta.data$CellType_d == '8'] <- 'Vascular endothelial cells'\n",
    "A_EC@meta.data$CellType_d[A_EC@meta.data$CellType_d == '9'] <- 'Vascular endothelial cells'\n",
    "A_EC@meta.data$CellType_d[A_EC@meta.data$CellType_d == '10'] <- 'Lymphatic endothelial cells'\n",
    "\n",
    "\n",
    "A_EC@meta.data$CellType_d <- as.factor(A_EC@meta.data$CellType_d)"
   ]
  },
  {
   "cell_type": "markdown",
   "id": "d94ded51-1a07-43bd-b050-d1316dac8832",
   "metadata": {
    "tags": []
   },
   "source": [
    "#### 3.4.2. Updating annotations<a id=\"16\"></a>"
   ]
  },
  {
   "cell_type": "code",
   "execution_count": null,
   "id": "dbf9e4f4-0b33-4d5e-bcd3-a1a88700be10",
   "metadata": {},
   "outputs": [],
   "source": [
    "meta1 <- A@meta.data\n",
    "meta2 <- A_chondrocytes@meta.data"
   ]
  },
  {
   "cell_type": "code",
   "execution_count": null,
   "id": "3bac6127-feda-4bc6-b753-f441af507305",
   "metadata": {},
   "outputs": [],
   "source": [
    "df <- split(meta1, meta1$CellType)"
   ]
  },
  {
   "cell_type": "code",
   "execution_count": null,
   "id": "9286b15c-19b9-4bde-ade6-a5a340c2ca3e",
   "metadata": {},
   "outputs": [],
   "source": [
    "chondro <- rownames(df$Chondrocytes)"
   ]
  },
  {
   "cell_type": "code",
   "execution_count": null,
   "id": "f3f2a4c9-42e8-43d6-ae7d-9d5f7af41f86",
   "metadata": {},
   "outputs": [],
   "source": [
    "chondro_meta <- meta2[chondro, c(\"CellType_d\",\"Author\")]\n",
    "chondro_meta$Author<- NULL\n",
    "\n",
    "head(chondro_meta)"
   ]
  },
  {
   "cell_type": "code",
   "execution_count": null,
   "id": "30d1dd21-3bac-43ec-9041-8c274e641b55",
   "metadata": {},
   "outputs": [],
   "source": [
    "df$Chondrocytes <- cbind(df$Chondrocytes, chondro_meta)\n",
    "df$Chondrocytes$CellType <- df$Chondrocytes$CellType_d\n",
    "df$Chondrocytes$CellType_d <- NULL"
   ]
  },
  {
   "cell_type": "code",
   "execution_count": null,
   "id": "71a2dc95-07c1-4d9f-b07f-0b1f8f9378db",
   "metadata": {},
   "outputs": [],
   "source": [
    "mesen <- rownames(df$EC)"
   ]
  },
  {
   "cell_type": "code",
   "execution_count": null,
   "id": "c94e7300-c735-4ffd-9d71-171b19952313",
   "metadata": {},
   "outputs": [],
   "source": [
    "meta2 <- A_EC@meta.data\n",
    "mesenmeta <- meta2[mesen, c(\"CellType_d\", \"Author\")]\n",
    "mesenmeta$Author <- NULL\n",
    "\n",
    "head(mesenmeta)"
   ]
  },
  {
   "cell_type": "code",
   "execution_count": null,
   "id": "e3db1968-918e-4938-8178-24a8e6eb312a",
   "metadata": {},
   "outputs": [],
   "source": [
    "df$EC <- cbind(df$EC, mesenmeta)\n",
    "df$EC$CellType <- df$EC$CellType_d\n",
    "df$EC$CellType_d <- NULL"
   ]
  },
  {
   "cell_type": "code",
   "execution_count": null,
   "id": "f8375df7-14ca-464a-ae4d-a642f81c1191",
   "metadata": {},
   "outputs": [],
   "source": [
    "osteo <- rownames(df$Osteoblasts)"
   ]
  },
  {
   "cell_type": "code",
   "execution_count": null,
   "id": "dc18ab80-69f8-48b6-a555-338429d6b043",
   "metadata": {},
   "outputs": [],
   "source": [
    "meta2 <- A_osteoblasts@meta.data\n",
    "osteometa <- meta2[osteo, c(\"CellType_d\", \"Author\")]\n",
    "osteometa$Author <- NULL\n",
    "\n",
    "head(osteometa)"
   ]
  },
  {
   "cell_type": "code",
   "execution_count": null,
   "id": "f904e94a-cf0d-4d29-a577-56f7e1735cf6",
   "metadata": {},
   "outputs": [],
   "source": [
    "df$Osteoblasts <- cbind(df$Osteoblasts, osteometa)\n",
    "df$Osteoblasts$CellType <- df$Osteoblasts$CellType_d\n",
    "df$Osteoblasts$CellType_d <- NULL"
   ]
  },
  {
   "cell_type": "code",
   "execution_count": null,
   "id": "977b4d13-af3f-4a0b-9add-cf61f8dc4612",
   "metadata": {},
   "outputs": [],
   "source": [
    "df$Chondrocytes$Barcode = rownames(df$Chondrocytes)\n",
    "\n",
    "df$Osteoblasts$Barcode = rownames(df$Osteoblasts)\n",
    "\n",
    "df$EC$Barcode = rownames(df$EC)\n"
   ]
  },
  {
   "cell_type": "code",
   "execution_count": null,
   "id": "7727d8c2-7f31-434f-8762-9179834a4abc",
   "metadata": {},
   "outputs": [],
   "source": [
    "str(df)"
   ]
  },
  {
   "cell_type": "code",
   "execution_count": null,
   "id": "d3fa2c10-0007-4248-9834-a23f2f770e51",
   "metadata": {},
   "outputs": [],
   "source": [
    "names(df)"
   ]
  },
  {
   "cell_type": "code",
   "execution_count": null,
   "id": "419f8218-3cc0-4438-a10c-607b2aeecc43",
   "metadata": {},
   "outputs": [],
   "source": [
    "df$Fibroblasts$Barcode <- rownames(df$Fibroblasts)\n",
    "df$`LepR + BMSCs`$Barcode <- rownames(df$`LepR + BMSCs`)\n",
    "df$BMSCs$Barcode <- rownames(df$BMSCs)\n",
    "\n",
    "df$`Perivascular cells`$Barcode <- rownames(df$`Perivascular cells`)\n",
    "df$Tenocytes$Barcode <- rownames(df$Tenocytes)\n"
   ]
  },
  {
   "cell_type": "code",
   "execution_count": null,
   "id": "7477acf5-254a-4853-b97f-50f6b162aff9",
   "metadata": {
    "tags": []
   },
   "outputs": [],
   "source": [
    "meta.data <- do.call(rbind, df)\n",
    "rownames(meta.data) = meta.data$Barcode\n",
    "meta.data$Barcode <- NULL"
   ]
  },
  {
   "cell_type": "code",
   "execution_count": null,
   "id": "56d2b0ec-d0b3-4f51-8023-9e8ca7526e78",
   "metadata": {},
   "outputs": [],
   "source": [
    "dim(A@meta.data)\n",
    "dim(meta.data)"
   ]
  },
  {
   "cell_type": "code",
   "execution_count": null,
   "id": "f70f5eae-b0ac-435a-8b1c-e72de2f474fa",
   "metadata": {},
   "outputs": [],
   "source": [
    "target <- rownames(A@meta.data)\n",
    "meta.data <- meta.data[match(target, rownames(meta.data)),]"
   ]
  },
  {
   "cell_type": "code",
   "execution_count": null,
   "id": "82022cf1-f987-4322-b562-0fe2554b8a5d",
   "metadata": {},
   "outputs": [],
   "source": [
    "A@meta.data = meta.data"
   ]
  },
  {
   "cell_type": "markdown",
   "id": "8eb178ad-1e27-4aff-a530-11b51a3074da",
   "metadata": {
    "tags": []
   },
   "source": [
    "#### 5.4.3. Finalized embedding and annotation<a id=\"37\"></a>"
   ]
  },
  {
   "cell_type": "code",
   "execution_count": null,
   "id": "8c8e26c3-8b1f-4dda-9c18-e67e4560e681",
   "metadata": {},
   "outputs": [],
   "source": [
    "options(repr.plot.width=12)\n",
    "DimPlot(A, group.by = \"CellType\", label = FALSE, repel = TRUE) + xlab(\"UMAP 1\") + ylab(\"UMAP 2\")\n"
   ]
  },
  {
   "cell_type": "code",
   "execution_count": null,
   "id": "ac77e684-e18c-4bb1-a634-dd1bf4e3e703",
   "metadata": {},
   "outputs": [],
   "source": []
  },
  {
   "cell_type": "code",
   "execution_count": null,
   "id": "42b1dc85-c905-4338-950a-3b8e9f9330ac",
   "metadata": {},
   "outputs": [],
   "source": [
    "Idents(A) <- A$CellType"
   ]
  },
  {
   "cell_type": "code",
   "execution_count": null,
   "id": "9648e601-6230-4787-b4d1-ff20a24ab046",
   "metadata": {},
   "outputs": [],
   "source": [
    "A <- RenameIdents(object = A, `LepR + BMSCs` = \"LepR+ BMSCs\")\n",
    "A <- RenameIdents(object = A, `osteoprogenitors` = \"Osteoprogenitors\")"
   ]
  },
  {
   "cell_type": "code",
   "execution_count": null,
   "id": "f2453d6b-1532-4e17-b8f1-fe49135d899c",
   "metadata": {},
   "outputs": [],
   "source": [
    "A$CellType <- Idents(A)"
   ]
  },
  {
   "cell_type": "code",
   "execution_count": null,
   "id": "3ed0dca1-d0e2-411d-9b3e-d450ebf3c6bb",
   "metadata": {},
   "outputs": [],
   "source": [
    "options(repr.plot.width=12)\n",
    "DimPlot(A, group.by = \"CellType\", label = FALSE, repel = TRUE) + xlab(\"UMAP 1\") + ylab(\"UMAP 2\")\n"
   ]
  },
  {
   "cell_type": "code",
   "execution_count": null,
   "id": "75e8355b-8374-445a-bb60-130ef018c5e7",
   "metadata": {},
   "outputs": [],
   "source": [
    "saveRDS(A, file = \"/home/jovyan/researcher_home/Documents/Tom/Atlas/data/SCA_core/Scadden/Scadden_annotated_20_08_2024.Rds\")"
   ]
  }
 ],
 "metadata": {
  "kernelspec": {
   "display_name": "R [conda env:base] *",
   "language": "R",
   "name": "conda-base-r"
  },
  "language_info": {
   "codemirror_mode": "r",
   "file_extension": ".r",
   "mimetype": "text/x-r-source",
   "name": "R",
   "pygments_lexer": "r",
   "version": "4.3.2"
  }
 },
 "nbformat": 4,
 "nbformat_minor": 5
}
