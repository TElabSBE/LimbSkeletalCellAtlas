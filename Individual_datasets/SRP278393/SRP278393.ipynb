{
 "cells": [
  {
   "cell_type": "markdown",
   "id": "9428269d-1516-4ffd-9ff1-5f2e951fefc7",
   "metadata": {
    "tags": []
   },
   "source": [
    "# Adams\n"
   ]
  },
  {
   "cell_type": "markdown",
   "id": "96f5b794-fcea-4439-b517-3249b58e217b",
   "metadata": {},
   "source": [
    "## 0. Setting up workenvironment<a id=\"0\"></a>"
   ]
  },
  {
   "cell_type": "code",
   "execution_count": null,
   "id": "5f3975cb-d759-41f0-8d99-8dd24fd21a7f",
   "metadata": {},
   "outputs": [],
   "source": [
    "suppressPackageStartupMessages({\n",
    "    library(DropletUtils)\n",
    "    library(SingleCellExperiment)\n",
    "    library(scuttle)\n",
    "    library(Seurat)\n",
    "    library(SeuratWrappers)\n",
    "    library(stringr)\n",
    "    library(dplyr)\n",
    "    library(data.table)\n",
    "    library(Matrix)\n",
    "    library(patchwork)\n",
    "    library(ggplot2)\n",
    "})\n",
    "\n",
    "options(repr.plot.width = 16, repr.plot.height = 8)"
   ]
  },
  {
   "cell_type": "markdown",
   "id": "5eb7ef10-c19f-47ee-9cab-2c448ca9ddce",
   "metadata": {
    "tags": []
   },
   "source": [
    "## Loading data"
   ]
  },
  {
   "cell_type": "markdown",
   "id": "c051db1f-7312-46c5-9c05-b9c171669cf2",
   "metadata": {
    "tags": []
   },
   "source": [
    "### 3.1. Data analysis Seurat<a id=\"9\"></a>"
   ]
  },
  {
   "cell_type": "code",
   "execution_count": null,
   "id": "0a644d72-cdab-4204-b29b-846bee46f35d",
   "metadata": {},
   "outputs": [],
   "source": [
    "A <- readRDS(file = \"Adams_forintegration.Rds\")"
   ]
  },
  {
   "cell_type": "code",
   "execution_count": null,
   "id": "5c23fa69-a1ef-4af8-a21c-9b37b3136945",
   "metadata": {},
   "outputs": [],
   "source": [
    "A@meta.data$Author = 'Adams'"
   ]
  },
  {
   "cell_type": "code",
   "execution_count": null,
   "id": "ebcb89ce-3ee2-405f-b41a-be704ca69781",
   "metadata": {},
   "outputs": [],
   "source": [
    "A@meta.data$CellType <- NULL"
   ]
  },
  {
   "cell_type": "code",
   "execution_count": null,
   "id": "10d15d39-2c13-48ac-8c24-b16cb7055667",
   "metadata": {},
   "outputs": [],
   "source": [
    "A <- NormalizeData(A, verbose = FALSE)\n",
    "A <- FindVariableFeatures(A, selection.method = \"vst\", nfeatures = 2000)\n",
    "\n",
    "# Identify the 10 most highly variable genes\n",
    "top10 <- head(VariableFeatures(A), 10)"
   ]
  },
  {
   "cell_type": "code",
   "execution_count": null,
   "id": "90728fd1-f03c-49c3-a257-ff3db52792a5",
   "metadata": {},
   "outputs": [],
   "source": [
    "all.genes <- rownames(A)\n",
    "A <- ScaleData(A, features = all.genes)"
   ]
  },
  {
   "cell_type": "code",
   "execution_count": null,
   "id": "805c4733-b3b3-46c1-a5d3-adf10c261a68",
   "metadata": {},
   "outputs": [],
   "source": [
    "A <- RunPCA(A, features = VariableFeatures(object = A), verbose = FALSE)"
   ]
  },
  {
   "cell_type": "code",
   "execution_count": null,
   "id": "557437a2-f9d2-480e-bda0-f865e8c9d941",
   "metadata": {},
   "outputs": [],
   "source": [
    "ElbowPlot(A, 50)"
   ]
  },
  {
   "cell_type": "code",
   "execution_count": null,
   "id": "67fb040f-b1ce-4dd5-8261-c8f34c6bede8",
   "metadata": {},
   "outputs": [],
   "source": [
    "A <- FindNeighbors(A, dims = 1:25)\n",
    "A<- FindClusters(A, resolution = 0.11)"
   ]
  },
  {
   "cell_type": "code",
   "execution_count": null,
   "id": "9df87299-00b7-448b-96ef-d8b9d25dd8f7",
   "metadata": {},
   "outputs": [],
   "source": [
    "A <- RunUMAP(A, dims = 1:25, n.neighbors = 12, verbose = FALSE)"
   ]
  },
  {
   "cell_type": "markdown",
   "id": "dcf4d862-1ce0-4825-a244-8cdc654ade4b",
   "metadata": {},
   "source": [
    "# Check annotation"
   ]
  },
  {
   "cell_type": "markdown",
   "id": "3f2659dd-ae4d-4fb3-b4ff-07e62ff091a9",
   "metadata": {},
   "source": [
    "### Endothelium\n",
    "Vascular EC\n",
    "Lymphatic EC"
   ]
  },
  {
   "cell_type": "code",
   "execution_count": null,
   "id": "a5262eaa-1241-447e-bc78-1fdf69a73695",
   "metadata": {},
   "outputs": [],
   "source": [
    "# Vascular endothelial cells\n",
    "options(repr.plot.width = 18, repr.plot.height = 12)\n",
    "\n",
    "p1 <- DimPlot(A, label = TRUE) + NoLegend() + xlab(\"UMAP 1\") + ylab(\"UMAP 2\")\n",
    "p2 <- FeaturePlot(A, c(\"Emcn\", \"Flt1\", \"Pecam1\",\"Cdh5\"), min.cutoff = \"q1\")  \n",
    "\n",
    "p1 + p2"
   ]
  },
  {
   "cell_type": "code",
   "execution_count": null,
   "id": "5f90fc6c-951b-48a1-826a-b6e4e20689ba",
   "metadata": {},
   "outputs": [],
   "source": [
    "# Lymphatic endothelial cells\n",
    "options(repr.plot.width = 18, repr.plot.height = 12)\n",
    "\n",
    "p1 <- DimPlot(A, label = TRUE) + NoLegend() + xlab(\"UMAP 1\") + ylab(\"UMAP 2\")\n",
    "p2 <- FeaturePlot(A, c(\"Lyve1\"), min.cutoff = \"q1\")  \n",
    "\n",
    "p1 + p2"
   ]
  },
  {
   "cell_type": "markdown",
   "id": "8c7976c3-5218-4a4a-9d01-e309c3a1618a",
   "metadata": {},
   "source": [
    "### Mesoderm"
   ]
  },
  {
   "cell_type": "code",
   "execution_count": null,
   "id": "30281785-0896-447b-b4aa-adc7724021be",
   "metadata": {},
   "outputs": [],
   "source": [
    "# Muscle progenitors\n",
    "options(repr.plot.width = 18, repr.plot.height = 12)\n",
    "\n",
    "p1 <- DimPlot(A, label = TRUE) + NoLegend() + xlab(\"UMAP 1\") + ylab(\"UMAP 2\")\n",
    "p2 <- FeaturePlot(A, c(\"Pax7\",\"Notch\",\"Itm2a\",\"Nrk\"), min.cutoff = \"q1\")  \n",
    "\n",
    "p1 + p2"
   ]
  },
  {
   "cell_type": "code",
   "execution_count": null,
   "id": "296b3158-9ffa-421f-9c6e-386f59fedce6",
   "metadata": {},
   "outputs": [],
   "source": [
    "# Myogenic Stem Cell\n",
    "options(repr.plot.width = 18, repr.plot.height = 12)\n",
    "\n",
    "p1 <- DimPlot(A, label = TRUE) + NoLegend() + xlab(\"UMAP 1\") + ylab(\"UMAP 2\")\n",
    "p2 <- FeaturePlot(A, c(\"Pax3\",\"Pdgfc\"), min.cutoff = \"q1\")  \n",
    "\n",
    "p1 + p2"
   ]
  },
  {
   "cell_type": "code",
   "execution_count": null,
   "id": "c3338d57-5b30-47f1-9156-2b778073530a",
   "metadata": {},
   "outputs": [],
   "source": [
    "# Skeletal muscle cells\n",
    "options(repr.plot.width = 18, repr.plot.height = 12)\n",
    "\n",
    "p1 <- DimPlot(A, label = TRUE) + NoLegend() + xlab(\"UMAP 1\") + ylab(\"UMAP 2\")\n",
    "p2 <- FeaturePlot(A, c(\"Myhc\",\"Tnnt1\",\"Tnnt3\"), min.cutoff = \"q1\")  \n",
    "\n",
    "p1 + p2"
   ]
  },
  {
   "cell_type": "code",
   "execution_count": null,
   "id": "f2ad536c-8510-4ce0-a3e5-bd9b39bd9177",
   "metadata": {},
   "outputs": [],
   "source": [
    "# Smooth muscle cells\n",
    "options(repr.plot.width = 18, repr.plot.height = 12)\n",
    "\n",
    "p1 <- DimPlot(A, label = TRUE) + NoLegend() + xlab(\"UMAP 1\") + ylab(\"UMAP 2\")\n",
    "p2 <- FeaturePlot(A, c(\"Acta2\"), min.cutoff = \"q1\")  \n",
    "\n",
    "p1 + p2"
   ]
  },
  {
   "cell_type": "code",
   "execution_count": null,
   "id": "a932fa66-8c31-4f3c-9544-68a297aa4f36",
   "metadata": {},
   "outputs": [],
   "source": [
    "# Tenocyte precursors\n",
    "options(repr.plot.width = 18, repr.plot.height = 12)\n",
    "\n",
    "p1 <- DimPlot(A, label = TRUE) + NoLegend() + xlab(\"UMAP 1\") + ylab(\"UMAP 2\")\n",
    "p2 <- FeaturePlot(A, c(\"Col1a1\",\"Tnmd\",\"Prrx1\",\"Prrx2\"), min.cutoff = \"q1\")  \n",
    "\n",
    "p1 + p2"
   ]
  },
  {
   "cell_type": "code",
   "execution_count": null,
   "id": "8b9b7ab9-bb95-4066-aa06-e007a37711ba",
   "metadata": {},
   "outputs": [],
   "source": [
    "# Tenocytes\n",
    "options(repr.plot.width = 18, repr.plot.height = 12)\n",
    "\n",
    "p1 <- DimPlot(A, label = TRUE) + NoLegend() + xlab(\"UMAP 1\") + ylab(\"UMAP 2\")\n",
    "p2 <- FeaturePlot(A, c(\"Scx\",\"Tnmd\"), min.cutoff = \"q1\")  \n",
    "\n",
    "p1 + p2"
   ]
  },
  {
   "cell_type": "code",
   "execution_count": null,
   "id": "9e0fb89b",
   "metadata": {},
   "outputs": [],
   "source": [
    "# Pericytes\n",
    "options(repr.plot.width = 18, repr.plot.height = 12)\n",
    "\n",
    "p1 <- DimPlot(A, label = TRUE) + NoLegend() + xlab(\"UMAP 1\") + ylab(\"UMAP 2\")\n",
    "p2 <- FeaturePlot(A, c(\"Mcam\", \"Cspg4\", \"Pdgfrb\", \"Slpi\",\"Vcam\", \"Rgs5\",\"Dlk1\", \"Acta2\"), min.cutoff = \"q1\")  \n",
    "\n",
    "p1 + p2"
   ]
  },
  {
   "cell_type": "code",
   "execution_count": null,
   "id": "90561d8c",
   "metadata": {},
   "outputs": [],
   "source": [
    "# Fibroblast\n",
    "options(repr.plot.width = 18, repr.plot.height = 12)\n",
    "\n",
    "p1 <- DimPlot(A, label = TRUE) + NoLegend() + xlab(\"UMAP 1\") + ylab(\"UMAP 2\")\n",
    "p2 <- FeaturePlot(A, c(\"Col1a1\",\"Fn1\",\"S100a4\",\"Dcn\"), min.cutoff = \"q1\")  \n",
    "\n",
    "p1 + p2"
   ]
  },
  {
   "cell_type": "code",
   "execution_count": null,
   "id": "bcb9f81b",
   "metadata": {},
   "outputs": [],
   "source": [
    "# Synovial Fibroblasts\n",
    "options(repr.plot.width = 18, repr.plot.height = 12)\n",
    "\n",
    "p1 <- DimPlot(A, label = TRUE) + NoLegend() + xlab(\"UMAP 1\") + ylab(\"UMAP 2\")\n",
    "p2 <- FeaturePlot(A, c(\"Dkk1\"), min.cutoff = \"q1\")  \n",
    "\n",
    "p1 + p2"
   ]
  },
  {
   "cell_type": "code",
   "execution_count": null,
   "id": "ff04557b",
   "metadata": {},
   "outputs": [],
   "source": [
    "# Osteoprogenitors\n",
    "options(repr.plot.width = 18, repr.plot.height = 12)\n",
    "\n",
    "p1 <- DimPlot(A, label = TRUE) + NoLegend() + xlab(\"UMAP 1\") + ylab(\"UMAP 2\")\n",
    "p2 <- FeaturePlot(A, c(\"Sp7\",\"Runx2\"), min.cutoff = \"q1\")  \n",
    "\n",
    "p1 + p2"
   ]
  },
  {
   "cell_type": "code",
   "execution_count": null,
   "id": "3914a8d9",
   "metadata": {},
   "outputs": [],
   "source": [
    "# ozsteoblast\n",
    "options(repr.plot.width = 18, repr.plot.height = 12)\n",
    "\n",
    "p1 <- DimPlot(A, label = TRUE) + NoLegend() + xlab(\"UMAP 1\") + ylab(\"UMAP 2\")\n",
    "p2 <- FeaturePlot(A, c(\"Runx2\",\"Bglap\",\"Lef1\",\"Lef1\",\"Ibsp\"), min.cutoff = \"q1\")  \n",
    "\n",
    "p1 + p2"
   ]
  },
  {
   "cell_type": "code",
   "execution_count": null,
   "id": "5355b8e2",
   "metadata": {},
   "outputs": [],
   "source": [
    "# osteocytes\n",
    "options(repr.plot.width = 18, repr.plot.height = 12)\n",
    "\n",
    "p1 <- DimPlot(A, label = TRUE) + NoLegend() + xlab(\"UMAP 1\") + ylab(\"UMAP 2\")\n",
    "p2 <- FeaturePlot(A, c(\"Dmp1\"), min.cutoff = \"q1\")  \n",
    "\n",
    "p1 + p2"
   ]
  },
  {
   "cell_type": "code",
   "execution_count": null,
   "id": "5257a42f",
   "metadata": {},
   "outputs": [],
   "source": [
    "# Periosteum\n",
    "options(repr.plot.width = 18, repr.plot.height = 12)\n",
    "\n",
    "p1 <- DimPlot(A, label = TRUE) + NoLegend() + xlab(\"UMAP 1\") + ylab(\"UMAP 2\")\n",
    "p2 <- FeaturePlot(A, c(\"Postn\",\"Wnt16\",'Ctsk'), min.cutoff = \"q1\")  \n",
    "\n",
    "p1 + p2"
   ]
  },
  {
   "cell_type": "code",
   "execution_count": null,
   "id": "a79f7e13",
   "metadata": {},
   "outputs": [],
   "source": [
    "# Periosteal stem cell\n",
    "options(repr.plot.width = 18, repr.plot.height = 12)\n",
    "\n",
    "p1 <- DimPlot(A, label = TRUE) + NoLegend() + xlab(\"UMAP 1\") + ylab(\"UMAP 2\")\n",
    "p2 <- FeaturePlot(A, c(\"Pdpn\",\"Cd164\",\"Nt5e\",\"Mcam\",\"Ctsk\"), min.cutoff = \"q1\")  \n",
    "\n",
    "p1 + p2"
   ]
  },
  {
   "cell_type": "code",
   "execution_count": null,
   "id": "74d6b243",
   "metadata": {},
   "outputs": [],
   "source": [
    "# Periosteal progenitors\n",
    "options(repr.plot.width = 18, repr.plot.height = 12)\n",
    "\n",
    "p1 <- DimPlot(A, label = TRUE) + NoLegend() + xlab(\"UMAP 1\") + ylab(\"UMAP 2\")\n",
    "p2 <- FeaturePlot(A, c(\"Sp7\",\"Col5a1\",'Ctsk'), min.cutoff = \"q1\")  \n",
    "\n",
    "p1 + p2"
   ]
  },
  {
   "cell_type": "code",
   "execution_count": null,
   "id": "00045ed3",
   "metadata": {},
   "outputs": [],
   "source": [
    "# Chondroprogenitors\n",
    "options(repr.plot.width = 18, repr.plot.height = 12)\n",
    "\n",
    "p1 <- DimPlot(A, label = TRUE) + NoLegend() + xlab(\"UMAP 1\") + ylab(\"UMAP 2\")\n",
    "p2 <- FeaturePlot(A, c(\"Prrx1\",\"prrx2\",\"Sox9\",\"Col2a1\"), min.cutoff = \"q1\")  \n",
    "\n",
    "p1 + p2"
   ]
  },
  {
   "cell_type": "code",
   "execution_count": null,
   "id": "c1ebf79e",
   "metadata": {},
   "outputs": [],
   "source": [
    "#articular chondropcytes\n",
    "options(repr.plot.width = 18, repr.plot.height = 12)\n",
    "\n",
    "p1 <- DimPlot(A, label = TRUE) + NoLegend() + xlab(\"UMAP 1\") + ylab(\"UMAP 2\")\n",
    "p2 <- FeaturePlot(A, c(\"Sox9\",\"Prg4\"), min.cutoff = \"q1\")  \n",
    "\n",
    "p1 + p2"
   ]
  },
  {
   "cell_type": "code",
   "execution_count": null,
   "id": "2f4ce3d4",
   "metadata": {},
   "outputs": [],
   "source": [
    "# Resting zone chondrocytes\n",
    "options(repr.plot.width = 18, repr.plot.height = 12)\n",
    "\n",
    "p1 <- DimPlot(A, label = TRUE) + NoLegend() + xlab(\"UMAP 1\") + ylab(\"UMAP 2\")\n",
    "p2 <- FeaturePlot(A, c(\"Fgfr3\", \"Pthlh\", \"Sfrp5\", \"Spon1\", \"Col2a1\"), min.cutoff = \"q1\")  \n",
    "\n",
    "p1 + p2"
   ]
  },
  {
   "cell_type": "code",
   "execution_count": null,
   "id": "2479f872",
   "metadata": {},
   "outputs": [],
   "source": [
    "# Proliferative chondrocytes\n",
    "options(repr.plot.width = 18, repr.plot.height = 12)\n",
    "\n",
    "p1 <- DimPlot(A, label = TRUE) + NoLegend() + xlab(\"UMAP 1\") + ylab(\"UMAP 2\")\n",
    "p2 <- FeaturePlot(A, c(\"Mki67\", \"Top2a\", \"Pth1r\", \"Sox9\", \"Col2a1\"), min.cutoff = \"q1\")  \n",
    "\n",
    "p1 + p2"
   ]
  },
  {
   "cell_type": "code",
   "execution_count": null,
   "id": "feb3ea8c",
   "metadata": {},
   "outputs": [],
   "source": [
    "# Pre-hypertrophic\n",
    "options(repr.plot.width = 18, repr.plot.height = 12)\n",
    "\n",
    "p1 <- DimPlot(A, label = TRUE) + NoLegend() + xlab(\"UMAP 1\") + ylab(\"UMAP 2\")\n",
    "p2 <- FeaturePlot(A, c(\"Ihh\", \"Ppa1\", \"Smpd3\", \"Col2a1\"), min.cutoff = \"q1\")  \n",
    "\n",
    "p1 + p2"
   ]
  },
  {
   "cell_type": "code",
   "execution_count": null,
   "id": "a1dc3258",
   "metadata": {},
   "outputs": [],
   "source": [
    "# hyêrtrophicc\n",
    "options(repr.plot.width = 18, repr.plot.height = 12)\n",
    "\n",
    "p1 <- DimPlot(A, label = TRUE) + NoLegend() + xlab(\"UMAP 1\") + ylab(\"UMAP 2\")\n",
    "p2 <- FeaturePlot(A, c(\"Col10a1\", \"Mmp13\", \"Ibsp\", \"Col2a1\"), min.cutoff = \"q1\")  \n",
    "\n",
    "p1 + p2"
   ]
  },
  {
   "cell_type": "code",
   "execution_count": null,
   "id": "d3f0e692",
   "metadata": {},
   "outputs": [],
   "source": [
    "# Adipocytes\n",
    "options(repr.plot.width = 18, repr.plot.height = 12)\n",
    "\n",
    "p1 <- DimPlot(A, label = TRUE) + NoLegend() + xlab(\"UMAP 1\") + ylab(\"UMAP 2\")\n",
    "p2 <- FeaturePlot(A, c(\"Pparg\",\"Adipoq\",\"Lepr\"), min.cutoff = \"q1\")  \n",
    "\n",
    "p1 + p2"
   ]
  },
  {
   "cell_type": "code",
   "execution_count": null,
   "id": "74191e73",
   "metadata": {},
   "outputs": [],
   "source": [
    "# SSPC\n",
    "options(repr.plot.width = 18, repr.plot.height = 12)\n",
    "\n",
    "p1 <- DimPlot(A, label = TRUE) + NoLegend() + xlab(\"UMAP 1\") + ylab(\"UMAP 2\")\n",
    "p2 <- FeaturePlot(A, c(\"Pdnd\",\"Cd164\",\"Nt5e\",\"Mcam\"), min.cutoff = \"q1\")  \n",
    "\n",
    "p1 + p2"
   ]
  },
  {
   "cell_type": "code",
   "execution_count": null,
   "id": "9cae27e6",
   "metadata": {},
   "outputs": [],
   "source": [
    "# Skin\n",
    "options(repr.plot.width = 18, repr.plot.height = 12)\n",
    "\n",
    "p1 <- DimPlot(A, label = TRUE) + NoLegend() + xlab(\"UMAP 1\") + ylab(\"UMAP 2\")\n",
    "p2 <- FeaturePlot(A, c(\"Kera\",\"Krt10\",\"Krt4\"), min.cutoff = \"q1\")  \n",
    "\n",
    "p1 + p2"
   ]
  },
  {
   "cell_type": "code",
   "execution_count": null,
   "id": "137e3197",
   "metadata": {},
   "outputs": [],
   "source": [
    "# Erythroid cells\n",
    "options(repr.plot.width = 18, repr.plot.height = 12)\n",
    "\n",
    "p1 <- DimPlot(A, label = TRUE) + NoLegend() + xlab(\"UMAP 1\") + ylab(\"UMAP 2\")\n",
    "p2 <- FeaturePlot(A, c(\"Gypa\", \"Car2\"), min.cutoff = \"q1\")  \n",
    "\n",
    "p1 + p2"
   ]
  },
  {
   "cell_type": "code",
   "execution_count": null,
   "id": "f3435127",
   "metadata": {},
   "outputs": [],
   "source": [
    "# Platelets\n",
    "options(repr.plot.width = 18, repr.plot.height = 12)\n",
    "\n",
    "p1 <- DimPlot(A, label = TRUE) + NoLegend() + xlab(\"UMAP 1\") + ylab(\"UMAP 2\")\n",
    "p2 <- FeaturePlot(A, c(\"Pf4\"), min.cutoff = \"q1\")  \n",
    "\n",
    "p1 + p2"
   ]
  },
  {
   "cell_type": "code",
   "execution_count": null,
   "id": "26bea4d2",
   "metadata": {},
   "outputs": [],
   "source": [
    "# Immune\n",
    "options(repr.plot.width = 18, repr.plot.height = 12)\n",
    "\n",
    "p1 <- DimPlot(A, label = TRUE) + NoLegend() + xlab(\"UMAP 1\") + ylab(\"UMAP 2\")\n",
    "p2 <- FeaturePlot(A, c(\"Cd3g\",\"ms4a1\",\"Camp\",\"Elane\",\"Ccr2\",\"Cd68\",\"Mcpt8\"), min.cutoff = \"q1\")  \n",
    "\n",
    "p1 + p2"
   ]
  },
  {
   "cell_type": "code",
   "execution_count": null,
   "id": "604fa450-2794-4f4d-b871-63e4cee54485",
   "metadata": {},
   "outputs": [],
   "source": []
  },
  {
   "cell_type": "markdown",
   "id": "77550f97-7363-4c02-b430-e700014f9cc4",
   "metadata": {
    "tags": []
   },
   "source": [
    "### 3.4. Differential expression analysis<a id=\"12\"></a>\n",
    "#### 3.4.1. Global annotation by differential expression analysis<a id=\"13\"></a>\n",
    "\n",
    "Seurat identifies markers that define clusters via differential expression. By default, it identifes positive and negative markers of a single cluster (specified in ident.1), compared to all other cells. `FindAllMarkers` automates this process for all clusters, but it is possible to test groups of clusters vs. each other, or against all cells.\n",
    "\n",
    "The `min.pct` argument requires a feature to be detected at a minimum percentage in either of the two groups of cells, and the `thresh.test` argument requires a feature to be differentially expressed (on average) by some amount between the two groups. You can set both of these to 0, but with a dramatic increase in time - since this will test a large number of features that are unlikely to be highly discriminatory. As another option to speed up these computations, `max.cells.per.ident` can be set. This will downsample each identity class to have no more cells than whatever this is set to. While there is generally going to be a loss in power, the speed increases can be significiant and the most highly differentially expressed features will likely still rise to the top."
   ]
  },
  {
   "cell_type": "code",
   "execution_count": null,
   "id": "65ff73a6-1ee8-4a79-a66e-8726e996689f",
   "metadata": {},
   "outputs": [],
   "source": [
    "# Seurat default settings\n",
    "A.markers <- FindAllMarkers(A, only.pos = TRUE, min.pct = 0.25, logfc.threshold = 0.25)"
   ]
  },
  {
   "cell_type": "code",
   "execution_count": null,
   "id": "9cde1d3f-2348-4b6d-a1d8-c8dcc1768c55",
   "metadata": {},
   "outputs": [],
   "source": [
    "#dir.create(\"./6-kmita/analysis\")\n",
    "write.csv(A.markers, file = \"A.markers.csv\", quote = FALSE)"
   ]
  },
  {
   "cell_type": "markdown",
   "id": "072fb790-b292-4842-ac3e-78fe274d823b",
   "metadata": {},
   "source": [
    "**Adding cell types**"
   ]
  },
  {
   "cell_type": "code",
   "execution_count": null,
   "id": "6f6e04ac-3c55-4287-94f9-5c680af233f6",
   "metadata": {},
   "outputs": [],
   "source": [
    "A@meta.data$CellType <- NULL"
   ]
  },
  {
   "cell_type": "code",
   "execution_count": null,
   "id": "8ed21638-7e73-4fc4-8fb9-5c5d0933ff8c",
   "metadata": {},
   "outputs": [],
   "source": [
    "#creating column that contains cell type \n",
    "A@meta.data$CellType <- Idents(A)"
   ]
  },
  {
   "cell_type": "code",
   "execution_count": null,
   "id": "e049d19d-769f-4b20-bad5-5a8ed41fc9b8",
   "metadata": {},
   "outputs": [],
   "source": [
    "A@meta.data$CellType <- as.character(A@meta.data$CellType)\n",
    "\n",
    "A@meta.data$CellType[A@meta.data$CellType == '0'] <- 'Chondrocytes'\n",
    "A@meta.data$CellType[A@meta.data$CellType == '1'] <- 'Endothelial cells'\n",
    "A@meta.data$CellType[A@meta.data$CellType == '2'] <- 'BMSCs'\n",
    "A@meta.data$CellType[A@meta.data$CellType == '3'] <- 'Osteoblasts'\n",
    "A@meta.data$CellType[A@meta.data$CellType == '4'] <- 'Chondrocytes'\n",
    "A@meta.data$CellType[A@meta.data$CellType == '5'] <- 'Perivascular cells'\n",
    "A@meta.data$CellType[A@meta.data$CellType == '6'] <- 'Erythroid cells'\n",
    "A@meta.data$CellType[A@meta.data$CellType == '7'] <- 'Erythroid cells'\n",
    "A@meta.data$CellType[A@meta.data$CellType == '8'] <- 'Immune cells'\n",
    "A@meta.data$CellType[A@meta.data$CellType == '9'] <- 'Platelets'\n",
    "A@meta.data$CellType[A@meta.data$CellType == '10'] <- 'Tenocytes'\n",
    "\n",
    "\n",
    "A@meta.data$CellType <- as.factor(A@meta.data$CellType)"
   ]
  },
  {
   "cell_type": "code",
   "execution_count": null,
   "id": "a397fc9e-5d17-41ba-9da0-fbb9c4436454",
   "metadata": {},
   "outputs": [],
   "source": [
    "options(repr.plot.width = 10, repr.plot.height = 8)\n",
    "\n",
    "DimPlot(A, reduction = \"umap\", label = FALSE, group.by = \"CellType\") + xlab(\"UMAP 1\") + ylab(\"UMAP 2\")"
   ]
  },
  {
   "cell_type": "code",
   "execution_count": null,
   "id": "30b9703c-cfbc-4070-af46-74114b2702c2",
   "metadata": {},
   "outputs": [],
   "source": [
    "Idents(A)<-A@meta.data$CellType"
   ]
  },
  {
   "cell_type": "code",
   "execution_count": null,
   "id": "b80340a7-433a-463b-8935-5032ffb6bb5b",
   "metadata": {},
   "outputs": [],
   "source": [
    "#saveRDS(E10_5, file = \"/home/host_home/usb-drive/Thesis/Kmita/6-kmita/RDataSessions/E10_5_GlobalAnnotation_SeuratObject.Rds\")"
   ]
  },
  {
   "cell_type": "markdown",
   "id": "0f4497b0-ce67-40d4-ad32-341a6c591fdd",
   "metadata": {
    "tags": []
   },
   "source": [
    "#### 3.4.2. Refinement of global annotations<a id=\"13.2\"></a>\n",
    "##### 3.4.2.1. Subsetting mesenchymal clusters<a id=\"14\"></a>"
   ]
  },
  {
   "cell_type": "code",
   "execution_count": null,
   "id": "6ef9ce35-0bb8-45fb-a3f5-6afd1858cd17",
   "metadata": {},
   "outputs": [],
   "source": [
    "A_chondrocytes <- subset(A, idents = c(\"Chondrocytes\"))"
   ]
  },
  {
   "cell_type": "code",
   "execution_count": null,
   "id": "022dc2b2-0d54-42b4-b88a-4936330132e6",
   "metadata": {},
   "outputs": [],
   "source": [
    "A_chondrocytes"
   ]
  },
  {
   "cell_type": "code",
   "execution_count": null,
   "id": "27c6d7dc-b573-48aa-b16b-f1894bc89a90",
   "metadata": {},
   "outputs": [],
   "source": [
    "A_chondrocytes <- NormalizeData(A_chondrocytes, verbose = FALSE)"
   ]
  },
  {
   "cell_type": "code",
   "execution_count": null,
   "id": "b7805808-5461-4a9e-b42c-0108772d05ca",
   "metadata": {},
   "outputs": [],
   "source": [
    "A_chondrocytes <- ScaleData(A_chondrocytes)"
   ]
  },
  {
   "cell_type": "code",
   "execution_count": null,
   "id": "f3f69328-438b-4cf9-bf93-057a518741d4",
   "metadata": {},
   "outputs": [],
   "source": [
    "A_chondrocytes <- RunPCA(A_chondrocytes, features = VariableFeatures(object = A_chondrocytes), verbose = FALSE)"
   ]
  },
  {
   "cell_type": "code",
   "execution_count": null,
   "id": "1b2ab3b4-ce08-4b5a-a277-070d680625ca",
   "metadata": {},
   "outputs": [],
   "source": [
    "ElbowPlot(A_chondrocytes, 50)"
   ]
  },
  {
   "cell_type": "code",
   "execution_count": null,
   "id": "7935363a-257d-42fa-b9dc-4fd934ec7aa2",
   "metadata": {
    "scrolled": true
   },
   "outputs": [],
   "source": [
    "A_chondrocytes <- FindNeighbors(A_chondrocytes, dims = 1:25, verbose = FALSE)\n",
    "A_chondrocytes <- FindClusters(A_chondrocytes, resolution = 0.6, verbose = FALSE)"
   ]
  },
  {
   "cell_type": "code",
   "execution_count": null,
   "id": "d168ea76-6d00-46a1-ab8a-12ef0e1aad53",
   "metadata": {
    "scrolled": true
   },
   "outputs": [],
   "source": [
    "A_chondrocytes <- RunUMAP(A_chondrocytes, dims = 1:25, n.neighbors = 12, verbose = FALSE)"
   ]
  },
  {
   "cell_type": "code",
   "execution_count": null,
   "id": "def36dc4-081e-4e2b-aa4f-98eac2358355",
   "metadata": {},
   "outputs": [],
   "source": [
    "options(repr.plot.width = 10, repr.plot.height = 8)\n",
    "DimPlot(A_chondrocytes, reduction = \"umap\", label=TRUE) + xlab(\"UMAP 1\") + ylab(\"UMAP 2\")\n",
    "\n",
    "#ggsave(\"./6-kmita/images/E10_5_m_no_annotation.png\" ,width=10, height=8)"
   ]
  },
  {
   "cell_type": "code",
   "execution_count": null,
   "id": "12d3e42d-c29d-40b2-ad5c-6d37d22bc806",
   "metadata": {
    "tags": []
   },
   "outputs": [],
   "source": [
    "A_chondrocytes <- FindAllMarkers(A_chondrocytes)"
   ]
  },
  {
   "cell_type": "code",
   "execution_count": null,
   "id": "6640d888-b972-4063-9cff-47db6d95af6b",
   "metadata": {},
   "outputs": [],
   "source": [
    "write.csv(A_chondrocytes, file = \"A_chondrocytes.markers.csv\", quote = FALSE)"
   ]
  },
  {
   "cell_type": "code",
   "execution_count": null,
   "id": "13cdca37-20fb-4ae7-bc51-04bd07553685",
   "metadata": {},
   "outputs": [],
   "source": [
    "# Chondroprogenitors\n",
    "options(repr.plot.width = 18, repr.plot.height = 12)\n",
    "\n",
    "p1 <- DimPlot(A_chondrocytes, label = TRUE) + NoLegend() + xlab(\"UMAP 1\") + ylab(\"UMAP 2\")\n",
    "p2 <- FeaturePlot(A_chondrocytes, c(\"Prrx1\", \"Prrx2\", \"Sox9\",\"Col2a1\"), min.cutoff = \"q1\")  \n",
    "\n",
    "p1 + p2"
   ]
  },
  {
   "cell_type": "code",
   "execution_count": null,
   "id": "207272c9",
   "metadata": {},
   "outputs": [],
   "source": [
    "# Resting zone chondrocytes\n",
    "options(repr.plot.width = 18, repr.plot.height = 12)\n",
    "\n",
    "p1 <- DimPlot(A_chondrocytes, label = TRUE) + NoLegend() + xlab(\"UMAP 1\") + ylab(\"UMAP 2\")\n",
    "p2 <- FeaturePlot(A_chondrocytes, c(\"Fgfr3\", \"Pcp4\", \"Pthlh\", \"Sfrp5\", \"Spon1\"), min.cutoff = \"q1\")  \n",
    "\n",
    "p1 + p2"
   ]
  },
  {
   "cell_type": "code",
   "execution_count": null,
   "id": "f6ea1921",
   "metadata": {},
   "outputs": [],
   "source": [
    "# Proliferative chondrocytes\n",
    "options(repr.plot.width = 18, repr.plot.height = 12)\n",
    "\n",
    "p1 <- DimPlot(A_chondrocytes, label = TRUE) + NoLegend() + xlab(\"UMAP 1\") + ylab(\"UMAP 2\")\n",
    "p2 <- FeaturePlot(A_chondrocytes, c(\"Sox9\", \"Mki67\", \"Top2a\", \"Pth1r\"), min.cutoff = \"q1\")  \n",
    "\n",
    "p1 + p2"
   ]
  },
  {
   "cell_type": "code",
   "execution_count": null,
   "id": "36f78bee",
   "metadata": {},
   "outputs": [],
   "source": [
    "# Pre-hypertrophic chondrocytes\n",
    "options(repr.plot.width = 18, repr.plot.height = 12)\n",
    "\n",
    "p1 <- DimPlot(A_chondrocytes, label = TRUE) + NoLegend() + xlab(\"UMAP 1\") + ylab(\"UMAP 2\")\n",
    "p2 <- FeaturePlot(A_chondrocytes, c(\"Ihh\",\"Col10a1\", \"Ppa1\", \"Smpd3\"), min.cutoff = \"q1\")  \n",
    "\n",
    "p1 + p2"
   ]
  },
  {
   "cell_type": "code",
   "execution_count": null,
   "id": "7add2bd4",
   "metadata": {},
   "outputs": [],
   "source": [
    "# SSPC\n",
    "options(repr.plot.width = 18, repr.plot.height = 12)\n",
    "\n",
    "p1 <- DimPlot(A_chondrocytes, label = TRUE) + NoLegend() + xlab(\"UMAP 1\") + ylab(\"UMAP 2\")\n",
    "p2 <- FeaturePlot(A_chondrocytes, c(\"Lepr\",\"Pdgfrb\",'Prrx1',\"Eng\", \"Nt5e\", \"Thy1\",\"Cxcl12\",\"Sp7\",\"Adipoq\"), min.cutoff = \"q1\") \n",
    "\n",
    "p1 + p2"
   ]
  },
  {
   "cell_type": "code",
   "execution_count": null,
   "id": "95db3adb",
   "metadata": {},
   "outputs": [],
   "source": [
    "# SSPC\n",
    "options(repr.plot.width = 18, repr.plot.height = 12)\n",
    "\n",
    "p1 <- DimPlot(A_chondrocytes, label = TRUE) + NoLegend() + xlab(\"UMAP 1\") + ylab(\"UMAP 2\")\n",
    "p2 <- FeaturePlot(A_chondrocytes, c(\"Lepr\",\"Pdgfrb\",'Prrx1',\"Eng\", \"Nt5e\", \"Thy1\",\"Cxcl12\",\"Sp7\",\"Adipoq\"), min.cutoff = \"q1\") \n",
    "\n",
    "p1 + p2"
   ]
  },
  {
   "cell_type": "code",
   "execution_count": null,
   "id": "eba9be19-573e-4aa0-8eaf-ec483c21bc28",
   "metadata": {},
   "outputs": [],
   "source": [
    "# Vascular endothelial cells\n",
    "options(repr.plot.width = 18, repr.plot.height = 12)\n",
    "\n",
    "p1 <- DimPlot(A_chondrocytes, label = TRUE) + NoLegend() + xlab(\"UMAP 1\") + ylab(\"UMAP 2\")\n",
    "p2 <- FeaturePlot(A_chondrocytes, c(\"Cdh5\",\"Flt1\",\"Lyve1\",\"Prg4\",\"Car2\"), min.cutoff = \"q1\") \n",
    "\n",
    "p1 + p2"
   ]
  },
  {
   "cell_type": "code",
   "execution_count": null,
   "id": "a64f7ad3-747b-4d57-8c25-b7cd4a364b8d",
   "metadata": {},
   "outputs": [],
   "source": [
    "A_chondrocytes@meta.data$CellType_d <- Idents(A_chondrocytes)"
   ]
  },
  {
   "cell_type": "code",
   "execution_count": null,
   "id": "acf90ab3-f092-4283-8c73-dc5a50cdb952",
   "metadata": {},
   "outputs": [],
   "source": [
    "A_chondrocytes@meta.data$CellType_d <- as.character(A_chondrocytes@meta.data$CellType_d)\n",
    "\n",
    "A_chondrocytes@meta.data$CellType_d[A_chondrocytes@meta.data$CellType_d == '0'] <- 'Articular chondrocytes'\n",
    "A_chondrocytes@meta.data$CellType_d[A_chondrocytes@meta.data$CellType_d == '1'] <- 'Articular chondrocytes'\n",
    "A_chondrocytes@meta.data$CellType_d[A_chondrocytes@meta.data$CellType_d == '2'] <- 'Resting zone chondrocytes'\n",
    "A_chondrocytes@meta.data$CellType_d[A_chondrocytes@meta.data$CellType_d == '3'] <- 'Resting zone chondrocytes'\n",
    "A_chondrocytes@meta.data$CellType_d[A_chondrocytes@meta.data$CellType_d == '4'] <- 'Proliferative chondrocytes'\n",
    "A_chondrocytes@meta.data$CellType_d[A_chondrocytes@meta.data$CellType_d == '5'] <- 'Proliferative chondrocytes'\n",
    "A_chondrocytes@meta.data$CellType_d[A_chondrocytes@meta.data$CellType_d == '6'] <- 'Proliferative chondrocytes'\n",
    "A_chondrocytes@meta.data$CellType_d[A_chondrocytes@meta.data$CellType_d == '7'] <- 'Pre-hypertrophic chondrocytes'\n",
    "A_chondrocytes@meta.data$CellType_d[A_chondrocytes@meta.data$CellType_d == '8'] <- 'Resting zone chondrocytes'\n",
    "A_chondrocytes@meta.data$CellType_d[A_chondrocytes@meta.data$CellType_d == '9'] <- 'Proliferative chondrocytes'\n",
    "A_chondrocytes@meta.data$CellType_d[A_chondrocytes@meta.data$CellType_d == '10'] <- 'Hypertrophic chondrocytes'\n",
    "A_chondrocytes@meta.data$CellType_d[A_chondrocytes@meta.data$CellType_d == '11'] <- 'Hypertrophic chondrocytes'\n",
    "A_chondrocytes@meta.data$CellType_d[A_chondrocytes@meta.data$CellType_d == '12'] <- 'Proliferative chondrocytes'\n",
    "A_chondrocytes@meta.data$CellType_d[A_chondrocytes@meta.data$CellType_d == '13'] <- 'BMSCs'\n",
    "A_chondrocytes@meta.data$CellType_d[A_chondrocytes@meta.data$CellType_d == '14'] <- 'Articular chondrocytes'\n",
    "A_chondrocytes@meta.data$CellType_d[A_chondrocytes@meta.data$CellType_d == '15'] <- 'Vascular endothelial cells'\n",
    "\n",
    "\n",
    "A_chondrocytes@meta.data$CellType_d <- as.factor(A_chondrocytes@meta.data$CellType_d)"
   ]
  },
  {
   "cell_type": "code",
   "execution_count": null,
   "id": "8db586d2-bcbb-458c-b495-ac13d1b878af",
   "metadata": {},
   "outputs": [],
   "source": [
    "DimPlot(A_chondrocytes, group.by= \"CellType_d\", label = TRUE) + NoLegend() + xlab(\"UMAP 1\") + ylab(\"UMAP 2\")"
   ]
  },
  {
   "cell_type": "markdown",
   "id": "99db3d32-701b-4bcc-9141-464a14ee21ea",
   "metadata": {
    "tags": []
   },
   "source": [
    "#### 3.4.2. Refinement of global annotations<a id=\"13.2\"></a>\n",
    "##### 3.4.2.1. Subsetting endothelial clusters<a id=\"14\"></a>"
   ]
  },
  {
   "cell_type": "code",
   "execution_count": null,
   "id": "89bb4267-0913-4f0f-b67b-8624c583dd37",
   "metadata": {},
   "outputs": [],
   "source": [
    "A_endothelial <- subset(A, idents = c(\"Endothelial cells\"))"
   ]
  },
  {
   "cell_type": "code",
   "execution_count": null,
   "id": "ba992fe4-5350-4d84-8ed4-3203d2ddd9da",
   "metadata": {},
   "outputs": [],
   "source": [
    "A_endothelial"
   ]
  },
  {
   "cell_type": "code",
   "execution_count": null,
   "id": "9ff89e3d-4e2d-4fea-8146-4a51a5b30104",
   "metadata": {},
   "outputs": [],
   "source": [
    "A_endothelial <- ScaleData(A_endothelial)"
   ]
  },
  {
   "cell_type": "code",
   "execution_count": null,
   "id": "46da8756-e725-4426-8990-fd3916624cb4",
   "metadata": {},
   "outputs": [],
   "source": [
    "A_endothelial <- RunPCA(A_endothelial, features = VariableFeatures(object = A_endothelial), verbose = FALSE)"
   ]
  },
  {
   "cell_type": "code",
   "execution_count": null,
   "id": "fa815b65-c07f-4bfd-b09d-0fcf1606d8a8",
   "metadata": {},
   "outputs": [],
   "source": [
    "ElbowPlot(A_endothelial, 50)"
   ]
  },
  {
   "cell_type": "code",
   "execution_count": null,
   "id": "059282ac-de34-4dba-b7fe-068f6220e577",
   "metadata": {
    "scrolled": true
   },
   "outputs": [],
   "source": [
    "A_endothelial <- FindNeighbors(A_endothelial, dims = 1:15, verbose = FALSE)\n",
    "A_endothelial <- FindClusters(A_endothelial, resolution = 0.3, verbose = FALSE)"
   ]
  },
  {
   "cell_type": "code",
   "execution_count": null,
   "id": "4c9d631a-33e7-4393-93f7-9cdc9b48eeb2",
   "metadata": {
    "scrolled": true
   },
   "outputs": [],
   "source": [
    "A_endothelial <- RunUMAP(A_endothelial, dims = 1:15, n.neighbors = 12, verbose = FALSE)"
   ]
  },
  {
   "cell_type": "code",
   "execution_count": null,
   "id": "301e45ce-17de-44c9-ac74-6662ae47d493",
   "metadata": {},
   "outputs": [],
   "source": [
    "options(repr.plot.width = 10, repr.plot.height = 8)\n",
    "DimPlot(A_endothelial, reduction = \"umap\", label=TRUE) + xlab(\"UMAP 1\") + ylab(\"UMAP 2\")\n",
    "\n",
    "#ggsave(\"./6-kmita/images/E10_5_m_no_annotation.png\" ,width=10, height=8)"
   ]
  },
  {
   "cell_type": "code",
   "execution_count": null,
   "id": "60c939d4-67a6-47ad-a890-69bc74b2fccc",
   "metadata": {
    "tags": []
   },
   "outputs": [],
   "source": [
    "A_endothelial.markers <- FindAllMarkers(A_endothelial)"
   ]
  },
  {
   "cell_type": "code",
   "execution_count": null,
   "id": "66ef6c64-9c10-4b82-9f58-85c16dfd639a",
   "metadata": {},
   "outputs": [],
   "source": [
    "write.csv(A_endothelial, file = \"A_endothelial.markers.csv\", quote = FALSE)"
   ]
  },
  {
   "cell_type": "code",
   "execution_count": null,
   "id": "e01b523c-f037-4746-b670-7d5166377f88",
   "metadata": {},
   "outputs": [],
   "source": [
    "# Vascular endothelial cells\n",
    "options(repr.plot.width = 18, repr.plot.height = 12)\n",
    "\n",
    "p1 <- DimPlot(A_endothelial, label = TRUE) + NoLegend() + xlab(\"UMAP 1\") + ylab(\"UMAP 2\")\n",
    "p2 <- FeaturePlot(A_endothelial, c(\"Vcam1\", \"Cd34\", \"Cd93\", \"Cdh5\",\"Pecam1\"), min.cutoff = \"q1\")  \n",
    "\n",
    "p1 + p2"
   ]
  },
  {
   "cell_type": "code",
   "execution_count": null,
   "id": "66574143-c5e6-4ea9-8963-86a480fbeea9",
   "metadata": {},
   "outputs": [],
   "source": [
    "# Lymphatic endothelial cells\n",
    "options(repr.plot.width = 18, repr.plot.height = 12)\n",
    "\n",
    "p1 <- DimPlot(A_endothelial, label = TRUE) + NoLegend() + xlab(\"UMAP 1\") + ylab(\"UMAP 2\")\n",
    "p2 <- FeaturePlot(A_endothelial, c(\"Lyve1\", \"Flt4\", \"Prox1\"), min.cutoff = \"q1\")  \n",
    "\n",
    "p1 + p2"
   ]
  },
  {
   "cell_type": "code",
   "execution_count": null,
   "id": "48c946cb-52dc-434e-a821-ccbcbc562f6b",
   "metadata": {},
   "outputs": [],
   "source": [
    "A_endothelial@meta.data$CellType_d <- Idents(A_endothelial)"
   ]
  },
  {
   "cell_type": "code",
   "execution_count": null,
   "id": "a873b402-6f88-462a-9dc9-d6fee70cbdf7",
   "metadata": {},
   "outputs": [],
   "source": [
    "A_endothelial@meta.data$CellType_d <- as.character(A_endothelial@meta.data$CellType_d)\n",
    "\n",
    "A_endothelial@meta.data$CellType_d[A_endothelial@meta.data$CellType_d == '0'] <- 'Vascular endothelial cells'\n",
    "A_endothelial@meta.data$CellType_d[A_endothelial@meta.data$CellType_d == '1'] <- 'Vascular endothelial cells'\n",
    "A_endothelial@meta.data$CellType_d[A_endothelial@meta.data$CellType_d == '2'] <- 'Vascular endothelial cells'\n",
    "A_endothelial@meta.data$CellType_d[A_endothelial@meta.data$CellType_d == '3'] <- 'Vascular endothelial cells'\n",
    "A_endothelial@meta.data$CellType_d[A_endothelial@meta.data$CellType_d == '4'] <- 'Vascular endothelial cells'\n",
    "A_endothelial@meta.data$CellType_d[A_endothelial@meta.data$CellType_d == '5'] <- 'Vascular endothelial cells'\n",
    "A_endothelial@meta.data$CellType_d[A_endothelial@meta.data$CellType_d == '6'] <- 'Vascular endothelial cells'\n",
    "A_endothelial@meta.data$CellType_d[A_endothelial@meta.data$CellType_d == '7'] <- 'Erythroid cells'\n",
    "A_endothelial@meta.data$CellType_d[A_endothelial@meta.data$CellType_d == '8'] <- 'Vascular endothelial cells'\n",
    "\n",
    "\n",
    "A_endothelial@meta.data$CellType_d <- as.factor(A_endothelial@meta.data$CellType_d)"
   ]
  },
  {
   "cell_type": "markdown",
   "id": "53d8db75-ab9d-41fd-9e67-afe597a1746d",
   "metadata": {
    "tags": []
   },
   "source": [
    "#### 3.4.2. Refinement of global annotations<a id=\"13.2\"></a>\n",
    "##### 3.4.2.1. Subsetting endothelial clusters<a id=\"14\"></a>"
   ]
  },
  {
   "cell_type": "code",
   "execution_count": null,
   "id": "4de3999a-a90d-4b81-a2b7-7d736eef4453",
   "metadata": {},
   "outputs": [],
   "source": [
    "A_osteoblasts <- subset(A, idents = c(\"Osteoblasts\"))"
   ]
  },
  {
   "cell_type": "code",
   "execution_count": null,
   "id": "508e035f-744c-4a09-ab45-1ddba5675791",
   "metadata": {},
   "outputs": [],
   "source": [
    "A_osteoblasts"
   ]
  },
  {
   "cell_type": "code",
   "execution_count": null,
   "id": "ee709c5f-f544-47db-95f0-6e6fa0d341f8",
   "metadata": {},
   "outputs": [],
   "source": [
    "A_osteoblasts <- ScaleData(A_osteoblasts)"
   ]
  },
  {
   "cell_type": "code",
   "execution_count": null,
   "id": "f6dd3167-cdf7-47b1-9ea7-244e03bb3db3",
   "metadata": {},
   "outputs": [],
   "source": [
    "A_osteoblasts <- RunPCA(A_osteoblasts, features = VariableFeatures(object = A_osteoblasts), verbose = FALSE)"
   ]
  },
  {
   "cell_type": "code",
   "execution_count": null,
   "id": "90ba6ab3-0a8c-4a62-9bec-8760a3d43ea6",
   "metadata": {},
   "outputs": [],
   "source": [
    "ElbowPlot(A_osteoblasts, 50)"
   ]
  },
  {
   "cell_type": "code",
   "execution_count": null,
   "id": "ce19c1e0-7939-4a71-9d7d-3523c341eb67",
   "metadata": {
    "scrolled": true
   },
   "outputs": [],
   "source": [
    "A_osteoblasts <- FindNeighbors(A_osteoblasts, dims = 1:20, verbose = FALSE)\n",
    "A_osteoblasts <- FindClusters(A_osteoblasts, resolution = 0.3, verbose = FALSE)"
   ]
  },
  {
   "cell_type": "code",
   "execution_count": null,
   "id": "2172c33e-e634-44d6-a806-5c9d782dc396",
   "metadata": {
    "scrolled": true
   },
   "outputs": [],
   "source": [
    "A_osteoblasts <- RunUMAP(A_osteoblasts, dims = 1:20, n.neighbors = 12, verbose = FALSE)"
   ]
  },
  {
   "cell_type": "code",
   "execution_count": null,
   "id": "cb9df8b7-3e0c-4507-80f8-f81da9ce77a9",
   "metadata": {},
   "outputs": [],
   "source": [
    "options(repr.plot.width = 10, repr.plot.height = 8)\n",
    "DimPlot(A_osteoblasts, reduction = \"umap\", label=TRUE) + xlab(\"UMAP 1\") + ylab(\"UMAP 2\")\n",
    "\n",
    "#ggsave(\"./6-kmita/images/E10_5_m_no_annotation.png\" ,width=10, height=8)"
   ]
  },
  {
   "cell_type": "code",
   "execution_count": null,
   "id": "8874c745-c791-4bd4-bd43-ff74b50a28e1",
   "metadata": {
    "tags": []
   },
   "outputs": [],
   "source": [
    "A_osteoblasts.markers <- FindAllMarkers(A_osteoblasts)"
   ]
  },
  {
   "cell_type": "code",
   "execution_count": null,
   "id": "5aac502e-a53e-4c32-94d5-14aa5d23ae2e",
   "metadata": {},
   "outputs": [],
   "source": [
    "write.csv(A_osteoblasts.markers, file = \"A_osteoblast.markers.csv\", quote = FALSE)"
   ]
  },
  {
   "cell_type": "code",
   "execution_count": null,
   "id": "97142c34-f10a-465a-a6fc-be093b30876b",
   "metadata": {},
   "outputs": [],
   "source": [
    "# Osteoprogenitors\n",
    "options(repr.plot.width = 18, repr.plot.height = 12)\n",
    "\n",
    "p1 <- DimPlot(A_osteoblasts, label = TRUE) + NoLegend() + xlab(\"UMAP 1\") + ylab(\"UMAP 2\")\n",
    "p2 <- FeaturePlot(A_osteoblasts, c(\"Runx2\", \"Sp7\"), min.cutoff = \"q1\")  \n",
    "\n",
    "p1 + p2"
   ]
  },
  {
   "cell_type": "code",
   "execution_count": null,
   "id": "60103ca1-0ddb-47df-8e67-e3468db2117c",
   "metadata": {},
   "outputs": [],
   "source": [
    "# Osteoblasts\n",
    "options(repr.plot.width = 18, repr.plot.height = 12)\n",
    "\n",
    "p1 <- DimPlot(A_osteoblasts, label = TRUE) + NoLegend() + xlab(\"UMAP 1\") + ylab(\"UMAP 2\")\n",
    "p2 <- FeaturePlot(A_osteoblasts, c(\"Col1a1\", \"Bglap\"), min.cutoff = \"q1\")  \n",
    "\n",
    "p1 + p2"
   ]
  },
  {
   "cell_type": "code",
   "execution_count": null,
   "id": "66b28410-bb01-44df-af1f-e2bafeaff9a7",
   "metadata": {},
   "outputs": [],
   "source": [
    "# fast proliferating osteoblasts\n",
    "options(repr.plot.width = 18, repr.plot.height = 12)\n",
    "\n",
    "p1 <- DimPlot(A_osteoblasts, label = TRUE) + NoLegend() + xlab(\"UMAP 1\") + ylab(\"UMAP 2\")\n",
    "p2 <- FeaturePlot(A_osteoblasts, c(\"Cdc20\",\"Cenpe\"), min.cutoff = \"q1\")  \n",
    "\n",
    "p1 + p2"
   ]
  },
  {
   "cell_type": "code",
   "execution_count": null,
   "id": "4442a50b-d326-421e-b601-9a7accc29b31",
   "metadata": {},
   "outputs": [],
   "source": [
    "# fast proliferating osteoblasts\n",
    "options(repr.plot.width = 18, repr.plot.height = 12)\n",
    "\n",
    "p1 <- DimPlot(A_osteoblasts, label = TRUE) + NoLegend() + xlab(\"UMAP 1\") + ylab(\"UMAP 2\")\n",
    "p2 <- FeaturePlot(A_osteoblasts, c(\"Cdc20\",\"Cenpe\"), min.cutoff = \"q1\")  \n",
    "\n",
    "p1 + p2"
   ]
  },
  {
   "cell_type": "code",
   "execution_count": null,
   "id": "552c0ba2-53f5-4594-a620-69b87abc5f73",
   "metadata": {},
   "outputs": [],
   "source": [
    "#periosteumo\n",
    "\n",
    "p1 <- DimPlot(A_osteoblasts, label = TRUE) + NoLegend() + xlab(\"UMAP 1\") + ylab(\"UMAP 2\")\n",
    "p2 <- FeaturePlot(A_osteoblasts, c(\"Postn\",\"Wnt16\"), min.cutoff = \"q1\")  \n",
    "\n",
    "p1 + p2"
   ]
  },
  {
   "cell_type": "code",
   "execution_count": null,
   "id": "620a0727-9052-41d5-a09f-1ecd0bd5c1ed",
   "metadata": {},
   "outputs": [],
   "source": [
    "#VEC\n",
    "\n",
    "p1 <- DimPlot(A_osteoblasts, label = TRUE) + NoLegend() + xlab(\"UMAP 1\") + ylab(\"UMAP 2\")\n",
    "p2 <- FeaturePlot(A_osteoblasts, c(\"Pecam1\",\"Cdh5\",\"Lyve1\"), min.cutoff = \"q1\")  \n",
    "\n",
    "p1 + p2"
   ]
  },
  {
   "cell_type": "code",
   "execution_count": null,
   "id": "b74c15d3-d705-44d4-9f1d-ef8361759d8f",
   "metadata": {},
   "outputs": [],
   "source": [
    "A_osteoblasts@meta.data$CellType_d <- Idents(A_osteoblasts)"
   ]
  },
  {
   "cell_type": "code",
   "execution_count": null,
   "id": "ceab876a-5362-4274-824b-6cfc1f5b6afd",
   "metadata": {},
   "outputs": [],
   "source": [
    "A_osteoblasts@meta.data$CellType_d <- as.character(A_osteoblasts@meta.data$CellType_d)\n",
    "\n",
    "A_osteoblasts@meta.data$CellType_d[A_osteoblasts@meta.data$CellType_d == '0'] <- 'Osteoprogenitors'\n",
    "A_osteoblasts@meta.data$CellType_d[A_osteoblasts@meta.data$CellType_d == '1'] <- 'Osteoblasts'\n",
    "A_osteoblasts@meta.data$CellType_d[A_osteoblasts@meta.data$CellType_d == '2'] <- 'Periosteum'\n",
    "A_osteoblasts@meta.data$CellType_d[A_osteoblasts@meta.data$CellType_d == '3'] <- 'Osteoblasts'\n",
    "A_osteoblasts@meta.data$CellType_d[A_osteoblasts@meta.data$CellType_d == '4'] <- 'Fast proliferating osteoblasts'\n",
    "A_osteoblasts@meta.data$CellType_d[A_osteoblasts@meta.data$CellType_d == '5'] <- 'Osteoprogenitors'\n",
    "A_osteoblasts@meta.data$CellType_d[A_osteoblasts@meta.data$CellType_d == '6'] <- 'Osteocytes'\n",
    "A_osteoblasts@meta.data$CellType_d[A_osteoblasts@meta.data$CellType_d == '7'] <- 'Vascular endothelial cells'\n",
    "A_osteoblasts@meta.data$CellType_d[A_osteoblasts@meta.data$CellType_d == '8'] <- 'Erythroid cells'\n",
    "\n",
    "\n",
    "A_osteoblasts@meta.data$CellType_d <- as.factor(A_osteoblasts@meta.data$CellType_d)"
   ]
  },
  {
   "cell_type": "markdown",
   "id": "d94ded51-1a07-43bd-b050-d1316dac8832",
   "metadata": {
    "tags": []
   },
   "source": [
    "#### 3.4.2. Updating annotations<a id=\"16\"></a>"
   ]
  },
  {
   "cell_type": "code",
   "execution_count": null,
   "id": "dbf9e4f4-0b33-4d5e-bcd3-a1a88700be10",
   "metadata": {},
   "outputs": [],
   "source": [
    "meta1 <- A@meta.data\n",
    "meta2 <- A_chondrocytes@meta.data"
   ]
  },
  {
   "cell_type": "code",
   "execution_count": null,
   "id": "3bac6127-feda-4bc6-b753-f441af507305",
   "metadata": {},
   "outputs": [],
   "source": [
    "df <- split(meta1, meta1$CellType)"
   ]
  },
  {
   "cell_type": "code",
   "execution_count": null,
   "id": "9286b15c-19b9-4bde-ade6-a5a340c2ca3e",
   "metadata": {},
   "outputs": [],
   "source": [
    "chondro <- rownames(df$Chondrocytes)"
   ]
  },
  {
   "cell_type": "code",
   "execution_count": null,
   "id": "f3f2a4c9-42e8-43d6-ae7d-9d5f7af41f86",
   "metadata": {},
   "outputs": [],
   "source": [
    "chondro_meta <- meta2[chondro, c(\"CellType_d\",\"Author\")]\n",
    "chondro_meta$Author<- NULL\n",
    "\n",
    "head(chondro_meta)"
   ]
  },
  {
   "cell_type": "code",
   "execution_count": null,
   "id": "30d1dd21-3bac-43ec-9041-8c274e641b55",
   "metadata": {},
   "outputs": [],
   "source": [
    "df$Chondrocytes <- cbind(df$Chondrocytes, chondro_meta)\n",
    "df$Chondrocytes$CellType <- df$Chondrocytes$CellType_d\n",
    "df$Chondrocytes$CellType_d <- NULL"
   ]
  },
  {
   "cell_type": "code",
   "execution_count": null,
   "id": "71a2dc95-07c1-4d9f-b07f-0b1f8f9378db",
   "metadata": {},
   "outputs": [],
   "source": [
    "endo <- rownames(df$`Endothelial cells`)"
   ]
  },
  {
   "cell_type": "code",
   "execution_count": null,
   "id": "c94e7300-c735-4ffd-9d71-171b19952313",
   "metadata": {},
   "outputs": [],
   "source": [
    "meta2 <- A_endothelial@meta.data\n",
    "endometa <- meta2[endo, c(\"CellType_d\", \"Author\")]\n",
    "endometa$Author <- NULL\n",
    "\n",
    "head(endometa)"
   ]
  },
  {
   "cell_type": "code",
   "execution_count": null,
   "id": "e3db1968-918e-4938-8178-24a8e6eb312a",
   "metadata": {},
   "outputs": [],
   "source": [
    "df$`Endothelial cells` <- cbind(df$`Endothelial cells`, endometa)\n",
    "df$`Endothelial cells`$CellType <- df$`Endothelial cells`$CellType_d\n",
    "df$`Endothelial cells`$CellType_d <- NULL"
   ]
  },
  {
   "cell_type": "code",
   "execution_count": null,
   "id": "f8375df7-14ca-464a-ae4d-a642f81c1191",
   "metadata": {},
   "outputs": [],
   "source": [
    "osteo <- rownames(df$Osteoblasts)"
   ]
  },
  {
   "cell_type": "code",
   "execution_count": null,
   "id": "dc18ab80-69f8-48b6-a555-338429d6b043",
   "metadata": {},
   "outputs": [],
   "source": [
    "meta2 <- A_osteoblasts@meta.data\n",
    "osteometa <- meta2[osteo, c(\"CellType_d\", \"Author\")]\n",
    "osteometa$Author <- NULL\n",
    "\n",
    "head(osteometa)"
   ]
  },
  {
   "cell_type": "code",
   "execution_count": null,
   "id": "f904e94a-cf0d-4d29-a577-56f7e1735cf6",
   "metadata": {},
   "outputs": [],
   "source": [
    "df$Osteoblasts <- cbind(df$Osteoblasts, osteometa)\n",
    "df$Osteoblasts$CellType <- df$Osteoblasts$CellType_d\n",
    "df$Osteoblasts$CellType_d <- NULL"
   ]
  },
  {
   "cell_type": "code",
   "execution_count": null,
   "id": "977b4d13-af3f-4a0b-9add-cf61f8dc4612",
   "metadata": {},
   "outputs": [],
   "source": [
    "df$Chondrocytes$Barcode = rownames(df$Chondrocytes)\n",
    "df$`Endothelial cells`$Barcode = rownames(df$`Endothelial cells`)\n",
    "df$Osteoblasts$Barcode = rownames(df$Osteoblasts)\n"
   ]
  },
  {
   "cell_type": "code",
   "execution_count": null,
   "id": "7727d8c2-7f31-434f-8762-9179834a4abc",
   "metadata": {},
   "outputs": [],
   "source": [
    "str(df)"
   ]
  },
  {
   "cell_type": "code",
   "execution_count": null,
   "id": "d3fa2c10-0007-4248-9834-a23f2f770e51",
   "metadata": {},
   "outputs": [],
   "source": [
    "names(df)"
   ]
  },
  {
   "cell_type": "code",
   "execution_count": null,
   "id": "419f8218-3cc0-4438-a10c-607b2aeecc43",
   "metadata": {},
   "outputs": [],
   "source": [
    "df$Chondrocytes$Barcode <- rownames(df$Chondrocytes)\n",
    "df$`Endothelial cells`$Barcode <- rownames(df$`Endothelial cells`)\n",
    "df$Osteoblasts$Barcode <- rownames(df$Osteoblasts)\n"
   ]
  },
  {
   "cell_type": "code",
   "execution_count": null,
   "id": "fa3e2640-1f21-45b4-b2af-f0590e0ae704",
   "metadata": {},
   "outputs": [],
   "source": [
    "df$`Articular chondrocytes`$Barcode <- rownames(df$`Articular chondrocytes`)\n",
    "df$`Erythroid cells`$Barcode <- rownames(df$`Erythroid cells`)\n",
    "df$`Immune cells`$Barcode <- rownames(df$`Immune cells`)\n",
    "df$`Perivascular cells`$Barcode <- rownames(df$`Perivascular cells`)\n",
    "df$BMSCs$Barcode <- rownames(df$BMSCs)\n",
    "df$Tenocytes$Barcode <- rownames(df$Tenocytes)\n",
    "df$Platelets$Barcode <- rownames(df$Platelets)\n"
   ]
  },
  {
   "cell_type": "code",
   "execution_count": null,
   "id": "7477acf5-254a-4853-b97f-50f6b162aff9",
   "metadata": {},
   "outputs": [],
   "source": [
    "meta.data <- do.call(rbind, df)\n",
    "rownames(meta.data) = meta.data$Barcode\n",
    "meta.data$Barcode <- NULL"
   ]
  },
  {
   "cell_type": "code",
   "execution_count": null,
   "id": "56d2b0ec-d0b3-4f51-8023-9e8ca7526e78",
   "metadata": {},
   "outputs": [],
   "source": [
    "dim(A@meta.data)\n",
    "dim(meta.data)"
   ]
  },
  {
   "cell_type": "code",
   "execution_count": null,
   "id": "f70f5eae-b0ac-435a-8b1c-e72de2f474fa",
   "metadata": {},
   "outputs": [],
   "source": [
    "target <- rownames(A@meta.data)\n",
    "meta.data <- meta.data[match(target, rownames(meta.data)),]"
   ]
  },
  {
   "cell_type": "code",
   "execution_count": null,
   "id": "82022cf1-f987-4322-b562-0fe2554b8a5d",
   "metadata": {},
   "outputs": [],
   "source": [
    "A@meta.data = meta.data"
   ]
  },
  {
   "cell_type": "markdown",
   "id": "8eb178ad-1e27-4aff-a530-11b51a3074da",
   "metadata": {
    "tags": []
   },
   "source": [
    "#### 5.4.3. Finalized embedding and annotation<a id=\"37\"></a>"
   ]
  },
  {
   "cell_type": "code",
   "execution_count": null,
   "id": "709dc862-a890-41d1-9da9-3f4d23e90289",
   "metadata": {},
   "outputs": [],
   "source": [
    "saveRDS(A, 'Adams_reannotation_23072024.Rds')"
   ]
  },
  {
   "cell_type": "code",
   "execution_count": null,
   "id": "d89b7d0c-fb8d-4f1e-b222-1eef5d6461e5",
   "metadata": {},
   "outputs": [],
   "source": [
    "A <- readRDS('/home/jovyan/researcher_home/Documents/Tom/Atlas/data/SCA_core/Adams/Adams_reannotation_23072024.Rds')"
   ]
  },
  {
   "cell_type": "code",
   "execution_count": null,
   "id": "2088ba4d-3667-4fcf-a746-f393944b9328",
   "metadata": {},
   "outputs": [],
   "source": []
  },
  {
   "cell_type": "code",
   "execution_count": null,
   "id": "8c8e26c3-8b1f-4dda-9c18-e67e4560e681",
   "metadata": {},
   "outputs": [],
   "source": [
    "options(repr.plot.width=12)\n",
    "DimPlot(A, group.by = \"CellType\", label = FALSE, repel = TRUE) + xlab(\"UMAP 1\") + ylab(\"UMAP 2\")\n",
    "\n",
    "#ggsave(\"./6-kmita/images/E10_5_annotated.png\" ,width=12, height=8)"
   ]
  },
  {
   "cell_type": "code",
   "execution_count": null,
   "id": "42b1dc85-c905-4338-950a-3b8e9f9330ac",
   "metadata": {},
   "outputs": [],
   "source": [
    "Idents(A) <- A$CellType"
   ]
  },
  {
   "cell_type": "code",
   "execution_count": null,
   "id": "75e8355b-8374-445a-bb60-130ef018c5e7",
   "metadata": {},
   "outputs": [],
   "source": [
    "saveRDS(A, file = \"Adams_reannotation.Rds\")"
   ]
  }
 ],
 "metadata": {
  "kernelspec": {
   "display_name": "R [conda env:base] *",
   "language": "R",
   "name": "conda-base-r"
  },
  "language_info": {
   "codemirror_mode": "r",
   "file_extension": ".r",
   "mimetype": "text/x-r-source",
   "name": "R",
   "pygments_lexer": "r",
   "version": "4.3.2"
  }
 },
 "nbformat": 4,
 "nbformat_minor": 5
}
