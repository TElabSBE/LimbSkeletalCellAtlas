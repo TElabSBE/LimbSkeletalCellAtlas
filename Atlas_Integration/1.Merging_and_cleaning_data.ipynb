{
 "cells": [
  {
   "cell_type": "code",
   "execution_count": null,
   "id": "de405c51-3b49-4863-8940-4c4040dae166",
   "metadata": {},
   "outputs": [],
   "source": [
    "suppressPackageStartupMessages({\n",
    "    library(SingleCellExperiment)\n",
    "    library(DropletUtils)\n",
    "    library(scuttle)\n",
    "    library(Seurat)\n",
    "    library(SeuratWrappers)\n",
    "    library(stringr)\n",
    "    library(dplyr)\n",
    "    library(data.table)\n",
    "    library(Matrix)\n",
    "    library(patchwork)\n",
    "    library(ggplot2)\n",
    "})\n",
    "\n",
    "options(repr.plot.width = 16, repr.plot.height = 8)"
   ]
  },
  {
   "cell_type": "code",
   "execution_count": null,
   "id": "992fe787-78df-4f31-8a5a-859ea7434afd",
   "metadata": {},
   "outputs": [],
   "source": [
    "S1 <- readRDS(file = \"Adams.Rds\")\n",
    "S1"
   ]
  },
  {
   "cell_type": "code",
   "execution_count": null,
   "id": "d8764b55-5744-42e0-a529-98aaf24da6af",
   "metadata": {},
   "outputs": [],
   "source": [
    "S2.1 <- readRDS(file = \"Obrien/dmp_endo.rds\")\n",
    "S2.1"
   ]
  },
  {
   "cell_type": "code",
   "execution_count": null,
   "id": "00ebe215",
   "metadata": {},
   "outputs": [],
   "source": [
    "S2.2 <- readRDS(file = \"Obrien/Dmp_Periost.rds\")\n",
    "S2.2"
   ]
  },
  {
   "cell_type": "code",
   "execution_count": null,
   "id": "4f37b805",
   "metadata": {},
   "outputs": [],
   "source": [
    "S2.3 <- readRDS(file = \"Obrien/Sp7_Endost.rds\")\n",
    "S2.3"
   ]
  },
  {
   "cell_type": "code",
   "execution_count": null,
   "id": "4d9e0e53",
   "metadata": {},
   "outputs": [],
   "source": [
    "S2.4 <- readRDS(file = \"Obrien/Sp7_Periost_1.rds\")\n",
    "S2.4"
   ]
  },
  {
   "cell_type": "code",
   "execution_count": null,
   "id": "38b05ab4",
   "metadata": {},
   "outputs": [],
   "source": [
    "S2.5 <- readRDS(file = \"Obrien/Sp7_Periost_2.rds\")\n",
    "S2.5"
   ]
  },
  {
   "cell_type": "code",
   "execution_count": null,
   "id": "07c67c85-0dfa-475a-b583-5887f72d2cb5",
   "metadata": {},
   "outputs": [],
   "source": [
    "S3 <- readRDS(file = \"Bohm.Rds\")\n",
    "S3"
   ]
  },
  {
   "cell_type": "code",
   "execution_count": null,
   "id": "f573ac88-765f-4d18-a826-2f9196d82afa",
   "metadata": {},
   "outputs": [],
   "source": [
    "S3@active.assay <- 'RNA'"
   ]
  },
  {
   "cell_type": "code",
   "execution_count": null,
   "id": "10a99cf6-4266-41d3-a819-ea4dba6151c9",
   "metadata": {},
   "outputs": [],
   "source": [
    "S3"
   ]
  },
  {
   "cell_type": "code",
   "execution_count": null,
   "id": "dac559aa-7808-42c0-9be6-d2d906dafcd7",
   "metadata": {},
   "outputs": [],
   "source": [
    "S4 <- readRDS(file = \"Debnath.Rds\")\n",
    "S4"
   ]
  },
  {
   "cell_type": "code",
   "execution_count": null,
   "id": "62ef0ca0-b760-431d-8e1f-4dc7a3fa9a91",
   "metadata": {},
   "outputs": [],
   "source": [
    "S5.1 <- readRDS(file = \"Guilak/E11_5.rds\")\n",
    "S5.1"
   ]
  },
  {
   "cell_type": "code",
   "execution_count": null,
   "id": "d4324533-baad-41f3-b693-63f7f8529f6a",
   "metadata": {},
   "outputs": [],
   "source": [
    "S5.2 <- readRDS(file = \"Guilak/E13.5.Rds\")\n",
    "S5.2"
   ]
  },
  {
   "cell_type": "code",
   "execution_count": null,
   "id": "fdbb90dd-44e0-445e-bfdf-02cbf193fec1",
   "metadata": {},
   "outputs": [],
   "source": [
    "S5.3 <- readRDS(file = \"Guilak/E15_5.Rds\")\n",
    "S5.3"
   ]
  },
  {
   "cell_type": "code",
   "execution_count": null,
   "id": "d08b445c-04b3-455d-ad2c-7d610b4ac97d",
   "metadata": {},
   "outputs": [],
   "source": [
    "S5.4 <- readRDS(file = \"Guilak/E18_5.Rds\")\n",
    "S5.4"
   ]
  },
  {
   "cell_type": "code",
   "execution_count": null,
   "id": "da5f1e10-caff-4ac9-9837-1ab8ee847e2f",
   "metadata": {},
   "outputs": [],
   "source": [
    "S6.1 <- readRDS(file = \"Kmita/E10_5.Rds\")\n",
    "S6.1"
   ]
  },
  {
   "cell_type": "code",
   "execution_count": null,
   "id": "862bed31-235c-4424-9429-e110e438b5f5",
   "metadata": {},
   "outputs": [],
   "source": [
    "S6.2 <- readRDS(file = \"Kmita/E11_5.Rds\")\n",
    "S6.2"
   ]
  },
  {
   "cell_type": "code",
   "execution_count": null,
   "id": "daba651e-56cc-48ea-96e9-5a5a0e8b31af",
   "metadata": {},
   "outputs": [],
   "source": [
    "S6.3 <- readRDS(file = \"Kmita/E12_5.Rds\")\n",
    "S6.3"
   ]
  },
  {
   "cell_type": "code",
   "execution_count": null,
   "id": "f3a01ff8-df7c-4280-a016-0c22618eb28f",
   "metadata": {},
   "outputs": [],
   "source": [
    "S7.1 <- readRDS(file = \"Maerz/Maerzd7.Rds\")\n",
    "S7.1"
   ]
  },
  {
   "cell_type": "code",
   "execution_count": null,
   "id": "6cb2b92c-2ce6-42ed-8124-6dc141d9fd5f",
   "metadata": {},
   "outputs": [],
   "source": [
    "S7.2 <- readRDS(file = \"Maerz/Maerzd28.Rds\")\n",
    "S7.2"
   ]
  },
  {
   "cell_type": "code",
   "execution_count": null,
   "id": "3c81f83c-7d65-43ed-99bd-14a2652e5b31",
   "metadata": {},
   "outputs": [],
   "source": [
    "S8 <- readRDS(file = \"Scadden.Rds\")\n",
    "S8"
   ]
  },
  {
   "cell_type": "code",
   "execution_count": null,
   "id": "cc391d48",
   "metadata": {
    "scrolled": true
   },
   "outputs": [],
   "source": [
    "S9 <- readRDS(file = \"White.Rds\")\n",
    "S9"
   ]
  },
  {
   "cell_type": "code",
   "execution_count": null,
   "id": "c8ea8b28",
   "metadata": {
    "scrolled": true
   },
   "outputs": [],
   "source": [
    "S10 <- readRDS(file = \"Lefebvre_WTp13.rds\")\n",
    "S10"
   ]
  },
  {
   "cell_type": "markdown",
   "id": "384948fd-b8c7-440d-9102-c50f9bfbecba",
   "metadata": {},
   "source": [
    "## Cleaning of meta data"
   ]
  },
  {
   "cell_type": "code",
   "execution_count": null,
   "id": "9389398e-6605-489e-8c99-59efeef97d23",
   "metadata": {},
   "outputs": [],
   "source": [
    "S1@meta.data$Study = 'SRP278393'\n",
    "S1@meta.data$Batch = 'SRP278393'\n",
    "S1@meta.data$RNA_snn_res.0.11 <- NULL\n",
    "S1@meta.data$seurat_clusters <- NULL\n",
    "S1@meta.data$percent.mt <- NULL\n",
    "S1@meta.data$DevTP <- S1@meta.data$Age\n",
    "S1@meta.data$Age <- NULL\n"
   ]
  },
  {
   "cell_type": "code",
   "execution_count": null,
   "id": "eb21ed10-01f7-41a8-9a7a-7c40ad474cb8",
   "metadata": {},
   "outputs": [],
   "source": [
    "head(S1@meta.data)"
   ]
  },
  {
   "cell_type": "code",
   "execution_count": null,
   "id": "a3a7598e-6668-4033-9a98-ee54e33f7831",
   "metadata": {},
   "outputs": [],
   "source": [
    "S2.1@meta.data$Study = 'PRJNA1080020'\n",
    "S2.1@meta.data$Batch = 'SRX13629840'\n",
    "S2.1@meta.data$`RNA_snn_res.0.5` <- NULL\n",
    "S2.1@meta.data$`RNA_snn_res.0.6` <- NULL\n",
    "S2.1@meta.data$`RNA_snn_res.0.8` <- NULL\n",
    "S2.1@meta.data$`RNA_snn_res.0.9` <- NULL\n",
    "S2.1@meta.data$ident <- NULL\n",
    "S2.1@meta.data$detected <- NULL\n",
    "S2.1@meta.data$seurat_clusters <- NULL\n",
    "\n",
    "S2.1@meta.data$subsets_ERCC_detected <- NULL\n",
    "S2.1@meta.data$subsets_ERCC_sum <- NULL\n",
    "S2.1@meta.data$subsets_ERCC_percent <- NULL\n",
    "\n",
    "    S2.1@meta.data$subsets_Mito_detected <- NULL\n",
    "S2.1@meta.data$subsets_Mito_percent <- NULL\n",
    "S2.1@meta.data$subsets_Mito_sum <- NULL\n",
    "\n",
    "S2.1@meta.data$sum <- NULL\n",
    "S2.1@meta.data$total <- NULL\n",
    "S2.1@meta.data$subsets_ERCC_sum <- NULL\n",
    "S2.1@meta.data$orig.ident <- NULL\n",
    "\n",
    "S2.1@meta.data$percent.mt <- NULL\n",
    "S2.1@meta.data$DevTP ='8-14 w'\n",
    "S2.1@meta.data$Strain ='Dmp1-Cre C57BL/6J'\n",
    "S2.1@meta.data$Tissue ='Endosteum'\n",
    "S2.1@meta.data$Technology =\"10 x 3' v3\"\n",
    "S2.1@meta.data$Organism ='Mus musculus'\n",
    "S2.1@meta.data$Author =\"OBrien\""
   ]
  },
  {
   "cell_type": "code",
   "execution_count": null,
   "id": "6f113f47-0b30-40f5-a4d6-9b1e7ca6a93d",
   "metadata": {},
   "outputs": [],
   "source": [
    "head(S2.1@meta.data)"
   ]
  },
  {
   "cell_type": "code",
   "execution_count": null,
   "id": "b12e7157-56ae-4df6-b5bc-c07723241e4d",
   "metadata": {},
   "outputs": [],
   "source": [
    "S2.2@meta.data$Study = 'PRJNA1080020'\n",
    "S2.2@meta.data$Batch = 'SRX23729876'\n",
    "\n",
    "S2.2@meta.data$`RNA_snn_res.0.5` <- NULL\n",
    "S2.2@meta.data$`RNA_snn_res.0.6` <- NULL\n",
    "S2.2@meta.data$`RNA_snn_res.0.8` <- NULL\n",
    "S2.2@meta.data$`RNA_snn_res.0.9` <- NULL\n",
    "S2.2@meta.data$ident <- NULL\n",
    "S2.2@meta.data$detected <- NULL\n",
    "\n",
    "S2.2@meta.data$subsets_ERCC_detected <- NULL\n",
    "S2.2@meta.data$subsets_ERCC_sum <- NULL\n",
    "S2.2@meta.data$subsets_ERCC_percent <- NULL\n",
    "\n",
    "    S2.2@meta.data$subsets_Mito_detected <- NULL\n",
    "S2.2@meta.data$subsets_Mito_percent <- NULL\n",
    "S2.2@meta.data$subsets_Mito_sum <- NULL\n",
    "S2.2@meta.data$seurat_clusters <- NULL\n",
    "\n",
    "S2.2@meta.data$sum <- NULL\n",
    "S2.2@meta.data$total <- NULL\n",
    "S2.2@meta.data$subsets_ERCC_sum <- NULL\n",
    "S2.2@meta.data$orig.ident <- NULL\n",
    "\n",
    "S2.2@meta.data$percent.mt <- NULL\n",
    "S2.2@meta.data$DevTP ='8-14 w'\n",
    "S2.2@meta.data$Strain ='Dmp1-Cre C57BL/6J'\n",
    "S2.2@meta.data$Tissue ='Periosteum'\n",
    "S2.2@meta.data$Technology =\"10 x 3' v3\"\n",
    "S2.2@meta.data$Organism ='Mus musculus'\n",
    "S2.2@meta.data$Author =\"OBrien\""
   ]
  },
  {
   "cell_type": "code",
   "execution_count": null,
   "id": "d24cd1e6-7474-4d65-bc53-1086f01500ad",
   "metadata": {},
   "outputs": [],
   "source": [
    "head(S2.2@meta.data)"
   ]
  },
  {
   "cell_type": "code",
   "execution_count": null,
   "id": "22f953e9-f53f-4fea-a315-b487c12671af",
   "metadata": {},
   "outputs": [],
   "source": [
    "S2.3@meta.data$Study = 'PRJNA1080020'\n",
    "S2.3@meta.data$Batch = 'SRX13629841'\n",
    "S2.3@meta.data$`RNA_snn_res.0.5` <- NULL\n",
    "S2.3@meta.data$`RNA_snn_res.0.6` <- NULL\n",
    "S2.3@meta.data$`RNA_snn_res.0.8` <- NULL\n",
    "S2.3@meta.data$`RNA_snn_res.0.9` <- NULL\n",
    "S2.3@meta.data$ident <- NULL\n",
    "S2.3@meta.data$detected <- NULL\n",
    "S2.3@meta.data$subsets_ERCC_detected <- NULL\n",
    "S2.3@meta.data$subsets_ERCC_sum <- NULL\n",
    "S2.3@meta.data$subsets_ERCC_percent <- NULL\n",
    "S2.3@meta.data$subsets_Mito_detected <- NULL\n",
    "S2.3@meta.data$subsets_Mito_percent <- NULL\n",
    "S2.3@meta.data$subsets_Mito_sum <- NULL\n",
    "S2.3@meta.data$seurat_clusters <- NULL\n",
    "S2.3@meta.data$sum <- NULL\n",
    "S2.3@meta.data$total <- NULL\n",
    "S2.3@meta.data$subsets_ERCC_sum <- NULL\n",
    "S2.3@meta.data$orig.ident <- NULL\n",
    "S2.3@meta.data$percent.mt <- NULL\n",
    "S2.3@meta.data$DevTP ='8-14 w'\n",
    "S2.3@meta.data$Strain ='Sp7-Cre C57BL/6J'\n",
    "S2.3@meta.data$Tissue ='Endosteum'\n",
    "S2.3@meta.data$Technology =\"10 x 3' v3\"\n",
    "S2.3@meta.data$Organism ='Mus musculus'\n",
    "S2.3@meta.data$Author =\"OBrien\""
   ]
  },
  {
   "cell_type": "code",
   "execution_count": null,
   "id": "8b6ec6d2-d29f-4c3d-bfef-c3d5cd7a8c70",
   "metadata": {},
   "outputs": [],
   "source": [
    "head(S2.3@meta.data)"
   ]
  },
  {
   "cell_type": "code",
   "execution_count": null,
   "id": "5550b14a-1f8f-4775-9b32-9f19bf20f729",
   "metadata": {},
   "outputs": [],
   "source": [
    "S2.4@meta.data$Study = 'PRJNA1080020'\n",
    "S2.4@meta.data$Batch = 'SRX23729873'\n",
    "S2.4@meta.data$`RNA_snn_res.0.5` <- NULL\n",
    "S2.4@meta.data$`RNA_snn_res.0.6` <- NULL\n",
    "S2.4@meta.data$`RNA_snn_res.0.8` <- NULL\n",
    "S2.4@meta.data$`RNA_snn_res.0.9` <- NULL\n",
    "S2.4@meta.data$ident <- NULL\n",
    "S2.4@meta.data$detected <- NULL\n",
    "S2.4@meta.data$subsets_ERCC_detected <- NULL\n",
    "S2.4@meta.data$subsets_ERCC_sum <- NULL\n",
    "S2.4@meta.data$subsets_ERCC_percent <- NULL\n",
    "S2.4@meta.data$subsets_Mito_detected <- NULL\n",
    "S2.4@meta.data$subsets_Mito_percent <- NULL\n",
    "S2.4@meta.data$subsets_Mito_sum <- NULL\n",
    "S2.4@meta.data$seurat_clusters <- NULL\n",
    "S2.4@meta.data$sum <- NULL\n",
    "S2.4@meta.data$total <- NULL\n",
    "S2.4@meta.data$subsets_ERCC_sum <- NULL\n",
    "S2.4@meta.data$orig.ident <- NULL\n",
    "S2.4@meta.data$percent.mt <- NULL\n",
    "S2.4@meta.data$DevTP ='8-14 w'\n",
    "S2.4@meta.data$Strain ='Sp7-Cre C57BL/6J'\n",
    "S2.4@meta.data$Tissue ='Periosteum'\n",
    "S2.4@meta.data$Technology =\"10 x 3' v3\"\n",
    "S2.4@meta.data$Organism ='Mus musculus'\n",
    "S2.4@meta.data$Author =\"OBrien\""
   ]
  },
  {
   "cell_type": "code",
   "execution_count": null,
   "id": "1042bb47-be79-4a12-b857-1e521114f82f",
   "metadata": {},
   "outputs": [],
   "source": [
    "head(S2.4@meta.data)"
   ]
  },
  {
   "cell_type": "code",
   "execution_count": null,
   "id": "4d988237-08b3-4c8c-aab6-4adc32f6b0c7",
   "metadata": {},
   "outputs": [],
   "source": [
    "S2.5@meta.data$Study = 'PRJNA1080020'\n",
    "S2.5@meta.data$Batch = 'SRX23729874'\n",
    "S2.5@meta.data$`RNA_snn_res.0.5` <- NULL\n",
    "S2.5@meta.data$`RNA_snn_res.0.6` <- NULL\n",
    "S2.5@meta.data$`RNA_snn_res.0.8` <- NULL\n",
    "S2.5@meta.data$`RNA_snn_res.0.9` <- NULL\n",
    "S2.5@meta.data$ident <- NULL\n",
    "S2.5@meta.data$detected <- NULL\n",
    "S2.5@meta.data$subsets_ERCC_detected <- NULL\n",
    "S2.5@meta.data$subsets_ERCC_sum <- NULL\n",
    "S2.5@meta.data$subsets_ERCC_percent <- NULL\n",
    "S2.5@meta.data$subsets_Mito_detected <- NULL\n",
    "S2.5@meta.data$subsets_Mito_percent <- NULL\n",
    "S2.5@meta.data$subsets_Mito_sum <- NULL\n",
    "S2.5@meta.data$seurat_clusters <- NULL\n",
    "S2.5@meta.data$sum <- NULL\n",
    "S2.5@meta.data$total <- NULL\n",
    "S2.5@meta.data$subsets_ERCC_sum <- NULL\n",
    "S2.5@meta.data$orig.ident <- NULL\n",
    "S2.5@meta.data$percent.mt <- NULL\n",
    "S2.5@meta.data$DevTP ='8-14 w'\n",
    "S2.5@meta.data$Strain ='Sp7-Cre C57BL/6J'\n",
    "S2.5@meta.data$Tissue ='Periosteum'\n",
    "S2.5@meta.data$Technology =\"10x 3' v3\"\n",
    "S2.5@meta.data$Organism ='Mus musculus'\n",
    "S2.5@meta.data$Author =\"OBrien\""
   ]
  },
  {
   "cell_type": "code",
   "execution_count": null,
   "id": "e052d0a9-ed5f-4b73-a68f-045b0e31252b",
   "metadata": {},
   "outputs": [],
   "source": [
    "head(S2.5@meta.data)"
   ]
  },
  {
   "cell_type": "code",
   "execution_count": null,
   "id": "53bdf7ce-432f-444a-86e3-7844f3549d5f",
   "metadata": {},
   "outputs": [],
   "source": [
    "S3@meta.data$Study = 'PRJEB33444'\n",
    "S3@meta.data$Batch = 'PRJEB33444'\n",
    "S3@meta.data$Author = 'Maes'\n",
    "S3@meta.data$`RNA_snn_res.0.9`<- NULL\n",
    "S3@meta.data$seurat_clusters <- NULL\n",
    "\n",
    "S3@meta.data$percent.mt <- NULL\n",
    "S3@meta.data$DevTP <- S3@meta.data$Age\n",
    "S3@meta.data$Age <- NULL\n",
    "\n",
    "S3@meta.data$nFeature_RNA <- S3@meta.data$nfeature_RNA\n",
    "S3@meta.data$nfeature_RNA <- NULL"
   ]
  },
  {
   "cell_type": "code",
   "execution_count": null,
   "id": "8cc10074-f9bf-462f-9884-6b717823d85f",
   "metadata": {},
   "outputs": [],
   "source": [
    "head(S3@meta.data)"
   ]
  },
  {
   "cell_type": "code",
   "execution_count": null,
   "id": "3d79970d-582e-466b-9ce6-33d827f982cc",
   "metadata": {},
   "outputs": [],
   "source": [
    "S4@meta.data$Study = 'SRP122545'\n",
    "S4@meta.data$Batch = 'SRP122545'\n",
    "S4@meta.data$Author = 'Greenblatt'\n",
    "\n",
    "S4@meta.data$percent.mt <- NULL\n",
    "S4@meta.data$`RNA_snn_res.1` <- NULL\n",
    "S4@meta.data$seurat_clusters <- NULL\n",
    "\n",
    "S4@meta.data$DevTP <- S4@meta.data$Age\n",
    "S4@meta.data$Age <- NULL\n",
    "S4@meta.data$DevTP ='p6'"
   ]
  },
  {
   "cell_type": "code",
   "execution_count": null,
   "id": "05570cda-8f3e-43e8-9bcd-4eb459a56d3c",
   "metadata": {},
   "outputs": [],
   "source": [
    "head(S4@meta.data)"
   ]
  },
  {
   "cell_type": "code",
   "execution_count": null,
   "id": "1eca5001-2009-4a05-89df-843f01ae0d91",
   "metadata": {},
   "outputs": [],
   "source": [
    "S5.1@meta.data$Study = 'GSE142425'\n",
    "S5.1@meta.data$Batch = 'GSM4227224'\n",
    "S5.1@meta.data$Author = 'Guilak'\n",
    "S5.1@meta.data$`detected.1`<- NULL\n",
    "S5.1@meta.data$`RNA_snn_res.0.6`<- NULL\n",
    "S5.1@meta.data$geo_accession<- NULL\n",
    "S5.1@meta.data$instrument_model<- NULL\n",
    "S5.1@meta.data$`RNA_snn_res.0.5`<- NULL\n",
    "S5.1@meta.data$`RNA_snn_res.0.15`<- NULL\n",
    "S5.1@meta.data$`RNA_snn_res.0.3`<- NULL\n",
    "S5.1@meta.data$`RNA_snn_res.0.2`<- NULL\n",
    "\n",
    "S5.1@meta.data$`subsets_ERCC_detected.1` <- NULL\n",
    "S5.1@meta.data$`subsets_ERCC_percent.1` <- NULL\n",
    "S5.1@meta.data$`subsets_ERCC_sum.1` <- NULL\n",
    "S5.1@meta.data$`subsets_Mito_detected.1` <- NULL\n",
    "S5.1@meta.data$`subsets_Mito_percent.1` <- NULL\n",
    "S5.1@meta.data$`subsets_Mito_sum.1` <- NULL\n",
    "S5.1@meta.data$`sum.1` <- NULL\n",
    "S5.1@meta.data$`total.1` <- NULL\n",
    "S5.1@meta.data$detected <- NULL\n",
    "S5.1@meta.data$ident <- NULL\n",
    "S5.1@meta.data$Instrument <- NULL\n",
    "S5.1@meta.data$orig.ident <- NULL\n",
    "S5.1@meta.data$RNA_snn_res.0.065 <- NULL\n",
    "S5.1@meta.data$Sample_Name <- NULL\n",
    "S5.1@meta.data$seurat_clusters <- NULL\n",
    "S5.1@meta.data$subsets_ERCC_detected <- NULL\n",
    "S5.1@meta.data$subsets_ERCC_percent <- NULL\n",
    "S5.1@meta.data$subsets_ERCC_sum <- NULL\n",
    "S5.1@meta.data$sum <- NULL\n",
    "S5.1@meta.data$total <- NULL\n",
    "S5.1@meta.data$subsets_Mito_detected<- NULL\n",
    "S5.1@meta.data$subsets_Mito_sum<- NULL\n",
    "S5.1@meta.data$subsets_Mito_percent <- NULL\n",
    "S5.1@meta.data$source_name <- NULL\n",
    "\n",
    "S5.1@meta.data$percent.mt <- NULL\n",
    "\n",
    "\n",
    "S5.1@meta.data$DevTP <- S5.1@meta.data$developmental_stage\n",
    "S5.1@meta.data$developmental_stage <- NULL\n",
    "S5.1@meta.data$Strain<- S5.1@meta.data$strain\n",
    "S5.1@meta.data$strain <- NULL\n",
    "S5.1@meta.data$Tissue <- S5.1@meta.data$tissue\n",
    "S5.1@meta.data$tissue <- NULL\n",
    "\n",
    "S5.1@meta.data$Organism <- 'Mus musculus'\n",
    "S5.1@meta.data$organism <- NULL\n",
    "S5.1@meta.data$Technology ='10x'\n",
    "S5.1@meta.data$technology <- NULL"
   ]
  },
  {
   "cell_type": "code",
   "execution_count": null,
   "id": "0b2cfa35-7a19-4f6a-bbb1-b7a9c7d9100c",
   "metadata": {},
   "outputs": [],
   "source": [
    "head(S5.1@meta.data)"
   ]
  },
  {
   "cell_type": "code",
   "execution_count": null,
   "id": "0466ce8c-4cd1-41d0-9460-423bd2015335",
   "metadata": {},
   "outputs": [],
   "source": [
    "S5.2@meta.data$Study = 'GSE142425'\n",
    "S5.2@meta.data$Batch = 'GSM4227225'\n",
    "S5.2@meta.data$Author = 'Guilak'\n",
    "S5.2@meta.data$`detected.1`<- NULL\n",
    "S5.2@meta.data$`subsets_ERCC_detected.1` <- NULL\n",
    "S5.2@meta.data$`subsets_ERCC_percent.1` <- NULL\n",
    "S5.2@meta.data$`subsets_ERCC_sum.1` <- NULL\n",
    "S5.2@meta.data$`subsets_Mito_detected.1` <- NULL\n",
    "S5.2@meta.data$`subsets_Mito_percent.1` <- NULL\n",
    "S5.2@meta.data$`subsets_Mito_sum.1` <- NULL\n",
    "S5.2@meta.data$`sum.1` <- NULL\n",
    "S5.2@meta.data$`total.1` <- NULL\n",
    "S5.2@meta.data$detected <- NULL\n",
    "S5.2@meta.data$ident <- NULL\n",
    "S5.2@meta.data$Instrument <- NULL\n",
    "S5.2@meta.data$orig.ident <- NULL\n",
    "S5.2@meta.data$RNA_snn_res.0.065 <- NULL\n",
    "S5.2@meta.data$Sample_Name <- NULL\n",
    "S5.2@meta.data$seurat_clusters <- NULL\n",
    "S5.2@meta.data$subsets_ERCC_detected <- NULL\n",
    "S5.2@meta.data$subsets_ERCC_percent <- NULL\n",
    "S5.2@meta.data$subsets_ERCC_sum <- NULL\n",
    "S5.2@meta.data$sum <- NULL\n",
    "S5.2@meta.data$total <- NULL\n",
    "S5.2@meta.data$subsets_Mito_detected<- NULL\n",
    "S5.2@meta.data$subsets_Mito_sum<- NULL\n",
    "S5.2@meta.data$subsets_Mito_percent <- NULL\n",
    "S5.2@meta.data$source_name <- NULL\n",
    "\n",
    "S5.2@meta.data$percent.mt <- NULL\n",
    "S5.2@meta.data$DevTP <- S5.2@meta.data$developmental_stage\n",
    "S5.2@meta.data$developmental_stage <- NULL\n",
    "S5.2@meta.data$Strain<- S5.2@meta.data$strain\n",
    "S5.2@meta.data$strain <- NULL\n",
    "S5.2@meta.data$Tissue <- S5.2@meta.data$tissue\n",
    "S5.2@meta.data$tissue <- NULL\n",
    "\n",
    "S5.2@meta.data$Organism <- S5.2@meta.data$organism\n",
    "S5.2@meta.data$organism <- NULL\n",
    "S5.2@meta.data$Technology <- S5.2@meta.data$technology\n",
    "S5.2@meta.data$technology <- NULL\n",
    "\n",
    "S5.2@meta.data$`detected.1`<- NULL\n",
    "S5.2@meta.data$`RNA_snn_res.0.6`<- NULL\n",
    "S5.2@meta.data$geo_accession<- NULL\n",
    "S5.2@meta.data$instrument_model<- NULL\n",
    "\n",
    "S5.2@meta.data$`RNA_snn_res.0.5`<- NULL\n",
    "S5.2@meta.data$`RNA_snn_res.0.15`<- NULL\n",
    "S5.2@meta.data$`RNA_snn_res.0.3`<- NULL\n",
    "S5.2@meta.data$`RNA_snn_res.0.2`<- NULL"
   ]
  },
  {
   "cell_type": "code",
   "execution_count": null,
   "id": "8aad33f7-1fae-449a-9507-4281065b4784",
   "metadata": {},
   "outputs": [],
   "source": [
    "head(S5.2@meta.data)"
   ]
  },
  {
   "cell_type": "code",
   "execution_count": null,
   "id": "63fe7d91-4b30-4f18-882d-8b8b59bb185d",
   "metadata": {},
   "outputs": [],
   "source": [
    "S5.3@meta.data$Study = 'GSE142425'\n",
    "S5.3@meta.data$Batch = 'GSM4227226'\n",
    "S5.3@meta.data$Author = 'Guilak'\n",
    "S5.3@meta.data$`detected.1`<- NULL\n",
    "S5.3@meta.data$`subsets_ERCC_detected.1` <- NULL\n",
    "S5.3@meta.data$`subsets_ERCC_percent.1` <- NULL\n",
    "S5.3@meta.data$`subsets_ERCC_sum.1` <- NULL\n",
    "S5.3@meta.data$`subsets_Mito_detected.1` <- NULL\n",
    "S5.3@meta.data$`subsets_Mito_percent.1` <- NULL\n",
    "S5.3@meta.data$`subsets_Mito_sum.1` <- NULL\n",
    "S5.3@meta.data$`sum.1` <- NULL\n",
    "S5.3@meta.data$`total.1` <- NULL\n",
    "S5.3@meta.data$detected <- NULL\n",
    "S5.3@meta.data$ident <- NULL\n",
    "S5.3@meta.data$Instrument <- NULL\n",
    "S5.3@meta.data$orig.ident <- NULL\n",
    "S5.3@meta.data$RNA_snn_res.0.065 <- NULL\n",
    "S5.3@meta.data$Sample_Name <- NULL\n",
    "S5.3@meta.data$seurat_clusters <- NULL\n",
    "S5.3@meta.data$subsets_ERCC_detected <- NULL\n",
    "S5.3@meta.data$subsets_ERCC_percent <- NULL\n",
    "S5.3@meta.data$subsets_ERCC_sum <- NULL\n",
    "S5.3@meta.data$sum <- NULL\n",
    "S5.3@meta.data$total <- NULL\n",
    "S5.3@meta.data$subsets_Mito_detected<- NULL\n",
    "S5.3@meta.data$subsets_Mito_sum<- NULL\n",
    "S5.3@meta.data$subsets_Mito_percent <- NULL\n",
    "S5.3@meta.data$source_name <- NULL\n",
    "S5.3@meta.data$`RNA_snn_res.0.5`<- NULL\n",
    "S5.3@meta.data$`RNA_snn_res.0.15`<- NULL\n",
    "S5.3@meta.data$`RNA_snn_res.0.3`<- NULL\n",
    "S5.3@meta.data$`RNA_snn_res.0.2`<- NULL\n",
    "\n",
    "S5.3@meta.data$percent.mt <- NULL\n",
    "S5.3@meta.data$DevTP <- S5.3@meta.data$developmental_stage\n",
    "S5.3@meta.data$developmental_stage <- NULL\n",
    "S5.3@meta.data$Strain<- S5.3@meta.data$strain\n",
    "S5.3@meta.data$strain <- NULL\n",
    "S5.3@meta.data$Tissue <- S5.3@meta.data$tissue\n",
    "S5.3@meta.data$tissue <- NULL\n",
    "\n",
    "S5.3@meta.data$Organism <- S5.3@meta.data$organism\n",
    "S5.3@meta.data$organism <- NULL\n",
    "S5.3@meta.data$Technology <- S5.3@meta.data$technology\n",
    "S5.3@meta.data$technology <- NULL\n",
    "\n",
    "S5.3@meta.data$`detected.1`<- NULL\n",
    "S5.3@meta.data$`RNA_snn_res.0.6`<- NULL\n",
    "S5.3@meta.data$geo_accession<- NULL\n",
    "S5.3@meta.data$instrument_model<- NULL"
   ]
  },
  {
   "cell_type": "code",
   "execution_count": null,
   "id": "6840c789-ff68-4f61-a572-7a055451cb45",
   "metadata": {},
   "outputs": [],
   "source": [
    "head(S5.3@meta.data)"
   ]
  },
  {
   "cell_type": "code",
   "execution_count": null,
   "id": "bf52fd02-eb6f-403b-9f6b-84fd96e0c833",
   "metadata": {},
   "outputs": [],
   "source": [
    "S5.4@meta.data$Study = 'GSE142425'\n",
    "S5.4@meta.data$Batch = 'GSM4227227'\n",
    "S5.4@meta.data$Author = 'Guilak'\n",
    "S5.4@meta.data$`detected.1`<- NULL\n",
    "S5.4@meta.data$`subsets_ERCC_detected.1` <- NULL\n",
    "S5.4@meta.data$`subsets_ERCC_percent.1` <- NULL\n",
    "S5.4@meta.data$`subsets_ERCC_sum.1` <- NULL\n",
    "S5.4@meta.data$`subsets_Mito_detected.1` <- NULL\n",
    "S5.4@meta.data$`subsets_Mito_percent.1` <- NULL\n",
    "S5.4@meta.data$`subsets_Mito_sum.1` <- NULL\n",
    "S5.4@meta.data$`sum.1` <- NULL\n",
    "S5.4@meta.data$`total.1` <- NULL\n",
    "S5.4@meta.data$detected <- NULL\n",
    "S5.4@meta.data$ident <- NULL\n",
    "S5.4@meta.data$Instrument <- NULL\n",
    "S5.4@meta.data$orig.ident <- NULL\n",
    "S5.4@meta.data$RNA_snn_res.0.065 <- NULL\n",
    "S5.4@meta.data$Sample_Name <- NULL\n",
    "S5.4@meta.data$seurat_clusters <- NULL\n",
    "S5.4@meta.data$subsets_ERCC_detected <- NULL\n",
    "S5.4@meta.data$subsets_ERCC_percent <- NULL\n",
    "S5.4@meta.data$subsets_ERCC_sum <- NULL\n",
    "S5.4@meta.data$sum <- NULL\n",
    "S5.4@meta.data$total <- NULL\n",
    "S5.4@meta.data$subsets_Mito_detected<- NULL\n",
    "S5.4@meta.data$subsets_Mito_sum<- NULL\n",
    "S5.4@meta.data$subsets_Mito_percent <- NULL\n",
    "S5.4@meta.data$source_name <- NULL\n",
    "S5.4@meta.data$percent.mt <- NULL\n",
    "S5.4@meta.data$`RNA_snn_res.0.5`<- NULL\n",
    "S5.4@meta.data$`RNA_snn_res.0.15`<- NULL\n",
    "S5.4@meta.data$`RNA_snn_res.0.3`<- NULL\n",
    "S5.4@meta.data$`RNA_snn_res.0.2`<- NULL\n",
    "S5.4@meta.data$percent.mt <- NULL\n",
    "S5.4@meta.data$DevTP <- S5.4@meta.data$developmental_stage\n",
    "S5.4@meta.data$developmental_stage <- NULL\n",
    "S5.4@meta.data$Strain<- S5.4@meta.data$strain\n",
    "S5.4@meta.data$strain <- NULL\n",
    "S5.4@meta.data$Tissue <- S5.4@meta.data$tissue\n",
    "S5.4@meta.data$tissue <- NULL\n",
    "\n",
    "S5.4@meta.data$Organism <- S5.4@meta.data$organism\n",
    "S5.4@meta.data$organism <- NULL\n",
    "S5.4@meta.data$Technology <- S5.4@meta.data$technology\n",
    "S5.4@meta.data$technology <- NULL\n",
    "\n",
    "S5.4@meta.data$`detected.1`<- NULL\n",
    "S5.4@meta.data$`RNA_snn_res.0.6`<- NULL\n",
    "S5.4@meta.data$geo_accession<- NULL\n",
    "S5.4@meta.data$instrument_model<- NULL"
   ]
  },
  {
   "cell_type": "code",
   "execution_count": null,
   "id": "5699646a-b6b1-4900-96a9-cacadb9000a8",
   "metadata": {},
   "outputs": [],
   "source": [
    "head(S5.4@meta.data)"
   ]
  },
  {
   "cell_type": "code",
   "execution_count": null,
   "id": "1eeeec2d-0abd-4053-b5c6-a15a38d7605a",
   "metadata": {},
   "outputs": [],
   "source": [
    "S6.1@meta.data$Study = 'GSE158820'\n",
    "S6.1@meta.data$Batch = 'GSM4811354'\n",
    "S6.1@meta.data$Author = 'Kmita'\n",
    "S6.1@meta.data$`detected.1`<- NULL\n",
    "S6.1@meta.data$`subsets_ERCC_detected.1` <- NULL\n",
    "S6.1@meta.data$`subsets_ERCC_percent.1` <- NULL\n",
    "S6.1@meta.data$`subsets_ERCC_sum.1` <- NULL\n",
    "S6.1@meta.data$`subsets_Mito_detected.1` <- NULL\n",
    "S6.1@meta.data$`subsets_Mito_percent.1` <- NULL\n",
    "S6.1@meta.data$`subsets_Mito_sum.1` <- NULL\n",
    "S6.1@meta.data$`sum.1` <- NULL\n",
    "S6.1@meta.data$`total.1` <- NULL\n",
    "S6.1@meta.data$detected <- NULL\n",
    "S6.1@meta.data$ident <- NULL\n",
    "S6.1@meta.data$Instrument <- NULL\n",
    "S6.1@meta.data$orig.ident <- NULL\n",
    "S6.1@meta.data$RNA_snn_res.0.065 <- NULL\n",
    "S6.1@meta.data$Sample_Name <- NULL\n",
    "S6.1@meta.data$seurat_clusters <- NULL\n",
    "S6.1@meta.data$subsets_ERCC_detected <- NULL\n",
    "S6.1@meta.data$subsets_ERCC_percent <- NULL\n",
    "S6.1@meta.data$subsets_ERCC_sum <- NULL\n",
    "S6.1@meta.data$sum <- NULL\n",
    "S6.1@meta.data$total <- NULL\n",
    "S6.1@meta.data$subsets_Mito_detected<- NULL\n",
    "S6.1@meta.data$subsets_Mito_sum<- NULL\n",
    "S6.1@meta.data$subsets_Mito_percent <- NULL\n",
    "S6.1@meta.data$source_name <- NULL\n",
    "\n",
    "S6.1@meta.data$percent.mt <- NULL\n",
    "S6.1@meta.data$DevTP <- S6.1@meta.data$Developmental_stage\n",
    "S6.1@meta.data$Developmental_stage <- NULL\n",
    "S6.1@meta.data$Strain<- S6.1@meta.data$STRAIN\n",
    "S6.1@meta.data$STRAIN <- NULL"
   ]
  },
  {
   "cell_type": "code",
   "execution_count": null,
   "id": "cc9d6dcc-d162-489a-a048-f7b77ba82307",
   "metadata": {},
   "outputs": [],
   "source": [
    "head(S6.1@meta.data)"
   ]
  },
  {
   "cell_type": "code",
   "execution_count": null,
   "id": "4f282b80-b777-4d08-a2f5-d0852e1aacf1",
   "metadata": {},
   "outputs": [],
   "source": [
    "S6.2@meta.data$Study = 'GSE158820'\n",
    "S6.2@meta.data$Batch = 'GSM4811355'\n",
    "S6.2@meta.data$Author = 'Kmita'\n",
    "\n",
    "S6.2@meta.data$`detected.1`<- NULL\n",
    "S6.2@meta.data$`subsets_ERCC_detected.1` <- NULL\n",
    "S6.2@meta.data$`subsets_ERCC_percent.1` <- NULL\n",
    "S6.2@meta.data$`subsets_ERCC_sum.1` <- NULL\n",
    "S6.2@meta.data$`subsets_Mito_detected.1` <- NULL\n",
    "S6.2@meta.data$`subsets_Mito_percent.1` <- NULL\n",
    "S6.2@meta.data$`subsets_Mito_sum.1` <- NULL\n",
    "S6.2@meta.data$`sum.1` <- NULL\n",
    "S6.2@meta.data$`total.1` <- NULL\n",
    "S6.2@meta.data$detected <- NULL\n",
    "S6.2@meta.data$ident <- NULL\n",
    "S6.2@meta.data$Instrument <- NULL\n",
    "S6.2@meta.data$orig.ident <- NULL\n",
    "S6.2@meta.data$RNA_snn_res.0.095 <- NULL\n",
    "S6.2@meta.data$Sample_Name <- NULL\n",
    "S6.2@meta.data$seurat_clusters <- NULL\n",
    "S6.2@meta.data$subsets_ERCC_detected <- NULL\n",
    "S6.2@meta.data$subsets_ERCC_percent <- NULL\n",
    "S6.2@meta.data$subsets_ERCC_sum <- NULL\n",
    "S6.2@meta.data$sum <- NULL\n",
    "S6.2@meta.data$total <- NULL\n",
    "S6.2@meta.data$subsets_Mito_detected<- NULL\n",
    "S6.2@meta.data$subsets_Mito_sum<- NULL\n",
    "S6.2@meta.data$subsets_Mito_percent <- NULL\n",
    "S6.2@meta.data$source_name <- NULL\n",
    "\n",
    "S6.2@meta.data$percent.mt <- NULL\n",
    "S6.2@meta.data$DevTP <- S6.2@meta.data$Developmental_stage\n",
    "S6.2@meta.data$Developmental_stage <- NULL\n",
    "S6.2@meta.data$Strain<- S6.2@meta.data$STRAIN\n",
    "S6.2@meta.data$STRAIN <- NULL"
   ]
  },
  {
   "cell_type": "code",
   "execution_count": null,
   "id": "3307c57e-dfb1-4af8-a092-122e75009392",
   "metadata": {
    "tags": []
   },
   "outputs": [],
   "source": [
    "head(S6.2@meta.data)"
   ]
  },
  {
   "cell_type": "code",
   "execution_count": null,
   "id": "9af31323-b9b4-4df2-a1f2-6ec5fa788384",
   "metadata": {},
   "outputs": [],
   "source": [
    "S6.3@meta.data$Study = 'GSE158820'\n",
    "S6.3@meta.data$Batch = 'GSM4811356'\n",
    "S6.3@meta.data$Author = 'Kmita'\n",
    "S6.3@meta.data$`detected.1`<- NULL\n",
    "S6.3@meta.data$`subsets_ERCC_detected.1` <- NULL\n",
    "S6.3@meta.data$`subsets_ERCC_percent.1` <- NULL\n",
    "S6.3@meta.data$`subsets_ERCC_sum.1` <- NULL\n",
    "S6.3@meta.data$`subsets_Mito_detected.1` <- NULL\n",
    "S6.3@meta.data$`subsets_Mito_percent.1` <- NULL\n",
    "S6.3@meta.data$`subsets_Mito_sum.1` <- NULL\n",
    "S6.3@meta.data$`sum.1` <- NULL\n",
    "S6.3@meta.data$`total.1` <- NULL\n",
    "S6.3@meta.data$detected <- NULL\n",
    "S6.3@meta.data$ident <- NULL\n",
    "S6.3@meta.data$Instrument <- NULL\n",
    "S6.3@meta.data$orig.ident <- NULL\n",
    "S6.3@meta.data$RNA_snn_res.0.15 <- NULL\n",
    "S6.3@meta.data$Sample_Name <- NULL\n",
    "S6.3@meta.data$seurat_clusters <- NULL\n",
    "S6.3@meta.data$subsets_ERCC_detected <- NULL\n",
    "S6.3@meta.data$subsets_ERCC_percent <- NULL\n",
    "S6.3@meta.data$subsets_ERCC_sum <- NULL\n",
    "S6.3@meta.data$sum <- NULL\n",
    "S6.3@meta.data$total <- NULL\n",
    "S6.3@meta.data$subsets_Mito_detected<- NULL\n",
    "S6.3@meta.data$subsets_Mito_sum<- NULL\n",
    "S6.3@meta.data$subsets_Mito_percent <- NULL\n",
    "S6.3@meta.data$source_name <- NULL\n",
    "\n",
    "S6.3@meta.data$percent.mt <- NULL\n",
    "S6.3@meta.data$DevTP <- S6.3@meta.data$Developmental_stage\n",
    "S6.3@meta.data$Developmental_stage <- NULL\n",
    "S6.3@meta.data$Strain<- S6.3@meta.data$STRAIN\n",
    "S6.3@meta.data$STRAIN <- NULL"
   ]
  },
  {
   "cell_type": "code",
   "execution_count": null,
   "id": "1cb0da90-f482-49bb-a69d-556e4b176409",
   "metadata": {
    "tags": []
   },
   "outputs": [],
   "source": [
    "head(S6.3@meta.data)"
   ]
  },
  {
   "cell_type": "code",
   "execution_count": null,
   "id": "339bc8bb-b46c-4fb6-af6a-383d640c03a2",
   "metadata": {},
   "outputs": [],
   "source": [
    "S7.1@meta.data$Study = 'GSE211584'\n",
    "S7.1@meta.data$Batch = 'GSM6481125'\n",
    "S7.1@meta.data$Author = 'Farrell'\n",
    "S7.1@meta.data$Tissue = 'Knee synovium'\n",
    "S7.1@meta.data$Strain= 'C57Bl/6'\n",
    "S7.1@meta.data$Organism= 'Mus musculus'\n",
    "S7.1@meta.data$`detected.1`<- NULL\n",
    "\n",
    "S7.1@meta.data$`RNA_snn_res.2` <- NULL\n",
    "\n",
    "S7.1@meta.data$`subsets_ERCC_sum.1` <- NULL\n",
    "S7.1@meta.data$`subsets_Mito_detected.1` <- NULL\n",
    "S7.1@meta.data$`subsets_Mito_percent.1` <- NULL\n",
    "S7.1@meta.data$`subsets_Mito_sum.1` <- NULL\n",
    "S7.1@meta.data$`sum.1` <- NULL\n",
    "S7.1@meta.data$`total.1` <- NULL\n",
    "S7.1@meta.data$detected <- NULL\n",
    "S7.1@meta.data$ident <- NULL\n",
    "S7.1@meta.data$Instrument <- NULL\n",
    "S7.1@meta.data$orig.ident <- NULL\n",
    "S7.1@meta.data$`RNA_snn_res.0.8`<- NULL\n",
    "S7.1@meta.data$Sample_Name <- NULL\n",
    "S7.1@meta.data$seurat_clusters <- NULL\n",
    "S7.1@meta.data$subsets_ERCC_detected <- NULL\n",
    "S7.1@meta.data$subsets_ERCC_percent <- NULL\n",
    "S7.1@meta.data$subsets_ERCC_sum <- NULL\n",
    "S7.1@meta.data$sum <- NULL\n",
    "S7.1@meta.data$total <- NULL\n",
    "S7.1@meta.data$subsets_Mito_detected<- NULL\n",
    "S7.1@meta.data$subsets_Mito_sum<- NULL\n",
    "S7.1@meta.data$subsets_Mito_percent <- NULL\n",
    "S7.1@meta.data$source_name <- NULL\n",
    "\n",
    "S7.1@meta.data$percent.mt <- NULL\n",
    "S7.1@meta.data$DevTP <- S7.1@meta.data$Age\n",
    "S7.1@meta.data$Age <- NULL\n",
    "S7.1@meta.data$Technology <- S7.1@meta.data$Tech\n",
    "S7.1@meta.data$Tech <- NULL"
   ]
  },
  {
   "cell_type": "code",
   "execution_count": null,
   "id": "0fce9bfd-9a2e-4649-91c6-a7616b00be6c",
   "metadata": {
    "tags": []
   },
   "outputs": [],
   "source": [
    "head(S7.1@meta.data)"
   ]
  },
  {
   "cell_type": "code",
   "execution_count": null,
   "id": "d51c6675-9037-4e81-b5c8-7ca574b331db",
   "metadata": {},
   "outputs": [],
   "source": [
    "S7.2@meta.data$Study = 'GSE211584'\n",
    "S7.2@meta.data$Batch = 'GSM6481126'\n",
    "S7.2@meta.data$Author = 'Farrell'\n",
    "S7.2@meta.data$Tissue = 'Knee synovium'\n",
    "S7.2@meta.data$Strain= 'C57Bl/6'\n",
    "S7.2@meta.data$Organism= 'Mus musculus'\n",
    "S7.2@meta.data$`detected.1`<- NULL\n",
    "S7.2@meta.data$`subsets_ERCC_detected.1` <- NULL\n",
    "S7.2@meta.data$`subsets_ERCC_percent.1` <- NULL\n",
    "S7.2@meta.data$`subsets_ERCC_sum.1` <- NULL\n",
    "S7.2@meta.data$`subsets_Mito_detected.1` <- NULL\n",
    "S7.2@meta.data$`subsets_Mito_percent.1` <- NULL\n",
    "S7.2@meta.data$`subsets_Mito_sum.1` <- NULL\n",
    "S7.2@meta.data$`sum.1` <- NULL\n",
    "S7.2@meta.data$`total.1` <- NULL\n",
    "S7.2@meta.data$detected <- NULL\n",
    "S7.2@meta.data$ident <- NULL\n",
    "S7.2@meta.data$Instrument <- NULL\n",
    "S7.2@meta.data$orig.ident <- NULL\n",
    "S7.2@meta.data$`RNA_snn_res.0.8`<- NULL\n",
    "S7.2@meta.data$Sample_Name <- NULL\n",
    "S7.2@meta.data$seurat_clusters <- NULL\n",
    "S7.2@meta.data$subsets_ERCC_detected <- NULL\n",
    "S7.2@meta.data$subsets_ERCC_percent <- NULL\n",
    "S7.2@meta.data$subsets_ERCC_sum <- NULL\n",
    "S7.2@meta.data$sum <- NULL\n",
    "S7.2@meta.data$total <- NULL\n",
    "S7.2@meta.data$subsets_Mito_detected<- NULL\n",
    "S7.2@meta.data$subsets_Mito_sum<- NULL\n",
    "S7.2@meta.data$subsets_Mito_percent <- NULL\n",
    "S7.2@meta.data$source_name <- NULL\n",
    "S7.2@meta.data$percent.mt <- NULL\n",
    "S7.2@meta.data$DevTP <- S7.2@meta.data$Age\n",
    "S7.2@meta.data$Age <- NULL\n",
    "S7.2@meta.data$Technology <- S7.2@meta.data$Tech\n",
    "S7.2@meta.data$Tech <- NULL\n",
    "S7.2@meta.data$`RNA_snn_res.2` <- NULL\n"
   ]
  },
  {
   "cell_type": "code",
   "execution_count": null,
   "id": "3b308ae5-1966-485e-81cc-f88c66eb8d41",
   "metadata": {
    "tags": []
   },
   "outputs": [],
   "source": [
    "head(S7.2@meta.data)"
   ]
  },
  {
   "cell_type": "code",
   "execution_count": null,
   "id": "24b1ae5b-13d6-464e-935a-5dc0877e7dc1",
   "metadata": {},
   "outputs": [],
   "source": [
    "S8@meta.data$Study = 'SRP188674'\n",
    "S8@meta.data$Batch = 'SRP188674'\n",
    "\n",
    "S8@meta.data$`RNA_snn_res.0.5` <- NULL\n",
    "S8@meta.data$seurat_clusters <- NULL\n",
    "\n",
    "S8@meta.data$percent.mt <- NULL\n",
    "S8@meta.data$DevTP <- S8@meta.data$Age\n",
    "S8@meta.data$Age <- NULL\n"
   ]
  },
  {
   "cell_type": "code",
   "execution_count": null,
   "id": "4260674b-bde4-4ce0-aa58-134cc2e1fbfa",
   "metadata": {},
   "outputs": [],
   "source": [
    "head(S8@meta.data)"
   ]
  },
  {
   "cell_type": "code",
   "execution_count": null,
   "id": "0ab46295-4015-4e31-be51-14b18517c8c3",
   "metadata": {},
   "outputs": [],
   "source": [
    "S9@meta.data$Study = 'GSE208152'\n",
    "S9@meta.data$Batch = 'GSE208152'\n",
    "S9@meta.data$Author = 'White'\n",
    "S9@meta.data$Tissue = 'long bone'\n",
    "S9@meta.data$Strain = 'Sost-cre long bone'\n",
    "S9@meta.data$Technology = \" 3' v2 10x\"\n",
    "S9@meta.data$DevTP = '8 w'\n",
    "\n",
    "S9@meta.data$`RNA_snn_res.0.5` <- NULL\n",
    "S9@meta.data$seurat_clusters <- NULL\n",
    "S9@meta.data$`RNA_snn_res.3` <- NULL\n",
    "S9@meta.data$`RNA_snn_res.1.2` <- NULL\n",
    "S9@meta.data$`RNA_snn_res.2` <- NULL\n",
    "S9@meta.data$`RNA_snn_res.4` <- NULL\n",
    "S9@meta.data$`RNA_snn_res.0.6` <- NULL\n",
    "\n",
    "S9@meta.data$sum <- NULL\n",
    "S9@meta.data$total <- NULL\n",
    "\n",
    "S9@meta.data$percent.mt <- NULL\n",
    "S9@meta.data$Age <- NULL\n",
    "S9@meta.data$Organism= 'Mus musculus'\n",
    "S9@meta.data$`detected.1`<- NULL\n",
    "S9@meta.data$`subsets_ERCC_detected` <- NULL\n",
    "S9@meta.data$`subsets_ERCC_percent` <- NULL\n",
    "S9@meta.data$`subsets_ERCC_sum` <- NULL\n",
    "S9@meta.data$`subsets_Mito_detected` <- NULL\n",
    "S9@meta.data$`subsets_Mito_percent` <- NULL\n",
    "S9@meta.data$`subsets_Mito_sum` <- NULL\n",
    "S9@meta.data$`sum.1` <- NULL\n",
    "S9@meta.data$`total.1` <- NULL\n",
    "S9@meta.data$detected <- NULL\n",
    "S9@meta.data$ident <- NULL\n",
    "S9@meta.data$Instrument <- NULL\n",
    "S9@meta.data$orig.ident <- NULL\n",
    "S9@meta.data$`RNA_snn_res.0.8`<- NULL\n",
    "S9@meta.data$Sample_Name <- NULL\n",
    "S9@meta.data$seurat_clusters <- NULL\n",
    "S9@meta.data$subsets_ERCC_detected <- NULL\n",
    "S9@meta.data$subsets_ERCC_percent <- NULL\n",
    "S9@meta.data$subsets_ERCC_sum <- NULL\n"
   ]
  },
  {
   "cell_type": "code",
   "execution_count": null,
   "id": "3bfdcd44-5f93-4fab-b3b5-f5d69282a562",
   "metadata": {},
   "outputs": [],
   "source": [
    "head(S9@meta.data)"
   ]
  },
  {
   "cell_type": "code",
   "execution_count": null,
   "id": "e8919b43-34aa-4c2b-b7a8-f7f0952048ed",
   "metadata": {},
   "outputs": [],
   "source": [
    "S10@meta.data$Study = 'GSE162033'\n",
    "S10@meta.data$Batch = 'GSE162033'\n",
    "S10@meta.data$Author = 'Levebvre'\n",
    "S10@meta.data$Technology = \" 3' v3 10x\"\n",
    "S10@meta.data$DevTP = \"p13\"\n",
    "S10@meta.data$Strain = \"Unknown\"\n",
    "S10@meta.data$Tissue = \"Tibial and femur epiphyses\"\n",
    "\n",
    "S10@meta.data$`RNA_snn_res.0.5` <- NULL\n",
    "S10@meta.data$seurat_clusters <- NULL\n",
    "S10@meta.data$`RNA_snn_res.0.6` <- NULL\n",
    "S10@meta.data$`RNA_snn_res.1.2` <- NULL\n",
    "S10@meta.data$`RNA_snn_res.2` <- NULL\n",
    "S10@meta.data$`RNA_snn_res.0.15` <- NULL\n",
    "S10@meta.data$sum <- NULL\n",
    "S10@meta.data$total <- NULL\n",
    "\n",
    "S10@meta.data$percent.mt <- NULL\n",
    "S10@meta.data$Age <- NULL\n",
    "S10@meta.data$Organism= 'Mus musculus'\n",
    "S10@meta.data$`detected.1`<- NULL\n",
    "S10@meta.data$`subsets_ERCC_detected` <- NULL\n",
    "S10@meta.data$`subsets_ERCC_percent` <- NULL\n",
    "S10@meta.data$`subsets_ERCC_sum` <- NULL\n",
    "S10@meta.data$`subsets_Mito_detected` <- NULL\n",
    "S10@meta.data$`subsets_Mito_percent` <- NULL\n",
    "S10@meta.data$`subsets_Mito_sum` <- NULL\n",
    "S10@meta.data$`sum.1` <- NULL\n",
    "S10@meta.data$`total.1` <- NULL\n",
    "S10@meta.data$detected <- NULL\n",
    "S10@meta.data$ident <- NULL\n",
    "S10@meta.data$Instrument <- NULL\n",
    "S10@meta.data$orig.ident <- NULL\n",
    "S10@meta.data$`RNA_snn_res.0.8`<- NULL\n",
    "S10@meta.data$Sample_Name <- NULL\n",
    "S10@meta.data$seurat_clusters <- NULL\n",
    "S10@meta.data$subsets_ERCC_detected <- NULL\n",
    "S10@meta.data$subsets_ERCC_percent <- NULL\n",
    "S10@meta.data$subsets_ERCC_sum <- NULL\n"
   ]
  },
  {
   "cell_type": "code",
   "execution_count": null,
   "id": "dadd6a33-ea21-4903-aba4-28721e91bd2c",
   "metadata": {},
   "outputs": [],
   "source": [
    "head(S10@meta.data)"
   ]
  },
  {
   "cell_type": "markdown",
   "id": "69c98c6b-7b3c-4778-b5ba-ae60413dbad1",
   "metadata": {},
   "source": [
    "## Merge data"
   ]
  },
  {
   "cell_type": "code",
   "execution_count": null,
   "id": "334380bc-4ec1-41b0-92d8-90d355213ae5",
   "metadata": {},
   "outputs": [],
   "source": [
    "seurat_list <- list(S2.1,S2.2,S2.3,S2.4,S2.5,S3,S4,S5.1,S5.2,S5.3,S5.4,S6.1,S6.2,S6.3,S7.1,S7.2,S8,S9,S10)\n",
    "merged <- merge(S1, seurat_list)\n"
   ]
  },
  {
   "cell_type": "markdown",
   "id": "dc6bdf3a-97f0-47c5-8de6-ed3d54dddc65",
   "metadata": {},
   "source": [
    "## Check developmental time point"
   ]
  },
  {
   "cell_type": "code",
   "execution_count": null,
   "id": "c0e32efb-f323-4805-ab12-80d3ca87aad8",
   "metadata": {},
   "outputs": [],
   "source": [
    "Idents(merged) <- merged@meta.data$DevTP "
   ]
  },
  {
   "cell_type": "code",
   "execution_count": null,
   "id": "177f547a-0f96-4e49-b7da-0d95452af82d",
   "metadata": {},
   "outputs": [],
   "source": [
    "merged@meta.data$DevTP <- as.factor(merged@meta.data$DevTP)\n",
    "head(merged@meta.data$DevTP)"
   ]
  },
  {
   "cell_type": "code",
   "execution_count": null,
   "id": "f23b40ff-3143-46a8-80ed-d5b908a075f1",
   "metadata": {},
   "outputs": [],
   "source": [
    "merged <- RenameIdents(object = merged, `8-10w old` = \"8-10w\")\n",
    "\n",
    "merged <- RenameIdents(object = merged, `developmental stage: embryonic day 11.5` = \"E11.5\")\n",
    "merged <- RenameIdents(object = merged, `developmental stage: embryonic day 13.5` = \"E13.5\")\n",
    "merged <- RenameIdents(object = merged, `developmental stage: embryonic day 15.5` = \"E15.5\")\n",
    "merged <- RenameIdents(object = merged, `developmental stage: embryonic day 18.5` = \"E18.5\")\n",
    "merged <- RenameIdents(object = merged, `embryonic day E10.5` = \"E10.5\")\n",
    "merged <- RenameIdents(object = merged, `embryonic day E11.5` = \"E11.5\")\n",
    "merged <- RenameIdents(object = merged, `embryonic day E12.5` = \"E12.5\")\n",
    "merged <- RenameIdents(object = merged, `p13` = \"P13\")\n",
    "merged <- RenameIdents(object = merged, `8 w` = \"8w\")\n",
    "merged <- RenameIdents(object = merged, `p6` = \"P6\")\n",
    "merged <- RenameIdents(object = merged, `8-14 w` = \"8-14w\")\n"
   ]
  },
  {
   "cell_type": "code",
   "execution_count": null,
   "id": "e5cebd6a-5711-4b0b-ba15-7f63428002de",
   "metadata": {},
   "outputs": [],
   "source": [
    "merged@meta.data$DevTP <- Idents(merged)"
   ]
  },
  {
   "cell_type": "code",
   "execution_count": null,
   "id": "b12d812c-972d-4f10-a80c-44f93d89ee16",
   "metadata": {},
   "outputs": [],
   "source": [
    "head(merged@meta.data$DevTP)"
   ]
  },
  {
   "cell_type": "markdown",
   "id": "4862d11e-6124-4995-84ff-efce4a35fe1f",
   "metadata": {},
   "source": [
    "## Check celltype annotation"
   ]
  },
  {
   "cell_type": "code",
   "execution_count": null,
   "id": "6735a081-bc2d-480a-9cc5-2ce4d612b66a",
   "metadata": {},
   "outputs": [],
   "source": [
    "Idents(merged) <- merged@meta.data$CellType"
   ]
  },
  {
   "cell_type": "code",
   "execution_count": null,
   "id": "67b8bc9e-f51a-467b-9d84-1c288eba9e40",
   "metadata": {},
   "outputs": [],
   "source": [
    "merged@meta.data$CellType <- as.factor(merged@meta.data$CellType)\n",
    "head(merged@meta.data$CellType)"
   ]
  },
  {
   "cell_type": "code",
   "execution_count": null,
   "id": "d06b54d5-52ec-42d0-a27b-df457616dea0",
   "metadata": {},
   "outputs": [],
   "source": [
    "merged <- RenameIdents(object = merged, `Blood endothelial cells` = \"Perivascular cells\")\n",
    "merged <- RenameIdents(object = merged, `Chondrocyte precursor` = \"Chondroprogenitors\")\n",
    "merged <- RenameIdents(object = merged, `Chondrocyte progenitors` = \"Chondroprogenitors\")\n",
    "merged <- RenameIdents(object = merged, `Distal limb mesenchyme` = \"Distal limb bud mesenchyme\")\n",
    "merged <- RenameIdents(object = merged, `Erythroid cell` = \"Erythroid cells\")\n",
    "merged <- RenameIdents(object = merged, `Fast proliferating cell` = \"Fast proliferating cells\")\n",
    "merged <- RenameIdents(object = merged, `Hypertrophic chondrocyte` = \"Hypertrophic chondrocytes\")\n",
    "merged <- RenameIdents(object = merged, `Immune cell` = \"Immune cells\")\n",
    "merged <- RenameIdents(object = merged, `Imune cells` = \"Immune cells\")\n",
    "merged <- RenameIdents(object = merged, `Intermediate limb mesenchyme` = \"Intermediate limb bud mesenchyme\")\n",
    "merged <- RenameIdents(object = merged, `Keratinocyte` = \"Keratinocytes\")\n",
    "merged <- RenameIdents(object = merged, `Lepr+ BMSCs` = \"BMSCs\")\n",
    "merged <- RenameIdents(object = merged, `Muscle progenitor` = \"Muscle progenitors\")\n",
    "merged <- RenameIdents(object = merged, `Osteoblast` = \"Osteoblasts\")\n",
    "merged <- RenameIdents(object = merged, `Osteoclast` = \"Osteoclasts\")\n",
    "merged <- RenameIdents(object = merged, `Osteoprogenitor` = \"Osteoprogenitors\")\n",
    "merged <- RenameIdents(object = merged, `Pre-hypertrophic chondrocyte` = \"Pre-hypertrophic chondrocytes\")\n",
    "merged <- RenameIdents(object = merged, `Proximal limb mesenchyme` = \"Proximal limb bud mesenchyme\")\n",
    "merged <- RenameIdents(object = merged, `Smooth muscle cells` = \"Perivascular cells\")\n",
    "merged <- RenameIdents(object = merged, `SSPC` = \"SSPCs\")\n",
    "merged <- RenameIdents(object = merged, `Tenocyte` = \"Tenocytes\")\n",
    "merged <- RenameIdents(object = merged, `Tenocyte precursor` = \"Tenocyte precursors\")\n",
    "merged <- RenameIdents(object = merged, `Vascualr endothelial cells` = \"Vascular endothelial cells\")\n",
    "merged <- RenameIdents(object = merged, `Vascular endothelial cell` = \"Vascular endothelial cells\")\n",
    "merged <- RenameIdents(object = merged, `Ectoderm` = \"Keratinocytes\")\n",
    "merged <- RenameIdents(object = merged, `Embryonic skin` = \"Keratinocytes\")\n",
    "merged <- RenameIdents(object = merged, `Skin` = \"Keratinocytes\")\n",
    "merged <- RenameIdents(object = merged, `Adipocytes` = \"Myogenic stem cells\")\n",
    "merged <- RenameIdents(object = merged, `SSPCs` = \"BMSCs\")\n",
    "merged <- RenameIdents(object = merged, `LepR+ BMSCs` = \"BMSCs\")\n"
   ]
  },
  {
   "cell_type": "code",
   "execution_count": null,
   "id": "0d1e3d66-15af-439c-8c69-da2ba6640a72",
   "metadata": {},
   "outputs": [],
   "source": [
    "merged <- RenameIdents(object = merged, `Osteocyte` = \"Osteocytes\")\n"
   ]
  },
  {
   "cell_type": "code",
   "execution_count": null,
   "id": "cae7bd39-0fc1-4a5d-937a-b56662f72c04",
   "metadata": {},
   "outputs": [],
   "source": [
    "merged@meta.data$CellType <- Idents(merged)"
   ]
  },
  {
   "cell_type": "code",
   "execution_count": null,
   "id": "1e9a1d4e-6e69-47f0-ab9f-a5d7ebcd5198",
   "metadata": {},
   "outputs": [],
   "source": [
    "head(merged@meta.data$CellType)"
   ]
  },
  {
   "cell_type": "markdown",
   "id": "743f185f-811a-4048-a7ea-0417722cf993",
   "metadata": {},
   "source": [
    "## Check SEx"
   ]
  },
  {
   "cell_type": "code",
   "execution_count": null,
   "id": "4555789f-7c3f-434b-8fc2-cf1755aa8e24",
   "metadata": {},
   "outputs": [],
   "source": [
    "Idents(merged) <- merged@meta.data$Sex"
   ]
  },
  {
   "cell_type": "code",
   "execution_count": null,
   "id": "baa8f0f7-2df6-46ce-93f1-0e3cdd63fea6",
   "metadata": {},
   "outputs": [],
   "source": [
    " merged@meta.data$Sex <- as.factor(merged@meta.data$Sex)"
   ]
  },
  {
   "cell_type": "code",
   "execution_count": null,
   "id": "9159aca4-1022-4fe0-a5cf-1730aac064b6",
   "metadata": {},
   "outputs": [],
   "source": [
    "head(merged@meta.data$Sex)"
   ]
  },
  {
   "cell_type": "code",
   "execution_count": null,
   "id": "dfbb9dd7-6791-4a5b-a8d9-d872eaba1853",
   "metadata": {},
   "outputs": [],
   "source": [
    "merged <- RenameIdents(object = merged, `Male` = \"M\")\n"
   ]
  },
  {
   "cell_type": "code",
   "execution_count": null,
   "id": "28e28ac8-f53c-4120-9fe6-b4aad901f638",
   "metadata": {},
   "outputs": [],
   "source": [
    "merged@meta.data$Sex <- Idents(merged) "
   ]
  },
  {
   "cell_type": "markdown",
   "id": "0babcd2f-3bf8-40cf-99d2-acaefc9bfaf3",
   "metadata": {},
   "source": [
    "## Check Strain"
   ]
  },
  {
   "cell_type": "code",
   "execution_count": null,
   "id": "fac638d9-6190-4825-85d2-283b1cc6c9f0",
   "metadata": {},
   "outputs": [],
   "source": [
    "Idents(merged) <- merged@meta.data$Strain"
   ]
  },
  {
   "cell_type": "code",
   "execution_count": null,
   "id": "891647a1-4713-4cd3-badb-3968a1a9c387",
   "metadata": {},
   "outputs": [],
   "source": [
    " merged@meta.data$Strain <- as.factor(merged@meta.data$Strain)"
   ]
  },
  {
   "cell_type": "code",
   "execution_count": null,
   "id": "9975b89e-7b6b-486d-9ada-ff85feb3b65a",
   "metadata": {},
   "outputs": [],
   "source": [
    "head(merged@meta.data$Strain) "
   ]
  },
  {
   "cell_type": "code",
   "execution_count": null,
   "id": "7e26763d-1fdc-4025-b431-bb10a0d0ed71",
   "metadata": {},
   "outputs": [],
   "source": [
    "merged <- RenameIdents(object = merged, `C57Bl/6` = \"C57BL/6\")\n",
    "merged <- RenameIdents(object = merged, `strain: C57BL/6` = \"C57BL/6\")\n"
   ]
  },
  {
   "cell_type": "code",
   "execution_count": null,
   "id": "6d59c8a2-d3e4-49cf-b442-253c17ad72d3",
   "metadata": {},
   "outputs": [],
   "source": [
    "merged@meta.data$Strain <- Idents(merged) "
   ]
  },
  {
   "cell_type": "code",
   "execution_count": null,
   "id": "33e81a5a-b208-4ed9-a7a1-fae53f5f81c0",
   "metadata": {},
   "outputs": [],
   "source": [
    "head(merged@meta.data$Strain) "
   ]
  },
  {
   "cell_type": "markdown",
   "id": "0a305ee7-8cda-4ef1-91f0-3bedd0f3a3d9",
   "metadata": {},
   "source": [
    "## Check technology"
   ]
  },
  {
   "cell_type": "code",
   "execution_count": null,
   "id": "d28dd401-e331-4864-a153-8e6a1e6b6a3f",
   "metadata": {},
   "outputs": [],
   "source": [
    "Idents(merged) <- merged@meta.data$Technology"
   ]
  },
  {
   "cell_type": "code",
   "execution_count": null,
   "id": "82229835-bb2f-4f5e-a608-e03312fef906",
   "metadata": {},
   "outputs": [],
   "source": [
    " merged@meta.data$Technology <- as.factor(merged@meta.data$Technology)"
   ]
  },
  {
   "cell_type": "code",
   "execution_count": null,
   "id": "06447c35-308e-4c52-ab75-9bd755222e45",
   "metadata": {},
   "outputs": [],
   "source": [
    "head(merged@meta.data$Technology) "
   ]
  },
  {
   "cell_type": "code",
   "execution_count": null,
   "id": "747ac453-9618-4759-9cc6-bccfa75eb261",
   "metadata": {},
   "outputs": [],
   "source": [
    "merged <- RenameIdents(object = merged, `10x 3\\' v2` = \"10x\")\n",
    "merged <- RenameIdents(object = merged, `10x 3\\' v3.0.1` = \"10x\")\n",
    "merged <- RenameIdents(object = merged, `10 x 3\\' v3` = \"10x\")\n",
    "merged <- RenameIdents(object = merged, `10x 3\\' v3` = \"10x\")\n",
    "\n",
    "merged <- RenameIdents(object = merged, ` 3\\' v2 10x` = \"10x\")\n",
    "merged <- RenameIdents(object = merged, ` 3\\' v3 10x` = \"10x\")"
   ]
  },
  {
   "cell_type": "code",
   "execution_count": null,
   "id": "c090411a-11c6-4c23-ac31-d62b93f2e984",
   "metadata": {},
   "outputs": [],
   "source": [
    "merged@meta.data$Technology <- Idents(merged) "
   ]
  },
  {
   "cell_type": "code",
   "execution_count": null,
   "id": "9a5f2baf-c551-4238-aa71-097a0b8b5b54",
   "metadata": {},
   "outputs": [],
   "source": [
    "head(merged@meta.data$Technology) "
   ]
  },
  {
   "cell_type": "markdown",
   "id": "dd5e5ac0-cfd8-4526-b4e5-e20b5c3be359",
   "metadata": {},
   "source": [
    "## Check tissue"
   ]
  },
  {
   "cell_type": "code",
   "execution_count": null,
   "id": "8249ea36-854f-4f6d-8253-68590dc516ee",
   "metadata": {},
   "outputs": [],
   "source": [
    "Idents(merged) <- merged@meta.data$Tissue"
   ]
  },
  {
   "cell_type": "code",
   "execution_count": null,
   "id": "f2b95dcb-9aa1-4429-8c05-fe80db729d69",
   "metadata": {},
   "outputs": [],
   "source": [
    " merged@meta.data$Tissue <- as.factor(merged@meta.data$Tissue)"
   ]
  },
  {
   "cell_type": "code",
   "execution_count": null,
   "id": "211eeb3b-3199-4444-9516-3989e608e7b5",
   "metadata": {},
   "outputs": [],
   "source": [
    "head(merged@meta.data$Tissue) "
   ]
  },
  {
   "cell_type": "code",
   "execution_count": null,
   "id": "07266016-b1eb-4555-9e88-4b9d6ef15b37",
   "metadata": {},
   "outputs": [],
   "source": [
    "merged <- RenameIdents(object = merged, `hindlimb` = \"Hindlimb\")\n",
    "merged <- RenameIdents(object = merged, `long bone` = \"Long bone\")\n"
   ]
  },
  {
   "cell_type": "code",
   "execution_count": null,
   "id": "cf2eba3a-53e0-45a1-9397-ee6c2e1b18e8",
   "metadata": {},
   "outputs": [],
   "source": [
    "merged@meta.data$Tissue <- Idents(merged) "
   ]
  },
  {
   "cell_type": "code",
   "execution_count": null,
   "id": "5dcba83a-0f35-41f4-b6e5-d500bef4dd5c",
   "metadata": {},
   "outputs": [],
   "source": [
    "head(merged@meta.data$Tissue) "
   ]
  },
  {
   "cell_type": "markdown",
   "id": "2adee8f0-2e30-40bd-becf-a15b558ad9ab",
   "metadata": {},
   "source": [
    "## Check batch"
   ]
  },
  {
   "cell_type": "code",
   "execution_count": null,
   "id": "6a8b3102-b2de-4a73-9436-47be8fcaf2e3",
   "metadata": {},
   "outputs": [],
   "source": [
    " merged@meta.data$Batch <- as.factor(merged@meta.data$Batch)"
   ]
  },
  {
   "cell_type": "code",
   "execution_count": null,
   "id": "0d51c3c7-41a2-4eac-9bc0-e432e3aa1e0f",
   "metadata": {},
   "outputs": [],
   "source": [
    "head(merged@meta.data$Batch) "
   ]
  },
  {
   "cell_type": "markdown",
   "id": "45806420-6d0a-4b0f-b44a-829d9c8a776b",
   "metadata": {},
   "source": [
    "# Make integration level"
   ]
  },
  {
   "cell_type": "code",
   "execution_count": null,
   "id": "ea5cc7aa-2513-4f85-9478-0f281f0a5857",
   "metadata": {},
   "outputs": [],
   "source": [
    "Idents(merged) <- merged$CellType"
   ]
  },
  {
   "cell_type": "code",
   "execution_count": null,
   "id": "ac3c4353-1eda-490d-a4d6-575c09943160",
   "metadata": {},
   "outputs": [],
   "source": [
    "merged <- RenameIdents(object = merged, `Osteocytes` = \"Osteo\")\n",
    "merged <- RenameIdents(object = merged, `Keratinocytes` = \"Keratinocytes\")\n",
    "merged <- RenameIdents(object = merged, `Vascular endothelial cells` = \"Vascular endothelial cells\")\n",
    "merged <- RenameIdents(object = merged, `Tenocyte precursors` = \"Tenocyte precursors\")\n",
    "merged <- RenameIdents(object = merged, `Tenocytes` = \"Tenocytes\")\n",
    "merged <- RenameIdents(object = merged, `Perivascular cells` = \"Perivascular cells\")\n",
    "merged <- RenameIdents(object = merged, `Proximal limb bud mesenchyme` = \"Mesenchyme\")\n",
    "merged <- RenameIdents(object = merged, `Pre-hypertrophic chondrocytes` = \"Chondrocytes\")\n",
    "merged <- RenameIdents(object = merged, `Osteoprogenitors` = \"Osteo\")\n",
    "merged <- RenameIdents(object = merged, `Osteoclasts` = \"Osteoclasts\")\n",
    "merged <- RenameIdents(object = merged, `Osteoblasts` = \"Osteo\")\n",
    "merged <- RenameIdents(object = merged, `Muscle progenitors` = \"Muscle progenitors\")\n",
    "merged <- RenameIdents(object = merged, `Intermediate limb bud mesenchyme` = \"Mesenchyme\")\n",
    "merged <- RenameIdents(object = merged, `Immune cells` = \"Immune cells\")\n",
    "merged <- RenameIdents(object = merged, `Hypertrophic chondrocytes` = \"Chondrocytes\")\n",
    "merged <- RenameIdents(object = merged, `Fast proliferating cells` = \"Fast proliferating cells\")\n",
    "merged <- RenameIdents(object = merged, `Erythroid cells` = \"Erythroid cells\")\n",
    "merged <- RenameIdents(object = merged, `Distal limb bud mesenchyme` = \"Mesenchyme\")\n",
    "merged <- RenameIdents(object = merged, `Chondroprogenitors` = \"Chondrocytes\")\n",
    "merged <- RenameIdents(object = merged, `BMSCs` = \"BMSCs\")\n",
    "merged <- RenameIdents(object = merged, `Resting zone chondrocytes` = \"Chondrocytes\")\n",
    "merged <- RenameIdents(object = merged, `Articular chondrocytes` = \"Chondrocytes\")\n",
    "merged <- RenameIdents(object = merged, `Proliferative chondrocytes` = \"Chondrocytes\")\n",
    "merged <- RenameIdents(object = merged, `Fast proliferating osteoblasts` = \"Osteo\")\n",
    "merged <- RenameIdents(object = merged, `Periosteum` = \"Perio_Endo\")\n",
    "merged <- RenameIdents(object = merged, `Platelets` = \"Platelets\")\n",
    "merged <- RenameIdents(object = merged, `Pre-osteoblasts` = \"Osteo\")\n",
    "merged <- RenameIdents(object = merged, `Endosteum` = \"Perio_Endo\")\n",
    "merged <- RenameIdents(object = merged, `Periosteal progenitors` = \"PerPerio_Endoiosteum\")\n",
    "merged <- RenameIdents(object = merged, `Lymphatic endothelial cells` = \"Lymphatic endothelial cells\")\n",
    "merged <- RenameIdents(object = merged, `Epithelial cells` = \"Epithelial cells\")\n",
    "merged <- RenameIdents(object = merged, `Neurons` = \"Neurons\")\n",
    "merged <- RenameIdents(object = merged, `AER` = \"AER\")\n",
    "merged <- RenameIdents(object = merged, `Chondrocytes` = \"Chondrocytes\")\n",
    "merged <- RenameIdents(object = merged, `Skeletal muscle cells` = \"Skeletal muscle cells\")\n",
    "merged <- RenameIdents(object = merged, `ZPA` = \"Mesenchyme\")\n",
    "merged <- RenameIdents(object = merged, `Joint precursors` = \"Joint precursors\")\n",
    "merged <- RenameIdents(object = merged, `Myogenic stem cells` = \"Myogenic stem cells\")\n",
    "merged <- RenameIdents(object = merged, `Fibroblasts` = \"Fibroblasts\")\n"
   ]
  },
  {
   "cell_type": "code",
   "execution_count": null,
   "id": "fca7dc74-c212-4d86-ba48-89f3507e754e",
   "metadata": {},
   "outputs": [],
   "source": [
    "merged <- RenameIdents(object = merged, `PerPerio_Endoiosteum` = \"Perio_Endo\")\n"
   ]
  },
  {
   "cell_type": "code",
   "execution_count": null,
   "id": "66079ca1-ff72-43a9-b651-bf023207dd48",
   "metadata": {},
   "outputs": [],
   "source": [
    "merged <- RenameIdents(object = merged, `Tenocyte precursors` = \"Tenocytes\")"
   ]
  },
  {
   "cell_type": "code",
   "execution_count": null,
   "id": "20c6de9e-74a2-41c4-abfe-8a0245280da3",
   "metadata": {},
   "outputs": [],
   "source": [
    "merged$CellType_Integration <- Idents(merged)"
   ]
  },
  {
   "cell_type": "code",
   "execution_count": null,
   "id": "de6911ad-2943-4677-b57e-f1942203cb09",
   "metadata": {},
   "outputs": [],
   "source": [
    "head(merged$CellType_Integration)"
   ]
  },
  {
   "cell_type": "code",
   "execution_count": null,
   "id": "28e5b283-9733-4f12-aef4-18c016abe1fb",
   "metadata": {},
   "outputs": [],
   "source": [
    "saveRDS(merged, '/home/jovyan/researcher_home/Documents/Tom/Atlas/data/Atlas/merged.Rds')"
   ]
  },
  {
   "cell_type": "code",
   "execution_count": null,
   "id": "55146732-8db7-4061-ad4a-ecc5e41cc9ac",
   "metadata": {},
   "outputs": [],
   "source": [
    "sceasy::convertFormat(merged, from=\"seurat\", to=\"anndata\",\n",
    "                       outFile='/home/jovyan/researcher_home/Documents/Tom/Atlas/data/Atlas/merged.h5ad')"
   ]
  },
  {
   "cell_type": "code",
   "execution_count": null,
   "id": "82863112-dbfc-41c1-924d-488a4eaf04e1",
   "metadata": {},
   "outputs": [],
   "source": [
    "merged"
   ]
  }
 ],
 "metadata": {
  "kernelspec": {
   "display_name": "R [conda env:base] *",
   "language": "R",
   "name": "conda-base-r"
  },
  "language_info": {
   "codemirror_mode": "r",
   "file_extension": ".r",
   "mimetype": "text/x-r-source",
   "name": "R",
   "pygments_lexer": "r",
   "version": "4.3.2"
  }
 },
 "nbformat": 4,
 "nbformat_minor": 5
}
