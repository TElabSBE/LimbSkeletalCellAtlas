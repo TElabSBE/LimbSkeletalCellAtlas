{
 "cells": [
  {
   "cell_type": "markdown",
   "id": "0cf9aec0-2d56-4dae-9e5b-6de52562503d",
   "metadata": {},
   "source": [
    "# Figures"
   ]
  },
  {
   "cell_type": "markdown",
   "id": "6a9e6464-70d4-4f7a-9d26-9f7fee0a83f8",
   "metadata": {
    "tags": []
   },
   "source": [
    "## Separate datasets"
   ]
  },
  {
   "cell_type": "code",
   "execution_count": null,
   "id": "0f87c0ca-bb39-4a9b-8c89-5818e4230708",
   "metadata": {},
   "outputs": [],
   "source": [
    "suppressPackageStartupMessages({\n",
    "    library(DropletUtils)\n",
    "    library(SingleCellExperiment)\n",
    "    library(scuttle)\n",
    "    library(Seurat)\n",
    "    library(SeuratWrappers)\n",
    "    library(stringr)\n",
    "    library(dplyr)\n",
    "    library(data.table)\n",
    "    library(Matrix)\n",
    "    library(patchwork)\n",
    "    library(ggplot2)\n",
    "    library(sceasy)\n",
    "})\n",
    "\n",
    "options(repr.plot.width = 16, repr.plot.height = 8)"
   ]
  },
  {
   "cell_type": "code",
   "execution_count": null,
   "id": "ce43448d-e1c5-490c-b773-5ee8cf3e0657",
   "metadata": {},
   "outputs": [],
   "source": [
    "install.packages(\"svglite\")"
   ]
  },
  {
   "cell_type": "code",
   "execution_count": null,
   "id": "4e3c6873-7124-4566-9752-d00b81b6bab5",
   "metadata": {},
   "outputs": [],
   "source": [
    "#sceasy::convertFormat('scANVI_model/scANVI.h5ad', from=\"anndata\", to=\"seurat\",\n",
    "#                       outFile='Atlas.Rds')"
   ]
  },
  {
   "cell_type": "code",
   "execution_count": null,
   "id": "9eb244ef-fafe-4414-8e18-dcdf6487d922",
   "metadata": {},
   "outputs": [],
   "source": [
    "Atlas <- readRDS('Atlas.Rds')"
   ]
  },
  {
   "cell_type": "code",
   "execution_count": null,
   "id": "188644d3-a559-476e-ae67-b264d20b71a7",
   "metadata": {},
   "outputs": [],
   "source": [
    "#Atlas_NI <-  readRDS('merged.Rds')"
   ]
  },
  {
   "cell_type": "code",
   "execution_count": null,
   "id": "4ed80df8-fdd5-4483-ba15-41ee0d00d0de",
   "metadata": {},
   "outputs": [],
   "source": [
    "Idents(Atlas) <- Atlas$CellType "
   ]
  },
  {
   "cell_type": "code",
   "execution_count": null,
   "id": "af2201dd-1d90-4691-ac11-41d26ca6f68c",
   "metadata": {},
   "outputs": [],
   "source": [
    "Atlas <- RenameIdents(object = Atlas, `BMSCs` = \"1 - BMSCs\")\n",
    "Atlas <- RenameIdents(object = Atlas, `Proximal limb bud mesenchyme` = \"2 - Proximal limb bud mesenchyme\")\n",
    "Atlas <- RenameIdents(object = Atlas, `Intermediate limb bud mesenchyme` = \"3 - Intermediate limb bud mesenchyme\")\n",
    "Atlas <- RenameIdents(object = Atlas, `Distal limb bud mesenchyme` = \"4 - Distal limb bud mesenchyme\")\n",
    "Atlas <- RenameIdents(object = Atlas, `ZPA` = \"5 - ZPA\")\n",
    "Atlas <- RenameIdents(object = Atlas, `Fast proliferating cells` = \"6 - Fast proliferating cells\")\n",
    "Atlas <- RenameIdents(object = Atlas, `Chondroprogenitors` = \"7 - Chondroprogenitors\")\n",
    "Atlas <- RenameIdents(object = Atlas, `Chondrocytes` = \"8 - Chondrocytes\")\n",
    "Atlas <- RenameIdents(object = Atlas, `Resting zone chondrocytes` = \"9 - Resting zone chondrocytes\")\n",
    "Atlas <- RenameIdents(object = Atlas, `Proliferative chondrocytes` = \"10 - Proliferative chondrocytes\")\n",
    "Atlas <- RenameIdents(object = Atlas, `Pre-hypertrophic chondrocytes` = \"11 - Pre-hypertrophic chondrocytes\")\n",
    "Atlas <- RenameIdents(object = Atlas, `Hypertrophic chondrocytes` = \"12 - Hypertrophic chondrocytes\")\n",
    "Atlas <- RenameIdents(object = Atlas, `Articular chondrocytes` = \"13 - Articular chondrocytes\")\n",
    "Atlas <- RenameIdents(object = Atlas, `Joint precursors` = \"14 - Joint precursors\")\n",
    "Atlas <- RenameIdents(object = Atlas, `Tenocyte precursors` = \"15 - Tenocyte precursors\")\n",
    "Atlas <- RenameIdents(object = Atlas, `Tenocytes` = \"16 - Tenocytes\")\n",
    "Atlas <- RenameIdents(object = Atlas, `Osteoprogenitors` = \"17 - Osteoprogenitors\")\n",
    "Atlas <- RenameIdents(object = Atlas, `Pre-osteoblasts` = \"18 - Pre-osteoblasts\")\n",
    "Atlas <- RenameIdents(object = Atlas, `Osteoblasts` = \"19 - Osteoblasts\")\n",
    "Atlas <- RenameIdents(object = Atlas, `Fast proliferating osteoblasts` = \"20 - Fast proliferating osteoblasts\")\n",
    "Atlas <- RenameIdents(object = Atlas, `Osteocytes` = \"21 - Osteocytes\")\n",
    "Atlas <- RenameIdents(object = Atlas, `Periosteal progenitors` = \"22 - Periosteal progenitors\")\n",
    "Atlas <- RenameIdents(object = Atlas, `Periosteum` = \"23 - Periosteum\")\n",
    "Atlas <- RenameIdents(object = Atlas, `Endosteum` = \"24 - Endosteum\")\n",
    "Atlas <- RenameIdents(object = Atlas, `Osteoclasts` = \"25 - Osteoclasts\")\n",
    "Atlas <- RenameIdents(object = Atlas, `Fibroblasts` = \"26 - Fibroblasts\")\n",
    "Atlas <- RenameIdents(object = Atlas, `Myogenic stem cells` = \"27 - Myogenic stem cells\")\n",
    "Atlas <- RenameIdents(object = Atlas, `Muscle progenitors` = \"28 - Muscle progenitors\")\n",
    "Atlas <- RenameIdents(object = Atlas, `Skeletal muscle cells` = \"29 - Skeletal muscle cells\")\n",
    "Atlas <- RenameIdents(object = Atlas, `Perivascular cells` = \"30 - Perivascular cells\")\n",
    "Atlas <- RenameIdents(object = Atlas, `Vascular endothelial cells` = \"31 - Vascular endothelial cells\")\n",
    "Atlas <- RenameIdents(object = Atlas, `Lymphatic endothelial cells` = \"32 - Lymphatic endothelial cells\")\n",
    "Atlas <- RenameIdents(object = Atlas, `AER` = \"33 - AER\")\n",
    "Atlas <- RenameIdents(object = Atlas, `Epithelial cells` = \"34 - Epithelial cells\")\n",
    "Atlas <- RenameIdents(object = Atlas, `Immune cells` = \"35 - Immune cells\")\n",
    "Atlas <- RenameIdents(object = Atlas, `Erythroid cells` = \"36 - Erythroid cells\")\n",
    "Atlas <- RenameIdents(object = Atlas, `Platelets` = \"37 - Platelets\")\n",
    "Atlas <- RenameIdents(object = Atlas, `Neurons` = \"38 - Neurons\")\n",
    "Atlas <- RenameIdents(object = Atlas, `Keratinocytes` = \"39 - Keratinocytes\")\n"
   ]
  },
  {
   "cell_type": "code",
   "execution_count": null,
   "id": "5acdbc28-7a47-4d04-bc21-0dc50fe4b9eb",
   "metadata": {},
   "outputs": [],
   "source": [
    "Atlas$NandC <- Idents(Atlas)"
   ]
  },
  {
   "cell_type": "code",
   "execution_count": null,
   "id": "3a5cdcfd-bfb6-4376-855d-0d6ba6706644",
   "metadata": {},
   "outputs": [],
   "source": [
    "Idents(Atlas) <- Atlas$CellType"
   ]
  },
  {
   "cell_type": "code",
   "execution_count": null,
   "id": "ef307aba-fd46-43d6-b176-1e475bc4348b",
   "metadata": {},
   "outputs": [],
   "source": [
    "Atlas <- RenameIdents(object = Atlas, `BMSCs` = \"1\")\n",
    "Atlas <- RenameIdents(object = Atlas, `Proximal limb bud mesenchyme` = \"2\")\n",
    "Atlas <- RenameIdents(object = Atlas, `Intermediate limb bud mesenchyme` = \"3\")\n",
    "Atlas <- RenameIdents(object = Atlas, `Distal limb bud mesenchyme` = \"4\")\n",
    "Atlas <- RenameIdents(object = Atlas, `ZPA` = \"5\")\n",
    "Atlas <- RenameIdents(object = Atlas, `Fast proliferating cells` = \"6\")\n",
    "Atlas <- RenameIdents(object = Atlas, `Chondroprogenitors` = \"7\")\n",
    "Atlas <- RenameIdents(object = Atlas, `Chondrocytes` = \"8\")\n",
    "Atlas <- RenameIdents(object = Atlas, `Resting zone chondrocytes` = \"9\")\n",
    "Atlas <- RenameIdents(object = Atlas, `Proliferative chondrocytes` = \"10\")\n",
    "Atlas <- RenameIdents(object = Atlas, `Pre-hypertrophic chondrocytes` = \"11\")\n",
    "Atlas <- RenameIdents(object = Atlas, `Hypertrophic chondrocytes` = \"12\")\n",
    "Atlas <- RenameIdents(object = Atlas, `Articular chondrocytes` = \"13\")\n",
    "Atlas <- RenameIdents(object = Atlas, `Joint precursors` = \"14\")\n",
    "Atlas <- RenameIdents(object = Atlas, `Tenocyte precursors` = \"15\")\n",
    "Atlas <- RenameIdents(object = Atlas, `Tenocytes` = \"16\")\n",
    "Atlas <- RenameIdents(object = Atlas, `Osteoprogenitors` = \"17\")\n",
    "Atlas <- RenameIdents(object = Atlas, `Pre-osteoblasts` = \"18\")\n",
    "Atlas <- RenameIdents(object = Atlas, `Osteoblasts` = \"19\")\n",
    "Atlas <- RenameIdents(object = Atlas, `Fast proliferating osteoblasts` = \"20\")\n",
    "Atlas <- RenameIdents(object = Atlas, `Osteocytes` = \"21\")\n",
    "Atlas <- RenameIdents(object = Atlas, `Periosteal progenitors` = \"22\")\n",
    "Atlas <- RenameIdents(object = Atlas, `Periosteum` = \"23\")\n",
    "Atlas <- RenameIdents(object = Atlas, `Endosteum` = \"24\")\n",
    "Atlas <- RenameIdents(object = Atlas, `Osteoclasts` = \"25\")\n",
    "Atlas <- RenameIdents(object = Atlas, `Fibroblasts` = \"26\")\n",
    "Atlas <- RenameIdents(object = Atlas, `Myogenic stem cells` = \"27\")\n",
    "Atlas <- RenameIdents(object = Atlas, `Muscle progenitors` = \"28\")\n",
    "Atlas <- RenameIdents(object = Atlas, `Skeletal muscle cells` = \"29\")\n",
    "Atlas <- RenameIdents(object = Atlas, `Perivascular cells` = \"30\")\n",
    "Atlas <- RenameIdents(object = Atlas, `Vascular endothelial cells` = \"31\")\n",
    "Atlas <- RenameIdents(object = Atlas, `Lymphatic endothelial cells` = \"32\")\n",
    "Atlas <- RenameIdents(object = Atlas, `AER` = \"33\")\n",
    "Atlas <- RenameIdents(object = Atlas, `Epithelial cells` = \"34\")\n",
    "Atlas <- RenameIdents(object = Atlas, `Immune cells` = \"35\")\n",
    "Atlas <- RenameIdents(object = Atlas, `Erythroid cells` = \"36\")\n",
    "Atlas <- RenameIdents(object = Atlas, `Platelets` = \"37\")\n",
    "Atlas <- RenameIdents(object = Atlas, `Neurons` = \"38\")\n",
    "Atlas <- RenameIdents(object = Atlas, `Keratinocytes` = \"39\")\n"
   ]
  },
  {
   "cell_type": "code",
   "execution_count": null,
   "id": "175f0d4c-c8aa-4b30-bd0c-21e8c6a454ec",
   "metadata": {},
   "outputs": [],
   "source": [
    "Atlas$Numbers <- Idents(Atlas)"
   ]
  },
  {
   "cell_type": "code",
   "execution_count": null,
   "id": "683eba10-cc33-4bfa-92a0-19981356573b",
   "metadata": {},
   "outputs": [],
   "source": [
    "head(Atlas$Numbers)"
   ]
  },
  {
   "cell_type": "markdown",
   "id": "226f320f-c887-434c-abab-d8cd074702b7",
   "metadata": {},
   "source": [
    "### Add genes back in"
   ]
  },
  {
   "cell_type": "code",
   "execution_count": null,
   "id": "8cbecb8a-06cc-41d5-ab01-5bd00d3b1a52",
   "metadata": {},
   "outputs": [],
   "source": [
    "Atlas@assays$RNA <- Atlas_NI@assays$RNA"
   ]
  },
  {
   "cell_type": "code",
   "execution_count": null,
   "id": "c74b193f-3230-4cb7-a312-745570ab1905",
   "metadata": {},
   "outputs": [],
   "source": [
    "saveRDS(Atlas, \"Atlas.Rds\")"
   ]
  },
  {
   "cell_type": "code",
   "execution_count": null,
   "id": "8188bdd3-3b92-4b00-b573-5e1283889297",
   "metadata": {},
   "outputs": [],
   "source": [
    "sceasy::convertFormat(Atlas, from=\"seurat\", to=\"anndata\",\n",
    "                       outFile='Atlas.h5ad')"
   ]
  },
  {
   "cell_type": "markdown",
   "id": "5a98b5fc-3077-4b18-9636-fcf2fdda584d",
   "metadata": {
    "tags": []
   },
   "source": [
    "## Colors"
   ]
  },
  {
   "cell_type": "code",
   "execution_count": null,
   "id": "1cd8beaa-04c4-45c8-a9ab-56863b8b6a47",
   "metadata": {},
   "outputs": [],
   "source": [
    "Atlas"
   ]
  },
  {
   "cell_type": "code",
   "execution_count": null,
   "id": "18b62995",
   "metadata": {},
   "outputs": [],
   "source": [
    "options(repr.plot.width = 12, repr.plot.height = 10)\n",
    "p1 <- DimPlot(Atlas, group.by='Numbers', label.color = 'white', label.box = TRUE, reduction = \"mde_scanvi\",order = c('39','38','37','36','35','34','33','32','31','30','29','28','27','26','25','24','23','22','21','20','19','18','17','16','15','14','13','12','11','10','9','8','7','6','5','4','3','2','1'), pt.size = 0.3, label = F , label.size=8, repel=TRUE, raster=FALSE, \n",
    "              cols= c('1'='#66C2A5',\n",
    "    '2'='#F781BF',\n",
    "    '3'='#B3DE69',\n",
    "    '4'='#8DA0CB',\n",
    "    '5'='#949086',\n",
    "    '6'='#FFCCCB',\n",
    "    '7'='#666666',\n",
    "    '8'='#B3B3B3',\n",
    "    '9'='#8DD3C7',\n",
    "    '10'='#D4A6CD',\n",
    "    '11'='#FB8072',\n",
    "    '12'='#FFD700',\n",
    "    '13'='#0B0F5E',\n",
    "    '14'='#377EB8',\n",
    "    '15'='#FDB462',\n",
    "    '16'='#DD2400',\n",
    "    '17'='#FFFF33',\n",
    "    '18'='#A65628',\n",
    "    '19'='#FF7F50',\n",
    "    '20'='#90EE90',\n",
    "    '21'='#003e00',\n",
    "    '22'='#FFD92F',\n",
    "    '23'='#FF7F00',\n",
    "    '24'='#502c49',\n",
    "    '25'='#A6D854',\n",
    "    '26'='#B3B3B3',\n",
    "    '27'='#5E885e',\n",
    "    '28'='#961900',\n",
    "    '29'='#F845a3',\n",
    "    '30'='#8DA0CB',\n",
    "    '31'='#7e18c6',\n",
    "    '32'='#B0D30A',\n",
    "    '33'='#640738',\n",
    "    '34'='#A2CFFE',\n",
    "    '35'='#66C2A5',\n",
    "    '36'='#4B0082',\n",
    "    '37'='#B15928',\n",
    "    '38'='#A0d4a4',\n",
    "    '39'='#8B4513'\n",
    "                     )) +\n",
    "        xlab(\"UMAP 1\") + ylab(\"UMAP 2\")   +\n",
    "        theme(axis.title = element_text(size = 15)) +\n",
    "        theme(plot.title = element_blank()) +\n",
    "        theme(axis.text.x = element_blank(),\n",
    "              axis.ticks.x = element_blank(),\n",
    "              axis.text.y = element_blank(),\n",
    "              axis.ticks.y = element_blank())    \n",
    "\n",
    "p1 "
   ]
  },
  {
   "cell_type": "code",
   "execution_count": null,
   "id": "eabbce21-a7d8-4c83-b530-259fbf3d5640",
   "metadata": {},
   "outputs": [],
   "source": [
    "options(repr.plot.width = 17, repr.plot.height = 10)\n",
    "p1 <- DimPlot(Atlas, group.by='NandC',reduction = \"mde\",order = c('39 - Keratinocytes', '38 - Neurons', '37 - Platelets', '36 - Erythroid cells', '35 - Immune cells', '34 - Epithelial cells', '33 - AER', '32 - Lymphatic endothelial cells', '31 - Vascular endothelial cells', '30 - Perivascular cells', '29 - Skeletal muscle cells', '28 - Muscle progenitors', '27 - Myogenic stem cells', '26 - Fibroblasts', '25 - Osteoclasts', '24 - Endosteum', '23 - Periosteum', '22 - Periosteal progenitors', '21 - Osteocytes', '20 - Fast proliferating osteoblasts', '19 - Osteoblasts', '18 - Pre-osteoblasts', '17 - Osteoprogenitors', '16 - Tenocytes', '15 - Tenocyte precursors', '14 - Joint precursors', '13 - Articular chondrocytes', '12 - Hypertrophic chondrocytes', '11 - Pre-hypertrophic chondrocytes', '10 - Proliferative chondrocytes', '9 - Resting zone chondrocytes', '8 - Chondrocytes', '7 - Chondroprogenitors', '6 - Fast proliferating cells', '5 - ZPA', '4 - Distal limb bud mesenchyme', '3 - Intermediate limb bud mesenchyme', '2 - Proximal limb bud mesenchyme', '1 - BMSCs')\n",
    ", pt.size = 0.3, label = F , label.size=6 ,label.color = 'black', repel=TRUE, raster=FALSE, cols= c(`1 - BMSCs` = \"#66C2A5\",\n",
    "`2 - Proximal limb bud mesenchyme` = \"#F781BF\",\n",
    "`3 - Intermediate limb bud mesenchyme` = \"#B3DE69\",\n",
    "`4 - Distal limb bud mesenchyme` = \"#8DA0CB\",\n",
    "`5 - ZPA` = \"#949086\",\n",
    "`6 - Fast proliferating cells` = \"#FFCCCB\",\n",
    "`7 - Chondroprogenitors` = \"#666666\",\n",
    "`8 - Chondrocytes` = \"#B3B3B3\",\n",
    "`9 - Resting zone chondrocytes` = \"#8DD3C7\",\n",
    "`10 - Proliferative chondrocytes` = \"#D4A6CD\",\n",
    "`11 - Pre-hypertrophic chondrocytes` = \"#FB8072\",\n",
    "`12 - Hypertrophic chondrocytes` = \"#FFD700\",\n",
    "`13 - Articular chondrocytes` = \"#0B0F5E\",\n",
    "`14 - Joint precursors` = \"#377EB8\",\n",
    "`15 - Tenocyte precursors` = \"#FDB462\",\n",
    "`16 - Tenocytes` = \"#DD2400\",\n",
    "`17 - Osteoprogenitors` = \"#FFFF33\",\n",
    "`18 - Pre-osteoblasts` = \"#A65628\",\n",
    "`19 - Osteoblasts` = \"#FF7F50\",\n",
    "`20 - Fast proliferating osteoblasts` = \"#90EE90\",\n",
    "`21 - Osteocytes` = \"#003e00\",\n",
    "`22 - Periosteal progenitors` = \"#FFD92F\",\n",
    "`23 - Periosteum` = \"#FF7F00\",\n",
    "`24 - Endosteum` = \"#502c49\",\n",
    "`25 - Osteoclasts` = \"#A6D854\",\n",
    "`26 - Fibroblasts` = \"#B3B3B3\",\n",
    "`27 - Myogenic stem cells` = \"#5E885e\",\n",
    "`28 - Muscle progenitors` = \"#961900\",\n",
    "`29 - Skeletal muscle cells` = \"#F845a3\",\n",
    "`30 - Perivascular cells` = \"#8DA0CB\",\n",
    "`31 - Vascular endothelial cells` = \"#7e18c6\",\n",
    "`32 - Lymphatic endothelial cells` = \"#B0D30A\",\n",
    "`33 - AER` = \"#640738\",\n",
    "`34 - Epithelial cells` = \"#A2CFFE\",\n",
    "`35 - Immune cells` = \"#66C2A5\",\n",
    "`36 - Erythroid cells` = \"#4B0082\",\n",
    "`37 - Platelets` = \"#B15928\",\n",
    "`38 - Neurons` = \"#A0d4a4\",\n",
    "`39 - Keratinocytes` = \"#8B4513\"\n",
    ")) +\n",
    "        xlab(\"UMAP 1\") + ylab(\"UMAP 2\") +\n",
    "        theme(axis.title = element_text(size = 15)) +\n",
    "        theme(plot.title = element_blank()) +\n",
    "        theme(axis.text.x = element_blank(),\n",
    "              axis.ticks.x = element_blank(),\n",
    "              axis.text.y = element_blank(),\n",
    "              axis.ticks.y = element_blank())    \n",
    "\n",
    "p1 "
   ]
  },
  {
   "cell_type": "code",
   "execution_count": null,
   "id": "08667dad-6059-4685-900c-65f6f9effcbf",
   "metadata": {},
   "outputs": [],
   "source": [
    "Atlas$Author <- Idents(Atlas)"
   ]
  },
  {
   "cell_type": "code",
   "execution_count": null,
   "id": "8c1c1d0d",
   "metadata": {},
   "outputs": [],
   "source": [
    "options(repr.plot.width = 12, repr.plot.height = 10)\n",
    "p1 <- DimPlot(Atlas, group.by='Author',reduction = \"mde_scanvi\", pt.size = 0.3, label = F , label.size=8 , repel=TRUE, raster=FALSE, order= c('White','Scadden','OBrien','Maes','Levebvre','Kmita','Guilak','Greenblatt','Farrell','Adams'),cols= c(\n",
    "    'Adams'= '#1f77b4',\n",
    "    'Farrell'= '#ff7f0e',\n",
    "    'Greenblatt'= '#2ca02c',\n",
    "    'Guilak'= '#d62728',\n",
    "    'Kmita'= '#2ca02c',\n",
    "    'Levebvre'= '#8c564b',\n",
    "    'Maes'= '#e377c2',\n",
    "    'OBrien'= '#9467bd',\n",
    "    'Scadden'='#17becf',\n",
    "    'White'='#bcbd22',\n",
    "    '12-16w'='#7f7f7f')) +\n",
    "        xlab(\"UMAP 1\") + ylab(\"UMAP 2\") +\n",
    "        theme(axis.title = element_text(size = 15)) +\n",
    "        theme(plot.title = element_blank()) +\n",
    "        theme(axis.text.x = element_blank(),\n",
    "              axis.ticks.x = element_blank(),\n",
    "              axis.text.y = element_blank(),\n",
    "              axis.ticks.y = element_blank())    \n",
    "\n",
    "p1 "
   ]
  },
  {
   "cell_type": "code",
   "execution_count": null,
   "id": "875d81c5",
   "metadata": {},
   "outputs": [],
   "source": [
    "options(repr.plot.width = 13, repr.plot.height = 10)\n",
    "p1 <- DimPlot(Atlas, group.by='Study',reduction = \"mde_scanvi\", pt.size = 0.3, label = F , label.size=8 , repel=TRUE, raster=FALSE, cols= c(\n",
    "    'GSE142425'='#1f77b4',\n",
    "    'GSE158820'='#ff7f0e',\n",
    "    'GSE211584'='#2ca02c',\n",
    "    'PRJEB33444'='#d62728',\n",
    "    'SRP122545'='#A2CFFE',\n",
    "    'SRP188674'='#9467bd',\n",
    "    'SRP266397'='#e377c2',\n",
    "    'SRP278393'='#8c564b')) +\n",
    "        xlab(\"UMAP 1\") + ylab(\"UMAP 2\") +\n",
    "        theme(axis.title = element_text(size = 15)) +\n",
    "        theme(plot.title = element_blank()) +\n",
    "        theme(axis.text.x = element_blank(),\n",
    "              axis.ticks.x = element_blank(),\n",
    "              axis.text.y = element_blank(),\n",
    "              axis.ticks.y = element_blank())    \n",
    "\n",
    "p1 "
   ]
  },
  {
   "cell_type": "code",
   "execution_count": null,
   "id": "856bcc98-cb69-4edb-808d-7b12afad1ce1",
   "metadata": {},
   "outputs": [],
   "source": [
    "options(repr.plot.width = 13, repr.plot.height = 10)\n",
    "p1 <- DimPlot(Atlas, group.by='Batch',reduction = \"mde_scanvi\", pt.size = 0.3, label = F , label.size=8 , repel=TRUE, raster=FALSE) +\n",
    "        xlab(\"UMAP 1\") + ylab(\"UMAP 2\") +\n",
    "        theme(axis.title = element_text(size = 15)) +\n",
    "        theme(plot.title = element_blank()) +\n",
    "        theme(axis.text.x = element_blank(),\n",
    "              axis.ticks.x = element_blank(),\n",
    "              axis.text.y = element_blank(),\n",
    "              axis.ticks.y = element_blank())    \n",
    "\n",
    "p1 "
   ]
  },
  {
   "cell_type": "code",
   "execution_count": null,
   "id": "761649b1-ec0b-4852-a5fe-6b77fbfa2b59",
   "metadata": {},
   "outputs": [],
   "source": [
    "options(repr.plot.width = 12, repr.plot.height = 10)\n",
    "p1 <- DimPlot(Atlas, group.by='DevTP',reduction = \"mde_scanvi\", order = c('12-16w', '8-14w', '8-10w', '8w', 'P21', 'P13', 'P6', 'E18.5', 'E15.5', 'E13.5', 'E12.5', 'E11.5', 'E10.5')\n",
    ", pt.size = 0.3, label = F , label.size=8 , repel=TRUE, raster=FALSE, cols= c(\n",
    "     'E10.5' = '#cb334d',\n",
    "    'E11.5' = '#e95c47',\n",
    "    'E12.5' = '#f98e52',\n",
    "    'E13.5' = '#fdbf6f',\n",
    "    'E15.5' = '#fed884',\n",
    "    'E18.5' = '#fff3ac',\n",
    "    'P6' = '#eaf79e',\n",
    "    'P13' = '#bfe5a0',\n",
    "    'P21' = '#86cfa5',\n",
    "    '8w' = '#54aead',\n",
    "    '8-10w' = '#3a7eb8',\n",
    "    '8-14w' = '#2a5a8e',  # Added color\n",
    "    '12-16w' = '#1f3a5e' )) +\n",
    "        xlab(\"UMAP 1\") + ylab(\"UMAP 2\") +\n",
    "        theme(axis.title = element_text(size = 15)) +\n",
    "        theme(plot.title = element_blank()) +\n",
    "        theme(axis.text.x = element_blank(),\n",
    "              axis.ticks.x = element_blank(),\n",
    "              axis.text.y = element_blank(),\n",
    "              axis.ticks.y = element_blank())    \n",
    "\n",
    "p1 "
   ]
  },
  {
   "cell_type": "code",
   "execution_count": null,
   "id": "96e59c71-4993-41e1-ba1d-1f5ebfe6cdf3",
   "metadata": {},
   "outputs": [],
   "source": [
    "Idents(Atlas) <- Atlas@meta.data$Author"
   ]
  },
  {
   "cell_type": "markdown",
   "id": "530a1352-aa50-4dd3-9e67-64c3c88ffcab",
   "metadata": {},
   "source": [
    "### Adams"
   ]
  },
  {
   "cell_type": "code",
   "execution_count": null,
   "id": "e2ffe4e7-3adb-45a4-b995-9a7fab62819e",
   "metadata": {},
   "outputs": [],
   "source": [
    "Adams <- subset(Atlas, idents=c('Adams'))"
   ]
  },
  {
   "cell_type": "code",
   "execution_count": null,
   "id": "d781b4ca-8e03-4e5e-8171-badf888e67e8",
   "metadata": {},
   "outputs": [],
   "source": [
    "options(repr.plot.width = 12, repr.plot.height = 10)\n",
    "p1 <- DimPlot(Adams, group.by='Numbers', label.color = 'white', label.box = TRUE, reduction = \"mde_scanvi\",order = c('39','38','37','36','35','34','33','32','31','30','29','28','27','26','25','24','23','22','21','20','19','18','17','16','15','14','13','12','11','10','9','8','7','6','5','4','3','2','1'), pt.size = 0.3, label = F , label.size=8, repel=TRUE, raster=FALSE, \n",
    "              cols= c('1'='#66C2A5',\n",
    "    '2'='#F781BF',\n",
    "    '3'='#B3DE69',\n",
    "    '4'='#8DA0CB',\n",
    "    '5'='#949086',\n",
    "    '6'='#FFCCCB',\n",
    "    '7'='#666666',\n",
    "    '8'='#B3B3B3',\n",
    "    '9'='#8DD3C7',\n",
    "    '10'='#D4A6CD',\n",
    "    '11'='#FB8072',\n",
    "    '12'='#FFD700',\n",
    "    '13'='#0B0F5E',\n",
    "    '14'='#377EB8',\n",
    "    '15'='#FDB462',\n",
    "    '16'='#DD2400',\n",
    "    '17'='#FFFF33',\n",
    "    '18'='#A65628',\n",
    "    '19'='#FF7F50',\n",
    "    '20'='#90EE90',\n",
    "    '21'='#003e00',\n",
    "    '22'='#FFD92F',\n",
    "    '23'='#FF7F00',\n",
    "    '24'='#502c49',\n",
    "    '25'='#A6D854',\n",
    "    '26'='#B3B3B3',\n",
    "    '27'='#5E885e',\n",
    "    '28'='#961900',\n",
    "    '29'='#F845a3',\n",
    "    '30'='#8DA0CB',\n",
    "    '31'='#7e18c6',\n",
    "    '32'='#B0D30A',\n",
    "    '33'='#640738',\n",
    "    '34'='#A2CFFE',\n",
    "    '35'='#66C2A5',\n",
    "    '36'='#4B0082',\n",
    "    '37'='#B15928',\n",
    "    '38'='#A0d4a4',\n",
    "    '39'='#8B4513'\n",
    "                     )) +\n",
    "        xlab(\"UMAP 1\") + ylab(\"UMAP 2\") + NoLegend() +\n",
    "        theme(axis.title = element_text(size = 15)) +\n",
    "        theme(plot.title = element_blank()) +\n",
    "        theme(axis.text.x = element_blank(),\n",
    "              axis.ticks.x = element_blank(),\n",
    "              axis.text.y = element_blank(),\n",
    "              axis.ticks.y = element_blank())    \n",
    "\n",
    "p1 "
   ]
  },
  {
   "cell_type": "markdown",
   "id": "94c9fa6c-259a-4e87-a566-0b3f59bb5b8d",
   "metadata": {
    "tags": []
   },
   "source": [
    "### FArrell"
   ]
  },
  {
   "cell_type": "code",
   "execution_count": null,
   "id": "bad69a78-ca7b-4614-b415-8fe8453e8795",
   "metadata": {},
   "outputs": [],
   "source": [
    "Farrell <- subset(Atlas, idents=c('Farrell'))"
   ]
  },
  {
   "cell_type": "code",
   "execution_count": null,
   "id": "745addcf-467e-42b7-bd10-0f67257104c3",
   "metadata": {},
   "outputs": [],
   "source": [
    "options(repr.plot.width = 12, repr.plot.height = 10)\n",
    "p1 <- DimPlot(Farrell, group.by='Numbers', label.color = 'white', label.box = TRUE, reduction = \"mde_scanvi\",order = c('39','38','37','36','35','34','33','32','31','30','29','28','27','26','25','24','23','22','21','20','19','18','17','16','15','14','13','12','11','10','9','8','7','6','5','4','3','2','1'), pt.size = 0.3, label = F , label.size=8, repel=TRUE, raster=FALSE, \n",
    "              cols= c('1'='#66C2A5',\n",
    "    '2'='#F781BF',\n",
    "    '3'='#B3DE69',\n",
    "    '4'='#8DA0CB',\n",
    "    '5'='#949086',\n",
    "    '6'='#FFCCCB',\n",
    "    '7'='#666666',\n",
    "    '8'='#B3B3B3',\n",
    "    '9'='#8DD3C7',\n",
    "    '10'='#D4A6CD',\n",
    "    '11'='#FB8072',\n",
    "    '12'='#FFD700',\n",
    "    '13'='#0B0F5E',\n",
    "    '14'='#377EB8',\n",
    "    '15'='#FDB462',\n",
    "    '16'='#DD2400',\n",
    "    '17'='#FFFF33',\n",
    "    '18'='#A65628',\n",
    "    '19'='#FF7F50',\n",
    "    '20'='#90EE90',\n",
    "    '21'='#003e00',\n",
    "    '22'='#FFD92F',\n",
    "    '23'='#FF7F00',\n",
    "    '24'='#502c49',\n",
    "    '25'='#A6D854',\n",
    "    '26'='#B3B3B3',\n",
    "    '27'='#5E885e',\n",
    "    '28'='#961900',\n",
    "    '29'='#F845a3',\n",
    "    '30'='#8DA0CB',\n",
    "    '31'='#7e18c6',\n",
    "    '32'='#B0D30A',\n",
    "    '33'='#640738',\n",
    "    '34'='#A2CFFE',\n",
    "    '35'='#66C2A5',\n",
    "    '36'='#4B0082',\n",
    "    '37'='#B15928',\n",
    "    '38'='#A0d4a4',\n",
    "    '39'='#8B4513'\n",
    "                     )) +\n",
    "        xlab(\"UMAP 1\") + ylab(\"UMAP 2\") + NoLegend() +\n",
    "        theme(axis.title = element_text(size = 15)) +\n",
    "        theme(plot.title = element_blank()) +\n",
    "        theme(axis.text.x = element_blank(),\n",
    "              axis.ticks.x = element_blank(),\n",
    "              axis.text.y = element_blank(),\n",
    "              axis.ticks.y = element_blank())    \n",
    "\n",
    "p1 "
   ]
  },
  {
   "cell_type": "markdown",
   "id": "924b0045-d08c-4051-a6ce-2ac60fb15dac",
   "metadata": {
    "tags": []
   },
   "source": [
    "### Greenblatt"
   ]
  },
  {
   "cell_type": "code",
   "execution_count": null,
   "id": "d7db9e2f-efe0-4280-9f49-d636ca07c4c0",
   "metadata": {},
   "outputs": [],
   "source": [
    "Greenblatt <- subset(Atlas, idents=c('Greenblatt'))"
   ]
  },
  {
   "cell_type": "code",
   "execution_count": null,
   "id": "da4c300a-efae-449f-b487-fc86cb444920",
   "metadata": {},
   "outputs": [],
   "source": [
    "options(repr.plot.width = 12, repr.plot.height = 10)\n",
    "p1 <- DimPlot(Greenblatt, group.by='Numbers', label.color = 'white', label.box = TRUE, reduction = \"mde_scanvi\",order = c('39','38','37','36','35','34','33','32','31','30','29','28','27','26','25','24','23','22','21','20','19','18','17','16','15','14','13','12','11','10','9','8','7','6','5','4','3','2','1'), pt.size = 0.3, label = F , label.size=8, repel=TRUE, raster=FALSE, \n",
    "              cols= c('1'='#66C2A5',\n",
    "    '2'='#F781BF',\n",
    "    '3'='#B3DE69',\n",
    "    '4'='#8DA0CB',\n",
    "    '5'='#949086',\n",
    "    '6'='#FFCCCB',\n",
    "    '7'='#666666',\n",
    "    '8'='#B3B3B3',\n",
    "    '9'='#8DD3C7',\n",
    "    '10'='#D4A6CD',\n",
    "    '11'='#FB8072',\n",
    "    '12'='#FFD700',\n",
    "    '13'='#0B0F5E',\n",
    "    '14'='#377EB8',\n",
    "    '15'='#FDB462',\n",
    "    '16'='#DD2400',\n",
    "    '17'='#FFFF33',\n",
    "    '18'='#A65628',\n",
    "    '19'='#FF7F50',\n",
    "    '20'='#90EE90',\n",
    "    '21'='#003e00',\n",
    "    '22'='#FFD92F',\n",
    "    '23'='#FF7F00',\n",
    "    '24'='#502c49',\n",
    "    '25'='#A6D854',\n",
    "    '26'='#B3B3B3',\n",
    "    '27'='#5E885e',\n",
    "    '28'='#961900',\n",
    "    '29'='#F845a3',\n",
    "    '30'='#8DA0CB',\n",
    "    '31'='#7e18c6',\n",
    "    '32'='#B0D30A',\n",
    "    '33'='#640738',\n",
    "    '34'='#A2CFFE',\n",
    "    '35'='#66C2A5',\n",
    "    '36'='#4B0082',\n",
    "    '37'='#B15928',\n",
    "    '38'='#A0d4a4',\n",
    "    '39'='#8B4513'\n",
    "                     )) +\n",
    "        xlab(\"UMAP 1\") + ylab(\"UMAP 2\") + NoLegend() +\n",
    "        theme(axis.title = element_text(size = 15)) +\n",
    "        theme(plot.title = element_blank()) +\n",
    "        theme(axis.text.x = element_blank(),\n",
    "              axis.ticks.x = element_blank(),\n",
    "              axis.text.y = element_blank(),\n",
    "              axis.ticks.y = element_blank())    \n",
    "\n",
    "p1 "
   ]
  },
  {
   "cell_type": "markdown",
   "id": "c4135c35-c186-4580-b133-8db6ce9613f1",
   "metadata": {
    "tags": []
   },
   "source": [
    "### Guilak"
   ]
  },
  {
   "cell_type": "code",
   "execution_count": null,
   "id": "6357f9a8-0dde-43de-83f8-bf7f6d48fc68",
   "metadata": {},
   "outputs": [],
   "source": [
    "Guilak <- subset(Atlas, idents=c('Guilak'))"
   ]
  },
  {
   "cell_type": "code",
   "execution_count": null,
   "id": "3b0a0269-c547-4213-8dbf-bfd42ad29867",
   "metadata": {},
   "outputs": [],
   "source": [
    "options(repr.plot.width = 12, repr.plot.height = 10)\n",
    "p1 <- DimPlot(Guilak, group.by='Numbers', label.color = 'white', label.box = TRUE, reduction = \"mde_scanvi\",order = c('39','38','37','36','35','34','33','32','31','30','29','28','27','26','25','24','23','22','21','20','19','18','17','16','15','14','13','12','11','10','9','8','7','6','5','4','3','2','1'), pt.size = 0.3, label = F , label.size=8, repel=TRUE, raster=FALSE, \n",
    "              cols= c('1'='#66C2A5',\n",
    "    '2'='#F781BF',\n",
    "    '3'='#B3DE69',\n",
    "    '4'='#8DA0CB',\n",
    "    '5'='#949086',\n",
    "    '6'='#FFCCCB',\n",
    "    '7'='#666666',\n",
    "    '8'='#B3B3B3',\n",
    "    '9'='#8DD3C7',\n",
    "    '10'='#D4A6CD',\n",
    "    '11'='#FB8072',\n",
    "    '12'='#FFD700',\n",
    "    '13'='#0B0F5E',\n",
    "    '14'='#377EB8',\n",
    "    '15'='#FDB462',\n",
    "    '16'='#DD2400',\n",
    "    '17'='#FFFF33',\n",
    "    '18'='#A65628',\n",
    "    '19'='#FF7F50',\n",
    "    '20'='#90EE90',\n",
    "    '21'='#003e00',\n",
    "    '22'='#FFD92F',\n",
    "    '23'='#FF7F00',\n",
    "    '24'='#502c49',\n",
    "    '25'='#A6D854',\n",
    "    '26'='#B3B3B3',\n",
    "    '27'='#5E885e',\n",
    "    '28'='#961900',\n",
    "    '29'='#F845a3',\n",
    "    '30'='#8DA0CB',\n",
    "    '31'='#7e18c6',\n",
    "    '32'='#B0D30A',\n",
    "    '33'='#640738',\n",
    "    '34'='#A2CFFE',\n",
    "    '35'='#66C2A5',\n",
    "    '36'='#4B0082',\n",
    "    '37'='#B15928',\n",
    "    '38'='#A0d4a4',\n",
    "    '39'='#8B4513'\n",
    "                     )) +\n",
    "        xlab(\"UMAP 1\") + ylab(\"UMAP 2\") + NoLegend() +\n",
    "        theme(axis.title = element_text(size = 15)) +\n",
    "        theme(plot.title = element_blank()) +\n",
    "        theme(axis.text.x = element_blank(),\n",
    "              axis.ticks.x = element_blank(),\n",
    "              axis.text.y = element_blank(),\n",
    "              axis.ticks.y = element_blank())    \n",
    "\n",
    "p1 "
   ]
  },
  {
   "cell_type": "markdown",
   "id": "79f7fe3b-283f-448e-8026-32f8bd83c828",
   "metadata": {
    "tags": []
   },
   "source": [
    "### Kmita"
   ]
  },
  {
   "cell_type": "code",
   "execution_count": null,
   "id": "8b74fa2a-1d1e-4885-90ce-013f7e22d864",
   "metadata": {},
   "outputs": [],
   "source": [
    "Kmita <- subset(Atlas, idents=c('Kmita'))"
   ]
  },
  {
   "cell_type": "code",
   "execution_count": null,
   "id": "c9c9fb00-9556-4f99-b562-3c2825878013",
   "metadata": {},
   "outputs": [],
   "source": [
    "options(repr.plot.width = 12, repr.plot.height = 10)\n",
    "p1 <- DimPlot(Kmita, group.by='Numbers', label.color = 'white', label.box = TRUE, reduction = \"mde_scanvi\",order = c('39','38','37','36','35','34','33','32','31','30','29','28','27','26','25','24','23','22','21','20','19','18','17','16','15','14','13','12','11','10','9','8','7','6','5','4','3','2','1'), pt.size = 0.3, label = F , label.size=8, repel=TRUE, raster=FALSE, \n",
    "              cols= c('1'='#66C2A5',\n",
    "    '2'='#F781BF',\n",
    "    '3'='#B3DE69',\n",
    "    '4'='#8DA0CB',\n",
    "    '5'='#949086',\n",
    "    '6'='#FFCCCB',\n",
    "    '7'='#666666',\n",
    "    '8'='#B3B3B3',\n",
    "    '9'='#8DD3C7',\n",
    "    '10'='#D4A6CD',\n",
    "    '11'='#FB8072',\n",
    "    '12'='#FFD700',\n",
    "    '13'='#0B0F5E',\n",
    "    '14'='#377EB8',\n",
    "    '15'='#FDB462',\n",
    "    '16'='#DD2400',\n",
    "    '17'='#FFFF33',\n",
    "    '18'='#A65628',\n",
    "    '19'='#FF7F50',\n",
    "    '20'='#90EE90',\n",
    "    '21'='#003e00',\n",
    "    '22'='#FFD92F',\n",
    "    '23'='#FF7F00',\n",
    "    '24'='#502c49',\n",
    "    '25'='#A6D854',\n",
    "    '26'='#B3B3B3',\n",
    "    '27'='#5E885e',\n",
    "    '28'='#961900',\n",
    "    '29'='#F845a3',\n",
    "    '30'='#8DA0CB',\n",
    "    '31'='#7e18c6',\n",
    "    '32'='#B0D30A',\n",
    "    '33'='#640738',\n",
    "    '34'='#A2CFFE',\n",
    "    '35'='#66C2A5',\n",
    "    '36'='#4B0082',\n",
    "    '37'='#B15928',\n",
    "    '38'='#A0d4a4',\n",
    "    '39'='#8B4513'\n",
    "                     )) +\n",
    "        xlab(\"UMAP 1\") + ylab(\"UMAP 2\") + NoLegend() +\n",
    "        theme(axis.title = element_text(size = 15)) +\n",
    "        theme(plot.title = element_blank()) +\n",
    "        theme(axis.text.x = element_blank(),\n",
    "              axis.ticks.x = element_blank(),\n",
    "              axis.text.y = element_blank(),\n",
    "              axis.ticks.y = element_blank())    \n",
    "\n",
    "p1 "
   ]
  },
  {
   "cell_type": "markdown",
   "id": "e1035bfb-e56a-4021-8427-1dab7211424a",
   "metadata": {
    "tags": []
   },
   "source": [
    "### Levebvre"
   ]
  },
  {
   "cell_type": "code",
   "execution_count": null,
   "id": "27453bfa-b01a-48a9-9f09-e6af2fe7f1ea",
   "metadata": {},
   "outputs": [],
   "source": [
    "Levebvre <- subset(Atlas, idents=c('Levebvre'))"
   ]
  },
  {
   "cell_type": "code",
   "execution_count": null,
   "id": "877550be-e005-41aa-a383-306993f1b30e",
   "metadata": {},
   "outputs": [],
   "source": [
    "options(repr.plot.width = 12, repr.plot.height = 10)\n",
    "p1 <- DimPlot(Levebvre, group.by='Numbers', label.color = 'white', label.box = TRUE, reduction = \"mde_scanvi\",order = c('39','38','37','36','35','34','33','32','31','30','29','28','27','26','25','24','23','22','21','20','19','18','17','16','15','14','13','12','11','10','9','8','7','6','5','4','3','2','1'), pt.size = 0.3, label = T , label.size=8, repel=TRUE, raster=FALSE, \n",
    "              cols= c('1'='#66C2A5',\n",
    "    '2'='#F781BF',\n",
    "    '3'='#B3DE69',\n",
    "    '4'='#8DA0CB',\n",
    "    '5'='#949086',\n",
    "    '6'='#FFCCCB',\n",
    "    '7'='#666666',\n",
    "    '8'='#B3B3B3',\n",
    "    '9'='#8DD3C7',\n",
    "    '10'='#D4A6CD',\n",
    "    '11'='#FB8072',\n",
    "    '12'='#FFD700',\n",
    "    '13'='#0B0F5E',\n",
    "    '14'='#377EB8',\n",
    "    '15'='#FDB462',\n",
    "    '16'='#DD2400',\n",
    "    '17'='#FFFF33',\n",
    "    '18'='#A65628',\n",
    "    '19'='#FF7F50',\n",
    "    '20'='#90EE90',\n",
    "    '21'='#003e00',\n",
    "    '22'='#FFD92F',\n",
    "    '23'='#FF7F00',\n",
    "    '24'='#502c49',\n",
    "    '25'='#A6D854',\n",
    "    '26'='#B3B3B3',\n",
    "    '27'='#5E885e',\n",
    "    '28'='#961900',\n",
    "    '29'='#F845a3',\n",
    "    '30'='#8DA0CB',\n",
    "    '31'='#7e18c6',\n",
    "    '32'='#B0D30A',\n",
    "    '33'='#640738',\n",
    "    '34'='#A2CFFE',\n",
    "    '35'='#66C2A5',\n",
    "    '36'='#4B0082',\n",
    "    '37'='#B15928',\n",
    "    '38'='#A0d4a4',\n",
    "    '39'='#8B4513'\n",
    "                     )) +\n",
    "        xlab(\"UMAP 1\") + ylab(\"UMAP 2\") + NoLegend() +\n",
    "        theme(axis.title = element_text(size = 15)) +\n",
    "        theme(plot.title = element_blank()) +\n",
    "        theme(axis.text.x = element_blank(),\n",
    "              axis.ticks.x = element_blank(),\n",
    "              axis.text.y = element_blank(),\n",
    "              axis.ticks.y = element_blank())    \n",
    "\n",
    "p1 "
   ]
  },
  {
   "cell_type": "markdown",
   "id": "a290313e-ae9e-41f5-a90f-7f568e9d4f34",
   "metadata": {
    "tags": []
   },
   "source": [
    "### Maes"
   ]
  },
  {
   "cell_type": "code",
   "execution_count": null,
   "id": "4e5767e2-7b50-40d2-b03b-f48e231f4ee3",
   "metadata": {},
   "outputs": [],
   "source": [
    "Maes <- subset(Atlas, idents=c('Maes'))"
   ]
  },
  {
   "cell_type": "code",
   "execution_count": null,
   "id": "e0b07835-1355-4bee-ae86-864cd788bcb9",
   "metadata": {},
   "outputs": [],
   "source": [
    "options(repr.plot.width = 12, repr.plot.height = 10)\n",
    "p1 <- DimPlot(Maes, group.by='Numbers', label.color = 'white', label.box = TRUE, reduction = \"mde_scanvi\",order = c('39','38','37','36','35','34','33','32','31','30','29','28','27','26','25','24','23','22','21','20','19','18','17','16','15','14','13','12','11','10','9','8','7','6','5','4','3','2','1'), pt.size = 0.3, label = F , label.size=8, repel=TRUE, raster=FALSE, \n",
    "              cols= c('1'='#66C2A5',\n",
    "    '2'='#F781BF',\n",
    "    '3'='#B3DE69',\n",
    "    '4'='#8DA0CB',\n",
    "    '5'='#949086',\n",
    "    '6'='#FFCCCB',\n",
    "    '7'='#666666',\n",
    "    '8'='#B3B3B3',\n",
    "    '9'='#8DD3C7',\n",
    "    '10'='#D4A6CD',\n",
    "    '11'='#FB8072',\n",
    "    '12'='#FFD700',\n",
    "    '13'='#0B0F5E',\n",
    "    '14'='#377EB8',\n",
    "    '15'='#FDB462',\n",
    "    '16'='#DD2400',\n",
    "    '17'='#FFFF33',\n",
    "    '18'='#A65628',\n",
    "    '19'='#FF7F50',\n",
    "    '20'='#90EE90',\n",
    "    '21'='#003e00',\n",
    "    '22'='#FFD92F',\n",
    "    '23'='#FF7F00',\n",
    "    '24'='#502c49',\n",
    "    '25'='#A6D854',\n",
    "    '26'='#B3B3B3',\n",
    "    '27'='#5E885e',\n",
    "    '28'='#961900',\n",
    "    '29'='#F845a3',\n",
    "    '30'='#8DA0CB',\n",
    "    '31'='#7e18c6',\n",
    "    '32'='#B0D30A',\n",
    "    '33'='#640738',\n",
    "    '34'='#A2CFFE',\n",
    "    '35'='#66C2A5',\n",
    "    '36'='#4B0082',\n",
    "    '37'='#B15928',\n",
    "    '38'='#A0d4a4',\n",
    "    '39'='#8B4513'\n",
    "                     )) +\n",
    "        xlab(\"UMAP 1\") + ylab(\"UMAP 2\") + NoLegend() +\n",
    "        theme(axis.title = element_text(size = 15)) +\n",
    "        theme(plot.title = element_blank()) +\n",
    "        theme(axis.text.x = element_blank(),\n",
    "              axis.ticks.x = element_blank(),\n",
    "              axis.text.y = element_blank(),\n",
    "              axis.ticks.y = element_blank())    \n",
    "\n",
    "p1 "
   ]
  },
  {
   "cell_type": "markdown",
   "id": "989f71b0-9a1d-4538-9d01-c52ad0d4490f",
   "metadata": {
    "tags": []
   },
   "source": [
    "### Obrien"
   ]
  },
  {
   "cell_type": "code",
   "execution_count": null,
   "id": "bbe5bad9-8b34-4a5c-ad4b-badb6ec5acd0",
   "metadata": {},
   "outputs": [],
   "source": [
    "OBrien <- subset(Atlas, idents=c('OBrien'))"
   ]
  },
  {
   "cell_type": "code",
   "execution_count": null,
   "id": "9e7775b0-db8a-481c-a8d3-a4a0daaf3a62",
   "metadata": {},
   "outputs": [],
   "source": [
    "options(repr.plot.width = 12, repr.plot.height = 10)\n",
    "p1 <- DimPlot(OBrien, group.by='Numbers', label.color = 'white', label.box = TRUE, reduction = \"mde_scanvi\",order = c('39','38','37','36','35','34','33','32','31','30','29','28','27','26','25','24','23','22','21','20','19','18','17','16','15','14','13','12','11','10','9','8','7','6','5','4','3','2','1'), pt.size = 0.3, label = F , label.size=8, repel=TRUE, raster=FALSE, \n",
    "              cols= c('1'='#66C2A5',\n",
    "    '2'='#F781BF',\n",
    "    '3'='#B3DE69',\n",
    "    '4'='#8DA0CB',\n",
    "    '5'='#949086',\n",
    "    '6'='#FFCCCB',\n",
    "    '7'='#666666',\n",
    "    '8'='#B3B3B3',\n",
    "    '9'='#8DD3C7',\n",
    "    '10'='#D4A6CD',\n",
    "    '11'='#FB8072',\n",
    "    '12'='#FFD700',\n",
    "    '13'='#0B0F5E',\n",
    "    '14'='#377EB8',\n",
    "    '15'='#FDB462',\n",
    "    '16'='#DD2400',\n",
    "    '17'='#FFFF33',\n",
    "    '18'='#A65628',\n",
    "    '19'='#FF7F50',\n",
    "    '20'='#90EE90',\n",
    "    '21'='#003e00',\n",
    "    '22'='#FFD92F',\n",
    "    '23'='#FF7F00',\n",
    "    '24'='#502c49',\n",
    "    '25'='#A6D854',\n",
    "    '26'='#B3B3B3',\n",
    "    '27'='#5E885e',\n",
    "    '28'='#961900',\n",
    "    '29'='#F845a3',\n",
    "    '30'='#8DA0CB',\n",
    "    '31'='#7e18c6',\n",
    "    '32'='#B0D30A',\n",
    "    '33'='#640738',\n",
    "    '34'='#A2CFFE',\n",
    "    '35'='#66C2A5',\n",
    "    '36'='#4B0082',\n",
    "    '37'='#B15928',\n",
    "    '38'='#A0d4a4',\n",
    "    '39'='#8B4513'\n",
    "                     )) +\n",
    "        xlab(\"UMAP 1\") + ylab(\"UMAP 2\") + NoLegend() +\n",
    "        theme(axis.title = element_text(size = 15)) +\n",
    "        theme(plot.title = element_blank()) +\n",
    "        theme(axis.text.x = element_blank(),\n",
    "              axis.ticks.x = element_blank(),\n",
    "              axis.text.y = element_blank(),\n",
    "              axis.ticks.y = element_blank())    \n",
    "\n",
    "p1 "
   ]
  },
  {
   "cell_type": "markdown",
   "id": "1a6aac2a-d808-4869-896f-7c47543324d6",
   "metadata": {
    "tags": []
   },
   "source": [
    "### Scadden"
   ]
  },
  {
   "cell_type": "code",
   "execution_count": null,
   "id": "93c9439b-ca40-4456-9ae1-472f2b919aa1",
   "metadata": {},
   "outputs": [],
   "source": [
    "Scadden <- subset(Atlas, idents=c('Scadden'))"
   ]
  },
  {
   "cell_type": "code",
   "execution_count": null,
   "id": "972ed78d-7290-4745-908f-67afda9ae51d",
   "metadata": {},
   "outputs": [],
   "source": [
    "options(repr.plot.width = 12, repr.plot.height = 10)\n",
    "p1 <- DimPlot(Scadden, group.by='Numbers', label.color = 'white', label.box = TRUE, reduction = \"mde_scanvi\",order = c('39','38','37','36','35','34','33','32','31','30','29','28','27','26','25','24','23','22','21','20','19','18','17','16','15','14','13','12','11','10','9','8','7','6','5','4','3','2','1'), pt.size = 0.3, label = F , label.size=8, repel=TRUE, raster=FALSE, \n",
    "              cols= c('1'='#66C2A5',\n",
    "    '2'='#F781BF',\n",
    "    '3'='#B3DE69',\n",
    "    '4'='#8DA0CB',\n",
    "    '5'='#949086',\n",
    "    '6'='#FFCCCB',\n",
    "    '7'='#666666',\n",
    "    '8'='#B3B3B3',\n",
    "    '9'='#8DD3C7',\n",
    "    '10'='#D4A6CD',\n",
    "    '11'='#FB8072',\n",
    "    '12'='#FFD700',\n",
    "    '13'='#0B0F5E',\n",
    "    '14'='#377EB8',\n",
    "    '15'='#FDB462',\n",
    "    '16'='#DD2400',\n",
    "    '17'='#FFFF33',\n",
    "    '18'='#A65628',\n",
    "    '19'='#FF7F50',\n",
    "    '20'='#90EE90',\n",
    "    '21'='#003e00',\n",
    "    '22'='#FFD92F',\n",
    "    '23'='#FF7F00',\n",
    "    '24'='#502c49',\n",
    "    '25'='#A6D854',\n",
    "    '26'='#B3B3B3',\n",
    "    '27'='#5E885e',\n",
    "    '28'='#961900',\n",
    "    '29'='#F845a3',\n",
    "    '30'='#8DA0CB',\n",
    "    '31'='#7e18c6',\n",
    "    '32'='#B0D30A',\n",
    "    '33'='#640738',\n",
    "    '34'='#A2CFFE',\n",
    "    '35'='#66C2A5',\n",
    "    '36'='#4B0082',\n",
    "    '37'='#B15928',\n",
    "    '38'='#A0d4a4',\n",
    "    '39'='#8B4513'\n",
    "                     )) +\n",
    "        xlab(\"UMAP 1\") + ylab(\"UMAP 2\") + NoLegend() +\n",
    "        theme(axis.title = element_text(size = 15)) +\n",
    "        theme(plot.title = element_blank()) +\n",
    "        theme(axis.text.x = element_blank(),\n",
    "              axis.ticks.x = element_blank(),\n",
    "              axis.text.y = element_blank(),\n",
    "              axis.ticks.y = element_blank())    \n",
    "\n",
    "p1 "
   ]
  },
  {
   "cell_type": "markdown",
   "id": "a32624ba-c726-42a3-8c64-fb8633fb3a74",
   "metadata": {
    "tags": []
   },
   "source": [
    "### White"
   ]
  },
  {
   "cell_type": "code",
   "execution_count": null,
   "id": "f9ddd564-d344-4853-aa9b-30c5bcfd43bc",
   "metadata": {},
   "outputs": [],
   "source": [
    "White <- subset(Atlas, idents=c('White'))"
   ]
  },
  {
   "cell_type": "code",
   "execution_count": null,
   "id": "6734dfb2-5dc7-4456-8782-38c008105bdb",
   "metadata": {},
   "outputs": [],
   "source": [
    "options(repr.plot.width = 12, repr.plot.height = 10)\n",
    "p1 <- DimPlot(White, group.by='Numbers', label.color = 'white', label.box = TRUE, reduction = \"mde_scanvi\",order = c('39','38','37','36','35','34','33','32','31','30','29','28','27','26','25','24','23','22','21','20','19','18','17','16','15','14','13','12','11','10','9','8','7','6','5','4','3','2','1'), pt.size = 0.3, label = F , label.size=8, repel=TRUE, raster=FALSE, \n",
    "              cols= c('1'='#66C2A5',\n",
    "    '2'='#F781BF',\n",
    "    '3'='#B3DE69',\n",
    "    '4'='#8DA0CB',\n",
    "    '5'='#949086',\n",
    "    '6'='#FFCCCB',\n",
    "    '7'='#666666',\n",
    "    '8'='#B3B3B3',\n",
    "    '9'='#8DD3C7',\n",
    "    '10'='#D4A6CD',\n",
    "    '11'='#FB8072',\n",
    "    '12'='#FFD700',\n",
    "    '13'='#0B0F5E',\n",
    "    '14'='#377EB8',\n",
    "    '15'='#FDB462',\n",
    "    '16'='#DD2400',\n",
    "    '17'='#FFFF33',\n",
    "    '18'='#A65628',\n",
    "    '19'='#FF7F50',\n",
    "    '20'='#90EE90',\n",
    "    '21'='#003e00',\n",
    "    '22'='#FFD92F',\n",
    "    '23'='#FF7F00',\n",
    "    '24'='#502c49',\n",
    "    '25'='#A6D854',\n",
    "    '26'='#B3B3B3',\n",
    "    '27'='#5E885e',\n",
    "    '28'='#961900',\n",
    "    '29'='#F845a3',\n",
    "    '30'='#8DA0CB',\n",
    "    '31'='#7e18c6',\n",
    "    '32'='#B0D30A',\n",
    "    '33'='#640738',\n",
    "    '34'='#A2CFFE',\n",
    "    '35'='#66C2A5',\n",
    "    '36'='#4B0082',\n",
    "    '37'='#B15928',\n",
    "    '38'='#A0d4a4',\n",
    "    '39'='#8B4513'   )) +\n",
    "        xlab(\"UMAP 1\") + ylab(\"UMAP 2\") + NoLegend() +\n",
    "        theme(axis.title = element_text(size = 15)) +\n",
    "        theme(plot.title = element_blank()) +\n",
    "        theme(axis.text.x = element_blank(),\n",
    "              axis.ticks.x = element_blank(),\n",
    "              axis.text.y = element_blank(),\n",
    "              axis.ticks.y = element_blank())    \n",
    "\n",
    "p1 "
   ]
  },
  {
   "cell_type": "markdown",
   "id": "0aa67e94-68a1-4f2e-9a54-3ba8b9d8315e",
   "metadata": {},
   "source": [
    "## Dotplot"
   ]
  },
  {
   "cell_type": "code",
   "execution_count": null,
   "id": "2891e81a-0675-43bb-8183-152538063476",
   "metadata": {},
   "outputs": [],
   "source": [
    "Idents(Atlas) <- Atlas$NandC"
   ]
  },
  {
   "cell_type": "code",
   "execution_count": null,
   "id": "7f09b8fb-c7bf-4265-823f-fa4d1c4c0055",
   "metadata": {},
   "outputs": [],
   "source": [
    "Mylevels <- c('39 - Keratinocytes', '38 - Neurons', '37 - Platelets', '36 - Erythroid cells', '35 - Immune cells', '34 - Epithelial cells', '33 - AER', '32 - Lymphatic endothelial cells', '31 - Vascular endothelial cells', '30 - Perivascular cells', '29 - Skeletal muscle cells', '28 - Muscle progenitors', '27 - Myogenic stem cells', '26 - Fibroblasts', '25 - Osteoclasts', '24 - Endosteum', '23 - Periosteum', '22 - Periosteal progenitors', '21 - Osteocytes', '20 - Fast proliferating osteoblasts', '19 - Osteoblasts', '18 - Pre-osteoblasts', '17 - Osteoprogenitors', '16 - Tenocytes', '15 - Tenocyte precursors', '14 - Joint precursors', '13 - Articular chondrocytes', '12 - Hypertrophic chondrocytes', '11 - Pre-hypertrophic chondrocytes', '10 - Proliferative chondrocytes', '9 - Resting zone chondrocytes', '8 - Chondrocytes', '7 - Chondroprogenitors', '6 - Fast proliferating cells', '5 - ZPA', '4 - Distal limb bud mesenchyme', '3 - Intermediate limb bud mesenchyme', '2 - Proximal limb bud mesenchyme', '1 - BMSCs')"
   ]
  },
  {
   "cell_type": "code",
   "execution_count": null,
   "id": "5c3ca136-5688-4c41-96a4-452c6fb5ef6c",
   "metadata": {},
   "outputs": [],
   "source": [
    "Atlas@meta.data$NandC <- factor(Atlas@meta.data$NandC, levels= Mylevels)"
   ]
  },
  {
   "cell_type": "code",
   "execution_count": null,
   "id": "a7aef47b-466e-40d2-9a41-1dc78d32cc42",
   "metadata": {},
   "outputs": [],
   "source": [
    "Atlas"
   ]
  },
  {
   "cell_type": "code",
   "execution_count": null,
   "id": "94b0f083-6cbd-4d67-95b0-31391a3f612b",
   "metadata": {},
   "outputs": [],
   "source": [
    "Idents(Atlas) <- Atlas$NandC"
   ]
  },
  {
   "cell_type": "code",
   "execution_count": null,
   "id": "65a143f1-239b-48e4-aa7c-49c1ffb97d0f",
   "metadata": {},
   "outputs": [],
   "source": [
    "head(Idents(Atlas))"
   ]
  },
  {
   "cell_type": "code",
   "execution_count": null,
   "id": "1104a2fe-d376-4e08-a5bd-3390d29e250d",
   "metadata": {},
   "outputs": [],
   "source": [
    "cd_genes <- c(\"Cxcl12\",\n",
    "              \"Hoxa9\",\n",
    "              \"Hoxa11\",\n",
    "              \"Hoxa13\",\n",
    "              \"Shh\",\n",
    "              \"Cdc20\",\n",
    "              \"Sox9\",\n",
    "              \"Col2a1\",\n",
    "              \"Ucma\",\n",
    "              \"Pth1r\",\n",
    "              \"Ihh\",\n",
    "              \"Col10a1\",\n",
    "              \"Prg4\",\n",
    "              \"Gdf5\",\n",
    "              \"Scx\",\n",
    "              \"Tnmd\",\n",
    "              \"Sp7\",\n",
    "              \"Spp1\",\n",
    "              \"Bglap\",\n",
    "              \"Cdk1\",\n",
    "              \"Dmp1\",\n",
    "              \"Ctsk\",\n",
    "              \"Wnt16\",\n",
    "              \"Postn\",\n",
    "              \"Cd68\",\n",
    "              \"S100a4\",\n",
    "              \"Pax3\",\n",
    "              \"Pax7\",\n",
    "              \"Tnnt1\",\n",
    "              \"Rgs5\",\n",
    "              \"Flt1\",\n",
    "              \"Lyve1\",\n",
    "              \"Fgf8\",\n",
    "              \"Epcam\",\n",
    "              \"Ptprc\",\n",
    "              \"Gypa\",\n",
    "              \"Pf4\",\n",
    "              \"Fabp7\",\n",
    "              \"Krt5\")\n",
    "              "
   ]
  },
  {
   "cell_type": "code",
   "execution_count": null,
   "id": "b370aa9e-a92e-4a5b-9a23-fce76c626e03",
   "metadata": {},
   "outputs": [],
   "source": [
    "options(repr.plot.width = 20, repr.plot.height = 10)\n",
    "\n",
    "\n",
    "DotPlot(Atlas,features = cd_genes) + theme(axis.text.x = element_text(angle = 90))"
   ]
  }
 ],
 "metadata": {
  "kernelspec": {
   "display_name": "R [conda env:base] *",
   "language": "R",
   "name": "conda-base-r"
  },
  "language_info": {
   "codemirror_mode": "r",
   "file_extension": ".r",
   "mimetype": "text/x-r-source",
   "name": "R",
   "pygments_lexer": "r",
   "version": "4.3.2"
  }
 },
 "nbformat": 4,
 "nbformat_minor": 5
}
