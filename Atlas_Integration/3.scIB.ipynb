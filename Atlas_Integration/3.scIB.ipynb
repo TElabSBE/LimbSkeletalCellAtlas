{
 "cells": [
  {
   "cell_type": "markdown",
   "id": "bde35d75-e4a7-466b-825e-29bd11f6d9cc",
   "metadata": {},
   "source": [
    "# scIB"
   ]
  },
  {
   "cell_type": "code",
   "execution_count": null,
   "id": "3f195192-c6d9-42c8-81d8-d5f32aa1d261",
   "metadata": {
    "tags": []
   },
   "outputs": [],
   "source": [
    "import matplotlib.pyplot as plt\n",
    "import seaborn as sns\n",
    "import numpy as np\n",
    "import pandas as pd\n",
    "import anndata\n",
    "from scipy import io\n",
    "\n",
    "import scanpy as sc\n",
    "import scvi\n",
    "import scib\n",
    "import torch\n",
    "from scib_metrics.benchmark import Benchmarker"
   ]
  },
  {
   "cell_type": "code",
   "execution_count": null,
   "id": "ddddef68-e6a8-4471-9ddc-616a229dfc0d",
   "metadata": {},
   "outputs": [],
   "source": [
    "adata= sc.read('Atlas.h5ad')"
   ]
  },
  {
   "cell_type": "code",
   "execution_count": null,
   "id": "bd017565-a62b-4401-89ae-61fb16310961",
   "metadata": {},
   "outputs": [],
   "source": [
    "adata"
   ]
  },
  {
   "cell_type": "code",
   "execution_count": null,
   "id": "b22cac04-cbed-4059-bcae-ccdd6b34fc7b",
   "metadata": {},
   "outputs": [],
   "source": [
    "bm = Benchmarker(\n",
    "    adata,\n",
    "    batch_key=\"Batch\",\n",
    "    label_key=\"CellType\",\n",
    "    embedding_obsm_keys=[\"X_mde\", \"X_mde_scanvi\"],\n",
    "    n_jobs=-1,\n",
    ")\n",
    "bm.benchmark()"
   ]
  },
  {
   "cell_type": "code",
   "execution_count": null,
   "id": "58fb8ee3-9a94-4465-9da5-7a84cdbe5ec6",
   "metadata": {},
   "outputs": [],
   "source": [
    "#per batch\n",
    "bm.plot_results_table(min_max_scale= False)"
   ]
  }
 ],
 "metadata": {
  "kernelspec": {
   "display_name": "Python [conda env:base] *",
   "language": "python",
   "name": "conda-base-py"
  },
  "language_info": {
   "codemirror_mode": {
    "name": "ipython",
    "version": 3
   },
   "file_extension": ".py",
   "mimetype": "text/x-python",
   "name": "python",
   "nbconvert_exporter": "python",
   "pygments_lexer": "ipython3",
   "version": "3.11.6"
  }
 },
 "nbformat": 4,
 "nbformat_minor": 5
}
