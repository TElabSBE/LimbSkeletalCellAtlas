{
 "cells": [
  {
   "cell_type": "markdown",
   "id": "bde35d75-e4a7-466b-825e-29bd11f6d9cc",
   "metadata": {},
   "source": [
    "# scANVI\n",
    "An important task of single-cell analysis is the integration of several samples, which we can perform with scVI. For integration, scVI treats the data as unlabelled. When our dataset is fully labelled (perhaps in independent studies, or independent analysis pipelines), we can obtain an integration that better preserves biology using scANVI, which incorporates cell type annotation information. Here we demonstrate this functionality with an integrated analysis of cells from the lung atlas integration task from the scIB manuscript. The same pipeline would generally be used to analyze any collection of scRNA-seq datasets."
   ]
  },
  {
   "cell_type": "code",
   "execution_count": null,
   "id": "3f195192-c6d9-42c8-81d8-d5f32aa1d261",
   "metadata": {
    "tags": []
   },
   "outputs": [],
   "source": [
    "import matplotlib.pyplot as plt\n",
    "import seaborn as sns\n",
    "import numpy as np\n",
    "import pandas as pd\n",
    "import anndata\n",
    "from scipy import io\n",
    "\n",
    "import scanpy as sc\n",
    "import scvi\n",
    "import scib\n",
    "import torch"
   ]
  },
  {
   "cell_type": "code",
   "execution_count": null,
   "id": "381c7477-26b7-4184-bcf0-635161313b93",
   "metadata": {
    "tags": []
   },
   "outputs": [],
   "source": [
    "adata = sc.read(\"/home/jovyan/researcher_home/Documents/Tom/Atlas/data/Atlas/merged.h5ad\")"
   ]
  },
  {
   "cell_type": "code",
   "execution_count": null,
   "id": "a8926086",
   "metadata": {
    "tags": []
   },
   "outputs": [],
   "source": [
    "adata"
   ]
  },
  {
   "cell_type": "markdown",
   "id": "6a01eda2-e3fd-4675-acf0-cb6e054c803c",
   "metadata": {},
   "source": [
    "## Dataset preprocessing\n",
    "This dataset was already processed as described in the scIB manuscript. Generally, models in scvi-tools expect data that has been filtered/aggregated in the same fashion as one would do with Scanpy/Seurat.\n",
    "\n",
    "Another important thing to keep in mind is highly-variable gene selection. While scVI and scANVI both accomodate using all genes in terms of runtime, we usually recommend filtering genes for best integration performance. This will, among other things, remove batch-specific variation due to batch-specific gene expression.\n",
    "\n",
    "We perform this gene selection using the Scanpy pipeline while keeping the full dimension normalized data in the adata.raw object. We obtain variable genes from each dataset and take their intersections."
   ]
  },
  {
   "cell_type": "code",
   "execution_count": null,
   "id": "27e11cda-285b-4e09-970b-e4acda749b6f",
   "metadata": {
    "tags": []
   },
   "outputs": [],
   "source": [
    "adata.raw = adata  # keep full dimension safe"
   ]
  },
  {
   "cell_type": "code",
   "execution_count": null,
   "id": "e8a3e245-e0cb-4e64-bab4-fce5d79d0498",
   "metadata": {
    "tags": []
   },
   "outputs": [],
   "source": [
    "sc.pp.log1p(adata)\n"
   ]
  },
  {
   "cell_type": "code",
   "execution_count": null,
   "id": "0b0e5f1d-a648-4f2b-87fc-518708a36fdb",
   "metadata": {
    "tags": []
   },
   "outputs": [],
   "source": [
    "sc.pp.highly_variable_genes(adata, flavor=\"seurat\", batch_key=\"Author\", n_top_genes=2000,subset=True)"
   ]
  },
  {
   "cell_type": "code",
   "execution_count": null,
   "id": "53180883-966c-4609-bc39-14933622c5b9",
   "metadata": {
    "tags": []
   },
   "outputs": [],
   "source": [
    "adata"
   ]
  },
  {
   "cell_type": "markdown",
   "id": "9bf3d273-4689-4f27-aa5e-f5edb024b49a",
   "metadata": {},
   "source": [
    "## Integration with scVI\n",
    "As a first step, we assume that the data is completely unlabelled and we wish to find common axes of variation between the two datasets. There are many methods available in scanpy for this purpose (BBKNN, Scanorama, etc.). In this notebook we present scVI. To run scVI, we simply need to:\n",
    "\n",
    "Register the AnnData object with the correct key to identify the sample and the layer key with the count data.\n",
    "\n",
    "Create an SCVI model object."
   ]
  },
  {
   "cell_type": "code",
   "execution_count": null,
   "id": "67ac6132-560a-480f-9690-277fa68886c8",
   "metadata": {
    "tags": []
   },
   "outputs": [],
   "source": [
    "#adata.raw.X\n"
   ]
  },
  {
   "cell_type": "code",
   "execution_count": null,
   "id": "b208cc74-8099-4286-852c-878d12e07ddd",
   "metadata": {
    "tags": []
   },
   "outputs": [],
   "source": [
    "pip install -U \"jax[cuda12]\""
   ]
  },
  {
   "cell_type": "code",
   "execution_count": null,
   "id": "6d123aee-858d-4da2-b1b4-e753863bd7e7",
   "metadata": {
    "tags": []
   },
   "outputs": [],
   "source": [
    "scvi.model.SCVI.setup_anndata(adata, batch_key=\"Author\")"
   ]
  },
  {
   "cell_type": "markdown",
   "id": "1b9e9e58-2625-44c7-913b-45976c655dde",
   "metadata": {},
   "source": [
    "We note that these parameters are non-default; however, they have been verified to generally work well in the integration task."
   ]
  },
  {
   "cell_type": "code",
   "execution_count": null,
   "id": "f543e82f-723f-41b2-8c22-fd2b48065ae8",
   "metadata": {
    "tags": []
   },
   "outputs": [],
   "source": [
    "vae = scvi.model.SCVI(adata, n_layers=2, n_latent=30, gene_likelihood=\"nb\", )"
   ]
  },
  {
   "cell_type": "markdown",
   "id": "4f0cbb64-dec1-48de-8081-819fde4f2a59",
   "metadata": {},
   "source": [
    "Now we train scVI"
   ]
  },
  {
   "cell_type": "code",
   "execution_count": null,
   "id": "2787bbd8-4646-4457-a514-6ce8d75b1d4a",
   "metadata": {
    "tags": []
   },
   "outputs": [],
   "source": [
    "torch.set_float32_matmul_precision('high')"
   ]
  },
  {
   "cell_type": "code",
   "execution_count": null,
   "id": "d884503a-d616-417f-97e3-04c9c474d223",
   "metadata": {
    "tags": []
   },
   "outputs": [],
   "source": [
    "vae.train()\n"
   ]
  },
  {
   "cell_type": "markdown",
   "id": "a63cb61c-f9ca-4628-b541-f98393e59213",
   "metadata": {},
   "source": [
    "Once the training is done, we can evaluate the latent representation of each cell in the dataset and add it to the AnnData object"
   ]
  },
  {
   "cell_type": "code",
   "execution_count": null,
   "id": "4da683e5-9a75-4d6b-a9d3-52f5012e1858",
   "metadata": {
    "tags": []
   },
   "outputs": [],
   "source": [
    "adata.obsm[\"X_scVI\"] = vae.get_latent_representation()"
   ]
  },
  {
   "cell_type": "code",
   "execution_count": null,
   "id": "de770481-a50b-4ae8-a944-43a75e4a852f",
   "metadata": {
    "tags": []
   },
   "outputs": [],
   "source": [
    "pip install pymde"
   ]
  },
  {
   "cell_type": "markdown",
   "id": "e0f65ddd-8b0e-4654-9cbc-2d4b88c29f80",
   "metadata": {},
   "source": [
    "To visualize the scVI’s learned embeddings, we use the pymde package wrapperin scvi-tools. This is an alternative to UMAP that is GPU-accelerated."
   ]
  },
  {
   "cell_type": "code",
   "execution_count": null,
   "id": "597a5814",
   "metadata": {
    "tags": []
   },
   "outputs": [],
   "source": [
    "from scvi.model.utils import mde\n",
    "import pymde"
   ]
  },
  {
   "cell_type": "code",
   "execution_count": null,
   "id": "413de1d5-aa36-482c-b380-69da27105322",
   "metadata": {
    "tags": []
   },
   "outputs": [],
   "source": [
    "adata.obsm[\"X_mde\"] = mde(adata.obsm[\"X_scVI\"])"
   ]
  },
  {
   "cell_type": "code",
   "execution_count": null,
   "id": "58244ba7-89b1-4997-8a20-8a37a418969d",
   "metadata": {
    "tags": []
   },
   "outputs": [],
   "source": [
    "adata"
   ]
  },
  {
   "cell_type": "code",
   "execution_count": null,
   "id": "5b8b3072-89c3-424b-a851-dc467ec03dd4",
   "metadata": {
    "tags": []
   },
   "outputs": [],
   "source": [
    "sc.pl.embedding(adata, basis=\"X_mde\", color=[\"CellType\",\"CellType_Integration\",\"Batch\"], frameon=False, ncols=1)"
   ]
  },
  {
   "cell_type": "code",
   "execution_count": null,
   "id": "9e45840c",
   "metadata": {
    "tags": []
   },
   "outputs": [],
   "source": [
    "adata"
   ]
  },
  {
   "cell_type": "code",
   "execution_count": null,
   "id": "6ef7aaea-5fed-4bb8-af84-8f6d4782d0ee",
   "metadata": {
    "tags": []
   },
   "outputs": [],
   "source": [
    "dir_path = \"scVI_model/\"\n",
    "vae.save(dir_path, overwrite=True) "
   ]
  },
  {
   "cell_type": "code",
   "execution_count": null,
   "id": "88ce8e0d-bb19-47ad-a981-170a08557c63",
   "metadata": {
    "tags": []
   },
   "outputs": [],
   "source": [
    "adata.write(\"scVI_model/scVI.h5ad\")"
   ]
  },
  {
   "cell_type": "markdown",
   "id": "c9f6a1a4-f673-4250-b901-bc14fd64a087",
   "metadata": {},
   "source": [
    "## Integration with scANVI\n",
    "Previously, we used scVI as we assumed we did not have any cell type annotations available to guide us. Consequently, after the previous analysis, one would have to annotate clusters using differential expression, or by other means.\n",
    "\n",
    "Now, we assume that all of our data is annotated. This can lead to a more accurate integration result when using scANVI, i.e., our latent data manifold is better suited to downstream tasks like visualization, trajectory inference, or nearest-neighbor-based tasks. scANVI requires:\n",
    "\n",
    "the sample identifier for each cell (as in scVI)\n",
    "\n",
    "the cell type/state for each cell\n",
    "\n",
    "scANVI can also be used for label transfer and we recommend checking out the other scANVI tutorials to see explore this functionality.\n",
    "\n",
    "Since we’ve already trained an scVI model on our data, we will use it to initialize scANVI. When initializing scANVI, we provide it the labels_key. As scANVI can also be used for datasets with partially-observed annotations, we need to give it the name of the category that corresponds to unlabeled cells. As we have no unlabeled cells, we can give it any random name that is not the name of an exisiting cell type."
   ]
  },
  {
   "cell_type": "code",
   "execution_count": null,
   "id": "e05867f5-dacb-4a4e-8fb2-aeab7ffd8f63",
   "metadata": {
    "scrolled": true,
    "tags": []
   },
   "outputs": [],
   "source": [
    "lvae = scvi.model.SCANVI.from_scvi_model(\n",
    "    vae,\n",
    "    adata=adata,\n",
    "    labels_key=\"CellType\",\n",
    "    unlabeled_category=\"TBD\",\n",
    ")"
   ]
  },
  {
   "cell_type": "code",
   "execution_count": null,
   "id": "5a943a5b-bf1f-4f4c-b61f-de80c235e3cf",
   "metadata": {
    "tags": []
   },
   "outputs": [],
   "source": [
    "lvae.train(max_epochs=20, n_samples_per_label=100)"
   ]
  },
  {
   "cell_type": "code",
   "execution_count": null,
   "id": "ba370843-da37-4acc-ae23-1bfe44cae83d",
   "metadata": {
    "tags": []
   },
   "outputs": [],
   "source": [
    "adata"
   ]
  },
  {
   "cell_type": "markdown",
   "id": "3c723f86-5678-4ff5-b3c7-d18facd26a63",
   "metadata": {},
   "source": [
    "Now we can retrieve the latent space"
   ]
  },
  {
   "cell_type": "code",
   "execution_count": null,
   "id": "a671574f-e0a7-4e1e-a3f0-60c97f6e597e",
   "metadata": {
    "tags": []
   },
   "outputs": [],
   "source": [
    "adata.obsm[\"X_scANVI\"] = lvae.get_latent_representation(adata)\n"
   ]
  },
  {
   "cell_type": "code",
   "execution_count": null,
   "id": "eb077b21-8d47-4978-823f-b147ec39e4b3",
   "metadata": {
    "tags": []
   },
   "outputs": [],
   "source": [
    "adata.obsm[\"X_mde_scanvi\"] = mde(adata.obsm[\"X_scANVI\"])\n"
   ]
  },
  {
   "cell_type": "code",
   "execution_count": null,
   "id": "fbd27c69-2f48-4597-a88e-43c8993e18c4",
   "metadata": {
    "tags": []
   },
   "outputs": [],
   "source": [
    "adata"
   ]
  },
  {
   "cell_type": "code",
   "execution_count": null,
   "id": "e83d3c75-e16b-4f4f-87ca-5f4a36b3c918",
   "metadata": {
    "tags": []
   },
   "outputs": [],
   "source": [
    "sc.pl.embedding(adata, basis=\"X_mde_scanvi\", color=[\"CellType\",\"Batch\"], ncols=1, frameon=False, )\n"
   ]
  },
  {
   "cell_type": "code",
   "execution_count": null,
   "id": "27cc1cf2-d425-456c-a156-70193c98e4b6",
   "metadata": {
    "tags": []
   },
   "outputs": [],
   "source": [
    "sc.tl.pca(adata)"
   ]
  },
  {
   "cell_type": "code",
   "execution_count": null,
   "id": "fbf89163-92d1-45c3-bab1-0b9b8d2b5e34",
   "metadata": {
    "tags": []
   },
   "outputs": [],
   "source": [
    "dir_path = \"scANVI_model/\"\n",
    "lvae.save(dir_path, overwrite=True) "
   ]
  },
  {
   "cell_type": "code",
   "execution_count": null,
   "id": "2dbc8eaf-03a0-4838-bdc0-9e22f063b4cc",
   "metadata": {
    "tags": []
   },
   "outputs": [],
   "source": [
    "adata.write(\"scANVI_model/scANVI.h5ad\")"
   ]
  },
  {
   "cell_type": "code",
   "execution_count": null,
   "id": "65864392-4f04-4e9c-9b0c-4d5fec42e249",
   "metadata": {
    "tags": []
   },
   "outputs": [],
   "source": [
    "adata"
   ]
  }
 ],
 "metadata": {
  "kernelspec": {
   "display_name": "Python [conda env:base] *",
   "language": "python",
   "name": "conda-base-py"
  },
  "language_info": {
   "codemirror_mode": {
    "name": "ipython",
    "version": 3
   },
   "file_extension": ".py",
   "mimetype": "text/x-python",
   "name": "python",
   "nbconvert_exporter": "python",
   "pygments_lexer": "ipython3",
   "version": "3.11.6"
  }
 },
 "nbformat": 4,
 "nbformat_minor": 5
}
