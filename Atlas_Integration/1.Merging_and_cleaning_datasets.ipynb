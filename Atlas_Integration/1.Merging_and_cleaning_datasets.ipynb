{
 "cells": [
  {
   "cell_type": "code",
   "execution_count": 11,
   "id": "de405c51-3b49-4863-8940-4c4040dae166",
   "metadata": {},
   "outputs": [],
   "source": [
    "suppressPackageStartupMessages({\n",
    "    library(SingleCellExperiment)\n",
    "    library(DropletUtils)\n",
    "    library(scuttle)\n",
    "    library(Seurat)\n",
    "    library(SeuratWrappers)\n",
    "    library(stringr)\n",
    "    library(dplyr)\n",
    "    library(data.table)\n",
    "    library(Matrix)\n",
    "    library(patchwork)\n",
    "    library(ggplot2)\n",
    "})\n",
    "\n",
    "options(repr.plot.width = 16, repr.plot.height = 8)"
   ]
  },
  {
   "cell_type": "code",
   "execution_count": 12,
   "id": "992fe787-78df-4f31-8a5a-859ea7434afd",
   "metadata": {},
   "outputs": [
    {
     "data": {
      "text/plain": [
       "An object of class Seurat \n",
       "16537 features across 27518 samples within 1 assay \n",
       "Active assay: RNA (16537 features, 2000 variable features)\n",
       " 2 dimensional reductions calculated: pca, umap"
      ]
     },
     "metadata": {},
     "output_type": "display_data"
    }
   ],
   "source": [
    "S1 <- readRDS(file = \"Adams_annotated.Rds\")\n",
    "S1"
   ]
  },
  {
   "cell_type": "code",
   "execution_count": 13,
   "id": "94cb9715-999c-47e7-92e3-e3e49b5c109e",
   "metadata": {},
   "outputs": [
    {
     "data": {
      "text/plain": [
       "An object of class Seurat \n",
       "16685 features across 3094 samples within 1 assay \n",
       "Active assay: RNA (16685 features, 2000 variable features)\n",
       " 3 dimensional reductions calculated: pca, umap, tsne"
      ]
     },
     "metadata": {},
     "output_type": "display_data"
    }
   ],
   "source": [
    "S2.1 <- readRDS(file = \"Bian_E12.5_annotated.Rds\")\n",
    "S2.1"
   ]
  },
  {
   "cell_type": "code",
   "execution_count": 14,
   "id": "cbf0c917-c48c-4b13-ac01-2b55328fe953",
   "metadata": {},
   "outputs": [
    {
     "data": {
      "text/plain": [
       "An object of class Seurat \n",
       "16685 features across 5202 samples within 1 assay \n",
       "Active assay: RNA (16685 features, 2000 variable features)\n",
       " 3 dimensional reductions calculated: pca, umap, tsne"
      ]
     },
     "metadata": {},
     "output_type": "display_data"
    }
   ],
   "source": [
    "S2.2 <- readRDS(file = \"Bian_E13.5_annotated.Rds\")\n",
    "S2.2"
   ]
  },
  {
   "cell_type": "code",
   "execution_count": 15,
   "id": "18a93dcf-54fa-4132-a9ee-b017b3cc6036",
   "metadata": {},
   "outputs": [
    {
     "data": {
      "text/plain": [
       "An object of class Seurat \n",
       "16685 features across 1861 samples within 1 assay \n",
       "Active assay: RNA (16685 features, 2000 variable features)\n",
       " 3 dimensional reductions calculated: pca, umap, tsne"
      ]
     },
     "metadata": {},
     "output_type": "display_data"
    }
   ],
   "source": [
    "S2.3 <- readRDS(file = \"Bian_E14.5_annotated.Rds\")\n",
    "S2.3"
   ]
  },
  {
   "cell_type": "code",
   "execution_count": 16,
   "id": "96221904-6d76-4c8c-b82c-1218dfa7bb4e",
   "metadata": {},
   "outputs": [
    {
     "data": {
      "text/plain": [
       "An object of class Seurat \n",
       "16685 features across 1138 samples within 1 assay \n",
       "Active assay: RNA (16685 features, 2000 variable features)\n",
       " 3 dimensional reductions calculated: pca, umap, tsne"
      ]
     },
     "metadata": {},
     "output_type": "display_data"
    }
   ],
   "source": [
    "S2.4 <- readRDS(file = \"Bian_E15.5_annotated.Rds\")\n",
    "S2.4"
   ]
  },
  {
   "cell_type": "code",
   "execution_count": 6,
   "id": "07c67c85-0dfa-475a-b583-5887f72d2cb5",
   "metadata": {},
   "outputs": [
    {
     "data": {
      "text/plain": [
       "An object of class Seurat \n",
       "54686 features across 168 samples within 2 assays \n",
       "Active assay: originalexp (27343 features, 2000 variable features)\n",
       " 1 other assay present: RNA\n",
       " 4 dimensional reductions calculated: PCA_coldata, pca, tsne, umap"
      ]
     },
     "metadata": {},
     "output_type": "display_data"
    }
   ],
   "source": [
    "S3 <- readRDS(file = \"Bohm_annotated.Rds\")\n",
    "S3"
   ]
  },
  {
   "cell_type": "code",
   "execution_count": 17,
   "id": "dac559aa-7808-42c0-9be6-d2d906dafcd7",
   "metadata": {},
   "outputs": [
    {
     "data": {
      "text/plain": [
       "An object of class Seurat \n",
       "25534 features across 656 samples within 1 assay \n",
       "Active assay: RNA (25534 features, 1431 variable features)\n",
       " 4 dimensional reductions calculated: PCA_coldata, pca, tSNE, umap"
      ]
     },
     "metadata": {},
     "output_type": "display_data"
    }
   ],
   "source": [
    "S4 <- readRDS(file = \"Debnath_annotated.Rds\")\n",
    "S4"
   ]
  },
  {
   "cell_type": "code",
   "execution_count": 18,
   "id": "62ef0ca0-b760-431d-8e1f-4dc7a3fa9a91",
   "metadata": {},
   "outputs": [
    {
     "data": {
      "text/plain": [
       "An object of class Seurat \n",
       "17008 features across 2453 samples within 1 assay \n",
       "Active assay: RNA (17008 features, 2000 variable features)\n",
       " 2 dimensional reductions calculated: pca, umap"
      ]
     },
     "metadata": {},
     "output_type": "display_data"
    }
   ],
   "source": [
    "S5.1 <- readRDS(file = \"/Guilak_E11.5_annotated.Rds\")\n",
    "S5.1"
   ]
  },
  {
   "cell_type": "code",
   "execution_count": 19,
   "id": "d4324533-baad-41f3-b693-63f7f8529f6a",
   "metadata": {},
   "outputs": [
    {
     "data": {
      "text/plain": [
       "An object of class Seurat \n",
       "17454 features across 2726 samples within 1 assay \n",
       "Active assay: RNA (17454 features, 2000 variable features)\n",
       " 2 dimensional reductions calculated: pca, umap"
      ]
     },
     "metadata": {},
     "output_type": "display_data"
    }
   ],
   "source": [
    "S5.2 <- readRDS(file = \"Guilak_E13.5_annotated.Rds\")\n",
    "S5.2"
   ]
  },
  {
   "cell_type": "code",
   "execution_count": 20,
   "id": "fdbb90dd-44e0-445e-bfdf-02cbf193fec1",
   "metadata": {},
   "outputs": [
    {
     "data": {
      "text/plain": [
       "An object of class Seurat \n",
       "17578 features across 2509 samples within 1 assay \n",
       "Active assay: RNA (17578 features, 2000 variable features)\n",
       " 2 dimensional reductions calculated: pca, umap"
      ]
     },
     "metadata": {},
     "output_type": "display_data"
    }
   ],
   "source": [
    "S5.3 <- readRDS(file = \"Guilak_E15.5_annotated.Rds\")\n",
    "S5.3"
   ]
  },
  {
   "cell_type": "code",
   "execution_count": 21,
   "id": "d08b445c-04b3-455d-ad2c-7d610b4ac97d",
   "metadata": {},
   "outputs": [
    {
     "data": {
      "text/plain": [
       "An object of class Seurat \n",
       "17097 features across 1861 samples within 1 assay \n",
       "Active assay: RNA (17097 features, 2000 variable features)\n",
       " 2 dimensional reductions calculated: pca, umap"
      ]
     },
     "metadata": {},
     "output_type": "display_data"
    }
   ],
   "source": [
    "S5.4 <- readRDS(file = \"Guilak_E18.5_annotated.Rds\")\n",
    "S5.4"
   ]
  },
  {
   "cell_type": "code",
   "execution_count": 22,
   "id": "da5f1e10-caff-4ac9-9837-1ab8ee847e2f",
   "metadata": {},
   "outputs": [
    {
     "data": {
      "text/plain": [
       "An object of class Seurat \n",
       "19399 features across 5826 samples within 1 assay \n",
       "Active assay: RNA (19399 features, 2000 variable features)\n",
       " 2 dimensional reductions calculated: pca, umap"
      ]
     },
     "metadata": {},
     "output_type": "display_data"
    }
   ],
   "source": [
    "S6.1 <- readRDS(file = \"Kmita_E10_5_annotated.Rds\")\n",
    "S6.1"
   ]
  },
  {
   "cell_type": "code",
   "execution_count": 23,
   "id": "862bed31-235c-4424-9429-e110e438b5f5",
   "metadata": {},
   "outputs": [
    {
     "data": {
      "text/plain": [
       "An object of class Seurat \n",
       "19889 features across 5837 samples within 1 assay \n",
       "Active assay: RNA (19889 features, 2000 variable features)\n",
       " 2 dimensional reductions calculated: pca, umap"
      ]
     },
     "metadata": {},
     "output_type": "display_data"
    }
   ],
   "source": [
    "S6.2 <- readRDS(file = \"Kmita_E11_5_annotated.Rds\")\n",
    "S6.2"
   ]
  },
  {
   "cell_type": "code",
   "execution_count": 24,
   "id": "daba651e-56cc-48ea-96e9-5a5a0e8b31af",
   "metadata": {},
   "outputs": [
    {
     "data": {
      "text/plain": [
       "An object of class Seurat \n",
       "19334 features across 6986 samples within 1 assay \n",
       "Active assay: RNA (19334 features, 2000 variable features)\n",
       " 2 dimensional reductions calculated: pca, umap"
      ]
     },
     "metadata": {},
     "output_type": "display_data"
    }
   ],
   "source": [
    "S6.3 <- readRDS(file = \"Kmita_E12_5_annotated.Rds\")\n",
    "S6.3"
   ]
  },
  {
   "cell_type": "code",
   "execution_count": 25,
   "id": "f3a01ff8-df7c-4280-a016-0c22618eb28f",
   "metadata": {},
   "outputs": [
    {
     "data": {
      "text/plain": [
       "An object of class Seurat \n",
       "16816 features across 1663 samples within 1 assay \n",
       "Active assay: RNA (16816 features, 2000 variable features)\n",
       " 2 dimensional reductions calculated: pca, umap"
      ]
     },
     "metadata": {},
     "output_type": "display_data"
    }
   ],
   "source": [
    "S7.1 <- readRDS(file = \"Maerz_shamd7_annotated.Rds\")\n",
    "S7.1"
   ]
  },
  {
   "cell_type": "code",
   "execution_count": 26,
   "id": "6cb2b92c-2ce6-42ed-8124-6dc141d9fd5f",
   "metadata": {},
   "outputs": [
    {
     "data": {
      "text/plain": [
       "An object of class Seurat \n",
       "17043 features across 947 samples within 1 assay \n",
       "Active assay: RNA (17043 features, 2000 variable features)\n",
       " 2 dimensional reductions calculated: pca, umap"
      ]
     },
     "metadata": {},
     "output_type": "display_data"
    }
   ],
   "source": [
    "S7.2 <- readRDS(file = \"Maerz_shamd28_annotated.Rds\")\n",
    "S7.2"
   ]
  },
  {
   "cell_type": "code",
   "execution_count": 27,
   "id": "3c81f83c-7d65-43ed-99bd-14a2652e5b31",
   "metadata": {},
   "outputs": [
    {
     "data": {
      "text/plain": [
       "An object of class Seurat \n",
       "27998 features across 24652 samples within 1 assay \n",
       "Active assay: RNA (27998 features, 2000 variable features)\n",
       " 3 dimensional reductions calculated: pca, tsne, umap"
      ]
     },
     "metadata": {},
     "output_type": "display_data"
    }
   ],
   "source": [
    "S8 <- readRDS(file = \"Scadden_annotated.Rds\")\n",
    "S8"
   ]
  },
  {
   "cell_type": "markdown",
   "id": "384948fd-b8c7-440d-9102-c50f9bfbecba",
   "metadata": {},
   "source": [
    "## Cleaning of meta data"
   ]
  },
  {
   "cell_type": "code",
   "execution_count": 28,
   "id": "eb21ed10-01f7-41a8-9a7a-7c40ad474cb8",
   "metadata": {},
   "outputs": [
    {
     "data": {
      "text/html": [
       "<table class=\"dataframe\">\n",
       "<caption>A data.frame: 6 × 13</caption>\n",
       "<thead>\n",
       "\t<tr><th></th><th scope=col>nCount_RNA</th><th scope=col>nFeature_RNA</th><th scope=col>percent.mt</th><th scope=col>Strain</th><th scope=col>Age</th><th scope=col>Sex</th><th scope=col>Tissue</th><th scope=col>Organism</th><th scope=col>Technology</th><th scope=col>Author</th><th scope=col>RNA_snn_res.0.11</th><th scope=col>seurat_clusters</th><th scope=col>CellType</th></tr>\n",
       "\t<tr><th></th><th scope=col>&lt;dbl&gt;</th><th scope=col>&lt;int&gt;</th><th scope=col>&lt;dbl&gt;</th><th scope=col>&lt;chr&gt;</th><th scope=col>&lt;chr&gt;</th><th scope=col>&lt;chr&gt;</th><th scope=col>&lt;chr&gt;</th><th scope=col>&lt;chr&gt;</th><th scope=col>&lt;chr&gt;</th><th scope=col>&lt;chr&gt;</th><th scope=col>&lt;fct&gt;</th><th scope=col>&lt;fct&gt;</th><th scope=col>&lt;fct&gt;</th></tr>\n",
       "</thead>\n",
       "<tbody>\n",
       "\t<tr><th scope=row>BSC_1_AAACCTGAGATAGCAT-1</th><td>4997</td><td>2339</td><td>3.021813</td><td>C57BL/6</td><td>P21</td><td>Male</td><td>Bone</td><td>Mus musculus</td><td>10x</td><td>Adams</td><td>1</td><td>1</td><td>Vascular endothelial cells</td></tr>\n",
       "\t<tr><th scope=row>BSC_1_AAACCTGAGGGTATCG-1</th><td>3275</td><td>1573</td><td>5.068702</td><td>C57BL/6</td><td>P21</td><td>Male</td><td>Bone</td><td>Mus musculus</td><td>10x</td><td>Adams</td><td>2</td><td>2</td><td>Adipocytes                </td></tr>\n",
       "\t<tr><th scope=row>BSC_1_AAACCTGCAAACCCAT-1</th><td>2559</td><td>1434</td><td>2.032044</td><td>C57BL/6</td><td>P21</td><td>Male</td><td>Bone</td><td>Mus musculus</td><td>10x</td><td>Adams</td><td>2</td><td>2</td><td>Adipocytes                </td></tr>\n",
       "\t<tr><th scope=row>BSC_1_AAACCTGGTCAACATC-1</th><td>3911</td><td>1751</td><td>3.144976</td><td>C57BL/6</td><td>P21</td><td>Male</td><td>Bone</td><td>Mus musculus</td><td>10x</td><td>Adams</td><td>0</td><td>0</td><td>Resting zone chondrocytes </td></tr>\n",
       "\t<tr><th scope=row>BSC_1_AAACGGGAGGATGGTC-1</th><td>5953</td><td>1792</td><td>2.200571</td><td>C57BL/6</td><td>P21</td><td>Male</td><td>Bone</td><td>Mus musculus</td><td>10x</td><td>Adams</td><td>4</td><td>4</td><td>Articular chondrocytes    </td></tr>\n",
       "\t<tr><th scope=row>BSC_1_AAACGGGCACAGACTT-1</th><td>8686</td><td>2437</td><td>3.304168</td><td>C57BL/6</td><td>P21</td><td>Male</td><td>Bone</td><td>Mus musculus</td><td>10x</td><td>Adams</td><td>4</td><td>4</td><td>Articular chondrocytes    </td></tr>\n",
       "</tbody>\n",
       "</table>\n"
      ],
      "text/latex": [
       "A data.frame: 6 × 13\n",
       "\\begin{tabular}{r|lllllllllllll}\n",
       "  & nCount\\_RNA & nFeature\\_RNA & percent.mt & Strain & Age & Sex & Tissue & Organism & Technology & Author & RNA\\_snn\\_res.0.11 & seurat\\_clusters & CellType\\\\\n",
       "  & <dbl> & <int> & <dbl> & <chr> & <chr> & <chr> & <chr> & <chr> & <chr> & <chr> & <fct> & <fct> & <fct>\\\\\n",
       "\\hline\n",
       "\tBSC\\_1\\_AAACCTGAGATAGCAT-1 & 4997 & 2339 & 3.021813 & C57BL/6 & P21 & Male & Bone & Mus musculus & 10x & Adams & 1 & 1 & Vascular endothelial cells\\\\\n",
       "\tBSC\\_1\\_AAACCTGAGGGTATCG-1 & 3275 & 1573 & 5.068702 & C57BL/6 & P21 & Male & Bone & Mus musculus & 10x & Adams & 2 & 2 & Adipocytes                \\\\\n",
       "\tBSC\\_1\\_AAACCTGCAAACCCAT-1 & 2559 & 1434 & 2.032044 & C57BL/6 & P21 & Male & Bone & Mus musculus & 10x & Adams & 2 & 2 & Adipocytes                \\\\\n",
       "\tBSC\\_1\\_AAACCTGGTCAACATC-1 & 3911 & 1751 & 3.144976 & C57BL/6 & P21 & Male & Bone & Mus musculus & 10x & Adams & 0 & 0 & Resting zone chondrocytes \\\\\n",
       "\tBSC\\_1\\_AAACGGGAGGATGGTC-1 & 5953 & 1792 & 2.200571 & C57BL/6 & P21 & Male & Bone & Mus musculus & 10x & Adams & 4 & 4 & Articular chondrocytes    \\\\\n",
       "\tBSC\\_1\\_AAACGGGCACAGACTT-1 & 8686 & 2437 & 3.304168 & C57BL/6 & P21 & Male & Bone & Mus musculus & 10x & Adams & 4 & 4 & Articular chondrocytes    \\\\\n",
       "\\end{tabular}\n"
      ],
      "text/markdown": [
       "\n",
       "A data.frame: 6 × 13\n",
       "\n",
       "| <!--/--> | nCount_RNA &lt;dbl&gt; | nFeature_RNA &lt;int&gt; | percent.mt &lt;dbl&gt; | Strain &lt;chr&gt; | Age &lt;chr&gt; | Sex &lt;chr&gt; | Tissue &lt;chr&gt; | Organism &lt;chr&gt; | Technology &lt;chr&gt; | Author &lt;chr&gt; | RNA_snn_res.0.11 &lt;fct&gt; | seurat_clusters &lt;fct&gt; | CellType &lt;fct&gt; |\n",
       "|---|---|---|---|---|---|---|---|---|---|---|---|---|---|\n",
       "| BSC_1_AAACCTGAGATAGCAT-1 | 4997 | 2339 | 3.021813 | C57BL/6 | P21 | Male | Bone | Mus musculus | 10x | Adams | 1 | 1 | Vascular endothelial cells |\n",
       "| BSC_1_AAACCTGAGGGTATCG-1 | 3275 | 1573 | 5.068702 | C57BL/6 | P21 | Male | Bone | Mus musculus | 10x | Adams | 2 | 2 | Adipocytes                 |\n",
       "| BSC_1_AAACCTGCAAACCCAT-1 | 2559 | 1434 | 2.032044 | C57BL/6 | P21 | Male | Bone | Mus musculus | 10x | Adams | 2 | 2 | Adipocytes                 |\n",
       "| BSC_1_AAACCTGGTCAACATC-1 | 3911 | 1751 | 3.144976 | C57BL/6 | P21 | Male | Bone | Mus musculus | 10x | Adams | 0 | 0 | Resting zone chondrocytes  |\n",
       "| BSC_1_AAACGGGAGGATGGTC-1 | 5953 | 1792 | 2.200571 | C57BL/6 | P21 | Male | Bone | Mus musculus | 10x | Adams | 4 | 4 | Articular chondrocytes     |\n",
       "| BSC_1_AAACGGGCACAGACTT-1 | 8686 | 2437 | 3.304168 | C57BL/6 | P21 | Male | Bone | Mus musculus | 10x | Adams | 4 | 4 | Articular chondrocytes     |\n",
       "\n"
      ],
      "text/plain": [
       "                         nCount_RNA nFeature_RNA percent.mt Strain  Age Sex \n",
       "BSC_1_AAACCTGAGATAGCAT-1 4997       2339         3.021813   C57BL/6 P21 Male\n",
       "BSC_1_AAACCTGAGGGTATCG-1 3275       1573         5.068702   C57BL/6 P21 Male\n",
       "BSC_1_AAACCTGCAAACCCAT-1 2559       1434         2.032044   C57BL/6 P21 Male\n",
       "BSC_1_AAACCTGGTCAACATC-1 3911       1751         3.144976   C57BL/6 P21 Male\n",
       "BSC_1_AAACGGGAGGATGGTC-1 5953       1792         2.200571   C57BL/6 P21 Male\n",
       "BSC_1_AAACGGGCACAGACTT-1 8686       2437         3.304168   C57BL/6 P21 Male\n",
       "                         Tissue Organism     Technology Author RNA_snn_res.0.11\n",
       "BSC_1_AAACCTGAGATAGCAT-1 Bone   Mus musculus 10x        Adams  1               \n",
       "BSC_1_AAACCTGAGGGTATCG-1 Bone   Mus musculus 10x        Adams  2               \n",
       "BSC_1_AAACCTGCAAACCCAT-1 Bone   Mus musculus 10x        Adams  2               \n",
       "BSC_1_AAACCTGGTCAACATC-1 Bone   Mus musculus 10x        Adams  0               \n",
       "BSC_1_AAACGGGAGGATGGTC-1 Bone   Mus musculus 10x        Adams  4               \n",
       "BSC_1_AAACGGGCACAGACTT-1 Bone   Mus musculus 10x        Adams  4               \n",
       "                         seurat_clusters CellType                  \n",
       "BSC_1_AAACCTGAGATAGCAT-1 1               Vascular endothelial cells\n",
       "BSC_1_AAACCTGAGGGTATCG-1 2               Adipocytes                \n",
       "BSC_1_AAACCTGCAAACCCAT-1 2               Adipocytes                \n",
       "BSC_1_AAACCTGGTCAACATC-1 0               Resting zone chondrocytes \n",
       "BSC_1_AAACGGGAGGATGGTC-1 4               Articular chondrocytes    \n",
       "BSC_1_AAACGGGCACAGACTT-1 4               Articular chondrocytes    "
      ]
     },
     "metadata": {},
     "output_type": "display_data"
    }
   ],
   "source": [
    "head(S1@meta.data)"
   ]
  },
  {
   "cell_type": "code",
   "execution_count": 29,
   "id": "9389398e-6605-489e-8c99-59efeef97d23",
   "metadata": {},
   "outputs": [],
   "source": [
    "S1@meta.data$Study = 'SRP278393'\n",
    "S1@meta.data$Batch = 'SRP278393'\n",
    "S1@meta.data$RNA_snn_res.0.11 <- NULL\n",
    "S1@meta.data$seurat_clusters <- NULL\n",
    "S1@meta.data$percent.mt <- NULL\n",
    "S1@meta.data$DevTP <- S1@meta.data$Age\n",
    "S1@meta.data$Age <- NULL\n"
   ]
  },
  {
   "cell_type": "code",
   "execution_count": 30,
   "id": "6f113f47-0b30-40f5-a4d6-9b1e7ca6a93d",
   "metadata": {},
   "outputs": [
    {
     "data": {
      "text/html": [
       "<table class=\"dataframe\">\n",
       "<caption>A data.frame: 6 × 16</caption>\n",
       "<thead>\n",
       "\t<tr><th></th><th scope=col>nCount_RNA</th><th scope=col>nFeature_RNA</th><th scope=col>percent.mt</th><th scope=col>Age</th><th scope=col>Sex</th><th scope=col>Tissue</th><th scope=col>Organism</th><th scope=col>Technology</th><th scope=col>Strain</th><th scope=col>Author</th><th scope=col>RNA_snn_res.0.5</th><th scope=col>seurat_clusters</th><th scope=col>RNA_snn_res.0.8</th><th scope=col>RNA_snn_res.0.9</th><th scope=col>RNA_snn_res.0.6</th><th scope=col>CellType</th></tr>\n",
       "\t<tr><th></th><th scope=col>&lt;dbl&gt;</th><th scope=col>&lt;int&gt;</th><th scope=col>&lt;dbl&gt;</th><th scope=col>&lt;fct&gt;</th><th scope=col>&lt;chr&gt;</th><th scope=col>&lt;chr&gt;</th><th scope=col>&lt;chr&gt;</th><th scope=col>&lt;chr&gt;</th><th scope=col>&lt;chr&gt;</th><th scope=col>&lt;chr&gt;</th><th scope=col>&lt;fct&gt;</th><th scope=col>&lt;fct&gt;</th><th scope=col>&lt;fct&gt;</th><th scope=col>&lt;fct&gt;</th><th scope=col>&lt;fct&gt;</th><th scope=col>&lt;fct&gt;</th></tr>\n",
       "</thead>\n",
       "<tbody>\n",
       "\t<tr><th scope=row>E12.5_AAACCTGAGGCGTACA-1</th><td> 8813</td><td>2802</td><td>3.721775</td><td>E12.5</td><td>Male</td><td>Knee joint</td><td>Mus musculus</td><td>10x</td><td>C57BL/6J</td><td>Bian</td><td>2</td><td>1 </td><td>3</td><td>1 </td><td>3</td><td>Synovial fibroblasts            </td></tr>\n",
       "\t<tr><th scope=row>E12.5_AAACCTGCACTGCCAG-1</th><td>10732</td><td>3285</td><td>2.627656</td><td>E12.5</td><td>Male</td><td>Knee joint</td><td>Mus musculus</td><td>10x</td><td>C57BL/6J</td><td>Bian</td><td>0</td><td>11</td><td>0</td><td>11</td><td>0</td><td>Intermediate limb bud mesenchyme</td></tr>\n",
       "\t<tr><th scope=row>E12.5_AAACCTGCATCAGTAC-1</th><td>21815</td><td>4489</td><td>2.411185</td><td>E12.5</td><td>Male</td><td>Knee joint</td><td>Mus musculus</td><td>10x</td><td>C57BL/6J</td><td>Bian</td><td>4</td><td>2 </td><td>5</td><td>2 </td><td>6</td><td>Muscle progenitors              </td></tr>\n",
       "\t<tr><th scope=row>E12.5_AAACCTGGTGAGTGAC-1</th><td> 2978</td><td>1465</td><td>2.921424</td><td>E12.5</td><td>Male</td><td>Knee joint</td><td>Mus musculus</td><td>10x</td><td>C57BL/6J</td><td>Bian</td><td>2</td><td>1 </td><td>3</td><td>1 </td><td>3</td><td>Synovial fibroblasts            </td></tr>\n",
       "\t<tr><th scope=row>E12.5_AAACCTGGTTGCCTCT-1</th><td>10894</td><td>3553</td><td>3.056728</td><td>E12.5</td><td>Male</td><td>Knee joint</td><td>Mus musculus</td><td>10x</td><td>C57BL/6J</td><td>Bian</td><td>0</td><td>0 </td><td>0</td><td>0 </td><td>0</td><td>Distal limb bud mesenchyme      </td></tr>\n",
       "\t<tr><th scope=row>E12.5_AAACCTGTCGAGAACG-1</th><td> 4048</td><td>1941</td><td>6.916996</td><td>E12.5</td><td>Male</td><td>Knee joint</td><td>Mus musculus</td><td>10x</td><td>C57BL/6J</td><td>Bian</td><td>6</td><td>5 </td><td>6</td><td>5 </td><td>7</td><td>Resting zone chondrocytes       </td></tr>\n",
       "</tbody>\n",
       "</table>\n"
      ],
      "text/latex": [
       "A data.frame: 6 × 16\n",
       "\\begin{tabular}{r|llllllllllllllll}\n",
       "  & nCount\\_RNA & nFeature\\_RNA & percent.mt & Age & Sex & Tissue & Organism & Technology & Strain & Author & RNA\\_snn\\_res.0.5 & seurat\\_clusters & RNA\\_snn\\_res.0.8 & RNA\\_snn\\_res.0.9 & RNA\\_snn\\_res.0.6 & CellType\\\\\n",
       "  & <dbl> & <int> & <dbl> & <fct> & <chr> & <chr> & <chr> & <chr> & <chr> & <chr> & <fct> & <fct> & <fct> & <fct> & <fct> & <fct>\\\\\n",
       "\\hline\n",
       "\tE12.5\\_AAACCTGAGGCGTACA-1 &  8813 & 2802 & 3.721775 & E12.5 & Male & Knee joint & Mus musculus & 10x & C57BL/6J & Bian & 2 & 1  & 3 & 1  & 3 & Synovial fibroblasts            \\\\\n",
       "\tE12.5\\_AAACCTGCACTGCCAG-1 & 10732 & 3285 & 2.627656 & E12.5 & Male & Knee joint & Mus musculus & 10x & C57BL/6J & Bian & 0 & 11 & 0 & 11 & 0 & Intermediate limb bud mesenchyme\\\\\n",
       "\tE12.5\\_AAACCTGCATCAGTAC-1 & 21815 & 4489 & 2.411185 & E12.5 & Male & Knee joint & Mus musculus & 10x & C57BL/6J & Bian & 4 & 2  & 5 & 2  & 6 & Muscle progenitors              \\\\\n",
       "\tE12.5\\_AAACCTGGTGAGTGAC-1 &  2978 & 1465 & 2.921424 & E12.5 & Male & Knee joint & Mus musculus & 10x & C57BL/6J & Bian & 2 & 1  & 3 & 1  & 3 & Synovial fibroblasts            \\\\\n",
       "\tE12.5\\_AAACCTGGTTGCCTCT-1 & 10894 & 3553 & 3.056728 & E12.5 & Male & Knee joint & Mus musculus & 10x & C57BL/6J & Bian & 0 & 0  & 0 & 0  & 0 & Distal limb bud mesenchyme      \\\\\n",
       "\tE12.5\\_AAACCTGTCGAGAACG-1 &  4048 & 1941 & 6.916996 & E12.5 & Male & Knee joint & Mus musculus & 10x & C57BL/6J & Bian & 6 & 5  & 6 & 5  & 7 & Resting zone chondrocytes       \\\\\n",
       "\\end{tabular}\n"
      ],
      "text/markdown": [
       "\n",
       "A data.frame: 6 × 16\n",
       "\n",
       "| <!--/--> | nCount_RNA &lt;dbl&gt; | nFeature_RNA &lt;int&gt; | percent.mt &lt;dbl&gt; | Age &lt;fct&gt; | Sex &lt;chr&gt; | Tissue &lt;chr&gt; | Organism &lt;chr&gt; | Technology &lt;chr&gt; | Strain &lt;chr&gt; | Author &lt;chr&gt; | RNA_snn_res.0.5 &lt;fct&gt; | seurat_clusters &lt;fct&gt; | RNA_snn_res.0.8 &lt;fct&gt; | RNA_snn_res.0.9 &lt;fct&gt; | RNA_snn_res.0.6 &lt;fct&gt; | CellType &lt;fct&gt; |\n",
       "|---|---|---|---|---|---|---|---|---|---|---|---|---|---|---|---|---|\n",
       "| E12.5_AAACCTGAGGCGTACA-1 |  8813 | 2802 | 3.721775 | E12.5 | Male | Knee joint | Mus musculus | 10x | C57BL/6J | Bian | 2 | 1  | 3 | 1  | 3 | Synovial fibroblasts             |\n",
       "| E12.5_AAACCTGCACTGCCAG-1 | 10732 | 3285 | 2.627656 | E12.5 | Male | Knee joint | Mus musculus | 10x | C57BL/6J | Bian | 0 | 11 | 0 | 11 | 0 | Intermediate limb bud mesenchyme |\n",
       "| E12.5_AAACCTGCATCAGTAC-1 | 21815 | 4489 | 2.411185 | E12.5 | Male | Knee joint | Mus musculus | 10x | C57BL/6J | Bian | 4 | 2  | 5 | 2  | 6 | Muscle progenitors               |\n",
       "| E12.5_AAACCTGGTGAGTGAC-1 |  2978 | 1465 | 2.921424 | E12.5 | Male | Knee joint | Mus musculus | 10x | C57BL/6J | Bian | 2 | 1  | 3 | 1  | 3 | Synovial fibroblasts             |\n",
       "| E12.5_AAACCTGGTTGCCTCT-1 | 10894 | 3553 | 3.056728 | E12.5 | Male | Knee joint | Mus musculus | 10x | C57BL/6J | Bian | 0 | 0  | 0 | 0  | 0 | Distal limb bud mesenchyme       |\n",
       "| E12.5_AAACCTGTCGAGAACG-1 |  4048 | 1941 | 6.916996 | E12.5 | Male | Knee joint | Mus musculus | 10x | C57BL/6J | Bian | 6 | 5  | 6 | 5  | 7 | Resting zone chondrocytes        |\n",
       "\n"
      ],
      "text/plain": [
       "                         nCount_RNA nFeature_RNA percent.mt Age   Sex \n",
       "E12.5_AAACCTGAGGCGTACA-1  8813      2802         3.721775   E12.5 Male\n",
       "E12.5_AAACCTGCACTGCCAG-1 10732      3285         2.627656   E12.5 Male\n",
       "E12.5_AAACCTGCATCAGTAC-1 21815      4489         2.411185   E12.5 Male\n",
       "E12.5_AAACCTGGTGAGTGAC-1  2978      1465         2.921424   E12.5 Male\n",
       "E12.5_AAACCTGGTTGCCTCT-1 10894      3553         3.056728   E12.5 Male\n",
       "E12.5_AAACCTGTCGAGAACG-1  4048      1941         6.916996   E12.5 Male\n",
       "                         Tissue     Organism     Technology Strain   Author\n",
       "E12.5_AAACCTGAGGCGTACA-1 Knee joint Mus musculus 10x        C57BL/6J Bian  \n",
       "E12.5_AAACCTGCACTGCCAG-1 Knee joint Mus musculus 10x        C57BL/6J Bian  \n",
       "E12.5_AAACCTGCATCAGTAC-1 Knee joint Mus musculus 10x        C57BL/6J Bian  \n",
       "E12.5_AAACCTGGTGAGTGAC-1 Knee joint Mus musculus 10x        C57BL/6J Bian  \n",
       "E12.5_AAACCTGGTTGCCTCT-1 Knee joint Mus musculus 10x        C57BL/6J Bian  \n",
       "E12.5_AAACCTGTCGAGAACG-1 Knee joint Mus musculus 10x        C57BL/6J Bian  \n",
       "                         RNA_snn_res.0.5 seurat_clusters RNA_snn_res.0.8\n",
       "E12.5_AAACCTGAGGCGTACA-1 2               1               3              \n",
       "E12.5_AAACCTGCACTGCCAG-1 0               11              0              \n",
       "E12.5_AAACCTGCATCAGTAC-1 4               2               5              \n",
       "E12.5_AAACCTGGTGAGTGAC-1 2               1               3              \n",
       "E12.5_AAACCTGGTTGCCTCT-1 0               0               0              \n",
       "E12.5_AAACCTGTCGAGAACG-1 6               5               6              \n",
       "                         RNA_snn_res.0.9 RNA_snn_res.0.6\n",
       "E12.5_AAACCTGAGGCGTACA-1 1               3              \n",
       "E12.5_AAACCTGCACTGCCAG-1 11              0              \n",
       "E12.5_AAACCTGCATCAGTAC-1 2               6              \n",
       "E12.5_AAACCTGGTGAGTGAC-1 1               3              \n",
       "E12.5_AAACCTGGTTGCCTCT-1 0               0              \n",
       "E12.5_AAACCTGTCGAGAACG-1 5               7              \n",
       "                         CellType                        \n",
       "E12.5_AAACCTGAGGCGTACA-1 Synovial fibroblasts            \n",
       "E12.5_AAACCTGCACTGCCAG-1 Intermediate limb bud mesenchyme\n",
       "E12.5_AAACCTGCATCAGTAC-1 Muscle progenitors              \n",
       "E12.5_AAACCTGGTGAGTGAC-1 Synovial fibroblasts            \n",
       "E12.5_AAACCTGGTTGCCTCT-1 Distal limb bud mesenchyme      \n",
       "E12.5_AAACCTGTCGAGAACG-1 Resting zone chondrocytes       "
      ]
     },
     "metadata": {},
     "output_type": "display_data"
    }
   ],
   "source": [
    "head(S2.1@meta.data)"
   ]
  },
  {
   "cell_type": "code",
   "execution_count": 31,
   "id": "a3a7598e-6668-4033-9a98-ee54e33f7831",
   "metadata": {},
   "outputs": [],
   "source": [
    "S2.1@meta.data$Study = 'SRP266397'\n",
    "S2.1@meta.data$Batch = 'GSM4594552'\n",
    "S2.1@meta.data$`RNA_snn_res.0.5` <- NULL\n",
    "S2.1@meta.data$`RNA_snn_res.0.6` <- NULL\n",
    "S2.1@meta.data$`RNA_snn_res.0.8` <- NULL\n",
    "S2.1@meta.data$`RNA_snn_res.0.9` <- NULL\n",
    "S2.1@meta.data$seurat_clusters <- NULL\n",
    "\n",
    "S2.1@meta.data$percent.mt <- NULL\n",
    "S2.1@meta.data$DevTP <- S2.1@meta.data$Age\n",
    "S2.1@meta.data$Age <- NULL"
   ]
  },
  {
   "cell_type": "code",
   "execution_count": 32,
   "id": "d24cd1e6-7474-4d65-bc53-1086f01500ad",
   "metadata": {},
   "outputs": [
    {
     "data": {
      "text/html": [
       "<table class=\"dataframe\">\n",
       "<caption>A data.frame: 6 × 13</caption>\n",
       "<thead>\n",
       "\t<tr><th></th><th scope=col>nCount_RNA</th><th scope=col>nFeature_RNA</th><th scope=col>percent.mt</th><th scope=col>Age</th><th scope=col>Sex</th><th scope=col>Tissue</th><th scope=col>Organism</th><th scope=col>Technology</th><th scope=col>Strain</th><th scope=col>Author</th><th scope=col>RNA_snn_res.0.9</th><th scope=col>seurat_clusters</th><th scope=col>CellType</th></tr>\n",
       "\t<tr><th></th><th scope=col>&lt;dbl&gt;</th><th scope=col>&lt;int&gt;</th><th scope=col>&lt;dbl&gt;</th><th scope=col>&lt;fct&gt;</th><th scope=col>&lt;chr&gt;</th><th scope=col>&lt;chr&gt;</th><th scope=col>&lt;chr&gt;</th><th scope=col>&lt;chr&gt;</th><th scope=col>&lt;chr&gt;</th><th scope=col>&lt;chr&gt;</th><th scope=col>&lt;fct&gt;</th><th scope=col>&lt;fct&gt;</th><th scope=col>&lt;fct&gt;</th></tr>\n",
       "</thead>\n",
       "<tbody>\n",
       "\t<tr><th scope=row>E13.5_AAACCTGAGATCGATA-1</th><td>2796</td><td>1204</td><td>2.682403</td><td>E13.5</td><td>Male</td><td>Knee joint</td><td>Mus musculus</td><td>10x</td><td>C57BL/6J</td><td>Bian</td><td>1 </td><td>1 </td><td>Interzone cells             </td></tr>\n",
       "\t<tr><th scope=row>E13.5_AAACCTGAGGCTATCT-1</th><td>1367</td><td> 705</td><td>2.779810</td><td>E13.5</td><td>Male</td><td>Knee joint</td><td>Mus musculus</td><td>10x</td><td>C57BL/6J</td><td>Bian</td><td>2 </td><td>2 </td><td>Perichondrium               </td></tr>\n",
       "\t<tr><th scope=row>E13.5_AAACCTGAGTTGCAGG-1</th><td>9351</td><td>2435</td><td>1.967704</td><td>E13.5</td><td>Male</td><td>Knee joint</td><td>Mus musculus</td><td>10x</td><td>C57BL/6J</td><td>Bian</td><td>5 </td><td>5 </td><td>Resting zone chondrocytes   </td></tr>\n",
       "\t<tr><th scope=row>E13.5_AAACCTGCACGTAAGG-1</th><td>3768</td><td>1560</td><td>1.592357</td><td>E13.5</td><td>Male</td><td>Knee joint</td><td>Mus musculus</td><td>10x</td><td>C57BL/6J</td><td>Bian</td><td>1 </td><td>1 </td><td>Interzone cells             </td></tr>\n",
       "\t<tr><th scope=row>E13.5_AAACCTGGTAAGTGTA-1</th><td>2849</td><td>1173</td><td>3.439803</td><td>E13.5</td><td>Male</td><td>Knee joint</td><td>Mus musculus</td><td>10x</td><td>C57BL/6J</td><td>Bian</td><td>12</td><td>12</td><td>Osteoprogenitors            </td></tr>\n",
       "\t<tr><th scope=row>E13.5_AAACCTGGTCTTGCGG-1</th><td>7747</td><td>2477</td><td>1.781335</td><td>E13.5</td><td>Male</td><td>Knee joint</td><td>Mus musculus</td><td>10x</td><td>C57BL/6J</td><td>Bian</td><td>8 </td><td>8 </td><td>Proximal limb bud mesenchyle</td></tr>\n",
       "</tbody>\n",
       "</table>\n"
      ],
      "text/latex": [
       "A data.frame: 6 × 13\n",
       "\\begin{tabular}{r|lllllllllllll}\n",
       "  & nCount\\_RNA & nFeature\\_RNA & percent.mt & Age & Sex & Tissue & Organism & Technology & Strain & Author & RNA\\_snn\\_res.0.9 & seurat\\_clusters & CellType\\\\\n",
       "  & <dbl> & <int> & <dbl> & <fct> & <chr> & <chr> & <chr> & <chr> & <chr> & <chr> & <fct> & <fct> & <fct>\\\\\n",
       "\\hline\n",
       "\tE13.5\\_AAACCTGAGATCGATA-1 & 2796 & 1204 & 2.682403 & E13.5 & Male & Knee joint & Mus musculus & 10x & C57BL/6J & Bian & 1  & 1  & Interzone cells             \\\\\n",
       "\tE13.5\\_AAACCTGAGGCTATCT-1 & 1367 &  705 & 2.779810 & E13.5 & Male & Knee joint & Mus musculus & 10x & C57BL/6J & Bian & 2  & 2  & Perichondrium               \\\\\n",
       "\tE13.5\\_AAACCTGAGTTGCAGG-1 & 9351 & 2435 & 1.967704 & E13.5 & Male & Knee joint & Mus musculus & 10x & C57BL/6J & Bian & 5  & 5  & Resting zone chondrocytes   \\\\\n",
       "\tE13.5\\_AAACCTGCACGTAAGG-1 & 3768 & 1560 & 1.592357 & E13.5 & Male & Knee joint & Mus musculus & 10x & C57BL/6J & Bian & 1  & 1  & Interzone cells             \\\\\n",
       "\tE13.5\\_AAACCTGGTAAGTGTA-1 & 2849 & 1173 & 3.439803 & E13.5 & Male & Knee joint & Mus musculus & 10x & C57BL/6J & Bian & 12 & 12 & Osteoprogenitors            \\\\\n",
       "\tE13.5\\_AAACCTGGTCTTGCGG-1 & 7747 & 2477 & 1.781335 & E13.5 & Male & Knee joint & Mus musculus & 10x & C57BL/6J & Bian & 8  & 8  & Proximal limb bud mesenchyle\\\\\n",
       "\\end{tabular}\n"
      ],
      "text/markdown": [
       "\n",
       "A data.frame: 6 × 13\n",
       "\n",
       "| <!--/--> | nCount_RNA &lt;dbl&gt; | nFeature_RNA &lt;int&gt; | percent.mt &lt;dbl&gt; | Age &lt;fct&gt; | Sex &lt;chr&gt; | Tissue &lt;chr&gt; | Organism &lt;chr&gt; | Technology &lt;chr&gt; | Strain &lt;chr&gt; | Author &lt;chr&gt; | RNA_snn_res.0.9 &lt;fct&gt; | seurat_clusters &lt;fct&gt; | CellType &lt;fct&gt; |\n",
       "|---|---|---|---|---|---|---|---|---|---|---|---|---|---|\n",
       "| E13.5_AAACCTGAGATCGATA-1 | 2796 | 1204 | 2.682403 | E13.5 | Male | Knee joint | Mus musculus | 10x | C57BL/6J | Bian | 1  | 1  | Interzone cells              |\n",
       "| E13.5_AAACCTGAGGCTATCT-1 | 1367 |  705 | 2.779810 | E13.5 | Male | Knee joint | Mus musculus | 10x | C57BL/6J | Bian | 2  | 2  | Perichondrium                |\n",
       "| E13.5_AAACCTGAGTTGCAGG-1 | 9351 | 2435 | 1.967704 | E13.5 | Male | Knee joint | Mus musculus | 10x | C57BL/6J | Bian | 5  | 5  | Resting zone chondrocytes    |\n",
       "| E13.5_AAACCTGCACGTAAGG-1 | 3768 | 1560 | 1.592357 | E13.5 | Male | Knee joint | Mus musculus | 10x | C57BL/6J | Bian | 1  | 1  | Interzone cells              |\n",
       "| E13.5_AAACCTGGTAAGTGTA-1 | 2849 | 1173 | 3.439803 | E13.5 | Male | Knee joint | Mus musculus | 10x | C57BL/6J | Bian | 12 | 12 | Osteoprogenitors             |\n",
       "| E13.5_AAACCTGGTCTTGCGG-1 | 7747 | 2477 | 1.781335 | E13.5 | Male | Knee joint | Mus musculus | 10x | C57BL/6J | Bian | 8  | 8  | Proximal limb bud mesenchyle |\n",
       "\n"
      ],
      "text/plain": [
       "                         nCount_RNA nFeature_RNA percent.mt Age   Sex \n",
       "E13.5_AAACCTGAGATCGATA-1 2796       1204         2.682403   E13.5 Male\n",
       "E13.5_AAACCTGAGGCTATCT-1 1367        705         2.779810   E13.5 Male\n",
       "E13.5_AAACCTGAGTTGCAGG-1 9351       2435         1.967704   E13.5 Male\n",
       "E13.5_AAACCTGCACGTAAGG-1 3768       1560         1.592357   E13.5 Male\n",
       "E13.5_AAACCTGGTAAGTGTA-1 2849       1173         3.439803   E13.5 Male\n",
       "E13.5_AAACCTGGTCTTGCGG-1 7747       2477         1.781335   E13.5 Male\n",
       "                         Tissue     Organism     Technology Strain   Author\n",
       "E13.5_AAACCTGAGATCGATA-1 Knee joint Mus musculus 10x        C57BL/6J Bian  \n",
       "E13.5_AAACCTGAGGCTATCT-1 Knee joint Mus musculus 10x        C57BL/6J Bian  \n",
       "E13.5_AAACCTGAGTTGCAGG-1 Knee joint Mus musculus 10x        C57BL/6J Bian  \n",
       "E13.5_AAACCTGCACGTAAGG-1 Knee joint Mus musculus 10x        C57BL/6J Bian  \n",
       "E13.5_AAACCTGGTAAGTGTA-1 Knee joint Mus musculus 10x        C57BL/6J Bian  \n",
       "E13.5_AAACCTGGTCTTGCGG-1 Knee joint Mus musculus 10x        C57BL/6J Bian  \n",
       "                         RNA_snn_res.0.9 seurat_clusters\n",
       "E13.5_AAACCTGAGATCGATA-1 1               1              \n",
       "E13.5_AAACCTGAGGCTATCT-1 2               2              \n",
       "E13.5_AAACCTGAGTTGCAGG-1 5               5              \n",
       "E13.5_AAACCTGCACGTAAGG-1 1               1              \n",
       "E13.5_AAACCTGGTAAGTGTA-1 12              12             \n",
       "E13.5_AAACCTGGTCTTGCGG-1 8               8              \n",
       "                         CellType                    \n",
       "E13.5_AAACCTGAGATCGATA-1 Interzone cells             \n",
       "E13.5_AAACCTGAGGCTATCT-1 Perichondrium               \n",
       "E13.5_AAACCTGAGTTGCAGG-1 Resting zone chondrocytes   \n",
       "E13.5_AAACCTGCACGTAAGG-1 Interzone cells             \n",
       "E13.5_AAACCTGGTAAGTGTA-1 Osteoprogenitors            \n",
       "E13.5_AAACCTGGTCTTGCGG-1 Proximal limb bud mesenchyle"
      ]
     },
     "metadata": {},
     "output_type": "display_data"
    }
   ],
   "source": [
    "head(S2.2@meta.data)"
   ]
  },
  {
   "cell_type": "code",
   "execution_count": 33,
   "id": "b12e7157-56ae-4df6-b5bc-c07723241e4d",
   "metadata": {},
   "outputs": [],
   "source": [
    "S2.2@meta.data$Study = 'SRP266397'\n",
    "S2.2@meta.data$Batch = 'GSM4594553'\n",
    "S2.2@meta.data$`RNA_snn_res.0.9`<- NULL\n",
    "S2.2@meta.data$seurat_clusters <- NULL\n",
    "\n",
    "S2.2@meta.data$percent.mt <- NULL\n",
    "S2.2@meta.data$DevTP <- S2.2@meta.data$Age\n",
    "S2.2@meta.data$Age <- NULL"
   ]
  },
  {
   "cell_type": "code",
   "execution_count": 34,
   "id": "8b6ec6d2-d29f-4c3d-bfef-c3d5cd7a8c70",
   "metadata": {},
   "outputs": [
    {
     "data": {
      "text/html": [
       "<table class=\"dataframe\">\n",
       "<caption>A data.frame: 6 × 13</caption>\n",
       "<thead>\n",
       "\t<tr><th></th><th scope=col>nCount_RNA</th><th scope=col>nFeature_RNA</th><th scope=col>percent.mt</th><th scope=col>Age</th><th scope=col>Sex</th><th scope=col>Tissue</th><th scope=col>Organism</th><th scope=col>Technology</th><th scope=col>Strain</th><th scope=col>Author</th><th scope=col>RNA_snn_res.0.9</th><th scope=col>seurat_clusters</th><th scope=col>CellType</th></tr>\n",
       "\t<tr><th></th><th scope=col>&lt;dbl&gt;</th><th scope=col>&lt;int&gt;</th><th scope=col>&lt;dbl&gt;</th><th scope=col>&lt;fct&gt;</th><th scope=col>&lt;chr&gt;</th><th scope=col>&lt;chr&gt;</th><th scope=col>&lt;chr&gt;</th><th scope=col>&lt;chr&gt;</th><th scope=col>&lt;chr&gt;</th><th scope=col>&lt;chr&gt;</th><th scope=col>&lt;fct&gt;</th><th scope=col>&lt;fct&gt;</th><th scope=col>&lt;fct&gt;</th></tr>\n",
       "</thead>\n",
       "<tbody>\n",
       "\t<tr><th scope=row>E14.5_AAACCTGAGCGATGAC-1</th><td> 6065</td><td>2127</td><td>2.671063</td><td>E14.5</td><td>Male</td><td>Knee joint</td><td>Mus musculus</td><td>10x</td><td>C57BL/6J</td><td>Bian</td><td>0 </td><td>0 </td><td>Periosteum                   </td></tr>\n",
       "\t<tr><th scope=row>E14.5_AAACCTGGTGCCTGCA-1</th><td> 4882</td><td>1870</td><td>4.834084</td><td>E14.5</td><td>Male</td><td>Knee joint</td><td>Mus musculus</td><td>10x</td><td>C57BL/6J</td><td>Bian</td><td>7 </td><td>7 </td><td>Tenocytes                    </td></tr>\n",
       "\t<tr><th scope=row>E14.5_AAACCTGTCAGAAATG-1</th><td> 9164</td><td>2638</td><td>3.262767</td><td>E14.5</td><td>Male</td><td>Knee joint</td><td>Mus musculus</td><td>10x</td><td>C57BL/6J</td><td>Bian</td><td>3 </td><td>3 </td><td>Pre-hypertrophic chondrocytes</td></tr>\n",
       "\t<tr><th scope=row>E14.5_AAACGGGAGAAGGTTT-1</th><td> 9526</td><td>2841</td><td>1.543145</td><td>E14.5</td><td>Male</td><td>Knee joint</td><td>Mus musculus</td><td>10x</td><td>C57BL/6J</td><td>Bian</td><td>2 </td><td>2 </td><td>Periosteal progenitors       </td></tr>\n",
       "\t<tr><th scope=row>E14.5_AAACGGGAGAATGTTG-1</th><td>21960</td><td>5053</td><td>3.674863</td><td>E14.5</td><td>Male</td><td>Knee joint</td><td>Mus musculus</td><td>10x</td><td>C57BL/6J</td><td>Bian</td><td>10</td><td>10</td><td>Fast proliferating cells     </td></tr>\n",
       "\t<tr><th scope=row>E14.5_AAACGGGCACCTTGTC-1</th><td>16327</td><td>3316</td><td>3.123660</td><td>E14.5</td><td>Male</td><td>Knee joint</td><td>Mus musculus</td><td>10x</td><td>C57BL/6J</td><td>Bian</td><td>6 </td><td>6 </td><td>Muscle progenitors           </td></tr>\n",
       "</tbody>\n",
       "</table>\n"
      ],
      "text/latex": [
       "A data.frame: 6 × 13\n",
       "\\begin{tabular}{r|lllllllllllll}\n",
       "  & nCount\\_RNA & nFeature\\_RNA & percent.mt & Age & Sex & Tissue & Organism & Technology & Strain & Author & RNA\\_snn\\_res.0.9 & seurat\\_clusters & CellType\\\\\n",
       "  & <dbl> & <int> & <dbl> & <fct> & <chr> & <chr> & <chr> & <chr> & <chr> & <chr> & <fct> & <fct> & <fct>\\\\\n",
       "\\hline\n",
       "\tE14.5\\_AAACCTGAGCGATGAC-1 &  6065 & 2127 & 2.671063 & E14.5 & Male & Knee joint & Mus musculus & 10x & C57BL/6J & Bian & 0  & 0  & Periosteum                   \\\\\n",
       "\tE14.5\\_AAACCTGGTGCCTGCA-1 &  4882 & 1870 & 4.834084 & E14.5 & Male & Knee joint & Mus musculus & 10x & C57BL/6J & Bian & 7  & 7  & Tenocytes                    \\\\\n",
       "\tE14.5\\_AAACCTGTCAGAAATG-1 &  9164 & 2638 & 3.262767 & E14.5 & Male & Knee joint & Mus musculus & 10x & C57BL/6J & Bian & 3  & 3  & Pre-hypertrophic chondrocytes\\\\\n",
       "\tE14.5\\_AAACGGGAGAAGGTTT-1 &  9526 & 2841 & 1.543145 & E14.5 & Male & Knee joint & Mus musculus & 10x & C57BL/6J & Bian & 2  & 2  & Periosteal progenitors       \\\\\n",
       "\tE14.5\\_AAACGGGAGAATGTTG-1 & 21960 & 5053 & 3.674863 & E14.5 & Male & Knee joint & Mus musculus & 10x & C57BL/6J & Bian & 10 & 10 & Fast proliferating cells     \\\\\n",
       "\tE14.5\\_AAACGGGCACCTTGTC-1 & 16327 & 3316 & 3.123660 & E14.5 & Male & Knee joint & Mus musculus & 10x & C57BL/6J & Bian & 6  & 6  & Muscle progenitors           \\\\\n",
       "\\end{tabular}\n"
      ],
      "text/markdown": [
       "\n",
       "A data.frame: 6 × 13\n",
       "\n",
       "| <!--/--> | nCount_RNA &lt;dbl&gt; | nFeature_RNA &lt;int&gt; | percent.mt &lt;dbl&gt; | Age &lt;fct&gt; | Sex &lt;chr&gt; | Tissue &lt;chr&gt; | Organism &lt;chr&gt; | Technology &lt;chr&gt; | Strain &lt;chr&gt; | Author &lt;chr&gt; | RNA_snn_res.0.9 &lt;fct&gt; | seurat_clusters &lt;fct&gt; | CellType &lt;fct&gt; |\n",
       "|---|---|---|---|---|---|---|---|---|---|---|---|---|---|\n",
       "| E14.5_AAACCTGAGCGATGAC-1 |  6065 | 2127 | 2.671063 | E14.5 | Male | Knee joint | Mus musculus | 10x | C57BL/6J | Bian | 0  | 0  | Periosteum                    |\n",
       "| E14.5_AAACCTGGTGCCTGCA-1 |  4882 | 1870 | 4.834084 | E14.5 | Male | Knee joint | Mus musculus | 10x | C57BL/6J | Bian | 7  | 7  | Tenocytes                     |\n",
       "| E14.5_AAACCTGTCAGAAATG-1 |  9164 | 2638 | 3.262767 | E14.5 | Male | Knee joint | Mus musculus | 10x | C57BL/6J | Bian | 3  | 3  | Pre-hypertrophic chondrocytes |\n",
       "| E14.5_AAACGGGAGAAGGTTT-1 |  9526 | 2841 | 1.543145 | E14.5 | Male | Knee joint | Mus musculus | 10x | C57BL/6J | Bian | 2  | 2  | Periosteal progenitors        |\n",
       "| E14.5_AAACGGGAGAATGTTG-1 | 21960 | 5053 | 3.674863 | E14.5 | Male | Knee joint | Mus musculus | 10x | C57BL/6J | Bian | 10 | 10 | Fast proliferating cells      |\n",
       "| E14.5_AAACGGGCACCTTGTC-1 | 16327 | 3316 | 3.123660 | E14.5 | Male | Knee joint | Mus musculus | 10x | C57BL/6J | Bian | 6  | 6  | Muscle progenitors            |\n",
       "\n"
      ],
      "text/plain": [
       "                         nCount_RNA nFeature_RNA percent.mt Age   Sex \n",
       "E14.5_AAACCTGAGCGATGAC-1  6065      2127         2.671063   E14.5 Male\n",
       "E14.5_AAACCTGGTGCCTGCA-1  4882      1870         4.834084   E14.5 Male\n",
       "E14.5_AAACCTGTCAGAAATG-1  9164      2638         3.262767   E14.5 Male\n",
       "E14.5_AAACGGGAGAAGGTTT-1  9526      2841         1.543145   E14.5 Male\n",
       "E14.5_AAACGGGAGAATGTTG-1 21960      5053         3.674863   E14.5 Male\n",
       "E14.5_AAACGGGCACCTTGTC-1 16327      3316         3.123660   E14.5 Male\n",
       "                         Tissue     Organism     Technology Strain   Author\n",
       "E14.5_AAACCTGAGCGATGAC-1 Knee joint Mus musculus 10x        C57BL/6J Bian  \n",
       "E14.5_AAACCTGGTGCCTGCA-1 Knee joint Mus musculus 10x        C57BL/6J Bian  \n",
       "E14.5_AAACCTGTCAGAAATG-1 Knee joint Mus musculus 10x        C57BL/6J Bian  \n",
       "E14.5_AAACGGGAGAAGGTTT-1 Knee joint Mus musculus 10x        C57BL/6J Bian  \n",
       "E14.5_AAACGGGAGAATGTTG-1 Knee joint Mus musculus 10x        C57BL/6J Bian  \n",
       "E14.5_AAACGGGCACCTTGTC-1 Knee joint Mus musculus 10x        C57BL/6J Bian  \n",
       "                         RNA_snn_res.0.9 seurat_clusters\n",
       "E14.5_AAACCTGAGCGATGAC-1 0               0              \n",
       "E14.5_AAACCTGGTGCCTGCA-1 7               7              \n",
       "E14.5_AAACCTGTCAGAAATG-1 3               3              \n",
       "E14.5_AAACGGGAGAAGGTTT-1 2               2              \n",
       "E14.5_AAACGGGAGAATGTTG-1 10              10             \n",
       "E14.5_AAACGGGCACCTTGTC-1 6               6              \n",
       "                         CellType                     \n",
       "E14.5_AAACCTGAGCGATGAC-1 Periosteum                   \n",
       "E14.5_AAACCTGGTGCCTGCA-1 Tenocytes                    \n",
       "E14.5_AAACCTGTCAGAAATG-1 Pre-hypertrophic chondrocytes\n",
       "E14.5_AAACGGGAGAAGGTTT-1 Periosteal progenitors       \n",
       "E14.5_AAACGGGAGAATGTTG-1 Fast proliferating cells     \n",
       "E14.5_AAACGGGCACCTTGTC-1 Muscle progenitors           "
      ]
     },
     "metadata": {},
     "output_type": "display_data"
    }
   ],
   "source": [
    "head(S2.3@meta.data)"
   ]
  },
  {
   "cell_type": "code",
   "execution_count": 35,
   "id": "22f953e9-f53f-4fea-a315-b487c12671af",
   "metadata": {},
   "outputs": [],
   "source": [
    "S2.3@meta.data$Study = 'SRP266397'\n",
    "S2.3@meta.data$Batch = 'GSM4594554'\n",
    "S2.3@meta.data$`RNA_snn_res.0.9`<- NULL\n",
    "S2.3@meta.data$seurat_clusters <- NULL\n",
    "\n",
    "S2.3@meta.data$percent.mt <- NULL\n",
    "S2.3@meta.data$DevTP <- S2.3@meta.data$Age\n",
    "S2.3@meta.data$Age <- NULL"
   ]
  },
  {
   "cell_type": "code",
   "execution_count": 36,
   "id": "1042bb47-be79-4a12-b857-1e521114f82f",
   "metadata": {},
   "outputs": [
    {
     "data": {
      "text/html": [
       "<table class=\"dataframe\">\n",
       "<caption>A data.frame: 6 × 13</caption>\n",
       "<thead>\n",
       "\t<tr><th></th><th scope=col>nCount_RNA</th><th scope=col>nFeature_RNA</th><th scope=col>percent.mt</th><th scope=col>Age</th><th scope=col>Sex</th><th scope=col>Tissue</th><th scope=col>Organism</th><th scope=col>Technology</th><th scope=col>Strain</th><th scope=col>Author</th><th scope=col>RNA_snn_res.0.9</th><th scope=col>seurat_clusters</th><th scope=col>CellType</th></tr>\n",
       "\t<tr><th></th><th scope=col>&lt;dbl&gt;</th><th scope=col>&lt;int&gt;</th><th scope=col>&lt;dbl&gt;</th><th scope=col>&lt;fct&gt;</th><th scope=col>&lt;chr&gt;</th><th scope=col>&lt;chr&gt;</th><th scope=col>&lt;chr&gt;</th><th scope=col>&lt;chr&gt;</th><th scope=col>&lt;chr&gt;</th><th scope=col>&lt;chr&gt;</th><th scope=col>&lt;fct&gt;</th><th scope=col>&lt;fct&gt;</th><th scope=col>&lt;fct&gt;</th></tr>\n",
       "</thead>\n",
       "<tbody>\n",
       "\t<tr><th scope=row>E15.5_AAACCTGAGAAACCTA-1</th><td>26053</td><td>4265</td><td>3.677120</td><td>E15.5</td><td>Male</td><td>Knee joint</td><td>Mus musculus</td><td>10x</td><td>C57BL/6J</td><td>Bian</td><td>3</td><td>3</td><td>Muscle progenitors</td></tr>\n",
       "\t<tr><th scope=row>E15.5_AAACCTGTCAACACTG-1</th><td> 5750</td><td>2130</td><td>1.878261</td><td>E15.5</td><td>Male</td><td>Knee joint</td><td>Mus musculus</td><td>10x</td><td>C57BL/6J</td><td>Bian</td><td>0</td><td>0</td><td>Interzone cells   </td></tr>\n",
       "\t<tr><th scope=row>E15.5_AAACGGGCATGTAGTC-1</th><td>13787</td><td>3859</td><td>2.516864</td><td>E15.5</td><td>Male</td><td>Knee joint</td><td>Mus musculus</td><td>10x</td><td>C57BL/6J</td><td>Bian</td><td>0</td><td>0</td><td>Interzone cells   </td></tr>\n",
       "\t<tr><th scope=row>E15.5_AAACGGGCATTCCTCG-1</th><td>12612</td><td>3934</td><td>3.377735</td><td>E15.5</td><td>Male</td><td>Knee joint</td><td>Mus musculus</td><td>10x</td><td>C57BL/6J</td><td>Bian</td><td>0</td><td>0</td><td>Interzone cells   </td></tr>\n",
       "\t<tr><th scope=row>E15.5_AAACGGGTCCAAGCCG-1</th><td>15452</td><td>4229</td><td>2.834585</td><td>E15.5</td><td>Male</td><td>Knee joint</td><td>Mus musculus</td><td>10x</td><td>C57BL/6J</td><td>Bian</td><td>0</td><td>0</td><td>Interzone cells   </td></tr>\n",
       "\t<tr><th scope=row>E15.5_AAAGATGCAACGATCT-1</th><td>18893</td><td>3975</td><td>3.593924</td><td>E15.5</td><td>Male</td><td>Knee joint</td><td>Mus musculus</td><td>10x</td><td>C57BL/6J</td><td>Bian</td><td>3</td><td>3</td><td>Muscle progenitors</td></tr>\n",
       "</tbody>\n",
       "</table>\n"
      ],
      "text/latex": [
       "A data.frame: 6 × 13\n",
       "\\begin{tabular}{r|lllllllllllll}\n",
       "  & nCount\\_RNA & nFeature\\_RNA & percent.mt & Age & Sex & Tissue & Organism & Technology & Strain & Author & RNA\\_snn\\_res.0.9 & seurat\\_clusters & CellType\\\\\n",
       "  & <dbl> & <int> & <dbl> & <fct> & <chr> & <chr> & <chr> & <chr> & <chr> & <chr> & <fct> & <fct> & <fct>\\\\\n",
       "\\hline\n",
       "\tE15.5\\_AAACCTGAGAAACCTA-1 & 26053 & 4265 & 3.677120 & E15.5 & Male & Knee joint & Mus musculus & 10x & C57BL/6J & Bian & 3 & 3 & Muscle progenitors\\\\\n",
       "\tE15.5\\_AAACCTGTCAACACTG-1 &  5750 & 2130 & 1.878261 & E15.5 & Male & Knee joint & Mus musculus & 10x & C57BL/6J & Bian & 0 & 0 & Interzone cells   \\\\\n",
       "\tE15.5\\_AAACGGGCATGTAGTC-1 & 13787 & 3859 & 2.516864 & E15.5 & Male & Knee joint & Mus musculus & 10x & C57BL/6J & Bian & 0 & 0 & Interzone cells   \\\\\n",
       "\tE15.5\\_AAACGGGCATTCCTCG-1 & 12612 & 3934 & 3.377735 & E15.5 & Male & Knee joint & Mus musculus & 10x & C57BL/6J & Bian & 0 & 0 & Interzone cells   \\\\\n",
       "\tE15.5\\_AAACGGGTCCAAGCCG-1 & 15452 & 4229 & 2.834585 & E15.5 & Male & Knee joint & Mus musculus & 10x & C57BL/6J & Bian & 0 & 0 & Interzone cells   \\\\\n",
       "\tE15.5\\_AAAGATGCAACGATCT-1 & 18893 & 3975 & 3.593924 & E15.5 & Male & Knee joint & Mus musculus & 10x & C57BL/6J & Bian & 3 & 3 & Muscle progenitors\\\\\n",
       "\\end{tabular}\n"
      ],
      "text/markdown": [
       "\n",
       "A data.frame: 6 × 13\n",
       "\n",
       "| <!--/--> | nCount_RNA &lt;dbl&gt; | nFeature_RNA &lt;int&gt; | percent.mt &lt;dbl&gt; | Age &lt;fct&gt; | Sex &lt;chr&gt; | Tissue &lt;chr&gt; | Organism &lt;chr&gt; | Technology &lt;chr&gt; | Strain &lt;chr&gt; | Author &lt;chr&gt; | RNA_snn_res.0.9 &lt;fct&gt; | seurat_clusters &lt;fct&gt; | CellType &lt;fct&gt; |\n",
       "|---|---|---|---|---|---|---|---|---|---|---|---|---|---|\n",
       "| E15.5_AAACCTGAGAAACCTA-1 | 26053 | 4265 | 3.677120 | E15.5 | Male | Knee joint | Mus musculus | 10x | C57BL/6J | Bian | 3 | 3 | Muscle progenitors |\n",
       "| E15.5_AAACCTGTCAACACTG-1 |  5750 | 2130 | 1.878261 | E15.5 | Male | Knee joint | Mus musculus | 10x | C57BL/6J | Bian | 0 | 0 | Interzone cells    |\n",
       "| E15.5_AAACGGGCATGTAGTC-1 | 13787 | 3859 | 2.516864 | E15.5 | Male | Knee joint | Mus musculus | 10x | C57BL/6J | Bian | 0 | 0 | Interzone cells    |\n",
       "| E15.5_AAACGGGCATTCCTCG-1 | 12612 | 3934 | 3.377735 | E15.5 | Male | Knee joint | Mus musculus | 10x | C57BL/6J | Bian | 0 | 0 | Interzone cells    |\n",
       "| E15.5_AAACGGGTCCAAGCCG-1 | 15452 | 4229 | 2.834585 | E15.5 | Male | Knee joint | Mus musculus | 10x | C57BL/6J | Bian | 0 | 0 | Interzone cells    |\n",
       "| E15.5_AAAGATGCAACGATCT-1 | 18893 | 3975 | 3.593924 | E15.5 | Male | Knee joint | Mus musculus | 10x | C57BL/6J | Bian | 3 | 3 | Muscle progenitors |\n",
       "\n"
      ],
      "text/plain": [
       "                         nCount_RNA nFeature_RNA percent.mt Age   Sex \n",
       "E15.5_AAACCTGAGAAACCTA-1 26053      4265         3.677120   E15.5 Male\n",
       "E15.5_AAACCTGTCAACACTG-1  5750      2130         1.878261   E15.5 Male\n",
       "E15.5_AAACGGGCATGTAGTC-1 13787      3859         2.516864   E15.5 Male\n",
       "E15.5_AAACGGGCATTCCTCG-1 12612      3934         3.377735   E15.5 Male\n",
       "E15.5_AAACGGGTCCAAGCCG-1 15452      4229         2.834585   E15.5 Male\n",
       "E15.5_AAAGATGCAACGATCT-1 18893      3975         3.593924   E15.5 Male\n",
       "                         Tissue     Organism     Technology Strain   Author\n",
       "E15.5_AAACCTGAGAAACCTA-1 Knee joint Mus musculus 10x        C57BL/6J Bian  \n",
       "E15.5_AAACCTGTCAACACTG-1 Knee joint Mus musculus 10x        C57BL/6J Bian  \n",
       "E15.5_AAACGGGCATGTAGTC-1 Knee joint Mus musculus 10x        C57BL/6J Bian  \n",
       "E15.5_AAACGGGCATTCCTCG-1 Knee joint Mus musculus 10x        C57BL/6J Bian  \n",
       "E15.5_AAACGGGTCCAAGCCG-1 Knee joint Mus musculus 10x        C57BL/6J Bian  \n",
       "E15.5_AAAGATGCAACGATCT-1 Knee joint Mus musculus 10x        C57BL/6J Bian  \n",
       "                         RNA_snn_res.0.9 seurat_clusters CellType          \n",
       "E15.5_AAACCTGAGAAACCTA-1 3               3               Muscle progenitors\n",
       "E15.5_AAACCTGTCAACACTG-1 0               0               Interzone cells   \n",
       "E15.5_AAACGGGCATGTAGTC-1 0               0               Interzone cells   \n",
       "E15.5_AAACGGGCATTCCTCG-1 0               0               Interzone cells   \n",
       "E15.5_AAACGGGTCCAAGCCG-1 0               0               Interzone cells   \n",
       "E15.5_AAAGATGCAACGATCT-1 3               3               Muscle progenitors"
      ]
     },
     "metadata": {},
     "output_type": "display_data"
    }
   ],
   "source": [
    "head(S2.4@meta.data)"
   ]
  },
  {
   "cell_type": "code",
   "execution_count": 37,
   "id": "5550b14a-1f8f-4775-9b32-9f19bf20f729",
   "metadata": {},
   "outputs": [],
   "source": [
    "S2.4@meta.data$Study = 'SRP266397'\n",
    "S2.4@meta.data$Batch = 'GSM4594555'\n",
    "S2.4@meta.data$`RNA_snn_res.0.9`<- NULL\n",
    "S2.4@meta.data$seurat_clusters <- NULL\n",
    "\n",
    "S2.4@meta.data$percent.mt <- NULL\n",
    "S2.4@meta.data$DevTP <- S2.4@meta.data$Age\n",
    "S2.4@meta.data$Age <- NULL"
   ]
  },
  {
   "cell_type": "code",
   "execution_count": 38,
   "id": "8cc10074-f9bf-462f-9884-6b717823d85f",
   "metadata": {},
   "outputs": [
    {
     "data": {
      "text/html": [
       "<table class=\"dataframe\">\n",
       "<caption>A data.frame: 6 × 9</caption>\n",
       "<thead>\n",
       "\t<tr><th></th><th scope=col>CellType</th><th scope=col>Organism</th><th scope=col>Tissue</th><th scope=col>Technology</th><th scope=col>nfeature_RNA</th><th scope=col>nCount_RNA</th><th scope=col>percent.mt</th><th scope=col>Age</th><th scope=col>Strain</th></tr>\n",
       "\t<tr><th></th><th scope=col>&lt;fct&gt;</th><th scope=col>&lt;chr&gt;</th><th scope=col>&lt;chr&gt;</th><th scope=col>&lt;chr&gt;</th><th scope=col>&lt;int&gt;</th><th scope=col>&lt;dbl&gt;</th><th scope=col>&lt;dbl&gt;</th><th scope=col>&lt;chr&gt;</th><th scope=col>&lt;chr&gt;</th></tr>\n",
       "</thead>\n",
       "<tbody>\n",
       "\t<tr><th scope=row>ERR3427950</th><td>Osteoprogenitor             </td><td>Mus musculus</td><td>Tibia</td><td>SMART-Seq2</td><td>7457</td><td>286985</td><td>0.011176198</td><td>E15.5</td><td>CD-1</td></tr>\n",
       "\t<tr><th scope=row>ERR3427951</th><td>Pre-hypertrophic chondrocyte</td><td>Mus musculus</td><td>Tibia</td><td>SMART-Seq2</td><td>7599</td><td>531757</td><td>0.005401442</td><td>E15.5</td><td>CD-1</td></tr>\n",
       "\t<tr><th scope=row>ERR3427952</th><td>Osteoprogenitor             </td><td>Mus musculus</td><td>Tibia</td><td>SMART-Seq2</td><td>6498</td><td>410574</td><td>0.007615103</td><td>E15.5</td><td>CD-1</td></tr>\n",
       "\t<tr><th scope=row>ERR3427953</th><td>Hypertrophic chondrocyte    </td><td>Mus musculus</td><td>Tibia</td><td>SMART-Seq2</td><td>5211</td><td>264937</td><td>0.009641769</td><td>E15.5</td><td>CD-1</td></tr>\n",
       "\t<tr><th scope=row>ERR3427954</th><td>Hypertrophic chondrocyte    </td><td>Mus musculus</td><td>Tibia</td><td>SMART-Seq2</td><td>5869</td><td>391436</td><td>0.007520422</td><td>E15.5</td><td>CD-1</td></tr>\n",
       "\t<tr><th scope=row>ERR3427955</th><td>Osteoprogenitor             </td><td>Mus musculus</td><td>Tibia</td><td>SMART-Seq2</td><td>6006</td><td>482848</td><td>0.005494778</td><td>E15.5</td><td>CD-1</td></tr>\n",
       "</tbody>\n",
       "</table>\n"
      ],
      "text/latex": [
       "A data.frame: 6 × 9\n",
       "\\begin{tabular}{r|lllllllll}\n",
       "  & CellType & Organism & Tissue & Technology & nfeature\\_RNA & nCount\\_RNA & percent.mt & Age & Strain\\\\\n",
       "  & <fct> & <chr> & <chr> & <chr> & <int> & <dbl> & <dbl> & <chr> & <chr>\\\\\n",
       "\\hline\n",
       "\tERR3427950 & Osteoprogenitor              & Mus musculus & Tibia & SMART-Seq2 & 7457 & 286985 & 0.011176198 & E15.5 & CD-1\\\\\n",
       "\tERR3427951 & Pre-hypertrophic chondrocyte & Mus musculus & Tibia & SMART-Seq2 & 7599 & 531757 & 0.005401442 & E15.5 & CD-1\\\\\n",
       "\tERR3427952 & Osteoprogenitor              & Mus musculus & Tibia & SMART-Seq2 & 6498 & 410574 & 0.007615103 & E15.5 & CD-1\\\\\n",
       "\tERR3427953 & Hypertrophic chondrocyte     & Mus musculus & Tibia & SMART-Seq2 & 5211 & 264937 & 0.009641769 & E15.5 & CD-1\\\\\n",
       "\tERR3427954 & Hypertrophic chondrocyte     & Mus musculus & Tibia & SMART-Seq2 & 5869 & 391436 & 0.007520422 & E15.5 & CD-1\\\\\n",
       "\tERR3427955 & Osteoprogenitor              & Mus musculus & Tibia & SMART-Seq2 & 6006 & 482848 & 0.005494778 & E15.5 & CD-1\\\\\n",
       "\\end{tabular}\n"
      ],
      "text/markdown": [
       "\n",
       "A data.frame: 6 × 9\n",
       "\n",
       "| <!--/--> | CellType &lt;fct&gt; | Organism &lt;chr&gt; | Tissue &lt;chr&gt; | Technology &lt;chr&gt; | nfeature_RNA &lt;int&gt; | nCount_RNA &lt;dbl&gt; | percent.mt &lt;dbl&gt; | Age &lt;chr&gt; | Strain &lt;chr&gt; |\n",
       "|---|---|---|---|---|---|---|---|---|---|\n",
       "| ERR3427950 | Osteoprogenitor              | Mus musculus | Tibia | SMART-Seq2 | 7457 | 286985 | 0.011176198 | E15.5 | CD-1 |\n",
       "| ERR3427951 | Pre-hypertrophic chondrocyte | Mus musculus | Tibia | SMART-Seq2 | 7599 | 531757 | 0.005401442 | E15.5 | CD-1 |\n",
       "| ERR3427952 | Osteoprogenitor              | Mus musculus | Tibia | SMART-Seq2 | 6498 | 410574 | 0.007615103 | E15.5 | CD-1 |\n",
       "| ERR3427953 | Hypertrophic chondrocyte     | Mus musculus | Tibia | SMART-Seq2 | 5211 | 264937 | 0.009641769 | E15.5 | CD-1 |\n",
       "| ERR3427954 | Hypertrophic chondrocyte     | Mus musculus | Tibia | SMART-Seq2 | 5869 | 391436 | 0.007520422 | E15.5 | CD-1 |\n",
       "| ERR3427955 | Osteoprogenitor              | Mus musculus | Tibia | SMART-Seq2 | 6006 | 482848 | 0.005494778 | E15.5 | CD-1 |\n",
       "\n"
      ],
      "text/plain": [
       "           CellType                     Organism     Tissue Technology\n",
       "ERR3427950 Osteoprogenitor              Mus musculus Tibia  SMART-Seq2\n",
       "ERR3427951 Pre-hypertrophic chondrocyte Mus musculus Tibia  SMART-Seq2\n",
       "ERR3427952 Osteoprogenitor              Mus musculus Tibia  SMART-Seq2\n",
       "ERR3427953 Hypertrophic chondrocyte     Mus musculus Tibia  SMART-Seq2\n",
       "ERR3427954 Hypertrophic chondrocyte     Mus musculus Tibia  SMART-Seq2\n",
       "ERR3427955 Osteoprogenitor              Mus musculus Tibia  SMART-Seq2\n",
       "           nfeature_RNA nCount_RNA percent.mt  Age   Strain\n",
       "ERR3427950 7457         286985     0.011176198 E15.5 CD-1  \n",
       "ERR3427951 7599         531757     0.005401442 E15.5 CD-1  \n",
       "ERR3427952 6498         410574     0.007615103 E15.5 CD-1  \n",
       "ERR3427953 5211         264937     0.009641769 E15.5 CD-1  \n",
       "ERR3427954 5869         391436     0.007520422 E15.5 CD-1  \n",
       "ERR3427955 6006         482848     0.005494778 E15.5 CD-1  "
      ]
     },
     "metadata": {},
     "output_type": "display_data"
    }
   ],
   "source": [
    "head(S3@meta.data)"
   ]
  },
  {
   "cell_type": "code",
   "execution_count": 39,
   "id": "53bdf7ce-432f-444a-86e3-7844f3549d5f",
   "metadata": {},
   "outputs": [],
   "source": [
    "S3@meta.data$Study = 'PRJEB33444'\n",
    "S3@meta.data$Batch = 'PRJEB33444'\n",
    "S3@meta.data$Author = 'Bohm'\n",
    "S3@meta.data$`RNA_snn_res.0.9`<- NULL\n",
    "S3@meta.data$seurat_clusters <- NULL\n",
    "\n",
    "S3@meta.data$percent.mt <- NULL\n",
    "S3@meta.data$DevTP <- S3@meta.data$Age\n",
    "S3@meta.data$Age <- NULL\n",
    "\n",
    "S3@meta.data$nFeature_RNA <- S3@meta.data$nfeature_RNA\n",
    "S3@meta.data$nfeature_RNA <- NULL"
   ]
  },
  {
   "cell_type": "code",
   "execution_count": 40,
   "id": "05570cda-8f3e-43e8-9bcd-4eb459a56d3c",
   "metadata": {},
   "outputs": [
    {
     "data": {
      "text/html": [
       "<table class=\"dataframe\">\n",
       "<caption>A data.frame: 6 × 10</caption>\n",
       "<thead>\n",
       "\t<tr><th></th><th scope=col>nCount_RNA</th><th scope=col>nFeature_RNA</th><th scope=col>CellType</th><th scope=col>Tissue</th><th scope=col>percent.mt</th><th scope=col>Technology</th><th scope=col>Organism</th><th scope=col>Age</th><th scope=col>Strain</th><th scope=col>Author</th></tr>\n",
       "\t<tr><th></th><th scope=col>&lt;dbl&gt;</th><th scope=col>&lt;int&gt;</th><th scope=col>&lt;fct&gt;</th><th scope=col>&lt;fct&gt;</th><th scope=col>&lt;dbl&gt;</th><th scope=col>&lt;chr&gt;</th><th scope=col>&lt;chr&gt;</th><th scope=col>&lt;chr&gt;</th><th scope=col>&lt;chr&gt;</th><th scope=col>&lt;chr&gt;</th></tr>\n",
       "</thead>\n",
       "<tbody>\n",
       "\t<tr><th scope=row>AACACGCATCTG_plate_47_quad1</th><td> 53280</td><td>1781</td><td>Osteoblast          </td><td>Periosteum</td><td>0.08231982</td><td>CEL-seq2</td><td>Mus musculus</td><td>P7</td><td>C57BL/6</td><td>Debnath</td></tr>\n",
       "\t<tr><th scope=row>AACGGAATGGCT_plate_47_quad1</th><td>169151</td><td>3583</td><td>Osteoblast          </td><td>Periosteum</td><td>0.03323658</td><td>CEL-seq2</td><td>Mus musculus</td><td>P7</td><td>C57BL/6</td><td>Debnath</td></tr>\n",
       "\t<tr><th scope=row>AAGCACGCTATG_plate_47_quad1</th><td> 95629</td><td>2563</td><td>Periosteal stem cell</td><td>Periosteum</td><td>0.06124711</td><td>CEL-seq2</td><td>Mus musculus</td><td>P7</td><td>C57BL/6</td><td>Debnath</td></tr>\n",
       "\t<tr><th scope=row>AAGCCTTGGTTC_plate_47_quad1</th><td>115718</td><td>2808</td><td>Osteoblast          </td><td>Periosteum</td><td>0.05463281</td><td>CEL-seq2</td><td>Mus musculus</td><td>P7</td><td>C57BL/6</td><td>Debnath</td></tr>\n",
       "\t<tr><th scope=row>AAGGTCCAAGCA_plate_47_quad1</th><td> 72057</td><td>2215</td><td>Periosteal stem cell</td><td>Periosteum</td><td>0.04682404</td><td>CEL-seq2</td><td>Mus musculus</td><td>P7</td><td>C57BL/6</td><td>Debnath</td></tr>\n",
       "\t<tr><th scope=row>ACAGTGCTCATG_plate_47_quad1</th><td>147796</td><td>4258</td><td>Cycling cell        </td><td>Periosteum</td><td>0.02468944</td><td>CEL-seq2</td><td>Mus musculus</td><td>P7</td><td>C57BL/6</td><td>Debnath</td></tr>\n",
       "</tbody>\n",
       "</table>\n"
      ],
      "text/latex": [
       "A data.frame: 6 × 10\n",
       "\\begin{tabular}{r|llllllllll}\n",
       "  & nCount\\_RNA & nFeature\\_RNA & CellType & Tissue & percent.mt & Technology & Organism & Age & Strain & Author\\\\\n",
       "  & <dbl> & <int> & <fct> & <fct> & <dbl> & <chr> & <chr> & <chr> & <chr> & <chr>\\\\\n",
       "\\hline\n",
       "\tAACACGCATCTG\\_plate\\_47\\_quad1 &  53280 & 1781 & Osteoblast           & Periosteum & 0.08231982 & CEL-seq2 & Mus musculus & P7 & C57BL/6 & Debnath\\\\\n",
       "\tAACGGAATGGCT\\_plate\\_47\\_quad1 & 169151 & 3583 & Osteoblast           & Periosteum & 0.03323658 & CEL-seq2 & Mus musculus & P7 & C57BL/6 & Debnath\\\\\n",
       "\tAAGCACGCTATG\\_plate\\_47\\_quad1 &  95629 & 2563 & Periosteal stem cell & Periosteum & 0.06124711 & CEL-seq2 & Mus musculus & P7 & C57BL/6 & Debnath\\\\\n",
       "\tAAGCCTTGGTTC\\_plate\\_47\\_quad1 & 115718 & 2808 & Osteoblast           & Periosteum & 0.05463281 & CEL-seq2 & Mus musculus & P7 & C57BL/6 & Debnath\\\\\n",
       "\tAAGGTCCAAGCA\\_plate\\_47\\_quad1 &  72057 & 2215 & Periosteal stem cell & Periosteum & 0.04682404 & CEL-seq2 & Mus musculus & P7 & C57BL/6 & Debnath\\\\\n",
       "\tACAGTGCTCATG\\_plate\\_47\\_quad1 & 147796 & 4258 & Cycling cell         & Periosteum & 0.02468944 & CEL-seq2 & Mus musculus & P7 & C57BL/6 & Debnath\\\\\n",
       "\\end{tabular}\n"
      ],
      "text/markdown": [
       "\n",
       "A data.frame: 6 × 10\n",
       "\n",
       "| <!--/--> | nCount_RNA &lt;dbl&gt; | nFeature_RNA &lt;int&gt; | CellType &lt;fct&gt; | Tissue &lt;fct&gt; | percent.mt &lt;dbl&gt; | Technology &lt;chr&gt; | Organism &lt;chr&gt; | Age &lt;chr&gt; | Strain &lt;chr&gt; | Author &lt;chr&gt; |\n",
       "|---|---|---|---|---|---|---|---|---|---|---|\n",
       "| AACACGCATCTG_plate_47_quad1 |  53280 | 1781 | Osteoblast           | Periosteum | 0.08231982 | CEL-seq2 | Mus musculus | P7 | C57BL/6 | Debnath |\n",
       "| AACGGAATGGCT_plate_47_quad1 | 169151 | 3583 | Osteoblast           | Periosteum | 0.03323658 | CEL-seq2 | Mus musculus | P7 | C57BL/6 | Debnath |\n",
       "| AAGCACGCTATG_plate_47_quad1 |  95629 | 2563 | Periosteal stem cell | Periosteum | 0.06124711 | CEL-seq2 | Mus musculus | P7 | C57BL/6 | Debnath |\n",
       "| AAGCCTTGGTTC_plate_47_quad1 | 115718 | 2808 | Osteoblast           | Periosteum | 0.05463281 | CEL-seq2 | Mus musculus | P7 | C57BL/6 | Debnath |\n",
       "| AAGGTCCAAGCA_plate_47_quad1 |  72057 | 2215 | Periosteal stem cell | Periosteum | 0.04682404 | CEL-seq2 | Mus musculus | P7 | C57BL/6 | Debnath |\n",
       "| ACAGTGCTCATG_plate_47_quad1 | 147796 | 4258 | Cycling cell         | Periosteum | 0.02468944 | CEL-seq2 | Mus musculus | P7 | C57BL/6 | Debnath |\n",
       "\n"
      ],
      "text/plain": [
       "                            nCount_RNA nFeature_RNA CellType            \n",
       "AACACGCATCTG_plate_47_quad1  53280     1781         Osteoblast          \n",
       "AACGGAATGGCT_plate_47_quad1 169151     3583         Osteoblast          \n",
       "AAGCACGCTATG_plate_47_quad1  95629     2563         Periosteal stem cell\n",
       "AAGCCTTGGTTC_plate_47_quad1 115718     2808         Osteoblast          \n",
       "AAGGTCCAAGCA_plate_47_quad1  72057     2215         Periosteal stem cell\n",
       "ACAGTGCTCATG_plate_47_quad1 147796     4258         Cycling cell        \n",
       "                            Tissue     percent.mt Technology Organism     Age\n",
       "AACACGCATCTG_plate_47_quad1 Periosteum 0.08231982 CEL-seq2   Mus musculus P7 \n",
       "AACGGAATGGCT_plate_47_quad1 Periosteum 0.03323658 CEL-seq2   Mus musculus P7 \n",
       "AAGCACGCTATG_plate_47_quad1 Periosteum 0.06124711 CEL-seq2   Mus musculus P7 \n",
       "AAGCCTTGGTTC_plate_47_quad1 Periosteum 0.05463281 CEL-seq2   Mus musculus P7 \n",
       "AAGGTCCAAGCA_plate_47_quad1 Periosteum 0.04682404 CEL-seq2   Mus musculus P7 \n",
       "ACAGTGCTCATG_plate_47_quad1 Periosteum 0.02468944 CEL-seq2   Mus musculus P7 \n",
       "                            Strain  Author \n",
       "AACACGCATCTG_plate_47_quad1 C57BL/6 Debnath\n",
       "AACGGAATGGCT_plate_47_quad1 C57BL/6 Debnath\n",
       "AAGCACGCTATG_plate_47_quad1 C57BL/6 Debnath\n",
       "AAGCCTTGGTTC_plate_47_quad1 C57BL/6 Debnath\n",
       "AAGGTCCAAGCA_plate_47_quad1 C57BL/6 Debnath\n",
       "ACAGTGCTCATG_plate_47_quad1 C57BL/6 Debnath"
      ]
     },
     "metadata": {},
     "output_type": "display_data"
    }
   ],
   "source": [
    "head(S4@meta.data)"
   ]
  },
  {
   "cell_type": "code",
   "execution_count": 41,
   "id": "3d79970d-582e-466b-9ce6-33d827f982cc",
   "metadata": {},
   "outputs": [],
   "source": [
    "S4@meta.data$Study = 'SRP122545'\n",
    "S4@meta.data$Batch = 'SRP122545'\n",
    "\n",
    "S4@meta.data$percent.mt <- NULL\n",
    "S4@meta.data$DevTP <- S4@meta.data$Age\n",
    "S4@meta.data$Age <- NULL"
   ]
  },
  {
   "cell_type": "code",
   "execution_count": 42,
   "id": "0b2cfa35-7a19-4f6a-bbb1-b7a9c7d9100c",
   "metadata": {},
   "outputs": [
    {
     "data": {
      "text/html": [
       "<table class=\"dataframe\">\n",
       "<caption>A data.frame: 6 × 24</caption>\n",
       "<thead>\n",
       "\t<tr><th></th><th scope=col>orig.ident</th><th scope=col>nCount_RNA</th><th scope=col>nFeature_RNA</th><th scope=col>geo_accession</th><th scope=col>tissue</th><th scope=col>organism</th><th scope=col>strain</th><th scope=col>developmental_stage</th><th scope=col>instrument_model</th><th scope=col>technology</th><th scope=col>⋯</th><th scope=col>subsets_Mito_detected</th><th scope=col>subsets_Mito_percent</th><th scope=col>subsets_ERCC_sum</th><th scope=col>subsets_ERCC_detected</th><th scope=col>subsets_ERCC_percent</th><th scope=col>total</th><th scope=col>Author</th><th scope=col>RNA_snn_res.0.6</th><th scope=col>seurat_clusters</th><th scope=col>CellType</th></tr>\n",
       "\t<tr><th></th><th scope=col>&lt;fct&gt;</th><th scope=col>&lt;dbl&gt;</th><th scope=col>&lt;int&gt;</th><th scope=col>&lt;fct&gt;</th><th scope=col>&lt;fct&gt;</th><th scope=col>&lt;fct&gt;</th><th scope=col>&lt;fct&gt;</th><th scope=col>&lt;fct&gt;</th><th scope=col>&lt;fct&gt;</th><th scope=col>&lt;chr&gt;</th><th scope=col>⋯</th><th scope=col>&lt;int&gt;</th><th scope=col>&lt;dbl&gt;</th><th scope=col>&lt;dbl&gt;</th><th scope=col>&lt;int&gt;</th><th scope=col>&lt;dbl&gt;</th><th scope=col>&lt;dbl&gt;</th><th scope=col>&lt;chr&gt;</th><th scope=col>&lt;fct&gt;</th><th scope=col>&lt;fct&gt;</th><th scope=col>&lt;fct&gt;</th></tr>\n",
       "</thead>\n",
       "<tbody>\n",
       "\t<tr><th scope=row>AAACCTGAGACGCACA-1</th><td>SeuratProject</td><td> 9466</td><td>3285</td><td>GSM4227224</td><td>hindlimb</td><td>Mus musculus</td><td>strain: C57BL/6</td><td>developmental stage: embryonic day 11.5</td><td>Illumina NovaSeq 6000</td><td>10x 3' v2</td><td>⋯</td><td>12</td><td>2.936827</td><td>0</td><td>0</td><td>0</td><td> 9466</td><td>Guilak</td><td>2</td><td>2</td><td>Chondroprogenitors        </td></tr>\n",
       "\t<tr><th scope=row>AAACCTGCACAGACAG-1</th><td>SeuratProject</td><td> 5508</td><td>2275</td><td>GSM4227224</td><td>hindlimb</td><td>Mus musculus</td><td>strain: C57BL/6</td><td>developmental stage: embryonic day 11.5</td><td>Illumina NovaSeq 6000</td><td>10x 3' v2</td><td>⋯</td><td>10</td><td>4.084967</td><td>0</td><td>0</td><td>0</td><td> 5508</td><td>Guilak</td><td>0</td><td>0</td><td>Chondroprogenitors        </td></tr>\n",
       "\t<tr><th scope=row>AAACCTGCAGGCTCAC-1</th><td>SeuratProject</td><td>12626</td><td>4020</td><td>GSM4227224</td><td>hindlimb</td><td>Mus musculus</td><td>strain: C57BL/6</td><td>developmental stage: embryonic day 11.5</td><td>Illumina NovaSeq 6000</td><td>10x 3' v2</td><td>⋯</td><td>10</td><td>2.391890</td><td>0</td><td>0</td><td>0</td><td>12626</td><td>Guilak</td><td>4</td><td>4</td><td>Chondroprogenitors        </td></tr>\n",
       "\t<tr><th scope=row>AAACCTGTCAAGAAGT-1</th><td>SeuratProject</td><td>10049</td><td>3771</td><td>GSM4227224</td><td>hindlimb</td><td>Mus musculus</td><td>strain: C57BL/6</td><td>developmental stage: embryonic day 11.5</td><td>Illumina NovaSeq 6000</td><td>10x 3' v2</td><td>⋯</td><td>11</td><td>4.139715</td><td>0</td><td>0</td><td>0</td><td>10049</td><td>Guilak</td><td>4</td><td>4</td><td>Tenocyte precursors       </td></tr>\n",
       "\t<tr><th scope=row>AAACGGGAGGATATAC-1</th><td>SeuratProject</td><td> 7459</td><td>2693</td><td>GSM4227224</td><td>hindlimb</td><td>Mus musculus</td><td>strain: C57BL/6</td><td>developmental stage: embryonic day 11.5</td><td>Illumina NovaSeq 6000</td><td>10x 3' v2</td><td>⋯</td><td>11</td><td>2.627698</td><td>0</td><td>0</td><td>0</td><td> 7459</td><td>Guilak</td><td>1</td><td>1</td><td>Vascular endothelial cells</td></tr>\n",
       "\t<tr><th scope=row>AAACGGGTCAGCTTAG-1</th><td>SeuratProject</td><td> 4258</td><td>2037</td><td>GSM4227224</td><td>hindlimb</td><td>Mus musculus</td><td>strain: C57BL/6</td><td>developmental stage: embryonic day 11.5</td><td>Illumina NovaSeq 6000</td><td>10x 3' v2</td><td>⋯</td><td>10</td><td>3.593236</td><td>0</td><td>0</td><td>0</td><td> 4258</td><td>Guilak</td><td>6</td><td>6</td><td>Chondroprogenitors        </td></tr>\n",
       "</tbody>\n",
       "</table>\n"
      ],
      "text/latex": [
       "A data.frame: 6 × 24\n",
       "\\begin{tabular}{r|lllllllllllllllllllll}\n",
       "  & orig.ident & nCount\\_RNA & nFeature\\_RNA & geo\\_accession & tissue & organism & strain & developmental\\_stage & instrument\\_model & technology & ⋯ & subsets\\_Mito\\_detected & subsets\\_Mito\\_percent & subsets\\_ERCC\\_sum & subsets\\_ERCC\\_detected & subsets\\_ERCC\\_percent & total & Author & RNA\\_snn\\_res.0.6 & seurat\\_clusters & CellType\\\\\n",
       "  & <fct> & <dbl> & <int> & <fct> & <fct> & <fct> & <fct> & <fct> & <fct> & <chr> & ⋯ & <int> & <dbl> & <dbl> & <int> & <dbl> & <dbl> & <chr> & <fct> & <fct> & <fct>\\\\\n",
       "\\hline\n",
       "\tAAACCTGAGACGCACA-1 & SeuratProject &  9466 & 3285 & GSM4227224 & hindlimb & Mus musculus & strain: C57BL/6 & developmental stage: embryonic day 11.5 & Illumina NovaSeq 6000 & 10x 3' v2 & ⋯ & 12 & 2.936827 & 0 & 0 & 0 &  9466 & Guilak & 2 & 2 & Chondroprogenitors        \\\\\n",
       "\tAAACCTGCACAGACAG-1 & SeuratProject &  5508 & 2275 & GSM4227224 & hindlimb & Mus musculus & strain: C57BL/6 & developmental stage: embryonic day 11.5 & Illumina NovaSeq 6000 & 10x 3' v2 & ⋯ & 10 & 4.084967 & 0 & 0 & 0 &  5508 & Guilak & 0 & 0 & Chondroprogenitors        \\\\\n",
       "\tAAACCTGCAGGCTCAC-1 & SeuratProject & 12626 & 4020 & GSM4227224 & hindlimb & Mus musculus & strain: C57BL/6 & developmental stage: embryonic day 11.5 & Illumina NovaSeq 6000 & 10x 3' v2 & ⋯ & 10 & 2.391890 & 0 & 0 & 0 & 12626 & Guilak & 4 & 4 & Chondroprogenitors        \\\\\n",
       "\tAAACCTGTCAAGAAGT-1 & SeuratProject & 10049 & 3771 & GSM4227224 & hindlimb & Mus musculus & strain: C57BL/6 & developmental stage: embryonic day 11.5 & Illumina NovaSeq 6000 & 10x 3' v2 & ⋯ & 11 & 4.139715 & 0 & 0 & 0 & 10049 & Guilak & 4 & 4 & Tenocyte precursors       \\\\\n",
       "\tAAACGGGAGGATATAC-1 & SeuratProject &  7459 & 2693 & GSM4227224 & hindlimb & Mus musculus & strain: C57BL/6 & developmental stage: embryonic day 11.5 & Illumina NovaSeq 6000 & 10x 3' v2 & ⋯ & 11 & 2.627698 & 0 & 0 & 0 &  7459 & Guilak & 1 & 1 & Vascular endothelial cells\\\\\n",
       "\tAAACGGGTCAGCTTAG-1 & SeuratProject &  4258 & 2037 & GSM4227224 & hindlimb & Mus musculus & strain: C57BL/6 & developmental stage: embryonic day 11.5 & Illumina NovaSeq 6000 & 10x 3' v2 & ⋯ & 10 & 3.593236 & 0 & 0 & 0 &  4258 & Guilak & 6 & 6 & Chondroprogenitors        \\\\\n",
       "\\end{tabular}\n"
      ],
      "text/markdown": [
       "\n",
       "A data.frame: 6 × 24\n",
       "\n",
       "| <!--/--> | orig.ident &lt;fct&gt; | nCount_RNA &lt;dbl&gt; | nFeature_RNA &lt;int&gt; | geo_accession &lt;fct&gt; | tissue &lt;fct&gt; | organism &lt;fct&gt; | strain &lt;fct&gt; | developmental_stage &lt;fct&gt; | instrument_model &lt;fct&gt; | technology &lt;chr&gt; | ⋯ ⋯ | subsets_Mito_detected &lt;int&gt; | subsets_Mito_percent &lt;dbl&gt; | subsets_ERCC_sum &lt;dbl&gt; | subsets_ERCC_detected &lt;int&gt; | subsets_ERCC_percent &lt;dbl&gt; | total &lt;dbl&gt; | Author &lt;chr&gt; | RNA_snn_res.0.6 &lt;fct&gt; | seurat_clusters &lt;fct&gt; | CellType &lt;fct&gt; |\n",
       "|---|---|---|---|---|---|---|---|---|---|---|---|---|---|---|---|---|---|---|---|---|---|\n",
       "| AAACCTGAGACGCACA-1 | SeuratProject |  9466 | 3285 | GSM4227224 | hindlimb | Mus musculus | strain: C57BL/6 | developmental stage: embryonic day 11.5 | Illumina NovaSeq 6000 | 10x 3' v2 | ⋯ | 12 | 2.936827 | 0 | 0 | 0 |  9466 | Guilak | 2 | 2 | Chondroprogenitors         |\n",
       "| AAACCTGCACAGACAG-1 | SeuratProject |  5508 | 2275 | GSM4227224 | hindlimb | Mus musculus | strain: C57BL/6 | developmental stage: embryonic day 11.5 | Illumina NovaSeq 6000 | 10x 3' v2 | ⋯ | 10 | 4.084967 | 0 | 0 | 0 |  5508 | Guilak | 0 | 0 | Chondroprogenitors         |\n",
       "| AAACCTGCAGGCTCAC-1 | SeuratProject | 12626 | 4020 | GSM4227224 | hindlimb | Mus musculus | strain: C57BL/6 | developmental stage: embryonic day 11.5 | Illumina NovaSeq 6000 | 10x 3' v2 | ⋯ | 10 | 2.391890 | 0 | 0 | 0 | 12626 | Guilak | 4 | 4 | Chondroprogenitors         |\n",
       "| AAACCTGTCAAGAAGT-1 | SeuratProject | 10049 | 3771 | GSM4227224 | hindlimb | Mus musculus | strain: C57BL/6 | developmental stage: embryonic day 11.5 | Illumina NovaSeq 6000 | 10x 3' v2 | ⋯ | 11 | 4.139715 | 0 | 0 | 0 | 10049 | Guilak | 4 | 4 | Tenocyte precursors        |\n",
       "| AAACGGGAGGATATAC-1 | SeuratProject |  7459 | 2693 | GSM4227224 | hindlimb | Mus musculus | strain: C57BL/6 | developmental stage: embryonic day 11.5 | Illumina NovaSeq 6000 | 10x 3' v2 | ⋯ | 11 | 2.627698 | 0 | 0 | 0 |  7459 | Guilak | 1 | 1 | Vascular endothelial cells |\n",
       "| AAACGGGTCAGCTTAG-1 | SeuratProject |  4258 | 2037 | GSM4227224 | hindlimb | Mus musculus | strain: C57BL/6 | developmental stage: embryonic day 11.5 | Illumina NovaSeq 6000 | 10x 3' v2 | ⋯ | 10 | 3.593236 | 0 | 0 | 0 |  4258 | Guilak | 6 | 6 | Chondroprogenitors         |\n",
       "\n"
      ],
      "text/plain": [
       "                   orig.ident    nCount_RNA nFeature_RNA geo_accession tissue  \n",
       "AAACCTGAGACGCACA-1 SeuratProject  9466      3285         GSM4227224    hindlimb\n",
       "AAACCTGCACAGACAG-1 SeuratProject  5508      2275         GSM4227224    hindlimb\n",
       "AAACCTGCAGGCTCAC-1 SeuratProject 12626      4020         GSM4227224    hindlimb\n",
       "AAACCTGTCAAGAAGT-1 SeuratProject 10049      3771         GSM4227224    hindlimb\n",
       "AAACGGGAGGATATAC-1 SeuratProject  7459      2693         GSM4227224    hindlimb\n",
       "AAACGGGTCAGCTTAG-1 SeuratProject  4258      2037         GSM4227224    hindlimb\n",
       "                   organism     strain         \n",
       "AAACCTGAGACGCACA-1 Mus musculus strain: C57BL/6\n",
       "AAACCTGCACAGACAG-1 Mus musculus strain: C57BL/6\n",
       "AAACCTGCAGGCTCAC-1 Mus musculus strain: C57BL/6\n",
       "AAACCTGTCAAGAAGT-1 Mus musculus strain: C57BL/6\n",
       "AAACGGGAGGATATAC-1 Mus musculus strain: C57BL/6\n",
       "AAACGGGTCAGCTTAG-1 Mus musculus strain: C57BL/6\n",
       "                   developmental_stage                    \n",
       "AAACCTGAGACGCACA-1 developmental stage: embryonic day 11.5\n",
       "AAACCTGCACAGACAG-1 developmental stage: embryonic day 11.5\n",
       "AAACCTGCAGGCTCAC-1 developmental stage: embryonic day 11.5\n",
       "AAACCTGTCAAGAAGT-1 developmental stage: embryonic day 11.5\n",
       "AAACGGGAGGATATAC-1 developmental stage: embryonic day 11.5\n",
       "AAACGGGTCAGCTTAG-1 developmental stage: embryonic day 11.5\n",
       "                   instrument_model      technology ⋯ subsets_Mito_detected\n",
       "AAACCTGAGACGCACA-1 Illumina NovaSeq 6000 10x 3' v2  ⋯ 12                   \n",
       "AAACCTGCACAGACAG-1 Illumina NovaSeq 6000 10x 3' v2  ⋯ 10                   \n",
       "AAACCTGCAGGCTCAC-1 Illumina NovaSeq 6000 10x 3' v2  ⋯ 10                   \n",
       "AAACCTGTCAAGAAGT-1 Illumina NovaSeq 6000 10x 3' v2  ⋯ 11                   \n",
       "AAACGGGAGGATATAC-1 Illumina NovaSeq 6000 10x 3' v2  ⋯ 11                   \n",
       "AAACGGGTCAGCTTAG-1 Illumina NovaSeq 6000 10x 3' v2  ⋯ 10                   \n",
       "                   subsets_Mito_percent subsets_ERCC_sum subsets_ERCC_detected\n",
       "AAACCTGAGACGCACA-1 2.936827             0                0                    \n",
       "AAACCTGCACAGACAG-1 4.084967             0                0                    \n",
       "AAACCTGCAGGCTCAC-1 2.391890             0                0                    \n",
       "AAACCTGTCAAGAAGT-1 4.139715             0                0                    \n",
       "AAACGGGAGGATATAC-1 2.627698             0                0                    \n",
       "AAACGGGTCAGCTTAG-1 3.593236             0                0                    \n",
       "                   subsets_ERCC_percent total Author RNA_snn_res.0.6\n",
       "AAACCTGAGACGCACA-1 0                     9466 Guilak 2              \n",
       "AAACCTGCACAGACAG-1 0                     5508 Guilak 0              \n",
       "AAACCTGCAGGCTCAC-1 0                    12626 Guilak 4              \n",
       "AAACCTGTCAAGAAGT-1 0                    10049 Guilak 4              \n",
       "AAACGGGAGGATATAC-1 0                     7459 Guilak 1              \n",
       "AAACGGGTCAGCTTAG-1 0                     4258 Guilak 6              \n",
       "                   seurat_clusters CellType                  \n",
       "AAACCTGAGACGCACA-1 2               Chondroprogenitors        \n",
       "AAACCTGCACAGACAG-1 0               Chondroprogenitors        \n",
       "AAACCTGCAGGCTCAC-1 4               Chondroprogenitors        \n",
       "AAACCTGTCAAGAAGT-1 4               Tenocyte precursors       \n",
       "AAACGGGAGGATATAC-1 1               Vascular endothelial cells\n",
       "AAACGGGTCAGCTTAG-1 6               Chondroprogenitors        "
      ]
     },
     "metadata": {},
     "output_type": "display_data"
    }
   ],
   "source": [
    "head(S5.1@meta.data)"
   ]
  },
  {
   "cell_type": "code",
   "execution_count": 43,
   "id": "1eca5001-2009-4a05-89df-843f01ae0d91",
   "metadata": {},
   "outputs": [],
   "source": [
    "S5.1@meta.data$Study = 'GSE142425'\n",
    "S5.1@meta.data$Batch = 'GSM4227224'\n",
    "S5.1@meta.data$Author = 'Guilak'\n",
    "S5.1@meta.data$`detected.1`<- NULL\n",
    "S5.1@meta.data$`RNA_snn_res.0.6`<- NULL\n",
    "S5.1@meta.data$geo_accession<- NULL\n",
    "S5.1@meta.data$instrument_model<- NULL\n",
    "\n",
    "S5.1@meta.data$`subsets_ERCC_detected.1` <- NULL\n",
    "S5.1@meta.data$`subsets_ERCC_percent.1` <- NULL\n",
    "S5.1@meta.data$`subsets_ERCC_sum.1` <- NULL\n",
    "S5.1@meta.data$`subsets_Mito_detected.1` <- NULL\n",
    "S5.1@meta.data$`subsets_Mito_percent.1` <- NULL\n",
    "S5.1@meta.data$`subsets_Mito_sum.1` <- NULL\n",
    "S5.1@meta.data$`sum.1` <- NULL\n",
    "S5.1@meta.data$`total.1` <- NULL\n",
    "S5.1@meta.data$detected <- NULL\n",
    "S5.1@meta.data$ident <- NULL\n",
    "S5.1@meta.data$Instrument <- NULL\n",
    "S5.1@meta.data$orig.ident <- NULL\n",
    "S5.1@meta.data$RNA_snn_res.0.065 <- NULL\n",
    "S5.1@meta.data$Sample_Name <- NULL\n",
    "S5.1@meta.data$seurat_clusters <- NULL\n",
    "S5.1@meta.data$subsets_ERCC_detected <- NULL\n",
    "S5.1@meta.data$subsets_ERCC_percent <- NULL\n",
    "S5.1@meta.data$subsets_ERCC_sum <- NULL\n",
    "S5.1@meta.data$sum <- NULL\n",
    "S5.1@meta.data$total <- NULL\n",
    "S5.1@meta.data$subsets_Mito_detected<- NULL\n",
    "S5.1@meta.data$subsets_Mito_sum<- NULL\n",
    "S5.1@meta.data$subsets_Mito_percent <- NULL\n",
    "S5.1@meta.data$source_name <- NULL\n",
    "\n",
    "S5.1@meta.data$percent.mt <- NULL\n",
    "S5.1@meta.data$DevTP <- S5.1@meta.data$developmental_stage\n",
    "S5.1@meta.data$developmental_stage <- NULL\n",
    "S5.1@meta.data$Strain<- S5.1@meta.data$strain\n",
    "S5.1@meta.data$strain <- NULL\n",
    "S5.1@meta.data$Tissue <- S5.1@meta.data$tissue\n",
    "S5.1@meta.data$tissue <- NULL\n",
    "\n",
    "S5.1@meta.data$Organism <- S5.1@meta.data$organism\n",
    "S5.1@meta.data$organism <- NULL\n",
    "S5.1@meta.data$Technology <- S5.1@meta.data$technology\n",
    "S5.1@meta.data$technology <- NULL"
   ]
  },
  {
   "cell_type": "code",
   "execution_count": 44,
   "id": "8aad33f7-1fae-449a-9507-4281065b4784",
   "metadata": {},
   "outputs": [
    {
     "data": {
      "text/html": [
       "<table class=\"dataframe\">\n",
       "<caption>A data.frame: 6 × 24</caption>\n",
       "<thead>\n",
       "\t<tr><th></th><th scope=col>orig.ident</th><th scope=col>nCount_RNA</th><th scope=col>nFeature_RNA</th><th scope=col>geo_accession</th><th scope=col>tissue</th><th scope=col>organism</th><th scope=col>strain</th><th scope=col>developmental_stage</th><th scope=col>instrument_model</th><th scope=col>technology</th><th scope=col>⋯</th><th scope=col>subsets_Mito_detected</th><th scope=col>subsets_Mito_percent</th><th scope=col>subsets_ERCC_sum</th><th scope=col>subsets_ERCC_detected</th><th scope=col>subsets_ERCC_percent</th><th scope=col>total</th><th scope=col>Author</th><th scope=col>RNA_snn_res.0.6</th><th scope=col>seurat_clusters</th><th scope=col>CellType</th></tr>\n",
       "\t<tr><th></th><th scope=col>&lt;fct&gt;</th><th scope=col>&lt;dbl&gt;</th><th scope=col>&lt;int&gt;</th><th scope=col>&lt;fct&gt;</th><th scope=col>&lt;fct&gt;</th><th scope=col>&lt;fct&gt;</th><th scope=col>&lt;fct&gt;</th><th scope=col>&lt;fct&gt;</th><th scope=col>&lt;fct&gt;</th><th scope=col>&lt;chr&gt;</th><th scope=col>⋯</th><th scope=col>&lt;int&gt;</th><th scope=col>&lt;dbl&gt;</th><th scope=col>&lt;dbl&gt;</th><th scope=col>&lt;int&gt;</th><th scope=col>&lt;dbl&gt;</th><th scope=col>&lt;dbl&gt;</th><th scope=col>&lt;chr&gt;</th><th scope=col>&lt;fct&gt;</th><th scope=col>&lt;fct&gt;</th><th scope=col>&lt;fct&gt;</th></tr>\n",
       "</thead>\n",
       "<tbody>\n",
       "\t<tr><th scope=row>AAACCTGAGTTAGGTA-1</th><td>SeuratProject</td><td> 4040</td><td>1658</td><td>GSM4227225</td><td>hindlimb</td><td>Mus musculus</td><td>strain: C57BL/6</td><td>developmental stage: embryonic day 13.5</td><td>Illumina NovaSeq 6000</td><td>10x 3' v2</td><td>⋯</td><td>12</td><td>4.628713</td><td>0</td><td>0</td><td>0</td><td> 4040</td><td>Guilak</td><td>2</td><td>2</td><td>Resting zone chondrocytes </td></tr>\n",
       "\t<tr><th scope=row>AAACCTGCAAAGCAAT-1</th><td>SeuratProject</td><td>13319</td><td>3498</td><td>GSM4227225</td><td>hindlimb</td><td>Mus musculus</td><td>strain: C57BL/6</td><td>developmental stage: embryonic day 13.5</td><td>Illumina NovaSeq 6000</td><td>10x 3' v2</td><td>⋯</td><td>12</td><td>4.151963</td><td>0</td><td>0</td><td>0</td><td>13319</td><td>Guilak</td><td>3</td><td>3</td><td>Tenocytes                 </td></tr>\n",
       "\t<tr><th scope=row>AAACCTGCAAGCCCAC-1</th><td>SeuratProject</td><td> 5366</td><td>1947</td><td>GSM4227225</td><td>hindlimb</td><td>Mus musculus</td><td>strain: C57BL/6</td><td>developmental stage: embryonic day 13.5</td><td>Illumina NovaSeq 6000</td><td>10x 3' v2</td><td>⋯</td><td>11</td><td>1.938129</td><td>0</td><td>0</td><td>0</td><td> 5366</td><td>Guilak</td><td>1</td><td>1</td><td>Proliferative chondrocytes</td></tr>\n",
       "\t<tr><th scope=row>AAACCTGGTAAACACA-1</th><td>SeuratProject</td><td>14969</td><td>3414</td><td>GSM4227225</td><td>hindlimb</td><td>Mus musculus</td><td>strain: C57BL/6</td><td>developmental stage: embryonic day 13.5</td><td>Illumina NovaSeq 6000</td><td>10x 3' v2</td><td>⋯</td><td>12</td><td>1.756964</td><td>0</td><td>0</td><td>0</td><td>14969</td><td>Guilak</td><td>1</td><td>1</td><td>Proliferative chondrocytes</td></tr>\n",
       "\t<tr><th scope=row>AAACCTGGTATATGAG-1</th><td>SeuratProject</td><td> 9922</td><td>2935</td><td>GSM4227225</td><td>hindlimb</td><td>Mus musculus</td><td>strain: C57BL/6</td><td>developmental stage: embryonic day 13.5</td><td>Illumina NovaSeq 6000</td><td>10x 3' v2</td><td>⋯</td><td>10</td><td>3.013505</td><td>0</td><td>0</td><td>0</td><td> 9922</td><td>Guilak</td><td>4</td><td>4</td><td>Proliferative chondrocytes</td></tr>\n",
       "\t<tr><th scope=row>AAACCTGGTTATCGGT-1</th><td>SeuratProject</td><td>10073</td><td>3420</td><td>GSM4227225</td><td>hindlimb</td><td>Mus musculus</td><td>strain: C57BL/6</td><td>developmental stage: embryonic day 13.5</td><td>Illumina NovaSeq 6000</td><td>10x 3' v2</td><td>⋯</td><td>11</td><td>2.878983</td><td>0</td><td>0</td><td>0</td><td>10073</td><td>Guilak</td><td>5</td><td>5</td><td>Proliferative chondrocytes</td></tr>\n",
       "</tbody>\n",
       "</table>\n"
      ],
      "text/latex": [
       "A data.frame: 6 × 24\n",
       "\\begin{tabular}{r|lllllllllllllllllllll}\n",
       "  & orig.ident & nCount\\_RNA & nFeature\\_RNA & geo\\_accession & tissue & organism & strain & developmental\\_stage & instrument\\_model & technology & ⋯ & subsets\\_Mito\\_detected & subsets\\_Mito\\_percent & subsets\\_ERCC\\_sum & subsets\\_ERCC\\_detected & subsets\\_ERCC\\_percent & total & Author & RNA\\_snn\\_res.0.6 & seurat\\_clusters & CellType\\\\\n",
       "  & <fct> & <dbl> & <int> & <fct> & <fct> & <fct> & <fct> & <fct> & <fct> & <chr> & ⋯ & <int> & <dbl> & <dbl> & <int> & <dbl> & <dbl> & <chr> & <fct> & <fct> & <fct>\\\\\n",
       "\\hline\n",
       "\tAAACCTGAGTTAGGTA-1 & SeuratProject &  4040 & 1658 & GSM4227225 & hindlimb & Mus musculus & strain: C57BL/6 & developmental stage: embryonic day 13.5 & Illumina NovaSeq 6000 & 10x 3' v2 & ⋯ & 12 & 4.628713 & 0 & 0 & 0 &  4040 & Guilak & 2 & 2 & Resting zone chondrocytes \\\\\n",
       "\tAAACCTGCAAAGCAAT-1 & SeuratProject & 13319 & 3498 & GSM4227225 & hindlimb & Mus musculus & strain: C57BL/6 & developmental stage: embryonic day 13.5 & Illumina NovaSeq 6000 & 10x 3' v2 & ⋯ & 12 & 4.151963 & 0 & 0 & 0 & 13319 & Guilak & 3 & 3 & Tenocytes                 \\\\\n",
       "\tAAACCTGCAAGCCCAC-1 & SeuratProject &  5366 & 1947 & GSM4227225 & hindlimb & Mus musculus & strain: C57BL/6 & developmental stage: embryonic day 13.5 & Illumina NovaSeq 6000 & 10x 3' v2 & ⋯ & 11 & 1.938129 & 0 & 0 & 0 &  5366 & Guilak & 1 & 1 & Proliferative chondrocytes\\\\\n",
       "\tAAACCTGGTAAACACA-1 & SeuratProject & 14969 & 3414 & GSM4227225 & hindlimb & Mus musculus & strain: C57BL/6 & developmental stage: embryonic day 13.5 & Illumina NovaSeq 6000 & 10x 3' v2 & ⋯ & 12 & 1.756964 & 0 & 0 & 0 & 14969 & Guilak & 1 & 1 & Proliferative chondrocytes\\\\\n",
       "\tAAACCTGGTATATGAG-1 & SeuratProject &  9922 & 2935 & GSM4227225 & hindlimb & Mus musculus & strain: C57BL/6 & developmental stage: embryonic day 13.5 & Illumina NovaSeq 6000 & 10x 3' v2 & ⋯ & 10 & 3.013505 & 0 & 0 & 0 &  9922 & Guilak & 4 & 4 & Proliferative chondrocytes\\\\\n",
       "\tAAACCTGGTTATCGGT-1 & SeuratProject & 10073 & 3420 & GSM4227225 & hindlimb & Mus musculus & strain: C57BL/6 & developmental stage: embryonic day 13.5 & Illumina NovaSeq 6000 & 10x 3' v2 & ⋯ & 11 & 2.878983 & 0 & 0 & 0 & 10073 & Guilak & 5 & 5 & Proliferative chondrocytes\\\\\n",
       "\\end{tabular}\n"
      ],
      "text/markdown": [
       "\n",
       "A data.frame: 6 × 24\n",
       "\n",
       "| <!--/--> | orig.ident &lt;fct&gt; | nCount_RNA &lt;dbl&gt; | nFeature_RNA &lt;int&gt; | geo_accession &lt;fct&gt; | tissue &lt;fct&gt; | organism &lt;fct&gt; | strain &lt;fct&gt; | developmental_stage &lt;fct&gt; | instrument_model &lt;fct&gt; | technology &lt;chr&gt; | ⋯ ⋯ | subsets_Mito_detected &lt;int&gt; | subsets_Mito_percent &lt;dbl&gt; | subsets_ERCC_sum &lt;dbl&gt; | subsets_ERCC_detected &lt;int&gt; | subsets_ERCC_percent &lt;dbl&gt; | total &lt;dbl&gt; | Author &lt;chr&gt; | RNA_snn_res.0.6 &lt;fct&gt; | seurat_clusters &lt;fct&gt; | CellType &lt;fct&gt; |\n",
       "|---|---|---|---|---|---|---|---|---|---|---|---|---|---|---|---|---|---|---|---|---|---|\n",
       "| AAACCTGAGTTAGGTA-1 | SeuratProject |  4040 | 1658 | GSM4227225 | hindlimb | Mus musculus | strain: C57BL/6 | developmental stage: embryonic day 13.5 | Illumina NovaSeq 6000 | 10x 3' v2 | ⋯ | 12 | 4.628713 | 0 | 0 | 0 |  4040 | Guilak | 2 | 2 | Resting zone chondrocytes  |\n",
       "| AAACCTGCAAAGCAAT-1 | SeuratProject | 13319 | 3498 | GSM4227225 | hindlimb | Mus musculus | strain: C57BL/6 | developmental stage: embryonic day 13.5 | Illumina NovaSeq 6000 | 10x 3' v2 | ⋯ | 12 | 4.151963 | 0 | 0 | 0 | 13319 | Guilak | 3 | 3 | Tenocytes                  |\n",
       "| AAACCTGCAAGCCCAC-1 | SeuratProject |  5366 | 1947 | GSM4227225 | hindlimb | Mus musculus | strain: C57BL/6 | developmental stage: embryonic day 13.5 | Illumina NovaSeq 6000 | 10x 3' v2 | ⋯ | 11 | 1.938129 | 0 | 0 | 0 |  5366 | Guilak | 1 | 1 | Proliferative chondrocytes |\n",
       "| AAACCTGGTAAACACA-1 | SeuratProject | 14969 | 3414 | GSM4227225 | hindlimb | Mus musculus | strain: C57BL/6 | developmental stage: embryonic day 13.5 | Illumina NovaSeq 6000 | 10x 3' v2 | ⋯ | 12 | 1.756964 | 0 | 0 | 0 | 14969 | Guilak | 1 | 1 | Proliferative chondrocytes |\n",
       "| AAACCTGGTATATGAG-1 | SeuratProject |  9922 | 2935 | GSM4227225 | hindlimb | Mus musculus | strain: C57BL/6 | developmental stage: embryonic day 13.5 | Illumina NovaSeq 6000 | 10x 3' v2 | ⋯ | 10 | 3.013505 | 0 | 0 | 0 |  9922 | Guilak | 4 | 4 | Proliferative chondrocytes |\n",
       "| AAACCTGGTTATCGGT-1 | SeuratProject | 10073 | 3420 | GSM4227225 | hindlimb | Mus musculus | strain: C57BL/6 | developmental stage: embryonic day 13.5 | Illumina NovaSeq 6000 | 10x 3' v2 | ⋯ | 11 | 2.878983 | 0 | 0 | 0 | 10073 | Guilak | 5 | 5 | Proliferative chondrocytes |\n",
       "\n"
      ],
      "text/plain": [
       "                   orig.ident    nCount_RNA nFeature_RNA geo_accession tissue  \n",
       "AAACCTGAGTTAGGTA-1 SeuratProject  4040      1658         GSM4227225    hindlimb\n",
       "AAACCTGCAAAGCAAT-1 SeuratProject 13319      3498         GSM4227225    hindlimb\n",
       "AAACCTGCAAGCCCAC-1 SeuratProject  5366      1947         GSM4227225    hindlimb\n",
       "AAACCTGGTAAACACA-1 SeuratProject 14969      3414         GSM4227225    hindlimb\n",
       "AAACCTGGTATATGAG-1 SeuratProject  9922      2935         GSM4227225    hindlimb\n",
       "AAACCTGGTTATCGGT-1 SeuratProject 10073      3420         GSM4227225    hindlimb\n",
       "                   organism     strain         \n",
       "AAACCTGAGTTAGGTA-1 Mus musculus strain: C57BL/6\n",
       "AAACCTGCAAAGCAAT-1 Mus musculus strain: C57BL/6\n",
       "AAACCTGCAAGCCCAC-1 Mus musculus strain: C57BL/6\n",
       "AAACCTGGTAAACACA-1 Mus musculus strain: C57BL/6\n",
       "AAACCTGGTATATGAG-1 Mus musculus strain: C57BL/6\n",
       "AAACCTGGTTATCGGT-1 Mus musculus strain: C57BL/6\n",
       "                   developmental_stage                    \n",
       "AAACCTGAGTTAGGTA-1 developmental stage: embryonic day 13.5\n",
       "AAACCTGCAAAGCAAT-1 developmental stage: embryonic day 13.5\n",
       "AAACCTGCAAGCCCAC-1 developmental stage: embryonic day 13.5\n",
       "AAACCTGGTAAACACA-1 developmental stage: embryonic day 13.5\n",
       "AAACCTGGTATATGAG-1 developmental stage: embryonic day 13.5\n",
       "AAACCTGGTTATCGGT-1 developmental stage: embryonic day 13.5\n",
       "                   instrument_model      technology ⋯ subsets_Mito_detected\n",
       "AAACCTGAGTTAGGTA-1 Illumina NovaSeq 6000 10x 3' v2  ⋯ 12                   \n",
       "AAACCTGCAAAGCAAT-1 Illumina NovaSeq 6000 10x 3' v2  ⋯ 12                   \n",
       "AAACCTGCAAGCCCAC-1 Illumina NovaSeq 6000 10x 3' v2  ⋯ 11                   \n",
       "AAACCTGGTAAACACA-1 Illumina NovaSeq 6000 10x 3' v2  ⋯ 12                   \n",
       "AAACCTGGTATATGAG-1 Illumina NovaSeq 6000 10x 3' v2  ⋯ 10                   \n",
       "AAACCTGGTTATCGGT-1 Illumina NovaSeq 6000 10x 3' v2  ⋯ 11                   \n",
       "                   subsets_Mito_percent subsets_ERCC_sum subsets_ERCC_detected\n",
       "AAACCTGAGTTAGGTA-1 4.628713             0                0                    \n",
       "AAACCTGCAAAGCAAT-1 4.151963             0                0                    \n",
       "AAACCTGCAAGCCCAC-1 1.938129             0                0                    \n",
       "AAACCTGGTAAACACA-1 1.756964             0                0                    \n",
       "AAACCTGGTATATGAG-1 3.013505             0                0                    \n",
       "AAACCTGGTTATCGGT-1 2.878983             0                0                    \n",
       "                   subsets_ERCC_percent total Author RNA_snn_res.0.6\n",
       "AAACCTGAGTTAGGTA-1 0                     4040 Guilak 2              \n",
       "AAACCTGCAAAGCAAT-1 0                    13319 Guilak 3              \n",
       "AAACCTGCAAGCCCAC-1 0                     5366 Guilak 1              \n",
       "AAACCTGGTAAACACA-1 0                    14969 Guilak 1              \n",
       "AAACCTGGTATATGAG-1 0                     9922 Guilak 4              \n",
       "AAACCTGGTTATCGGT-1 0                    10073 Guilak 5              \n",
       "                   seurat_clusters CellType                  \n",
       "AAACCTGAGTTAGGTA-1 2               Resting zone chondrocytes \n",
       "AAACCTGCAAAGCAAT-1 3               Tenocytes                 \n",
       "AAACCTGCAAGCCCAC-1 1               Proliferative chondrocytes\n",
       "AAACCTGGTAAACACA-1 1               Proliferative chondrocytes\n",
       "AAACCTGGTATATGAG-1 4               Proliferative chondrocytes\n",
       "AAACCTGGTTATCGGT-1 5               Proliferative chondrocytes"
      ]
     },
     "metadata": {},
     "output_type": "display_data"
    }
   ],
   "source": [
    "head(S5.2@meta.data)"
   ]
  },
  {
   "cell_type": "code",
   "execution_count": 45,
   "id": "0466ce8c-4cd1-41d0-9460-423bd2015335",
   "metadata": {},
   "outputs": [],
   "source": [
    "S5.2@meta.data$Study = 'GSE142425'\n",
    "S5.2@meta.data$Batch = 'GSM4227225'\n",
    "S5.2@meta.data$Author = 'Guilak'\n",
    "S5.2@meta.data$`detected.1`<- NULL\n",
    "S5.2@meta.data$`subsets_ERCC_detected.1` <- NULL\n",
    "S5.2@meta.data$`subsets_ERCC_percent.1` <- NULL\n",
    "S5.2@meta.data$`subsets_ERCC_sum.1` <- NULL\n",
    "S5.2@meta.data$`subsets_Mito_detected.1` <- NULL\n",
    "S5.2@meta.data$`subsets_Mito_percent.1` <- NULL\n",
    "S5.2@meta.data$`subsets_Mito_sum.1` <- NULL\n",
    "S5.2@meta.data$`sum.1` <- NULL\n",
    "S5.2@meta.data$`total.1` <- NULL\n",
    "S5.2@meta.data$detected <- NULL\n",
    "S5.2@meta.data$ident <- NULL\n",
    "S5.2@meta.data$Instrument <- NULL\n",
    "S5.2@meta.data$orig.ident <- NULL\n",
    "S5.2@meta.data$RNA_snn_res.0.065 <- NULL\n",
    "S5.2@meta.data$Sample_Name <- NULL\n",
    "S5.2@meta.data$seurat_clusters <- NULL\n",
    "S5.2@meta.data$subsets_ERCC_detected <- NULL\n",
    "S5.2@meta.data$subsets_ERCC_percent <- NULL\n",
    "S5.2@meta.data$subsets_ERCC_sum <- NULL\n",
    "S5.2@meta.data$sum <- NULL\n",
    "S5.2@meta.data$total <- NULL\n",
    "S5.2@meta.data$subsets_Mito_detected<- NULL\n",
    "S5.2@meta.data$subsets_Mito_sum<- NULL\n",
    "S5.2@meta.data$subsets_Mito_percent <- NULL\n",
    "S5.2@meta.data$source_name <- NULL\n",
    "\n",
    "S5.2@meta.data$percent.mt <- NULL\n",
    "S5.2@meta.data$DevTP <- S5.2@meta.data$developmental_stage\n",
    "S5.2@meta.data$developmental_stage <- NULL\n",
    "S5.2@meta.data$Strain<- S5.2@meta.data$strain\n",
    "S5.2@meta.data$strain <- NULL\n",
    "S5.2@meta.data$Tissue <- S5.2@meta.data$tissue\n",
    "S5.2@meta.data$tissue <- NULL\n",
    "\n",
    "S5.2@meta.data$Organism <- S5.2@meta.data$organism\n",
    "S5.2@meta.data$organism <- NULL\n",
    "S5.2@meta.data$Technology <- S5.2@meta.data$technology\n",
    "S5.2@meta.data$technology <- NULL\n",
    "\n",
    "S5.2@meta.data$`detected.1`<- NULL\n",
    "S5.2@meta.data$`RNA_snn_res.0.6`<- NULL\n",
    "S5.2@meta.data$geo_accession<- NULL\n",
    "S5.2@meta.data$instrument_model<- NULL"
   ]
  },
  {
   "cell_type": "code",
   "execution_count": 46,
   "id": "6840c789-ff68-4f61-a572-7a055451cb45",
   "metadata": {},
   "outputs": [
    {
     "data": {
      "text/html": [
       "<table class=\"dataframe\">\n",
       "<caption>A data.frame: 6 × 24</caption>\n",
       "<thead>\n",
       "\t<tr><th></th><th scope=col>orig.ident</th><th scope=col>nCount_RNA</th><th scope=col>nFeature_RNA</th><th scope=col>geo_accession</th><th scope=col>tissue</th><th scope=col>organism</th><th scope=col>strain</th><th scope=col>developmental_stage</th><th scope=col>instrument_model</th><th scope=col>technology</th><th scope=col>⋯</th><th scope=col>subsets_Mito_detected</th><th scope=col>subsets_Mito_percent</th><th scope=col>subsets_ERCC_sum</th><th scope=col>subsets_ERCC_detected</th><th scope=col>subsets_ERCC_percent</th><th scope=col>total</th><th scope=col>Author</th><th scope=col>RNA_snn_res.0.6</th><th scope=col>seurat_clusters</th><th scope=col>CellType</th></tr>\n",
       "\t<tr><th></th><th scope=col>&lt;fct&gt;</th><th scope=col>&lt;dbl&gt;</th><th scope=col>&lt;int&gt;</th><th scope=col>&lt;fct&gt;</th><th scope=col>&lt;fct&gt;</th><th scope=col>&lt;fct&gt;</th><th scope=col>&lt;fct&gt;</th><th scope=col>&lt;fct&gt;</th><th scope=col>&lt;fct&gt;</th><th scope=col>&lt;chr&gt;</th><th scope=col>⋯</th><th scope=col>&lt;int&gt;</th><th scope=col>&lt;dbl&gt;</th><th scope=col>&lt;dbl&gt;</th><th scope=col>&lt;int&gt;</th><th scope=col>&lt;dbl&gt;</th><th scope=col>&lt;dbl&gt;</th><th scope=col>&lt;chr&gt;</th><th scope=col>&lt;fct&gt;</th><th scope=col>&lt;fct&gt;</th><th scope=col>&lt;fct&gt;</th></tr>\n",
       "</thead>\n",
       "<tbody>\n",
       "\t<tr><th scope=row>AAACCTGGTACTCGCG-1</th><td>SeuratProject</td><td> 5018</td><td>1691</td><td>GSM4227226</td><td>hindlimb</td><td>Mus musculus</td><td>strain: C57BL/6</td><td>developmental stage: embryonic day 15.5</td><td>Illumina NovaSeq 6000</td><td>10x 3' v2</td><td>⋯</td><td> 9</td><td>2.829813</td><td>0</td><td>0</td><td>0</td><td> 5018</td><td>Guilak</td><td>9</td><td>9</td><td>Hypertrophic chondrocytes </td></tr>\n",
       "\t<tr><th scope=row>AAACCTGGTCGCGAAA-1</th><td>SeuratProject</td><td>13007</td><td>3276</td><td>GSM4227226</td><td>hindlimb</td><td>Mus musculus</td><td>strain: C57BL/6</td><td>developmental stage: embryonic day 15.5</td><td>Illumina NovaSeq 6000</td><td>10x 3' v2</td><td>⋯</td><td>13</td><td>2.975321</td><td>0</td><td>0</td><td>0</td><td>13007</td><td>Guilak</td><td>1</td><td>1</td><td>Proliferative chondrocytes</td></tr>\n",
       "\t<tr><th scope=row>AAACGGGAGTGTACTC-1</th><td>SeuratProject</td><td>11174</td><td>2991</td><td>GSM4227226</td><td>hindlimb</td><td>Mus musculus</td><td>strain: C57BL/6</td><td>developmental stage: embryonic day 15.5</td><td>Illumina NovaSeq 6000</td><td>10x 3' v2</td><td>⋯</td><td>11</td><td>3.051727</td><td>0</td><td>0</td><td>0</td><td>11174</td><td>Guilak</td><td>1</td><td>1</td><td>Proliferative chondrocytes</td></tr>\n",
       "\t<tr><th scope=row>AAACGGGCACAAGTAA-1</th><td>SeuratProject</td><td> 5745</td><td>2365</td><td>GSM4227226</td><td>hindlimb</td><td>Mus musculus</td><td>strain: C57BL/6</td><td>developmental stage: embryonic day 15.5</td><td>Illumina NovaSeq 6000</td><td>10x 3' v2</td><td>⋯</td><td>11</td><td>3.864230</td><td>0</td><td>0</td><td>0</td><td> 5745</td><td>Guilak</td><td>3</td><td>3</td><td>Chondroprogenitors        </td></tr>\n",
       "\t<tr><th scope=row>AAACGGGCAGGATTGG-1</th><td>SeuratProject</td><td>11282</td><td>2873</td><td>GSM4227226</td><td>hindlimb</td><td>Mus musculus</td><td>strain: C57BL/6</td><td>developmental stage: embryonic day 15.5</td><td>Illumina NovaSeq 6000</td><td>10x 3' v2</td><td>⋯</td><td>12</td><td>2.490693</td><td>0</td><td>0</td><td>0</td><td>11282</td><td>Guilak</td><td>0</td><td>0</td><td>Resting zone chondrocytes </td></tr>\n",
       "\t<tr><th scope=row>AAAGATGAGAGTAAGG-1</th><td>SeuratProject</td><td> 6832</td><td>2345</td><td>GSM4227226</td><td>hindlimb</td><td>Mus musculus</td><td>strain: C57BL/6</td><td>developmental stage: embryonic day 15.5</td><td>Illumina NovaSeq 6000</td><td>10x 3' v2</td><td>⋯</td><td>11</td><td>2.254098</td><td>0</td><td>0</td><td>0</td><td> 6832</td><td>Guilak</td><td>2</td><td>2</td><td>Distal limb mesenchyme    </td></tr>\n",
       "</tbody>\n",
       "</table>\n"
      ],
      "text/latex": [
       "A data.frame: 6 × 24\n",
       "\\begin{tabular}{r|lllllllllllllllllllll}\n",
       "  & orig.ident & nCount\\_RNA & nFeature\\_RNA & geo\\_accession & tissue & organism & strain & developmental\\_stage & instrument\\_model & technology & ⋯ & subsets\\_Mito\\_detected & subsets\\_Mito\\_percent & subsets\\_ERCC\\_sum & subsets\\_ERCC\\_detected & subsets\\_ERCC\\_percent & total & Author & RNA\\_snn\\_res.0.6 & seurat\\_clusters & CellType\\\\\n",
       "  & <fct> & <dbl> & <int> & <fct> & <fct> & <fct> & <fct> & <fct> & <fct> & <chr> & ⋯ & <int> & <dbl> & <dbl> & <int> & <dbl> & <dbl> & <chr> & <fct> & <fct> & <fct>\\\\\n",
       "\\hline\n",
       "\tAAACCTGGTACTCGCG-1 & SeuratProject &  5018 & 1691 & GSM4227226 & hindlimb & Mus musculus & strain: C57BL/6 & developmental stage: embryonic day 15.5 & Illumina NovaSeq 6000 & 10x 3' v2 & ⋯ &  9 & 2.829813 & 0 & 0 & 0 &  5018 & Guilak & 9 & 9 & Hypertrophic chondrocytes \\\\\n",
       "\tAAACCTGGTCGCGAAA-1 & SeuratProject & 13007 & 3276 & GSM4227226 & hindlimb & Mus musculus & strain: C57BL/6 & developmental stage: embryonic day 15.5 & Illumina NovaSeq 6000 & 10x 3' v2 & ⋯ & 13 & 2.975321 & 0 & 0 & 0 & 13007 & Guilak & 1 & 1 & Proliferative chondrocytes\\\\\n",
       "\tAAACGGGAGTGTACTC-1 & SeuratProject & 11174 & 2991 & GSM4227226 & hindlimb & Mus musculus & strain: C57BL/6 & developmental stage: embryonic day 15.5 & Illumina NovaSeq 6000 & 10x 3' v2 & ⋯ & 11 & 3.051727 & 0 & 0 & 0 & 11174 & Guilak & 1 & 1 & Proliferative chondrocytes\\\\\n",
       "\tAAACGGGCACAAGTAA-1 & SeuratProject &  5745 & 2365 & GSM4227226 & hindlimb & Mus musculus & strain: C57BL/6 & developmental stage: embryonic day 15.5 & Illumina NovaSeq 6000 & 10x 3' v2 & ⋯ & 11 & 3.864230 & 0 & 0 & 0 &  5745 & Guilak & 3 & 3 & Chondroprogenitors        \\\\\n",
       "\tAAACGGGCAGGATTGG-1 & SeuratProject & 11282 & 2873 & GSM4227226 & hindlimb & Mus musculus & strain: C57BL/6 & developmental stage: embryonic day 15.5 & Illumina NovaSeq 6000 & 10x 3' v2 & ⋯ & 12 & 2.490693 & 0 & 0 & 0 & 11282 & Guilak & 0 & 0 & Resting zone chondrocytes \\\\\n",
       "\tAAAGATGAGAGTAAGG-1 & SeuratProject &  6832 & 2345 & GSM4227226 & hindlimb & Mus musculus & strain: C57BL/6 & developmental stage: embryonic day 15.5 & Illumina NovaSeq 6000 & 10x 3' v2 & ⋯ & 11 & 2.254098 & 0 & 0 & 0 &  6832 & Guilak & 2 & 2 & Distal limb mesenchyme    \\\\\n",
       "\\end{tabular}\n"
      ],
      "text/markdown": [
       "\n",
       "A data.frame: 6 × 24\n",
       "\n",
       "| <!--/--> | orig.ident &lt;fct&gt; | nCount_RNA &lt;dbl&gt; | nFeature_RNA &lt;int&gt; | geo_accession &lt;fct&gt; | tissue &lt;fct&gt; | organism &lt;fct&gt; | strain &lt;fct&gt; | developmental_stage &lt;fct&gt; | instrument_model &lt;fct&gt; | technology &lt;chr&gt; | ⋯ ⋯ | subsets_Mito_detected &lt;int&gt; | subsets_Mito_percent &lt;dbl&gt; | subsets_ERCC_sum &lt;dbl&gt; | subsets_ERCC_detected &lt;int&gt; | subsets_ERCC_percent &lt;dbl&gt; | total &lt;dbl&gt; | Author &lt;chr&gt; | RNA_snn_res.0.6 &lt;fct&gt; | seurat_clusters &lt;fct&gt; | CellType &lt;fct&gt; |\n",
       "|---|---|---|---|---|---|---|---|---|---|---|---|---|---|---|---|---|---|---|---|---|---|\n",
       "| AAACCTGGTACTCGCG-1 | SeuratProject |  5018 | 1691 | GSM4227226 | hindlimb | Mus musculus | strain: C57BL/6 | developmental stage: embryonic day 15.5 | Illumina NovaSeq 6000 | 10x 3' v2 | ⋯ |  9 | 2.829813 | 0 | 0 | 0 |  5018 | Guilak | 9 | 9 | Hypertrophic chondrocytes  |\n",
       "| AAACCTGGTCGCGAAA-1 | SeuratProject | 13007 | 3276 | GSM4227226 | hindlimb | Mus musculus | strain: C57BL/6 | developmental stage: embryonic day 15.5 | Illumina NovaSeq 6000 | 10x 3' v2 | ⋯ | 13 | 2.975321 | 0 | 0 | 0 | 13007 | Guilak | 1 | 1 | Proliferative chondrocytes |\n",
       "| AAACGGGAGTGTACTC-1 | SeuratProject | 11174 | 2991 | GSM4227226 | hindlimb | Mus musculus | strain: C57BL/6 | developmental stage: embryonic day 15.5 | Illumina NovaSeq 6000 | 10x 3' v2 | ⋯ | 11 | 3.051727 | 0 | 0 | 0 | 11174 | Guilak | 1 | 1 | Proliferative chondrocytes |\n",
       "| AAACGGGCACAAGTAA-1 | SeuratProject |  5745 | 2365 | GSM4227226 | hindlimb | Mus musculus | strain: C57BL/6 | developmental stage: embryonic day 15.5 | Illumina NovaSeq 6000 | 10x 3' v2 | ⋯ | 11 | 3.864230 | 0 | 0 | 0 |  5745 | Guilak | 3 | 3 | Chondroprogenitors         |\n",
       "| AAACGGGCAGGATTGG-1 | SeuratProject | 11282 | 2873 | GSM4227226 | hindlimb | Mus musculus | strain: C57BL/6 | developmental stage: embryonic day 15.5 | Illumina NovaSeq 6000 | 10x 3' v2 | ⋯ | 12 | 2.490693 | 0 | 0 | 0 | 11282 | Guilak | 0 | 0 | Resting zone chondrocytes  |\n",
       "| AAAGATGAGAGTAAGG-1 | SeuratProject |  6832 | 2345 | GSM4227226 | hindlimb | Mus musculus | strain: C57BL/6 | developmental stage: embryonic day 15.5 | Illumina NovaSeq 6000 | 10x 3' v2 | ⋯ | 11 | 2.254098 | 0 | 0 | 0 |  6832 | Guilak | 2 | 2 | Distal limb mesenchyme     |\n",
       "\n"
      ],
      "text/plain": [
       "                   orig.ident    nCount_RNA nFeature_RNA geo_accession tissue  \n",
       "AAACCTGGTACTCGCG-1 SeuratProject  5018      1691         GSM4227226    hindlimb\n",
       "AAACCTGGTCGCGAAA-1 SeuratProject 13007      3276         GSM4227226    hindlimb\n",
       "AAACGGGAGTGTACTC-1 SeuratProject 11174      2991         GSM4227226    hindlimb\n",
       "AAACGGGCACAAGTAA-1 SeuratProject  5745      2365         GSM4227226    hindlimb\n",
       "AAACGGGCAGGATTGG-1 SeuratProject 11282      2873         GSM4227226    hindlimb\n",
       "AAAGATGAGAGTAAGG-1 SeuratProject  6832      2345         GSM4227226    hindlimb\n",
       "                   organism     strain         \n",
       "AAACCTGGTACTCGCG-1 Mus musculus strain: C57BL/6\n",
       "AAACCTGGTCGCGAAA-1 Mus musculus strain: C57BL/6\n",
       "AAACGGGAGTGTACTC-1 Mus musculus strain: C57BL/6\n",
       "AAACGGGCACAAGTAA-1 Mus musculus strain: C57BL/6\n",
       "AAACGGGCAGGATTGG-1 Mus musculus strain: C57BL/6\n",
       "AAAGATGAGAGTAAGG-1 Mus musculus strain: C57BL/6\n",
       "                   developmental_stage                    \n",
       "AAACCTGGTACTCGCG-1 developmental stage: embryonic day 15.5\n",
       "AAACCTGGTCGCGAAA-1 developmental stage: embryonic day 15.5\n",
       "AAACGGGAGTGTACTC-1 developmental stage: embryonic day 15.5\n",
       "AAACGGGCACAAGTAA-1 developmental stage: embryonic day 15.5\n",
       "AAACGGGCAGGATTGG-1 developmental stage: embryonic day 15.5\n",
       "AAAGATGAGAGTAAGG-1 developmental stage: embryonic day 15.5\n",
       "                   instrument_model      technology ⋯ subsets_Mito_detected\n",
       "AAACCTGGTACTCGCG-1 Illumina NovaSeq 6000 10x 3' v2  ⋯  9                   \n",
       "AAACCTGGTCGCGAAA-1 Illumina NovaSeq 6000 10x 3' v2  ⋯ 13                   \n",
       "AAACGGGAGTGTACTC-1 Illumina NovaSeq 6000 10x 3' v2  ⋯ 11                   \n",
       "AAACGGGCACAAGTAA-1 Illumina NovaSeq 6000 10x 3' v2  ⋯ 11                   \n",
       "AAACGGGCAGGATTGG-1 Illumina NovaSeq 6000 10x 3' v2  ⋯ 12                   \n",
       "AAAGATGAGAGTAAGG-1 Illumina NovaSeq 6000 10x 3' v2  ⋯ 11                   \n",
       "                   subsets_Mito_percent subsets_ERCC_sum subsets_ERCC_detected\n",
       "AAACCTGGTACTCGCG-1 2.829813             0                0                    \n",
       "AAACCTGGTCGCGAAA-1 2.975321             0                0                    \n",
       "AAACGGGAGTGTACTC-1 3.051727             0                0                    \n",
       "AAACGGGCACAAGTAA-1 3.864230             0                0                    \n",
       "AAACGGGCAGGATTGG-1 2.490693             0                0                    \n",
       "AAAGATGAGAGTAAGG-1 2.254098             0                0                    \n",
       "                   subsets_ERCC_percent total Author RNA_snn_res.0.6\n",
       "AAACCTGGTACTCGCG-1 0                     5018 Guilak 9              \n",
       "AAACCTGGTCGCGAAA-1 0                    13007 Guilak 1              \n",
       "AAACGGGAGTGTACTC-1 0                    11174 Guilak 1              \n",
       "AAACGGGCACAAGTAA-1 0                     5745 Guilak 3              \n",
       "AAACGGGCAGGATTGG-1 0                    11282 Guilak 0              \n",
       "AAAGATGAGAGTAAGG-1 0                     6832 Guilak 2              \n",
       "                   seurat_clusters CellType                  \n",
       "AAACCTGGTACTCGCG-1 9               Hypertrophic chondrocytes \n",
       "AAACCTGGTCGCGAAA-1 1               Proliferative chondrocytes\n",
       "AAACGGGAGTGTACTC-1 1               Proliferative chondrocytes\n",
       "AAACGGGCACAAGTAA-1 3               Chondroprogenitors        \n",
       "AAACGGGCAGGATTGG-1 0               Resting zone chondrocytes \n",
       "AAAGATGAGAGTAAGG-1 2               Distal limb mesenchyme    "
      ]
     },
     "metadata": {},
     "output_type": "display_data"
    }
   ],
   "source": [
    "head(S5.3@meta.data)"
   ]
  },
  {
   "cell_type": "code",
   "execution_count": 47,
   "id": "63fe7d91-4b30-4f18-882d-8b8b59bb185d",
   "metadata": {},
   "outputs": [],
   "source": [
    "S5.3@meta.data$Study = 'GSE142425'\n",
    "S5.3@meta.data$Batch = 'GSM4227226'\n",
    "S5.3@meta.data$Author = 'Guilak'\n",
    "S5.3@meta.data$`detected.1`<- NULL\n",
    "S5.3@meta.data$`subsets_ERCC_detected.1` <- NULL\n",
    "S5.3@meta.data$`subsets_ERCC_percent.1` <- NULL\n",
    "S5.3@meta.data$`subsets_ERCC_sum.1` <- NULL\n",
    "S5.3@meta.data$`subsets_Mito_detected.1` <- NULL\n",
    "S5.3@meta.data$`subsets_Mito_percent.1` <- NULL\n",
    "S5.3@meta.data$`subsets_Mito_sum.1` <- NULL\n",
    "S5.3@meta.data$`sum.1` <- NULL\n",
    "S5.3@meta.data$`total.1` <- NULL\n",
    "S5.3@meta.data$detected <- NULL\n",
    "S5.3@meta.data$ident <- NULL\n",
    "S5.3@meta.data$Instrument <- NULL\n",
    "S5.3@meta.data$orig.ident <- NULL\n",
    "S5.3@meta.data$RNA_snn_res.0.065 <- NULL\n",
    "S5.3@meta.data$Sample_Name <- NULL\n",
    "S5.3@meta.data$seurat_clusters <- NULL\n",
    "S5.3@meta.data$subsets_ERCC_detected <- NULL\n",
    "S5.3@meta.data$subsets_ERCC_percent <- NULL\n",
    "S5.3@meta.data$subsets_ERCC_sum <- NULL\n",
    "S5.3@meta.data$sum <- NULL\n",
    "S5.3@meta.data$total <- NULL\n",
    "S5.3@meta.data$subsets_Mito_detected<- NULL\n",
    "S5.3@meta.data$subsets_Mito_sum<- NULL\n",
    "S5.3@meta.data$subsets_Mito_percent <- NULL\n",
    "S5.3@meta.data$source_name <- NULL\n",
    "\n",
    "\n",
    "S5.3@meta.data$percent.mt <- NULL\n",
    "S5.3@meta.data$DevTP <- S5.3@meta.data$developmental_stage\n",
    "S5.3@meta.data$developmental_stage <- NULL\n",
    "S5.3@meta.data$Strain<- S5.3@meta.data$strain\n",
    "S5.3@meta.data$strain <- NULL\n",
    "S5.3@meta.data$Tissue <- S5.3@meta.data$tissue\n",
    "S5.3@meta.data$tissue <- NULL\n",
    "\n",
    "S5.3@meta.data$Organism <- S5.3@meta.data$organism\n",
    "S5.3@meta.data$organism <- NULL\n",
    "S5.3@meta.data$Technology <- S5.3@meta.data$technology\n",
    "S5.3@meta.data$technology <- NULL\n",
    "\n",
    "S5.3@meta.data$`detected.1`<- NULL\n",
    "S5.3@meta.data$`RNA_snn_res.0.6`<- NULL\n",
    "S5.3@meta.data$geo_accession<- NULL\n",
    "S5.3@meta.data$instrument_model<- NULL"
   ]
  },
  {
   "cell_type": "code",
   "execution_count": 48,
   "id": "5699646a-b6b1-4900-96a9-cacadb9000a8",
   "metadata": {},
   "outputs": [
    {
     "data": {
      "text/html": [
       "<table class=\"dataframe\">\n",
       "<caption>A data.frame: 6 × 24</caption>\n",
       "<thead>\n",
       "\t<tr><th></th><th scope=col>orig.ident</th><th scope=col>nCount_RNA</th><th scope=col>nFeature_RNA</th><th scope=col>geo_accession</th><th scope=col>tissue</th><th scope=col>organism</th><th scope=col>strain</th><th scope=col>developmental_stage</th><th scope=col>instrument_model</th><th scope=col>technology</th><th scope=col>⋯</th><th scope=col>subsets_Mito_detected</th><th scope=col>subsets_Mito_percent</th><th scope=col>subsets_ERCC_sum</th><th scope=col>subsets_ERCC_detected</th><th scope=col>subsets_ERCC_percent</th><th scope=col>total</th><th scope=col>Author</th><th scope=col>RNA_snn_res.0.6</th><th scope=col>seurat_clusters</th><th scope=col>CellType</th></tr>\n",
       "\t<tr><th></th><th scope=col>&lt;fct&gt;</th><th scope=col>&lt;dbl&gt;</th><th scope=col>&lt;int&gt;</th><th scope=col>&lt;fct&gt;</th><th scope=col>&lt;fct&gt;</th><th scope=col>&lt;fct&gt;</th><th scope=col>&lt;fct&gt;</th><th scope=col>&lt;fct&gt;</th><th scope=col>&lt;fct&gt;</th><th scope=col>&lt;chr&gt;</th><th scope=col>⋯</th><th scope=col>&lt;int&gt;</th><th scope=col>&lt;dbl&gt;</th><th scope=col>&lt;dbl&gt;</th><th scope=col>&lt;int&gt;</th><th scope=col>&lt;dbl&gt;</th><th scope=col>&lt;dbl&gt;</th><th scope=col>&lt;chr&gt;</th><th scope=col>&lt;fct&gt;</th><th scope=col>&lt;fct&gt;</th><th scope=col>&lt;fct&gt;</th></tr>\n",
       "</thead>\n",
       "<tbody>\n",
       "\t<tr><th scope=row>AAACCTGCAGACGCTC-1</th><td>SeuratProject</td><td>7252</td><td>2016</td><td>GSM4227227</td><td>hindlimb</td><td>Mus musculus</td><td>strain: C57BL/6</td><td>developmental stage: embryonic day 18.5</td><td>Illumina NovaSeq 6000</td><td>10x 3' v2</td><td>⋯</td><td>12</td><td>2.2200772</td><td>0</td><td>0</td><td>0</td><td>7252</td><td>Guilak</td><td>0 </td><td>0 </td><td>Resting zone chondrocytes </td></tr>\n",
       "\t<tr><th scope=row>AAACCTGGTAACGTTC-1</th><td>SeuratProject</td><td>7902</td><td>2655</td><td>GSM4227227</td><td>hindlimb</td><td>Mus musculus</td><td>strain: C57BL/6</td><td>developmental stage: embryonic day 18.5</td><td>Illumina NovaSeq 6000</td><td>10x 3' v2</td><td>⋯</td><td>12</td><td>0.7719565</td><td>0</td><td>0</td><td>0</td><td>7902</td><td>Guilak</td><td>15</td><td>15</td><td>Proliferative chondrocytes</td></tr>\n",
       "\t<tr><th scope=row>AAACCTGTCGTTACAG-1</th><td>SeuratProject</td><td>7312</td><td>2251</td><td>GSM4227227</td><td>hindlimb</td><td>Mus musculus</td><td>strain: C57BL/6</td><td>developmental stage: embryonic day 18.5</td><td>Illumina NovaSeq 6000</td><td>10x 3' v2</td><td>⋯</td><td>12</td><td>5.3610503</td><td>0</td><td>0</td><td>0</td><td>7312</td><td>Guilak</td><td>2 </td><td>2 </td><td>Embryonic skin            </td></tr>\n",
       "\t<tr><th scope=row>AAACCTGTCGTTGACA-1</th><td>SeuratProject</td><td>5603</td><td>1809</td><td>GSM4227227</td><td>hindlimb</td><td>Mus musculus</td><td>strain: C57BL/6</td><td>developmental stage: embryonic day 18.5</td><td>Illumina NovaSeq 6000</td><td>10x 3' v2</td><td>⋯</td><td>10</td><td>3.9443155</td><td>0</td><td>0</td><td>0</td><td>5603</td><td>Guilak</td><td>9 </td><td>9 </td><td>Periosteal progenitors    </td></tr>\n",
       "\t<tr><th scope=row>AAACGGGAGGGTGTGT-1</th><td>SeuratProject</td><td>7293</td><td>2045</td><td>GSM4227227</td><td>hindlimb</td><td>Mus musculus</td><td>strain: C57BL/6</td><td>developmental stage: embryonic day 18.5</td><td>Illumina NovaSeq 6000</td><td>10x 3' v2</td><td>⋯</td><td>10</td><td>2.7286439</td><td>0</td><td>0</td><td>0</td><td>7293</td><td>Guilak</td><td>3 </td><td>3 </td><td>Muscle progenitors        </td></tr>\n",
       "\t<tr><th scope=row>AAACGGGAGTGAACGC-1</th><td>SeuratProject</td><td>4092</td><td>1274</td><td>GSM4227227</td><td>hindlimb</td><td>Mus musculus</td><td>strain: C57BL/6</td><td>developmental stage: embryonic day 18.5</td><td>Illumina NovaSeq 6000</td><td>10x 3' v2</td><td>⋯</td><td>12</td><td>5.2297165</td><td>0</td><td>0</td><td>0</td><td>4092</td><td>Guilak</td><td>1 </td><td>1 </td><td>Smooth muscle cells       </td></tr>\n",
       "</tbody>\n",
       "</table>\n"
      ],
      "text/latex": [
       "A data.frame: 6 × 24\n",
       "\\begin{tabular}{r|lllllllllllllllllllll}\n",
       "  & orig.ident & nCount\\_RNA & nFeature\\_RNA & geo\\_accession & tissue & organism & strain & developmental\\_stage & instrument\\_model & technology & ⋯ & subsets\\_Mito\\_detected & subsets\\_Mito\\_percent & subsets\\_ERCC\\_sum & subsets\\_ERCC\\_detected & subsets\\_ERCC\\_percent & total & Author & RNA\\_snn\\_res.0.6 & seurat\\_clusters & CellType\\\\\n",
       "  & <fct> & <dbl> & <int> & <fct> & <fct> & <fct> & <fct> & <fct> & <fct> & <chr> & ⋯ & <int> & <dbl> & <dbl> & <int> & <dbl> & <dbl> & <chr> & <fct> & <fct> & <fct>\\\\\n",
       "\\hline\n",
       "\tAAACCTGCAGACGCTC-1 & SeuratProject & 7252 & 2016 & GSM4227227 & hindlimb & Mus musculus & strain: C57BL/6 & developmental stage: embryonic day 18.5 & Illumina NovaSeq 6000 & 10x 3' v2 & ⋯ & 12 & 2.2200772 & 0 & 0 & 0 & 7252 & Guilak & 0  & 0  & Resting zone chondrocytes \\\\\n",
       "\tAAACCTGGTAACGTTC-1 & SeuratProject & 7902 & 2655 & GSM4227227 & hindlimb & Mus musculus & strain: C57BL/6 & developmental stage: embryonic day 18.5 & Illumina NovaSeq 6000 & 10x 3' v2 & ⋯ & 12 & 0.7719565 & 0 & 0 & 0 & 7902 & Guilak & 15 & 15 & Proliferative chondrocytes\\\\\n",
       "\tAAACCTGTCGTTACAG-1 & SeuratProject & 7312 & 2251 & GSM4227227 & hindlimb & Mus musculus & strain: C57BL/6 & developmental stage: embryonic day 18.5 & Illumina NovaSeq 6000 & 10x 3' v2 & ⋯ & 12 & 5.3610503 & 0 & 0 & 0 & 7312 & Guilak & 2  & 2  & Embryonic skin            \\\\\n",
       "\tAAACCTGTCGTTGACA-1 & SeuratProject & 5603 & 1809 & GSM4227227 & hindlimb & Mus musculus & strain: C57BL/6 & developmental stage: embryonic day 18.5 & Illumina NovaSeq 6000 & 10x 3' v2 & ⋯ & 10 & 3.9443155 & 0 & 0 & 0 & 5603 & Guilak & 9  & 9  & Periosteal progenitors    \\\\\n",
       "\tAAACGGGAGGGTGTGT-1 & SeuratProject & 7293 & 2045 & GSM4227227 & hindlimb & Mus musculus & strain: C57BL/6 & developmental stage: embryonic day 18.5 & Illumina NovaSeq 6000 & 10x 3' v2 & ⋯ & 10 & 2.7286439 & 0 & 0 & 0 & 7293 & Guilak & 3  & 3  & Muscle progenitors        \\\\\n",
       "\tAAACGGGAGTGAACGC-1 & SeuratProject & 4092 & 1274 & GSM4227227 & hindlimb & Mus musculus & strain: C57BL/6 & developmental stage: embryonic day 18.5 & Illumina NovaSeq 6000 & 10x 3' v2 & ⋯ & 12 & 5.2297165 & 0 & 0 & 0 & 4092 & Guilak & 1  & 1  & Smooth muscle cells       \\\\\n",
       "\\end{tabular}\n"
      ],
      "text/markdown": [
       "\n",
       "A data.frame: 6 × 24\n",
       "\n",
       "| <!--/--> | orig.ident &lt;fct&gt; | nCount_RNA &lt;dbl&gt; | nFeature_RNA &lt;int&gt; | geo_accession &lt;fct&gt; | tissue &lt;fct&gt; | organism &lt;fct&gt; | strain &lt;fct&gt; | developmental_stage &lt;fct&gt; | instrument_model &lt;fct&gt; | technology &lt;chr&gt; | ⋯ ⋯ | subsets_Mito_detected &lt;int&gt; | subsets_Mito_percent &lt;dbl&gt; | subsets_ERCC_sum &lt;dbl&gt; | subsets_ERCC_detected &lt;int&gt; | subsets_ERCC_percent &lt;dbl&gt; | total &lt;dbl&gt; | Author &lt;chr&gt; | RNA_snn_res.0.6 &lt;fct&gt; | seurat_clusters &lt;fct&gt; | CellType &lt;fct&gt; |\n",
       "|---|---|---|---|---|---|---|---|---|---|---|---|---|---|---|---|---|---|---|---|---|---|\n",
       "| AAACCTGCAGACGCTC-1 | SeuratProject | 7252 | 2016 | GSM4227227 | hindlimb | Mus musculus | strain: C57BL/6 | developmental stage: embryonic day 18.5 | Illumina NovaSeq 6000 | 10x 3' v2 | ⋯ | 12 | 2.2200772 | 0 | 0 | 0 | 7252 | Guilak | 0  | 0  | Resting zone chondrocytes  |\n",
       "| AAACCTGGTAACGTTC-1 | SeuratProject | 7902 | 2655 | GSM4227227 | hindlimb | Mus musculus | strain: C57BL/6 | developmental stage: embryonic day 18.5 | Illumina NovaSeq 6000 | 10x 3' v2 | ⋯ | 12 | 0.7719565 | 0 | 0 | 0 | 7902 | Guilak | 15 | 15 | Proliferative chondrocytes |\n",
       "| AAACCTGTCGTTACAG-1 | SeuratProject | 7312 | 2251 | GSM4227227 | hindlimb | Mus musculus | strain: C57BL/6 | developmental stage: embryonic day 18.5 | Illumina NovaSeq 6000 | 10x 3' v2 | ⋯ | 12 | 5.3610503 | 0 | 0 | 0 | 7312 | Guilak | 2  | 2  | Embryonic skin             |\n",
       "| AAACCTGTCGTTGACA-1 | SeuratProject | 5603 | 1809 | GSM4227227 | hindlimb | Mus musculus | strain: C57BL/6 | developmental stage: embryonic day 18.5 | Illumina NovaSeq 6000 | 10x 3' v2 | ⋯ | 10 | 3.9443155 | 0 | 0 | 0 | 5603 | Guilak | 9  | 9  | Periosteal progenitors     |\n",
       "| AAACGGGAGGGTGTGT-1 | SeuratProject | 7293 | 2045 | GSM4227227 | hindlimb | Mus musculus | strain: C57BL/6 | developmental stage: embryonic day 18.5 | Illumina NovaSeq 6000 | 10x 3' v2 | ⋯ | 10 | 2.7286439 | 0 | 0 | 0 | 7293 | Guilak | 3  | 3  | Muscle progenitors         |\n",
       "| AAACGGGAGTGAACGC-1 | SeuratProject | 4092 | 1274 | GSM4227227 | hindlimb | Mus musculus | strain: C57BL/6 | developmental stage: embryonic day 18.5 | Illumina NovaSeq 6000 | 10x 3' v2 | ⋯ | 12 | 5.2297165 | 0 | 0 | 0 | 4092 | Guilak | 1  | 1  | Smooth muscle cells        |\n",
       "\n"
      ],
      "text/plain": [
       "                   orig.ident    nCount_RNA nFeature_RNA geo_accession tissue  \n",
       "AAACCTGCAGACGCTC-1 SeuratProject 7252       2016         GSM4227227    hindlimb\n",
       "AAACCTGGTAACGTTC-1 SeuratProject 7902       2655         GSM4227227    hindlimb\n",
       "AAACCTGTCGTTACAG-1 SeuratProject 7312       2251         GSM4227227    hindlimb\n",
       "AAACCTGTCGTTGACA-1 SeuratProject 5603       1809         GSM4227227    hindlimb\n",
       "AAACGGGAGGGTGTGT-1 SeuratProject 7293       2045         GSM4227227    hindlimb\n",
       "AAACGGGAGTGAACGC-1 SeuratProject 4092       1274         GSM4227227    hindlimb\n",
       "                   organism     strain         \n",
       "AAACCTGCAGACGCTC-1 Mus musculus strain: C57BL/6\n",
       "AAACCTGGTAACGTTC-1 Mus musculus strain: C57BL/6\n",
       "AAACCTGTCGTTACAG-1 Mus musculus strain: C57BL/6\n",
       "AAACCTGTCGTTGACA-1 Mus musculus strain: C57BL/6\n",
       "AAACGGGAGGGTGTGT-1 Mus musculus strain: C57BL/6\n",
       "AAACGGGAGTGAACGC-1 Mus musculus strain: C57BL/6\n",
       "                   developmental_stage                    \n",
       "AAACCTGCAGACGCTC-1 developmental stage: embryonic day 18.5\n",
       "AAACCTGGTAACGTTC-1 developmental stage: embryonic day 18.5\n",
       "AAACCTGTCGTTACAG-1 developmental stage: embryonic day 18.5\n",
       "AAACCTGTCGTTGACA-1 developmental stage: embryonic day 18.5\n",
       "AAACGGGAGGGTGTGT-1 developmental stage: embryonic day 18.5\n",
       "AAACGGGAGTGAACGC-1 developmental stage: embryonic day 18.5\n",
       "                   instrument_model      technology ⋯ subsets_Mito_detected\n",
       "AAACCTGCAGACGCTC-1 Illumina NovaSeq 6000 10x 3' v2  ⋯ 12                   \n",
       "AAACCTGGTAACGTTC-1 Illumina NovaSeq 6000 10x 3' v2  ⋯ 12                   \n",
       "AAACCTGTCGTTACAG-1 Illumina NovaSeq 6000 10x 3' v2  ⋯ 12                   \n",
       "AAACCTGTCGTTGACA-1 Illumina NovaSeq 6000 10x 3' v2  ⋯ 10                   \n",
       "AAACGGGAGGGTGTGT-1 Illumina NovaSeq 6000 10x 3' v2  ⋯ 10                   \n",
       "AAACGGGAGTGAACGC-1 Illumina NovaSeq 6000 10x 3' v2  ⋯ 12                   \n",
       "                   subsets_Mito_percent subsets_ERCC_sum subsets_ERCC_detected\n",
       "AAACCTGCAGACGCTC-1 2.2200772            0                0                    \n",
       "AAACCTGGTAACGTTC-1 0.7719565            0                0                    \n",
       "AAACCTGTCGTTACAG-1 5.3610503            0                0                    \n",
       "AAACCTGTCGTTGACA-1 3.9443155            0                0                    \n",
       "AAACGGGAGGGTGTGT-1 2.7286439            0                0                    \n",
       "AAACGGGAGTGAACGC-1 5.2297165            0                0                    \n",
       "                   subsets_ERCC_percent total Author RNA_snn_res.0.6\n",
       "AAACCTGCAGACGCTC-1 0                    7252  Guilak 0              \n",
       "AAACCTGGTAACGTTC-1 0                    7902  Guilak 15             \n",
       "AAACCTGTCGTTACAG-1 0                    7312  Guilak 2              \n",
       "AAACCTGTCGTTGACA-1 0                    5603  Guilak 9              \n",
       "AAACGGGAGGGTGTGT-1 0                    7293  Guilak 3              \n",
       "AAACGGGAGTGAACGC-1 0                    4092  Guilak 1              \n",
       "                   seurat_clusters CellType                  \n",
       "AAACCTGCAGACGCTC-1 0               Resting zone chondrocytes \n",
       "AAACCTGGTAACGTTC-1 15              Proliferative chondrocytes\n",
       "AAACCTGTCGTTACAG-1 2               Embryonic skin            \n",
       "AAACCTGTCGTTGACA-1 9               Periosteal progenitors    \n",
       "AAACGGGAGGGTGTGT-1 3               Muscle progenitors        \n",
       "AAACGGGAGTGAACGC-1 1               Smooth muscle cells       "
      ]
     },
     "metadata": {},
     "output_type": "display_data"
    }
   ],
   "source": [
    "head(S5.4@meta.data)"
   ]
  },
  {
   "cell_type": "code",
   "execution_count": 49,
   "id": "bf52fd02-eb6f-403b-9f6b-84fd96e0c833",
   "metadata": {},
   "outputs": [],
   "source": [
    "S5.4@meta.data$Study = 'GSE142425'\n",
    "S5.4@meta.data$Batch = 'GSM4227227'\n",
    "S5.4@meta.data$Author = 'Guilak'\n",
    "S5.4@meta.data$`detected.1`<- NULL\n",
    "S5.4@meta.data$`subsets_ERCC_detected.1` <- NULL\n",
    "S5.4@meta.data$`subsets_ERCC_percent.1` <- NULL\n",
    "S5.4@meta.data$`subsets_ERCC_sum.1` <- NULL\n",
    "S5.4@meta.data$`subsets_Mito_detected.1` <- NULL\n",
    "S5.4@meta.data$`subsets_Mito_percent.1` <- NULL\n",
    "S5.4@meta.data$`subsets_Mito_sum.1` <- NULL\n",
    "S5.4@meta.data$`sum.1` <- NULL\n",
    "S5.4@meta.data$`total.1` <- NULL\n",
    "S5.4@meta.data$detected <- NULL\n",
    "S5.4@meta.data$ident <- NULL\n",
    "S5.4@meta.data$Instrument <- NULL\n",
    "S5.4@meta.data$orig.ident <- NULL\n",
    "S5.4@meta.data$RNA_snn_res.0.065 <- NULL\n",
    "S5.4@meta.data$Sample_Name <- NULL\n",
    "S5.4@meta.data$seurat_clusters <- NULL\n",
    "S5.4@meta.data$subsets_ERCC_detected <- NULL\n",
    "S5.4@meta.data$subsets_ERCC_percent <- NULL\n",
    "S5.4@meta.data$subsets_ERCC_sum <- NULL\n",
    "S5.4@meta.data$sum <- NULL\n",
    "S5.4@meta.data$total <- NULL\n",
    "S5.4@meta.data$subsets_Mito_detected<- NULL\n",
    "S5.4@meta.data$subsets_Mito_sum<- NULL\n",
    "S5.4@meta.data$subsets_Mito_percent <- NULL\n",
    "S5.4@meta.data$source_name <- NULL\n",
    "S5.4@meta.data$percent.mt <- NULL\n",
    "\n",
    "S5.4@meta.data$percent.mt <- NULL\n",
    "S5.4@meta.data$DevTP <- S5.4@meta.data$developmental_stage\n",
    "S5.4@meta.data$developmental_stage <- NULL\n",
    "S5.4@meta.data$Strain<- S5.4@meta.data$strain\n",
    "S5.4@meta.data$strain <- NULL\n",
    "S5.4@meta.data$Tissue <- S5.4@meta.data$tissue\n",
    "S5.4@meta.data$tissue <- NULL\n",
    "\n",
    "S5.4@meta.data$Organism <- S5.4@meta.data$organism\n",
    "S5.4@meta.data$organism <- NULL\n",
    "S5.4@meta.data$Technology <- S5.4@meta.data$technology\n",
    "S5.4@meta.data$technology <- NULL\n",
    "\n",
    "S5.4@meta.data$`detected.1`<- NULL\n",
    "S5.4@meta.data$`RNA_snn_res.0.6`<- NULL\n",
    "S5.4@meta.data$geo_accession<- NULL\n",
    "S5.4@meta.data$instrument_model<- NULL"
   ]
  },
  {
   "cell_type": "code",
   "execution_count": 50,
   "id": "cc9d6dcc-d162-489a-a048-f7b77ba82307",
   "metadata": {},
   "outputs": [
    {
     "data": {
      "text/html": [
       "<table class=\"dataframe\">\n",
       "<caption>A data.frame: 6 × 33</caption>\n",
       "<thead>\n",
       "\t<tr><th></th><th scope=col>orig.ident</th><th scope=col>nCount_RNA</th><th scope=col>nFeature_RNA</th><th scope=col>Sample_Name</th><th scope=col>Instrument</th><th scope=col>Organism</th><th scope=col>Developmental_stage</th><th scope=col>source_name</th><th scope=col>STRAIN</th><th scope=col>Tissue</th><th scope=col>⋯</th><th scope=col>subsets_Mito_sum.1</th><th scope=col>subsets_Mito_detected.1</th><th scope=col>subsets_Mito_percent.1</th><th scope=col>subsets_ERCC_sum.1</th><th scope=col>subsets_ERCC_detected.1</th><th scope=col>subsets_ERCC_percent.1</th><th scope=col>total.1</th><th scope=col>RNA_snn_res.0.065</th><th scope=col>seurat_clusters</th><th scope=col>CellType</th></tr>\n",
       "\t<tr><th></th><th scope=col>&lt;fct&gt;</th><th scope=col>&lt;dbl&gt;</th><th scope=col>&lt;int&gt;</th><th scope=col>&lt;chr&gt;</th><th scope=col>&lt;chr&gt;</th><th scope=col>&lt;chr&gt;</th><th scope=col>&lt;chr&gt;</th><th scope=col>&lt;chr&gt;</th><th scope=col>&lt;chr&gt;</th><th scope=col>&lt;chr&gt;</th><th scope=col>⋯</th><th scope=col>&lt;dbl&gt;</th><th scope=col>&lt;int&gt;</th><th scope=col>&lt;dbl&gt;</th><th scope=col>&lt;dbl&gt;</th><th scope=col>&lt;int&gt;</th><th scope=col>&lt;dbl&gt;</th><th scope=col>&lt;dbl&gt;</th><th scope=col>&lt;fct&gt;</th><th scope=col>&lt;fct&gt;</th><th scope=col>&lt;fct&gt;</th></tr>\n",
       "</thead>\n",
       "<tbody>\n",
       "\t<tr><th scope=row>AAACCCACATAATGCC-1</th><td>SeuratProject</td><td>15633</td><td>4635</td><td>GSM4811354</td><td>Illumina NovaSeq 6000</td><td>Mus musculus</td><td>embryonic day E10.5</td><td>Forelimb bud</td><td>C57BL/6X129</td><td>Forelimb bud</td><td>⋯</td><td> 676</td><td>10</td><td>4.324186</td><td>0</td><td>0</td><td>0</td><td>15633</td><td>0</td><td>0</td><td>Chondroprogenitors          </td></tr>\n",
       "\t<tr><th scope=row>AAACCCAGTCACAGTT-1</th><td>SeuratProject</td><td>21347</td><td>5605</td><td>GSM4811354</td><td>Illumina NovaSeq 6000</td><td>Mus musculus</td><td>embryonic day E10.5</td><td>Forelimb bud</td><td>C57BL/6X129</td><td>Forelimb bud</td><td>⋯</td><td> 938</td><td>13</td><td>4.394060</td><td>0</td><td>0</td><td>0</td><td>21347</td><td>0</td><td>0</td><td>ZPA                         </td></tr>\n",
       "\t<tr><th scope=row>AAACCCAGTTAGAAAC-1</th><td>SeuratProject</td><td>61289</td><td>8534</td><td>GSM4811354</td><td>Illumina NovaSeq 6000</td><td>Mus musculus</td><td>embryonic day E10.5</td><td>Forelimb bud</td><td>C57BL/6X129</td><td>Forelimb bud</td><td>⋯</td><td>2182</td><td>13</td><td>3.560182</td><td>0</td><td>0</td><td>0</td><td>61289</td><td>0</td><td>0</td><td>Proximal limb mesenchyme    </td></tr>\n",
       "\t<tr><th scope=row>AAACCCATCGTGCTCT-1</th><td>SeuratProject</td><td>18835</td><td>4966</td><td>GSM4811354</td><td>Illumina NovaSeq 6000</td><td>Mus musculus</td><td>embryonic day E10.5</td><td>Forelimb bud</td><td>C57BL/6X129</td><td>Forelimb bud</td><td>⋯</td><td> 803</td><td>12</td><td>4.263340</td><td>0</td><td>0</td><td>0</td><td>18835</td><td>0</td><td>0</td><td>Intermediate limb mesenchyme</td></tr>\n",
       "\t<tr><th scope=row>AAACGAACAAGAGCTG-1</th><td>SeuratProject</td><td>19102</td><td>5117</td><td>GSM4811354</td><td>Illumina NovaSeq 6000</td><td>Mus musculus</td><td>embryonic day E10.5</td><td>Forelimb bud</td><td>C57BL/6X129</td><td>Forelimb bud</td><td>⋯</td><td> 849</td><td>11</td><td>4.444561</td><td>0</td><td>0</td><td>0</td><td>19102</td><td>0</td><td>0</td><td>Intermediate limb mesenchyme</td></tr>\n",
       "\t<tr><th scope=row>AAACGAAGTACTCCCT-1</th><td>SeuratProject</td><td>27975</td><td>6025</td><td>GSM4811354</td><td>Illumina NovaSeq 6000</td><td>Mus musculus</td><td>embryonic day E10.5</td><td>Forelimb bud</td><td>C57BL/6X129</td><td>Forelimb bud</td><td>⋯</td><td>1047</td><td>13</td><td>3.742627</td><td>0</td><td>0</td><td>0</td><td>27975</td><td>0</td><td>0</td><td>ZPA                         </td></tr>\n",
       "</tbody>\n",
       "</table>\n"
      ],
      "text/latex": [
       "A data.frame: 6 × 33\n",
       "\\begin{tabular}{r|lllllllllllllllllllll}\n",
       "  & orig.ident & nCount\\_RNA & nFeature\\_RNA & Sample\\_Name & Instrument & Organism & Developmental\\_stage & source\\_name & STRAIN & Tissue & ⋯ & subsets\\_Mito\\_sum.1 & subsets\\_Mito\\_detected.1 & subsets\\_Mito\\_percent.1 & subsets\\_ERCC\\_sum.1 & subsets\\_ERCC\\_detected.1 & subsets\\_ERCC\\_percent.1 & total.1 & RNA\\_snn\\_res.0.065 & seurat\\_clusters & CellType\\\\\n",
       "  & <fct> & <dbl> & <int> & <chr> & <chr> & <chr> & <chr> & <chr> & <chr> & <chr> & ⋯ & <dbl> & <int> & <dbl> & <dbl> & <int> & <dbl> & <dbl> & <fct> & <fct> & <fct>\\\\\n",
       "\\hline\n",
       "\tAAACCCACATAATGCC-1 & SeuratProject & 15633 & 4635 & GSM4811354 & Illumina NovaSeq 6000 & Mus musculus & embryonic day E10.5 & Forelimb bud & C57BL/6X129 & Forelimb bud & ⋯ &  676 & 10 & 4.324186 & 0 & 0 & 0 & 15633 & 0 & 0 & Chondroprogenitors          \\\\\n",
       "\tAAACCCAGTCACAGTT-1 & SeuratProject & 21347 & 5605 & GSM4811354 & Illumina NovaSeq 6000 & Mus musculus & embryonic day E10.5 & Forelimb bud & C57BL/6X129 & Forelimb bud & ⋯ &  938 & 13 & 4.394060 & 0 & 0 & 0 & 21347 & 0 & 0 & ZPA                         \\\\\n",
       "\tAAACCCAGTTAGAAAC-1 & SeuratProject & 61289 & 8534 & GSM4811354 & Illumina NovaSeq 6000 & Mus musculus & embryonic day E10.5 & Forelimb bud & C57BL/6X129 & Forelimb bud & ⋯ & 2182 & 13 & 3.560182 & 0 & 0 & 0 & 61289 & 0 & 0 & Proximal limb mesenchyme    \\\\\n",
       "\tAAACCCATCGTGCTCT-1 & SeuratProject & 18835 & 4966 & GSM4811354 & Illumina NovaSeq 6000 & Mus musculus & embryonic day E10.5 & Forelimb bud & C57BL/6X129 & Forelimb bud & ⋯ &  803 & 12 & 4.263340 & 0 & 0 & 0 & 18835 & 0 & 0 & Intermediate limb mesenchyme\\\\\n",
       "\tAAACGAACAAGAGCTG-1 & SeuratProject & 19102 & 5117 & GSM4811354 & Illumina NovaSeq 6000 & Mus musculus & embryonic day E10.5 & Forelimb bud & C57BL/6X129 & Forelimb bud & ⋯ &  849 & 11 & 4.444561 & 0 & 0 & 0 & 19102 & 0 & 0 & Intermediate limb mesenchyme\\\\\n",
       "\tAAACGAAGTACTCCCT-1 & SeuratProject & 27975 & 6025 & GSM4811354 & Illumina NovaSeq 6000 & Mus musculus & embryonic day E10.5 & Forelimb bud & C57BL/6X129 & Forelimb bud & ⋯ & 1047 & 13 & 3.742627 & 0 & 0 & 0 & 27975 & 0 & 0 & ZPA                         \\\\\n",
       "\\end{tabular}\n"
      ],
      "text/markdown": [
       "\n",
       "A data.frame: 6 × 33\n",
       "\n",
       "| <!--/--> | orig.ident &lt;fct&gt; | nCount_RNA &lt;dbl&gt; | nFeature_RNA &lt;int&gt; | Sample_Name &lt;chr&gt; | Instrument &lt;chr&gt; | Organism &lt;chr&gt; | Developmental_stage &lt;chr&gt; | source_name &lt;chr&gt; | STRAIN &lt;chr&gt; | Tissue &lt;chr&gt; | ⋯ ⋯ | subsets_Mito_sum.1 &lt;dbl&gt; | subsets_Mito_detected.1 &lt;int&gt; | subsets_Mito_percent.1 &lt;dbl&gt; | subsets_ERCC_sum.1 &lt;dbl&gt; | subsets_ERCC_detected.1 &lt;int&gt; | subsets_ERCC_percent.1 &lt;dbl&gt; | total.1 &lt;dbl&gt; | RNA_snn_res.0.065 &lt;fct&gt; | seurat_clusters &lt;fct&gt; | CellType &lt;fct&gt; |\n",
       "|---|---|---|---|---|---|---|---|---|---|---|---|---|---|---|---|---|---|---|---|---|---|\n",
       "| AAACCCACATAATGCC-1 | SeuratProject | 15633 | 4635 | GSM4811354 | Illumina NovaSeq 6000 | Mus musculus | embryonic day E10.5 | Forelimb bud | C57BL/6X129 | Forelimb bud | ⋯ |  676 | 10 | 4.324186 | 0 | 0 | 0 | 15633 | 0 | 0 | Chondroprogenitors           |\n",
       "| AAACCCAGTCACAGTT-1 | SeuratProject | 21347 | 5605 | GSM4811354 | Illumina NovaSeq 6000 | Mus musculus | embryonic day E10.5 | Forelimb bud | C57BL/6X129 | Forelimb bud | ⋯ |  938 | 13 | 4.394060 | 0 | 0 | 0 | 21347 | 0 | 0 | ZPA                          |\n",
       "| AAACCCAGTTAGAAAC-1 | SeuratProject | 61289 | 8534 | GSM4811354 | Illumina NovaSeq 6000 | Mus musculus | embryonic day E10.5 | Forelimb bud | C57BL/6X129 | Forelimb bud | ⋯ | 2182 | 13 | 3.560182 | 0 | 0 | 0 | 61289 | 0 | 0 | Proximal limb mesenchyme     |\n",
       "| AAACCCATCGTGCTCT-1 | SeuratProject | 18835 | 4966 | GSM4811354 | Illumina NovaSeq 6000 | Mus musculus | embryonic day E10.5 | Forelimb bud | C57BL/6X129 | Forelimb bud | ⋯ |  803 | 12 | 4.263340 | 0 | 0 | 0 | 18835 | 0 | 0 | Intermediate limb mesenchyme |\n",
       "| AAACGAACAAGAGCTG-1 | SeuratProject | 19102 | 5117 | GSM4811354 | Illumina NovaSeq 6000 | Mus musculus | embryonic day E10.5 | Forelimb bud | C57BL/6X129 | Forelimb bud | ⋯ |  849 | 11 | 4.444561 | 0 | 0 | 0 | 19102 | 0 | 0 | Intermediate limb mesenchyme |\n",
       "| AAACGAAGTACTCCCT-1 | SeuratProject | 27975 | 6025 | GSM4811354 | Illumina NovaSeq 6000 | Mus musculus | embryonic day E10.5 | Forelimb bud | C57BL/6X129 | Forelimb bud | ⋯ | 1047 | 13 | 3.742627 | 0 | 0 | 0 | 27975 | 0 | 0 | ZPA                          |\n",
       "\n"
      ],
      "text/plain": [
       "                   orig.ident    nCount_RNA nFeature_RNA Sample_Name\n",
       "AAACCCACATAATGCC-1 SeuratProject 15633      4635         GSM4811354 \n",
       "AAACCCAGTCACAGTT-1 SeuratProject 21347      5605         GSM4811354 \n",
       "AAACCCAGTTAGAAAC-1 SeuratProject 61289      8534         GSM4811354 \n",
       "AAACCCATCGTGCTCT-1 SeuratProject 18835      4966         GSM4811354 \n",
       "AAACGAACAAGAGCTG-1 SeuratProject 19102      5117         GSM4811354 \n",
       "AAACGAAGTACTCCCT-1 SeuratProject 27975      6025         GSM4811354 \n",
       "                   Instrument            Organism     Developmental_stage\n",
       "AAACCCACATAATGCC-1 Illumina NovaSeq 6000 Mus musculus embryonic day E10.5\n",
       "AAACCCAGTCACAGTT-1 Illumina NovaSeq 6000 Mus musculus embryonic day E10.5\n",
       "AAACCCAGTTAGAAAC-1 Illumina NovaSeq 6000 Mus musculus embryonic day E10.5\n",
       "AAACCCATCGTGCTCT-1 Illumina NovaSeq 6000 Mus musculus embryonic day E10.5\n",
       "AAACGAACAAGAGCTG-1 Illumina NovaSeq 6000 Mus musculus embryonic day E10.5\n",
       "AAACGAAGTACTCCCT-1 Illumina NovaSeq 6000 Mus musculus embryonic day E10.5\n",
       "                   source_name  STRAIN      Tissue       ⋯ subsets_Mito_sum.1\n",
       "AAACCCACATAATGCC-1 Forelimb bud C57BL/6X129 Forelimb bud ⋯  676              \n",
       "AAACCCAGTCACAGTT-1 Forelimb bud C57BL/6X129 Forelimb bud ⋯  938              \n",
       "AAACCCAGTTAGAAAC-1 Forelimb bud C57BL/6X129 Forelimb bud ⋯ 2182              \n",
       "AAACCCATCGTGCTCT-1 Forelimb bud C57BL/6X129 Forelimb bud ⋯  803              \n",
       "AAACGAACAAGAGCTG-1 Forelimb bud C57BL/6X129 Forelimb bud ⋯  849              \n",
       "AAACGAAGTACTCCCT-1 Forelimb bud C57BL/6X129 Forelimb bud ⋯ 1047              \n",
       "                   subsets_Mito_detected.1 subsets_Mito_percent.1\n",
       "AAACCCACATAATGCC-1 10                      4.324186              \n",
       "AAACCCAGTCACAGTT-1 13                      4.394060              \n",
       "AAACCCAGTTAGAAAC-1 13                      3.560182              \n",
       "AAACCCATCGTGCTCT-1 12                      4.263340              \n",
       "AAACGAACAAGAGCTG-1 11                      4.444561              \n",
       "AAACGAAGTACTCCCT-1 13                      3.742627              \n",
       "                   subsets_ERCC_sum.1 subsets_ERCC_detected.1\n",
       "AAACCCACATAATGCC-1 0                  0                      \n",
       "AAACCCAGTCACAGTT-1 0                  0                      \n",
       "AAACCCAGTTAGAAAC-1 0                  0                      \n",
       "AAACCCATCGTGCTCT-1 0                  0                      \n",
       "AAACGAACAAGAGCTG-1 0                  0                      \n",
       "AAACGAAGTACTCCCT-1 0                  0                      \n",
       "                   subsets_ERCC_percent.1 total.1 RNA_snn_res.0.065\n",
       "AAACCCACATAATGCC-1 0                      15633   0                \n",
       "AAACCCAGTCACAGTT-1 0                      21347   0                \n",
       "AAACCCAGTTAGAAAC-1 0                      61289   0                \n",
       "AAACCCATCGTGCTCT-1 0                      18835   0                \n",
       "AAACGAACAAGAGCTG-1 0                      19102   0                \n",
       "AAACGAAGTACTCCCT-1 0                      27975   0                \n",
       "                   seurat_clusters CellType                    \n",
       "AAACCCACATAATGCC-1 0               Chondroprogenitors          \n",
       "AAACCCAGTCACAGTT-1 0               ZPA                         \n",
       "AAACCCAGTTAGAAAC-1 0               Proximal limb mesenchyme    \n",
       "AAACCCATCGTGCTCT-1 0               Intermediate limb mesenchyme\n",
       "AAACGAACAAGAGCTG-1 0               Intermediate limb mesenchyme\n",
       "AAACGAAGTACTCCCT-1 0               ZPA                         "
      ]
     },
     "metadata": {},
     "output_type": "display_data"
    }
   ],
   "source": [
    "head(S6.1@meta.data)"
   ]
  },
  {
   "cell_type": "code",
   "execution_count": 51,
   "id": "1eeeec2d-0abd-4053-b5c6-a15a38d7605a",
   "metadata": {},
   "outputs": [],
   "source": [
    "S6.1@meta.data$Study = 'GSE158820'\n",
    "S6.1@meta.data$Batch = 'GSM4811354'\n",
    "S6.1@meta.data$Author = 'Kmita'\n",
    "S6.1@meta.data$`detected.1`<- NULL\n",
    "S6.1@meta.data$`subsets_ERCC_detected.1` <- NULL\n",
    "S6.1@meta.data$`subsets_ERCC_percent.1` <- NULL\n",
    "S6.1@meta.data$`subsets_ERCC_sum.1` <- NULL\n",
    "S6.1@meta.data$`subsets_Mito_detected.1` <- NULL\n",
    "S6.1@meta.data$`subsets_Mito_percent.1` <- NULL\n",
    "S6.1@meta.data$`subsets_Mito_sum.1` <- NULL\n",
    "S6.1@meta.data$`sum.1` <- NULL\n",
    "S6.1@meta.data$`total.1` <- NULL\n",
    "S6.1@meta.data$detected <- NULL\n",
    "S6.1@meta.data$ident <- NULL\n",
    "S6.1@meta.data$Instrument <- NULL\n",
    "S6.1@meta.data$orig.ident <- NULL\n",
    "S6.1@meta.data$RNA_snn_res.0.065 <- NULL\n",
    "S6.1@meta.data$Sample_Name <- NULL\n",
    "S6.1@meta.data$seurat_clusters <- NULL\n",
    "S6.1@meta.data$subsets_ERCC_detected <- NULL\n",
    "S6.1@meta.data$subsets_ERCC_percent <- NULL\n",
    "S6.1@meta.data$subsets_ERCC_sum <- NULL\n",
    "S6.1@meta.data$sum <- NULL\n",
    "S6.1@meta.data$total <- NULL\n",
    "S6.1@meta.data$subsets_Mito_detected<- NULL\n",
    "S6.1@meta.data$subsets_Mito_sum<- NULL\n",
    "S6.1@meta.data$subsets_Mito_percent <- NULL\n",
    "S6.1@meta.data$source_name <- NULL\n",
    "\n",
    "S6.1@meta.data$percent.mt <- NULL\n",
    "S6.1@meta.data$DevTP <- S6.1@meta.data$Developmental_stage\n",
    "S6.1@meta.data$Developmental_stage <- NULL\n",
    "S6.1@meta.data$Strain<- S6.1@meta.data$STRAIN\n",
    "S6.1@meta.data$STRAIN <- NULL"
   ]
  },
  {
   "cell_type": "code",
   "execution_count": 52,
   "id": "3307c57e-dfb1-4af8-a092-122e75009392",
   "metadata": {
    "tags": []
   },
   "outputs": [
    {
     "data": {
      "text/html": [
       "<table class=\"dataframe\">\n",
       "<caption>A data.frame: 6 × 24</caption>\n",
       "<thead>\n",
       "\t<tr><th></th><th scope=col>orig.ident</th><th scope=col>nCount_RNA</th><th scope=col>nFeature_RNA</th><th scope=col>Sample_Name</th><th scope=col>Instrument</th><th scope=col>Organism</th><th scope=col>Developmental_stage</th><th scope=col>source_name</th><th scope=col>STRAIN</th><th scope=col>Tissue</th><th scope=col>⋯</th><th scope=col>subsets_Mito_sum</th><th scope=col>subsets_Mito_detected</th><th scope=col>subsets_Mito_percent</th><th scope=col>subsets_ERCC_sum</th><th scope=col>subsets_ERCC_detected</th><th scope=col>subsets_ERCC_percent</th><th scope=col>total</th><th scope=col>RNA_snn_res.0.095</th><th scope=col>seurat_clusters</th><th scope=col>CellType</th></tr>\n",
       "\t<tr><th></th><th scope=col>&lt;fct&gt;</th><th scope=col>&lt;dbl&gt;</th><th scope=col>&lt;int&gt;</th><th scope=col>&lt;chr&gt;</th><th scope=col>&lt;chr&gt;</th><th scope=col>&lt;chr&gt;</th><th scope=col>&lt;chr&gt;</th><th scope=col>&lt;chr&gt;</th><th scope=col>&lt;chr&gt;</th><th scope=col>&lt;chr&gt;</th><th scope=col>⋯</th><th scope=col>&lt;dbl&gt;</th><th scope=col>&lt;int&gt;</th><th scope=col>&lt;dbl&gt;</th><th scope=col>&lt;dbl&gt;</th><th scope=col>&lt;int&gt;</th><th scope=col>&lt;dbl&gt;</th><th scope=col>&lt;dbl&gt;</th><th scope=col>&lt;fct&gt;</th><th scope=col>&lt;fct&gt;</th><th scope=col>&lt;fct&gt;</th></tr>\n",
       "</thead>\n",
       "<tbody>\n",
       "\t<tr><th scope=row>AAACCCATCAAACCTG-1</th><td>SeuratProject</td><td>21526</td><td>5636</td><td>GSM4811355</td><td>Illumina NovaSeq 6000</td><td>Mus musculus</td><td>embryonic day E11.5</td><td>Forelimb bud</td><td>C57BL/6X129</td><td>Forelimb bud</td><td>⋯</td><td>1095</td><td>12</td><td>5.086872</td><td>0</td><td>0</td><td>0</td><td>21526</td><td>0</td><td>0</td><td>Intermediate limb bud mesenchyme</td></tr>\n",
       "\t<tr><th scope=row>AAACCCATCAAGAAAC-1</th><td>SeuratProject</td><td>56775</td><td>7904</td><td>GSM4811355</td><td>Illumina NovaSeq 6000</td><td>Mus musculus</td><td>embryonic day E11.5</td><td>Forelimb bud</td><td>C57BL/6X129</td><td>Forelimb bud</td><td>⋯</td><td>2946</td><td>13</td><td>5.188904</td><td>0</td><td>0</td><td>0</td><td>56775</td><td>1</td><td>1</td><td>Ectoderm                        </td></tr>\n",
       "\t<tr><th scope=row>AAACCCATCCAATCTT-1</th><td>SeuratProject</td><td>32953</td><td>6673</td><td>GSM4811355</td><td>Illumina NovaSeq 6000</td><td>Mus musculus</td><td>embryonic day E11.5</td><td>Forelimb bud</td><td>C57BL/6X129</td><td>Forelimb bud</td><td>⋯</td><td>1159</td><td>13</td><td>3.517130</td><td>0</td><td>0</td><td>0</td><td>32953</td><td>0</td><td>0</td><td>Intermediate limb bud mesenchyme</td></tr>\n",
       "\t<tr><th scope=row>AAACGAAAGAACTTCC-1</th><td>SeuratProject</td><td>20740</td><td>5701</td><td>GSM4811355</td><td>Illumina NovaSeq 6000</td><td>Mus musculus</td><td>embryonic day E11.5</td><td>Forelimb bud</td><td>C57BL/6X129</td><td>Forelimb bud</td><td>⋯</td><td>1065</td><td>12</td><td>5.135005</td><td>0</td><td>0</td><td>0</td><td>20740</td><td>0</td><td>0</td><td>Tenocyte precursors             </td></tr>\n",
       "\t<tr><th scope=row>AAACGAAAGAATCGCG-1</th><td>SeuratProject</td><td>36331</td><td>6897</td><td>GSM4811355</td><td>Illumina NovaSeq 6000</td><td>Mus musculus</td><td>embryonic day E11.5</td><td>Forelimb bud</td><td>C57BL/6X129</td><td>Forelimb bud</td><td>⋯</td><td>1823</td><td>11</td><td>5.017753</td><td>0</td><td>0</td><td>0</td><td>36331</td><td>0</td><td>0</td><td>Intermediate limb bud mesenchyme</td></tr>\n",
       "\t<tr><th scope=row>AAACGAAAGCGTGCTC-1</th><td>SeuratProject</td><td>28666</td><td>6284</td><td>GSM4811355</td><td>Illumina NovaSeq 6000</td><td>Mus musculus</td><td>embryonic day E11.5</td><td>Forelimb bud</td><td>C57BL/6X129</td><td>Forelimb bud</td><td>⋯</td><td>1486</td><td>11</td><td>5.183841</td><td>0</td><td>0</td><td>0</td><td>28666</td><td>0</td><td>0</td><td>Distal limb bud mesenchyme      </td></tr>\n",
       "</tbody>\n",
       "</table>\n"
      ],
      "text/latex": [
       "A data.frame: 6 × 24\n",
       "\\begin{tabular}{r|lllllllllllllllllllll}\n",
       "  & orig.ident & nCount\\_RNA & nFeature\\_RNA & Sample\\_Name & Instrument & Organism & Developmental\\_stage & source\\_name & STRAIN & Tissue & ⋯ & subsets\\_Mito\\_sum & subsets\\_Mito\\_detected & subsets\\_Mito\\_percent & subsets\\_ERCC\\_sum & subsets\\_ERCC\\_detected & subsets\\_ERCC\\_percent & total & RNA\\_snn\\_res.0.095 & seurat\\_clusters & CellType\\\\\n",
       "  & <fct> & <dbl> & <int> & <chr> & <chr> & <chr> & <chr> & <chr> & <chr> & <chr> & ⋯ & <dbl> & <int> & <dbl> & <dbl> & <int> & <dbl> & <dbl> & <fct> & <fct> & <fct>\\\\\n",
       "\\hline\n",
       "\tAAACCCATCAAACCTG-1 & SeuratProject & 21526 & 5636 & GSM4811355 & Illumina NovaSeq 6000 & Mus musculus & embryonic day E11.5 & Forelimb bud & C57BL/6X129 & Forelimb bud & ⋯ & 1095 & 12 & 5.086872 & 0 & 0 & 0 & 21526 & 0 & 0 & Intermediate limb bud mesenchyme\\\\\n",
       "\tAAACCCATCAAGAAAC-1 & SeuratProject & 56775 & 7904 & GSM4811355 & Illumina NovaSeq 6000 & Mus musculus & embryonic day E11.5 & Forelimb bud & C57BL/6X129 & Forelimb bud & ⋯ & 2946 & 13 & 5.188904 & 0 & 0 & 0 & 56775 & 1 & 1 & Ectoderm                        \\\\\n",
       "\tAAACCCATCCAATCTT-1 & SeuratProject & 32953 & 6673 & GSM4811355 & Illumina NovaSeq 6000 & Mus musculus & embryonic day E11.5 & Forelimb bud & C57BL/6X129 & Forelimb bud & ⋯ & 1159 & 13 & 3.517130 & 0 & 0 & 0 & 32953 & 0 & 0 & Intermediate limb bud mesenchyme\\\\\n",
       "\tAAACGAAAGAACTTCC-1 & SeuratProject & 20740 & 5701 & GSM4811355 & Illumina NovaSeq 6000 & Mus musculus & embryonic day E11.5 & Forelimb bud & C57BL/6X129 & Forelimb bud & ⋯ & 1065 & 12 & 5.135005 & 0 & 0 & 0 & 20740 & 0 & 0 & Tenocyte precursors             \\\\\n",
       "\tAAACGAAAGAATCGCG-1 & SeuratProject & 36331 & 6897 & GSM4811355 & Illumina NovaSeq 6000 & Mus musculus & embryonic day E11.5 & Forelimb bud & C57BL/6X129 & Forelimb bud & ⋯ & 1823 & 11 & 5.017753 & 0 & 0 & 0 & 36331 & 0 & 0 & Intermediate limb bud mesenchyme\\\\\n",
       "\tAAACGAAAGCGTGCTC-1 & SeuratProject & 28666 & 6284 & GSM4811355 & Illumina NovaSeq 6000 & Mus musculus & embryonic day E11.5 & Forelimb bud & C57BL/6X129 & Forelimb bud & ⋯ & 1486 & 11 & 5.183841 & 0 & 0 & 0 & 28666 & 0 & 0 & Distal limb bud mesenchyme      \\\\\n",
       "\\end{tabular}\n"
      ],
      "text/markdown": [
       "\n",
       "A data.frame: 6 × 24\n",
       "\n",
       "| <!--/--> | orig.ident &lt;fct&gt; | nCount_RNA &lt;dbl&gt; | nFeature_RNA &lt;int&gt; | Sample_Name &lt;chr&gt; | Instrument &lt;chr&gt; | Organism &lt;chr&gt; | Developmental_stage &lt;chr&gt; | source_name &lt;chr&gt; | STRAIN &lt;chr&gt; | Tissue &lt;chr&gt; | ⋯ ⋯ | subsets_Mito_sum &lt;dbl&gt; | subsets_Mito_detected &lt;int&gt; | subsets_Mito_percent &lt;dbl&gt; | subsets_ERCC_sum &lt;dbl&gt; | subsets_ERCC_detected &lt;int&gt; | subsets_ERCC_percent &lt;dbl&gt; | total &lt;dbl&gt; | RNA_snn_res.0.095 &lt;fct&gt; | seurat_clusters &lt;fct&gt; | CellType &lt;fct&gt; |\n",
       "|---|---|---|---|---|---|---|---|---|---|---|---|---|---|---|---|---|---|---|---|---|---|\n",
       "| AAACCCATCAAACCTG-1 | SeuratProject | 21526 | 5636 | GSM4811355 | Illumina NovaSeq 6000 | Mus musculus | embryonic day E11.5 | Forelimb bud | C57BL/6X129 | Forelimb bud | ⋯ | 1095 | 12 | 5.086872 | 0 | 0 | 0 | 21526 | 0 | 0 | Intermediate limb bud mesenchyme |\n",
       "| AAACCCATCAAGAAAC-1 | SeuratProject | 56775 | 7904 | GSM4811355 | Illumina NovaSeq 6000 | Mus musculus | embryonic day E11.5 | Forelimb bud | C57BL/6X129 | Forelimb bud | ⋯ | 2946 | 13 | 5.188904 | 0 | 0 | 0 | 56775 | 1 | 1 | Ectoderm                         |\n",
       "| AAACCCATCCAATCTT-1 | SeuratProject | 32953 | 6673 | GSM4811355 | Illumina NovaSeq 6000 | Mus musculus | embryonic day E11.5 | Forelimb bud | C57BL/6X129 | Forelimb bud | ⋯ | 1159 | 13 | 3.517130 | 0 | 0 | 0 | 32953 | 0 | 0 | Intermediate limb bud mesenchyme |\n",
       "| AAACGAAAGAACTTCC-1 | SeuratProject | 20740 | 5701 | GSM4811355 | Illumina NovaSeq 6000 | Mus musculus | embryonic day E11.5 | Forelimb bud | C57BL/6X129 | Forelimb bud | ⋯ | 1065 | 12 | 5.135005 | 0 | 0 | 0 | 20740 | 0 | 0 | Tenocyte precursors              |\n",
       "| AAACGAAAGAATCGCG-1 | SeuratProject | 36331 | 6897 | GSM4811355 | Illumina NovaSeq 6000 | Mus musculus | embryonic day E11.5 | Forelimb bud | C57BL/6X129 | Forelimb bud | ⋯ | 1823 | 11 | 5.017753 | 0 | 0 | 0 | 36331 | 0 | 0 | Intermediate limb bud mesenchyme |\n",
       "| AAACGAAAGCGTGCTC-1 | SeuratProject | 28666 | 6284 | GSM4811355 | Illumina NovaSeq 6000 | Mus musculus | embryonic day E11.5 | Forelimb bud | C57BL/6X129 | Forelimb bud | ⋯ | 1486 | 11 | 5.183841 | 0 | 0 | 0 | 28666 | 0 | 0 | Distal limb bud mesenchyme       |\n",
       "\n"
      ],
      "text/plain": [
       "                   orig.ident    nCount_RNA nFeature_RNA Sample_Name\n",
       "AAACCCATCAAACCTG-1 SeuratProject 21526      5636         GSM4811355 \n",
       "AAACCCATCAAGAAAC-1 SeuratProject 56775      7904         GSM4811355 \n",
       "AAACCCATCCAATCTT-1 SeuratProject 32953      6673         GSM4811355 \n",
       "AAACGAAAGAACTTCC-1 SeuratProject 20740      5701         GSM4811355 \n",
       "AAACGAAAGAATCGCG-1 SeuratProject 36331      6897         GSM4811355 \n",
       "AAACGAAAGCGTGCTC-1 SeuratProject 28666      6284         GSM4811355 \n",
       "                   Instrument            Organism     Developmental_stage\n",
       "AAACCCATCAAACCTG-1 Illumina NovaSeq 6000 Mus musculus embryonic day E11.5\n",
       "AAACCCATCAAGAAAC-1 Illumina NovaSeq 6000 Mus musculus embryonic day E11.5\n",
       "AAACCCATCCAATCTT-1 Illumina NovaSeq 6000 Mus musculus embryonic day E11.5\n",
       "AAACGAAAGAACTTCC-1 Illumina NovaSeq 6000 Mus musculus embryonic day E11.5\n",
       "AAACGAAAGAATCGCG-1 Illumina NovaSeq 6000 Mus musculus embryonic day E11.5\n",
       "AAACGAAAGCGTGCTC-1 Illumina NovaSeq 6000 Mus musculus embryonic day E11.5\n",
       "                   source_name  STRAIN      Tissue       ⋯ subsets_Mito_sum\n",
       "AAACCCATCAAACCTG-1 Forelimb bud C57BL/6X129 Forelimb bud ⋯ 1095            \n",
       "AAACCCATCAAGAAAC-1 Forelimb bud C57BL/6X129 Forelimb bud ⋯ 2946            \n",
       "AAACCCATCCAATCTT-1 Forelimb bud C57BL/6X129 Forelimb bud ⋯ 1159            \n",
       "AAACGAAAGAACTTCC-1 Forelimb bud C57BL/6X129 Forelimb bud ⋯ 1065            \n",
       "AAACGAAAGAATCGCG-1 Forelimb bud C57BL/6X129 Forelimb bud ⋯ 1823            \n",
       "AAACGAAAGCGTGCTC-1 Forelimb bud C57BL/6X129 Forelimb bud ⋯ 1486            \n",
       "                   subsets_Mito_detected subsets_Mito_percent subsets_ERCC_sum\n",
       "AAACCCATCAAACCTG-1 12                    5.086872             0               \n",
       "AAACCCATCAAGAAAC-1 13                    5.188904             0               \n",
       "AAACCCATCCAATCTT-1 13                    3.517130             0               \n",
       "AAACGAAAGAACTTCC-1 12                    5.135005             0               \n",
       "AAACGAAAGAATCGCG-1 11                    5.017753             0               \n",
       "AAACGAAAGCGTGCTC-1 11                    5.183841             0               \n",
       "                   subsets_ERCC_detected subsets_ERCC_percent total\n",
       "AAACCCATCAAACCTG-1 0                     0                    21526\n",
       "AAACCCATCAAGAAAC-1 0                     0                    56775\n",
       "AAACCCATCCAATCTT-1 0                     0                    32953\n",
       "AAACGAAAGAACTTCC-1 0                     0                    20740\n",
       "AAACGAAAGAATCGCG-1 0                     0                    36331\n",
       "AAACGAAAGCGTGCTC-1 0                     0                    28666\n",
       "                   RNA_snn_res.0.095 seurat_clusters\n",
       "AAACCCATCAAACCTG-1 0                 0              \n",
       "AAACCCATCAAGAAAC-1 1                 1              \n",
       "AAACCCATCCAATCTT-1 0                 0              \n",
       "AAACGAAAGAACTTCC-1 0                 0              \n",
       "AAACGAAAGAATCGCG-1 0                 0              \n",
       "AAACGAAAGCGTGCTC-1 0                 0              \n",
       "                   CellType                        \n",
       "AAACCCATCAAACCTG-1 Intermediate limb bud mesenchyme\n",
       "AAACCCATCAAGAAAC-1 Ectoderm                        \n",
       "AAACCCATCCAATCTT-1 Intermediate limb bud mesenchyme\n",
       "AAACGAAAGAACTTCC-1 Tenocyte precursors             \n",
       "AAACGAAAGAATCGCG-1 Intermediate limb bud mesenchyme\n",
       "AAACGAAAGCGTGCTC-1 Distal limb bud mesenchyme      "
      ]
     },
     "metadata": {},
     "output_type": "display_data"
    }
   ],
   "source": [
    "head(S6.2@meta.data)"
   ]
  },
  {
   "cell_type": "code",
   "execution_count": 53,
   "id": "4f282b80-b777-4d08-a2f5-d0852e1aacf1",
   "metadata": {},
   "outputs": [],
   "source": [
    "S6.2@meta.data$Study = 'GSE158820'\n",
    "S6.2@meta.data$Batch = 'GSM4811355'\n",
    "S6.2@meta.data$Author = 'Kmita'\n",
    "\n",
    "S6.2@meta.data$`detected.1`<- NULL\n",
    "S6.2@meta.data$`subsets_ERCC_detected.1` <- NULL\n",
    "S6.2@meta.data$`subsets_ERCC_percent.1` <- NULL\n",
    "S6.2@meta.data$`subsets_ERCC_sum.1` <- NULL\n",
    "S6.2@meta.data$`subsets_Mito_detected.1` <- NULL\n",
    "S6.2@meta.data$`subsets_Mito_percent.1` <- NULL\n",
    "S6.2@meta.data$`subsets_Mito_sum.1` <- NULL\n",
    "S6.2@meta.data$`sum.1` <- NULL\n",
    "S6.2@meta.data$`total.1` <- NULL\n",
    "S6.2@meta.data$detected <- NULL\n",
    "S6.2@meta.data$ident <- NULL\n",
    "S6.2@meta.data$Instrument <- NULL\n",
    "S6.2@meta.data$orig.ident <- NULL\n",
    "S6.2@meta.data$RNA_snn_res.0.095 <- NULL\n",
    "S6.2@meta.data$Sample_Name <- NULL\n",
    "S6.2@meta.data$seurat_clusters <- NULL\n",
    "S6.2@meta.data$subsets_ERCC_detected <- NULL\n",
    "S6.2@meta.data$subsets_ERCC_percent <- NULL\n",
    "S6.2@meta.data$subsets_ERCC_sum <- NULL\n",
    "S6.2@meta.data$sum <- NULL\n",
    "S6.2@meta.data$total <- NULL\n",
    "S6.2@meta.data$subsets_Mito_detected<- NULL\n",
    "S6.2@meta.data$subsets_Mito_sum<- NULL\n",
    "S6.2@meta.data$subsets_Mito_percent <- NULL\n",
    "S6.2@meta.data$source_name <- NULL\n",
    "\n",
    "S6.2@meta.data$percent.mt <- NULL\n",
    "S6.2@meta.data$DevTP <- S6.2@meta.data$Developmental_stage\n",
    "S6.2@meta.data$Developmental_stage <- NULL\n",
    "S6.2@meta.data$Strain<- S6.2@meta.data$STRAIN\n",
    "S6.2@meta.data$STRAIN <- NULL"
   ]
  },
  {
   "cell_type": "code",
   "execution_count": 54,
   "id": "1cb0da90-f482-49bb-a69d-556e4b176409",
   "metadata": {
    "tags": []
   },
   "outputs": [
    {
     "data": {
      "text/html": [
       "<table class=\"dataframe\">\n",
       "<caption>A data.frame: 6 × 24</caption>\n",
       "<thead>\n",
       "\t<tr><th></th><th scope=col>orig.ident</th><th scope=col>nCount_RNA</th><th scope=col>nFeature_RNA</th><th scope=col>Sample_Name</th><th scope=col>Instrument</th><th scope=col>Organism</th><th scope=col>Developmental_stage</th><th scope=col>source_name</th><th scope=col>STRAIN</th><th scope=col>Tissue</th><th scope=col>⋯</th><th scope=col>subsets_Mito_sum</th><th scope=col>subsets_Mito_detected</th><th scope=col>subsets_Mito_percent</th><th scope=col>subsets_ERCC_sum</th><th scope=col>subsets_ERCC_detected</th><th scope=col>subsets_ERCC_percent</th><th scope=col>total</th><th scope=col>RNA_snn_res.0.15</th><th scope=col>seurat_clusters</th><th scope=col>CellType</th></tr>\n",
       "\t<tr><th></th><th scope=col>&lt;fct&gt;</th><th scope=col>&lt;dbl&gt;</th><th scope=col>&lt;int&gt;</th><th scope=col>&lt;chr&gt;</th><th scope=col>&lt;chr&gt;</th><th scope=col>&lt;chr&gt;</th><th scope=col>&lt;chr&gt;</th><th scope=col>&lt;chr&gt;</th><th scope=col>&lt;chr&gt;</th><th scope=col>&lt;chr&gt;</th><th scope=col>⋯</th><th scope=col>&lt;dbl&gt;</th><th scope=col>&lt;int&gt;</th><th scope=col>&lt;dbl&gt;</th><th scope=col>&lt;dbl&gt;</th><th scope=col>&lt;int&gt;</th><th scope=col>&lt;dbl&gt;</th><th scope=col>&lt;dbl&gt;</th><th scope=col>&lt;fct&gt;</th><th scope=col>&lt;fct&gt;</th><th scope=col>&lt;fct&gt;</th></tr>\n",
       "</thead>\n",
       "<tbody>\n",
       "\t<tr><th scope=row>AAACCCAAGACAAGCC-1</th><td>SeuratProject</td><td>17293</td><td>5210</td><td>GSM4811356</td><td>Illumina NovaSeq 6000</td><td>Mus musculus</td><td>embryonic day E12.5</td><td>Forelimb bud</td><td>C57BL/6X129</td><td>Forelimb bud</td><td>⋯</td><td> 830</td><td>12</td><td>4.799630</td><td>0</td><td>0</td><td>0</td><td>17293</td><td>0</td><td>0</td><td>Chondroprogenitors              </td></tr>\n",
       "\t<tr><th scope=row>AAACCCAAGGCCTAGA-1</th><td>SeuratProject</td><td>13991</td><td>4538</td><td>GSM4811356</td><td>Illumina NovaSeq 6000</td><td>Mus musculus</td><td>embryonic day E12.5</td><td>Forelimb bud</td><td>C57BL/6X129</td><td>Forelimb bud</td><td>⋯</td><td> 609</td><td>11</td><td>4.352798</td><td>0</td><td>0</td><td>0</td><td>13991</td><td>3</td><td>3</td><td>Intermediate limb bud mesenchyme</td></tr>\n",
       "\t<tr><th scope=row>AAACCCAAGTTCCATG-1</th><td>SeuratProject</td><td>11102</td><td>3934</td><td>GSM4811356</td><td>Illumina NovaSeq 6000</td><td>Mus musculus</td><td>embryonic day E12.5</td><td>Forelimb bud</td><td>C57BL/6X129</td><td>Forelimb bud</td><td>⋯</td><td> 544</td><td>11</td><td>4.900018</td><td>0</td><td>0</td><td>0</td><td>11102</td><td>1</td><td>1</td><td>Intermediate limb bud mesenchyme</td></tr>\n",
       "\t<tr><th scope=row>AAACCCACAAGGATGC-1</th><td>SeuratProject</td><td>11453</td><td>4259</td><td>GSM4811356</td><td>Illumina NovaSeq 6000</td><td>Mus musculus</td><td>embryonic day E12.5</td><td>Forelimb bud</td><td>C57BL/6X129</td><td>Forelimb bud</td><td>⋯</td><td> 641</td><td>10</td><td>5.596787</td><td>0</td><td>0</td><td>0</td><td>11453</td><td>0</td><td>0</td><td>Intermediate limb bud mesenchyme</td></tr>\n",
       "\t<tr><th scope=row>AAACCCACAATTGGTC-1</th><td>SeuratProject</td><td>13623</td><td>4479</td><td>GSM4811356</td><td>Illumina NovaSeq 6000</td><td>Mus musculus</td><td>embryonic day E12.5</td><td>Forelimb bud</td><td>C57BL/6X129</td><td>Forelimb bud</td><td>⋯</td><td> 572</td><td>12</td><td>4.198781</td><td>0</td><td>0</td><td>0</td><td>13623</td><td>1</td><td>1</td><td>Intermediate limb bud mesenchyme</td></tr>\n",
       "\t<tr><th scope=row>AAACCCATCAACTACG-1</th><td>SeuratProject</td><td>18874</td><td>5154</td><td>GSM4811356</td><td>Illumina NovaSeq 6000</td><td>Mus musculus</td><td>embryonic day E12.5</td><td>Forelimb bud</td><td>C57BL/6X129</td><td>Forelimb bud</td><td>⋯</td><td>1098</td><td>12</td><td>5.817527</td><td>0</td><td>0</td><td>0</td><td>18874</td><td>5</td><td>5</td><td>Ectoderm                        </td></tr>\n",
       "</tbody>\n",
       "</table>\n"
      ],
      "text/latex": [
       "A data.frame: 6 × 24\n",
       "\\begin{tabular}{r|lllllllllllllllllllll}\n",
       "  & orig.ident & nCount\\_RNA & nFeature\\_RNA & Sample\\_Name & Instrument & Organism & Developmental\\_stage & source\\_name & STRAIN & Tissue & ⋯ & subsets\\_Mito\\_sum & subsets\\_Mito\\_detected & subsets\\_Mito\\_percent & subsets\\_ERCC\\_sum & subsets\\_ERCC\\_detected & subsets\\_ERCC\\_percent & total & RNA\\_snn\\_res.0.15 & seurat\\_clusters & CellType\\\\\n",
       "  & <fct> & <dbl> & <int> & <chr> & <chr> & <chr> & <chr> & <chr> & <chr> & <chr> & ⋯ & <dbl> & <int> & <dbl> & <dbl> & <int> & <dbl> & <dbl> & <fct> & <fct> & <fct>\\\\\n",
       "\\hline\n",
       "\tAAACCCAAGACAAGCC-1 & SeuratProject & 17293 & 5210 & GSM4811356 & Illumina NovaSeq 6000 & Mus musculus & embryonic day E12.5 & Forelimb bud & C57BL/6X129 & Forelimb bud & ⋯ &  830 & 12 & 4.799630 & 0 & 0 & 0 & 17293 & 0 & 0 & Chondroprogenitors              \\\\\n",
       "\tAAACCCAAGGCCTAGA-1 & SeuratProject & 13991 & 4538 & GSM4811356 & Illumina NovaSeq 6000 & Mus musculus & embryonic day E12.5 & Forelimb bud & C57BL/6X129 & Forelimb bud & ⋯ &  609 & 11 & 4.352798 & 0 & 0 & 0 & 13991 & 3 & 3 & Intermediate limb bud mesenchyme\\\\\n",
       "\tAAACCCAAGTTCCATG-1 & SeuratProject & 11102 & 3934 & GSM4811356 & Illumina NovaSeq 6000 & Mus musculus & embryonic day E12.5 & Forelimb bud & C57BL/6X129 & Forelimb bud & ⋯ &  544 & 11 & 4.900018 & 0 & 0 & 0 & 11102 & 1 & 1 & Intermediate limb bud mesenchyme\\\\\n",
       "\tAAACCCACAAGGATGC-1 & SeuratProject & 11453 & 4259 & GSM4811356 & Illumina NovaSeq 6000 & Mus musculus & embryonic day E12.5 & Forelimb bud & C57BL/6X129 & Forelimb bud & ⋯ &  641 & 10 & 5.596787 & 0 & 0 & 0 & 11453 & 0 & 0 & Intermediate limb bud mesenchyme\\\\\n",
       "\tAAACCCACAATTGGTC-1 & SeuratProject & 13623 & 4479 & GSM4811356 & Illumina NovaSeq 6000 & Mus musculus & embryonic day E12.5 & Forelimb bud & C57BL/6X129 & Forelimb bud & ⋯ &  572 & 12 & 4.198781 & 0 & 0 & 0 & 13623 & 1 & 1 & Intermediate limb bud mesenchyme\\\\\n",
       "\tAAACCCATCAACTACG-1 & SeuratProject & 18874 & 5154 & GSM4811356 & Illumina NovaSeq 6000 & Mus musculus & embryonic day E12.5 & Forelimb bud & C57BL/6X129 & Forelimb bud & ⋯ & 1098 & 12 & 5.817527 & 0 & 0 & 0 & 18874 & 5 & 5 & Ectoderm                        \\\\\n",
       "\\end{tabular}\n"
      ],
      "text/markdown": [
       "\n",
       "A data.frame: 6 × 24\n",
       "\n",
       "| <!--/--> | orig.ident &lt;fct&gt; | nCount_RNA &lt;dbl&gt; | nFeature_RNA &lt;int&gt; | Sample_Name &lt;chr&gt; | Instrument &lt;chr&gt; | Organism &lt;chr&gt; | Developmental_stage &lt;chr&gt; | source_name &lt;chr&gt; | STRAIN &lt;chr&gt; | Tissue &lt;chr&gt; | ⋯ ⋯ | subsets_Mito_sum &lt;dbl&gt; | subsets_Mito_detected &lt;int&gt; | subsets_Mito_percent &lt;dbl&gt; | subsets_ERCC_sum &lt;dbl&gt; | subsets_ERCC_detected &lt;int&gt; | subsets_ERCC_percent &lt;dbl&gt; | total &lt;dbl&gt; | RNA_snn_res.0.15 &lt;fct&gt; | seurat_clusters &lt;fct&gt; | CellType &lt;fct&gt; |\n",
       "|---|---|---|---|---|---|---|---|---|---|---|---|---|---|---|---|---|---|---|---|---|---|\n",
       "| AAACCCAAGACAAGCC-1 | SeuratProject | 17293 | 5210 | GSM4811356 | Illumina NovaSeq 6000 | Mus musculus | embryonic day E12.5 | Forelimb bud | C57BL/6X129 | Forelimb bud | ⋯ |  830 | 12 | 4.799630 | 0 | 0 | 0 | 17293 | 0 | 0 | Chondroprogenitors               |\n",
       "| AAACCCAAGGCCTAGA-1 | SeuratProject | 13991 | 4538 | GSM4811356 | Illumina NovaSeq 6000 | Mus musculus | embryonic day E12.5 | Forelimb bud | C57BL/6X129 | Forelimb bud | ⋯ |  609 | 11 | 4.352798 | 0 | 0 | 0 | 13991 | 3 | 3 | Intermediate limb bud mesenchyme |\n",
       "| AAACCCAAGTTCCATG-1 | SeuratProject | 11102 | 3934 | GSM4811356 | Illumina NovaSeq 6000 | Mus musculus | embryonic day E12.5 | Forelimb bud | C57BL/6X129 | Forelimb bud | ⋯ |  544 | 11 | 4.900018 | 0 | 0 | 0 | 11102 | 1 | 1 | Intermediate limb bud mesenchyme |\n",
       "| AAACCCACAAGGATGC-1 | SeuratProject | 11453 | 4259 | GSM4811356 | Illumina NovaSeq 6000 | Mus musculus | embryonic day E12.5 | Forelimb bud | C57BL/6X129 | Forelimb bud | ⋯ |  641 | 10 | 5.596787 | 0 | 0 | 0 | 11453 | 0 | 0 | Intermediate limb bud mesenchyme |\n",
       "| AAACCCACAATTGGTC-1 | SeuratProject | 13623 | 4479 | GSM4811356 | Illumina NovaSeq 6000 | Mus musculus | embryonic day E12.5 | Forelimb bud | C57BL/6X129 | Forelimb bud | ⋯ |  572 | 12 | 4.198781 | 0 | 0 | 0 | 13623 | 1 | 1 | Intermediate limb bud mesenchyme |\n",
       "| AAACCCATCAACTACG-1 | SeuratProject | 18874 | 5154 | GSM4811356 | Illumina NovaSeq 6000 | Mus musculus | embryonic day E12.5 | Forelimb bud | C57BL/6X129 | Forelimb bud | ⋯ | 1098 | 12 | 5.817527 | 0 | 0 | 0 | 18874 | 5 | 5 | Ectoderm                         |\n",
       "\n"
      ],
      "text/plain": [
       "                   orig.ident    nCount_RNA nFeature_RNA Sample_Name\n",
       "AAACCCAAGACAAGCC-1 SeuratProject 17293      5210         GSM4811356 \n",
       "AAACCCAAGGCCTAGA-1 SeuratProject 13991      4538         GSM4811356 \n",
       "AAACCCAAGTTCCATG-1 SeuratProject 11102      3934         GSM4811356 \n",
       "AAACCCACAAGGATGC-1 SeuratProject 11453      4259         GSM4811356 \n",
       "AAACCCACAATTGGTC-1 SeuratProject 13623      4479         GSM4811356 \n",
       "AAACCCATCAACTACG-1 SeuratProject 18874      5154         GSM4811356 \n",
       "                   Instrument            Organism     Developmental_stage\n",
       "AAACCCAAGACAAGCC-1 Illumina NovaSeq 6000 Mus musculus embryonic day E12.5\n",
       "AAACCCAAGGCCTAGA-1 Illumina NovaSeq 6000 Mus musculus embryonic day E12.5\n",
       "AAACCCAAGTTCCATG-1 Illumina NovaSeq 6000 Mus musculus embryonic day E12.5\n",
       "AAACCCACAAGGATGC-1 Illumina NovaSeq 6000 Mus musculus embryonic day E12.5\n",
       "AAACCCACAATTGGTC-1 Illumina NovaSeq 6000 Mus musculus embryonic day E12.5\n",
       "AAACCCATCAACTACG-1 Illumina NovaSeq 6000 Mus musculus embryonic day E12.5\n",
       "                   source_name  STRAIN      Tissue       ⋯ subsets_Mito_sum\n",
       "AAACCCAAGACAAGCC-1 Forelimb bud C57BL/6X129 Forelimb bud ⋯  830            \n",
       "AAACCCAAGGCCTAGA-1 Forelimb bud C57BL/6X129 Forelimb bud ⋯  609            \n",
       "AAACCCAAGTTCCATG-1 Forelimb bud C57BL/6X129 Forelimb bud ⋯  544            \n",
       "AAACCCACAAGGATGC-1 Forelimb bud C57BL/6X129 Forelimb bud ⋯  641            \n",
       "AAACCCACAATTGGTC-1 Forelimb bud C57BL/6X129 Forelimb bud ⋯  572            \n",
       "AAACCCATCAACTACG-1 Forelimb bud C57BL/6X129 Forelimb bud ⋯ 1098            \n",
       "                   subsets_Mito_detected subsets_Mito_percent subsets_ERCC_sum\n",
       "AAACCCAAGACAAGCC-1 12                    4.799630             0               \n",
       "AAACCCAAGGCCTAGA-1 11                    4.352798             0               \n",
       "AAACCCAAGTTCCATG-1 11                    4.900018             0               \n",
       "AAACCCACAAGGATGC-1 10                    5.596787             0               \n",
       "AAACCCACAATTGGTC-1 12                    4.198781             0               \n",
       "AAACCCATCAACTACG-1 12                    5.817527             0               \n",
       "                   subsets_ERCC_detected subsets_ERCC_percent total\n",
       "AAACCCAAGACAAGCC-1 0                     0                    17293\n",
       "AAACCCAAGGCCTAGA-1 0                     0                    13991\n",
       "AAACCCAAGTTCCATG-1 0                     0                    11102\n",
       "AAACCCACAAGGATGC-1 0                     0                    11453\n",
       "AAACCCACAATTGGTC-1 0                     0                    13623\n",
       "AAACCCATCAACTACG-1 0                     0                    18874\n",
       "                   RNA_snn_res.0.15 seurat_clusters\n",
       "AAACCCAAGACAAGCC-1 0                0              \n",
       "AAACCCAAGGCCTAGA-1 3                3              \n",
       "AAACCCAAGTTCCATG-1 1                1              \n",
       "AAACCCACAAGGATGC-1 0                0              \n",
       "AAACCCACAATTGGTC-1 1                1              \n",
       "AAACCCATCAACTACG-1 5                5              \n",
       "                   CellType                        \n",
       "AAACCCAAGACAAGCC-1 Chondroprogenitors              \n",
       "AAACCCAAGGCCTAGA-1 Intermediate limb bud mesenchyme\n",
       "AAACCCAAGTTCCATG-1 Intermediate limb bud mesenchyme\n",
       "AAACCCACAAGGATGC-1 Intermediate limb bud mesenchyme\n",
       "AAACCCACAATTGGTC-1 Intermediate limb bud mesenchyme\n",
       "AAACCCATCAACTACG-1 Ectoderm                        "
      ]
     },
     "metadata": {},
     "output_type": "display_data"
    }
   ],
   "source": [
    "head(S6.3@meta.data)"
   ]
  },
  {
   "cell_type": "code",
   "execution_count": 55,
   "id": "9af31323-b9b4-4df2-a1f2-6ec5fa788384",
   "metadata": {},
   "outputs": [],
   "source": [
    "S6.3@meta.data$Study = 'GSE158820'\n",
    "S6.3@meta.data$Batch = 'GSM4811356'\n",
    "S6.3@meta.data$Author = 'Kmita'\n",
    "S6.3@meta.data$`detected.1`<- NULL\n",
    "S6.3@meta.data$`subsets_ERCC_detected.1` <- NULL\n",
    "S6.3@meta.data$`subsets_ERCC_percent.1` <- NULL\n",
    "S6.3@meta.data$`subsets_ERCC_sum.1` <- NULL\n",
    "S6.3@meta.data$`subsets_Mito_detected.1` <- NULL\n",
    "S6.3@meta.data$`subsets_Mito_percent.1` <- NULL\n",
    "S6.3@meta.data$`subsets_Mito_sum.1` <- NULL\n",
    "S6.3@meta.data$`sum.1` <- NULL\n",
    "S6.3@meta.data$`total.1` <- NULL\n",
    "S6.3@meta.data$detected <- NULL\n",
    "S6.3@meta.data$ident <- NULL\n",
    "S6.3@meta.data$Instrument <- NULL\n",
    "S6.3@meta.data$orig.ident <- NULL\n",
    "S6.3@meta.data$RNA_snn_res.0.15 <- NULL\n",
    "S6.3@meta.data$Sample_Name <- NULL\n",
    "S6.3@meta.data$seurat_clusters <- NULL\n",
    "S6.3@meta.data$subsets_ERCC_detected <- NULL\n",
    "S6.3@meta.data$subsets_ERCC_percent <- NULL\n",
    "S6.3@meta.data$subsets_ERCC_sum <- NULL\n",
    "S6.3@meta.data$sum <- NULL\n",
    "S6.3@meta.data$total <- NULL\n",
    "S6.3@meta.data$subsets_Mito_detected<- NULL\n",
    "S6.3@meta.data$subsets_Mito_sum<- NULL\n",
    "S6.3@meta.data$subsets_Mito_percent <- NULL\n",
    "S6.3@meta.data$source_name <- NULL\n",
    "\n",
    "S6.3@meta.data$percent.mt <- NULL\n",
    "S6.3@meta.data$DevTP <- S6.3@meta.data$Developmental_stage\n",
    "S6.3@meta.data$Developmental_stage <- NULL\n",
    "S6.3@meta.data$Strain<- S6.3@meta.data$STRAIN\n",
    "S6.3@meta.data$STRAIN <- NULL"
   ]
  },
  {
   "cell_type": "code",
   "execution_count": 56,
   "id": "0fce9bfd-9a2e-4649-91c6-a7616b00be6c",
   "metadata": {
    "tags": []
   },
   "outputs": [
    {
     "data": {
      "text/html": [
       "<table class=\"dataframe\">\n",
       "<caption>A data.frame: 6 × 19</caption>\n",
       "<thead>\n",
       "\t<tr><th></th><th scope=col>orig.ident</th><th scope=col>nCount_RNA</th><th scope=col>nFeature_RNA</th><th scope=col>ident</th><th scope=col>sum</th><th scope=col>detected</th><th scope=col>subsets_Mito_sum</th><th scope=col>subsets_Mito_detected</th><th scope=col>subsets_Mito_percent</th><th scope=col>subsets_ERCC_sum</th><th scope=col>subsets_ERCC_detected</th><th scope=col>subsets_ERCC_percent</th><th scope=col>total</th><th scope=col>Author</th><th scope=col>Age</th><th scope=col>Tech</th><th scope=col>RNA_snn_res.0.8</th><th scope=col>seurat_clusters</th><th scope=col>CellType</th></tr>\n",
       "\t<tr><th></th><th scope=col>&lt;fct&gt;</th><th scope=col>&lt;dbl&gt;</th><th scope=col>&lt;int&gt;</th><th scope=col>&lt;fct&gt;</th><th scope=col>&lt;dbl&gt;</th><th scope=col>&lt;int&gt;</th><th scope=col>&lt;dbl&gt;</th><th scope=col>&lt;int&gt;</th><th scope=col>&lt;dbl&gt;</th><th scope=col>&lt;dbl&gt;</th><th scope=col>&lt;int&gt;</th><th scope=col>&lt;dbl&gt;</th><th scope=col>&lt;dbl&gt;</th><th scope=col>&lt;chr&gt;</th><th scope=col>&lt;chr&gt;</th><th scope=col>&lt;chr&gt;</th><th scope=col>&lt;fct&gt;</th><th scope=col>&lt;fct&gt;</th><th scope=col>&lt;fct&gt;</th></tr>\n",
       "</thead>\n",
       "<tbody>\n",
       "\t<tr><th scope=row>AAACCCAGTATACAGA-1</th><td>SeuratProject</td><td> 9480</td><td>2664</td><td>SeuratProject</td><td> 9480</td><td>2664</td><td>455</td><td>12</td><td>4.799578</td><td>0</td><td>0</td><td>0</td><td> 9480</td><td>Cao</td><td>12-16w</td><td>10x</td><td>1</td><td>1</td><td>Synovial fibroblasts</td></tr>\n",
       "\t<tr><th scope=row>AAACCCATCAACCTCC-1</th><td>SeuratProject</td><td>10360</td><td>2262</td><td>SeuratProject</td><td>10360</td><td>2262</td><td>272</td><td>13</td><td>2.625483</td><td>0</td><td>0</td><td>0</td><td>10360</td><td>Cao</td><td>12-16w</td><td>10x</td><td>5</td><td>5</td><td>Immune cells        </td></tr>\n",
       "\t<tr><th scope=row>AAACGAACACCCTGAG-1</th><td>SeuratProject</td><td> 8352</td><td>3001</td><td>SeuratProject</td><td> 8352</td><td>3001</td><td>278</td><td>12</td><td>3.328544</td><td>0</td><td>0</td><td>0</td><td> 8352</td><td>Cao</td><td>12-16w</td><td>10x</td><td>0</td><td>0</td><td>Synovial fibroblasts</td></tr>\n",
       "\t<tr><th scope=row>AAACGAACACCGAATT-1</th><td>SeuratProject</td><td> 5743</td><td>2102</td><td>SeuratProject</td><td> 5743</td><td>2102</td><td>301</td><td>13</td><td>5.241163</td><td>0</td><td>0</td><td>0</td><td> 5743</td><td>Cao</td><td>12-16w</td><td>10x</td><td>9</td><td>9</td><td>Synovial fibroblasts</td></tr>\n",
       "\t<tr><th scope=row>AAACGCTGTCGAGATG-1</th><td>SeuratProject</td><td> 7091</td><td>2237</td><td>SeuratProject</td><td> 7091</td><td>2237</td><td>242</td><td>13</td><td>3.412777</td><td>0</td><td>0</td><td>0</td><td> 7091</td><td>Cao</td><td>12-16w</td><td>10x</td><td>1</td><td>1</td><td>Synovial fibroblasts</td></tr>\n",
       "\t<tr><th scope=row>AAAGAACAGATGGGCT-1</th><td>SeuratProject</td><td>10593</td><td>2675</td><td>SeuratProject</td><td>10593</td><td>2675</td><td>413</td><td>12</td><td>3.898801</td><td>0</td><td>0</td><td>0</td><td>10593</td><td>Cao</td><td>12-16w</td><td>10x</td><td>1</td><td>1</td><td>Synovial fibroblasts</td></tr>\n",
       "</tbody>\n",
       "</table>\n"
      ],
      "text/latex": [
       "A data.frame: 6 × 19\n",
       "\\begin{tabular}{r|lllllllllllllllllll}\n",
       "  & orig.ident & nCount\\_RNA & nFeature\\_RNA & ident & sum & detected & subsets\\_Mito\\_sum & subsets\\_Mito\\_detected & subsets\\_Mito\\_percent & subsets\\_ERCC\\_sum & subsets\\_ERCC\\_detected & subsets\\_ERCC\\_percent & total & Author & Age & Tech & RNA\\_snn\\_res.0.8 & seurat\\_clusters & CellType\\\\\n",
       "  & <fct> & <dbl> & <int> & <fct> & <dbl> & <int> & <dbl> & <int> & <dbl> & <dbl> & <int> & <dbl> & <dbl> & <chr> & <chr> & <chr> & <fct> & <fct> & <fct>\\\\\n",
       "\\hline\n",
       "\tAAACCCAGTATACAGA-1 & SeuratProject &  9480 & 2664 & SeuratProject &  9480 & 2664 & 455 & 12 & 4.799578 & 0 & 0 & 0 &  9480 & Cao & 12-16w & 10x & 1 & 1 & Synovial fibroblasts\\\\\n",
       "\tAAACCCATCAACCTCC-1 & SeuratProject & 10360 & 2262 & SeuratProject & 10360 & 2262 & 272 & 13 & 2.625483 & 0 & 0 & 0 & 10360 & Cao & 12-16w & 10x & 5 & 5 & Immune cells        \\\\\n",
       "\tAAACGAACACCCTGAG-1 & SeuratProject &  8352 & 3001 & SeuratProject &  8352 & 3001 & 278 & 12 & 3.328544 & 0 & 0 & 0 &  8352 & Cao & 12-16w & 10x & 0 & 0 & Synovial fibroblasts\\\\\n",
       "\tAAACGAACACCGAATT-1 & SeuratProject &  5743 & 2102 & SeuratProject &  5743 & 2102 & 301 & 13 & 5.241163 & 0 & 0 & 0 &  5743 & Cao & 12-16w & 10x & 9 & 9 & Synovial fibroblasts\\\\\n",
       "\tAAACGCTGTCGAGATG-1 & SeuratProject &  7091 & 2237 & SeuratProject &  7091 & 2237 & 242 & 13 & 3.412777 & 0 & 0 & 0 &  7091 & Cao & 12-16w & 10x & 1 & 1 & Synovial fibroblasts\\\\\n",
       "\tAAAGAACAGATGGGCT-1 & SeuratProject & 10593 & 2675 & SeuratProject & 10593 & 2675 & 413 & 12 & 3.898801 & 0 & 0 & 0 & 10593 & Cao & 12-16w & 10x & 1 & 1 & Synovial fibroblasts\\\\\n",
       "\\end{tabular}\n"
      ],
      "text/markdown": [
       "\n",
       "A data.frame: 6 × 19\n",
       "\n",
       "| <!--/--> | orig.ident &lt;fct&gt; | nCount_RNA &lt;dbl&gt; | nFeature_RNA &lt;int&gt; | ident &lt;fct&gt; | sum &lt;dbl&gt; | detected &lt;int&gt; | subsets_Mito_sum &lt;dbl&gt; | subsets_Mito_detected &lt;int&gt; | subsets_Mito_percent &lt;dbl&gt; | subsets_ERCC_sum &lt;dbl&gt; | subsets_ERCC_detected &lt;int&gt; | subsets_ERCC_percent &lt;dbl&gt; | total &lt;dbl&gt; | Author &lt;chr&gt; | Age &lt;chr&gt; | Tech &lt;chr&gt; | RNA_snn_res.0.8 &lt;fct&gt; | seurat_clusters &lt;fct&gt; | CellType &lt;fct&gt; |\n",
       "|---|---|---|---|---|---|---|---|---|---|---|---|---|---|---|---|---|---|---|---|\n",
       "| AAACCCAGTATACAGA-1 | SeuratProject |  9480 | 2664 | SeuratProject |  9480 | 2664 | 455 | 12 | 4.799578 | 0 | 0 | 0 |  9480 | Cao | 12-16w | 10x | 1 | 1 | Synovial fibroblasts |\n",
       "| AAACCCATCAACCTCC-1 | SeuratProject | 10360 | 2262 | SeuratProject | 10360 | 2262 | 272 | 13 | 2.625483 | 0 | 0 | 0 | 10360 | Cao | 12-16w | 10x | 5 | 5 | Immune cells         |\n",
       "| AAACGAACACCCTGAG-1 | SeuratProject |  8352 | 3001 | SeuratProject |  8352 | 3001 | 278 | 12 | 3.328544 | 0 | 0 | 0 |  8352 | Cao | 12-16w | 10x | 0 | 0 | Synovial fibroblasts |\n",
       "| AAACGAACACCGAATT-1 | SeuratProject |  5743 | 2102 | SeuratProject |  5743 | 2102 | 301 | 13 | 5.241163 | 0 | 0 | 0 |  5743 | Cao | 12-16w | 10x | 9 | 9 | Synovial fibroblasts |\n",
       "| AAACGCTGTCGAGATG-1 | SeuratProject |  7091 | 2237 | SeuratProject |  7091 | 2237 | 242 | 13 | 3.412777 | 0 | 0 | 0 |  7091 | Cao | 12-16w | 10x | 1 | 1 | Synovial fibroblasts |\n",
       "| AAAGAACAGATGGGCT-1 | SeuratProject | 10593 | 2675 | SeuratProject | 10593 | 2675 | 413 | 12 | 3.898801 | 0 | 0 | 0 | 10593 | Cao | 12-16w | 10x | 1 | 1 | Synovial fibroblasts |\n",
       "\n"
      ],
      "text/plain": [
       "                   orig.ident    nCount_RNA nFeature_RNA ident         sum  \n",
       "AAACCCAGTATACAGA-1 SeuratProject  9480      2664         SeuratProject  9480\n",
       "AAACCCATCAACCTCC-1 SeuratProject 10360      2262         SeuratProject 10360\n",
       "AAACGAACACCCTGAG-1 SeuratProject  8352      3001         SeuratProject  8352\n",
       "AAACGAACACCGAATT-1 SeuratProject  5743      2102         SeuratProject  5743\n",
       "AAACGCTGTCGAGATG-1 SeuratProject  7091      2237         SeuratProject  7091\n",
       "AAAGAACAGATGGGCT-1 SeuratProject 10593      2675         SeuratProject 10593\n",
       "                   detected subsets_Mito_sum subsets_Mito_detected\n",
       "AAACCCAGTATACAGA-1 2664     455              12                   \n",
       "AAACCCATCAACCTCC-1 2262     272              13                   \n",
       "AAACGAACACCCTGAG-1 3001     278              12                   \n",
       "AAACGAACACCGAATT-1 2102     301              13                   \n",
       "AAACGCTGTCGAGATG-1 2237     242              13                   \n",
       "AAAGAACAGATGGGCT-1 2675     413              12                   \n",
       "                   subsets_Mito_percent subsets_ERCC_sum subsets_ERCC_detected\n",
       "AAACCCAGTATACAGA-1 4.799578             0                0                    \n",
       "AAACCCATCAACCTCC-1 2.625483             0                0                    \n",
       "AAACGAACACCCTGAG-1 3.328544             0                0                    \n",
       "AAACGAACACCGAATT-1 5.241163             0                0                    \n",
       "AAACGCTGTCGAGATG-1 3.412777             0                0                    \n",
       "AAAGAACAGATGGGCT-1 3.898801             0                0                    \n",
       "                   subsets_ERCC_percent total Author Age    Tech\n",
       "AAACCCAGTATACAGA-1 0                     9480 Cao    12-16w 10x \n",
       "AAACCCATCAACCTCC-1 0                    10360 Cao    12-16w 10x \n",
       "AAACGAACACCCTGAG-1 0                     8352 Cao    12-16w 10x \n",
       "AAACGAACACCGAATT-1 0                     5743 Cao    12-16w 10x \n",
       "AAACGCTGTCGAGATG-1 0                     7091 Cao    12-16w 10x \n",
       "AAAGAACAGATGGGCT-1 0                    10593 Cao    12-16w 10x \n",
       "                   RNA_snn_res.0.8 seurat_clusters CellType            \n",
       "AAACCCAGTATACAGA-1 1               1               Synovial fibroblasts\n",
       "AAACCCATCAACCTCC-1 5               5               Immune cells        \n",
       "AAACGAACACCCTGAG-1 0               0               Synovial fibroblasts\n",
       "AAACGAACACCGAATT-1 9               9               Synovial fibroblasts\n",
       "AAACGCTGTCGAGATG-1 1               1               Synovial fibroblasts\n",
       "AAAGAACAGATGGGCT-1 1               1               Synovial fibroblasts"
      ]
     },
     "metadata": {},
     "output_type": "display_data"
    }
   ],
   "source": [
    "head(S7.1@meta.data)"
   ]
  },
  {
   "cell_type": "code",
   "execution_count": 57,
   "id": "339bc8bb-b46c-4fb6-af6a-383d640c03a2",
   "metadata": {},
   "outputs": [],
   "source": [
    "S7.1@meta.data$Study = 'GSE211584'\n",
    "S7.1@meta.data$Batch = 'GSM6481125'\n",
    "S7.1@meta.data$Author = 'Farrell'\n",
    "S7.1@meta.data$Tissue = 'Knee synovium'\n",
    "S7.1@meta.data$Strain= 'C57Bl/6'\n",
    "S7.1@meta.data$Organism= 'Mus musculus'\n",
    "S7.1@meta.data$`detected.1`<- NULL\n",
    "S7.1@meta.data$`subsets_ERCC_detected.1` <- NULL\n",
    "S7.1@meta.data$`subsets_ERCC_percent.1` <- NULL\n",
    "S7.1@meta.data$`subsets_ERCC_sum.1` <- NULL\n",
    "S7.1@meta.data$`subsets_Mito_detected.1` <- NULL\n",
    "S7.1@meta.data$`subsets_Mito_percent.1` <- NULL\n",
    "S7.1@meta.data$`subsets_Mito_sum.1` <- NULL\n",
    "S7.1@meta.data$`sum.1` <- NULL\n",
    "S7.1@meta.data$`total.1` <- NULL\n",
    "S7.1@meta.data$detected <- NULL\n",
    "S7.1@meta.data$ident <- NULL\n",
    "S7.1@meta.data$Instrument <- NULL\n",
    "S7.1@meta.data$orig.ident <- NULL\n",
    "S7.1@meta.data$`RNA_snn_res.0.8`<- NULL\n",
    "S7.1@meta.data$Sample_Name <- NULL\n",
    "S7.1@meta.data$seurat_clusters <- NULL\n",
    "S7.1@meta.data$subsets_ERCC_detected <- NULL\n",
    "S7.1@meta.data$subsets_ERCC_percent <- NULL\n",
    "S7.1@meta.data$subsets_ERCC_sum <- NULL\n",
    "S7.1@meta.data$sum <- NULL\n",
    "S7.1@meta.data$total <- NULL\n",
    "S7.1@meta.data$subsets_Mito_detected<- NULL\n",
    "S7.1@meta.data$subsets_Mito_sum<- NULL\n",
    "S7.1@meta.data$subsets_Mito_percent <- NULL\n",
    "S7.1@meta.data$source_name <- NULL\n",
    "\n",
    "S7.1@meta.data$percent.mt <- NULL\n",
    "S7.1@meta.data$DevTP <- S7.1@meta.data$Age\n",
    "S7.1@meta.data$Age <- NULL\n",
    "S7.1@meta.data$Technology <- S7.1@meta.data$Tech\n",
    "S7.1@meta.data$Tech <- NULL"
   ]
  },
  {
   "cell_type": "code",
   "execution_count": 58,
   "id": "3b308ae5-1966-485e-81cc-f88c66eb8d41",
   "metadata": {
    "tags": []
   },
   "outputs": [
    {
     "data": {
      "text/html": [
       "<table class=\"dataframe\">\n",
       "<caption>A data.frame: 6 × 19</caption>\n",
       "<thead>\n",
       "\t<tr><th></th><th scope=col>orig.ident</th><th scope=col>nCount_RNA</th><th scope=col>nFeature_RNA</th><th scope=col>ident</th><th scope=col>sum</th><th scope=col>detected</th><th scope=col>subsets_Mito_sum</th><th scope=col>subsets_Mito_detected</th><th scope=col>subsets_Mito_percent</th><th scope=col>subsets_ERCC_sum</th><th scope=col>subsets_ERCC_detected</th><th scope=col>subsets_ERCC_percent</th><th scope=col>total</th><th scope=col>Author</th><th scope=col>Age</th><th scope=col>Tech</th><th scope=col>RNA_snn_res.0.8</th><th scope=col>seurat_clusters</th><th scope=col>CellType</th></tr>\n",
       "\t<tr><th></th><th scope=col>&lt;fct&gt;</th><th scope=col>&lt;dbl&gt;</th><th scope=col>&lt;int&gt;</th><th scope=col>&lt;fct&gt;</th><th scope=col>&lt;dbl&gt;</th><th scope=col>&lt;int&gt;</th><th scope=col>&lt;dbl&gt;</th><th scope=col>&lt;int&gt;</th><th scope=col>&lt;dbl&gt;</th><th scope=col>&lt;dbl&gt;</th><th scope=col>&lt;int&gt;</th><th scope=col>&lt;dbl&gt;</th><th scope=col>&lt;dbl&gt;</th><th scope=col>&lt;chr&gt;</th><th scope=col>&lt;chr&gt;</th><th scope=col>&lt;chr&gt;</th><th scope=col>&lt;fct&gt;</th><th scope=col>&lt;fct&gt;</th><th scope=col>&lt;fct&gt;</th></tr>\n",
       "</thead>\n",
       "<tbody>\n",
       "\t<tr><th scope=row>AAACCCAGTGGACAGT-1</th><td>SeuratProject</td><td>16510</td><td>1584</td><td>SeuratProject</td><td>16510</td><td>1584</td><td>231</td><td>12</td><td>1.399152</td><td>0</td><td>0</td><td>0</td><td>16510</td><td>Maerz</td><td>12-16w</td><td>10x</td><td>5</td><td>5</td><td>Erythroid cells     </td></tr>\n",
       "\t<tr><th scope=row>AAACGAAAGTGAACAT-1</th><td>SeuratProject</td><td>14255</td><td>3892</td><td>SeuratProject</td><td>14255</td><td>3892</td><td>225</td><td>11</td><td>1.578394</td><td>0</td><td>0</td><td>0</td><td>14255</td><td>Maerz</td><td>12-16w</td><td>10x</td><td>1</td><td>1</td><td>Synovial fibroblasts</td></tr>\n",
       "\t<tr><th scope=row>AAACGCTAGGGTGAAA-1</th><td>SeuratProject</td><td> 4397</td><td>1736</td><td>SeuratProject</td><td> 4397</td><td>1736</td><td>334</td><td>12</td><td>7.596088</td><td>0</td><td>0</td><td>0</td><td> 4397</td><td>Maerz</td><td>12-16w</td><td>10x</td><td>7</td><td>7</td><td>Immune cells        </td></tr>\n",
       "\t<tr><th scope=row>AAAGAACCAACTTCTT-1</th><td>SeuratProject</td><td>13949</td><td>3696</td><td>SeuratProject</td><td>13949</td><td>3696</td><td>378</td><td>11</td><td>2.709872</td><td>0</td><td>0</td><td>0</td><td>13949</td><td>Maerz</td><td>12-16w</td><td>10x</td><td>1</td><td>1</td><td>Synovial fibroblasts</td></tr>\n",
       "\t<tr><th scope=row>AAAGGATAGGATTCAA-1</th><td>SeuratProject</td><td>10054</td><td>2833</td><td>SeuratProject</td><td>10054</td><td>2833</td><td>232</td><td>12</td><td>2.307539</td><td>0</td><td>0</td><td>0</td><td>10054</td><td>Maerz</td><td>12-16w</td><td>10x</td><td>2</td><td>2</td><td>Synovial fibroblasts</td></tr>\n",
       "\t<tr><th scope=row>AAAGGGCAGAGGTATT-1</th><td>SeuratProject</td><td> 2105</td><td> 990</td><td>SeuratProject</td><td> 2105</td><td> 990</td><td>150</td><td>12</td><td>7.125891</td><td>0</td><td>0</td><td>0</td><td> 2105</td><td>Maerz</td><td>12-16w</td><td>10x</td><td>3</td><td>3</td><td>Synovial fibroblasts</td></tr>\n",
       "</tbody>\n",
       "</table>\n"
      ],
      "text/latex": [
       "A data.frame: 6 × 19\n",
       "\\begin{tabular}{r|lllllllllllllllllll}\n",
       "  & orig.ident & nCount\\_RNA & nFeature\\_RNA & ident & sum & detected & subsets\\_Mito\\_sum & subsets\\_Mito\\_detected & subsets\\_Mito\\_percent & subsets\\_ERCC\\_sum & subsets\\_ERCC\\_detected & subsets\\_ERCC\\_percent & total & Author & Age & Tech & RNA\\_snn\\_res.0.8 & seurat\\_clusters & CellType\\\\\n",
       "  & <fct> & <dbl> & <int> & <fct> & <dbl> & <int> & <dbl> & <int> & <dbl> & <dbl> & <int> & <dbl> & <dbl> & <chr> & <chr> & <chr> & <fct> & <fct> & <fct>\\\\\n",
       "\\hline\n",
       "\tAAACCCAGTGGACAGT-1 & SeuratProject & 16510 & 1584 & SeuratProject & 16510 & 1584 & 231 & 12 & 1.399152 & 0 & 0 & 0 & 16510 & Maerz & 12-16w & 10x & 5 & 5 & Erythroid cells     \\\\\n",
       "\tAAACGAAAGTGAACAT-1 & SeuratProject & 14255 & 3892 & SeuratProject & 14255 & 3892 & 225 & 11 & 1.578394 & 0 & 0 & 0 & 14255 & Maerz & 12-16w & 10x & 1 & 1 & Synovial fibroblasts\\\\\n",
       "\tAAACGCTAGGGTGAAA-1 & SeuratProject &  4397 & 1736 & SeuratProject &  4397 & 1736 & 334 & 12 & 7.596088 & 0 & 0 & 0 &  4397 & Maerz & 12-16w & 10x & 7 & 7 & Immune cells        \\\\\n",
       "\tAAAGAACCAACTTCTT-1 & SeuratProject & 13949 & 3696 & SeuratProject & 13949 & 3696 & 378 & 11 & 2.709872 & 0 & 0 & 0 & 13949 & Maerz & 12-16w & 10x & 1 & 1 & Synovial fibroblasts\\\\\n",
       "\tAAAGGATAGGATTCAA-1 & SeuratProject & 10054 & 2833 & SeuratProject & 10054 & 2833 & 232 & 12 & 2.307539 & 0 & 0 & 0 & 10054 & Maerz & 12-16w & 10x & 2 & 2 & Synovial fibroblasts\\\\\n",
       "\tAAAGGGCAGAGGTATT-1 & SeuratProject &  2105 &  990 & SeuratProject &  2105 &  990 & 150 & 12 & 7.125891 & 0 & 0 & 0 &  2105 & Maerz & 12-16w & 10x & 3 & 3 & Synovial fibroblasts\\\\\n",
       "\\end{tabular}\n"
      ],
      "text/markdown": [
       "\n",
       "A data.frame: 6 × 19\n",
       "\n",
       "| <!--/--> | orig.ident &lt;fct&gt; | nCount_RNA &lt;dbl&gt; | nFeature_RNA &lt;int&gt; | ident &lt;fct&gt; | sum &lt;dbl&gt; | detected &lt;int&gt; | subsets_Mito_sum &lt;dbl&gt; | subsets_Mito_detected &lt;int&gt; | subsets_Mito_percent &lt;dbl&gt; | subsets_ERCC_sum &lt;dbl&gt; | subsets_ERCC_detected &lt;int&gt; | subsets_ERCC_percent &lt;dbl&gt; | total &lt;dbl&gt; | Author &lt;chr&gt; | Age &lt;chr&gt; | Tech &lt;chr&gt; | RNA_snn_res.0.8 &lt;fct&gt; | seurat_clusters &lt;fct&gt; | CellType &lt;fct&gt; |\n",
       "|---|---|---|---|---|---|---|---|---|---|---|---|---|---|---|---|---|---|---|---|\n",
       "| AAACCCAGTGGACAGT-1 | SeuratProject | 16510 | 1584 | SeuratProject | 16510 | 1584 | 231 | 12 | 1.399152 | 0 | 0 | 0 | 16510 | Maerz | 12-16w | 10x | 5 | 5 | Erythroid cells      |\n",
       "| AAACGAAAGTGAACAT-1 | SeuratProject | 14255 | 3892 | SeuratProject | 14255 | 3892 | 225 | 11 | 1.578394 | 0 | 0 | 0 | 14255 | Maerz | 12-16w | 10x | 1 | 1 | Synovial fibroblasts |\n",
       "| AAACGCTAGGGTGAAA-1 | SeuratProject |  4397 | 1736 | SeuratProject |  4397 | 1736 | 334 | 12 | 7.596088 | 0 | 0 | 0 |  4397 | Maerz | 12-16w | 10x | 7 | 7 | Immune cells         |\n",
       "| AAAGAACCAACTTCTT-1 | SeuratProject | 13949 | 3696 | SeuratProject | 13949 | 3696 | 378 | 11 | 2.709872 | 0 | 0 | 0 | 13949 | Maerz | 12-16w | 10x | 1 | 1 | Synovial fibroblasts |\n",
       "| AAAGGATAGGATTCAA-1 | SeuratProject | 10054 | 2833 | SeuratProject | 10054 | 2833 | 232 | 12 | 2.307539 | 0 | 0 | 0 | 10054 | Maerz | 12-16w | 10x | 2 | 2 | Synovial fibroblasts |\n",
       "| AAAGGGCAGAGGTATT-1 | SeuratProject |  2105 |  990 | SeuratProject |  2105 |  990 | 150 | 12 | 7.125891 | 0 | 0 | 0 |  2105 | Maerz | 12-16w | 10x | 3 | 3 | Synovial fibroblasts |\n",
       "\n"
      ],
      "text/plain": [
       "                   orig.ident    nCount_RNA nFeature_RNA ident         sum  \n",
       "AAACCCAGTGGACAGT-1 SeuratProject 16510      1584         SeuratProject 16510\n",
       "AAACGAAAGTGAACAT-1 SeuratProject 14255      3892         SeuratProject 14255\n",
       "AAACGCTAGGGTGAAA-1 SeuratProject  4397      1736         SeuratProject  4397\n",
       "AAAGAACCAACTTCTT-1 SeuratProject 13949      3696         SeuratProject 13949\n",
       "AAAGGATAGGATTCAA-1 SeuratProject 10054      2833         SeuratProject 10054\n",
       "AAAGGGCAGAGGTATT-1 SeuratProject  2105       990         SeuratProject  2105\n",
       "                   detected subsets_Mito_sum subsets_Mito_detected\n",
       "AAACCCAGTGGACAGT-1 1584     231              12                   \n",
       "AAACGAAAGTGAACAT-1 3892     225              11                   \n",
       "AAACGCTAGGGTGAAA-1 1736     334              12                   \n",
       "AAAGAACCAACTTCTT-1 3696     378              11                   \n",
       "AAAGGATAGGATTCAA-1 2833     232              12                   \n",
       "AAAGGGCAGAGGTATT-1  990     150              12                   \n",
       "                   subsets_Mito_percent subsets_ERCC_sum subsets_ERCC_detected\n",
       "AAACCCAGTGGACAGT-1 1.399152             0                0                    \n",
       "AAACGAAAGTGAACAT-1 1.578394             0                0                    \n",
       "AAACGCTAGGGTGAAA-1 7.596088             0                0                    \n",
       "AAAGAACCAACTTCTT-1 2.709872             0                0                    \n",
       "AAAGGATAGGATTCAA-1 2.307539             0                0                    \n",
       "AAAGGGCAGAGGTATT-1 7.125891             0                0                    \n",
       "                   subsets_ERCC_percent total Author Age    Tech\n",
       "AAACCCAGTGGACAGT-1 0                    16510 Maerz  12-16w 10x \n",
       "AAACGAAAGTGAACAT-1 0                    14255 Maerz  12-16w 10x \n",
       "AAACGCTAGGGTGAAA-1 0                     4397 Maerz  12-16w 10x \n",
       "AAAGAACCAACTTCTT-1 0                    13949 Maerz  12-16w 10x \n",
       "AAAGGATAGGATTCAA-1 0                    10054 Maerz  12-16w 10x \n",
       "AAAGGGCAGAGGTATT-1 0                     2105 Maerz  12-16w 10x \n",
       "                   RNA_snn_res.0.8 seurat_clusters CellType            \n",
       "AAACCCAGTGGACAGT-1 5               5               Erythroid cells     \n",
       "AAACGAAAGTGAACAT-1 1               1               Synovial fibroblasts\n",
       "AAACGCTAGGGTGAAA-1 7               7               Immune cells        \n",
       "AAAGAACCAACTTCTT-1 1               1               Synovial fibroblasts\n",
       "AAAGGATAGGATTCAA-1 2               2               Synovial fibroblasts\n",
       "AAAGGGCAGAGGTATT-1 3               3               Synovial fibroblasts"
      ]
     },
     "metadata": {},
     "output_type": "display_data"
    }
   ],
   "source": [
    "head(S7.2@meta.data)"
   ]
  },
  {
   "cell_type": "code",
   "execution_count": 59,
   "id": "d51c6675-9037-4e81-b5c8-7ca574b331db",
   "metadata": {},
   "outputs": [],
   "source": [
    "S7.2@meta.data$Study = 'GSE211584'\n",
    "S7.2@meta.data$Batch = 'GSM6481126'\n",
    "S7.2@meta.data$Author = 'Farrell'\n",
    "S7.2@meta.data$Tissue = 'Knee synovium'\n",
    "S7.2@meta.data$Strain= 'C57Bl/6'\n",
    "S7.2@meta.data$Organism= 'Mus musculus'\n",
    "S7.2@meta.data$`detected.1`<- NULL\n",
    "S7.2@meta.data$`subsets_ERCC_detected.1` <- NULL\n",
    "S7.2@meta.data$`subsets_ERCC_percent.1` <- NULL\n",
    "S7.2@meta.data$`subsets_ERCC_sum.1` <- NULL\n",
    "S7.2@meta.data$`subsets_Mito_detected.1` <- NULL\n",
    "S7.2@meta.data$`subsets_Mito_percent.1` <- NULL\n",
    "S7.2@meta.data$`subsets_Mito_sum.1` <- NULL\n",
    "S7.2@meta.data$`sum.1` <- NULL\n",
    "S7.2@meta.data$`total.1` <- NULL\n",
    "S7.2@meta.data$detected <- NULL\n",
    "S7.2@meta.data$ident <- NULL\n",
    "S7.2@meta.data$Instrument <- NULL\n",
    "S7.2@meta.data$orig.ident <- NULL\n",
    "S7.2@meta.data$`RNA_snn_res.0.8`<- NULL\n",
    "S7.2@meta.data$Sample_Name <- NULL\n",
    "S7.2@meta.data$seurat_clusters <- NULL\n",
    "S7.2@meta.data$subsets_ERCC_detected <- NULL\n",
    "S7.2@meta.data$subsets_ERCC_percent <- NULL\n",
    "S7.2@meta.data$subsets_ERCC_sum <- NULL\n",
    "S7.2@meta.data$sum <- NULL\n",
    "S7.2@meta.data$total <- NULL\n",
    "S7.2@meta.data$subsets_Mito_detected<- NULL\n",
    "S7.2@meta.data$subsets_Mito_sum<- NULL\n",
    "S7.2@meta.data$subsets_Mito_percent <- NULL\n",
    "S7.2@meta.data$source_name <- NULL\n",
    "S7.2@meta.data$percent.mt <- NULL\n",
    "S7.2@meta.data$DevTP <- S7.2@meta.data$Age\n",
    "S7.2@meta.data$Age <- NULL\n",
    "S7.2@meta.data$Technology <- S7.2@meta.data$Tech\n",
    "S7.2@meta.data$Tech <- NULL"
   ]
  },
  {
   "cell_type": "code",
   "execution_count": 60,
   "id": "4260674b-bde4-4ce0-aa58-134cc2e1fbfa",
   "metadata": {},
   "outputs": [
    {
     "data": {
      "text/html": [
       "<table class=\"dataframe\">\n",
       "<caption>A data.frame: 6 × 12</caption>\n",
       "<thead>\n",
       "\t<tr><th></th><th scope=col>nCount_RNA</th><th scope=col>nFeature_RNA</th><th scope=col>Age</th><th scope=col>Tissue</th><th scope=col>percent.mt</th><th scope=col>Technology</th><th scope=col>Organism</th><th scope=col>Strain</th><th scope=col>Author</th><th scope=col>RNA_snn_res.0.5</th><th scope=col>seurat_clusters</th><th scope=col>CellType</th></tr>\n",
       "\t<tr><th></th><th scope=col>&lt;dbl&gt;</th><th scope=col>&lt;int&gt;</th><th scope=col>&lt;chr&gt;</th><th scope=col>&lt;chr&gt;</th><th scope=col>&lt;dbl&gt;</th><th scope=col>&lt;chr&gt;</th><th scope=col>&lt;chr&gt;</th><th scope=col>&lt;chr&gt;</th><th scope=col>&lt;chr&gt;</th><th scope=col>&lt;fct&gt;</th><th scope=col>&lt;fct&gt;</th><th scope=col>&lt;fct&gt;</th></tr>\n",
       "</thead>\n",
       "<tbody>\n",
       "\t<tr><th scope=row>Std1_AAACCTGAGAAGGGTA</th><td> 5613</td><td>2359</td><td>8-10w old</td><td>Adult bone</td><td>3.580973</td><td>10x</td><td>Mus musculus</td><td>MLL-AF9</td><td>Scadden</td><td>4</td><td>4</td><td>Articular chondrocytes       </td></tr>\n",
       "\t<tr><th scope=row>Std1_AAACCTGAGCCAGAAC</th><td> 3483</td><td>1598</td><td>8-10w old</td><td>Adult bone</td><td>3.043353</td><td>10x</td><td>Mus musculus</td><td>MLL-AF9</td><td>Scadden</td><td>3</td><td>3</td><td>Vascular endothelial cells   </td></tr>\n",
       "\t<tr><th scope=row>Std1_AAACCTGAGTATCGAA</th><td> 2259</td><td>1179</td><td>8-10w old</td><td>Adult bone</td><td>6.684374</td><td>10x</td><td>Mus musculus</td><td>MLL-AF9</td><td>Scadden</td><td>0</td><td>0</td><td>LepR + BMSCs                 </td></tr>\n",
       "\t<tr><th scope=row>Std1_AAACCTGGTATAGGGC</th><td> 2147</td><td>1149</td><td>8-10w old</td><td>Adult bone</td><td>6.334420</td><td>10x</td><td>Mus musculus</td><td>MLL-AF9</td><td>Scadden</td><td>3</td><td>3</td><td>Vascular endothelial cells   </td></tr>\n",
       "\t<tr><th scope=row>Std1_AAACCTGGTCACACGC</th><td>10249</td><td>2521</td><td>8-10w old</td><td>Adult bone</td><td>8.498390</td><td>10x</td><td>Mus musculus</td><td>MLL-AF9</td><td>Scadden</td><td>2</td><td>2</td><td>Pre-hypertrophic chondrocytes</td></tr>\n",
       "\t<tr><th scope=row>Std1_AAACCTGGTGTGACGA</th><td> 2644</td><td>1348</td><td>8-10w old</td><td>Adult bone</td><td>3.857791</td><td>10x</td><td>Mus musculus</td><td>MLL-AF9</td><td>Scadden</td><td>5</td><td>5</td><td>Vascular endothelial cells   </td></tr>\n",
       "</tbody>\n",
       "</table>\n"
      ],
      "text/latex": [
       "A data.frame: 6 × 12\n",
       "\\begin{tabular}{r|llllllllllll}\n",
       "  & nCount\\_RNA & nFeature\\_RNA & Age & Tissue & percent.mt & Technology & Organism & Strain & Author & RNA\\_snn\\_res.0.5 & seurat\\_clusters & CellType\\\\\n",
       "  & <dbl> & <int> & <chr> & <chr> & <dbl> & <chr> & <chr> & <chr> & <chr> & <fct> & <fct> & <fct>\\\\\n",
       "\\hline\n",
       "\tStd1\\_AAACCTGAGAAGGGTA &  5613 & 2359 & 8-10w old & Adult bone & 3.580973 & 10x & Mus musculus & MLL-AF9 & Scadden & 4 & 4 & Articular chondrocytes       \\\\\n",
       "\tStd1\\_AAACCTGAGCCAGAAC &  3483 & 1598 & 8-10w old & Adult bone & 3.043353 & 10x & Mus musculus & MLL-AF9 & Scadden & 3 & 3 & Vascular endothelial cells   \\\\\n",
       "\tStd1\\_AAACCTGAGTATCGAA &  2259 & 1179 & 8-10w old & Adult bone & 6.684374 & 10x & Mus musculus & MLL-AF9 & Scadden & 0 & 0 & LepR + BMSCs                 \\\\\n",
       "\tStd1\\_AAACCTGGTATAGGGC &  2147 & 1149 & 8-10w old & Adult bone & 6.334420 & 10x & Mus musculus & MLL-AF9 & Scadden & 3 & 3 & Vascular endothelial cells   \\\\\n",
       "\tStd1\\_AAACCTGGTCACACGC & 10249 & 2521 & 8-10w old & Adult bone & 8.498390 & 10x & Mus musculus & MLL-AF9 & Scadden & 2 & 2 & Pre-hypertrophic chondrocytes\\\\\n",
       "\tStd1\\_AAACCTGGTGTGACGA &  2644 & 1348 & 8-10w old & Adult bone & 3.857791 & 10x & Mus musculus & MLL-AF9 & Scadden & 5 & 5 & Vascular endothelial cells   \\\\\n",
       "\\end{tabular}\n"
      ],
      "text/markdown": [
       "\n",
       "A data.frame: 6 × 12\n",
       "\n",
       "| <!--/--> | nCount_RNA &lt;dbl&gt; | nFeature_RNA &lt;int&gt; | Age &lt;chr&gt; | Tissue &lt;chr&gt; | percent.mt &lt;dbl&gt; | Technology &lt;chr&gt; | Organism &lt;chr&gt; | Strain &lt;chr&gt; | Author &lt;chr&gt; | RNA_snn_res.0.5 &lt;fct&gt; | seurat_clusters &lt;fct&gt; | CellType &lt;fct&gt; |\n",
       "|---|---|---|---|---|---|---|---|---|---|---|---|---|\n",
       "| Std1_AAACCTGAGAAGGGTA |  5613 | 2359 | 8-10w old | Adult bone | 3.580973 | 10x | Mus musculus | MLL-AF9 | Scadden | 4 | 4 | Articular chondrocytes        |\n",
       "| Std1_AAACCTGAGCCAGAAC |  3483 | 1598 | 8-10w old | Adult bone | 3.043353 | 10x | Mus musculus | MLL-AF9 | Scadden | 3 | 3 | Vascular endothelial cells    |\n",
       "| Std1_AAACCTGAGTATCGAA |  2259 | 1179 | 8-10w old | Adult bone | 6.684374 | 10x | Mus musculus | MLL-AF9 | Scadden | 0 | 0 | LepR + BMSCs                  |\n",
       "| Std1_AAACCTGGTATAGGGC |  2147 | 1149 | 8-10w old | Adult bone | 6.334420 | 10x | Mus musculus | MLL-AF9 | Scadden | 3 | 3 | Vascular endothelial cells    |\n",
       "| Std1_AAACCTGGTCACACGC | 10249 | 2521 | 8-10w old | Adult bone | 8.498390 | 10x | Mus musculus | MLL-AF9 | Scadden | 2 | 2 | Pre-hypertrophic chondrocytes |\n",
       "| Std1_AAACCTGGTGTGACGA |  2644 | 1348 | 8-10w old | Adult bone | 3.857791 | 10x | Mus musculus | MLL-AF9 | Scadden | 5 | 5 | Vascular endothelial cells    |\n",
       "\n"
      ],
      "text/plain": [
       "                      nCount_RNA nFeature_RNA Age       Tissue     percent.mt\n",
       "Std1_AAACCTGAGAAGGGTA  5613      2359         8-10w old Adult bone 3.580973  \n",
       "Std1_AAACCTGAGCCAGAAC  3483      1598         8-10w old Adult bone 3.043353  \n",
       "Std1_AAACCTGAGTATCGAA  2259      1179         8-10w old Adult bone 6.684374  \n",
       "Std1_AAACCTGGTATAGGGC  2147      1149         8-10w old Adult bone 6.334420  \n",
       "Std1_AAACCTGGTCACACGC 10249      2521         8-10w old Adult bone 8.498390  \n",
       "Std1_AAACCTGGTGTGACGA  2644      1348         8-10w old Adult bone 3.857791  \n",
       "                      Technology Organism     Strain  Author  RNA_snn_res.0.5\n",
       "Std1_AAACCTGAGAAGGGTA 10x        Mus musculus MLL-AF9 Scadden 4              \n",
       "Std1_AAACCTGAGCCAGAAC 10x        Mus musculus MLL-AF9 Scadden 3              \n",
       "Std1_AAACCTGAGTATCGAA 10x        Mus musculus MLL-AF9 Scadden 0              \n",
       "Std1_AAACCTGGTATAGGGC 10x        Mus musculus MLL-AF9 Scadden 3              \n",
       "Std1_AAACCTGGTCACACGC 10x        Mus musculus MLL-AF9 Scadden 2              \n",
       "Std1_AAACCTGGTGTGACGA 10x        Mus musculus MLL-AF9 Scadden 5              \n",
       "                      seurat_clusters CellType                     \n",
       "Std1_AAACCTGAGAAGGGTA 4               Articular chondrocytes       \n",
       "Std1_AAACCTGAGCCAGAAC 3               Vascular endothelial cells   \n",
       "Std1_AAACCTGAGTATCGAA 0               LepR + BMSCs                 \n",
       "Std1_AAACCTGGTATAGGGC 3               Vascular endothelial cells   \n",
       "Std1_AAACCTGGTCACACGC 2               Pre-hypertrophic chondrocytes\n",
       "Std1_AAACCTGGTGTGACGA 5               Vascular endothelial cells   "
      ]
     },
     "metadata": {},
     "output_type": "display_data"
    }
   ],
   "source": [
    "head(S8@meta.data)"
   ]
  },
  {
   "cell_type": "code",
   "execution_count": 61,
   "id": "24b1ae5b-13d6-464e-935a-5dc0877e7dc1",
   "metadata": {},
   "outputs": [],
   "source": [
    "S8@meta.data$Study = 'SRP188674'\n",
    "S8@meta.data$Batch = 'SRP188674'\n",
    "\n",
    "S8@meta.data$`RNA_snn_res.0.5` <- NULL\n",
    "S8@meta.data$seurat_clusters <- NULL\n",
    "\n",
    "S8@meta.data$percent.mt <- NULL\n",
    "S8@meta.data$DevTP <- S8@meta.data$Age\n",
    "S8@meta.data$Age <- NULL\n"
   ]
  },
  {
   "cell_type": "markdown",
   "id": "69c98c6b-7b3c-4778-b5ba-ae60413dbad1",
   "metadata": {},
   "source": [
    "## Merge data"
   ]
  },
  {
   "cell_type": "code",
   "execution_count": 62,
   "id": "334380bc-4ec1-41b0-92d8-90d355213ae5",
   "metadata": {},
   "outputs": [
    {
     "name": "stderr",
     "output_type": "stream",
     "text": [
      "Warning message in CheckDuplicateCellNames(object.list = objects):\n",
      "“Some cell names are duplicated across objects provided. Renaming to enforce unique cell names.”\n"
     ]
    }
   ],
   "source": [
    "seurat_list <- list(S2.1,S2.2,S2.3,S2.4, S3,S4,S5.1,S5.2,S5.3,S5.4,S6.1,S6.2,S6.3,S7.1,S7.2,S8)\n",
    "merged <- merge(S1, seurat_list)\n"
   ]
  },
  {
   "cell_type": "code",
   "execution_count": 63,
   "id": "4bc8f3ec-567b-4353-bf95-705034f7469d",
   "metadata": {},
   "outputs": [
    {
     "data": {
      "text/plain": [
       "An object of class Seurat \n",
       "69966 features across 95097 samples within 2 assays \n",
       "Active assay: RNA (42623 features, 0 variable features)\n",
       " 1 other assay present: originalexp"
      ]
     },
     "metadata": {},
     "output_type": "display_data"
    }
   ],
   "source": [
    "merged"
   ]
  },
  {
   "cell_type": "markdown",
   "id": "dc6bdf3a-97f0-47c5-8de6-ed3d54dddc65",
   "metadata": {},
   "source": [
    "## Check developmental time point"
   ]
  },
  {
   "cell_type": "code",
   "execution_count": 64,
   "id": "c0e32efb-f323-4805-ab12-80d3ca87aad8",
   "metadata": {},
   "outputs": [],
   "source": [
    "Idents(merged) <- merged@meta.data$DevTP "
   ]
  },
  {
   "cell_type": "code",
   "execution_count": 65,
   "id": "177f547a-0f96-4e49-b7da-0d95452af82d",
   "metadata": {},
   "outputs": [
    {
     "data": {
      "text/html": [
       "<style>\n",
       ".list-inline {list-style: none; margin:0; padding: 0}\n",
       ".list-inline>li {display: inline-block}\n",
       ".list-inline>li:not(:last-child)::after {content: \"\\00b7\"; padding: 0 .5ex}\n",
       "</style>\n",
       "<ol class=list-inline><li>P21</li><li>P21</li><li>P21</li><li>P21</li><li>P21</li><li>P21</li></ol>\n",
       "\n",
       "<details>\n",
       "\t<summary style=display:list-item;cursor:pointer>\n",
       "\t\t<strong>Levels</strong>:\n",
       "\t</summary>\n",
       "\t<style>\n",
       "\t.list-inline {list-style: none; margin:0; padding: 0}\n",
       "\t.list-inline>li {display: inline-block}\n",
       "\t.list-inline>li:not(:last-child)::after {content: \"\\00b7\"; padding: 0 .5ex}\n",
       "\t</style>\n",
       "\t<ol class=list-inline><li>'12-16w'</li><li>'8-10w old'</li><li>'developmental stage: embryonic day 11.5'</li><li>'developmental stage: embryonic day 13.5'</li><li>'developmental stage: embryonic day 15.5'</li><li>'developmental stage: embryonic day 18.5'</li><li>'E12.5'</li><li>'E13.5'</li><li>'E14.5'</li><li>'E15.5'</li><li>'embryonic day E10.5'</li><li>'embryonic day E11.5'</li><li>'embryonic day E12.5'</li><li>'P21'</li><li>'P7'</li></ol>\n",
       "</details>"
      ],
      "text/latex": [
       "\\begin{enumerate*}\n",
       "\\item P21\n",
       "\\item P21\n",
       "\\item P21\n",
       "\\item P21\n",
       "\\item P21\n",
       "\\item P21\n",
       "\\end{enumerate*}\n",
       "\n",
       "\\emph{Levels}: \\begin{enumerate*}\n",
       "\\item '12-16w'\n",
       "\\item '8-10w old'\n",
       "\\item 'developmental stage: embryonic day 11.5'\n",
       "\\item 'developmental stage: embryonic day 13.5'\n",
       "\\item 'developmental stage: embryonic day 15.5'\n",
       "\\item 'developmental stage: embryonic day 18.5'\n",
       "\\item 'E12.5'\n",
       "\\item 'E13.5'\n",
       "\\item 'E14.5'\n",
       "\\item 'E15.5'\n",
       "\\item 'embryonic day E10.5'\n",
       "\\item 'embryonic day E11.5'\n",
       "\\item 'embryonic day E12.5'\n",
       "\\item 'P21'\n",
       "\\item 'P7'\n",
       "\\end{enumerate*}\n"
      ],
      "text/markdown": [
       "1. P21\n",
       "2. P21\n",
       "3. P21\n",
       "4. P21\n",
       "5. P21\n",
       "6. P21\n",
       "\n",
       "\n",
       "\n",
       "**Levels**: 1. '12-16w'\n",
       "2. '8-10w old'\n",
       "3. 'developmental stage: embryonic day 11.5'\n",
       "4. 'developmental stage: embryonic day 13.5'\n",
       "5. 'developmental stage: embryonic day 15.5'\n",
       "6. 'developmental stage: embryonic day 18.5'\n",
       "7. 'E12.5'\n",
       "8. 'E13.5'\n",
       "9. 'E14.5'\n",
       "10. 'E15.5'\n",
       "11. 'embryonic day E10.5'\n",
       "12. 'embryonic day E11.5'\n",
       "13. 'embryonic day E12.5'\n",
       "14. 'P21'\n",
       "15. 'P7'\n",
       "\n",
       "\n"
      ],
      "text/plain": [
       "[1] P21 P21 P21 P21 P21 P21\n",
       "15 Levels: 12-16w 8-10w old ... P7"
      ]
     },
     "metadata": {},
     "output_type": "display_data"
    }
   ],
   "source": [
    "merged@meta.data$DevTP <- as.factor(merged@meta.data$DevTP)\n",
    "head(merged@meta.data$DevTP)"
   ]
  },
  {
   "cell_type": "code",
   "execution_count": 66,
   "id": "f23b40ff-3143-46a8-80ed-d5b908a075f1",
   "metadata": {},
   "outputs": [],
   "source": [
    "merged <- RenameIdents(object = merged, `8-10w old` = \"8-10w\")\n",
    "\n",
    "merged <- RenameIdents(object = merged, `developmental stage: embryonic day 11.5` = \"E11.5\")\n",
    "merged <- RenameIdents(object = merged, `developmental stage: embryonic day 13.5` = \"E13.5\")\n",
    "merged <- RenameIdents(object = merged, `developmental stage: embryonic day 15.5` = \"E15.5\")\n",
    "merged <- RenameIdents(object = merged, `developmental stage: embryonic day 18.5` = \"E18.5\")\n",
    "\n",
    "merged <- RenameIdents(object = merged, `embryonic day E10.5` = \"E10.5\")\n",
    "merged <- RenameIdents(object = merged, `embryonic day E11.5` = \"E11.5\")\n",
    "merged <- RenameIdents(object = merged, `embryonic day E12.5` = \"E12.5\")"
   ]
  },
  {
   "cell_type": "code",
   "execution_count": 67,
   "id": "e5cebd6a-5711-4b0b-ba15-7f63428002de",
   "metadata": {},
   "outputs": [],
   "source": [
    "merged@meta.data$DevTP <- Idents(merged)"
   ]
  },
  {
   "cell_type": "code",
   "execution_count": 68,
   "id": "b12d812c-972d-4f10-a80c-44f93d89ee16",
   "metadata": {},
   "outputs": [
    {
     "data": {
      "text/html": [
       "<style>\n",
       ".list-inline {list-style: none; margin:0; padding: 0}\n",
       ".list-inline>li {display: inline-block}\n",
       ".list-inline>li:not(:last-child)::after {content: \"\\00b7\"; padding: 0 .5ex}\n",
       "</style>\n",
       "<ol class=list-inline><li>P21</li><li>P21</li><li>P21</li><li>P21</li><li>P21</li><li>P21</li></ol>\n",
       "\n",
       "<details>\n",
       "\t<summary style=display:list-item;cursor:pointer>\n",
       "\t\t<strong>Levels</strong>:\n",
       "\t</summary>\n",
       "\t<style>\n",
       "\t.list-inline {list-style: none; margin:0; padding: 0}\n",
       "\t.list-inline>li {display: inline-block}\n",
       "\t.list-inline>li:not(:last-child)::after {content: \"\\00b7\"; padding: 0 .5ex}\n",
       "\t</style>\n",
       "\t<ol class=list-inline><li>'E12.5'</li><li>'E11.5'</li><li>'E10.5'</li><li>'E18.5'</li><li>'E15.5'</li><li>'E13.5'</li><li>'8-10w'</li><li>'P21'</li><li>'E14.5'</li><li>'P7'</li><li>'12-16w'</li></ol>\n",
       "</details>"
      ],
      "text/latex": [
       "\\begin{enumerate*}\n",
       "\\item P21\n",
       "\\item P21\n",
       "\\item P21\n",
       "\\item P21\n",
       "\\item P21\n",
       "\\item P21\n",
       "\\end{enumerate*}\n",
       "\n",
       "\\emph{Levels}: \\begin{enumerate*}\n",
       "\\item 'E12.5'\n",
       "\\item 'E11.5'\n",
       "\\item 'E10.5'\n",
       "\\item 'E18.5'\n",
       "\\item 'E15.5'\n",
       "\\item 'E13.5'\n",
       "\\item '8-10w'\n",
       "\\item 'P21'\n",
       "\\item 'E14.5'\n",
       "\\item 'P7'\n",
       "\\item '12-16w'\n",
       "\\end{enumerate*}\n"
      ],
      "text/markdown": [
       "1. P21\n",
       "2. P21\n",
       "3. P21\n",
       "4. P21\n",
       "5. P21\n",
       "6. P21\n",
       "\n",
       "\n",
       "\n",
       "**Levels**: 1. 'E12.5'\n",
       "2. 'E11.5'\n",
       "3. 'E10.5'\n",
       "4. 'E18.5'\n",
       "5. 'E15.5'\n",
       "6. 'E13.5'\n",
       "7. '8-10w'\n",
       "8. 'P21'\n",
       "9. 'E14.5'\n",
       "10. 'P7'\n",
       "11. '12-16w'\n",
       "\n",
       "\n"
      ],
      "text/plain": [
       "[1] P21 P21 P21 P21 P21 P21\n",
       "Levels: E12.5 E11.5 E10.5 E18.5 E15.5 E13.5 8-10w P21 E14.5 P7 12-16w"
      ]
     },
     "metadata": {},
     "output_type": "display_data"
    }
   ],
   "source": [
    "head(merged@meta.data$DevTP)"
   ]
  },
  {
   "cell_type": "markdown",
   "id": "4862d11e-6124-4995-84ff-efce4a35fe1f",
   "metadata": {},
   "source": [
    "## Check celltype annotation"
   ]
  },
  {
   "cell_type": "code",
   "execution_count": 69,
   "id": "6735a081-bc2d-480a-9cc5-2ce4d612b66a",
   "metadata": {},
   "outputs": [],
   "source": [
    "Idents(merged) <- merged@meta.data$CellType"
   ]
  },
  {
   "cell_type": "code",
   "execution_count": 70,
   "id": "67b8bc9e-f51a-467b-9d84-1c288eba9e40",
   "metadata": {},
   "outputs": [
    {
     "data": {
      "text/html": [
       "<style>\n",
       ".list-inline {list-style: none; margin:0; padding: 0}\n",
       ".list-inline>li {display: inline-block}\n",
       ".list-inline>li:not(:last-child)::after {content: \"\\00b7\"; padding: 0 .5ex}\n",
       "</style>\n",
       "<ol class=list-inline><li>Vascular endothelial cells</li><li>Adipocytes</li><li>Adipocytes</li><li>Resting zone chondrocytes</li><li>Articular chondrocytes</li><li>Articular chondrocytes</li></ol>\n",
       "\n",
       "<details>\n",
       "\t<summary style=display:list-item;cursor:pointer>\n",
       "\t\t<strong>Levels</strong>:\n",
       "\t</summary>\n",
       "\t<style>\n",
       "\t.list-inline {list-style: none; margin:0; padding: 0}\n",
       "\t.list-inline>li {display: inline-block}\n",
       "\t.list-inline>li:not(:last-child)::after {content: \"\\00b7\"; padding: 0 .5ex}\n",
       "\t</style>\n",
       "\t<ol class=list-inline><li>'Adipocytes'</li><li>'AER'</li><li>'Articular chondrocytes'</li><li>'Blood endothelial cells'</li><li>'BMSCs'</li><li>'Chondroprogenitors'</li><li>'Chondroprogenitorss'</li><li>'Cycling cell'</li><li>'Distal limb bud mesenchyme'</li><li>'Distal limb mesenchyme'</li><li>'Distal limb mesenchyme&amp;'</li><li>'Ectoderm'</li><li>'Embryonic skin'</li><li>'Erythroid cells'</li><li>'Fast proliferating cells'</li><li>'Fast proliferating osteoblasts'</li><li>'Fibroblasts'</li><li>'Hypertrophic chondrocyte'</li><li>'Hypertrophic chondrocytes'</li><li>'Immune cells'</li><li>'Imune cells'</li><li>'Intermediate limb bud mesenchyme'</li><li>'Intermediate limb mesenchyme'</li><li>'Interzone cells'</li><li>'Joint precursors'</li><li>'LepR + BMSCs'</li><li>'Lymphatic endothelial cells'</li><li>'Muscle progenitors'</li><li>'Myogenic stem cells'</li><li>'Neurons'</li><li>'Osteoblast'</li><li>'Osteoblasts'</li><li>'Osteoclast'</li><li>'Osteocytes'</li><li>'Osteoprogenitor'</li><li>'Osteoprogenitors'</li><li>'Perichondrium'</li><li>'Periosteal progenitor'</li><li>'Periosteal progenitors'</li><li>'Periosteal stem cell'</li><li>'Periosteum'</li><li>'Platelets'</li><li>'Pre-hypertrophic chondrocyte'</li><li>'Pre-hypertrophic chondrocytes'</li><li>'Proliferative chondrocytes'</li><li>'Proximal limb bud mesenchyle'</li><li>'Proximal limb bud mesenchyme'</li><li>'Proximal limb mesenchyme'</li><li>'Resting zone chondrocytes'</li><li>'Skeletal muscle cells'</li><li>'Skin'</li><li>'Smooth muscle cells'</li><li>'SSPCs'</li><li>'Synovial fibroblasts'</li><li>'TBD'</li><li>'Tenocyte'</li><li>'Tenocyte precursors'</li><li>'Tenocytes'</li><li>'Vascular endothelial cells'</li><li>'ZPA'</li></ol>\n",
       "</details>"
      ],
      "text/latex": [
       "\\begin{enumerate*}\n",
       "\\item Vascular endothelial cells\n",
       "\\item Adipocytes\n",
       "\\item Adipocytes\n",
       "\\item Resting zone chondrocytes\n",
       "\\item Articular chondrocytes\n",
       "\\item Articular chondrocytes\n",
       "\\end{enumerate*}\n",
       "\n",
       "\\emph{Levels}: \\begin{enumerate*}\n",
       "\\item 'Adipocytes'\n",
       "\\item 'AER'\n",
       "\\item 'Articular chondrocytes'\n",
       "\\item 'Blood endothelial cells'\n",
       "\\item 'BMSCs'\n",
       "\\item 'Chondroprogenitors'\n",
       "\\item 'Chondroprogenitorss'\n",
       "\\item 'Cycling cell'\n",
       "\\item 'Distal limb bud mesenchyme'\n",
       "\\item 'Distal limb mesenchyme'\n",
       "\\item 'Distal limb mesenchyme\\&'\n",
       "\\item 'Ectoderm'\n",
       "\\item 'Embryonic skin'\n",
       "\\item 'Erythroid cells'\n",
       "\\item 'Fast proliferating cells'\n",
       "\\item 'Fast proliferating osteoblasts'\n",
       "\\item 'Fibroblasts'\n",
       "\\item 'Hypertrophic chondrocyte'\n",
       "\\item 'Hypertrophic chondrocytes'\n",
       "\\item 'Immune cells'\n",
       "\\item 'Imune cells'\n",
       "\\item 'Intermediate limb bud mesenchyme'\n",
       "\\item 'Intermediate limb mesenchyme'\n",
       "\\item 'Interzone cells'\n",
       "\\item 'Joint precursors'\n",
       "\\item 'LepR + BMSCs'\n",
       "\\item 'Lymphatic endothelial cells'\n",
       "\\item 'Muscle progenitors'\n",
       "\\item 'Myogenic stem cells'\n",
       "\\item 'Neurons'\n",
       "\\item 'Osteoblast'\n",
       "\\item 'Osteoblasts'\n",
       "\\item 'Osteoclast'\n",
       "\\item 'Osteocytes'\n",
       "\\item 'Osteoprogenitor'\n",
       "\\item 'Osteoprogenitors'\n",
       "\\item 'Perichondrium'\n",
       "\\item 'Periosteal progenitor'\n",
       "\\item 'Periosteal progenitors'\n",
       "\\item 'Periosteal stem cell'\n",
       "\\item 'Periosteum'\n",
       "\\item 'Platelets'\n",
       "\\item 'Pre-hypertrophic chondrocyte'\n",
       "\\item 'Pre-hypertrophic chondrocytes'\n",
       "\\item 'Proliferative chondrocytes'\n",
       "\\item 'Proximal limb bud mesenchyle'\n",
       "\\item 'Proximal limb bud mesenchyme'\n",
       "\\item 'Proximal limb mesenchyme'\n",
       "\\item 'Resting zone chondrocytes'\n",
       "\\item 'Skeletal muscle cells'\n",
       "\\item 'Skin'\n",
       "\\item 'Smooth muscle cells'\n",
       "\\item 'SSPCs'\n",
       "\\item 'Synovial fibroblasts'\n",
       "\\item 'TBD'\n",
       "\\item 'Tenocyte'\n",
       "\\item 'Tenocyte precursors'\n",
       "\\item 'Tenocytes'\n",
       "\\item 'Vascular endothelial cells'\n",
       "\\item 'ZPA'\n",
       "\\end{enumerate*}\n"
      ],
      "text/markdown": [
       "1. Vascular endothelial cells\n",
       "2. Adipocytes\n",
       "3. Adipocytes\n",
       "4. Resting zone chondrocytes\n",
       "5. Articular chondrocytes\n",
       "6. Articular chondrocytes\n",
       "\n",
       "\n",
       "\n",
       "**Levels**: 1. 'Adipocytes'\n",
       "2. 'AER'\n",
       "3. 'Articular chondrocytes'\n",
       "4. 'Blood endothelial cells'\n",
       "5. 'BMSCs'\n",
       "6. 'Chondroprogenitors'\n",
       "7. 'Chondroprogenitorss'\n",
       "8. 'Cycling cell'\n",
       "9. 'Distal limb bud mesenchyme'\n",
       "10. 'Distal limb mesenchyme'\n",
       "11. 'Distal limb mesenchyme&amp;'\n",
       "12. 'Ectoderm'\n",
       "13. 'Embryonic skin'\n",
       "14. 'Erythroid cells'\n",
       "15. 'Fast proliferating cells'\n",
       "16. 'Fast proliferating osteoblasts'\n",
       "17. 'Fibroblasts'\n",
       "18. 'Hypertrophic chondrocyte'\n",
       "19. 'Hypertrophic chondrocytes'\n",
       "20. 'Immune cells'\n",
       "21. 'Imune cells'\n",
       "22. 'Intermediate limb bud mesenchyme'\n",
       "23. 'Intermediate limb mesenchyme'\n",
       "24. 'Interzone cells'\n",
       "25. 'Joint precursors'\n",
       "26. 'LepR + BMSCs'\n",
       "27. 'Lymphatic endothelial cells'\n",
       "28. 'Muscle progenitors'\n",
       "29. 'Myogenic stem cells'\n",
       "30. 'Neurons'\n",
       "31. 'Osteoblast'\n",
       "32. 'Osteoblasts'\n",
       "33. 'Osteoclast'\n",
       "34. 'Osteocytes'\n",
       "35. 'Osteoprogenitor'\n",
       "36. 'Osteoprogenitors'\n",
       "37. 'Perichondrium'\n",
       "38. 'Periosteal progenitor'\n",
       "39. 'Periosteal progenitors'\n",
       "40. 'Periosteal stem cell'\n",
       "41. 'Periosteum'\n",
       "42. 'Platelets'\n",
       "43. 'Pre-hypertrophic chondrocyte'\n",
       "44. 'Pre-hypertrophic chondrocytes'\n",
       "45. 'Proliferative chondrocytes'\n",
       "46. 'Proximal limb bud mesenchyle'\n",
       "47. 'Proximal limb bud mesenchyme'\n",
       "48. 'Proximal limb mesenchyme'\n",
       "49. 'Resting zone chondrocytes'\n",
       "50. 'Skeletal muscle cells'\n",
       "51. 'Skin'\n",
       "52. 'Smooth muscle cells'\n",
       "53. 'SSPCs'\n",
       "54. 'Synovial fibroblasts'\n",
       "55. 'TBD'\n",
       "56. 'Tenocyte'\n",
       "57. 'Tenocyte precursors'\n",
       "58. 'Tenocytes'\n",
       "59. 'Vascular endothelial cells'\n",
       "60. 'ZPA'\n",
       "\n",
       "\n"
      ],
      "text/plain": [
       "[1] Vascular endothelial cells Adipocytes                \n",
       "[3] Adipocytes                 Resting zone chondrocytes \n",
       "[5] Articular chondrocytes     Articular chondrocytes    \n",
       "60 Levels: Adipocytes AER Articular chondrocytes ... ZPA"
      ]
     },
     "metadata": {},
     "output_type": "display_data"
    }
   ],
   "source": [
    "merged@meta.data$CellType <- as.factor(merged@meta.data$CellType)\n",
    "head(merged@meta.data$CellType)"
   ]
  },
  {
   "cell_type": "code",
   "execution_count": null,
   "id": "c0b3217c-2e6c-47b3-bdda-f5dfe5c350c8",
   "metadata": {},
   "outputs": [],
   "source": [
    "Not sure about perichondrium annotation -> TBD. Ectoderm -> Embryonic skin"
   ]
  },
  {
   "cell_type": "code",
   "execution_count": 71,
   "id": "d06b54d5-52ec-42d0-a27b-df457616dea0",
   "metadata": {},
   "outputs": [],
   "source": [
    "merged <- RenameIdents(object = merged, `Blood endothelial cells` = \"Vascular endothelial cells\")\n",
    "merged <- RenameIdents(object = merged, `Chondroprogenitorss` = \"Chondroprogenitors\")\n",
    "merged <- RenameIdents(object = merged, `Cycling cell` = \"Fast proliferating cells\")\n",
    "merged <- RenameIdents(object = merged, `Distal limb mesenchyme` = \"Distal limb bud mesenchyme\")\n",
    "merged <- RenameIdents(object = merged, `Distal limb mesenchyme&` = \"Distal limb bud mesenchyme\")\n",
    "merged <- RenameIdents(object = merged, `Hypertrophic chondrocyte` = \"Hypertrophic chondrocytes\")\n",
    "merged <- RenameIdents(object = merged, `Imune cells` = \"Immune cells\")\n",
    "merged <- RenameIdents(object = merged, `Intermediate limb mesenchyme` = \"Intermediate limb bud mesenchyme\")\n",
    "merged <- RenameIdents(object = merged, `Osteoblast` = \"Osteoblasts\")\n",
    "merged <- RenameIdents(object = merged, `Osteoclast` = \"Osteoclasts\")\n",
    "merged <- RenameIdents(object = merged, `Osteoprogenitor` = \"Osteoprogenitors\")\n",
    "merged <- RenameIdents(object = merged, `Periosteal progenitor` = \"Periosteal progenitors\")\n",
    "merged <- RenameIdents(object = merged, `Periosteal stem cell` = \"Periosteal stem cells\")\n",
    "merged <- RenameIdents(object = merged, `Pre-hypertrophic chondrocyte` = \"Pre-hypertrophic chondrocytes\")\n",
    "merged <- RenameIdents(object = merged, `Proximal limb bud mesenchyle` = \"Proximal limb bud mesenchyme\")\n",
    "merged <- RenameIdents(object = merged, `Proximal limb mesenchyme` = \"Proximal limb bud mesenchyme\")\n",
    "merged <- RenameIdents(object = merged, `Skin` = \"Embryonic skin\")\n",
    "merged <- RenameIdents(object = merged, `Tenocyte` = \"Tenocytes\")\n",
    "merged <- RenameIdents(object = merged, `LepR + BMSCs` = \"LepR+ BMSCs\")\n",
    "merged <- RenameIdents(object = merged, `Perichondrium` = \"TBD\")\n",
    "merged <- RenameIdents(object = merged, `Ectoderm` = \"Embryonic skin\")\n"
   ]
  },
  {
   "cell_type": "code",
   "execution_count": 72,
   "id": "cae7bd39-0fc1-4a5d-937a-b56662f72c04",
   "metadata": {},
   "outputs": [],
   "source": [
    "merged@meta.data$CellType <- Idents(merged)"
   ]
  },
  {
   "cell_type": "code",
   "execution_count": 73,
   "id": "1e9a1d4e-6e69-47f0-ab9f-a5d7ebcd5198",
   "metadata": {},
   "outputs": [
    {
     "data": {
      "text/html": [
       "<style>\n",
       ".list-inline {list-style: none; margin:0; padding: 0}\n",
       ".list-inline>li {display: inline-block}\n",
       ".list-inline>li:not(:last-child)::after {content: \"\\00b7\"; padding: 0 .5ex}\n",
       "</style>\n",
       "<ol class=list-inline><li>Vascular endothelial cells</li><li>Adipocytes</li><li>Adipocytes</li><li>Resting zone chondrocytes</li><li>Articular chondrocytes</li><li>Articular chondrocytes</li></ol>\n",
       "\n",
       "<details>\n",
       "\t<summary style=display:list-item;cursor:pointer>\n",
       "\t\t<strong>Levels</strong>:\n",
       "\t</summary>\n",
       "\t<style>\n",
       "\t.list-inline {list-style: none; margin:0; padding: 0}\n",
       "\t.list-inline>li {display: inline-block}\n",
       "\t.list-inline>li:not(:last-child)::after {content: \"\\00b7\"; padding: 0 .5ex}\n",
       "\t</style>\n",
       "\t<ol class=list-inline><li>'Embryonic skin'</li><li>'TBD'</li><li>'LepR+ BMSCs'</li><li>'Tenocytes'</li><li>'Proximal limb bud mesenchyme'</li><li>'Pre-hypertrophic chondrocytes'</li><li>'Periosteal stem cells'</li><li>'Periosteal progenitors'</li><li>'Osteoprogenitors'</li><li>'Osteoclasts'</li><li>'Osteoblasts'</li><li>'Intermediate limb bud mesenchyme'</li><li>'Immune cells'</li><li>'Hypertrophic chondrocytes'</li><li>'Distal limb bud mesenchyme'</li><li>'Fast proliferating cells'</li><li>'Chondroprogenitors'</li><li>'Vascular endothelial cells'</li><li>'Adipocytes'</li><li>'Resting zone chondrocytes'</li><li>'Articular chondrocytes'</li><li>'Proliferative chondrocytes'</li><li>'Erythroid cells'</li><li>'Smooth muscle cells'</li><li>'Fast proliferating osteoblasts'</li><li>'Osteocytes'</li><li>'SSPCs'</li><li>'Platelets'</li><li>'Synovial fibroblasts'</li><li>'Muscle progenitors'</li><li>'Tenocyte precursors'</li><li>'Skeletal muscle cells'</li><li>'Interzone cells'</li><li>'BMSCs'</li><li>'Periosteum'</li><li>'AER'</li><li>'Lymphatic endothelial cells'</li><li>'Neurons'</li><li>'ZPA'</li><li>'Joint precursors'</li><li>'Myogenic stem cells'</li><li>'Fibroblasts'</li></ol>\n",
       "</details>"
      ],
      "text/latex": [
       "\\begin{enumerate*}\n",
       "\\item Vascular endothelial cells\n",
       "\\item Adipocytes\n",
       "\\item Adipocytes\n",
       "\\item Resting zone chondrocytes\n",
       "\\item Articular chondrocytes\n",
       "\\item Articular chondrocytes\n",
       "\\end{enumerate*}\n",
       "\n",
       "\\emph{Levels}: \\begin{enumerate*}\n",
       "\\item 'Embryonic skin'\n",
       "\\item 'TBD'\n",
       "\\item 'LepR+ BMSCs'\n",
       "\\item 'Tenocytes'\n",
       "\\item 'Proximal limb bud mesenchyme'\n",
       "\\item 'Pre-hypertrophic chondrocytes'\n",
       "\\item 'Periosteal stem cells'\n",
       "\\item 'Periosteal progenitors'\n",
       "\\item 'Osteoprogenitors'\n",
       "\\item 'Osteoclasts'\n",
       "\\item 'Osteoblasts'\n",
       "\\item 'Intermediate limb bud mesenchyme'\n",
       "\\item 'Immune cells'\n",
       "\\item 'Hypertrophic chondrocytes'\n",
       "\\item 'Distal limb bud mesenchyme'\n",
       "\\item 'Fast proliferating cells'\n",
       "\\item 'Chondroprogenitors'\n",
       "\\item 'Vascular endothelial cells'\n",
       "\\item 'Adipocytes'\n",
       "\\item 'Resting zone chondrocytes'\n",
       "\\item 'Articular chondrocytes'\n",
       "\\item 'Proliferative chondrocytes'\n",
       "\\item 'Erythroid cells'\n",
       "\\item 'Smooth muscle cells'\n",
       "\\item 'Fast proliferating osteoblasts'\n",
       "\\item 'Osteocytes'\n",
       "\\item 'SSPCs'\n",
       "\\item 'Platelets'\n",
       "\\item 'Synovial fibroblasts'\n",
       "\\item 'Muscle progenitors'\n",
       "\\item 'Tenocyte precursors'\n",
       "\\item 'Skeletal muscle cells'\n",
       "\\item 'Interzone cells'\n",
       "\\item 'BMSCs'\n",
       "\\item 'Periosteum'\n",
       "\\item 'AER'\n",
       "\\item 'Lymphatic endothelial cells'\n",
       "\\item 'Neurons'\n",
       "\\item 'ZPA'\n",
       "\\item 'Joint precursors'\n",
       "\\item 'Myogenic stem cells'\n",
       "\\item 'Fibroblasts'\n",
       "\\end{enumerate*}\n"
      ],
      "text/markdown": [
       "1. Vascular endothelial cells\n",
       "2. Adipocytes\n",
       "3. Adipocytes\n",
       "4. Resting zone chondrocytes\n",
       "5. Articular chondrocytes\n",
       "6. Articular chondrocytes\n",
       "\n",
       "\n",
       "\n",
       "**Levels**: 1. 'Embryonic skin'\n",
       "2. 'TBD'\n",
       "3. 'LepR+ BMSCs'\n",
       "4. 'Tenocytes'\n",
       "5. 'Proximal limb bud mesenchyme'\n",
       "6. 'Pre-hypertrophic chondrocytes'\n",
       "7. 'Periosteal stem cells'\n",
       "8. 'Periosteal progenitors'\n",
       "9. 'Osteoprogenitors'\n",
       "10. 'Osteoclasts'\n",
       "11. 'Osteoblasts'\n",
       "12. 'Intermediate limb bud mesenchyme'\n",
       "13. 'Immune cells'\n",
       "14. 'Hypertrophic chondrocytes'\n",
       "15. 'Distal limb bud mesenchyme'\n",
       "16. 'Fast proliferating cells'\n",
       "17. 'Chondroprogenitors'\n",
       "18. 'Vascular endothelial cells'\n",
       "19. 'Adipocytes'\n",
       "20. 'Resting zone chondrocytes'\n",
       "21. 'Articular chondrocytes'\n",
       "22. 'Proliferative chondrocytes'\n",
       "23. 'Erythroid cells'\n",
       "24. 'Smooth muscle cells'\n",
       "25. 'Fast proliferating osteoblasts'\n",
       "26. 'Osteocytes'\n",
       "27. 'SSPCs'\n",
       "28. 'Platelets'\n",
       "29. 'Synovial fibroblasts'\n",
       "30. 'Muscle progenitors'\n",
       "31. 'Tenocyte precursors'\n",
       "32. 'Skeletal muscle cells'\n",
       "33. 'Interzone cells'\n",
       "34. 'BMSCs'\n",
       "35. 'Periosteum'\n",
       "36. 'AER'\n",
       "37. 'Lymphatic endothelial cells'\n",
       "38. 'Neurons'\n",
       "39. 'ZPA'\n",
       "40. 'Joint precursors'\n",
       "41. 'Myogenic stem cells'\n",
       "42. 'Fibroblasts'\n",
       "\n",
       "\n"
      ],
      "text/plain": [
       "[1] Vascular endothelial cells Adipocytes                \n",
       "[3] Adipocytes                 Resting zone chondrocytes \n",
       "[5] Articular chondrocytes     Articular chondrocytes    \n",
       "42 Levels: Embryonic skin TBD LepR+ BMSCs ... Fibroblasts"
      ]
     },
     "metadata": {},
     "output_type": "display_data"
    }
   ],
   "source": [
    "head(merged@meta.data$CellType)"
   ]
  },
  {
   "cell_type": "markdown",
   "id": "743f185f-811a-4048-a7ea-0417722cf993",
   "metadata": {},
   "source": [
    "## Check SEx"
   ]
  },
  {
   "cell_type": "code",
   "execution_count": 74,
   "id": "4555789f-7c3f-434b-8fc2-cf1755aa8e24",
   "metadata": {},
   "outputs": [],
   "source": [
    "Idents(merged) <- merged@meta.data$Sex"
   ]
  },
  {
   "cell_type": "code",
   "execution_count": 75,
   "id": "baa8f0f7-2df6-46ce-93f1-0e3cdd63fea6",
   "metadata": {},
   "outputs": [],
   "source": [
    " merged@meta.data$Sex <- as.factor(merged@meta.data$Sex)"
   ]
  },
  {
   "cell_type": "code",
   "execution_count": 76,
   "id": "9159aca4-1022-4fe0-a5cf-1730aac064b6",
   "metadata": {},
   "outputs": [
    {
     "data": {
      "text/html": [
       "<style>\n",
       ".list-inline {list-style: none; margin:0; padding: 0}\n",
       ".list-inline>li {display: inline-block}\n",
       ".list-inline>li:not(:last-child)::after {content: \"\\00b7\"; padding: 0 .5ex}\n",
       "</style>\n",
       "<ol class=list-inline><li>Male</li><li>Male</li><li>Male</li><li>Male</li><li>Male</li><li>Male</li></ol>\n",
       "\n",
       "<details>\n",
       "\t<summary style=display:list-item;cursor:pointer>\n",
       "\t\t<strong>Levels</strong>:\n",
       "\t</summary>\n",
       "\t'Male'\n",
       "</details>"
      ],
      "text/latex": [
       "\\begin{enumerate*}\n",
       "\\item Male\n",
       "\\item Male\n",
       "\\item Male\n",
       "\\item Male\n",
       "\\item Male\n",
       "\\item Male\n",
       "\\end{enumerate*}\n",
       "\n",
       "\\emph{Levels}: 'Male'"
      ],
      "text/markdown": [
       "1. Male\n",
       "2. Male\n",
       "3. Male\n",
       "4. Male\n",
       "5. Male\n",
       "6. Male\n",
       "\n",
       "\n",
       "\n",
       "**Levels**: 'Male'"
      ],
      "text/plain": [
       "[1] Male Male Male Male Male Male\n",
       "Levels: Male"
      ]
     },
     "metadata": {},
     "output_type": "display_data"
    }
   ],
   "source": [
    "head(merged@meta.data$Sex)"
   ]
  },
  {
   "cell_type": "code",
   "execution_count": 77,
   "id": "dfbb9dd7-6791-4a5b-a8d9-d872eaba1853",
   "metadata": {},
   "outputs": [
    {
     "name": "stderr",
     "output_type": "stream",
     "text": [
      "Warning message in cells.idents[\"NA\"] <- names(x = which(x = is.na(x = Idents(object = object)[cells]))):\n",
      "“number of items to replace is not a multiple of replacement length”\n"
     ]
    }
   ],
   "source": [
    "merged <- RenameIdents(object = merged, `Male` = \"M\")\n"
   ]
  },
  {
   "cell_type": "code",
   "execution_count": 78,
   "id": "28e28ac8-f53c-4120-9fe6-b4aad901f638",
   "metadata": {},
   "outputs": [],
   "source": [
    "merged@meta.data$Sex <- Idents(merged) "
   ]
  },
  {
   "cell_type": "markdown",
   "id": "0babcd2f-3bf8-40cf-99d2-acaefc9bfaf3",
   "metadata": {},
   "source": [
    "## Check Strain"
   ]
  },
  {
   "cell_type": "code",
   "execution_count": 79,
   "id": "fac638d9-6190-4825-85d2-283b1cc6c9f0",
   "metadata": {},
   "outputs": [],
   "source": [
    "Idents(merged) <- merged@meta.data$Strain"
   ]
  },
  {
   "cell_type": "code",
   "execution_count": 80,
   "id": "891647a1-4713-4cd3-badb-3968a1a9c387",
   "metadata": {},
   "outputs": [],
   "source": [
    " merged@meta.data$Strain <- as.factor(merged@meta.data$Strain)"
   ]
  },
  {
   "cell_type": "code",
   "execution_count": 81,
   "id": "9975b89e-7b6b-486d-9ada-ff85feb3b65a",
   "metadata": {},
   "outputs": [
    {
     "data": {
      "text/html": [
       "<style>\n",
       ".list-inline {list-style: none; margin:0; padding: 0}\n",
       ".list-inline>li {display: inline-block}\n",
       ".list-inline>li:not(:last-child)::after {content: \"\\00b7\"; padding: 0 .5ex}\n",
       "</style>\n",
       "<ol class=list-inline><li>C57BL/6</li><li>C57BL/6</li><li>C57BL/6</li><li>C57BL/6</li><li>C57BL/6</li><li>C57BL/6</li></ol>\n",
       "\n",
       "<details>\n",
       "\t<summary style=display:list-item;cursor:pointer>\n",
       "\t\t<strong>Levels</strong>:\n",
       "\t</summary>\n",
       "\t<style>\n",
       "\t.list-inline {list-style: none; margin:0; padding: 0}\n",
       "\t.list-inline>li {display: inline-block}\n",
       "\t.list-inline>li:not(:last-child)::after {content: \"\\00b7\"; padding: 0 .5ex}\n",
       "\t</style>\n",
       "\t<ol class=list-inline><li>'C57Bl/6'</li><li>'C57BL/6'</li><li>'C57BL/6J'</li><li>'C57BL/6X129'</li><li>'CD-1'</li><li>'MLL-AF9'</li><li>'strain: C57BL/6'</li></ol>\n",
       "</details>"
      ],
      "text/latex": [
       "\\begin{enumerate*}\n",
       "\\item C57BL/6\n",
       "\\item C57BL/6\n",
       "\\item C57BL/6\n",
       "\\item C57BL/6\n",
       "\\item C57BL/6\n",
       "\\item C57BL/6\n",
       "\\end{enumerate*}\n",
       "\n",
       "\\emph{Levels}: \\begin{enumerate*}\n",
       "\\item 'C57Bl/6'\n",
       "\\item 'C57BL/6'\n",
       "\\item 'C57BL/6J'\n",
       "\\item 'C57BL/6X129'\n",
       "\\item 'CD-1'\n",
       "\\item 'MLL-AF9'\n",
       "\\item 'strain: C57BL/6'\n",
       "\\end{enumerate*}\n"
      ],
      "text/markdown": [
       "1. C57BL/6\n",
       "2. C57BL/6\n",
       "3. C57BL/6\n",
       "4. C57BL/6\n",
       "5. C57BL/6\n",
       "6. C57BL/6\n",
       "\n",
       "\n",
       "\n",
       "**Levels**: 1. 'C57Bl/6'\n",
       "2. 'C57BL/6'\n",
       "3. 'C57BL/6J'\n",
       "4. 'C57BL/6X129'\n",
       "5. 'CD-1'\n",
       "6. 'MLL-AF9'\n",
       "7. 'strain: C57BL/6'\n",
       "\n",
       "\n"
      ],
      "text/plain": [
       "[1] C57BL/6 C57BL/6 C57BL/6 C57BL/6 C57BL/6 C57BL/6\n",
       "7 Levels: C57Bl/6 C57BL/6 C57BL/6J C57BL/6X129 CD-1 ... strain: C57BL/6"
      ]
     },
     "metadata": {},
     "output_type": "display_data"
    }
   ],
   "source": [
    "head(merged@meta.data$Strain) "
   ]
  },
  {
   "cell_type": "code",
   "execution_count": 82,
   "id": "7e26763d-1fdc-4025-b431-bb10a0d0ed71",
   "metadata": {},
   "outputs": [],
   "source": [
    "merged <- RenameIdents(object = merged, `C57Bl/6` = \"C57BL/6\")\n",
    "merged <- RenameIdents(object = merged, `strain: C57BL/6` = \"C57BL/6\")\n"
   ]
  },
  {
   "cell_type": "code",
   "execution_count": 83,
   "id": "6d59c8a2-d3e4-49cf-b442-253c17ad72d3",
   "metadata": {},
   "outputs": [],
   "source": [
    "merged@meta.data$Strain <- Idents(merged) "
   ]
  },
  {
   "cell_type": "code",
   "execution_count": 84,
   "id": "33e81a5a-b208-4ed9-a7a1-fae53f5f81c0",
   "metadata": {},
   "outputs": [
    {
     "data": {
      "text/html": [
       "<style>\n",
       ".list-inline {list-style: none; margin:0; padding: 0}\n",
       ".list-inline>li {display: inline-block}\n",
       ".list-inline>li:not(:last-child)::after {content: \"\\00b7\"; padding: 0 .5ex}\n",
       "</style>\n",
       "<ol class=list-inline><li>C57BL/6</li><li>C57BL/6</li><li>C57BL/6</li><li>C57BL/6</li><li>C57BL/6</li><li>C57BL/6</li></ol>\n",
       "\n",
       "<details>\n",
       "\t<summary style=display:list-item;cursor:pointer>\n",
       "\t\t<strong>Levels</strong>:\n",
       "\t</summary>\n",
       "\t<style>\n",
       "\t.list-inline {list-style: none; margin:0; padding: 0}\n",
       "\t.list-inline>li {display: inline-block}\n",
       "\t.list-inline>li:not(:last-child)::after {content: \"\\00b7\"; padding: 0 .5ex}\n",
       "\t</style>\n",
       "\t<ol class=list-inline><li>'C57BL/6'</li><li>'C57BL/6J'</li><li>'CD-1'</li><li>'C57BL/6X129'</li><li>'MLL-AF9'</li></ol>\n",
       "</details>"
      ],
      "text/latex": [
       "\\begin{enumerate*}\n",
       "\\item C57BL/6\n",
       "\\item C57BL/6\n",
       "\\item C57BL/6\n",
       "\\item C57BL/6\n",
       "\\item C57BL/6\n",
       "\\item C57BL/6\n",
       "\\end{enumerate*}\n",
       "\n",
       "\\emph{Levels}: \\begin{enumerate*}\n",
       "\\item 'C57BL/6'\n",
       "\\item 'C57BL/6J'\n",
       "\\item 'CD-1'\n",
       "\\item 'C57BL/6X129'\n",
       "\\item 'MLL-AF9'\n",
       "\\end{enumerate*}\n"
      ],
      "text/markdown": [
       "1. C57BL/6\n",
       "2. C57BL/6\n",
       "3. C57BL/6\n",
       "4. C57BL/6\n",
       "5. C57BL/6\n",
       "6. C57BL/6\n",
       "\n",
       "\n",
       "\n",
       "**Levels**: 1. 'C57BL/6'\n",
       "2. 'C57BL/6J'\n",
       "3. 'CD-1'\n",
       "4. 'C57BL/6X129'\n",
       "5. 'MLL-AF9'\n",
       "\n",
       "\n"
      ],
      "text/plain": [
       "[1] C57BL/6 C57BL/6 C57BL/6 C57BL/6 C57BL/6 C57BL/6\n",
       "Levels: C57BL/6 C57BL/6J CD-1 C57BL/6X129 MLL-AF9"
      ]
     },
     "metadata": {},
     "output_type": "display_data"
    }
   ],
   "source": [
    "head(merged@meta.data$Strain) "
   ]
  },
  {
   "cell_type": "markdown",
   "id": "0a305ee7-8cda-4ef1-91f0-3bedd0f3a3d9",
   "metadata": {},
   "source": [
    "## Check technology"
   ]
  },
  {
   "cell_type": "code",
   "execution_count": 85,
   "id": "d28dd401-e331-4864-a153-8e6a1e6b6a3f",
   "metadata": {},
   "outputs": [],
   "source": [
    "Idents(merged) <- merged@meta.data$Technology"
   ]
  },
  {
   "cell_type": "code",
   "execution_count": 86,
   "id": "82229835-bb2f-4f5e-a608-e03312fef906",
   "metadata": {},
   "outputs": [],
   "source": [
    " merged@meta.data$Technology <- as.factor(merged@meta.data$Technology)"
   ]
  },
  {
   "cell_type": "code",
   "execution_count": 87,
   "id": "06447c35-308e-4c52-ab75-9bd755222e45",
   "metadata": {},
   "outputs": [
    {
     "data": {
      "text/html": [
       "<style>\n",
       ".list-inline {list-style: none; margin:0; padding: 0}\n",
       ".list-inline>li {display: inline-block}\n",
       ".list-inline>li:not(:last-child)::after {content: \"\\00b7\"; padding: 0 .5ex}\n",
       "</style>\n",
       "<ol class=list-inline><li>10x</li><li>10x</li><li>10x</li><li>10x</li><li>10x</li><li>10x</li></ol>\n",
       "\n",
       "<details>\n",
       "\t<summary style=display:list-item;cursor:pointer>\n",
       "\t\t<strong>Levels</strong>:\n",
       "\t</summary>\n",
       "\t<style>\n",
       "\t.list-inline {list-style: none; margin:0; padding: 0}\n",
       "\t.list-inline>li {display: inline-block}\n",
       "\t.list-inline>li:not(:last-child)::after {content: \"\\00b7\"; padding: 0 .5ex}\n",
       "\t</style>\n",
       "\t<ol class=list-inline><li>'10x'</li><li>'10x 3\\' v2'</li><li>'10x 3\\' v3.0.1'</li><li>'CEL-seq2'</li><li>'SMART-Seq2'</li></ol>\n",
       "</details>"
      ],
      "text/latex": [
       "\\begin{enumerate*}\n",
       "\\item 10x\n",
       "\\item 10x\n",
       "\\item 10x\n",
       "\\item 10x\n",
       "\\item 10x\n",
       "\\item 10x\n",
       "\\end{enumerate*}\n",
       "\n",
       "\\emph{Levels}: \\begin{enumerate*}\n",
       "\\item '10x'\n",
       "\\item '10x 3\\textbackslash{}' v2'\n",
       "\\item '10x 3\\textbackslash{}' v3.0.1'\n",
       "\\item 'CEL-seq2'\n",
       "\\item 'SMART-Seq2'\n",
       "\\end{enumerate*}\n"
      ],
      "text/markdown": [
       "1. 10x\n",
       "2. 10x\n",
       "3. 10x\n",
       "4. 10x\n",
       "5. 10x\n",
       "6. 10x\n",
       "\n",
       "\n",
       "\n",
       "**Levels**: 1. '10x'\n",
       "2. '10x 3\\' v2'\n",
       "3. '10x 3\\' v3.0.1'\n",
       "4. 'CEL-seq2'\n",
       "5. 'SMART-Seq2'\n",
       "\n",
       "\n"
      ],
      "text/plain": [
       "[1] 10x 10x 10x 10x 10x 10x\n",
       "Levels: 10x 10x 3' v2 10x 3' v3.0.1 CEL-seq2 SMART-Seq2"
      ]
     },
     "metadata": {},
     "output_type": "display_data"
    }
   ],
   "source": [
    "head(merged@meta.data$Technology) "
   ]
  },
  {
   "cell_type": "code",
   "execution_count": 88,
   "id": "747ac453-9618-4759-9cc6-bccfa75eb261",
   "metadata": {},
   "outputs": [],
   "source": [
    "merged <- RenameIdents(object = merged, `10x 3\\' v2` = \"10x\")\n",
    "merged <- RenameIdents(object = merged, `10x 3\\' v3.0.1` = \"10x\")"
   ]
  },
  {
   "cell_type": "code",
   "execution_count": 89,
   "id": "c090411a-11c6-4c23-ac31-d62b93f2e984",
   "metadata": {},
   "outputs": [],
   "source": [
    "merged@meta.data$Technology <- Idents(merged) "
   ]
  },
  {
   "cell_type": "code",
   "execution_count": 90,
   "id": "9a5f2baf-c551-4238-aa71-097a0b8b5b54",
   "metadata": {},
   "outputs": [
    {
     "data": {
      "text/html": [
       "<style>\n",
       ".list-inline {list-style: none; margin:0; padding: 0}\n",
       ".list-inline>li {display: inline-block}\n",
       ".list-inline>li:not(:last-child)::after {content: \"\\00b7\"; padding: 0 .5ex}\n",
       "</style>\n",
       "<ol class=list-inline><li>10x</li><li>10x</li><li>10x</li><li>10x</li><li>10x</li><li>10x</li></ol>\n",
       "\n",
       "<details>\n",
       "\t<summary style=display:list-item;cursor:pointer>\n",
       "\t\t<strong>Levels</strong>:\n",
       "\t</summary>\n",
       "\t<style>\n",
       "\t.list-inline {list-style: none; margin:0; padding: 0}\n",
       "\t.list-inline>li {display: inline-block}\n",
       "\t.list-inline>li:not(:last-child)::after {content: \"\\00b7\"; padding: 0 .5ex}\n",
       "\t</style>\n",
       "\t<ol class=list-inline><li>'10x'</li><li>'SMART-Seq2'</li><li>'CEL-seq2'</li></ol>\n",
       "</details>"
      ],
      "text/latex": [
       "\\begin{enumerate*}\n",
       "\\item 10x\n",
       "\\item 10x\n",
       "\\item 10x\n",
       "\\item 10x\n",
       "\\item 10x\n",
       "\\item 10x\n",
       "\\end{enumerate*}\n",
       "\n",
       "\\emph{Levels}: \\begin{enumerate*}\n",
       "\\item '10x'\n",
       "\\item 'SMART-Seq2'\n",
       "\\item 'CEL-seq2'\n",
       "\\end{enumerate*}\n"
      ],
      "text/markdown": [
       "1. 10x\n",
       "2. 10x\n",
       "3. 10x\n",
       "4. 10x\n",
       "5. 10x\n",
       "6. 10x\n",
       "\n",
       "\n",
       "\n",
       "**Levels**: 1. '10x'\n",
       "2. 'SMART-Seq2'\n",
       "3. 'CEL-seq2'\n",
       "\n",
       "\n"
      ],
      "text/plain": [
       "[1] 10x 10x 10x 10x 10x 10x\n",
       "Levels: 10x SMART-Seq2 CEL-seq2"
      ]
     },
     "metadata": {},
     "output_type": "display_data"
    }
   ],
   "source": [
    "head(merged@meta.data$Technology) "
   ]
  },
  {
   "cell_type": "markdown",
   "id": "dd5e5ac0-cfd8-4526-b4e5-e20b5c3be359",
   "metadata": {},
   "source": [
    "## Check tissue"
   ]
  },
  {
   "cell_type": "code",
   "execution_count": 91,
   "id": "8249ea36-854f-4f6d-8253-68590dc516ee",
   "metadata": {},
   "outputs": [],
   "source": [
    "Idents(merged) <- merged@meta.data$Tissue"
   ]
  },
  {
   "cell_type": "code",
   "execution_count": 92,
   "id": "f2b95dcb-9aa1-4429-8c05-fe80db729d69",
   "metadata": {},
   "outputs": [],
   "source": [
    " merged@meta.data$Tissue <- as.factor(merged@meta.data$Tissue)"
   ]
  },
  {
   "cell_type": "code",
   "execution_count": 93,
   "id": "211eeb3b-3199-4444-9516-3989e608e7b5",
   "metadata": {},
   "outputs": [
    {
     "data": {
      "text/html": [
       "<style>\n",
       ".list-inline {list-style: none; margin:0; padding: 0}\n",
       ".list-inline>li {display: inline-block}\n",
       ".list-inline>li:not(:last-child)::after {content: \"\\00b7\"; padding: 0 .5ex}\n",
       "</style>\n",
       "<ol class=list-inline><li>Bone</li><li>Bone</li><li>Bone</li><li>Bone</li><li>Bone</li><li>Bone</li></ol>\n",
       "\n",
       "<details>\n",
       "\t<summary style=display:list-item;cursor:pointer>\n",
       "\t\t<strong>Levels</strong>:\n",
       "\t</summary>\n",
       "\t<style>\n",
       "\t.list-inline {list-style: none; margin:0; padding: 0}\n",
       "\t.list-inline>li {display: inline-block}\n",
       "\t.list-inline>li:not(:last-child)::after {content: \"\\00b7\"; padding: 0 .5ex}\n",
       "\t</style>\n",
       "\t<ol class=list-inline><li>'Adult bone'</li><li>'Bone'</li><li>'Forelimb bud'</li><li>'hindlimb'</li><li>'Humerus'</li><li>'Knee joint'</li><li>'Knee synovium'</li><li>'Periosteum'</li><li>'Tibia'</li></ol>\n",
       "</details>"
      ],
      "text/latex": [
       "\\begin{enumerate*}\n",
       "\\item Bone\n",
       "\\item Bone\n",
       "\\item Bone\n",
       "\\item Bone\n",
       "\\item Bone\n",
       "\\item Bone\n",
       "\\end{enumerate*}\n",
       "\n",
       "\\emph{Levels}: \\begin{enumerate*}\n",
       "\\item 'Adult bone'\n",
       "\\item 'Bone'\n",
       "\\item 'Forelimb bud'\n",
       "\\item 'hindlimb'\n",
       "\\item 'Humerus'\n",
       "\\item 'Knee joint'\n",
       "\\item 'Knee synovium'\n",
       "\\item 'Periosteum'\n",
       "\\item 'Tibia'\n",
       "\\end{enumerate*}\n"
      ],
      "text/markdown": [
       "1. Bone\n",
       "2. Bone\n",
       "3. Bone\n",
       "4. Bone\n",
       "5. Bone\n",
       "6. Bone\n",
       "\n",
       "\n",
       "\n",
       "**Levels**: 1. 'Adult bone'\n",
       "2. 'Bone'\n",
       "3. 'Forelimb bud'\n",
       "4. 'hindlimb'\n",
       "5. 'Humerus'\n",
       "6. 'Knee joint'\n",
       "7. 'Knee synovium'\n",
       "8. 'Periosteum'\n",
       "9. 'Tibia'\n",
       "\n",
       "\n"
      ],
      "text/plain": [
       "[1] Bone Bone Bone Bone Bone Bone\n",
       "9 Levels: Adult bone Bone Forelimb bud hindlimb Humerus ... Tibia"
      ]
     },
     "metadata": {},
     "output_type": "display_data"
    }
   ],
   "source": [
    "head(merged@meta.data$Tissue) "
   ]
  },
  {
   "cell_type": "code",
   "execution_count": 94,
   "id": "07266016-b1eb-4555-9e88-4b9d6ef15b37",
   "metadata": {},
   "outputs": [],
   "source": [
    "merged <- RenameIdents(object = merged, `hindlimb` = \"Hindlimb\")\n"
   ]
  },
  {
   "cell_type": "code",
   "execution_count": 95,
   "id": "cf2eba3a-53e0-45a1-9397-ee6c2e1b18e8",
   "metadata": {},
   "outputs": [],
   "source": [
    "merged@meta.data$Tissue <- Idents(merged) "
   ]
  },
  {
   "cell_type": "code",
   "execution_count": 96,
   "id": "5dcba83a-0f35-41f4-b6e5-d500bef4dd5c",
   "metadata": {},
   "outputs": [
    {
     "data": {
      "text/html": [
       "<style>\n",
       ".list-inline {list-style: none; margin:0; padding: 0}\n",
       ".list-inline>li {display: inline-block}\n",
       ".list-inline>li:not(:last-child)::after {content: \"\\00b7\"; padding: 0 .5ex}\n",
       "</style>\n",
       "<ol class=list-inline><li>Bone</li><li>Bone</li><li>Bone</li><li>Bone</li><li>Bone</li><li>Bone</li></ol>\n",
       "\n",
       "<details>\n",
       "\t<summary style=display:list-item;cursor:pointer>\n",
       "\t\t<strong>Levels</strong>:\n",
       "\t</summary>\n",
       "\t<style>\n",
       "\t.list-inline {list-style: none; margin:0; padding: 0}\n",
       "\t.list-inline>li {display: inline-block}\n",
       "\t.list-inline>li:not(:last-child)::after {content: \"\\00b7\"; padding: 0 .5ex}\n",
       "\t</style>\n",
       "\t<ol class=list-inline><li>'Hindlimb'</li><li>'Bone'</li><li>'Knee joint'</li><li>'Tibia'</li><li>'Humerus'</li><li>'Periosteum'</li><li>'Forelimb bud'</li><li>'Knee synovium'</li><li>'Adult bone'</li></ol>\n",
       "</details>"
      ],
      "text/latex": [
       "\\begin{enumerate*}\n",
       "\\item Bone\n",
       "\\item Bone\n",
       "\\item Bone\n",
       "\\item Bone\n",
       "\\item Bone\n",
       "\\item Bone\n",
       "\\end{enumerate*}\n",
       "\n",
       "\\emph{Levels}: \\begin{enumerate*}\n",
       "\\item 'Hindlimb'\n",
       "\\item 'Bone'\n",
       "\\item 'Knee joint'\n",
       "\\item 'Tibia'\n",
       "\\item 'Humerus'\n",
       "\\item 'Periosteum'\n",
       "\\item 'Forelimb bud'\n",
       "\\item 'Knee synovium'\n",
       "\\item 'Adult bone'\n",
       "\\end{enumerate*}\n"
      ],
      "text/markdown": [
       "1. Bone\n",
       "2. Bone\n",
       "3. Bone\n",
       "4. Bone\n",
       "5. Bone\n",
       "6. Bone\n",
       "\n",
       "\n",
       "\n",
       "**Levels**: 1. 'Hindlimb'\n",
       "2. 'Bone'\n",
       "3. 'Knee joint'\n",
       "4. 'Tibia'\n",
       "5. 'Humerus'\n",
       "6. 'Periosteum'\n",
       "7. 'Forelimb bud'\n",
       "8. 'Knee synovium'\n",
       "9. 'Adult bone'\n",
       "\n",
       "\n"
      ],
      "text/plain": [
       "[1] Bone Bone Bone Bone Bone Bone\n",
       "9 Levels: Hindlimb Bone Knee joint Tibia Humerus Periosteum ... Adult bone"
      ]
     },
     "metadata": {},
     "output_type": "display_data"
    }
   ],
   "source": [
    "head(merged@meta.data$Tissue) "
   ]
  },
  {
   "cell_type": "markdown",
   "id": "2adee8f0-2e30-40bd-becf-a15b558ad9ab",
   "metadata": {},
   "source": [
    "## Check batch"
   ]
  },
  {
   "cell_type": "code",
   "execution_count": 97,
   "id": "6a8b3102-b2de-4a73-9436-47be8fcaf2e3",
   "metadata": {},
   "outputs": [],
   "source": [
    " merged@meta.data$Batch <- as.factor(merged@meta.data$Batch)"
   ]
  },
  {
   "cell_type": "code",
   "execution_count": 98,
   "id": "0d51c3c7-41a2-4eac-9bc0-e432e3aa1e0f",
   "metadata": {},
   "outputs": [
    {
     "data": {
      "text/html": [
       "<style>\n",
       ".list-inline {list-style: none; margin:0; padding: 0}\n",
       ".list-inline>li {display: inline-block}\n",
       ".list-inline>li:not(:last-child)::after {content: \"\\00b7\"; padding: 0 .5ex}\n",
       "</style>\n",
       "<ol class=list-inline><li>SRP278393</li><li>SRP278393</li><li>SRP278393</li><li>SRP278393</li><li>SRP278393</li><li>SRP278393</li></ol>\n",
       "\n",
       "<details>\n",
       "\t<summary style=display:list-item;cursor:pointer>\n",
       "\t\t<strong>Levels</strong>:\n",
       "\t</summary>\n",
       "\t<style>\n",
       "\t.list-inline {list-style: none; margin:0; padding: 0}\n",
       "\t.list-inline>li {display: inline-block}\n",
       "\t.list-inline>li:not(:last-child)::after {content: \"\\00b7\"; padding: 0 .5ex}\n",
       "\t</style>\n",
       "\t<ol class=list-inline><li>'GSM4227224'</li><li>'GSM4227225'</li><li>'GSM4227226'</li><li>'GSM4227227'</li><li>'GSM4594552'</li><li>'GSM4594553'</li><li>'GSM4594554'</li><li>'GSM4594555'</li><li>'GSM4811354'</li><li>'GSM4811355'</li><li>'GSM4811356'</li><li>'GSM6481125'</li><li>'GSM6481126'</li><li>'PRJEB33444'</li><li>'SRP122545'</li><li>'SRP188674'</li><li>'SRP278393'</li></ol>\n",
       "</details>"
      ],
      "text/latex": [
       "\\begin{enumerate*}\n",
       "\\item SRP278393\n",
       "\\item SRP278393\n",
       "\\item SRP278393\n",
       "\\item SRP278393\n",
       "\\item SRP278393\n",
       "\\item SRP278393\n",
       "\\end{enumerate*}\n",
       "\n",
       "\\emph{Levels}: \\begin{enumerate*}\n",
       "\\item 'GSM4227224'\n",
       "\\item 'GSM4227225'\n",
       "\\item 'GSM4227226'\n",
       "\\item 'GSM4227227'\n",
       "\\item 'GSM4594552'\n",
       "\\item 'GSM4594553'\n",
       "\\item 'GSM4594554'\n",
       "\\item 'GSM4594555'\n",
       "\\item 'GSM4811354'\n",
       "\\item 'GSM4811355'\n",
       "\\item 'GSM4811356'\n",
       "\\item 'GSM6481125'\n",
       "\\item 'GSM6481126'\n",
       "\\item 'PRJEB33444'\n",
       "\\item 'SRP122545'\n",
       "\\item 'SRP188674'\n",
       "\\item 'SRP278393'\n",
       "\\end{enumerate*}\n"
      ],
      "text/markdown": [
       "1. SRP278393\n",
       "2. SRP278393\n",
       "3. SRP278393\n",
       "4. SRP278393\n",
       "5. SRP278393\n",
       "6. SRP278393\n",
       "\n",
       "\n",
       "\n",
       "**Levels**: 1. 'GSM4227224'\n",
       "2. 'GSM4227225'\n",
       "3. 'GSM4227226'\n",
       "4. 'GSM4227227'\n",
       "5. 'GSM4594552'\n",
       "6. 'GSM4594553'\n",
       "7. 'GSM4594554'\n",
       "8. 'GSM4594555'\n",
       "9. 'GSM4811354'\n",
       "10. 'GSM4811355'\n",
       "11. 'GSM4811356'\n",
       "12. 'GSM6481125'\n",
       "13. 'GSM6481126'\n",
       "14. 'PRJEB33444'\n",
       "15. 'SRP122545'\n",
       "16. 'SRP188674'\n",
       "17. 'SRP278393'\n",
       "\n",
       "\n"
      ],
      "text/plain": [
       "[1] SRP278393 SRP278393 SRP278393 SRP278393 SRP278393 SRP278393\n",
       "17 Levels: GSM4227224 GSM4227225 GSM4227226 GSM4227227 ... SRP278393"
      ]
     },
     "metadata": {},
     "output_type": "display_data"
    }
   ],
   "source": [
    "head(merged@meta.data$Batch) "
   ]
  },
  {
   "cell_type": "code",
   "execution_count": 99,
   "id": "28e5b283-9733-4f12-aef4-18c016abe1fb",
   "metadata": {},
   "outputs": [],
   "source": [
    "saveRDS(merged, '/home/host_home/Documents/Tom/Atlas/data/Atlas/again/merged.Rds')"
   ]
  },
  {
   "cell_type": "code",
   "execution_count": 100,
   "id": "55146732-8db7-4061-ad4a-ecc5e41cc9ac",
   "metadata": {},
   "outputs": [
    {
     "name": "stderr",
     "output_type": "stream",
     "text": [
      "Warning message in .regularise_df(obj@meta.data, drop_single_values = drop_single_values):\n",
      "“Dropping single category variables:Organism”\n"
     ]
    },
    {
     "data": {
      "text/plain": [
       "AnnData object with n_obs × n_vars = 95097 × 42623\n",
       "    obs: 'nCount_RNA', 'nFeature_RNA', 'Strain', 'Sex', 'Tissue', 'Technology', 'Author', 'CellType', 'Study', 'Batch', 'DevTP'\n",
       "    var: 'name'"
      ]
     },
     "metadata": {},
     "output_type": "display_data"
    }
   ],
   "source": [
    "sceasy::convertFormat(merged, from=\"seurat\", to=\"anndata\",\n",
    "                       outFile='/home/host_home/Documents/Tom/Atlas/data/Atlas/again/merged.h5ad')"
   ]
  },
  {
   "cell_type": "code",
   "execution_count": null,
   "id": "82863112-dbfc-41c1-924d-488a4eaf04e1",
   "metadata": {},
   "outputs": [],
   "source": []
  }
 ],
 "metadata": {
  "kernelspec": {
   "display_name": "R [conda env:sc-R]",
   "language": "R",
   "name": "conda-env-sc-R-r"
  },
  "language_info": {
   "codemirror_mode": "r",
   "file_extension": ".r",
   "mimetype": "text/x-r-source",
   "name": "R",
   "pygments_lexer": "r",
   "version": "4.2.2"
  }
 },
 "nbformat": 4,
 "nbformat_minor": 5
}
